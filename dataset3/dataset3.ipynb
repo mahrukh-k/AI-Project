{
 "cells": [
  {
   "attachments": {},
   "cell_type": "markdown",
   "metadata": {},
   "source": [
    "### **Tweets from source 3:**"
   ]
  },
  {
   "cell_type": "code",
   "execution_count": 476,
   "metadata": {},
   "outputs": [],
   "source": [
    "import pandas as pd"
   ]
  },
  {
   "cell_type": "code",
   "execution_count": 477,
   "metadata": {},
   "outputs": [],
   "source": [
    "tweet = pd.read_csv('Tweet.csv')\n",
    "agent = pd.read_csv('Agent.csv')\n",
    "hashtag = pd.read_csv('Hashtag.csv')\n",
    "url = pd.read_csv('URL.csv')"
   ]
  },
  {
   "cell_type": "code",
   "execution_count": 478,
   "metadata": {},
   "outputs": [
    {
     "data": {
      "text/html": [
       "<div>\n",
       "<style scoped>\n",
       "    .dataframe tbody tr th:only-of-type {\n",
       "        vertical-align: middle;\n",
       "    }\n",
       "\n",
       "    .dataframe tbody tr th {\n",
       "        vertical-align: top;\n",
       "    }\n",
       "\n",
       "    .dataframe thead th {\n",
       "        text-align: right;\n",
       "    }\n",
       "</style>\n",
       "<table border=\"1\" class=\"dataframe\">\n",
       "  <thead>\n",
       "    <tr style=\"text-align: right;\">\n",
       "      <th></th>\n",
       "      <th>Node ID</th>\n",
       "      <th>DATE</th>\n",
       "      <th>IS_RETWEET</th>\n",
       "      <th>RETWEET_COUNT</th>\n",
       "      <th>MESSAGE</th>\n",
       "      <th>Language</th>\n",
       "      <th>conversation_id</th>\n",
       "      <th>HAS_URL</th>\n",
       "      <th>IS_REPLY</th>\n",
       "      <th>IS_IN_REPLY_TO</th>\n",
       "      <th>IS_QUOTE</th>\n",
       "      <th>IS_GEOTAGGED</th>\n",
       "      <th>Latitude</th>\n",
       "      <th>Longitude</th>\n",
       "      <th>Sender</th>\n",
       "      <th>Location</th>\n",
       "    </tr>\n",
       "  </thead>\n",
       "  <tbody>\n",
       "    <tr>\n",
       "      <th>0</th>\n",
       "      <td>1635792903053221889</td>\n",
       "      <td>2023-03-14 23:59:54-04</td>\n",
       "      <td>1.0</td>\n",
       "      <td>51.0</td>\n",
       "      <td>RT @NBCNews: BREAKING: Ohio's attorney general...</td>\n",
       "      <td>en</td>\n",
       "      <td>1.635793e+18</td>\n",
       "      <td>NaN</td>\n",
       "      <td>NaN</td>\n",
       "      <td>NaN</td>\n",
       "      <td>NaN</td>\n",
       "      <td>NaN</td>\n",
       "      <td>NaN</td>\n",
       "      <td>NaN</td>\n",
       "      <td>ricardonotes</td>\n",
       "      <td>USA</td>\n",
       "    </tr>\n",
       "    <tr>\n",
       "      <th>1</th>\n",
       "      <td>1635731458026340360</td>\n",
       "      <td>2023-03-14 19:55:44-04</td>\n",
       "      <td>NaN</td>\n",
       "      <td>51.0</td>\n",
       "      <td>BREAKING: Ohio's attorney general sues Norfolk...</td>\n",
       "      <td>en</td>\n",
       "      <td>1.635731e+18</td>\n",
       "      <td>1.0</td>\n",
       "      <td>NaN</td>\n",
       "      <td>NaN</td>\n",
       "      <td>NaN</td>\n",
       "      <td>NaN</td>\n",
       "      <td>NaN</td>\n",
       "      <td>NaN</td>\n",
       "      <td>NBCNews</td>\n",
       "      <td>New York, NY</td>\n",
       "    </tr>\n",
       "  </tbody>\n",
       "</table>\n",
       "</div>"
      ],
      "text/plain": [
       "               Node ID                    DATE  IS_RETWEET  RETWEET_COUNT  \\\n",
       "0  1635792903053221889  2023-03-14 23:59:54-04         1.0           51.0   \n",
       "1  1635731458026340360  2023-03-14 19:55:44-04         NaN           51.0   \n",
       "\n",
       "                                             MESSAGE Language  \\\n",
       "0  RT @NBCNews: BREAKING: Ohio's attorney general...       en   \n",
       "1  BREAKING: Ohio's attorney general sues Norfolk...       en   \n",
       "\n",
       "   conversation_id  HAS_URL  IS_REPLY  IS_IN_REPLY_TO  IS_QUOTE  IS_GEOTAGGED  \\\n",
       "0     1.635793e+18      NaN       NaN             NaN       NaN           NaN   \n",
       "1     1.635731e+18      1.0       NaN             NaN       NaN           NaN   \n",
       "\n",
       "   Latitude  Longitude        Sender      Location  \n",
       "0       NaN        NaN  ricardonotes           USA  \n",
       "1       NaN        NaN       NBCNews  New York, NY  "
      ]
     },
     "execution_count": 478,
     "metadata": {},
     "output_type": "execute_result"
    }
   ],
   "source": [
    "tweet.head(2)"
   ]
  },
  {
   "cell_type": "code",
   "execution_count": 479,
   "metadata": {},
   "outputs": [
    {
     "data": {
      "text/plain": [
       "124678"
      ]
     },
     "execution_count": 479,
     "metadata": {},
     "output_type": "execute_result"
    }
   ],
   "source": [
    "len(tweet)"
   ]
  },
  {
   "cell_type": "code",
   "execution_count": 480,
   "metadata": {},
   "outputs": [
    {
     "data": {
      "text/plain": [
       "78798"
      ]
     },
     "execution_count": 480,
     "metadata": {},
     "output_type": "execute_result"
    }
   ],
   "source": [
    "len(agent)"
   ]
  },
  {
   "cell_type": "code",
   "execution_count": 481,
   "metadata": {},
   "outputs": [
    {
     "data": {
      "text/html": [
       "<div>\n",
       "<style scoped>\n",
       "    .dataframe tbody tr th:only-of-type {\n",
       "        vertical-align: middle;\n",
       "    }\n",
       "\n",
       "    .dataframe tbody tr th {\n",
       "        vertical-align: top;\n",
       "    }\n",
       "\n",
       "    .dataframe thead th {\n",
       "        text-align: right;\n",
       "    }\n",
       "</style>\n",
       "<table border=\"1\" class=\"dataframe\">\n",
       "  <thead>\n",
       "    <tr style=\"text-align: right;\">\n",
       "      <th></th>\n",
       "      <th>Node ID</th>\n",
       "      <th>Language</th>\n",
       "      <th>NUMBER_FOLLOWERS</th>\n",
       "      <th>Node Label</th>\n",
       "      <th>IS_VERIFIED</th>\n",
       "      <th>LOCATION</th>\n",
       "      <th>IS_NEWS_AGENCY</th>\n",
       "      <th>TWEET_COUNT</th>\n",
       "    </tr>\n",
       "  </thead>\n",
       "  <tbody>\n",
       "    <tr>\n",
       "      <th>0</th>\n",
       "      <td>2608799046</td>\n",
       "      <td>en</td>\n",
       "      <td>463.0</td>\n",
       "      <td>ricardonotes</td>\n",
       "      <td>0.0</td>\n",
       "      <td>USA</td>\n",
       "      <td>NaN</td>\n",
       "      <td>4</td>\n",
       "    </tr>\n",
       "    <tr>\n",
       "      <th>1</th>\n",
       "      <td>25984168</td>\n",
       "      <td>en</td>\n",
       "      <td>2154.0</td>\n",
       "      <td>sweed20</td>\n",
       "      <td>0.0</td>\n",
       "      <td>North Dakota</td>\n",
       "      <td>NaN</td>\n",
       "      <td>2</td>\n",
       "    </tr>\n",
       "  </tbody>\n",
       "</table>\n",
       "</div>"
      ],
      "text/plain": [
       "      Node ID Language  NUMBER_FOLLOWERS    Node Label  IS_VERIFIED  \\\n",
       "0  2608799046       en             463.0  ricardonotes          0.0   \n",
       "1    25984168       en            2154.0       sweed20          0.0   \n",
       "\n",
       "       LOCATION  IS_NEWS_AGENCY  TWEET_COUNT  \n",
       "0           USA             NaN            4  \n",
       "1  North Dakota             NaN            2  "
      ]
     },
     "execution_count": 481,
     "metadata": {},
     "output_type": "execute_result"
    }
   ],
   "source": [
    "agent.head(2)"
   ]
  },
  {
   "cell_type": "code",
   "execution_count": 482,
   "metadata": {},
   "outputs": [
    {
     "data": {
      "text/plain": [
       "0.0    75963\n",
       "1.0     2681\n",
       "Name: IS_VERIFIED, dtype: int64"
      ]
     },
     "execution_count": 482,
     "metadata": {},
     "output_type": "execute_result"
    }
   ],
   "source": [
    "agent.IS_VERIFIED.value_counts(normalize = False)"
   ]
  },
  {
   "cell_type": "code",
   "execution_count": 483,
   "metadata": {},
   "outputs": [
    {
     "data": {
      "text/plain": [
       "NaN    77946\n",
       "1.0      852\n",
       "Name: IS_NEWS_AGENCY, dtype: int64"
      ]
     },
     "execution_count": 483,
     "metadata": {},
     "output_type": "execute_result"
    }
   ],
   "source": [
    "# If there are 2681 tweets from verified and 852 from news org, then the rest are? Politicians (mainly??), Artists\n",
    "agent.IS_NEWS_AGENCY.value_counts(dropna = False)"
   ]
  },
  {
   "cell_type": "code",
   "execution_count": 484,
   "metadata": {},
   "outputs": [
    {
     "data": {
      "text/plain": [
       "26        MailOnline\n",
       "44         AKNewsNow\n",
       "62         WashTimes\n",
       "82       DailyCaller\n",
       "85           CBSNews\n",
       "            ...     \n",
       "77450            CBC\n",
       "77529      wikileaks\n",
       "78184            nbc\n",
       "78185            CBS\n",
       "78356      RogReview\n",
       "Name: Node Label, Length: 852, dtype: object"
      ]
     },
     "execution_count": 484,
     "metadata": {},
     "output_type": "execute_result"
    }
   ],
   "source": [
    "# News organizations, seems like one per tweet.\n",
    "agent['Node Label'][agent.IS_NEWS_AGENCY == 1]"
   ]
  },
  {
   "cell_type": "code",
   "execution_count": 485,
   "metadata": {},
   "outputs": [
    {
     "data": {
      "text/plain": [
       "96654"
      ]
     },
     "execution_count": 485,
     "metadata": {},
     "output_type": "execute_result"
    }
   ],
   "source": [
    "tweet.MESSAGE.duplicated().sum()"
   ]
  },
  {
   "cell_type": "code",
   "execution_count": 486,
   "metadata": {},
   "outputs": [
    {
     "data": {
      "text/plain": [
       "100517.0"
      ]
     },
     "execution_count": 486,
     "metadata": {},
     "output_type": "execute_result"
    }
   ],
   "source": [
    "tweet.IS_RETWEET.sum()"
   ]
  },
  {
   "cell_type": "code",
   "execution_count": 487,
   "metadata": {},
   "outputs": [
    {
     "data": {
      "text/plain": [
       "124678"
      ]
     },
     "execution_count": 487,
     "metadata": {},
     "output_type": "execute_result"
    }
   ],
   "source": [
    "len(tweet)"
   ]
  },
  {
   "cell_type": "code",
   "execution_count": 488,
   "metadata": {},
   "outputs": [
    {
     "data": {
      "text/plain": [
       "Index(['Node ID', 'DATE', 'IS_RETWEET', 'RETWEET_COUNT', 'MESSAGE', 'Language',\n",
       "       'conversation_id', 'HAS_URL', 'IS_REPLY', 'IS_IN_REPLY_TO', 'IS_QUOTE',\n",
       "       'IS_GEOTAGGED', 'Latitude', 'Longitude', 'Sender', 'Location'],\n",
       "      dtype='object')"
      ]
     },
     "execution_count": 488,
     "metadata": {},
     "output_type": "execute_result"
    }
   ],
   "source": [
    "tweet.columns"
   ]
  },
  {
   "cell_type": "code",
   "execution_count": 489,
   "metadata": {},
   "outputs": [
    {
     "data": {
      "text/plain": [
       "Index(['Node ID', 'Language', 'NUMBER_FOLLOWERS', 'Node Label', 'IS_VERIFIED',\n",
       "       'LOCATION', 'IS_NEWS_AGENCY', 'TWEET_COUNT'],\n",
       "      dtype='object')"
      ]
     },
     "execution_count": 489,
     "metadata": {},
     "output_type": "execute_result"
    }
   ],
   "source": [
    "agent.columns"
   ]
  },
  {
   "cell_type": "code",
   "execution_count": 490,
   "metadata": {},
   "outputs": [
    {
     "data": {
      "text/plain": [
       "Index(['Node ID', 'USAGE_COUNT'], dtype='object')"
      ]
     },
     "execution_count": 490,
     "metadata": {},
     "output_type": "execute_result"
    }
   ],
   "source": [
    "hashtag.columns"
   ]
  },
  {
   "cell_type": "code",
   "execution_count": 491,
   "metadata": {},
   "outputs": [
    {
     "data": {
      "text/plain": [
       "True"
      ]
     },
     "execution_count": 491,
     "metadata": {},
     "output_type": "execute_result"
    }
   ],
   "source": [
    "agent[\"Node ID\"].is_unique"
   ]
  },
  {
   "cell_type": "code",
   "execution_count": 492,
   "metadata": {},
   "outputs": [
    {
     "data": {
      "text/plain": [
       "0         1635792903053221889\n",
       "1         1635731458026340360\n",
       "2         1635792899928465409\n",
       "3         1635792836107948032\n",
       "4         1635792797692297218\n",
       "                 ...         \n",
       "124673    1629152911274958851\n",
       "124674    1629152882619518976\n",
       "124675    1629152998713696258\n",
       "124676    1626238269485895680\n",
       "124677    1628516018233679872\n",
       "Name: Node ID, Length: 124678, dtype: int64"
      ]
     },
     "execution_count": 492,
     "metadata": {},
     "output_type": "execute_result"
    }
   ],
   "source": [
    "tweet['Node ID']"
   ]
  },
  {
   "cell_type": "code",
   "execution_count": 493,
   "metadata": {},
   "outputs": [
    {
     "name": "stdout",
     "output_type": "stream",
     "text": [
      "<class 'pandas.core.frame.DataFrame'>\n",
      "RangeIndex: 124678 entries, 0 to 124677\n",
      "Data columns (total 16 columns):\n",
      " #   Column           Non-Null Count   Dtype  \n",
      "---  ------           --------------   -----  \n",
      " 0   Node ID          124678 non-null  int64  \n",
      " 1   DATE             123447 non-null  object \n",
      " 2   IS_RETWEET       100517 non-null  float64\n",
      " 3   RETWEET_COUNT    107678 non-null  float64\n",
      " 4   MESSAGE          123447 non-null  object \n",
      " 5   Language         123447 non-null  object \n",
      " 6   conversation_id  123447 non-null  float64\n",
      " 7   HAS_URL          32951 non-null   float64\n",
      " 8   IS_REPLY         4296 non-null    float64\n",
      " 9   IS_IN_REPLY_TO   3734 non-null    float64\n",
      " 10  IS_QUOTE         813 non-null     float64\n",
      " 11  IS_GEOTAGGED     28 non-null      float64\n",
      " 12  Latitude         28 non-null      float64\n",
      " 13  Longitude        28 non-null      float64\n",
      " 14  Sender           123447 non-null  object \n",
      " 15  Location         75334 non-null   object \n",
      "dtypes: float64(10), int64(1), object(5)\n",
      "memory usage: 15.2+ MB\n"
     ]
    }
   ],
   "source": [
    "tweet.info()"
   ]
  },
  {
   "attachments": {},
   "cell_type": "markdown",
   "metadata": {},
   "source": [
    "Node ID is not the key in all four files. so we can't use it for merging.\n",
    "Merge tweet.csv and agent.csv on 'Sender' / 'Node Label'\n",
    "Node ID for hashtag.csv is the actual hashtag\n",
    "Node ID for url.csv is the actual url"
   ]
  },
  {
   "cell_type": "code",
   "execution_count": 494,
   "metadata": {},
   "outputs": [
    {
     "data": {
      "text/plain": [
       "False    124678\n",
       "Name: Node ID, dtype: int64"
      ]
     },
     "execution_count": 494,
     "metadata": {},
     "output_type": "execute_result"
    }
   ],
   "source": [
    "tweet['Node ID'].isin(agent['Node ID']).value_counts()"
   ]
  },
  {
   "cell_type": "code",
   "execution_count": 495,
   "metadata": {},
   "outputs": [],
   "source": [
    "agent.rename(columns = {'Node Label' : 'Sender'}, inplace=True)"
   ]
  },
  {
   "cell_type": "code",
   "execution_count": 496,
   "metadata": {},
   "outputs": [
    {
     "name": "stdout",
     "output_type": "stream",
     "text": [
      "<class 'pandas.core.frame.DataFrame'>\n",
      "RangeIndex: 78798 entries, 0 to 78797\n",
      "Data columns (total 8 columns):\n",
      " #   Column            Non-Null Count  Dtype  \n",
      "---  ------            --------------  -----  \n",
      " 0   Node ID           78798 non-null  int64  \n",
      " 1   Language          76841 non-null  object \n",
      " 2   NUMBER_FOLLOWERS  78644 non-null  float64\n",
      " 3   Sender            78798 non-null  object \n",
      " 4   IS_VERIFIED       78644 non-null  float64\n",
      " 5   LOCATION          47245 non-null  object \n",
      " 6   IS_NEWS_AGENCY    852 non-null    float64\n",
      " 7   TWEET_COUNT       78798 non-null  int64  \n",
      "dtypes: float64(3), int64(2), object(3)\n",
      "memory usage: 4.8+ MB\n"
     ]
    }
   ],
   "source": [
    "agent.info()"
   ]
  },
  {
   "cell_type": "code",
   "execution_count": 497,
   "metadata": {},
   "outputs": [
    {
     "data": {
      "text/html": [
       "<div>\n",
       "<style scoped>\n",
       "    .dataframe tbody tr th:only-of-type {\n",
       "        vertical-align: middle;\n",
       "    }\n",
       "\n",
       "    .dataframe tbody tr th {\n",
       "        vertical-align: top;\n",
       "    }\n",
       "\n",
       "    .dataframe thead th {\n",
       "        text-align: right;\n",
       "    }\n",
       "</style>\n",
       "<table border=\"1\" class=\"dataframe\">\n",
       "  <thead>\n",
       "    <tr style=\"text-align: right;\">\n",
       "      <th></th>\n",
       "      <th>Node ID_x</th>\n",
       "      <th>DATE</th>\n",
       "      <th>IS_RETWEET</th>\n",
       "      <th>RETWEET_COUNT</th>\n",
       "      <th>MESSAGE</th>\n",
       "      <th>Language_x</th>\n",
       "      <th>conversation_id</th>\n",
       "      <th>HAS_URL</th>\n",
       "      <th>IS_REPLY</th>\n",
       "      <th>IS_IN_REPLY_TO</th>\n",
       "      <th>...</th>\n",
       "      <th>Longitude</th>\n",
       "      <th>Sender</th>\n",
       "      <th>Location</th>\n",
       "      <th>Node ID_y</th>\n",
       "      <th>Language_y</th>\n",
       "      <th>NUMBER_FOLLOWERS</th>\n",
       "      <th>IS_VERIFIED</th>\n",
       "      <th>LOCATION</th>\n",
       "      <th>IS_NEWS_AGENCY</th>\n",
       "      <th>TWEET_COUNT</th>\n",
       "    </tr>\n",
       "  </thead>\n",
       "  <tbody>\n",
       "    <tr>\n",
       "      <th>0</th>\n",
       "      <td>1635792903053221889</td>\n",
       "      <td>2023-03-14 23:59:54-04</td>\n",
       "      <td>1.0</td>\n",
       "      <td>51.0</td>\n",
       "      <td>RT @NBCNews: BREAKING: Ohio's attorney general...</td>\n",
       "      <td>en</td>\n",
       "      <td>1.635793e+18</td>\n",
       "      <td>NaN</td>\n",
       "      <td>NaN</td>\n",
       "      <td>NaN</td>\n",
       "      <td>...</td>\n",
       "      <td>NaN</td>\n",
       "      <td>ricardonotes</td>\n",
       "      <td>USA</td>\n",
       "      <td>2608799046</td>\n",
       "      <td>en</td>\n",
       "      <td>463.0</td>\n",
       "      <td>0.0</td>\n",
       "      <td>USA</td>\n",
       "      <td>NaN</td>\n",
       "      <td>4</td>\n",
       "    </tr>\n",
       "    <tr>\n",
       "      <th>1</th>\n",
       "      <td>1633986183876280321</td>\n",
       "      <td>2023-03-10 00:20:38-05</td>\n",
       "      <td>1.0</td>\n",
       "      <td>8.0</td>\n",
       "      <td>RT @NBCNightlyNews: NOW: The CEO of Norfolk So...</td>\n",
       "      <td>en</td>\n",
       "      <td>1.633986e+18</td>\n",
       "      <td>NaN</td>\n",
       "      <td>NaN</td>\n",
       "      <td>NaN</td>\n",
       "      <td>...</td>\n",
       "      <td>NaN</td>\n",
       "      <td>ricardonotes</td>\n",
       "      <td>USA</td>\n",
       "      <td>2608799046</td>\n",
       "      <td>en</td>\n",
       "      <td>463.0</td>\n",
       "      <td>0.0</td>\n",
       "      <td>USA</td>\n",
       "      <td>NaN</td>\n",
       "      <td>4</td>\n",
       "    </tr>\n",
       "  </tbody>\n",
       "</table>\n",
       "<p>2 rows × 23 columns</p>\n",
       "</div>"
      ],
      "text/plain": [
       "             Node ID_x                    DATE  IS_RETWEET  RETWEET_COUNT  \\\n",
       "0  1635792903053221889  2023-03-14 23:59:54-04         1.0           51.0   \n",
       "1  1633986183876280321  2023-03-10 00:20:38-05         1.0            8.0   \n",
       "\n",
       "                                             MESSAGE Language_x  \\\n",
       "0  RT @NBCNews: BREAKING: Ohio's attorney general...         en   \n",
       "1  RT @NBCNightlyNews: NOW: The CEO of Norfolk So...         en   \n",
       "\n",
       "   conversation_id  HAS_URL  IS_REPLY  IS_IN_REPLY_TO  ...  Longitude  \\\n",
       "0     1.635793e+18      NaN       NaN             NaN  ...        NaN   \n",
       "1     1.633986e+18      NaN       NaN             NaN  ...        NaN   \n",
       "\n",
       "         Sender  Location   Node ID_y Language_y NUMBER_FOLLOWERS  \\\n",
       "0  ricardonotes       USA  2608799046         en            463.0   \n",
       "1  ricardonotes       USA  2608799046         en            463.0   \n",
       "\n",
       "   IS_VERIFIED LOCATION  IS_NEWS_AGENCY  TWEET_COUNT  \n",
       "0          0.0      USA             NaN            4  \n",
       "1          0.0      USA             NaN            4  \n",
       "\n",
       "[2 rows x 23 columns]"
      ]
     },
     "execution_count": 497,
     "metadata": {},
     "output_type": "execute_result"
    }
   ],
   "source": [
    "tweet_agent = pd.merge(tweet, agent, on=['Sender'])\n",
    "tweet_agent.head(2)"
   ]
  },
  {
   "cell_type": "code",
   "execution_count": 498,
   "metadata": {},
   "outputs": [
    {
     "name": "stdout",
     "output_type": "stream",
     "text": [
      "124678\n",
      "78798\n"
     ]
    }
   ],
   "source": [
    "print(len(tweet))\n",
    "print(len(agent))"
   ]
  },
  {
   "cell_type": "code",
   "execution_count": 499,
   "metadata": {},
   "outputs": [
    {
     "data": {
      "text/plain": [
       "203476"
      ]
     },
     "execution_count": 499,
     "metadata": {},
     "output_type": "execute_result"
    }
   ],
   "source": [
    "124678 + 78798"
   ]
  },
  {
   "cell_type": "code",
   "execution_count": 500,
   "metadata": {},
   "outputs": [
    {
     "data": {
      "text/plain": [
       "123447"
      ]
     },
     "execution_count": 500,
     "metadata": {},
     "output_type": "execute_result"
    }
   ],
   "source": [
    "len(tweet_agent)"
   ]
  },
  {
   "cell_type": "code",
   "execution_count": 501,
   "metadata": {},
   "outputs": [
    {
     "name": "stderr",
     "output_type": "stream",
     "text": [
      "C:\\Users\\mahru\\AppData\\Local\\Temp\\ipykernel_23784\\2099114423.py:1: FutureWarning: In a future version of pandas all arguments of StringMethods.split except for the argument 'pat' will be keyword-only.\n",
      "  tweet_agent[['Date', 'Time']] = tweet_agent['DATE'].str.split(' ', 1, expand=True)\n"
     ]
    },
    {
     "data": {
      "text/html": [
       "<div>\n",
       "<style scoped>\n",
       "    .dataframe tbody tr th:only-of-type {\n",
       "        vertical-align: middle;\n",
       "    }\n",
       "\n",
       "    .dataframe tbody tr th {\n",
       "        vertical-align: top;\n",
       "    }\n",
       "\n",
       "    .dataframe thead th {\n",
       "        text-align: right;\n",
       "    }\n",
       "</style>\n",
       "<table border=\"1\" class=\"dataframe\">\n",
       "  <thead>\n",
       "    <tr style=\"text-align: right;\">\n",
       "      <th></th>\n",
       "      <th>Node ID_x</th>\n",
       "      <th>DATE</th>\n",
       "      <th>IS_RETWEET</th>\n",
       "      <th>RETWEET_COUNT</th>\n",
       "      <th>MESSAGE</th>\n",
       "      <th>Language_x</th>\n",
       "      <th>conversation_id</th>\n",
       "      <th>HAS_URL</th>\n",
       "      <th>IS_REPLY</th>\n",
       "      <th>IS_IN_REPLY_TO</th>\n",
       "      <th>...</th>\n",
       "      <th>Location</th>\n",
       "      <th>Node ID_y</th>\n",
       "      <th>Language_y</th>\n",
       "      <th>NUMBER_FOLLOWERS</th>\n",
       "      <th>IS_VERIFIED</th>\n",
       "      <th>LOCATION</th>\n",
       "      <th>IS_NEWS_AGENCY</th>\n",
       "      <th>TWEET_COUNT</th>\n",
       "      <th>Date</th>\n",
       "      <th>Time</th>\n",
       "    </tr>\n",
       "  </thead>\n",
       "  <tbody>\n",
       "    <tr>\n",
       "      <th>0</th>\n",
       "      <td>1635792903053221889</td>\n",
       "      <td>2023-03-14 23:59:54-04</td>\n",
       "      <td>1.0</td>\n",
       "      <td>51.0</td>\n",
       "      <td>RT @NBCNews: BREAKING: Ohio's attorney general...</td>\n",
       "      <td>en</td>\n",
       "      <td>1.635793e+18</td>\n",
       "      <td>NaN</td>\n",
       "      <td>NaN</td>\n",
       "      <td>NaN</td>\n",
       "      <td>...</td>\n",
       "      <td>USA</td>\n",
       "      <td>2608799046</td>\n",
       "      <td>en</td>\n",
       "      <td>463.0</td>\n",
       "      <td>0.0</td>\n",
       "      <td>USA</td>\n",
       "      <td>NaN</td>\n",
       "      <td>4</td>\n",
       "      <td>2023-03-14</td>\n",
       "      <td>23:59:54-04</td>\n",
       "    </tr>\n",
       "    <tr>\n",
       "      <th>1</th>\n",
       "      <td>1633986183876280321</td>\n",
       "      <td>2023-03-10 00:20:38-05</td>\n",
       "      <td>1.0</td>\n",
       "      <td>8.0</td>\n",
       "      <td>RT @NBCNightlyNews: NOW: The CEO of Norfolk So...</td>\n",
       "      <td>en</td>\n",
       "      <td>1.633986e+18</td>\n",
       "      <td>NaN</td>\n",
       "      <td>NaN</td>\n",
       "      <td>NaN</td>\n",
       "      <td>...</td>\n",
       "      <td>USA</td>\n",
       "      <td>2608799046</td>\n",
       "      <td>en</td>\n",
       "      <td>463.0</td>\n",
       "      <td>0.0</td>\n",
       "      <td>USA</td>\n",
       "      <td>NaN</td>\n",
       "      <td>4</td>\n",
       "      <td>2023-03-10</td>\n",
       "      <td>00:20:38-05</td>\n",
       "    </tr>\n",
       "  </tbody>\n",
       "</table>\n",
       "<p>2 rows × 25 columns</p>\n",
       "</div>"
      ],
      "text/plain": [
       "             Node ID_x                    DATE  IS_RETWEET  RETWEET_COUNT  \\\n",
       "0  1635792903053221889  2023-03-14 23:59:54-04         1.0           51.0   \n",
       "1  1633986183876280321  2023-03-10 00:20:38-05         1.0            8.0   \n",
       "\n",
       "                                             MESSAGE Language_x  \\\n",
       "0  RT @NBCNews: BREAKING: Ohio's attorney general...         en   \n",
       "1  RT @NBCNightlyNews: NOW: The CEO of Norfolk So...         en   \n",
       "\n",
       "   conversation_id  HAS_URL  IS_REPLY  IS_IN_REPLY_TO  ...  Location  \\\n",
       "0     1.635793e+18      NaN       NaN             NaN  ...       USA   \n",
       "1     1.633986e+18      NaN       NaN             NaN  ...       USA   \n",
       "\n",
       "    Node ID_y  Language_y  NUMBER_FOLLOWERS IS_VERIFIED LOCATION  \\\n",
       "0  2608799046          en             463.0         0.0      USA   \n",
       "1  2608799046          en             463.0         0.0      USA   \n",
       "\n",
       "   IS_NEWS_AGENCY TWEET_COUNT        Date         Time  \n",
       "0             NaN           4  2023-03-14  23:59:54-04  \n",
       "1             NaN           4  2023-03-10  00:20:38-05  \n",
       "\n",
       "[2 rows x 25 columns]"
      ]
     },
     "execution_count": 501,
     "metadata": {},
     "output_type": "execute_result"
    }
   ],
   "source": [
    "tweet_agent[['Date', 'Time']] = tweet_agent['DATE'].str.split(' ', 1, expand=True)\n",
    "tweet_agent.head(2)"
   ]
  },
  {
   "cell_type": "code",
   "execution_count": 502,
   "metadata": {},
   "outputs": [
    {
     "name": "stdout",
     "output_type": "stream",
     "text": [
      "<class 'pandas.core.frame.DataFrame'>\n",
      "Int64Index: 123447 entries, 0 to 123446\n",
      "Data columns (total 25 columns):\n",
      " #   Column            Non-Null Count   Dtype  \n",
      "---  ------            --------------   -----  \n",
      " 0   Node ID_x         123447 non-null  int64  \n",
      " 1   DATE              123447 non-null  object \n",
      " 2   IS_RETWEET        100517 non-null  float64\n",
      " 3   RETWEET_COUNT     107678 non-null  float64\n",
      " 4   MESSAGE           123447 non-null  object \n",
      " 5   Language_x        123447 non-null  object \n",
      " 6   conversation_id   123447 non-null  float64\n",
      " 7   HAS_URL           32951 non-null   float64\n",
      " 8   IS_REPLY          4296 non-null    float64\n",
      " 9   IS_IN_REPLY_TO    2682 non-null    float64\n",
      " 10  IS_QUOTE          813 non-null     float64\n",
      " 11  IS_GEOTAGGED      28 non-null      float64\n",
      " 12  Latitude          28 non-null      float64\n",
      " 13  Longitude         28 non-null      float64\n",
      " 14  Sender            123447 non-null  object \n",
      " 15  Location          75334 non-null   object \n",
      " 16  Node ID_y         123447 non-null  int64  \n",
      " 17  Language_y        123447 non-null  object \n",
      " 18  NUMBER_FOLLOWERS  123447 non-null  float64\n",
      " 19  IS_VERIFIED       123447 non-null  float64\n",
      " 20  LOCATION          75334 non-null   object \n",
      " 21  IS_NEWS_AGENCY    2865 non-null    float64\n",
      " 22  TWEET_COUNT       123447 non-null  int64  \n",
      " 23  Date              123447 non-null  object \n",
      " 24  Time              123447 non-null  object \n",
      "dtypes: float64(13), int64(3), object(9)\n",
      "memory usage: 24.5+ MB\n"
     ]
    }
   ],
   "source": [
    "tweet_agent.info()"
   ]
  },
  {
   "cell_type": "code",
   "execution_count": 503,
   "metadata": {},
   "outputs": [],
   "source": [
    "#count if language_x != language_y\n",
    "\n",
    "\n",
    "#tweet_agent.query('Language_x != Language_y')\n",
    "\n",
    "#language in tweet.csv and agent.csv is not the same for some cases. let's keep the language column in tweet.csv since that might be for the tweet itself\n",
    "\n",
    "#language has the same count in both files, keeping the one in tweet.csv"
   ]
  },
  {
   "cell_type": "code",
   "execution_count": 504,
   "metadata": {},
   "outputs": [],
   "source": [
    "tweet_agent.drop(columns=['Language_y','Location','DATE'], inplace = True)"
   ]
  },
  {
   "cell_type": "code",
   "execution_count": 505,
   "metadata": {},
   "outputs": [],
   "source": [
    "tweet_agent.rename(columns={'Node ID_x' : 'TWEET_ID', \n",
    "                            'Node ID_y' : 'AGENT_ID', \n",
    "                            'Language_x' : 'LANGUAGE',\n",
    "                            'conversation_id' : 'CONVERSATION_ID',\n",
    "                            'Latitude' : 'LATITUDE',\n",
    "                            'Longitude' : 'LONGITUDE',\n",
    "                            'Sender' : 'SENDER',\n",
    "                            'Date' : 'DATE',\n",
    "                            'Time' : 'TIME'\n",
    "                            }, inplace=True)"
   ]
  },
  {
   "cell_type": "code",
   "execution_count": 506,
   "metadata": {},
   "outputs": [],
   "source": [
    "tweet_agent['IS_RETWEET'] = tweet_agent['IS_RETWEET'].fillna(0)\n",
    "tweet_agent['HAS_URL'] = tweet_agent['HAS_URL'].fillna(0)\n",
    "tweet_agent['IS_REPLY'] = tweet_agent['IS_REPLY'].fillna(0)\n",
    "tweet_agent['IS_IN_REPLY_TO'] = tweet_agent['IS_IN_REPLY_TO'].fillna(0)\n",
    "tweet_agent['IS_QUOTE'] = tweet_agent['IS_QUOTE'].fillna(0)\n",
    "tweet_agent['IS_GEOTAGGED'] = tweet_agent['IS_GEOTAGGED'].fillna(0)\n",
    "tweet_agent['IS_NEWS_AGENCY'] = tweet_agent['IS_NEWS_AGENCY'].fillna(0)"
   ]
  },
  {
   "cell_type": "code",
   "execution_count": 507,
   "metadata": {},
   "outputs": [
    {
     "name": "stdout",
     "output_type": "stream",
     "text": [
      "<class 'pandas.core.frame.DataFrame'>\n",
      "Int64Index: 123447 entries, 0 to 123446\n",
      "Data columns (total 22 columns):\n",
      " #   Column            Non-Null Count   Dtype  \n",
      "---  ------            --------------   -----  \n",
      " 0   TWEET_ID          123447 non-null  int64  \n",
      " 1   IS_RETWEET        123447 non-null  float64\n",
      " 2   RETWEET_COUNT     107678 non-null  float64\n",
      " 3   MESSAGE           123447 non-null  object \n",
      " 4   LANGUAGE          123447 non-null  object \n",
      " 5   CONVERSATION_ID   123447 non-null  float64\n",
      " 6   HAS_URL           123447 non-null  float64\n",
      " 7   IS_REPLY          123447 non-null  float64\n",
      " 8   IS_IN_REPLY_TO    123447 non-null  float64\n",
      " 9   IS_QUOTE          123447 non-null  float64\n",
      " 10  IS_GEOTAGGED      123447 non-null  float64\n",
      " 11  LATITUDE          28 non-null      float64\n",
      " 12  LONGITUDE         28 non-null      float64\n",
      " 13  SENDER            123447 non-null  object \n",
      " 14  AGENT_ID          123447 non-null  int64  \n",
      " 15  NUMBER_FOLLOWERS  123447 non-null  float64\n",
      " 16  IS_VERIFIED       123447 non-null  float64\n",
      " 17  LOCATION          75334 non-null   object \n",
      " 18  IS_NEWS_AGENCY    123447 non-null  float64\n",
      " 19  TWEET_COUNT       123447 non-null  int64  \n",
      " 20  DATE              123447 non-null  object \n",
      " 21  TIME              123447 non-null  object \n",
      "dtypes: float64(13), int64(3), object(6)\n",
      "memory usage: 21.7+ MB\n"
     ]
    }
   ],
   "source": [
    "tweet_agent.info()"
   ]
  },
  {
   "cell_type": "code",
   "execution_count": 508,
   "metadata": {},
   "outputs": [
    {
     "data": {
      "text/plain": [
       "Index(['TWEET_ID', 'IS_RETWEET', 'RETWEET_COUNT', 'MESSAGE', 'LANGUAGE',\n",
       "       'CONVERSATION_ID', 'HAS_URL', 'IS_REPLY', 'IS_IN_REPLY_TO', 'IS_QUOTE',\n",
       "       'IS_GEOTAGGED', 'LATITUDE', 'LONGITUDE', 'SENDER', 'AGENT_ID',\n",
       "       'NUMBER_FOLLOWERS', 'IS_VERIFIED', 'LOCATION', 'IS_NEWS_AGENCY',\n",
       "       'TWEET_COUNT', 'DATE', 'TIME'],\n",
       "      dtype='object')"
      ]
     },
     "execution_count": 508,
     "metadata": {},
     "output_type": "execute_result"
    }
   ],
   "source": [
    "tweet_agent.columns"
   ]
  },
  {
   "cell_type": "code",
   "execution_count": 509,
   "metadata": {},
   "outputs": [],
   "source": [
    "tweets_data = tweet_agent[tweet_agent.columns.difference(['CONVERSATION_ID','IS_GEOTAGGED','LATITUDE','LONGITUDE','AGENT_ID'])]"
   ]
  },
  {
   "cell_type": "code",
   "execution_count": 510,
   "metadata": {},
   "outputs": [
    {
     "data": {
      "text/plain": [
       "Index(['DATE', 'HAS_URL', 'IS_IN_REPLY_TO', 'IS_NEWS_AGENCY', 'IS_QUOTE',\n",
       "       'IS_REPLY', 'IS_RETWEET', 'IS_VERIFIED', 'LANGUAGE', 'LOCATION',\n",
       "       'MESSAGE', 'NUMBER_FOLLOWERS', 'RETWEET_COUNT', 'SENDER', 'TIME',\n",
       "       'TWEET_COUNT', 'TWEET_ID'],\n",
       "      dtype='object')"
      ]
     },
     "execution_count": 510,
     "metadata": {},
     "output_type": "execute_result"
    }
   ],
   "source": [
    "tweets_data.columns"
   ]
  },
  {
   "cell_type": "code",
   "execution_count": 511,
   "metadata": {},
   "outputs": [
    {
     "data": {
      "text/html": [
       "<div>\n",
       "<style scoped>\n",
       "    .dataframe tbody tr th:only-of-type {\n",
       "        vertical-align: middle;\n",
       "    }\n",
       "\n",
       "    .dataframe tbody tr th {\n",
       "        vertical-align: top;\n",
       "    }\n",
       "\n",
       "    .dataframe thead th {\n",
       "        text-align: right;\n",
       "    }\n",
       "</style>\n",
       "<table border=\"1\" class=\"dataframe\">\n",
       "  <thead>\n",
       "    <tr style=\"text-align: right;\">\n",
       "      <th></th>\n",
       "      <th>DATE</th>\n",
       "      <th>HAS_URL</th>\n",
       "      <th>IS_IN_REPLY_TO</th>\n",
       "      <th>IS_NEWS_AGENCY</th>\n",
       "      <th>IS_QUOTE</th>\n",
       "      <th>IS_REPLY</th>\n",
       "      <th>IS_RETWEET</th>\n",
       "      <th>IS_VERIFIED</th>\n",
       "      <th>LANGUAGE</th>\n",
       "      <th>LOCATION</th>\n",
       "      <th>MESSAGE</th>\n",
       "      <th>NUMBER_FOLLOWERS</th>\n",
       "      <th>RETWEET_COUNT</th>\n",
       "      <th>SENDER</th>\n",
       "      <th>TIME</th>\n",
       "      <th>TWEET_COUNT</th>\n",
       "      <th>TWEET_ID</th>\n",
       "    </tr>\n",
       "  </thead>\n",
       "  <tbody>\n",
       "    <tr>\n",
       "      <th>0</th>\n",
       "      <td>2023-03-14</td>\n",
       "      <td>0.0</td>\n",
       "      <td>0.0</td>\n",
       "      <td>0.0</td>\n",
       "      <td>0.0</td>\n",
       "      <td>0.0</td>\n",
       "      <td>1.0</td>\n",
       "      <td>0.0</td>\n",
       "      <td>en</td>\n",
       "      <td>USA</td>\n",
       "      <td>RT @NBCNews: BREAKING: Ohio's attorney general...</td>\n",
       "      <td>463.0</td>\n",
       "      <td>51.0</td>\n",
       "      <td>ricardonotes</td>\n",
       "      <td>23:59:54-04</td>\n",
       "      <td>4</td>\n",
       "      <td>1635792903053221889</td>\n",
       "    </tr>\n",
       "    <tr>\n",
       "      <th>1</th>\n",
       "      <td>2023-03-10</td>\n",
       "      <td>0.0</td>\n",
       "      <td>0.0</td>\n",
       "      <td>0.0</td>\n",
       "      <td>0.0</td>\n",
       "      <td>0.0</td>\n",
       "      <td>1.0</td>\n",
       "      <td>0.0</td>\n",
       "      <td>en</td>\n",
       "      <td>USA</td>\n",
       "      <td>RT @NBCNightlyNews: NOW: The CEO of Norfolk So...</td>\n",
       "      <td>463.0</td>\n",
       "      <td>8.0</td>\n",
       "      <td>ricardonotes</td>\n",
       "      <td>00:20:38-05</td>\n",
       "      <td>4</td>\n",
       "      <td>1633986183876280321</td>\n",
       "    </tr>\n",
       "  </tbody>\n",
       "</table>\n",
       "</div>"
      ],
      "text/plain": [
       "         DATE  HAS_URL  IS_IN_REPLY_TO  IS_NEWS_AGENCY  IS_QUOTE  IS_REPLY  \\\n",
       "0  2023-03-14      0.0             0.0             0.0       0.0       0.0   \n",
       "1  2023-03-10      0.0             0.0             0.0       0.0       0.0   \n",
       "\n",
       "   IS_RETWEET  IS_VERIFIED LANGUAGE LOCATION  \\\n",
       "0         1.0          0.0       en      USA   \n",
       "1         1.0          0.0       en      USA   \n",
       "\n",
       "                                             MESSAGE  NUMBER_FOLLOWERS  \\\n",
       "0  RT @NBCNews: BREAKING: Ohio's attorney general...             463.0   \n",
       "1  RT @NBCNightlyNews: NOW: The CEO of Norfolk So...             463.0   \n",
       "\n",
       "   RETWEET_COUNT        SENDER         TIME  TWEET_COUNT             TWEET_ID  \n",
       "0           51.0  ricardonotes  23:59:54-04            4  1635792903053221889  \n",
       "1            8.0  ricardonotes  00:20:38-05            4  1633986183876280321  "
      ]
     },
     "execution_count": 511,
     "metadata": {},
     "output_type": "execute_result"
    }
   ],
   "source": [
    "tweets_data.head(2)"
   ]
  },
  {
   "cell_type": "code",
   "execution_count": 512,
   "metadata": {},
   "outputs": [
    {
     "data": {
      "text/plain": [
       "0.0    120582\n",
       "1.0      2865\n",
       "Name: IS_NEWS_AGENCY, dtype: int64"
      ]
     },
     "execution_count": 512,
     "metadata": {},
     "output_type": "execute_result"
    }
   ],
   "source": [
    "tweets_data.IS_NEWS_AGENCY.value_counts()"
   ]
  },
  {
   "cell_type": "code",
   "execution_count": 513,
   "metadata": {},
   "outputs": [
    {
     "data": {
      "text/plain": [
       "0.0    118112\n",
       "1.0      5335\n",
       "Name: IS_VERIFIED, dtype: int64"
      ]
     },
     "execution_count": 513,
     "metadata": {},
     "output_type": "execute_result"
    }
   ],
   "source": [
    "tweets_data.IS_VERIFIED.value_counts()"
   ]
  },
  {
   "cell_type": "code",
   "execution_count": 514,
   "metadata": {},
   "outputs": [
    {
     "data": {
      "text/plain": [
       "2140"
      ]
     },
     "execution_count": 514,
     "metadata": {},
     "output_type": "execute_result"
    }
   ],
   "source": [
    "#unique verified accounts\n",
    "verified_accounts_list = list(tweets_data[tweets_data['IS_VERIFIED'] == 1]['SENDER'].unique())\n",
    "\n",
    "len(verified_accounts_list)"
   ]
  },
  {
   "cell_type": "code",
   "execution_count": 515,
   "metadata": {},
   "outputs": [],
   "source": [
    "verified_accounts = tweets_data.loc[tweets_data['IS_VERIFIED'] == 1]['SENDER']\n",
    "verified_accounts = verified_accounts.drop_duplicates()"
   ]
  },
  {
   "cell_type": "code",
   "execution_count": 516,
   "metadata": {},
   "outputs": [
    {
     "data": {
      "text/plain": [
       "2140"
      ]
     },
     "execution_count": 516,
     "metadata": {},
     "output_type": "execute_result"
    }
   ],
   "source": [
    "len(verified_accounts)"
   ]
  },
  {
   "cell_type": "code",
   "execution_count": 517,
   "metadata": {},
   "outputs": [
    {
     "data": {
      "text/plain": [
       "789"
      ]
     },
     "execution_count": 517,
     "metadata": {},
     "output_type": "execute_result"
    }
   ],
   "source": [
    "#df of unique news agency in dataset 3\n",
    "news_accounts = tweets_data.loc[tweets_data['IS_NEWS_AGENCY'] == 1]['SENDER']\n",
    "news_accounts = news_accounts.drop_duplicates()\n",
    "\n",
    "#list of unique news agency accounts in dataset 3\n",
    "news_accounts_list = list(tweets_data[tweets_data['IS_NEWS_AGENCY'] == 1]['SENDER'].unique())\n",
    "\n",
    "len(news_accounts_list)"
   ]
  },
  {
   "attachments": {},
   "cell_type": "markdown",
   "metadata": {},
   "source": [
    "add labels of government accounts from dataset1"
   ]
  },
  {
   "cell_type": "code",
   "execution_count": 518,
   "metadata": {},
   "outputs": [],
   "source": [
    "#news_accounts.to_csv('news_accounts.csv', index=False) "
   ]
  },
  {
   "cell_type": "code",
   "execution_count": 519,
   "metadata": {},
   "outputs": [
    {
     "data": {
      "text/plain": [
       "Index(['SENDER', 'politics_accounts'], dtype='object')"
      ]
     },
     "execution_count": 519,
     "metadata": {},
     "output_type": "execute_result"
    }
   ],
   "source": [
    "#government account tags from dataset1\n",
    "govt_accounts = pd.read_csv('dataset1/govt_accounts.csv')\n",
    "# govt_accounts_list = list(govt_accounts.politics_accounts.values)\n",
    "# govt_accounts_list\n",
    "govt_accounts.columns\n",
    "govt_accounts.rename(columns={'politics_accounts':'SENDER'},inplace=True)\n",
    "govt_accounts['politics_accounts'] = 1\n",
    "govt_accounts.columns\n"
   ]
  },
  {
   "cell_type": "code",
   "execution_count": 520,
   "metadata": {},
   "outputs": [],
   "source": [
    "#tweet_agent['que'] = np.where((tweet_agent['one'] >= tweet_agent['two'])), tweet_agent['one'], np.nan)"
   ]
  },
  {
   "cell_type": "code",
   "execution_count": 521,
   "metadata": {},
   "outputs": [
    {
     "data": {
      "text/plain": [
       "123447"
      ]
     },
     "execution_count": 521,
     "metadata": {},
     "output_type": "execute_result"
    }
   ],
   "source": [
    "len(tweets_data)"
   ]
  },
  {
   "cell_type": "code",
   "execution_count": 522,
   "metadata": {},
   "outputs": [
    {
     "data": {
      "text/plain": [
       "123447"
      ]
     },
     "execution_count": 522,
     "metadata": {},
     "output_type": "execute_result"
    }
   ],
   "source": [
    "tweets_data = pd.merge(tweets_data, govt_accounts, on=['SENDER'],how='left')\n",
    "len(tweets_data)"
   ]
  },
  {
   "cell_type": "code",
   "execution_count": 523,
   "metadata": {},
   "outputs": [
    {
     "data": {
      "text/plain": [
       "0    123296\n",
       "1       151\n",
       "Name: politics_accounts, dtype: int64"
      ]
     },
     "execution_count": 523,
     "metadata": {},
     "output_type": "execute_result"
    }
   ],
   "source": [
    "tweets_data['politics_accounts']=tweets_data['politics_accounts'].fillna(0)\n",
    "tweets_data['politics_accounts']=tweets_data['politics_accounts'].astype(int)\n",
    "tweets_data['politics_accounts'].value_counts()\n"
   ]
  },
  {
   "cell_type": "code",
   "execution_count": 524,
   "metadata": {},
   "outputs": [],
   "source": [
    "# tweets[tweets['govt_account']==1]"
   ]
  },
  {
   "attachments": {},
   "cell_type": "markdown",
   "metadata": {},
   "source": [
    "add labels of news accounts from dataset1"
   ]
  },
  {
   "cell_type": "code",
   "execution_count": 525,
   "metadata": {},
   "outputs": [
    {
     "data": {
      "text/plain": [
       "Index(['SENDER', 'news_acc'], dtype='object')"
      ]
     },
     "execution_count": 525,
     "metadata": {},
     "output_type": "execute_result"
    }
   ],
   "source": [
    "#government account tags from dataset1\n",
    "news_accounts = pd.read_csv('dataset1/news_accounts.csv')\n",
    "# news_accounts_list = list(news_accounts.politics_accounts.values)\n",
    "# news_accounts_list\n",
    "news_accounts.columns\n",
    "news_accounts.rename(columns={'news_accounts':'SENDER'},inplace=True)\n",
    "news_accounts['news_acc'] = 1\n",
    "news_accounts.columns"
   ]
  },
  {
   "cell_type": "code",
   "execution_count": 526,
   "metadata": {},
   "outputs": [
    {
     "data": {
      "text/plain": [
       "906"
      ]
     },
     "execution_count": 526,
     "metadata": {},
     "output_type": "execute_result"
    }
   ],
   "source": [
    "len(news_accounts)"
   ]
  },
  {
   "cell_type": "code",
   "execution_count": 527,
   "metadata": {},
   "outputs": [
    {
     "data": {
      "text/plain": [
       "123447"
      ]
     },
     "execution_count": 527,
     "metadata": {},
     "output_type": "execute_result"
    }
   ],
   "source": [
    "len(tweets_data)"
   ]
  },
  {
   "cell_type": "code",
   "execution_count": 528,
   "metadata": {},
   "outputs": [
    {
     "data": {
      "text/plain": [
       "123447"
      ]
     },
     "execution_count": 528,
     "metadata": {},
     "output_type": "execute_result"
    }
   ],
   "source": [
    "tweets_data = pd.merge(tweets_data, news_accounts, on=['SENDER'],how='left')\n",
    "len(tweets_data)"
   ]
  },
  {
   "cell_type": "code",
   "execution_count": 529,
   "metadata": {},
   "outputs": [
    {
     "data": {
      "text/plain": [
       "1.0    2483\n",
       "Name: news_acc, dtype: int64"
      ]
     },
     "execution_count": 529,
     "metadata": {},
     "output_type": "execute_result"
    }
   ],
   "source": [
    "tweets_data['news_acc'].value_counts()"
   ]
  },
  {
   "cell_type": "code",
   "execution_count": 530,
   "metadata": {},
   "outputs": [
    {
     "data": {
      "text/plain": [
       "0.0    120582\n",
       "1.0      2865\n",
       "Name: IS_NEWS_AGENCY, dtype: int64"
      ]
     },
     "execution_count": 530,
     "metadata": {},
     "output_type": "execute_result"
    }
   ],
   "source": [
    "tweets_data.IS_NEWS_AGENCY.value_counts()"
   ]
  },
  {
   "cell_type": "code",
   "execution_count": 531,
   "metadata": {},
   "outputs": [
    {
     "data": {
      "text/html": [
       "<div>\n",
       "<style scoped>\n",
       "    .dataframe tbody tr th:only-of-type {\n",
       "        vertical-align: middle;\n",
       "    }\n",
       "\n",
       "    .dataframe tbody tr th {\n",
       "        vertical-align: top;\n",
       "    }\n",
       "\n",
       "    .dataframe thead th {\n",
       "        text-align: right;\n",
       "    }\n",
       "</style>\n",
       "<table border=\"1\" class=\"dataframe\">\n",
       "  <thead>\n",
       "    <tr style=\"text-align: right;\">\n",
       "      <th></th>\n",
       "      <th>DATE</th>\n",
       "      <th>HAS_URL</th>\n",
       "      <th>IS_IN_REPLY_TO</th>\n",
       "      <th>IS_NEWS_AGENCY</th>\n",
       "      <th>IS_QUOTE</th>\n",
       "      <th>IS_REPLY</th>\n",
       "      <th>IS_RETWEET</th>\n",
       "      <th>IS_VERIFIED</th>\n",
       "      <th>LANGUAGE</th>\n",
       "      <th>LOCATION</th>\n",
       "      <th>MESSAGE</th>\n",
       "      <th>NUMBER_FOLLOWERS</th>\n",
       "      <th>RETWEET_COUNT</th>\n",
       "      <th>SENDER</th>\n",
       "      <th>TIME</th>\n",
       "      <th>TWEET_COUNT</th>\n",
       "      <th>TWEET_ID</th>\n",
       "      <th>politics_accounts</th>\n",
       "      <th>news_acc</th>\n",
       "    </tr>\n",
       "  </thead>\n",
       "  <tbody>\n",
       "    <tr>\n",
       "      <th>0</th>\n",
       "      <td>2023-03-14</td>\n",
       "      <td>0.0</td>\n",
       "      <td>0.0</td>\n",
       "      <td>0.0</td>\n",
       "      <td>0.0</td>\n",
       "      <td>0.0</td>\n",
       "      <td>1.0</td>\n",
       "      <td>0.0</td>\n",
       "      <td>en</td>\n",
       "      <td>USA</td>\n",
       "      <td>RT @NBCNews: BREAKING: Ohio's attorney general...</td>\n",
       "      <td>463.0</td>\n",
       "      <td>51.0</td>\n",
       "      <td>ricardonotes</td>\n",
       "      <td>23:59:54-04</td>\n",
       "      <td>4</td>\n",
       "      <td>1635792903053221889</td>\n",
       "      <td>0</td>\n",
       "      <td>NaN</td>\n",
       "    </tr>\n",
       "    <tr>\n",
       "      <th>1</th>\n",
       "      <td>2023-03-10</td>\n",
       "      <td>0.0</td>\n",
       "      <td>0.0</td>\n",
       "      <td>0.0</td>\n",
       "      <td>0.0</td>\n",
       "      <td>0.0</td>\n",
       "      <td>1.0</td>\n",
       "      <td>0.0</td>\n",
       "      <td>en</td>\n",
       "      <td>USA</td>\n",
       "      <td>RT @NBCNightlyNews: NOW: The CEO of Norfolk So...</td>\n",
       "      <td>463.0</td>\n",
       "      <td>8.0</td>\n",
       "      <td>ricardonotes</td>\n",
       "      <td>00:20:38-05</td>\n",
       "      <td>4</td>\n",
       "      <td>1633986183876280321</td>\n",
       "      <td>0</td>\n",
       "      <td>NaN</td>\n",
       "    </tr>\n",
       "  </tbody>\n",
       "</table>\n",
       "</div>"
      ],
      "text/plain": [
       "         DATE  HAS_URL  IS_IN_REPLY_TO  IS_NEWS_AGENCY  IS_QUOTE  IS_REPLY  \\\n",
       "0  2023-03-14      0.0             0.0             0.0       0.0       0.0   \n",
       "1  2023-03-10      0.0             0.0             0.0       0.0       0.0   \n",
       "\n",
       "   IS_RETWEET  IS_VERIFIED LANGUAGE LOCATION  \\\n",
       "0         1.0          0.0       en      USA   \n",
       "1         1.0          0.0       en      USA   \n",
       "\n",
       "                                             MESSAGE  NUMBER_FOLLOWERS  \\\n",
       "0  RT @NBCNews: BREAKING: Ohio's attorney general...             463.0   \n",
       "1  RT @NBCNightlyNews: NOW: The CEO of Norfolk So...             463.0   \n",
       "\n",
       "   RETWEET_COUNT        SENDER         TIME  TWEET_COUNT             TWEET_ID  \\\n",
       "0           51.0  ricardonotes  23:59:54-04            4  1635792903053221889   \n",
       "1            8.0  ricardonotes  00:20:38-05            4  1633986183876280321   \n",
       "\n",
       "   politics_accounts  news_acc  \n",
       "0                  0       NaN  \n",
       "1                  0       NaN  "
      ]
     },
     "execution_count": 531,
     "metadata": {},
     "output_type": "execute_result"
    }
   ],
   "source": [
    "tweets_data.head(2)"
   ]
  },
  {
   "cell_type": "code",
   "execution_count": 532,
   "metadata": {},
   "outputs": [],
   "source": [
    "#news agency tags are now in two columns. one from this dataset and one from dataset1. merge the two so there's just one column for news agency label.\n",
    "import numpy as np\n",
    "tweets_data['news_accounts'] = np.where((tweets_data['IS_NEWS_AGENCY']==1) | (tweets_data['news_acc'] ==1),1, 0)"
   ]
  },
  {
   "attachments": {},
   "cell_type": "markdown",
   "metadata": {},
   "source": [
    "add labels of activists accounts from dataset1"
   ]
  },
  {
   "cell_type": "code",
   "execution_count": 533,
   "metadata": {},
   "outputs": [
    {
     "data": {
      "text/plain": [
       "Index(['SENDER', 'activists_accounts'], dtype='object')"
      ]
     },
     "execution_count": 533,
     "metadata": {},
     "output_type": "execute_result"
    }
   ],
   "source": [
    "#government account tags from dataset1\n",
    "activists_accounts = pd.read_csv('dataset1/activists_accounts.csv')\n",
    "# activist_accounts_list = list(activist_accounts.politics_accounts.values)\n",
    "# activist_accounts_list\n",
    "activists_accounts.columns\n",
    "activists_accounts.rename(columns={'activists_accounts':'SENDER'},inplace=True)\n",
    "activists_accounts['activists_accounts'] = 1\n",
    "activists_accounts.columns"
   ]
  },
  {
   "cell_type": "code",
   "execution_count": 534,
   "metadata": {},
   "outputs": [
    {
     "data": {
      "text/plain": [
       "10"
      ]
     },
     "execution_count": 534,
     "metadata": {},
     "output_type": "execute_result"
    }
   ],
   "source": [
    "len(activists_accounts)"
   ]
  },
  {
   "cell_type": "code",
   "execution_count": 535,
   "metadata": {},
   "outputs": [
    {
     "data": {
      "text/plain": [
       "123447"
      ]
     },
     "execution_count": 535,
     "metadata": {},
     "output_type": "execute_result"
    }
   ],
   "source": [
    "tweets_data = pd.merge(tweets_data, activists_accounts, on=['SENDER'],how='left')\n",
    "len(tweets_data)"
   ]
  },
  {
   "cell_type": "code",
   "execution_count": 536,
   "metadata": {},
   "outputs": [
    {
     "data": {
      "text/plain": [
       "0    123414\n",
       "1        33\n",
       "Name: activists_accounts, dtype: int64"
      ]
     },
     "execution_count": 536,
     "metadata": {},
     "output_type": "execute_result"
    }
   ],
   "source": [
    "tweets_data['activists_accounts']=tweets_data['activists_accounts'].fillna(0)\n",
    "tweets_data['activists_accounts']=tweets_data['activists_accounts'].astype(int)\n",
    "tweets_data['activists_accounts'].value_counts()"
   ]
  },
  {
   "cell_type": "code",
   "execution_count": 537,
   "metadata": {},
   "outputs": [
    {
     "name": "stdout",
     "output_type": "stream",
     "text": [
      "<class 'pandas.core.frame.DataFrame'>\n",
      "Int64Index: 123447 entries, 0 to 123446\n",
      "Data columns (total 21 columns):\n",
      " #   Column              Non-Null Count   Dtype  \n",
      "---  ------              --------------   -----  \n",
      " 0   DATE                123447 non-null  object \n",
      " 1   HAS_URL             123447 non-null  float64\n",
      " 2   IS_IN_REPLY_TO      123447 non-null  float64\n",
      " 3   IS_NEWS_AGENCY      123447 non-null  float64\n",
      " 4   IS_QUOTE            123447 non-null  float64\n",
      " 5   IS_REPLY            123447 non-null  float64\n",
      " 6   IS_RETWEET          123447 non-null  float64\n",
      " 7   IS_VERIFIED         123447 non-null  float64\n",
      " 8   LANGUAGE            123447 non-null  object \n",
      " 9   LOCATION            75334 non-null   object \n",
      " 10  MESSAGE             123447 non-null  object \n",
      " 11  NUMBER_FOLLOWERS    123447 non-null  float64\n",
      " 12  RETWEET_COUNT       107678 non-null  float64\n",
      " 13  SENDER              123447 non-null  object \n",
      " 14  TIME                123447 non-null  object \n",
      " 15  TWEET_COUNT         123447 non-null  int64  \n",
      " 16  TWEET_ID            123447 non-null  int64  \n",
      " 17  politics_accounts   123447 non-null  int32  \n",
      " 18  news_acc            2483 non-null    float64\n",
      " 19  news_accounts       123447 non-null  int32  \n",
      " 20  activists_accounts  123447 non-null  int32  \n",
      "dtypes: float64(10), int32(3), int64(2), object(6)\n",
      "memory usage: 19.3+ MB\n"
     ]
    }
   ],
   "source": [
    "tweets_data.info()"
   ]
  },
  {
   "cell_type": "code",
   "execution_count": 538,
   "metadata": {},
   "outputs": [
    {
     "data": {
      "text/plain": [
       "0    123296\n",
       "1       151\n",
       "Name: politics_accounts, dtype: int64"
      ]
     },
     "execution_count": 538,
     "metadata": {},
     "output_type": "execute_result"
    }
   ],
   "source": [
    "tweets_data.politics_accounts.value_counts()"
   ]
  },
  {
   "cell_type": "code",
   "execution_count": 539,
   "metadata": {},
   "outputs": [
    {
     "data": {
      "text/plain": [
       "0    120167\n",
       "1      3280\n",
       "Name: news_accounts, dtype: int64"
      ]
     },
     "execution_count": 539,
     "metadata": {},
     "output_type": "execute_result"
    }
   ],
   "source": [
    "tweets_data.news_accounts.value_counts()"
   ]
  },
  {
   "cell_type": "code",
   "execution_count": 540,
   "metadata": {},
   "outputs": [
    {
     "data": {
      "text/plain": [
       "0    123414\n",
       "1        33\n",
       "Name: activists_accounts, dtype: int64"
      ]
     },
     "execution_count": 540,
     "metadata": {},
     "output_type": "execute_result"
    }
   ],
   "source": [
    "tweets_data.activists_accounts.value_counts()"
   ]
  },
  {
   "attachments": {},
   "cell_type": "markdown",
   "metadata": {},
   "source": [
    "add a public category = 1 if the twitter account is neither political nor news"
   ]
  },
  {
   "cell_type": "code",
   "execution_count": 541,
   "metadata": {},
   "outputs": [],
   "source": [
    "tweets_data['public_accounts'] = np.where((tweets_data['politics_accounts']==1) | (tweets_data['news_accounts'] ==1),0, 1)"
   ]
  },
  {
   "cell_type": "code",
   "execution_count": 543,
   "metadata": {},
   "outputs": [
    {
     "data": {
      "text/plain": [
       "1    120021\n",
       "0      3426\n",
       "Name: public_accounts, dtype: int64"
      ]
     },
     "execution_count": 543,
     "metadata": {},
     "output_type": "execute_result"
    }
   ],
   "source": [
    "tweets_data.public_accounts.value_counts()"
   ]
  },
  {
   "cell_type": "code",
   "execution_count": 544,
   "metadata": {},
   "outputs": [],
   "source": [
    "#check\n",
    "#tweets_data.loc[tweets_data['public']==0,['politics_accounts','news_accounts','public']]"
   ]
  },
  {
   "cell_type": "code",
   "execution_count": 546,
   "metadata": {},
   "outputs": [
    {
     "data": {
      "text/html": [
       "<div>\n",
       "<style scoped>\n",
       "    .dataframe tbody tr th:only-of-type {\n",
       "        vertical-align: middle;\n",
       "    }\n",
       "\n",
       "    .dataframe tbody tr th {\n",
       "        vertical-align: top;\n",
       "    }\n",
       "\n",
       "    .dataframe thead th {\n",
       "        text-align: right;\n",
       "    }\n",
       "</style>\n",
       "<table border=\"1\" class=\"dataframe\">\n",
       "  <thead>\n",
       "    <tr style=\"text-align: right;\">\n",
       "      <th></th>\n",
       "      <th>politics_accounts</th>\n",
       "      <th>news_accounts</th>\n",
       "      <th>public_accounts</th>\n",
       "    </tr>\n",
       "  </thead>\n",
       "  <tbody>\n",
       "    <tr>\n",
       "      <th>66409</th>\n",
       "      <td>1</td>\n",
       "      <td>1</td>\n",
       "      <td>0</td>\n",
       "    </tr>\n",
       "    <tr>\n",
       "      <th>66410</th>\n",
       "      <td>1</td>\n",
       "      <td>1</td>\n",
       "      <td>0</td>\n",
       "    </tr>\n",
       "    <tr>\n",
       "      <th>110335</th>\n",
       "      <td>1</td>\n",
       "      <td>1</td>\n",
       "      <td>0</td>\n",
       "    </tr>\n",
       "    <tr>\n",
       "      <th>110336</th>\n",
       "      <td>1</td>\n",
       "      <td>1</td>\n",
       "      <td>0</td>\n",
       "    </tr>\n",
       "    <tr>\n",
       "      <th>110337</th>\n",
       "      <td>1</td>\n",
       "      <td>1</td>\n",
       "      <td>0</td>\n",
       "    </tr>\n",
       "  </tbody>\n",
       "</table>\n",
       "</div>"
      ],
      "text/plain": [
       "        politics_accounts  news_accounts  public_accounts\n",
       "66409                   1              1                0\n",
       "66410                   1              1                0\n",
       "110335                  1              1                0\n",
       "110336                  1              1                0\n",
       "110337                  1              1                0"
      ]
     },
     "execution_count": 546,
     "metadata": {},
     "output_type": "execute_result"
    }
   ],
   "source": [
    "#there are 5 accounts that are both political and news\n",
    "tweets_data.loc[(tweets_data['politics_accounts']==1) & (tweets_data['news_accounts']==1),['politics_accounts','news_accounts','public_accounts']]"
   ]
  },
  {
   "cell_type": "code",
   "execution_count": 548,
   "metadata": {},
   "outputs": [],
   "source": [
    "tweets_data.drop(columns=['news_acc'],inplace=True)"
   ]
  },
  {
   "cell_type": "code",
   "execution_count": 549,
   "metadata": {},
   "outputs": [
    {
     "data": {
      "text/html": [
       "<div>\n",
       "<style scoped>\n",
       "    .dataframe tbody tr th:only-of-type {\n",
       "        vertical-align: middle;\n",
       "    }\n",
       "\n",
       "    .dataframe tbody tr th {\n",
       "        vertical-align: top;\n",
       "    }\n",
       "\n",
       "    .dataframe thead th {\n",
       "        text-align: right;\n",
       "    }\n",
       "</style>\n",
       "<table border=\"1\" class=\"dataframe\">\n",
       "  <thead>\n",
       "    <tr style=\"text-align: right;\">\n",
       "      <th></th>\n",
       "      <th>DATE</th>\n",
       "      <th>HAS_URL</th>\n",
       "      <th>IS_IN_REPLY_TO</th>\n",
       "      <th>IS_NEWS_AGENCY</th>\n",
       "      <th>IS_QUOTE</th>\n",
       "      <th>IS_REPLY</th>\n",
       "      <th>IS_RETWEET</th>\n",
       "      <th>IS_VERIFIED</th>\n",
       "      <th>LANGUAGE</th>\n",
       "      <th>LOCATION</th>\n",
       "      <th>...</th>\n",
       "      <th>NUMBER_FOLLOWERS</th>\n",
       "      <th>RETWEET_COUNT</th>\n",
       "      <th>SENDER</th>\n",
       "      <th>TIME</th>\n",
       "      <th>TWEET_COUNT</th>\n",
       "      <th>TWEET_ID</th>\n",
       "      <th>politics_accounts</th>\n",
       "      <th>news_accounts</th>\n",
       "      <th>activists_accounts</th>\n",
       "      <th>public_accounts</th>\n",
       "    </tr>\n",
       "  </thead>\n",
       "  <tbody>\n",
       "    <tr>\n",
       "      <th>0</th>\n",
       "      <td>2023-03-14</td>\n",
       "      <td>0.0</td>\n",
       "      <td>0.0</td>\n",
       "      <td>0.0</td>\n",
       "      <td>0.0</td>\n",
       "      <td>0.0</td>\n",
       "      <td>1.0</td>\n",
       "      <td>0.0</td>\n",
       "      <td>en</td>\n",
       "      <td>USA</td>\n",
       "      <td>...</td>\n",
       "      <td>463.0</td>\n",
       "      <td>51.0</td>\n",
       "      <td>ricardonotes</td>\n",
       "      <td>23:59:54-04</td>\n",
       "      <td>4</td>\n",
       "      <td>1635792903053221889</td>\n",
       "      <td>0</td>\n",
       "      <td>0</td>\n",
       "      <td>0</td>\n",
       "      <td>1</td>\n",
       "    </tr>\n",
       "    <tr>\n",
       "      <th>1</th>\n",
       "      <td>2023-03-10</td>\n",
       "      <td>0.0</td>\n",
       "      <td>0.0</td>\n",
       "      <td>0.0</td>\n",
       "      <td>0.0</td>\n",
       "      <td>0.0</td>\n",
       "      <td>1.0</td>\n",
       "      <td>0.0</td>\n",
       "      <td>en</td>\n",
       "      <td>USA</td>\n",
       "      <td>...</td>\n",
       "      <td>463.0</td>\n",
       "      <td>8.0</td>\n",
       "      <td>ricardonotes</td>\n",
       "      <td>00:20:38-05</td>\n",
       "      <td>4</td>\n",
       "      <td>1633986183876280321</td>\n",
       "      <td>0</td>\n",
       "      <td>0</td>\n",
       "      <td>0</td>\n",
       "      <td>1</td>\n",
       "    </tr>\n",
       "    <tr>\n",
       "      <th>2</th>\n",
       "      <td>2023-03-07</td>\n",
       "      <td>0.0</td>\n",
       "      <td>0.0</td>\n",
       "      <td>0.0</td>\n",
       "      <td>0.0</td>\n",
       "      <td>0.0</td>\n",
       "      <td>1.0</td>\n",
       "      <td>0.0</td>\n",
       "      <td>en</td>\n",
       "      <td>USA</td>\n",
       "      <td>...</td>\n",
       "      <td>463.0</td>\n",
       "      <td>14.0</td>\n",
       "      <td>ricardonotes</td>\n",
       "      <td>00:31:18-05</td>\n",
       "      <td>4</td>\n",
       "      <td>1632901704155799552</td>\n",
       "      <td>0</td>\n",
       "      <td>0</td>\n",
       "      <td>0</td>\n",
       "      <td>1</td>\n",
       "    </tr>\n",
       "    <tr>\n",
       "      <th>3</th>\n",
       "      <td>2023-02-26</td>\n",
       "      <td>0.0</td>\n",
       "      <td>0.0</td>\n",
       "      <td>0.0</td>\n",
       "      <td>0.0</td>\n",
       "      <td>0.0</td>\n",
       "      <td>1.0</td>\n",
       "      <td>0.0</td>\n",
       "      <td>en</td>\n",
       "      <td>USA</td>\n",
       "      <td>...</td>\n",
       "      <td>463.0</td>\n",
       "      <td>10.0</td>\n",
       "      <td>ricardonotes</td>\n",
       "      <td>04:57:36-05</td>\n",
       "      <td>4</td>\n",
       "      <td>1629707229736718336</td>\n",
       "      <td>0</td>\n",
       "      <td>0</td>\n",
       "      <td>0</td>\n",
       "      <td>1</td>\n",
       "    </tr>\n",
       "    <tr>\n",
       "      <th>4</th>\n",
       "      <td>2023-03-14</td>\n",
       "      <td>1.0</td>\n",
       "      <td>0.0</td>\n",
       "      <td>1.0</td>\n",
       "      <td>0.0</td>\n",
       "      <td>0.0</td>\n",
       "      <td>0.0</td>\n",
       "      <td>1.0</td>\n",
       "      <td>en</td>\n",
       "      <td>New York, NY</td>\n",
       "      <td>...</td>\n",
       "      <td>9424476.0</td>\n",
       "      <td>51.0</td>\n",
       "      <td>NBCNews</td>\n",
       "      <td>19:55:44-04</td>\n",
       "      <td>18</td>\n",
       "      <td>1635731458026340360</td>\n",
       "      <td>0</td>\n",
       "      <td>1</td>\n",
       "      <td>0</td>\n",
       "      <td>0</td>\n",
       "    </tr>\n",
       "  </tbody>\n",
       "</table>\n",
       "<p>5 rows × 21 columns</p>\n",
       "</div>"
      ],
      "text/plain": [
       "         DATE  HAS_URL  IS_IN_REPLY_TO  IS_NEWS_AGENCY  IS_QUOTE  IS_REPLY  \\\n",
       "0  2023-03-14      0.0             0.0             0.0       0.0       0.0   \n",
       "1  2023-03-10      0.0             0.0             0.0       0.0       0.0   \n",
       "2  2023-03-07      0.0             0.0             0.0       0.0       0.0   \n",
       "3  2023-02-26      0.0             0.0             0.0       0.0       0.0   \n",
       "4  2023-03-14      1.0             0.0             1.0       0.0       0.0   \n",
       "\n",
       "   IS_RETWEET  IS_VERIFIED LANGUAGE      LOCATION  ... NUMBER_FOLLOWERS  \\\n",
       "0         1.0          0.0       en           USA  ...            463.0   \n",
       "1         1.0          0.0       en           USA  ...            463.0   \n",
       "2         1.0          0.0       en           USA  ...            463.0   \n",
       "3         1.0          0.0       en           USA  ...            463.0   \n",
       "4         0.0          1.0       en  New York, NY  ...        9424476.0   \n",
       "\n",
       "   RETWEET_COUNT        SENDER         TIME TWEET_COUNT             TWEET_ID  \\\n",
       "0           51.0  ricardonotes  23:59:54-04           4  1635792903053221889   \n",
       "1            8.0  ricardonotes  00:20:38-05           4  1633986183876280321   \n",
       "2           14.0  ricardonotes  00:31:18-05           4  1632901704155799552   \n",
       "3           10.0  ricardonotes  04:57:36-05           4  1629707229736718336   \n",
       "4           51.0       NBCNews  19:55:44-04          18  1635731458026340360   \n",
       "\n",
       "   politics_accounts  news_accounts  activists_accounts  public_accounts  \n",
       "0                  0              0                   0                1  \n",
       "1                  0              0                   0                1  \n",
       "2                  0              0                   0                1  \n",
       "3                  0              0                   0                1  \n",
       "4                  0              1                   0                0  \n",
       "\n",
       "[5 rows x 21 columns]"
      ]
     },
     "execution_count": 549,
     "metadata": {},
     "output_type": "execute_result"
    }
   ],
   "source": [
    "tweets_data.head()"
   ]
  },
  {
   "cell_type": "code",
   "execution_count": 550,
   "metadata": {},
   "outputs": [],
   "source": [
    "tweets_data.to_csv('dataset3_cleaned.csv', index=False) "
   ]
  }
 ],
 "metadata": {
  "kernelspec": {
   "display_name": "base",
   "language": "python",
   "name": "python3"
  },
  "language_info": {
   "codemirror_mode": {
    "name": "ipython",
    "version": 3
   },
   "file_extension": ".py",
   "mimetype": "text/x-python",
   "name": "python",
   "nbconvert_exporter": "python",
   "pygments_lexer": "ipython3",
   "version": "3.9.13"
  },
  "orig_nbformat": 4,
  "vscode": {
   "interpreter": {
    "hash": "488015edfcf73f8a7a2897a8b9908b59a2c85bc02abb59d26a0d96c647e6602e"
   }
  }
 },
 "nbformat": 4,
 "nbformat_minor": 2
}

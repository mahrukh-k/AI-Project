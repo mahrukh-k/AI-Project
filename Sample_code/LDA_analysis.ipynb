{
 "cells": [
  {
   "attachments": {},
   "cell_type": "markdown",
   "metadata": {},
   "source": [
    "# LDA"
   ]
  },
  {
   "cell_type": "markdown",
   "metadata": {},
   "source": [
    "We'll use NumPy."
   ]
  },
  {
   "cell_type": "code",
   "execution_count": 5,
   "metadata": {},
   "outputs": [],
   "source": [
    "%matplotlib inline\n",
    "import matplotlib.pyplot as plt\n",
    "import numpy as np\n",
    "np.set_printoptions(precision=5, suppress=True)\n",
    "import pandas as pd\n",
    "# data: 20 news groups"
   ]
  },
  {
   "cell_type": "markdown",
   "metadata": {},
   "source": [
    "## Latent Dirichlet Allocation"
   ]
  },
  {
   "cell_type": "markdown",
   "metadata": {},
   "source": [
    "We first load in 10,000 posts from the 20 Newsgroups dataset."
   ]
  },
  {
   "cell_type": "code",
   "execution_count": 11,
   "metadata": {},
   "outputs": [
    {
     "data": {
      "text/plain": [
       "85220"
      ]
     },
     "execution_count": 11,
     "metadata": {},
     "output_type": "execute_result"
    }
   ],
   "source": [
    "tweet_data = pd.read_csv('../data/data_tweet.csv')\n",
    "tweet_data = [i for i in tweet_data.MESSAGE]\n",
    "len(tweet_data)"
   ]
  },
  {
   "cell_type": "code",
   "execution_count": 32,
   "metadata": {},
   "outputs": [],
   "source": [
    "import random\n",
    "sample_size = 10000\n",
    "random.seed(1)\n",
    "# We will use a random sample of 10k tweets to test\n",
    "idx_sample = random.sample(range(len(tweet_data)), sample_size)\n",
    "# sample_data is a list of strings, each string is a tweet. ssample_Data is length 10k\n",
    "sample_data = [tweet_data[i] for i in idx_sample]\n"
   ]
  },
  {
   "cell_type": "markdown",
   "metadata": {},
   "source": [
    "We now fit a `CountVectorizer` model that will compute, for each post, what its raw word count histograms are (the \"term frequencies\" we saw in week 1).\n",
    "\n",
    "The output of the following cell is the term-frequencies matrix, where rows index different posts/text documents, and columns index 1000 different vocabulary words. A note about the arguments to `CountVectorizer`:\n",
    "\n",
    "- `max_df`: we only keep words that appear in at most this fraction of the documents\n",
    "- `min_df`: we only keep words that appear in at least this many documents\n",
    "- `stop_words`: whether to remove stop words\n",
    "- `max_features`: among words that don't get removed due to the above 3 arguments, we keep the top `max_features` number of most frequently occuring words"
   ]
  },
  {
   "cell_type": "code",
   "execution_count": 40,
   "metadata": {},
   "outputs": [],
   "source": [
    "from sklearn.feature_extraction.text import CountVectorizer\n",
    "# We could cap the size of the vocab to vocab_size, right no, we wont\n",
    "vocab_size = 1000\n",
    "\n",
    "\n",
    "# CountVectorizer does tokenization\n",
    "# min_df: words in less than 2 documents, we throw it away\n",
    "# max_df filters for the words were keeping track of:words that show up in more than 95% of document, we throw away, not\n",
    "# semantically interesting; we can use it as an int (50: then every word appearing in omre than 50 docs, goes away)\n",
    "\n",
    "# max_features: here is 1,000: after I do the max_df, min_df and stopwords filetrs, I look at how many words I have left: if its greater than\n",
    "# max_features, I only keep the most popular. BUT, if the words left after the 3 filters is less than max_features, then it will be ignored. \n",
    "# document frequency (df) means number of documents a word appears in\n",
    "\n",
    "# min_df = 2\n",
    "# max_df = 0.95\n",
    "\n",
    "# tf_vectorizer = CountVectorizer(max_df=0.95,\n",
    "#                                 min_df=2,\n",
    "#                                 stop_words='english',\n",
    "#                                 max_features=vocab_size)\n",
    "\n",
    "tf_vectorizer = CountVectorizer(stop_words='english')\n",
    "\n",
    "# tf: term frequency vectorizer\n",
    "\n",
    "# the fitting is learning the vocabulary: goes thru all the data and know the words it needs to keep track of\n",
    "# transform: Ive done the fitting, Ill go back to data points and convert each one into a feat vector representation using the vocab i learnt during fitting\n",
    "tf_fit = tf_vectorizer.fit(sample_data)\n",
    "tf = tf_vectorizer.fit_transform(sample_data)\n"
   ]
  },
  {
   "cell_type": "code",
   "execution_count": 72,
   "metadata": {},
   "outputs": [
    {
     "data": {
      "text/plain": [
       "0"
      ]
     },
     "execution_count": 72,
     "metadata": {},
     "output_type": "execute_result"
    }
   ],
   "source": [
    "tf.toarray()[0, 1]"
   ]
  },
  {
   "cell_type": "code",
   "execution_count": 41,
   "metadata": {},
   "outputs": [
    {
     "data": {
      "text/plain": [
       "(10000, 24428)"
      ]
     },
     "execution_count": 41,
     "metadata": {},
     "output_type": "execute_result"
    }
   ],
   "source": [
    "# size of the matrix (documents, words)\n",
    "tf.toarray().shape"
   ]
  },
  {
   "cell_type": "code",
   "execution_count": 84,
   "metadata": {},
   "outputs": [
    {
     "data": {
      "text/plain": [
       "9"
      ]
     },
     "execution_count": 84,
     "metadata": {},
     "output_type": "execute_result"
    }
   ],
   "source": [
    "# seems like the highest term-doc freq is 9\n",
    "max_freq = np.unique(tf.toarray().flatten()).max()\n",
    "max_freq"
   ]
  },
  {
   "cell_type": "code",
   "execution_count": 85,
   "metadata": {},
   "outputs": [
    {
     "data": {
      "text/plain": [
       "[2928, 10133]"
      ]
     },
     "execution_count": 85,
     "metadata": {},
     "output_type": "execute_result"
    }
   ],
   "source": [
    "# Just for curiosity, I want to know which doc / word combination has highest valeus\n",
    "max_freq_idx = list(np.argwhere(tf.toarray()==max_freq)[0])\n",
    "max_freq_idx"
   ]
  },
  {
   "cell_type": "code",
   "execution_count": 91,
   "metadata": {},
   "outputs": [],
   "source": [
    "max_freq_doc, max_freq_word = max_freq_idx"
   ]
  },
  {
   "cell_type": "code",
   "execution_count": 93,
   "metadata": {},
   "outputs": [
    {
     "data": {
      "text/plain": [
       "'.@PeteButtigieg .@USDOT  https://t.co/Pcmd0P0UC1  https://t.co/wtNJAHW7zK  https://t.co/YGewnSAiCV  https://t.co/ou2hnqIihD  https://t.co/Vi08o8c6hZ  https://t.co/lYLyaxTpj1  https://t.co/XtREO0YrD1  https://t.co/eExsVP6Umb  https://t.co/N9RmZ42oXM'"
      ]
     },
     "execution_count": 93,
     "metadata": {},
     "output_type": "execute_result"
    }
   ],
   "source": [
    "sample_data[max_freq_doc]"
   ]
  },
  {
   "cell_type": "code",
   "execution_count": 95,
   "metadata": {},
   "outputs": [
    {
     "data": {
      "text/plain": [
       "'https'"
      ]
     },
     "execution_count": 95,
     "metadata": {},
     "output_type": "execute_result"
    }
   ],
   "source": [
    "# to print out the vocabulary in the doc-word freq matrix\n",
    "tf_vectorizer.get_feature_names_out()[max_freq_word]\n",
    "\n",
    "# In this case, its https because of a series of links, we should discard urls"
   ]
  },
  {
   "cell_type": "code",
   "execution_count": 96,
   "metadata": {},
   "outputs": [
    {
     "data": {
      "text/plain": [
       "array([ 14, 160,   1, ...,   1,   1,   1])"
      ]
     },
     "execution_count": 96,
     "metadata": {},
     "output_type": "execute_result"
    }
   ],
   "source": [
    "tf.toarray().sum(axis  = 0)"
   ]
  },
  {
   "cell_type": "code",
   "execution_count": 97,
   "metadata": {},
   "outputs": [
    {
     "data": {
      "text/plain": [
       "481"
      ]
     },
     "execution_count": 97,
     "metadata": {},
     "output_type": "execute_result"
    }
   ],
   "source": [
    "(tf[:, tf_fit.vocabulary_['just']].toarray().flatten() > 0).sum()"
   ]
  },
  {
   "cell_type": "code",
   "execution_count": 30,
   "metadata": {},
   "outputs": [
    {
     "data": {
      "text/plain": [
       "array([[1],\n",
       "       [0],\n",
       "       [0],\n",
       "       ...,\n",
       "       [0],\n",
       "       [0],\n",
       "       [0]])"
      ]
     },
     "execution_count": 30,
     "metadata": {},
     "output_type": "execute_result"
    }
   ],
   "source": [
    "tf_fit.vocabulary_['just']  #index for just\n",
    "tf[:, tf_fit.vocabulary_['just']].toarray() # all rows just this one column\n"
   ]
  },
  {
   "cell_type": "code",
   "execution_count": 19,
   "metadata": {},
   "outputs": [
    {
     "data": {
      "text/plain": [
       "2152"
      ]
     },
     "execution_count": 19,
     "metadata": {},
     "output_type": "execute_result"
    }
   ],
   "source": [
    "\n",
    "(tf[:, tf_vectorizer.vocabulary_['just']].toarray().flatten() > 0).sum() # this gives you"
   ]
  },
  {
   "cell_type": "code",
   "execution_count": 26,
   "metadata": {},
   "outputs": [],
   "source": [
    "# tf_vectorizer.vocabulary_ # gives youi index of each word kept in the tf table"
   ]
  },
  {
   "cell_type": "markdown",
   "metadata": {},
   "source": [
    "We can verify that there are 10,000 rows (corresponding to posts), and 1000 columns (corresponding to words)."
   ]
  },
  {
   "cell_type": "code",
   "execution_count": 29,
   "metadata": {},
   "outputs": [
    {
     "data": {
      "text/plain": [
       "(10000, 1000)"
      ]
     },
     "execution_count": 29,
     "metadata": {},
     "output_type": "execute_result"
    }
   ],
   "source": [
    "tf.shape\n",
    "# 10,000 posts\n",
    "# 1,000 words\n"
   ]
  },
  {
   "cell_type": "markdown",
   "metadata": {},
   "source": [
    "A note about the `tf` matrix: this actually is stored as what's called a sparse matrix (rather than a 2D NumPy array that you're more familiar with). The reason is that often these matrices are really large and the vast majority of entries are 0, so it's possible to save space by not storing where the 0's are."
   ]
  },
  {
   "cell_type": "code",
   "execution_count": 30,
   "metadata": {},
   "outputs": [
    {
     "data": {
      "text/plain": [
       "scipy.sparse.csr.csr_matrix"
      ]
     },
     "execution_count": 30,
     "metadata": {},
     "output_type": "execute_result"
    }
   ],
   "source": [
    "type(tf)\n",
    "# this is not a numpy array, but a scipy matrix: keep only the non zero entries of the matrix: stored as a sparse matrix, or ill get a memory error"
   ]
  },
  {
   "cell_type": "markdown",
   "metadata": {},
   "source": [
    " To convert `tf` to a 2D NumPy table, you can run `tf.toarray()` (this does not modify the original `tf` variable)."
   ]
  },
  {
   "cell_type": "code",
   "execution_count": 31,
   "metadata": {},
   "outputs": [
    {
     "data": {
      "text/plain": [
       "numpy.ndarray"
      ]
     },
     "execution_count": 31,
     "metadata": {},
     "output_type": "execute_result"
    }
   ],
   "source": [
    "type(tf.toarray())\n",
    "# here I can covnert into array: a dense matrix, because the shape is not that large"
   ]
  },
  {
   "cell_type": "code",
   "execution_count": 32,
   "metadata": {},
   "outputs": [
    {
     "data": {
      "text/plain": [
       "(10000, 1000)"
      ]
     },
     "execution_count": 32,
     "metadata": {},
     "output_type": "execute_result"
    }
   ],
   "source": [
    "tf.toarray().shape"
   ]
  },
  {
   "cell_type": "markdown",
   "metadata": {},
   "source": [
    "We can figure out what words the different columns correspond to by using the `get_feature_names()` function; the output is in the same order as the column indices. In particular, we can index into the following list (i.e., so given a column index, we can figure out which word it corresponds to)."
   ]
  },
  {
   "cell_type": "code",
   "execution_count": 33,
   "metadata": {
    "scrolled": true
   },
   "outputs": [
    {
     "name": "stdout",
     "output_type": "stream",
     "text": [
      "['00', '000', '02', '03', '04', '0d', '0t', '10', '100', '11', '12', '128', '13', '14', '145', '15', '16', '17', '18', '19', '1990', '1991', '1992', '1993', '1d9', '1st', '1t', '20', '200', '21', '22', '23', '24', '25', '250', '26', '27', '28', '29', '2di', '2tm', '30', '300', '31', '32', '33', '34', '34u', '35', '36', '37', '38', '39', '3d', '3t', '40', '41', '42', '43', '44', '45', '46', '48', '50', '500', '55', '60', '64', '6um', '70', '75', '75u', '7ey', '80', '800', '86', '90', '91', '92', '93', '9v', 'a86', 'ability', 'able', 'ac', 'accept', 'access', 'according', 'act', 'action', 'actually', 'add', 'addition', 'address', 'administration', 'advance', 'age', 'ago', 'agree', 'ah', 'air', 'al', 'algorithm', 'allow', 'allowed', 'alt', 'america', 'american', 'analysis', 'anonymous', 'answer', 'answers', 'anti', 'anybody', 'apparently', 'appears', 'apple', 'application', 'applications', 'appreciate', 'appreciated', 'approach', 'appropriate', 'apr', 'april', 'archive', 'area', 'areas', 'aren', 'argument', 'armenia', 'armenian', 'armenians', 'arms', 'army', 'article', 'articles', 'ask', 'asked', 'asking', 'assume', 'atheism', 'attack', 'attempt', 'au', 'author', 'authority', 'available', 'average', 'avoid', 'away', 'ax', 'b8f', 'bad', 'base', 'based', 'basic', 'basically', 'basis', 'belief', 'believe', 'best', 'better', 'bh', 'bhj', 'bible', 'big', 'bike', 'bit', 'bits', 'bj', 'black', 'block', 'blood', 'board', 'body', 'book', 'books', 'bought', 'box', 'break', 'bring', 'brought', 'btw', 'buf', 'build', 'building', 'built', 'bus', 'business', 'buy', 'bxn', 'ca', 'cable', 'california', 'called', 'calls', 'came', 'canada', 'car', 'card', 'cards', 'care', 'carry', 'cars', 'case', 'cases', 'cause', 'cd', 'center', 'certain', 'certainly', 'chance', 'change', 'changed', 'changes', 'check', 'chicago', 'child', 'children', 'chip', 'chips', 'choice', 'christ', 'christian', 'christianity', 'christians', 'church', 'citizens', 'city', 'claim', 'claims', 'class', 'clear', 'clearly', 'clinton', 'clipper', 'close', 'code', 'color', 'com', 'come', 'comes', 'coming', 'command', 'comments', 'commercial', 'committee', 'common', 'community', 'comp', 'company', 'complete', 'completely', 'computer', 'condition', 'conference', 'congress', 'consider', 'considered', 'contact', 'contains', 'context', 'continue', 'control', 'controller', 'copy', 'correct', 'cost', 'couldn', 'country', 'couple', 'course', 'court', 'cover', 'create', 'created', 'crime', 'cross', 'cs', 'current', 'currently', 'cut', 'cx', 'data', 'date', 'dave', 'david', 'day', 'days', 'db', 'dc', 'dead', 'deal', 'death', 'dec', 'decided', 'defense', 'define', 'deleted', 'department', 'des', 'design', 'designed', 'details', 'development', 'device', 'devices', 'did', 'didn', 'difference', 'different', 'difficult', 'digital', 'directly', 'directory', 'discussion', 'disk', 'display', 'distribution', 'division', 'dod', 'does', 'doesn', 'doing', 'don', 'door', 'dos', 'doubt', 'dr', 'drive', 'driver', 'drivers', 'drives', 'drug', 'early', 'earth', 'easily', 'east', 'easy', 'ed', 'edu', 'effect', 'electronic', 'email', 'encryption', 'end', 'enforcement', 'engine', 'entire', 'entry', 'environment', 'error', 'escrow', 'especially', 'event', 'events', 'evidence', 'exactly', 'example', 'excellent', 'exist', 'existence', 'exists', 'expect', 'experience', 'explain', 'export', 'extra', 'face', 'fact', 'faith', 'false', 'family', 'faq', 'far', 'fast', 'faster', 'father', 'fax', 'fbi', 'features', 'federal', 'feel', 'field', 'figure', 'file', 'files', 'final', 'finally', 'fine', 'firearms', 'floppy', 'folks', 'follow', 'following', 'food', 'force', 'form', 'format', 'free', 'freedom', 'friend', 'ftp', 'function', 'functions', 'future', 'g9v', 'game', 'games', 'gas', 'gave', 'general', 'generally', 'gets', 'getting', 'gif', 'given', 'gives', 'giz', 'gk', 'gm', 'goal', 'god', 'goes', 'going', 'good', 'got', 'gov', 'government', 'graphics', 'great', 'greek', 'ground', 'group', 'groups', 'guess', 'gun', 'guns', 'guy', 'half', 'hand', 'happen', 'happened', 'happens', 'hard', 'hardware', 'haven', 'having', 'head', 'health', 'hear', 'heard', 'held', 'hell', 'help', 'hi', 'high', 'higher', 'history', 'hit', 'hockey', 'hold', 'home', 'hope', 'hours', 'house', 'hp', 'human', 'ibm', 'ide', 'idea', 'ideas', 'ii', 'image', 'images', 'imagine', 'important', 'include', 'included', 'includes', 'including', 'individual', 'info', 'information', 'input', 'inside', 'installed', 'instead', 'insurance', 'int', 'interested', 'interesting', 'interface', 'internal', 'international', 'internet', 'involved', 'isn', 'israel', 'israeli', 'issue', 'issues', 'jesus', 'jewish', 'jews', 'jim', 'job', 'jobs', 'john', 'jpeg', 'just', 'key', 'keyboard', 'keys', 'kill', 'killed', 'kind', 'knew', 'know', 'knowledge', 'known', 'knows', 'la', 'land', 'language', 'large', 'late', 'later', 'law', 'laws', 'league', 'learn', 'leave', 'left', 'legal', 'let', 'letter', 'level', 'library', 'life', 'light', 'like', 'likely', 'limited', 'line', 'lines', 'list', 'little', 'live', 'lives', 'living', 'll', 'local', 'long', 'longer', 'look', 'looked', 'looking', 'looks', 'lord', 'lost', 'lot', 'lots', 'love', 'low', 'lower', 'mac', 'machine', 'machines', 'mail', 'main', 'major', 'make', 'makes', 'making', 'man', 'manager', 'manual', 'mark', 'market', 'mass', 'master', 'material', 'matter', 'max', 'maybe', 'mb', 'mean', 'meaning', 'means', 'media', 'medical', 'members', 'memory', 'men', 'mention', 'mentioned', 'message', 'mike', 'miles', 'military', 'million', 'mind', 'mit', 'mode', 'model', 'modem', 'money', 'monitor', 'month', 'months', 'moral', 'mother', 'motif', 'mouse', 'mr', 'ms', 'multiple', 'nasa', 'national', 'nature', 'near', 'necessary', 'need', 'needed', 'needs', 'net', 'network', 'new', 'news', 'newsgroup', 'nhl', 'nice', 'night', 'non', 'normal', 'note', 'nsa', 'number', 'numbers', 'object', 'obvious', 'obviously', 'offer', 'office', 'official', 'oh', 'ok', 'old', 'ones', 'open', 'opinion', 'opinions', 'orbit', 'order', 'org', 'organization', 'original', 'os', 'output', 'outside', 'package', 'page', 'paper', 'particular', 'parts', 'party', 'past', 'paul', 'pay', 'pc', 'peace', 'people', 'perfect', 'performance', 'period', 'person', 'personal', 'phone', 'pick', 'picture', 'pin', 'pittsburgh', 'pl', 'place', 'places', 'plan', 'play', 'played', 'player', 'players', 'plus', 'point', 'points', 'police', 'policy', 'political', 'population', 'port', 'position', 'possible', 'possibly', 'post', 'posted', 'posting', 'power', 'pp', 'present', 'president', 'press', 'pretty', 'previous', 'price', 'printer', 'privacy', 'private', 'pro', 'probably', 'problem', 'problems', 'process', 'product', 'program', 'programs', 'project', 'protect', 'provide', 'provides', 'pub', 'public', 'published', 'purpose', 'qq', 'quality', 'question', 'questions', 'quite', 'radio', 'ram', 'range', 'rate', 'read', 'reading', 'real', 'really', 'reason', 'reasonable', 'reasons', 'received', 'recent', 'recently', 'record', 'red', 'reference', 'regular', 'related', 'release', 'religion', 'religious', 'remember', 'reply', 'report', 'reports', 'request', 'require', 'required', 'requires', 'research', 'resources', 'response', 'rest', 'result', 'results', 'return', 'right', 'rights', 'road', 'rom', 'room', 'round', 'rules', 'run', 'running', 'runs', 'russian', 'safety', 'said', 'sale', 'san', 'save', 'saw', 'say', 'saying', 'says', 'school', 'sci', 'science', 'scientific', 'screen', 'scsi', 'search', 'season', 'second', 'secret', 'section', 'secure', 'security', 'seen', 'self', 'sell', 'send', 'sense', 'sent', 'serial', 'series', 'server', 'service', 'set', 'shall', 'shipping', 'short', 'shot', 'shuttle', 'similar', 'simple', 'simply', 'sin', 'single', 'site', 'sites', 'situation', 'size', 'small', 'society', 'software', 'solution', 'son', 'soon', 'sorry', 'sort', 'sound', 'sounds', 'source', 'sources', 'south', 'soviet', 'space', 'special', 'specific', 'speed', 'spirit', 'st', 'standard', 'start', 'started', 'state', 'statement', 'states', 'station', 'stephanopoulos', 'steve', 'stop', 'story', 'stream', 'street', 'strong', 'study', 'stuff', 'subject', 'suggest', 'sun', 'support', 'supports', 'supposed', 'sure', 'systems', 'taken', 'takes', 'taking', 'talk', 'talking', 'tape', 'tar', 'tax', 'team', 'teams', 'technical', 'technology', 'tell', 'term', 'terms', 'test', 'text', 'thank', 'thanks', 'theory', 'thing', 'things', 'think', 'thinking', 'thought', 'time', 'times', 'title', 'tm', 'today', 'told', 'took', 'tools', 'total', 'trade', 'transfer', 'tried', 'true', 'truth', 'try', 'trying', 'turkey', 'turkish', 'turn', 'tv', 'type', 'uk', 'understand', 'unfortunately', 'unit', 'united', 'university', 'unix', 'unless', 'usa', 'use', 'used', 'useful', 'usenet', 'user', 'users', 'uses', 'using', 'usually', 'value', 'values', 'van', 'various', 've', 'version', 'vga', 'video', 'view', 'voice', 'volume', 'vs', 'wait', 'want', 'wanted', 'wants', 'war', 'washington', 'wasn', 'watch', 'water', 'way', 'ways', 'weapons', 'week', 'weeks', 'went', 'white', 'wide', 'widget', 'willing', 'win', 'window', 'windows', 'wish', 'wm', 'women', 'won', 'word', 'words', 'work', 'worked', 'working', 'works', 'world', 'worth', 'wouldn', 'write', 'writing', 'written', 'wrong', 'wrote', 'x11', 'xt', 'year', 'years', 'yes', 'york', 'young']\n"
     ]
    }
   ],
   "source": [
    "print(tf_vectorizer.get_feature_names())\n",
    "# this will print out the vocabulary, here 1,000 words, sorted alphabetically"
   ]
  },
  {
   "cell_type": "markdown",
   "metadata": {},
   "source": [
    "We can also go in reverse: given a word, we can figure out which column index it corresponds to. To do this, we use the `vocabulary_` attribute."
   ]
  },
  {
   "cell_type": "code",
   "execution_count": 34,
   "metadata": {},
   "outputs": [
    {
     "data": {
      "text/plain": [
       "199"
      ]
     },
     "execution_count": 34,
     "metadata": {},
     "output_type": "execute_result"
    }
   ],
   "source": [
    "tf_vectorizer.vocabulary_['car']\n",
    "# .vocabulary_ get the word index in the vocabulary\n",
    "# IN OTHER WORDS: what column do I have to look at to find the word car"
   ]
  },
  {
   "cell_type": "markdown",
   "metadata": {},
   "source": [
    "We can figure out what the raw counts are for the 0-th post as follows."
   ]
  },
  {
   "cell_type": "code",
   "execution_count": 35,
   "metadata": {},
   "outputs": [
    {
     "data": {
      "text/plain": [
       "(10000, 1000)"
      ]
     },
     "execution_count": 35,
     "metadata": {},
     "output_type": "execute_result"
    }
   ],
   "source": [
    "tf.toarray().shape"
   ]
  },
  {
   "cell_type": "code",
   "execution_count": 62,
   "metadata": {},
   "outputs": [
    {
     "data": {
      "text/plain": [
       "array([[0, 0, 0, 0, 0, 0, 0, 0, 0, 0, 0, 0, 0, 0, 0, 0, 1, 0, 0, 0, 0, 0,\n",
       "        0, 0, 0, 0, 0, 0, 0, 0, 0, 0, 0, 0, 0, 0, 0, 0, 0, 0, 0, 0, 0, 0,\n",
       "        0, 0, 0, 0, 0, 0, 0, 0, 0, 0, 0, 0, 0, 0, 0, 0, 0, 0, 0, 0, 0, 0,\n",
       "        0, 0, 0, 0, 0, 0, 0, 0, 0, 0, 0, 0, 0, 0, 0, 0, 0, 0, 0, 0, 0, 0,\n",
       "        0, 0, 0, 0, 0, 0, 0, 0, 0, 0, 0, 0, 0, 0, 0, 0, 0, 0, 0, 1, 0, 0,\n",
       "        0, 0, 0, 0, 0, 0, 0, 0, 0, 0, 0, 0, 0, 0, 0, 0, 0, 0, 1, 0, 0, 0,\n",
       "        0, 0, 0, 0, 0, 0, 0, 0, 0, 0, 0, 0, 0, 0, 0, 0, 0, 0, 0, 0, 0, 0,\n",
       "        0, 0, 0, 0, 0, 0, 3, 0, 0, 0, 0, 0, 1, 0, 0, 0, 0, 0, 0, 0, 0, 0,\n",
       "        0, 0, 0, 0, 0, 0, 0, 0, 0, 0, 0, 0, 0, 0, 0, 0, 0, 0, 0, 0, 0, 0,\n",
       "        0, 0, 0, 0, 0, 0, 0, 0, 1, 0, 0, 0, 0, 0, 0, 0, 0, 0, 0, 0, 0, 0,\n",
       "        0, 0, 0, 2, 3, 0, 0, 2, 0, 0, 0, 0, 0, 0, 0, 0, 0, 0, 0, 0, 0, 0,\n",
       "        0, 0, 0, 0, 0, 0, 0, 0, 0, 0, 0, 0, 0, 0, 0, 0, 0, 0, 0, 0, 0, 0,\n",
       "        0, 0, 0, 0, 0, 0, 0, 1, 0, 0, 0, 0, 0, 0, 0, 0, 0, 0, 0, 0, 0, 0,\n",
       "        0, 0, 0, 0, 0, 0, 0, 0, 0, 0, 0, 0, 0, 0, 0, 0, 0, 0, 0, 0, 0, 0,\n",
       "        0, 0, 0, 0, 0, 0, 0, 0, 0, 0, 0, 0, 0, 0, 1, 0, 0, 1, 0, 0, 0, 0,\n",
       "        0, 0, 0, 0, 0, 0, 0, 0, 0, 0, 0, 0, 0, 0, 0, 0, 0, 0, 0, 0, 0, 0,\n",
       "        0, 0, 0, 0, 0, 0, 0, 0, 0, 0, 0, 0, 0, 1, 0, 0, 0, 0, 2, 0, 0, 0,\n",
       "        0, 0, 0, 0, 0, 0, 0, 0, 0, 0, 0, 0, 0, 0, 0, 0, 0, 0, 0, 0, 0, 1,\n",
       "        0, 0, 0, 0, 0, 0, 0, 0, 0, 0, 0, 0, 0, 0, 0, 0, 0, 1, 0, 0, 0, 0,\n",
       "        0, 0, 0, 0, 0, 2, 0, 0, 0, 0, 0, 0, 0, 0, 0, 0, 0, 1, 0, 0, 0, 0,\n",
       "        0, 0, 0, 0, 0, 1, 0, 0, 0, 0, 0, 0, 1, 2, 0, 0, 0, 0, 0, 0, 0, 0,\n",
       "        0, 0, 0, 0, 0, 0, 0, 0, 0, 0, 0, 0, 0, 0, 0, 0, 0, 0, 0, 1, 0, 0,\n",
       "        0, 0, 0, 0, 0, 0, 0, 0, 0, 0, 0, 0, 0, 0, 0, 0, 0, 0, 0, 0, 0, 0,\n",
       "        0, 0, 0, 0, 0, 1, 0, 0, 0, 0, 0, 0, 0, 1, 0, 1, 0, 0, 0, 0, 0, 0,\n",
       "        0, 0, 0, 0, 0, 0, 0, 0, 0, 0, 0, 0, 0, 0, 0, 1, 0, 0, 0, 0, 0, 0,\n",
       "        0, 0, 0, 0, 0, 0, 0, 0, 0, 0, 0, 0, 0, 0, 0, 0, 0, 0, 0, 0, 0, 0,\n",
       "        0, 0, 0, 0, 0, 0, 0, 1, 0, 0, 0, 0, 0, 0, 0, 0, 1, 1, 0, 0, 0, 0,\n",
       "        0, 0, 0, 0, 1, 0, 0, 0, 0, 0, 0, 0, 0, 0, 0, 0, 0, 0, 0, 0, 0, 0,\n",
       "        0, 0, 0, 0, 0, 0, 0, 0, 0, 0, 0, 0, 0, 0, 0, 0, 0, 0, 0, 1, 0, 0,\n",
       "        0, 0, 0, 0, 0, 0, 0, 0, 0, 0, 0, 0, 0, 0, 0, 0, 0, 1, 0, 0, 0, 0,\n",
       "        0, 0, 0, 0, 0, 0, 0, 0, 0, 0, 0, 0, 0, 0, 0, 0, 0, 0, 0, 0, 0, 0,\n",
       "        0, 0, 0, 0, 0, 0, 0, 0, 0, 0, 0, 1, 0, 0, 0, 0, 0, 0, 1, 0, 0, 0,\n",
       "        0, 0, 0, 0, 0, 0, 0, 1, 0, 0, 0, 0, 0, 0, 1, 0, 0, 0, 0, 0, 0, 0,\n",
       "        0, 0, 0, 0, 0, 0, 0, 0, 0, 0, 0, 0, 0, 0, 0, 0, 0, 0, 0, 0, 0, 0,\n",
       "        0, 0, 0, 0, 0, 0, 0, 0, 0, 0, 0, 0, 0, 0, 0, 0, 0, 0, 0, 0, 0, 0,\n",
       "        0, 0, 0, 0, 0, 0, 0, 0, 0, 0, 0, 0, 0, 0, 0, 0, 0, 0, 0, 0, 0, 0,\n",
       "        0, 0, 0, 0, 0, 0, 0, 0, 0, 0, 0, 1, 0, 0, 0, 0, 0, 0, 0, 0, 0, 0,\n",
       "        0, 0, 0, 0, 0, 0, 0, 0, 0, 0, 0, 0, 0, 0, 0, 0, 0, 0, 0, 0, 0, 0,\n",
       "        0, 0, 0, 0, 0, 0, 0, 0, 0, 0, 0, 0, 0, 0, 0, 2, 0, 0, 0, 0, 0, 0,\n",
       "        0, 0, 0, 0, 0, 0, 0, 0, 0, 0, 0, 0, 0, 0, 0, 0, 0, 1, 0, 0, 0, 0,\n",
       "        0, 0, 0, 0, 0, 0, 0, 0, 0, 0, 0, 0, 0, 0, 0, 0, 0, 0, 0, 1, 1, 0,\n",
       "        0, 0, 0, 0, 0, 0, 0, 0, 0, 0, 0, 0, 0, 0, 0, 0, 0, 0, 0, 0, 0, 0,\n",
       "        0, 0, 0, 0, 0, 0, 0, 0, 0, 0, 0, 0, 0, 0, 0, 0, 1, 0, 0, 0, 0, 2,\n",
       "        0, 0, 0, 0, 0, 0, 0, 0, 0, 0, 0, 0, 0, 0, 0, 0, 0, 0, 0, 0, 0, 0,\n",
       "        0, 0, 0, 0, 0, 0, 0, 0, 0, 0, 0, 0, 0, 0, 0, 0, 0, 0, 0, 0, 0, 0,\n",
       "        0, 0, 0, 0, 0, 0, 0, 0, 0, 0]])"
      ]
     },
     "execution_count": 62,
     "metadata": {},
     "output_type": "execute_result"
    }
   ],
   "source": [
    "tf[0].toarray()\n",
    "\n",
    "# I can index in to the zeroeth row of the matrix and convert into an array, I am anazlizing just the zeroeth row:\n",
    "# feature vector representation for the zeroeth document: \n",
    "# We should be able to write code to know what word corresponds each non zero number there\n",
    "\n",
    "# tf_vectorizer.get_feature_names_out()[(tf[0].toarray() != 0)[0]] # LIKE THIS!\n",
    "\n",
    "# run a for loop that goes thru the entries, and check to which indeces this corresponds in the vocabulary"
   ]
  },
  {
   "cell_type": "markdown",
   "metadata": {},
   "source": [
    "We now fit an LDA model to the data."
   ]
  },
  {
   "cell_type": "code",
   "execution_count": 98,
   "metadata": {},
   "outputs": [
    {
     "data": {
      "text/plain": [
       "LatentDirichletAllocation(random_state=0)"
      ]
     },
     "execution_count": 98,
     "metadata": {},
     "output_type": "execute_result"
    }
   ],
   "source": [
    "# Now LDA. This will take a while ong\n",
    "\n",
    "num_topics = 10\n",
    "\n",
    "from sklearn.decomposition import LatentDirichletAllocation\n",
    "lda = LatentDirichletAllocation(n_components=num_topics, random_state=0)\n",
    "lda.fit(tf)"
   ]
  },
  {
   "cell_type": "markdown",
   "metadata": {},
   "source": [
    "The fitting procedure determines the every topic's distribution over words; this information is stored in the `components_` attribute. There's a catch: we actually have to normalize to get the probability distributions (without this normalization, instead what the model has are pseudocounts for how often different words appear per topic)."
   ]
  },
  {
   "cell_type": "code",
   "execution_count": 99,
   "metadata": {},
   "outputs": [
    {
     "data": {
      "text/plain": [
       "(10, 24428)"
      ]
     },
     "execution_count": 99,
     "metadata": {},
     "output_type": "execute_result"
    }
   ],
   "source": [
    "lda.components_.shape\n",
    "# The shaope of this is 10 by 1000, 10 topics and 1000 words\n",
    "# These are not probability distributions yet"
   ]
  },
  {
   "cell_type": "code",
   "execution_count": 100,
   "metadata": {},
   "outputs": [
    {
     "data": {
      "text/plain": [
       "array([11195.4563 , 27160.46984,  7040.50713, 38120.26235,  9753.10297,\n",
       "       19455.98816, 45644.04557,  6173.44469, 21615.8956 ,  8691.82738])"
      ]
     },
     "execution_count": 100,
     "metadata": {},
     "output_type": "execute_result"
    }
   ],
   "source": [
    "# If we access: sum ACROSS COLUMNS (get rid of columns), I get 10 numbers: a sum for each row.\n",
    "# They dont sum uop to 1, because not probability distributions\n",
    "\n",
    "# .components_ is a raw count histogram, but why are there fractions?\n",
    "# Because of how it works: when it estimates how much a word belongs to a topic it does a prob assignment, not a deterministic assignment.\n",
    "lda.components_.sum(axis=1)"
   ]
  },
  {
   "cell_type": "code",
   "execution_count": 101,
   "metadata": {},
   "outputs": [],
   "source": [
    "topic_word_distributions = np.array([row / row.sum() for row in lda.components_])\n",
    "# We can get the proba distributions: take each row and divide by sum, then we get what was in the purple box in the lecture slide:\n",
    "# "
   ]
  },
  {
   "cell_type": "code",
   "execution_count": 102,
   "metadata": {},
   "outputs": [
    {
     "data": {
      "text/plain": [
       "(10, 24428)"
      ]
     },
     "execution_count": 102,
     "metadata": {},
     "output_type": "execute_result"
    }
   ],
   "source": [
    "topic_word_distributions.shape"
   ]
  },
  {
   "cell_type": "markdown",
   "metadata": {},
   "source": [
    "We can verify that each topic's word distribution sums to 1."
   ]
  },
  {
   "cell_type": "code",
   "execution_count": 103,
   "metadata": {},
   "outputs": [
    {
     "data": {
      "text/plain": [
       "array([1., 1., 1., 1., 1., 1., 1., 1., 1., 1.])"
      ]
     },
     "execution_count": 103,
     "metadata": {},
     "output_type": "execute_result"
    }
   ],
   "source": [
    "topic_word_distributions.sum(axis=1)\n",
    "# then we have distributions: every row sums to 1"
   ]
  },
  {
   "cell_type": "markdown",
   "metadata": {},
   "source": [
    "We can also print out what the probabilities for the different words are for a specific topic. This isn't very easy to interpret."
   ]
  },
  {
   "cell_type": "code",
   "execution_count": 104,
   "metadata": {},
   "outputs": [
    {
     "name": "stdout",
     "output_type": "stream",
     "text": [
      "[0.00001 0.00076 0.00001 ... 0.00001 0.00001 0.00001]\n"
     ]
    }
   ],
   "source": [
    "print(topic_word_distributions[0])\n",
    "# lets look at 0th topic, it is saying that the 0th word appears 0.00011, word 1 appears with prob 0.00191\n",
    "# Lets view the data differently to interpret"
   ]
  },
  {
   "cell_type": "markdown",
   "metadata": {},
   "source": [
    "Instead, usually people do something like looking at the most probable words per topic, and try to use these words to interpret what the different topics correspond to."
   ]
  },
  {
   "cell_type": "code",
   "execution_count": 105,
   "metadata": {},
   "outputs": [
    {
     "name": "stdout",
     "output_type": "stream",
     "text": [
      "Displaying the top 20 words per topic and their probabilities within the topic...\n",
      "\n",
      "[Topic 0]\n",
      "train : 0.03900419108429311\n",
      "trump : 0.01670389830392513\n",
      "norfolk : 0.016593942511273753\n",
      "rule : 0.015305114745579076\n",
      "southern : 0.014689840597688082\n",
      "safety : 0.013711905183600881\n",
      "palestine : 0.011267655317089958\n",
      "east : 0.011222818386540717\n",
      "high : 0.011118344749139721\n",
      "derailed : 0.009938834211474727\n",
      "trains : 0.00979381173460878\n",
      "brakes : 0.008859410256293512\n",
      "hazard : 0.008405194182615983\n",
      "applied : 0.008047905000539188\n",
      "https : 0.008041711285560225\n",
      "braking : 0.0073332319111626635\n",
      "flammable : 0.007244007434723803\n",
      "did : 0.007239572083849756\n",
      "regulations : 0.006655838787030816\n",
      "obama : 0.006557849072726061\n",
      "\n",
      "[Topic 1]\n",
      "https : 0.04733199969237484\n",
      "train : 0.036661116653540805\n",
      "ohio : 0.03289153538167326\n",
      "palestine : 0.029080629238647602\n",
      "east : 0.02889409588010106\n",
      "derailment : 0.02617556856250804\n",
      "rt : 0.018812359747693186\n",
      "toxic : 0.01003884839154717\n",
      "chemicals : 0.008870662690303673\n",
      "derailed : 0.008746685107385433\n",
      "residents : 0.006349216074252337\n",
      "chloride : 0.0060343470942986555\n",
      "norfolk : 0.005866803887472793\n",
      "buttigieg : 0.0057284855413194296\n",
      "vinyl : 0.005545188186558061\n",
      "southern : 0.005438622943810829\n",
      "transportation : 0.005141688277624711\n",
      "disaster : 0.0049044110870967595\n",
      "pete : 0.004479530943938994\n",
      "safety : 0.004331565880759413\n",
      "\n",
      "[Topic 2]\n",
      "https : 0.03736320412184474\n",
      "white : 0.011975375083045836\n",
      "movie : 0.009279718491339529\n",
      "noise : 0.008536312877353356\n",
      "just : 0.006961146617336604\n",
      "ohio : 0.006701837118439316\n",
      "rail : 0.006313091375536358\n",
      "2022 : 0.005999982864728885\n",
      "push : 0.005543421534735389\n",
      "pr : 0.00526277831045956\n",
      "netflix : 0.005127469192253787\n",
      "train : 0.0050505734598895345\n",
      "firms : 0.0047013645548431415\n",
      "dollar : 0.0044156288376727545\n",
      "town : 0.004088980457845335\n",
      "crash : 0.0038147670383209898\n",
      "multimillion : 0.003707118434096775\n",
      "film : 0.0035650759630952624\n",
      "illusion : 0.0034230486324197664\n",
      "crafting : 0.0034230486324197664\n",
      "\n",
      "[Topic 3]\n",
      "palestine : 0.05383123901215764\n",
      "east : 0.05319121194173572\n",
      "https : 0.041952964120878136\n",
      "train : 0.03333103983338777\n",
      "derailment : 0.031333422410012225\n",
      "ohio : 0.023817430037161007\n",
      "rt : 0.01690259625345103\n",
      "toxic : 0.010042677620421358\n",
      "biden : 0.009060523946576266\n",
      "water : 0.008477952952472084\n",
      "people : 0.00715247988204134\n",
      "residents : 0.0063865017416713694\n",
      "epa : 0.006236445591620003\n",
      "disaster : 0.006066518593833289\n",
      "waste : 0.003622016926673891\n",
      "site : 0.003400604269751769\n",
      "news : 0.0033869230198627816\n",
      "chemical : 0.0033595406151718777\n",
      "visit : 0.0033435772497302898\n",
      "dewine : 0.0032783756985386913\n",
      "\n",
      "[Topic 4]\n",
      "east : 0.028235651141003692\n",
      "palestine : 0.02785511941150596\n",
      "https : 0.023364618177259266\n",
      "derailment : 0.02275395594273944\n",
      "train : 0.018038451265791403\n",
      "trump : 0.013935271913910561\n",
      "ohio : 0.012750533625236407\n",
      "rt : 0.012534924125500582\n",
      "water : 0.007590786705422971\n",
      "buttigieg : 0.006592771676704987\n",
      "safety : 0.005651169052184352\n",
      "regulations : 0.005615022137866579\n",
      "ntsb : 0.004792704243776266\n",
      "chair : 0.004699066927523753\n",
      "president : 0.004313023261009096\n",
      "exclusive : 0.00421630717100751\n",
      "homendy : 0.0034865725017704445\n",
      "biden : 0.0034293328983587058\n",
      "delivers : 0.0033937906932601835\n",
      "million : 0.0033123893826832672\n",
      "\n",
      "[Topic 5]\n",
      "https : 0.043529723716007045\n",
      "train : 0.024894976829204857\n",
      "trump : 0.02254969413659507\n",
      "palestine : 0.022360851633672744\n",
      "east : 0.02220560777870229\n",
      "rt : 0.012502930546710592\n",
      "ohio : 0.011865098248484278\n",
      "derailment : 0.010962474781412912\n",
      "biden : 0.009570418373338574\n",
      "president : 0.007878505777301145\n",
      "disaster : 0.006502891408389531\n",
      "toxic : 0.00541304289886928\n",
      "wreck : 0.005329544090468951\n",
      "visit : 0.005241167529479783\n",
      "norfolk : 0.004841475342092454\n",
      "going : 0.004037197555608353\n",
      "railroad : 0.0039852604126184975\n",
      "gop : 0.003863324732277726\n",
      "southern : 0.0036012197045270375\n",
      "safety : 0.0035305075505897743\n",
      "\n",
      "[Topic 6]\n",
      "norfolk : 0.08071068758333863\n",
      "southern : 0.07933257044851637\n",
      "https : 0.06176989795764157\n",
      "train : 0.05821752718456137\n",
      "ohio : 0.03390369167199868\n",
      "derailment : 0.02952318885889635\n",
      "rt : 0.014546432485485069\n",
      "derails : 0.013826556038583933\n",
      "ceo : 0.012416249601946962\n",
      "derailed : 0.009696324537267983\n",
      "company : 0.007648338286162112\n",
      "alabama : 0.00602707271980452\n",
      "safety : 0.0058736940418024205\n",
      "cars : 0.005648011226999031\n",
      "springfield : 0.005325918442082889\n",
      "toxic : 0.005233939995722004\n",
      "senate : 0.0048555637468804345\n",
      "pay : 0.004514407464416007\n",
      "railroad : 0.004244894683185685\n",
      "congress : 0.004240545554756627\n",
      "\n",
      "[Topic 7]\n",
      "https : 0.013718513531922482\n",
      "train : 0.008984326444317238\n",
      "palestine : 0.008892967132440874\n",
      "east : 0.0085574772744937\n",
      "rt : 0.008423587204249256\n",
      "general : 0.006578017726473999\n",
      "like : 0.0061916397147636\n",
      "attorney : 0.005981828017740981\n",
      "derailment : 0.0056393142787763365\n",
      "ohio : 0.005143650657743223\n",
      "hazardous : 0.004169033299549682\n",
      "carrying : 0.003500351592914485\n",
      "disaster : 0.003368882983417334\n",
      "safety : 0.003104970671163099\n",
      "heart : 0.0030969728747079132\n",
      "likely : 0.003064011459187609\n",
      "yost : 0.002917751060924943\n",
      "close : 0.0029132463486402547\n",
      "time : 0.0025938314179760804\n",
      "just : 0.0023973639576867346\n",
      "\n",
      "[Topic 8]\n",
      "https : 0.044529233549552544\n",
      "train : 0.03367604529542099\n",
      "east : 0.03291992716371933\n",
      "palestine : 0.032862613512038334\n",
      "rt : 0.032249237664169726\n",
      "derailment : 0.031321206857555954\n",
      "ohio : 0.020655311682729965\n",
      "toxic : 0.010247012830800277\n",
      "chemicals : 0.007698852257105798\n",
      "animals : 0.005827079678833713\n",
      "residents : 0.005666412735813393\n",
      "sick : 0.004308964755980099\n",
      "site : 0.003985598484190235\n",
      "town : 0.0038715360971398995\n",
      "hazardous : 0.003867098389105525\n",
      "norfolk : 0.0038593520509728843\n",
      "said : 0.0035532483746320382\n",
      "chemical : 0.003535168942445766\n",
      "workers : 0.0034810657997848085\n",
      "000 : 0.0033135933720678714\n",
      "\n",
      "[Topic 9]\n",
      "https : 0.02066849800933438\n",
      "palestine : 0.018035617102557997\n",
      "east : 0.017953707205049605\n",
      "train : 0.014666388367531535\n",
      "trump : 0.010684007555522507\n",
      "derailment : 0.010103855616027339\n",
      "people : 0.009558735780689952\n",
      "gop : 0.008197416060776242\n",
      "ohio : 0.007785283032904121\n",
      "disaster : 0.006902563394550623\n",
      "toxic : 0.0065288575992143195\n",
      "like : 0.006223564491467052\n",
      "rt : 0.0051847242451631\n",
      "buttigieg : 0.004832099243694558\n",
      "just : 0.004625898936275938\n",
      "residents : 0.004237789962776629\n",
      "help : 0.0041189730128448655\n",
      "chemicals : 0.0039925749589232295\n",
      "pete : 0.0035957041535295328\n",
      "experts : 0.0031730501989690497\n",
      "\n"
     ]
    },
    {
     "name": "stderr",
     "output_type": "stream",
     "text": [
      "/Users/ribarragi/miniconda3/envs/Intro_AI/lib/python3.9/site-packages/sklearn/utils/deprecation.py:87: FutureWarning: Function get_feature_names is deprecated; get_feature_names is deprecated in 1.0 and will be removed in 1.2. Please use get_feature_names_out instead.\n",
      "  warnings.warn(msg, category=FutureWarning)\n"
     ]
    }
   ],
   "source": [
    "# we can sort the probability by big to small\n",
    "# for each topic, listing top 20 most popular words (by probability)\n",
    "\n",
    "num_top_words = 20\n",
    "\n",
    "def print_top_words(topic_word_distributions, num_top_words, vectorizer):\n",
    "    vocab = vectorizer.get_feature_names()\n",
    "    num_topics = len(topic_word_distributions)\n",
    "    print('Displaying the top %d words per topic and their probabilities within the topic...' % num_top_words)\n",
    "    print()\n",
    "\n",
    "    for topic_idx in range(num_topics):\n",
    "        print('[Topic ', topic_idx, ']', sep='')\n",
    "        # This is the interesting part: take the topic_word_distributions only for the topic_idxth topic, and get the indexes sorted from highest to lowest\n",
    "        sort_indices = np.argsort(-topic_word_distributions[topic_idx])\n",
    "        # then for the range 0,num_words, print the vocab of each of the words and its entry in the topic_word_distribution matrix\n",
    "        for rank in range(num_top_words):\n",
    "            word_idx = sort_indices[rank]\n",
    "            print(vocab[word_idx], ':',\n",
    "                  topic_word_distributions[topic_idx, word_idx])\n",
    "        print()\n",
    "\n",
    "print_top_words(topic_word_distributions, num_top_words, tf_vectorizer)"
   ]
  },
  {
   "cell_type": "markdown",
   "metadata": {},
   "source": [
    "We can use the `transform()` function to figure out for each document, what fraction of it is explained by each of the topics."
   ]
  },
  {
   "cell_type": "code",
   "execution_count": 106,
   "metadata": {},
   "outputs": [],
   "source": [
    "doc_topic_matrix = lda.transform(tf)\n",
    "# Ill get a low dimensional version of the data, the document topic matrix (10, 10)\n",
    "# each of the 10,000 represented as a distribution over 10 different topics"
   ]
  },
  {
   "cell_type": "code",
   "execution_count": 107,
   "metadata": {},
   "outputs": [
    {
     "data": {
      "text/plain": [
       "(10000, 10)"
      ]
     },
     "execution_count": 107,
     "metadata": {},
     "output_type": "execute_result"
    }
   ],
   "source": [
    "doc_topic_matrix.shape"
   ]
  },
  {
   "cell_type": "code",
   "execution_count": 108,
   "metadata": {},
   "outputs": [
    {
     "data": {
      "text/plain": [
       "array([0.00714, 0.00714, 0.00714, 0.93571, 0.00714, 0.00714, 0.00714,\n",
       "       0.00714, 0.00714, 0.00714])"
      ]
     },
     "execution_count": 108,
     "metadata": {},
     "output_type": "execute_result"
    }
   ],
   "source": [
    "# The topic distribution of the 0th document is very small except for 0.96288 fior index 7\n",
    "# We saw from above, topic 7 is about religion, and we can check that document 0 is about religion\n",
    "doc_topic_matrix[0]\n",
    "\n",
    "\n",
    "# Note: for GMM when you do the .predict, itll give you k probabilites that sum to 1. \n",
    "# predict_proba of GMM \n",
    "# here: ... gives you a proba distr:\n",
    "# INTERPRETARATION DIFFERENT\n",
    "\n",
    "# FOR LDA: document can consist of a bunch of words, and different fraction of the words are truly in different topics: we get mixed membership, words are allowed to e in different topics\n",
    "# GMM: the above doesnt hold"
   ]
  },
  {
   "cell_type": "code",
   "execution_count": 109,
   "metadata": {},
   "outputs": [
    {
     "data": {
      "text/plain": [
       "0.9999999999999999"
      ]
     },
     "execution_count": 109,
     "metadata": {},
     "output_type": "execute_result"
    }
   ],
   "source": [
    "doc_topic_matrix[0].sum()"
   ]
  },
  {
   "cell_type": "markdown",
   "metadata": {},
   "source": [
    "Note that this *could* be interpreted as a form of dimensionality reduction: document 0 is converted from its raw counts histogram representation to a 10-dimensional vector of probabilities, indicating estimated memberships to the 10 different topics."
   ]
  },
  {
   "cell_type": "markdown",
   "metadata": {},
   "source": [
    "## Word clouds\n",
    "\n",
    "Here's a fancier way to visualize. This requires installation of the wordcloud package:\n",
    "\n",
    "```\n",
    "pip install wordcloud\n",
    "```"
   ]
  },
  {
   "cell_type": "code",
   "execution_count": null,
   "metadata": {},
   "outputs": [
    {
     "ename": "ModuleNotFoundError",
     "evalue": "No module named 'wordcloud'",
     "output_type": "error",
     "traceback": [
      "\u001b[0;31m---------------------------------------------------------------------------\u001b[0m",
      "\u001b[0;31mModuleNotFoundError\u001b[0m                       Traceback (most recent call last)",
      "\u001b[0;32m/var/folders/yv/9jkc42cj01gb_08dbbq9fcnw0000gn/T/ipykernel_53404/2357757354.py\u001b[0m in \u001b[0;36m<module>\u001b[0;34m\u001b[0m\n\u001b[0;32m----> 1\u001b[0;31m \u001b[0;32mfrom\u001b[0m \u001b[0mwordcloud\u001b[0m \u001b[0;32mimport\u001b[0m \u001b[0mWordCloud\u001b[0m\u001b[0;34m\u001b[0m\u001b[0;34m\u001b[0m\u001b[0m\n\u001b[0m\u001b[1;32m      2\u001b[0m \u001b[0;34m\u001b[0m\u001b[0m\n\u001b[1;32m      3\u001b[0m \u001b[0mnum_max_word_cloud_words\u001b[0m \u001b[0;34m=\u001b[0m \u001b[0;36m100\u001b[0m\u001b[0;34m\u001b[0m\u001b[0;34m\u001b[0m\u001b[0m\n\u001b[1;32m      4\u001b[0m \u001b[0;34m\u001b[0m\u001b[0m\n\u001b[1;32m      5\u001b[0m \u001b[0mvocab\u001b[0m \u001b[0;34m=\u001b[0m \u001b[0mtf_vectorizer\u001b[0m\u001b[0;34m.\u001b[0m\u001b[0mget_feature_names\u001b[0m\u001b[0;34m(\u001b[0m\u001b[0;34m)\u001b[0m\u001b[0;34m\u001b[0m\u001b[0;34m\u001b[0m\u001b[0m\n",
      "\u001b[0;31mModuleNotFoundError\u001b[0m: No module named 'wordcloud'"
     ]
    }
   ],
   "source": [
    "from wordcloud import WordCloud\n",
    "\n",
    "num_max_word_cloud_words = 100\n",
    "\n",
    "vocab = tf_vectorizer.get_feature_names()\n",
    "num_topics = len(topic_word_distributions)\n",
    "\n",
    "for topic_idx in range(num_topics):\n",
    "    wc = WordCloud(max_words=num_max_word_cloud_words)\n",
    "    wc.generate_from_frequencies(dict(zip(vocab, topic_word_distributions[topic_idx])))\n",
    "    plt.figure()\n",
    "    plt.imshow(wc, interpolation='bilinear')\n",
    "    plt.title('Topic %d' % topic_idx)"
   ]
  },
  {
   "cell_type": "markdown",
   "metadata": {},
   "source": [
    "## Computing co-occurrences of words\n",
    "\n",
    "Here, we count the number of newsgroup posts in which two words both occur. This part of the demo should feel like a review of co-occurrence analysis from earlier in the course, except now we use scikit-learn's built-in CountVectorizer. Conceptually everything else in the same as before."
   ]
  },
  {
   "cell_type": "code",
   "execution_count": 70,
   "metadata": {},
   "outputs": [],
   "source": [
    "word1 = 'year'\n",
    "word2 = 'team'\n",
    "\n",
    "word1_column_idx = tf_vectorizer.vocabulary_[word1]\n",
    "word2_column_idx = tf_vectorizer.vocabulary_[word2]"
   ]
  },
  {
   "cell_type": "code",
   "execution_count": 69,
   "metadata": {},
   "outputs": [
    {
     "data": {
      "text/plain": [
       "array([[0, 0, 0, ..., 0, 0, 0],\n",
       "       [0, 0, 0, ..., 0, 0, 0],\n",
       "       [0, 0, 0, ..., 0, 0, 0],\n",
       "       ...,\n",
       "       [0, 0, 0, ..., 0, 0, 0],\n",
       "       [0, 0, 0, ..., 0, 0, 0],\n",
       "       [0, 0, 0, ..., 0, 0, 0]])"
      ]
     },
     "execution_count": 69,
     "metadata": {},
     "output_type": "execute_result"
    }
   ],
   "source": [
    "np.array(tf.todense())"
   ]
  },
  {
   "cell_type": "code",
   "execution_count": 71,
   "metadata": {},
   "outputs": [
    {
     "data": {
      "text/plain": [
       "array([[0],\n",
       "       [0],\n",
       "       [0],\n",
       "       ...,\n",
       "       [0],\n",
       "       [0],\n",
       "       [0]])"
      ]
     },
     "execution_count": 71,
     "metadata": {},
     "output_type": "execute_result"
    }
   ],
   "source": [
    "tf[:, word1_column_idx].toarray()"
   ]
  },
  {
   "cell_type": "code",
   "execution_count": 72,
   "metadata": {},
   "outputs": [],
   "source": [
    "documents_with_word1 = (tf[:, word1_column_idx].toarray().flatten() > 0)"
   ]
  },
  {
   "cell_type": "code",
   "execution_count": 73,
   "metadata": {},
   "outputs": [],
   "source": [
    "documents_with_word2 = (tf[:, word2_column_idx].toarray().flatten() > 0)"
   ]
  },
  {
   "cell_type": "code",
   "execution_count": 77,
   "metadata": {},
   "outputs": [],
   "source": [
    "documents_with_both_word1_and_word2 = documents_with_word1 * documents_with_word2"
   ]
  },
  {
   "cell_type": "code",
   "execution_count": 79,
   "metadata": {},
   "outputs": [
    {
     "data": {
      "text/plain": [
       "array([False, False, False, ..., False, False, False])"
      ]
     },
     "execution_count": 79,
     "metadata": {},
     "output_type": "execute_result"
    }
   ],
   "source": [
    "documents_with_both_word1_and_word2"
   ]
  },
  {
   "cell_type": "markdown",
   "metadata": {},
   "source": [
    "Next, we compute the log of the conditional probability of word 1 appearing given that word 2 appeared, where we add in a little bit of a fudge factor in the numerator (in this case, it's actually not needed but some times you do have two words that do not co-occur for which you run into a numerical issue due to taking the log of 0)."
   ]
  },
  {
   "cell_type": "code",
   "execution_count": 84,
   "metadata": {},
   "outputs": [
    {
     "data": {
      "text/plain": [
       "-1.5482462194376105"
      ]
     },
     "execution_count": 84,
     "metadata": {},
     "output_type": "execute_result"
    }
   ],
   "source": [
    "eps = 0.1\n",
    "np.log2((documents_with_both_word1_and_word2.sum() + eps) / documents_with_word2.sum())"
   ]
  },
  {
   "cell_type": "code",
   "execution_count": 85,
   "metadata": {},
   "outputs": [],
   "source": [
    "# compute log of prob of see one word given you see another, using count vectorizer!\n",
    "# Same content as in hw , but with a different tool\n",
    "# This uses np.arrays instead of counters. Needs to kep track of the indexes.\n",
    "# Understad how countvectorizer works\n",
    "\n",
    "def prob_see_word1_given_see_word2(word1, word2, vectorizer, eps=0.1):\n",
    "    word1_column_idx = vectorizer.vocabulary_[word1]\n",
    "    word2_column_idx = vectorizer.vocabulary_[word2]\n",
    "    documents_with_word1 = (tf[:, word1_column_idx].toarray().flatten() > 0)\n",
    "    documents_with_word2 = (tf[:, word2_column_idx].toarray().flatten() > 0)\n",
    "    documents_with_both_word1_and_word2 = documents_with_word1 * documents_with_word2\n",
    "    return np.log2((documents_with_both_word1_and_word2.sum() + eps) / documents_with_word2.sum())"
   ]
  },
  {
   "cell_type": "code",
   "execution_count": 86,
   "metadata": {},
   "outputs": [
    {
     "data": {
      "text/plain": [
       "(str, str)"
      ]
     },
     "execution_count": 86,
     "metadata": {},
     "output_type": "execute_result"
    }
   ],
   "source": [
    "type(word1), type(word2)"
   ]
  },
  {
   "cell_type": "markdown",
   "metadata": {},
   "source": [
    "## Topic coherence\n",
    "\n",
    "The below code shows how one implements the topic coherence calculation from lecture."
   ]
  },
  {
   "cell_type": "code",
   "execution_count": 87,
   "metadata": {},
   "outputs": [],
   "source": [
    "# In the cell below, vectorizer.get_feature_names() is just tokenizing the text, \n",
    "# eliminating stopwords, eliminating some other words, and then giving you back\n",
    "# a list of the tokens in string format"
   ]
  },
  {
   "cell_type": "code",
   "execution_count": 88,
   "metadata": {},
   "outputs": [],
   "source": [
    "# topic coherence\n",
    "\n",
    "def compute_average_coherence(topic_word_distributions, num_top_words, vectorizer, verbose=True):\n",
    "    vocab = vectorizer.get_feature_names()\n",
    "    num_topics = len(topic_word_distributions)\n",
    "    average_coherence = 0\n",
    "    # foor loop thru different topics, for each topic double nested for loop, going thru each entry, ordering matters\n",
    "    # make sure words arent the same, then compute the log(prob)\n",
    "    # add a bunhc of them and divide by total number of topics\n",
    "    for topic_idx in range(num_topics):\n",
    "        if verbose:\n",
    "            print('[Topic ', topic_idx, ']', sep='')\n",
    "        \n",
    "        sort_indices = np.argsort(topic_word_distributions[topic_idx])[::-1]\n",
    "        coherence = 0.\n",
    "        for top_word_idx1 in sort_indices[:num_top_words]:\n",
    "            word1 = vocab[top_word_idx1]\n",
    "            for top_word_idx2 in sort_indices[:num_top_words]:\n",
    "                word2 = vocab[top_word_idx2]\n",
    "                if top_word_idx1 != top_word_idx2:\n",
    "                    coherence += prob_see_word1_given_see_word2(word1, word2, vectorizer, 0.1)\n",
    "        \n",
    "        if verbose:\n",
    "            print('Coherence:', coherence)\n",
    "            print()\n",
    "        average_coherence += coherence\n",
    "    average_coherence /= num_topics\n",
    "    if verbose:\n",
    "        print('Average coherence:', average_coherence)\n",
    "    return average_coherence"
   ]
  },
  {
   "cell_type": "code",
   "execution_count": 91,
   "metadata": {},
   "outputs": [
    {
     "name": "stdout",
     "output_type": "stream",
     "text": [
      "[Topic 0]\n",
      "Coherence: -883.433278037819\n",
      "\n",
      "[Topic 1]\n",
      "Coherence: -1204.9568944144453\n",
      "\n",
      "[Topic 2]\n",
      "Coherence: -658.5193466692967\n",
      "\n",
      "[Topic 3]\n",
      "Coherence: -1262.9416512877067\n",
      "\n",
      "[Topic 4]\n",
      "Coherence: -1120.0387743529964\n",
      "\n",
      "[Topic 5]\n",
      "Coherence: -1068.283511244093\n",
      "\n",
      "[Topic 6]\n",
      "Coherence: -1018.020273866717\n",
      "\n",
      "[Topic 7]\n",
      "Coherence: -874.4985384459782\n",
      "\n",
      "[Topic 8]\n",
      "Coherence: -982.6298329129335\n",
      "\n",
      "[Topic 9]\n",
      "Coherence: -228.56240302255796\n",
      "\n",
      "Average coherence: -930.1884504254543\n"
     ]
    },
    {
     "data": {
      "text/plain": [
       "-930.1884504254543"
      ]
     },
     "execution_count": 91,
     "metadata": {},
     "output_type": "execute_result"
    }
   ],
   "source": [
    "compute_average_coherence(topic_word_distributions, num_top_words, tf_vectorizer, True)\n",
    "# These are negative, the highest possible is zero."
   ]
  },
  {
   "cell_type": "markdown",
   "metadata": {},
   "source": [
    "## Number of unique words\n",
    "\n",
    "The below code shows how one implements the number of unique words calculation from lecture."
   ]
  },
  {
   "cell_type": "code",
   "execution_count": 37,
   "metadata": {},
   "outputs": [],
   "source": [
    "# brute force implementation\n",
    "# nothing clever to speed upmcalculation\n",
    "\n",
    "#fro loop for each topic\n",
    "# For loop over each top word\n",
    "# another for loop for other topics\n",
    "# lok for all other top words in those other topics\n",
    "# check for uniqueness\n",
    "\n",
    "def compute_average_num_unique_words(topic_word_distributions, num_top_words, vectorizer, verbose=True):\n",
    "    vocab = vectorizer.get_feature_names()\n",
    "    num_topics = len(topic_word_distributions)\n",
    "    average_number_of_unique_top_words = 0\n",
    "    for topic_idx1 in range(num_topics):\n",
    "        if verbose:\n",
    "            print('[Topic ', topic_idx1, ']', sep='')\n",
    "        \n",
    "        sort_indices1 = np.argsort(topic_word_distributions[topic_idx1])[::-1]\n",
    "        num_unique_top_words = 0\n",
    "        for top_word_idx1 in sort_indices1[:num_top_words]:\n",
    "            word1 = vocab[top_word_idx1]\n",
    "            break_ = False\n",
    "            for topic_idx2 in range(num_topics):\n",
    "                if topic_idx1 != topic_idx2:\n",
    "                    sort_indices2 = np.argsort(topic_word_distributions[topic_idx2])[::-1]\n",
    "                    for top_word_idx2 in sort_indices2[:num_top_words]:\n",
    "                        word2 = vocab[top_word_idx2]\n",
    "                        if word1 == word2:\n",
    "                            break_ = True\n",
    "                            break\n",
    "                    if break_:\n",
    "                        break\n",
    "            else:\n",
    "                num_unique_top_words += 1\n",
    "        if verbose:\n",
    "            print('Number of unique top words:', num_unique_top_words)\n",
    "            print()\n",
    "\n",
    "        average_number_of_unique_top_words += num_unique_top_words\n",
    "    average_number_of_unique_top_words /= num_topics\n",
    "    \n",
    "    if verbose:\n",
    "        print('Average number of unique top words:', average_number_of_unique_top_words)\n",
    "    \n",
    "    return average_number_of_unique_top_words"
   ]
  },
  {
   "cell_type": "code",
   "execution_count": 38,
   "metadata": {},
   "outputs": [
    {
     "name": "stdout",
     "output_type": "stream",
     "text": [
      "[Topic 0]\n",
      "Number of unique top words: 9\n",
      "\n",
      "[Topic 1]\n",
      "Number of unique top words: 15\n",
      "\n",
      "[Topic 2]\n",
      "Number of unique top words: 19\n",
      "\n",
      "[Topic 3]\n",
      "Number of unique top words: 18\n",
      "\n",
      "[Topic 4]\n",
      "Number of unique top words: 12\n",
      "\n",
      "[Topic 5]\n",
      "Number of unique top words: 13\n",
      "\n",
      "[Topic 6]\n",
      "Number of unique top words: 14\n",
      "\n",
      "[Topic 7]\n",
      "Number of unique top words: 10\n",
      "\n",
      "[Topic 8]\n",
      "Number of unique top words: 8\n",
      "\n",
      "[Topic 9]\n",
      "Number of unique top words: 20\n",
      "\n",
      "Average number of unique top words: 13.8\n"
     ]
    },
    {
     "data": {
      "text/plain": [
       "13.8"
      ]
     },
     "execution_count": 38,
     "metadata": {},
     "output_type": "execute_result"
    }
   ],
   "source": [
    "compute_average_num_unique_words(topic_word_distributions, num_top_words, tf_vectorizer, True)"
   ]
  },
  {
   "cell_type": "markdown",
   "metadata": {},
   "source": [
    "## Plotting average coherence vs k (number of topics), and average number of unique words vs k\n",
    "\n",
    "Next, we plot the average coherence vs k and the average number of unique words vs k. Note that these are *not* the only topic model metrics available (much like how CH index is not the only metric available for clustering).\n",
    "\n",
    "For both average coherence and average number of unique words, we would like these to be high. In this particular example, it turns out k=2 yields very high values for both but if you look at the topics learned for k=2, they are qualitatively quite bad (basically one topic is gibberish and the other is everything else!). This observation reinforces the important idea that while there exist topic modeling metrics (such as coherence and number of unique words), you should definitely still look at what the learned topics are (e.g., by printing the top words per topic) to help decide on what value of k to use.\n",
    "\n",
    "Also, keep in mind that the results are in some sense \"noisy\" since the LDA fitting procedure is random. We're choosing a specific `random_state` seed value but if we try different random seeds, we can get different results. For simplicity, because LDA fitting is quite computationally expensive, we are *not* doing what we did with GMM's where we did many different random initializations. Thus, the conclusions we draw regarding how many topics to use might actually be different with different random initializations.\n",
    "\n",
    "At least according to average coherence and average number of unique words for the random seed we use, the results below suggests that using k=4 yields average coherence and average number of unique words that are still reasonably high (as good as or almost as good as the k=2 result), and inspecting the topics learned for k=4, they are definitely more interesting than the ones learned for k=2.\n",
    "\n",
    "From qualitatively looking at topics, the k=5, k=6, and k=7 topics also look decent. When k gets too large (e.g., k=10), there start to be topics that look like there might be too much overlap (such as multiple topics that seem to be about computers).\n",
    "\n",
    "Note that one of the things to look out for is whether there are \"stable\" topics, where even for slightly different values of k and different random initializations, LDA keeps finding specific topics (e.g., one on gibberish, one on numbers, etc)."
   ]
  },
  {
   "cell_type": "code",
   "execution_count": 39,
   "metadata": {},
   "outputs": [
    {
     "name": "stdout",
     "output_type": "stream",
     "text": [
      "--------------------------------------------------------------------------------\n",
      "Number of topics: 2\n",
      "\n",
      "Displaying the top 20 words per topic and their probabilities within the topic...\n",
      "\n",
      "[Topic 0]\n",
      "ax : 0.6670609408224907\n",
      "max : 0.04897290356354059\n",
      "g9v : 0.013114422643457437\n",
      "b8f : 0.01275949912939879\n",
      "a86 : 0.010547142707890972\n",
      "pl : 0.008819612623778256\n",
      "145 : 0.00881675090221303\n",
      "1d9 : 0.007305507436215006\n",
      "db : 0.007159573058301496\n",
      "1t : 0.00557821214241208\n",
      "0t : 0.005377089263425004\n",
      "25 : 0.005211780342996569\n",
      "bhj : 0.005104981847457374\n",
      "3t : 0.004773718255446174\n",
      "34u : 0.004726396579798662\n",
      "giz : 0.004584428325550535\n",
      "2di : 0.0045371051926778325\n",
      "55 : 0.004286549836996119\n",
      "14 : 0.004247079858618981\n",
      "wm : 0.004101448384177003\n",
      "\n",
      "[Topic 1]\n",
      "people : 0.00898805018321434\n",
      "like : 0.008724015906915197\n",
      "don : 0.008445318198979547\n",
      "just : 0.008117711165098762\n",
      "know : 0.007726560502119272\n",
      "use : 0.006807342121575315\n",
      "time : 0.006601978036055969\n",
      "think : 0.0065897670065797375\n",
      "does : 0.00599569573547193\n",
      "new : 0.005707662001047904\n",
      "good : 0.005477410696991825\n",
      "edu : 0.005188926692129768\n",
      "make : 0.004467734634022856\n",
      "way : 0.004391946942939348\n",
      "god : 0.0042037116677492575\n",
      "used : 0.00410836241940848\n",
      "say : 0.004042354681202132\n",
      "ve : 0.004042230793685092\n",
      "right : 0.004015407615464605\n",
      "file : 0.003959205422499352\n",
      "\n",
      "\n",
      "\n",
      "--------------------------------------------------------------------------------\n",
      "Number of topics: 3\n",
      "\n",
      "Displaying the top 20 words per topic and their probabilities within the topic...\n",
      "\n",
      "[Topic 0]\n",
      "people : 0.013987379438521899\n",
      "don : 0.011524660963375346\n",
      "just : 0.010967976112691066\n",
      "think : 0.010217784634479091\n",
      "like : 0.009964277649120086\n",
      "know : 0.009234223571289897\n",
      "time : 0.00818251395696018\n",
      "good : 0.007331228467660352\n",
      "god : 0.006936159078250954\n",
      "said : 0.0063851562833832035\n",
      "say : 0.00634022436925281\n",
      "did : 0.005991990842787771\n",
      "right : 0.005942281837723303\n",
      "new : 0.005741586103397407\n",
      "way : 0.005672662128082932\n",
      "does : 0.005643696594475116\n",
      "make : 0.005429269467006293\n",
      "ve : 0.004878420810829421\n",
      "years : 0.004864967623517497\n",
      "going : 0.004673802945477092\n",
      "\n",
      "[Topic 1]\n",
      "use : 0.01244773450065218\n",
      "edu : 0.01126346019083091\n",
      "file : 0.009899941300464012\n",
      "program : 0.007018677072679079\n",
      "information : 0.006912590192704493\n",
      "available : 0.006853780538031965\n",
      "data : 0.006844735735509173\n",
      "like : 0.006720850461439024\n",
      "com : 0.006638007030520864\n",
      "does : 0.006444410483775505\n",
      "mail : 0.006332373100478364\n",
      "windows : 0.006315044731545731\n",
      "using : 0.006245824476178379\n",
      "key : 0.006193923454661427\n",
      "thanks : 0.005966709211683629\n",
      "drive : 0.005867773459190474\n",
      "used : 0.005786160568218421\n",
      "new : 0.005598871363047167\n",
      "know : 0.005332454197272463\n",
      "software : 0.0052909641829535685\n",
      "\n",
      "[Topic 2]\n",
      "ax : 0.68604063105398\n",
      "max : 0.05009072233000451\n",
      "g9v : 0.013485575446910127\n",
      "b8f : 0.01312055234170118\n",
      "a86 : 0.010845241613434808\n",
      "pl : 0.009068576651875217\n",
      "145 : 0.009035086598061274\n",
      "1d9 : 0.00751136296576256\n",
      "db : 0.007365489778231076\n",
      "1t : 0.005734915903615353\n",
      "0t : 0.0055280700414600615\n",
      "bhj : 0.005248219820615878\n",
      "3t : 0.0049075292549175895\n",
      "34u : 0.004858861948257405\n",
      "giz : 0.004712853760341552\n",
      "2di : 0.0046641840133856026\n",
      "25 : 0.00455579193842999\n",
      "55 : 0.004226656256448206\n",
      "wm : 0.004196597365437893\n",
      "14 : 0.004000263167269867\n",
      "\n",
      "\n",
      "\n",
      "--------------------------------------------------------------------------------\n",
      "Number of topics: 4\n",
      "\n",
      "Displaying the top 20 words per topic and their probabilities within the topic...\n",
      "\n",
      "[Topic 0]\n",
      "10 : 0.020775606453347972\n",
      "00 : 0.015890839621149584\n",
      "20 : 0.01370862334313512\n",
      "25 : 0.013601644987850624\n",
      "year : 0.013594635673486039\n",
      "game : 0.012965301259011644\n",
      "15 : 0.01281446793442682\n",
      "team : 0.012416605185666847\n",
      "12 : 0.01200158843407778\n",
      "11 : 0.011583394324247782\n",
      "new : 0.011183206859657917\n",
      "14 : 0.010589397196093081\n",
      "50 : 0.010024991529015564\n",
      "16 : 0.009833008522346818\n",
      "30 : 0.009705445241436112\n",
      "17 : 0.009353751988371137\n",
      "13 : 0.00920312973948339\n",
      "games : 0.00882507455924421\n",
      "18 : 0.008546215566491976\n",
      "40 : 0.007990140347664858\n",
      "\n",
      "[Topic 1]\n",
      "use : 0.013276949661338217\n",
      "edu : 0.012267336422302898\n",
      "file : 0.011566434456562217\n",
      "program : 0.008065671587659575\n",
      "available : 0.007681160188932213\n",
      "information : 0.007480435404680009\n",
      "data : 0.007434941850183757\n",
      "windows : 0.007399896886108286\n",
      "com : 0.007340443977972629\n",
      "like : 0.007152698596414284\n",
      "does : 0.007096002799591012\n",
      "mail : 0.007033384374437087\n",
      "using : 0.0069138854531540644\n",
      "thanks : 0.006892248571444717\n",
      "drive : 0.006788681866371032\n",
      "software : 0.006203964578431319\n",
      "used : 0.005965791036499411\n",
      "know : 0.005872577507701732\n",
      "space : 0.005619311028569055\n",
      "files : 0.005423185775158846\n",
      "\n",
      "[Topic 2]\n",
      "ax : 0.7694336151809155\n",
      "max : 0.05590620315698597\n",
      "g9v : 0.015123723771983425\n",
      "b8f : 0.01471432929726028\n",
      "a86 : 0.012162431729599878\n",
      "pl : 0.010169665152511954\n",
      "145 : 0.009876385397348647\n",
      "1d9 : 0.00842326069634432\n",
      "1t : 0.006430858200869931\n",
      "0t : 0.006198902004432631\n",
      "bhj : 0.005885015641233298\n",
      "3t : 0.005502916442890248\n",
      "34u : 0.005448338232758139\n",
      "giz : 0.0052846043454822305\n",
      "2di : 0.005230018373874223\n",
      "wm : 0.004676695241138819\n",
      "2tm : 0.004438521790306373\n",
      "75u : 0.004438519274554816\n",
      "7ey : 0.003565146249628605\n",
      "0d : 0.0031420297101864476\n",
      "\n",
      "[Topic 3]\n",
      "people : 0.015795911140035916\n",
      "don : 0.012761597900782592\n",
      "just : 0.011936575887743144\n",
      "think : 0.010999709691428675\n",
      "like : 0.010753928501201888\n",
      "know : 0.010324843095132303\n",
      "time : 0.008613581455996083\n",
      "god : 0.007712410358519168\n",
      "say : 0.007084985395544734\n",
      "said : 0.0068370461766585336\n",
      "good : 0.006593197861237151\n",
      "does : 0.006503028570432555\n",
      "did : 0.0063234864798292\n",
      "right : 0.006271311549565499\n",
      "way : 0.006110322587408365\n",
      "make : 0.005871057599517065\n",
      "ve : 0.005157698494190836\n",
      "believe : 0.005155273774726601\n",
      "going : 0.0050781770001162\n",
      "government : 0.004975447044627339\n",
      "\n",
      "\n",
      "\n",
      "--------------------------------------------------------------------------------\n",
      "Number of topics: 5\n",
      "\n",
      "Displaying the top 20 words per topic and their probabilities within the topic...\n",
      "\n",
      "[Topic 0]\n",
      "just : 0.01788986875726951\n",
      "don : 0.01755711550967227\n",
      "like : 0.016386048145262958\n",
      "know : 0.01524576861274901\n",
      "think : 0.014491329975876854\n",
      "good : 0.01276034503962281\n",
      "time : 0.011471087014762548\n",
      "people : 0.011219407785017697\n",
      "ve : 0.00858172660641144\n",
      "did : 0.008116535351038309\n",
      "say : 0.007875888166202504\n",
      "said : 0.007678048035553154\n",
      "way : 0.007542137242486355\n",
      "going : 0.007408145097860342\n",
      "god : 0.0074071880880660305\n",
      "really : 0.007234901025242828\n",
      "didn : 0.006692126916253543\n",
      "right : 0.006667378655305287\n",
      "ll : 0.006630570931032463\n",
      "make : 0.006455959390314091\n",
      "\n",
      "[Topic 1]\n",
      "use : 0.014335647877248416\n",
      "file : 0.01328286066822729\n",
      "edu : 0.011739138588429163\n",
      "windows : 0.008689762826347727\n",
      "program : 0.008652474941699548\n",
      "available : 0.008243612862010944\n",
      "using : 0.007731496553926784\n",
      "data : 0.00771268913740636\n",
      "drive : 0.007664969613300175\n",
      "mail : 0.0076012461807667756\n",
      "does : 0.007511142367459826\n",
      "com : 0.007497719500632217\n",
      "thanks : 0.007330801561702594\n",
      "software : 0.007274022927197559\n",
      "information : 0.007128754550897665\n",
      "like : 0.006685961466907405\n",
      "files : 0.006285441223146031\n",
      "version : 0.006170161674869499\n",
      "used : 0.006165552309976762\n",
      "ftp : 0.006036171238656391\n",
      "\n",
      "[Topic 2]\n",
      "10 : 0.024353843289057202\n",
      "00 : 0.019294286330864854\n",
      "25 : 0.015878390555695204\n",
      "20 : 0.015827143003794033\n",
      "15 : 0.015639730168933063\n",
      "12 : 0.015220670126098361\n",
      "11 : 0.014532714538286085\n",
      "space : 0.01422197905910557\n",
      "14 : 0.013202131067711839\n",
      "16 : 0.012547268137490181\n",
      "17 : 0.011526340617938358\n",
      "new : 0.011458708594472995\n",
      "13 : 0.011406768858740368\n",
      "18 : 0.011265357386054142\n",
      "30 : 0.0111825719875938\n",
      "50 : 0.011024513142984154\n",
      "1993 : 0.010454359422598706\n",
      "edu : 0.009536001262584526\n",
      "40 : 0.009457996901332411\n",
      "24 : 0.009286948231365763\n",
      "\n",
      "[Topic 3]\n",
      "people : 0.0178399256980091\n",
      "government : 0.009986220466769547\n",
      "law : 0.008382618743940959\n",
      "key : 0.008077617684382749\n",
      "use : 0.006580405294050447\n",
      "does : 0.0061882231764507\n",
      "mr : 0.006127602753321975\n",
      "god : 0.006059964929970658\n",
      "gun : 0.0060319137039072475\n",
      "state : 0.005851973769972758\n",
      "public : 0.005584139747842319\n",
      "don : 0.005417000586981113\n",
      "db : 0.005401382408991808\n",
      "right : 0.005245771246385886\n",
      "think : 0.0052296939644315525\n",
      "time : 0.005053885686666727\n",
      "fact : 0.005047232271562822\n",
      "believe : 0.005040817942256452\n",
      "make : 0.005036157216503352\n",
      "president : 0.004997775132483828\n",
      "\n",
      "[Topic 4]\n",
      "ax : 0.7685586473392421\n",
      "max : 0.05579735161776002\n",
      "g9v : 0.015105858999712783\n",
      "b8f : 0.014696929029633137\n",
      "a86 : 0.012147934763857596\n",
      "pl : 0.010123673188735622\n",
      "145 : 0.009894126036774125\n",
      "1d9 : 0.008413042149865624\n",
      "1t : 0.006422912313133303\n",
      "0t : 0.00619118545087805\n",
      "bhj : 0.005877678236271994\n",
      "3t : 0.005495997712040084\n",
      "34u : 0.005441482595443563\n",
      "giz : 0.005277918016504323\n",
      "2di : 0.005223393985632816\n",
      "wm : 0.004666691661868891\n",
      "2tm : 0.004432796847972883\n",
      "75u : 0.0044327955653250825\n",
      "7ey : 0.0035604137127846795\n",
      "0d : 0.0031378082029156784\n",
      "\n",
      "\n",
      "\n"
     ]
    },
    {
     "name": "stdout",
     "output_type": "stream",
     "text": [
      "--------------------------------------------------------------------------------\n",
      "Number of topics: 6\n",
      "\n",
      "Displaying the top 20 words per topic and their probabilities within the topic...\n",
      "\n",
      "[Topic 0]\n",
      "like : 0.016852479569330253\n",
      "just : 0.01624908857341225\n",
      "don : 0.01432168553200919\n",
      "good : 0.014036402102538266\n",
      "think : 0.012288120987062752\n",
      "time : 0.010978590575114808\n",
      "know : 0.010511006543471495\n",
      "year : 0.00907102511248688\n",
      "ve : 0.008935106759377025\n",
      "new : 0.007749648930000116\n",
      "make : 0.007203414753732119\n",
      "game : 0.006984723567373855\n",
      "really : 0.006972371761322122\n",
      "got : 0.006968159542501393\n",
      "car : 0.006801159432506462\n",
      "way : 0.006668961381068071\n",
      "ll : 0.00664002541785189\n",
      "going : 0.006382567779276912\n",
      "better : 0.006331053807802954\n",
      "years : 0.006279998362410046\n",
      "\n",
      "[Topic 1]\n",
      "file : 0.014684399342629453\n",
      "use : 0.014099134117677867\n",
      "windows : 0.010163634821532165\n",
      "program : 0.009171897841265509\n",
      "does : 0.008546948639464508\n",
      "drive : 0.008483613061925693\n",
      "edu : 0.008365693100682532\n",
      "software : 0.008197953667931447\n",
      "thanks : 0.007978565222922599\n",
      "using : 0.00795437668874942\n",
      "available : 0.0077450955684646525\n",
      "data : 0.007258479078655452\n",
      "like : 0.007236749360850795\n",
      "mail : 0.007160801942510292\n",
      "files : 0.006983935748058578\n",
      "card : 0.006944423921097715\n",
      "version : 0.006902729510591516\n",
      "know : 0.006690034282180732\n",
      "ftp : 0.0064153556413757435\n",
      "window : 0.006276827647030434\n",
      "\n",
      "[Topic 2]\n",
      "10 : 0.021815903293409548\n",
      "edu : 0.018380285479533454\n",
      "00 : 0.01803483082137648\n",
      "25 : 0.014346641377615056\n",
      "15 : 0.014006473300625374\n",
      "20 : 0.013852657886336503\n",
      "12 : 0.013794799397224312\n",
      "11 : 0.013765440740076308\n",
      "space : 0.012364813795544105\n",
      "14 : 0.012087206613976949\n",
      "16 : 0.011563089974008333\n",
      "13 : 0.010760464070105856\n",
      "17 : 0.010744102379030224\n",
      "18 : 0.010581320050873477\n",
      "1993 : 0.010443881296028176\n",
      "new : 0.009941470382695364\n",
      "30 : 0.009414776602491102\n",
      "50 : 0.009184951410556724\n",
      "24 : 0.00894451550016259\n",
      "university : 0.008727802570915301\n",
      "\n",
      "[Topic 3]\n",
      "people : 0.014054283476713081\n",
      "key : 0.013209886651381786\n",
      "government : 0.012939236222488508\n",
      "law : 0.011905292967421755\n",
      "use : 0.010790266780879182\n",
      "gun : 0.008957383167459915\n",
      "public : 0.00861957495511258\n",
      "db : 0.008173298248367065\n",
      "state : 0.007676815674760135\n",
      "encryption : 0.006892653708530188\n",
      "used : 0.0068311658156582\n",
      "right : 0.006082953920414708\n",
      "does : 0.005995112438565502\n",
      "make : 0.0056963925958670066\n",
      "security : 0.005643721068334067\n",
      "states : 0.0056279950550295315\n",
      "don : 0.005382255862901452\n",
      "information : 0.0053745945845739915\n",
      "number : 0.0053469989355769765\n",
      "chip : 0.005195152121240399\n",
      "\n",
      "[Topic 4]\n",
      "people : 0.022516118466123676\n",
      "god : 0.018959647828147807\n",
      "don : 0.013423499150045686\n",
      "know : 0.013379340217087539\n",
      "said : 0.013067219553566612\n",
      "think : 0.011459323017328415\n",
      "just : 0.01136021830522689\n",
      "say : 0.010329683194737671\n",
      "did : 0.009679356460128415\n",
      "like : 0.009010560243454594\n",
      "jesus : 0.008763317267492172\n",
      "time : 0.00852354754555519\n",
      "believe : 0.008112383349375724\n",
      "does : 0.007360582520571009\n",
      "mr : 0.006698183820263974\n",
      "way : 0.006385355120724336\n",
      "armenian : 0.006155863843635275\n",
      "life : 0.005743294932649253\n",
      "world : 0.005738305093824698\n",
      "things : 0.005730775986188089\n",
      "\n",
      "[Topic 5]\n",
      "ax : 0.7683372376306211\n",
      "max : 0.055781543045980056\n",
      "g9v : 0.015101062245049828\n",
      "b8f : 0.014692250116136429\n",
      "a86 : 0.01214398848156198\n",
      "pl : 0.010118777713597074\n",
      "145 : 0.009906887185733303\n",
      "1d9 : 0.008410171226900636\n",
      "1t : 0.006420617594518415\n",
      "0t : 0.006188957377092919\n",
      "bhj : 0.005875536516572994\n",
      "3t : 0.005493974745897464\n",
      "34u : 0.005439469299154595\n",
      "giz : 0.005275946436316086\n",
      "2di : 0.0052214381605485945\n",
      "wm : 0.004667039118601915\n",
      "2tm : 0.004431068229625176\n",
      "75u : 0.004431067899009933\n",
      "7ey : 0.0035589358875741774\n",
      "cx : 0.0033107144431898075\n",
      "\n",
      "\n",
      "\n",
      "--------------------------------------------------------------------------------\n",
      "Number of topics: 7\n",
      "\n",
      "Displaying the top 20 words per topic and their probabilities within the topic...\n",
      "\n",
      "[Topic 0]\n",
      "like : 0.017829035658076316\n",
      "just : 0.016967162883081574\n",
      "good : 0.01588049515401469\n",
      "don : 0.0141335431317534\n",
      "think : 0.0120981370364379\n",
      "time : 0.011168025495623677\n",
      "know : 0.009810679625777237\n",
      "year : 0.009551121929627114\n",
      "ve : 0.0088104994782204\n",
      "new : 0.007977488084654876\n",
      "game : 0.007897277764507368\n",
      "really : 0.007436913414854621\n",
      "make : 0.007243692646968024\n",
      "car : 0.007226097605720573\n",
      "better : 0.007118680679023743\n",
      "got : 0.007051795626240988\n",
      "way : 0.006919298167688\n",
      "years : 0.006291294524424631\n",
      "team : 0.006184877235266438\n",
      "right : 0.006170630218570102\n",
      "\n",
      "[Topic 1]\n",
      "file : 0.015615156171206193\n",
      "use : 0.014186847573469306\n",
      "windows : 0.010326170351063793\n",
      "program : 0.009297015395362197\n",
      "drive : 0.008658166342739186\n",
      "software : 0.008390653074867919\n",
      "does : 0.008388253612561859\n",
      "using : 0.008048226290499717\n",
      "thanks : 0.008034733681416596\n",
      "edu : 0.00779893785267434\n",
      "available : 0.007692915544929095\n",
      "files : 0.007198408425196097\n",
      "card : 0.007169341564361409\n",
      "like : 0.007153422106531535\n",
      "data : 0.007031346468962803\n",
      "version : 0.0069552668750789935\n",
      "mail : 0.0068786447104656565\n",
      "know : 0.006546925634983991\n",
      "window : 0.0063578963219649304\n",
      "problem : 0.0063573851446217956\n",
      "\n",
      "[Topic 2]\n",
      "10 : 0.02205483183114173\n",
      "edu : 0.01949122102787648\n",
      "00 : 0.018245947709002286\n",
      "25 : 0.014388159272812328\n",
      "15 : 0.014186533582213516\n",
      "12 : 0.014021331089184158\n",
      "20 : 0.013983503222042955\n",
      "11 : 0.013962456662952205\n",
      "space : 0.013311825146601914\n",
      "14 : 0.012054671704414542\n",
      "16 : 0.011420189084481638\n",
      "13 : 0.010826406189119531\n",
      "17 : 0.010765250659190486\n",
      "1993 : 0.010577851372959477\n",
      "18 : 0.01044367907986733\n",
      "new : 0.010046128754133521\n",
      "30 : 0.009530351965624458\n",
      "50 : 0.00923767191424363\n",
      "24 : 0.00907196765849678\n",
      "university : 0.00878790722884679\n",
      "\n",
      "[Topic 3]\n",
      "key : 0.01800660906978901\n",
      "government : 0.014289806229344726\n",
      "use : 0.013392912240594185\n",
      "gun : 0.011940602564933383\n",
      "law : 0.011315145256077451\n",
      "db : 0.01102164971314816\n",
      "public : 0.01075905653405362\n",
      "people : 0.010666502862830683\n",
      "encryption : 0.00928684949995958\n",
      "chip : 0.007710219777670045\n",
      "used : 0.007466027415875519\n",
      "security : 0.00736173387282621\n",
      "state : 0.006983957793806743\n",
      "control : 0.00669931550303187\n",
      "keys : 0.006540765470165359\n",
      "number : 0.006536663158213455\n",
      "clipper : 0.0064013744620944795\n",
      "privacy : 0.006210533192503303\n",
      "information : 0.005989612884353921\n",
      "make : 0.005894046622100199\n",
      "\n",
      "[Topic 4]\n",
      "people : 0.027940492096063682\n",
      "don : 0.017733919199035594\n",
      "said : 0.017161206880436805\n",
      "know : 0.016831191462503392\n",
      "just : 0.01341203639960515\n",
      "think : 0.012978914267683337\n",
      "did : 0.011581335241183781\n",
      "like : 0.010359404215777348\n",
      "going : 0.009918865021318748\n",
      "say : 0.009660452752960496\n",
      "mr : 0.009638214840079087\n",
      "time : 0.009511945756932847\n",
      "didn : 0.009118489827328715\n",
      "armenian : 0.008272743373564519\n",
      "right : 0.007113216304728201\n",
      "want : 0.007072928593435861\n",
      "president : 0.007006147876163486\n",
      "armenians : 0.006773043856663243\n",
      "ve : 0.006768157094540119\n",
      "turkish : 0.006283041556202234\n",
      "\n",
      "[Topic 5]\n",
      "ax : 0.7684671646505757\n",
      "max : 0.05578130264602271\n",
      "g9v : 0.015103297797248798\n",
      "b8f : 0.0146944164219419\n",
      "a86 : 0.012145722768302806\n",
      "pl : 0.010119611664950635\n",
      "145 : 0.009896058325559759\n",
      "1d9 : 0.008411272996077761\n",
      "1t : 0.006421383205613338\n",
      "0t : 0.0061896837289940184\n",
      "bhj : 0.005876208656622851\n",
      "3t : 0.00549458468961693\n",
      "34u : 0.0054400681477923\n",
      "giz : 0.005276516325699887\n",
      "2di : 0.005221998811577763\n",
      "wm : 0.004667560554911541\n",
      "2tm : 0.00443149489202925\n",
      "75u : 0.004431494768341797\n",
      "7ey : 0.0035592147026092327\n",
      "cx : 0.0035218387215253883\n",
      "\n",
      "[Topic 6]\n",
      "god : 0.030466227611854337\n",
      "jesus : 0.014268222820384709\n",
      "people : 0.014077554732074806\n",
      "does : 0.013116235482918112\n",
      "believe : 0.010887373038089988\n",
      "israel : 0.00893202733613483\n",
      "christian : 0.008832688982006079\n",
      "bible : 0.008561705295926397\n",
      "true : 0.008338171554544157\n",
      "say : 0.008201329034166297\n",
      "think : 0.007794427072508322\n",
      "life : 0.007753579926468761\n",
      "church : 0.00754561925678073\n",
      "question : 0.007398164489349969\n",
      "religion : 0.006487366095143022\n",
      "faith : 0.0064375153505617285\n",
      "christ : 0.006280904439057572\n",
      "christians : 0.006258098302843449\n",
      "way : 0.006243292939675113\n",
      "point : 0.0060150203404209495\n",
      "\n",
      "\n",
      "\n",
      "--------------------------------------------------------------------------------\n",
      "Number of topics: 8\n",
      "\n",
      "Displaying the top 20 words per topic and their probabilities within the topic...\n",
      "\n",
      "[Topic 0]\n",
      "like : 0.017661001366634312\n",
      "just : 0.016866606325517113\n",
      "good : 0.016185365929317633\n",
      "don : 0.014220124835484625\n",
      "think : 0.011534850091803652\n",
      "time : 0.011208080557975517\n",
      "year : 0.010238062877606598\n",
      "know : 0.010061470659389418\n",
      "ve : 0.009095127769626954\n",
      "new : 0.008359869162322606\n",
      "game : 0.008229422828407875\n",
      "car : 0.00774755648361833\n",
      "really : 0.007473629499084065\n",
      "make : 0.0073903849890153\n",
      "got : 0.007227359419145756\n",
      "better : 0.007184019628962949\n",
      "way : 0.0068432272093408575\n",
      "ll : 0.006464853766416209\n",
      "team : 0.006457862531771675\n",
      "years : 0.006445413687116738\n",
      "\n",
      "[Topic 1]\n",
      "use : 0.014423728653978465\n",
      "file : 0.012381234894502144\n",
      "windows : 0.01215212554781952\n",
      "drive : 0.010204610555986631\n",
      "program : 0.009567308170146097\n",
      "does : 0.009358234567371048\n",
      "using : 0.008830810635433147\n",
      "card : 0.008343135987445774\n",
      "thanks : 0.008329872605144277\n",
      "software : 0.008231538644113391\n",
      "version : 0.007777843273367926\n",
      "like : 0.007644264115855421\n",
      "window : 0.007497499823544402\n",
      "problem : 0.007486899473908847\n",
      "dos : 0.007293619631793128\n",
      "image : 0.0071517838806143905\n",
      "know : 0.007099478844245626\n",
      "scsi : 0.006981563986623095\n",
      "files : 0.006936792549573861\n",
      "graphics : 0.006821902909722337\n",
      "\n",
      "[Topic 2]\n",
      "10 : 0.0321393562384871\n",
      "00 : 0.027401034052146143\n",
      "25 : 0.022109258720895357\n",
      "11 : 0.021123805405801156\n",
      "15 : 0.020901114367972533\n",
      "12 : 0.020749773281693463\n",
      "20 : 0.020730858616827184\n",
      "14 : 0.018664930285562584\n",
      "16 : 0.018208125180919188\n",
      "17 : 0.016491699262545866\n",
      "13 : 0.016362321996789678\n",
      "18 : 0.015392566359377288\n",
      "24 : 0.01373613339743992\n",
      "50 : 0.013221113556174459\n",
      "30 : 0.0132166210485867\n",
      "19 : 0.01257184418146775\n",
      "55 : 0.012422147000617457\n",
      "21 : 0.01235082366937971\n",
      "40 : 0.012341784342925264\n",
      "23 : 0.011258793493614343\n",
      "\n",
      "[Topic 3]\n",
      "key : 0.02513317274301868\n",
      "government : 0.01911745999987274\n",
      "gun : 0.016781967437429032\n",
      "use : 0.015563194721814753\n",
      "db : 0.015449234604217916\n",
      "law : 0.013641702326974241\n",
      "encryption : 0.012329348351085252\n",
      "chip : 0.011672097424691798\n",
      "people : 0.01008871096541619\n",
      "public : 0.01008382216625293\n",
      "keys : 0.009156908890308364\n",
      "clipper : 0.008977680963315216\n",
      "used : 0.008576281443049442\n",
      "guns : 0.0076810595002643365\n",
      "number : 0.007662337749576472\n",
      "control : 0.007304496313123503\n",
      "security : 0.007262506820998999\n",
      "state : 0.006920459974583096\n",
      "bit : 0.006900738744266417\n",
      "make : 0.006327598108311477\n",
      "\n",
      "[Topic 4]\n",
      "people : 0.024887139697562826\n",
      "said : 0.020969477483719582\n",
      "know : 0.015062099253364209\n",
      "don : 0.013073988635596516\n",
      "mr : 0.012202594755682358\n",
      "did : 0.011799291498782583\n",
      "armenian : 0.011151352972789018\n",
      "going : 0.010884620721062213\n",
      "didn : 0.010526919971877418\n",
      "president : 0.010119118720817959\n",
      "just : 0.009918308988397673\n",
      "time : 0.009522441062580036\n",
      "think : 0.009461136850750475\n",
      "armenians : 0.009129748124515875\n",
      "turkish : 0.00846922321899605\n",
      "like : 0.008284154648535543\n",
      "say : 0.00798588999782298\n",
      "went : 0.007768814905213023\n",
      "war : 0.0071963719818615044\n",
      "told : 0.006949709018715218\n",
      "\n",
      "[Topic 5]\n",
      "ax : 0.7711893587818562\n",
      "max : 0.0559542273907728\n",
      "g9v : 0.015156559803946878\n",
      "b8f : 0.014746229918060953\n",
      "a86 : 0.012188506975756679\n",
      "pl : 0.010150072669210678\n",
      "145 : 0.009899146883979172\n",
      "1d9 : 0.008440826927797771\n",
      "1t : 0.006443887787942356\n",
      "0t : 0.006211367948434271\n",
      "bhj : 0.005896781707820299\n",
      "3t : 0.005513806686448754\n",
      "34u : 0.005459096523850719\n",
      "giz : 0.005294965122729864\n",
      "2di : 0.005240254464921044\n",
      "wm : 0.004686555168112836\n",
      "2tm : 0.004446950043732632\n",
      "75u : 0.004446949965272228\n",
      "7ey : 0.0035715796395607833\n",
      "0d : 0.003147569707121064\n",
      "\n",
      "[Topic 6]\n",
      "edu : 0.020258005577058102\n",
      "information : 0.018054330270947612\n",
      "space : 0.015401707346716424\n",
      "mail : 0.014022074421910844\n",
      "com : 0.012276052521184716\n",
      "file : 0.011722450391621772\n",
      "send : 0.010574219459879944\n",
      "list : 0.01044350563583072\n",
      "available : 0.009372790383732387\n",
      "university : 0.00924721184464295\n",
      "new : 0.00894135853884839\n",
      "internet : 0.008889356186057327\n",
      "research : 0.008629968472021568\n",
      "data : 0.008398654806017737\n",
      "email : 0.008376287346056013\n",
      "nasa : 0.00837495038392586\n",
      "anonymous : 0.007980649560909735\n",
      "address : 0.007507564553577955\n",
      "ftp : 0.007503942031897771\n",
      "computer : 0.007312447254529496\n",
      "\n",
      "[Topic 7]\n",
      "god : 0.021211670592902524\n",
      "people : 0.01932816808591011\n",
      "think : 0.01264690641131503\n",
      "don : 0.012231786264765837\n",
      "does : 0.01205294816757208\n",
      "just : 0.010700113360800064\n",
      "believe : 0.010543942149482385\n",
      "jesus : 0.009893312119046212\n",
      "say : 0.009839471792239337\n",
      "know : 0.009515796489662921\n",
      "like : 0.008773553704861584\n",
      "time : 0.007256185089332646\n",
      "way : 0.007250653178948299\n",
      "true : 0.0070260883968934346\n",
      "question : 0.006725422490598352\n",
      "life : 0.0065649652969491335\n",
      "make : 0.006464572558674824\n",
      "good : 0.006440231163175911\n",
      "things : 0.0063245077339640346\n",
      "point : 0.006211538865620111\n",
      "\n",
      "\n",
      "\n"
     ]
    },
    {
     "name": "stdout",
     "output_type": "stream",
     "text": [
      "--------------------------------------------------------------------------------\n",
      "Number of topics: 9\n",
      "\n",
      "Displaying the top 20 words per topic and their probabilities within the topic...\n",
      "\n",
      "[Topic 0]\n",
      "like : 0.016290666444561043\n",
      "just : 0.016109572302259314\n",
      "good : 0.01591998408545131\n",
      "don : 0.01345682928131839\n",
      "think : 0.01267532379437271\n",
      "year : 0.012031043180593363\n",
      "time : 0.011506208971841377\n",
      "game : 0.0095936756698935\n",
      "car : 0.008861658870142054\n",
      "new : 0.008491789796663759\n",
      "ve : 0.00829786816819498\n",
      "know : 0.0078067833055090775\n",
      "team : 0.007707870425712116\n",
      "make : 0.007674871319121082\n",
      "got : 0.007590768892011672\n",
      "years : 0.007521317603459092\n",
      "better : 0.007518048145453325\n",
      "really : 0.007346372828973151\n",
      "way : 0.007034423360390621\n",
      "power : 0.006566448188612813\n",
      "\n",
      "[Topic 1]\n",
      "drive : 0.015355231395836447\n",
      "use : 0.012559908422174576\n",
      "card : 0.011884579329690953\n",
      "file : 0.010715825975593545\n",
      "dos : 0.010264631487329215\n",
      "scsi : 0.010213702586526673\n",
      "disk : 0.00980979067318461\n",
      "software : 0.009777678629631031\n",
      "windows : 0.009089278470122012\n",
      "output : 0.008908559762058713\n",
      "program : 0.008850370933872623\n",
      "pc : 0.00879408146612969\n",
      "mac : 0.008695904083631504\n",
      "version : 0.008565966751210267\n",
      "bit : 0.008356445695350767\n",
      "available : 0.0079203296723622\n",
      "data : 0.007862687522739291\n",
      "using : 0.007559820136801286\n",
      "memory : 0.007374272389157403\n",
      "graphics : 0.006996138114178558\n",
      "\n",
      "[Topic 2]\n",
      "10 : 0.03259595500403585\n",
      "00 : 0.027458258523894066\n",
      "25 : 0.022241790633267193\n",
      "11 : 0.021703064879917067\n",
      "15 : 0.021100612635025648\n",
      "12 : 0.020702019961833518\n",
      "20 : 0.02065322306164026\n",
      "14 : 0.018963443912077133\n",
      "16 : 0.01758453084887431\n",
      "17 : 0.017079653636598024\n",
      "18 : 0.016823140412694174\n",
      "13 : 0.01681217395503477\n",
      "24 : 0.013625759689938424\n",
      "30 : 0.013231584439439018\n",
      "19 : 0.013195740624319595\n",
      "21 : 0.013059166511249538\n",
      "55 : 0.012878149024772143\n",
      "50 : 0.012614666603984732\n",
      "1993 : 0.012426639548509194\n",
      "40 : 0.012030551064452609\n",
      "\n",
      "[Topic 3]\n",
      "key : 0.023818024974100932\n",
      "government : 0.019567261091960143\n",
      "gun : 0.01617482571941761\n",
      "use : 0.015009725824652424\n",
      "db : 0.014752485504738958\n",
      "law : 0.014301152014809144\n",
      "encryption : 0.011972229607872706\n",
      "chip : 0.01096827240182045\n",
      "public : 0.010886803841178723\n",
      "people : 0.009753634308839448\n",
      "keys : 0.008747776718467298\n",
      "clipper : 0.008527619065533443\n",
      "state : 0.008383659756993565\n",
      "used : 0.008121190524315217\n",
      "control : 0.007863005251055525\n",
      "states : 0.007660020522145991\n",
      "security : 0.007562347080395562\n",
      "number : 0.007519688492694022\n",
      "guns : 0.007322302085650049\n",
      "private : 0.006143477546789012\n",
      "\n",
      "[Topic 4]\n",
      "people : 0.024464346175928676\n",
      "said : 0.022093259490519532\n",
      "know : 0.014674912728296376\n",
      "mr : 0.013071067999804589\n",
      "don : 0.012797259408076567\n",
      "did : 0.012199270708349988\n",
      "armenian : 0.01180250811552727\n",
      "going : 0.010906337510684072\n",
      "didn : 0.010680180547700683\n",
      "president : 0.010184523418148803\n",
      "just : 0.009834948699968149\n",
      "armenians : 0.009662803350892191\n",
      "time : 0.00944111430951646\n",
      "turkish : 0.008963691654384754\n",
      "think : 0.008659311396368904\n",
      "went : 0.008311690620289648\n",
      "like : 0.008110318918147803\n",
      "say : 0.007899000109468776\n",
      "war : 0.007325974947886871\n",
      "stephanopoulos : 0.007311246529044677\n",
      "\n",
      "[Topic 5]\n",
      "ax : 0.7713893701243456\n",
      "max : 0.05594034774767906\n",
      "g9v : 0.015160304465654709\n",
      "b8f : 0.014749868064037639\n",
      "a86 : 0.01219148115730736\n",
      "pl : 0.01013813587478889\n",
      "145 : 0.009902252401484778\n",
      "1d9 : 0.00844282850501952\n",
      "1t : 0.006445371213453421\n",
      "0t : 0.006212790769767541\n",
      "bhj : 0.005898122839172306\n",
      "3t : 0.005515048719574262\n",
      "34u : 0.0054603240347023485\n",
      "giz : 0.005296149684396151\n",
      "2di : 0.005241424828285781\n",
      "wm : 0.004704103574389207\n",
      "2tm : 0.004447914459546839\n",
      "75u : 0.004447914430547118\n",
      "7ey : 0.0035723168080773996\n",
      "0d : 0.0031481983089928917\n",
      "\n",
      "[Topic 6]\n",
      "edu : 0.020347867879674915\n",
      "space : 0.01961543936181583\n",
      "information : 0.018395816486433427\n",
      "mail : 0.01371460159720653\n",
      "new : 0.010852022757948507\n",
      "available : 0.010736155983573012\n",
      "send : 0.010504234777284545\n",
      "data : 0.010488996432860756\n",
      "university : 0.010305761977048035\n",
      "internet : 0.010292863424167912\n",
      "com : 0.010133053777612283\n",
      "list : 0.010111473752876273\n",
      "research : 0.009687684361364924\n",
      "nasa : 0.009677069669675794\n",
      "anonymous : 0.00905979536800793\n",
      "computer : 0.00880849572226842\n",
      "ftp : 0.008645832649986562\n",
      "email : 0.008418359739294336\n",
      "pub : 0.00838294977956079\n",
      "address : 0.007352260271304426\n",
      "\n",
      "[Topic 7]\n",
      "god : 0.021638014099719032\n",
      "people : 0.020368373457676902\n",
      "think : 0.013015923346792323\n",
      "don : 0.011873997247862969\n",
      "does : 0.011620495821675864\n",
      "believe : 0.010982743506964843\n",
      "just : 0.010320891798604945\n",
      "jesus : 0.01009179209040601\n",
      "say : 0.009923609097587726\n",
      "know : 0.008802096584230647\n",
      "like : 0.008445597225743822\n",
      "time : 0.007227534559055178\n",
      "true : 0.007177391886006824\n",
      "way : 0.007116106157627439\n",
      "life : 0.006691178334573095\n",
      "question : 0.006635274765708483\n",
      "good : 0.006511182744946799\n",
      "make : 0.006505774231532127\n",
      "things : 0.00634022634922335\n",
      "israel : 0.006314447957110356\n",
      "\n",
      "[Topic 8]\n",
      "know : 0.02084026377842588\n",
      "thanks : 0.02004603785923407\n",
      "like : 0.017712648630046273\n",
      "file : 0.016843371886460543\n",
      "use : 0.01592734499197518\n",
      "does : 0.015686372368193854\n",
      "don : 0.013452922920348517\n",
      "just : 0.012255548254389185\n",
      "problem : 0.01149670947391793\n",
      "help : 0.011339457759682016\n",
      "windows : 0.010578218245142773\n",
      "want : 0.009746468826662831\n",
      "files : 0.00964050249341239\n",
      "need : 0.009517829638799323\n",
      "ve : 0.009153773098338543\n",
      "edu : 0.00914708737862593\n",
      "mail : 0.00888890466116911\n",
      "using : 0.008269066288287105\n",
      "hi : 0.007652085721994726\n",
      "window : 0.007480680480211786\n",
      "\n",
      "\n",
      "\n",
      "--------------------------------------------------------------------------------\n",
      "Number of topics: 10\n",
      "\n",
      "Displaying the top 20 words per topic and their probabilities within the topic...\n",
      "\n",
      "[Topic 0]\n",
      "good : 0.01592254908129389\n",
      "like : 0.01584763067117222\n",
      "just : 0.015714974597809874\n",
      "think : 0.014658035148150044\n",
      "don : 0.01336602502776772\n",
      "time : 0.012159230893303024\n",
      "year : 0.011442050656933937\n",
      "new : 0.008768217977593912\n",
      "years : 0.00843922077825026\n",
      "game : 0.008416482579473757\n",
      "make : 0.008318270139852606\n",
      "ve : 0.00805613381872604\n",
      "know : 0.00786552901690738\n",
      "going : 0.007357414502894818\n",
      "better : 0.007305177940555176\n",
      "really : 0.007282768897233162\n",
      "got : 0.007100242166187475\n",
      "way : 0.007020258221618519\n",
      "team : 0.006901091494924322\n",
      "car : 0.006860678090522195\n",
      "\n",
      "[Topic 1]\n",
      "drive : 0.025114459755967225\n",
      "card : 0.01904504522714293\n",
      "scsi : 0.01574807346309645\n",
      "disk : 0.015086151949241311\n",
      "use : 0.01311205775591249\n",
      "output : 0.012487568705565076\n",
      "file : 0.011474974819227298\n",
      "bit : 0.011450491727323115\n",
      "hard : 0.010426435918865882\n",
      "entry : 0.009962381704950415\n",
      "memory : 0.009892936703385204\n",
      "mac : 0.009531449582937765\n",
      "video : 0.009451338641933656\n",
      "drives : 0.009074000962777757\n",
      "pc : 0.0090703286112168\n",
      "windows : 0.008135023862197355\n",
      "16 : 0.00798823814975238\n",
      "bus : 0.007927283819698584\n",
      "controller : 0.007902057876189581\n",
      "program : 0.00784268458596016\n",
      "\n",
      "[Topic 2]\n",
      "10 : 0.032029220388909305\n",
      "00 : 0.026964330541393168\n",
      "25 : 0.021829691245344042\n",
      "15 : 0.0206063577495655\n",
      "11 : 0.02060435039972444\n",
      "20 : 0.02049576092374077\n",
      "12 : 0.020376684447947477\n",
      "14 : 0.018055470834875288\n",
      "16 : 0.016460265629681656\n",
      "13 : 0.016023012407497653\n",
      "17 : 0.016018903187206005\n",
      "18 : 0.015931416080248326\n",
      "30 : 0.013487129884524487\n",
      "50 : 0.013323083130055324\n",
      "24 : 0.01312690458019883\n",
      "19 : 0.012520561557602226\n",
      "55 : 0.01250023314639117\n",
      "21 : 0.01226424792228292\n",
      "40 : 0.01192815257556637\n",
      "22 : 0.011207231765196151\n",
      "\n",
      "[Topic 3]\n",
      "key : 0.02286656504255774\n",
      "government : 0.020853124988437204\n",
      "gun : 0.016677031123281342\n",
      "db : 0.015171423239595656\n",
      "law : 0.014649075730175279\n",
      "use : 0.014111126676381442\n",
      "people : 0.012470526208203755\n",
      "encryption : 0.010285224622752638\n",
      "public : 0.010243636203369282\n",
      "state : 0.009947341601966503\n",
      "chip : 0.009825392329557068\n",
      "keys : 0.008779074363170275\n",
      "clipper : 0.00860324584622739\n",
      "states : 0.00831822632566845\n",
      "control : 0.008226551411556786\n",
      "number : 0.008019292972255121\n",
      "used : 0.007703329865061306\n",
      "guns : 0.007611516117671719\n",
      "health : 0.0074015183803604065\n",
      "right : 0.006935759695920386\n",
      "\n",
      "[Topic 4]\n",
      "people : 0.02431129507816113\n",
      "said : 0.02424559321880428\n",
      "mr : 0.014104981910179977\n",
      "know : 0.013468288248487321\n",
      "armenian : 0.013342199409186437\n",
      "did : 0.01241301316278436\n",
      "don : 0.011539776119380056\n",
      "didn : 0.010944034432906041\n",
      "armenians : 0.01092331207436881\n",
      "turkish : 0.010132982460837872\n",
      "going : 0.009685278853463312\n",
      "went : 0.009482314763594613\n",
      "time : 0.009318116756590049\n",
      "president : 0.009271538629901233\n",
      "just : 0.009064415387593214\n",
      "war : 0.008272822237163071\n",
      "stephanopoulos : 0.008264930815089574\n",
      "jews : 0.007943422443838038\n",
      "say : 0.00778579920403193\n",
      "like : 0.007637486984592752\n",
      "\n",
      "[Topic 5]\n",
      "edu : 0.020183125501381658\n",
      "available : 0.01462208677587774\n",
      "window : 0.0145175966975094\n",
      "windows : 0.014508094728017699\n",
      "image : 0.014202932981631174\n",
      "version : 0.013567233933254529\n",
      "use : 0.013559184672232326\n",
      "software : 0.012291845460115209\n",
      "program : 0.011764165563758247\n",
      "graphics : 0.011586390886004624\n",
      "ftp : 0.010473416938225266\n",
      "server : 0.010462468444821689\n",
      "file : 0.010300988884546303\n",
      "using : 0.010279537804707145\n",
      "dos : 0.01018612827417759\n",
      "com : 0.010041868375764224\n",
      "display : 0.00950825069896609\n",
      "sun : 0.00841184948299741\n",
      "set : 0.008165843948144175\n",
      "motif : 0.008043634521501537\n",
      "\n",
      "[Topic 6]\n",
      "space : 0.02122937597565116\n",
      "information : 0.020605813849808002\n",
      "edu : 0.01308609835593781\n",
      "mail : 0.012122425926729597\n",
      "data : 0.012063443176285979\n",
      "new : 0.011922325100362566\n",
      "internet : 0.011805664499152158\n",
      "university : 0.011648063401924154\n",
      "nasa : 0.011260324762512446\n",
      "research : 0.011214434673689003\n",
      "computer : 0.010579251202203384\n",
      "send : 0.010082352367484646\n",
      "file : 0.009827860114832524\n",
      "anonymous : 0.009393114153924213\n",
      "list : 0.00884288720549653\n",
      "email : 0.008556680088168823\n",
      "technology : 0.008502540090233126\n",
      "address : 0.008453084833023794\n",
      "available : 0.008312068272885744\n",
      "com : 0.00801043664202556\n",
      "\n",
      "[Topic 7]\n",
      "god : 0.024214358169839564\n",
      "people : 0.019831156312240143\n",
      "think : 0.012548053861881268\n",
      "does : 0.011687743323611263\n",
      "jesus : 0.011293758739612999\n",
      "believe : 0.011272045532292002\n",
      "don : 0.010834089093902355\n",
      "say : 0.010114162234632518\n",
      "just : 0.009461924824189793\n",
      "know : 0.008276216060086664\n",
      "true : 0.007825806533253571\n",
      "like : 0.007419673532456676\n",
      "way : 0.007242156428134814\n",
      "life : 0.007196868607195379\n",
      "christian : 0.007055010808531854\n",
      "time : 0.0070227629792582015\n",
      "israel : 0.006934392612716913\n",
      "bible : 0.006745791914802942\n",
      "question : 0.0064075417201172645\n",
      "things : 0.00637398445911145\n",
      "\n",
      "[Topic 8]\n",
      "know : 0.026134132260814825\n",
      "like : 0.021317018148473164\n",
      "don : 0.020053165678589904\n",
      "thanks : 0.019992616431884633\n",
      "just : 0.017657856830905833\n",
      "does : 0.0150396282979183\n",
      "ve : 0.012652637710485493\n",
      "help : 0.01128297754768276\n",
      "want : 0.010651057192301491\n",
      "use : 0.010537774368367085\n",
      "mail : 0.010021837288920494\n",
      "problem : 0.00966309187171309\n",
      "edu : 0.009128531452268497\n",
      "good : 0.009109138814944394\n",
      "post : 0.008996488682684118\n",
      "file : 0.008922092098023733\n",
      "need : 0.008706364795622623\n",
      "looking : 0.0073136427958200205\n",
      "time : 0.007174443660697419\n",
      "bike : 0.007034238505179918\n",
      "\n",
      "[Topic 9]\n",
      "ax : 0.7717971886082466\n",
      "max : 0.055921756933680296\n",
      "g9v : 0.015168170327094601\n",
      "b8f : 0.014757516856658555\n",
      "a86 : 0.012197776886748507\n",
      "pl : 0.010147908394792498\n",
      "145 : 0.009912072552667453\n",
      "1d9 : 0.008447141779981918\n",
      "1t : 0.006448628175420717\n",
      "0t : 0.006215924619143329\n",
      "bhj : 0.005901090271008161\n",
      "3t : 0.005517813662944112\n",
      "34u : 0.005463059915719654\n",
      "giz : 0.00529879860622197\n",
      "2di : 0.005244044809233216\n",
      "wm : 0.004677791543976195\n",
      "2tm : 0.004450114768534644\n",
      "75u : 0.00445011475803213\n",
      "7ey : 0.003574054032872233\n",
      "0d : 0.0031497118103811115\n",
      "\n",
      "\n",
      "\n"
     ]
    }
   ],
   "source": [
    "k_values = range(2, 11)\n",
    "avg_coherences = []\n",
    "avg_num_unique_words = []\n",
    "\n",
    "for k in k_values:\n",
    "    lda_candidate = LatentDirichletAllocation(n_components=k, random_state=0)\n",
    "    lda_candidate.fit(tf)\n",
    "    topic_word_distributions = np.array([row / row.sum() for row in lda_candidate.components_])\n",
    "    print('-' * 80)\n",
    "    print('Number of topics:', k)\n",
    "    print()\n",
    "    print_top_words(topic_word_distributions, num_top_words, tf_vectorizer)\n",
    "    print()\n",
    "    print()\n",
    "    \n",
    "    avg_coherences.append(compute_average_coherence(topic_word_distributions, num_top_words, tf_vectorizer, False))\n",
    "    avg_num_unique_words.append(compute_average_num_unique_words(topic_word_distributions, num_top_words, tf_vectorizer, False))"
   ]
  },
  {
   "cell_type": "code",
   "execution_count": 40,
   "metadata": {},
   "outputs": [
    {
     "data": {
      "text/plain": [
       "Text(0, 0.5, 'Average coherence')"
      ]
     },
     "execution_count": 40,
     "metadata": {},
     "output_type": "execute_result"
    },
    {
     "data": {
      "image/png": "[encoded data removed]",
      "text/plain": [
       "<Figure size 432x288 with 1 Axes>"
      ]
     },
     "metadata": {
      "needs_background": "light"
     },
     "output_type": "display_data"
    }
   ],
   "source": [
    "plt.plot(k_values, avg_coherences)\n",
    "plt.xlabel('Number of topics')\n",
    "plt.ylabel('Average coherence')\n",
    "\n",
    "# For differnt number of topics, I fitted a different LDA\n",
    "\n"
   ]
  },
  {
   "cell_type": "code",
   "execution_count": 41,
   "metadata": {},
   "outputs": [
    {
     "data": {
      "text/plain": [
       "Text(0, 0.5, 'Average number of unique words')"
      ]
     },
     "execution_count": 41,
     "metadata": {},
     "output_type": "execute_result"
    },
    {
     "data": {
      "image/png": "[encoded data removed]",
      "text/plain": [
       "<Figure size 432x288 with 1 Axes>"
      ]
     },
     "metadata": {
      "needs_background": "light"
     },
     "output_type": "display_data"
    }
   ],
   "source": [
    "plt.plot(k_values, avg_num_unique_words)\n",
    "plt.xlabel('Number of topics')\n",
    "plt.ylabel('Average number of unique words')\n",
    "\n",
    "# For different topic models, the average number of unique words\n",
    "# We want coherence to be high and unique words to be high\n",
    "\n",
    "# Number of topic = 2, gets me high coherence and hogh unique words. BUT, for model 2, there are 2 topics: garbage and not garbage!\n",
    "# that doesnt help a lot\n",
    "\n",
    "# So, you want to tolerate a lower value for one of the metrics, but look at the actual topics to interpret what is going on\n",
    "# If we see resutlts of 4, starts to make more ssense but feels like still low\n",
    "# go to 5, starts to make a bit more sense\n",
    "\n"
   ]
  }
 ],
 "metadata": {
  "kernelspec": {
   "display_name": "Python 3.8.11 ('UDA_RIG')",
   "language": "python",
   "name": "python3"
  },
  "language_info": {
   "codemirror_mode": {
    "name": "ipython",
    "version": 3
   },
   "file_extension": ".py",
   "mimetype": "text/x-python",
   "name": "python",
   "nbconvert_exporter": "python",
   "pygments_lexer": "ipython3",
   "version": "3.9.16"
  },
  "vscode": {
   "interpreter": {
    "hash": "d1a526087eeeed7e3a2dd7dbe3d8582928a2e8e80d21671a2817819bcd9f426f"
   }
  }
 },
 "nbformat": 4,
 "nbformat_minor": 2
}

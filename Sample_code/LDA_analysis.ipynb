{
 "cells": [
  {
   "attachments": {},
   "cell_type": "markdown",
   "metadata": {},
   "source": [
    "# TO DO\n",
    "Visualizations  \n",
    "Preprocessing  \n",
    "Complete dataset  \n",
    "Split by government, media, public  \n",
    "**REmoveAdditional stopwords: add_stopwords = ['rt','train','southern','east','derailment','norfolk','palestine','february','u','ohio','month','week','news','please']**"
   ]
  },
  {
   "attachments": {},
   "cell_type": "markdown",
   "metadata": {},
   "source": [
    "# LDA"
   ]
  },
  {
   "cell_type": "markdown",
   "metadata": {},
   "source": [
    "We'll use NumPy."
   ]
  },
  {
   "cell_type": "code",
   "execution_count": 2,
   "metadata": {},
   "outputs": [
    {
     "name": "stderr",
     "output_type": "stream",
     "text": [
      "[nltk_data] Downloading package punkt to /Users/ribarragi/nltk_data...\n",
      "[nltk_data]   Package punkt is already up-to-date!\n",
      "[nltk_data] Downloading package stopwords to\n",
      "[nltk_data]     /Users/ribarragi/nltk_data...\n",
      "[nltk_data]   Package stopwords is already up-to-date!\n",
      "[nltk_data] Downloading package wordnet to\n",
      "[nltk_data]     /Users/ribarragi/nltk_data...\n",
      "[nltk_data]   Package wordnet is already up-to-date!\n",
      "[nltk_data] Downloading package omw-1.4 to\n",
      "[nltk_data]     /Users/ribarragi/nltk_data...\n",
      "[nltk_data]   Package omw-1.4 is already up-to-date!\n",
      "[nltk_data] Downloading package averaged_perceptron_tagger to\n",
      "[nltk_data]     /Users/ribarragi/nltk_data...\n",
      "[nltk_data]   Unzipping taggers/averaged_perceptron_tagger.zip.\n"
     ]
    },
    {
     "data": {
      "text/plain": [
       "True"
      ]
     },
     "execution_count": 2,
     "metadata": {},
     "output_type": "execute_result"
    }
   ],
   "source": [
    "%matplotlib inline\n",
    "import matplotlib.pyplot as plt\n",
    "import numpy as np\n",
    "np.set_printoptions(precision=5, suppress=True)\n",
    "import pandas as pd\n",
    "# data: 20 news groups\n",
    "\n",
    "import nltk\n",
    "from nltk.corpus import stopwords, wordnet\n",
    "from nltk.tokenize import RegexpTokenizer\n",
    "from nltk.stem import WordNetLemmatizer \n",
    "nltk.download('punkt')\n",
    "nltk.download('stopwords')\n",
    "nltk.download('wordnet')\n",
    "nltk.download('omw-1.4')\n",
    "nltk.download('averaged_perceptron_tagger')"
   ]
  },
  {
   "cell_type": "markdown",
   "metadata": {},
   "source": [
    "## Latent Dirichlet Allocation"
   ]
  },
  {
   "cell_type": "markdown",
   "metadata": {},
   "source": [
    "We first load in 10,000 posts from the 20 Newsgroups dataset."
   ]
  },
  {
   "cell_type": "code",
   "execution_count": 4,
   "metadata": {},
   "outputs": [],
   "source": [
    "# Data preprocessing (From Elaine's)\n",
    "df = pd.read_csv('../data/data_tweet.csv')\n",
    "\n",
    "\n",
    "# remove stopwords (not impacting sentiment analysis) and punctuations\n",
    "stop_words = set(stopwords.words('english')) - set([\"no\", \"not\", \"nor\", \"against\", \"aren't\", \"couldn't\", \"didn't\", \n",
    "                                                   \"doesn't\", \"don't\", \"haven't\", \"hadn't\", \"hasn't\", \"isn't\", \"mightn't\",\n",
    "                                                   \"mustn't\", \"needn't\", \"shouldn't\", \"wasn't\", \"weren't\", \"wouldn't\"])\n",
    "tokenizer = RegexpTokenizer(r'\\w+')\n",
    "\n",
    "# normalize pos tags\n",
    "lemmatizer = WordNetLemmatizer()\n",
    "\n",
    "def pos_tagger(nltk_tag):\n",
    "  if nltk_tag.startswith('J'):\n",
    "      return wordnet.ADJ\n",
    "  elif nltk_tag.startswith('V'):\n",
    "      return wordnet.VERB\n",
    "  elif nltk_tag.startswith('N'):\n",
    "      return wordnet.NOUN\n",
    "  elif nltk_tag.startswith('R'):\n",
    "      return wordnet.ADV\n",
    "  else:         \n",
    "      return None\n",
    "\n",
    "\n",
    "# lemmatize each token with pos tag\n",
    "def lemma_token(row):\n",
    "  wordnet_tagged = list(map(lambda x: (x[0], pos_tagger(x[1])), row))\n",
    "  lemmatized = []\n",
    "  for word, tag in wordnet_tagged:\n",
    "    if tag is None:\n",
    "        # if there is no available tag, just append the original token\n",
    "        lemmatized.append(word)\n",
    "    else:       \n",
    "        # else use the pos tag to lemmatize the token\n",
    "        lemmatized.append(lemmatizer.lemmatize(word, tag))\n",
    "  return lemmatized\n",
    "\n",
    "# remove urls\n",
    "df['Message_no_url'] = df['MESSAGE'].apply(lambda x: \" \".join([word for word in x.split(\" \") if not(word.startswith((\"https://\", 'http://')))]))\n",
    "\n",
    "# tokenize MESSAGE and remove stopwords\n",
    "df['Text'] = df['Message_no_url'].map(tokenizer.tokenize)\n",
    "df['Text'] = df['Text'].apply(lambda x : nltk.pos_tag([item.lower() for item in x if item.lower() not in stop_words]))\n",
    "\n",
    "# apply lemmatization and reset index\n",
    "df['Text'] = df['Text'].apply(lambda row : lemma_token(row))\n",
    "df = df.reset_index(drop=True)\n",
    "\n",
    "# join words\n",
    "df['T_text'] = df['Text'].apply(lambda row : \" \".join(row))"
   ]
  },
  {
   "cell_type": "code",
   "execution_count": 5,
   "metadata": {},
   "outputs": [
    {
     "data": {
      "text/html": [
       "<div>\n",
       "<style scoped>\n",
       "    .dataframe tbody tr th:only-of-type {\n",
       "        vertical-align: middle;\n",
       "    }\n",
       "\n",
       "    .dataframe tbody tr th {\n",
       "        vertical-align: top;\n",
       "    }\n",
       "\n",
       "    .dataframe thead th {\n",
       "        text-align: right;\n",
       "    }\n",
       "</style>\n",
       "<table border=\"1\" class=\"dataframe\">\n",
       "  <thead>\n",
       "    <tr style=\"text-align: right;\">\n",
       "      <th></th>\n",
       "      <th>LANGUAGE</th>\n",
       "      <th>LOCATION</th>\n",
       "      <th>SENDER</th>\n",
       "      <th>MESSAGE</th>\n",
       "      <th>Impressions</th>\n",
       "      <th>NUMBER_FOLLOWERS</th>\n",
       "      <th>RETWEET_COUNT</th>\n",
       "      <th>Twitter Likes</th>\n",
       "      <th>IS_VERIFIED</th>\n",
       "      <th>HAS_URL</th>\n",
       "      <th>...</th>\n",
       "      <th>TIME</th>\n",
       "      <th>IS_IN_REPLY_TO</th>\n",
       "      <th>IS_NEWS_AGENCY</th>\n",
       "      <th>TWEET_COUNT</th>\n",
       "      <th>IS_MEDIA</th>\n",
       "      <th>IS_GOVT</th>\n",
       "      <th>IS_PEOPLE</th>\n",
       "      <th>Message_no_url</th>\n",
       "      <th>Text</th>\n",
       "      <th>T_text</th>\n",
       "    </tr>\n",
       "  </thead>\n",
       "  <tbody>\n",
       "    <tr>\n",
       "      <th>0</th>\n",
       "      <td>en</td>\n",
       "      <td>USA</td>\n",
       "      <td>TurnKyBlue</td>\n",
       "      <td>RT @TristanSnell Get rid of train safety rules...</td>\n",
       "      <td>4414.0</td>\n",
       "      <td>4414.0</td>\n",
       "      <td>0.0</td>\n",
       "      <td>0.0</td>\n",
       "      <td>0.0</td>\n",
       "      <td>0.0</td>\n",
       "      <td>...</td>\n",
       "      <td>21:56:12</td>\n",
       "      <td>NaN</td>\n",
       "      <td>NaN</td>\n",
       "      <td>NaN</td>\n",
       "      <td>0</td>\n",
       "      <td>0</td>\n",
       "      <td>1</td>\n",
       "      <td>RT @TristanSnell Get rid of train safety rules...</td>\n",
       "      <td>[rt, tristansnell, get, rid, train, safety, ru...</td>\n",
       "      <td>rt tristansnell get rid train safety rule get ...</td>\n",
       "    </tr>\n",
       "    <tr>\n",
       "      <th>1</th>\n",
       "      <td>en</td>\n",
       "      <td>NaN</td>\n",
       "      <td>jrbkjrbk</td>\n",
       "      <td>RT @realTuckFrumper Ohio Sues Norfolk Southern...</td>\n",
       "      <td>1011.0</td>\n",
       "      <td>1011.0</td>\n",
       "      <td>0.0</td>\n",
       "      <td>0.0</td>\n",
       "      <td>0.0</td>\n",
       "      <td>1.0</td>\n",
       "      <td>...</td>\n",
       "      <td>21:56:03</td>\n",
       "      <td>NaN</td>\n",
       "      <td>NaN</td>\n",
       "      <td>NaN</td>\n",
       "      <td>0</td>\n",
       "      <td>0</td>\n",
       "      <td>1</td>\n",
       "      <td>RT @realTuckFrumper Ohio Sues Norfolk Southern...</td>\n",
       "      <td>[rt, realtuckfrumper, ohio, sue, norfolk, sout...</td>\n",
       "      <td>rt realtuckfrumper ohio sue norfolk southern t...</td>\n",
       "    </tr>\n",
       "    <tr>\n",
       "      <th>2</th>\n",
       "      <td>en</td>\n",
       "      <td>NaN</td>\n",
       "      <td>camoxendale</td>\n",
       "      <td>RT @SenJeffMerkley We need accountability from...</td>\n",
       "      <td>990.0</td>\n",
       "      <td>990.0</td>\n",
       "      <td>0.0</td>\n",
       "      <td>0.0</td>\n",
       "      <td>0.0</td>\n",
       "      <td>0.0</td>\n",
       "      <td>...</td>\n",
       "      <td>21:55:12</td>\n",
       "      <td>NaN</td>\n",
       "      <td>NaN</td>\n",
       "      <td>NaN</td>\n",
       "      <td>0</td>\n",
       "      <td>0</td>\n",
       "      <td>1</td>\n",
       "      <td>RT @SenJeffMerkley We need accountability from...</td>\n",
       "      <td>[rt, senjeffmerkley, need, accountability, nor...</td>\n",
       "      <td>rt senjeffmerkley need accountability norfolk ...</td>\n",
       "    </tr>\n",
       "    <tr>\n",
       "      <th>3</th>\n",
       "      <td>en</td>\n",
       "      <td>NaN</td>\n",
       "      <td>strongfemchar</td>\n",
       "      <td>RT @nicksortor 🚨 #BREAKING: The State of Ohio ...</td>\n",
       "      <td>64.0</td>\n",
       "      <td>64.0</td>\n",
       "      <td>0.0</td>\n",
       "      <td>0.0</td>\n",
       "      <td>0.0</td>\n",
       "      <td>0.0</td>\n",
       "      <td>...</td>\n",
       "      <td>21:54:42</td>\n",
       "      <td>NaN</td>\n",
       "      <td>NaN</td>\n",
       "      <td>NaN</td>\n",
       "      <td>0</td>\n",
       "      <td>0</td>\n",
       "      <td>1</td>\n",
       "      <td>RT @nicksortor 🚨 #BREAKING: The State of Ohio ...</td>\n",
       "      <td>[rt, nicksortor, break, state, ohio, sue, norf...</td>\n",
       "      <td>rt nicksortor break state ohio sue norfolk sou...</td>\n",
       "    </tr>\n",
       "  </tbody>\n",
       "</table>\n",
       "<p>4 rows × 24 columns</p>\n",
       "</div>"
      ],
      "text/plain": [
       "  LANGUAGE LOCATION         SENDER  \\\n",
       "0       en      USA     TurnKyBlue   \n",
       "1       en      NaN       jrbkjrbk   \n",
       "2       en      NaN    camoxendale   \n",
       "3       en      NaN  strongfemchar   \n",
       "\n",
       "                                             MESSAGE  Impressions  \\\n",
       "0  RT @TristanSnell Get rid of train safety rules...       4414.0   \n",
       "1  RT @realTuckFrumper Ohio Sues Norfolk Southern...       1011.0   \n",
       "2  RT @SenJeffMerkley We need accountability from...        990.0   \n",
       "3  RT @nicksortor 🚨 #BREAKING: The State of Ohio ...         64.0   \n",
       "\n",
       "   NUMBER_FOLLOWERS  RETWEET_COUNT  Twitter Likes  IS_VERIFIED  HAS_URL  ...  \\\n",
       "0            4414.0            0.0            0.0          0.0      0.0  ...   \n",
       "1            1011.0            0.0            0.0          0.0      1.0  ...   \n",
       "2             990.0            0.0            0.0          0.0      0.0  ...   \n",
       "3              64.0            0.0            0.0          0.0      0.0  ...   \n",
       "\n",
       "       TIME  IS_IN_REPLY_TO  IS_NEWS_AGENCY TWEET_COUNT IS_MEDIA  IS_GOVT  \\\n",
       "0  21:56:12             NaN             NaN         NaN        0        0   \n",
       "1  21:56:03             NaN             NaN         NaN        0        0   \n",
       "2  21:55:12             NaN             NaN         NaN        0        0   \n",
       "3  21:54:42             NaN             NaN         NaN        0        0   \n",
       "\n",
       "   IS_PEOPLE                                     Message_no_url  \\\n",
       "0          1  RT @TristanSnell Get rid of train safety rules...   \n",
       "1          1  RT @realTuckFrumper Ohio Sues Norfolk Southern...   \n",
       "2          1  RT @SenJeffMerkley We need accountability from...   \n",
       "3          1  RT @nicksortor 🚨 #BREAKING: The State of Ohio ...   \n",
       "\n",
       "                                                Text  \\\n",
       "0  [rt, tristansnell, get, rid, train, safety, ru...   \n",
       "1  [rt, realtuckfrumper, ohio, sue, norfolk, sout...   \n",
       "2  [rt, senjeffmerkley, need, accountability, nor...   \n",
       "3  [rt, nicksortor, break, state, ohio, sue, norf...   \n",
       "\n",
       "                                              T_text  \n",
       "0  rt tristansnell get rid train safety rule get ...  \n",
       "1  rt realtuckfrumper ohio sue norfolk southern t...  \n",
       "2  rt senjeffmerkley need accountability norfolk ...  \n",
       "3  rt nicksortor break state ohio sue norfolk sou...  \n",
       "\n",
       "[4 rows x 24 columns]"
      ]
     },
     "execution_count": 5,
     "metadata": {},
     "output_type": "execute_result"
    }
   ],
   "source": [
    "df.head(4)"
   ]
  },
  {
   "cell_type": "code",
   "execution_count": 7,
   "metadata": {},
   "outputs": [
    {
     "data": {
      "text/plain": [
       "85220"
      ]
     },
     "execution_count": 7,
     "metadata": {},
     "output_type": "execute_result"
    }
   ],
   "source": [
    "len(df)"
   ]
  },
  {
   "cell_type": "code",
   "execution_count": 3,
   "metadata": {},
   "outputs": [
    {
     "data": {
      "text/plain": [
       "85220"
      ]
     },
     "execution_count": 3,
     "metadata": {},
     "output_type": "execute_result"
    }
   ],
   "source": [
    "# tweet_data = pd.read_csv('../data/data_tweet.csv')\n",
    "# tweet_data = [i for i in tweet_data.MESSAGE]\n",
    "# len(tweet_data)"
   ]
  },
  {
   "cell_type": "code",
   "execution_count": 8,
   "metadata": {},
   "outputs": [],
   "source": [
    "import random\n",
    "sample_size = 10000\n",
    "random.seed(1)\n",
    "# We will use a random sample of 10k tweets to test\n",
    "idx_sample = random.sample(range(len(df.T_text)), sample_size)\n",
    "# sample_data is a list of strings, each string is a tweet. ssample_Data is length 10k\n",
    "sample_data = [df.T_text[i] for i in idx_sample]"
   ]
  },
  {
   "cell_type": "code",
   "execution_count": 10,
   "metadata": {},
   "outputs": [
    {
     "data": {
      "text/plain": [
       "10000"
      ]
     },
     "execution_count": 10,
     "metadata": {},
     "output_type": "execute_result"
    }
   ],
   "source": [
    "len(sample_data)"
   ]
  },
  {
   "cell_type": "markdown",
   "metadata": {},
   "source": [
    "We now fit a `CountVectorizer` model that will compute, for each post, what its raw word count histograms are (the \"term frequencies\" we saw in week 1).\n",
    "\n",
    "The output of the following cell is the term-frequencies matrix, where rows index different posts/text documents, and columns index 1000 different vocabulary words. A note about the arguments to `CountVectorizer`:\n",
    "\n",
    "- `max_df`: we only keep words that appear in at most this fraction of the documents\n",
    "- `min_df`: we only keep words that appear in at least this many documents\n",
    "- `stop_words`: whether to remove stop words\n",
    "- `max_features`: among words that don't get removed due to the above 3 arguments, we keep the top `max_features` number of most frequently occuring words"
   ]
  },
  {
   "cell_type": "code",
   "execution_count": 11,
   "metadata": {},
   "outputs": [],
   "source": [
    "from sklearn.feature_extraction.text import CountVectorizer\n",
    "# We could cap the size of the vocab to vocab_size, right no, we wont\n",
    "vocab_size = 1000\n",
    "\n",
    "\n",
    "# CountVectorizer does tokenization\n",
    "# min_df: words in less than 2 documents, we throw it away\n",
    "# max_df filters for the words were keeping track of:words that show up in more than 95% of document, we throw away, not\n",
    "# semantically interesting; we can use it as an int (50: then every word appearing in omre than 50 docs, goes away)\n",
    "\n",
    "# max_features: here is 1,000: after I do the max_df, min_df and stopwords filetrs, I look at how many words I have left: if its greater than\n",
    "# max_features, I only keep the most popular. BUT, if the words left after the 3 filters is less than max_features, then it will be ignored. \n",
    "# document frequency (df) means number of documents a word appears in\n",
    "\n",
    "# min_df = 2\n",
    "# max_df = 0.95\n",
    "\n",
    "# tf_vectorizer = CountVectorizer(max_df=0.95,\n",
    "#                                 min_df=2,\n",
    "#                                 stop_words='english',\n",
    "#                                 max_features=vocab_size)\n",
    "\n",
    "tf_vectorizer = CountVectorizer(stop_words='english')\n",
    "\n",
    "# tf: term frequency vectorizer\n",
    "\n",
    "# the fitting is learning the vocabulary: goes thru all the data and know the words it needs to keep track of\n",
    "# transform: Ive done the fitting, Ill go back to data points and convert each one into a feat vector representation using the vocab i learnt during fitting\n",
    "tf_fit = tf_vectorizer.fit(sample_data)\n",
    "tf = tf_vectorizer.fit_transform(sample_data)\n"
   ]
  },
  {
   "cell_type": "code",
   "execution_count": 12,
   "metadata": {},
   "outputs": [
    {
     "data": {
      "text/plain": [
       "0"
      ]
     },
     "execution_count": 12,
     "metadata": {},
     "output_type": "execute_result"
    }
   ],
   "source": [
    "tf.toarray()[0, 1]"
   ]
  },
  {
   "cell_type": "code",
   "execution_count": 13,
   "metadata": {},
   "outputs": [
    {
     "data": {
      "text/plain": [
       "(10000, 14489)"
      ]
     },
     "execution_count": 13,
     "metadata": {},
     "output_type": "execute_result"
    }
   ],
   "source": [
    "# size of the matrix (documents, words)\n",
    "tf.toarray().shape"
   ]
  },
  {
   "cell_type": "code",
   "execution_count": 14,
   "metadata": {},
   "outputs": [
    {
     "data": {
      "text/plain": [
       "7"
      ]
     },
     "execution_count": 14,
     "metadata": {},
     "output_type": "execute_result"
    }
   ],
   "source": [
    "# seems like the highest term-doc freq is 9\n",
    "max_freq = np.unique(tf.toarray().flatten()).max()\n",
    "max_freq"
   ]
  },
  {
   "cell_type": "code",
   "execution_count": 15,
   "metadata": {},
   "outputs": [
    {
     "data": {
      "text/plain": [
       "[156, 5354]"
      ]
     },
     "execution_count": 15,
     "metadata": {},
     "output_type": "execute_result"
    }
   ],
   "source": [
    "# Just for curiosity, I want to know which doc / word combination has highest valeus\n",
    "max_freq_idx = list(np.argwhere(tf.toarray()==max_freq)[0])\n",
    "max_freq_idx"
   ]
  },
  {
   "cell_type": "code",
   "execution_count": 16,
   "metadata": {},
   "outputs": [],
   "source": [
    "max_freq_doc, max_freq_word = max_freq_idx"
   ]
  },
  {
   "cell_type": "code",
   "execution_count": 17,
   "metadata": {},
   "outputs": [
    {
     "data": {
      "text/plain": [
       "'breitbartnews ohio gop gov gop senate gop house norfolk southern train derail gop county ceo huge gop trump donor gop gov set toxin fire gop gov call biden back day delay declare disaster ask feed help'"
      ]
     },
     "execution_count": 17,
     "metadata": {},
     "output_type": "execute_result"
    }
   ],
   "source": [
    "sample_data[max_freq_doc]"
   ]
  },
  {
   "cell_type": "code",
   "execution_count": 18,
   "metadata": {},
   "outputs": [
    {
     "data": {
      "text/plain": [
       "'gop'"
      ]
     },
     "execution_count": 18,
     "metadata": {},
     "output_type": "execute_result"
    }
   ],
   "source": [
    "# to print out the vocabulary in the doc-word freq matrix\n",
    "tf_vectorizer.get_feature_names_out()[max_freq_word]\n",
    "\n",
    "# In this case, its https because of a series of links, we should discard urls"
   ]
  },
  {
   "cell_type": "code",
   "execution_count": 19,
   "metadata": {},
   "outputs": [
    {
     "data": {
      "text/plain": [
       "array([ 14, 160,   1, ...,   1,   1,   1])"
      ]
     },
     "execution_count": 19,
     "metadata": {},
     "output_type": "execute_result"
    }
   ],
   "source": [
    "tf.toarray().sum(axis  = 0)"
   ]
  },
  {
   "cell_type": "code",
   "execution_count": 21,
   "metadata": {},
   "outputs": [
    {
     "data": {
      "text/plain": [
       "176"
      ]
     },
     "execution_count": 21,
     "metadata": {},
     "output_type": "execute_result"
    }
   ],
   "source": [
    "(tf[:, tf_fit.vocabulary_['gop']].toarray().flatten() > 0).sum()"
   ]
  },
  {
   "cell_type": "code",
   "execution_count": 22,
   "metadata": {},
   "outputs": [
    {
     "data": {
      "text/plain": [
       "array([[0],\n",
       "       [0],\n",
       "       [0],\n",
       "       ...,\n",
       "       [0],\n",
       "       [0],\n",
       "       [0]])"
      ]
     },
     "execution_count": 22,
     "metadata": {},
     "output_type": "execute_result"
    }
   ],
   "source": [
    "tf_fit.vocabulary_['gop']  #index for just\n",
    "tf[:, tf_fit.vocabulary_['gop']].toarray() # all rows just this one column\n"
   ]
  },
  {
   "cell_type": "code",
   "execution_count": 23,
   "metadata": {},
   "outputs": [
    {
     "data": {
      "text/plain": [
       "176"
      ]
     },
     "execution_count": 23,
     "metadata": {},
     "output_type": "execute_result"
    }
   ],
   "source": [
    "\n",
    "(tf[:, tf_vectorizer.vocabulary_['gop']].toarray().flatten() > 0).sum() # this gives you"
   ]
  },
  {
   "cell_type": "code",
   "execution_count": 17,
   "metadata": {},
   "outputs": [],
   "source": [
    "# tf_vectorizer.vocabulary_ # gives youi index of each word kept in the tf table"
   ]
  },
  {
   "cell_type": "markdown",
   "metadata": {},
   "source": [
    "We can verify that there are 10,000 rows (corresponding to posts), and 1000 columns (corresponding to words)."
   ]
  },
  {
   "cell_type": "code",
   "execution_count": 24,
   "metadata": {},
   "outputs": [
    {
     "data": {
      "text/plain": [
       "(10000, 14489)"
      ]
     },
     "execution_count": 24,
     "metadata": {},
     "output_type": "execute_result"
    }
   ],
   "source": [
    "tf.shape\n",
    "# 10,000 posts\n",
    "# 1,000 words\n"
   ]
  },
  {
   "cell_type": "markdown",
   "metadata": {},
   "source": [
    "A note about the `tf` matrix: this actually is stored as what's called a sparse matrix (rather than a 2D NumPy array that you're more familiar with). The reason is that often these matrices are really large and the vast majority of entries are 0, so it's possible to save space by not storing where the 0's are."
   ]
  },
  {
   "cell_type": "code",
   "execution_count": 19,
   "metadata": {},
   "outputs": [
    {
     "data": {
      "text/plain": [
       "scipy.sparse._csr.csr_matrix"
      ]
     },
     "execution_count": 19,
     "metadata": {},
     "output_type": "execute_result"
    }
   ],
   "source": [
    "type(tf)\n",
    "# this is not a numpy array, but a scipy matrix: keep only the non zero entries of the matrix: stored as a sparse matrix, or ill get a memory error"
   ]
  },
  {
   "cell_type": "markdown",
   "metadata": {},
   "source": [
    " To convert `tf` to a 2D NumPy table, you can run `tf.toarray()` (this does not modify the original `tf` variable)."
   ]
  },
  {
   "cell_type": "code",
   "execution_count": 20,
   "metadata": {},
   "outputs": [
    {
     "data": {
      "text/plain": [
       "numpy.ndarray"
      ]
     },
     "execution_count": 20,
     "metadata": {},
     "output_type": "execute_result"
    }
   ],
   "source": [
    "type(tf.toarray())\n",
    "# here I can covnert into array: a dense matrix, because the shape is not that large"
   ]
  },
  {
   "cell_type": "code",
   "execution_count": 25,
   "metadata": {},
   "outputs": [
    {
     "data": {
      "text/plain": [
       "(10000, 14489)"
      ]
     },
     "execution_count": 25,
     "metadata": {},
     "output_type": "execute_result"
    }
   ],
   "source": [
    "tf.toarray().shape"
   ]
  },
  {
   "cell_type": "markdown",
   "metadata": {},
   "source": [
    "We can figure out what words the different columns correspond to by using the `get_feature_names()` function; the output is in the same order as the column indices. In particular, we can index into the following list (i.e., so given a column index, we can figure out which word it corresponds to)."
   ]
  },
  {
   "cell_type": "code",
   "execution_count": 26,
   "metadata": {
    "scrolled": true
   },
   "outputs": [
    {
     "name": "stdout",
     "output_type": "stream",
     "text": [
      "['00', '000', '000ppm', '00am', '00pm', '01', '01iota', '02', '025ot0mkxw', '03', '03feb', '04', '044', '05', '06', '07', '08mamakitti08', '09', '0ddette', '0iy7kotfpf', '0keren9', '0llmy8vtha', '0xalaric', '10', '100', '1000', '1000s', '100ppm', '100s', '101', '101dalmatianstreet', '102', '103', '104', '1063word', '107', '109', '10a', '10am', '10b', '10bn', '10k', '10mi', '10mm_404', '10s', '10th', '10tv', '10yrs', '11', '1100', '111', '112', '112michelle112', '114th', '115', '115k', '116', '11llotus', '11m', '11th', '12', '120', '123info', '127', '129', '1290', '12m', '12p', '12th', '13', '132', '135', '137', '13molon', '13nvestr13', '13th', '14', '140', '141', '1480whbc', '149', '14th', '15', '150', '151', '159', '15th', '16', '164', '16waptnews', '17', '1700', '175f', '1776eagles', '177_mit', '17th', '18', '180', '1819news', '1851center', '18er1rwt9v', '18th', '18分钟开始曝光地下钱庄https', '19', '1900s', '1903', '191', '1919', '1960', '1960s', '1961mcruzer', '1970', '1974', '1978', '1982', '1983', '1984', '1985', '1986', '1990', '1990s', '1998', '19th', '1_real_lif3', '1b', '1condor78', '1er', '1followernodad', '1foreverseeking', '1k', '1m', '1medicmom', '1st', '1tblair', '20', '200', '2000', '2000s', '2002', '2003', '2005', '2006', '2007', '2008', '2010', '2011', '2012', '2013', '2014', '2015', '2016', '2017', '2018', '2019', '202', '2020', '2021', '2022', '2022年1月斯普林菲尔德也发生了一起火车事故', '2023', '2024', '2043', '20th', '21', '2110_atc', '212', '215', '219', '21st', '21wfmjnews', '21wire', '22', '222', '2222', '225', '22feb', '22nd', '23', '230', '231', '233128', '234', '238', '238171', '23rd', '23skidoost', '24', '240', '2400', '243', '2457klhu', '24k', '24rick45', '24x7', '25', '250', '253', '254', '255', '25k', '25ribbits', '26', '261', '26mph', '27', '28', '280', '29', '290', '2_acre_living', '2_off_the_grid', '2am', '2bn', '2fxukfpdkp', '2ihqwvpjpx', '2m', '2nd', '2seekergeorge', '2specialists', '2weeks', '2wks', '2ο', '30', '300', '3000', '30actruth', '30car', '30pm', '30th', '31', '315', '32', '321jz', '325', '32n', '32nasty', '330', '3354', '34', '340', '35', '350', '3500', '350_us', '350nhaction', '350vermont', '36', '362', '37', '375', '37th', '38', '380', '380m', '39', '3919', '3b', '3dancingmaidens', '3k', '3news', '3pm', '3rd', '3x', '40', '400', '4000', '4029news', '406', '40cw', '40pm', '41', '412', '417', '42', '42gnome', '43', '43k', '44', '4417cron', '448', '45', '451', '455', '45angelheart', '45bestwords', '45k', '45lvnancy', '45th', '46', '47', '4718', '47kna45', '47m', '48', '49mph', '4m', '4pm', '4rightandjust', '4th', '4wheeleddog', '50', '500', '5000', '500k', '500m', '503i7', '504k', '51', '514darkcholate', '52', '53', '530', '53pm', '542', '55', '550', '55bn', '55pm', '56', '5600', '57', '58', '580', '586', '58bugeye', '59', '59pm', '5b', '5hr', '5hrs', '5k', '5m', '5million', '5mm', '5p', '5pm', '5th', '5x', '60', '600', '62', '62walterp', '63', '64', '64483', '6474', '65', '650', '65320bob', '66', '6669', '6700', '671', '671m', '675', '681', '6am', '6b', '6ci7ypekym', '6m', '6th', '70', '700', '700wlw', '705', '70k', '71', '711573', '715', '72', '724242', '73', '734', '737', '738petey', '74', '743', '745b', '747', '75', '75k', '769525', '77', '79', '7b', '7m', '7mil', '7pm', '7th', '80', '801', '808constituent', '813', '814', '82', '827js', '83', '836522', '84', '841920meema6', '849', '88', '888', '88lurker88', '88mattr88', '89', '8brianvogel4', '8chan', '8h', '8nn', '8pm', '8th', '90', '900', '9025', '905wesa', '91', '917', '917wvxu', '91st', '94', '944', '946400', '95qcsc1srvi', '97', '98', '99', '999', '9b', '9news', '9pm', '9th', '9w', '_____', '___rudy', '___superluminal', '__passthemic__', '__stinkbug__', '__twicethefun__', '_belle_curve_', '_capitaloffense', '_cingraham', '_eric_reinhart', '_hughjasole_', '_johnnymaga', '_kel_varnsen_', '_matt_hammond_', '_medgold', '_raethemartian_', '_s_mith_', '_silversmith', '_smokeygirl25', '_starandrea78', '_stephaniehaney', '_stephaniemyers', '_the72', '_thisish', 'a14_g62', 'a3uqocu183', 'a_echosystems', 'a_nhdoglover', 'a_research_guru', 'a_w_gordon', 'aah', 'aar', 'aar_freightrail', 'aarohi', 'aaronjmate', 'ab', 'abandon', 'abbott', 'abc', 'abc11_wtvd', 'abc21wpta', 'abc30', 'abc3340', 'abc7chicago', 'abc7newsbayarea', 'abcbirds', 'abcnetwork', 'abcnews', 'abcnewslive', 'abcpolitics', 'abcwnn', 'abcworldnews', 'abdullah', 'aberdeen', 'abetted', 'abhorrent', 'abide', 'abigailbottar', 'ability', 'able', 'ablueview', 'abo', 'aboard', 'abortion', 'abound', 'abrams', 'abrat626', 'abriter', 'abroad', 'abruptly', 'absence', 'absent', 'absentee', 'absolute', 'absolutely', 'abstract', 'absurd', 'absurdistlocker', 'absurdly', 'abt', 'abughazalehkat', 'abundance', 'abuse', 'abut', 'ac44c6m', 'acc', 'accelerate', 'accept', 'acceptable', 'access', 'accident', 'accidentally', 'accidente', 'accidents', 'accommodation', 'accomplice', 'accomplish', 'accord', 'account', 'accountability', 'accountable', 'accountablegop', 'accumulate', 'accurate', 'accurately', 'accusation', 'accuse', 'accuses', 'accuweather', 'acdideninvestigation', 'ace_boogie504', 'achieve', 'acid', 'acknowledge', 'acknowledges', 'acosta', 'acoustic', 'acquire', 'acquisition', 'acre', 'acrecampaigns', 'acrylate', 'acrytearsmag', 'act', 'actbrigitte', 'action', 'activate', 'activateva', 'active', 'actively', 'activism', 'activist', 'activists', 'activity', 'actor', 'actual', 'actually', 'acute', 'acyn', 'ad', 'adam', 'adam_antill', 'adamf71565830', 'adamforcolorado', 'adamkinzinger', 'adamlowisz', 'adamparkhomenko', 'adampiersen', 'adamwren', 'adani', 'adapt', 'adaptation', 'adaptivmom', 'adcperez46', 'add', 'addition', 'additional', 'additionally', 'address', 'adelina_rolea', 'adequate', 'adequately', 'adevotedyogi', 'adhere', 'adherence', 'adirtyrottendog', 'adjustment', 'adjusts', 'adkn00', 'adl', 'admin', 'administration', 'administrator', 'admins', 'adminstration', 'admiralmpj', 'admire', 'admission', 'admit', 'admits', 'admitted', 'admitting', 'adndotcom', 'adopt', 'adouble777', 'adria_french', 'adridaplagueboi', 'adult', 'adv', 'advance', 'advanced', 'advantage', 'adverse', 'advertise', 'advertisement', 'advice', 'advise', 'advisor', 'advisory', 'advocate', 'ae', 'aecom', 'aeonanimus', 'aerial', 'af', 'afar', 'affair', 'affect', 'affected', 'affection', 'affiliated', 'affiliation', 'affirmatively', 'affleckquine', 'afford', 'affordable', 'afghanistan', 'afinla', 'aflame', 'afln2021', 'afp', 'afpohio', 'afraid', 'africa', 'african', 'afrnet', 'afshinrattansi', 'aft', 'afte', 'aftermath', 'afternoon', 'afterward', 'aftteach', 'aftunion', 'ag', 'againer12', 'agandrewbailey', 'agarrettabj', 'age', 'agence', 'agency', 'agenda', 'agent', 'agent_wd40_mi6', 'aggressive', 'aggressivedem', 'aggressively', 'aghamilton29', 'ago', 'agraybee', 'agree', 'agreement', 'agriculture', 'agtwitter', 'agua', 'ah', 'ahasan46', 'ahbrightwings', 'ahdjejjwjs', 'ahead', 'ahh', 'ahht', 'ahhwhatishappen', 'aholes', 'ahshaad', 'ai', 'aid', 'aide', 'aim', 'aint', 'aintscarylarry', 'air', 'air_pollution', 'airborne', 'aircraft', 'aire', 'airevensweeterwithoutmask', 'airline', 'airliner', 'airplane', 'airpollution', 'airport', 'airspace', 'airway', 'aisle', 'ajenglish', 'ajfromoh', 'ajlamesa', 'ajnzzzzz', 'ajplus', 'ajsdecepida', 'ajstream', 'aka', 'aka_realdirty', 'akaren2448k', 'akarl_smith', 'al', 'alabama', 'alabamanews360', 'alan', 'alanlevin1', 'alanshaw', 'alanthefisher', 'alarm', 'alastairmitch13', 'albany', 'albeit', 'albo', 'aldogue66895472', 'ale', 'alecmacgillis', 'alecsapolin', 'alemania', 'alert', 'alerts___', 'alex', 'alex_presha', 'alexandria', 'alexaschwerha1', 'alexatfww', 'alexbruesewitz', 'alexgangitano', 'alexnpress', 'alexstein99', 'alfajean', 'alghabra', 'algore', 'algorithmic', 'alice4u2010', 'alicesrabbit2', 'alien', 'align', 'aligned', 'alina__lnd', 'alisha', 'alive', 'all100senators', 'alldaydre83', 'allegany', 'allegation', 'allege', 'alleged', 'allegedly', 'allegheny', 'alleghenyfront', 'allen58b', 'allenev95095326', 'alley', 'alleyway', 'allezvous', 'allhail76', 'allhumansareafrican', 'alliance', 'allison', 'alllisted', 'allocate', 'allow', 'allows', 'alloy', 'allstarcharts', 'allvidssmark', 'ally', 'ally_vyne', 'allymalinenko', 'allé', 'alongside', 'aloof', 'alpha', 'alphafox78', 'alright', 'alt', 'alter', 'alternative', 'alters', 'altitude', 'altogether', 'altoona', 'aludy98', 'alum', 'aluminum', 'alva1ackley', 'alwaysflacko', 'alx', 'alzheimer', 'am1stnewswire', 'amanda', 'amandacarpenter', 'amandafortini', 'amandahoovernj', 'amandalhu', 'amarie031447', 'amaze', 'amazed', 'amazing', 'amazing_graciel', 'amazon', 'ambertunatya', 'ambiental', 'amccarthyny', 'amd', 'ame', 'amendment', 'america', 'americaclimatecrisis', 'americaclimateemergency', 'americaclimatejustice', 'americafirst', 'americahours', 'american', 'americanamapn', 'americanchernobyl', 'americanelection', 'americanpolitics', 'americans', 'americanslast', 'americanwire_', 'americas', 'americasdirtydivide', 'americasgarden', 'americasmayorlive', 'americus', 'amermilnews', 'ameticans', 'amfirstnewswire', 'amid', 'amidst', 'amirite', 'amish', 'amit', 'amizade', 'ammonia', 'amoneyresists', 'amp', 'amphibian', 'ample', 'amplified', 'amplify', 'amreed2', 'amritabhinder', 'amtrak', 'amtrakavali', 'amtvmedia', 'amuse', 'amvirtueorg', 'amybwang', 'amyfromyoga', 'amykremer', 'amylovesbtc', 'amys_here', 'amysgotbirds', 'américain', 'américaine', 'anabeaver23', 'anadoluagency', 'analogous', 'analogy', 'analysis', 'analyst', 'analyze', 'ancestral', 'anchor', 'ancient', 'ancora', 'and20_andy', 'andre', 'andrealeeluv', 'andreapsalcedo', 'andrew', 'andrewbuncombe', 'andrewjbates46', 'andrewresist15', 'andrewyoungmd17', 'andy', 'andy_baughman', 'andyvermautlovesap', 'andyvermautthanksyou', 'anecdotal', 'anecdotally', 'anecdote', 'anews', 'anfiloli', 'angel', 'angel_h_70', 'angela', 'angelinatameztx', 'angellunique73', 'angeloraygomez', 'angelre96386095', 'anger', 'angered', 'angertainment', 'angie_anson', 'angieandjax', 'angielene_blm', 'angle', 'angry', 'angry_staffer', 'anguish', 'anguishoflibs', 'animal', 'animals', 'animalsholbox', 'animaux', 'anitamujagic', 'anitasomanimd', 'ann', 'anna52821166', 'anncygoransson', 'anne', 'annenjunod', 'annetifasgae', 'annetteledesm14', 'annie6774', 'anniekoutrakis', 'anniepny13', 'annietiques', 'annika', 'anniversary', 'announce', 'announcement', 'announces', 'annoyedtaurus', 'annthompsonwvxu', 'annual', 'annually', 'anny25717503', 'anon', 'anoned', 'anoners', 'anonopshispano', 'anonopsse', 'anonymous_mg76', 'anot', 'answer', 'answered', 'ante', 'antecedentes', 'anthony', 'anthonytkaz', 'anthonyzenkus', 'anti', 'antic', 'anticipate', 'antifa', 'antifascist', 'antimason313', 'antitrustreform', 'antonella_risso', 'antoniosabatojr', 'antony', 'anutha', 'anway', 'anxiety', 'anxious', 'anyalitvak', 'anybody', 'anymonkey70', 'anymore', 'anytime', 'anyways', 'aoc', 'aol', 'ap', 'ap_climate', 'ap_politics', 'apart', 'apathy', 'apexworldnews', 'apocalyptic', 'apologise', 'apologize', 'apologized', 'apology', 'app', 'appal', 'appalachia', 'appalachian', 'apparatus', 'apparent', 'apparently', 'appartement', 'appear', 'appearance', 'appeared', 'applaud', 'applause', 'applicable', 'applied', 'apply', 'appodlachia', 'appoint', 'appreciate', 'appreciated', 'approach', 'appropriat', 'appropriate', 'approval', 'approve', 'approved', 'approx', 'approximately', 'april', 'april_sassy', 'après', 'apublictrust', 'aquatic', 'aquatiques', 'aquifer', 'arainbowdude', 'arapaho415', 'arbara0728b', 'ardtakeaction', 'area', 'aredmond75', 'areyouawaqe', 'argue', 'argument', 'arighteousfren', 'arise', 'aristot51566685', 'arizona', 'arkansas', 'arlenel67970129', 'arm', 'armastrangelo', 'armchair', 'armstrong', 'army', 'aromalady2', 'array', 'arrest', 'arrested', 'arrestgqpcoupplotters', 'arrival', 'arrive', 'arrogance', 'arrogant', 'arsenio', 'arsonist', 'art', 'arteelbeier', 'artemizia_123', 'artery', 'arthur', 'arthur59611540', 'arthurdented', 'arthurterry2020', 'article', 'articles', 'artist', 'artmanon1', 'artwork', 'asan84664878', 'asap', 'asap_soldier', 'ascertain', 'asechicago', 'asecondchance', 'ashamed', 'ashleygjovik', 'ashleystrohmier', 'ashoutoutfrommn', 'ashponders', 'ashtabula', 'asian', 'aside', 'ask', 'askdrdrew', 'askmelateron', 'askrail', 'asks', 'asleep', 'asmluzrivas', 'aspecpeople', 'aspect', 'aspiemama_107', 'aspire', 'ass', 'assembly', 'assess', 'assessment', 'assez', 'asshole', 'assi', 'assist', 'assistance', 'associate', 'associated', 'association', 'assume', 'asteveuknew', 'asthmatic', 'astonish', 'astound', 'astrocat9000', 'astrology', 'astrophoenix9', 'astropress', 'aswvickyflynn', 'asymmetricinfo', 'ataku', 'atasiding8', 'atasteofcreole', 'ataviawrotethis', 'atbennington', 'ate', 'atención', 'atensnut', 'athena3221', 'athensga34', 'atl', 'atlairportnews', 'atlanta', 'atlantic', 'atlas', 'atlasthundr', 'atldemsoc', 'atletpeder', 'atlrey', 'atm', 'atmosphere', 'atmospheric', 'atorodesu', 'atrocious', 'atrocity', 'atrupar', 'att', 'attach', 'attack', 'attacked', 'attempt', 'attend', 'attendance', 'attendee', 'attention', 'attitude', 'attorney', 'attract', 'attributable', 'attribute', 'atumpkins11', 'atwa', 'atwar', 'au', 'au_stin_reece', 'aubreyel1', 'audacity', 'auddl2dhp5', 'audible', 'audience', 'audio', 'audioboom', 'audioproeric', 'audit', 'auditing', 'audition', 'auditorium', 'audreynashville', 'audreysofiavip', 'august', 'aunque', 'aunt', 'auntbunny731', 'auraxchan', 'aurora', 'aurorab617', 'auspex', 'austinkellerman', 'australia', 'authentic', 'authentic__neo', 'author', 'authored', 'authoritarian', 'authoritative', 'authority', 'authorize', 'autismcapital', 'auto', 'autocarro', 'automate', 'automaticearth', 'automobile', 'autre', 'autres', 'aux', 'av8intheblue', 'avaient', 'available', 'avaligaming', 'avant', 'avarice', 'average', 'avert', 'avgeek', 'avgeekiness', 'avgerinosmoscow', 'avlawns', 'avoid', 'avoidable', 'avoided', 'avondale', 'await', 'awake', 'awakenedof', 'awalkintherain', 'award', 'aware', 'awareness', 'awash', 'away', 'awbraxtonjr', 'awesome', 'awful', 'awhile', 'awkbello2', 'awkward', 'awmessenger', 'awol', 'awwhalenawl', 'axed', 'axel', 'axels', 'axios', 'axle', 'ay', 'ayebee49354370', 'ayethatarmodude', 'ayfkm', 'aymanm', 'azannaphx', 'azardey3', 'azdem_w_dogs', 'b0lshevikbill', 'b31918', 'b4', 'b52malmet', 'ba', 'bab_102', 'baba', 'babe_elder', 'bable', 'baby', 'babybiird', 'babykoala196', 'background', 'backing', 'backlash', 'backseat', 'backside', 'backward', 'backwards', 'backyard', 'bad', 'baddcompani', 'badhealth', 'badly', 'badrobotlinda', 'bag', 'bail', 'baileyjoy9', 'bails', 'bait', 'baiting', 'bakhmut', 'bakidonce', 'balance', 'balart', 'baldwin_daniel_', 'baletti', 'balfralf', 'balk', 'balkanservicegroup', 'ball', 'ballgag', 'ballon', 'balloon', 'balloongate', 'ballot', 'baltimore', 'bambooshooti', 'ban', 'banana', 'band', 'bandieranancy', 'bandwagon', 'bang', 'bangkokpost', 'bangkokpostnews', 'banjo91343748', 'bank', 'banking', 'bankroll', 'bankrupt', 'banned_bill', 'bannon', 'bar', 'barack', 'barackobama', 'baratuty', 'barb', 'barbara', 'barbarajdurkin', 'barbaric', 'barbyohn1', 'bardzo', 'bare', 'barely', 'barista__morg', 'barkflight', 'barn', 'barnacles71', 'barnettforaz', 'barnettmatt1', 'baron', 'barondestructo', 'barr', 'barrel', 'barron', 'barronsonline', 'barrymoy1', 'barsham', 'bartleyfouchard', 'bartow', 'basculante', 'base', 'baseball', 'based1717', 'basedd', 'baseless', 'baselessly', 'baseline', 'bash', 'basic', 'basically', 'basin', 'basis', 'basketball', 'bass', 'bassistold', 'bat', 'batch', 'bate', 'bath', 'bathe', 'bathorybetka', 'bathroom', 'batsh', 'batspider55', 'battalion', 'battery', 'battle', 'battlefront', 'baumbach', 'baumgaertner', 'baxter9mm', 'bay', 'bayer', 'bbc', 'bbcangry', 'bbcnews', 'bbcworld', 'bbn', 'bbnewsinternational', 'bc', 'bctimes', 'bdonesem', 'bdtonline', 'beachcity55', 'beachfront', 'beachwood', 'beaconjournal', 'bean', 'bear', 'bearandroo2', 'beardedcynic473', 'bearing', 'beast', 'beat', 'beatrizlacombe', 'beautfc', 'beautiful', 'beaver', 'beavercounty', 'beavercounty911', 'beavertonpa', 'beboldbehonest', 'bechtel', 'becketh711dan', 'becuase', 'bed', 'bedfellow', 'bedfellows', 'bedford', 'beef', 'beekeeper', 'beer', 'beethovensside1', 'beez52530418', 'bef', 'befor', 'befriends', 'befuddle', 'beg', 'begin', 'begrudgingly', 'behalf', 'behar', 'behave', 'behavior', 'behest', 'beier', 'bel', 'belated', 'belden', 'beleafer1', 'belief', 'believable', 'believe', 'belittle', 'bell', 'bellamari8mazz', 'belle_levesque', 'belleville', 'belly', 'belohiospill', 'belong', 'belongs', 'beloved', 'beltsbear', 'ben', 'ben_inskeep', 'benbergquam', 'bencjacobs', 'bend', 'bendaviswilson', 'bender', 'beneath', 'benefit', 'benjami42942421', 'benjaminjs', 'benjealous', 'benjisjones', 'bennet', 'bennyjohnson', 'benonwine', 'benshapiro', 'benstanton77', 'bent', 'benzene', 'bergenfield', 'berksgastruth', 'berkshire', 'berman', 'bern_identity', 'bernadettentf', 'bernard', 'bernie', 'berniedebusmann', 'berniemoreno', 'berniesanders', 'berniespofforth', 'bero', 'berquist', 'bertbruno55', 'best', 'besties', 'bet', 'bethanydoolin', 'bethb715', 'bethemckenzie', 'bethosbornet4a', 'betoorourke', 'betray', 'betrayal', 'betrayed', 'betrily', 'better', 'betterman', 'betterpathpa', 'betty5280', 'bettypge69', 'betw', 'between_bob', 'beware', 'bezos', 'bffs', 'bfrankjr', 'bgov', 'bhamtimes', 'bharggavroy', 'bhopal', 'bi', 'bias', 'biblical', 'bicycle', 'bid', 'bidan', 'bidding', 'biddy', 'bide', 'biden', 'bidenadministration', 'bidencrimefamilly', 'bidencrimefamily', 'bidendestroysamerica', 'bidenfailures', 'bidenisdestroyingamerica', 'bidens', 'bidensamerica', 'bidentour', 'bidenwh', 'bidishalolo', 'bierman_luke', 'big', 'bigbluewaveusa', 'bige_truths', 'bigfish3000', 'bigger_bread', 'biggie', 'bigjoebastardi', 'bigotry', 'bigpapa8070', 'bigpoppaevil', 'bigrazzmatazz', 'bigteethyouhave', 'bigtrainstuck', 'bike', 'bikedurham', 'bikers4america', 'bill_e_bomber', 'bill_shapiro', 'billadairduke', 'billclinton', 'billellmore', 'billgrinehart', 'billhemmer', 'billineastala', 'billion', 'billionaire', 'billknowsit', 'billkristol', 'billmaher', 'billmendocino', 'billpegs', 'billprady', 'billweircnn', 'billy', 'billykilroy', 'billym2k', 'billyrisner2', 'bim_cat_509', 'bind', 'bingbingbong500', 'bingfair2', 'binghamton', 'bingo', 'biochemyst1', 'biohazard', 'biological', 'biometric', 'biometrics', 'biopharma', 'biophysicsfl', 'biosensors', 'bipartisa', 'bipartisan', 'bird', 'birdcage', 'birdieg564', 'birthday', 'birthplace', 'bish', 'bishop', 'bisons119', 'bit', 'bitbello', 'bitch', 'bitcoin', 'bite', 'bittelmethis', 'bitterchewgum', 'bivonacarol', 'biz', 'bizarre', 'bizneznuna', 'bjohnson921', 'bjweinman', 'bk_mccallum', 'bklyn', 'bklyn_grl23', 'blaatimmen', 'black', 'blackhockeyclu1', 'blackknight10k', 'blackletter007', 'blacklivesmatter', 'blackout', 'blackrock', 'blah', 'blake', 'blalpert', 'blame', 'blamed', 'blameitonbrenda', 'blames', 'blamin', 'blaming', 'blancacamachony', 'blanchereddie', 'blanket', 'blast', 'blasted', 'blasting', 'blatant', 'blather', 'blaw', 'blaze', 'bleach', 'bleach_bae', 'bleed', 'bless', 'blessssyougod', 'blet', 'blew', 'blind', 'blindside', 'blitz', 'blm', 'blo', 'blob_fish2', 'blob_watcher', 'bloc', 'block', 'blockage', 'blocked', 'blocker', 'blog', 'blood', 'bloodmoney', 'bloody', 'bloomberg', 'bloomwhisperer', 'blow', 'blowin', 'blowitoutyourd1', 'blown', 'blowout', 'blsuth', 'blue', 'bluee', 'blueelviseric', 'blueeyedhound1', 'blueeyejeff', 'bluegirl714', 'bluegrass', 'blueislandcomix', 'bluelivesmatter', 'bluemoonindigo2', 'blueprint', 'bluesragdoll', 'bluevino', 'bluevirginia', 'bluey', 'blueyankee52', 'bluff', 'blunder', 'blynn', 'blynnregina', 'bmarchetich', 'bmisbehaving', 'bmprt', 'bmwedibt', 'bmwepower', 'bn9', 'bnk_ar', 'bnodesk', 'bnofeed', 'bnsf', 'boar', 'board', 'boast', 'boat', 'bob', 'bob24375399', 'bobanew1959', 'bobbatzjr', 'bobbiejanev', 'bobbyeberle13', 'bobcasey', 'bobclendenin', 'bobdaaliberal', 'body', 'bodycam', 'boebert', 'boeing', 'boggle', 'bogus', 'boil', 'bola', 'bolas', 'bold', 'boldprogressive', 'bolster', 'bomalley', 'bomb', 'bombard', 'bombed', 'bombshell', 'bombtrain', 'bonafidelulu', 'bond', 'bondsmatthew', 'bonfire', 'bonjs0370', 'bonkers', 'bonnierawson4', 'bonsoirmichel', 'bonus', 'boo', 'boobyjargon', 'booed', 'book', 'bookmark', 'bookstore', 'boom', 'boost', 'boot', 'booth', 'bootlicker', 'bootsiejazz', 'bopper05', 'border', 'borensteinperry', 'boringstein', 'borobodura', 'borrower', 'bos', 'bose', 'bosnerdley', 'boss', 'bosssquirrel72', 'bostonglobe', 'bot', 'botch', 'bother', 'botsford', 'bottle', 'bottled', 'bottomless', 'boulder', 'boulevard', 'bounce', 'bouncy', 'boundingcomics', 'bourgeois', 'bout', 'boutique', 'bower', 'bowie', 'bowie_sane', 'bowiegrrl1', 'bowl', 'bowman', 'box', 'boxcar', 'boxxy42069', 'boy', 'boycotttheview', 'boyette', 'bp', 'bpartisans', 'bpolitics', 'br00t4c', 'bracelet', 'braceydujour', 'brad_polumbo', 'bradbeauregardj', 'bradpaisley', 'bradswan18', 'brady_dennis', 'brag', 'brahmslover1278', 'brain', 'brainer', 'brainharvest46', 'brainless', 'brainlessness', 'brainpower', 'brainwash', 'brainwashed', 'brake', 'brakes', 'braking', 'branch', 'brand', 'brandenjaggers', 'brandon', 'brandonlbradfor', 'brandsafetynsfaccidentsanddisasters', 'brandsafetynsfhealthissues', 'brandsafetynsfsensitive', 'brave', 'bravo', 'breach', 'breached', 'bread', 'break', 'breakdown', 'breakfreefromplastic', 'breakimgnews', 'breaking', 'breaking911', 'breaking_4_news', 'breakingalert', 'breakingnews', 'breakingnewzman', 'breakingvideohq', 'breakuptheecho', 'breast', 'breastfeed', 'breath', 'breathe', 'breathenewwinds', 'breatheproject', 'breathing', 'breathless', 'breathlessly', 'breathtaking', 'brednbreakfast', 'bree1914', 'breezerider11', 'breezy8817', 'brehonfailte', 'breitbart', 'breitbartnews', 'breitbartnewsより', 'brenda', 'brendae44357636', 'brendanord5', 'brenthbaker', 'brentontroyoh', 'breshears', 'bretbaier', 'brew', 'brewer', 'bri_zeeee', 'briahna', 'brian38695266', 'brian_mac8419', 'brianasmithnews', 'brianbeckerdc', 'briancnewberry', 'brianentin', 'brianhirsh1', 'briankarem', 'briano_maga', 'brianstelter', 'briantylercohen', 'brianukulele', 'bribe', 'bribery', 'bricegramm', 'brick', 'brick715', 'bridesmaid', 'bridge', 'bridgeton', 'bridgettewews', 'brie', 'briebriejoy', 'brief', 'briefed', 'briefin', 'briefing', 'briefingcom', 'brighter', 'brighton', 'brilliant', 'bring', 'brings', 'brisco_0317', 'brishangames', 'britain', 'britsham', 'brittanyweberrr', 'brix_rosa', 'brjl204', 'bro', 'broad', 'broadcast', 'broadcasting', 'broadly', 'brockovich', 'broke', 'broken', 'brokenanthemusa', 'brokovich', 'bronchitis', 'bronstad', 'bronxtale0423', 'brook', 'brooke', 'brookesingman', 'brooklynmarie', 'brother', 'brotherman911', 'brought', 'browardprogress', 'brown', 'browns2212', 'bruh50347166', 'bruhtoshi1', 'bruhzband', 'brummer_brumm', 'bruno_j_navarro', 'brush', 'brutality', 'bryan', 'bryncaswelltv', 'bs', 'bs45', 'bsb', 'bsg', 'bsquinn', 'bstovalljr', 'bttr_as1', 'btw', 'bubbacowhawks', 'bubbaprog', 'bubble', 'bubbles08272', 'buck', 'buckeyeenvintwk', 'buckle', 'buckscobeacon', 'bucksexton', 'bucmon21', 'bucyrustf', 'bud_cann', 'budachec', 'budapest', 'buddy', 'budget', 'budgothmog44', 'budigeg', 'budrykzack', 'buff00n', 'buffalo', 'buffet', 'buffett', 'buffoon', 'bug', 'bugdensteven', 'buickturbo', 'build', 'building', 'buildingback_us', 'buildup', 'bulk', 'bull', 'bulldoghill', 'bulldoze', 'bullet', 'bullsh', 'bullshit', 'bulwarkonline', 'bummer', 'bunch', 'bunk', 'burd', 'burden', 'burdensome', 'bureau', 'bureaucracy', 'buren', 'burger', 'burghgurl', 'burn', 'burned', 'burning', 'burnt', 'burtrigg', 'bury', 'bus', 'bush', 'business', 'businessandindustrysectors', 'businessnews', 'businessowner', 'businesswire', 'bust', 'busy', 'busypoordad', 'buthead', 'butifldrmlori', 'butler', 'butliegh', 'butt', 'buttegieg', 'butterjudge', 'buttgeg', 'butthead', 'butthole', 'buttibutter', 'buttigeig', 'buttigieb', 'buttigieg', 'buttigug', 'button', 'buttooth1', 'buttplug', 'butts', 'butty', 'buttyguy', 'butyl', 'buy', 'buyback', 'buybacks', 'buyer', 'buying', 'buys', 'buzzerly', 'buzzerlyapp', 'bwa', 'by1959', 'byconnorgiffin', 'bye', 'byfordturner', 'byheatherlong', 'byjameshowelljr', 'byjoehernandez', 'bylizyoung', 'byluvjedi', 'bystevereilly', 'bánh', 'c1arkeeyyy', 'c26n4', 'c3solutionsnews', 'c40', 'c_m_dangelo', 'c_mandas', 'cabal', 'cabinet', 'cable', 'cablenewswatch', 'caboose', 'cache', 'cackyc', 'cadenpearson', 'cadet', 'cage', 'cagey', 'caggiano', 'cagle', 'cairo', 'cake', 'cake8pattie', 'calamity', 'calculate', 'caledonia', 'calhoun', 'californi', 'california', 'californianinar', 'calisenhor', 'caller', 'callie', 'callous', 'calltoactivism', 'calusa18', 'calvine43701301', 'calvinkholsclaw', 'cambridge', 'camera', 'cameras', 'caminhão', 'camp', 'campaign', 'campbell', 'campdaniel3', 'camper', 'camphopeowner', 'canada', 'canada_flag_guy', 'canadaenvironment', 'canadian', 'canadianpolitics', 'canadien', 'canal', 'canariesblue', 'cancel', 'cancellation', 'canceltheview', 'cancer', 'cancerous', 'cancun', 'candaceowens', 'candidacy', 'candidate', 'candynotcandace', 'canislatransit', 'cannconactual', 'cannon', 'canpoli', 'cantara', 'canton', 'cantonrepdotcom', 'cantpretendtoo', 'cap', 'capable', 'capacity', 'capaction', 'capehartj', 'capital', 'capital_shill', 'capitalhungry', 'capitalism', 'capitalist', 'capitalize', 'capitalsimformenotforthee', 'capito', 'capitol', 'capitolhill', 'caption', 'captscrod', 'capture', 'captured', 'car', 'car_silhouettes', 'carbared', 'carcass', 'carcinogen', 'carcinogenic', 'carcinogens', 'card', 'cardinalmz', 'cardon_brian', 'care', 'care11_cal7', 'career', 'careful', 'careless', 'cares', 'carey', 'cargo', 'cargotrain', 'carl_e_miller', 'carla87414309', 'carlnyberg312', 'carlson', 'carman', 'carmenbwifemom', 'carnegie', 'carnegiescictr', 'carol', 'carolina', 'carolinagirl_45', 'carolinaj', 'carolk47', 'carolmswain', 'carper', 'carpet', 'carriage', 'carrier', 'carry', 'carrying', 'cart', 'cartel', 'carter', 'cartistny', 'cartoon', 'carve', 'casabc12321', 'case', 'casey', 'cash', 'cassandrarules', 'casselton', 'cassone', 'cassyarsenault', 'cast', 'castanetkam', 'castiglionefrnk', 'casualty', 'cat', 'catalyze', 'catastrophe', 'catastrophic', 'catastrophy', 'catburt58', 'catch', 'categorically', 'categorise', 'categorize', 'category', 'cater', 'catheykoehler', 'catholic', 'catholicjdfren', 'cathy', 'cathyjoegpt', 'cathymcmorris', 'catladyactivist', 'cats4pete', 'catsridetransit', 'cattle', 'catturd2', 'caucus', 'caught', 'causation', 'cause', 'caused', 'causi', 'causing', 'caustic', 'caution', 'cav1cav', 'cave', 'cawrecycles', 'cazzimmax', 'całą', 'cbc', 'cbcnews', 'cbcool2532', 'cbouzy', 'cbs', 'cbs2', 'cbs8', 'cbschicago', 'cbsdetroit', 'cbseveningnews', 'cbsmornings', 'cbsnews', 'cbsphiladelphia', 'cc', 'ccbc', 'ccbcedu', 'cccp', 'ccoock2', 'ccp', 'cctv', 'cdc', 'cdnchange', 'cdnnews', 'cdnpoli', 'ce', 'cease', 'ceh', 'ceiling', 'cejnetwork', 'celebrate', 'celebrates', 'celebrity', 'celiafarber', 'cell', 'cement', 'cenotes', 'censor', 'censorship', 'cent', 'center', 'central', 'centralbridge', 'century', 'ceo', 'ceos', 'cercla', 'cereal_twit', 'ceremony', 'cernovich', 'certain', 'certainly', 'certains', 'cervanec', 'cette', 'cgauthier592', 'cgiu2023', 'cgrxr7', 'cgtn', 'cgtnamerica', 'cgtnnews', 'cgtnofficial', 'ch', 'ch3ck', 'cha0skrystal17', 'cha51brolll19', 'chain', 'chair', 'chairman', 'chairperson', 'chairwoman', 'challenge', 'challenger', 'chamber', 'champion', 'chance', 'change', 'channel', 'chant', 'chao', 'chaos', 'chaotic', 'chapter', 'character', 'charade', 'charge', 'charitable', 'charlesornstein', 'charleston', 'charlie', 'charliekirk11', 'charlielangton', 'charlieonair', 'charlotte', 'chart', 'charter', 'charteredwealt', 'charteredwealthmanager', 'chase', 'chasten', 'chat', 'chattanooga', 'chaudharyparvez', 'cheap', 'cheaper', 'cheat', 'check', 'checkbook', 'checked', 'checker', 'checkintheherd', 'checkitoutdr', 'checklist', 'checkup', 'cheek', 'cheer', 'cheerful20191', 'cheerleader', 'cheese', 'cheezwitham', 'chef', 'chefrex45', 'chej', 'chem', 'chemattack', 'chemi', 'chemical', 'chemical_violence', 'chemicaldisaster', 'chemicalfire', 'chemicalindustryandchemicals', 'chemically', 'chemicalsandenvironment', 'chemicalspill', 'chemicalwarfare', 'cheminots', 'chemist', 'chemistry', 'chemotherapy', 'chemtrails', 'cherbonyl', 'cherijacobus', 'chernobil', 'chernobol', 'chernobyl', 'chernobyl2', 'chernobyling', 'chernobylohio', 'cherylbatchelo3', 'cherylgilmer9', 'cherylhart00', 'cherylkee4', 'chest', 'chetrusinek', 'chevron', 'chez', 'chicago', 'chicagomattp1g1', 'chicaloca813', 'chicedr', 'chicken', 'chickens', 'chickyldy', 'chicosabe19', 'chief', 'chigrl', 'chilberg11', 'child', 'childrenshd', 'chilligaz', 'chillyw23458611', 'chime', 'chimique', 'chimiques', 'china', 'chinacocochow1', 'chinadaily', 'chinese', 'chineseesgagenda', 'chiny', 'chip', 'chipper', 'chit', 'chitown', 'chiweethegod', 'chińskie', 'chloride', 'chlorinate', 'chlorine', 'cho', 'choa', 'choice', 'choking', 'choose', 'chooses', 'chop', 'chorus', 'chose', 'chow', 'chris', 'chris_butzer', 'chris_dubrino', 'chrisalbertell1', 'chrisbrown2075', 'chriscuomo', 'chrisderosetv', 'chrisexcel102', 'chrisforpa', 'chrishayes', 'chrishendel', 'chrisjzullo', 'chriskazana', 'chrismurphyct', 'chrisplanteshow', 'chrispughedits', 'chrisronayne', 'chrissaccoccia1', 'chrisstirewalt', 'christ', 'christi', 'christi88764398', 'christinamb122', 'christineyeder1', 'christmas', 'christo81748100', 'christopher', 'christy39dr', 'chromedupcheeks', 'chromosomal', 'chronic', 'chronicle', 'chuckcallesto', 'chuckfree1957', 'chuckgrassley', 'chuckle', 'chuckychuckles1', 'chump', 'chunk', 'church', 'churchill', 'chyeaok', 'chở', 'ci', 'cia', 'ciccone', 'cilesxst2i', 'cincinnati', 'cincinnatiedition', 'cincinnatitimes', 'cinema', 'cinemashogun', 'cinnamonv10', 'circa', 'circlesspinning', 'circulate', 'circumstance', 'circus', 'citadel', 'citation', 'cite', 'citibe', 'citizen', 'citizenfisher', 'citizenfreepres', 'citizens', 'city', 'citybeatcincy', 'citylab', 'citynightcap', 'cityofhudsonoh', 'ciubmoss', 'civil', 'civil_roar_', 'civilian', 'civillost', 'cj7jeepman', 'cjacee113', 'cjjja5ti6s', 'cjtevlin3', 'ck', 'ckers', 'cl1ntonserver', 'cl4ws_out', 'claim', 'claire', 'clairebalan', 'claraho89599857', 'clarenc86122697', 'clarereverri', 'clarify', 'clarity', 'claritysage111', 'clark', 'clarkcounty', 'class', 'classaction', 'classactionlaw', 'classic', 'classification', 'classified', 'classify', 'classism', 'claud_smoot', 'claudevl23', 'claudiapoindex2', 'claw', 'claytravis', 'cle', 'clean', 'cleanairandwater', 'cleanairmoms', 'cleanairmoms_pa', 'cleaner', 'cleanhouse', 'cleaning', 'cleanup', 'clear', 'clearbluerain', 'clearing', 'clearly', 'clelisa32', 'clevel', 'clevela', 'cleveland', 'cleveland19news', 'clevelanddotcom', 'clewis7711', 'clg', 'click', 'client', 'clif_high', 'cliff', 'climate', 'climateaction', 'climatecaucus', 'climatechange', 'climatecrisis', 'climateemergency', 'climatereality', 'climatescam', 'climb', 'clinic', 'clink', 'clinton', 'clip', 'clock', 'clockoutwars', 'clockwork', 'clog', 'clorox', 'cloruro', 'close', 'closed', 'closely', 'closer', 'closest', 'clothing', 'clotshotz', 'cloud', 'cloudatlas_47', 'cloudyone', 'clout', 'clown', 'clownshow', 'clownworld_', 'club', 'club4growth', 'clue', 'cluster', 'cluttered', 'cmg', 'cmlyon67', 'cnbc', 'cnbcnow', 'cnn', 'cnnbrk', 'cnnnews', 'cnnpolitics', 'cnnsotu', 'cnntownhall', 'coach', 'coal', 'coast', 'coaster', 'coastline', 'coat', 'coating', 'cocktail', 'codanschwartz', 'code', 'codify', 'coffee', 'coffindafferfbi', 'coherse', 'cohort', 'coincide', 'coincidence', 'coincidental', 'coincidentally', 'coincides', 'coisa', 'colarchon', 'colbertlateshow', 'cold', 'coleyufo', 'colinjones', 'colinmorgan65', 'colinthecrypto1', 'collaborator', 'collapse', 'collar', 'colleague', 'collect', 'collective', 'collectively', 'college', 'collide', 'collides', 'collinrugg', 'collins', 'collision', 'colluding', 'collyererica', 'colmorrisdavis', 'cologne', 'color', 'colorado', 'colorado_dee', 'coloradocd4', 'coloradodavidsu', 'colorless', 'colsfire', 'columbia', 'columbiabugle', 'columbiana', 'columbus', 'column', 'columnist', 'com', 'combat', 'combination', 'combine', 'combo', 'combustible', 'come', 'comeback', 'comer', 'comfort', 'comfortable', 'comic', 'comical', 'coming', 'comment', 'commentary', 'commentator', 'commerce', 'commercial', 'commie', 'commission', 'commit', 'commitmen', 'commitment', 'committed', 'committee', 'committeeonccp', 'commodore997', 'common', 'commondreams', 'commonly', 'commonsensetodd', 'commontalkpod', 'commonwealth', 'commotley', 'comms', 'commu', 'communauté', 'communicate', 'communication', 'communist', 'communists', 'communistsusa', 'communitie', 'community', 'communitynotes', 'commuter', 'comp', 'compa', 'companay', 'company', 'companys', 'comparable', 'compare', 'comparing', 'comparison', 'compartment', 'compass', 'compassion', 'compañía', 'compel', 'compensate', 'compensation', 'compete', 'competent', 'competition', 'competitor', 'complacent', 'complain', 'complaining', 'complaint', 'complete', 'completely', 'complexity', 'compliance', 'complicate', 'complicated', 'complicit', 'complicity', 'comply', 'component', 'compound', 'comprehensive', 'comprometerse', 'compromise', 'compute', 'computer', 'comrade', 'comté', 'conard', 'conaway', 'conce', 'conceal', 'concede', 'concept', 'concern', 'concerned', 'concerning', 'concerted', 'concession', 'concidence', 'conclude', 'conclusion', 'concrete', 'condemn', 'condemns', 'condition', 'condolences', 'conduct', 'conductor', 'coneill1965', 'confederacy', 'conference', 'confess', 'confesó', 'confidence', 'confident', 'confidential', 'confidentially', 'confirm', 'confirmed', 'confirms', 'conflagration', 'conflict', 'confront', 'confrontation', 'confronted', 'confronts', 'confuse', 'confusednarwhal', 'confusion', 'congestion', 'conglomerate', 'congmikesimpson', 'congrajlashins', 'congratulate', 'congreso', 'congress', 'congressional', 'congressman', 'congressmanraja', 'congresspeople', 'congresswoman', 'connect', 'connecticut', 'connection', 'connectivity', 'connie_ryba', 'conrail', 'conscious', 'consensus', 'consequence', 'consequences', 'consequential', 'conservatism', 'conservative', 'conservativead5', 'conservativenews', 'conservjean', 'conservnewsdly', 'consider', 'consideration', 'considers', 'consist', 'consistency', 'consistent', 'consistently', 'consolidating', 'conspiracist', 'conspiracy', 'conspiracy314', 'conspire', 'conspiricynuts', 'constanceahath', 'constant', 'constantly', 'constituency', 'constituent', 'constrain', 'constraint', 'construct2021', 'construction', 'constructive', 'constrxsue', 'consultancy', 'consultant', 'consultation', 'consulting', 'consume', 'cont', 'contact', 'contain', 'container', 'containment', 'contains', 'contaminando', 'contaminant', 'contaminate', 'contaminated', 'contaminatedwhich', 'contamination', 'contaminationhttps', 'contaminents', 'contend', 'contenedores', 'contenido', 'content', 'contentious', 'contest', 'contested', 'context', 'continental', 'continentsandregions', 'continetti', 'continue', 'continued', 'continuous', 'contract', 'contractor', 'contradict', 'contrary', 'contrast', 'contribute', 'contributed', 'contributes', 'contributing', 'contribution', 'contributor', 'contro', 'control', 'controlled', 'controlleddemolition', 'controversial', 'controversy', 'convene', 'conveniently', 'conventional', 'conversation', 'conversely', 'convert', 'convertplate', 'conveying', 'convict__trump', 'convince', 'convinced', 'conway', 'cook', 'cooky', 'cool', 'coop', 'coopcopcoop1', 'cooper', 'cooper_holly', 'cooperative', 'cooperstown', 'coordinate', 'coordination', 'coordinator', 'cop', 'coppolino', 'copy', 'corbin', 'core', 'corn', 'corner', 'corp', 'corporate', 'corporateparasite', 'corporation', 'corporatist', 'corpos', 'corps', 'corpus', 'corpwatch', 'correct', 'correctly', 'correspondent', 'corridor', 'corroborate', 'corrosive', 'corrupt', 'corruptgop', 'corruption', 'corruptocrats', 'cortez', 'cortezmasto', 'corvid317', 'corygraves4real', 'cosplay', 'cost', 'costly', 'costonia', 'costos', 'cotswold', 'cottage', 'cough', 'coulda', 'council', 'councilofdc', 'counsel', 'count', 'count_mcristo', 'countdown', 'counter', 'counterracism_', 'counting', 'countless', 'country', 'countryside', 'county', 'coup', 'couple', 'courant', 'courdeleon02', 'course', 'court', 'courtesy', 'courtmouse2003', 'courtney', 'courtneybanks', 'cousin', 'cov', 'cover', 'coverage', 'covered', 'covering', 'coverup', 'covet', 'covet_81', 'covfefeprophet', 'covid', 'covidvaccines', 'coving', 'cow', 'cow_cousin', 'coward', 'cowboyshitz', 'coworkers', 'coyotegulch', 'cozza', 'cp24', 'cpac', 'cpac2023', 'cpar4thecourse', 'cparaskinner', 'cpdake', 'cprnews', 'cpt_fantabulous', 'cpucelli', 'cpurkiser', 'cpusaohio', 'cpwvaqh1n7', 'cr', 'crack', 'crackalacki13', 'cracker', 'craft', 'craftmastah', 'craftyme25', 'craig1454', 'cramer', 'crap', 'crash', 'crashed', 'crashing', 'cravencarpenter', 'crawfishaka', 'crawmarjorie', 'crayfish', 'craykain', 'craziest', 'crazy', 'crazyday2020', 'crazytown1313', 'cre35', 'create', 'creates', 'creation', 'creature', 'cred', 'credential', 'credibility', 'credible', 'credit', 'creek', 'creeks', 'creepy', 'creepy_org', 'creoletargeted', 'crescent', 'crestview', 'crew', 'crew__darey', 'crewcrew', 'crews', 'crglobalization', 'cricket', 'crime', 'crimes', 'criminal', 'criminality', 'criminally', 'criminalunionfw', 'cringe', 'criscre123', 'crises', 'crisi', 'crisis', 'criss', 'criterion', 'critic', 'critical', 'criticism', 'criticisms', 'criticize', 'criticizes', 'cromer', 'crony', 'crook', 'crookeddistro', 'crooksandliars', 'crop', 'crosby', 'cross', 'crossers', 'crossing', 'crowd', 'crowleyantmarga', 'crown', 'crs', 'crt', 'crucial', 'crude', 'cruel_grey22', 'cruelty', 'cruising', 'crumble', 'crumbs', 'crush', 'crustacean', 'cruz', 'crybaby', 'cryingliberal3', 'crypto', 'cryptokubrology', 'cryptolife', 'cryptowendyo', 'crystal82028223', 'cse', 'csinclairtv', 'cspan', 'cspanwj', 'csx', 'ct', 'cta', 'cteh', 'ctvlondon', 'ctvnewsnorthern', 'ctygrlphoto', 'ctztelegraph', 'cu', 'cubic', 'cucumber', 'cudabdoll', 'cue', 'culminate', 'culmination', 'culo_ur', 'culpability', 'culprit', 'cult', 'cultist', 'cultural', 'culture', 'culvert', 'cunningsq16', 'cuomo', 'curb', 'cure', 'curious', 'curiousfoolish', 'current', 'currently', 'curriculum', 'curse', 'curtishouck', 'cus', 'cushingagnes', 'cut', 'cutback', 'cute', 'cuts', 'cutting', 'cuyahoga', 'cuz', 'cw4wafgtkt', 'cwebbonline', 'cweiser', 'cwillott', 'cybrarerin', 'cycle', 'cyclicamp24', 'cynical', 'cynicism', 'cynthiamckinney', 'cynthiamckinneywas', 'cynthianna3', 'cynthiapeet', 'cyriloliver11', 'czoła', 'cómo', 'd0es1tmatt3r', 'd0tslash', 'd34thk4p', 'd4thewin', 'da', 'daangrypacifist', 'dachanc1953', 'dad', 'dadavis65', 'daddiorobjr1963', 'daddy', 'daddydrezz', 'daft', 'dagenmcdowell', 'dah', 'daily', 'daily_press', 'dailybeast', 'dailycaller', 'dailycastnews', 'dailyjobcuts', 'dailymail', 'dailynoahnews', 'dailywirenews', 'daintymae2', 'daiseyjane01', 'dakota', 'dakotans', 'dale_garwood', 'dallokat', 'dalmatian', 'dalocoengineer', 'dam', 'damaan4u33', 'damage', 'damaging', 'dammit90', 'damn', 'damnpamfromnamm', 'dan', 'dan_moskow', 'danaboydbarr', 'danalarsen', 'danaloeschradio', 'danaperino', 'danaradio', 'dance', 'dandy', 'dang', 'danger', 'dangerous', 'danhanley4', 'danhornnews', 'danielboone721', 'danielchaitin7', 'danielkalombo', 'danielsgoldman', 'danimalboy', 'danishvikingga', 'dannoacton', 'danrather', 'dans', 'darafaye', 'dare', 'dark', 'dark_reaperusmc', 'darkbrandon', 'darlington', 'darnelsugarfoo', 'darpafanaccount', 'darreldrowland', 'darren', 'darrenclyn', 'darrigomelanie', 'darrin48070209', 'darya', 'dasani', 'dash', 'dashaburns', 'dashboard', 'dashcam', 'dashdobrofsky', 'dashuss1', 'daskrubking', 'daszak', 'dat', 'data', 'dataprogress', 'datdudedanny', 'date', 'daughter', 'dave', 'dave_slough', 'dave_winx', 'davedwardspiano', 'davefedor2', 'davehill77', 'davelevitan', 'davemasters', 'davenewworld_2', 'daveyostoh', 'david', 'david_darmofal', 'david_j_hockley', 'davidasmanfox', 'davidb19784816', 'davidbeckerman0', 'davidcundiff', 'davidgross_man', 'davidhogg111', 'davidkurten', 'davidlongenec18', 'davidmuir', 'davidmusiker', 'davidmweissman', 'davidpepper', 'davidre17046614', 'davidrlurie', 'davidsc05322931', 'davidshepardson', 'davidsirota', 'davidson', 'daviedoc1967', 'davis', 'dawg', 'dawn', 'dawnc2022', 'dawnermarie11', 'dawnmaier3', 'day', 'daylight', 'daytime', 'dayton', 'dayton247now', 'daytondailynews', 'daytrading', 'dayyyuum', 'dburksmlsfd', 'dc', 'dc_dewitt', 'dc_draino', 'dceiver', 'dcelestespencer', 'dcexaminer', 'dclongislander', 'ddalmations', 'ddavenport213', 'ddertle89', 'ddiamond', 'ddnifcins1', 'ddskirsch', 'dead', 'deadjedidave21', 'deadliest', 'deadly', 'deadrabbit43', 'deaf', 'deal', 'dealing', 'deam21139715', 'dean', 'deannamcraig', 'deanobeidallah', 'dear', 'death', 'deathpanel_', 'deaths', 'debacle', 'debatalrojovivo', 'debate', 'debbie', 'debbiethomas88', 'debonking', 'deborah39533585', 'deborahkburns1', 'debra', 'debra79876398', 'debraj112', 'debris', 'debt', 'debunk', 'debunks', 'debvader', 'dec', 'decade', 'decadelong', 'decatur', 'decaturand', 'deceitful', 'deceive', 'december', 'decency', 'decent', 'decentamerican1', 'deception', 'deciccopad', 'decide', 'decides', 'decision', 'decisively', 'declaration', 'declare', 'declassify', 'decline', 'decodingfoxnews', 'deconstructs', 'decontaminate', 'decontaminated', 'decrease', 'decries', 'dedicate', 'dedicated', 'deduction', 'deebee827', 'deedrenta', 'deeganps', 'deekevin56_m', 'deeleftmom', 'deem', 'deep', 'deeply', 'deepsouthproud', 'deer', 'deesbarbara', 'default', 'defconnewstv', 'defeaning', 'defeat', 'defect', 'defective', 'defenceu', 'defend', 'defender', 'defends', 'defense', 'defensive', 'deferred', 'define', 'definite', 'definitely', 'definition', 'definitive', 'deflect', 'deflection', 'defy_norm', 'degrade', 'degree', 'dehumanization', 'dei', 'deindustrialization', 'deitaone', 'dejaelplástico', 'del', 'delaware', 'delay', 'delete', 'deliberate', 'deliberately', 'delicious', 'delighted', 'delillo', 'delirious', 'deliver', 'delivers', 'delivery', 'della', 'delusion', 'deluzio', 'dem', 'dema', 'demand', 'demanding', 'demaning', 'demcast', 'demean', 'dement', 'demented', 'demfromct', 'democ', 'democracy', 'democracy631', 'democracyinper1', 'democracynotautocracy', 'democracynow', 'democrat', 'democratic', 'democraticags', 'democratically', 'democrats', 'demokratów', 'demolish', 'demolition', 'demonbruncarl', 'demonstrate', 'demonstration', 'demorats', 'dems', 'demsforthepeople', 'demsh8usa', 'demsocialists', 'demvoice1', 'den', 'denaepfa', 'denbysister', 'denies', 'denise_dewald', 'denise_dreon', 'denisehollar', 'denisewu', 'dennib86', 'denniscearl', 'dennisjromero', 'denounce', 'dense', 'denvergazette', 'denverkvs', 'denverpolitics', 'deny', 'department', 'departure', 'depe', 'depend', 'dependence', 'dependent', 'depends', 'depict', 'deplorables', 'deploy', 'deployed', 'deployment', 'depopulation', 'deposit', 'deprave', 'depress', 'depression', 'dept', 'depth', 'deputes', 'deputy', 'deq', 'der', 'dera', 'derai', 'derail', 'derailed', 'derailement', 'derailers', 'derailing', 'derailm', 'derailme', 'derailmen', 'derailment', 'derails', 'derange', 'deregulate', 'deregulation', 'deregulatory', 'dereliction', 'dernier', 'derramó', 'derrick47886845', 'derricknaacp', 'derricknijel', 'derrickvanorden', 'des', 'desantis', 'descarrilamiento', 'descarriló', 'descend', 'descendant', 'descendent', 'desconoce', 'describes', 'description', 'descriptive', 'desertcra2y', 'deserve', 'deserved', 'deserves', 'design', 'designer', 'desimac13', 'desire', 'desiree', 'desk', 'desolation', 'desperate', 'desperately', 'despicable', 'despise', 'despite', 'despose', 'destination', 'destine', 'destroy', 'destroyed', 'destroys', 'destruction', 'destructive', 'detailed', 'dete', 'detect', 'detectable', 'detected', 'detection', 'detector', 'deteriorate', 'determine', 'determined', 'determines', 'detonate', 'detonation', 'detox', 'detract', 'detrimental', 'detroit', 'detroitnews', 'detroitreddit', 'detroitwon', 'deutsch', 'devast', 'devastate', 'devastating', 'devastation', 'deveautrain', 'develop', 'developed', 'developer', 'development', 'developmental', 'develops', 'device', 'devil', 'devild0g_', 'devinpasko', 'devon', 'devote', 'dew', 'dewaltjackson', 'dewayne', 'dewhine', 'dewine', 'dewines', 'dgaf', 'dgxztipfgx', 'dhiggins63', 'dhsgov', 'diabetes', 'diabolicalgenie', 'diagnose', 'diagnosis', 'diagolonmonkey', 'diagonally', 'dialogue', 'dianacialino', 'dianaheardcpa', 'dianesbaker1', 'diaper', 'diarrhea', 'dicaprio', 'dice', 'dickchristian19', 'dickenson', 'dickiepena', 'dictate', 'didnt', 'die', 'die__trying_', 'diesel', 'dieselliko', 'diethylene', 'diff', 'differ', 'difference', 'different', 'differently', 'difficult', 'difficulty', 'dig', 'digest', 'digging', 'digimalice', 'digital', 'digivorr', 'dijananukic', 'diligently', 'dilute', 'dimbulbs', 'dime', 'diminish', 'dimocrap', 'dineshdsouza', 'ding', 'dingell', 'dingle', 'dinner', 'dino', 'dinsinformation', 'diogoalves___', 'dioxin', 'dioxins', 'dip', 'diparker55', 'dipendente', 'dipsh1t', 'dir', 'dire', 'direct', 'directed', 'direction', 'directive', 'directly', 'director', 'dirk_fasshauer', 'dirkdig72135517', 'dirt', 'dirty', 'disability', 'disagree', 'disagreement', 'disappear', 'disappoint', 'disappointed', 'disarray', 'disaster', 'disastersandsafety', 'disastrous', 'disband', 'disbelieve', 'disburse', 'discharge', 'disclose', 'disclosetv', 'disclosure', 'disconnect', 'discontinue', 'discontinuing', 'discourse', 'discover', 'discovers', 'discrepancy', 'discrimination', 'discus', 'discuss', 'discussion', 'disdain', 'disease', 'diseasedaily', 'disfunction', 'disgrace', 'disgraceful', 'disgruntle', 'disguise', 'disgust', 'disgusted', 'disgusting', 'dishearten', 'dishonest', 'disinfo', 'disinformation', 'disintegrate', 'disjoint', 'dismal', 'dismantle', 'dismantled', 'dismiss', 'dismissive', 'disney', 'disorderly', 'disown', 'disparity', 'dispatch', 'dispatchalerts', 'dispatcher', 'disperse', 'displace', 'displacement', 'display', 'disposal', 'dispose', 'disprove', 'disrails', 'disregard', 'disrupt', 'disruptive', 'disrupts', 'dissipate', 'dissolvethegop', 'distance', 'distract', 'distraction', 'distress', 'distressed', 'distribute', 'distribution', 'district', 'districtr', 'distrust', 'distrustful', 'disturb', 'ditch', 'div', 'dive', 'diversified', 'diversify', 'diversion', 'diversity', 'divestspd', 'divide', 'dividend', 'divider', 'divillogan4', 'division', 'dixon', 'dizziness', 'dj_eurobeat', 'djfreedomrocket', 'djlissa2', 'djournalnow', 'djt', 'djtj', 'djtrump', 'djx1555', 'dkbilson', 'dkbubba', 'dkeller32125797', 'dkirkeles1', 'dl', 'dlbmaga', 'dlkodkadzn', 'dloesch', 'dm', 'dma', 'dmandork', 'dmashak', 'dmgd', 'dmitrysplane', 'dna', 'dnbrgr', 'dnc', 'dncclimate', 'doanebarile', 'docdeezwhat', 'docfromdailykos', 'doctor', 'document', 'documentary', 'documentation', 'dodaistewart', 'dodd', 'dodge', 'doesnt', 'dog', 'dohickey', 'doings', 'doj', 'doled', 'dolioj', 'dollar', 'domain', 'domenicadelia22', 'domestic', 'domestically', 'dominion', 'donald', 'donaldjtrump', 'donaldjtrumpjr', 'donaldrusso994', 'donaldtrump', 'donate', 'donating', 'donation', 'doncheadlefan90', 'dondatimes', 'dondelillo', 'donelson52', 'donjeffries', 'donlawr86874954', 'donna', 'donnacassata', 'donnagann4', 'donnell', 'donnie', 'donniesmolder', 'donny', 'donor', 'donovanlawtampa', 'donsheldon', 'dont', 'dont_biame_me', 'donwinslow', 'donziger', 'doocy', 'doom', 'door', 'doorstep', 'doozy', 'doppler', 'dor', 'dorajfacundo', 'dorspi', 'dot', 'dotspola', 'double', 'doubt', 'doubter', 'doubtfire', 'doubtful', 'douchebag', 'doug', 'doug_in_nc', 'dougjballoon', 'dougwahl1', 'downed', 'downfall', 'downgrade', 'download', 'downplay', 'downside', 'downsize', 'downstream', 'downtown', 'downwind', 'dozen', 'dozens', 'dqschmitt15', 'dr', 'dr_nicole_karn', 'dr_palazzolo', 'drabick', 'draft', 'drag', 'draganov313', 'drahlers', 'drain', 'drainage', 'drainoswamp2', 'drama', 'dramatic', 'dramerling', 'drank', 'draw', 'drawing', 'drbiden', 'drbobbullard', 'drboguslaw', 'drdooleymd', 'dread', 'dream', 'dreg', 'drericding', 'dress', 'dretchy', 'drewects', 'drewscofield01', 'drhenryealy', 'drill', 'drink', 'drinkable', 'drinking', 'drive', 'driver', 'drj38378656', 'drkellyvictory', 'drloupis', 'drmammal', 'drmarcsiegel', 'drone', 'drop', 'droppedcall365', 'dropping', 'drought', 'drove', 'droves', 'drpeppertexan', 'drsimonegold', 'drue86', 'druewhitmer', 'drug', 'drugi', 'drumbeat', 'drumpf', 'drumpster', 'drunk', 'drüben', 'ds', 'dschlopes', 'dselektra', 'dskolnick', 'dthekingpin', 'dtporge', 'du', 'duckheadpgh', 'dudcanoe58', 'dude', 'dudebroson11', 'dudeneyn', 'dudleywbrown', 'dudly_mohr', 'dug', 'duh', 'duin46473580', 'dukeenergy', 'dumb', 'dumbass', 'dumbed', 'dumber', 'dumbness', 'dummy', 'dump', 'dumpster', 'duncan', 'duncanm22722159', 'dunk', 'dunphy_official', 'dupe', 'dupont', 'durbinwatson09', 'durch', 'durham', 'durlaurie', 'dushan41', 'dust', 'dustinmills48', 'dutch', 'duty', 'dvdnln', 'dvr', 'dw', 'dw_environment', 'dwbnseaside', 'dweiss36', 'dx080xd', 'dy', 'dying', 'dynamic', 'dysfunctional', 'dysinger', 'dywersję', 'débordé', 'déchets', 'déclin', 'déraille', 'déraillement', 'déraillent', 'déraillé', 'désormais', 'díaz', 'e22', 'ea', 'eagle', 'ear', 'earful', 'earl', 'earlier', 'early', 'earn', 'earnings', 'earns', 'earth', 'earth3r', 'earthjustice', 'earthquake', 'earthquakesome', 'earthshaking', 'ease', 'eashttps', 'easier', 'easily', 'east', 'eastbourne', 'easterly', 'eastern', 'eastohiodcm', 'eastpalastine', 'eastpalenstine', 'eastpalenstineoh', 'eastpalestine', 'eastpalestine1', 'eastpalestine23', 'eastpalestinecatastrophe', 'eastpalestinechernobyl', 'eastpalestinedisaster', 'eastpalestineincident', 'eastpalestineoh', 'eastpalestineohio', 'eastpalestinetrain', 'eastpalestinetrainderailment', 'easy', 'easyjet', 'eat', 'eatlovepray22', 'eavis', 'eb', 'ebon_geist', 'ebrahimji', 'ecatpanther', 'ecb', 'echo', 'eckelberry', 'eclecticbrotha', 'eclipsethis2003', 'eco', 'ecological', 'ecologicaldisaster', 'ecology', 'ecomadres_', 'economic', 'economically', 'economics', 'economist', 'economy', 'ecosearch', 'ecosensenow', 'ecosystem', 'ecothought', 'ecowarriorss', 'ecp', 'ecwauthority', 'ed', 'edavis152', 'edbyersphd', 'edclay115', 'edenton', 'edgallekfox8', 'edge', 'edgeofstreet918', 'edgreenberger', 'edhenry', 'edis', 'edit', 'editor', 'editorial', 'edkrassen', 'ednoralbrenda', 'edsafetyuk', 'edt22', 'eduardo', 'educate', 'edward_heubel', 'ee', 'eebnqb7cl1', 'eerie', 'eerily', 'eery', 'eeuu', 'eff', 'effect', 'effective', 'effectively', 'efficiency', 'efficient', 'effort', 'effysassperella', 'eflem215', 'egdm8z', 'egg', 'egos', 'egregious', 'egulators', 'ehardykerniii', 'ehnewsroom', 'eitanap', 'eitmonline', 'ejohns03', 'ejxd2', 'el', 'elaborate', 'elaine', 'elainechao', 'elderly', 'elect', 'elected', 'election', 'electric', 'electrical', 'electronic', 'electronically', 'eleftheria119', 'eleftheriaelpis', 'element', 'elevate', 'elevated', 'elevenonethree', 'elfsraccoon', 'eliane', 'elicit', 'eligibility', 'eligible', 'elijahschaffer', 'eliminate', 'eliminateproblematicplastics', 'elise', 'eliseo1183', 'elisestefanik', 'elite', 'elitism', 'elitist', 'elk', 'ellab_g', 'ellaleeuk', 'elleemmakay', 'ellendeubner', 'ellenkmcd', 'ellis_texas', 'elon', 'elonmusk', 'elonmusk689', 'eloquent', 'elpenor_dignam', 'els2359', 'elvin_unleashed', 'em', 'ema', 'email', 'emails', 'emanate', 'emanuelmaiberg', 'embankment', 'embarrass', 'embarrassed', 'embarrassment', 'embassy', 'embattle', 'embattled', 'embed', 'embellish', 'emblematic', 'emboldenedshow', 'emeraldrobinson', 'emerge', 'emergencies', 'emergency', 'emeriticus', 'emermcasey', 'emil', 'emily', 'emilycompagno', 'eminent', 'eminently', 'emit', 'emjbs1027', 'emmahendersontv', 'emmakinnison', 'emme0703', 'emotion', 'emotional', 'empathy', 'empire', 'employ', 'employee', 'employer', 'employés', 'empoisonnement', 'empower', 'empowers', 'empressnitara', 'en', 'enable', 'enact', 'enbolden2', 'encapsulate', 'encapsulation', 'enck', 'enckj', 'encounter', 'encourage', 'encourages', 'encouraging', 'end', 'endanger', 'endcorporatelobbying', 'endcorporatepersonhood', 'endless', 'endorse', 'endure', 'enemy', 'energy', 'enforce', 'enforcement', 'enforcing', 'engage', 'engagement', 'engine', 'engineco16', 'engineer', 'engineering', 'england', 'englewood', 'english', 'enhance', 'enjoy', 'enmnewsnews', 'enon', 'enoree', 'enormous', 'enoughhate', 'enquirer', 'enrich', 'enricofaraboll1', 'enron', 'ensue', 'ensure', 'entanglement', 'enter', 'enterprise', 'enters', 'entertain', 'entertainment', 'enthusiasm', 'enthusiast', 'entire', 'entirely', 'entitle', 'entity', 'entrance', 'entre', 'entrepreneur', 'entresmith', 'env22', 'envelope', 'envenenadas', 'envir', 'enviro', 'enviromentalprotectionagency', 'environment', 'environmental', 'environmentaldisaster', 'environmentalism', 'environmentalist', 'environmentally', 'environmentalprotectionagency', 'environmentnews', 'environnement', 'enygmactown', 'eo', 'ep', 'ep_417', 'epa', 'epagreatlakes', 'epal', 'epalestinetruth', 'epamichaelregan', 'epaohio', 'eparegion3', 'epas', 'epastatelocal', 'epawater', 'epic', 'epicenter', 'epidemic', 'epidemiologist', 'episode', 'epoch', 'epochtimes', 'epstein', 'epsteinclientlist', 'epw', 'epwcmte', 'epwgop', 'equal', 'equally', 'equifax', 'equip', 'equipment', 'equitable', 'equity', 'era', 'erase', 'eric', 'ericakland', 'ericareport', 'ericarhill', 'ericbolling', 'ericcrystal6', 'ericfoltz', 'ericjbrewercle', 'ericka', 'erickleefeld', 'ericmgarcia', 'ericmmatheny', 'ericsandy', 'erie', 'erienewsnow', 'erik75071631', 'erikacorasmom1', 'erikhagstrom1', 'erin', 'erinbrockovich', 'erinbrokovich', 'erins_galaxy', 'erinwfmj', 'ernielittle7', 'eroshevich', 'erosion', 'erroneously', 'error', 'erupt', 'erupts', 'erxc1gqqib', 'escalate', 'escape', 'escochrane', 'escándalo', 'esdeeesdee1', 'esg', 'eshalegal', 'eso', 'esoryelsnya', 'esp', 'españa', 'español', 'especially', 'espendidriksen2', 'essentially', 'est', 'establish', 'estados', 'estate', 'esteem', 'estherfung', 'esthier1', 'estimate', 'estos', 'estuardospeaks', 'eszubski', 'et', 'etats', 'etfb1df65b', 'ethan', 'ethandasaxman', 'ethane', 'ethanecracker', 'ether', 'ethical', 'ethnic', 'ethyl', 'ethylene', 'ethylhexyl', 'etkbw8kgz9', 'etoileluna77', 'etowah', 'eu', 'eugene_robinson', 'eugeneppc', 'euphemism', 'eurofins', 'europe', 'european', 'evac', 'evacuate', 'evacuated', 'evacuation', 'evacuee', 'evaluate', 'evan', 'evanakilgore', 'evandonovan', 'evanlamberttv', 'evans', 'evaporate', 'eve', 'evening', 'event', 'eventually', 'everybody', 'everyday', 'evidence', 'evident', 'evil', 'evilwizzy69', 'evo', 'evocation', 'evrybdydys', 'ewarren', 'ewerickson', 'ewsu', 'ex', 'exacly', 'exact', 'exactly', 'exagerate', 'exaggerate', 'exaggeration', 'examine', 'examined', 'examiner', 'example', 'exasperate', 'exasperated', 'excavate', 'exceed', 'exceedingly', 'excellence', 'excellent', 'exception', 'exceptionalism', 'exceptionally', 'excerpt', 'excess', 'excessive', 'exchange', 'excite', 'excited', 'exclude', 'exclusive', 'exclusively', 'excuse', 'exec', 'execs', 'execute', 'executive', 'exempt', 'exercise', 'exhaust', 'exhaustion', 'exhibit', 'exhortant', 'exist', 'existence', 'existent', 'exit', 'exmaga2023', 'exobcrwp5e', 'exodus', 'exp0sed', 'expand', 'expec', 'expect', 'expectation', 'expediency', 'expelgqpcoupplotters', 'expense', 'expensive', 'experience', 'experienced', 'experiment', 'expert', 'expertise', 'expertly', 'expire', 'expired', 'explain', 'explainer', 'explains', 'explan', 'explanation', 'explicitly', 'explode', 'explodes', 'exploit', 'explore', 'explosion', 'explosive', 'explosives', 'explotando', 'export', 'expose', 'exposure', 'express', 'expression', 'extension', 'extensive', 'extent', 'extention', 'externalize', 'extinguish', 'extra', 'extraordinarily', 'extraordinary', 'extras', 'extraterrestrial', 'extreme', 'extremely', 'extremism', 'extremist', 'extrmly', 'exxon', 'exxon_knew', 'eye', 'eyebrow', 'eyeem', 'eyes', 'eyesupamerica99', 'eynoufelizabeth', 'ezim79', 'fa', 'faa', 'faatithestreet', 'fab', 'fabisiak', 'fabricator', 'face', 'facebook', 'facebookwatch', 'faceless', 'facethenation', 'facetious_dem', 'facilitate', 'facility', 'facing', 'fact', 'factor', 'factory', 'facts', 'factsbeatmemes', 'factsmatter', 'factsvs_fiction', 'factual', 'faculty', 'fahy', 'fail', 'failed', 'fails', 'failure', 'failures', 'faint', 'fair', 'fairground', 'fairgrounds', 'fairly', 'fait', 'faith', 'faith2cu', 'fake', 'fakenews', 'fakepresident', 'falconfan00', 'falconryfinance', 'fall', 'fallacy', 'fallenwood1', 'fallout', 'fallouts', 'fallow', 'false', 'falsely', 'falsifies', 'falsity', 'fame', 'familiar', 'family', 'famous', 'fan', 'fanateresafana', 'fancy', 'fandom', 'fang', 'fangled', 'fanoffryes71', 'fantastic', 'far', 'faralynpadilla', 'farce', 'fare', 'fark', 'farm', 'farmandrail', 'farmdocdaily', 'farmer', 'farmgirlcarrie', 'farmland', 'fart', 'fascism', 'fascist', 'fashion', 'fast', 'fastcompany', 'faster', 'fastlerner', 'faststocknewss', 'fat', 'fatal', 'fatality', 'fatally', 'fatballs369', 'fateful', 'father', 'fatmansqueeze98', 'fau', 'faucet', 'fauchi', 'fault', 'faulty', 'faux', 'favor', 'favorable', 'favorita', 'favorite', 'fawfulfan', 'fayecook19', 'fazer', 'fb', 'fbayer6', 'fbi', 'fcking', 'fdrlst', 'fdt', 'fear', 'feared', 'fearful', 'feat', 'feature', 'feb', 'feb3', 'february', 'fed', 'federal', 'federalist26', 'federallawsuit', 'federally', 'feds', 'fee', 'feed', 'feedly', 'feedstock', 'feel', 'feeling', 'feels', 'feesmac', 'feigns', 'feistyliblady', 'felipeg46458704', 'felixstowe', 'fell', 'fellout', 'fellow', 'felt', 'feltontherivers', 'fema', 'fema_deanne', 'femaregion5', 'femmevoilet', 'fender', 'fentanyl', 'ferahgo684', 'fernand46357857', 'ferraribgoddess', 'ferro', 'ferroequinologists', 'ferroviaire', 'ferry', 'fertile', 'fertility', 'fertilizer', 'fervor', 'festivity', 'fetterman', 'feu', 'feud', 'ffrf', 'ffs', 'fi', 'fiasco', 'fiction', 'fictional', 'field', 'fiercefreckled', 'fiery', 'fifth', 'fight', 'fight4newjersey', 'fighter', 'fighthetyranny', 'figure', 'filamsd', 'file', 'file411', 'filing', 'filled', 'film', 'filmed', 'filming', 'filter', 'filth', 'filthy', 'fin', 'final', 'finalized', 'finally', 'finance', 'financial', 'financially', 'financing', 'finding', 'fine', 'fined', 'finfox2', 'finger', 'fingerprint', 'fink', 'finneylawfirm', 'fintech', 'fire_ice_pain', 'fireapparatus1', 'firearm', 'fireball', 'firebunicorn', 'fireengineering', 'firefighter', 'firefighting', 'firepete', 'firm', 'firmly', 'firstfreespeech', 'firsthand', 'fiscal', 'fish', 'fisherlady111', 'fishing_huuker', 'fishmanlevine', 'fishy', 'fit', 'fitness', 'fitnessgoddoc', 'fitnessmamma', 'fitted', 'fittingly', 'fivethirtyeight', 'fix', 'fjb', 'fkr', 'fl', 'fla', 'flack', 'flacksan2', 'flag', 'flagged_falsely', 'flagrant', 'flake', 'flame', 'flames', 'flammable', 'flanigancolette', 'flare', 'flash', 'flashback', 'flashpoint', 'flat', 'flatcar', 'flattielover', 'flaunt', 'flavor', 'flaw', 'fldemocrat42', 'flee', 'flex', 'flickr', 'flight', 'flint', 'flip', 'flipscrisos', 'flman1980', 'float', 'floating', 'flock', 'flood', 'flooded', 'floofspikey', 'floor', 'flop', 'florenc39933400', 'florida', 'florida_leen', 'floridian', 'flotus', 'flounder', 'flourish', 'flow', 'flowergirlbaker', 'floyd', 'flsen', 'flu', 'fluffer', 'fluid', 'flush', 'fly', 'flyeaglesfly008', 'flyer', 'flying_vixen', 'flyingwasabi739', 'fmr', 'fmv', 'fn', 'fnc', 'focus', 'fodder', 'fohreality', 'foiaed', 'foiltha', 'fois', 'fokes', 'fold', 'folk', 'folks', 'follow', 'follower', 'foment', 'fomocast', 'food', 'foodandwater', 'foodandwaterpa', 'fooking', 'fool', 'foolish', 'fools', 'foot', 'footage', 'football', 'footnote', 'forbes', 'forbid', 'force', 'forced', 'forcing', 'ford', 'fordjohnathan5', 'forecast', 'forefront', 'foreign', 'foremost', 'foresight', 'forest', 'forestry', 'forever', 'foreverphoenix2', 'forex', 'forget', 'forgets', 'forgiatoblow47', 'forgiveness', 'forgot', 'forgotten', 'fork', 'forkstalk', 'form', 'formal', 'formar', 'formosaclubhq', 'formula', 'fort', 'fortexashoujami', 'forth', 'forthright', 'fortify', 'fortunately', 'fortune', 'fortunemagazine', 'forum', 'forumidex', 'forumotion', 'forward', 'fossil', 'foster_jfosfla', 'fostering', 'fotogem', 'fou', 'fought', 'foul', 'foundation', 'founder', 'foundersfollows', 'fountains', 'four4thefire', 'fourth', 'fox', 'fox10phoenix', 'fox13', 'fox19', 'fox19tricia', 'fox28columbus', 'fox2news', 'fox32news', 'fox4', 'fox4beaumont', 'fox4kc', 'fox55fortwayne', 'fox56wolf', 'fox5atlanta', 'fox5sandiego', 'fox7austin', 'fox8news', 'foxbusiness', 'foxcarolinanews', 'foxnews', 'foxnewspolitics', 'foxnewsradio', 'foxnewsrundown', 'foxnewssunday', 'fpotus', 'fpwellman', 'fra', 'frackhazreveal', 'fracking', 'fraction', 'frame', 'fran', 'france', 'franckpengam', 'francophone', 'franfigliola', 'frank', 'frank21blue', 'franklarose', 'franklintkeener', 'frankmikedavis1', 'franksowa1', 'frankthorp', 'frantigrassi', 'frantzrantz', 'fraud', 'fraukegalia', 'fray', 'freak', 'freakin', 'freakinwoke', 'fred67099622', 'fredsimontlm', 'free', 'freebeacon', 'freedom', 'freedomcaucus', 'freedomjody', 'freemason', 'freemasonic', 'freepalastine', 'freespeech', 'freespeechc72', 'freespoke', 'freespokesearch', 'freethankelon', 'freeusa99403238', 'freeze', 'freight', 'freighttrain', 'freightwaves', 'french_one', 'frens', 'frequency', 'frequent', 'frequently', 'fresh', 'freshresists', 'freshwords', 'fret', 'freya123rufus', 'fri', 'friction', 'friday', 'fridayfeeling', 'friend', 'friends', 'frighten', 'frm', 'fro', 'frog', 'frogborg', 'frogger04091968', 'froggy', 'fromkalen', 'fromkulak', 'fron', 'frontlinesshow', 'frontlinestory', 'froomkin', 'frostharding1', 'fruit', 'fruit45144003', 'frustrate', 'frustrated', 'frustration', 'ft', 'ftlizcklhs', 'ftr', 'ftw', 'fu', 'fuck', 'fucker', 'fucking', 'fuct', 'fuel', 'fueling', 'fuente', 'fuk', 'fukushima', 'fulfil', 'fully', 'fulton', 'fume', 'fumetps', 'fun', 'funcionário', 'function', 'fund', 'fundamental', 'funded', 'funding', 'fundraise', 'fundraisingop', 'funeral', 'funkwrite', 'funkytown_01', 'funnel', 'funny', 'funranium', 'furans', 'furio888az9', 'furious', 'furniture', 'furrowedbrow_jk', 'furthermore', 'fury', 'fuse', 'fuss', 'future', 'fvck', 'fwe1991', 'fwtoney', 'fxck', 'fxxk', 'fyi', 'février', 'g3104', 'g_morkert', 'ga', 'gabbard', 'gabegutierrez', 'gabinga1', 'gaborgurbacs', 'gabydore', 'gac', 'gae', 'gaffe', 'gagediffee', 'gagop', 'gaijingirl2004', 'gailendavid', 'gain', 'gal', 'galadrielk9', 'galenmicheal', 'galgrafix', 'gall', 'gallon', 'galones', 'galore', 'galvanized', 'gamble', 'game', 'gang', 'gangstamimi', 'ganoe', 'gao', 'gap', 'garbage', 'garcticall', 'gardensage', 'garnish', 'garrett_foxnews', 'garthphoebus', 'gartlgruber', 'garyhartman', 'garylmcardle1', 'garysblues', 'gas', 'gaslight', 'gaslighters', 'gaslighting', 'gasoline', 'gasp', 'gassed', 'gate', 'gatekeeper', 'gateway', 'gatewaypundit', 'gather', 'gatwick', 'gatx', 'gauci10p', 'gavel', 'gavinnewsom', 'gawd', 'gay', 'gayresistergary', 'gaza', 'gazette', 'gbhnews', 'gc22gc', 'gcww', 'gd', 'gdiddy64', 'gdthor1', 'ge', 'gear', 'gee', 'geek', 'geese', 'geez8090', 'gematria', 'gemini', 'gender', 'gene', 'genebryant2', 'general', 'generally', 'generalmcnews', 'generate', 'generation', 'genereaux2019', 'generosity', 'generously', 'genexermama', 'genflynn', 'genius', 'geno_kusa', 'genocide', 'genomesoldier22', 'genuine', 'genuinely', 'genzforchange', 'geoffrbennett', 'geography', 'geopolitical', 'geopoliticsw', 'geor', 'georebekah', 'george', 'georgehwbush', 'georgementz', 'georgesolis', 'georgetakei', 'georgia', 'geraldavery17', 'geraldorivera', 'geriatrickgames', 'gerilake2', 'german', 'germany', 'gernand', 'gerrymander', 'gerthosmith', 'gerummst', 'gesture', 'getittogetber', 'getreal', 'gettin', 'gettingpaid', 'getty', 'getwisdomdude', 'getötet', 'gfilms7', 'gfull225', 'gg_macm13', 'ggreenwald', 'ghost_of_tick', 'ghostedhippie', 'ghoul', 'giancky26', 'giant', 'gibberish', 'giddy_bunny', 'gift', 'giftlink', 'gigantic', 'gigi69030829', 'gillis15_', 'gimli0413', 'gin', 'ginged78', 'ginger4trump', 'giobenitez', 'giobruno1600', 'giovanni', 'girard', 'girl', 'girlsreallyrule', 'girlsrnottoys', 'girlwithipad', 'gitmoropeco', 'giuliani', 'gizmodo', 'gkmc18', 'glad', 'gladysgist3', 'glare', 'glasgow_jon', 'glass', 'glastris', 'gleefully', 'glenn', 'glennbeck', 'glennkesslerwp', 'glimpse', 'glitch', 'glitching', 'global', 'globalink', 'globalist', 'globalists', 'globalnational', 'globalnews', 'globalwarming', 'globeandmail', 'glorious', 'glove', 'glow', 'glycol', 'gm', 'gma', 'gma3', 'gmarshall1965', 'gmtutc', 'goal', 'goalie', 'goat', 'god', 'goddamn', 'goddessnyx74', 'godfamily_usa_', 'godlessape666', 'godrigsadrang', 'godslightangel7', 'godthedoganus', 'gofund', 'gofundme', 'gojoe_joe', 'gold', 'golden', 'goldshift_', 'golf', 'golfweek', 'gomer', 'gomez', 'gomorrah', 'gomtgzev3g', 'gondolas', 'gonna', 'gonzalez', 'gonzalolira1968', 'gooberment', 'good', 'goodie', 'goodness', 'goodpoliticguy', 'goodvibepolitik', 'goodwill', 'googeliart', 'google', 'googlenews', 'goose', 'gooseymarmay66', 'gop', 'gopbetrayedamerica', 'gopbs', 'gopchairwoman', 'gopcorruptionovercountry', 'gopfailure', 'gophypocrisy', 'gopisdirty', 'gopjosh20', 'gopmajoritywhip', 'gopnomor', 'gopoversight', 'gordongchang', 'gore', 'gorka', 'gosto', 'got', 'gotchas', 'gotdamn', 'gothenburg', 'gothgirlvictim', 'gotta', 'gotten', 'gov', 'govabbott', 'govandybeshear', 'govern', 'governance', 'government', 'governmental', 'governor', 'governorshapiro', 'govholcomb', 'govinslee', 'govkathyhochul', 'govmikedewine', 'govmurphy', 'govparsonmo', 'govrondesantis', 'govt', 'govtstheproblem', 'govwhitmer', 'goya', 'goyafoods', 'gpq', 'gqp', 'gqpers', 'grab', 'grabbed', 'grabber57', 'grace', 'graceirene21', 'gracewein', 'graciesue1212', 'grade', 'graduate', 'grady', 'graftedin2', 'grafton', 'graham', 'grahamallen_1', 'grahamdavida', 'graig', 'graiggraziosi', 'grain', 'grama641', 'gramma_smith', 'grammy_lovesyou', 'grammyc4zone', 'grammypam64gill', 'gramps', 'gran', 'grand', 'granddaughter', 'grande', 'grandeur', 'grandfather', 'grandolpatriots', 'grandosek', 'grandstand', 'graniteville', 'grant', 'grantsmithellis', 'grantstern', 'graphic', 'grapple', 'grass', 'grave', 'gravenscott', 'gray', 'graycrawford6', 'graywolf442', 'graziosi', 'grease', 'great', 'great_thunberg', 'greatbritain', 'greatlakes', 'greatly', 'greece', 'greed', 'greedy', 'green', 'greene', 'greenenergy', 'greenesj333', 'greenhousenyt', 'greennewdeal', 'greenpeace', 'greenpeaceusa', 'greenrener', 'greensboro', 'greenville', 'greenwashing', 'greet', 'greets', 'greg', 'greg90693832', 'greg_price11', 'gregabbott_tx', 'gregdemarco1964', 'gregskilee', 'gremloe', 'grenfell', 'greta', 'gretathunberg', 'greycat70477250', 'grid', 'grief', 'grievance', 'grift', 'grifter', 'grifts', 'grill', 'grille', 'grilled', 'grilling', 'grim', 'grimkim', 'grind', 'gringopicoso', 'gringosito', 'griot2325', 'grip', 'grist', 'gritty20202', 'grizzlyjoeshow', 'grocery', 'gronko63', 'gross', 'grossas', 'grossly', 'ground', 'ground_app', 'groundbreaking', 'groundnews', 'groundwater', 'groundwork', 'group', 'grow', 'grows', 'growth', 'gruenberg', 'grumpiest17', 'grumpy', 'gsk339', 'gsojudy', 'gstephanopoulos', 'gt', 'gtconway3d', 'gtf', 'guarantee', 'guard', 'guardian', 'guardianaus', 'guardianeco', 'guarding', 'guardrails', 'gudgeon', 'guess', 'guest', 'guidance', 'guideline', 'guilfoyle', 'guiliani', 'guilty', 'gulag', 'gulf', 'gum', 'gun', 'gunfighterspock', 'gunn', 'gunthereaglema', 'gunthereagleman', 'guntotingteabag', 'gustoon', 'gutted', 'gutting', 'guvenor', 'guy', 'guy85one', 'guy_in_denver', 'guyjustin15', 'guymasson', 'guyontheleft1', 'guypbenson', 'guys', 'gwestr', 'gylcol', 'gym', 'gymnasium', 'gypsum', 'h20', 'h24net', 'h7g0qskfpy', 'ha', 'habit', 'habitant', 'hack', 'hacked90622', 'hacker', 'hagens', 'haha', 'haileypcampbell', 'hair', 'hale27storm', 'haledamages', 'halevy', 'haley', 'haleybemiller', 'haleytalbotnbc', 'haleywsyx6', 'half', 'halfassed', 'hall', 'hallmark', 'hallway', 'halt', 'halvorson', 'ham', 'hamburger', 'hamilton', 'hamlet', 'hammer', 'hampshire', 'hanayuu', 'hand', 'handbook', 'handful', 'handing', 'handiwork', 'handle', 'handler', 'handling', 'handsomerandall', 'handwaving', 'handy', 'handysook1', 'hang', 'hankcny', 'hannamwebster', 'hannity', 'hapconnors', 'happen', 'happened', 'happening', 'happens', 'happily', 'happy', 'happyinday', 'happymarch5', 'happywhitebitch', 'harass', 'harbinger', 'hard', 'harder', 'hardly', 'hardwood', 'hardworking', 'hardyonthebeach', 'harm', 'harmful', 'harmfuls', 'harmless', 'harp', 'harper', 'harris', 'harrisburg', 'harrisfaulkner', 'harrisonjaime', 'harrisonkrank', 'harry_bawlzak', 'harrymudd15', 'harshly', 'hartman', 'harvard', 'harvey', 'hasan', 'hasanthehun', 'hastily', 'hat', 'hate', 'hatecrime', 'hateful', 'hategop', 'hatehypocrits', 'hater', 'hatred', 'hattierowan', 'hauda01', 'haugsdog88', 'haul', 'haulage', 'haunt', 'haverda', 'haverstraw', 'havoc', 'hawaii', 'hawgphan41', 'hawk', 'hawkeye1745', 'hawksaffair', 'hawley', 'hawleymo', 'haxmat', 'haya', 'haystacktv', 'haz', 'hazar', 'hazard', 'hazardo', 'hazardous', 'hazchems', 'hazma', 'hazmat', 'hazord', 'hbo', 'hbomax', 'hcp1hcp', 'hea', 'head', 'headache', 'header', 'heading', 'headline', 'headquarters', 'headway', 'heal', 'health', 'healthallegheny', 'healthcare', 'healthierphilly', 'healthmap', 'healthvermont', 'healthy', 'healthy4life000', 'heapadude', 'hear', 'heard', 'hearing', 'hears', 'heart', 'heartbreaking', 'hearth', 'heartland', 'heat', 'heated', 'heath', 'heather', 'heathergautney', 'heathershorn', 'heating', 'heaton', 'heatwaves', 'heaven', 'heavily', 'heavy', 'heck', 'hedge', 'hedgefund', 'heel', 'heerjeet', 'hefty', 'hegemony', 'height', 'heighten', 'heir', 'heissbroinc', 'held', 'helenaironline', 'helens31self', 'helicopter', 'helium', 'hell', 'hellbender', 'hellion78', 'hellish', 'helllllloooooooo', 'hello', 'help', 'helpalestineoh', 'helped', 'helpforeastpalestineohio', 'helpful', 'helplessly', 'helplessness', 'hen', 'henhouse', 'henokcronin', 'henryjgomez', 'henryjoefarley', 'hepaco', 'herbieziskend46', 'herbstan22', 'heritage', 'hernandez', 'hero', 'heroaerials', 'herr_nd', 'hes', 'hesitate', 'hesitation', 'heures', 'hexxed4life', 'hey', 'hey_late', 'heyjohnrussell', 'heyjudeoregon', 'heytammybruce', 'heytexasbarb', 'hhelenakhl', 'hhft', 'hhs', 'hhunter_us', 'hhyaguk4pl', 'hi', 'hick', 'hickmanhill', 'hid', 'hidalgo', 'hide', 'hidin', 'hiding', 'high', 'highballsam', 'highimpactflix', 'highlight', 'highly', 'highschool', 'hightechaztec', 'highway', 'highwayoftearz', 'highwiretalk', 'hil_81', 'hilarious', 'hilary', 'hildaha05771304', 'hill', 'hillary', 'hillaryclinton', 'hillgirltn', 'hillsdale1512', 'hilltvlive', 'hinderance', 'hindleskitchen', 'hindu', 'hint', 'hiphop', 'hippy', 'hire', 'hired', 'hiring', 'hirji', 'hiroshima', 'hiscampaigns', 'hisey_mike', 'hispanic', 'hispearlgurl', 'historian', 'historic', 'historically', 'historicalwaifu', 'historię', 'history', 'historyinmemes', 'hit', 'hive', 'hj8nxv3otp', 'hk', 'hm', 'hmmm', 'hmmmm', 'hoax', 'hobart', 'hobo', 'hockey', 'hockman2tom', 'hodgetwins', 'hoe', 'hoexter', 'hogwash', 'holcomb', 'hold', 'holder', 'hole', 'holiday', 'hollow', 'hollyweird', 'hollywood', 'hollywoodcia', 'holman', 'holocaust', 'holt', 'holywell_john', 'holzer', 'home', 'homedede', 'homedy', 'homegrown', 'homeland', 'homeless', 'homendy', 'homeowner', 'homepagesuppressfeed', 'homesick', 'hometown', 'homework', 'homie', 'homophobic', 'hone', 'honest', 'honestly', 'honey', 'honeybadgerla', 'honeyjoesoul', 'hongpong', 'honor', 'hook', 'hoopla', 'hoops', 'hoosierstate100', 'hop', 'hope', 'hopefully', 'hopiumof_masses', 'horizon', 'hormone', 'horn', 'horrendous', 'horrible', 'horrific', 'horrify', 'horrifying', 'horrifyingly', 'horror', 'horrorartnft', 'hors', 'horse', 'hospital', 'hospitalize', 'host', 'hostage', 'hosted', 'hostile', 'hostility', 'hostinlied', 'hot', 'hotbed', 'hotbox', 'hotel', 'hotline', 'hotseat', 'hottopics', 'hour', 'hourscheckmate', 'house', 'housebluedogs', 'housecommerce', 'housedemocrats', 'housegop', 'houseguards', 'household', 'houseofrepresentatives', 'housewife', 'housing', 'houston', 'houstonians', 'houstonpubmedia', 'houzzinspector', 'hover', 'hovers', 'howard', 'howarda_atlaw', 'howardmortman', 'hoy', 'hp', 'hprearden', 'hq', 'hr', 'hriwicf4k9', 'hrkbenowen', 'hrmmm', 'hrs', 'ht', 'html', 'htt', 'http', 'https', 'hub', 'hubris', 'hudson', 'huffman', 'huffmanfornc', 'huffpost', 'huffpostgreen', 'huffpostpol', 'huffpostwomen', 'huge', 'hugely', 'hugger', 'huh', 'huko', 'hulton', 'human', 'humanbydesign3', 'humane', 'humanitarian', 'humanity', 'humankind', 'humans', 'humble', 'humiliation', 'humor', 'hundreds', 'hunt', 'hunter', 'huntington', 'huron', 'hurricane', 'hurry', 'hurt', 'hurting', 'husband', 'hush', 'husted', 'hut', 'huttonpulitzer', 'huttunenthe', 'huuugefoot', 'hwseleutheroi', 'hydrochloric', 'hydrogen', 'hygiene', 'hype', 'hyped', 'hyperbolic', 'hypocrisy', 'hypocrite', 'hypocrites', 'hypothesize', 'hyrumjenny', 'hysteria', 'hysterical', 'hàng', 'hôtel', 'i_am_the_story', 'i_countsixshots', 'ia_diego', 'iaconomp', 'iaffofficial', 'iam_pann', 'iamdingsoc', 'iamgabesanchez', 'iamlisamuhammad', 'iammichelle777', 'iamoutofideas12', 'iamplasticgirl', 'iamrickydiaz', 'iamthatperla', 'iamzerker', 'ian_fraser', 'ian_w_weigand', 'iansmithfitness', 'iarentspartacus', 'iba', 'ibwellssociety', 'ic', 'icantell10', 'ice', 'iceland', 'icestationspmda', 'icky', 'icym', 'icymi', 'id', 'id10cy', 'idea', 'ideastream', 'identical', 'identify', 'ideology', 'idiot', 'idiotic', 'idiots', 'idjoe4idaho', 'idk', 'idol', 'idontexisttore', 'idrick', 'iduncan', 'ifffff', 'ifs', 'ig', 'igd_news', 'ignite', 'ignited', 'ignorance', 'ignorant', 'ignore', 'ignores', 'ignorning', 'ihelpu2c', 'ii', 'iii', 'ijeftomi', 'ike_saul', 'il', 'ilhan', 'ilif', 'ill', 'illegal', 'illegally', 'illegals', 'illegitimate', 'illinois', 'illiterate', 'illness', 'illnesses', 'illuminai', 'illusion', 'illustrates', 'illustration', 'illustrator', 'ilmingomurpho', 'iluvcannabis', 'im', 'im1voice', 'imafratguy', 'image', 'imagerata', 'imagine', 'imancentral', 'imanilfc', 'imat', 'imbecile', 'imfopinion', 'imho', 'imitate', 'imitates', 'imjdsharp', 'imkingjudas', 'imknottheone', 'immediate', 'immediately', 'immeme0', 'immigrant', 'immigration', 'imminent', 'immorality', 'immune', 'imnotowned', 'imo', 'impact', 'impacted', 'impairment', 'impeach', 'impeachjohnfetterman', 'impediment', 'imperialist', 'impinkestgirl', 'implement', 'implementation', 'implication', 'implications', 'implies', 'imply', 'importance', 'important', 'importantly', 'impose', 'imposed', 'impossible', 'imposter_edits', 'impress', 'impressed', 'impression', 'improper', 'improv', 'improve', 'improvement', 'impunity', 'imretiredatlast', 'imurb00gieman', 'in2', 'inability', 'inaccessible', 'inaccurate', 'inaction', 'inadequate', 'inappropriate', 'inaugural', 'inauguration', 'inbound', 'incase', 'incendiary', 'incentive', 'incessantly', 'inch', 'incident', 'incineration', 'incinerator', 'incisyk', 'incite', 'incites', 'incjdent', 'incl', 'incleveland', 'incline', 'inclu', 'include', 'inclusion', 'incoherent', 'income', 'incompent', 'incompetence', 'incompetent', 'inconnus', 'incontextmedia', 'inconvenience', 'inconveniencefee', 'incorrect', 'incorrectly', 'increase', 'increased', 'increasin', 'increasingly', 'incredible', 'incredibly', 'incskram', 'incur', 'ind', 'indemnity', 'indepen09523899', 'independent', 'independently', 'indgop', 'indian', 'indiana', 'indiana_2020', 'indicate', 'indicating', 'indication', 'indicator', 'indict', 'indicted', 'indictment', 'indifference', 'indigenous', 'indirect', 'indirectly', 'indiscriminately', 'individual', 'indivisibleteam', 'indleftnews', 'indoor', 'indrasting', 'induce', 'industrial', 'industrialfires', 'industrially', 'industry', 'indystar', 'indépendants', 'ine', 'ineffective', 'ineligible', 'inept', 'ineptitude', 'ineptocracy', 'inequalitymedia', 'inevitable', 'inexcusable', 'infamous', 'infantry_bucky', 'inferior', 'inferno', 'infertility', 'infiltration', 'inflation', 'inflict', 'influence', 'influencer', 'influencermarketing', 'info', 'inform', 'informal', 'information', 'informational', 'informs', 'infotech', 'infowars', 'infrabrutalism', 'infrared', 'infrastructure', 'infrequent', 'infuriate', 'ing', 'ingenious50', 'ingraham', 'ingrahamangle', 'ingredient', 'inhabitant', 'inhale', 'inhaler', 'inhaling', 'inherit', 'inherited', 'inhumane', 'initial', 'initially', 'initiate', 'initiative', 'initiatives', 'inject', 'injects', 'injunctive', 'injure', 'injured', 'injury', 'inland', 'innocent', 'innovate', 'innovation', 'innovationohio', 'innovative', 'input', 'inquiri', 'inquiry', 'ins', 'insane', 'insanity', 'insensitive', 'inside', 'insideclimate', 'insider', 'insidernews', 'insight', 'insightful', 'insighttweeting', 'insinuate', 'insist', 'insists', 'insitute', 'inslee', 'inspe', 'inspect', 'inspection', 'inspector', 'inspire', 'instagood', 'instagram', 'instal', 'install', 'installation', 'installing', 'instates', 'instavideo', 'instead', 'insteada', 'instinct', 'institute', 'institutional', 'instruct', 'instructive', 'instructs', 'instrumental', 'insufferable', 'insufficient', 'insult', 'insurance', 'insurrection', 'intake', 'intakes', 'integrity', 'intellectualism', 'intelligence', 'intelligencerwv', 'intelligent', 'intend', 'intended', 'intense', 'intensify', 'intention', 'intentional', 'intentionally', 'interact', 'interagency', 'interested', 'interesting', 'interestingly', 'interference', 'internal', 'international', 'internationalist', 'internet', 'internetfreak69', 'internethippo', 'interoperate', 'interrupt', 'intersect', 'intersectionality', 'interstate', 'intervenants', 'intervene', 'intervenes', 'interview', 'inthefights', 'inthesetimesmag', 'intimidate', 'intimidation', 'introduce', 'inusualraisin', 'invade', 'invariably', 'invasion', 'invent', 'invente', 'inventory', 'invercargill', 'invest', 'investigate', 'investigated', 'investigating', 'investigation', 'investigative', 'investigator', 'investing', 'investment', 'investmentnews', 'investor', 'invitation', 'invite', 'invoking', 'involucrados', 'involve', 'involved', 'involvement', 'iowa', 'iowagop', 'ipaint4all', 'iphigeniamama', 'ips_dc', 'ipswich', 'iq', 'ira', 'iran', 'iraq', 'ire', 'iren61926565', 'irina_s2306', 'irishamerican27', 'irishmason', 'irishusprincess', 'irizarry', 'iromg', 'iron', 'ironic', 'irony', 'irrationally', 'irregularjoe', 'irrelevant', 'irresponsibility', 'irresponsible', 'irreversible', 'irritate', 'irritated', 'irritation', 'isaacmeisner', 'isabellechaudry', 'isabellewsyx6', 'isaiah', 'ischemic', 'isellmpls', 'ish', 'island', 'islandtelhi', 'isle', 'isnt', 'isobutylene', 'israel', 'israeli', 'israelinews', 'israeliusanews', 'israeliusnews', 'issue', 'isthischill', 'itachiakocta', 'italy', 'itchy', 'item', 'itisjustmebabe', 'its_the_dr', 'itsjefftiedrich', 'itskac', 'itstotally', 'itv', 'iunfold', 'iwf', 'iwn', 'ixlnbqvw6dzz230', 'iyengar_raghu', 'j0bamala', 'j2dumfounded', 'j6', 'j_g_allen', 'j_millertv', 'jab', 'jabin', 'jacabiterebel', 'jaccocharite', 'jack', 'jackalack48', 'jackbonedaddy', 'jacket', 'jackhole_12345', 'jackie', 'jackie_b_wood', 'jackiewsyx6', 'jacklestons', 'jacknoo53430211', 'jackposobiec', 'jackrayher', 'jackson', 'jacksonhickma20', 'jacksonhinklle', 'jacksonville', 'jackstr42679640', 'jackwagon', 'jackwhoelse', 'jacob_fischler', 'jacobin', 'jacybrean', 'jags24asare', 'jahjah311', 'jail', 'jailanelsarha', 'jake', 'jakebrister27', 'jakejakeny', 'jakepoling', 'jakeshieldsajj', 'jaketapper', 'jakubak2mars', 'jalopnik', 'jamais', 'jamal', 'james', 'james__hannon', 'jamesba054', 'jamesbi08016114', 'jamesbradleyca', 'jamesdubhthaigh', 'jameseperloff', 'jamesfloveiv', 'jamesjo56909490', 'jamesle92789807', 'jameslindholm1', 'jameslynch32', 'jamesmelville', 'jamesmurtagh', 'jamesoverholser', 'jamesstrock', 'jamesvalvis', 'jameswhittom', 'jami', 'jamie', 'jaminjack', 'jan', 'jancary4', 'janebon34813396', 'janet', 'janeway888', 'janicedean', 'janissillivan', 'janlan584', 'january', 'japan', 'japanese', 'jar', 'jardindesdieux', 'jaredr891', 'jaredrutecki', 'jaromebellva', 'jasnotron', 'jason', 'jason_koebler', 'jasoncarrollcnn', 'jasonrantz', 'jasontoddd1', 'javaman72', 'javaswrath', 'jaw', 'jawdropping', 'jawja100', 'jay', 'jaychpjones', 'jaydeetheguy', 'jayshahyyz', 'jaystormy99', 'jazcleveland923', 'jazz', 'jbarab', 'jbatnc304', 'jbjk216', 'jbot07646940', 'jbyd2kzuge', 'jca_belair', 'jcb88850464', 'jcenters', 'jd', 'jd1515151', 'jd_onetwothree', 'jdbalartmsnbc', 'jdellarocca', 'jdpnpxot8e', 'jdttransit', 'jdvance1', 'jean', 'jeana_luft', 'jeanette_rich77', 'jeannielynna', 'jeannine_bartel', 'jebrafaushay', 'jedediahbila', 'jeff', 'jeffandersondc1', 'jeffclarkus', 'jeffdtteets', 'jefferson', 'jeffhauser', 'jeffjun80346519', 'jeffpendergast2', 'jeffreyareddick', 'jeffreygoldberg', 'jeffries', 'jeffrmarks', 'jeffroushpoetry', 'jeffy', 'jeffzymeri', 'jefiner68', 'jehutton', 'jem2486', 'jemelehill', 'jencages', 'jenchangefl', 'jendoc3', 'jenkins', 'jenmercieca', 'jennaellis', 'jennaellisesq', 'jennajordantv', 'jennamdawn', 'jennibetweets', 'jennie_sc1', 'jennifer', 'jenniferhomendy', 'jennifershutt', 'jennwcbus', 'jennybizh', 'jeopardize', 'jeopardizing', 'jeremiahthinks', 'jeremymoulton9', 'jerk', 'jeromecylin', 'jerry', 'jersey', 'jersey_nobody', 'jerusalem', 'jesbejj', 'jessea1986', 'jessebwatters', 'jessekellydc', 'jessekirschnews', 'jesseprimetime', 'jessica', 'jessicaemiranda', 'jessicalburbank', 'jessicalexicus', 'jessicam6946', 'jessicamauch', 'jessicatarlov', 'jessicausaf', 'jesus', 'jet', 'jethoreau', 'jetsfannick', 'jettonefan', 'jeudi', 'jew', 'jewell2022', 'jewels_cam', 'jewelsjoneslive', 'jewhaditm', 'jewish', 'jfc', 'jfradioshow', 'jftaveira1993', 'jganyfl1', 'jgnightingale', 'jheil', 'jilevin', 'jilldlawrence', 'jim', 'jim_jodan', 'jim_jordan', 'jim_kosior', 'jim_sinclairjr', 'jimbousa1776', 'jimenadiazleiva', 'jimins', 'jimjordan', 'jimlongo63', 'jimmlssocrfan', 'jimmy', 'jimmy_dore', 'jimmycarter', 'jimmydangle64', 'jimmylevymusic', 'jinping', 'jippherd', 'jithe', 'jj63927499j', 'jj_talking', 'jjauthor', 'jk', 'jk124k', 'jkoff609', 'jlauro67', 'jlbryant2', 'jleefromthe413', 'jleetxgirl', 'jlounsbury59', 'jlownlaw', 'jlvstw1', 'jmarano11', 'jmbenson1491', 'jmborchardt', 'jmeinco', 'jmg', 'jmorgan_wx', 'joann_cubberly', 'joaquinlife', 'job', 'jocqbarnesjr', 'jodyfield', 'joe', 'joe172726', 'joe7993', 'joeb', 'joebanner13', 'joebarton1238', 'joebiden', 'joeconchatv', 'joedanielsen17', 'joedonatelli', 'joeenterprise72', 'joekatz45', 'joekent16jan19', 'joelmcurzon', 'joelpollak', 'joemill37087868', 'joenbc', 'joenicedj', 'joerogan', 'joesonka', 'joevettweets', 'joewelker8', 'joeystats707', 'john', 'john90502268', 'john_sipher', 'johnabbottnet', 'johnathanperk', 'johnathonwillow', 'johnbasham', 'johnclke', 'johncusack', 'johnd1111111111', 'johndned', 'johndylanpope', 'johnfbachman', 'johnfetterman', 'johnfugelsang', 'johngalto', 'johnmlippert', 'johnny', 'johnnyg0626', 'johnnypatriot64', 'johnrich', 'johnrobertsfox', 'johnrplatt', 'johnsmi59776698', 'johnson', 'johnsonleads', 'johnwdean', 'johoad1', 'join', 'join1440', 'join_rage', 'joining', 'joint', 'jointly', 'jojo', 'jojofromjerz', 'joke', 'jon', 'jonahfurman', 'jonahtillman6', 'jonathan', 'jonathanweisman', 'jonathon', 'joncoopertweets', 'jones', 'joneskeepup45', 'joni_looking', 'jonijam', 'jonnajarian', 'jonstewart', 'jontheredrc', 'jookboxer', 'jordan', 'jordanbpeterson', 'jordanchariton', 'jordanschachtel', 'jordanschafer', 'jordanuhl', 'jorgebedollarev', 'jorgeneutrino', 'jorymicah', 'joseph', 'josephs03876993', 'josephsokolovi1', 'josh', 'josh_oknefski', 'joshbloomacsh', 'joshbottweet', 'joshshapiropa', 'joshslyder', 'joshsweigart', 'joshtpm', 'joshuaeberly1', 'joshuahosler', 'joshuaphilll', 'jost', 'josé', 'jot', 'jotrumpca', 'journal', 'journalism', 'journalist', 'journey', 'journos', 'joy', 'joyannreid', 'joycebehar', 'joydonohuehotm1', 'joyless', 'joyreidofficial', 'joyride', 'joyvbehar', 'jp', 'jpelzer', 'jpgpicscom', 'jplinville', 'jpmorgan', 'jpnews_ny', 'jpthetattooer', 'jr', 'jrlacich', 'jrobfrommn', 'jrolley325', 'jrpsaki', 'jscarpel2', 'jsolomonreports', 'jtdougl', 'jtinaglia', 'jtonyy35', 'jtrea81', 'jubalharshaw13', 'judge', 'judge_knot', 'judgejeanine', 'judgement', 'judgenap', 'judicial', 'judiciarygop', 'judith', 'judytgolf', 'juevosdechivo', 'juice', 'jul1arock', 'jules31415', 'juliane', 'juliaseymour58', 'julie', 'juliet_notromeo', 'july', 'jump', 'junior', 'juniorm0331', 'junkscience', 'jupiter', 'jurisdiction', 'jus', 'justavet11', 'justhere4stonks', 'justice', 'justice314lady', 'justice4ail', 'justice4eastpalestineoh', 'justice4lacie', 'justice4ohio', 'justice4springfield', 'justicedems', 'justifiable', 'justifiably', 'justified', 'justify', 'justin_sweitzer', 'justinalpertesq', 'justinsink', 'justinweather', 'justlikehvn', 'justmy_tenet', 'justsomeavgguy', 'justthechemicalflu', 'justthenews', 'juxtapose', 'jvargasnow', 'jvman588', 'jwalkerdread1', 'jwillows_author', 'jwmcgowan', 'jwsagain', 'jwtmdmba', 'k1erry', 'k_gaita', 'kabooom', 'kagsundaram', 'kaicisz', 'kaitlancollins', 'kaktusbam', 'kaladinfree', 'kali8989', 'kali_koda', 'kals55', 'kamala', 'kamalaharris', 'kamilahvmoore', 'kaminkowron', 'kamps', 'kananykimberly', 'kandibar2011', 'kanekoathegreat', 'kangaroos991', 'kansas', 'kaos_vs_control', 'kaoticleftist', 'karencdannemill', 'karengraham2009', 'karenshubris', 'karensummerlin5', 'karilake', 'karinavlaw', 'karine', 'karlmevers', 'karlrove', 'karolcummins', 'kate13luna', 'katewsyx6', 'katherineoma', 'kathrynw5', 'kathrynwise6869', 'kathy_arizona', 'katiekingcst', 'katiepavlich', 'katkat4522', 'katpawsclaws', 'katrina', 'katrinawte', 'katy', 'katyashanahan', 'katyturnbc', 'kaufmanabrams', 'kawaiifoxita', 'kaybeans616', 'kaylaepstein', 'kayleighmcenany', 'kazweida', 'kbo54667809', 'kc2fargo', 'kctv5', 'kdka', 'keatchie', 'keawewong', 'keepi', 'keeplooking2024', 'keepsatit', 'keith', 'keith0sta', 'keith_laing', 'keithgl53454543', 'keknative', 'keller78rpm', 'kelly', 'kellyharrelson5', 'kellymnyc', 'kellyrippin', 'kemu808', 'ken', 'ken__champion', 'kendallraeonyt', 'kengeor', 'kenklippenstein', 'kennedy', 'kent', 'kentatwater7', 'kentpg', 'kentucky', 'kenvogel', 'kerirn', 'kermithigby', 'kerry', 'kerryarndt', 'kesharam', 'kessler', 'kevin', 'kevinbriggs1776', 'kevinjmccarthy8', 'kevinmccleerey', 'kevinobrien11', 'kevintober94', 'kevinwid99', 'key', 'key2eternity', 'keyisfaith', 'keysdiver76', 'keysman19', 'keystone', 'kfbk', 'kgerardjr', 'kgun9', 'kgwnews', 'khanna', 'kharkov', 'khenry657', 'khou', 'kick', 'kid', 'kidding', 'kiev', 'kiii3news', 'kikuyukuyu', 'kill', 'killer', 'killuminati', 'kilmeade', 'kilometer', 'kimberly', 'kimberlyarchie', 'kimberlymckeeve', 'kimeleveneleven', 'kimguilfoyle', 'kimkgarrett', 'kimmacthomas', 'kimmel', 'kimssporty', 'kin_sails', 'kind', 'kinda', 'kingtrumpusliar', 'kinkygirl28', 'kiradiju', 'kirby', 'kirby_knows', 'kirin', 'kirk', 'kiro7seattle', 'kiss', 'kissimmee', 'kittiesandcarts', 'kittybayoutsfan', 'kizma1984', 'kizzyrocnrolla', 'kjb', 'kjp', 'kjp46', 'kleavittnh', 'klem1544', 'kleptocratic', 'kleytoncooper', 'klfy', 'klimek91', 'klswartz1', 'klumpshtein', 'km', 'kmbc', 'kmphfox26', 'knee', 'knew', 'knife', 'knock', 'know', 'knowledge', 'knowmercypod', 'koacalifornia', 'koat7news', 'kogz', 'kolejny', 'kolektiva', 'kolhaolam', 'kollidiert', 'kolr10kozl', 'kool', 'koolaid', 'koonskarl', 'korbendallas654', 'korea', 'koryallen20', 'kouřit', 'kownunkowns', 'kowtow', 'kqagvmy9bw', 'krassenstein', 'krbymusic', 'krdonc13', 'kris_maher', 'krisboyles', 'krishan_a_patel', 'krispi_largo', 'kristen', 'kristenkcornett', 'kristenmeghan', 'kristensque', 'kristinbatt333', 'kristincredibl1', 'kristyshl', 'krnv', 'krommsan', 'kroniklylate421', 'krouse', 'krus_vs_insta', 'kruse', 'krystalball', 'ksbw', 'ksh_safety', 'ksi', 'ksleg', 'ksliberal', 'ksntnews', 'ksorbs', 'kstp', 'kt_so_it_goes', 'kthalps', 'ktrk2vqv55', 'ktxs_news', 'kucinskigeri', 'kunaendaje', 'kurtmetzger', 'kushners', 'kvconner', 'kvverra', 'kxly4news', 'kxnt', 'kyiv', 'kylealexstewart', 'kylegriffin1', 'kylenabecker', 'kytv', 'l00kin', 'la', 'lab', 'label', 'lablissmusic', 'labor', 'laboratory', 'laboroflove963', 'labourheartland', 'labs', 'lac', 'lachampt58', 'lack', 'lackadaisical', 'lackey', 'lackluster', 'lacmegantic', 'lacquer', 'lacroyboynft', 'laden', 'ladiebldr', 'lads04', 'lady', 'ladybug1833', 'ladyfishrn11', 'ladyoftheocean1', 'lag', 'lago', 'lahood', 'lai', 'lainemartin1', 'lake', 'lakes', 'lakotaman', 'lakotaman1', 'lalovestrump', 'lambert', 'lame', 'lamenta', 'lamestream', 'lancegooden', 'land', 'landfill', 'lane', 'lanemancini61', 'language', 'lanier', 'lapham923', 'lapse', 'laptop', 'large', 'largely', 'larimer1', 'larry', 'larry_carrocci', 'larrycasanova9', 'larryelder', 'larryleftlibby', 'larrymendteshow', 'las', 'lash', 'lashback', 'lasting', 'lastly', 'late', 'lately', 'later', 'latestnews', 'latimes', 'laud', 'laudable', 'laugh', 'laughable', 'laughingstock', 'launch', 'launder', 'laundering', 'laundry', 'laura', 'laura13285576', 'lauraloomer', 'lauramiers', 'lauranoonan16', 'laurarabinow', 'lauren', 'lauren_linder', 'laurenboebert', 'laurieluvsmolly', 'lavern_spicer', 'lavrov', 'law', 'law360', 'lawcrimenews', 'lawdog323e', 'lawful', 'lawmak', 'lawmaker', 'lawn', 'lawnchaney', 'lawns', 'lawrence', 'lawsuit', 'lawyer', 'lax', 'lay', 'layer', 'laying', 'laylatexas77', 'layoff', 'lazy', 'lb', 'lcvoters', 'lda', 'ldog562', 'ldogls', 'le', 'leach', 'leached', 'leaching', 'lead', 'leader', 'leadermcconnell', 'leadership', 'leading', 'leaf', 'league', 'leahlitman', 'leak', 'leakage', 'leaked', 'lean', 'leaping', 'learn', 'learn2merge', 'learned', 'learning', 'lease', 'leave', 'lebron', 'leckomio16', 'lectric1e', 'lecture', 'lede', 'lee', 'leeitalian1', 'leery', 'leespacey', 'left', 'left_voice', 'leftcoastbabe', 'leftist', 'leftistbasher', 'leftists', 'leftiststears1', 'leftover', 'leftovernews', 'legacy', 'legal', 'legally', 'legendaryenergy', 'legislate', 'legislation', 'legislative', 'legislator', 'legislature', 'legit', 'legitimacy', 'legitimate', 'leia', 'leitshelly', 'lelandvittert', 'lemmabarkaloo', 'lemon', 'length', 'lengthen', 'lengthy', 'lenin', 'les', 'lesandob', 'lesinski', 'lesion', 'leskobrandon20', 'leslibless', 'leslie', 'leslierun', 'lesoldham4', 'lessen', 'lesser', 'lesson', 'lessor', 'lesstraveledby2', 'lester', 'let', 'lethal', 'letsgobrandon', 'letter', 'letting', 'level', 'lever', 'leverage', 'levernews', 'leviismithphd', 'lewisefur', 'lexington', 'lfatv', 'lgb_fjb_2022', 'lgbtq', 'lgbtqtravelbiz', 'lgigldjtw3', 'lhfang', 'li', 'liability', 'liabilty', 'liable', 'liar', 'lib', 'libbe', 'libby', 'libby4liberty0', 'libel', 'liberal', 'liberal_jamie', 'liberalettie', 'liberallogic', 'liberalpuppy', 'libertarian', 'libertariandream', 'libertarianrep3', 'libertarians', 'libertas3127', 'liberte_ny', 'libertprosperit', 'liberty', 'libertyrepost', 'libfantasypod', 'library', 'libs', 'license', 'licensed', 'licensee', 'lick', 'lid', 'liddlesavages', 'lidianews', 'lie', 'lied', 'lieden', 'lier', 'lietdansnewlegs', 'lieu', 'lievre_pelafina', 'life', 'lifeless', 'lifeline', 'lifelong', 'lifestyle', 'lift', 'light', 'lightfighter24', 'lightly', 'lightsoutonight', 'lightwebsdallas', 'like', 'likely', 'lil', 'lil_byington', 'lildonnyb', 'lillianvikingdk', 'lilly', 'lima', 'limbo', 'limestone', 'limit', 'limitation', 'limited', 'limpbaddymormon', 'limricklevel', 'lina', 'linacantalupa', 'lincoln', 'lincolncolottie', 'lincolnmjay', 'lindagmedium', 'lindamarkss', 'lindastraynor', 'lindo', 'lindsay', 'lindsayboyce85', 'lindsey', 'lindseygrahamsc', 'lindyli', 'line', 'lineside', 'linformant01', 'linger', 'lingers', 'link', 'linlovesfriz', 'linsd13', 'linzikiro7', 'lip', 'liquefy', 'liquid', 'liquidate', 'liquify', 'lirr', 'lisa_liberal', 'lisa_pubcitizen', 'lisajoy9', 'lisaluvsliberty', 'lisamarieboothe', 'lisamomentor2', 'list', 'listed', 'listen', 'lit', 'lit_poster', 'literal', 'literally', 'lithuania', 'litigation', 'little', 'littlemissflint', 'littlespeedypetey', 'littlwritergir1', 'livable', 'live', 'livefreeordeb', 'livelihood', 'livenow', 'liveonnews9', 'liver', 'liverhead1776', 'liverpool', 'livestock', 'livestream', 'livetube', 'living', 'livingbluetx', 'livingston', 'livingston19577', 'livncuckooland', 'livnwithluv', 'liz', 'liz_wheeler', 'lizaadamczewski', 'lizburgh', 'lizcgoodwin', 'lizmw', 'lizwofford16', 'lizzo', 'lizzystarrrdust', 'ljferal', 'ljmontello', 'ljmoynihan', 'lknattorney', 'lkobelnotski', 'llcbillionaire', 'lmao', 'lmaureschat', 'lmcnallyytown', 'lme', 'lmorello_dc', 'lng', 'load', 'loaded', 'loading', 'loan', 'loathe', 'loathes', 'lobbie', 'lobbied', 'lobbists', 'lobby', 'lobbyi', 'lobbyin', 'lobbying', 'lobbyist', 'lobbyists', 'loc', 'local', 'local12', 'local4news', 'localbusiness', 'locally', 'localnews', 'locate', 'location', 'lock', 'lockemup', 'lockheed', 'locoashes', 'locomotive', 'locomotives', 'locus', 'lodge', 'loft', 'log', 'logan_ratick', 'logic', 'logically', 'logically_left', 'logistics', 'loi', 'lol', 'lollioness', 'lolol', 'lololol', 'london', 'londonderry', 'londres', 'lone', 'lonestarherd', 'long', 'longer', 'longshortgamma', 'longstanding', 'longterm', 'longtime', 'loo', 'look', 'lookingrightati', 'lookner', 'lookout', 'loom', 'looney', 'loop', 'loose', 'loosen', 'loosening', 'loot', 'lor_blueeyes', 'loraanem', 'lorax58', 'lord', 'lordbutters22', 'lordofthepepes', 'lorie12265438', 'loris', 'loriwimberley', 'lorrainespeaks', 'lorraynenj', 'lors', 'los', 'lose', 'loser', 'loses', 'loss', 'lost_my_job', 'lostandlovinit', 'lostindivan', 'lot', 'lots', 'lotta', 'lou', 'loud', 'loudmouth', 'loudobbs', 'louiedadawg', 'louiejamesdick3', 'louis', 'louisanamom', 'louisd217', 'louisiana', 'louisianagov', 'louisville', 'louisvillewater', 'loujacobson', 'lounge', 'lourinaldi22', 'lov_dem66', 'love', 'loveamerica89', 'lovely', 'lover', 'lovett', 'loveworld_peopl', 'low', 'lowcountry1girl', 'lower', 'lowered', 'lowest', 'lowiq', 'lp_lapresse', 'lp_mitchell2', 'lpmisescaucus', 'lps_ryry', 'lrckcrw', 'lsferguson', 'lt', 'ltdmanagement', 'lti2', 'ltk175', 'lube', 'lucasfoxnews', 'lucasjohnn01', 'lucathecactus', 'luciakoopa', 'luck', 'luckboxwinnerr', 'luckily', 'lucky', 'ludicrous', 'ludicrously', 'ludwig', 'luisciphermstar', 'lukewearechange', 'lukewsavage', 'lulfo9', 'lululemon2022', 'lump', 'lunacy', 'lunatic', 'lung', 'luparellosal', 'luxury', 'lw22', 'lying', 'lyn', 'lynguist716', 'lynn18181', 'lynne_soukup', 'lynnehellothere', 'lynnschore', 'lyretail1982', 'lyssa_b_ruiz', 'lythia777', 'lytton', 'm0r0n', 'm1keyrobinson', 'm92247202', 'm_c0ms', 'm_j_salem', 'm_star_online', 'maaaaaybe', 'mac', 'mac6272', 'macdaddy611', 'mach', 'machell49934776', 'machine', 'machinery', 'mackinawjack', 'macron', 'macrovist', 'macstryke1', 'mad', 'mad_patrice', 'madbradpotts', 'maddenifico', 'maddening', 'madder', 'maddow', 'maddowblog', 'madeintheusanj', 'madek17', 'madison', 'madisonwiison', 'madness', 'madonna', 'madrid', 'mae_westside', 'mafia', 'maga', 'magaincwarroom', 'magamastriano', 'magamorons', 'magapatriothm', 'magarepublicans', 'magas', 'magateam2024', 'magatqnuts', 'magats', 'magatstriggeredbyrealleader', 'magawarrior_45', 'magazine', 'maggiebower17', 'maggiejordanacn', 'maggienyt', 'maggies66638762', 'magic', 'magically', 'magistercalvert', 'magiwise1', 'magnanimous', 'magnitude', 'magpiefl', 'mahoning', 'mahoningmatters', 'mai', 'mail', 'maile', 'maileprmedia', 'mailonline', 'main', 'maine', 'maineggal', 'mainer', 'mainstream', 'maintain', 'maintenance', 'maintenant', 'mairscott3', 'majo', 'major', 'majority', 'majormizako', 'mają', 'mak', 'make', 'makeitmakesense', 'maker', 'makeshift', 'makeup', 'making', 'mal', 'malades', 'malarkey', 'malcolm', 'malcolm_flex48', 'malcolmnance', 'malfunction', 'malignant', 'mallardreborn', 'malonespeaking', 'malpractice', 'mamabearnj908', 'mamaelliemae', 'mammal', 'man', 'manage', 'management', 'manager', 'manchin', 'mandate', 'mandatory', 'manewreality21', 'mangle', 'mangled', 'manhattan', 'manhattan_res82', 'manifest', 'manifestation', 'manipulative', 'manipulator', 'mankyisobsessed', 'mann', 'manner', 'manoeuvring', 'manolo9927', 'mansion', 'manthonyk76', 'manufacturies', 'manufacturing', 'manumeel_', 'map', 'mapplemobs', 'mar', 'maragay', 'marc', 'march', 'marchan', 'marchandises', 'marco', 'marcorubio', 'marcusdaurelius', 'marcusganthony', 'margin', 'mari2025z', 'maria', 'mariaangelagrow', 'mariaba40543284', 'mariabartiromo', 'mariabonanno9', 'mariabruno01', 'mariage', 'marialoraina62', 'marianvader', 'marijuana', 'marimagforever', 'marionawfal', 'marisatwigg', 'marjorie', 'marjorietaylorgreeneissodumb', 'mark', 'markcuker', 'markdarling89', 'markdice', 'market', 'marketing', 'marketnews', 'marketrebels', 'marketwatch', 'markey', 'markiemartin', 'marking', 'markmaycot', 'marknew0405', 'marknorm', 'markosket', 'markruffalo', 'markwayne', 'marla_vous', 'marlonwayans', 'marnihughestv', 'married', 'marron_lorenzo', 'marshablackburn', 'marshaling', 'martharaddatz', 'marthedeferrer', 'marvel', 'marwabalkar', 'marwilliamson', 'mary1kathy', 'maryann26920610', 'maryis4dacubs', 'marykostakidis', 'marylcamacho', 'marylouculkar6', 'maryvicars', 'marywalterradio', 'mascher', 'masdive', 'mask', 'masonic', 'mass', 'massachusetts', 'massage', 'masse', 'massive', 'massively', 'master', 'masterjost', 'masto', 'mastodon', 'mastriano', 'mat', 'mata34814036', 'match', 'matchmap', 'mate', 'material', 'materiales', 'math', 'mathews', 'matls', 'matrix', 'matrixmarxist', 'matrixsimulated', 'matt', 'matt95501', 'matter', 'mattgaetz', 'matthancock', 'matthatter69420', 'matthew', 'matthew_sleigh', 'matthewarco', 'matthewbendett', 'matthewccook5', 'matthewdalywdc', 'matthewjshow', 'matthewnichol5', 'mattina_dominic', 'mattison', 'mattjenkinsnj', 'mattlockeradio', 'mattmcneilshow', 'mattortega', 'mattstaton', 'matttttt187', 'mattwallace888', 'mattyglesias', 'matériaux', 'maura', 'max', 'maxarmstrong', 'maxbocephus', 'maximillian_alv', 'maximize', 'maximum', 'maxnordau', 'maxstier', 'maya', 'mayatcontreras', 'maybe', 'mayo', 'mayor', 'mayorpete', 'mayorseidel', 'mb', 'mbalter', 'mblasdel79', 'mblehrhoff', 'mbpblm', 'mccain', 'mccainsuzanne', 'mccarthy', 'mcclellandshane', 'mcconnell', 'mcdanieljustine', 'mcdonald', 'mcdonalds', 'mcgee', 'mcgeezer71', 'mcgregormx', 'mckaylarosered', 'mckinsey', 'mclaudehawkes', 'mcmorris', 'mcquakenbush', 'mcspocky', 'mdenaxa', 'mdl', 'mdockendorf1', 'me15000', 'me21freed', 'me_idealist', 'meadow', 'meal', 'mean', 'meander', 'meaning', 'meaningfully', 'meant', 'meantime', 'measly', 'measur', 'measure', 'measurement', 'meat', 'meattankdriver', 'mebehealthy', 'mechanic', 'mechanical', 'mechanism', 'mecklenburg', 'med', 'med22', 'mediaite', 'mediaknowj', 'medic', 'medicaid', 'medical', 'medicare', 'medicareforall', 'medicine', 'medida', 'medill', 'medina', 'medio', 'mediocrity', 'medium', 'medwoman1', 'meeksisglen', 'meely', 'meer', 'meet', 'meeting', 'meetjess', 'meetthepress', 'mega', 'megamanx1984', 'meganguzapg', 'mege723', 'megebrock', 'meghan', 'meghankdka', 'meghanmccain', 'megstesprit', 'megthenewsie', 'megynkellyshow', 'meh', 'meidas_laurena', 'meidastouch', 'meimei1935', 'mekathleen', 'melaguas', 'melancholy', 'melanoma', 'melbr1111', 'melico24', 'melindagorden12', 'melissa', 'melissalmrogers', 'melliemaga', 'mellon', 'melt', 'meltdown', 'melvinosquire', 'member', 'meme', 'memeaccount691', 'memeber', 'memeburk', 'memequeenkimmy', 'memo', 'memorandum', 'memory', 'memphilly', 'memphis', 'men', 'menace', 'mendacity', 'ment', 'mental', 'mentality', 'mention', 'mentor', 'menu', 'merchandise', 'merck', 'mercuryx', 'mercy', 'mere', 'merely', 'meremortal19', 'merger', 'meridian', 'merit', 'merkley', 'merritt', 'mess', 'message', 'messages', 'messaging', 'metabolism', 'metal', 'metalheadrailf1', 'metallic', 'metalmaster63', 'metam', 'meter', 'meth', 'methepeople1776', 'method', 'metra', 'metric', 'metro', 'metronorth', 'metropolitanguy', 'meverhart26', 'mexican', 'mexico', 'mf', 'mfalknerjr', 'mfrs', 'mfstern', 'mg440', 'mgdmitch', 'mhamedkalid', 'mhdude1mhdude1', 'mhenderson33', 'mhprvpmvp', 'mi', 'mia', 'miainpololu', 'miamac88', 'miami', 'mic', 'mich', 'michael', 'michael18915907', 'michael25782778', 'michael45900872', 'michael59503746', 'michael78794333', 'michaelart123', 'michaelguylee1', 'michaeljknowles', 'michaeljstern1', 'michaelregan', 'michaelrulli', 'michaelshep71', 'michaelzzzs3', 'michel77520107', 'michele', 'michell57107272', 'michelle', 'michellepallas', 'michellmybell1', 'michigan', 'michiganfront', 'michigantrainderailment', 'mickey', 'mickiedances', 'mickster', 'microscope', 'mid', 'middle', 'mideast', 'midheaven', 'midigate', 'midnite312004', 'midst', 'midwest', 'midwestern', 'miesiąc', 'mightym55070329', 'migraine', 'migrant', 'miguelmarquez', 'miies', 'miimaewest', 'mikal', 'mike', 'mike10010100', 'mike71442212', 'mike_houston_', 'mike_paroulek', 'mike_pence', 'mikecartertv', 'mikecollinsga', 'mikedewine', 'mikeemanuelfox', 'mikegrahamntsb', 'mikeholdennews', 'mikekarr', 'mikekellypa', 'mikekellyslemon', 'mikepompeo', 'mikes_booh', 'mikeskis67', 'mikesrandomthoughts', 'mikeswi00209234', 'mikethebot', 'mikeviqueira', 'mikewsyx6', 'mikey', 'mikeyp7899', 'mikiebarb', 'mil', 'mild', 'mildinchemicalchildren', 'mildvinyl', 'mile', 'milehigherpod', 'milestone', 'milford', 'militarization', 'military', 'millenboy', 'millennial', 'millennialother', 'millennials', 'miller', 'millerboss1209', 'millerkim34', 'millie__weaver', 'million', 'millionmomsmeet', 'milllionsusd', 'milruby27', 'mimic', 'mimitexasangel', 'min', 'mind', 'mind_vince', 'mindblowing', 'mindlessly', 'miner', 'mineral', 'minggao26', 'mingo', 'minha', 'miniaturequark', 'minimal', 'minimaxify', 'minimize', 'minimizes', 'minimizing', 'minister_prawdy', 'miniver', 'mink', 'minnow', 'minor', 'minority', 'minovi', 'minstrel', 'minute', 'miranda', 'mirror', 'mirrorquantic', 'misclassified', 'miserable', 'miserably', 'misery', 'misfitnici', 'mishandle', 'mishap', 'mishisww', 'mishvik1', 'misinfo', 'misinform', 'misinformation', 'miskanismary', 'mislabeling', 'mislead', 'mismanage', 'mismanagement', 'mismatch', 'misogyny', 'misplace', 'miss', 'missile', 'missinfo14', 'mission', 'missionblue', 'mississippi', 'mississippimg', 'missmaga2016', 'missouri', 'missouriaction', 'misstrade', 'missy8008135', 'missyleroy1', 'mistake', 'mister', 'misterdishmiami', 'misterresiste12', 'misti', 'mistressredwasp', 'mistrust', 'mistytienken', 'mit', 'mitam', 'mitarbeiter', 'mitch', 'mitchell', 'mitchellmccoy', 'mitchellvii', 'mitchfreeze', 'mitigate', 'mitigating', 'mix', 'mixed', 'mixture', 'mj', 'mj_innocent', 'mjbennett69', 'mjdowntheshore', 'mjfree', 'mjl1', 'mjoesq', 'mkalagian', 'mkkaonly', 'mkolken', 'mkraju', 'mktwwashington', 'ml', 'mlb', 'mlbcooljoe', 'mloopylucep', 'mls', 'mlucoji', 'mmfa', 'mmflint', 'mmitrucker4', 'mmmac88', 'mmn', 'mmnonmeanstv', 'mmpadellan', 'mn9_kels', 'mnhockeyguy7', 'mnsnowta', 'mo', 'mo_josports', 'moa', 'mob', 'mobile', 'mobility', 'mobilize', 'mobill', 'mock', 'mode', 'model', 'moderately', 'moderation', 'moderator', 'mofarmbureau', 'mogul', 'mois', 'moistcr1tikal', 'mojorabbit', 'mole', 'molecular', 'molly', 'mollyfrankiin', 'mollygalt', 'mollyjongfast', 'mollyploofkins', 'molson_hart', 'molten', 'mom', 'moment', 'momento', 'momentum', 'moms', 'mon', 'monadian001', 'monakabdi', 'monday', 'mondaymotivation', 'money', 'moneylaundering', 'moneyoutofpolitics', 'moneytraderblog', 'monger', 'monicafitz1', 'monies', 'moniker', 'monitor', 'monitoring', 'monobutyl', 'monomer', 'monopolize', 'monopoly', 'monotonous', 'monroetrombly', 'monsanto', 'monster', 'mont_jiang', 'montgomery', 'month', 'monthly', 'montreal', 'montyboa99', 'moodav47', 'moon', 'moonbreeze2', 'moonwat97093810', 'moore', 'moorman', 'moral', 'moralescmo', 'moran', 'morden', 'more_shower', 'moreperfectus', 'morgan', 'morganlbrennan', 'morgotharc', 'moriartydg', 'morigeaujanine', 'morning', 'morning_joe', 'morningbrew', 'morningjoe', 'morningjoegree1', 'morninglive', 'morningsmaria', 'morningstargaz3', 'moron', 'morph', 'morphix9', 'morrison42069', 'morrone', 'mort', 'mortal', 'mortify', 'morto', 'morts', 'mosen', 'mostfamousnixon', 'mostlypeacefull', 'mother', 'motherboard', 'motherf', 'motherjones', 'motif', 'motion', 'motive', 'motivos', 'motorcade', 'motorway', 'motto', 'mount', 'mouse', 'mouth', 'mov', 'movement', 'movie', 'mp', 'mph', 'mplsme', 'mplspat', 'mpukita', 'mr', 'mr_lincoln', 'mr_viper69', 'mr_w_smith', 'mrbeast', 'mrcrackin_', 'mrdanzak', 'mrddmia', 'mrdrewbles', 'mrdwindsorandme', 'mrgen0', 'mrhoneyote', 'mrhortywho', 'mrickwartz', 'mrjacklowe', 'mrjoncryer', 'mrna', 'mrpissant', 'mrrobzilla', 'mrsassy_pants', 'mrsdebda', 'mrsflorida2016', 'mrshhjones', 'mrslydiawi', 'mrsmeganeverly', 'mrsrdc1', 'mrstevensteele', 'mrteabagzzzz', 'mrtruth_199', 'mrwells2022', 'ms', 'ms_julialee', 'msadvocate2001', 'msavaarmstrong', 'mscanny51', 'mschlapp', 'msfreepress', 'mshellbuttercup', 'mskellymhayes', 'msm', 'msmariat', 'msn', 'msnbc', 'msnbc_rocks_', 'mstodaynews', 'msu', 'msvespa', 'mta', 'mtg', 'mtgreenee', 'mtntallpaul', 'mucho', 'mucus', 'mucusmucous', 'mud', 'muddle', 'mudslide', 'mudslinging', 'muellershewrote', 'mug', 'muga', 'muishiki_fun2', 'muito', 'muldenkipper', 'mull', 'mullenbe11', 'mullet', 'mullin', 'multi', 'multibillion', 'multicolored', 'multidistrict', 'multimillion', 'multimillionaire', 'multiple', 'mum', 'mundial', 'mundo', 'municipal', 'munition', 'murdaugh', 'murder', 'murderedhornet', 'murielbowser', 'murphy', 'murphytheass', 'murphythemoron', 'murphyyuiko', 'musashibonmot', 'mushroom', 'musk', 'mussolini', 'mustard', 'mustread', 'mutation', 'mute', 'muttleysdad', 'mval60857980', 'mvsforwi', 'mxm', 'mybuddysully', 'mychaelschnell', 'mychickendinner', 'myforumlink', 'myid', 'myidbiometrictrackers', 'mylordbebo', 'mymeltingpotfam', 'mynews13', 'myscannerbrain', 'mysterious', 'mystery', 'mystical', 'mysticalrose3_1', 'mysunshine1602', 'mythical', 'médica', 'mégantic', 'n2play', 'n7zzt', 'na', 'naacp', 'nab2justold', 'nacotweets', 'nad', 'nadineyousif_', 'nagging', 'nagy', 'nah', 'nail', 'name22412547', 'names', 'nanaoftrey', 'nancy31nsuh', 'nancycottle1', 'nancyda91542471', 'nancyskies', 'nano', 'naomilitvin', 'napa_patriot', 'narcissist', 'narrate', 'narrative', 'narrow', 'nash', 'nashishereforit', 'nasht1241', 'nashville', 'nashvilletea', 'nasleep', 'nasty', 'nat_yasv', 'natalie', 'natasha38585763', 'natcounterpunch', 'nateadams5k', 'natev_2016', 'nathan', 'nathen', 'nathen_velez', 'nation', 'national', 'nationalize', 'nationalized', 'nationalizetherailroads', 'nationally', 'nationalwedgeday', 'nationwide', 'natl', 'nato', 'natrone86', 'natsec', 'natural', 'natural_femme', 'naturally', 'nature', 'natureworldnews', 'naturogungdom', 'nausea', 'nauseum', 'navigate', 'navycapital', 'nay', 'naynay101', 'nazi', 'nazis', 'nbc', 'nbc24wnwo', 'nbc4i', 'nbcbayarea', 'nbcchicago', 'nbcnews', 'nbcnightlynews', 'nbcphiladelphia', 'nbcpolitics', 'nbcsnl', 'nberlat', 'nbreavington', 'nc', 'nckevns', 'ncpol', 'ncrailroad', 'nd', 'ne', 'ne1honest', 'near', 'nearby', 'nearly', 'neb', 'nebraska', 'necessarily', 'necessary', 'necessitate', 'necessity', 'neck', 'nedryun', 'nee', 'need', 'needlessly', 'neesietweets', 'negative', 'negatively', 'neglect', 'neglig', 'negligence', 'negligent', 'negotiate', 'negotiation', 'neguse', 'neighbor', 'neighborhood', 'neighboring', 'neil', 'neloangelo314', 'nelsonskeels', 'nemá', 'neoavatara', 'neocon', 'neoliberal', 'neolibtears', 'neounrealist', 'nepswirlredux', 'neptune', 'nerdery', 'nerdongaming', 'nerdypursuit', 'nerve', 'nervex_ogryn', 'nervous', 'net', 'netflix', 'netherlands', 'netvibes', 'network', 'neurological', 'nevada', 'nevakillbill', 'nevermagats', 'nevschannel', 'new', 'newblackman', 'newd_kne_gro', 'newer', 'neweracodeonly', 'newflash', 'newfmom29', 'newfound', 'newly', 'newmediacast', 'newport', 'newrepublic', 'news', 'news3lv', 'news4buffalo', 'news4jax', 'news5', 'news_ntd', 'news_pug', 'newsandinformation', 'newsandsentinel', 'newsbeakfeed', 'newsbecker', 'newsbreak', 'newsbreaklocal', 'newsbusters', 'newscaster', 'newschannelnine', 'newscomauhq', 'newsflash', 'newshour', 'newshourextra', 'newsinvesting', 'newsinvideos', 'newsinvids', 'newsinvidscom', 'newsjunkiebreak', 'newsjunky2', 'newsklw', 'newsletter', 'newsline', 'newsmax', 'newsnation', 'newsnationlive', 'newspaper', 'newspath', 'newspeak', 'newssportsinc', 'newsstories', 'newsupdate', 'newsvideos', 'newswatch', 'newsweek', 'newsworldpress', 'newsworthy', 'newtothestreet', 'newvamajority', 'newworldorder', 'newyork', 'nexstardc', 'nextnewsnetwork', 'nextpittsburgh', 'nexus', 'nf01', 'nfs', 'ngo', 'nhs', 'ni', 'niagara', 'niais', 'niallstanage', 'nic', 'nice', 'niceblackdude', 'nicely', 'nicher66', 'nichols', 'nick', 'nick04896213', 'nick4764', 'nickadamsinusa', 'nickdrom', 'nickellis77', 'nickieantonio', 'nickmmark', 'nickname', 'nicksortor', 'nickssantucci', 'nickyk1776', 'nicolefreed7', 'nicolledwallace', 'nicshodln', 'niega', 'night', 'nightly', 'nightmare', 'nightmarem', 'nih', 'nikki', 'nikki_miumiu', 'nikkihaley', 'nil', 'nilly', 'nils_gilman', 'nina', 'ninabellatrix1', 'ninaturner', 'ninja', 'ninja0179048354', 'nions', 'nitric', 'nitwit', 'nixxed', 'nj', 'nj_opinion', 'njbpuprez', 'njdotcom', 'njgavio', 'njsayshey', 'njsendems', 'nkellyin', 'nky', 'no1builder', 'noaa', 'noah', 'noble', 'nobottom', 'noc', 'nofpplus', 'nointegrity', 'noise', 'noliewithbtc', 'nomandatesco', 'nominee', 'nomorenorfolk', 'nomoreplastics', 'non', 'non_fudd', 'nonchalant', 'noncommittal', 'nonhazardous', 'nonsense', 'nonstop', 'noon', 'nope', 'noproof', 'nora_adeline', 'nord', 'nordstream', 'nordstream2', 'norf', 'norfo', 'norfok', 'norfol', 'norfolfsouthern', 'norfolk', 'norfolkcom', 'norfolksouthern', 'norfolksouthernderailment', 'norfolksoutherndisaster', 'norfolksouthernrailroadsafety', 'norfolksouthernrailway', 'norfolksoutherntrain', 'norm', 'normal', 'normalice0', 'normalization', 'normally', 'normative', 'nortfolksouthern', 'north', 'northcarolina', 'northeast', 'northeastern', 'northern', 'northfolk', 'northnorfolkrailway', 'northville', 'nose', 'nosebleed', 'noso', 'not_now_todd', 'not_the_bee', 'notablindtrust', 'notarole_model', 'notbilly', 'note', 'note0157h7', 'notebrooks', 'noted', 'notfitforoffice', 'nother', 'nothin', 'nothoodlum', 'notice', 'notification', 'notified', 'notify', 'notimpressed', 'notizie', 'notmypresident', 'notoagenda21', 'notorious', 'notoriously', 'notsurepotus', 'notterpockets', 'noturtlesoup17', 'nouveau', 'nov', 'novel', 'novelection2024', 'november', 'nowaday', 'nowbrowsing', 'nowego', 'nowhiteguiltnwg', 'nowpammsy', 'nowthisnews', 'noxious', 'noyer', 'npc_dale', 'npr', 'nprpolitics', 'nr', 'nrdc', 'nrsc', 'nrthms1', 'ns', 'nsachs1', 'nsb', 'nsc', 'nscorp', 'nstb', 'nswingatc', 'nt', 'ntd', 'ntdnews', 'ntsb', 'ntsb_newsroom', 'nuclear', 'nugget', 'nuisance', 'nuit', 'nuke', 'nuked', 'nuking', 'nuland', 'null', 'numb', 'number', 'numberonepal', 'numbnuts', 'numerous', 'nurdles', 'nurse', 'nut', 'nutrition', 'nvm', 'nvrail', 'nvyoung', 'nw', 'nwobuckeye', 'ny', 'ny_indivisible', 'nybc', 'nyc', 'nydailynews', 'nyetengale', 'nymag', 'nypmetro', 'nypost', 'nyse', 'nystateparks', 'nyt', 'nytdavidbrooks', 'nythealth', 'nytimes', 'nytopinion', 'nytpolitics', 'nytupelo7', 'não', 'oakwood', 'oan', 'oann', 'oanojpgahj', 'oath', 'obama', 'obamas', 'obfuscate', 'object', 'objectiveliber1', 'obligation', 'oblivion', 'obomba', 'observation', 'observe', 'obsess', 'obsession', 'obstacle', 'obstante', 'obtain', 'obtusely', 'obvious', 'obviously', 'obxiden', 'oc22', 'ocasio', 'occamsrazorcuts', 'occasionally', 'occumskeep', 'occupied', 'occupy', 'occupydemocrats', 'occur', 'occurred', 'occurrence', 'oceana', 'oceanographyy', 'ocsoco', 'october', 'od', 'odd', 'oddly', 'odds', 'oddswithgop', 'odgssv', 'odktiger', 'odnr', 'odor', 'odour', 'odysee', 'odyseeteam', 'oepa', 'offcolor', 'offcyndisc', 'offended', 'offer', 'offering', 'office', 'officer', 'officer_lew', 'official', 'official_4news', 'officially', 'officialzavior', 'offload', 'ogape12', 'ogkando', 'ogle', 'oh', 'ohchadwick', 'ohdeptofhealth', 'ohhh', 'ohhhhhhh', 'ohi', 'ohio', 'ohio_ema', 'ohioag', 'ohioan', 'ohioans', 'ohiobeforeukraine', 'ohiocapjournal', 'ohiochamber', 'ohiochemicaldisaster', 'ohiochemicalspill', 'ohiochernobyl', 'ohiocitizenact', 'ohiocoverup', 'ohioderailment', 'ohiodivwildlife', 'ohioens', 'ohioenviro', 'ohioepa', 'ohiofarmbureau', 'ohiogop', 'ohionewsdaily', 'ohiopress', 'ohioraildisaster', 'ohioriver', 'ohiosenatedems', 'ohiosierraclub', 'ohiostate', 'ohiostathletics', 'ohiotoxiccloud', 'ohiotrain', 'ohiotraincrash', 'ohiotrainderailment', 'ohiotraindisaster', 'ohiowns', 'ohpol', 'ohsaa', 'ohsen', 'oil', 'oilspill', 'oily', 'ok', 'okay', 'oklahoma', 'oklahomapatrio1', 'ol', 'old', 'oldglorycries', 'oldman308', 'oldmanlefty1', 'oldmanliver', 'oldword16', 'ole', 'oletimeyyore', 'oligarchs', 'olightworker', 'olivermoyes2', 'olsentrini', 'omaha', 'omar', 'omaralghabra', 'omfg', 'omg', 'omi_veve_nft', 'ominous', 'omission', 'omit', 'ompraka15856860', 'omunderdal', 'onbalance', 'onboard', 'onegeorgiapeach', 'oneladyonevote', 'oneradchee', 'onev1', 'onevisionary', 'onewater', 'oneway', 'ongoing', 'onion', 'online', 'onlyyeading', 'onpointradio', 'onpoli', 'onset', 'onsite', 'ont', 'ontario', 'onthemohawk', 'onward', 'oof', 'oogabooganana7', 'oohhh', 'oone', 'ooohh', 'ooooh', 'ooooooo', 'ooops', 'oops', 'oopsies', 'oost', 'op', 'ope', 'open', 'opener', 'opening', 'openly', 'opensociety', 'openworlds', 'opera', 'operate', 'operated', 'operation', 'operational', 'operator', 'operatorssign', 'opinion', 'opponent', 'opportunistic', 'opportunistically', 'opportunity', 'oppose', 'opposed', 'opposite', 'opposition', 'opps', 'oprah', 'ops', 'opscrotchfruit', 'opt', 'optic', 'optimal', 'optimism', 'optimum', 'option', 'opérateur', 'orange', 'orangeblobaloo', 'orangemanbad', 'orator', 'orchestrate', 'ord', 'order', 'ordered', 'ordinarily', 'ordinary', 'oregon_report', 'oregoncovid', 'organic', 'organisée', 'organization', 'organize', 'organize2win', 'organizer', 'orgs', 'orientale', 'origin', 'original', 'originally', 'originclear', 'origins', 'orleans', 'ormorrison', 'orthodixit', 'orwellian', 'osbourne', 'osha', 'osiris_neits', 'osujamieg', 'osullivanauthor', 'otan', 'other95', 'otrpilotcar', 'ots', 'ottawagestapo', 'ottoman', 'ou', 'ought', 'ounce', 'ourbluevoice', 'ourocean', 'ourrev305', 'outage', 'outcome', 'outcry', 'outdated', 'outdoorlife', 'outfit', 'outkick', 'outlawbparker', 'outlet', 'outlets', 'outline', 'outlook', 'outnumberedfnc', 'outrage', 'outrageous', 'outreach', 'outright', 'outside', 'outsidethebeltway', 'outskirt', 'outsource', 'outta', 'outweigh', 'oval', 'overall', 'overblown', 'overcome', 'overcompensate', 'overdose', 'overdrive', 'overdue', 'overflow', 'overground', 'overhaul', 'overheat', 'overheated', 'overheating', 'overit', 'overload', 'overlook', 'overlord', 'overnight', 'overplay', 'overrun', 'overseas', 'oversee', 'overseen', 'oversees', 'overshadow', 'oversight', 'oversightdem', 'oversightdems', 'overstuffed', 'overthrown', 'overturn', 'overturncitizensunited', 'overview', 'overwhelm', 'overwhelmingly', 'overwork', 'owe', 'owner', 'ownership', 'oxford', 'oxygen', 'oz', 'ozonemama74', 'ozwizard182', 'ozzie6067', 'ozzy', 'p86dragfgr', 'p_mcculloughmd', 'pa', 'pa16', 'pa17', 'paagriculture', 'pablorodriguez', 'pac', 'pacific', 'pacificcoastgal', 'pack', 'packaging', 'pacs', 'pad', 'padeep52754503', 'padempolicy', 'padfield', 'paen', 'pagal200', 'pagar', 'page', 'page_post', 'pahealthdept', 'pahousedems', 'pahumanservices', 'pain', 'paine', 'paint', 'pair', 'pal', 'palatine', 'palazzo214', 'pale', 'pale_tonyb', 'palenstine', 'palest', 'palesteen', 'palesti', 'palestin', 'palestina', 'palestine', 'palestineohio', 'palestinian', 'palestyny', 'palistine', 'pallet', 'palpable', 'pam_f_4', 'pamacious', 'pambowling7', 'pamelabrowncnn', 'pamelageller', 'pamelahensley22', 'pamelalauren', 'pamrotella', 'pamt817716', 'panam1957', 'pandemic', 'pandemictruther', 'pander', 'panel', 'panelheld', 'panhandle', 'panic', 'pannes', 'pant', 'pantry', 'pap', 'pape_valley', 'paper', 'papi_b_dubs', 'papijoe320', 'papitocanyon', 'par', 'para', 'paradise4amish', 'paraffin', 'paragraph', 'parallel', 'paralysis', 'paranoia', 'paranoid', 'pardon', 'parent', 'park', 'parkerthayer', 'parking', 'parkreturns', 'parkse', 'parliament', 'parras', 'parrot', 'parsel14', 'parthenon1', 'partially', 'participant', 'participate', 'participation', 'participatory', 'particle', 'particu', 'particular', 'particularly', 'particulate', 'partisan', 'partly', 'partner', 'partnership', 'party', 'partygate', 'parzr1', 'pas', 'pasen', 'pasky_68', 'pass', 'passage', 'passenger', 'passing', 'passionately', 'past', 'pastitsio123', 'pat10th', 'patch', 'patently', 'patgill69033215', 'path', 'pathetic', 'pathetically', 'patience', 'patient', 'patkiernan', 'patpetterson2', 'patrcksteve', 'patricia626262', 'patricia_millin', 'patrick', 'patrickalyons', 'patrickdmarley', 'patrickkeschl', 'patrickscalling', 'patricksmcmahon', 'patrickwestpalm', 'patriot', 'patriotbob1776', 'patriotic', 'patrioticgrams', 'patrioticmitten', 'patriotpartyunited', 'patriots', 'patriottakes', 'patronus1177', 'patsy', 'pattern', 'patti_lake', 'pattyoshelton', 'paul', 'paul_lander', 'paulahickshuds1', 'paulared62', 'paulfoxone', 'paulgom63759406', 'paulinaplazas', 'paulinefulham', 'paulkrugman', 'paulpaton2', 'paulpenthouse', 'paulsboro', 'paulstevesamuel', 'paultho47290238', 'paulvuch', 'pause', 'pawpanasiuk', 'pawpawdude', 'paws1981', 'pay', 'payalsampat', 'payday', 'payer', 'payment', 'payout', 'payouts', 'payroll', 'paywall', 'pb', 'pblest', 'pbpost', 'pbrownback', 'pbs', 'pcadfael', 'pcrossetti', 'pctwood_74', 'pd', 'pdaytonp2', 'pdf', 'pdg', 'pds', 'peace', 'peaceful', 'peacefully', 'peak', 'pearcealan1962', 'peasy', 'peckerwoodboy', 'peculiar', 'pedo', 'pedopeter', 'pedophile', 'pedro', 'pedrosanchez', 'pee', 'peep', 'peer', 'peerleegate', 'peimenipusha', 'peligrosos', 'pema', 'pemahq', 'pemex', 'pen', 'penalty', 'pending', 'pendragonmr', 'penetration', 'penggaos', 'peninsula', 'penn', 'penncapitalstar', 'pennlive', 'pennsy', 'pennsylva', 'pennsylvania', 'pennsylvaniadan', 'pennsylvaniadep', 'pennsylvanian', 'penny', 'penny_rietveld', 'pension', 'people', 'peopleoverprofits', 'peoplesforumnyc', 'peoplesworld', 'peor', 'pepe_precipice', 'pepesgrandma', 'percent', 'perception', 'peregrinepfp', 'perfect', 'perfectly', 'perform', 'performance', 'performative', 'perhapsfrogs', 'perimeternews', 'period', 'periwinklerose3', 'perjure', 'permanent', 'permanently', 'permit', 'perpetrate', 'perry', 'perry_pirates', 'persecute', 'perseverance', 'persist', 'persistent', 'person', 'personal', 'personally', 'personas', 'personnel', 'perspective', 'persuade', 'pertain', 'pertains', 'pervasive', 'perverted', 'pesky', 'pesticide', 'pet', 'pet_surft', 'peta', 'pete', 'petebuttigieg', 'petemode', 'peter', 'peterbakernyt', 'peterbropotkin', 'peterdclack', 'peterrabbit67', 'peterssonrick', 'petesouza', 'petey', 'petie', 'petition', 'petrochemical', 'petroleum', 'pettet50', 'petty', 'peu', 'pełnego', 'pfas', 'pfft', 'pfizer', 'pgantioch', 'pghnewspartners', 'pghweatherdude', 'ph', 'phaggitd', 'pharma', 'phase', 'phds2', 'phenomenal', 'phenomenon', 'phil_hoffman18', 'phil_lewis_', 'philadelphia', 'philharmonic___', 'philipmmarshall', 'philipreichert', 'philipwegmann', 'phillipandi', 'phillipmbailey', 'phillipsylvia2', 'philly', 'phillyinquirer', 'phillytrib', 'philnkids', 'philosophy', 'philosophy_lol', 'phmsa', 'phmsa_dot', 'phone', 'phortuenti', 'phosgene', 'photo', 'photograph', 'photography', 'photoop', 'phrase', 'phylliel', 'phyllislevin1', 'physical', 'physiological', 'pic', 'pick', 'pickup', 'pics_train', 'picture', 'piece', 'piedminu', 'piedmont', 'pierre', 'pierrepoilievre', 'pig', 'pike', 'pile', 'pileup', 'pilfer', 'pill', 'pillar', 'pilot', 'pimp_my_yugo', 'pimtoolnews', 'pin', 'pinch', 'pine', 'pineapp411', 'pineappletrevor', 'pinning', 'pinocchio', 'pint', 'pip', 'pipe', 'pipeline', 'piper4missouri', 'piratefish256', 'pisces', 'piss', 'pissed', 'pissedoffvet6', 'pit', 'pitch', 'pitfall', 'pitsr4me68', 'pitt', 'pittance', 'pittsburg', 'pittsburgh', 'pittsburghers', 'pittsburghpg', 'pitttweet', 'piyushmittal', 'pizza', 'pjmooney', 'placard', 'placarded', 'place', 'plague', 'plain', 'plaintiff', 'plan', 'plane', 'planet', 'planetdetroit', 'planetplush', 'planetwaves', 'plant', 'planter', 'plaslaiko', 'plastic', 'plasticpolllution', 'plasticpollution', 'plasticsbeyond', 'plasticstreaty', 'plate', 'platform', 'platitude', 'play', 'playbook', 'player', 'playerinthgame', 'playing', 'playmagic', 'plea', 'plead', 'pleads', 'pleaseshare', 'pledge', 'plenty', 'plight', 'plmuse', 'plot', 'ploy', 'plpercussionist', 'pls', 'plum', 'plumb', 'plume', 'plunderbund', 'plunge', 'plurality', 'plus', 'plusieurs', 'pluto', 'ply', 'plz', 'pm', 'pmiller4126', 'pneumatic', 'pneumonia', 'pnew0903', 'pnewman51', 'pnjaban', 'po', 'poandpo', 'pocie', 'pociąg', 'pocket', 'pod', 'podcast', 'podemos', 'poderconclaudia', 'podernfamily', 'podiatristdon', 'podium', 'podsaveamerica', 'podía', 'poem', 'poemtrees', 'poeticalcontext', 'poetwoagun', 'pogo', 'point', 'pointmanrt', 'poison', 'poisoning', 'poisonous', 'poitrine', 'pol', 'poland', 'polarisengineer', 'poli', 'police', 'police_frequ', 'policy', 'policymakers', 'policymaking', 'polish', 'politibunny', 'politic2day', 'political', 'political_qrm', 'politically', 'politician', 'politicization', 'politicize', 'politicized', 'politico', 'politicongress', 'politics', 'politicslive', 'politicstoday', 'politicussarah', 'politicususa', 'politifact', 'politiolyc', 'poll', 'pollutant', 'pollute', 'pollutedprops', 'polluter', 'pollutes', 'polluting', 'pollution', 'pollytix2023', 'polreader', 'polyacrylamide', 'polypropyl', 'polypropylene', 'polyvinyl', 'pompeo', 'pond', 'ponder', 'ponzistl', 'pool', 'poor', 'poorly', 'poorlyagedstuff', 'pop', 'pope_head', 'poppij', 'poppwigglewigg1', 'poppy_haze', 'popresistance', 'popularize', 'populate', 'populated', 'population', 'populism', 'populist', 'populous', 'popviewers', 'por', 'porch', 'port', 'portage', 'porter_anderson', 'portfolio', 'portion', 'portrait', 'portray', 'pos', 'pose', 'position', 'positive', 'posobiec', 'posse', 'possibility', 'possible', 'possibly', 'post', 'postcard', 'postlive', 'postpolitics', 'poststar', 'postthoserich', 'posture', 'pot', 'pote', 'potent', 'potential', 'potentially', 'pothole', 'potus', 'pound', 'pounding', 'pour', 'poverty', 'power', 'powerful', 'powhr_coalition', 'powodem', 'pox8n2sbwg', 'ppl', 'ppp', 'pr', 'pr0gressamerica', 'pra', 'practical', 'practice', 'practiced', 'pracuje', 'prageru', 'prairielive', 'praise', 'prattling', 'pray', 'prayer', 'prayforohio', 'prays_thelord', 'pre', 'precaution', 'precedent', 'precisely', 'precision', 'precursor', 'predicament', 'predict', 'predictability', 'predictable', 'predictive', 'predictiveprogramming', 'preemptive', 'prefect', 'prefer', 'preferred', 'preheat', 'prelim', 'preliminary', 'prem_thakker', 'premier', 'premiu', 'premium', 'prepare', 'preparedness', 'preparednessjoe', 'preparing', 'pres', 'presdient', 'preselectnews', 'presence', 'present', 'presentation', 'preside', 'presidency', 'president', 'presidential', 'presidenttrump', 'presidnttictac', 'press', 'presser', 'presssec', 'pressure', 'preteen', 'pretend', 'pretty', 'pretty_certain', 'prettywonderfu4', 'prevent', 'preventable', 'prevented', 'prevention', 'preventiva', 'prevents', 'preview', 'previous', 'previously', 'prewariii', 'prez', 'prezlives2022', 'pri', 'priapusiq', 'price', 'pride', 'pridgewessea', 'priests', 'primarily', 'primary', 'prime', 'prime_ise', 'prior', 'priorities', 'prioritize', 'priority', 'prismreports', 'prison', 'privacy', 'private', 'privately', 'privatize', 'prix', 'prize', 'pro', 'probablemente', 'probably', 'probe', 'problem', 'problematic', 'procanadian5', 'procedure', 'procedures', 'proceed', 'process', 'processing', 'produce', 'producer', 'product', 'production', 'produits', 'prof', 'profession', 'professional', 'professor', 'proff_proff', 'profile', 'profit', 'profitability', 'profiteering', 'profwolff', 'progeny', 'proglocommons', 'program', 'programme', 'programming', 'progress', 'progressive', 'progressivepush', 'progressivesdr', 'progressohio', 'prohibit', 'prohibitive', 'project', 'projection', 'projectlincoln', 'proletariat', 'prominent', 'promise', 'promised', 'promo', 'promote', 'promoter', 'prompt', 'prompted', 'prompting', 'pronoun', 'pronounce', 'pronto', 'pronunciation', 'proof', 'prop', 'propaganda', 'propagate', 'proper', 'properly', 'property', 'prophetic', 'proponent', 'proportion', 'proposal', 'propose', 'propublica', 'propylene', 'prosecute', 'prosecutor', 'prosecutorial', 'prospect', 'prostitute', 'protect', 'protection', 'protective', 'protectiveinstincts', 'protest', 'protestor', 'protocol', 'protocols', 'proud', 'proudblue', 'proudelephantus', 'proudidealist', 'proundpapaof3', 'prove', 'proven', 'provide', 'provider', 'provision', 'provoquée', 'prowrestling', 'proximity', 'proxy', 'proxywar', 'prpatriotus', 'prpblem', 'prudent', 'pruitt', 'przeczytaj', 'przypadek', 'préoccupations', 'présentaient', 'prévoient', 'ps5s', 'psa', 'psc', 'pseawabear', 'pslf', 'psoe', 'psr', 'psrpennsylvania', 'psst', 'pswal807', 'psychopathic', 'psyop', 'psyzon3d', 'pt', 'ptrumpfortx2020', 'pub', 'public', 'public_citizen', 'publication', 'publichealth', 'publicity', 'publicly', 'publicsafety', 'publique', 'publish', 'publishes', 'publishing', 'publius__enigma', 'publiusbellicus', 'publié', 'pudding', 'pudditatlevi', 'puddle', 'puddyspopupshop', 'puerto', 'puff', 'puffer', 'puffy', 'puhhlease', 'puisque', 'pulie2011', 'pulitzer', 'pull', 'pulled', 'pulmonologist', 'pulte', 'pummel', 'pump', 'pun', 'pundit', 'punditry', 'pungent', 'punishedjkkc', 'punishment', 'punishmenthurts', 'puppeteer', 'purdue', 'purduece', 'pure', 'purely', 'puretheredblood', 'purifier', 'purpose', 'purposeful', 'purposefully', 'purposely', 'purrfection2015', 'pursue', 'purveyor', 'purview', 'push', 'pushback', 'puskar', 'putin', 'putinisawarcriminal', 'putz', 'pvc', 'pvv5jj2mxv', 'pyd6umypip', 'pyle', 'pyromamiac', 'q17', 'q4', 'qjo3admnfc', 'qn', 'qo6cpexlvq', 'qowtft8n1s', 'qs', 'qt4usatrump', 'quaferu', 'qualification', 'qualified', 'qualifier', 'qualifies', 'qualify', 'quality', 'quality_nguyen', 'quantifiable', 'quantity', 'quantumsback', 'quarter', 'quarterly', 'que', 'quebec', 'queen', 'queenb_wiov', 'quelques', 'quen231', 'question', 'questioned', 'questioneverything', 'quick', 'quickly', 'quicktake', 'quid', 'quiet', 'quietasicanbe', 'quietly', 'quinn', 'quip', 'quit', 'quite', 'quiz', 'quo', 'quote', 'quote4that', 'quyalify', 'qué', 'québec', 'qwertz42069', 'r1ch_ch4nce', 'rabbit', 'rabbitmongoose', 'rabbittgirl', 'race', 'rachel', 'rachel71806692', 'rachelacenas', 'rachelcarsondc', 'rachele39193616', 'racial', 'racialize', 'racialized', 'racism', 'racist', 'rack', 'racketeer', 'radar', 'radarresist', 'radiation', 'radical', 'radicalcntrsts', 'radicalize', 'radio', 'radioblackon', 'radius', 'raelintao', 'rafevatta', 'rag', 'rahhjinbuu', 'rail', 'railcar', 'railcars', 'railfanmag', 'railment', 'railnewstoday', 'railphotoart', 'railr', 'railroad', 'railroader', 'railroading', 'railroads', 'railroadworkers', 'railsafety', 'railway', 'railways', 'railwaysafetynow', 'railworkers', 'rain', 'rainbow', 'rainforest', 'raise', 'raisecorporatetaxes', 'raiser', 'raison', 'rake', 'raleighfam', 'rally', 'ralpha2017', 'ramhog1950', 'ramification', 'ramongovea', 'ramonster74', 'ran', 'rancher', 'rand_taylor2', 'randalluhrig', 'random', 'randos', 'randpaul', 'randrenn', 'randy', 'randyfeenstra', 'range', 'ranger', 'ranking', 'rant', 'rantonstupidity', 'rao', 'rape', 'rapid', 'rapidly', 'rapporte', 'rapports', 'rare', 'rarely', 'rascal', 'rash', 'rashes', 'rasmussen', 'rasmussen_poll', 'rat', 'rate', 'ratemysalad', 'rating', 'ratio', 'rationale', 'rationalize', 'ratner', 'ratomanche', 'rattle', 'ravage', 'ravenna', 'ravilious', 'ravingcoeliac', 'ravivisvesvarayasharadaprasad', 'ravmabay', 'raw', 'rawsalerts', 'rawstory', 'ray', 'ray_jerink', 'rayjpolitics1', 'raymondmollica', 'raymondmyr', 'raymondzino', 'raynengrace', 'raytheon', 'razkolni', 'rboss45', 'rbreich', 'rdv4017', 'reach', 'react', 'reaction', 'reactor', 'reacts', 'read', 'reading', 'readingeagle', 'ready', 'readyalerts', 'reagan', 'reaganrunners', 'reaganworld', 'reaisolidarity', 'real', 'real___itamara', 'real_anthefacts', 'realamvoice', 'realanilreddy', 'realannapaulina', 'realbarabbas', 'realbasedmaga', 'realbradstaggs', 'realcinders2', 'realclairemayo', 'realconniebevan', 'realdailywire', 'realdamndean', 'realdanlyman', 'realdennislynch', 'realdoctort', 'realdoctortb', 'realdonaldtrump', 'realfkd1974', 'realgeorgewebb1', 'realgregboulden', 'realguancha', 'realhalseye', 'realistreport', 'reality', 'realize', 'realjediman', 'realjoebonanno', 'realleader', 'reallizusa', 'really', 'reallyamerican1', 'realmattcouch', 'realmeetjames', 'realmikelauber', 'realmonsanto', 'realmwb77', 'realnatebutler', 'realoumagagirl', 'realpappi61', 'realpersonpltcs', 'realrogerwilc0', 'realronphillips', 'realsaltyslim', 'realsirignano', 'realsoiidarity', 'realstewpeters', 'realtcpl', 'realtime', 'realtkan', 'realtor', 'realtrump2020_', 'realtuckfrumper', 'realwayneroot', 'reap', 'rear', 'reason', 'reasonable', 'reasonably', 'reasonuntil', 'reassurance', 'reassure', 'rebabella2019', 'rebecca_altman', 'rebeccaarainey', 'rebeccahefner', 'rebeccajburns_', 'rebeccashabad', 'rebekahentralgo', 'rebel', 'rebel4kics', 'rebellegrrl', 'rebelnews_usa', 'rebelnewsonline', 'rebound', 'rebsbrannon', 'rebuff', 'rebuild', 'recall', 'recap', 'recco', 'receipt', 'receive', 'receiving', 'recent', 'recently', 'reception', 'recipe', 'recite', 'reckless', 'recklessly', 'reckon', 'reckonnews', 'reclaim', 'reco', 'recognition', 'recognize', 'recommend', 'recommendation', 'reconnectsreiki', 'reconsidering', 'record', 'recorded', 'recordpub', 'recount', 'recover', 'recovers', 'recovery', 'recrimination', 'rectangle', 'recur', 'recycle', 'red', 'redactedgirl', 'redcross', 'redcrossukraine', 'reddit', 'redeye', 'redheadedpat', 'redlights4ff', 'redneck', 'redpill3333', 'redpilllaredo', 'redress', 'redrock556', 'redstate', 'redstate66', 'redstatejimy', 'redsteeze', 'reduce', 'reduced', 'redvoicemedia', 'redvoicenews', 'redwardprice719', 'redwave2024', 'redwoodgirl', 'reece', 'reed', 'reedgalen', 'reedreports', 'reeeeeallie7', 'reek', 'reel', 'reenact', 'reeort', 'reestablish', 'refcsp', 'refer', 'reference', 'referral', 'refers', 'refinery', 'reflect', 'reflection', 'reform', 'reframe', 'refurb', 'refusal', 'refuse', 'refusing', 'refute', 'regain', 'regan', 'reganrj', 'regard', 'regardless', 'regime', 'regina', 'reginaj40120348', 'reginaldalawso1', 'region', 'regional', 'register', 'regluations', 'regret', 'regs', 'regular', 'regularity', 'regularly', 'regulat', 'regulate', 'regulation', 'regulationsmatter', 'regulator', 'regulatory', 'regvickers', 'reich', 'reid', 'reidfrazier', 'reignite', 'reimburse', 'reimplement', 'rein', 'reinforce', 'reinstate', 'reintroduce', 'reiterate', 'reiterates', 'reject', 'rejection', 'relate', 'related', 'relation', 'relationship', 'relationships', 'relatively', 'relax', 'relaxer', 'relay', 'release', 'relevant', 'reliability', 'reliable', 'reliance', 'relief', 'relieve', 'relocate', 'relocation', 'relucrant', 'reluctant', 'reluctantly', 'rely', 'remain', 'remains', 'remark', 'remasculate', 'remawriter', 'remediate', 'remediation', 'remedy', 'remember', 'remind', 'reminder', 'reminds', 'reminisce', 'reminiscent', 'remiss', 'remnant', 'remotely', 'removal', 'remove', 'removed', 'remover', 'remylebruh', 'renae131', 'rename', 'renaycharlotte', 'render', 'reneeazpatriot4', 'reneepatriot', 'renegade', 'reneupshaw1', 'renew', 'renewable', 'renewed', 'rent', 'reopen', 'rep', 'repadamschiff', 'repair', 'repandybarr', 'repandybiggsaz', 'repaoc', 'repbeccab', 'repbethvanduyne', 'repbilljohnson', 'repboebert', 'repbrianfitz', 'repbrianhiggins', 'repbridesweeney', 'repdeluzio', 'repdonaldspress', 'repeal', 'repealed', 'repeat', 'repeated', 'repeatedly', 'repemiliasykes', 'repent', 'repercussion', 'repgosar', 'repjamescomer', 'repjasonsmith', 'repjayapal', 'repjeffries', 'repjimbanks', 'repjohnson1', 'repkatieporter', 'replace', 'replacement', 'replaces', 'reploudermilk', 'reply', 'repmattgaetz', 'repmikecarey', 'repmikecollins', 'repmtg', 'repnancymace', 'report', 'reportable', 'reportedly', 'reporter', 'reportergarriss', 'reportertopher', 'reporting', 'reppfluger', 'repraskin', 'represent', 'representative', 'reprickallen', 'reprobate', 'reproductive', 'reprokhanna', 'reprussellfry', 'repscottperry', 'repshontelbrown', 'repsmucker', 'repstefanik', 'repsummerlee', 'repsusanwild', 'repswalwell', 'repthomasmassie', 'reptroynehls', 'republi', 'republic', 'republican', 'republicanags', 'republicancoryr', 'republicanrehab', 'republicans', 'republicanshateamerica', 'republicanslie', 'republicn', 'republicservice', 'republikkkans', 'republish', 'repubs', 'repulsive', 'repurchase', 'reputation', 'repweinstein', 'request', 'require', 'required', 'requirement', 'requiring', 'rescind', 'rescinded', 'rescinding', 'rescue', 'research', 'researched', 'researcher', 'resemble', 'resentment', 'reserve', 'reservoir', 'reshadhudson', 'reside', 'residence', 'resident', 'residential', 'residentshttps', 'residual', 'residue', 'resign', 'resignation', 'resilient', 'resist', 'resistance', 'resistanceearth', 'resistanceunited', 'resistenzanow', 'reslst45', 'resolution', 'resolve', 'resonate', 'resource', 'respect', 'respectable', 'respectful', 'respectfully', 'respibsable', 'respinsable', 'respirateurs', 'respirator', 'respiratory', 'respon', 'respond', 'responded', 'responder', 'responds', 'responsable', 'responsables', 'response', 'responsibility', 'responsible', 'responsive', 'responsiveness', 'rest', 'restarts', 'restore', 'restoring', 'restrict', 'restriction', 'result', 'resultant', 'resume', 'retail', 'retain', 'retaliation', 'rethuglicans', 'rethugs', 'retire', 'retirement', 'retornofeliz', 'retourne', 'retract', 'retribution', 'retroactive', 'return', 'retweet', 'retweeted', 'retweeting', 'reuploadfrominstagram', 'reuters', 'reveal', 'reveals', 'revelation', 'revelator_news', 'revenue', 'reverberate', 'reverse', 'reversed', 'review', 'revisionist', 'revisit', 'revitalize', 'revive', 'revned144', 'revoke', 'revolve', 'revolvingdoordc', 'reward', 'reynolds', 'rezindianfdl', 'rgarbacik', 'rhetorically', 'rhinohelix', 'rhinos', 'rhodes', 'rholftroy', 'rhonda_harbison', 'ribaltabile', 'rice_rust_belt', 'rich', 'rich06041419', 'richard_katz', 'richardgrenell', 'richardwalpole_', 'richer_andrew', 'richjsal', 'richmchugh', 'richscully5', 'richsementa', 'rick', 'rickall37804297', 'rickcpettry', 'rickitick43', 'ricksmithshow', 'rickstelter', 'ricky779399901', 'rickydoggin', 'rico', 'ricochet', 'rid', 'riddle', 'ride', 'ridicule', 'ridiculous', 'rift', 'rig', 'rig2009', 'rigel2020', 'rigged', 'rigggedsys', 'riggs', 'right', 'righterthanrigh', 'rightfully', 'rikardrene', 'rileymoorewv', 'ring', 'rino', 'rinos', 'rioherring', 'riot', 'rip', 'rise', 'risk', 'risks', 'risky', 'ritua1l', 'ritual', 'riv39525750', 'river', 'rivertamydn', 'rivervalleyorg', 'rjcdac', 'rjmaximus_2', 'rjmccoon', 'rjn12484', 'rk0nvsqw3f', 'rlfelty', 'rm', 'rmille10', 'rmojomojito1', 'rmundell', 'rmurreytv', 'rn', 'rnaudbertrand', 'rnc', 'rncresearch', 'ro', 'roachdale', 'road', 'road_closed1984', 'roadbed', 'roadblock', 'roadway', 'roaming', 'roanoke', 'roar', 'rob', 'rob4684', 'rob67148165', 'robber', 'robby', 'robbysoave', 'robbystarbuck', 'robcarson', 'robert', 'robert_rev13', 'robertd38259050', 'robertfranek', 'roberth56356296', 'robertkennedyjr', 'robertskvarla', 'robertson', 'robertwatson777', 'robes', 'robferg96563317', 'robfinnertyusa', 'robinhoodjr24', 'roblabonne', 'robmoorepayless', 'robotino627', 'robreiner', 'robust', 'robwoods7645', 'robynl01', 'rock', 'rockbridgecounty', 'rockchalk85alum', 'rockefellerinst', 'rocket', 'rocky', 'rocky81461369', 'rockymountviews', 'rockymtnview', 'rode', 'roden', 'rodeo', 'rodgers', 'rodneyevans', 'rodriguezlarry', 'roe', 'rogan', 'rogerli53799411', 'rogermarshallmd', 'rogue', 'roguecitizenone', 'rohit', 'rokhanna', 'rokmoto131', 'roktgurl', 'rolandkausen', 'role', 'roll', 'rollback', 'rollcall', 'roller', 'rollercoaster', 'rome', 'romenewstribune', 'romulus', 'romulus7078', 'ron', 'ron4california', 'ron7350', 'ronallennbc', 'rondaglarson', 'ronfancy', 'ronfilipkowski', 'ronin09stglide', 'ronjohnsonwi', 'ronna', 'ronny', 'ronnyjacksontx', 'ronplacone', 'ronreedwlvslvfr', 'ronwaxman', 'roof', 'room', 'rooster', 'root', 'rosaowe90749350', 'roscoejames', 'rosegar17673310', 'rosekellywhite', 'rosemar95234384', 'rosie', 'rosieodonnell', 'rosję', 'ross_macfarlane', 'rosscarusotv', 'rossgrooters', 'rosyjsko', 'rothbard1776', 'rotten', 'rough', 'roughly', 'round', 'roundup', 'rourke', 'route', 'routinely', 'row', 'rowdygirlinmt', 'roy', 'royalintel_', 'roylovesamerica', 'royqhobbs', 'roywoodjr', 'rozpada', 'rp_in_action', 'rpkreport', 'rpsagainsttrump', 'rpts', 'rr', 'rrap', 'rrpre', 'rs', 'rsbnetwork', 'rschooley', 'rskellner', 'rsnoeljr', 'rsoe', 'rsph', 'rsvp', 'rt', 'rterriers', 'rtitbot', 'rtovertime', 'rts', 'ru', 'ru5bot', 'rubber', 'rubbish', 'rubble', 'rubio', 'ruby', 'rudeness', 'rudy', 'rudygiuliani', 'rudygobert27', 'rug', 'ruin', 'rule', 'ruling', 'ruliquid', 'rulli', 'rumble', 'rumblevideo', 'rumor', 'rump', 'run', 'runaway', 'runner', 'runoff', 'runtime', 'ruptlynews', 'rur', 'rural', 'rush', 'rushhour', 'rushr65', 'rushvilerocket', 'rusia', 'russell', 'russellsieg', 'russia', 'russiainvadedukraine', 'russian', 'russianasset', 'russias', 'russwil97532934', 'rustycohl', 'rustye83', 'rustyrockets', 'rustyweiss74', 'ruthiedaughter', 'ruthlessworld2', 'rvp', 'rwc', 'rwcent', 'rwnjs', 'ryan', 'ryanbretonwx', 'ryandbusse', 'ryandeto', 'ryankakiuchan', 'ryankbauer4', 'ryanmarino', 'ryanyoungnews', 'rycunni', 'rylanjames8', 'rysfisk', 'ryshampton', 'rysnsu', 'réseau', 'résidence', 'révèlent', 'sa', 'saagar', 'sabatoge', 'sabcnews', 'saber', 'sabmc', 'sabotage', 'saboteurs', 'sack', 'sacramento', 'sacrebleu141', 'sacrifice', 'sad', 'sadden', 'saddle', 'sadist', 'sadly', 'safe', 'safeguard', 'safeh2o4schools', 'safely', 'safemoonhedge', 'safer', 'safet', 'safety', 'safetyculture', 'safetypropagan1', 'safetyregulations', 'safetyviolations', 'safricaphotog', 'saga', 'sagcast452', 'sahana', 'saidthegadfly', 'sail', 'saint', 'saint_sean', 'saintmatamoros', 'saiyanpineapple', 'sale', 'salem', 'salem4congress', 'salemjakes', 'salemnewsoh', 'salivate', 'sally_tanner', 'sallybmccarty', 'salon', 'saltandslowburn', 'saltinesnack', 'salty', 'saltykid41', 'saltynugz', 'saltytanker2', 'saludar1', 'salvadacchino1', 'sam', 'sam_fukin_nella', 'samanthabartosz', 'samcrowley', 'samfrob5', 'sammy20241', 'sammybytes', 'sample', 'sampling', 'samstwitch_sam', 'samuel', 'samueloakford', 'samuelt1492', 'samvbee', 'sanctimony', 'sanction', 'sandabluedeux', 'sander', 'sandra26865205', 'sandrajayne12', 'sandratwang', 'sandrayozipovic', 'sandstone', 'sandstormist', 'sandusky', 'sanduskyregistr', 'sandytl2', 'sanitation', 'sanitize', 'sanmateogirl11', 'santos', 'santos4congress', 'saracarterdc', 'saraeisen', 'saraflocks', 'sarafrommi', 'saragerre', 'sarah', 'sarah77929529', 'sarah_g_barker', 'sarahgeving1', 'sarahlazare', 'sarahstankorb', 'saras76', 'sarasidnercnn', 'sarcasmstardust', 'sargent', 'sarifel1', 'sars', 'saschasegan', 'sassafrass_84', 'sat', 'satanic', 'satellite', 'satisfactory', 'satisfied', 'satisfy', 'saturday', 'saul14ken', 'saunpedro', 'sav_says_', 'savanah', 'save', 'saveamerica', 'saving', 'savvy', 'saw', 'say', 'sayitnspinit', 'sayntedanon', 'sbb', 'sbethlenfalvay', 'sbv', 'sc', 'scada', 'scale', 'scam', 'scandal', 'scapelliti', 'scar', 'scarborough', 'scarce', 'scare', 'scary', 'scattered', 'scenario', 'scene', 'schachin', 'schadenfreude', 'schaussl', 'schccalifornia', 'schedule', 'schettler', 'schianta', 'schiff', 'schnelltim', 'schocking', 'scholar', 'scholarship', 'scholz', 'school', 'schumankimm', 'schumann', 'schumer', 'sci', 'science', 'scienceguy', 'sciencysoupy', 'scientific', 'scientist', 'scihoss', 'scoop', 'scooter_downey', 'scorch', 'score', 'scorn', 'scott', 'scott_4trump', 'scottadamssays', 'scottalanennis', 'scottatlas_it', 'scottaustin336', 'scottcotter10', 'scottforflorida', 'scottfreeforme', 'scottjenningsky', 'scottpresler', 'scottstriviaaits', 'scottth16775833', 'scottwa91433575', 'scottwalker', 'scottwongdc', 'scotus', 'scramble', 'scrap', 'scrappy94546226', 'scream', 'screen', 'screening', 'screenshot', 'screw', 'scripps', 'scrippsnews', 'script', 'scroll', 'scrub', 'scrutinise', 'scrutinize', 'scrutiny', 'scumbag', 'scummy', 'sd', 'sdemerson66', 'sdgrumbine', 'sdonaldsonjr', 'sdonziger', 'sdshark', 'se', 'se2ud78wrn', 'sea', 'seancasten', 'seanhannity', 'seanhecking', 'seaotter369', 'search', 'season', 'seat', 'seatowntexan', 'seattle_writer', 'seattletimes', 'seatwarmer', 'seawhale18', 'seb_lach', 'sebastian', 'sebastianranie1', 'sebgorka', 'sec', 'secbecerra', 'secblinken', 'secessionist', 'secmayorkas', 'second', 'secondamendment', 'secondly', 'secret', 'secret_p00', 'secretary', 'secretarypete', 'secretarypeye', 'secretly', 'secti0n31', 'section', 'sector', 'secure', 'security', 'secyellen', 'sediment', 'seditioncaucus', 'seek', 'seemingly', 'seep', 'seesawrrr', 'segei', 'segment', 'segmentation', 'seguramente', 'seize', 'seized', 'seldeednow', 'seldengadawgs', 'select', 'selene406', 'self', 'sell', 'selling', 'sellout', 'selma', 'sen', 'sen_joemanchin', 'senate', 'senatedems', 'senategop', 'senatenj', 'senator', 'senatorbrownstain', 'senatorcantwell', 'senatorcarper', 'senatordurbin', 'senatorhassan', 'senatormuth', 'senatorwicker', 'senbobcasey', 'sencapito', 'senclairecelsi', 'send', 'sending', 'senduckworth', 'seneca', 'senfettermanpa', 'sengillibrand', 'senhawleypress', 'senile', 'senior', 'senjackreed', 'senjohnbarrasso', 'senjohnkennedy', 'senlisaboscola', 'senmarcorubio', 'senmarkey', 'senmarkkelly', 'senmastriano', 'senrickscott', 'senronjohnson', 'sens', 'sensanders', 'sensation', 'senschumer', 'sense', 'sensei415', 'sensherrodbrown', 'sensible', 'sensitive', 'sensitivity', 'sensor', 'senstor', 'sent', 'sentate', 'sentedcruz', 'sentence', 'sentimens', 'sentiment', 'senvancepress', 'senwarren', 'senwhitehouse', 'separate', 'septembersrain', 'sequester', 'serf', 'sergeantjake', 'serial', 'series', 'seriously', 'seriousness', 'serous', 'serve', 'service', 'sería', 'sesmith', 'session', 'set', 'sethmoulton', 'setiokaibadl', 'settle', 'settlement', 'seulement', 'seven', 'sever', 'severe', 'severely', 'severity', 'sewage', 'sewer', 'sex', 'sexuality', 'sexy', 'sfgate', 'sfof_states', 'sgf9kifini', 'sggomg', 'sh', 'shabadu_joey', 'shade', 'shadow', 'shadow_avatar', 'shadowalterer', 'shady', 'shaggy', 'shake', 'shall', 'shallow', 'shamanartist', 'shame', 'shameful', 'shamelessly', 'shamwowsupernva', 'shanna_hanna_', 'shannonbream', 'shannonjoyradi0', 'shanshan8466', 'shape', 'shapiro', 'share', 'shared', 'shareholder', 'sharemylesson', 'shari_criswell', 'sharon_ringel', 'sharonkgilbert', 'sharp', 'sharply', 'shatter', 'shaw', 'shawn', 'shawn_farash', 'shawnmpatterson', 'shawnquinn83', 'shawnreynolds_', 'shawnwitzemann', 'shdwstar', 'shea', 'sheathe', 'shed', 'sheen', 'sheena0620', 'sheens', 'sheep', 'sheers', 'sheet', 'sheila_yarnell', 'sheisartmoney', 'sheiton_kenzi', 'sheldonays', 'shelf', 'shell', 'shelley', 'shelleywilde1', 'shelly', 'shellykc2105', 'shellyrkirchoff', 'shelter', 'sheriff', 'sheringham', 'sherrirose711', 'sherrod', 'sherrodbrown', 'sheryl0_c', 'sheth', 'shi', 'shield', 'shift', 'shift_in2_turbo', 'shifts', 'shill', 'shin', 'shine', 'shintech', 'ship', 'shipment', 'shipper', 'shipping', 'shit', 'shld', 'shldmaidn01', 'shmisinformation', 'shock', 'shocked', 'shocking', 'shoe', 'shoepox', 'shoesonplease', 'shogun', 'shontel', 'shoot', 'shooting', 'shore', 'short', 'shortage', 'shortcuts', 'shorten', 'shortly', 'shortness', 'shortnews', 'shorty56167141', 'shoshido', 'shot', 'shotsbyrod', 'shoud', 'shoul', 'shouldnt', 'shout', 'shove', 'shovlr', 'shower', 'shrapnel', 'shred', 'shrekvivre', 'shreveporttimes', 'shrink', 'shroud', 'shrug', 'shtf', 'shuster', 'shut', 'shutitdowncuse', 'shuts', 'shuttle', 'shuttletvnews', 'shwbusiness', 'shy', 'shytt', 'si', 'sibersong', 'sick', 'sicken', 'sickens', 'sickness', 'sicko', 'sideline', 'sidestepped', 'sidewalk', 'sie', 'siegel', 'sierra', 'sierraclub', 'sierraclubohio', 'sift', 'sigh', 'sight', 'sighting', 'sign', 'signal', 'signalcorp13', 'signature', 'significant', 'significantly', 'signing', 'signorpallina', 'sil', 'silcaggiano', 'silence', 'silent', 'silicon', 'silicone', 'silly', 'silver_1_spirit', 'silver_strike', 'silverado', 'silverforest155', 'silverfoxx514', 'similar', 'similarly', 'simmer', 'simon', 'simon_schama', 'simonateba', 'simonshaykhet', 'simple', 'simplement', 'simpleton', 'simpletruthnd', 'simply', 'simply_savage85', 'simulation', 'simultaneous', 'simultaneously', 'sincerely', 'sinclairedon', 'single', 'singlepayer', 'sinister', 'sinizt3r1', 'sink', 'sinnaig', 'sinon', 'sinus', 'sir', 'siratyst', 'sire', 'sirenamel', 'sirota', 'sissy', 'sissyroxx', 'sister', 'sisterslead', 'sistertoldjah', 'sit', 'sitdown', 'site', 'site_alpha', 'situate', 'situation', 'sivak', 'sivavaid', 'size', 'się', 'siły', 'skandertammy', 'skate', 'skeeter', 'skeptical', 'skepticism', 'skew', 'skiball3148', 'skillfully', 'skim', 'skin', 'skip', 'skirchy', 'skmorefield', 'skull', 'sky', 'skyjellyfetti', 'skyking661', 'skyrocket', 'slam', 'slams', 'slap', 'slash', 'slat', 'slate', 'slave', 'slavery', 'slay', 'slay_news_', 'sleep', 'sleepercells', 'sleeprcandidate', 'sleepy', 'sleeve', 'sleeze', 'slenarz', 'slew', 'slide', 'slight', 'slightly', 'slim90866101', 'slime', 'slimy', 'slinkescouse', 'slip', 'slipperybobb', 'slitt', 'sliver5631', 'slog', 'slogan', 'slope', 'sloppily', 'slosalty1', 'slow', 'slowly', 'sludge', 'sluggish', 'slulay2', 'small', 'small_town_dude', 'smallbusiness', 'smallest', 'smart', 'smarter', 'smartmoney', 'smartnews', 'smartunionworks', 'smash', 'smdh', 'smear', 'smeary', 'smell', 'smelling', 'smellycat2sunny', 'smfh', 'smh', 'smile', 'smite', 'smith', 'smithtvnews', 'smog', 'smoke', 'smokemoreweed66', 'smolgob', 'smoosieq', 'smuggle', 'smugly', 'sn', 'snafu', 'snake', 'snap1448', 'snapchatrabbit', 'snd', 'sneak', 'sniffyfoot', 'snippet', 'snitstwits', 'snl', 'snojusticecuz', 'snojusticedad', 'snoopdoug44', 'snoopsmom123', 'snow', 'snoweliora', 'snowstorm', 'snub', 'snuff', 'snvaex0hpr', 'snydergm', 'soar', 'soave', 'sobre', 'socaltelevision', 'socalvalleygal', 'social', 'socialism', 'socialist', 'socialist90s', 'socialistalt', 'socialize', 'socially', 'socialmedia', 'society', 'sociojen', 'société', 'sodium', 'sodom', 'soil', 'soir', 'sole', 'solely', 'solfolk', 'solicitation', 'solid', 'soliddude92', 'solomonsucceeds', 'solution', 'solve', 'some0ne', 'someb1tchiknow', 'somebadideas', 'somebody', 'somekindawonder', 'somethin', 'somewhat', 'son', 'song', 'songdogmi', 'sont', 'soo', 'soon', 'sooner', 'sooooo', 'sooooooo', 'soopajx', 'soopermexican', 'soot', 'soozin54', 'sop', 'sophiakianni', 'sophiewodzak', 'sophisticated', 'sorbo', 'sordid', 'sore', 'sorenstam', 'soros', 'sorry', 'sort', 'sosword', 'sot', 'sothern', 'sou', 'sou_railman', 'souhern', 'soul', 'soulless', 'soulnature9', 'soulshaker007', 'sound', 'soup', 'source', 'sourcedamerican', 'sout', 'south', 'southbound', 'southcarolina', 'southeast', 'souther', 'southern', 'southernは', 'southren', 'southside', 'southwen', 'southwest', 'southwestern', 'sovereign', 'soviet', 'soxfan311', 'soybean', 'soyouliedagain', 'sp', 'sp500', 'space', 'spaceforcedod', 'spacekarenelonm', 'spacetrain', 'spade', 'spaethon', 'span', 'span3', 'spar', 'spare', 'spark', 'sparks', 'sparksn123', 'sparkybru', 'spartajustice', 'spartan914', 'speak', 'speakercoughlin', 'speakermccarthy', 'speakerpelosi', 'speakfreedom66', 'speaking', 'speaks', 'spearmint', 'specia', 'special', 'specialist', 'specialize', 'specialized', 'specie', 'specific', 'specifically', 'specify', 'specimen', 'specnews1albany', 'spectacular', 'spectacularly', 'spectrum', 'spectrumnews1oh', 'spectrumnewsdc', 'speculation', 'speech', 'speeches', 'speed', 'speedyboarder', 'speknmymind', 'spell', 'spend', 'spending', 'spends', 'spent', 'sperm', 'spew', 'spewed', 'spews', 'sphere', 'spielmaker', 'spike', 'spill', 'spillage', 'spin', 'spirit', 'spiritofprivac1', 'spiritsside8101', 'spite', 'splain', 'splashy', 'splendora', 'split', 'spoke', 'spoken', 'spokesman', 'spokesperson', 'spokeswoman', 'sponsor', 'spontaneously', 'spoof', 'sport', 'sportpolitics42', 'spot', 'spotlight', 'spout', 'spox', 'spr', 'spr34231', 'sprang', 'sprawną', 'spread', 'spreading', 'spree', 'sprin', 'sprinfield', 'spring', 'springermaine1', 'springf', 'springfi', 'springfield', 'springfieldnews', 'springfieldohio', 'springfieldtownship', 'sprout', 'sprtskye', 'spruce_gum', 'sprzyslp', 'spun', 'spur', 'sputhern', 'sputnik', 'sputzeed', 'spy', 'spysun04', 'sq', 'sqrcse3rkj', 'square', 'squarely', 'squash', 'squat', 'squeaky', 'squillmama', 'squirreltribe', 'srae78', 'srchish', 'srobhartkopf', 'sruhle', 'srurocket', 'ssdance', 'ssharmaus', 'sstorck', 'ssuttell', 'st', 'stack', 'staff', 'staffed', 'staffer', 'staffing', 'stafford', 'stag', 'stage', 'stagger', 'stake', 'stale', 'stalincruz', 'stance', 'stand', 'standard', 'standpoint', 'stanford', 'stapelsusan', 'star', 'stark', 'starricky12', 'starrynwt', 'starsandstripes', 'starseed_2020', 'starshi10977911', 'start', 'started', 'starter', 'startle', 'startribune', 'starttheclock', 'starwanderer6', 'stat', 'state', 'stated', 'statement', 'staten', 'statenews', 'statewide', 'stathies', 'static', 'station', 'stationcdrkelly', 'statnews', 'stats', 'status', 'statuscoup', 'statute', 'stave', 'stay', 'stayconnected', 'staywoke', 'stdojo', 'steadily', 'steal', 'stealthgirl21', 'steam', 'steamtug7', 'steel', 'steen', 'steep', 'steer', 'stefani', 'stefanik', 'stegi16948327', 'stellaescotv', 'stem', 'stench', 'stenographer', 'step', 'stepford', 'stephanie', 'stephanieseneff', 'stephen', 'stephen15551497', 'stephenasmith', 'stephengoin', 'stephengroves', 'stephenhorsman7', 'stephenm', 'stephhoover8', 'stephieloves31', 'stephpmba', 'sterben', 'steroid', 'steroids', 'steubenville', 'steve', 'steve_kosareff', 'stevebenen', 'stevebothe', 'stevedaines', 'steveestrada11', 'stevegrubershow', 'steveluttner', 'steven', 'stevescalise', 'stevewebb1976', 'stevewfmj', 'stevewil94', 'stew', 'stewart', 'stfn', 'stfu', 'stick', 'sticker', 'stierven', 'still_ultra', 'stillgray', 'stink', 'stir', 'stirke', 'stock', 'stockbuybacks', 'stockholder', 'stockmarket', 'stockmarketcrash', 'stockmarketreport', 'stockmarkettips', 'stockmktnewz', 'stockpile', 'stockpornx', 'stoke', 'stomach', 'stomp02763058', 'stone', 'stonertrans', 'stonewall', 'stonewalled', 'stonyfield', 'stood', 'stooge', 'stool', 'stoopidity', 'stop', 'stopping', 'stopshere', 'stopthehate2200', 'stopthemagas', 'stoptheshamble', 'storage', 'store', 'storm', 'storm4congress', 'story', 'str4y4nk4ng4roo', 'straight', 'strain', 'strait', 'strand', 'strange', 'strangely', 'stranger', 'stranglehold', 'strap', 'strategy', 'stratus_c5_elite', 'straw', 'stream', 'streaming', 'streams', 'street', 'streetsboro', 'strength', 'strengthen', 'stress', 'stretch', 'stricken', 'strict', 'stricter', 'strictscrutiny_', 'strike', 'strikepac', 'striking', 'string', 'stringent', 'strip', 'stroll', 'strong', 'stronger', 'strongly', 'struck', 'structural', 'structure', 'struggle', 'strum', 'stu02duncan', 'stuart', 'stuartmeissner', 'stubborn', 'stuck', 'stucknation', 'student', 'studio_michaud', 'studiolittle_t', 'study', 'stuff', 'stumble', 'stump', 'stumpsurgeon', 'stun', 'stunt', 'stuntman', 'stupid', 'stupidity', 'stupidly', 'sturdferguson', 'style', 'styx666official', 'su', 'suave118', 'sub', 'subcommittee', 'subcontract', 'subcontractor', 'subject', 'submit', 'submits', 'subpoena', 'subrata30016572', 'subscribe', 'subscription', 'subsequent', 'subsequently', 'subsidy', 'substance', 'substantial', 'substantive', 'substation', 'substitute', 'subtle', 'suburb', 'success', 'successful', 'successfully', 'suck', 'suddenly', 'sue', 'sueinphilly', 'sueromulus', 'suffer', 'suffering', 'suffers', 'suffolk', 'sugar1420', 'suggest', 'suggests', 'suicide', 'suit', 'suite', 'sulfur', 'sully', 'sulphur', 'sum', 'summ116', 'summarizing', 'summary', 'summer', 'summerswave', 'summit', 'summon', 'sun', 'sunday', 'sundayfocus', 'sundaytoday', 'sunnihostin', 'sunny', 'sunnythefarmer1', 'sunraysunray', 'sunrisemvmtpgh', 'sunset', 'sunshine', 'sup3rb3ingus3r', 'sup3rk', 'supayalaya', 'super', 'superbowl', 'supercharge', 'superficial', 'superfund', 'superfundsite', 'superheroes', 'supersede', 'supervise', 'supervisera', 'supervision', 'supervisor', 'supply', 'support', 'supporter', 'supportindependentmedia', 'supporting', 'supportive', 'suppose', 'supposedly', 'suppressed', 'suppression', 'supremacist', 'supremacy', 'supreme', 'supremecourt', 'sur', 'surabees', 'surasia_', 'sure', 'surefooted', 'surely', 'surface', 'surfelvistx', 'surgeon', 'surprise', 'surprised', 'surprising', 'surround', 'surveil', 'surveillance', 'survey', 'survient', 'survive', 'sus', 'susanbordson', 'susanengel14', 'susanm52825212', 'suscoont', 'susiemagooziee', 'susieq2457', 'suspect', 'suspend', 'suspension', 'suspicious', 'suspiciously', 'sustainable', 'sutin', 'suttondunnavant', 'suzgrecruiter', 'suzyd68', 'svb', 'svbbank', 'svbcollapse', 'svdate', 'sw', 'swag', 'swaite111', 'swallow', 'swallwell', 'swamp', 'swanee55d', 'swanky', 'swap', 'swear', 'sweeney', 'sweep', 'sweet', 'sweet_t2021', 'sweetcarolinatv', 'sweetiewalker', 'sweetpeafan', 'swhyno', 'swier', 'swim', 'swissch33z', 'switch', 'switched', 'swizzlesticks', 'swoop', 'sxm', 'sxmprogress', 'sydneydawessns', 'sydreflux', 'syghlentnomore', 'sykescharlie', 'symbolic', 'sympathizer', 'symptom', 'symptoms', 'symptômes', 'syncrony', 'syndicate', 'syntax2600', 'synyster63', 'syracuseunews', 'syria', 'syrian', 'systemic', 'systemically', 'systemschange', 'tab', 'taberisagrunt', 'table', 'tabloid', 'tackettwendi', 'tackle', 'tackled', 'taco', 'tactic', 'tadcooper20', 'tag', 'tailgate', 'tain', 'taint', 'taiwan', 'takata', 'takeaway', 'takeover', 'takethegoldpill', 'taks', 'tale', 'talented', 'talk', 'talkingpoints', 'talklew', 'talktv', 'tallntran', 'tam', 'tami1501', 'tamiami335', 'tamieuscongress', 'tamlynjjoy', 'tammiecroft71', 'tammy', 'tammy_sager', 'tampafreepress', 'tamper', 'tamtym', 'tamu', 'tandem', 'tangle', 'tanglenews', 'tangogolfsierr1', 'tank', 'tanker', 'tanthonypotter', 'tap', 'tape', 'tapper', 'tarallucci_vino', 'tarantulaes', 'tard', 'target', 'tarraaaango', 'tasman', 'tasosperte', 'taste', 'tastic', 'tastymorsel6', 'tatecurtis', 'tax', 'taxable', 'taxed', 'taxpayer', 'taylor', 'taylorbizzle', 'taylorfor20th', 'taylorpopielarz', 'tayo', 'tbd', 'tbh', 'tbluvoter', 'tbor24', 'tbrandall33', 'tbt', 'tcdms99', 'tceq', 'tcunderdahl', 'tcxo71kx49', 'tdokester', 'tds', 'tea', 'teach', 'teacher', 'teagan1776', 'team', 'teambernie27001', 'teammate', 'teamtrump', 'tear', 'tease', 'teaterjohn', 'tech', 'tech5960', 'techn', 'technews', 'technical', 'technically', 'technician', 'technicians', 'technology', 'technologynews', 'techpriest', 'techwoods52', 'ted', 'tedcruz', 'teddmanii', 'teddy', 'tedinator01', 'tedious', 'teenager', 'teeth', 'tehachapi', 'tehudi', 'telegram', 'telegraph', 'telemedicine', 'telepathically', 'telesurenglish', 'television', 'tell', 'tellement', 'telling', 'temp', 'temper', 'temperature', 'temporarily', 'temporary', 'tend', 'tendenciasahora', 'tends', 'tenho', 'tenlaughter', 'tennessee', 'tennis', 'tense', 'tension', 'tentatively', 'tentoads4truth', 'tenure', 'teoanon17', 'tepid', 'teqxasgal', 'teresaccarter2', 'teriedelson', 'term', 'terminally', 'terrible', 'terribly', 'terrier', 'terrified', 'terrify', 'terrifying', 'territory', 'terror', 'terrorattacks', 'terrorism', 'terrorist', 'terry', 'terrycr71807035', 'terrymoran', 'terse', 'tesla', 'tesseracting_', 'test', 'testifi', 'testified', 'testifies', 'testify', 'testimony', 'testing', 'texagchick', 'texansgal', 'texas', 'texas3talon', 'texasartchick', 'texasdem2', 'texaselection', 'texaslindsay_', 'texaspolitics', 'texfischer', 'texfontaholic', 'texpat1307', 'text', 'textile', 'teyllan', 'tf', 'tfg', 'tforthelma', 'tft', 'tg22110', 'tgavta', 'tgowdysc', 'th', 'th55202331', 'tha', 'thaat', 'thank', 'thankarailroader', 'thankful', 'thankfully', 'thankfulturtle', 'thanks', 'thankyoujournalistsforthenewswegetfromyou', 'that1dude247', 'thatcheersguy', 'thatconservativ', 'thatdangphil', 'thatfelladanny', 'thatlazysumbish', 'thats', 'the_real_deepee', 'the_real_sand', 'the_red_yota', 'the_trump_train', 'theactionnet', 'theamberadams', 'theanabraga', 'theanoncomm', 'theartificer4', 'theater', 'theatlantic', 'thebeatnews', 'thebias_news', 'thebidenshitshow', 'thebigginslarry', 'theblackfemini3', 'theblaze', 'theboltupright', 'thebonepile', 'theburkeshow', 'thebwstimes', 'theccshowcast', 'thechadwickpaul', 'thechangfucius', 'thechiefnerd', 'theclassixjawn', 'thecorpmex', 'thecure', 'thecygnetnyc', 'thedagwood13', 'thedailybeast', 'thedailyrabbit', 'thedailyshow', 'thedarthlurker', 'thedefender', 'thedemocrats', 'thee', 'theethistle', 'theferocity', 'thefilkil', 'thefitzburgh', 'thefive', 'theflstandard', 'theghostofddp', 'thegreatamericashow', 'thegreatreset', 'thegreengarret', 'thehiddenpod', 'thehill', 'thehounddog71', 'thehoustonwade', 'theinsiderpaper', 'theintercept', 'thejackcochran', 'thejake1776', 'thejed1', 'thejlouderback', 'thejoezaza', 'thejuanwilliams', 'thejude99', 'thejusticedept', 'thekevindalton', 'thekingofjerky', 'thelastpinkcar', 'thelastrefuge2', 'theleadcnn', 'thelegallowdown', 'theleoterrell', 'thelexiciccone', 'thelmavrh', 'thelokrailfan', 'thelook4utoday', 'thematic', 'themckenziest', 'theme', 'themodalice', 'themorrancave', 'thenation', 'thenaturalblaze', 'theoc2ps', 'theohiostar', 'theoldpoet', 'theoldreader', 'theology', 'theomniliberal', 'theonion', 'theorist', 'theorists', 'theorize', 'theorizing', 'theory', 'theoxygenproj', 'theplaindealer', 'thepoliticpress', 'thepolitizpress', 'thepostmillennial', 'theprogequalist', 'theprospect', 'thepugnews', 'thepupnews', 'thequartering', 'theradicalprole', 'theragingsaxon', 'theraginpatriot', 'therealanswers2', 'therealgsns', 'therealharmonie', 'thereallybigba3', 'therealnews', 'therecount', 'thereidout', 'therenedavis', 'theres', 'theresabluest', 'thereseosulliv2', 'theresident', 'therickwilson', 'thermal', 'theronanon', 'theshadowstate1', 'thesis', 'thesizzlereport', 'thesky973dotcom', 'thesocprogram', 'thesonofstan666', 'thespybrief', 'thestevegrubershow', 'thethe1776', 'theticker', 'thetinavasquez', 'thetnholler', 'thetribesman22', 'theupriser1', 'theusasingers', 'theview', 'thevotersguide', 'theweek', 'theyoungturks', 'thezanetta', 'thhs', 'thi', 'thievery', 'thievesinschools', 'thing', 'think', 'thinkin', 'thinking', 'thinktwicemore', 'thinly', 'thirty', 'thisa', 'thisismarietta', 'thisonecansee', 'thisweekabc', 'thisweekinconspiracy', 'thlslskyier', 'tho', 'thom_hartmann', 'thomas', 'thomasmanson420', 'thomass4217', 'thomassuddes', 'thomaswrzalins2', 'thompson', 'thompsoncarolk', 'thomson', 'thordeplorable', 'thorough', 'thoroughly', 'thou', 'thought', 'thousand', 'thr', 'threa', 'thread', 'threat', 'threaten', 'threatens', 'threshold', 'thrill', 'throat', 'throats', 'throw', 'thrown', 'thrust', 'thug', 'thumb', 'thumperjoey68', 'thunberg', 'thurs', 'thursday', 'thursdaythoughts', 'thursdayvibes', 'thwart', 'thx', 'thy', 'ticalthinker', 'ticker', 'tickertick', 'ticket', 'tidbit', 'tidytops', 'tie', 'tiempos', 'tier', 'tiere', 'tieroneposter', 'tierra', 'tight', 'tighten', 'tigris', 'tik', 'tiktok', 'tiktoker', 'til', 'tilghmanchris', 'till', 'tim', 'timcast', 'time', 'timeline', 'timely', 'timer', 'timestamps', 'timhannan', 'timid', 'timing', 'timmarchman', 'timmins316', 'timodc', 'timomalum', 'timothytobias2', 'timperone', 'timrunshismouth', 'timwhatley22', 'tina', 'tinadesireeberg', 'tinfoil1701', 'tinfoilhats', 'tinfoilted1', 'tingle', 'tingsmencup', 'tinkeringhalo2', 'tiny', 'tip', 'tip_ct', 'tippecanoe', 'tipped', 'tiramisudreams', 'tire', 'tirelessly', 'titanic', 'titaniccaptn', 'title', 'tiwannarn42', 'tjdogmanr2', 'tjnugent520', 'tleholt', 'tlongpine', 'tlow', 'tmcs10', 'tmitch613', 'tmsnbb', 'tmwkenglewood', 'tmz', 'tmzlive', 'tn', 'tnelson460', 'tnnnewsnetwork', 'tntradiolive', 'toa', 'toadyism', 'toast', 'tobacco', 'toberlaurent', 'toblam', 'today', 'today_explained', 'todayshow', 'todd', 'toddabailey', 'toddbohannon', 'toddm2017', 'toddpiro', 'todo', 'todos', 'tojamesconnor', 'tok', 'tokenofthemonth', 'tokyosimping', 'told', 'toledeaux', 'toledo', 'tolerate', 'toll', 'tom', 'tomashaggerty', 'tombent', 'tomc_tweeting', 'tomcostellonbc', 'tomdoubting', 'tomfitton', 'tomhammerofgod', 'tomilahren', 'tomisapatriot', 'tommyinpa', 'tommypigott', 'tomorrawdotcom', 'tomorrow', 'tomselliott', 'tomspace12', 'tomston93521872', 'tomthunkitsmind', 'tomwsyx6', 'ton', 'ton_hbc', 'tone', 'tonetone1263', 'toni76482280', 'tonight', 'toniw67', 'tonne', 'tonyfradelich', 'tonyhussein4', 'tonyiannitelli', 'too_much_online', 'tookthegoldpill', 'tool', 'toolittletoolate', 'toomuchtuuuna', 'toon', 'tooth', 'top_cat59', 'top_disaster', 'topglobalpro', 'topherjk', 'topic', 'topper', 'topple', 'topstories', 'tor_lan', 'torch', 'tore', 'toresays', 'toriglass', 'toriyorgeytv', 'torn', 'tornado', 'torrential', 'torrhl', 'tort', 'torxie', 'torycolumbus', 'toscaausten', 'toss', 'tosyneno', 'total', 'totalitarian', 'totally', 'touch', 'tough', 'toughtalkty', 'tour', 'tourism', 'tournament', 'tous', 'tout', 'towarowy', 'towel', 'town', 'townhall', 'townhallcom', 'towns', 'township', 'townspeople', 'toxic', 'toxicchemicals', 'toxiccloud', 'toxicfrieght', 'toxicgas', 'toxicity', 'toxicologist', 'toxicology', 'toxicplastic', 'toxics', 'toxictrain', 'toxictraindisaster', 'toxictrains', 'toxicwaste', 'toxilogical', 'toxin', 'toxins', 'toxique', 'toxiques', 'toy', 'toys', 'toysandgames13', 'toytownz', 'tpblue4', 'tpostmillennial', 'tppatriots', 'tpusa', 'tr', 'tra', 'trac', 'trace', 'tracegallagher', 'track', 'trackable', 'trackage', 'tracker', 'trackinflation', 'tracks', 'tracy_username', 'trade', 'tradeintercept1', 'trader', 'trading', 'tradingmarket', 'traditional', 'traecrowder', 'traffic', 'tragedia', 'tragedy', 'tragic', 'trai', 'trail', 'trailer', 'train', 'trainaccident', 'trainbrake', 'traincrash', 'trainderailed', 'trainderailment', 'trainderailments', 'traindisaster', 'trained', 'trainfire', 'training', 'trainman80i', 'trainscapes', 'trainsmagazine', 'trainwreck', 'trainwrecks', 'trait', 'traitor', 'traitortrump', 'tranmariefrance', 'trans', 'transcript', 'transfer', 'transient', 'transit', 'transition', 'translateslowly', 'translation', 'transmission', 'transp', 'transparency', 'transparent', 'transparently', 'transpatory', 'transpire', 'transpo', 'transpor', 'transport', 'transportation', 'transportationsecretary', 'transported', 'transporting', 'transtv_corp', 'trap', 'trash', 'trash_meme_boi', 'trashy', 'trauma', 'travel', 'traveldestination', 'traveltips', 'traveltuesday', 'travisallen02', 'tray97194941', 'treasonous', 'treasontrump', 'treasure', 'treasury', 'treat', 'treated', 'treathunterdog', 'treatment', 'treaty', 'tree', 'treinontsporing', 'trek', 'trem', 'tremendous', 'tremly', 'tren', 'trend', 'trending', 'trendingnews', 'trendingnewstoday', 'trendingnow', 'trendings911', 'trendy', 'treno', 'trent', 'trentconaway', 'trespass', 'trespasserz', 'trhlofficial', 'trial', 'triangle', 'tribal', 'triblive', 'tribune', 'trick', 'trickle', 'tried', 'trigger', 'trillion', 'trinaqureshi', 'trip', 'tripe', 'triple', 'trishacecilia', 'trishinpa2', 'tristan', 'tristanmcclone', 'tristansnell', 'tritium', 'triumph', 'trivial', 'troll', 'trollfootball', 'tropchock', 'trosky', 'trouble', 'troubling', 'trsmiami', 'truck', 'truckloads', 'trudeau', 'true', 'truecrime', 'truecrimecommunity', 'truecrimeupdat', 'truefactsstated', 'truejmitchell', 'truenorth5000', 'truly', 'trump', 'trump2024', 'trump666', 'trump_lost_lol_', 'trumpbelongsinprison', 'trumpcrimefamily', 'trumpcult', 'trumphttps', 'trumphypocrisy', 'trumpin_texan', 'trumpisalaughingstock', 'trumps', 'trumpster', 'trumptrain', 'trumptrainwreck', 'trumptrounced1', 'trumpwarroom', 'trumpwon', 'trumpy', 'trunembak', 'truns', 'truss', 'trust', 'trustingmyvibes', 'truth', 'truth4forever', 'truthful', 'truthma08903007', 'truthout', 'truthpage1', 'truthseeker', 'truthseekerrose', 'truthstreamnews', 'truthwsuf', 'try', 'tryst', 'trật', 'tsukuru_agender', 'ttdaflcio', 'ttsgpod', 'tube', 'tubes', 'tucker', 'tuckercarlson', 'tuckercarlsonisarussianasset', 'tucson', 'tuesday', 'tufftiffresists', 'tulsateresa', 'tulsi', 'tulsigabbard', 'tummysticks13', 'tune', 'tunnel', 'turbine', 'turbokitty', 'turdytr333', 'turk', 'turkey', 'turley', 'turn', 'turner', 'turning', 'turnout', 'tuscon', 'tuwpodcast', 'tv', 'tvc15ma', 'tvsteve', 'tvunetworks', 'tw', 'twc', 'twc_health', 'tweet', 'tweet100', 'tweetingjohnny', 'tweetmalena', 'tweetymctwat', 'twice', 'twistedladynj', 'twitbzed', 'twitchyteam', 'twitter', 'twitteralternative', 'twitterceo', 'twitterfiction', 'twitterfiles', 'twitterheads', 'twittersupport', 'twopartyhell', 'twopersoncrews', 'twosides1truth', 'twowheelsrlife', 'twtfrontpage', 'tx', 'tx_vet1', 'txstillwatching', 'txwomenresist', 'tycoon', 'tylerjoelb', 'tylermonroe7', 'tylko', 'tymetwx', 'type', 'typical', 'typically', 'typo', 'typo_cat', 'tyre', 'tytlive', 'tàu', 'tóxico', 'u4qpgleyui', 'uab', 'uaps', 'ubiquitous', 'ucciso', 'ucrania', 'ucsusa', 'udencatherine', 'udnspeak4me', 'ue', 'ufa', 'ufo', 'ufos', 'ufotwitter', 'ugly', 'ugnews24', 'uh', 'uhhhhh', 'uinta', 'uk', 'ukr', 'ukraine', 'ukrainerussianwar', 'ukrainerussiawar', 'ukrainian', 'ultimate', 'ultimately', 'ultramaga', 'ultrapop_', 'um', 'ummmmm', 'umweltverschmutzung', 'unabated', 'unable', 'unacceptable', 'unacceptably', 'unaffected', 'unanimously', 'unannounced', 'unanswered', 'unavoidable', 'unaware', 'unbelievable', 'unbossed', 'uncanny', 'uncertain', 'uncertainty', 'uncle', 'unclear', 'uncompensated', 'unconscious', 'uncontrolled', 'unconvinced', 'uncounted', 'uncover', 'uncovered', 'undeniable', 'undercarriage', 'undercompensated', 'undergo', 'undergradwoman', 'underground', 'underhanded', 'underinvestment', 'underlie', 'underline', 'undermanned', 'undermine', 'undermined', 'underneath', 'underpass', 'underplay', 'underreported', 'underscore', 'undersecstatep', 'understaffed', 'understaffing', 'understand', 'understandable', 'understandably', 'understanding', 'understands', 'understatement', 'understood', 'underway', 'undetermined', 'undid', 'undo', 'undoing', 'undone', 'undoubtedly', 'une', 'uneasy', 'uneducated', 'unelected', 'unequivocal', 'unequivocally', 'uneven', 'unexplained', 'unfair', 'unfairly', 'unfathomable', 'unfit', 'unfold', 'unfolding', 'unfolds', 'unfollow', 'unfortunate', 'unfortunately', 'unfreakingbelievable', 'unfuck', 'ungathegreat', 'ungoverend', 'ungovernablechi', 'unhealthytruth', 'unhinged', 'unicorn', 'unidentified', 'unidos', 'unified', 'uniformity', 'uniformrabbit', 'unifying', 'unilaterally', 'unintelligent', 'union', 'unionize', 'unionpacific', 'unions', 'unionstrong', 'unique', 'unis', 'unit', 'unite', 'united', 'united_states', 'unitedstates', 'uniting', 'universe', 'university', 'unkelkennie', 'unknown', 'unleash', 'unleashed', 'unless', 'unlike', 'unlikely', 'unlivable', 'unload', 'unnecessary', 'unp', 'unpander', 'unpanderers', 'unplanned', 'unprecedented', 'unpredictable', 'unprepared', 'unqualified', 'unravels', 'unreal', 'unrealtap', 'unrelated', 'unreservedly', 'unsafe', 'unsold', 'unsourced', 'unspecified', 'unstable', 'unsure', 'unsurprising', 'untold', 'untrue', 'unuon', 'unusual', 'unusual_whales', 'unusually', 'unveil', 'unveils', 'unwarranted', 'unwillingness', 'upcoming', 'update', 'updated', 'updates', 'upend', 'upended', 'upgrade', 'upgrades', 'upgrading', 'upheaval', 'upi', 'upkeep', 'upload', 'uploads', 'upper', 'uprise_greg', 'uproar', 'uproot', 'ups', 'upschittscreek1', 'upset', 'upsetting', 'upside', 'upstatefederlst', 'upstream', 'uptick', 'upwardnewshq', 'upwards', 'ur', 'ur_ninja', 'urbanist', 'urcommunistdad', 'urge', 'urged', 'urgence', 'urgency', 'urgent', 'urges', 'uri_pharmacy', 'url', 'urlawschool', 'urziel99', 'usa', 'usa_anne711', 'usaclimate', 'usafirsttrump', 'usaherald', 'usajaun', 'usanews', 'usapat4djt', 'usapat4dt', 'usar', 'usatoday', 'usatodaydc', 'usburning', 'usclimatecontrol', 'uscongress', 'usdot', 'usdotfra', 'use', 'used', 'useful', 'usefulidiotpod', 'useless', 'usepa', 'user', 'usg', 'usgao', 'usnews', 'usnewstoday', 'uso', 'uspoli', 'uspolitics', 'usual', 'usually', 'uswellness', 'utah', 'utc', 'uterine', 'uterus', 'utility', 'utilize', 'utm_campaign', 'utm_content', 'utm_medium', 'utm_source', 'utmost', 'utter', 'uttered', 'utterly', 'uu', 'uvmhealth', 'uwaga', 'v1n7z', 'v4mpirec4t__', 'v_hawtmess1', 'v_helium', 'va', 'vaato5455', 'vabvox', 'vaca', 'vacant', 'vacation', 'vaccine', 'vacuum', 'vaep', 'vague', 'valariy020580', 'valdemings', 'valentine', 'valeriecs159', 'valiantnewslive', 'valid', 'valley', 'valuable', 'value', 'valve', 'vampyanji', 'van', 'vance', 'vandergrift', 'vanessa', 'vanguard', 'vanguard_group', 'vanity', 'vanityfair', 'vannyfour', 'vansadventures', 'vantassel', 'vapor', 'varga_3', 'variety', 'various', 'varneyco', 'vast', 'vastbluesea10', 'vastly', 'vax', 'vaxes', 'vaxx', 'vbnmw', 'vc', 'vdare', 'vee_sawce', 'vegan', 'vegastarr', 'vegetable', 'vegetation', 'vehicle', 'veil', 'velez', 'velopky', 'venezuela', 'vent', 'veracruz', 'verdantsquare', 'verdict', 'verifiably', 'verify', 'verifythis', 'vermaut', 'vermin', 'veroconplatanos', 'veron', 'veronika91654', 'vers', 'verse', 'version', 'versus', 'veryvirology', 'vessel', 'vest', 'vestment', 'vet', 'veteran', 'veteranstoday', 'veto', 'vetsunitedmarch', 'vibecheckpod', 'vice', 'vicinity', 'vickery', 'vickie627', 'victim', 'victimize', 'victoriaamwood', 'victoriraew', 'victornelson', 'victorshi2020', 'video', 'videos', 'vidéosurveillance', 'view', 'viewer', 'viewership', 'viewpoint', 'vigilant', 'vigilantfox', 'vile', 'vilify', 'village', 'villager', 'villain', 'vincecoglianese', 'vincedaomedia', 'vincentcrypt46', 'vinci', 'vingt', 'vingtaine', 'vinilo', 'vinoveritas1984', 'vinyl', 'vinylchloride', 'violate', 'violation', 'violence', 'violent', 'viral', 'virginia', 'virginiahealth', 'virginiahealthcare', 'virology', 'virtual', 'virtually', 'virtue', 'virtueemoji', 'visibility', 'visibly', 'visionsurreal', 'visit', 'visitbritain', 'visited', 'visiting', 'visitor', 'vist', 'visual', 'visualization', 'vital', 'vitally', 'vitusspehar', 'vivekgramaswamy', 'vivificguy', 'vixenvalentino', 'vkneib', 'vlaku', 'vmkerne1', 'vo', 'voa60', 'voa60news', 'vocal', 'vogel', 'voice', 'void', 'voinovichschool', 'volatile', 'volkswagen', 'volodymyr', 'volume', 'voluntarily', 'voluntary', 'volunteermg', 'vomit', 'von', 'voodoo_pork', 'vote', 'vote4annmarie', 'voteapl', 'votebergen', 'voteblue', 'voted', 'votelizkeating', 'voter', 'votevets', 'voting', 'voucher', 'vow', 'voxdotcom', 'vp', 'vpp2021', 'vrbalaltrcation', 'vs', 'vt', 'vttbqw9s3xjpoow', 'vues', 'vulnerable', 'vwfkbjabvw', 'vêtements', 'w0ng_again', 'w1_aaron', 'w_terrence', 'wa', 'wackiejalsh', 'waddya', 'wade', 'wage', 'wager', 'wagon', 'wagonerachel', 'waist', 'wait', 'waited', 'waiter', 'waitingonbiden', 'waive', 'waiver', 'wajahatali', 'wake', 'wakeupamerica', 'wakeupeastpalestine', 'wakeupnj', 'waldorickwilson', 'wali', 'walk', 'walker', 'wall', 'wall2wall', 'wallace', 'walleyeguy44', 'wallstreetsilv', 'walsham', 'walshfreedom', 'walterblake1', 'wand', 'wander', 'wanderinglord', 'wane', 'wang_seaver', 'wangotango406', 'wanna', 'wannabe', 'want', 'wanton', 'wapo', 'war', 'warcriminalelmo', 'warddpatrick', 'warehouse', 'warehouseworker', 'warfare', 'warlockyone', 'warm', 'warming', 'warn', 'warned', 'warning', 'warns', 'warrant', 'warren', 'warriors_mom', 'warroom', 'wartime', 'wary', 'wash', 'washington', 'washingtonpost', 'washtimes', 'wasnt', 'waste', 'wasteful', 'wastewater', 'wasting', 'watch', 'watchchad', 'watchdog', 'watchdog_sepa', 'watching', 'watchlive', 'water', 'waterdieren', 'waterford', 'watergate', 'waterkeeper', 'watershed', 'waterwarriorone', 'waterway', 'waterways', 'watery', 'watt', 'wattdefook', 'wattzzd', 'wavy_news', 'wavycryptoguy', 'wax', 'way', 'wayne', 'wayne_o37922', 'waynegregory42', 'wayside', 'waytooearly', 'wben', 'wbn', 'wchs8fox11', 'wcpotter', 'wcsi', 'wdbj7', 'wdtn', 'wdymvideos', 'weak', 'weaken', 'weakness', 'wealth', 'wealthbeforehealth', 'wealthmanagement', 'wealthy', 'weapon', 'weaponize', 'weaponizes', 'weaponry', 'wear', 'wearedrilled', 'weary', 'weasel', 'weather', 'web', 'webpage', 'websi', 'website', 'websuggestion', 'weciv01', 'wed', 'wedding', 'wednesday', 'week', 'weekday', 'weekend', 'weekly', 'weeklywrapup', 'wef', 'weigh', 'weight', 'weighty', 'weimmom', 'weird', 'weirder', 'weirdly', 'weirdo', 'welcome', 'weld', 'welfare', 'wellness', 'welp', 'wendywi89642313', 'wenonahhauter', 'werewolf_doctor', 'wesaconfluence', 'wesh', 'wesleyhunttx', 'west', 'westcentralohio', 'western', 'westjournalism', 'westland', 'westlooptom', 'westseneca', 'wethepeople', 'wewintheylose', 'wews', 'wfaa', 'wfh', 'wfmy', 'wfplnews', 'wgnnews', 'wgo', 'wgrz', 'wh', 'wha', 'whack', 'whale', 'whalenmona', 'whalesorg', 'whartonknows', 'whatdidyedorong', 'whatifisaidit', 'whatilearnedtoday', 'whats', 'whatsapp0032499357495', 'whatsgoingon', 'whatsoever', 'whatsrightshow', 'whattheffacts', 'whay', 'whcos', 'whe', 'wheel', 'whelton', 'whenweallvote', 'wher', 'wheresfema', 'whew_lord', 'whic', 'whil', 'whilst', 'whine', 'whio', 'whioradio', 'whiotv', 'whip', 'whisper', 'whistle', 'whistleblower', 'white', 'white_janissary', 'whitehouse', 'whiteness', 'whitenoise', 'whitenoisemovie', 'whitewonderly', 'whitining', 'who_shot_jgr', 'whoa', 'whodisdontcare', 'whoopi', 'whoopigoldberg', 'whoown', 'whop', 'whosaidwhatann', 'whowatwherewolf', 'wi', 'wickliffe', 'wide', 'wideawake885', 'widely', 'wider', 'widespread', 'wieder', 'wife', 'wil', 'wild', 'wildlife', 'wildly', 'wildpalmsltd', 'wile', 'wilkamaxx', 'wilkinsrobertc', 'wilkowmajority', 'will_bunch', 'willful', 'willfully', 'willhild', 'william16723077', 'william_willia2', 'williambasham11', 'williamjmccart7', 'williamlegate', 'williamsburg', 'williamsburgohio', 'williegeist', 'willing', 'willingl', 'willingly', 'willingness', 'willow', 'willtullett', 'willwakeu', 'willy', 'wilmington', 'wilson', 'wily_kaioty', 'wimmerannemarie', 'win', 'wind', 'windelljason1', 'windfall', 'windflowerlia', 'windmillchemo', 'window', 'windsorvillhelm', 'windy_wyoming_', 'wing', 'winger', 'wink', 'winny_powers', 'winslow_nj', 'winter', 'wipe', 'wire', 'wisconsin', 'wise', 'wisejames', 'wish', 'wishfulldreamz', 'wishyouwerehere', 'witch', 'witchestruth', 'withdraw', 'withdrawn', 'wither', 'witness', 'witsken', 'wizard', 'więc', 'wjz', 'wkbn', 'wkiloski', 'wkok1070', 'wkrc', 'wks', 'wksu', 'wkyc', 'wltx', 'wlwt', 'wm49291771', 'wmcactionnews5', 'wndu', 'wnt', 'wobbly', 'woe', 'woes', 'wojcik', 'woke', 'wokeness', 'wokes', 'wokesocieties', 'wokies', 'wolfe', 'woman', 'wombatcat1', 'womeninbusiness', 'wonder', 'wonderful', 'wont', 'woobietoosday', 'woobietuesday', 'wood', 'woodchucking', 'woodcutterbrian', 'wooded', 'woodhouseb', 'woodland', 'woodrow', 'woods', 'woohooo', 'wooke_jack', 'woopsie', 'woopsy', 'wopizza', 'worcteaparty', 'word', 'worded', 'work', 'workdaymagazine', 'worked', 'workemail17', 'worker', 'workforce', 'working', 'workingfamilies', 'workplace', 'world', 'worldbreakingn9', 'worldfullofjunk', 'worldnews', 'worldnewsinvids', 'worldnewstonight', 'worldwide', 'worls', 'worm', 'worm_a_toe', 'worn', 'worried', 'worries', 'worry', 'worse', 'worsen', 'worst', 'worth', 'worthless', 'worthmeaningful', 'worthwhile', 'worthy', 'wosunews', 'wot', 'wouldnt', 'wow', 'wowk13news', 'wowt6news', 'wowterrifying', 'wpost', 'wpri12', 'wptf', 'wpxi', 'wpxigordon', 'wr', 'wramckay', 'wrap', 'wrapped', 'wreak', 'wreck', 'wreckage', 'wrecked', 'wrench', 'wri', 'wright', 'wrist', 'write', 'writer', 'writes', 'wrkrsstrikeback', 'wrong', 'wrongly', 'wrtv', 'wsaznews', 'wsbtv', 'wschodniej', 'wshawnm', 'wsj', 'wsjgraphics', 'wsmartin218', 'wsmvcarley', 'wsoctv', 'wsws', 'wsws_updates', 'wsyjyktbvt', 'wsyx', 'wsyx6', 'wtae', 'wtaj', 'wtajnews', 'wtccmidsouth', 'wtf', 'wth', 'wthrcom', 'wti', 'wtoc11', 'wtop', 'wtopelius', 'wtov9', 'wtpblue', 'wtrf7news', 'wtyppod', 'wuhan', 'wurst', 'wutangkids', 'wv', 'wvtm', 'ww1', 'ww2', 'wwg1wga', 'wwi', 'wwii', 'wwj950', 'wwjtraffic', 'wwltv', 'www', 'wxix', 'wxreppert', 'wxyzdetroit', 'wykoleił', 'wykolejony', 'x2', 'x3', 'x5', 'xanpinha', 'xhnorthamerica', 'xi', 'xian', 'xin97558681', 'xing', 'xjrqdzwnoo', 'xma5m6flxm', 'xpds1118', 'xx17965797n', 'xxx', 'y2ymlfnnyc', 'ya', 'yaboytroy27', 'yaga', 'yahoo', 'yahoofinance', 'yahoolife', 'yahoonews', 'yaneustage', 'yapping', 'yard', 'yawl', 'yawn', 'yay', 'yaystack', 'ydanasmithdutra', 'ydsa', 'ydsagt', 'yea', 'yeah', 'year', 'yell', 'yellen', 'yellow', 'yep', 'yes', 'yesitsm97576245', 'yesterday', 'yetiglass25', 'yikes', 'yitgordon', 'yo', 'yogachampagne', 'yogurt', 'yohiobaseball', 'yolalindayola', 'yoooo', 'york', 'yost', 'youaretheproblem', 'young', 'youngstown', 'yourcallradio', 'yourcalvinist', 'youre', 'youredailynews', 'yourmomswatchin', 'yournewsnet', 'youth', 'youtu', 'youtube', 'youtubeより', 'ypu', 'yr', 'yrain', 'yrs', 'yruwhining', 'yt', 'yu2g1zjubv', 'yucatán', 'yuge', 'yup', 'yves', 'zac_unchained', 'zachary38090591', 'zack', 'zagozana', 'zahra', 'zainsville', 'zakharova', 'zaleskiluke', 'zawsze_pod_prad', 'zazzybritches', 'ze', 'zeal', 'zegdie', 'zein', 'zekegary2', 'zelenki', 'zelensky', 'zelenskyy', 'zeligvasirov', 'zelinsky', 'zenkus', 'zenkuswatch', 'zephyr21848384', 'zero', 'zerohedge', 'zerohedgejpn', 'zg4ever', 'zhangxinyue', 'zhenbrutalism', 'zhirji28', 'zhirji28article', 'ziggy_usa', 'zionist', 'zip', 'zipillinois', 'zlqhj05tmc', 'zombywoof2022', 'zone', 'zookies', 'zoom', 'zoomarang', 'zoomerwaffen', 'zooming', 'zsnakeplissken', 'zt_followers', 'zug', 'zwcmze0wch', 'zwv134', 'zyrofoxtrot', 'ça', 'élimination', 'énième', 'était', 'états', 'éventuellement', 'éverything', 'éviter', 'środka', 'ενα', 'μεσα', 'μηνα', 'οχαιο', 'στο', 'τρενο', 'алабаме', 'амери', 'американском', 'генеральный', 'давно', 'директор', 'до', 'жд', 'за', 'испытания', 'как', 'какой', 'компании', 'конгрессом', 'марта', 'несколько', 'огайо', 'они', 'перед', 'по', 'поезд', 'провел', 'пути', 'рельсов', 'ремонтировали', 'сошел', 'стабильность', 'счёту', 'там', 'того', 'часов', 'штате', 'الأميركية', 'القضبان', 'انبعاث', 'بأوهايو', 'بحادث', 'بعد', 'ثان', 'خروج', 'سامة', 'عن', 'قطار', 'مماثل', 'مواد', 'การท', 'งของ', 'งคน', 'งม', 'งเล', 'ชาวบ', 'ตกลงมาเป', 'ตว', 'ทำให', 'นบรรยากาศ', 'นอกจากน', 'นไปอย', 'บนช', 'ผลเส', 'ฝนกรด', 'ฝนท', 'พบว', 'พอเค', 'ยท', 'ลอยข', 'สารเคม', 'หากฝนตก', 'อยหมาของเค', 'อาจจะทำให', 'าตายแล', 'าน', 'านคนน', 'าปล', 'าว', 'าหมาของเค', 'าออกมาด', 'าออกมาเด', 'เค', 'เหล', 'แต', 'ℂℍ𝔼ℝℕ𝕆𝔹𝕐𝕃', 'その米国の物流ですが___________', 'ちょっと脱線し過ぎだろ', 'またオハイオで貨物列車が脱線', 'アメリカ三大ネットワークのテレビニュースを数時間遅れで視聴できる時代となっている', 'ウェストバージニア州', 'ウェストバージニア州で岩石滑りに衝突した後', 'オハイオ州でノーフォーク', 'オハイオ州西中央でノーフォーク', 'サザンの貨物列車が脱線し', 'サザンの貨物列車が脱線した後', 'サザン鉄道の貨物列車が再び脱線', 'ディーゼルが川に流出', '一周后会有人帮我开奖', '乗務員は流出した痕跡を見つけられませんでした', '事件沒人受傷', '人が負傷', '似乎每一天都是如此', '但我们被告知没有危险物质', '但有當地民眾表示', '住民に避難するよう指示', '俄亥俄州', '出軌', '前17分钟是恩怨', '南诺福克有什么问题吗', '又一起', '呼籲市民就地避難', '因为我们听说俄亥俄州又有一列火车出轨了', '因为福禄寿利用我赚了千万还恶心我', '堆疊在路軌旁', '墮軌', '妙なモノは漏れたりしてないそうだけど', '州内では有害物質が流出した先月の事故に続き２例目', '当地老百姓怕啥呢', '很可能会被报复', '意外', '我忍无可忍选择曝光福禄寿利用警察冻卡', '拉文纳', '據報這列載貨火車共有212卡車廂', '收钱解冻', '显然正在进行', '波蒂奇县', '火曜日', '環境保護庁はオハイオ州の有毒列車事故による汚染廃棄物の出荷の一時停止を命令', '當中20節出軌', '當局稱車上並無載有有毒化學物', '疯狂三月', '看到有毒化學物品處理組的車輛出現', '美国', '美国俄亥俄州再发生列车脱轨事故', '肇事的火車同樣屬於norfolk', '脱線させるひとをディレーラーと呼ぶ', '脱線はderail', '脱軌', '脱轨', '自分たちが引き起こした混乱の後始末の代償を払うことになる', '貨物列車が脱線', '转发评论此条推特抽一万u', '还有u商安徽省芜湖防空洞帮人藏匿的数十亿资产', '这可能是我的最后一条视频', '这次是在斯普林菲尔德', '附近居民被要求就地避难', '바이든은', '방문하지', '번도', '않은', '열차', '오하이오', '지역', '찾은', '탈선', '트럼프', '𝔸𝕄𝔼ℝ𝕀ℂ𝔸𝕊', '𝔻𝕖𝕣𝕒𝕚𝕝𝕞𝕖𝕟𝕥', '𝕋𝕠𝕩𝕚𝕔', '𝗗𝗢', '𝗦𝗘𝗔𝗥𝗖𝗛']\n"
     ]
    },
    {
     "name": "stderr",
     "output_type": "stream",
     "text": [
      "/Users/ribarragi/miniconda3/envs/Intro_AI/lib/python3.9/site-packages/sklearn/utils/deprecation.py:87: FutureWarning: Function get_feature_names is deprecated; get_feature_names is deprecated in 1.0 and will be removed in 1.2. Please use get_feature_names_out instead.\n",
      "  warnings.warn(msg, category=FutureWarning)\n"
     ]
    }
   ],
   "source": [
    "print(tf_vectorizer.get_feature_names())\n",
    "# this will print out the vocabulary, here 1,000 words, sorted alphabetically"
   ]
  },
  {
   "cell_type": "markdown",
   "metadata": {},
   "source": [
    "We can also go in reverse: given a word, we can figure out which column index it corresponds to. To do this, we use the `vocabulary_` attribute."
   ]
  },
  {
   "cell_type": "code",
   "execution_count": 27,
   "metadata": {},
   "outputs": [
    {
     "data": {
      "text/plain": [
       "2161"
      ]
     },
     "execution_count": 27,
     "metadata": {},
     "output_type": "execute_result"
    }
   ],
   "source": [
    "tf_vectorizer.vocabulary_['car']\n",
    "# .vocabulary_ get the word index in the vocabulary\n",
    "# IN OTHER WORDS: what column do I have to look at to find the word car"
   ]
  },
  {
   "cell_type": "markdown",
   "metadata": {},
   "source": [
    "We can figure out what the raw counts are for the 0-th post as follows."
   ]
  },
  {
   "cell_type": "code",
   "execution_count": 24,
   "metadata": {},
   "outputs": [
    {
     "data": {
      "text/plain": [
       "(10000, 24428)"
      ]
     },
     "execution_count": 24,
     "metadata": {},
     "output_type": "execute_result"
    }
   ],
   "source": [
    "tf.toarray().shape"
   ]
  },
  {
   "cell_type": "code",
   "execution_count": 25,
   "metadata": {},
   "outputs": [
    {
     "data": {
      "text/plain": [
       "array([[0, 0, 0, ..., 0, 0, 0]])"
      ]
     },
     "execution_count": 25,
     "metadata": {},
     "output_type": "execute_result"
    }
   ],
   "source": [
    "tf[0].toarray()\n",
    "\n",
    "# I can index in to the zeroeth row of the matrix and convert into an array, I am anazlizing just the zeroeth row:\n",
    "# feature vector representation for the zeroeth document: \n",
    "# We should be able to write code to know what word corresponds each non zero number there\n",
    "\n",
    "# tf_vectorizer.get_feature_names_out()[(tf[0].toarray() != 0)[0]] # LIKE THIS!\n",
    "\n",
    "# run a for loop that goes thru the entries, and check to which indeces this corresponds in the vocabulary"
   ]
  },
  {
   "cell_type": "markdown",
   "metadata": {},
   "source": [
    "We now fit an LDA model to the data."
   ]
  },
  {
   "cell_type": "code",
   "execution_count": 28,
   "metadata": {},
   "outputs": [
    {
     "data": {
      "text/plain": [
       "LatentDirichletAllocation(n_components=5, random_state=0)"
      ]
     },
     "execution_count": 28,
     "metadata": {},
     "output_type": "execute_result"
    }
   ],
   "source": [
    "# Now LDA. This will take a while ong\n",
    "\n",
    "num_topics = 5\n",
    "\n",
    "from sklearn.decomposition import LatentDirichletAllocation\n",
    "lda = LatentDirichletAllocation(n_components=num_topics, random_state=0)\n",
    "lda.fit(tf)"
   ]
  },
  {
   "cell_type": "markdown",
   "metadata": {},
   "source": [
    "The fitting procedure determines the every topic's distribution over words; this information is stored in the `components_` attribute. There's a catch: we actually have to normalize to get the probability distributions (without this normalization, instead what the model has are pseudocounts for how often different words appear per topic)."
   ]
  },
  {
   "cell_type": "code",
   "execution_count": 29,
   "metadata": {},
   "outputs": [
    {
     "data": {
      "text/plain": [
       "(5, 14489)"
      ]
     },
     "execution_count": 29,
     "metadata": {},
     "output_type": "execute_result"
    }
   ],
   "source": [
    "lda.components_.shape\n",
    "# The shaope of this is 16 by 1000, 10 topics and 1000 words\n",
    "# These are not probability distributions yet"
   ]
  },
  {
   "cell_type": "code",
   "execution_count": 30,
   "metadata": {},
   "outputs": [
    {
     "data": {
      "text/plain": [
       "array([51899.95839, 11396.8621 , 16871.84612, 48435.49054, 35979.84285])"
      ]
     },
     "execution_count": 30,
     "metadata": {},
     "output_type": "execute_result"
    }
   ],
   "source": [
    "# If we access: sum ACROSS COLUMNS (get rid of columns), I get 6 numbers: a sum for each row.\n",
    "# They dont sum uop to 1, because not probability distributions\n",
    "\n",
    "# .components_ is a raw count histogram, but why are there fractions?\n",
    "# Because of how it works: when it estimates how much a word belongs to a topic it does a prob assignment, not a deterministic assignment.\n",
    "lda.components_.sum(axis=1)"
   ]
  },
  {
   "cell_type": "code",
   "execution_count": 31,
   "metadata": {},
   "outputs": [],
   "source": [
    "topic_word_distributions = np.array([row / row.sum() for row in lda.components_])\n",
    "# We can get the proba distributions: take each row and divide by sum, then we get what was in the purple box in the lecture slide:\n",
    "# "
   ]
  },
  {
   "cell_type": "code",
   "execution_count": 32,
   "metadata": {},
   "outputs": [
    {
     "data": {
      "text/plain": [
       "(5, 14489)"
      ]
     },
     "execution_count": 32,
     "metadata": {},
     "output_type": "execute_result"
    }
   ],
   "source": [
    "topic_word_distributions.shape"
   ]
  },
  {
   "cell_type": "markdown",
   "metadata": {},
   "source": [
    "We can verify that each topic's word distribution sums to 1."
   ]
  },
  {
   "cell_type": "code",
   "execution_count": 33,
   "metadata": {},
   "outputs": [
    {
     "data": {
      "text/plain": [
       "array([1., 1., 1., 1., 1.])"
      ]
     },
     "execution_count": 33,
     "metadata": {},
     "output_type": "execute_result"
    }
   ],
   "source": [
    "topic_word_distributions.sum(axis=1)\n",
    "# then we have distributions: every row sums to 1"
   ]
  },
  {
   "cell_type": "markdown",
   "metadata": {},
   "source": [
    "We can also print out what the probabilities for the different words are for a specific topic. This isn't very easy to interpret."
   ]
  },
  {
   "cell_type": "code",
   "execution_count": 34,
   "metadata": {},
   "outputs": [
    {
     "name": "stdout",
     "output_type": "stream",
     "text": [
      "[0.00023 0.0022  0.      ... 0.00002 0.      0.     ]\n"
     ]
    }
   ],
   "source": [
    "print(topic_word_distributions[0])\n",
    "# lets look at 0th topic, it is saying that the 0th word appears 0.00011, word 1 appears with prob 0.00191\n",
    "# Lets view the data differently to interpret"
   ]
  },
  {
   "cell_type": "markdown",
   "metadata": {},
   "source": [
    "Instead, usually people do something like looking at the most probable words per topic, and try to use these words to interpret what the different topics correspond to."
   ]
  },
  {
   "attachments": {},
   "cell_type": "markdown",
   "metadata": {},
   "source": []
  },
  {
   "cell_type": "code",
   "execution_count": 35,
   "metadata": {},
   "outputs": [
    {
     "name": "stdout",
     "output_type": "stream",
     "text": [
      "Displaying the top 20 words per topic and their probabilities within the topic...\n",
      "\n",
      "[Topic 0]\n",
      "train : 0.04494796296967448\n",
      "palestine : 0.04470426488558929\n",
      "east : 0.04454425758823682\n",
      "ohio : 0.037049605831371714\n",
      "derailment : 0.03501928102871137\n",
      "rt : 0.0207684552577111\n",
      "chemical : 0.018875588003593884\n",
      "toxic : 0.015051674372399373\n",
      "norfolk : 0.012525607648177244\n",
      "southern : 0.01209449809493939\n",
      "resident : 0.011046786747354249\n",
      "derail : 0.00802365010289283\n",
      "say : 0.00733496975123015\n",
      "town : 0.00542972290627591\n",
      "disaster : 0.005035643685756647\n",
      "hazardous : 0.004808357960385085\n",
      "crash : 0.004788801274217134\n",
      "carry : 0.00463808666188525\n",
      "report : 0.00441152874038668\n",
      "release : 0.004381380233251088\n",
      "\n",
      "[Topic 1]\n",
      "rt : 0.01102388375122378\n",
      "pay : 0.011001321849111987\n",
      "million : 0.008807643973099879\n",
      "norfolk : 0.007865056332287507\n",
      "victim : 0.007738504073669798\n",
      "care : 0.007245150538977711\n",
      "southern : 0.007053654571517336\n",
      "say : 0.006973790838839484\n",
      "billion : 0.006761572140243558\n",
      "need : 0.006665513689466389\n",
      "people : 0.006506031517747949\n",
      "amp : 0.006296052702575476\n",
      "time : 0.005553166268872493\n",
      "long : 0.004519905217582303\n",
      "derailment : 0.004335186265531324\n",
      "good : 0.004271528864298777\n",
      "really : 0.004165427861437614\n",
      "term : 0.004021022822113924\n",
      "risk : 0.003941878511464026\n",
      "know : 0.003881788436020313\n",
      "\n",
      "[Topic 2]\n",
      "train : 0.044395314530324234\n",
      "norfolk : 0.027223377982113883\n",
      "southern : 0.0243158504161021\n",
      "rule : 0.011296784982925905\n",
      "safety : 0.011144416966972473\n",
      "rt : 0.010938466004128457\n",
      "ohio : 0.008086648871876772\n",
      "car : 0.007349058585558061\n",
      "trump : 0.007199495343978202\n",
      "crash : 0.007062809503995217\n",
      "kill : 0.006910480395578858\n",
      "high : 0.00664197807306162\n",
      "hazard : 0.006292512466605482\n",
      "brake : 0.005754445325132166\n",
      "apply : 0.005736520352229376\n",
      "truck : 0.005691280627226967\n",
      "dump : 0.005464507666750106\n",
      "cause : 0.005293784141160055\n",
      "rail : 0.004815402626168145\n",
      "flammable : 0.004812576405425851\n",
      "\n",
      "[Topic 3]\n",
      "palestine : 0.04607858958218543\n",
      "east : 0.045751688500139005\n",
      "train : 0.03768656171329221\n",
      "derailment : 0.032095510535154546\n",
      "ohio : 0.02287405340146561\n",
      "rt : 0.022862843968195812\n",
      "trump : 0.017781928508426883\n",
      "biden : 0.012698017668182909\n",
      "visit : 0.008673034599615798\n",
      "disaster : 0.008500095328706802\n",
      "buttigieg : 0.00793121479188787\n",
      "water : 0.007032525214884748\n",
      "toxic : 0.006123063851737721\n",
      "safety : 0.00611117419415416\n",
      "pete : 0.005860426990894316\n",
      "people : 0.005598105717739393\n",
      "president : 0.005458080559627305\n",
      "say : 0.005264923460811262\n",
      "regulation : 0.005015830036417482\n",
      "help : 0.004418598581340609\n",
      "\n",
      "[Topic 4]\n",
      "norfolk : 0.08381593228644747\n",
      "southern : 0.08222419483677884\n",
      "train : 0.06345526097542797\n",
      "derailment : 0.0346854482501621\n",
      "ohio : 0.032891917833856185\n",
      "derails : 0.0168482563660277\n",
      "rt : 0.015941013912925392\n",
      "derail : 0.013714392127002706\n",
      "ceo : 0.013283745144738951\n",
      "company : 0.00826356036543724\n",
      "say : 0.008250323340483789\n",
      "car : 0.007982913943236946\n",
      "epa : 0.007705345411302833\n",
      "alabama : 0.007648676025042315\n",
      "springfield : 0.006745900824196806\n",
      "report : 0.006653217711288439\n",
      "safety : 0.00649450234754243\n",
      "pay : 0.005666630084145237\n",
      "toxic : 0.005635465417307546\n",
      "order : 0.005382809998041861\n",
      "\n"
     ]
    }
   ],
   "source": [
    "# we can sort the probability by big to small\n",
    "# for each topic, listing top 20 most popular words (by probability)\n",
    "\n",
    "num_top_words = 20\n",
    "\n",
    "def print_top_words(topic_word_distributions, num_top_words, vectorizer):\n",
    "    vocab = vectorizer.get_feature_names()\n",
    "    num_topics = len(topic_word_distributions)\n",
    "    print('Displaying the top %d words per topic and their probabilities within the topic...' % num_top_words)\n",
    "    print()\n",
    "\n",
    "    for topic_idx in range(num_topics):\n",
    "        print('[Topic ', topic_idx, ']', sep='')\n",
    "        # This is the interesting part: take the topic_word_distributions only for the topic_idxth topic, and get the indexes sorted from highest to lowest\n",
    "        sort_indices = np.argsort(-topic_word_distributions[topic_idx])\n",
    "        # then for the range 0,num_words, print the vocab of each of the words and its entry in the topic_word_distribution matrix\n",
    "        for rank in range(num_top_words):\n",
    "            word_idx = sort_indices[rank]\n",
    "            print(vocab[word_idx], ':',\n",
    "                  topic_word_distributions[topic_idx, word_idx])\n",
    "        print()\n",
    "\n",
    "print_top_words(topic_word_distributions, num_top_words, tf_vectorizer)"
   ]
  },
  {
   "cell_type": "markdown",
   "metadata": {},
   "source": [
    "We can use the `transform()` function to figure out for each document, what fraction of it is explained by each of the topics."
   ]
  },
  {
   "cell_type": "code",
   "execution_count": 1,
   "metadata": {},
   "outputs": [],
   "source": [
    "# consider removing:\n",
    "terms_remove = ['train', 'https', 'rt', 'palestine', 'east', 'ohio', 'norfolk', 'southern']"
   ]
  },
  {
   "cell_type": "code",
   "execution_count": 106,
   "metadata": {},
   "outputs": [],
   "source": [
    "doc_topic_matrix = lda.transform(tf)\n",
    "# Ill get a low dimensional version of the data, the document topic matrix (10, 10)\n",
    "# each of the 10,000 represented as a distribution over 10 different topics"
   ]
  },
  {
   "cell_type": "code",
   "execution_count": 107,
   "metadata": {},
   "outputs": [
    {
     "data": {
      "text/plain": [
       "(10000, 10)"
      ]
     },
     "execution_count": 107,
     "metadata": {},
     "output_type": "execute_result"
    }
   ],
   "source": [
    "doc_topic_matrix.shape"
   ]
  },
  {
   "cell_type": "code",
   "execution_count": 108,
   "metadata": {},
   "outputs": [
    {
     "data": {
      "text/plain": [
       "array([0.00714, 0.00714, 0.00714, 0.93571, 0.00714, 0.00714, 0.00714,\n",
       "       0.00714, 0.00714, 0.00714])"
      ]
     },
     "execution_count": 108,
     "metadata": {},
     "output_type": "execute_result"
    }
   ],
   "source": [
    "# The topic distribution of the 0th document is very small except for 0.96288 fior index 7\n",
    "# We saw from above, topic 7 is about religion, and we can check that document 0 is about religion\n",
    "doc_topic_matrix[0]\n",
    "\n",
    "\n",
    "# Note: for GMM when you do the .predict, itll give you k probabilites that sum to 1. \n",
    "# predict_proba of GMM \n",
    "# here: ... gives you a proba distr:\n",
    "# INTERPRETARATION DIFFERENT\n",
    "\n",
    "# FOR LDA: document can consist of a bunch of words, and different fraction of the words are truly in different topics: we get mixed membership, words are allowed to e in different topics\n",
    "# GMM: the above doesnt hold"
   ]
  },
  {
   "cell_type": "code",
   "execution_count": 109,
   "metadata": {},
   "outputs": [
    {
     "data": {
      "text/plain": [
       "0.9999999999999999"
      ]
     },
     "execution_count": 109,
     "metadata": {},
     "output_type": "execute_result"
    }
   ],
   "source": [
    "doc_topic_matrix[0].sum()"
   ]
  },
  {
   "cell_type": "markdown",
   "metadata": {},
   "source": [
    "Note that this *could* be interpreted as a form of dimensionality reduction: document 0 is converted from its raw counts histogram representation to a 10-dimensional vector of probabilities, indicating estimated memberships to the 10 different topics."
   ]
  },
  {
   "attachments": {},
   "cell_type": "markdown",
   "metadata": {},
   "source": [
    "# **--------------------- Stop here by now ---------------------**"
   ]
  },
  {
   "cell_type": "markdown",
   "metadata": {},
   "source": [
    "## Word clouds\n",
    "\n",
    "Here's a fancier way to visualize. This requires installation of the wordcloud package:\n",
    "\n",
    "```\n",
    "pip install wordcloud\n",
    "```"
   ]
  },
  {
   "cell_type": "code",
   "execution_count": null,
   "metadata": {},
   "outputs": [
    {
     "ename": "ModuleNotFoundError",
     "evalue": "No module named 'wordcloud'",
     "output_type": "error",
     "traceback": [
      "\u001b[0;31m---------------------------------------------------------------------------\u001b[0m",
      "\u001b[0;31mModuleNotFoundError\u001b[0m                       Traceback (most recent call last)",
      "\u001b[0;32m/var/folders/yv/9jkc42cj01gb_08dbbq9fcnw0000gn/T/ipykernel_53404/2357757354.py\u001b[0m in \u001b[0;36m<module>\u001b[0;34m\u001b[0m\n\u001b[0;32m----> 1\u001b[0;31m \u001b[0;32mfrom\u001b[0m \u001b[0mwordcloud\u001b[0m \u001b[0;32mimport\u001b[0m \u001b[0mWordCloud\u001b[0m\u001b[0;34m\u001b[0m\u001b[0;34m\u001b[0m\u001b[0m\n\u001b[0m\u001b[1;32m      2\u001b[0m \u001b[0;34m\u001b[0m\u001b[0m\n\u001b[1;32m      3\u001b[0m \u001b[0mnum_max_word_cloud_words\u001b[0m \u001b[0;34m=\u001b[0m \u001b[0;36m100\u001b[0m\u001b[0;34m\u001b[0m\u001b[0;34m\u001b[0m\u001b[0m\n\u001b[1;32m      4\u001b[0m \u001b[0;34m\u001b[0m\u001b[0m\n\u001b[1;32m      5\u001b[0m \u001b[0mvocab\u001b[0m \u001b[0;34m=\u001b[0m \u001b[0mtf_vectorizer\u001b[0m\u001b[0;34m.\u001b[0m\u001b[0mget_feature_names\u001b[0m\u001b[0;34m(\u001b[0m\u001b[0;34m)\u001b[0m\u001b[0;34m\u001b[0m\u001b[0;34m\u001b[0m\u001b[0m\n",
      "\u001b[0;31mModuleNotFoundError\u001b[0m: No module named 'wordcloud'"
     ]
    }
   ],
   "source": [
    "from wordcloud import WordCloud\n",
    "\n",
    "num_max_word_cloud_words = 100\n",
    "\n",
    "vocab = tf_vectorizer.get_feature_names()\n",
    "num_topics = len(topic_word_distributions)\n",
    "\n",
    "for topic_idx in range(num_topics):\n",
    "    wc = WordCloud(max_words=num_max_word_cloud_words)\n",
    "    wc.generate_from_frequencies(dict(zip(vocab, topic_word_distributions[topic_idx])))\n",
    "    plt.figure()\n",
    "    plt.imshow(wc, interpolation='bilinear')\n",
    "    plt.title('Topic %d' % topic_idx)"
   ]
  },
  {
   "cell_type": "markdown",
   "metadata": {},
   "source": [
    "## Computing co-occurrences of words\n",
    "\n",
    "Here, we count the number of newsgroup posts in which two words both occur. This part of the demo should feel like a review of co-occurrence analysis from earlier in the course, except now we use scikit-learn's built-in CountVectorizer. Conceptually everything else in the same as before."
   ]
  },
  {
   "cell_type": "code",
   "execution_count": 70,
   "metadata": {},
   "outputs": [],
   "source": [
    "word1 = 'year'\n",
    "word2 = 'team'\n",
    "\n",
    "word1_column_idx = tf_vectorizer.vocabulary_[word1]\n",
    "word2_column_idx = tf_vectorizer.vocabulary_[word2]"
   ]
  },
  {
   "cell_type": "code",
   "execution_count": 69,
   "metadata": {},
   "outputs": [
    {
     "data": {
      "text/plain": [
       "array([[0, 0, 0, ..., 0, 0, 0],\n",
       "       [0, 0, 0, ..., 0, 0, 0],\n",
       "       [0, 0, 0, ..., 0, 0, 0],\n",
       "       ...,\n",
       "       [0, 0, 0, ..., 0, 0, 0],\n",
       "       [0, 0, 0, ..., 0, 0, 0],\n",
       "       [0, 0, 0, ..., 0, 0, 0]])"
      ]
     },
     "execution_count": 69,
     "metadata": {},
     "output_type": "execute_result"
    }
   ],
   "source": [
    "np.array(tf.todense())"
   ]
  },
  {
   "cell_type": "code",
   "execution_count": 71,
   "metadata": {},
   "outputs": [
    {
     "data": {
      "text/plain": [
       "array([[0],\n",
       "       [0],\n",
       "       [0],\n",
       "       ...,\n",
       "       [0],\n",
       "       [0],\n",
       "       [0]])"
      ]
     },
     "execution_count": 71,
     "metadata": {},
     "output_type": "execute_result"
    }
   ],
   "source": [
    "tf[:, word1_column_idx].toarray()"
   ]
  },
  {
   "cell_type": "code",
   "execution_count": 72,
   "metadata": {},
   "outputs": [],
   "source": [
    "documents_with_word1 = (tf[:, word1_column_idx].toarray().flatten() > 0)"
   ]
  },
  {
   "cell_type": "code",
   "execution_count": 73,
   "metadata": {},
   "outputs": [],
   "source": [
    "documents_with_word2 = (tf[:, word2_column_idx].toarray().flatten() > 0)"
   ]
  },
  {
   "cell_type": "code",
   "execution_count": 77,
   "metadata": {},
   "outputs": [],
   "source": [
    "documents_with_both_word1_and_word2 = documents_with_word1 * documents_with_word2"
   ]
  },
  {
   "cell_type": "code",
   "execution_count": 79,
   "metadata": {},
   "outputs": [
    {
     "data": {
      "text/plain": [
       "array([False, False, False, ..., False, False, False])"
      ]
     },
     "execution_count": 79,
     "metadata": {},
     "output_type": "execute_result"
    }
   ],
   "source": [
    "documents_with_both_word1_and_word2"
   ]
  },
  {
   "cell_type": "markdown",
   "metadata": {},
   "source": [
    "Next, we compute the log of the conditional probability of word 1 appearing given that word 2 appeared, where we add in a little bit of a fudge factor in the numerator (in this case, it's actually not needed but some times you do have two words that do not co-occur for which you run into a numerical issue due to taking the log of 0)."
   ]
  },
  {
   "cell_type": "code",
   "execution_count": 84,
   "metadata": {},
   "outputs": [
    {
     "data": {
      "text/plain": [
       "-1.5482462194376105"
      ]
     },
     "execution_count": 84,
     "metadata": {},
     "output_type": "execute_result"
    }
   ],
   "source": [
    "eps = 0.1\n",
    "np.log2((documents_with_both_word1_and_word2.sum() + eps) / documents_with_word2.sum())"
   ]
  },
  {
   "cell_type": "code",
   "execution_count": 85,
   "metadata": {},
   "outputs": [],
   "source": [
    "# compute log of prob of see one word given you see another, using count vectorizer!\n",
    "# Same content as in hw , but with a different tool\n",
    "# This uses np.arrays instead of counters. Needs to kep track of the indexes.\n",
    "# Understad how countvectorizer works\n",
    "\n",
    "def prob_see_word1_given_see_word2(word1, word2, vectorizer, eps=0.1):\n",
    "    word1_column_idx = vectorizer.vocabulary_[word1]\n",
    "    word2_column_idx = vectorizer.vocabulary_[word2]\n",
    "    documents_with_word1 = (tf[:, word1_column_idx].toarray().flatten() > 0)\n",
    "    documents_with_word2 = (tf[:, word2_column_idx].toarray().flatten() > 0)\n",
    "    documents_with_both_word1_and_word2 = documents_with_word1 * documents_with_word2\n",
    "    return np.log2((documents_with_both_word1_and_word2.sum() + eps) / documents_with_word2.sum())"
   ]
  },
  {
   "cell_type": "code",
   "execution_count": 86,
   "metadata": {},
   "outputs": [
    {
     "data": {
      "text/plain": [
       "(str, str)"
      ]
     },
     "execution_count": 86,
     "metadata": {},
     "output_type": "execute_result"
    }
   ],
   "source": [
    "type(word1), type(word2)"
   ]
  },
  {
   "cell_type": "markdown",
   "metadata": {},
   "source": [
    "## Topic coherence\n",
    "\n",
    "The below code shows how one implements the topic coherence calculation from lecture."
   ]
  },
  {
   "cell_type": "code",
   "execution_count": 87,
   "metadata": {},
   "outputs": [],
   "source": [
    "# In the cell below, vectorizer.get_feature_names() is just tokenizing the text, \n",
    "# eliminating stopwords, eliminating some other words, and then giving you back\n",
    "# a list of the tokens in string format"
   ]
  },
  {
   "cell_type": "code",
   "execution_count": 88,
   "metadata": {},
   "outputs": [],
   "source": [
    "# topic coherence\n",
    "\n",
    "def compute_average_coherence(topic_word_distributions, num_top_words, vectorizer, verbose=True):\n",
    "    vocab = vectorizer.get_feature_names()\n",
    "    num_topics = len(topic_word_distributions)\n",
    "    average_coherence = 0\n",
    "    # foor loop thru different topics, for each topic double nested for loop, going thru each entry, ordering matters\n",
    "    # make sure words arent the same, then compute the log(prob)\n",
    "    # add a bunhc of them and divide by total number of topics\n",
    "    for topic_idx in range(num_topics):\n",
    "        if verbose:\n",
    "            print('[Topic ', topic_idx, ']', sep='')\n",
    "        \n",
    "        sort_indices = np.argsort(topic_word_distributions[topic_idx])[::-1]\n",
    "        coherence = 0.\n",
    "        for top_word_idx1 in sort_indices[:num_top_words]:\n",
    "            word1 = vocab[top_word_idx1]\n",
    "            for top_word_idx2 in sort_indices[:num_top_words]:\n",
    "                word2 = vocab[top_word_idx2]\n",
    "                if top_word_idx1 != top_word_idx2:\n",
    "                    coherence += prob_see_word1_given_see_word2(word1, word2, vectorizer, 0.1)\n",
    "        \n",
    "        if verbose:\n",
    "            print('Coherence:', coherence)\n",
    "            print()\n",
    "        average_coherence += coherence\n",
    "    average_coherence /= num_topics\n",
    "    if verbose:\n",
    "        print('Average coherence:', average_coherence)\n",
    "    return average_coherence"
   ]
  },
  {
   "cell_type": "code",
   "execution_count": 91,
   "metadata": {},
   "outputs": [
    {
     "name": "stdout",
     "output_type": "stream",
     "text": [
      "[Topic 0]\n",
      "Coherence: -883.433278037819\n",
      "\n",
      "[Topic 1]\n",
      "Coherence: -1204.9568944144453\n",
      "\n",
      "[Topic 2]\n",
      "Coherence: -658.5193466692967\n",
      "\n",
      "[Topic 3]\n",
      "Coherence: -1262.9416512877067\n",
      "\n",
      "[Topic 4]\n",
      "Coherence: -1120.0387743529964\n",
      "\n",
      "[Topic 5]\n",
      "Coherence: -1068.283511244093\n",
      "\n",
      "[Topic 6]\n",
      "Coherence: -1018.020273866717\n",
      "\n",
      "[Topic 7]\n",
      "Coherence: -874.4985384459782\n",
      "\n",
      "[Topic 8]\n",
      "Coherence: -982.6298329129335\n",
      "\n",
      "[Topic 9]\n",
      "Coherence: -228.56240302255796\n",
      "\n",
      "Average coherence: -930.1884504254543\n"
     ]
    },
    {
     "data": {
      "text/plain": [
       "-930.1884504254543"
      ]
     },
     "execution_count": 91,
     "metadata": {},
     "output_type": "execute_result"
    }
   ],
   "source": [
    "compute_average_coherence(topic_word_distributions, num_top_words, tf_vectorizer, True)\n",
    "# These are negative, the highest possible is zero."
   ]
  },
  {
   "cell_type": "markdown",
   "metadata": {},
   "source": [
    "## Number of unique words\n",
    "\n",
    "The below code shows how one implements the number of unique words calculation from lecture."
   ]
  },
  {
   "cell_type": "code",
   "execution_count": 37,
   "metadata": {},
   "outputs": [],
   "source": [
    "# brute force implementation\n",
    "# nothing clever to speed upmcalculation\n",
    "\n",
    "#fro loop for each topic\n",
    "# For loop over each top word\n",
    "# another for loop for other topics\n",
    "# lok for all other top words in those other topics\n",
    "# check for uniqueness\n",
    "\n",
    "def compute_average_num_unique_words(topic_word_distributions, num_top_words, vectorizer, verbose=True):\n",
    "    vocab = vectorizer.get_feature_names()\n",
    "    num_topics = len(topic_word_distributions)\n",
    "    average_number_of_unique_top_words = 0\n",
    "    for topic_idx1 in range(num_topics):\n",
    "        if verbose:\n",
    "            print('[Topic ', topic_idx1, ']', sep='')\n",
    "        \n",
    "        sort_indices1 = np.argsort(topic_word_distributions[topic_idx1])[::-1]\n",
    "        num_unique_top_words = 0\n",
    "        for top_word_idx1 in sort_indices1[:num_top_words]:\n",
    "            word1 = vocab[top_word_idx1]\n",
    "            break_ = False\n",
    "            for topic_idx2 in range(num_topics):\n",
    "                if topic_idx1 != topic_idx2:\n",
    "                    sort_indices2 = np.argsort(topic_word_distributions[topic_idx2])[::-1]\n",
    "                    for top_word_idx2 in sort_indices2[:num_top_words]:\n",
    "                        word2 = vocab[top_word_idx2]\n",
    "                        if word1 == word2:\n",
    "                            break_ = True\n",
    "                            break\n",
    "                    if break_:\n",
    "                        break\n",
    "            else:\n",
    "                num_unique_top_words += 1\n",
    "        if verbose:\n",
    "            print('Number of unique top words:', num_unique_top_words)\n",
    "            print()\n",
    "\n",
    "        average_number_of_unique_top_words += num_unique_top_words\n",
    "    average_number_of_unique_top_words /= num_topics\n",
    "    \n",
    "    if verbose:\n",
    "        print('Average number of unique top words:', average_number_of_unique_top_words)\n",
    "    \n",
    "    return average_number_of_unique_top_words"
   ]
  },
  {
   "cell_type": "code",
   "execution_count": 38,
   "metadata": {},
   "outputs": [
    {
     "name": "stdout",
     "output_type": "stream",
     "text": [
      "[Topic 0]\n",
      "Number of unique top words: 9\n",
      "\n",
      "[Topic 1]\n",
      "Number of unique top words: 15\n",
      "\n",
      "[Topic 2]\n",
      "Number of unique top words: 19\n",
      "\n",
      "[Topic 3]\n",
      "Number of unique top words: 18\n",
      "\n",
      "[Topic 4]\n",
      "Number of unique top words: 12\n",
      "\n",
      "[Topic 5]\n",
      "Number of unique top words: 13\n",
      "\n",
      "[Topic 6]\n",
      "Number of unique top words: 14\n",
      "\n",
      "[Topic 7]\n",
      "Number of unique top words: 10\n",
      "\n",
      "[Topic 8]\n",
      "Number of unique top words: 8\n",
      "\n",
      "[Topic 9]\n",
      "Number of unique top words: 20\n",
      "\n",
      "Average number of unique top words: 13.8\n"
     ]
    },
    {
     "data": {
      "text/plain": [
       "13.8"
      ]
     },
     "execution_count": 38,
     "metadata": {},
     "output_type": "execute_result"
    }
   ],
   "source": [
    "compute_average_num_unique_words(topic_word_distributions, num_top_words, tf_vectorizer, True)"
   ]
  },
  {
   "cell_type": "markdown",
   "metadata": {},
   "source": [
    "## Plotting average coherence vs k (number of topics), and average number of unique words vs k\n",
    "\n",
    "Next, we plot the average coherence vs k and the average number of unique words vs k. Note that these are *not* the only topic model metrics available (much like how CH index is not the only metric available for clustering).\n",
    "\n",
    "For both average coherence and average number of unique words, we would like these to be high. In this particular example, it turns out k=2 yields very high values for both but if you look at the topics learned for k=2, they are qualitatively quite bad (basically one topic is gibberish and the other is everything else!). This observation reinforces the important idea that while there exist topic modeling metrics (such as coherence and number of unique words), you should definitely still look at what the learned topics are (e.g., by printing the top words per topic) to help decide on what value of k to use.\n",
    "\n",
    "Also, keep in mind that the results are in some sense \"noisy\" since the LDA fitting procedure is random. We're choosing a specific `random_state` seed value but if we try different random seeds, we can get different results. For simplicity, because LDA fitting is quite computationally expensive, we are *not* doing what we did with GMM's where we did many different random initializations. Thus, the conclusions we draw regarding how many topics to use might actually be different with different random initializations.\n",
    "\n",
    "At least according to average coherence and average number of unique words for the random seed we use, the results below suggests that using k=4 yields average coherence and average number of unique words that are still reasonably high (as good as or almost as good as the k=2 result), and inspecting the topics learned for k=4, they are definitely more interesting than the ones learned for k=2.\n",
    "\n",
    "From qualitatively looking at topics, the k=5, k=6, and k=7 topics also look decent. When k gets too large (e.g., k=10), there start to be topics that look like there might be too much overlap (such as multiple topics that seem to be about computers).\n",
    "\n",
    "Note that one of the things to look out for is whether there are \"stable\" topics, where even for slightly different values of k and different random initializations, LDA keeps finding specific topics (e.g., one on gibberish, one on numbers, etc)."
   ]
  },
  {
   "cell_type": "code",
   "execution_count": 39,
   "metadata": {},
   "outputs": [
    {
     "name": "stdout",
     "output_type": "stream",
     "text": [
      "--------------------------------------------------------------------------------\n",
      "Number of topics: 2\n",
      "\n",
      "Displaying the top 20 words per topic and their probabilities within the topic...\n",
      "\n",
      "[Topic 0]\n",
      "ax : 0.6670609408224907\n",
      "max : 0.04897290356354059\n",
      "g9v : 0.013114422643457437\n",
      "b8f : 0.01275949912939879\n",
      "a86 : 0.010547142707890972\n",
      "pl : 0.008819612623778256\n",
      "145 : 0.00881675090221303\n",
      "1d9 : 0.007305507436215006\n",
      "db : 0.007159573058301496\n",
      "1t : 0.00557821214241208\n",
      "0t : 0.005377089263425004\n",
      "25 : 0.005211780342996569\n",
      "bhj : 0.005104981847457374\n",
      "3t : 0.004773718255446174\n",
      "34u : 0.004726396579798662\n",
      "giz : 0.004584428325550535\n",
      "2di : 0.0045371051926778325\n",
      "55 : 0.004286549836996119\n",
      "14 : 0.004247079858618981\n",
      "wm : 0.004101448384177003\n",
      "\n",
      "[Topic 1]\n",
      "people : 0.00898805018321434\n",
      "like : 0.008724015906915197\n",
      "don : 0.008445318198979547\n",
      "just : 0.008117711165098762\n",
      "know : 0.007726560502119272\n",
      "use : 0.006807342121575315\n",
      "time : 0.006601978036055969\n",
      "think : 0.0065897670065797375\n",
      "does : 0.00599569573547193\n",
      "new : 0.005707662001047904\n",
      "good : 0.005477410696991825\n",
      "edu : 0.005188926692129768\n",
      "make : 0.004467734634022856\n",
      "way : 0.004391946942939348\n",
      "god : 0.0042037116677492575\n",
      "used : 0.00410836241940848\n",
      "say : 0.004042354681202132\n",
      "ve : 0.004042230793685092\n",
      "right : 0.004015407615464605\n",
      "file : 0.003959205422499352\n",
      "\n",
      "\n",
      "\n",
      "--------------------------------------------------------------------------------\n",
      "Number of topics: 3\n",
      "\n",
      "Displaying the top 20 words per topic and their probabilities within the topic...\n",
      "\n",
      "[Topic 0]\n",
      "people : 0.013987379438521899\n",
      "don : 0.011524660963375346\n",
      "just : 0.010967976112691066\n",
      "think : 0.010217784634479091\n",
      "like : 0.009964277649120086\n",
      "know : 0.009234223571289897\n",
      "time : 0.00818251395696018\n",
      "good : 0.007331228467660352\n",
      "god : 0.006936159078250954\n",
      "said : 0.0063851562833832035\n",
      "say : 0.00634022436925281\n",
      "did : 0.005991990842787771\n",
      "right : 0.005942281837723303\n",
      "new : 0.005741586103397407\n",
      "way : 0.005672662128082932\n",
      "does : 0.005643696594475116\n",
      "make : 0.005429269467006293\n",
      "ve : 0.004878420810829421\n",
      "years : 0.004864967623517497\n",
      "going : 0.004673802945477092\n",
      "\n",
      "[Topic 1]\n",
      "use : 0.01244773450065218\n",
      "edu : 0.01126346019083091\n",
      "file : 0.009899941300464012\n",
      "program : 0.007018677072679079\n",
      "information : 0.006912590192704493\n",
      "available : 0.006853780538031965\n",
      "data : 0.006844735735509173\n",
      "like : 0.006720850461439024\n",
      "com : 0.006638007030520864\n",
      "does : 0.006444410483775505\n",
      "mail : 0.006332373100478364\n",
      "windows : 0.006315044731545731\n",
      "using : 0.006245824476178379\n",
      "key : 0.006193923454661427\n",
      "thanks : 0.005966709211683629\n",
      "drive : 0.005867773459190474\n",
      "used : 0.005786160568218421\n",
      "new : 0.005598871363047167\n",
      "know : 0.005332454197272463\n",
      "software : 0.0052909641829535685\n",
      "\n",
      "[Topic 2]\n",
      "ax : 0.68604063105398\n",
      "max : 0.05009072233000451\n",
      "g9v : 0.013485575446910127\n",
      "b8f : 0.01312055234170118\n",
      "a86 : 0.010845241613434808\n",
      "pl : 0.009068576651875217\n",
      "145 : 0.009035086598061274\n",
      "1d9 : 0.00751136296576256\n",
      "db : 0.007365489778231076\n",
      "1t : 0.005734915903615353\n",
      "0t : 0.0055280700414600615\n",
      "bhj : 0.005248219820615878\n",
      "3t : 0.0049075292549175895\n",
      "34u : 0.004858861948257405\n",
      "giz : 0.004712853760341552\n",
      "2di : 0.0046641840133856026\n",
      "25 : 0.00455579193842999\n",
      "55 : 0.004226656256448206\n",
      "wm : 0.004196597365437893\n",
      "14 : 0.004000263167269867\n",
      "\n",
      "\n",
      "\n",
      "--------------------------------------------------------------------------------\n",
      "Number of topics: 4\n",
      "\n",
      "Displaying the top 20 words per topic and their probabilities within the topic...\n",
      "\n",
      "[Topic 0]\n",
      "10 : 0.020775606453347972\n",
      "00 : 0.015890839621149584\n",
      "20 : 0.01370862334313512\n",
      "25 : 0.013601644987850624\n",
      "year : 0.013594635673486039\n",
      "game : 0.012965301259011644\n",
      "15 : 0.01281446793442682\n",
      "team : 0.012416605185666847\n",
      "12 : 0.01200158843407778\n",
      "11 : 0.011583394324247782\n",
      "new : 0.011183206859657917\n",
      "14 : 0.010589397196093081\n",
      "50 : 0.010024991529015564\n",
      "16 : 0.009833008522346818\n",
      "30 : 0.009705445241436112\n",
      "17 : 0.009353751988371137\n",
      "13 : 0.00920312973948339\n",
      "games : 0.00882507455924421\n",
      "18 : 0.008546215566491976\n",
      "40 : 0.007990140347664858\n",
      "\n",
      "[Topic 1]\n",
      "use : 0.013276949661338217\n",
      "edu : 0.012267336422302898\n",
      "file : 0.011566434456562217\n",
      "program : 0.008065671587659575\n",
      "available : 0.007681160188932213\n",
      "information : 0.007480435404680009\n",
      "data : 0.007434941850183757\n",
      "windows : 0.007399896886108286\n",
      "com : 0.007340443977972629\n",
      "like : 0.007152698596414284\n",
      "does : 0.007096002799591012\n",
      "mail : 0.007033384374437087\n",
      "using : 0.0069138854531540644\n",
      "thanks : 0.006892248571444717\n",
      "drive : 0.006788681866371032\n",
      "software : 0.006203964578431319\n",
      "used : 0.005965791036499411\n",
      "know : 0.005872577507701732\n",
      "space : 0.005619311028569055\n",
      "files : 0.005423185775158846\n",
      "\n",
      "[Topic 2]\n",
      "ax : 0.7694336151809155\n",
      "max : 0.05590620315698597\n",
      "g9v : 0.015123723771983425\n",
      "b8f : 0.01471432929726028\n",
      "a86 : 0.012162431729599878\n",
      "pl : 0.010169665152511954\n",
      "145 : 0.009876385397348647\n",
      "1d9 : 0.00842326069634432\n",
      "1t : 0.006430858200869931\n",
      "0t : 0.006198902004432631\n",
      "bhj : 0.005885015641233298\n",
      "3t : 0.005502916442890248\n",
      "34u : 0.005448338232758139\n",
      "giz : 0.0052846043454822305\n",
      "2di : 0.005230018373874223\n",
      "wm : 0.004676695241138819\n",
      "2tm : 0.004438521790306373\n",
      "75u : 0.004438519274554816\n",
      "7ey : 0.003565146249628605\n",
      "0d : 0.0031420297101864476\n",
      "\n",
      "[Topic 3]\n",
      "people : 0.015795911140035916\n",
      "don : 0.012761597900782592\n",
      "just : 0.011936575887743144\n",
      "think : 0.010999709691428675\n",
      "like : 0.010753928501201888\n",
      "know : 0.010324843095132303\n",
      "time : 0.008613581455996083\n",
      "god : 0.007712410358519168\n",
      "say : 0.007084985395544734\n",
      "said : 0.0068370461766585336\n",
      "good : 0.006593197861237151\n",
      "does : 0.006503028570432555\n",
      "did : 0.0063234864798292\n",
      "right : 0.006271311549565499\n",
      "way : 0.006110322587408365\n",
      "make : 0.005871057599517065\n",
      "ve : 0.005157698494190836\n",
      "believe : 0.005155273774726601\n",
      "going : 0.0050781770001162\n",
      "government : 0.004975447044627339\n",
      "\n",
      "\n",
      "\n",
      "--------------------------------------------------------------------------------\n",
      "Number of topics: 5\n",
      "\n",
      "Displaying the top 20 words per topic and their probabilities within the topic...\n",
      "\n",
      "[Topic 0]\n",
      "just : 0.01788986875726951\n",
      "don : 0.01755711550967227\n",
      "like : 0.016386048145262958\n",
      "know : 0.01524576861274901\n",
      "think : 0.014491329975876854\n",
      "good : 0.01276034503962281\n",
      "time : 0.011471087014762548\n",
      "people : 0.011219407785017697\n",
      "ve : 0.00858172660641144\n",
      "did : 0.008116535351038309\n",
      "say : 0.007875888166202504\n",
      "said : 0.007678048035553154\n",
      "way : 0.007542137242486355\n",
      "going : 0.007408145097860342\n",
      "god : 0.0074071880880660305\n",
      "really : 0.007234901025242828\n",
      "didn : 0.006692126916253543\n",
      "right : 0.006667378655305287\n",
      "ll : 0.006630570931032463\n",
      "make : 0.006455959390314091\n",
      "\n",
      "[Topic 1]\n",
      "use : 0.014335647877248416\n",
      "file : 0.01328286066822729\n",
      "edu : 0.011739138588429163\n",
      "windows : 0.008689762826347727\n",
      "program : 0.008652474941699548\n",
      "available : 0.008243612862010944\n",
      "using : 0.007731496553926784\n",
      "data : 0.00771268913740636\n",
      "drive : 0.007664969613300175\n",
      "mail : 0.0076012461807667756\n",
      "does : 0.007511142367459826\n",
      "com : 0.007497719500632217\n",
      "thanks : 0.007330801561702594\n",
      "software : 0.007274022927197559\n",
      "information : 0.007128754550897665\n",
      "like : 0.006685961466907405\n",
      "files : 0.006285441223146031\n",
      "version : 0.006170161674869499\n",
      "used : 0.006165552309976762\n",
      "ftp : 0.006036171238656391\n",
      "\n",
      "[Topic 2]\n",
      "10 : 0.024353843289057202\n",
      "00 : 0.019294286330864854\n",
      "25 : 0.015878390555695204\n",
      "20 : 0.015827143003794033\n",
      "15 : 0.015639730168933063\n",
      "12 : 0.015220670126098361\n",
      "11 : 0.014532714538286085\n",
      "space : 0.01422197905910557\n",
      "14 : 0.013202131067711839\n",
      "16 : 0.012547268137490181\n",
      "17 : 0.011526340617938358\n",
      "new : 0.011458708594472995\n",
      "13 : 0.011406768858740368\n",
      "18 : 0.011265357386054142\n",
      "30 : 0.0111825719875938\n",
      "50 : 0.011024513142984154\n",
      "1993 : 0.010454359422598706\n",
      "edu : 0.009536001262584526\n",
      "40 : 0.009457996901332411\n",
      "24 : 0.009286948231365763\n",
      "\n",
      "[Topic 3]\n",
      "people : 0.0178399256980091\n",
      "government : 0.009986220466769547\n",
      "law : 0.008382618743940959\n",
      "key : 0.008077617684382749\n",
      "use : 0.006580405294050447\n",
      "does : 0.0061882231764507\n",
      "mr : 0.006127602753321975\n",
      "god : 0.006059964929970658\n",
      "gun : 0.0060319137039072475\n",
      "state : 0.005851973769972758\n",
      "public : 0.005584139747842319\n",
      "don : 0.005417000586981113\n",
      "db : 0.005401382408991808\n",
      "right : 0.005245771246385886\n",
      "think : 0.0052296939644315525\n",
      "time : 0.005053885686666727\n",
      "fact : 0.005047232271562822\n",
      "believe : 0.005040817942256452\n",
      "make : 0.005036157216503352\n",
      "president : 0.004997775132483828\n",
      "\n",
      "[Topic 4]\n",
      "ax : 0.7685586473392421\n",
      "max : 0.05579735161776002\n",
      "g9v : 0.015105858999712783\n",
      "b8f : 0.014696929029633137\n",
      "a86 : 0.012147934763857596\n",
      "pl : 0.010123673188735622\n",
      "145 : 0.009894126036774125\n",
      "1d9 : 0.008413042149865624\n",
      "1t : 0.006422912313133303\n",
      "0t : 0.00619118545087805\n",
      "bhj : 0.005877678236271994\n",
      "3t : 0.005495997712040084\n",
      "34u : 0.005441482595443563\n",
      "giz : 0.005277918016504323\n",
      "2di : 0.005223393985632816\n",
      "wm : 0.004666691661868891\n",
      "2tm : 0.004432796847972883\n",
      "75u : 0.0044327955653250825\n",
      "7ey : 0.0035604137127846795\n",
      "0d : 0.0031378082029156784\n",
      "\n",
      "\n",
      "\n"
     ]
    },
    {
     "name": "stdout",
     "output_type": "stream",
     "text": [
      "--------------------------------------------------------------------------------\n",
      "Number of topics: 6\n",
      "\n",
      "Displaying the top 20 words per topic and their probabilities within the topic...\n",
      "\n",
      "[Topic 0]\n",
      "like : 0.016852479569330253\n",
      "just : 0.01624908857341225\n",
      "don : 0.01432168553200919\n",
      "good : 0.014036402102538266\n",
      "think : 0.012288120987062752\n",
      "time : 0.010978590575114808\n",
      "know : 0.010511006543471495\n",
      "year : 0.00907102511248688\n",
      "ve : 0.008935106759377025\n",
      "new : 0.007749648930000116\n",
      "make : 0.007203414753732119\n",
      "game : 0.006984723567373855\n",
      "really : 0.006972371761322122\n",
      "got : 0.006968159542501393\n",
      "car : 0.006801159432506462\n",
      "way : 0.006668961381068071\n",
      "ll : 0.00664002541785189\n",
      "going : 0.006382567779276912\n",
      "better : 0.006331053807802954\n",
      "years : 0.006279998362410046\n",
      "\n",
      "[Topic 1]\n",
      "file : 0.014684399342629453\n",
      "use : 0.014099134117677867\n",
      "windows : 0.010163634821532165\n",
      "program : 0.009171897841265509\n",
      "does : 0.008546948639464508\n",
      "drive : 0.008483613061925693\n",
      "edu : 0.008365693100682532\n",
      "software : 0.008197953667931447\n",
      "thanks : 0.007978565222922599\n",
      "using : 0.00795437668874942\n",
      "available : 0.0077450955684646525\n",
      "data : 0.007258479078655452\n",
      "like : 0.007236749360850795\n",
      "mail : 0.007160801942510292\n",
      "files : 0.006983935748058578\n",
      "card : 0.006944423921097715\n",
      "version : 0.006902729510591516\n",
      "know : 0.006690034282180732\n",
      "ftp : 0.0064153556413757435\n",
      "window : 0.006276827647030434\n",
      "\n",
      "[Topic 2]\n",
      "10 : 0.021815903293409548\n",
      "edu : 0.018380285479533454\n",
      "00 : 0.01803483082137648\n",
      "25 : 0.014346641377615056\n",
      "15 : 0.014006473300625374\n",
      "20 : 0.013852657886336503\n",
      "12 : 0.013794799397224312\n",
      "11 : 0.013765440740076308\n",
      "space : 0.012364813795544105\n",
      "14 : 0.012087206613976949\n",
      "16 : 0.011563089974008333\n",
      "13 : 0.010760464070105856\n",
      "17 : 0.010744102379030224\n",
      "18 : 0.010581320050873477\n",
      "1993 : 0.010443881296028176\n",
      "new : 0.009941470382695364\n",
      "30 : 0.009414776602491102\n",
      "50 : 0.009184951410556724\n",
      "24 : 0.00894451550016259\n",
      "university : 0.008727802570915301\n",
      "\n",
      "[Topic 3]\n",
      "people : 0.014054283476713081\n",
      "key : 0.013209886651381786\n",
      "government : 0.012939236222488508\n",
      "law : 0.011905292967421755\n",
      "use : 0.010790266780879182\n",
      "gun : 0.008957383167459915\n",
      "public : 0.00861957495511258\n",
      "db : 0.008173298248367065\n",
      "state : 0.007676815674760135\n",
      "encryption : 0.006892653708530188\n",
      "used : 0.0068311658156582\n",
      "right : 0.006082953920414708\n",
      "does : 0.005995112438565502\n",
      "make : 0.0056963925958670066\n",
      "security : 0.005643721068334067\n",
      "states : 0.0056279950550295315\n",
      "don : 0.005382255862901452\n",
      "information : 0.0053745945845739915\n",
      "number : 0.0053469989355769765\n",
      "chip : 0.005195152121240399\n",
      "\n",
      "[Topic 4]\n",
      "people : 0.022516118466123676\n",
      "god : 0.018959647828147807\n",
      "don : 0.013423499150045686\n",
      "know : 0.013379340217087539\n",
      "said : 0.013067219553566612\n",
      "think : 0.011459323017328415\n",
      "just : 0.01136021830522689\n",
      "say : 0.010329683194737671\n",
      "did : 0.009679356460128415\n",
      "like : 0.009010560243454594\n",
      "jesus : 0.008763317267492172\n",
      "time : 0.00852354754555519\n",
      "believe : 0.008112383349375724\n",
      "does : 0.007360582520571009\n",
      "mr : 0.006698183820263974\n",
      "way : 0.006385355120724336\n",
      "armenian : 0.006155863843635275\n",
      "life : 0.005743294932649253\n",
      "world : 0.005738305093824698\n",
      "things : 0.005730775986188089\n",
      "\n",
      "[Topic 5]\n",
      "ax : 0.7683372376306211\n",
      "max : 0.055781543045980056\n",
      "g9v : 0.015101062245049828\n",
      "b8f : 0.014692250116136429\n",
      "a86 : 0.01214398848156198\n",
      "pl : 0.010118777713597074\n",
      "145 : 0.009906887185733303\n",
      "1d9 : 0.008410171226900636\n",
      "1t : 0.006420617594518415\n",
      "0t : 0.006188957377092919\n",
      "bhj : 0.005875536516572994\n",
      "3t : 0.005493974745897464\n",
      "34u : 0.005439469299154595\n",
      "giz : 0.005275946436316086\n",
      "2di : 0.0052214381605485945\n",
      "wm : 0.004667039118601915\n",
      "2tm : 0.004431068229625176\n",
      "75u : 0.004431067899009933\n",
      "7ey : 0.0035589358875741774\n",
      "cx : 0.0033107144431898075\n",
      "\n",
      "\n",
      "\n",
      "--------------------------------------------------------------------------------\n",
      "Number of topics: 7\n",
      "\n",
      "Displaying the top 20 words per topic and their probabilities within the topic...\n",
      "\n",
      "[Topic 0]\n",
      "like : 0.017829035658076316\n",
      "just : 0.016967162883081574\n",
      "good : 0.01588049515401469\n",
      "don : 0.0141335431317534\n",
      "think : 0.0120981370364379\n",
      "time : 0.011168025495623677\n",
      "know : 0.009810679625777237\n",
      "year : 0.009551121929627114\n",
      "ve : 0.0088104994782204\n",
      "new : 0.007977488084654876\n",
      "game : 0.007897277764507368\n",
      "really : 0.007436913414854621\n",
      "make : 0.007243692646968024\n",
      "car : 0.007226097605720573\n",
      "better : 0.007118680679023743\n",
      "got : 0.007051795626240988\n",
      "way : 0.006919298167688\n",
      "years : 0.006291294524424631\n",
      "team : 0.006184877235266438\n",
      "right : 0.006170630218570102\n",
      "\n",
      "[Topic 1]\n",
      "file : 0.015615156171206193\n",
      "use : 0.014186847573469306\n",
      "windows : 0.010326170351063793\n",
      "program : 0.009297015395362197\n",
      "drive : 0.008658166342739186\n",
      "software : 0.008390653074867919\n",
      "does : 0.008388253612561859\n",
      "using : 0.008048226290499717\n",
      "thanks : 0.008034733681416596\n",
      "edu : 0.00779893785267434\n",
      "available : 0.007692915544929095\n",
      "files : 0.007198408425196097\n",
      "card : 0.007169341564361409\n",
      "like : 0.007153422106531535\n",
      "data : 0.007031346468962803\n",
      "version : 0.0069552668750789935\n",
      "mail : 0.0068786447104656565\n",
      "know : 0.006546925634983991\n",
      "window : 0.0063578963219649304\n",
      "problem : 0.0063573851446217956\n",
      "\n",
      "[Topic 2]\n",
      "10 : 0.02205483183114173\n",
      "edu : 0.01949122102787648\n",
      "00 : 0.018245947709002286\n",
      "25 : 0.014388159272812328\n",
      "15 : 0.014186533582213516\n",
      "12 : 0.014021331089184158\n",
      "20 : 0.013983503222042955\n",
      "11 : 0.013962456662952205\n",
      "space : 0.013311825146601914\n",
      "14 : 0.012054671704414542\n",
      "16 : 0.011420189084481638\n",
      "13 : 0.010826406189119531\n",
      "17 : 0.010765250659190486\n",
      "1993 : 0.010577851372959477\n",
      "18 : 0.01044367907986733\n",
      "new : 0.010046128754133521\n",
      "30 : 0.009530351965624458\n",
      "50 : 0.00923767191424363\n",
      "24 : 0.00907196765849678\n",
      "university : 0.00878790722884679\n",
      "\n",
      "[Topic 3]\n",
      "key : 0.01800660906978901\n",
      "government : 0.014289806229344726\n",
      "use : 0.013392912240594185\n",
      "gun : 0.011940602564933383\n",
      "law : 0.011315145256077451\n",
      "db : 0.01102164971314816\n",
      "public : 0.01075905653405362\n",
      "people : 0.010666502862830683\n",
      "encryption : 0.00928684949995958\n",
      "chip : 0.007710219777670045\n",
      "used : 0.007466027415875519\n",
      "security : 0.00736173387282621\n",
      "state : 0.006983957793806743\n",
      "control : 0.00669931550303187\n",
      "keys : 0.006540765470165359\n",
      "number : 0.006536663158213455\n",
      "clipper : 0.0064013744620944795\n",
      "privacy : 0.006210533192503303\n",
      "information : 0.005989612884353921\n",
      "make : 0.005894046622100199\n",
      "\n",
      "[Topic 4]\n",
      "people : 0.027940492096063682\n",
      "don : 0.017733919199035594\n",
      "said : 0.017161206880436805\n",
      "know : 0.016831191462503392\n",
      "just : 0.01341203639960515\n",
      "think : 0.012978914267683337\n",
      "did : 0.011581335241183781\n",
      "like : 0.010359404215777348\n",
      "going : 0.009918865021318748\n",
      "say : 0.009660452752960496\n",
      "mr : 0.009638214840079087\n",
      "time : 0.009511945756932847\n",
      "didn : 0.009118489827328715\n",
      "armenian : 0.008272743373564519\n",
      "right : 0.007113216304728201\n",
      "want : 0.007072928593435861\n",
      "president : 0.007006147876163486\n",
      "armenians : 0.006773043856663243\n",
      "ve : 0.006768157094540119\n",
      "turkish : 0.006283041556202234\n",
      "\n",
      "[Topic 5]\n",
      "ax : 0.7684671646505757\n",
      "max : 0.05578130264602271\n",
      "g9v : 0.015103297797248798\n",
      "b8f : 0.0146944164219419\n",
      "a86 : 0.012145722768302806\n",
      "pl : 0.010119611664950635\n",
      "145 : 0.009896058325559759\n",
      "1d9 : 0.008411272996077761\n",
      "1t : 0.006421383205613338\n",
      "0t : 0.0061896837289940184\n",
      "bhj : 0.005876208656622851\n",
      "3t : 0.00549458468961693\n",
      "34u : 0.0054400681477923\n",
      "giz : 0.005276516325699887\n",
      "2di : 0.005221998811577763\n",
      "wm : 0.004667560554911541\n",
      "2tm : 0.00443149489202925\n",
      "75u : 0.004431494768341797\n",
      "7ey : 0.0035592147026092327\n",
      "cx : 0.0035218387215253883\n",
      "\n",
      "[Topic 6]\n",
      "god : 0.030466227611854337\n",
      "jesus : 0.014268222820384709\n",
      "people : 0.014077554732074806\n",
      "does : 0.013116235482918112\n",
      "believe : 0.010887373038089988\n",
      "israel : 0.00893202733613483\n",
      "christian : 0.008832688982006079\n",
      "bible : 0.008561705295926397\n",
      "true : 0.008338171554544157\n",
      "say : 0.008201329034166297\n",
      "think : 0.007794427072508322\n",
      "life : 0.007753579926468761\n",
      "church : 0.00754561925678073\n",
      "question : 0.007398164489349969\n",
      "religion : 0.006487366095143022\n",
      "faith : 0.0064375153505617285\n",
      "christ : 0.006280904439057572\n",
      "christians : 0.006258098302843449\n",
      "way : 0.006243292939675113\n",
      "point : 0.0060150203404209495\n",
      "\n",
      "\n",
      "\n",
      "--------------------------------------------------------------------------------\n",
      "Number of topics: 8\n",
      "\n",
      "Displaying the top 20 words per topic and their probabilities within the topic...\n",
      "\n",
      "[Topic 0]\n",
      "like : 0.017661001366634312\n",
      "just : 0.016866606325517113\n",
      "good : 0.016185365929317633\n",
      "don : 0.014220124835484625\n",
      "think : 0.011534850091803652\n",
      "time : 0.011208080557975517\n",
      "year : 0.010238062877606598\n",
      "know : 0.010061470659389418\n",
      "ve : 0.009095127769626954\n",
      "new : 0.008359869162322606\n",
      "game : 0.008229422828407875\n",
      "car : 0.00774755648361833\n",
      "really : 0.007473629499084065\n",
      "make : 0.0073903849890153\n",
      "got : 0.007227359419145756\n",
      "better : 0.007184019628962949\n",
      "way : 0.0068432272093408575\n",
      "ll : 0.006464853766416209\n",
      "team : 0.006457862531771675\n",
      "years : 0.006445413687116738\n",
      "\n",
      "[Topic 1]\n",
      "use : 0.014423728653978465\n",
      "file : 0.012381234894502144\n",
      "windows : 0.01215212554781952\n",
      "drive : 0.010204610555986631\n",
      "program : 0.009567308170146097\n",
      "does : 0.009358234567371048\n",
      "using : 0.008830810635433147\n",
      "card : 0.008343135987445774\n",
      "thanks : 0.008329872605144277\n",
      "software : 0.008231538644113391\n",
      "version : 0.007777843273367926\n",
      "like : 0.007644264115855421\n",
      "window : 0.007497499823544402\n",
      "problem : 0.007486899473908847\n",
      "dos : 0.007293619631793128\n",
      "image : 0.0071517838806143905\n",
      "know : 0.007099478844245626\n",
      "scsi : 0.006981563986623095\n",
      "files : 0.006936792549573861\n",
      "graphics : 0.006821902909722337\n",
      "\n",
      "[Topic 2]\n",
      "10 : 0.0321393562384871\n",
      "00 : 0.027401034052146143\n",
      "25 : 0.022109258720895357\n",
      "11 : 0.021123805405801156\n",
      "15 : 0.020901114367972533\n",
      "12 : 0.020749773281693463\n",
      "20 : 0.020730858616827184\n",
      "14 : 0.018664930285562584\n",
      "16 : 0.018208125180919188\n",
      "17 : 0.016491699262545866\n",
      "13 : 0.016362321996789678\n",
      "18 : 0.015392566359377288\n",
      "24 : 0.01373613339743992\n",
      "50 : 0.013221113556174459\n",
      "30 : 0.0132166210485867\n",
      "19 : 0.01257184418146775\n",
      "55 : 0.012422147000617457\n",
      "21 : 0.01235082366937971\n",
      "40 : 0.012341784342925264\n",
      "23 : 0.011258793493614343\n",
      "\n",
      "[Topic 3]\n",
      "key : 0.02513317274301868\n",
      "government : 0.01911745999987274\n",
      "gun : 0.016781967437429032\n",
      "use : 0.015563194721814753\n",
      "db : 0.015449234604217916\n",
      "law : 0.013641702326974241\n",
      "encryption : 0.012329348351085252\n",
      "chip : 0.011672097424691798\n",
      "people : 0.01008871096541619\n",
      "public : 0.01008382216625293\n",
      "keys : 0.009156908890308364\n",
      "clipper : 0.008977680963315216\n",
      "used : 0.008576281443049442\n",
      "guns : 0.0076810595002643365\n",
      "number : 0.007662337749576472\n",
      "control : 0.007304496313123503\n",
      "security : 0.007262506820998999\n",
      "state : 0.006920459974583096\n",
      "bit : 0.006900738744266417\n",
      "make : 0.006327598108311477\n",
      "\n",
      "[Topic 4]\n",
      "people : 0.024887139697562826\n",
      "said : 0.020969477483719582\n",
      "know : 0.015062099253364209\n",
      "don : 0.013073988635596516\n",
      "mr : 0.012202594755682358\n",
      "did : 0.011799291498782583\n",
      "armenian : 0.011151352972789018\n",
      "going : 0.010884620721062213\n",
      "didn : 0.010526919971877418\n",
      "president : 0.010119118720817959\n",
      "just : 0.009918308988397673\n",
      "time : 0.009522441062580036\n",
      "think : 0.009461136850750475\n",
      "armenians : 0.009129748124515875\n",
      "turkish : 0.00846922321899605\n",
      "like : 0.008284154648535543\n",
      "say : 0.00798588999782298\n",
      "went : 0.007768814905213023\n",
      "war : 0.0071963719818615044\n",
      "told : 0.006949709018715218\n",
      "\n",
      "[Topic 5]\n",
      "ax : 0.7711893587818562\n",
      "max : 0.0559542273907728\n",
      "g9v : 0.015156559803946878\n",
      "b8f : 0.014746229918060953\n",
      "a86 : 0.012188506975756679\n",
      "pl : 0.010150072669210678\n",
      "145 : 0.009899146883979172\n",
      "1d9 : 0.008440826927797771\n",
      "1t : 0.006443887787942356\n",
      "0t : 0.006211367948434271\n",
      "bhj : 0.005896781707820299\n",
      "3t : 0.005513806686448754\n",
      "34u : 0.005459096523850719\n",
      "giz : 0.005294965122729864\n",
      "2di : 0.005240254464921044\n",
      "wm : 0.004686555168112836\n",
      "2tm : 0.004446950043732632\n",
      "75u : 0.004446949965272228\n",
      "7ey : 0.0035715796395607833\n",
      "0d : 0.003147569707121064\n",
      "\n",
      "[Topic 6]\n",
      "edu : 0.020258005577058102\n",
      "information : 0.018054330270947612\n",
      "space : 0.015401707346716424\n",
      "mail : 0.014022074421910844\n",
      "com : 0.012276052521184716\n",
      "file : 0.011722450391621772\n",
      "send : 0.010574219459879944\n",
      "list : 0.01044350563583072\n",
      "available : 0.009372790383732387\n",
      "university : 0.00924721184464295\n",
      "new : 0.00894135853884839\n",
      "internet : 0.008889356186057327\n",
      "research : 0.008629968472021568\n",
      "data : 0.008398654806017737\n",
      "email : 0.008376287346056013\n",
      "nasa : 0.00837495038392586\n",
      "anonymous : 0.007980649560909735\n",
      "address : 0.007507564553577955\n",
      "ftp : 0.007503942031897771\n",
      "computer : 0.007312447254529496\n",
      "\n",
      "[Topic 7]\n",
      "god : 0.021211670592902524\n",
      "people : 0.01932816808591011\n",
      "think : 0.01264690641131503\n",
      "don : 0.012231786264765837\n",
      "does : 0.01205294816757208\n",
      "just : 0.010700113360800064\n",
      "believe : 0.010543942149482385\n",
      "jesus : 0.009893312119046212\n",
      "say : 0.009839471792239337\n",
      "know : 0.009515796489662921\n",
      "like : 0.008773553704861584\n",
      "time : 0.007256185089332646\n",
      "way : 0.007250653178948299\n",
      "true : 0.0070260883968934346\n",
      "question : 0.006725422490598352\n",
      "life : 0.0065649652969491335\n",
      "make : 0.006464572558674824\n",
      "good : 0.006440231163175911\n",
      "things : 0.0063245077339640346\n",
      "point : 0.006211538865620111\n",
      "\n",
      "\n",
      "\n"
     ]
    },
    {
     "name": "stdout",
     "output_type": "stream",
     "text": [
      "--------------------------------------------------------------------------------\n",
      "Number of topics: 9\n",
      "\n",
      "Displaying the top 20 words per topic and their probabilities within the topic...\n",
      "\n",
      "[Topic 0]\n",
      "like : 0.016290666444561043\n",
      "just : 0.016109572302259314\n",
      "good : 0.01591998408545131\n",
      "don : 0.01345682928131839\n",
      "think : 0.01267532379437271\n",
      "year : 0.012031043180593363\n",
      "time : 0.011506208971841377\n",
      "game : 0.0095936756698935\n",
      "car : 0.008861658870142054\n",
      "new : 0.008491789796663759\n",
      "ve : 0.00829786816819498\n",
      "know : 0.0078067833055090775\n",
      "team : 0.007707870425712116\n",
      "make : 0.007674871319121082\n",
      "got : 0.007590768892011672\n",
      "years : 0.007521317603459092\n",
      "better : 0.007518048145453325\n",
      "really : 0.007346372828973151\n",
      "way : 0.007034423360390621\n",
      "power : 0.006566448188612813\n",
      "\n",
      "[Topic 1]\n",
      "drive : 0.015355231395836447\n",
      "use : 0.012559908422174576\n",
      "card : 0.011884579329690953\n",
      "file : 0.010715825975593545\n",
      "dos : 0.010264631487329215\n",
      "scsi : 0.010213702586526673\n",
      "disk : 0.00980979067318461\n",
      "software : 0.009777678629631031\n",
      "windows : 0.009089278470122012\n",
      "output : 0.008908559762058713\n",
      "program : 0.008850370933872623\n",
      "pc : 0.00879408146612969\n",
      "mac : 0.008695904083631504\n",
      "version : 0.008565966751210267\n",
      "bit : 0.008356445695350767\n",
      "available : 0.0079203296723622\n",
      "data : 0.007862687522739291\n",
      "using : 0.007559820136801286\n",
      "memory : 0.007374272389157403\n",
      "graphics : 0.006996138114178558\n",
      "\n",
      "[Topic 2]\n",
      "10 : 0.03259595500403585\n",
      "00 : 0.027458258523894066\n",
      "25 : 0.022241790633267193\n",
      "11 : 0.021703064879917067\n",
      "15 : 0.021100612635025648\n",
      "12 : 0.020702019961833518\n",
      "20 : 0.02065322306164026\n",
      "14 : 0.018963443912077133\n",
      "16 : 0.01758453084887431\n",
      "17 : 0.017079653636598024\n",
      "18 : 0.016823140412694174\n",
      "13 : 0.01681217395503477\n",
      "24 : 0.013625759689938424\n",
      "30 : 0.013231584439439018\n",
      "19 : 0.013195740624319595\n",
      "21 : 0.013059166511249538\n",
      "55 : 0.012878149024772143\n",
      "50 : 0.012614666603984732\n",
      "1993 : 0.012426639548509194\n",
      "40 : 0.012030551064452609\n",
      "\n",
      "[Topic 3]\n",
      "key : 0.023818024974100932\n",
      "government : 0.019567261091960143\n",
      "gun : 0.01617482571941761\n",
      "use : 0.015009725824652424\n",
      "db : 0.014752485504738958\n",
      "law : 0.014301152014809144\n",
      "encryption : 0.011972229607872706\n",
      "chip : 0.01096827240182045\n",
      "public : 0.010886803841178723\n",
      "people : 0.009753634308839448\n",
      "keys : 0.008747776718467298\n",
      "clipper : 0.008527619065533443\n",
      "state : 0.008383659756993565\n",
      "used : 0.008121190524315217\n",
      "control : 0.007863005251055525\n",
      "states : 0.007660020522145991\n",
      "security : 0.007562347080395562\n",
      "number : 0.007519688492694022\n",
      "guns : 0.007322302085650049\n",
      "private : 0.006143477546789012\n",
      "\n",
      "[Topic 4]\n",
      "people : 0.024464346175928676\n",
      "said : 0.022093259490519532\n",
      "know : 0.014674912728296376\n",
      "mr : 0.013071067999804589\n",
      "don : 0.012797259408076567\n",
      "did : 0.012199270708349988\n",
      "armenian : 0.01180250811552727\n",
      "going : 0.010906337510684072\n",
      "didn : 0.010680180547700683\n",
      "president : 0.010184523418148803\n",
      "just : 0.009834948699968149\n",
      "armenians : 0.009662803350892191\n",
      "time : 0.00944111430951646\n",
      "turkish : 0.008963691654384754\n",
      "think : 0.008659311396368904\n",
      "went : 0.008311690620289648\n",
      "like : 0.008110318918147803\n",
      "say : 0.007899000109468776\n",
      "war : 0.007325974947886871\n",
      "stephanopoulos : 0.007311246529044677\n",
      "\n",
      "[Topic 5]\n",
      "ax : 0.7713893701243456\n",
      "max : 0.05594034774767906\n",
      "g9v : 0.015160304465654709\n",
      "b8f : 0.014749868064037639\n",
      "a86 : 0.01219148115730736\n",
      "pl : 0.01013813587478889\n",
      "145 : 0.009902252401484778\n",
      "1d9 : 0.00844282850501952\n",
      "1t : 0.006445371213453421\n",
      "0t : 0.006212790769767541\n",
      "bhj : 0.005898122839172306\n",
      "3t : 0.005515048719574262\n",
      "34u : 0.0054603240347023485\n",
      "giz : 0.005296149684396151\n",
      "2di : 0.005241424828285781\n",
      "wm : 0.004704103574389207\n",
      "2tm : 0.004447914459546839\n",
      "75u : 0.004447914430547118\n",
      "7ey : 0.0035723168080773996\n",
      "0d : 0.0031481983089928917\n",
      "\n",
      "[Topic 6]\n",
      "edu : 0.020347867879674915\n",
      "space : 0.01961543936181583\n",
      "information : 0.018395816486433427\n",
      "mail : 0.01371460159720653\n",
      "new : 0.010852022757948507\n",
      "available : 0.010736155983573012\n",
      "send : 0.010504234777284545\n",
      "data : 0.010488996432860756\n",
      "university : 0.010305761977048035\n",
      "internet : 0.010292863424167912\n",
      "com : 0.010133053777612283\n",
      "list : 0.010111473752876273\n",
      "research : 0.009687684361364924\n",
      "nasa : 0.009677069669675794\n",
      "anonymous : 0.00905979536800793\n",
      "computer : 0.00880849572226842\n",
      "ftp : 0.008645832649986562\n",
      "email : 0.008418359739294336\n",
      "pub : 0.00838294977956079\n",
      "address : 0.007352260271304426\n",
      "\n",
      "[Topic 7]\n",
      "god : 0.021638014099719032\n",
      "people : 0.020368373457676902\n",
      "think : 0.013015923346792323\n",
      "don : 0.011873997247862969\n",
      "does : 0.011620495821675864\n",
      "believe : 0.010982743506964843\n",
      "just : 0.010320891798604945\n",
      "jesus : 0.01009179209040601\n",
      "say : 0.009923609097587726\n",
      "know : 0.008802096584230647\n",
      "like : 0.008445597225743822\n",
      "time : 0.007227534559055178\n",
      "true : 0.007177391886006824\n",
      "way : 0.007116106157627439\n",
      "life : 0.006691178334573095\n",
      "question : 0.006635274765708483\n",
      "good : 0.006511182744946799\n",
      "make : 0.006505774231532127\n",
      "things : 0.00634022634922335\n",
      "israel : 0.006314447957110356\n",
      "\n",
      "[Topic 8]\n",
      "know : 0.02084026377842588\n",
      "thanks : 0.02004603785923407\n",
      "like : 0.017712648630046273\n",
      "file : 0.016843371886460543\n",
      "use : 0.01592734499197518\n",
      "does : 0.015686372368193854\n",
      "don : 0.013452922920348517\n",
      "just : 0.012255548254389185\n",
      "problem : 0.01149670947391793\n",
      "help : 0.011339457759682016\n",
      "windows : 0.010578218245142773\n",
      "want : 0.009746468826662831\n",
      "files : 0.00964050249341239\n",
      "need : 0.009517829638799323\n",
      "ve : 0.009153773098338543\n",
      "edu : 0.00914708737862593\n",
      "mail : 0.00888890466116911\n",
      "using : 0.008269066288287105\n",
      "hi : 0.007652085721994726\n",
      "window : 0.007480680480211786\n",
      "\n",
      "\n",
      "\n",
      "--------------------------------------------------------------------------------\n",
      "Number of topics: 10\n",
      "\n",
      "Displaying the top 20 words per topic and their probabilities within the topic...\n",
      "\n",
      "[Topic 0]\n",
      "good : 0.01592254908129389\n",
      "like : 0.01584763067117222\n",
      "just : 0.015714974597809874\n",
      "think : 0.014658035148150044\n",
      "don : 0.01336602502776772\n",
      "time : 0.012159230893303024\n",
      "year : 0.011442050656933937\n",
      "new : 0.008768217977593912\n",
      "years : 0.00843922077825026\n",
      "game : 0.008416482579473757\n",
      "make : 0.008318270139852606\n",
      "ve : 0.00805613381872604\n",
      "know : 0.00786552901690738\n",
      "going : 0.007357414502894818\n",
      "better : 0.007305177940555176\n",
      "really : 0.007282768897233162\n",
      "got : 0.007100242166187475\n",
      "way : 0.007020258221618519\n",
      "team : 0.006901091494924322\n",
      "car : 0.006860678090522195\n",
      "\n",
      "[Topic 1]\n",
      "drive : 0.025114459755967225\n",
      "card : 0.01904504522714293\n",
      "scsi : 0.01574807346309645\n",
      "disk : 0.015086151949241311\n",
      "use : 0.01311205775591249\n",
      "output : 0.012487568705565076\n",
      "file : 0.011474974819227298\n",
      "bit : 0.011450491727323115\n",
      "hard : 0.010426435918865882\n",
      "entry : 0.009962381704950415\n",
      "memory : 0.009892936703385204\n",
      "mac : 0.009531449582937765\n",
      "video : 0.009451338641933656\n",
      "drives : 0.009074000962777757\n",
      "pc : 0.0090703286112168\n",
      "windows : 0.008135023862197355\n",
      "16 : 0.00798823814975238\n",
      "bus : 0.007927283819698584\n",
      "controller : 0.007902057876189581\n",
      "program : 0.00784268458596016\n",
      "\n",
      "[Topic 2]\n",
      "10 : 0.032029220388909305\n",
      "00 : 0.026964330541393168\n",
      "25 : 0.021829691245344042\n",
      "15 : 0.0206063577495655\n",
      "11 : 0.02060435039972444\n",
      "20 : 0.02049576092374077\n",
      "12 : 0.020376684447947477\n",
      "14 : 0.018055470834875288\n",
      "16 : 0.016460265629681656\n",
      "13 : 0.016023012407497653\n",
      "17 : 0.016018903187206005\n",
      "18 : 0.015931416080248326\n",
      "30 : 0.013487129884524487\n",
      "50 : 0.013323083130055324\n",
      "24 : 0.01312690458019883\n",
      "19 : 0.012520561557602226\n",
      "55 : 0.01250023314639117\n",
      "21 : 0.01226424792228292\n",
      "40 : 0.01192815257556637\n",
      "22 : 0.011207231765196151\n",
      "\n",
      "[Topic 3]\n",
      "key : 0.02286656504255774\n",
      "government : 0.020853124988437204\n",
      "gun : 0.016677031123281342\n",
      "db : 0.015171423239595656\n",
      "law : 0.014649075730175279\n",
      "use : 0.014111126676381442\n",
      "people : 0.012470526208203755\n",
      "encryption : 0.010285224622752638\n",
      "public : 0.010243636203369282\n",
      "state : 0.009947341601966503\n",
      "chip : 0.009825392329557068\n",
      "keys : 0.008779074363170275\n",
      "clipper : 0.00860324584622739\n",
      "states : 0.00831822632566845\n",
      "control : 0.008226551411556786\n",
      "number : 0.008019292972255121\n",
      "used : 0.007703329865061306\n",
      "guns : 0.007611516117671719\n",
      "health : 0.0074015183803604065\n",
      "right : 0.006935759695920386\n",
      "\n",
      "[Topic 4]\n",
      "people : 0.02431129507816113\n",
      "said : 0.02424559321880428\n",
      "mr : 0.014104981910179977\n",
      "know : 0.013468288248487321\n",
      "armenian : 0.013342199409186437\n",
      "did : 0.01241301316278436\n",
      "don : 0.011539776119380056\n",
      "didn : 0.010944034432906041\n",
      "armenians : 0.01092331207436881\n",
      "turkish : 0.010132982460837872\n",
      "going : 0.009685278853463312\n",
      "went : 0.009482314763594613\n",
      "time : 0.009318116756590049\n",
      "president : 0.009271538629901233\n",
      "just : 0.009064415387593214\n",
      "war : 0.008272822237163071\n",
      "stephanopoulos : 0.008264930815089574\n",
      "jews : 0.007943422443838038\n",
      "say : 0.00778579920403193\n",
      "like : 0.007637486984592752\n",
      "\n",
      "[Topic 5]\n",
      "edu : 0.020183125501381658\n",
      "available : 0.01462208677587774\n",
      "window : 0.0145175966975094\n",
      "windows : 0.014508094728017699\n",
      "image : 0.014202932981631174\n",
      "version : 0.013567233933254529\n",
      "use : 0.013559184672232326\n",
      "software : 0.012291845460115209\n",
      "program : 0.011764165563758247\n",
      "graphics : 0.011586390886004624\n",
      "ftp : 0.010473416938225266\n",
      "server : 0.010462468444821689\n",
      "file : 0.010300988884546303\n",
      "using : 0.010279537804707145\n",
      "dos : 0.01018612827417759\n",
      "com : 0.010041868375764224\n",
      "display : 0.00950825069896609\n",
      "sun : 0.00841184948299741\n",
      "set : 0.008165843948144175\n",
      "motif : 0.008043634521501537\n",
      "\n",
      "[Topic 6]\n",
      "space : 0.02122937597565116\n",
      "information : 0.020605813849808002\n",
      "edu : 0.01308609835593781\n",
      "mail : 0.012122425926729597\n",
      "data : 0.012063443176285979\n",
      "new : 0.011922325100362566\n",
      "internet : 0.011805664499152158\n",
      "university : 0.011648063401924154\n",
      "nasa : 0.011260324762512446\n",
      "research : 0.011214434673689003\n",
      "computer : 0.010579251202203384\n",
      "send : 0.010082352367484646\n",
      "file : 0.009827860114832524\n",
      "anonymous : 0.009393114153924213\n",
      "list : 0.00884288720549653\n",
      "email : 0.008556680088168823\n",
      "technology : 0.008502540090233126\n",
      "address : 0.008453084833023794\n",
      "available : 0.008312068272885744\n",
      "com : 0.00801043664202556\n",
      "\n",
      "[Topic 7]\n",
      "god : 0.024214358169839564\n",
      "people : 0.019831156312240143\n",
      "think : 0.012548053861881268\n",
      "does : 0.011687743323611263\n",
      "jesus : 0.011293758739612999\n",
      "believe : 0.011272045532292002\n",
      "don : 0.010834089093902355\n",
      "say : 0.010114162234632518\n",
      "just : 0.009461924824189793\n",
      "know : 0.008276216060086664\n",
      "true : 0.007825806533253571\n",
      "like : 0.007419673532456676\n",
      "way : 0.007242156428134814\n",
      "life : 0.007196868607195379\n",
      "christian : 0.007055010808531854\n",
      "time : 0.0070227629792582015\n",
      "israel : 0.006934392612716913\n",
      "bible : 0.006745791914802942\n",
      "question : 0.0064075417201172645\n",
      "things : 0.00637398445911145\n",
      "\n",
      "[Topic 8]\n",
      "know : 0.026134132260814825\n",
      "like : 0.021317018148473164\n",
      "don : 0.020053165678589904\n",
      "thanks : 0.019992616431884633\n",
      "just : 0.017657856830905833\n",
      "does : 0.0150396282979183\n",
      "ve : 0.012652637710485493\n",
      "help : 0.01128297754768276\n",
      "want : 0.010651057192301491\n",
      "use : 0.010537774368367085\n",
      "mail : 0.010021837288920494\n",
      "problem : 0.00966309187171309\n",
      "edu : 0.009128531452268497\n",
      "good : 0.009109138814944394\n",
      "post : 0.008996488682684118\n",
      "file : 0.008922092098023733\n",
      "need : 0.008706364795622623\n",
      "looking : 0.0073136427958200205\n",
      "time : 0.007174443660697419\n",
      "bike : 0.007034238505179918\n",
      "\n",
      "[Topic 9]\n",
      "ax : 0.7717971886082466\n",
      "max : 0.055921756933680296\n",
      "g9v : 0.015168170327094601\n",
      "b8f : 0.014757516856658555\n",
      "a86 : 0.012197776886748507\n",
      "pl : 0.010147908394792498\n",
      "145 : 0.009912072552667453\n",
      "1d9 : 0.008447141779981918\n",
      "1t : 0.006448628175420717\n",
      "0t : 0.006215924619143329\n",
      "bhj : 0.005901090271008161\n",
      "3t : 0.005517813662944112\n",
      "34u : 0.005463059915719654\n",
      "giz : 0.00529879860622197\n",
      "2di : 0.005244044809233216\n",
      "wm : 0.004677791543976195\n",
      "2tm : 0.004450114768534644\n",
      "75u : 0.00445011475803213\n",
      "7ey : 0.003574054032872233\n",
      "0d : 0.0031497118103811115\n",
      "\n",
      "\n",
      "\n"
     ]
    }
   ],
   "source": [
    "k_values = range(2, 11)\n",
    "avg_coherences = []\n",
    "avg_num_unique_words = []\n",
    "\n",
    "for k in k_values:\n",
    "    lda_candidate = LatentDirichletAllocation(n_components=k, random_state=0)\n",
    "    lda_candidate.fit(tf)\n",
    "    topic_word_distributions = np.array([row / row.sum() for row in lda_candidate.components_])\n",
    "    print('-' * 80)\n",
    "    print('Number of topics:', k)\n",
    "    print()\n",
    "    print_top_words(topic_word_distributions, num_top_words, tf_vectorizer)\n",
    "    print()\n",
    "    print()\n",
    "    \n",
    "    avg_coherences.append(compute_average_coherence(topic_word_distributions, num_top_words, tf_vectorizer, False))\n",
    "    avg_num_unique_words.append(compute_average_num_unique_words(topic_word_distributions, num_top_words, tf_vectorizer, False))"
   ]
  },
  {
   "cell_type": "code",
   "execution_count": 40,
   "metadata": {},
   "outputs": [
    {
     "data": {
      "text/plain": [
       "Text(0, 0.5, 'Average coherence')"
      ]
     },
     "execution_count": 40,
     "metadata": {},
     "output_type": "execute_result"
    },
    {
     "data": {
      "image/png": "[encoded data removed]",
      "text/plain": [
       "<Figure size 432x288 with 1 Axes>"
      ]
     },
     "metadata": {
      "needs_background": "light"
     },
     "output_type": "display_data"
    }
   ],
   "source": [
    "plt.plot(k_values, avg_coherences)\n",
    "plt.xlabel('Number of topics')\n",
    "plt.ylabel('Average coherence')\n",
    "\n",
    "# For differnt number of topics, I fitted a different LDA\n",
    "\n"
   ]
  },
  {
   "cell_type": "code",
   "execution_count": 41,
   "metadata": {},
   "outputs": [
    {
     "data": {
      "text/plain": [
       "Text(0, 0.5, 'Average number of unique words')"
      ]
     },
     "execution_count": 41,
     "metadata": {},
     "output_type": "execute_result"
    },
    {
     "data": {
      "image/png": "[encoded data removed]",
      "text/plain": [
       "<Figure size 432x288 with 1 Axes>"
      ]
     },
     "metadata": {
      "needs_background": "light"
     },
     "output_type": "display_data"
    }
   ],
   "source": [
    "plt.plot(k_values, avg_num_unique_words)\n",
    "plt.xlabel('Number of topics')\n",
    "plt.ylabel('Average number of unique words')\n",
    "\n",
    "# For different topic models, the average number of unique words\n",
    "# We want coherence to be high and unique words to be high\n",
    "\n",
    "# Number of topic = 2, gets me high coherence and hogh unique words. BUT, for model 2, there are 2 topics: garbage and not garbage!\n",
    "# that doesnt help a lot\n",
    "\n",
    "# So, you want to tolerate a lower value for one of the metrics, but look at the actual topics to interpret what is going on\n",
    "# If we see resutlts of 4, starts to make more ssense but feels like still low\n",
    "# go to 5, starts to make a bit more sense\n",
    "\n"
   ]
  }
 ],
 "metadata": {
  "kernelspec": {
   "display_name": "Python 3.8.11 ('UDA_RIG')",
   "language": "python",
   "name": "python3"
  },
  "language_info": {
   "codemirror_mode": {
    "name": "ipython",
    "version": 3
   },
   "file_extension": ".py",
   "mimetype": "text/x-python",
   "name": "python",
   "nbconvert_exporter": "python",
   "pygments_lexer": "ipython3",
   "version": "3.9.16"
  },
  "vscode": {
   "interpreter": {
    "hash": "d1a526087eeeed7e3a2dd7dbe3d8582928a2e8e80d21671a2817819bcd9f426f"
   }
  }
 },
 "nbformat": 4,
 "nbformat_minor": 2
}

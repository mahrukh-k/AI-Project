{
 "cells": [
  {
   "attachments": {},
   "cell_type": "markdown",
   "metadata": {},
   "source": [
    "# TO DO\n",
    "MORE Visualizations  \n",
    "Preprocessing  \n",
    "**REmoveAdditional stopwords: add_stopwords = ['rt','train','southern','east','derailment','norfolk','palestine','february','u','ohio','month','week','news','please']**\n",
    "Donde metemos lo del numero optimo de topics, y lo de coherence, perplexity y unique words?\n",
    "Interpretation of Lambda (l)\n",
    "Intepretation of perplexity and sparsity and loglikelihood (include formulas)\n",
    "Choosing the best model (grid search based on loglikelihood?)"
   ]
  },
  {
   "attachments": {},
   "cell_type": "markdown",
   "metadata": {},
   "source": [
    "# LDA analysis"
   ]
  },
  {
   "cell_type": "code",
   "execution_count": 53,
   "metadata": {},
   "outputs": [
    {
     "name": "stderr",
     "output_type": "stream",
     "text": [
      "[nltk_data] Downloading package punkt to /Users/ribarragi/nltk_data...\n",
      "[nltk_data]   Package punkt is already up-to-date!\n",
      "[nltk_data] Downloading package stopwords to\n",
      "[nltk_data]     /Users/ribarragi/nltk_data...\n",
      "[nltk_data]   Package stopwords is already up-to-date!\n",
      "[nltk_data] Downloading package wordnet to\n",
      "[nltk_data]     /Users/ribarragi/nltk_data...\n",
      "[nltk_data]   Package wordnet is already up-to-date!\n",
      "[nltk_data] Downloading package omw-1.4 to\n",
      "[nltk_data]     /Users/ribarragi/nltk_data...\n",
      "[nltk_data]   Package omw-1.4 is already up-to-date!\n",
      "[nltk_data] Downloading package averaged_perceptron_tagger to\n",
      "[nltk_data]     /Users/ribarragi/nltk_data...\n",
      "[nltk_data]   Package averaged_perceptron_tagger is already up-to-\n",
      "[nltk_data]       date!\n"
     ]
    }
   ],
   "source": [
    "# Import libraries\n",
    "%matplotlib inline\n",
    "import matplotlib.pyplot as plt\n",
    "import numpy as np\n",
    "np.set_printoptions(precision=5, suppress=True)\n",
    "import pandas as pd\n",
    "# data: 20 news groups\n",
    "\n",
    "import nltk\n",
    "from nltk.corpus import stopwords, wordnet\n",
    "from nltk.tokenize import RegexpTokenizer\n",
    "from nltk.stem import WordNetLemmatizer \n",
    "nltk.download('punkt')\n",
    "nltk.download('stopwords')\n",
    "nltk.download('wordnet')\n",
    "nltk.download('omw-1.4')\n",
    "nltk.download('averaged_perceptron_tagger')\n",
    "import random\n",
    "from sklearn.feature_extraction.text import CountVectorizer\n",
    "\n",
    "import pyLDAvis.sklearn\n",
    "from sklearn.decomposition import LatentDirichletAllocation\n",
    "import matplotlib.pyplot as plt\n",
    "import warnings\n",
    "warnings.filterwarnings(\"ignore\",category=DeprecationWarning)\n",
    "pyLDAvis.enable_notebook()"
   ]
  },
  {
   "attachments": {},
   "cell_type": "markdown",
   "metadata": {},
   "source": [
    "## Data preprocessing"
   ]
  },
  {
   "cell_type": "code",
   "execution_count": 129,
   "metadata": {},
   "outputs": [],
   "source": [
    "# Read in data\n",
    "df = pd.read_csv('../data/data_tweet.csv')\n",
    "\n",
    "# RIG (made some changes to stopwords)\n",
    "# modify default stop words\n",
    "add_stopwords = set(['rt','train','southern','east','derailment','norfolk','palestine','february','u','ohio', 'amp'])\n",
    "remove_stopwords = set([\"no\", \"not\", \"nor\", \"against\", \"aren't\", \"couldn't\", \"didn't\", \n",
    "                                                   \"doesn't\", \"don't\", \"haven't\", \"hadn't\", \"hasn't\", \"isn't\", \"mightn't\",\n",
    "                                                   \"mustn't\", \"needn't\", \"shouldn't\", \"wasn't\", \"weren't\", \"wouldn't\"])\n",
    "# remove stopwords (not impacting sentiment analysis) and punctuations\n",
    "stop_words = set(stopwords.words('english')) - remove_stopwords\n",
    "stop_words = set(stopwords.words('english')).union(add_stopwords)\n",
    "# stop_words = set(stopwords.words('english')).union(add_stopwords_2)\n",
    "tokenizer = RegexpTokenizer(r'\\w+')\n",
    "\n",
    "\n",
    "# normalize pos tags\n",
    "lemmatizer = WordNetLemmatizer()\n",
    "\n",
    "def pos_tagger(nltk_tag):\n",
    "  if nltk_tag.startswith('J'):\n",
    "      return wordnet.ADJ\n",
    "  elif nltk_tag.startswith('V'):\n",
    "      return wordnet.VERB\n",
    "  elif nltk_tag.startswith('N'):\n",
    "      return wordnet.NOUN\n",
    "  elif nltk_tag.startswith('R'):\n",
    "      return wordnet.ADV\n",
    "  else:         \n",
    "      return None\n",
    "\n",
    "# lemmatize each token with pos tag\n",
    "def lemma_token(row):\n",
    "  wordnet_tagged = list(map(lambda x: (x[0], pos_tagger(x[1])), row))\n",
    "  lemmatized = []\n",
    "  for word, tag in wordnet_tagged:\n",
    "    if tag is None:\n",
    "        # if there is no available tag, just append the original token\n",
    "        lemmatized.append(word)\n",
    "    else:       \n",
    "        # else use the pos tag to lemmatize the token\n",
    "        lemmatized.append(lemmatizer.lemmatize(word, tag))\n",
    "  return lemmatized\n",
    "\n",
    "\n",
    "# RIG (edit: added http://)\n",
    "# remove urls\n",
    "df['Message_no_url'] = df['MESSAGE'].apply(lambda x: \" \".join([word for word in x.split(\" \") if not(word.startswith((\"https://\", 'http://')))]))\n",
    "\n",
    "\n",
    "# tokenize MESSAGE and remove stopwords\n",
    "df['Text'] = df['Message_no_url'].map(tokenizer.tokenize)\n",
    "df['Text'] = df['Text'].apply(lambda x : nltk.pos_tag([item.lower() for item in x if item.lower() not in stop_words]))\n",
    "\n",
    "# apply lemmatization and reset index\n",
    "df['Text'] = df['Text'].apply(lambda row : lemma_token(row))\n",
    "df = df.reset_index(drop=True)\n",
    "\n",
    "# join words\n",
    "df['T_text'] = df['Text'].apply(lambda row : \" \".join(row))"
   ]
  },
  {
   "cell_type": "code",
   "execution_count": 3,
   "metadata": {},
   "outputs": [
    {
     "data": {
      "text/plain": [
       "85220"
      ]
     },
     "execution_count": 3,
     "metadata": {},
     "output_type": "execute_result"
    }
   ],
   "source": [
    "# number of documents (tweets) in our data\n",
    "len(df)"
   ]
  },
  {
   "cell_type": "code",
   "execution_count": null,
   "metadata": {},
   "outputs": [],
   "source": [
    "# # We first used a random sample to test this\n",
    "# sample_size = 10000\n",
    "# random.seed(1)\n",
    "# # We will use a random sample of 10k tweets to test\n",
    "# idx_sample = random.sample(range(len(df.T_text)), sample_size)\n",
    "# # sample_data is a list of strings, each string is a tweet. ssample_Data is length 10k\n",
    "# sample_data = [df.T_text[i] for i in idx_sample]\n",
    "# len(sample_data)"
   ]
  },
  {
   "cell_type": "code",
   "execution_count": 4,
   "metadata": {},
   "outputs": [],
   "source": [
    "# take only the text\n",
    "sample_data = df.T_text.tolist()"
   ]
  },
  {
   "attachments": {},
   "cell_type": "markdown",
   "metadata": {},
   "source": [
    "We use CountVectorizer to get term frequencies."
   ]
  },
  {
   "cell_type": "code",
   "execution_count": 5,
   "metadata": {},
   "outputs": [],
   "source": [
    "# We could cap the size of the vocab to vocab_size\n",
    "# If not capped, we have 48k words\n",
    "max_vocabulary = 15000\n",
    "\n",
    "# We can also set options to only keep words that appear in at least this percentage of documents\n",
    "# - min_df = 2 # words in less than 2 documents we discard them\n",
    "# And we can choose to only keep words that appear in at most this percentage of documents:\n",
    "# - max_df = 0.95 # words that appear in more than 95% of documents, we discard them\n",
    "# Finally, we can set max_features, to keep only the most frequently occuring words\n",
    "# - max_features = max_vocabulary # after I do the max_df, min_df and stopwords filetrs, I look at how many words I have left: if its greater than\n",
    "# max_features, I only keep the most popular. BUT, if the words left after the 3 filters is less than max_features, then it will be ignored. \n",
    "\n",
    "\n",
    "# tf_vectorizer = CountVectorizer(max_df=0.95,\n",
    "#                                 min_df=2,\n",
    "#                                 stop_words='english',\n",
    "#                                 max_features=max_vocabulary)\n",
    "\n",
    "# tf_vectorizer = CountVectorizer(stop_words='english')\n",
    "\n",
    "# We capped the number of words to 15k and the min doc frequency\n",
    "tf_vectorizer = CountVectorizer(min_df = 2, max_features=max_vocabulary)\n",
    "\n",
    "# tf: term frequency vectorizer\n",
    "\n",
    "# the fitting is learning the vocabulary: goes thru all the data and know the words it needs to keep track of\n",
    "# transform: Ive done the fitting, Ill go back to data points and convert each one into a feat vector representation using the vocab i learnt during fitting\n",
    "tf_fit = tf_vectorizer.fit(sample_data)\n",
    "tf = tf_vectorizer.fit_transform(sample_data)\n"
   ]
  },
  {
   "cell_type": "code",
   "execution_count": 6,
   "metadata": {},
   "outputs": [
    {
     "data": {
      "text/plain": [
       "(85220, 15000)"
      ]
     },
     "execution_count": 6,
     "metadata": {},
     "output_type": "execute_result"
    }
   ],
   "source": [
    "# size of the matrix (documents, words)\n",
    "tf.toarray().shape"
   ]
  },
  {
   "cell_type": "code",
   "execution_count": 7,
   "metadata": {},
   "outputs": [
    {
     "data": {
      "text/plain": [
       "10"
      ]
     },
     "execution_count": 7,
     "metadata": {},
     "output_type": "execute_result"
    }
   ],
   "source": [
    "# seems like the highest term-doc freq is 10\n",
    "max_freq = tf.toarray().max()\n",
    "max_freq"
   ]
  },
  {
   "cell_type": "code",
   "execution_count": 73,
   "metadata": {},
   "outputs": [
    {
     "data": {
      "text/plain": [
       "'trump state go trump trump trump trump trump trump trump trump trump'"
      ]
     },
     "execution_count": 73,
     "metadata": {},
     "output_type": "execute_result"
    }
   ],
   "source": [
    "# which doc / word combination has highest values?\n",
    "max_freq_idx = list(np.argwhere(tf.toarray()==max_freq)[0])\n",
    "max_freq_doc, max_freq_word = max_freq_idx\n",
    "# to print out the vocabulary in the doc-word freq matrix\n",
    "tf_vectorizer.get_feature_names_out()[max_freq_word]\n",
    "# In which document is this word?\n",
    "sample_data[max_freq_doc]"
   ]
  },
  {
   "cell_type": "code",
   "execution_count": null,
   "metadata": {},
   "outputs": [
    {
     "data": {
      "text/plain": [
       "array([[0, 0, 0, ..., 0, 0, 0]])"
      ]
     },
     "execution_count": 15,
     "metadata": {},
     "output_type": "execute_result"
    }
   ],
   "source": [
    "tf[0].toarray()\n",
    "\n",
    "# I can index in to the zeroeth row of the matrix and convert into an array, I am anazlizing just the zeroeth row:\n",
    "# feature vector representation for the zeroeth document: \n",
    "# We should be able to write code to know what word corresponds each non zero number there\n",
    "\n",
    "# tf_vectorizer.get_feature_names_out()[(tf[0].toarray() != 0)[0]] # LIKE THIS!\n",
    "\n",
    "# run a for loop that goes thru the entries, and check to which indeces this corresponds in the vocabulary"
   ]
  },
  {
   "cell_type": "markdown",
   "metadata": {},
   "source": [
    "The fitting procedure determines the every topic's distribution over words; this information is stored in the `components_` attribute. There's a catch: we actually have to normalize to get the probability distributions (without this normalization, instead what the model has are pseudocounts for how often different words appear per topic)."
   ]
  },
  {
   "cell_type": "markdown",
   "metadata": {},
   "source": [
    "We now fit an LDA model to the data."
   ]
  },
  {
   "cell_type": "code",
   "execution_count": 12,
   "metadata": {},
   "outputs": [
    {
     "data": {
      "text/plain": [
       "LatentDirichletAllocation(n_components=4, random_state=0)"
      ]
     },
     "execution_count": 12,
     "metadata": {},
     "output_type": "execute_result"
    }
   ],
   "source": [
    "# Now LDA. This will take a while ong\n",
    "\n",
    "num_topics = 4\n",
    "\n",
    "lda = LatentDirichletAllocation(n_components=num_topics, random_state=0)\n",
    "lda.fit(tf)"
   ]
  },
  {
   "cell_type": "code",
   "execution_count": 13,
   "metadata": {},
   "outputs": [
    {
     "data": {
      "text/plain": [
       "(4, 15000)"
      ]
     },
     "execution_count": 13,
     "metadata": {},
     "output_type": "execute_result"
    }
   ],
   "source": [
    "lda.components_.shape\n",
    "# The shaope of this is 16 by 1000, 10 topics and 1000 words\n",
    "# These are not probability distributions yet"
   ]
  },
  {
   "cell_type": "code",
   "execution_count": 29,
   "metadata": {},
   "outputs": [
    {
     "data": {
      "text/plain": [
       "array([[ 16.11285, 319.16088,   0.25549, ...,   0.25001,   0.25001,\n",
       "          0.25001],\n",
       "       [ 17.45323, 720.37464,   0.25503, ...,  11.24819,  11.24819,\n",
       "         11.24819],\n",
       "       [  0.28027, 139.28358,   0.25415, ...,   0.25011,   0.25011,\n",
       "          0.25011],\n",
       "       [ 60.15364, 182.1809 ,   6.23532, ...,   0.25169,   0.25169,\n",
       "          0.25169]])"
      ]
     },
     "execution_count": 29,
     "metadata": {},
     "output_type": "execute_result"
    }
   ],
   "source": [
    "lda.components_  "
   ]
  },
  {
   "cell_type": "code",
   "execution_count": 14,
   "metadata": {},
   "outputs": [
    {
     "data": {
      "text/plain": [
       "array([264743.16727, 213299.88075, 353547.17579, 210579.77618])"
      ]
     },
     "execution_count": 14,
     "metadata": {},
     "output_type": "execute_result"
    }
   ],
   "source": [
    "# If we access: sum ACROSS COLUMNS (get rid of columns), I get 6 numbers: a sum for each row.\n",
    "# They dont sum uop to 1, because not probability distributions\n",
    "\n",
    "# .components_ is a raw count histogram, but why are there fractions?\n",
    "# Because of how it works: when it estimates how much a word belongs to a topic it does a prob assignment, not a deterministic assignment.\n",
    "lda.components_.sum(axis=1)"
   ]
  },
  {
   "cell_type": "code",
   "execution_count": 30,
   "metadata": {},
   "outputs": [],
   "source": [
    "topic_word_distributions = np.array([row / row.sum() for row in lda.components_])\n",
    "\n",
    "# we get the topic-word distribution matrix for the LDA model.  Each value represents the probability of each word occuring in that topic. \n",
    "# The higher the value of a word in a topic, the more strongly the word is associated with that topic"
   ]
  },
  {
   "cell_type": "code",
   "execution_count": 46,
   "metadata": {},
   "outputs": [
    {
     "data": {
      "text/plain": [
       "(4, 15000)"
      ]
     },
     "execution_count": 46,
     "metadata": {},
     "output_type": "execute_result"
    }
   ],
   "source": [
    "topic_word_distributions.shape"
   ]
  },
  {
   "cell_type": "code",
   "execution_count": 45,
   "metadata": {},
   "outputs": [
    {
     "name": "stdout",
     "output_type": "stream",
     "text": [
      "[0.00006 0.00121 0.      ... 0.      0.      0.     ]\n"
     ]
    }
   ],
   "source": [
    "print(topic_word_distributions[0])\n",
    "# lets look at 0th topic, it is saying that the 0th word appears 0.00006, word 1 appears with prob 0.00121"
   ]
  },
  {
   "cell_type": "code",
   "execution_count": 37,
   "metadata": {},
   "outputs": [],
   "source": [
    "# # we can sort the probability by big to small\n",
    "# # for each topic, listing top 20 most popular words (by probability)\n",
    "\n",
    "# num_top_words = 20\n",
    "\n",
    "# def print_top_words(topic_word_distributions, num_top_words, vectorizer):\n",
    "#     vocab = vectorizer.get_feature_names_out()\n",
    "#     num_topics = len(topic_word_distributions)\n",
    "#     print('Displaying the top %d words per topic and their probabilities within the topic...' % num_top_words)\n",
    "#     print()\n",
    "\n",
    "#     for topic_idx in range(num_topics):\n",
    "#         print('[Topic ', topic_idx, ']', sep='')\n",
    "#         # This is the interesting part: take the topic_word_distributions only for the topic_idxth topic, and get the indexes sorted from highest to lowest\n",
    "#         sort_indices = np.argsort(-topic_word_distributions[topic_idx])\n",
    "#         # then for the range 0,num_words, print the vocab of each of the words and its entry in the topic_word_distribution matrix\n",
    "#         for rank in range(num_top_words):\n",
    "#             word_idx = sort_indices[rank]\n",
    "#             print(vocab[word_idx], ':',\n",
    "#                   topic_word_distributions[topic_idx, word_idx])\n",
    "#         print()\n",
    "\n",
    "# print_top_words(topic_word_distributions, num_top_words, tf_vectorizer)"
   ]
  },
  {
   "cell_type": "code",
   "execution_count": 28,
   "metadata": {},
   "outputs": [
    {
     "name": "stderr",
     "output_type": "stream",
     "text": [
      "/Users/ribarragi/miniconda3/envs/Intro_AI/lib/python3.9/site-packages/sklearn/utils/deprecation.py:87: FutureWarning: Function get_feature_names is deprecated; get_feature_names is deprecated in 1.0 and will be removed in 1.2. Please use get_feature_names_out instead.\n",
      "  warnings.warn(msg, category=FutureWarning)\n",
      "/Users/ribarragi/miniconda3/envs/Intro_AI/lib/python3.9/site-packages/pyLDAvis/_prepare.py:246: FutureWarning: In a future version of pandas all arguments of DataFrame.drop except for the argument 'labels' will be keyword-only.\n",
      "  default_term_info = default_term_info.sort_values(\n"
     ]
    },
    {
     "data": {
      "text/html": [
       "\n",
       "<link rel=\"stylesheet\" type=\"text/css\" href=\"https://cdn.jsdelivr.net/gh/bmabey/pyLDAvis@3.3.1/pyLDAvis/js/ldavis.v1.0.0.css\">\n",
       "\n",
       "\n",
       "<div id=\"ldavis_el1862063046612801245324726\"></div>\n",
       "<script type=\"text/javascript\">\n",
       "\n",
       "var ldavis_el1862063046612801245324726_data = {\"mdsDat\": {\"x\": [0.11777191592679372, 0.15834116714928959, -0.1338367568511185, -0.1422763262249647], \"y\": [0.03931716336037326, -0.028671786768150968, -0.19018962678713824, 0.17954425019491596], \"topics\": [1, 2, 3, 4], \"cluster\": [1, 1, 1, 1], \"Freq\": [33.75826912555347, 25.43941529786077, 20.511757546432964, 20.290558030152795]}, \"tinfo\": {\"Term\": [\"trump\", \"ceo\", \"derail\", \"another\", \"safety\", \"car\", \"derails\", \"water\", \"report\", \"alabama\", \"springfield\", \"hazardous\", \"rule\", \"20\", \"senate\", \"congress\", \"rail\", \"brake\", \"regulation\", \"material\", \"biden\", \"dewine\", \"blame\", \"shaw\", \"company\", \"people\", \"would\", \"gop\", \"place\", \"near\", \"sue\", \"dump\", \"lawsuit\", \"river\", \"truck\", \"vance\", \"file\", \"cincinnati\", \"quality\", \"supply\", \"jd\", \"food\", \"basically\", \"truckloads\", \"rash\", \"delivers\", \"headache\", \"pollute\", \"collides\", \"drinking\", \"multimillion\", \"bottle\", \"craft\", \"illusion\", \"intake\", \"nuke\", \"yost\", \"taxpayer\", \"contaminated\", \"suit\", \"water\", \"balloon\", \"everyone\", \"worry\", \"safe\", \"people\", \"ukraine\", \"trust\", \"josh\", \"air\", \"cleveland\", \"see\", \"sure\", \"feel\", \"general\", \"home\", \"american\", \"drink\", \"care\", \"good\", \"get\", \"chemical\", \"resident\", \"bad\", \"country\", \"like\", \"go\", \"test\", \"know\", \"many\", \"town\", \"toxic\", \"biden\", \"need\", \"disaster\", \"think\", \"make\", \"say\", \"happen\", \"oh\", \"look\", \"us\", \"state\", \"environmental\", \"one\", \"take\", \"president\", \"epa\", \"wreck\", \"news\", \"trump\", \"brake\", \"apply\", \"obama\", \"chloride\", \"waste\", \"flammable\", \"ecp\", \"vinyl\", \"roll\", \"hazard\", \"repeal\", \"liquid\", \"braking\", \"require\", \"era\", \"categorize\", \"disposal\", \"homendy\", \"blame\", \"gop\", \"deploy\", \"cdc\", \"gutted\", \"shipment\", \"removal\", \"deregulate\", \"mixed\", \"jennifer\", \"rollback\", \"chao\", \"rule\", \"mike\", \"deregulation\", \"dewine\", \"fault\", \"texas\", \"contain\", \"trump\", \"regulation\", \"dot\", \"maga\", \"high\", \"republican\", \"administration\", \"would\", \"visit\", \"fema\", \"buttigieg\", \"biden\", \"gov\", \"prevent\", \"back\", \"epa\", \"pete\", \"toxic\", \"safety\", \"disaster\", \"chemical\", \"hazardous\", \"say\", \"carry\", \"cause\", \"president\", \"site\", \"derail\", \"go\", \"car\", \"springfield\", \"north\", \"shelter\", \"carolina\", \"20\", \"saturday\", \"sick\", \"aboard\", \"clark\", \"door\", \"detector\", \"preliminary\", \"myid\", \"toxins\", \"farmer\", \"alarm\", \"injury\", \"biometrics\", \"212\", \"surveil\", \"aquatic\", \"plane\", \"28\", \"lexington\", \"economy\", \"temperature\", \"box\", \"indication\", \"dayton\", \"spokesperson\", \"danger\", \"spark\", \"footage\", \"minute\", \"another\", \"mile\", \"place\", \"video\", \"report\", \"derail\", \"car\", \"second\", \"derails\", \"animal\", \"material\", \"near\", \"hazardous\", \"cargo\", \"track\", \"order\", \"hazmat\", \"public\", \"crew\", \"die\", \"official\", \"freight\", \"month\", \"say\", \"carry\", \"via\", \"company\", \"site\", \"resident\", \"toxic\", \"one\", \"week\", \"chemical\", \"ceo\", \"alabama\", \"congress\", \"alan\", \"senate\", \"testifies\", \"testify\", \"hearing\", \"committee\", \"calhoun\", \"de\", \"stock\", \"pledge\", \"inspection\", \"petition\", \"skip\", \"washington\", \"scrutiny\", \"accountable\", \"deeply\", \"brockovich\", \"practice\", \"bipartisan\", \"reveals\", \"testimony\", \"audio\", \"congressional\", \"buyback\", \"shaw\", \"hall\", \"profit\", \"apologize\", \"sorry\", \"erin\", \"victim\", \"hold\", \"lawmaker\", \"hour\", \"sign\", \"safety\", \"industry\", \"rail\", \"demand\", \"company\", \"worker\", \"change\", \"community\", \"last\", \"railroad\", \"pay\", \"via\", \"month\", \"toxic\", \"make\", \"derails\", \"town\", \"live\", \"derail\", \"say\", \"disaster\"], \"Freq\": [8369.0, 4905.0, 8840.0, 5759.0, 6474.0, 4848.0, 4266.0, 4432.0, 3980.0, 2287.0, 2264.0, 4061.0, 2374.0, 2002.0, 1791.0, 1773.0, 4552.0, 2032.0, 2829.0, 2856.0, 5659.0, 2201.0, 1879.0, 1538.0, 4637.0, 4432.0, 3328.0, 1740.0, 1728.0, 2144.0, 1161.4798191575699, 827.0356985928248, 843.6658708655626, 1114.0986140284786, 856.3065317546783, 659.2966973666055, 480.81670992759206, 352.33497142009105, 326.80306451678797, 306.2341779522313, 301.3357926132748, 274.84334831547875, 257.19806479251463, 252.2964438905679, 243.4735295507658, 238.57426060925494, 224.83686142183308, 202.27905656354, 197.37623805066357, 189.5288727550144, 187.5620466982946, 181.67966839849257, 182.65437764291326, 178.73729252301678, 173.84149859750264, 160.10049672442514, 149.31797211453, 195.1348925152018, 138.4965654626778, 157.99273050160815, 4286.327591299666, 224.07899791503456, 398.39003407293, 444.68805961552357, 1581.4207256895616, 3936.695251247293, 672.3040649810071, 326.08948266982054, 224.9897390427829, 1812.6547181791948, 646.2221337159443, 1502.0375666898817, 585.9071674833102, 434.6072209992037, 398.6336712021269, 980.8304777670721, 772.0812149296866, 552.5920513663328, 754.2787341628482, 884.4309980882445, 2416.277636687745, 4862.461057366002, 3647.646958814296, 749.7636790495632, 458.3122389573007, 1790.3298650011584, 2340.1970039208795, 1089.7058486943183, 1533.8870505879331, 825.5711820649248, 1571.8140430044284, 3968.5890541634135, 2495.0317162266965, 1317.7087804012092, 2454.39783746698, 982.6611654904974, 1617.0973694913303, 2947.9954145357915, 1318.4072206493659, 1378.7814688519586, 1033.8676487393627, 1295.5266820203735, 1350.6744183888793, 1182.2860194015914, 1361.8227999962585, 1221.1628388795618, 1164.5759547827113, 1407.3711823313981, 1225.2485417213104, 1280.659317885553, 1236.3478777034093, 2031.5191792053593, 807.6239211226422, 785.9079897781171, 1526.301555304927, 1280.7118240091027, 597.3900128555839, 581.5970067463084, 1408.299437293263, 827.8309428190128, 826.644273332745, 410.84039413841543, 388.13655594321347, 357.52839660968584, 577.0079004801603, 358.399390489219, 295.36405068759814, 286.4705136605006, 268.71057896213813, 1874.00815566928, 1735.1497505788082, 250.9396115287812, 250.93165206688505, 236.14060848421505, 227.25110811245483, 223.30424350595516, 224.28779585750723, 222.31627206330694, 208.50129360136833, 187.77380583604054, 178.88930677385054, 2364.3003692410143, 827.8981178569421, 770.6929710306553, 2115.8976355140308, 578.714846477507, 439.2320675876077, 377.3216637213414, 7131.184796225796, 2478.941469744106, 320.15636021368397, 490.66059814778095, 1024.2246365319938, 1257.2504483807354, 1566.151068690603, 2576.378156944068, 2398.7289370485946, 798.509650698831, 2034.9908989394146, 3025.539775640048, 1048.529812875946, 843.8234685211709, 1143.5826647914032, 2055.4899605182304, 1455.847087377503, 3303.5606755875374, 2396.886944922089, 2082.3712334154034, 2245.7472674504806, 1414.735870348128, 1809.8608444626323, 1177.2624221159128, 1233.3610670075298, 1125.8289465357007, 1217.5375918829056, 1379.585812013834, 1225.4497413708366, 1222.6231254766744, 2264.203220737119, 1127.2840661121134, 1112.4714359325706, 1073.9465062529134, 2000.7583521507145, 899.1069063739421, 884.8161530144803, 488.19529673255647, 403.20660832986334, 385.44852017369647, 362.7467099925714, 357.7970085894597, 306.43461046129806, 296.5667588675131, 287.6613255761949, 456.9597760057999, 239.267912316701, 216.5675576223106, 217.5517311867506, 215.57991763484702, 162.23177672322564, 220.20164179827685, 152.34193314025407, 147.42136430878568, 149.35790525024785, 142.4752681891174, 151.29777707841808, 135.56404011677017, 134.5810138677741, 189.56463440936926, 839.9381382591803, 227.74515844771378, 321.01765136313475, 374.4052639673753, 5099.107531716769, 1367.7412369296421, 1570.4107201315119, 1350.5010279879648, 3113.7208246090604, 6351.800637126557, 3619.4420215824675, 1139.353805106844, 3100.8025288212452, 996.2833696922924, 2005.838172820422, 1562.625118740876, 2620.362425743385, 1166.2803111410255, 1123.9150348183973, 1552.6531558676243, 586.9759481949899, 1124.9599388358345, 812.8543445888812, 798.2129541818799, 1651.7758241789297, 1242.0427849301145, 1539.532306731128, 2941.173027665928, 1265.957382564809, 1756.7547406089625, 1616.6893966276339, 1391.999634653444, 1784.0232261630397, 1506.3775999447196, 1218.6441640544394, 1175.5474084587702, 1212.1291909902566, 4903.582576647313, 2286.364702845659, 1772.8458606054498, 1028.5801053077114, 1790.0913426334394, 893.9776533528121, 886.0569132398632, 791.0413537055995, 566.372196663318, 568.3434234254837, 528.6954779300333, 446.6049697859826, 418.8970041669735, 412.95635339636743, 486.01610758211706, 365.4539781607463, 600.519786399303, 355.5554510872656, 671.5852167114631, 348.6269342785507, 514.5353283429209, 296.16891492080106, 292.2135135040746, 284.29107565091095, 273.4113745530661, 264.50472167063526, 260.53781910714594, 232.83198106412928, 1532.9221454169895, 795.0497958312168, 758.9044513474968, 535.7687045005521, 530.8574184342012, 500.83236251498676, 807.0624736070363, 1370.4373694478957, 392.83607433250245, 1180.9903535301655, 977.9167130330557, 4075.3122862777655, 958.73915996389, 2884.3887229708944, 904.6426275450826, 2310.010943956397, 1135.895964200891, 820.5265061671363, 1052.7467015766792, 1087.883665611841, 1374.9012350246232, 1142.8503235358314, 1493.6938363207896, 1086.017005019029, 1704.9452729668415, 1108.7448156534529, 1165.2104181929817, 1019.7073433771913, 917.9768491770083, 1108.150593226183, 1059.0118802041004, 925.0073643776302], \"Total\": [8369.0, 4905.0, 8840.0, 5759.0, 6474.0, 4848.0, 4266.0, 4432.0, 3980.0, 2287.0, 2264.0, 4061.0, 2374.0, 2002.0, 1791.0, 1773.0, 4552.0, 2032.0, 2829.0, 2856.0, 5659.0, 2201.0, 1879.0, 1538.0, 4637.0, 4432.0, 3328.0, 1740.0, 1728.0, 2144.0, 1162.2394115967397, 827.790676721096, 844.4643843264852, 1115.163648669339, 857.2157027790237, 660.0761521550457, 481.57254438796366, 353.08930259064755, 327.5890166184251, 306.99229355290873, 302.08831886640587, 275.6071323440111, 257.9528695231747, 253.04890573445013, 244.2217923999058, 239.3178184738817, 225.58683318955286, 203.02870715692887, 198.1247603421191, 190.27846576307002, 188.31695046149207, 182.43217667296543, 183.41302819400084, 179.4898374979783, 174.58582151112032, 160.85486269449382, 150.0661537454642, 196.16559150651747, 139.27768791268818, 158.8943274742357, 4432.120989744842, 225.59168182213045, 404.129132312199, 453.1800536626724, 1690.6326280757794, 4432.994041108507, 709.3606440863593, 334.5083403659066, 227.56491650550973, 2027.6707238903994, 686.8419888247952, 1705.0425242881302, 640.840202767757, 464.1778687373832, 427.810665150584, 1170.5072471343838, 896.5544471767922, 623.3958334878216, 893.4885210434343, 1098.0747373379866, 3634.524370411202, 8716.097213917135, 6686.084663557278, 942.7876343366084, 509.4096645877483, 2933.5112659397682, 4226.975618673532, 1577.2707249584842, 2520.451615099007, 1102.3323292764017, 2757.4670189639905, 10483.47260266251, 5659.611940604198, 2205.099335838366, 5779.998505659082, 1425.0670226042546, 3193.6773518302057, 8758.041166868452, 2471.3090216311657, 2782.5398817789483, 1591.8402117689006, 2543.719212011872, 2904.952328908568, 2197.152222284558, 3690.733298970227, 2661.3191929354525, 2298.29662217173, 4485.741585734514, 2821.7445497192953, 3454.98734072981, 8369.955305404043, 2032.2675888878207, 808.3663391321403, 786.651958014457, 1527.8964551007098, 1282.130970800902, 598.1316926664213, 582.3394167077292, 1410.4379647345058, 829.093026197424, 828.1080511335272, 411.58545937215973, 388.88405488024665, 358.28654227012817, 578.3917972921448, 359.27388266817536, 296.10444930618894, 287.22125865705783, 269.45499727584996, 1879.2592150858002, 1740.1049395040197, 251.68867376091922, 251.68862113473548, 236.88342157577026, 228.0002708440252, 224.05217451734913, 225.0392091995598, 223.06516917429084, 209.2469478273032, 188.51957890934966, 179.6364079251684, 2374.789304450492, 833.9966179935581, 777.7856378869412, 2201.5093578890296, 590.1719561569454, 446.09227567830914, 385.9284015777262, 8369.955305404043, 2829.7450683511, 325.6896200455118, 515.1671974336642, 1165.561403772774, 1462.4602106269956, 1882.2316141199574, 3328.3256050052173, 3548.021224105776, 974.2033952020205, 3313.3795879698027, 5659.611940604198, 1468.2374081793405, 1094.2010742456466, 1748.6215326676042, 4485.741585734514, 2673.8975876730847, 10483.47260266251, 6474.185328012396, 5779.998505659082, 8716.097213917135, 4061.5163659326035, 8758.041166868452, 2453.6733658638263, 3097.411368878451, 2298.29662217173, 3165.851038430738, 8840.677081013544, 4226.975618673532, 4848.029549393205, 2264.948683384403, 1128.028648920593, 1113.2121591433877, 1074.6892377350468, 2002.2020885036054, 899.854441281251, 886.026165949446, 488.9433127032648, 403.9954048817036, 386.2154052242905, 363.4968698929501, 358.55794464044214, 307.1941210537084, 297.3164337297344, 288.4264402780619, 458.3181876056542, 240.02597949748994, 217.30733601706797, 218.29510853615903, 216.31956974394504, 162.98012370979316, 221.25630822640164, 153.1024455759842, 148.16362964763857, 150.13901212820835, 143.2247869342187, 152.11426991632877, 136.31039961002344, 135.32265123522922, 190.6353154490862, 846.4762492960969, 229.16002153216485, 324.96781927635783, 384.2268288715863, 5759.992092982691, 1489.6901393599387, 1728.4682674878109, 1528.8378745349337, 3980.2462102968466, 8840.677081013544, 4848.029549393205, 1367.5208463992183, 4266.507605905306, 1195.7613995257216, 2856.9621479776397, 2144.3329685072085, 4061.5163659326035, 1535.6966034995644, 1503.4653560808158, 2266.304306148114, 684.4411834431443, 1670.8890314726218, 1096.8288242441254, 1085.5097306610546, 3196.7002879841652, 2093.2145568921583, 2977.8178188008396, 8758.041166868452, 2453.6733658638263, 4828.693231171708, 4637.388964185515, 3165.851038430738, 6686.084663557278, 10483.47260266251, 3690.733298970227, 3214.150181345428, 8716.097213917135, 4905.129254021945, 2287.277664223836, 1773.604620415453, 1029.322702799063, 1791.4183184945916, 894.7185272883829, 886.8006233219401, 791.7858891224647, 567.1156775807275, 569.0951435746181, 529.5055005179221, 447.3574794822853, 419.6448884359354, 413.7064776517653, 486.946493738388, 366.1991196159655, 601.7535975188342, 356.30176583440266, 673.0112990328857, 349.37359078602, 515.6460406634254, 296.91754615017504, 292.95860452559805, 285.04069651079607, 274.153627679497, 265.24600737015055, 261.2870265290206, 233.57442660935254, 1538.035341653085, 797.7068888943414, 764.0617255452457, 538.4080834234888, 533.4506547661034, 503.75268911348394, 819.4546636170038, 1436.5097555139398, 396.871891046981, 1394.9812208995622, 1139.651226016253, 6474.185328012396, 1175.2092747182828, 4552.411440034035, 1138.41197493995, 4637.388964185515, 1878.6093653810703, 1121.391260220175, 1733.434801110107, 1962.8801654653764, 3530.3549329023463, 2475.670399212552, 4828.693231171708, 2977.8178188008396, 10483.47260266251, 3193.6773518302057, 4266.507605905306, 2757.4670189639905, 2044.2813258837468, 8840.677081013544, 8758.041166868452, 5779.998505659082], \"Category\": [\"Default\", \"Default\", \"Default\", \"Default\", \"Default\", \"Default\", \"Default\", \"Default\", \"Default\", \"Default\", \"Default\", \"Default\", \"Default\", \"Default\", \"Default\", \"Default\", \"Default\", \"Default\", \"Default\", \"Default\", \"Default\", \"Default\", \"Default\", \"Default\", \"Default\", \"Default\", \"Default\", \"Default\", \"Default\", \"Default\", \"Topic1\", \"Topic1\", \"Topic1\", \"Topic1\", \"Topic1\", \"Topic1\", \"Topic1\", \"Topic1\", \"Topic1\", \"Topic1\", \"Topic1\", \"Topic1\", \"Topic1\", \"Topic1\", \"Topic1\", \"Topic1\", \"Topic1\", \"Topic1\", \"Topic1\", \"Topic1\", \"Topic1\", \"Topic1\", \"Topic1\", \"Topic1\", \"Topic1\", \"Topic1\", \"Topic1\", \"Topic1\", \"Topic1\", \"Topic1\", \"Topic1\", \"Topic1\", \"Topic1\", \"Topic1\", \"Topic1\", \"Topic1\", \"Topic1\", \"Topic1\", \"Topic1\", \"Topic1\", \"Topic1\", \"Topic1\", \"Topic1\", \"Topic1\", \"Topic1\", \"Topic1\", \"Topic1\", \"Topic1\", \"Topic1\", \"Topic1\", \"Topic1\", \"Topic1\", \"Topic1\", \"Topic1\", \"Topic1\", \"Topic1\", \"Topic1\", \"Topic1\", \"Topic1\", \"Topic1\", \"Topic1\", \"Topic1\", \"Topic1\", \"Topic1\", \"Topic1\", \"Topic1\", \"Topic1\", \"Topic1\", \"Topic1\", \"Topic1\", \"Topic1\", \"Topic1\", \"Topic1\", \"Topic1\", \"Topic1\", \"Topic1\", \"Topic1\", \"Topic1\", \"Topic1\", \"Topic1\", \"Topic1\", \"Topic2\", \"Topic2\", \"Topic2\", \"Topic2\", \"Topic2\", \"Topic2\", \"Topic2\", \"Topic2\", \"Topic2\", \"Topic2\", \"Topic2\", \"Topic2\", \"Topic2\", \"Topic2\", \"Topic2\", \"Topic2\", \"Topic2\", \"Topic2\", \"Topic2\", \"Topic2\", \"Topic2\", \"Topic2\", \"Topic2\", \"Topic2\", \"Topic2\", \"Topic2\", \"Topic2\", \"Topic2\", \"Topic2\", \"Topic2\", \"Topic2\", \"Topic2\", \"Topic2\", \"Topic2\", \"Topic2\", \"Topic2\", \"Topic2\", \"Topic2\", \"Topic2\", \"Topic2\", \"Topic2\", \"Topic2\", \"Topic2\", \"Topic2\", \"Topic2\", \"Topic2\", \"Topic2\", \"Topic2\", \"Topic2\", \"Topic2\", \"Topic2\", \"Topic2\", \"Topic2\", \"Topic2\", \"Topic2\", \"Topic2\", \"Topic2\", \"Topic2\", \"Topic2\", \"Topic2\", \"Topic2\", \"Topic2\", \"Topic2\", \"Topic2\", \"Topic2\", \"Topic2\", \"Topic2\", \"Topic3\", \"Topic3\", \"Topic3\", \"Topic3\", \"Topic3\", \"Topic3\", \"Topic3\", \"Topic3\", \"Topic3\", \"Topic3\", \"Topic3\", \"Topic3\", \"Topic3\", \"Topic3\", \"Topic3\", \"Topic3\", \"Topic3\", \"Topic3\", \"Topic3\", \"Topic3\", \"Topic3\", \"Topic3\", \"Topic3\", \"Topic3\", \"Topic3\", \"Topic3\", \"Topic3\", \"Topic3\", \"Topic3\", \"Topic3\", \"Topic3\", \"Topic3\", \"Topic3\", \"Topic3\", \"Topic3\", \"Topic3\", \"Topic3\", \"Topic3\", \"Topic3\", \"Topic3\", \"Topic3\", \"Topic3\", \"Topic3\", \"Topic3\", \"Topic3\", \"Topic3\", \"Topic3\", \"Topic3\", \"Topic3\", \"Topic3\", \"Topic3\", \"Topic3\", \"Topic3\", \"Topic3\", \"Topic3\", \"Topic3\", \"Topic3\", \"Topic3\", \"Topic3\", \"Topic3\", \"Topic3\", \"Topic3\", \"Topic3\", \"Topic3\", \"Topic3\", \"Topic3\", \"Topic3\", \"Topic4\", \"Topic4\", \"Topic4\", \"Topic4\", \"Topic4\", \"Topic4\", \"Topic4\", \"Topic4\", \"Topic4\", \"Topic4\", \"Topic4\", \"Topic4\", \"Topic4\", \"Topic4\", \"Topic4\", \"Topic4\", \"Topic4\", \"Topic4\", \"Topic4\", \"Topic4\", \"Topic4\", \"Topic4\", \"Topic4\", \"Topic4\", \"Topic4\", \"Topic4\", \"Topic4\", \"Topic4\", \"Topic4\", \"Topic4\", \"Topic4\", \"Topic4\", \"Topic4\", \"Topic4\", \"Topic4\", \"Topic4\", \"Topic4\", \"Topic4\", \"Topic4\", \"Topic4\", \"Topic4\", \"Topic4\", \"Topic4\", \"Topic4\", \"Topic4\", \"Topic4\", \"Topic4\", \"Topic4\", \"Topic4\", \"Topic4\", \"Topic4\", \"Topic4\", \"Topic4\", \"Topic4\", \"Topic4\", \"Topic4\", \"Topic4\", \"Topic4\", \"Topic4\", \"Topic4\"], \"logprob\": [30.0, 29.0, 28.0, 27.0, 26.0, 25.0, 24.0, 23.0, 22.0, 21.0, 20.0, 19.0, 18.0, 17.0, 16.0, 15.0, 14.0, 13.0, 12.0, 11.0, 10.0, 9.0, 8.0, 7.0, 6.0, 5.0, 4.0, 3.0, 2.0, 1.0, -5.6989, -6.0385, -6.0186, -5.7406, -6.0037, -6.2652, -6.5809, -6.8918, -6.967, -7.032, -7.0481, -7.1402, -7.2065, -7.2258, -7.2614, -7.2817, -7.341, -7.4467, -7.4713, -7.5118, -7.5223, -7.5541, -7.5488, -7.5705, -7.5982, -7.6806, -7.7503, -7.4827, -7.8255, -7.6938, -4.3932, -7.3444, -6.7689, -6.659, -5.3903, -4.4783, -6.2457, -6.9692, -7.3403, -5.2538, -6.2852, -5.4418, -6.3832, -6.6819, -6.7683, -5.868, -6.1073, -6.4418, -6.1306, -5.9714, -4.9664, -4.2671, -4.5545, -6.1366, -6.6288, -5.2662, -4.9984, -5.7627, -5.4208, -6.0403, -5.3964, -4.4702, -4.9343, -5.5727, -4.9507, -5.8661, -5.368, -4.7675, -5.5722, -5.5274, -5.8153, -5.5897, -5.548, -5.6812, -5.5398, -5.6488, -5.6963, -5.5069, -5.6455, -5.6012, -5.6365, -4.8569, -5.7794, -5.8066, -5.1428, -5.3183, -6.0809, -6.1077, -5.2233, -5.7546, -5.7561, -6.4552, -6.5121, -6.5942, -6.1156, -6.5918, -6.7852, -6.8158, -6.8798, -4.9376, -5.0146, -6.9482, -6.9483, -7.009, -7.0474, -7.0649, -7.0605, -7.0693, -7.1335, -7.2382, -7.2867, -4.7052, -5.7546, -5.8262, -4.8162, -6.1126, -6.3884, -6.5403, -3.6012, -4.6579, -6.7046, -6.2777, -5.5418, -5.3368, -5.1171, -4.6193, -4.6908, -5.7907, -4.8552, -4.4586, -5.5183, -5.7355, -5.4315, -4.8452, -5.1901, -4.3707, -4.6915, -4.8322, -4.7567, -5.2187, -4.9724, -5.4025, -5.3559, -5.4472, -5.3689, -5.2439, -5.3624, -5.3647, -4.5332, -5.2306, -5.2438, -5.2791, -4.6569, -5.4567, -5.4728, -6.0674, -6.2587, -6.3037, -6.3644, -6.3782, -6.5331, -6.5659, -6.5964, -6.1336, -6.7806, -6.8802, -6.8757, -6.8848, -7.1691, -6.8636, -7.232, -7.2649, -7.2518, -7.299, -7.2389, -7.3487, -7.356, -7.0134, -5.5248, -6.8299, -6.4866, -6.3328, -3.7213, -5.0372, -4.8991, -5.0499, -4.2146, -3.5017, -4.0641, -5.2199, -4.2187, -5.3541, -4.6543, -4.904, -4.3871, -5.1966, -5.2336, -4.9104, -5.8832, -5.2326, -5.5576, -5.5758, -4.8485, -5.1336, -4.9189, -4.2716, -5.1146, -4.7869, -4.87, -5.0196, -4.7715, -4.9407, -5.1527, -5.1887, -5.158, -3.7496, -4.5126, -4.767, -5.3114, -4.7573, -5.4516, -5.4605, -5.574, -5.9081, -5.9046, -5.9769, -6.1456, -6.2097, -6.224, -6.0611, -6.3462, -5.8495, -6.3736, -5.7377, -6.3933, -6.004, -6.5564, -6.5698, -6.5973, -6.6363, -6.6694, -6.6846, -6.797, -4.9124, -5.5689, -5.6154, -5.9636, -5.9728, -6.031, -5.5539, -5.0244, -6.2739, -5.1732, -5.3619, -3.9346, -5.3817, -4.2802, -5.4398, -4.5023, -5.2121, -5.5374, -5.2881, -5.2553, -5.0212, -5.206, -4.9383, -5.257, -4.806, -5.2363, -5.1866, -5.32, -5.4251, -5.2369, -5.2822, -5.4175], \"loglift\": [30.0, 29.0, 28.0, 27.0, 26.0, 25.0, 24.0, 23.0, 22.0, 21.0, 20.0, 19.0, 18.0, 17.0, 16.0, 15.0, 14.0, 13.0, 12.0, 11.0, 10.0, 9.0, 8.0, 7.0, 6.0, 5.0, 4.0, 3.0, 2.0, 1.0, 1.0853, 1.085, 1.085, 1.085, 1.0849, 1.0848, 1.0844, 1.0838, 1.0835, 1.0835, 1.0835, 1.0832, 1.083, 1.083, 1.0829, 1.0828, 1.0826, 1.0822, 1.0822, 1.082, 1.0819, 1.0818, 1.0818, 1.0817, 1.0817, 1.0812, 1.0809, 1.0807, 1.0803, 1.0803, 1.0525, 1.0792, 1.0716, 1.067, 1.0192, 0.9672, 1.0323, 1.0605, 1.0746, 0.9738, 1.025, 0.9592, 0.9963, 1.0201, 1.0153, 0.9092, 0.9365, 0.9654, 0.9166, 0.8696, 0.6777, 0.5023, 0.48, 0.8569, 0.9802, 0.5921, 0.4947, 0.7162, 0.5893, 0.7968, 0.5239, 0.1146, 0.2669, 0.5711, 0.2294, 0.7142, 0.4054, -0.0029, 0.4576, 0.3838, 0.6544, 0.4112, 0.3201, 0.4662, 0.0889, 0.3069, 0.4061, -0.0732, 0.2517, 0.0935, -0.8265, 1.3685, 1.368, 1.3679, 1.3678, 1.3678, 1.3676, 1.3676, 1.3674, 1.3673, 1.3671, 1.3671, 1.3669, 1.3668, 1.3665, 1.3664, 1.3664, 1.3663, 1.3661, 1.3661, 1.366, 1.3659, 1.3659, 1.3657, 1.3656, 1.3655, 1.3655, 1.3655, 1.3653, 1.3649, 1.3647, 1.3644, 1.3615, 1.3597, 1.3292, 1.3493, 1.3534, 1.3463, 1.2087, 1.2365, 1.3517, 1.3201, 1.2396, 1.2177, 1.185, 1.1128, 0.9774, 1.17, 0.8814, 0.7426, 1.0322, 1.109, 0.9442, 0.5885, 0.7609, 0.2141, 0.3752, 0.348, 0.0127, 0.3143, -0.2079, 0.6345, 0.448, 0.6552, 0.4133, -0.4887, 0.1307, -0.0087, 1.5838, 1.5835, 1.5835, 1.5835, 1.5835, 1.5833, 1.5828, 1.5826, 1.5822, 1.5822, 1.5821, 1.582, 1.5817, 1.5816, 1.5815, 1.5812, 1.581, 1.5808, 1.5808, 1.5807, 1.5796, 1.5794, 1.5792, 1.5791, 1.579, 1.5789, 1.5788, 1.5787, 1.5787, 1.5785, 1.5764, 1.578, 1.5719, 1.5583, 1.4623, 1.4988, 1.4883, 1.4601, 1.3386, 1.2535, 1.2919, 1.4016, 1.265, 1.4017, 1.2305, 1.2677, 1.1459, 1.309, 1.2932, 1.206, 1.4306, 1.1886, 1.2845, 1.2767, 0.9239, 1.0622, 0.9245, 0.493, 0.9224, 0.5731, 0.5304, 0.7625, 0.263, -0.3559, 0.4761, 0.5783, -0.3886, 1.5947, 1.5946, 1.5946, 1.5943, 1.5943, 1.5942, 1.5942, 1.5941, 1.5937, 1.5937, 1.5935, 1.5933, 1.5932, 1.5932, 1.5931, 1.593, 1.593, 1.5929, 1.5929, 1.5929, 1.5929, 1.5925, 1.5925, 1.5924, 1.5923, 1.5922, 1.5921, 1.5918, 1.5917, 1.5917, 1.5882, 1.5901, 1.5901, 1.5892, 1.5798, 1.5479, 1.5848, 1.4285, 1.442, 1.1321, 1.3914, 1.1387, 1.3652, 0.8981, 1.0919, 1.2826, 1.0963, 1.0048, 0.652, 0.822, 0.4217, 0.5863, -0.2213, 0.5371, 0.2971, 0.6002, 0.7944, -0.4817, -0.5176, -0.2373]}, \"token.table\": {\"Topic\": [2, 3, 3, 3, 3, 1, 4, 1, 2, 4, 1, 2, 4, 4, 4, 1, 3, 1, 2, 3, 4, 1, 3, 4, 2, 3, 4, 2, 4, 2, 3, 4, 1, 2, 3, 4, 1, 2, 3, 1, 2, 1, 1, 2, 3, 4, 3, 4, 1, 2, 3, 4, 1, 3, 2, 2, 1, 4, 1, 2, 3, 4, 4, 4, 2, 3, 4, 1, 2, 3, 4, 2, 3, 3, 1, 2, 3, 4, 2, 1, 2, 3, 4, 2, 2, 4, 1, 2, 4, 2, 1, 2, 3, 4, 1, 2, 1, 3, 1, 3, 4, 1, 4, 1, 2, 3, 4, 1, 2, 3, 4, 4, 4, 2, 3, 1, 1, 2, 3, 4, 1, 1, 2, 3, 4, 1, 3, 4, 3, 4, 4, 1, 1, 2, 3, 4, 2, 1, 2, 3, 4, 3, 4, 2, 2, 4, 3, 1, 2, 4, 1, 2, 3, 1, 2, 3, 4, 2, 3, 1, 2, 4, 1, 2, 4, 1, 1, 3, 2, 1, 2, 3, 4, 1, 2, 3, 4, 2, 1, 4, 1, 2, 4, 3, 1, 2, 3, 1, 2, 4, 1, 2, 3, 1, 2, 1, 1, 2, 3, 1, 2, 3, 4, 1, 2, 4, 1, 2, 3, 4, 1, 2, 3, 4, 1, 2, 3, 4, 1, 2, 4, 1, 2, 4, 2, 1, 4, 1, 2, 3, 4, 2, 4, 1, 2, 3, 4, 1, 2, 3, 4, 1, 4, 1, 2, 4, 1, 2, 4, 1, 2, 3, 4, 2, 2, 3, 4, 1, 3, 2, 4, 3, 4, 1, 1, 2, 1, 4, 1, 2, 3, 4, 1, 2, 3, 4, 2, 4, 1, 3, 1, 2, 3, 4, 2, 1, 2, 3, 4, 1, 2, 3, 4, 1, 2, 3, 4, 1, 2, 3, 4, 1, 2, 3, 4, 1, 2, 3, 4, 1, 2, 1, 2, 3, 1, 2, 3, 4, 2, 1, 2, 3, 4, 1, 3, 1, 2, 3, 1, 2, 3, 4, 1, 2, 3, 4, 3, 1, 2, 1, 2, 3, 4, 1, 2, 3, 4, 1, 2, 3, 4, 1, 2, 3, 4, 1, 2, 3, 4, 1, 2, 3, 4, 1, 2, 3, 4, 4, 1, 2, 3, 4, 1, 3, 4, 1, 4, 3, 1, 2, 4, 1, 2, 4, 1, 2, 3, 4, 1, 3, 4, 1, 1, 2, 3, 4, 1, 2, 3, 4, 1, 1, 2, 4, 2, 2, 1, 2, 3, 4, 1, 2, 3, 4, 2, 3, 1, 2, 3, 4, 4, 1, 2, 3, 2, 2, 4, 1, 2, 3, 4, 2, 3, 4, 3, 1, 2, 3, 4, 4, 3, 4, 1, 2, 3, 4, 2, 4, 2, 4, 3, 2, 3, 4, 1, 2, 3, 4, 1, 2, 3, 4, 1, 2, 4, 2, 3, 1, 3, 3, 1, 2, 3, 4, 4, 1, 1, 1, 1, 2, 3, 4, 3, 1, 2, 3, 4, 1, 3, 1, 2, 3, 4, 4, 4, 4, 1, 2, 1, 2, 3, 4, 1, 2, 3, 4, 1, 2, 3, 4, 3, 1, 2, 3, 4, 1, 1, 1, 2, 4, 1, 2, 3, 4, 1, 2, 3, 1, 2, 3, 4, 1, 1, 2, 3, 4, 1, 2, 4, 1, 2, 3, 4, 1, 2, 1, 2, 3, 4, 1, 2, 1, 2, 1, 2, 3, 4, 1, 3, 4, 1, 2, 3, 1, 2, 3, 4, 1, 2, 3, 4, 1], \"Freq\": [0.0004994500833566578, 0.9993996167966722, 0.9986481211689169, 0.992799294800049, 0.9980707115144916, 0.0014858591548715387, 0.998497352073674, 0.16629196834861582, 0.8319911259870043, 0.0010625684878505803, 0.8941293961780341, 0.10504664169107626, 0.0009863534431086972, 0.9994414039695222, 0.9996864901568909, 0.0021818902828713823, 0.9971238592722216, 0.8610743077913356, 0.01115381227708984, 0.002230762455417968, 0.1260380787311152, 0.1664211606754742, 0.8329420906169462, 0.0008362872395752472, 0.00017361134943540713, 0.8852442707711409, 0.1145834906273687, 0.003714654481565213, 0.9955274010594771, 0.9995468154543229, 0.9939862377848087, 0.9990725312980593, 0.250483018662026, 0.6542296195190815, 0.005718790380411553, 0.08921312993442021, 0.7955131916083485, 0.18774111321957024, 0.01697094808764477, 0.992944412625172, 0.004432787556362375, 0.9963060324743196, 0.44084294580339084, 0.5346656328661565, 0.02420660664331244, 0.0003533811188804736, 0.9985857080451079, 0.9967278499051073, 0.002128498276283495, 0.9972014424388176, 0.0005321245690708738, 0.0005321245690708738, 0.9976310282492536, 0.9926747837862834, 0.9998683298945061, 0.9992002427210561, 0.0019393148034520138, 0.9987471237777871, 0.14607441953143674, 0.6141765366662681, 0.16931353172961985, 0.07032094989839827, 0.997540712749717, 0.998075640625328, 0.2522674392842912, 0.7464888493621012, 0.0012376162188926796, 0.8438832533846806, 0.11639769012202492, 0.0011192085588656241, 0.03805309100143122, 0.240281836372574, 0.759264556125803, 0.9993586632201701, 0.0024453132529674232, 0.4796889497904429, 0.5159610963761263, 0.0016302088353116156, 0.9962700685221826, 0.22470376618137625, 0.3980743443989036, 0.25892589149060885, 0.11816318738848235, 0.9972639957593997, 0.00020386822613900607, 0.9997697809856858, 0.01961848712436059, 0.2479063372987384, 0.7321262695045476, 0.9964572442050081, 0.5578184685958717, 0.2576841383106392, 0.139053061278938, 0.045433178437672805, 0.0006544946135987245, 0.9987587803516537, 0.996914937431819, 0.997536098505885, 0.9405365579138851, 0.0567816188214265, 0.002911877888278282, 0.9943229693240923, 0.9980327160316095, 0.3322882404524961, 0.05365070548972593, 0.006922671676093669, 0.6074644395772195, 0.07655169810892717, 0.07655169810892717, 0.3486875939215077, 0.4981251341735824, 0.9996591007891538, 0.9989014895502717, 0.9768651347212961, 0.020729233628038114, 0.9908263273763623, 0.8990799190483503, 0.037298075244363876, 0.029445848877129376, 0.03337196206074663, 0.9977480978419703, 0.0009117192928341808, 0.05014456110587995, 0.7412277850741891, 0.20787199876619322, 0.007088208328336928, 0.99234916596717, 0.0011813680547228215, 0.9976156893743653, 0.9990453347180952, 0.9989306839558781, 0.9986719815686588, 0.15987182496881264, 0.0008784166207077618, 0.04479924765609585, 0.7949670417405245, 0.9972637872390977, 0.00011311350825692125, 0.15609664139455134, 0.7184970044479638, 0.12532976714866875, 0.7268239709001999, 0.2730570545303879, 0.9953820971765047, 0.9912756965976176, 0.008999909048227396, 0.9986330834345385, 0.03815564067397171, 0.9611587579300492, 0.0009084676350945645, 0.26162823969072063, 0.0027636785882822605, 0.7351385044830813, 0.4245675838146562, 0.3602077055835836, 0.05501731526204592, 0.16003464345091972, 0.995748021358976, 0.9968530379476067, 0.012281631816945965, 0.9825305453556772, 0.0030704079542364913, 0.887076830311865, 0.025665875741392116, 0.08662233062719839, 0.9985365355877067, 0.9990448349524449, 0.9924136164740733, 0.9994171496931323, 0.5379690983681497, 0.27672183740087564, 0.10695663123224634, 0.07828315136998455, 0.3136605114468742, 0.4581182310044964, 0.22649543683725953, 0.0015605000569496228, 0.996454285352682, 0.00397020213136658, 0.9945356339073282, 0.9848337280781231, 0.007423369809634094, 0.007423369809634094, 0.9985214938073959, 0.016944214132297204, 0.9810699982600082, 0.0016944214132297204, 0.9371407585270053, 0.002154346571326449, 0.06247605056846702, 0.15910435209257062, 0.8201572730449286, 0.02052959381839621, 0.9988110942066033, 0.9981079540169887, 0.9977971094621263, 0.003077227776666661, 0.009231683329999983, 0.9877901163099982, 0.0004777341131645492, 0.2689643057116412, 0.59334576855037, 0.1371096904782256, 0.932655570565444, 0.06544951372389081, 0.0023374826329961, 0.6647362223428038, 0.1062037176425175, 0.1961742245572927, 0.03274156062036161, 0.5535872952904128, 0.2898053148422033, 0.14170888456365696, 0.014667697567523758, 0.8050453852922995, 0.12021039689885016, 0.007285478599930313, 0.0664799922243641, 0.0011493559696290833, 0.9970663036532298, 0.001724033954443625, 0.26698679506204115, 0.7144621122961253, 0.018389396598660995, 0.996270648364104, 0.0025071865717144455, 0.9966066622564921, 0.5333205958719262, 0.2132473095785319, 0.08902164726238523, 0.16428540358422003, 0.9986619486043996, 0.0012075718846486089, 0.003939415370625027, 0.3483920468396508, 0.6450792669398482, 0.0024621346066406417, 0.0029220918442382678, 0.13879936260131773, 0.8576339562839316, 0.0014610459221191339, 0.9973986372287085, 0.9990074474257987, 0.046329605480422455, 0.878546592813937, 0.07464214216290285, 0.04455242977246801, 0.0013922634303896253, 0.9537004498168934, 0.8380981855530307, 0.005980313250633247, 0.12387791733454583, 0.03161022718191859, 0.9983114164500569, 0.11111260687799603, 0.04157762063821787, 0.8466063788575052, 0.9972709457827449, 0.9977228471861906, 0.18379705185000245, 0.8160248737229275, 0.9957255481275906, 0.9982923215131285, 0.9966445069476446, 0.9963973487273861, 0.9988198259049064, 0.9887288579237229, 0.008788700959321981, 0.6086210863205729, 0.2547162564653245, 0.09522103045432691, 0.04126244653020833, 0.20836727946814357, 0.039737525179743764, 0.19817817044769645, 0.5542875307123233, 0.010078819110740416, 0.9902439776302459, 0.9994500841774925, 0.9921463205888927, 0.6101902592920715, 0.3054360180590481, 0.011931094455431565, 0.07226834355861406, 0.9977266877642518, 0.42313158617053787, 0.011740067130743248, 0.11593316291608956, 0.4490575677509292, 0.6495626837137053, 0.21673029582323822, 0.05025630048075089, 0.08355109954924836, 0.0213522911683763, 0.9530886330611604, 0.023293408547319604, 0.0038822347578866007, 0.5063128869525105, 0.14466082484357443, 0.001878712010955512, 0.3472486033582771, 0.7493203075538998, 0.1270034419582881, 0.10613859077942649, 0.017236181408624814, 0.00035002213827294525, 0.2964687511171846, 0.7021444093755281, 0.0010500664148188356, 0.005995228148561414, 0.9928097814017701, 0.07988238416556186, 0.0013425610784128042, 0.9183117776343581, 0.0052052585861161365, 0.01561577575834841, 0.9733833556037176, 0.0052052585861161365, 0.9952248520993496, 0.06380511218665236, 0.05473806992854913, 0.5171572250918138, 0.3646965886037077, 0.9983169307876144, 0.9961128128051004, 0.26535058144263535, 0.005596145830073153, 0.7288979943670282, 0.5977054995116144, 0.1419437187762787, 0.003627954473515111, 0.2571312733103835, 0.3707683628529329, 0.16179509354784505, 0.2616507416229909, 0.2057894660331267, 0.999088100358464, 0.9946855029423797, 0.9991712243161479, 0.1682985427261503, 0.20959112198238047, 0.5167828858431233, 0.10542120613143616, 0.49559038094302904, 0.24689673075261853, 0.1753793371284976, 0.08229891025087284, 0.3690323547301615, 0.19318654105918145, 0.3302866669721489, 0.10756669957993693, 0.010148681241792972, 0.2938705090014834, 0.6852566073262819, 0.011031175262818448, 0.3304155513836515, 0.04039309919115544, 0.16763136164329506, 0.4616931237549066, 0.8881130819240894, 0.040379030140820935, 0.0277464843984412, 0.04376274775038693, 0.2015784009398265, 0.5445234726686223, 0.2505705540439402, 0.0033658731140230776, 0.9980562674738211, 0.0005785469243548331, 0.0908318671237088, 0.908318671237088, 0.0005785469243548331, 0.004519645148271863, 0.9943219326198098, 0.9984632520168685, 0.9949331935796953, 0.9969097611034716, 0.9984439205746741, 0.5068971466786373, 0.4899280576481936, 0.0034808387754756203, 0.10966905701744921, 0.7713390343560594, 0.11880814510223665, 0.0013087947826288318, 0.0013087947826288318, 0.005235179130515327, 0.9933752400152833, 0.03351509223245361, 0.6732942635983984, 0.2932570570339691, 0.9982019646919018, 0.040857466960106184, 0.19418279996093477, 0.13135895291475, 0.6335104016825066, 0.21102694039534625, 0.11981798092245834, 0.27957528881906946, 0.38947925240751824, 0.994997201568707, 0.0003533887243710977, 0.8760506477159512, 0.1236860535298842, 0.9953038861612671, 0.9985775508856586, 0.19219916547397362, 0.013818240654991567, 0.7823636618117044, 0.011557074002356584, 0.059488797963741374, 0.8595105636830219, 0.024616054329824017, 0.05675368081598315, 0.997593677333149, 0.0017289318497974852, 0.5456107996782545, 0.07313697397002919, 0.2668228252812517, 0.11441673841937082, 0.9963489546456513, 0.9989565220577917, 0.9986816603651376, 0.0012061372709723885, 0.9972438994805972, 0.9954567319171126, 0.00421089988120606, 0.9351528970545425, 0.030166222485630403, 0.03430668439542281, 0.0005914945585417726, 0.37023963302822066, 0.0003089191764941349, 0.6294228221067999, 0.9990504672288616, 0.3366049489641865, 0.20666721764761792, 0.33580568348157147, 0.1209174494413411, 0.9991530610753613, 0.8328940673914184, 0.16672506353401526, 0.8809164455456018, 0.05219811162021209, 0.053371102892576405, 0.013489399632189642, 0.0005582169109671405, 0.9992082706311814, 0.003250900590246506, 0.9967261209695787, 0.9989111157891768, 0.995612852386875, 0.9988418333578825, 0.0011286348399524096, 0.011406998652949812, 0.1298642923566594, 0.0008774614348422932, 0.8581572832757628, 0.1756241823290588, 0.3847306727999885, 0.43969219748570115, 0.9967254983648703, 0.0037491752650991106, 0.0018745876325495553, 0.9954060328838139, 0.004363762899453386, 0.9949379410753719, 0.00524561777886886, 0.9966673779850834, 0.9995811457489688, 0.46506787273427996, 0.2179037479206508, 0.2922595292016312, 0.024785260426993454, 0.9992009086721898, 0.9989336004403456, 0.994371558201908, 0.996767692304505, 0.9144245280946719, 0.05773670228584105, 0.009362708478785037, 0.020285868370700913, 0.9985226961003884, 0.45879502287481305, 0.29534225059754554, 0.11911385933768694, 0.12662892932744635, 0.994058124579515, 0.991448498821777, 0.6910671597158378, 0.2878389821201746, 0.020288210193492483, 0.0012680131370932802, 0.9991969236508821, 0.9990971777636546, 0.9957920393420959, 0.01345013201781325, 0.9841013259700027, 0.6897921181304201, 0.25823346843539635, 0.024560248356627366, 0.027367133883099068, 0.5700884141818737, 0.054035097781869705, 0.006165078270414665, 0.36990469622487987, 0.3785959243115668, 0.3151627447531914, 0.14365468934573433, 0.16263694909327825, 0.9989357005068141, 0.03990780350031213, 0.03059598268357263, 0.7476061855725139, 0.1822456359847587, 0.9985818006190479, 0.9958549287877544, 0.14767103943816515, 0.8519758755934916, 0.00023894990200350348, 0.9745646390861298, 0.011957848332345151, 0.008968386249258864, 0.005978924166172576, 0.9473319468766427, 0.021145802385639345, 0.031013843498937706, 0.5094901960405335, 0.03616751391645762, 0.13720067779177947, 0.3172519970715359, 0.9983696545443548, 0.20274636493369458, 0.12405012522500823, 0.3638665609688472, 0.30940047927573006, 0.00244064752914111, 0.012203237645705552, 0.984801278008438, 0.04120777032631033, 0.0019622747774433492, 0.8836777414419883, 0.07391234995036615, 0.0014179992668989668, 0.9982714838968726, 0.28156539572329714, 0.6761515358760659, 0.042277086444939514, 0.9987476642899328, 0.0007799515203780899, 0.9991178976043332, 0.9670313626178211, 0.0327157133876771, 0.24703263855195323, 0.2050308675135229, 0.3658820943792154, 0.18231879872977907, 0.030341592589919683, 0.3646314197209646, 0.60470261723068, 0.9819496608543119, 0.013239770708148026, 0.004413256902716009, 0.191387525019206, 0.7739627385392067, 0.017726631045734936, 0.01682527692476536, 0.43412859612747795, 0.3558082534791738, 0.15912142013162253, 0.051032259463148426, 0.992895441651203], \"Term\": [\"20\", \"20\", \"212\", \"28\", \"aboard\", \"accountable\", \"accountable\", \"administration\", \"administration\", \"administration\", \"air\", \"air\", \"air\", \"alabama\", \"alan\", \"alarm\", \"alarm\", \"american\", \"american\", \"american\", \"american\", \"animal\", \"animal\", \"animal\", \"another\", \"another\", \"another\", \"apologize\", \"apologize\", \"apply\", \"aquatic\", \"audio\", \"back\", \"back\", \"back\", \"back\", \"bad\", \"bad\", \"bad\", \"balloon\", \"balloon\", \"basically\", \"biden\", \"biden\", \"biden\", \"biden\", \"biometrics\", \"bipartisan\", \"blame\", \"blame\", \"blame\", \"blame\", \"bottle\", \"box\", \"brake\", \"braking\", \"brockovich\", \"brockovich\", \"buttigieg\", \"buttigieg\", \"buttigieg\", \"buttigieg\", \"buyback\", \"calhoun\", \"car\", \"car\", \"car\", \"care\", \"care\", \"care\", \"care\", \"cargo\", \"cargo\", \"carolina\", \"carry\", \"carry\", \"carry\", \"carry\", \"categorize\", \"cause\", \"cause\", \"cause\", \"cause\", \"cdc\", \"ceo\", \"ceo\", \"change\", \"change\", \"change\", \"chao\", \"chemical\", \"chemical\", \"chemical\", \"chemical\", \"chloride\", \"chloride\", \"cincinnati\", \"clark\", \"cleveland\", \"cleveland\", \"cleveland\", \"collides\", \"committee\", \"community\", \"community\", \"community\", \"community\", \"company\", \"company\", \"company\", \"company\", \"congress\", \"congressional\", \"contain\", \"contain\", \"contaminated\", \"country\", \"country\", \"country\", \"country\", \"craft\", \"crew\", \"crew\", \"crew\", \"crew\", \"danger\", \"danger\", \"danger\", \"dayton\", \"de\", \"deeply\", \"delivers\", \"demand\", \"demand\", \"demand\", \"demand\", \"deploy\", \"derail\", \"derail\", \"derail\", \"derail\", \"derails\", \"derails\", \"deregulate\", \"deregulation\", \"deregulation\", \"detector\", \"dewine\", \"dewine\", \"dewine\", \"die\", \"die\", \"die\", \"disaster\", \"disaster\", \"disaster\", \"disaster\", \"disposal\", \"door\", \"dot\", \"dot\", \"dot\", \"drink\", \"drink\", \"drink\", \"drinking\", \"dump\", \"economy\", \"ecp\", \"environmental\", \"environmental\", \"environmental\", \"environmental\", \"epa\", \"epa\", \"epa\", \"epa\", \"era\", \"erin\", \"erin\", \"everyone\", \"everyone\", \"everyone\", \"farmer\", \"fault\", \"fault\", \"fault\", \"feel\", \"feel\", \"feel\", \"fema\", \"fema\", \"fema\", \"file\", \"flammable\", \"food\", \"footage\", \"footage\", \"footage\", \"freight\", \"freight\", \"freight\", \"freight\", \"general\", \"general\", \"general\", \"get\", \"get\", \"get\", \"get\", \"go\", \"go\", \"go\", \"go\", \"good\", \"good\", \"good\", \"good\", \"gop\", \"gop\", \"gop\", \"gov\", \"gov\", \"gov\", \"gutted\", \"hall\", \"hall\", \"happen\", \"happen\", \"happen\", \"happen\", \"hazard\", \"hazard\", \"hazardous\", \"hazardous\", \"hazardous\", \"hazardous\", \"hazmat\", \"hazmat\", \"hazmat\", \"hazmat\", \"headache\", \"hearing\", \"high\", \"high\", \"high\", \"hold\", \"hold\", \"hold\", \"home\", \"home\", \"home\", \"home\", \"homendy\", \"hour\", \"hour\", \"hour\", \"illusion\", \"indication\", \"industry\", \"industry\", \"injury\", \"inspection\", \"intake\", \"jd\", \"jennifer\", \"josh\", \"josh\", \"know\", \"know\", \"know\", \"know\", \"last\", \"last\", \"last\", \"last\", \"lawmaker\", \"lawmaker\", \"lawsuit\", \"lexington\", \"like\", \"like\", \"like\", \"like\", \"liquid\", \"live\", \"live\", \"live\", \"live\", \"look\", \"look\", \"look\", \"look\", \"maga\", \"maga\", \"maga\", \"maga\", \"make\", \"make\", \"make\", \"make\", \"many\", \"many\", \"many\", \"many\", \"material\", \"material\", \"material\", \"material\", \"mike\", \"mike\", \"mile\", \"mile\", \"mile\", \"minute\", \"minute\", \"minute\", \"minute\", \"mixed\", \"month\", \"month\", \"month\", \"month\", \"multimillion\", \"myid\", \"near\", \"near\", \"near\", \"need\", \"need\", \"need\", \"need\", \"news\", \"news\", \"news\", \"news\", \"north\", \"nuke\", \"obama\", \"official\", \"official\", \"official\", \"official\", \"oh\", \"oh\", \"oh\", \"oh\", \"one\", \"one\", \"one\", \"one\", \"order\", \"order\", \"order\", \"order\", \"pay\", \"pay\", \"pay\", \"pay\", \"people\", \"people\", \"people\", \"people\", \"pete\", \"pete\", \"pete\", \"pete\", \"petition\", \"place\", \"place\", \"place\", \"place\", \"plane\", \"plane\", \"pledge\", \"pollute\", \"practice\", \"preliminary\", \"president\", \"president\", \"president\", \"prevent\", \"prevent\", \"prevent\", \"profit\", \"profit\", \"profit\", \"profit\", \"public\", \"public\", \"public\", \"quality\", \"rail\", \"rail\", \"rail\", \"rail\", \"railroad\", \"railroad\", \"railroad\", \"railroad\", \"rash\", \"regulation\", \"regulation\", \"regulation\", \"removal\", \"repeal\", \"report\", \"report\", \"report\", \"report\", \"republican\", \"republican\", \"republican\", \"republican\", \"require\", \"require\", \"resident\", \"resident\", \"resident\", \"resident\", \"reveals\", \"river\", \"roll\", \"roll\", \"rollback\", \"rule\", \"rule\", \"safe\", \"safe\", \"safe\", \"safe\", \"safety\", \"safety\", \"safety\", \"saturday\", \"say\", \"say\", \"say\", \"say\", \"scrutiny\", \"second\", \"second\", \"see\", \"see\", \"see\", \"see\", \"senate\", \"senate\", \"shaw\", \"shaw\", \"shelter\", \"shipment\", \"sick\", \"sick\", \"sign\", \"sign\", \"sign\", \"sign\", \"site\", \"site\", \"site\", \"skip\", \"sorry\", \"sorry\", \"sorry\", \"spark\", \"spark\", \"spokesperson\", \"spokesperson\", \"springfield\", \"state\", \"state\", \"state\", \"state\", \"stock\", \"sue\", \"suit\", \"supply\", \"sure\", \"sure\", \"sure\", \"sure\", \"surveil\", \"take\", \"take\", \"take\", \"take\", \"taxpayer\", \"temperature\", \"test\", \"test\", \"test\", \"test\", \"testifies\", \"testify\", \"testimony\", \"texas\", \"texas\", \"think\", \"think\", \"think\", \"think\", \"town\", \"town\", \"town\", \"town\", \"toxic\", \"toxic\", \"toxic\", \"toxic\", \"toxins\", \"track\", \"track\", \"track\", \"track\", \"truck\", \"truckloads\", \"trump\", \"trump\", \"trump\", \"trust\", \"trust\", \"trust\", \"trust\", \"ukraine\", \"ukraine\", \"ukraine\", \"us\", \"us\", \"us\", \"us\", \"vance\", \"via\", \"via\", \"via\", \"via\", \"victim\", \"victim\", \"victim\", \"video\", \"video\", \"video\", \"video\", \"vinyl\", \"vinyl\", \"visit\", \"visit\", \"visit\", \"washington\", \"waste\", \"waste\", \"water\", \"water\", \"week\", \"week\", \"week\", \"week\", \"worker\", \"worker\", \"worker\", \"worry\", \"worry\", \"worry\", \"would\", \"would\", \"would\", \"would\", \"wreck\", \"wreck\", \"wreck\", \"wreck\", \"yost\"]}, \"R\": 30, \"lambda.step\": 0.01, \"plot.opts\": {\"xlab\": \"PC1\", \"ylab\": \"PC2\"}, \"topic.order\": [3, 1, 2, 4]};\n",
       "\n",
       "function LDAvis_load_lib(url, callback){\n",
       "  var s = document.createElement('script');\n",
       "  s.src = url;\n",
       "  s.async = true;\n",
       "  s.onreadystatechange = s.onload = callback;\n",
       "  s.onerror = function(){console.warn(\"failed to load library \" + url);};\n",
       "  document.getElementsByTagName(\"head\")[0].appendChild(s);\n",
       "}\n",
       "\n",
       "if(typeof(LDAvis) !== \"undefined\"){\n",
       "   // already loaded: just create the visualization\n",
       "   !function(LDAvis){\n",
       "       new LDAvis(\"#\" + \"ldavis_el1862063046612801245324726\", ldavis_el1862063046612801245324726_data);\n",
       "   }(LDAvis);\n",
       "}else if(typeof define === \"function\" && define.amd){\n",
       "   // require.js is available: use it to load d3/LDAvis\n",
       "   require.config({paths: {d3: \"https://d3js.org/d3.v5\"}});\n",
       "   require([\"d3\"], function(d3){\n",
       "      window.d3 = d3;\n",
       "      LDAvis_load_lib(\"https://cdn.jsdelivr.net/gh/bmabey/pyLDAvis@3.3.1/pyLDAvis/js/ldavis.v3.0.0.js\", function(){\n",
       "        new LDAvis(\"#\" + \"ldavis_el1862063046612801245324726\", ldavis_el1862063046612801245324726_data);\n",
       "      });\n",
       "    });\n",
       "}else{\n",
       "    // require.js not available: dynamically load d3 & LDAvis\n",
       "    LDAvis_load_lib(\"https://d3js.org/d3.v5.js\", function(){\n",
       "         LDAvis_load_lib(\"https://cdn.jsdelivr.net/gh/bmabey/pyLDAvis@3.3.1/pyLDAvis/js/ldavis.v3.0.0.js\", function(){\n",
       "                 new LDAvis(\"#\" + \"ldavis_el1862063046612801245324726\", ldavis_el1862063046612801245324726_data);\n",
       "            })\n",
       "         });\n",
       "}\n",
       "</script>"
      ],
      "text/plain": [
       "PreparedData(topic_coordinates=              x         y  topics  cluster       Freq\n",
       "topic                                                \n",
       "2      0.117772  0.039317       1        1  33.758269\n",
       "0      0.158341 -0.028672       2        1  25.439415\n",
       "1     -0.133837 -0.190190       3        1  20.511758\n",
       "3     -0.142276  0.179544       4        1  20.290558, topic_info=           Term         Freq        Total Category  logprob  loglift\n",
       "13647     trump  8369.000000  8369.000000  Default  30.0000  30.0000\n",
       "2452        ceo  4905.000000  4905.000000  Default  29.0000  29.0000\n",
       "3790     derail  8840.000000  8840.000000  Default  28.0000  28.0000\n",
       "1090    another  5759.000000  5759.000000  Default  27.0000  27.0000\n",
       "11592    safety  6474.000000  6474.000000  Default  26.0000  26.0000\n",
       "...         ...          ...          ...      ...      ...      ...\n",
       "13457      town  1019.707343  2757.467019   Topic4  -5.3200   0.6002\n",
       "7926       live   917.976849  2044.281326   Topic4  -5.4251   0.7944\n",
       "3790     derail  1108.150593  8840.677081   Topic4  -5.2369  -0.4817\n",
       "11693       say  1059.011880  8758.041167   Topic4  -5.2822  -0.5176\n",
       "4008   disaster   925.007364  5779.998506   Topic4  -5.4175  -0.2373\n",
       "\n",
       "[305 rows x 6 columns], token_table=       Topic      Freq    Term\n",
       "term                          \n",
       "164        2  0.000499      20\n",
       "164        3  0.999400      20\n",
       "197        3  0.998648     212\n",
       "242        3  0.992799      28\n",
       "567        3  0.998071  aboard\n",
       "...      ...       ...     ...\n",
       "14766      1  0.434129   wreck\n",
       "14766      2  0.355808   wreck\n",
       "14766      3  0.159121   wreck\n",
       "14766      4  0.051032   wreck\n",
       "14902      1  0.992895    yost\n",
       "\n",
       "[572 rows x 3 columns], R=30, lambda_step=0.01, plot_opts={'xlab': 'PC1', 'ylab': 'PC2'}, topic_order=[3, 1, 2, 4])"
      ]
     },
     "execution_count": 28,
     "metadata": {},
     "output_type": "execute_result"
    }
   ],
   "source": [
    "pyLDAvis.sklearn.prepare(lda, tf, tf_vectorizer)"
   ]
  },
  {
   "attachments": {},
   "cell_type": "markdown",
   "metadata": {},
   "source": [
    "### To do\n",
    "Present these results and then tweak:\n",
    "- Present this\n",
    "- Divid by govt people and public and present results\n",
    "- set a minimum frequency for the terms included and a max for vocabulary\n",
    "- Present overall topics\n",
    "- Divide the set by govt, media an public and redo analysis"
   ]
  },
  {
   "cell_type": "markdown",
   "metadata": {},
   "source": [
    "We can use the `transform()` function to figure out for each document, what fraction of it is explained by each of the topics."
   ]
  },
  {
   "cell_type": "code",
   "execution_count": 48,
   "metadata": {},
   "outputs": [],
   "source": [
    "doc_topic_matrix = lda.transform(tf)\n",
    "# Ill get a low dimensional version of the data, the document topic matrix (10, 10)\n",
    "# each of the 10,000 represented as a distribution over 10 different topics"
   ]
  },
  {
   "cell_type": "code",
   "execution_count": 49,
   "metadata": {},
   "outputs": [
    {
     "data": {
      "text/plain": [
       "(85220, 4)"
      ]
     },
     "execution_count": 49,
     "metadata": {},
     "output_type": "execute_result"
    }
   ],
   "source": [
    "doc_topic_matrix.shape"
   ]
  },
  {
   "cell_type": "code",
   "execution_count": 85,
   "metadata": {},
   "outputs": [
    {
     "data": {
      "text/plain": [
       "'nicksortor break state sue explosion aim force railroad pay environmental cleanup economic damage'"
      ]
     },
     "execution_count": 85,
     "metadata": {},
     "output_type": "execute_result"
    }
   ],
   "source": [
    "sample_data[3]"
   ]
  },
  {
   "cell_type": "code",
   "execution_count": 84,
   "metadata": {},
   "outputs": [
    {
     "data": {
      "text/plain": [
       "'RT @nicksortor 🚨 #BREAKING: The State of Ohio is SUING Norfolk Southern over the East Palestine train explosion, aiming to FORCE the railroad to pay for environmental cleanup and economic damage.'"
      ]
     },
     "execution_count": 84,
     "metadata": {},
     "output_type": "execute_result"
    }
   ],
   "source": [
    "df.MESSAGE.iloc[3]"
   ]
  },
  {
   "cell_type": "code",
   "execution_count": 50,
   "metadata": {},
   "outputs": [
    {
     "data": {
      "text/plain": [
       "array([0.87253, 0.01727, 0.09306, 0.01714])"
      ]
     },
     "execution_count": 50,
     "metadata": {},
     "output_type": "execute_result"
    }
   ],
   "source": [
    "# The topic distribution of the 0th document is very small except for 0.96288 fior index 7\n",
    "# We saw from above, topic 7 is about religion, and we can check that document 0 is about religion\n",
    "doc_topic_matrix[0]\n",
    "\n",
    "# Note: for GMM when you do the .predict, itll give you k probabilites that sum to 1. \n",
    "# predict_proba of GMM \n",
    "# here: ... gives you a proba distr:\n",
    "# INTERPRETARATION DIFFERENT\n",
    "\n",
    "# FOR LDA: document can consist of a bunch of words, and different fraction of the words are truly in different topics: we get mixed membership, words are allowed to e in different topics\n",
    "# GMM: the above doesnt hold"
   ]
  },
  {
   "cell_type": "code",
   "execution_count": 51,
   "metadata": {},
   "outputs": [],
   "source": [
    "# here we can take some tweets and say:this is the topic it belongs to..."
   ]
  },
  {
   "cell_type": "code",
   "execution_count": 52,
   "metadata": {},
   "outputs": [
    {
     "data": {
      "text/plain": [
       "1.0"
      ]
     },
     "execution_count": 52,
     "metadata": {},
     "output_type": "execute_result"
    }
   ],
   "source": [
    "doc_topic_matrix[0].sum()"
   ]
  },
  {
   "attachments": {},
   "cell_type": "markdown",
   "metadata": {},
   "source": [
    "# Here we split into different origin of accounts: media, public, govt and redo analysis"
   ]
  },
  {
   "cell_type": "code",
   "execution_count": 137,
   "metadata": {},
   "outputs": [],
   "source": [
    "data_media = df.query('IS_MEDIA == 1')\n",
    "data_govt = df.query('IS_GOVT == 1')\n",
    "data_people = df.query('IS_PEOPLE == 1')"
   ]
  },
  {
   "cell_type": "markdown",
   "metadata": {},
   "source": []
  },
  {
   "cell_type": "code",
   "execution_count": 138,
   "metadata": {},
   "outputs": [],
   "source": [
    "def parse_lda(dataframe, max_voc, min_df, num_topics):\n",
    "  '''Outputs...\n",
    "  Parameters: \n",
    "    list_documents:list of strings, contains documents to be analyzed\n",
    "    max_voc:int, the max size of vocab allowed\n",
    "    min_df: int, minimum document frequency, i.e., keep words that appear in at least this number of documents\n",
    "    '''\n",
    "  sample_data = dataframe.T_text.tolist()\n",
    "  max_vocabulary = max_voc\n",
    "  tf_vectorizer = CountVectorizer(min_df = min_df, max_features=max_voc)\n",
    "  tf_fit = tf_vectorizer.fit(sample_data)\n",
    "  tf = tf_vectorizer.fit_transform(sample_data)\n",
    "  lda = LatentDirichletAllocation(n_components=num_topics, random_state=0)\n",
    "  lda.fit(tf)\n",
    "\n",
    "  return tf, tf_vectorizer, tf_vectorizer.get_feature_names_out(), lda, sample_data"
   ]
  },
  {
   "cell_type": "code",
   "execution_count": 139,
   "metadata": {},
   "outputs": [],
   "source": [
    "# we are getting the term frequency, ..., the vocabulary ordered alphabetically, fitted lda and the data used.\n",
    "tf, tf_vectorizer, vocab, lda, data = parse_lda(data_media, max_voc = 15000, min_df = 2, num_topics = 4)"
   ]
  },
  {
   "cell_type": "code",
   "execution_count": 140,
   "metadata": {},
   "outputs": [
    {
     "name": "stdout",
     "output_type": "stream",
     "text": [
      "Size of the ... (tweets, words in vocabulary): (7406, 3872)\n"
     ]
    }
   ],
   "source": [
    "print(f'Size of the ... (tweets, words in vocabulary): {tf.toarray().shape}')"
   ]
  },
  {
   "cell_type": "code",
   "execution_count": 141,
   "metadata": {},
   "outputs": [],
   "source": [
    "def most_frequent(tf, vocab, data):\n",
    "  #highest frequency word\n",
    "  max_freq = tf.toarray().max()\n",
    "  # which doc / word combination has highest values?\n",
    "  max_freq_idx = list(np.argwhere(tf.toarray()==max_freq)[0])\n",
    "  max_freq_doc, max_freq_word = max_freq_idx\n",
    "  # to print out the vocabulary in the doc-word freq matrix\n",
    "  # vocab[max_freq_word]\n",
    "  # In which document is this word?\n",
    "  # sample_data[max_freq_doc]\n",
    "  print(f'The most repeated word in a single tweet is {vocab[max_freq_word]}, and it is repeated {max_freq} times in the tweet: {data[max_freq_doc]}')\n",
    "  "
   ]
  },
  {
   "cell_type": "code",
   "execution_count": 142,
   "metadata": {},
   "outputs": [
    {
     "name": "stdout",
     "output_type": "stream",
     "text": [
      "The most repeated word in a single tweet is get, and it is repeated 4 times in the tweet: get rid safety rule get get rid bank safety rule get svb signature\n"
     ]
    }
   ],
   "source": [
    "most_frequent(tf, vocab, data)"
   ]
  },
  {
   "cell_type": "code",
   "execution_count": 143,
   "metadata": {},
   "outputs": [],
   "source": [
    "topic_word = np.array([row / row.sum() for row in lda.components_])"
   ]
  },
  {
   "cell_type": "code",
   "execution_count": 144,
   "metadata": {},
   "outputs": [
    {
     "data": {
      "text/plain": [
       "(4, 3872)"
      ]
     },
     "execution_count": 144,
     "metadata": {},
     "output_type": "execute_result"
    }
   ],
   "source": [
    "topic_word.shape\n"
   ]
  },
  {
   "cell_type": "code",
   "execution_count": 145,
   "metadata": {},
   "outputs": [
    {
     "name": "stderr",
     "output_type": "stream",
     "text": [
      "/Users/ribarragi/miniconda3/envs/Intro_AI/lib/python3.9/site-packages/sklearn/utils/deprecation.py:87: FutureWarning: Function get_feature_names is deprecated; get_feature_names is deprecated in 1.0 and will be removed in 1.2. Please use get_feature_names_out instead.\n",
      "  warnings.warn(msg, category=FutureWarning)\n",
      "/Users/ribarragi/miniconda3/envs/Intro_AI/lib/python3.9/site-packages/pyLDAvis/_prepare.py:246: FutureWarning: In a future version of pandas all arguments of DataFrame.drop except for the argument 'labels' will be keyword-only.\n",
      "  default_term_info = default_term_info.sort_values(\n"
     ]
    },
    {
     "data": {
      "text/html": [
       "\n",
       "<link rel=\"stylesheet\" type=\"text/css\" href=\"https://cdn.jsdelivr.net/gh/bmabey/pyLDAvis@3.3.1/pyLDAvis/js/ldavis.v1.0.0.css\">\n",
       "\n",
       "\n",
       "<div id=\"ldavis_el1862059987644329282211966\"></div>\n",
       "<script type=\"text/javascript\">\n",
       "\n",
       "var ldavis_el1862059987644329282211966_data = {\"mdsDat\": {\"x\": [-0.03595871813932919, -0.2068848525501014, 0.07009083826063037, 0.17275273242880015], \"y\": [0.010086313346604621, 0.047242416981980645, -0.19520510841376454, 0.13787637808517922], \"topics\": [1, 2, 3, 4], \"cluster\": [1, 1, 1, 1], \"Freq\": [28.668718459069975, 24.3086506079055, 23.566935802995417, 23.455695130029113]}, \"tinfo\": {\"Term\": [\"ceo\", \"derail\", \"chemical\", \"safety\", \"senate\", \"epa\", \"springfield\", \"shaw\", \"month\", \"alan\", \"site\", \"second\", \"cargo\", \"order\", \"air\", \"car\", \"million\", \"water\", \"20\", \"hearing\", \"hazardous\", \"carry\", \"alabama\", \"saturday\", \"congress\", \"material\", \"waste\", \"town\", \"safe\", \"buttigieg\", \"air\", \"hall\", \"chloride\", \"vinyl\", \"test\", \"brockovich\", \"erin\", \"dioxin\", \"quality\", \"death\", \"remain\", \"scrutiny\", \"increase\", \"moment\", \"headache\", \"activist\", \"danger\", \"deal\", \"mount\", \"ongoing\", \"capture\", \"school\", \"cgtnamerica\", \"confront\", \"insist\", \"fear\", \"low\", \"precaution\", \"breathe\", \"none\", \"safe\", \"meeting\", \"town\", \"chemical\", \"water\", \"carry\", \"drink\", \"around\", \"concern\", \"resident\", \"hazardous\", \"leak\", \"material\", \"since\", \"spill\", \"week\", \"know\", \"fire\", \"toxic\", \"release\", \"people\", \"derail\", \"one\", \"official\", \"health\", \"say\", \"feb\", \"crash\", \"show\", \"still\", \"month\", \"follow\", \"disaster\", \"car\", \"second\", \"cargo\", \"alabama\", \"congress\", \"springfield\", \"derails\", \"lawsuit\", \"20\", \"file\", \"department\", \"shelter\", \"attorney\", \"dollar\", \"recover\", \"general\", \"sure\", \"hour\", \"josh\", \"columbus\", \"shapiro\", \"indication\", \"dayton\", \"door\", \"dave\", \"yost\", \"calhoun\", \"former\", \"212\", \"injury\", \"fourth\", \"saturday\", \"million\", \"dump\", \"donald\", \"month\", \"car\", \"derail\", \"another\", \"pete\", \"state\", \"pennsylvania\", \"fiery\", \"say\", \"company\", \"last\", \"buttigieg\", \"county\", \"pay\", \"secretary\", \"near\", \"transportation\", \"trump\", \"official\", \"visit\", \"ceo\", \"hazardous\", \"toxic\", \"protection\", \"open\", \"administrator\", \"clean\", \"press\", \"preliminary\", \"regan\", \"shipment\", \"practice\", \"team\", \"disposal\", \"special\", \"aid\", \"measure\", \"pause\", \"center\", \"ignore\", \"clinic\", \"investigator\", \"remove\", \"union\", \"removal\", \"sensor\", \"tour\", \"infrastructure\", \"waste\", \"triple\", \"receive\", \"critical\", \"fed\", \"national\", \"worker\", \"emergency\", \"order\", \"michael\", \"improve\", \"epa\", \"agency\", \"ntsb\", \"site\", \"safety\", \"crew\", \"board\", \"plan\", \"investigation\", \"government\", \"contaminate\", \"report\", \"federal\", \"cleanup\", \"rail\", \"transportation\", \"visit\", \"biden\", \"company\", \"say\", \"toxic\", \"buttigieg\", \"go\", \"pay\", \"work\", \"would\", \"environmental\", \"resident\", \"senate\", \"hearing\", \"committee\", \"shaw\", \"dewine\", \"alan\", \"sen\", \"mike\", \"sorry\", \"deeply\", \"brown\", \"vance\", \"legislation\", \"group\", \"bipartisan\", \"sherrod\", \"specific\", \"panel\", \"grill\", \"decline\", \"model\", \"length\", \"limit\", \"loose\", \"reason\", \"value\", \"cash\", \"valley\", \"others\", \"common\", \"senator\", \"right\", \"liveonnews9\", \"hear\", \"ceo\", \"testify\", \"determine\", \"impact\", \"story\", \"today\", \"accountable\", \"lawmaker\", \"environment\", \"hold\", \"part\", \"full\", \"update\", \"make\", \"first\", \"live\", \"tell\", \"rail\", \"watch\", \"disaster\", \"call\", \"derailment\", \"gov\", \"toxic\", \"safety\", \"say\", \"railroad\", \"follow\", \"community\"], \"Freq\": [657.0, 822.0, 810.0, 697.0, 338.0, 465.0, 282.0, 266.0, 679.0, 245.0, 408.0, 225.0, 212.0, 267.0, 238.0, 474.0, 249.0, 417.0, 187.0, 181.0, 551.0, 354.0, 180.0, 212.0, 178.0, 383.0, 169.0, 282.0, 216.0, 299.0, 237.475060731819, 107.81378819188419, 80.20661957827235, 79.25442884844038, 159.35791002835643, 78.18931378207056, 74.39469201033235, 62.83232458231309, 44.02864172365437, 42.11059536026043, 56.10482611658323, 33.531101521619, 33.53101225310736, 33.5293602698227, 28.79319982260395, 44.515058610211454, 25.930294980623163, 24.97299081273823, 24.032316537126835, 22.120662914577196, 22.109806492556487, 36.83740748467823, 21.16726545770298, 20.226259318073584, 21.133463354888583, 62.44606794113148, 19.271827301687427, 18.305657458275263, 17.370146034702675, 17.340447716013117, 206.0672802270803, 62.58172632502525, 255.2575143073193, 678.7509378672443, 350.09711305101087, 282.68976352599606, 41.06715704573609, 79.34472609953728, 219.40611253542608, 544.2392750571527, 368.39628544313734, 44.31824164291869, 254.9401417314529, 121.44568365819616, 165.3114272751003, 232.10841803552353, 128.07515981497804, 88.09523273798065, 464.3907044763752, 160.0850645699535, 161.42519129787024, 326.1754165181342, 162.91845438784648, 195.39738521168346, 155.13281715163254, 329.68497318640436, 130.82361135443216, 117.51854044610718, 100.04679472819782, 91.81061254665622, 151.48119556336263, 119.81437636378456, 121.79778078674104, 124.8429294283371, 224.4994549485047, 212.20782880148369, 180.03190987346403, 178.09806418221925, 281.70672233656506, 158.2167150508311, 144.0645977965334, 186.32568956532754, 89.18539669878409, 91.94756080705255, 82.55790162401101, 74.98490344634777, 120.8698962943887, 70.25046025921215, 68.34334369758439, 66.44991486081742, 100.05456226602196, 57.95611173169508, 56.06075216867622, 80.3498138943765, 52.27492657264754, 45.65912299122703, 45.63600451231534, 43.76036333075391, 39.97737550498688, 39.02799424003743, 89.89637750491414, 30.516511110974314, 26.712460762137248, 23.884365703713687, 199.39996069086425, 228.75173846156582, 62.10660889005665, 73.58191287625323, 448.63527816414626, 320.1857727663482, 495.4178124131097, 191.22070803114283, 161.30900930999965, 216.2468766181244, 192.67291788264473, 158.05156812089635, 556.8996046718082, 329.4113897709682, 213.15618858811771, 184.17573796278361, 143.1021200536051, 164.6685914530539, 116.1461226984807, 149.49584262534654, 157.56983537165772, 153.17589082891035, 177.91645774796027, 144.7925516891328, 160.93838406493063, 148.9223503756277, 149.96282915562753, 88.01823027265621, 86.071601055165, 77.41021231117128, 142.3112968995173, 69.67246784725344, 68.68979070464357, 57.151628504357106, 65.70329449759248, 53.289871917906495, 56.14339971393081, 47.506261561763615, 45.57622541118487, 45.532775572931975, 40.7309670727837, 38.825120441343, 44.458401273118625, 35.91403928578343, 34.93337488235873, 74.57881982735225, 36.729474533718474, 48.9286918481648, 28.213745941072915, 28.208063792983587, 28.205338444527346, 28.203447229874197, 165.3520623738841, 26.288168446994142, 41.06317144196052, 21.449083000598893, 20.489999090441117, 116.68554708463384, 120.08367189481255, 62.275422039593074, 241.91464459135875, 54.162410292750046, 40.44123655487488, 384.0582839740261, 192.99173027127895, 185.1946381912567, 322.95199947484895, 494.2544472322532, 101.27001837672974, 103.82899641592445, 127.60820802310006, 142.7106875706948, 81.00556683636687, 87.84598125964476, 218.11486207720898, 179.60035194476126, 155.6928621576018, 196.2969222521791, 146.61758045979334, 146.93991955682628, 144.4369879460064, 171.46054108145438, 196.77517878699453, 180.60360031973676, 114.32721096613547, 102.18335685235799, 106.58496410317335, 94.23698906519365, 91.12585880424594, 96.69430968318825, 101.97970185366565, 338.1895751164645, 180.7077782984372, 140.24643270282368, 264.99553154855187, 133.3701007032813, 243.652272454153, 107.4063612814465, 102.57657518094992, 80.38067799910006, 66.86215589014449, 61.06147257340356, 52.37462814411006, 47.547967265973874, 47.544424162358666, 46.56247249357956, 44.64867739283354, 34.028476833836635, 28.23705206400186, 28.232227805842825, 27.24928534980285, 24.37439773800452, 25.293691066462905, 23.40363785404029, 23.39972157022118, 23.39415308565115, 22.448044300136356, 22.444292008109606, 21.4780696337755, 20.512278734544417, 20.50091896966815, 118.76087838087446, 129.00911065937026, 36.48485140897394, 117.38589487627287, 495.75948892708925, 122.16477748624187, 47.12907259221474, 125.52107512506245, 113.67083636650537, 133.7956419517693, 79.7222116449609, 69.33521852679002, 80.8254437502107, 141.82660571380154, 51.25350319002579, 62.98438326401995, 98.37624974366163, 136.2239855948689, 93.86683964829042, 132.23595695645037, 117.21885584194727, 174.49351970655107, 94.41479616994773, 149.88254092363556, 107.3364234995368, 101.80430432046415, 104.17595035984824, 208.14895497511873, 164.83964961063342, 182.75677137788995, 116.54399260206193, 108.01022362082962, 102.25181274706675], \"Total\": [657.0, 822.0, 810.0, 697.0, 338.0, 465.0, 282.0, 266.0, 679.0, 245.0, 408.0, 225.0, 212.0, 267.0, 238.0, 474.0, 249.0, 417.0, 187.0, 181.0, 551.0, 354.0, 180.0, 212.0, 178.0, 383.0, 169.0, 282.0, 216.0, 299.0, 238.99170498935763, 108.54419872645877, 80.93333473875747, 79.98123895405234, 160.92099149190616, 79.02960449729044, 75.22015043084342, 63.79877902532016, 44.753670455031575, 42.84956954474393, 57.13492943580238, 34.28082739070185, 34.28082686396046, 34.2808612073304, 29.520136245271132, 45.70297449195236, 26.663821198010496, 25.71182931774651, 24.759685470294265, 22.855548177347373, 22.855611682345614, 38.08912151663332, 21.90344525591097, 20.95124377416054, 21.90397118457804, 64.76857958081155, 19.99919573486651, 19.0470049092566, 18.094985243797087, 18.09489813915693, 216.25481204489256, 65.73330148382938, 282.01722825133356, 810.2833601897026, 417.9324881008062, 354.7300669966683, 44.79566182451719, 92.3191168764634, 288.45594147854234, 814.2760886237784, 551.7594951854713, 49.57330255696783, 383.8726928949641, 161.39733644909273, 240.53940387624772, 383.72109853914725, 187.38332369489865, 117.9020966836569, 1003.1060889268582, 266.5090428168249, 292.42599531525303, 822.4585205868855, 308.04339376363725, 480.21871938535594, 323.14883274453814, 1266.116528023097, 239.0485984726318, 209.976694694051, 160.78959290505688, 129.98002948068276, 679.1173370410191, 331.3436303640759, 355.30291348289416, 474.5067254756289, 225.23686438484256, 212.93440535617052, 180.75932822629056, 178.86750623573556, 282.972311618673, 158.99409664824105, 144.799010870606, 187.38561100227565, 89.91196025639428, 92.75240263200382, 83.28774532641091, 75.71711569075133, 122.09707263730213, 70.98555032428308, 69.09321204320985, 67.20046682981551, 101.27111949930472, 58.68321720456696, 56.79059712174066, 81.40148826976953, 53.00528627621688, 46.38087816678495, 46.3813202456525, 44.488298337210296, 40.70299040495669, 39.75670189385333, 91.82747125826143, 31.239660636708873, 27.454633401504008, 24.615538900446634, 212.21814217558608, 249.29003302628473, 65.3555323283323, 82.5048364853734, 679.1173370410191, 474.5067254756289, 822.4585205868855, 262.0356390295719, 220.67648128714347, 328.84714377747264, 286.7864539293557, 227.58781297298768, 1266.116528023097, 652.336233407033, 368.30430856309323, 299.3390867727682, 207.54143294246992, 271.7411382238624, 155.95343014455176, 268.2257394590848, 304.67940809350296, 292.2237734487255, 480.21871938535594, 314.38656283468936, 657.1839947126484, 551.7594951854713, 1003.1060889268582, 88.74616935911925, 86.81660494491851, 78.13435822402364, 143.728948137191, 70.41652243620742, 69.45141236239955, 57.875327275577376, 66.55530554058741, 54.016407140214, 56.91004825028382, 48.22818127630267, 46.29873219590703, 46.29863345172705, 41.47500280484875, 39.54577498165974, 45.33267775917246, 36.65156942909616, 35.68646681103612, 76.18792951852713, 37.614948089527985, 50.153080402382024, 28.93391085532443, 28.93391293461803, 28.93381441262984, 28.933838083741666, 169.7336818464329, 27.004502605572355, 42.43281295158923, 22.180838514599, 21.216119136160888, 122.41450800852404, 126.29895927213393, 65.55925609017582, 267.7095413099918, 56.88420308684052, 42.41907108778382, 465.87369170987597, 225.27151891385066, 217.06397559910454, 408.63243914543114, 697.1168840361311, 123.368732120792, 128.83958089114188, 168.55171920740082, 194.80262399260022, 97.3366448132138, 109.62138401853912, 381.0771962971363, 305.7247626606153, 283.156861238083, 429.54028849306127, 304.67940809350296, 314.38656283468936, 314.47865266620096, 652.336233407033, 1266.116528023097, 1003.1060889268582, 299.3390867727682, 230.9658912938005, 271.7411382238624, 186.94722004799058, 163.59788725822042, 322.3460555774043, 814.2760886237784, 338.9136653554474, 181.5224145061106, 140.96772574828265, 266.47892581372173, 134.20820407193588, 245.233936146546, 108.13756836702659, 103.30954191374956, 81.10112011006133, 67.58286105854965, 61.789199558722935, 53.09895795636726, 48.27104211712551, 48.27098663707297, 47.305458044153035, 45.374206617987284, 34.75275687618935, 28.959208460192183, 28.959142483808222, 27.99339150199051, 25.096917751654964, 26.06191436110489, 24.131190272229787, 24.131131150964613, 24.13111336651811, 23.165735206315684, 23.16572473470629, 22.200069607799403, 21.234516191487504, 21.234364311134335, 125.39923368840948, 139.858604999995, 38.5954586101717, 134.93553303343063, 657.1839947126484, 145.33860100189162, 52.0480144991853, 154.09130886057804, 140.60348897307495, 170.64874788244182, 95.57116034055882, 82.05019583263226, 99.19753862011285, 196.92250209877497, 58.79590619855821, 77.04985101848614, 148.5254406425354, 238.53101703233548, 142.3340637369759, 248.75750790131258, 213.4522316034804, 429.54028849306127, 152.42367212154923, 355.30291348289416, 195.5902862680005, 176.38889513582876, 190.52774320644806, 1003.1060889268582, 697.1168840361311, 1266.116528023097, 402.32221682140766, 331.3436303640759, 276.1433457620055], \"Category\": [\"Default\", \"Default\", \"Default\", \"Default\", \"Default\", \"Default\", \"Default\", \"Default\", \"Default\", \"Default\", \"Default\", \"Default\", \"Default\", \"Default\", \"Default\", \"Default\", \"Default\", \"Default\", \"Default\", \"Default\", \"Default\", \"Default\", \"Default\", \"Default\", \"Default\", \"Default\", \"Default\", \"Default\", \"Default\", \"Default\", \"Topic1\", \"Topic1\", \"Topic1\", \"Topic1\", \"Topic1\", \"Topic1\", \"Topic1\", \"Topic1\", \"Topic1\", \"Topic1\", \"Topic1\", \"Topic1\", \"Topic1\", \"Topic1\", \"Topic1\", \"Topic1\", \"Topic1\", \"Topic1\", \"Topic1\", \"Topic1\", \"Topic1\", \"Topic1\", \"Topic1\", \"Topic1\", \"Topic1\", \"Topic1\", \"Topic1\", \"Topic1\", \"Topic1\", \"Topic1\", \"Topic1\", \"Topic1\", \"Topic1\", \"Topic1\", \"Topic1\", \"Topic1\", \"Topic1\", \"Topic1\", \"Topic1\", \"Topic1\", \"Topic1\", \"Topic1\", \"Topic1\", \"Topic1\", \"Topic1\", \"Topic1\", \"Topic1\", \"Topic1\", \"Topic1\", \"Topic1\", \"Topic1\", \"Topic1\", \"Topic1\", \"Topic1\", \"Topic1\", \"Topic1\", \"Topic1\", \"Topic1\", \"Topic1\", \"Topic1\", \"Topic1\", \"Topic1\", \"Topic1\", \"Topic1\", \"Topic2\", \"Topic2\", \"Topic2\", \"Topic2\", \"Topic2\", \"Topic2\", \"Topic2\", \"Topic2\", \"Topic2\", \"Topic2\", \"Topic2\", \"Topic2\", \"Topic2\", \"Topic2\", \"Topic2\", \"Topic2\", \"Topic2\", \"Topic2\", \"Topic2\", \"Topic2\", \"Topic2\", \"Topic2\", \"Topic2\", \"Topic2\", \"Topic2\", \"Topic2\", \"Topic2\", \"Topic2\", \"Topic2\", \"Topic2\", \"Topic2\", \"Topic2\", \"Topic2\", \"Topic2\", \"Topic2\", \"Topic2\", \"Topic2\", \"Topic2\", \"Topic2\", \"Topic2\", \"Topic2\", \"Topic2\", \"Topic2\", \"Topic2\", \"Topic2\", \"Topic2\", \"Topic2\", \"Topic2\", \"Topic2\", \"Topic2\", \"Topic2\", \"Topic2\", \"Topic2\", \"Topic2\", \"Topic2\", \"Topic2\", \"Topic2\", \"Topic3\", \"Topic3\", \"Topic3\", \"Topic3\", \"Topic3\", \"Topic3\", \"Topic3\", \"Topic3\", \"Topic3\", \"Topic3\", \"Topic3\", \"Topic3\", \"Topic3\", \"Topic3\", \"Topic3\", \"Topic3\", \"Topic3\", \"Topic3\", \"Topic3\", \"Topic3\", \"Topic3\", \"Topic3\", \"Topic3\", \"Topic3\", \"Topic3\", \"Topic3\", \"Topic3\", \"Topic3\", \"Topic3\", \"Topic3\", \"Topic3\", \"Topic3\", \"Topic3\", \"Topic3\", \"Topic3\", \"Topic3\", \"Topic3\", \"Topic3\", \"Topic3\", \"Topic3\", \"Topic3\", \"Topic3\", \"Topic3\", \"Topic3\", \"Topic3\", \"Topic3\", \"Topic3\", \"Topic3\", \"Topic3\", \"Topic3\", \"Topic3\", \"Topic3\", \"Topic3\", \"Topic3\", \"Topic3\", \"Topic3\", \"Topic3\", \"Topic3\", \"Topic3\", \"Topic3\", \"Topic3\", \"Topic3\", \"Topic3\", \"Topic3\", \"Topic4\", \"Topic4\", \"Topic4\", \"Topic4\", \"Topic4\", \"Topic4\", \"Topic4\", \"Topic4\", \"Topic4\", \"Topic4\", \"Topic4\", \"Topic4\", \"Topic4\", \"Topic4\", \"Topic4\", \"Topic4\", \"Topic4\", \"Topic4\", \"Topic4\", \"Topic4\", \"Topic4\", \"Topic4\", \"Topic4\", \"Topic4\", \"Topic4\", \"Topic4\", \"Topic4\", \"Topic4\", \"Topic4\", \"Topic4\", \"Topic4\", \"Topic4\", \"Topic4\", \"Topic4\", \"Topic4\", \"Topic4\", \"Topic4\", \"Topic4\", \"Topic4\", \"Topic4\", \"Topic4\", \"Topic4\", \"Topic4\", \"Topic4\", \"Topic4\", \"Topic4\", \"Topic4\", \"Topic4\", \"Topic4\", \"Topic4\", \"Topic4\", \"Topic4\", \"Topic4\", \"Topic4\", \"Topic4\", \"Topic4\", \"Topic4\", \"Topic4\", \"Topic4\", \"Topic4\", \"Topic4\", \"Topic4\", \"Topic4\"], \"logprob\": [30.0, 29.0, 28.0, 27.0, 26.0, 25.0, 24.0, 23.0, 22.0, 21.0, 20.0, 19.0, 18.0, 17.0, 16.0, 15.0, 14.0, 13.0, 12.0, 11.0, 10.0, 9.0, 8.0, 7.0, 6.0, 5.0, 4.0, 3.0, 2.0, 1.0, -4.639, -5.4286, -5.7244, -5.7364, -5.0379, -5.7499, -5.7997, -5.9686, -6.3242, -6.3687, -6.0818, -6.5966, -6.5966, -6.5966, -6.7489, -6.3132, -6.8536, -6.8913, -6.9296, -7.0125, -7.013, -6.5025, -7.0566, -7.1021, -7.0582, -5.9747, -7.1504, -7.2018, -7.2543, -7.256, -4.7808, -5.9726, -4.5668, -3.5888, -4.2508, -4.4647, -6.3938, -5.7352, -4.7181, -3.8097, -4.1999, -6.3176, -4.568, -5.3096, -5.0012, -4.6618, -5.2564, -5.6306, -3.9683, -5.0333, -5.025, -4.3216, -5.0158, -4.834, -5.0648, -4.3109, -5.2352, -5.3424, -5.5034, -5.5893, -5.0886, -5.3231, -5.3067, -5.282, -4.5302, -4.5865, -4.7509, -4.7617, -4.3032, -4.8801, -4.9738, -4.7166, -5.4534, -5.4229, -5.5306, -5.6268, -5.1494, -5.692, -5.7195, -5.7476, -5.3384, -5.8844, -5.9176, -5.5577, -5.9876, -6.1229, -6.1234, -6.1653, -6.2558, -6.2798, -5.4454, -6.5258, -6.6589, -6.7708, -4.6488, -4.5114, -5.8152, -5.6457, -3.8379, -4.1752, -3.7387, -4.6906, -4.8607, -4.5677, -4.6831, -4.8812, -3.6217, -4.1468, -4.582, -4.7282, -4.9805, -4.8401, -5.1892, -4.9368, -4.8842, -4.9125, -4.7628, -4.9688, -4.8631, -4.9406, -4.9337, -5.4355, -5.4579, -5.564, -4.9551, -5.6693, -5.6835, -5.8674, -5.7279, -5.9373, -5.8852, -6.0522, -6.0937, -6.0947, -6.2061, -6.254, -6.1185, -6.332, -6.3596, -5.6012, -6.3095, -6.0227, -6.5733, -6.5735, -6.5736, -6.5736, -4.805, -6.644, -6.198, -6.8474, -6.8931, -5.1536, -5.1249, -5.7815, -4.4245, -5.9211, -6.2132, -3.9623, -4.6504, -4.6917, -4.1356, -3.71, -5.2953, -5.2703, -5.0641, -4.9523, -5.5186, -5.4375, -4.5281, -4.7224, -4.8652, -4.6335, -4.9253, -4.9231, -4.9402, -4.7687, -4.631, -4.7168, -5.174, -5.2863, -5.2441, -5.3673, -5.4008, -5.3415, -5.2883, -4.0847, -4.7115, -4.965, -4.3286, -5.0152, -4.4126, -5.2317, -5.2777, -5.5216, -5.7057, -5.7965, -5.9499, -6.0466, -6.0467, -6.0676, -6.1095, -6.3812, -6.5677, -6.5679, -6.6033, -6.7148, -6.6778, -6.7555, -6.7556, -6.7559, -6.7971, -6.7973, -6.8413, -6.8873, -6.8879, -5.1312, -5.0485, -6.3115, -5.1429, -3.7023, -5.103, -6.0555, -5.0759, -5.175, -5.012, -5.5298, -5.6694, -5.5161, -4.9537, -5.9716, -5.7655, -5.3196, -4.9941, -5.3665, -5.0238, -5.1443, -4.7465, -5.3607, -4.8985, -5.2324, -5.2853, -5.2623, -4.5701, -4.8034, -4.7002, -5.1501, -5.2261, -5.2809], \"loglift\": [30.0, 29.0, 28.0, 27.0, 26.0, 25.0, 24.0, 23.0, 22.0, 21.0, 20.0, 19.0, 18.0, 17.0, 16.0, 15.0, 14.0, 13.0, 12.0, 11.0, 10.0, 9.0, 8.0, 7.0, 6.0, 5.0, 4.0, 3.0, 2.0, 1.0, 1.243, 1.2426, 1.2403, 1.2402, 1.2396, 1.2387, 1.2383, 1.2341, 1.233, 1.232, 1.2312, 1.2273, 1.2272, 1.2272, 1.2244, 1.223, 1.2215, 1.2202, 1.2195, 1.2167, 1.2162, 1.2159, 1.2152, 1.2141, 1.2136, 1.2128, 1.2123, 1.2097, 1.2085, 1.2068, 1.2011, 1.2002, 1.1497, 1.0722, 1.0723, 1.0224, 1.1625, 1.0979, 0.9757, 0.8465, 0.8454, 1.1373, 0.8401, 0.965, 0.8743, 0.7467, 0.8688, 0.9579, 0.4792, 0.7397, 0.6552, 0.3245, 0.6124, 0.3502, 0.5155, -0.0962, 0.6465, 0.669, 0.7749, 0.9017, -0.251, 0.2322, 0.1788, -0.0859, 1.4111, 1.4109, 1.4103, 1.41, 1.4099, 1.4094, 1.4093, 1.4087, 1.4062, 1.4056, 1.4055, 1.4046, 1.4042, 1.4039, 1.4034, 1.4031, 1.4023, 1.4019, 1.4014, 1.4013, 1.4005, 1.3987, 1.3981, 1.3978, 1.3964, 1.3958, 1.3931, 1.3909, 1.3869, 1.3842, 1.352, 1.3284, 1.3633, 1.2999, 0.9998, 1.021, 0.9074, 1.0993, 1.101, 0.9952, 1.0166, 1.0497, 0.593, 0.7311, 0.8675, 0.9287, 1.0426, 0.9134, 1.1196, 0.8298, 0.7549, 0.7684, 0.4214, 0.639, 0.0074, 0.1047, -0.4861, 1.4371, 1.4367, 1.436, 1.4354, 1.4347, 1.4343, 1.4327, 1.4324, 1.4318, 1.4318, 1.4302, 1.4296, 1.4286, 1.4272, 1.4269, 1.4259, 1.425, 1.424, 1.424, 1.4215, 1.4206, 1.4201, 1.4199, 1.4198, 1.4198, 1.4192, 1.4184, 1.4125, 1.4118, 1.4105, 1.3974, 1.3949, 1.3939, 1.344, 1.3963, 1.3976, 1.2522, 1.2907, 1.2865, 1.21, 1.1014, 1.2479, 1.2295, 1.167, 1.1342, 1.2617, 1.2239, 0.8873, 0.9134, 0.8472, 0.6622, 0.7139, 0.6847, 0.6673, 0.1091, -0.4163, -0.2692, 0.4828, 0.6298, 0.5094, 0.7603, 0.8602, 0.2413, -0.6322, 1.4479, 1.4456, 1.4449, 1.4445, 1.4438, 1.4436, 1.4433, 1.4429, 1.4411, 1.4393, 1.4382, 1.4363, 1.435, 1.4349, 1.4342, 1.4339, 1.429, 1.4248, 1.4246, 1.4231, 1.4208, 1.4201, 1.4194, 1.4193, 1.419, 1.4186, 1.4184, 1.417, 1.4155, 1.4149, 1.3957, 1.3693, 1.3938, 1.3107, 1.1682, 1.2764, 1.3508, 1.245, 1.2374, 1.2068, 1.2687, 1.2817, 1.2452, 1.1219, 1.3128, 1.2485, 1.0381, 0.8899, 1.0338, 0.8182, 0.8507, 0.5492, 0.9711, 0.5869, 0.85, 0.9004, 0.8463, -0.1225, 0.0081, -0.4855, 0.2111, 0.3291, 0.4566]}, \"token.table\": {\"Topic\": [1, 2, 2, 3, 4, 1, 2, 3, 1, 2, 3, 3, 1, 3, 2, 2, 4, 1, 2, 3, 4, 1, 2, 3, 2, 1, 2, 3, 4, 4, 1, 2, 3, 1, 1, 4, 2, 3, 4, 2, 1, 2, 3, 4, 1, 1, 2, 3, 4, 2, 1, 2, 3, 4, 3, 2, 4, 1, 1, 2, 3, 4, 1, 1, 3, 1, 2, 3, 3, 2, 4, 4, 1, 2, 3, 4, 1, 2, 3, 4, 1, 3, 4, 1, 2, 1, 2, 3, 1, 2, 3, 4, 1, 2, 3, 4, 1, 2, 3, 4, 3, 1, 2, 2, 1, 1, 4, 4, 2, 1, 2, 3, 1, 3, 4, 2, 2, 4, 4, 1, 1, 2, 3, 4, 3, 2, 4, 2, 4, 2, 1, 4, 2, 3, 1, 3, 1, 4, 1, 2, 3, 4, 1, 3, 4, 1, 1, 3, 1, 2, 3, 4, 3, 1, 2, 3, 4, 1, 2, 4, 2, 1, 2, 4, 1, 2, 3, 4, 1, 2, 3, 4, 2, 3, 2, 1, 4, 2, 1, 2, 3, 4, 1, 2, 4, 1, 3, 4, 4, 4, 1, 1, 2, 3, 4, 1, 1, 2, 3, 4, 1, 4, 4, 3, 4, 1, 2, 3, 1, 4, 1, 2, 3, 1, 2, 3, 2, 1, 2, 3, 4, 2, 3, 2, 1, 2, 3, 4, 1, 2, 4, 3, 4, 2, 1, 3, 4, 4, 4, 1, 2, 3, 4, 1, 4, 4, 1, 1, 2, 3, 4, 1, 2, 3, 1, 3, 4, 1, 3, 4, 2, 4, 4, 1, 1, 2, 4, 1, 2, 3, 1, 2, 3, 4, 1, 1, 3, 4, 1, 2, 3, 4, 1, 2, 3, 4, 1, 3, 1, 2, 3, 4, 4, 1, 4, 3, 2, 3, 1, 2, 4, 1, 2, 3, 4, 2, 3, 1, 2, 3, 4, 3, 1, 3, 3, 3, 1, 1, 2, 3, 4, 1, 2, 3, 4, 4, 1, 3, 2, 3, 1, 2, 3, 4, 1, 3, 3, 3, 1, 2, 3, 4, 1, 2, 3, 4, 1, 4, 1, 3, 1, 2, 3, 4, 2, 3, 1, 2, 3, 4, 1, 2, 1, 2, 2, 3, 4, 4, 2, 4, 3, 2, 4, 2, 4, 2, 4, 3, 1, 3, 4, 1, 2, 3, 4, 1, 2, 3, 4, 3, 4, 1, 2, 4, 2, 3, 1, 2, 3, 4, 1, 3, 1, 3, 4, 2, 3, 1, 2, 3, 4, 1, 4, 2, 4, 1, 2, 3, 4, 3, 1, 2, 3, 4, 1, 2, 3, 4, 2, 3, 3, 1, 2, 3, 4, 1, 3, 1, 2, 3, 4, 4, 4, 4, 1, 1, 2, 3, 4, 1, 3, 1, 2, 4, 1, 3, 4, 1, 2, 3, 4, 1, 2, 3, 4, 1, 3, 1, 2, 3, 4, 2], \"Freq\": [0.005336589051055023, 0.9926055634962344, 0.9923283213766012, 0.15695111314489554, 0.8370726034394429, 0.9846186271294849, 0.021880413936210773, 0.9854819537805474, 0.10653810173481446, 0.03551270057827149, 0.8567439014507996, 0.9935498430631129, 0.991666217078763, 0.004184245641682544, 0.9957992307575962, 0.004077739058930342, 0.9949683303790033, 0.1488347163173429, 0.7289084824772435, 0.06869294599261981, 0.049611572105780974, 0.8557274232347094, 0.11915191969090891, 0.021663985398347074, 0.9905290146856595, 0.15581343784250556, 0.21941075941087518, 0.45790071529226123, 0.165353036077761, 0.9935428583342765, 0.06209271983552397, 0.13194702965048843, 0.8072053578618116, 0.939486812006523, 0.9869719138310286, 0.9872275484330737, 0.6146875170354099, 0.3808390051197648, 0.003340693027366358, 0.9809666834066454, 0.18917094864978157, 0.2147345903592115, 0.04601455507697389, 0.5470619325818007, 0.9625644811332477, 0.26343146111302085, 0.6743845404493334, 0.002107451688904167, 0.05900864728931667, 0.9956117690111771, 0.7977897176747016, 0.1973331457145905, 0.005638089877559729, 0.9496789007010934, 0.9706022713625645, 0.24498466380088385, 0.754735361771667, 0.9587532808032946, 0.8379784571178078, 0.10860398266033446, 0.03702408499784129, 0.016043770165731226, 0.9884678576291197, 0.006957540655244259, 0.9879707730446848, 0.04237933683658896, 0.4061353113506442, 0.5509313788756565, 0.9807639457649019, 0.9860787320118175, 0.9931351254824764, 0.988962970225982, 0.32953899268834264, 0.10863922835879428, 0.1919293034338699, 0.36937337641990053, 0.13643270976252425, 0.5043411405828143, 0.2621347569594567, 0.0950430112952416, 0.759214730948057, 0.145602825113326, 0.093601816144281, 0.9545972647536217, 0.9951500065384026, 0.09122307740895522, 0.10946769289074626, 0.8027630811988059, 0.004818315002562395, 0.6890190453664224, 0.1734593400922462, 0.13009450506918466, 0.5619671276944962, 0.17621003156522339, 0.13811056528085078, 0.12382326542421103, 0.048634689656414064, 0.024317344828207032, 0.8186839425496367, 0.11348094253163281, 0.9467631255769797, 0.9751040485502496, 0.9890241174542322, 0.991788034598756, 0.9723151041122072, 0.9801732070177088, 0.964513356592756, 0.9913756084098793, 0.9918880523775865, 0.3963725730111893, 0.6018540602470512, 0.0012158667883778813, 0.10204724048041147, 0.3174803037168357, 0.5782676960556651, 0.9937475876828282, 0.07685211508044387, 0.9030123521952155, 0.9909975393807648, 0.987479712973768, 0.34336898283237305, 0.16324099183834126, 0.07317699634132539, 0.4221749788922619, 0.9952687148827901, 0.991014750692991, 0.008190204551181744, 0.896917116042268, 0.09696401254511006, 0.9917785814713145, 0.9152672006636192, 0.06697077078026482, 0.9486572565659045, 0.04590277047899538, 0.045760128758531714, 0.9457093276763221, 0.18145611524629504, 0.8165525186083277, 0.2574872518645397, 0.41880456628569707, 0.30091883651638973, 0.02171579232592503, 0.16957385962287275, 0.8242577480402928, 0.006439513656564788, 0.9837789418944966, 0.9572542797953876, 0.030879170315980243, 0.5480057228404873, 0.09203149543886047, 0.2049792398410983, 0.1547802423289926, 0.9426794726992211, 0.13083663767335704, 0.2518605275212123, 0.5887648695301068, 0.029438243476505335, 0.289997953483711, 0.6942375250064596, 0.0131817251583505, 0.9898571863654877, 0.746381976871139, 0.24596678783253445, 0.008481613373535672, 0.007025725070619321, 0.18969457690672167, 0.14754022648300574, 0.6604181566382162, 0.36216178312571035, 0.14788272810966507, 0.16297280240656967, 0.32594560481313933, 0.9800988611227055, 0.01088998734580784, 0.974993888903425, 0.1817005460093759, 0.8176524570421916, 0.9841777215028567, 0.18617467609233168, 0.2208118251327655, 0.441623650265531, 0.15153752705189788, 0.11022016870921134, 0.3411576650523208, 0.5458522640837133, 0.08218898458388173, 0.8321634689118025, 0.08218898458388173, 0.9668794583836693, 0.9943861384249219, 0.9949863858884784, 0.6669572580283345, 0.27004519414734196, 0.05980866716014956, 0.0018123838533378655, 0.9823802898147378, 0.4796551442985827, 0.29398218521526037, 0.16091656453887934, 0.06498553567916282, 0.12598608845149933, 0.8670807264014954, 0.9971220385783651, 0.2792976902782414, 0.721095854900187, 0.009874483514590412, 0.9874483514590412, 0.982222604945836, 0.18171044302916803, 0.8176969936312561, 0.02357430217956819, 0.02357430217956819, 0.9429720871827275, 0.991808048706792, 0.9810342260774102, 0.9677250532390861, 0.9834405582891848, 0.9587302605102722, 0.030800406467974047, 0.7340763541533815, 0.23613644958780103, 0.013125438718699178, 0.9844079039024384, 0.9883575366669947, 0.6830917366393405, 0.010673308384989696, 0.13875300900486603, 0.17077293415983513, 0.19820566391091937, 0.5783261152469291, 0.22264197863966287, 0.14625193612551343, 0.8409486327217022, 0.9944819314317002, 0.8875745155255049, 0.10086074040062556, 0.9943849955327699, 0.9592541688844737, 0.9531233122167387, 0.0361798125247761, 0.22913881265691532, 0.20501893764039794, 0.5306372503633829, 0.05181956820880753, 0.9327522277585355, 0.9531256473686109, 0.9500382041301532, 0.008384653806799801, 0.38569407511279086, 0.037730942130599104, 0.5701564588623865, 0.6642827289352763, 0.33344387962241323, 0.9885472508083057, 0.9584183142770977, 0.015212989115509487, 0.030425978231018974, 0.03515914597496886, 0.9492969413241592, 0.9970037432359541, 0.9186087274329761, 0.08022783645702848, 0.956292730346035, 0.9918070550902511, 0.22234743801111279, 0.6611523156754281, 0.11632746756872789, 0.9693176445554728, 0.04084483188587285, 0.9557690661294247, 0.26097420829620943, 0.5555022433733601, 0.16031272795338578, 0.02236921785396081, 0.9394913344779988, 0.004606936721028735, 0.8522832933903159, 0.13820810163086206, 0.4060649702485264, 0.3706644343807061, 0.11036637652908665, 0.11244876099189961, 0.5291462284208908, 0.24022589511132464, 0.06167962171777255, 0.1688073857539038, 0.9625671556547777, 0.990593908326217, 0.007470783410308557, 0.08591400921854841, 0.9039647926473354, 0.9889558966461635, 0.9668772555882966, 0.11905590801441979, 0.8674073298193442, 0.9861989053972806, 0.6071955136364806, 0.3937570906612329, 0.21967564763543135, 0.672974603073623, 0.1046074512549673, 0.5505666479015732, 0.12652773895874664, 0.013678674482026662, 0.3077701758455999, 0.7295748013604919, 0.2673597098153355, 0.10085925008621068, 0.023731588255578983, 0.7594108241785275, 0.12459083834178966, 0.9811833627220773, 0.9450304699219262, 0.9935003141470462, 0.9940848763642829, 0.9915920950221546, 0.9831595833957606, 0.09777895374458795, 0.039577195563285594, 0.4563017841414104, 0.40508423694186435, 0.24110028217273088, 0.3380375090256845, 0.1317352057232447, 0.290811680558861, 0.9531263498149435, 0.023566667643290126, 0.9662333733748951, 0.986116183930662, 0.9848756401599348, 0.600354863418162, 0.10130988320181485, 0.2626552527454459, 0.03376996106727161, 0.9801359790410242, 0.01750242819716115, 0.9677226193170297, 0.9836514970573843, 0.19943465717308553, 0.12595873084615927, 0.57206256925964, 0.09971732858654277, 0.6680780727817066, 0.0945625213312342, 0.12526463864657, 0.11175570702782224, 0.07150078466748869, 0.922360122210604, 0.9525799590403392, 0.046241745584482484, 0.05020678856228359, 0.0043034390196243074, 0.7086329585648027, 0.23668914607933692, 0.9377143629659637, 0.056545589726590774, 0.26063951673963137, 0.4399279115878021, 0.155593893326386, 0.1445364592828865, 0.9714059691253917, 0.026254215381767344, 0.9918080334671846, 0.9945086059148416, 0.7438117897918674, 0.25007465346450714, 0.9894803592848916, 0.9973041353924482, 0.04784718234330465, 0.9489691164755423, 0.9677225497730503, 0.9827830141738328, 0.012284787677172912, 0.003752641965762935, 0.9944501209271778, 0.9965451660951654, 0.9917528779921644, 0.9916564797340045, 0.6219307990850381, 0.04353515593595267, 0.3296233235150702, 0.7497025828438334, 0.01858766734323554, 0.10533011494500139, 0.13011367140264876, 0.11501778982180323, 0.09544029368192183, 0.7904414066477116, 0.9864228742023906, 0.9935477240576917, 0.9783396500349272, 0.6859582976471036, 0.2868552881069706, 0.024943938096258313, 0.996563933718069, 0.0035339146585747125, 0.17637373806490467, 0.6568401279658518, 0.06690038340392936, 0.10035057510589403, 0.7078010396487313, 0.29235260333317165, 0.18491717517037506, 0.007112199045014426, 0.8107906911316446, 0.9821360343692898, 0.9840090058212297, 0.23892933616519954, 0.03747911155532542, 0.17802577988779572, 0.5481320064966342, 0.9880625176734461, 0.006214229670902177, 0.15825114485380692, 0.8394191161810629, 0.041019931800626096, 0.041019931800626096, 0.13477977591634288, 0.7852386944691281, 0.9677258449469344, 0.9042000787722946, 0.028367061294817086, 0.028367061294817086, 0.03545882661852136, 0.4625632374501843, 0.14953552934811992, 0.18043953874673138, 0.20735593402939295, 0.5185778749823206, 0.4824743520405134, 0.9628024029827872, 0.017110175332388948, 0.5235713651711018, 0.21901024425457855, 0.24296448971992307, 0.01993895473571958, 0.9770087820502595, 0.01346570655739385, 0.033664266393484625, 0.2895126909839678, 0.6598196213122988, 0.9459429799545408, 0.9496784714176535, 0.9793035871387477, 0.9877316359825827, 0.04771196282929972, 0.4612156406832306, 0.4675772357271373, 0.025446380175626518, 0.023566330244453267, 0.9721111225836974, 0.07216726802926073, 0.3017903935769085, 0.6167021086136826, 0.837455833095175, 0.076567390454416, 0.08374558330951751, 0.6046057954155767, 0.14072721100190147, 0.16418174616888503, 0.08860602174193796, 0.04814193010032265, 0.04279282675584235, 0.5028157143811477, 0.40653185418050236, 0.03958860808367072, 0.9501265940080972, 0.1956015480168866, 0.006112548375527706, 0.5562419021730213, 0.24450193502110823, 0.98272877746911], \"Term\": [\"20\", \"20\", \"212\", \"accountable\", \"accountable\", \"activist\", \"activist\", \"administrator\", \"agency\", \"agency\", \"agency\", \"aid\", \"air\", \"air\", \"alabama\", \"alan\", \"alan\", \"another\", \"another\", \"another\", \"another\", \"around\", \"around\", \"around\", \"attorney\", \"biden\", \"biden\", \"biden\", \"biden\", \"bipartisan\", \"board\", \"board\", \"board\", \"breathe\", \"brockovich\", \"brown\", \"buttigieg\", \"buttigieg\", \"buttigieg\", \"calhoun\", \"call\", \"call\", \"call\", \"call\", \"capture\", \"car\", \"car\", \"car\", \"car\", \"cargo\", \"carry\", \"carry\", \"carry\", \"cash\", \"center\", \"ceo\", \"ceo\", \"cgtnamerica\", \"chemical\", \"chemical\", \"chemical\", \"chemical\", \"chloride\", \"clean\", \"clean\", \"cleanup\", \"cleanup\", \"cleanup\", \"clinic\", \"columbus\", \"committee\", \"common\", \"community\", \"community\", \"community\", \"community\", \"company\", \"company\", \"company\", \"company\", \"concern\", \"concern\", \"concern\", \"confront\", \"congress\", \"contaminate\", \"contaminate\", \"contaminate\", \"county\", \"county\", \"county\", \"county\", \"crash\", \"crash\", \"crash\", \"crash\", \"crew\", \"crew\", \"crew\", \"crew\", \"critical\", \"danger\", \"dave\", \"dayton\", \"deal\", \"death\", \"decline\", \"deeply\", \"department\", \"derail\", \"derail\", \"derail\", \"derailment\", \"derailment\", \"derailment\", \"derails\", \"determine\", \"determine\", \"dewine\", \"dioxin\", \"disaster\", \"disaster\", \"disaster\", \"disaster\", \"disposal\", \"dollar\", \"dollar\", \"donald\", \"donald\", \"door\", \"drink\", \"drink\", \"dump\", \"dump\", \"emergency\", \"emergency\", \"environment\", \"environment\", \"environmental\", \"environmental\", \"environmental\", \"environmental\", \"epa\", \"epa\", \"epa\", \"erin\", \"fear\", \"fear\", \"feb\", \"feb\", \"feb\", \"feb\", \"fed\", \"federal\", \"federal\", \"federal\", \"federal\", \"fiery\", \"fiery\", \"fiery\", \"file\", \"fire\", \"fire\", \"fire\", \"first\", \"first\", \"first\", \"first\", \"follow\", \"follow\", \"follow\", \"follow\", \"former\", \"former\", \"fourth\", \"full\", \"full\", \"general\", \"go\", \"go\", \"go\", \"go\", \"gov\", \"gov\", \"gov\", \"government\", \"government\", \"government\", \"grill\", \"group\", \"hall\", \"hazardous\", \"hazardous\", \"hazardous\", \"hazardous\", \"headache\", \"health\", \"health\", \"health\", \"health\", \"hear\", \"hear\", \"hearing\", \"hold\", \"hold\", \"hour\", \"hour\", \"ignore\", \"impact\", \"impact\", \"improve\", \"improve\", \"improve\", \"increase\", \"indication\", \"infrastructure\", \"injury\", \"insist\", \"investigation\", \"investigation\", \"investigation\", \"investigator\", \"investigator\", \"josh\", \"know\", \"know\", \"know\", \"know\", \"last\", \"last\", \"last\", \"lawmaker\", \"lawmaker\", \"lawsuit\", \"leak\", \"leak\", \"legislation\", \"length\", \"limit\", \"live\", \"live\", \"live\", \"live\", \"liveonnews9\", \"liveonnews9\", \"loose\", \"low\", \"make\", \"make\", \"make\", \"make\", \"material\", \"material\", \"measure\", \"meeting\", \"meeting\", \"meeting\", \"michael\", \"michael\", \"mike\", \"million\", \"million\", \"model\", \"moment\", \"month\", \"month\", \"month\", \"mount\", \"national\", \"national\", \"near\", \"near\", \"near\", \"near\", \"none\", \"ntsb\", \"ntsb\", \"ntsb\", \"official\", \"official\", \"official\", \"official\", \"one\", \"one\", \"one\", \"one\", \"ongoing\", \"open\", \"order\", \"order\", \"order\", \"others\", \"panel\", \"part\", \"part\", \"pause\", \"pay\", \"pay\", \"pennsylvania\", \"pennsylvania\", \"pennsylvania\", \"people\", \"people\", \"people\", \"people\", \"pete\", \"pete\", \"plan\", \"plan\", \"plan\", \"plan\", \"practice\", \"precaution\", \"preliminary\", \"press\", \"protection\", \"quality\", \"rail\", \"rail\", \"rail\", \"rail\", \"railroad\", \"railroad\", \"railroad\", \"railroad\", \"reason\", \"receive\", \"receive\", \"recover\", \"regan\", \"release\", \"release\", \"release\", \"release\", \"remain\", \"remain\", \"removal\", \"remove\", \"report\", \"report\", \"report\", \"report\", \"resident\", \"resident\", \"resident\", \"resident\", \"right\", \"right\", \"safe\", \"safe\", \"safety\", \"safety\", \"safety\", \"safety\", \"saturday\", \"saturday\", \"say\", \"say\", \"say\", \"say\", \"school\", \"school\", \"scrutiny\", \"second\", \"secretary\", \"secretary\", \"sen\", \"senate\", \"senator\", \"senator\", \"sensor\", \"shapiro\", \"shapiro\", \"shaw\", \"shaw\", \"shelter\", \"sherrod\", \"shipment\", \"show\", \"show\", \"show\", \"since\", \"since\", \"since\", \"since\", \"site\", \"site\", \"site\", \"sorry\", \"special\", \"specific\", \"spill\", \"spill\", \"spill\", \"springfield\", \"springfield\", \"state\", \"state\", \"state\", \"state\", \"still\", \"still\", \"story\", \"story\", \"story\", \"sure\", \"team\", \"tell\", \"tell\", \"tell\", \"tell\", \"test\", \"test\", \"testify\", \"testify\", \"today\", \"today\", \"today\", \"today\", \"tour\", \"town\", \"town\", \"town\", \"town\", \"toxic\", \"toxic\", \"toxic\", \"toxic\", \"transportation\", \"transportation\", \"triple\", \"trump\", \"trump\", \"trump\", \"trump\", \"union\", \"union\", \"update\", \"update\", \"update\", \"update\", \"valley\", \"value\", \"vance\", \"vinyl\", \"visit\", \"visit\", \"visit\", \"visit\", \"waste\", \"waste\", \"watch\", \"watch\", \"watch\", \"water\", \"water\", \"water\", \"week\", \"week\", \"week\", \"week\", \"work\", \"work\", \"work\", \"work\", \"worker\", \"worker\", \"would\", \"would\", \"would\", \"would\", \"yost\"]}, \"R\": 30, \"lambda.step\": 0.01, \"plot.opts\": {\"xlab\": \"PC1\", \"ylab\": \"PC2\"}, \"topic.order\": [2, 1, 4, 3]};\n",
       "\n",
       "function LDAvis_load_lib(url, callback){\n",
       "  var s = document.createElement('script');\n",
       "  s.src = url;\n",
       "  s.async = true;\n",
       "  s.onreadystatechange = s.onload = callback;\n",
       "  s.onerror = function(){console.warn(\"failed to load library \" + url);};\n",
       "  document.getElementsByTagName(\"head\")[0].appendChild(s);\n",
       "}\n",
       "\n",
       "if(typeof(LDAvis) !== \"undefined\"){\n",
       "   // already loaded: just create the visualization\n",
       "   !function(LDAvis){\n",
       "       new LDAvis(\"#\" + \"ldavis_el1862059987644329282211966\", ldavis_el1862059987644329282211966_data);\n",
       "   }(LDAvis);\n",
       "}else if(typeof define === \"function\" && define.amd){\n",
       "   // require.js is available: use it to load d3/LDAvis\n",
       "   require.config({paths: {d3: \"https://d3js.org/d3.v5\"}});\n",
       "   require([\"d3\"], function(d3){\n",
       "      window.d3 = d3;\n",
       "      LDAvis_load_lib(\"https://cdn.jsdelivr.net/gh/bmabey/pyLDAvis@3.3.1/pyLDAvis/js/ldavis.v3.0.0.js\", function(){\n",
       "        new LDAvis(\"#\" + \"ldavis_el1862059987644329282211966\", ldavis_el1862059987644329282211966_data);\n",
       "      });\n",
       "    });\n",
       "}else{\n",
       "    // require.js not available: dynamically load d3 & LDAvis\n",
       "    LDAvis_load_lib(\"https://d3js.org/d3.v5.js\", function(){\n",
       "         LDAvis_load_lib(\"https://cdn.jsdelivr.net/gh/bmabey/pyLDAvis@3.3.1/pyLDAvis/js/ldavis.v3.0.0.js\", function(){\n",
       "                 new LDAvis(\"#\" + \"ldavis_el1862059987644329282211966\", ldavis_el1862059987644329282211966_data);\n",
       "            })\n",
       "         });\n",
       "}\n",
       "</script>"
      ],
      "text/plain": [
       "PreparedData(topic_coordinates=              x         y  topics  cluster       Freq\n",
       "topic                                                \n",
       "1     -0.035959  0.010086       1        1  28.668718\n",
       "0     -0.206885  0.047242       2        1  24.308651\n",
       "3      0.070091 -0.195205       3        1  23.566936\n",
       "2      0.172753  0.137876       4        1  23.455695, topic_info=           Term        Freq        Total Category  logprob  loglift\n",
       "614         ceo  657.000000   657.000000  Default  30.0000  30.0000\n",
       "1005     derail  822.000000   822.000000  Default  29.0000  29.0000\n",
       "638    chemical  810.000000   810.000000  Default  28.0000  28.0000\n",
       "3023     safety  697.000000   697.000000  Default  27.0000  27.0000\n",
       "3090     senate  338.000000   338.000000  Default  26.0000  26.0000\n",
       "...         ...         ...          ...      ...      ...      ...\n",
       "3023     safety  164.839650   697.116884   Topic4  -4.8034   0.0081\n",
       "3044        say  182.756771  1266.116528   Topic4  -4.7002  -0.4855\n",
       "2797   railroad  116.543993   402.322217   Topic4  -5.1501   0.2111\n",
       "1443     follow  108.010224   331.343630   Topic4  -5.2261   0.3291\n",
       "753   community  102.251813   276.143346   Topic4  -5.2809   0.4566\n",
       "\n",
       "[278 rows x 6 columns], token_table=      Topic      Freq         Term\n",
       "term                              \n",
       "25        1  0.005337           20\n",
       "25        2  0.992606           20\n",
       "40        2  0.992328          212\n",
       "146       3  0.156951  accountable\n",
       "146       4  0.837073  accountable\n",
       "...     ...       ...          ...\n",
       "3832      1  0.195602        would\n",
       "3832      2  0.006113        would\n",
       "3832      3  0.556242        would\n",
       "3832      4  0.244502        would\n",
       "3859      2  0.982729         yost\n",
       "\n",
       "[472 rows x 3 columns], R=30, lambda_step=0.01, plot_opts={'xlab': 'PC1', 'ylab': 'PC2'}, topic_order=[2, 1, 4, 3])"
      ]
     },
     "execution_count": 145,
     "metadata": {},
     "output_type": "execute_result"
    }
   ],
   "source": [
    "pyLDAvis.sklearn.prepare(lda, tf, tf_vectorizer)"
   ]
  },
  {
   "cell_type": "code",
   "execution_count": 146,
   "metadata": {},
   "outputs": [],
   "source": [
    "def tweet_topic(dataframe, lda, tf, tweet_no):\n",
    "  tweet_topic_matrix = lda.transform(tf)\n",
    "  print(f'{dataframe.MESSAGE.iloc[tweet_no]}')\n",
    "  print(f'{tweet_topic_matrix[tweet_no]}')"
   ]
  },
  {
   "cell_type": "code",
   "execution_count": 147,
   "metadata": {},
   "outputs": [
    {
     "name": "stdout",
     "output_type": "stream",
     "text": [
      "Ohio filed a lawsuit against railroad Norfolk Southern to make sure it pays for the cleanup and environmental damage caused by a fiery train derailment last month. https://t.co/2iybJ3ySje\n",
      "[0.9455  0.0181  0.01819 0.01822]\n"
     ]
    }
   ],
   "source": [
    "tweet_topic(data_media, lda, tf, 14)"
   ]
  },
  {
   "cell_type": "code",
   "execution_count": null,
   "metadata": {},
   "outputs": [],
   "source": [
    "# Metrics\n",
    "\n",
    "# 1. Sparsity\n",
    "# How sparse is this document?\n",
    "# We are taking the non zero entries in the doc-word frequency matrix\n",
    "# Sparsity (%) = (# of zero elements in tf / total # of elements in tf) x 100\n",
    "\n",
    "sparsity_media = ((tf.todense() > 0).sum() / tf.todense().size)*100\n",
    "print(f'Sparsity: {sparsity_media}')\n",
    "\n",
    "\n",
    "#OJO: to icnrease sparsity, we can increase min_df (can be integer or float)\n",
    "# we can also lower max_features\n",
    "# we can also reduce stop words\n",
    "\n",
    "\n",
    "# 2. Loglikelihood\n",
    "loglikelihood_media = lda.score(tf)\n",
    "perplexity_media = lda.perplexity(tf)\n",
    "\n",
    "print(f'Loglikelihood: {loglikelihood_media}')\n",
    "print(f'Perplexity: {perplexity_media}')\n",
    "\n",
    "# INTERPRETATION MISSING\n",
    "\n"
   ]
  },
  {
   "cell_type": "code",
   "execution_count": null,
   "metadata": {},
   "outputs": [],
   "source": [
    "# Choose optimal model\n",
    "\n",
    "# Visualize keyowrds for topics???"
   ]
  },
  {
   "attachments": {},
   "cell_type": "markdown",
   "metadata": {},
   "source": [
    "## GOVT\n"
   ]
  },
  {
   "cell_type": "code",
   "execution_count": 131,
   "metadata": {},
   "outputs": [],
   "source": [
    "tf, tf_vectorizer, vocab, lda, data = parse_lda(data_govt, 15000, 2, num_topics = 4)"
   ]
  },
  {
   "cell_type": "code",
   "execution_count": 132,
   "metadata": {},
   "outputs": [
    {
     "name": "stdout",
     "output_type": "stream",
     "text": [
      "Size of the ... (tweets, words in vocabulary): (376, 848)\n"
     ]
    }
   ],
   "source": [
    "print(f'Size of the ... (tweets, words in vocabulary): {tf.toarray().shape}')"
   ]
  },
  {
   "cell_type": "code",
   "execution_count": 133,
   "metadata": {},
   "outputs": [
    {
     "name": "stdout",
     "output_type": "stream",
     "text": [
      "The most repeated word in a single tweet is update, and it is repeated 3 times in the tweet: update ohioag file civil lawsuit united state district court northern district today full update previous update information\n"
     ]
    }
   ],
   "source": [
    "most_frequent(tf, vocab, data)"
   ]
  },
  {
   "attachments": {},
   "cell_type": "markdown",
   "metadata": {},
   "source": [
    "topic_word = np.array([row / row.sum() for row in lda.components_])\n",
    "topic_word.shape\n"
   ]
  },
  {
   "cell_type": "code",
   "execution_count": 134,
   "metadata": {},
   "outputs": [
    {
     "name": "stderr",
     "output_type": "stream",
     "text": [
      "/Users/ribarragi/miniconda3/envs/Intro_AI/lib/python3.9/site-packages/sklearn/utils/deprecation.py:87: FutureWarning: Function get_feature_names is deprecated; get_feature_names is deprecated in 1.0 and will be removed in 1.2. Please use get_feature_names_out instead.\n",
      "  warnings.warn(msg, category=FutureWarning)\n",
      "/Users/ribarragi/miniconda3/envs/Intro_AI/lib/python3.9/site-packages/pyLDAvis/_prepare.py:246: FutureWarning: In a future version of pandas all arguments of DataFrame.drop except for the argument 'labels' will be keyword-only.\n",
      "  default_term_info = default_term_info.sort_values(\n"
     ]
    },
    {
     "data": {
      "text/html": [
       "\n",
       "<link rel=\"stylesheet\" type=\"text/css\" href=\"https://cdn.jsdelivr.net/gh/bmabey/pyLDAvis@3.3.1/pyLDAvis/js/ldavis.v1.0.0.css\">\n",
       "\n",
       "\n",
       "<div id=\"ldavis_el18620108021877287624044093\"></div>\n",
       "<script type=\"text/javascript\">\n",
       "\n",
       "var ldavis_el18620108021877287624044093_data = {\"mdsDat\": {\"x\": [-0.020537665495463455, -0.13225139344479153, -0.004522879805911148, 0.15731193874616617], \"y\": [0.055344992341688846, -0.09715388209730055, 0.1130110134165665, -0.07120212366095471], \"topics\": [1, 2, 3, 4], \"cluster\": [1, 1, 1, 1], \"Freq\": [27.142607844703768, 25.236641268046228, 25.091852361705424, 22.528898525544594]}, \"tinfo\": {\"Term\": [\"ceo\", \"epa\", \"shaw\", \"alan\", \"resident\", \"toxic\", \"happen\", \"biden\", \"cause\", \"cleanup\", \"update\", \"effort\", \"chemical\", \"hazardous\", \"people\", \"hold\", \"material\", \"release\", \"air\", \"testimony\", \"site\", \"one\", \"hill\", \"buttigieg\", \"company\", \"clean\", \"derail\", \"public\", \"epwcmte\", \"oversight\", \"cause\", \"secretarypete\", \"mile\", \"secretary\", \"000\", \"airport\", \"usdot\", \"west\", \"pennsylvania\", \"examine\", \"upended\", \"governor\", \"horrific\", \"management\", \"across\", \"progressive\", \"exist\", \"ecological\", \"happens\", \"thread\", \"repair\", \"criticism\", \"wither\", \"announces\", \"upgrade\", \"person\", \"every\", \"nothing\", \"kill\", \"eastpalestine\", \"one\", \"buttigieg\", \"accountability\", \"hold\", \"people\", \"life\", \"within\", \"disaster\", \"pete\", \"border\", \"answer\", \"fire\", \"potus\", \"worker\", \"freight\", \"call\", \"response\", \"chemical\", \"rail\", \"say\", \"hear\", \"accountable\", \"public\", \"epwcmte\", \"make\", \"day\", \"safety\", \"must\", \"site\", \"resident\", \"work\", \"company\", \"need\", \"health\", \"derail\", \"cleanup\", \"effort\", \"air\", \"resource\", \"test\", \"epa\", \"meet\", \"do\", \"district\", \"contaminate\", \"wake\", \"phase\", \"24\", \"website\", \"relate\", \"transition\", \"among\", \"count\", \"firm\", \"focus\", \"jeffzymeri\", \"woe\", \"disposal\", \"yesterday\", \"available\", \"associate\", \"hotel\", \"stay\", \"page\", \"pahealthdept\", \"clean\", \"conduct\", \"resident\", \"information\", \"responder\", \"around\", \"get\", \"action\", \"state\", \"epamichaelregan\", \"emergency\", \"pay\", \"safety\", \"update\", \"ntsb\", \"site\", \"health\", \"new\", \"rail\", \"community\", \"take\", \"response\", \"since\", \"need\", \"today\", \"work\", \"continue\", \"make\", \"say\", \"accountable\", \"follow\", \"oversight\", \"well\", \"government\", \"tax\", \"weekend\", \"run\", \"standard\", \"wreck\", \"dam\", \"appear\", \"brake\", \"away\", \"heard\", \"understand\", \"afternoon\", \"try\", \"medium\", \"act\", \"leslie\", \"sulphur\", \"fra\", \"gop\", \"pahousedems\", \"pass\", \"although\", \"heavy\", \"epw\", \"director\", \"urge\", \"fine\", \"push\", \"hazardous\", \"policy\", \"material\", \"release\", \"house\", \"even\", \"system\", \"derail\", \"full\", \"go\", \"chemical\", \"federal\", \"update\", \"impact\", \"committee\", \"work\", \"carry\", \"accident\", \"bipartisan\", \"public\", \"keep\", \"railroad\", \"week\", \"toxic\", \"safety\", \"rail\", \"car\", \"last\", \"today\", \"environmental\", \"answer\", \"biden\", \"ceo\", \"shaw\", \"alan\", \"hill\", \"capitol\", \"eastpalestineoh\", \"press\", \"airline\", \"ukraine\", \"reuters\", \"shareholder\", \"testify\", \"apologize\", \"happen\", \"ahead\", \"similar\", \"epwgop\", \"greed\", \"testimony\", \"railway\", \"investigate\", \"detail\", \"soon\", \"merkley\", \"groundwater\", \"bernie\", \"behind\", \"child\", \"economic\", \"fed\", \"toxic\", \"biden\", \"senator\", \"expect\", \"company\", \"senate\", \"concern\", \"still\", \"visit\", \"since\", \"today\", \"hear\", \"president\", \"day\", \"community\", \"continue\", \"question\", \"last\", \"safety\", \"epwcmte\", \"american\", \"hearing\", \"put\"], \"Freq\": [29.0, 34.0, 17.0, 15.0, 30.0, 27.0, 16.0, 30.0, 14.0, 12.0, 23.0, 11.0, 24.0, 17.0, 26.0, 23.0, 16.0, 14.0, 8.0, 9.0, 16.0, 16.0, 7.0, 13.0, 25.0, 11.0, 25.0, 15.0, 13.0, 7.0, 13.862034648839392, 7.042709190737313, 6.191955617482236, 6.183124417744048, 6.128432116856024, 4.483804619071594, 4.4811027501459995, 3.629733746860563, 3.628925538429276, 3.6286755989356894, 3.627434634540265, 3.626243904871251, 3.625825962160065, 3.61333639787414, 2.775686855658309, 2.7756837326004864, 2.7756827707308753, 2.7756804069982173, 2.7756778364929913, 2.7756762289822965, 2.7756751298321367, 2.77566053610511, 2.77566053610511, 2.7756410058729957, 2.775634921591673, 2.7739491960466545, 2.77292947417667, 2.7715464517960875, 2.7673389250294136, 6.198410883620202, 12.030273963609677, 10.009938673307886, 11.09825424115995, 15.580922652320604, 16.998518548692758, 4.484074030734712, 4.4856540720984235, 14.447953925190815, 6.033873249422157, 4.452994550545696, 12.020593932982264, 6.203163992608498, 4.260348971217461, 7.462128480604198, 7.072971331169445, 8.110850751226677, 10.565183933176236, 11.44092389572339, 14.930683799734839, 9.824510307890428, 11.337688988994348, 8.296387291224681, 7.776654530894391, 7.219039259569593, 11.07053156193906, 8.415451444708825, 14.214789800741384, 6.435997959795093, 7.192053671981609, 7.89294275079977, 7.475858335339855, 7.447655909443617, 7.227251997111223, 7.262496823693299, 7.010921013078982, 12.146626620459333, 11.301158683055387, 7.893137044461006, 6.187769001678281, 6.184478791156219, 30.818309048386993, 5.318824820332033, 5.317204316826129, 4.481370832481509, 4.4794389233858745, 4.455039883522166, 3.627777815416218, 3.6277657332293796, 3.6277596659107667, 3.6268848224156534, 2.7741761120608985, 2.774167765596767, 2.774167765596767, 2.774167765596767, 2.774167765596767, 2.774167765596767, 2.774167765596767, 2.774164794225456, 2.774163995531018, 2.774156974365152, 2.774142463208724, 2.7735194652116593, 2.773517805414376, 2.7728495165833977, 2.772173036163005, 8.738592979238053, 5.342285177344073, 21.492554405567425, 9.618886335406833, 6.086413707525948, 4.48441458971916, 12.01859160743022, 6.204679342482852, 8.20802738251075, 5.195070594308244, 6.462259304324088, 8.35591045358786, 23.88633313326326, 12.16256720756653, 8.304921453854005, 8.60152846634662, 10.150913566225812, 7.867644931179343, 13.336537057119365, 10.54577456713743, 9.3662283963917, 8.426337282942995, 8.420304714431367, 8.387135040395746, 9.904388479652937, 7.602096991226723, 7.130277758749625, 7.446137612127986, 6.792148852487961, 6.549965723841029, 6.374409185627478, 7.005120932739764, 7.003794827278096, 6.813901408437186, 4.461274477493759, 4.4605627772242284, 4.457476478326817, 4.419394255859213, 4.40206659267601, 3.6115249569865178, 3.6115227722630676, 3.6115144577203186, 3.611507453346261, 3.6114895571862466, 3.6114571539497047, 3.6105458914793833, 3.608864766268843, 3.60753137625398, 3.6066107613462095, 2.7617421223538976, 2.7617421223538976, 2.761741013710879, 2.7617323725253278, 2.7617323725253278, 2.7617293599798303, 2.758947805655926, 2.7550718667191876, 2.7542046757077605, 2.7524973643280783, 2.7511772515653936, 2.743764090893219, 6.82230678278031, 13.288228181826387, 5.313500892695563, 11.658148097978463, 9.757769230872844, 7.7089493866364736, 4.471944705167914, 4.464435543611427, 14.627498949238031, 7.7224613794599595, 9.993817278447706, 12.223750207597474, 10.449493273206922, 11.26018997479951, 7.715089919643714, 7.361875653339543, 10.265243644571393, 5.998782684820723, 7.43654911216525, 5.322408578964315, 7.065950493429547, 5.115830364510138, 7.15401980351709, 7.423413224660787, 8.795071034350054, 11.46948915445928, 9.83945996206966, 5.32560009813726, 5.9170338290641125, 7.142544600981283, 5.938068959176927, 6.194779168363344, 6.10696425423051, 28.776929318816602, 17.0114799755165, 15.330019792451466, 6.891524900715791, 6.092575056927697, 5.251936971593282, 5.246928235006396, 5.245983863384077, 5.228406150584283, 5.186334419079861, 4.4076535574477225, 4.405665700727963, 4.40465817770662, 14.49659076833333, 3.5714948365238404, 3.5714879195296, 3.5709995981504132, 3.567588174174482, 7.762245229225451, 6.855442166451563, 2.7311416120844227, 2.7311347416991745, 2.7311221239871912, 2.731114328066452, 2.730303403542142, 2.730113694697936, 2.729884882957182, 2.7294000941391694, 2.7282702912253063, 2.7266861319765603, 17.762733187207992, 18.793741286683545, 6.114563361598219, 5.2547772290901715, 11.479227961223653, 10.22087020980765, 7.378897742948131, 6.1077677516297975, 8.082667673116845, 8.90126133500392, 11.278130431901717, 9.551175364525955, 7.728734571179676, 7.230233856206498, 8.078762510653362, 7.120339967547631, 6.426788766952167, 6.346290761874089, 8.29970224112287, 5.921882033709327, 5.444792425999128, 5.4712745910604985, 5.268983468135365], \"Total\": [29.0, 34.0, 17.0, 15.0, 30.0, 27.0, 16.0, 30.0, 14.0, 12.0, 23.0, 11.0, 24.0, 17.0, 26.0, 23.0, 16.0, 14.0, 8.0, 9.0, 16.0, 16.0, 7.0, 13.0, 25.0, 11.0, 25.0, 15.0, 13.0, 7.0, 14.51449537664911, 7.681993668059221, 6.827940713169504, 6.827880302819596, 6.827898544656526, 5.119800939590725, 5.119799423517064, 4.265731089595506, 4.265718480174966, 4.265730388404252, 4.265724347913999, 4.265724828249508, 4.265728901240887, 4.2657218744068, 3.411661404643214, 3.41166137963978, 3.4116613848142854, 3.4116613543428356, 3.41166133094747, 3.411661333430966, 3.4116612963873245, 3.4116612039912755, 3.4116612039912755, 3.4116610204703735, 3.4116609475868405, 3.4116336887940046, 3.4116598291985354, 3.411658905874949, 3.4116195020999394, 7.681535243959953, 16.195679803569504, 13.612153190495597, 15.358798030963637, 23.896490387999627, 26.406574675184473, 5.960221355617073, 5.969597748352696, 23.827890619112928, 8.506122706613745, 5.959666468201531, 20.43364548067804, 9.381118067340518, 5.959873908263208, 12.793988126548895, 11.934670200871706, 14.473709869703228, 21.31167027128532, 24.692913111159765, 41.73324380020126, 21.274452188989763, 27.152858700198614, 17.06421166371055, 15.332944298439179, 13.567311203811226, 28.929926186538896, 18.661381607487876, 57.87031432958679, 11.93704793980682, 16.218102597965075, 30.725584969741544, 25.562497180600285, 25.430214070882016, 22.155263554937907, 23.023593177475558, 25.506215628144066, 12.799885151906249, 11.946261277826213, 8.531834539723134, 6.824666320607565, 6.824649268750942, 34.12788459432767, 5.97102605175987, 5.970976839138553, 5.117462474100331, 5.117437011676592, 5.1172124388047715, 4.263860420666999, 4.263860352252266, 4.263860293942541, 4.263860821004408, 3.4102583044924715, 3.4102582400098473, 3.4102582400098473, 3.4102582400098473, 3.4102582400098473, 3.4102582400098473, 3.4102582400098473, 3.410258229927788, 3.410258235277907, 3.410258167996748, 3.4102580626988552, 3.410258609627925, 3.4102586015854066, 3.4102581660546525, 3.41025737368052, 11.085054782791431, 6.811644331135916, 30.725584969741544, 13.627604777835419, 8.523783933929623, 5.971519547665449, 21.30149510817861, 9.359467970213062, 13.63068749987373, 7.679280228807005, 10.204253271334556, 14.428869140296683, 57.87031432958679, 23.846973406161922, 14.478544010277949, 16.218102597965075, 23.023593177475558, 16.16255204716233, 41.73324380020126, 28.033827735690974, 22.991911581626223, 21.31167027128532, 22.054893628055588, 22.155263554937907, 33.93728479312562, 25.562497180600285, 20.363336379874966, 28.929926186538896, 21.274452188989763, 17.06421166371055, 14.460506686113607, 7.64767182306234, 7.647701468362552, 7.648638418406675, 5.098338098439253, 5.0983412964956765, 5.098350371180425, 5.098474097058481, 5.098605131429837, 4.248560923182839, 4.248560924041808, 4.248560926389898, 4.248560913964208, 4.248560887259536, 4.248560888778193, 4.248565789977135, 4.248572748441067, 4.248517166882155, 4.248576612023951, 3.3987837242515937, 3.3987837242515937, 3.3987837326072503, 3.3987837111254446, 3.3987837111254446, 3.398783724822721, 3.3987962490206165, 3.3988171918649965, 3.3987743275588507, 3.398791462732643, 3.398830891298594, 3.3988645390719174, 8.487504522497966, 17.835852490193158, 6.80212977563157, 16.135881912544757, 14.466288210049303, 11.046155710983237, 5.938816963621007, 5.952390217215918, 25.506215628144066, 12.766963345317786, 17.863986899186735, 24.692913111159765, 21.21492841997311, 23.846973406161922, 14.433102993445384, 13.592836653684657, 25.562497180600285, 10.174530158947343, 15.257654028306765, 8.50908044941151, 15.332944298439179, 8.511190072869223, 17.023726813091077, 18.68207847038689, 27.84996132840099, 57.87031432958679, 41.73324380020126, 9.350913629812153, 15.239709322247693, 33.93728479312562, 16.18056230885969, 20.43364548067804, 30.408930007455375, 29.421752861345585, 17.65671469113862, 15.976004986481271, 7.57299822213804, 6.731968927289137, 5.891613836612399, 5.891689478372677, 5.891709992177615, 5.891997829262046, 5.892349300858468, 5.051316559525055, 5.051349889416422, 5.0513633602380095, 16.843657517280217, 4.210890531734816, 4.210890624435709, 4.210898268941395, 4.210938516619996, 9.262591564000422, 8.427122387282811, 3.3705309668085657, 3.3705310650485516, 3.370531242287911, 3.370531362133466, 3.370540402407591, 3.370547133682005, 3.370550758233052, 3.370558381438918, 3.3705632348533614, 3.3706011277230963, 27.84996132840099, 30.408930007455375, 8.438818879681158, 7.591135269640869, 25.430214070882016, 22.00912036421436, 14.386754744123316, 11.843275384932333, 18.653347585750033, 22.054893628055588, 33.93728479312562, 27.152858700198614, 21.199114275569094, 18.661381607487876, 28.033827735690974, 20.363336379874966, 15.254424780623545, 15.239709322247693, 57.87031432958679, 13.567311203811226, 11.848202086143296, 13.555624999545127, 11.014747455216908], \"Category\": [\"Default\", \"Default\", \"Default\", \"Default\", \"Default\", \"Default\", \"Default\", \"Default\", \"Default\", \"Default\", \"Default\", \"Default\", \"Default\", \"Default\", \"Default\", \"Default\", \"Default\", \"Default\", \"Default\", \"Default\", \"Default\", \"Default\", \"Default\", \"Default\", \"Default\", \"Default\", \"Default\", \"Default\", \"Default\", \"Default\", \"Topic1\", \"Topic1\", \"Topic1\", \"Topic1\", \"Topic1\", \"Topic1\", \"Topic1\", \"Topic1\", \"Topic1\", \"Topic1\", \"Topic1\", \"Topic1\", \"Topic1\", \"Topic1\", \"Topic1\", \"Topic1\", \"Topic1\", \"Topic1\", \"Topic1\", \"Topic1\", \"Topic1\", \"Topic1\", \"Topic1\", \"Topic1\", \"Topic1\", \"Topic1\", \"Topic1\", \"Topic1\", \"Topic1\", \"Topic1\", \"Topic1\", \"Topic1\", \"Topic1\", \"Topic1\", \"Topic1\", \"Topic1\", \"Topic1\", \"Topic1\", \"Topic1\", \"Topic1\", \"Topic1\", \"Topic1\", \"Topic1\", \"Topic1\", \"Topic1\", \"Topic1\", \"Topic1\", \"Topic1\", \"Topic1\", \"Topic1\", \"Topic1\", \"Topic1\", \"Topic1\", \"Topic1\", \"Topic1\", \"Topic1\", \"Topic1\", \"Topic1\", \"Topic1\", \"Topic1\", \"Topic1\", \"Topic1\", \"Topic1\", \"Topic1\", \"Topic1\", \"Topic2\", \"Topic2\", \"Topic2\", \"Topic2\", \"Topic2\", \"Topic2\", \"Topic2\", \"Topic2\", \"Topic2\", \"Topic2\", \"Topic2\", \"Topic2\", \"Topic2\", \"Topic2\", \"Topic2\", \"Topic2\", \"Topic2\", \"Topic2\", \"Topic2\", \"Topic2\", \"Topic2\", \"Topic2\", \"Topic2\", \"Topic2\", \"Topic2\", \"Topic2\", \"Topic2\", \"Topic2\", \"Topic2\", \"Topic2\", \"Topic2\", \"Topic2\", \"Topic2\", \"Topic2\", \"Topic2\", \"Topic2\", \"Topic2\", \"Topic2\", \"Topic2\", \"Topic2\", \"Topic2\", \"Topic2\", \"Topic2\", \"Topic2\", \"Topic2\", \"Topic2\", \"Topic2\", \"Topic2\", \"Topic2\", \"Topic2\", \"Topic2\", \"Topic2\", \"Topic2\", \"Topic2\", \"Topic2\", \"Topic2\", \"Topic2\", \"Topic2\", \"Topic2\", \"Topic2\", \"Topic2\", \"Topic3\", \"Topic3\", \"Topic3\", \"Topic3\", \"Topic3\", \"Topic3\", \"Topic3\", \"Topic3\", \"Topic3\", \"Topic3\", \"Topic3\", \"Topic3\", \"Topic3\", \"Topic3\", \"Topic3\", \"Topic3\", \"Topic3\", \"Topic3\", \"Topic3\", \"Topic3\", \"Topic3\", \"Topic3\", \"Topic3\", \"Topic3\", \"Topic3\", \"Topic3\", \"Topic3\", \"Topic3\", \"Topic3\", \"Topic3\", \"Topic3\", \"Topic3\", \"Topic3\", \"Topic3\", \"Topic3\", \"Topic3\", \"Topic3\", \"Topic3\", \"Topic3\", \"Topic3\", \"Topic3\", \"Topic3\", \"Topic3\", \"Topic3\", \"Topic3\", \"Topic3\", \"Topic3\", \"Topic3\", \"Topic3\", \"Topic3\", \"Topic3\", \"Topic3\", \"Topic3\", \"Topic3\", \"Topic3\", \"Topic3\", \"Topic3\", \"Topic3\", \"Topic3\", \"Topic3\", \"Topic3\", \"Topic3\", \"Topic3\", \"Topic4\", \"Topic4\", \"Topic4\", \"Topic4\", \"Topic4\", \"Topic4\", \"Topic4\", \"Topic4\", \"Topic4\", \"Topic4\", \"Topic4\", \"Topic4\", \"Topic4\", \"Topic4\", \"Topic4\", \"Topic4\", \"Topic4\", \"Topic4\", \"Topic4\", \"Topic4\", \"Topic4\", \"Topic4\", \"Topic4\", \"Topic4\", \"Topic4\", \"Topic4\", \"Topic4\", \"Topic4\", \"Topic4\", \"Topic4\", \"Topic4\", \"Topic4\", \"Topic4\", \"Topic4\", \"Topic4\", \"Topic4\", \"Topic4\", \"Topic4\", \"Topic4\", \"Topic4\", \"Topic4\", \"Topic4\", \"Topic4\", \"Topic4\", \"Topic4\", \"Topic4\", \"Topic4\", \"Topic4\", \"Topic4\", \"Topic4\", \"Topic4\", \"Topic4\", \"Topic4\"], \"logprob\": [30.0, 29.0, 28.0, 27.0, 26.0, 25.0, 24.0, 23.0, 22.0, 21.0, 20.0, 19.0, 18.0, 17.0, 16.0, 15.0, 14.0, 13.0, 12.0, 11.0, 10.0, 9.0, 8.0, 7.0, 6.0, 5.0, 4.0, 3.0, 2.0, 1.0, -4.5423, -5.2195, -5.3482, -5.3496, -5.3585, -5.671, -5.6716, -5.8823, -5.8825, -5.8826, -5.8829, -5.8833, -5.8834, -5.8868, -6.1506, -6.1506, -6.1506, -6.1506, -6.1506, -6.1506, -6.1506, -6.1506, -6.1506, -6.1506, -6.1506, -6.1512, -6.1516, -6.1521, -6.1536, -5.3472, -4.684, -4.8679, -4.7647, -4.4254, -4.3383, -5.6709, -5.6706, -4.5009, -5.3741, -5.6779, -4.6849, -5.3464, -5.7221, -5.1616, -5.2152, -5.0783, -4.8139, -4.7343, -4.4681, -4.8866, -4.7433, -5.0557, -5.1203, -5.1948, -4.7672, -5.0414, -4.5172, -5.3096, -5.1985, -5.1055, -5.1598, -5.1636, -5.1936, -5.1887, -5.224, -4.6016, -4.6738, -5.0327, -5.2761, -5.2766, -3.6706, -5.4274, -5.4277, -5.5987, -5.5992, -5.6046, -5.81, -5.81, -5.81, -5.8103, -6.0783, -6.0783, -6.0783, -6.0783, -6.0783, -6.0783, -6.0783, -6.0783, -6.0783, -6.0783, -6.0783, -6.0785, -6.0785, -6.0788, -6.079, -4.9309, -5.423, -4.031, -4.8349, -5.2926, -5.5981, -4.6122, -5.2734, -4.9936, -5.451, -5.2327, -4.9757, -3.9254, -4.6003, -4.9818, -4.9467, -4.7811, -5.0359, -4.5082, -4.7429, -4.8616, -4.9673, -4.968, -4.972, -4.8057, -5.0702, -5.1343, -5.091, -5.1829, -5.2192, -5.2464, -5.1463, -5.1465, -5.1739, -5.5975, -5.5976, -5.5983, -5.6069, -5.6108, -5.8088, -5.8088, -5.8088, -5.8088, -5.8088, -5.8088, -5.8091, -5.8095, -5.8099, -5.8101, -6.077, -6.077, -6.077, -6.0771, -6.0771, -6.0771, -6.0781, -6.0795, -6.0798, -6.0804, -6.0809, -6.0836, -5.1727, -4.506, -5.4227, -4.6369, -4.8148, -5.0505, -5.5951, -5.5968, -4.41, -5.0488, -4.7909, -4.5895, -4.7464, -4.6716, -5.0497, -5.0966, -4.7641, -5.3014, -5.0865, -5.421, -5.1376, -5.4606, -5.1252, -5.0883, -4.9187, -4.6532, -4.8065, -5.4204, -5.3151, -5.1268, -5.3115, -5.2692, -5.2835, -3.6256, -4.1513, -4.2554, -5.0549, -5.1781, -5.3266, -5.3275, -5.3277, -5.3311, -5.3391, -5.5018, -5.5023, -5.5025, -4.3113, -5.7122, -5.7122, -5.7123, -5.7133, -4.9359, -5.0601, -5.9804, -5.9804, -5.9805, -5.9805, -5.9808, -5.9808, -5.9809, -5.9811, -5.9815, -5.9821, -4.1081, -4.0516, -5.1745, -5.326, -4.5446, -4.6607, -4.9865, -5.1756, -4.8954, -4.799, -4.5623, -4.7285, -4.9402, -5.0069, -4.8959, -5.0222, -5.1247, -5.1373, -4.8689, -5.2065, -5.2905, -5.2857, -5.3233], \"loglift\": [30.0, 29.0, 28.0, 27.0, 26.0, 25.0, 24.0, 23.0, 22.0, 21.0, 20.0, 19.0, 18.0, 17.0, 16.0, 15.0, 14.0, 13.0, 12.0, 11.0, 10.0, 9.0, 8.0, 7.0, 6.0, 5.0, 4.0, 3.0, 2.0, 1.0, 1.2581, 1.2172, 1.2063, 1.2049, 1.196, 1.1714, 1.1708, 1.1426, 1.1424, 1.1423, 1.142, 1.1417, 1.1415, 1.1381, 1.0978, 1.0978, 1.0978, 1.0978, 1.0978, 1.0978, 1.0978, 1.0978, 1.0978, 1.0977, 1.0977, 1.0971, 1.0968, 1.0963, 1.0948, 1.0895, 1.0067, 0.9967, 0.9792, 0.8764, 0.8636, 1.0195, 1.0183, 0.8038, 0.9607, 1.0126, 0.7735, 0.8904, 0.9684, 0.7649, 0.7809, 0.7249, 0.6024, 0.5347, 0.2762, 0.5314, 0.4307, 0.5829, 0.6252, 0.6731, 0.3435, 0.5077, -0.0999, 0.6863, 0.4909, -0.0551, 0.0746, 0.076, 0.1838, 0.1503, 0.0126, 1.3245, 1.3214, 1.2991, 1.2789, 1.2784, 1.2749, 1.2612, 1.2609, 1.2441, 1.2437, 1.2383, 1.2153, 1.2153, 1.2153, 1.2151, 1.1704, 1.1704, 1.1704, 1.1704, 1.1704, 1.1704, 1.1704, 1.1704, 1.1704, 1.1704, 1.1704, 1.1702, 1.1702, 1.17, 1.1697, 1.139, 1.1339, 1.0195, 1.0285, 1.0401, 1.0905, 0.8046, 0.9658, 0.8697, 0.9861, 0.92, 0.8306, 0.492, 0.7036, 0.8211, 0.7427, 0.5579, 0.6569, 0.2361, 0.3992, 0.4788, 0.449, 0.414, 0.4055, 0.1453, 0.1642, 0.3275, 0.0197, 0.2351, 0.4193, 0.5577, 1.2949, 1.2947, 1.2671, 1.2491, 1.249, 1.2483, 1.2397, 1.2357, 1.2202, 1.2202, 1.2202, 1.2202, 1.2202, 1.2202, 1.2199, 1.2194, 1.2191, 1.2188, 1.1751, 1.1751, 1.1751, 1.1751, 1.1751, 1.1751, 1.1741, 1.1726, 1.1723, 1.1717, 1.1712, 1.1685, 1.1642, 1.0883, 1.1356, 1.0576, 0.9889, 1.0229, 1.0989, 1.095, 0.8266, 0.8799, 0.8018, 0.6795, 0.6745, 0.6322, 0.7563, 0.7694, 0.4703, 0.8543, 0.664, 0.9134, 0.6079, 0.8736, 0.5157, 0.4597, 0.23, -0.2359, -0.0623, 0.8197, 0.4366, -0.1758, 0.3802, 0.1892, -0.2227, 1.4682, 1.4531, 1.4491, 1.3961, 1.3906, 1.3754, 1.3745, 1.3743, 1.3709, 1.3627, 1.3541, 1.3536, 1.3534, 1.3403, 1.3257, 1.3257, 1.3255, 1.3246, 1.3137, 1.284, 1.28, 1.28, 1.28, 1.28, 1.2797, 1.2796, 1.2796, 1.2794, 1.279, 1.2784, 1.0406, 1.0092, 1.1682, 1.1225, 0.695, 0.7233, 0.8227, 0.8282, 0.6541, 0.583, 0.3887, 0.4456, 0.4814, 0.5422, 0.2462, 0.4396, 0.626, 0.6143, -0.4516, 0.6614, 0.7129, 0.5831, 0.753]}, \"token.table\": {\"Topic\": [1, 2, 1, 2, 3, 4, 1, 2, 3, 1, 2, 3, 1, 3, 1, 2, 4, 3, 4, 2, 4, 1, 4, 3, 1, 3, 4, 2, 1, 1, 3, 4, 4, 3, 1, 2, 2, 2, 3, 4, 4, 1, 3, 4, 1, 2, 3, 1, 4, 3, 1, 4, 1, 2, 3, 4, 4, 1, 3, 4, 1, 3, 4, 1, 4, 1, 3, 4, 4, 2, 3, 2, 1, 3, 4, 1, 2, 3, 4, 1, 2, 4, 1, 3, 4, 2, 4, 2, 1, 2, 3, 4, 2, 1, 3, 1, 2, 3, 4, 1, 2, 3, 4, 4, 3, 1, 2, 3, 4, 2, 2, 2, 1, 2, 4, 1, 4, 2, 1, 2, 4, 1, 2, 3, 4, 2, 3, 1, 2, 3, 1, 4, 4, 3, 4, 1, 1, 1, 3, 4, 4, 1, 3, 4, 3, 1, 2, 3, 2, 2, 1, 2, 3, 4, 3, 1, 2, 3, 1, 2, 3, 1, 2, 3, 4, 1, 2, 3, 4, 3, 3, 1, 4, 4, 1, 4, 1, 2, 3, 4, 1, 2, 3, 1, 2, 3, 4, 3, 1, 2, 3, 4, 3, 4, 1, 2, 3, 1, 2, 1, 3, 4, 1, 3, 4, 2, 3, 4, 4, 2, 1, 3, 1, 1, 3, 4, 3, 1, 4, 1, 2, 3, 4, 1, 2, 3, 4, 3, 2, 4, 1, 1, 2, 3, 1, 2, 3, 4, 1, 2, 3, 4, 1, 1, 2, 3, 4, 1, 3, 4, 3, 2, 2, 3, 3, 2, 3, 4, 1, 1, 2, 4, 1, 1, 4, 2, 1, 3, 1, 4, 1, 2, 3, 4, 4, 1, 1, 3, 3, 4, 1, 2, 4, 1, 3, 4, 1, 2, 3, 4, 1, 2, 3, 4, 2, 4, 2, 1, 3, 1, 1, 2, 3, 2, 2, 3, 1, 2, 4, 4, 3, 1, 2, 3, 4, 1, 2, 4, 1, 1, 1, 3, 4, 2, 4, 4, 4, 4, 1, 2, 4, 1, 2, 4, 3, 2, 3, 2, 1, 3, 4, 3, 1, 3, 1, 2, 3, 4, 3, 2, 4, 3, 4, 1, 1, 2, 3, 4, 1, 3, 4, 2, 3, 4, 3, 2, 3, 1, 1, 3, 1, 1, 2, 4, 2, 2, 1, 3, 4, 3, 3, 1, 1, 1, 3, 2, 1, 2, 3, 1, 2, 3, 3, 2], \"Freq\": [0.878747679210255, 0.938117027657135, 0.1310817505947834, 0.0655408752973917, 0.458786127081742, 0.32770437648695855, 0.7162018784167735, 0.13021852334850428, 0.13021852334850428, 0.4688174383709226, 0.41021525857455726, 0.11720435959273065, 0.8793369693478521, 0.9414917901396784, 0.10684367991669463, 0.6410620795001678, 0.21368735983338927, 0.9414941883297344, 0.9499178308850663, 0.9376646913102944, 0.8486500534884553, 0.7812803753889226, 0.9389080694887642, 0.8826654439390028, 0.16880198239858174, 0.3376039647971635, 0.4220049559964543, 0.8796987761229886, 0.8793370683663007, 0.5872667220025494, 0.2936333610012747, 0.09787778700042489, 0.7918654261711097, 0.9414952666359924, 0.1674615635129165, 0.669846254051666, 0.8796988218615398, 0.8796987946992466, 0.9414952688692222, 0.8900622524885795, 0.8900632096257863, 0.16442538421358946, 0.19731046105630737, 0.6248164600116399, 0.11752151198302048, 0.23504302396604096, 0.5876075599151024, 0.6711784998946583, 0.16779462497366457, 0.9414952661156478, 0.7346376330074137, 0.22039128990222412, 0.5527262928453349, 0.13818157321133373, 0.13818157321133373, 0.13818157321133373, 0.8912697109575207, 0.32082426581671525, 0.5347071096945255, 0.10694142193890509, 0.09828463667392186, 0.5897078200435312, 0.2948539100217656, 0.9645529959328225, 0.9856652707493956, 0.4454719437306341, 0.48596939316069176, 0.04049744943005765, 0.8900602394310928, 0.8119039712795741, 0.18042310472879425, 0.9375084118010915, 0.2942726453580759, 0.5149771293766328, 0.14713632267903795, 0.24969833110189313, 0.39238309173154634, 0.10701357047223992, 0.2853695212593064, 0.27526311734886677, 0.23593981487045726, 0.432556327262505, 0.2780335156289444, 0.1390167578144722, 0.4865586523506527, 0.7340371512272126, 0.14680743024544252, 0.7816412768487612, 0.14732359884625254, 0.34375506397458927, 0.14732359884625254, 0.34375506397458927, 0.8796987761229886, 0.8793370210647891, 0.9414952668263428, 0.42869280358052386, 0.05358660044756548, 0.10717320089513097, 0.37510620313295834, 0.2744429084288012, 0.03920612977554303, 0.5880919466331455, 0.11761838932662909, 0.890067452903534, 0.8826666869370052, 0.5875467629002066, 0.041967625921443326, 0.1678705036857733, 0.1678705036857733, 0.8796987787237228, 0.7816373877178678, 0.8373839213754783, 0.7810938581213753, 0.1301823096868959, 0.8486639040950679, 0.8793369823124983, 0.8900589577962679, 0.9207901739448312, 0.09799835160982982, 0.5879901096589789, 0.19599670321965965, 0.37081529587600864, 0.18540764793800432, 0.37081529587600864, 0.061802549312668105, 0.9083481255428428, 0.0879046573105977, 0.2604410752582609, 0.6511026881456522, 0.8826711369668171, 0.5159460039535035, 0.4422394319601459, 0.9499160854830118, 0.673534817540685, 0.16838370438517125, 0.8793373754102436, 0.937705770358436, 0.8793369744586494, 0.26346520368285026, 0.6586630092071256, 0.8900489516024567, 0.23568309546086783, 0.47136619092173565, 0.23568309546086783, 0.8826477094080277, 0.639582612320853, 0.1065971020534755, 0.213194204106951, 0.8796987761229886, 0.8796987761229886, 0.20746161010256253, 0.41492322020512507, 0.20746161010256253, 0.20746161010256253, 0.882668694456373, 0.5865264713798897, 0.0837894959114128, 0.3351579836456512, 0.15665432302924948, 0.23498148454387421, 0.6266172921169979, 0.18778024639520344, 0.5633407391856103, 0.18778024639520344, 0.04694506159880086, 0.27989272653506186, 0.055978545307012365, 0.5597854530701237, 0.055978545307012365, 0.8826687000352268, 0.9151955703846966, 0.937706992610081, 0.9499070062914833, 0.8900649871626187, 0.11873905640435656, 0.8311733948304959, 0.8793369883425254, 0.11213369257789485, 0.7288690017563165, 0.11213369257789485, 0.30403594895206193, 0.43433706993151705, 0.21716853496575853, 0.40511388216812466, 0.07365706948511358, 0.14731413897022716, 0.3682853474255679, 0.9414952747870664, 0.14754022777017747, 0.14754022777017747, 0.29508045554035495, 0.3688505694254437, 0.8826600051277963, 0.9243366754711493, 0.6695543881219855, 0.2510828955457446, 0.08369429851524819, 0.9377060972713039, 0.8796986807775595, 0.18105846525514682, 0.7242338610205873, 0.09052923262757341, 0.27714068151641064, 0.5542813630328213, 0.20785551113730796, 0.7338046680268034, 0.22014140040804103, 0.07338046680268034, 0.8900674788460976, 0.8796987761229886, 0.35247714765094706, 0.5874619127515784, 0.879347769630647, 0.1968541483675446, 0.3937082967350892, 0.3937082967350892, 0.8826686966263483, 0.671116014211501, 0.16777900355287526, 0.38022910701785, 0.2419639771931773, 0.20739769473700911, 0.17283141228084092, 0.9377076419348713, 0.12394736221049749, 0.743684173262985, 0.12394736221049749, 0.9415049634683403, 0.8373770197378932, 0.8900673744513302, 0.8787422521738363, 0.502636835359572, 0.16754561178652402, 0.251318417679786, 0.3159520076410853, 0.3610880087326689, 0.22568000545791805, 0.04513600109158361, 0.18561425146511515, 0.49497133724030706, 0.12374283431007677, 0.18561425146511515, 0.8793376133921057, 0.06906771836243517, 0.5525417468994813, 0.27627087344974066, 0.06906771836243517, 0.7409383332804108, 0.1852345833201027, 0.0617448611067009, 0.9153112426831367, 0.8796987952002231, 0.8796989995984527, 0.8826687000352268, 0.8826686964780257, 0.5544440054319811, 0.06930550067899764, 0.3465275033949882, 0.9377083880687628, 0.6437790667327905, 0.18934678433317367, 0.15147742746653894, 0.8793441130136351, 0.7053742588658913, 0.2351247529552971, 0.9381170126048067, 0.14701277878914787, 0.7350638939457392, 0.6711551387780379, 0.16778878469450947, 0.28303069279241994, 0.09434356426413998, 0.23585891066034995, 0.3773742570565599, 0.8486530083355704, 0.8793369757923498, 0.5217523682528712, 0.4565333222212623, 0.8247418285840068, 0.11782026122628668, 0.3631494971866543, 0.18157474859332715, 0.45393687148331785, 0.393328498864232, 0.196664249432116, 0.393328498864232, 0.35942569122622725, 0.31150226572939693, 0.2396171274841515, 0.0958468509936606, 0.1762246324167414, 0.293707720694569, 0.4111908089723967, 0.05874154413891381, 0.11866446861019588, 0.8306512802713711, 0.9381169245242269, 0.2765049293861931, 0.6912623234654827, 0.8793369972502133, 0.26036933089730835, 0.6834694936054344, 0.032546166362163544, 0.8791638621045212, 0.7039127277870696, 0.2346375759290232, 0.5161491267449393, 0.37538118308722856, 0.09384529577180714, 0.8485579765733745, 0.784567499050458, 0.24192023427186324, 0.4147204016089084, 0.19008018407074967, 0.13824013386963613, 0.4700473559161882, 0.32903314914133175, 0.1880189423664753, 0.87875002693329, 0.911221787269252, 0.27261425721291777, 0.27261425721291777, 0.4543570953548629, 0.23699999117359485, 0.7109999735207846, 0.7918727628458305, 0.9628065185043622, 0.9499178099730458, 0.22670705578192407, 0.3627312892510785, 0.40807270040746335, 0.43161645807311066, 0.5549354460939995, 0.8900674060993439, 0.7845484597652, 0.5869109683626823, 0.36681935522667647, 0.8796986828521801, 0.2533083038680976, 0.2533083038680976, 0.5066166077361952, 0.8826686966263483, 0.16799973850970493, 0.6719989540388197, 0.26096133758599027, 0.3914420063789854, 0.21746778132165856, 0.08698711252866342, 0.7845693876646812, 0.8791660587560317, 0.7918675378992834, 0.10796114598062984, 0.8636891678450387, 0.8793369877024179, 0.17679670122623858, 0.2946611687103976, 0.20626281809727834, 0.3241272855814374, 0.03590669258776365, 0.3231602332898728, 0.6463204665797456, 0.8796987594892676, 0.9414926463169836, 0.8486085950622685, 0.9414952744505272, 0.5032085118566564, 0.461274469201935, 0.9377070981991742, 0.8793370871516353, 0.8826564474509021, 0.7812806067414623, 0.21443872107201523, 0.32165808160802284, 0.42887744214403045, 0.7816755797877879, 0.9381170404862011, 0.3746906432865998, 0.3746906432865998, 0.21410893902091416, 0.7845688955247824, 0.915307694600528, 0.9377056162204769, 0.8793370210647891, 0.6700618984091175, 0.16751547460227936, 0.8796987761229886, 0.2738386610097073, 0.3129584697253798, 0.3911980871567247, 0.547131975640516, 0.23448513241736396, 0.15632342161157597, 0.7845282968360118, 0.8796987773436241], \"Term\": [\"000\", \"24\", \"accident\", \"accident\", \"accident\", \"accident\", \"accountability\", \"accountability\", \"accountability\", \"accountable\", \"accountable\", \"accountable\", \"across\", \"act\", \"action\", \"action\", \"action\", \"afternoon\", \"ahead\", \"air\", \"airline\", \"airport\", \"alan\", \"although\", \"american\", \"american\", \"american\", \"among\", \"announces\", \"answer\", \"answer\", \"answer\", \"apologize\", \"appear\", \"around\", \"around\", \"associate\", \"available\", \"away\", \"behind\", \"bernie\", \"biden\", \"biden\", \"biden\", \"bipartisan\", \"bipartisan\", \"bipartisan\", \"border\", \"border\", \"brake\", \"buttigieg\", \"buttigieg\", \"call\", \"call\", \"call\", \"call\", \"capitol\", \"car\", \"car\", \"car\", \"carry\", \"carry\", \"carry\", \"cause\", \"ceo\", \"chemical\", \"chemical\", \"chemical\", \"child\", \"clean\", \"clean\", \"cleanup\", \"committee\", \"committee\", \"committee\", \"community\", \"community\", \"community\", \"community\", \"company\", \"company\", \"company\", \"concern\", \"concern\", \"concern\", \"conduct\", \"conduct\", \"contaminate\", \"continue\", \"continue\", \"continue\", \"continue\", \"count\", \"criticism\", \"dam\", \"day\", \"day\", \"day\", \"day\", \"derail\", \"derail\", \"derail\", \"derail\", \"detail\", \"director\", \"disaster\", \"disaster\", \"disaster\", \"disaster\", \"disposal\", \"district\", \"do\", \"eastpalestine\", \"eastpalestine\", \"eastpalestineoh\", \"ecological\", \"economic\", \"effort\", \"emergency\", \"emergency\", \"emergency\", \"environmental\", \"environmental\", \"environmental\", \"environmental\", \"epa\", \"epa\", \"epamichaelregan\", \"epamichaelregan\", \"epw\", \"epwcmte\", \"epwcmte\", \"epwgop\", \"even\", \"even\", \"every\", \"examine\", \"exist\", \"expect\", \"expect\", \"fed\", \"federal\", \"federal\", \"federal\", \"fine\", \"fire\", \"fire\", \"fire\", \"firm\", \"focus\", \"follow\", \"follow\", \"follow\", \"follow\", \"fra\", \"freight\", \"freight\", \"freight\", \"full\", \"full\", \"full\", \"get\", \"get\", \"get\", \"get\", \"go\", \"go\", \"go\", \"go\", \"gop\", \"government\", \"governor\", \"greed\", \"groundwater\", \"happen\", \"happen\", \"happens\", \"hazardous\", \"hazardous\", \"hazardous\", \"health\", \"health\", \"health\", \"hear\", \"hear\", \"hear\", \"hear\", \"heard\", \"hearing\", \"hearing\", \"hearing\", \"hearing\", \"heavy\", \"hill\", \"hold\", \"hold\", \"hold\", \"horrific\", \"hotel\", \"house\", \"house\", \"house\", \"impact\", \"impact\", \"impact\", \"information\", \"information\", \"information\", \"investigate\", \"jeffzymeri\", \"keep\", \"keep\", \"kill\", \"last\", \"last\", \"last\", \"leslie\", \"life\", \"life\", \"make\", \"make\", \"make\", \"make\", \"management\", \"material\", \"material\", \"material\", \"medium\", \"meet\", \"merkley\", \"mile\", \"must\", \"must\", \"must\", \"need\", \"need\", \"need\", \"need\", \"new\", \"new\", \"new\", \"new\", \"nothing\", \"ntsb\", \"ntsb\", \"ntsb\", \"ntsb\", \"one\", \"one\", \"one\", \"oversight\", \"page\", \"pahealthdept\", \"pahousedems\", \"pass\", \"pay\", \"pay\", \"pay\", \"pennsylvania\", \"people\", \"people\", \"people\", \"person\", \"pete\", \"pete\", \"phase\", \"policy\", \"policy\", \"potus\", \"potus\", \"president\", \"president\", \"president\", \"president\", \"press\", \"progressive\", \"public\", \"public\", \"push\", \"push\", \"put\", \"put\", \"put\", \"question\", \"question\", \"question\", \"rail\", \"rail\", \"rail\", \"rail\", \"railroad\", \"railroad\", \"railroad\", \"railroad\", \"railway\", \"railway\", \"relate\", \"release\", \"release\", \"repair\", \"resident\", \"resident\", \"resident\", \"resource\", \"responder\", \"responder\", \"response\", \"response\", \"response\", \"reuters\", \"run\", \"safety\", \"safety\", \"safety\", \"safety\", \"say\", \"say\", \"say\", \"secretary\", \"secretarypete\", \"senate\", \"senate\", \"senate\", \"senator\", \"senator\", \"shareholder\", \"shaw\", \"similar\", \"since\", \"since\", \"since\", \"site\", \"site\", \"soon\", \"standard\", \"state\", \"state\", \"stay\", \"still\", \"still\", \"still\", \"sulphur\", \"system\", \"system\", \"take\", \"take\", \"take\", \"take\", \"tax\", \"test\", \"testify\", \"testimony\", \"testimony\", \"thread\", \"today\", \"today\", \"today\", \"today\", \"toxic\", \"toxic\", \"toxic\", \"transition\", \"try\", \"ukraine\", \"understand\", \"update\", \"update\", \"upended\", \"upgrade\", \"urge\", \"usdot\", \"visit\", \"visit\", \"visit\", \"wake\", \"website\", \"week\", \"week\", \"week\", \"weekend\", \"well\", \"west\", \"wither\", \"within\", \"within\", \"woe\", \"work\", \"work\", \"work\", \"worker\", \"worker\", \"worker\", \"wreck\", \"yesterday\"]}, \"R\": 30, \"lambda.step\": 0.01, \"plot.opts\": {\"xlab\": \"PC1\", \"ylab\": \"PC2\"}, \"topic.order\": [1, 2, 3, 4]};\n",
       "\n",
       "function LDAvis_load_lib(url, callback){\n",
       "  var s = document.createElement('script');\n",
       "  s.src = url;\n",
       "  s.async = true;\n",
       "  s.onreadystatechange = s.onload = callback;\n",
       "  s.onerror = function(){console.warn(\"failed to load library \" + url);};\n",
       "  document.getElementsByTagName(\"head\")[0].appendChild(s);\n",
       "}\n",
       "\n",
       "if(typeof(LDAvis) !== \"undefined\"){\n",
       "   // already loaded: just create the visualization\n",
       "   !function(LDAvis){\n",
       "       new LDAvis(\"#\" + \"ldavis_el18620108021877287624044093\", ldavis_el18620108021877287624044093_data);\n",
       "   }(LDAvis);\n",
       "}else if(typeof define === \"function\" && define.amd){\n",
       "   // require.js is available: use it to load d3/LDAvis\n",
       "   require.config({paths: {d3: \"https://d3js.org/d3.v5\"}});\n",
       "   require([\"d3\"], function(d3){\n",
       "      window.d3 = d3;\n",
       "      LDAvis_load_lib(\"https://cdn.jsdelivr.net/gh/bmabey/pyLDAvis@3.3.1/pyLDAvis/js/ldavis.v3.0.0.js\", function(){\n",
       "        new LDAvis(\"#\" + \"ldavis_el18620108021877287624044093\", ldavis_el18620108021877287624044093_data);\n",
       "      });\n",
       "    });\n",
       "}else{\n",
       "    // require.js not available: dynamically load d3 & LDAvis\n",
       "    LDAvis_load_lib(\"https://d3js.org/d3.v5.js\", function(){\n",
       "         LDAvis_load_lib(\"https://cdn.jsdelivr.net/gh/bmabey/pyLDAvis@3.3.1/pyLDAvis/js/ldavis.v3.0.0.js\", function(){\n",
       "                 new LDAvis(\"#\" + \"ldavis_el18620108021877287624044093\", ldavis_el18620108021877287624044093_data);\n",
       "            })\n",
       "         });\n",
       "}\n",
       "</script>"
      ],
      "text/plain": [
       "PreparedData(topic_coordinates=              x         y  topics  cluster       Freq\n",
       "topic                                                \n",
       "0     -0.020538  0.055345       1        1  27.142608\n",
       "1     -0.132251 -0.097154       2        1  25.236641\n",
       "2     -0.004523  0.113011       3        1  25.091852\n",
       "3      0.157312 -0.071202       4        1  22.528899, topic_info=         Term       Freq      Total Category  logprob  loglift\n",
       "128       ceo  29.000000  29.000000  Default  30.0000  30.0000\n",
       "259       epa  34.000000  34.000000  Default  29.0000  29.0000\n",
       "687      shaw  17.000000  17.000000  Default  28.0000  28.0000\n",
       "54       alan  15.000000  15.000000  Default  27.0000  27.0000\n",
       "634  resident  30.000000  30.000000  Default  26.0000  26.0000\n",
       "..        ...        ...        ...      ...      ...      ...\n",
       "658    safety   8.299702  57.870314   Topic4  -4.8689  -0.4516\n",
       "263   epwcmte   5.921882  13.567311   Topic4  -5.2065   0.6614\n",
       "62   american   5.444792  11.848202   Topic4  -5.2905   0.7129\n",
       "360   hearing   5.471275  13.555625   Topic4  -5.2857   0.5831\n",
       "596       put   5.268983  11.014747   Topic4  -5.3233   0.7530\n",
       "\n",
       "[272 rows x 6 columns], token_table=      Topic      Freq       Term\n",
       "term                            \n",
       "1         1  0.878748        000\n",
       "15        2  0.938117         24\n",
       "28        1  0.131082   accident\n",
       "28        2  0.065541   accident\n",
       "28        3  0.458786   accident\n",
       "...     ...       ...        ...\n",
       "835       1  0.547132     worker\n",
       "835       2  0.234485     worker\n",
       "835       3  0.156323     worker\n",
       "838       3  0.784528      wreck\n",
       "844       2  0.879699  yesterday\n",
       "\n",
       "[394 rows x 3 columns], R=30, lambda_step=0.01, plot_opts={'xlab': 'PC1', 'ylab': 'PC2'}, topic_order=[1, 2, 3, 4])"
      ]
     },
     "execution_count": 134,
     "metadata": {},
     "output_type": "execute_result"
    }
   ],
   "source": [
    "\n",
    "pyLDAvis.sklearn.prepare(lda, tf, tf_vectorizer)"
   ]
  },
  {
   "cell_type": "code",
   "execution_count": 135,
   "metadata": {},
   "outputs": [
    {
     "name": "stdout",
     "output_type": "stream",
     "text": [
      "RT @ACTBrigitte Immediately after the train crashed in East Palestine, the Democrats blamed President Trump. 2 weeks later the Washington Post fact checkers found that President Trump's changes had nothing to do with the crash. The Silicon Valley Bank just collapsed and the Democrats are…\n",
      "[0.01862 0.0176  0.73899 0.2248 ]\n"
     ]
    }
   ],
   "source": [
    "tweet_topic(data_media, lda, tf, 14)"
   ]
  },
  {
   "attachments": {},
   "cell_type": "markdown",
   "metadata": {},
   "source": [
    "## People"
   ]
  },
  {
   "cell_type": "code",
   "execution_count": 148,
   "metadata": {},
   "outputs": [],
   "source": [
    "tf, tf_vectorizer, vocab, lda, data = parse_lda(data_people, 15000, 2, num_topics = 4)"
   ]
  },
  {
   "cell_type": "code",
   "execution_count": 149,
   "metadata": {},
   "outputs": [
    {
     "name": "stdout",
     "output_type": "stream",
     "text": [
      "Size of the ... (tweets, words in vocabulary): (77438, 15000)\n"
     ]
    }
   ],
   "source": [
    "print(f'Size of the ... (tweets, words in vocabulary): {tf.toarray().shape}')"
   ]
  },
  {
   "cell_type": "code",
   "execution_count": 150,
   "metadata": {},
   "outputs": [
    {
     "name": "stdout",
     "output_type": "stream",
     "text": [
      "The most repeated word in a single tweet is trump, and it is repeated 10 times in the tweet: trump state go trump trump trump trump trump trump trump trump trump\n"
     ]
    }
   ],
   "source": [
    "most_frequent(tf, vocab, data)"
   ]
  },
  {
   "cell_type": "code",
   "execution_count": 151,
   "metadata": {},
   "outputs": [
    {
     "data": {
      "text/plain": [
       "(4, 15000)"
      ]
     },
     "execution_count": 151,
     "metadata": {},
     "output_type": "execute_result"
    }
   ],
   "source": [
    "topic_word = np.array([row / row.sum() for row in lda.components_])\n",
    "topic_word.shape"
   ]
  },
  {
   "cell_type": "code",
   "execution_count": 152,
   "metadata": {},
   "outputs": [
    {
     "name": "stderr",
     "output_type": "stream",
     "text": [
      "/Users/ribarragi/miniconda3/envs/Intro_AI/lib/python3.9/site-packages/sklearn/utils/deprecation.py:87: FutureWarning: Function get_feature_names is deprecated; get_feature_names is deprecated in 1.0 and will be removed in 1.2. Please use get_feature_names_out instead.\n",
      "  warnings.warn(msg, category=FutureWarning)\n",
      "/Users/ribarragi/miniconda3/envs/Intro_AI/lib/python3.9/site-packages/pyLDAvis/_prepare.py:246: FutureWarning: In a future version of pandas all arguments of DataFrame.drop except for the argument 'labels' will be keyword-only.\n",
      "  default_term_info = default_term_info.sort_values(\n"
     ]
    },
    {
     "data": {
      "text/html": [
       "\n",
       "<link rel=\"stylesheet\" type=\"text/css\" href=\"https://cdn.jsdelivr.net/gh/bmabey/pyLDAvis@3.3.1/pyLDAvis/js/ldavis.v1.0.0.css\">\n",
       "\n",
       "\n",
       "<div id=\"ldavis_el18620108057328483506765173\"></div>\n",
       "<script type=\"text/javascript\">\n",
       "\n",
       "var ldavis_el18620108057328483506765173_data = {\"mdsDat\": {\"x\": [-0.11899942212694194, -0.11919838155709267, -0.013531560313311748, 0.2517293639973464], \"y\": [0.02171075150081631, -0.16281377263490224, 0.19732776403067995, -0.05622474289659407], \"topics\": [1, 2, 3, 4], \"cluster\": [1, 1, 1, 1], \"Freq\": [29.17008729795291, 26.126222477128685, 24.239995209102105, 20.463695015816295]}, \"tinfo\": {\"Term\": [\"another\", \"ceo\", \"safety\", \"derails\", \"derail\", \"resident\", \"epa\", \"trump\", \"car\", \"toxic\", \"regulation\", \"alabama\", \"dewine\", \"rule\", \"water\", \"springfield\", \"20\", \"brake\", \"air\", \"congress\", \"senate\", \"month\", \"chemical\", \"hazardous\", \"news\", \"visit\", \"blame\", \"site\", \"test\", \"shaw\", \"river\", \"vance\", \"cleveland\", \"sound\", \"close\", \"alarm\", \"truck\", \"fish\", \"post\", \"cincinnati\", \"washington\", \"jd\", \"farmer\", \"shock\", \"myid\", \"balloon\", \"biometrics\", \"surveil\", \"dump\", \"collides\", \"chicken\", \"acrylate\", \"intake\", \"mouse\", \"struggle\", \"mickey\", \"possible\", \"die\", \"collision\", \"elaine\", \"chernobyl\", \"food\", \"donald\", \"43\", \"virginia\", \"dead\", \"president\", \"kill\", \"ukraine\", \"people\", \"animal\", \"fema\", \"lot\", \"visit\", \"go\", \"see\", \"joe\", \"biden\", \"like\", \"trump\", \"every\", \"happen\", \"get\", \"know\", \"disaster\", \"chemical\", \"oh\", \"one\", \"day\", \"week\", \"water\", \"state\", \"help\", \"make\", \"need\", \"toxic\", \"crash\", \"wreck\", \"cause\", \"news\", \"report\", \"brake\", \"rule\", \"regulation\", \"apply\", \"hazard\", \"obama\", \"flammable\", \"ecp\", \"de\", \"petition\", \"lobby\", \"repeal\", \"era\", \"chair\", \"misinformation\", \"categorize\", \"bear\", \"greed\", \"homendy\", \"lobbyist\", \"maintenance\", \"regs\", \"overheat\", \"mixed\", \"deregulate\", \"jennifer\", \"150\", \"cash\", \"specialist\", \"vanguard\", \"profit\", \"lose\", \"safety\", \"legislation\", \"bearing\", \"roll\", \"deregulation\", \"prevent\", \"blame\", \"system\", \"corporate\", \"sign\", \"transportation\", \"train\", \"would\", \"high\", \"ntsb\", \"buttigieg\", \"trump\", \"rail\", \"back\", \"pete\", \"railroad\", \"administration\", \"gop\", \"industry\", \"republican\", \"cause\", \"disaster\", \"say\", \"car\", \"biden\", \"company\", \"pay\", \"like\", \"even\", \"derail\", \"make\", \"waste\", \"shelter\", \"test\", \"dioxin\", \"prompt\", \"movie\", \"return\", \"noise\", \"brockovich\", \"erin\", \"skip\", \"door\", \"netflix\", \"soil\", \"film\", \"reveals\", \"audio\", \"toxins\", \"disposal\", \"delivers\", \"administrator\", \"activist\", \"pause\", \"removal\", \"sample\", \"multimillion\", \"craft\", \"ship\", \"illusion\", \"conduct\", \"epa\", \"fear\", \"air\", \"cdc\", \"truckloads\", \"concern\", \"resident\", \"home\", \"order\", \"expert\", \"place\", \"cleanup\", \"safe\", \"site\", \"michigan\", \"toxic\", \"white\", \"health\", \"clean\", \"vinyl\", \"chloride\", \"tell\", \"water\", \"chemical\", \"town\", \"official\", \"release\", \"say\", \"crash\", \"environmental\", \"worker\", \"us\", \"rail\", \"via\", \"visit\", \"disaster\", \"ceo\", \"alabama\", \"shaw\", \"senate\", \"carolina\", \"testifies\", \"alan\", \"sue\", \"testify\", \"lawsuit\", \"hearing\", \"calhoun\", \"committee\", \"file\", \"attorney\", \"deeply\", \"shapiro\", \"advice\", \"testimony\", \"injury\", \"grill\", \"nbc\", \"organization\", \"domestic\", \"donovanlawtampa\", \"recover\", \"columbus\", \"lexington\", \"bp\", \"derails\", \"20\", \"dewine\", \"north\", \"212\", \"another\", \"congress\", \"springfield\", \"second\", \"fiery\", \"mike\", \"gov\", \"public\", \"saturday\", \"derail\", \"danger\", \"car\", \"month\", \"hour\", \"pennsylvania\", \"material\", \"hazardous\", \"news\", \"county\", \"company\", \"report\", \"say\", \"via\", \"video\", \"break\", \"toxic\"], \"Freq\": [5441.0, 4161.0, 5679.0, 4073.0, 7915.0, 5812.0, 3966.0, 8054.0, 4325.0, 9408.0, 2675.0, 2078.0, 2052.0, 2303.0, 4005.0, 1957.0, 1788.0, 1996.0, 1778.0, 1561.0, 1408.0, 2248.0, 7855.0, 3455.0, 3294.0, 3200.0, 1816.0, 2723.0, 1407.0, 1236.0, 1021.5980958021189, 606.3579352244258, 598.4901191312041, 586.6775401718724, 454.8179881822289, 447.7802143528982, 777.7030725575494, 506.6647216372957, 844.277669391347, 325.9296235870294, 573.1842733133793, 284.60436798875713, 281.6545520451758, 274.7594726543046, 305.1263003890585, 219.6639676091145, 215.73658793680127, 214.75261104679973, 759.8614442702345, 190.15031410169803, 192.10890672851062, 163.57174303572424, 154.72682402614294, 147.83841048399592, 148.81109095450475, 145.87079266854673, 335.7898114031669, 1040.5309478545882, 145.85040736606962, 140.92291768792282, 215.06134338711084, 259.22203345385844, 840.4867080838708, 205.49232266551132, 286.4840511415831, 599.3090442994757, 1735.5941385839008, 1167.8321115112194, 602.1316029604046, 3014.543521268617, 930.9375229713328, 761.8777687869625, 373.9435185196772, 2184.7843982236827, 2573.246863726147, 1175.4501652024007, 562.247256684045, 2976.5182744061876, 1764.502566144402, 3787.1978239343634, 637.9139029813209, 1366.513753707667, 1826.7942409035134, 1373.257471028559, 2240.8797770635406, 2715.326414787499, 1368.4298352482488, 1534.7356915803473, 1155.1928368553347, 1297.7298725243857, 1548.1310268821826, 1208.3151492827524, 1110.3534311818821, 1192.9388950016241, 1017.7174767619194, 1539.6571363621722, 990.0207586645134, 933.6208065727708, 935.321583193058, 944.7342052076513, 943.0581705579464, 1995.6154815709633, 2301.7241622396973, 2673.611697708983, 801.1556299201618, 802.1301306508916, 771.562408609457, 584.1536831581536, 574.2968124678714, 522.01079394316, 483.5434261557812, 460.8612978928691, 397.73984016202013, 348.4219696964462, 403.51161725871157, 339.53416672511696, 290.23110975498486, 358.10891245630665, 404.2748009684841, 255.70698623858243, 253.73203919459925, 290.0809971337984, 221.18046669187848, 421.71415036280456, 219.2085629081955, 221.11787680677935, 196.5238413926423, 210.26591502487062, 187.64573603477297, 184.65648924001115, 172.80253568526237, 705.6102801247625, 374.4229122605732, 5488.363787565023, 241.49787771243805, 502.36670781893014, 785.084577571094, 728.3366680960389, 968.6226730791291, 1717.2104775139671, 680.470690181908, 558.8083755178195, 975.431350492845, 1472.5572756050065, 1501.577727162443, 2361.131716029348, 923.5221891870702, 1330.827554197387, 1952.3755739740939, 4190.368616505105, 2408.6705805665392, 1184.7465880228024, 1494.7773407808747, 1696.025892753957, 1117.2388002020325, 1050.678025951637, 785.8622829639257, 902.5214977986585, 1203.3322822543462, 1536.9387854180527, 1633.9849950044181, 1270.302363834002, 1306.0497613226269, 1162.022486876696, 1000.7063467279827, 982.9991675058886, 908.799640589956, 1155.0062107170995, 960.6568228672432, 1100.483505702524, 1022.7343952953961, 1406.1474082116326, 548.3967871283347, 535.5820867280926, 494.26676102640124, 579.731816708587, 452.9358565517346, 431.27940410230036, 423.407940420121, 349.60094584090905, 330.89944770714635, 312.20594388931676, 720.6081364608797, 295.4718177128151, 274.8063623137074, 259.0657530372272, 289.44062569739987, 234.46447960140097, 233.46646303380837, 219.69778645967153, 195.08401991316683, 191.1624330804107, 192.13951457000795, 209.74994355838632, 184.25757075012677, 179.3490507222605, 188.15937318855833, 175.41587836135366, 197.94496739692676, 3890.7861403838815, 525.8092148919178, 1745.7312030213948, 236.14437515299096, 240.49942415496355, 1330.7763338697364, 4991.0220238279235, 983.3473412815708, 1739.8262046942466, 479.48268194573257, 1375.1662392428127, 900.4290657486871, 1215.866185347504, 2096.335237977237, 449.3794967103913, 6019.911082985808, 880.0503732367534, 1548.3054827956182, 1215.772072939038, 1069.7643414013635, 1116.959775677229, 1827.2757039255023, 2455.6275619746384, 3995.218932138582, 1592.2374172996883, 1609.8623457072579, 1299.1761006949246, 2790.1521921382387, 1521.8559309924517, 1110.8261428250498, 978.6329522151364, 1116.0568575048464, 1289.4254000888882, 1262.8291588970021, 1013.5391356289115, 1028.464810372376, 4161.160702151507, 2077.759180188987, 1235.3613223418356, 1408.0497021300516, 1054.7070136905238, 837.7311931124714, 754.2711346372073, 1014.1862470872472, 726.7833378401876, 685.5229035354022, 586.3742282507982, 522.5666090250663, 404.7408720832713, 381.17722696509657, 364.4855680424313, 278.08358913430857, 270.20756903146633, 230.95688579049988, 207.40051774905453, 207.3769086660558, 179.91038312908964, 214.01711621015525, 155.34084173532702, 150.4233501724534, 156.27238323236392, 147.47766049557958, 140.62256379249723, 138.65096803626412, 131.79996047146972, 4049.834511477765, 1773.3226788817215, 2024.2422224847548, 1084.3262445697158, 184.30762082816122, 5180.807468364822, 1504.295135819862, 1869.2101837677862, 1067.0333797176036, 511.7037109234342, 689.5848685961641, 1166.1041652935064, 1299.4572974202897, 618.6032710907665, 5562.105532789536, 720.2060722808477, 3043.8573342012264, 1726.8111903859262, 1052.5055118125813, 722.5420203190944, 1674.2353371699578, 2028.10598183701, 1944.0953473604852, 985.0159497552696, 1935.9462769558625, 1793.0413321654012, 2065.808770094578, 1634.775169042795, 947.7747465751349, 1039.1127583913124, 1020.5775417497307], \"Total\": [5441.0, 4161.0, 5679.0, 4073.0, 7915.0, 5812.0, 3966.0, 8054.0, 4325.0, 9408.0, 2675.0, 2078.0, 2052.0, 2303.0, 4005.0, 1957.0, 1788.0, 1996.0, 1778.0, 1561.0, 1408.0, 2248.0, 7855.0, 3455.0, 3294.0, 3200.0, 1816.0, 2723.0, 1407.0, 1236.0, 1022.351435165501, 607.1134619582335, 599.2416324894208, 587.4339298214029, 455.5811148776594, 448.69365915271294, 779.307927208254, 507.7318913055266, 846.2200211272838, 326.6802079199887, 574.6430222040406, 285.3532119141281, 282.40127478562744, 275.5134460577616, 306.01673116537955, 220.4107742851509, 216.47486736774795, 215.49089109658874, 762.5819909575645, 190.89148189060575, 192.85943958228896, 164.32412419364394, 155.4683395887101, 148.58050491398143, 149.56448581943368, 146.6125523166285, 337.50532892182406, 1045.9675644451593, 146.6125577192045, 141.6927366262495, 216.47640748518097, 261.7377235107493, 860.0404418500948, 207.6208731579858, 294.2257578091231, 647.4232781640787, 2059.028156348315, 1360.9706878545235, 675.1810801060361, 4115.267805715111, 1153.2533281583605, 922.8775503303707, 408.42966299866674, 3200.04497542411, 3974.3447125314524, 1613.1005891817988, 673.1370854128857, 5304.607597767985, 2767.334699833418, 8054.93579304098, 809.2377413720413, 2271.0396038670924, 3385.4983659365857, 2322.6118076813104, 5386.881469570978, 7855.200182590986, 2663.3728552189627, 3350.6367282377546, 2184.9617114164157, 2790.58219611738, 4005.1518993909267, 2547.9713415501833, 2259.4224368273594, 2916.16547213661, 2051.42953691518, 9408.434918939893, 2929.438724403225, 2665.893739821217, 2836.967592074958, 3294.069728817624, 3567.283777897399, 1996.3572016080045, 2303.107110661617, 2675.944114173878, 801.8950804934316, 802.8813937680222, 772.3047643774526, 584.8994678146063, 575.0360468398684, 522.7597969160945, 484.2924087100653, 461.60651065476566, 398.48053432706547, 349.1633524694164, 404.3979263012828, 340.28623267889645, 290.96908763854987, 359.0260458414192, 405.38404770980503, 256.4470525831485, 254.47436130389673, 290.9684715786483, 221.92501287737784, 423.1359825764407, 219.95232849222094, 221.92486332145023, 197.26642895383998, 211.07498516016182, 188.38933438954103, 185.430236537269, 173.5940626396888, 711.1401066139076, 376.77709085927984, 5679.798952895386, 242.63641519983884, 509.91844238643364, 804.7736988033126, 747.6016073364469, 1003.0281810519376, 1816.6007462936402, 719.9377049433056, 590.7460361019849, 1086.6947809138048, 1809.1468992649286, 1864.4929760552725, 3155.391916744662, 1076.7403432774213, 1756.6869101211933, 2987.2096213908753, 8054.93579304098, 4051.324597528917, 1641.903708331338, 2435.9913686348373, 3089.9078513883205, 1734.49718003851, 1684.8389485435023, 1076.4306991793908, 1379.6624651445125, 2836.967592074958, 5386.881469570978, 7415.032563815044, 4325.840473394087, 5304.607597767985, 3915.8480536586794, 2176.1029199566865, 2767.334699833418, 1722.7532935767126, 7915.566042331488, 2916.16547213661, 1101.2336470314242, 1023.4878939818337, 1407.295858735878, 549.1406077069438, 536.3470224852902, 495.0138402054341, 580.6325318404026, 453.6806745751043, 432.02995811123196, 424.15697827942284, 350.3477605602029, 331.6494137337288, 312.9510776334981, 722.3461158956708, 296.2209838045137, 275.55440119606675, 259.8084324520569, 290.31594279613313, 235.2053522050694, 234.2212276659346, 220.44350386133232, 195.84042975722883, 191.90393719352593, 192.88807255432042, 210.6022557541363, 185.01511900916333, 180.09447509802348, 188.95163039842058, 176.15797256427626, 198.792584508559, 3966.986755257467, 528.4737465832072, 1778.3057318678352, 237.1735547393887, 242.09408538492193, 1402.3701603451132, 5812.548493663799, 1060.8752157185843, 1976.8265935869583, 507.8669491174931, 1582.915479781008, 1042.8371776482604, 1466.476293068893, 2723.638837683742, 485.20317467507925, 9408.434918939893, 1049.279943881528, 2018.8031017264611, 1532.2900150107596, 1323.668964804744, 1439.7800072925163, 2662.5145339375954, 4005.1518993909267, 7855.200182590986, 2460.142724057072, 2683.6057286648834, 2103.9940990765276, 7415.032563815044, 2929.438724403225, 1848.0119344671916, 1729.5606399990995, 2375.451497990924, 4051.324597528917, 4588.800013886291, 3200.04497542411, 5386.881469570978, 4161.909843772737, 2078.501509739588, 1236.1055048054784, 1408.905166128423, 1055.4518175086419, 838.4710104388375, 755.0168780944797, 1015.1986726169072, 727.5260900209555, 686.2899933979841, 587.1267812874819, 523.3088778503271, 405.4912791514446, 381.92774882105255, 365.23691757724345, 278.8373368324183, 270.9828733483326, 231.71028649483392, 208.14674276297907, 208.1467964287838, 180.6559627951998, 215.020038619977, 156.11070082504156, 151.2016417441727, 157.09278046716787, 148.25619775150355, 141.3834574928343, 139.41984459378705, 132.54710658870502, 4073.600637503813, 1788.9234397699925, 2052.0590248231065, 1102.6174296085114, 185.56739695724985, 5441.8213881154525, 1561.3441765163877, 1957.9460411951097, 1119.3912227068192, 531.248678110983, 725.6454611055701, 1263.8179469546856, 1456.4252512603716, 671.6855489508205, 7915.566042331488, 814.1438997977472, 4325.840473394087, 2248.607062533732, 1270.9474816603422, 818.0639669693376, 2430.070921179792, 3455.2004120636498, 3294.069728817624, 1326.2488843540027, 3915.8480536586794, 3567.283777897399, 7415.032563815044, 4588.800013886291, 1438.4703106525108, 1999.5976102366953, 9408.434918939893], \"Category\": [\"Default\", \"Default\", \"Default\", \"Default\", \"Default\", \"Default\", \"Default\", \"Default\", \"Default\", \"Default\", \"Default\", \"Default\", \"Default\", \"Default\", \"Default\", \"Default\", \"Default\", \"Default\", \"Default\", \"Default\", \"Default\", \"Default\", \"Default\", \"Default\", \"Default\", \"Default\", \"Default\", \"Default\", \"Default\", \"Default\", \"Topic1\", \"Topic1\", \"Topic1\", \"Topic1\", \"Topic1\", \"Topic1\", \"Topic1\", \"Topic1\", \"Topic1\", \"Topic1\", \"Topic1\", \"Topic1\", \"Topic1\", \"Topic1\", \"Topic1\", \"Topic1\", \"Topic1\", \"Topic1\", \"Topic1\", \"Topic1\", \"Topic1\", \"Topic1\", \"Topic1\", \"Topic1\", \"Topic1\", \"Topic1\", \"Topic1\", \"Topic1\", \"Topic1\", \"Topic1\", \"Topic1\", \"Topic1\", \"Topic1\", \"Topic1\", \"Topic1\", \"Topic1\", \"Topic1\", \"Topic1\", \"Topic1\", \"Topic1\", \"Topic1\", \"Topic1\", \"Topic1\", \"Topic1\", \"Topic1\", \"Topic1\", \"Topic1\", \"Topic1\", \"Topic1\", \"Topic1\", \"Topic1\", \"Topic1\", \"Topic1\", \"Topic1\", \"Topic1\", \"Topic1\", \"Topic1\", \"Topic1\", \"Topic1\", \"Topic1\", \"Topic1\", \"Topic1\", \"Topic1\", \"Topic1\", \"Topic1\", \"Topic1\", \"Topic1\", \"Topic1\", \"Topic1\", \"Topic1\", \"Topic1\", \"Topic2\", \"Topic2\", \"Topic2\", \"Topic2\", \"Topic2\", \"Topic2\", \"Topic2\", \"Topic2\", \"Topic2\", \"Topic2\", \"Topic2\", \"Topic2\", \"Topic2\", \"Topic2\", \"Topic2\", \"Topic2\", \"Topic2\", \"Topic2\", \"Topic2\", \"Topic2\", \"Topic2\", \"Topic2\", \"Topic2\", \"Topic2\", \"Topic2\", \"Topic2\", \"Topic2\", \"Topic2\", \"Topic2\", \"Topic2\", \"Topic2\", \"Topic2\", \"Topic2\", \"Topic2\", \"Topic2\", \"Topic2\", \"Topic2\", \"Topic2\", \"Topic2\", \"Topic2\", \"Topic2\", \"Topic2\", \"Topic2\", \"Topic2\", \"Topic2\", \"Topic2\", \"Topic2\", \"Topic2\", \"Topic2\", \"Topic2\", \"Topic2\", \"Topic2\", \"Topic2\", \"Topic2\", \"Topic2\", \"Topic2\", \"Topic2\", \"Topic2\", \"Topic2\", \"Topic2\", \"Topic2\", \"Topic2\", \"Topic2\", \"Topic2\", \"Topic2\", \"Topic2\", \"Topic2\", \"Topic2\", \"Topic3\", \"Topic3\", \"Topic3\", \"Topic3\", \"Topic3\", \"Topic3\", \"Topic3\", \"Topic3\", \"Topic3\", \"Topic3\", \"Topic3\", \"Topic3\", \"Topic3\", \"Topic3\", \"Topic3\", \"Topic3\", \"Topic3\", \"Topic3\", \"Topic3\", \"Topic3\", \"Topic3\", \"Topic3\", \"Topic3\", \"Topic3\", \"Topic3\", \"Topic3\", \"Topic3\", \"Topic3\", \"Topic3\", \"Topic3\", \"Topic3\", \"Topic3\", \"Topic3\", \"Topic3\", \"Topic3\", \"Topic3\", \"Topic3\", \"Topic3\", \"Topic3\", \"Topic3\", \"Topic3\", \"Topic3\", \"Topic3\", \"Topic3\", \"Topic3\", \"Topic3\", \"Topic3\", \"Topic3\", \"Topic3\", \"Topic3\", \"Topic3\", \"Topic3\", \"Topic3\", \"Topic3\", \"Topic3\", \"Topic3\", \"Topic3\", \"Topic3\", \"Topic3\", \"Topic3\", \"Topic3\", \"Topic3\", \"Topic3\", \"Topic3\", \"Topic3\", \"Topic3\", \"Topic4\", \"Topic4\", \"Topic4\", \"Topic4\", \"Topic4\", \"Topic4\", \"Topic4\", \"Topic4\", \"Topic4\", \"Topic4\", \"Topic4\", \"Topic4\", \"Topic4\", \"Topic4\", \"Topic4\", \"Topic4\", \"Topic4\", \"Topic4\", \"Topic4\", \"Topic4\", \"Topic4\", \"Topic4\", \"Topic4\", \"Topic4\", \"Topic4\", \"Topic4\", \"Topic4\", \"Topic4\", \"Topic4\", \"Topic4\", \"Topic4\", \"Topic4\", \"Topic4\", \"Topic4\", \"Topic4\", \"Topic4\", \"Topic4\", \"Topic4\", \"Topic4\", \"Topic4\", \"Topic4\", \"Topic4\", \"Topic4\", \"Topic4\", \"Topic4\", \"Topic4\", \"Topic4\", \"Topic4\", \"Topic4\", \"Topic4\", \"Topic4\", \"Topic4\", \"Topic4\", \"Topic4\", \"Topic4\", \"Topic4\", \"Topic4\", \"Topic4\", \"Topic4\", \"Topic4\"], \"logprob\": [30.0, 29.0, 28.0, 27.0, 26.0, 25.0, 24.0, 23.0, 22.0, 21.0, 20.0, 19.0, 18.0, 17.0, 16.0, 15.0, 14.0, 13.0, 12.0, 11.0, 10.0, 9.0, 8.0, 7.0, 6.0, 5.0, 4.0, 3.0, 2.0, 1.0, -5.5855, -6.1072, -6.1202, -6.1402, -6.3948, -6.4104, -5.8583, -6.2868, -5.7762, -6.728, -6.1634, -6.8636, -6.874, -6.8988, -6.7939, -7.1226, -7.1406, -7.1452, -5.8815, -7.2668, -7.2566, -7.4174, -7.473, -7.5185, -7.512, -7.5319, -6.6982, -5.5672, -7.5321, -7.5664, -7.1437, -6.957, -5.7807, -7.1892, -6.857, -6.1189, -5.0556, -5.4518, -6.1142, -4.5035, -5.6785, -5.8789, -6.5906, -4.8254, -4.6617, -5.4453, -6.1827, -4.5161, -5.039, -4.2753, -6.0565, -5.2946, -5.0043, -5.2897, -4.8, -4.608, -5.2932, -5.1785, -5.4626, -5.3463, -5.1699, -5.4177, -5.5022, -5.4305, -5.5893, -5.1753, -5.6169, -5.6756, -5.6738, -5.6638, -5.6655, -4.8057, -4.663, -4.5133, -5.7184, -5.7172, -5.756, -6.0343, -6.0513, -6.1468, -6.2233, -6.2714, -6.4187, -6.551, -6.4042, -6.5769, -6.7338, -6.5236, -6.4024, -6.8604, -6.8682, -6.7343, -7.0055, -6.3601, -7.0144, -7.0058, -7.1237, -7.0561, -7.1699, -7.186, -7.2523, -5.8454, -6.4791, -3.7941, -6.9176, -6.1851, -5.7387, -5.8137, -5.5286, -4.956, -5.8817, -6.0786, -5.5216, -5.1097, -5.0902, -4.6376, -5.5763, -5.2109, -4.8277, -4.0639, -4.6176, -5.3272, -5.0947, -4.9684, -5.3858, -5.4473, -5.7377, -5.5993, -5.3116, -5.0669, -5.0057, -5.2574, -5.2297, -5.3465, -5.496, -5.5138, -5.5923, -5.3526, -5.5368, -5.326, -5.3993, -5.0809, -6.0225, -6.0462, -6.1264, -5.967, -6.2138, -6.2628, -6.2812, -6.4727, -6.5277, -6.5859, -5.7494, -6.6409, -6.7135, -6.7724, -6.6616, -6.8722, -6.8765, -6.9373, -7.0561, -7.0764, -7.0713, -6.9836, -7.1132, -7.1402, -7.0922, -7.1624, -7.0415, -4.0632, -6.0646, -4.8646, -6.8651, -6.8468, -5.136, -3.8141, -5.4386, -4.868, -6.1568, -5.1032, -5.5266, -5.2263, -4.6816, -6.2216, -3.6267, -5.5495, -4.9846, -5.2264, -5.3543, -5.3112, -4.8189, -4.5234, -4.0367, -4.9566, -4.9456, -5.16, -4.3957, -5.0018, -5.3167, -5.4434, -5.312, -5.1676, -5.1884, -5.4083, -5.3937, -3.8266, -4.5211, -5.041, -4.9102, -5.1991, -5.4295, -5.5344, -5.2383, -5.5715, -5.63, -5.7862, -5.9014, -6.1569, -6.2169, -6.2617, -6.5322, -6.561, -6.7179, -6.8255, -6.8256, -6.9677, -6.7941, -7.1145, -7.1467, -7.1086, -7.1665, -7.2141, -7.2282, -7.2789, -3.8537, -4.6796, -4.5472, -5.1715, -6.9436, -3.6074, -4.8441, -4.6269, -5.1875, -5.9224, -5.6241, -5.0987, -4.9905, -5.7327, -3.5364, -5.5806, -4.1393, -4.7061, -5.2012, -5.5774, -4.7371, -4.5453, -4.5876, -5.2675, -4.5918, -4.6685, -4.5269, -4.7609, -5.306, -5.214, -5.232], \"loglift\": [30.0, 29.0, 28.0, 27.0, 26.0, 25.0, 24.0, 23.0, 22.0, 21.0, 20.0, 19.0, 18.0, 17.0, 16.0, 15.0, 14.0, 13.0, 12.0, 11.0, 10.0, 9.0, 8.0, 7.0, 6.0, 5.0, 4.0, 3.0, 2.0, 1.0, 1.2313, 1.2308, 1.2308, 1.2307, 1.2303, 1.23, 1.23, 1.2299, 1.2297, 1.2297, 1.2295, 1.2294, 1.2294, 1.2293, 1.2291, 1.2286, 1.2286, 1.2286, 1.2285, 1.2281, 1.2281, 1.2274, 1.2272, 1.227, 1.227, 1.227, 1.2269, 1.2268, 1.2268, 1.2266, 1.2255, 1.2224, 1.209, 1.2217, 1.2054, 1.1548, 1.0611, 1.079, 1.1175, 0.9208, 1.0179, 1.0403, 1.1438, 0.8504, 0.7973, 0.9155, 1.052, 0.6542, 0.782, 0.4774, 0.9941, 0.7241, 0.6151, 0.7065, 0.3549, 0.1698, 0.5661, 0.4512, 0.5947, 0.4664, 0.2815, 0.486, 0.5216, 0.3382, 0.5311, -0.578, 0.1472, 0.1828, 0.1224, -0.0169, -0.0984, 1.3419, 1.3416, 1.3414, 1.3413, 1.3413, 1.3413, 1.341, 1.3409, 1.3408, 1.3407, 1.3406, 1.3404, 1.3401, 1.34, 1.34, 1.3397, 1.3397, 1.3395, 1.3393, 1.3393, 1.3392, 1.3389, 1.3389, 1.3388, 1.3386, 1.3385, 1.3384, 1.3383, 1.338, 1.3377, 1.3344, 1.336, 1.3079, 1.3375, 1.3273, 1.3175, 1.3161, 1.3073, 1.286, 1.2859, 1.2867, 1.2342, 1.1364, 1.1258, 1.0523, 1.1887, 1.0646, 0.9169, 0.6887, 0.8223, 1.0159, 0.8539, 0.7424, 0.9024, 0.87, 1.0276, 0.9178, 0.4846, 0.0881, -0.1703, 0.1169, -0.0593, 0.1274, 0.5654, 0.3072, 0.7027, -0.5825, 0.2318, 1.4165, 1.4164, 1.4163, 1.4158, 1.4157, 1.4157, 1.4156, 1.4155, 1.4154, 1.4154, 1.415, 1.4149, 1.4148, 1.4148, 1.4146, 1.4144, 1.4143, 1.4141, 1.414, 1.4139, 1.4138, 1.4133, 1.4133, 1.4133, 1.4131, 1.4131, 1.413, 1.413, 1.4129, 1.4129, 1.3978, 1.4121, 1.3987, 1.4128, 1.4106, 1.3648, 1.2648, 1.3413, 1.2895, 1.3597, 1.2765, 1.2703, 1.2298, 1.1554, 1.3405, 0.9706, 1.2413, 1.1518, 1.1858, 1.2042, 1.1633, 1.0407, 0.928, 0.7411, 0.9821, 0.9062, 0.9351, 0.4398, 0.7623, 0.9082, 0.8477, 0.6618, 0.2723, 0.1269, 0.2674, -0.2387, 1.5863, 1.5862, 1.5859, 1.5859, 1.5858, 1.5856, 1.5855, 1.5855, 1.5855, 1.5854, 1.5852, 1.5851, 1.5847, 1.5846, 1.5845, 1.5838, 1.5837, 1.5833, 1.5829, 1.5828, 1.5824, 1.5818, 1.5816, 1.5814, 1.5813, 1.5813, 1.5811, 1.581, 1.5809, 1.5807, 1.5778, 1.5729, 1.5698, 1.5797, 1.5374, 1.5493, 1.5401, 1.5386, 1.549, 1.5355, 1.506, 1.4725, 1.5042, 1.2337, 1.4639, 1.235, 1.3225, 1.3979, 1.4624, 1.214, 1.0537, 1.0592, 1.2891, 0.8821, 0.8986, 0.3085, 0.5544, 1.1693, 0.9319, -0.6347]}, \"token.table\": {\"Topic\": [2, 1, 2, 3, 4, 2, 4, 1, 2, 4, 1, 3, 1, 2, 3, 3, 4, 1, 3, 4, 4, 1, 1, 3, 1, 2, 3, 4, 2, 4, 3, 1, 2, 3, 4, 1, 2, 2, 3, 4, 1, 2, 3, 4, 1, 1, 2, 3, 4, 4, 2, 1, 2, 3, 4, 3, 1, 2, 3, 4, 4, 1, 2, 3, 4, 4, 2, 2, 1, 2, 3, 4, 1, 3, 4, 2, 1, 2, 3, 4, 1, 2, 1, 1, 2, 3, 1, 1, 2, 3, 4, 3, 4, 1, 1, 1, 1, 4, 4, 1, 2, 3, 4, 1, 2, 3, 4, 3, 2, 4, 1, 2, 3, 1, 3, 4, 3, 1, 2, 3, 4, 1, 2, 3, 4, 1, 2, 3, 4, 2, 1, 3, 4, 4, 3, 1, 2, 3, 4, 3, 4, 2, 1, 2, 1, 2, 3, 4, 1, 3, 3, 1, 2, 3, 4, 3, 4, 1, 2, 4, 3, 1, 3, 2, 1, 1, 2, 3, 4, 1, 3, 4, 2, 3, 1, 2, 3, 4, 1, 2, 1, 2, 3, 1, 1, 3, 1, 2, 3, 4, 2, 3, 4, 4, 3, 1, 3, 2, 1, 3, 1, 2, 3, 4, 1, 2, 3, 4, 1, 2, 3, 4, 1, 2, 3, 4, 1, 2, 4, 1, 2, 3, 4, 2, 1, 2, 3, 4, 1, 2, 3, 4, 4, 1, 2, 3, 4, 1, 2, 3, 1, 2, 3, 4, 2, 1, 4, 3, 2, 3, 4, 1, 1, 2, 1, 2, 3, 1, 2, 3, 1, 2, 3, 4, 4, 2, 4, 4, 1, 2, 3, 2, 2, 1, 2, 1, 2, 4, 2, 1, 2, 3, 4, 2, 3, 4, 1, 2, 3, 4, 1, 3, 4, 2, 2, 1, 2, 3, 4, 1, 3, 3, 1, 3, 4, 1, 2, 3, 4, 3, 1, 2, 3, 4, 3, 1, 4, 2, 4, 2, 1, 2, 3, 4, 1, 2, 3, 4, 1, 2, 3, 4, 2, 3, 4, 4, 2, 4, 3, 1, 2, 3, 4, 1, 3, 4, 1, 2, 3, 4, 1, 2, 3, 4, 2, 1, 2, 3, 4, 1, 2, 3, 1, 3, 1, 2, 3, 1, 2, 1, 2, 3, 3, 1, 2, 3, 4, 1, 2, 3, 4, 1, 2, 3, 4, 4, 2, 1, 2, 1, 2, 3, 4, 3, 2, 1, 2, 3, 4, 1, 2, 3, 4, 1, 3, 4, 3, 3, 1, 1, 2, 4, 2, 4, 1, 2, 3, 1, 2, 3, 4, 3, 3, 4, 1, 2, 3, 4, 1, 2, 3, 4, 1, 2, 3, 4, 4, 4, 4, 3, 3, 1, 1, 2, 3, 4, 1, 3, 4, 3, 1, 3, 1, 2, 2, 3, 4, 1, 2, 3, 4, 1, 2, 4, 1, 1, 2, 3, 1, 2, 3, 4, 1, 3, 4, 4, 4, 1, 2, 3, 4, 1, 2, 3, 4, 3, 1, 2, 4, 1, 2, 3, 4, 1, 4, 1, 3, 1, 2, 3, 4, 1, 2, 1, 2, 3, 4, 1, 2, 1, 2, 3, 4, 1, 2, 3, 4, 1, 2, 3, 1, 2, 1, 2, 3, 1, 2, 3, 1, 2, 3, 1, 2, 3, 4, 1, 2, 3, 4, 1, 2, 3, 1, 2, 3, 4, 1, 2, 3, 4], \"Freq\": [0.9949070935177556, 0.002794977073274229, 0.005589954146548458, 0.0005589954146548458, 0.9910988701830417, 0.005388877660607457, 0.9915534895517721, 0.9873766393613445, 0.004816471411518753, 0.004816471411518753, 0.998027531287725, 0.995708599300611, 0.28596183707199085, 0.6439906693738182, 0.06976085138248164, 0.9979881291416448, 0.9969345923067177, 0.017994656051852763, 0.9818334208292164, 0.9997587157203216, 0.9986531717051861, 0.9984540473470858, 0.8072814335482745, 0.1924989025217153, 0.029401920531502288, 0.001837620033218893, 0.016722342302291925, 0.9520709392107084, 0.9988837935096436, 0.9966133829366199, 0.9968883517581514, 0.1279003140893216, 0.7217232009326003, 0.07795828668301506, 0.07308589376532662, 0.9981363239320621, 0.997142140930153, 0.9844711590556029, 0.011766587558433501, 0.003922195852811167, 0.5612102205736442, 0.24620105746361418, 0.16513945355139817, 0.027523242258566363, 0.9978063625883127, 0.052845954289001656, 0.945171911606415, 0.0005504786905104338, 0.0011009573810208677, 0.9958723611341989, 0.9998210732990485, 0.24404910143007957, 0.09051821180091066, 0.1455292797462155, 0.5196045417742883, 0.9976160030296631, 0.03180225429100186, 0.6534526355372171, 0.30764496519400747, 0.007029972001168831, 0.9994097599650976, 0.0011558447498820877, 0.29358456647005027, 0.0016181826498349228, 0.703678283728215, 0.9995719202893522, 0.997933352273882, 0.996669448131364, 0.32957725798909854, 0.4240443223111075, 0.11737885231055595, 0.12901099082781825, 0.004216321676751951, 0.9950519157134605, 0.9997813879187945, 0.9990160031112861, 0.34563091161153264, 0.08376616568706757, 0.5085802916714818, 0.06199714694468376, 0.9931798226775265, 0.004619441035709425, 0.9955436996801899, 0.2076706152923076, 0.016669213267609975, 0.7758129674966809, 0.9979178171695199, 0.013704977383052737, 0.10050316747572008, 0.7935834522758156, 0.09267175182826137, 0.8630302211028018, 0.1361669904406643, 0.997927993613757, 0.9987244535414611, 0.9953299021948154, 0.9958219287028763, 0.9972878192425465, 0.9987884347291693, 0.013534743757608447, 0.296742872572472, 0.1951046081285444, 0.494401205938301, 0.04563702352612099, 0.0035653924629782028, 0.9491074736447975, 0.0021392354777869218, 0.996013007675722, 0.03586653144276305, 0.9632725587484933, 0.013542198357838663, 0.9462611102539765, 0.040626595073515986, 0.003770031446575301, 0.2533461132098602, 0.7426961949753343, 0.9939227724924501, 0.3379486970500396, 0.1348381164997633, 0.5195534514244043, 0.007851333365809001, 0.029478818186763022, 0.002456568182230252, 0.08352331819582856, 0.8843645456028907, 0.5286133820858873, 0.021053000498658714, 0.31259129001269353, 0.13775985108904942, 0.9985465658978048, 0.9252061521460978, 0.046337536835363825, 0.0262579375400395, 0.996997041924405, 0.9947860077495776, 0.06569334362433502, 0.14591502285789798, 0.08565401341788297, 0.7026661100741373, 0.00564611066392943, 0.9942064429962691, 0.9958325385105201, 0.025414605604839657, 0.973780677911751, 0.011208254597833835, 0.00146194625189137, 0.0009746308345942466, 0.9863264046093775, 0.9952507471416723, 0.004780262954570952, 0.997922922306353, 0.41601063855939596, 0.28532278066300387, 0.19083397431461807, 0.10785460999688044, 0.9948753198268274, 0.9920527202594412, 0.9766982564134027, 0.022091984371255535, 0.9930437257274451, 0.9980418667821008, 0.9966141464286059, 0.0026226688063910684, 0.9981982923582582, 0.995110994093672, 0.24837501935956724, 0.06493464558420058, 0.6011865937003904, 0.08603840539906576, 0.01890603741003222, 0.9808452208324716, 0.0002520804988004296, 0.9966681713267194, 0.9972722875287444, 0.293135414039197, 0.5276437452705547, 0.06907547380329593, 0.11086903778512204, 0.7883962491891292, 0.21130996647545627, 0.0019690196452784993, 0.053163530422519485, 0.9431604100884012, 0.9985790617059641, 0.0037844831705090265, 0.995319073843874, 0.8256783359040645, 0.0010835673699528406, 0.11810884332485962, 0.05526193586759487, 0.03576479487452149, 0.0018823576249748153, 0.9637671039871054, 0.9975708787226999, 0.9958781319647514, 0.998558508303182, 0.0019695434088820157, 0.9984621839066344, 0.989540202787632, 0.0076412370871631816, 0.5396546689794568, 0.20705961847542376, 0.22744066508712737, 0.025993218867100272, 0.6474023231772293, 0.22443951506960302, 0.10844555044282388, 0.019625876878283672, 0.035018183815731414, 0.6237984947514189, 0.0005935285392496849, 0.34127891006856886, 0.05617897749520226, 0.0015825064083155565, 0.018990076899786677, 0.9226012360479695, 0.0024667966232254208, 0.99658583578307, 0.9963689944962214, 0.6019269755015688, 0.25759128066453385, 0.05724250681434086, 0.08322179836854171, 0.9989022117402849, 0.001736512874637117, 0.22661493014014378, 0.18435978352397392, 0.5869413516273456, 0.10947080466193207, 0.0004953430075200547, 0.7667909756410445, 0.12334040887249359, 0.9980808552370732, 0.4912759924428484, 0.23103249374339357, 0.06461828369068097, 0.21332885437608373, 0.0037149160658591605, 0.8581456112134661, 0.13838062345325372, 0.06881110890176977, 0.0028278537904836893, 0.9265934253484888, 0.0018852358603224594, 0.998256745091646, 0.17152557689890446, 0.8285157452960844, 0.9934265106062472, 0.730190991950714, 0.26940889015993263, 0.9944904440113438, 0.996987556502185, 0.9987621940129611, 0.9986493953621357, 0.8348968021206009, 0.05348093394366838, 0.10993303088420724, 0.8582109889826294, 0.033799405388014514, 0.10801114330517682, 0.5911448462714401, 0.2436911747921596, 0.1644700154957685, 0.00043054977878473425, 0.9995774477250524, 0.9932556900064194, 0.004121392904590952, 0.9969886310301787, 0.6377978059922588, 0.35521543529200583, 0.006865812075837346, 0.9986860873043031, 0.9981359171058878, 0.005308178359355101, 0.9926293531994039, 0.9157023445704551, 0.0832456676882232, 0.002448401990830094, 0.9966715583534056, 0.4090988702112008, 0.3295423422237753, 0.14608224535622089, 0.11556271522311372, 0.22962292793047073, 0.08106759283566797, 0.6888687837914121, 0.0061829768570846174, 0.04946381485667694, 0.9253855362769977, 0.01854893057125385, 0.9958219653982586, 0.049611004174340945, 0.9508775800082014, 0.9991588473132073, 0.9956702959284442, 0.02890678459701979, 0.004002477867279663, 0.19878973407488995, 0.7680310307546643, 0.9960929940686531, 0.9979518952338517, 0.9945133186163394, 0.996677530795432, 0.004650729329313275, 0.9952560764730408, 0.49623932076692673, 0.38704717160013735, 0.08920608614965382, 0.027785502243334797, 0.9969609383016348, 0.2868791731191431, 0.00030357584457052186, 0.12264464120649082, 0.5901514418450945, 0.9984996615168988, 0.01632479182411525, 0.9831152409633851, 0.7576762781867458, 0.2419326958898324, 0.9996053832741816, 0.004098962780748196, 0.11514359084101751, 0.5999390979095087, 0.2813378999513535, 0.5136344306128078, 0.23166114304685848, 0.11902201352650589, 0.13554241918949095, 0.4581218808543662, 0.15250832646031343, 0.10923296963693682, 0.28024524177345267, 0.030857537124343973, 0.8801985999403035, 0.08903158252269736, 0.9928851717456169, 0.9973153250415533, 0.002363306457444439, 0.9952896370614097, 0.0027572225306877604, 0.459996625536408, 0.32994762950563533, 0.20725122689002998, 0.09412466886331652, 0.022003169344671395, 0.8837939686776343, 0.7326376173654835, 0.11906880016885138, 0.14798550878128672, 0.0004859951027300056, 0.0689657616045452, 0.6137131761833041, 0.2996726545911786, 0.017651950886877644, 0.9993962145497095, 0.005053965358344199, 0.12571738828881193, 0.8686502959654091, 0.0006317456697930248, 0.9955398365808537, 0.0029629161803001597, 0.0029629161803001597, 0.9973765438398321, 0.001181725762843403, 0.8431162024898168, 0.10830352140278177, 0.04856660152591111, 0.03389735267890689, 0.9660745513488462, 0.005624770650394045, 0.992772019794549, 0.0014061926625985113, 0.9993529888845432, 0.024031442718884098, 0.010299189736664613, 0.07346755345487424, 0.8919098311951555, 0.0022214956573683334, 0.5946203376222572, 0.31816754470530906, 0.08515733353245278, 0.009709027402393492, 0.5488836824819787, 0.15469716994480295, 0.28673994261735447, 0.9915268449443908, 0.9958318674160044, 0.0007473997642202043, 0.9992734847624132, 0.1601715518821626, 0.010931589594331572, 0.6173971688276831, 0.21150249432511084, 0.9953959177332216, 0.9987940833097984, 0.2643467855971402, 0.032237412877700024, 0.20071293582985406, 0.5026233155627491, 0.23194078847863828, 0.6545079124881573, 0.08480335078750212, 0.028992598559829785, 0.09875186428564195, 0.8586595028739356, 0.04249426912639993, 0.998910615913308, 0.9979880517470948, 0.9996562481809945, 0.003727756019438705, 0.9754294917531278, 0.019881365437006426, 0.9995192969287048, 0.0004341960455815399, 0.12206129812395872, 0.04841537523352552, 0.8291985392108033, 0.0001760625698714619, 0.9662313834545829, 0.024472697212133205, 0.009155253633316018, 0.9971403166980348, 0.07890597033505713, 0.9215621818377426, 0.12474658634864932, 0.22036315902020864, 0.37626267666241253, 0.27862318637438865, 0.042880450575564076, 0.003573370881297006, 0.0008933427203242515, 0.9531966825859765, 0.7284108677909458, 0.11902543541775455, 0.11716566298935213, 0.03533567613964588, 0.9993575393502813, 0.9963729318528955, 0.9991056549775237, 0.9995233026353291, 0.9949636295997342, 0.9981364029048007, 0.011042659089527571, 0.8972160510241152, 0.0901817158978085, 0.0009202215907939644, 0.1766019757630772, 0.7695587135122866, 0.053604757716027594, 0.9990073846636073, 0.0013843779013888006, 0.9981364669013252, 0.9992613129760229, 0.9976797929760365, 0.0005107393048429518, 0.044945058826179766, 0.9545717607514771, 0.47410266367637166, 0.037284563782496116, 0.16758430247500886, 0.3210397176219139, 0.9962258030952937, 0.00098502886870633, 0.9988192728682187, 0.9977219867898327, 0.03194720854606612, 0.944526165709781, 0.023613154142744522, 0.13408377511165445, 0.05333304220127432, 0.6861934373361139, 0.1261964942227336, 0.0007105826353374358, 0.9990791852844347, 0.999438250776743, 0.9992768781378818, 0.9944907004176141, 0.10162012047322191, 0.11706637878515165, 0.6471169271734771, 0.13413855902465294, 0.16368290935401628, 0.08800613567865291, 0.6398513729293364, 0.10851964314964327, 0.9954672045101663, 0.001072677680036865, 0.8055809377076857, 0.19361832124665415, 0.006080213831430378, 0.8141959066997224, 0.17245697412784344, 0.007738453967275027, 0.9983216811191188, 0.00128318982148987, 0.004130625489714181, 0.9913501175314036, 0.4701465160370067, 0.520177951464235, 0.0031036870612424525, 0.006455669087384301, 0.8916126617550612, 0.1066380592132299, 0.36582519185719875, 0.07535409590614336, 0.46980542475562004, 0.08882521919662709, 0.9981659738615545, 0.9965778631443069, 0.19024581532387363, 0.17826011103657347, 0.2752353548156385, 0.3563023001770142, 0.2919768290591149, 0.0020855487789936777, 0.04727243899052336, 0.6590334141620021, 0.17224850477145737, 0.019642373351131105, 0.808359210988857, 0.9720426998969292, 0.023791254892582183, 0.6828029033280748, 0.000312495607930469, 0.3168705464414956, 0.9971407949969726, 0.0017402108115130413, 0.9988797590459121, 0.3865021948943829, 0.0002496784204744076, 0.6132102006851451, 0.46513591386268643, 0.006091918748586802, 0.3432975388909504, 0.18562434775105668, 0.06861848491419309, 0.09149131321892412, 0.8386703711734711, 0.0009530345126971262, 0.06013087809401938, 0.37408344352721673, 0.5660397082119709, 0.1746217314800162, 0.7482430272673652, 0.07447569309946245, 0.0025353427438114876, 0.35035154854395545, 0.17292512192587095, 0.31809219824975826, 0.15867099040052798], \"Term\": [\"150\", \"20\", \"20\", \"20\", \"20\", \"212\", \"212\", \"43\", \"43\", \"43\", \"acrylate\", \"activist\", \"administration\", \"administration\", \"administration\", \"administrator\", \"advice\", \"air\", \"air\", \"alabama\", \"alan\", \"alarm\", \"animal\", \"animal\", \"another\", \"another\", \"another\", \"another\", \"apply\", \"attorney\", \"audio\", \"back\", \"back\", \"back\", \"back\", \"balloon\", \"bear\", \"bearing\", \"bearing\", \"bearing\", \"biden\", \"biden\", \"biden\", \"biden\", \"biometrics\", \"blame\", \"blame\", \"blame\", \"blame\", \"bp\", \"brake\", \"break\", \"break\", \"break\", \"break\", \"brockovich\", \"buttigieg\", \"buttigieg\", \"buttigieg\", \"buttigieg\", \"calhoun\", \"car\", \"car\", \"car\", \"car\", \"carolina\", \"cash\", \"categorize\", \"cause\", \"cause\", \"cause\", \"cause\", \"cdc\", \"cdc\", \"ceo\", \"chair\", \"chemical\", \"chemical\", \"chemical\", \"chemical\", \"chernobyl\", \"chernobyl\", \"chicken\", \"chloride\", \"chloride\", \"chloride\", \"cincinnati\", \"clean\", \"clean\", \"clean\", \"clean\", \"cleanup\", \"cleanup\", \"cleveland\", \"close\", \"collides\", \"collision\", \"columbus\", \"committee\", \"company\", \"company\", \"company\", \"company\", \"concern\", \"concern\", \"concern\", \"concern\", \"conduct\", \"congress\", \"congress\", \"corporate\", \"corporate\", \"corporate\", \"county\", \"county\", \"county\", \"craft\", \"crash\", \"crash\", \"crash\", \"crash\", \"danger\", \"danger\", \"danger\", \"danger\", \"day\", \"day\", \"day\", \"day\", \"de\", \"dead\", \"dead\", \"dead\", \"deeply\", \"delivers\", \"derail\", \"derail\", \"derail\", \"derail\", \"derails\", \"derails\", \"deregulate\", \"deregulation\", \"deregulation\", \"dewine\", \"dewine\", \"dewine\", \"dewine\", \"die\", \"die\", \"dioxin\", \"disaster\", \"disaster\", \"disaster\", \"disaster\", \"disposal\", \"domestic\", \"donald\", \"donald\", \"donovanlawtampa\", \"door\", \"dump\", \"dump\", \"ecp\", \"elaine\", \"environmental\", \"environmental\", \"environmental\", \"environmental\", \"epa\", \"epa\", \"epa\", \"era\", \"erin\", \"even\", \"even\", \"even\", \"even\", \"every\", \"every\", \"expert\", \"expert\", \"expert\", \"farmer\", \"fear\", \"fear\", \"fema\", \"fema\", \"fema\", \"fema\", \"fiery\", \"fiery\", \"fiery\", \"file\", \"film\", \"fish\", \"fish\", \"flammable\", \"food\", \"food\", \"get\", \"get\", \"get\", \"get\", \"go\", \"go\", \"go\", \"go\", \"gop\", \"gop\", \"gop\", \"gop\", \"gov\", \"gov\", \"gov\", \"gov\", \"greed\", \"greed\", \"grill\", \"happen\", \"happen\", \"happen\", \"happen\", \"hazard\", \"hazardous\", \"hazardous\", \"hazardous\", \"hazardous\", \"health\", \"health\", \"health\", \"health\", \"hearing\", \"help\", \"help\", \"help\", \"help\", \"high\", \"high\", \"high\", \"home\", \"home\", \"home\", \"home\", \"homendy\", \"hour\", \"hour\", \"illusion\", \"industry\", \"industry\", \"injury\", \"intake\", \"jd\", \"jennifer\", \"joe\", \"joe\", \"joe\", \"kill\", \"kill\", \"kill\", \"know\", \"know\", \"know\", \"know\", \"lawsuit\", \"legislation\", \"legislation\", \"lexington\", \"like\", \"like\", \"like\", \"lobby\", \"lobbyist\", \"lose\", \"lose\", \"lot\", \"lot\", \"lot\", \"maintenance\", \"make\", \"make\", \"make\", \"make\", \"material\", \"material\", \"material\", \"michigan\", \"michigan\", \"michigan\", \"michigan\", \"mickey\", \"mike\", \"mike\", \"misinformation\", \"mixed\", \"month\", \"month\", \"month\", \"month\", \"mouse\", \"movie\", \"multimillion\", \"myid\", \"nbc\", \"nbc\", \"need\", \"need\", \"need\", \"need\", \"netflix\", \"news\", \"news\", \"news\", \"news\", \"noise\", \"north\", \"north\", \"ntsb\", \"ntsb\", \"obama\", \"official\", \"official\", \"official\", \"official\", \"oh\", \"oh\", \"oh\", \"oh\", \"one\", \"one\", \"one\", \"one\", \"order\", \"order\", \"order\", \"organization\", \"overheat\", \"overheat\", \"pause\", \"pay\", \"pay\", \"pay\", \"pay\", \"pennsylvania\", \"pennsylvania\", \"pennsylvania\", \"people\", \"people\", \"people\", \"people\", \"pete\", \"pete\", \"pete\", \"pete\", \"petition\", \"place\", \"place\", \"place\", \"place\", \"possible\", \"possible\", \"possible\", \"post\", \"post\", \"president\", \"president\", \"president\", \"prevent\", \"prevent\", \"profit\", \"profit\", \"profit\", \"prompt\", \"public\", \"public\", \"public\", \"public\", \"rail\", \"rail\", \"rail\", \"rail\", \"railroad\", \"railroad\", \"railroad\", \"railroad\", \"recover\", \"regs\", \"regulation\", \"regulation\", \"release\", \"release\", \"release\", \"release\", \"removal\", \"repeal\", \"report\", \"report\", \"report\", \"report\", \"republican\", \"republican\", \"republican\", \"republican\", \"resident\", \"resident\", \"resident\", \"return\", \"reveals\", \"river\", \"roll\", \"roll\", \"roll\", \"rule\", \"rule\", \"safe\", \"safe\", \"safe\", \"safety\", \"safety\", \"safety\", \"safety\", \"sample\", \"saturday\", \"saturday\", \"say\", \"say\", \"say\", \"say\", \"second\", \"second\", \"second\", \"second\", \"see\", \"see\", \"see\", \"see\", \"senate\", \"shapiro\", \"shaw\", \"shelter\", \"ship\", \"shock\", \"sign\", \"sign\", \"sign\", \"sign\", \"site\", \"site\", \"site\", \"skip\", \"soil\", \"soil\", \"sound\", \"specialist\", \"springfield\", \"springfield\", \"springfield\", \"state\", \"state\", \"state\", \"state\", \"struggle\", \"sue\", \"sue\", \"surveil\", \"system\", \"system\", \"system\", \"tell\", \"tell\", \"tell\", \"tell\", \"test\", \"test\", \"testifies\", \"testify\", \"testimony\", \"town\", \"town\", \"town\", \"town\", \"toxic\", \"toxic\", \"toxic\", \"toxic\", \"toxins\", \"train\", \"train\", \"train\", \"transportation\", \"transportation\", \"transportation\", \"transportation\", \"truck\", \"truck\", \"truckloads\", \"truckloads\", \"trump\", \"trump\", \"trump\", \"trump\", \"ukraine\", \"ukraine\", \"us\", \"us\", \"us\", \"us\", \"vance\", \"vanguard\", \"via\", \"via\", \"via\", \"via\", \"video\", \"video\", \"video\", \"video\", \"vinyl\", \"vinyl\", \"vinyl\", \"virginia\", \"virginia\", \"visit\", \"visit\", \"visit\", \"washington\", \"washington\", \"waste\", \"water\", \"water\", \"water\", \"week\", \"week\", \"week\", \"week\", \"white\", \"white\", \"white\", \"white\", \"worker\", \"worker\", \"worker\", \"would\", \"would\", \"would\", \"would\", \"wreck\", \"wreck\", \"wreck\", \"wreck\"]}, \"R\": 30, \"lambda.step\": 0.01, \"plot.opts\": {\"xlab\": \"PC1\", \"ylab\": \"PC2\"}, \"topic.order\": [3, 2, 4, 1]};\n",
       "\n",
       "function LDAvis_load_lib(url, callback){\n",
       "  var s = document.createElement('script');\n",
       "  s.src = url;\n",
       "  s.async = true;\n",
       "  s.onreadystatechange = s.onload = callback;\n",
       "  s.onerror = function(){console.warn(\"failed to load library \" + url);};\n",
       "  document.getElementsByTagName(\"head\")[0].appendChild(s);\n",
       "}\n",
       "\n",
       "if(typeof(LDAvis) !== \"undefined\"){\n",
       "   // already loaded: just create the visualization\n",
       "   !function(LDAvis){\n",
       "       new LDAvis(\"#\" + \"ldavis_el18620108057328483506765173\", ldavis_el18620108057328483506765173_data);\n",
       "   }(LDAvis);\n",
       "}else if(typeof define === \"function\" && define.amd){\n",
       "   // require.js is available: use it to load d3/LDAvis\n",
       "   require.config({paths: {d3: \"https://d3js.org/d3.v5\"}});\n",
       "   require([\"d3\"], function(d3){\n",
       "      window.d3 = d3;\n",
       "      LDAvis_load_lib(\"https://cdn.jsdelivr.net/gh/bmabey/pyLDAvis@3.3.1/pyLDAvis/js/ldavis.v3.0.0.js\", function(){\n",
       "        new LDAvis(\"#\" + \"ldavis_el18620108057328483506765173\", ldavis_el18620108057328483506765173_data);\n",
       "      });\n",
       "    });\n",
       "}else{\n",
       "    // require.js not available: dynamically load d3 & LDAvis\n",
       "    LDAvis_load_lib(\"https://d3js.org/d3.v5.js\", function(){\n",
       "         LDAvis_load_lib(\"https://cdn.jsdelivr.net/gh/bmabey/pyLDAvis@3.3.1/pyLDAvis/js/ldavis.v3.0.0.js\", function(){\n",
       "                 new LDAvis(\"#\" + \"ldavis_el18620108057328483506765173\", ldavis_el18620108057328483506765173_data);\n",
       "            })\n",
       "         });\n",
       "}\n",
       "</script>"
      ],
      "text/plain": [
       "PreparedData(topic_coordinates=              x         y  topics  cluster       Freq\n",
       "topic                                                \n",
       "2     -0.118999  0.021711       1        1  29.170087\n",
       "1     -0.119198 -0.162814       2        1  26.126222\n",
       "3     -0.013532  0.197328       3        1  24.239995\n",
       "0      0.251729 -0.056225       4        1  20.463695, topic_info=          Term         Freq        Total Category  logprob  loglift\n",
       "1084   another  5441.000000  5441.000000  Default  30.0000  30.0000\n",
       "2433       ceo  4161.000000  4161.000000  Default  29.0000  29.0000\n",
       "11556   safety  5679.000000  5679.000000  Default  28.0000  28.0000\n",
       "3765   derails  4073.000000  4073.000000  Default  27.0000  27.0000\n",
       "3752    derail  7915.000000  7915.000000  Default  26.0000  26.0000\n",
       "...        ...          ...          ...      ...      ...      ...\n",
       "11653      say  2065.808770  7415.032564   Topic4  -4.5269   0.3085\n",
       "14203      via  1634.775169  4588.800014   Topic4  -4.7609   0.5544\n",
       "14225    video   947.774747  1438.470311   Topic4  -5.3060   1.1693\n",
       "1950     break  1039.112758  1999.597610   Topic4  -5.2140   0.9319\n",
       "13504    toxic  1020.577542  9408.434919   Topic4  -5.2320  -0.6347\n",
       "\n",
       "[295 rows x 6 columns], token_table=       Topic      Freq   Term\n",
       "term                         \n",
       "92         2  0.994907    150\n",
       "159        1  0.002795     20\n",
       "159        2  0.005590     20\n",
       "159        3  0.000559     20\n",
       "159        4  0.991099     20\n",
       "...      ...       ...    ...\n",
       "14758      4  0.002535  would\n",
       "14773      1  0.350352  wreck\n",
       "14773      2  0.172925  wreck\n",
       "14773      3  0.318092  wreck\n",
       "14773      4  0.158671  wreck\n",
       "\n",
       "[550 rows x 3 columns], R=30, lambda_step=0.01, plot_opts={'xlab': 'PC1', 'ylab': 'PC2'}, topic_order=[3, 2, 4, 1])"
      ]
     },
     "execution_count": 152,
     "metadata": {},
     "output_type": "execute_result"
    }
   ],
   "source": [
    "pyLDAvis.sklearn.prepare(lda, tf, tf_vectorizer)"
   ]
  },
  {
   "cell_type": "markdown",
   "metadata": {},
   "source": []
  },
  {
   "attachments": {},
   "cell_type": "markdown",
   "metadata": {},
   "source": [
    "# Perplexity"
   ]
  },
  {
   "cell_type": "code",
   "execution_count": null,
   "metadata": {},
   "outputs": [],
   "source": []
  },
  {
   "attachments": {},
   "cell_type": "markdown",
   "metadata": {},
   "source": [
    "## cut"
   ]
  },
  {
   "cell_type": "code",
   "execution_count": 117,
   "metadata": {},
   "outputs": [],
   "source": [
    "word1 = 'year'\n",
    "word2 = 'team'\n",
    "\n",
    "word1_column_idx = tf_vectorizer.vocabulary_[word1]\n",
    "word2_column_idx = tf_vectorizer.vocabulary_[word2]"
   ]
  },
  {
   "cell_type": "code",
   "execution_count": null,
   "metadata": {},
   "outputs": [],
   "source": [
    "np.array(tf.todense())"
   ]
  },
  {
   "cell_type": "code",
   "execution_count": null,
   "metadata": {},
   "outputs": [],
   "source": [
    "tf[:, word1_column_idx].toarray()"
   ]
  },
  {
   "cell_type": "code",
   "execution_count": null,
   "metadata": {},
   "outputs": [],
   "source": [
    "documents_with_word1 = (tf[:, word1_column_idx].toarray().flatten() > 0)"
   ]
  },
  {
   "cell_type": "code",
   "execution_count": null,
   "metadata": {},
   "outputs": [],
   "source": [
    "documents_with_word2 = (tf[:, word2_column_idx].toarray().flatten() > 0)"
   ]
  },
  {
   "cell_type": "code",
   "execution_count": null,
   "metadata": {},
   "outputs": [],
   "source": [
    "documents_with_both_word1_and_word2 = documents_with_word1 * documents_with_word2"
   ]
  },
  {
   "cell_type": "code",
   "execution_count": null,
   "metadata": {},
   "outputs": [],
   "source": [
    "documents_with_both_word1_and_word2"
   ]
  },
  {
   "cell_type": "markdown",
   "metadata": {},
   "source": [
    "Next, we compute the log of the conditional probability of word 1 appearing given that word 2 appeared, where we add in a little bit of a fudge factor in the numerator (in this case, it's actually not needed but some times you do have two words that do not co-occur for which you run into a numerical issue due to taking the log of 0)."
   ]
  },
  {
   "cell_type": "code",
   "execution_count": null,
   "metadata": {},
   "outputs": [],
   "source": [
    "eps = 0.1\n",
    "np.log2((documents_with_both_word1_and_word2.sum() + eps) / documents_with_word2.sum())"
   ]
  },
  {
   "cell_type": "code",
   "execution_count": 29,
   "metadata": {},
   "outputs": [],
   "source": [
    "# compute log of prob of see one word given you see another, using count vectorizer!\n",
    "# Same content as in hw , but with a different tool\n",
    "# This uses np.arrays instead of counters. Needs to kep track of the indexes.\n",
    "# Understad how countvectorizer works\n",
    "\n",
    "def prob_see_word1_given_see_word2(word1, word2, vectorizer, eps=0.1):\n",
    "    word1_column_idx = vectorizer.vocabulary_[word1]\n",
    "    word2_column_idx = vectorizer.vocabulary_[word2]\n",
    "    documents_with_word1 = (tf[:, word1_column_idx].toarray().flatten() > 0)\n",
    "    documents_with_word2 = (tf[:, word2_column_idx].toarray().flatten() > 0)\n",
    "    documents_with_both_word1_and_word2 = documents_with_word1 * documents_with_word2\n",
    "    return np.log2((documents_with_both_word1_and_word2.sum() + eps) / documents_with_word2.sum())"
   ]
  },
  {
   "cell_type": "code",
   "execution_count": null,
   "metadata": {},
   "outputs": [],
   "source": [
    "type(word1), type(word2)"
   ]
  },
  {
   "cell_type": "markdown",
   "metadata": {},
   "source": [
    "## Topic coherence\n",
    "\n",
    "The below code shows how one implements the topic coherence calculation from lecture."
   ]
  },
  {
   "cell_type": "code",
   "execution_count": null,
   "metadata": {},
   "outputs": [],
   "source": [
    "# In the cell below, vectorizer.get_feature_names() is just tokenizing the text, \n",
    "# eliminating stopwords, eliminating some other words, and then giving you back\n",
    "# a list of the tokens in string format"
   ]
  },
  {
   "cell_type": "code",
   "execution_count": 30,
   "metadata": {},
   "outputs": [],
   "source": [
    "# topic coherence\n",
    "\n",
    "def compute_average_coherence(topic_word_distributions, num_top_words, vectorizer, verbose=True):\n",
    "    vocab = vectorizer.get_feature_names()\n",
    "    num_topics = len(topic_word_distributions)\n",
    "    average_coherence = 0\n",
    "    # foor loop thru different topics, for each topic double nested for loop, going thru each entry, ordering matters\n",
    "    # make sure words arent the same, then compute the log(prob)\n",
    "    # add a bunhc of them and divide by total number of topics\n",
    "    for topic_idx in range(num_topics):\n",
    "        if verbose:\n",
    "            print('[Topic ', topic_idx, ']', sep='')\n",
    "        \n",
    "        sort_indices = np.argsort(topic_word_distributions[topic_idx])[::-1]\n",
    "        coherence = 0.\n",
    "        for top_word_idx1 in sort_indices[:num_top_words]:\n",
    "            word1 = vocab[top_word_idx1]\n",
    "            for top_word_idx2 in sort_indices[:num_top_words]:\n",
    "                word2 = vocab[top_word_idx2]\n",
    "                if top_word_idx1 != top_word_idx2:\n",
    "                    coherence += prob_see_word1_given_see_word2(word1, word2, vectorizer, 0.1)\n",
    "        \n",
    "        if verbose:\n",
    "            print('Coherence:', coherence)\n",
    "            print()\n",
    "        average_coherence += coherence\n",
    "    average_coherence /= num_topics\n",
    "    if verbose:\n",
    "        print('Average coherence:', average_coherence)\n",
    "    return average_coherence"
   ]
  },
  {
   "cell_type": "code",
   "execution_count": 31,
   "metadata": {},
   "outputs": [
    {
     "name": "stdout",
     "output_type": "stream",
     "text": [
      "[Topic 0]\n",
      "Coherence: -1803.9963547838227\n",
      "\n",
      "[Topic 1]\n",
      "Coherence: -1480.571439744989\n",
      "\n",
      "[Topic 2]\n",
      "Coherence: -1525.9302693585266\n",
      "\n",
      "[Topic 3]\n",
      "Coherence: -1552.8652033153915\n",
      "\n",
      "[Topic 4]\n",
      "Coherence: -1614.3602279209074\n",
      "\n",
      "Average coherence: -1595.5446990247274\n"
     ]
    },
    {
     "data": {
      "text/plain": [
       "-1595.5446990247274"
      ]
     },
     "execution_count": 31,
     "metadata": {},
     "output_type": "execute_result"
    }
   ],
   "source": [
    "compute_average_coherence(topic_word_distributions, num_top_words, tf_vectorizer, True)\n",
    "# These are negative, the highest possible is zero."
   ]
  },
  {
   "cell_type": "markdown",
   "metadata": {},
   "source": [
    "## Number of unique words\n",
    "\n",
    "The below code shows how one implements the number of unique words calculation from lecture."
   ]
  },
  {
   "cell_type": "code",
   "execution_count": 32,
   "metadata": {},
   "outputs": [],
   "source": [
    "# brute force implementation\n",
    "# nothing clever to speed upmcalculation\n",
    "\n",
    "#fro loop for each topic\n",
    "# For loop over each top word\n",
    "# another for loop for other topics\n",
    "# lok for all other top words in those other topics\n",
    "# check for uniqueness\n",
    "\n",
    "def compute_average_num_unique_words(topic_word_distributions, num_top_words, vectorizer, verbose=True):\n",
    "    vocab = vectorizer.get_feature_names()\n",
    "    num_topics = len(topic_word_distributions)\n",
    "    average_number_of_unique_top_words = 0\n",
    "    for topic_idx1 in range(num_topics):\n",
    "        if verbose:\n",
    "            print('[Topic ', topic_idx1, ']', sep='')\n",
    "        \n",
    "        sort_indices1 = np.argsort(topic_word_distributions[topic_idx1])[::-1]\n",
    "        num_unique_top_words = 0\n",
    "        for top_word_idx1 in sort_indices1[:num_top_words]:\n",
    "            word1 = vocab[top_word_idx1]\n",
    "            break_ = False\n",
    "            for topic_idx2 in range(num_topics):\n",
    "                if topic_idx1 != topic_idx2:\n",
    "                    sort_indices2 = np.argsort(topic_word_distributions[topic_idx2])[::-1]\n",
    "                    for top_word_idx2 in sort_indices2[:num_top_words]:\n",
    "                        word2 = vocab[top_word_idx2]\n",
    "                        if word1 == word2:\n",
    "                            break_ = True\n",
    "                            break\n",
    "                    if break_:\n",
    "                        break\n",
    "            else:\n",
    "                num_unique_top_words += 1\n",
    "        if verbose:\n",
    "            print('Number of unique top words:', num_unique_top_words)\n",
    "            print()\n",
    "\n",
    "        average_number_of_unique_top_words += num_unique_top_words\n",
    "    average_number_of_unique_top_words /= num_topics\n",
    "    \n",
    "    if verbose:\n",
    "        print('Average number of unique top words:', average_number_of_unique_top_words)\n",
    "    \n",
    "    return average_number_of_unique_top_words"
   ]
  },
  {
   "cell_type": "code",
   "execution_count": 33,
   "metadata": {},
   "outputs": [
    {
     "name": "stdout",
     "output_type": "stream",
     "text": [
      "[Topic 0]\n",
      "Number of unique top words: 12\n",
      "\n",
      "[Topic 1]\n",
      "Number of unique top words: 18\n",
      "\n",
      "[Topic 2]\n",
      "Number of unique top words: 10\n",
      "\n",
      "[Topic 3]\n",
      "Number of unique top words: 11\n",
      "\n",
      "[Topic 4]\n",
      "Number of unique top words: 13\n",
      "\n",
      "Average number of unique top words: 12.8\n"
     ]
    },
    {
     "data": {
      "text/plain": [
       "12.8"
      ]
     },
     "execution_count": 33,
     "metadata": {},
     "output_type": "execute_result"
    }
   ],
   "source": [
    "compute_average_num_unique_words(topic_word_distributions, num_top_words, tf_vectorizer, True)"
   ]
  },
  {
   "cell_type": "markdown",
   "metadata": {},
   "source": [
    "## Plotting average coherence vs k (number of topics), and average number of unique words vs k\n",
    "\n",
    "Next, we plot the average coherence vs k and the average number of unique words vs k. Note that these are *not* the only topic model metrics available (much like how CH index is not the only metric available for clustering).\n",
    "\n",
    "For both average coherence and average number of unique words, we would like these to be high. In this particular example, it turns out k=2 yields very high values for both but if you look at the topics learned for k=2, they are qualitatively quite bad (basically one topic is gibberish and the other is everything else!). This observation reinforces the important idea that while there exist topic modeling metrics (such as coherence and number of unique words), you should definitely still look at what the learned topics are (e.g., by printing the top words per topic) to help decide on what value of k to use.\n",
    "\n",
    "Also, keep in mind that the results are in some sense \"noisy\" since the LDA fitting procedure is random. We're choosing a specific `random_state` seed value but if we try different random seeds, we can get different results. For simplicity, because LDA fitting is quite computationally expensive, we are *not* doing what we did with GMM's where we did many different random initializations. Thus, the conclusions we draw regarding how many topics to use might actually be different with different random initializations.\n",
    "\n",
    "At least according to average coherence and average number of unique words for the random seed we use, the results below suggests that using k=4 yields average coherence and average number of unique words that are still reasonably high (as good as or almost as good as the k=2 result), and inspecting the topics learned for k=4, they are definitely more interesting than the ones learned for k=2.\n",
    "\n",
    "From qualitatively looking at topics, the k=5, k=6, and k=7 topics also look decent. When k gets too large (e.g., k=10), there start to be topics that look like there might be too much overlap (such as multiple topics that seem to be about computers).\n",
    "\n",
    "Note that one of the things to look out for is whether there are \"stable\" topics, where even for slightly different values of k and different random initializations, LDA keeps finding specific topics (e.g., one on gibberish, one on numbers, etc)."
   ]
  },
  {
   "cell_type": "code",
   "execution_count": 38,
   "metadata": {},
   "outputs": [
    {
     "name": "stdout",
     "output_type": "stream",
     "text": [
      "--------------------------------------------------------------------------------\n",
      "Number of topics: 2\n",
      "\n",
      "Displaying the top 20 words per topic and their probabilities within the topic...\n",
      "\n",
      "[Topic 0]\n",
      "toxic : 0.018947190874659656\n",
      "chemical : 0.0146115452622207\n",
      "resident : 0.010830155655439894\n",
      "epa : 0.007999680723243629\n",
      "disaster : 0.006966187494212401\n",
      "say : 0.006606448271329401\n",
      "via : 0.006232089935997095\n",
      "people : 0.005913273839575192\n",
      "rail : 0.005855525932622772\n",
      "ceo : 0.005576890298219318\n",
      "week : 0.00526333465928172\n",
      "crash : 0.005061909876325971\n",
      "pay : 0.004480046732685991\n",
      "water : 0.004477018407464085\n",
      "town : 0.004397929397226687\n",
      "site : 0.0042968358211493375\n",
      "health : 0.004232030415188725\n",
      "environmental : 0.004013384752745299\n",
      "make : 0.003954174126354031\n",
      "air : 0.003689459403823465\n",
      "\n",
      "[Topic 1]\n",
      "trump : 0.01634969760232949\n",
      "derail : 0.015011308697711551\n",
      "another : 0.011362601118430776\n",
      "say : 0.010169433813758904\n",
      "safety : 0.009975825059334477\n",
      "biden : 0.009940841871689083\n",
      "car : 0.009550665099861032\n",
      "derails : 0.008420039311766166\n",
      "hazardous : 0.007467425834262224\n",
      "go : 0.006694118184305232\n",
      "visit : 0.006507923267303166\n",
      "buttigieg : 0.006488923577766188\n",
      "would : 0.006411988940496926\n",
      "material : 0.005634671412277326\n",
      "regulation : 0.005322409264333314\n",
      "pete : 0.005264842563668584\n",
      "company : 0.005216760014175944\n",
      "one : 0.005105220997306266\n",
      "rule : 0.004692355827638666\n",
      "report : 0.004575816862409945\n",
      "\n",
      "\n",
      "\n",
      "--------------------------------------------------------------------------------\n",
      "Number of topics: 3\n",
      "\n",
      "Displaying the top 20 words per topic and their probabilities within the topic...\n",
      "\n",
      "[Topic 0]\n",
      "toxic : 0.01023355063171308\n",
      "rail : 0.009504396348593179\n",
      "ceo : 0.008340562309136776\n",
      "epa : 0.008236270734557488\n",
      "resident : 0.007461001085057629\n",
      "like : 0.0070624296939894825\n",
      "safety : 0.006373299935510663\n",
      "chemical : 0.006253984502984596\n",
      "people : 0.005888048858391378\n",
      "via : 0.005871617571850233\n",
      "disaster : 0.00585624005327073\n",
      "company : 0.005531521835646027\n",
      "say : 0.005345007148220003\n",
      "pay : 0.00522843991399548\n",
      "worker : 0.004754858004865517\n",
      "make : 0.004731594547112623\n",
      "get : 0.004694244697626469\n",
      "us : 0.0044558954452675595\n",
      "tell : 0.0042970899140246915\n",
      "senate : 0.004129599337588516\n",
      "\n",
      "[Topic 1]\n",
      "derail : 0.030211992249200653\n",
      "another : 0.020492888176724976\n",
      "car : 0.0172513636334293\n",
      "derails : 0.015177248156519944\n",
      "hazardous : 0.014210087533388347\n",
      "say : 0.01173519094438522\n",
      "material : 0.010169967362013994\n",
      "safety : 0.00939550300997033\n",
      "rule : 0.008388290343985976\n",
      "trump : 0.008265238339258917\n",
      "company : 0.008229183840943195\n",
      "would : 0.008068253144901873\n",
      "springfield : 0.008060764621716109\n",
      "alabama : 0.008047957439337991\n",
      "report : 0.00753717438788766\n",
      "brake : 0.007178678632659467\n",
      "20 : 0.007125041877683239\n",
      "carry : 0.006829906753838116\n",
      "freight : 0.006494431556078246\n",
      "place : 0.006146292375582899\n",
      "\n",
      "[Topic 2]\n",
      "toxic : 0.01696342849095113\n",
      "chemical : 0.014450675617403012\n",
      "biden : 0.013407041742828312\n",
      "trump : 0.013376286417079478\n",
      "water : 0.011388011143568954\n",
      "visit : 0.009279376398728124\n",
      "say : 0.008843177312988946\n",
      "buttigieg : 0.008268429525629001\n",
      "disaster : 0.008253295689051117\n",
      "resident : 0.007355114348753984\n",
      "pete : 0.006936351746047361\n",
      "town : 0.0060273738317453045\n",
      "president : 0.006008840858724464\n",
      "people : 0.005465310633847379\n",
      "week : 0.0054147264166713545\n",
      "site : 0.005321286267608076\n",
      "state : 0.005164186068013076\n",
      "go : 0.005107170085055596\n",
      "release : 0.004677687156364966\n",
      "dewine : 0.004345415516314407\n",
      "\n",
      "\n",
      "\n",
      "--------------------------------------------------------------------------------\n",
      "Number of topics: 4\n",
      "\n",
      "Displaying the top 20 words per topic and their probabilities within the topic...\n",
      "\n",
      "[Topic 0]\n",
      "toxic : 0.019109299293063424\n",
      "ceo : 0.014923148368793515\n",
      "resident : 0.014032535894965403\n",
      "epa : 0.012880097059215922\n",
      "chemical : 0.012055885985278793\n",
      "via : 0.011039836351194989\n",
      "rail : 0.008261465726107668\n",
      "pay : 0.007074146528604315\n",
      "say : 0.0069376617126327865\n",
      "tell : 0.006885196688547245\n",
      "senate : 0.006883262743183415\n",
      "congress : 0.006599828068642475\n",
      "worker : 0.006277101473757908\n",
      "crash : 0.005741687794560437\n",
      "clean : 0.0057331420386155015\n",
      "order : 0.005672258700306906\n",
      "week : 0.005322239066502825\n",
      "company : 0.005293422135944193\n",
      "disaster : 0.005077140447718318\n",
      "site : 0.005028399356037468\n",
      "\n",
      "[Topic 1]\n",
      "derail : 0.0386118578493583\n",
      "another : 0.02775513784486114\n",
      "car : 0.02332374806901548\n",
      "derails : 0.020483019699128382\n",
      "hazardous : 0.016970728264387933\n",
      "material : 0.01377240935500586\n",
      "say : 0.012975360945835873\n",
      "springfield : 0.010917852908276593\n",
      "alabama : 0.010275916159686593\n",
      "company : 0.010241773857462177\n",
      "20 : 0.009650838779189153\n",
      "carry : 0.00829905537191412\n",
      "freight : 0.008126224217172481\n",
      "safety : 0.007981659384084227\n",
      "place : 0.00791534314766714\n",
      "report : 0.007798574830620281\n",
      "cargo : 0.007402796580398657\n",
      "rule : 0.007105469425994468\n",
      "train : 0.007012888757794708\n",
      "second : 0.006587839745918873\n",
      "\n",
      "[Topic 2]\n",
      "toxic : 0.022008512747863085\n",
      "chemical : 0.01896722758512501\n",
      "water : 0.012895261867155868\n",
      "say : 0.010827548250814941\n",
      "visit : 0.008920669340034453\n",
      "resident : 0.007981457800256109\n",
      "site : 0.007547501653377204\n",
      "town : 0.0073920692179010915\n",
      "state : 0.007043293385695993\n",
      "release : 0.006883585340615956\n",
      "federal : 0.006599997436781134\n",
      "week : 0.006526304884290921\n",
      "safety : 0.006415177320643226\n",
      "follow : 0.006174718066702522\n",
      "disaster : 0.005761117423299645\n",
      "health : 0.005644195905535136\n",
      "biden : 0.00553243794090501\n",
      "air : 0.005398272085328734\n",
      "epa : 0.005335739228082774\n",
      "dewine : 0.005234660770348556\n",
      "\n",
      "[Topic 3]\n",
      "trump : 0.021005122899025962\n",
      "biden : 0.011623020281198826\n",
      "people : 0.00897159219499902\n",
      "disaster : 0.008293985594980725\n",
      "go : 0.008005207979875506\n",
      "regulation : 0.00796871155018297\n",
      "buttigieg : 0.0069646018842054\n",
      "safety : 0.006773281166151351\n",
      "get : 0.0060919760023181654\n",
      "like : 0.0060039051233090465\n",
      "pete : 0.005785231178103724\n",
      "would : 0.005674729353438205\n",
      "blame : 0.005354458627448547\n",
      "need : 0.005146898900987625\n",
      "gop : 0.004752947956861332\n",
      "say : 0.004634640109591115\n",
      "administration : 0.004602304880761151\n",
      "oh : 0.0045900678418359965\n",
      "rail : 0.004530449091720051\n",
      "make : 0.004397563907887254\n",
      "\n",
      "\n",
      "\n",
      "--------------------------------------------------------------------------------\n",
      "Number of topics: 5\n",
      "\n",
      "Displaying the top 20 words per topic and their probabilities within the topic...\n",
      "\n",
      "[Topic 0]\n",
      "toxic : 0.022457791846392967\n",
      "ceo : 0.01909519770061295\n",
      "resident : 0.017347292501322095\n",
      "chemical : 0.016160113157076755\n",
      "epa : 0.013899063024322483\n",
      "via : 0.009893960751737617\n",
      "pay : 0.008269276069613581\n",
      "say : 0.008163893554262587\n",
      "senate : 0.008134594278846838\n",
      "tell : 0.007605117286419225\n",
      "congress : 0.006781515182579619\n",
      "order : 0.006306676179334696\n",
      "clean : 0.006226100852638858\n",
      "rail : 0.0062106600464542985\n",
      "crash : 0.006076923915123679\n",
      "site : 0.005999986680991488\n",
      "worker : 0.0059216764863732185\n",
      "animal : 0.005689835953484064\n",
      "company : 0.00549751936463235\n",
      "demand : 0.005352323604188377\n",
      "\n",
      "[Topic 1]\n",
      "derail : 0.041301288720680895\n",
      "another : 0.03180513917666337\n",
      "car : 0.026418350367137678\n",
      "derails : 0.022203092403190045\n",
      "hazardous : 0.019883504315243262\n",
      "material : 0.015784198361090688\n",
      "say : 0.013526961781535762\n",
      "springfield : 0.012509990870489616\n",
      "20 : 0.011057471751499764\n",
      "company : 0.010800731026674894\n",
      "alabama : 0.010715894642125327\n",
      "carry : 0.009308797231190406\n",
      "freight : 0.008695898991201418\n",
      "cargo : 0.008482252175005624\n",
      "place : 0.008091923299740364\n",
      "second : 0.007548877594248619\n",
      "county : 0.007522726704506382\n",
      "report : 0.007300660550027382\n",
      "month : 0.007231423910512517\n",
      "one : 0.007019434564381862\n",
      "\n",
      "[Topic 2]\n",
      "toxic : 0.024399433631634115\n",
      "chemical : 0.018556797501523944\n",
      "visit : 0.013117524876437109\n",
      "water : 0.012062389845854405\n",
      "say : 0.010973712439973757\n",
      "site : 0.00844431795530629\n",
      "biden : 0.007837146592019666\n",
      "town : 0.007748579055315083\n",
      "resident : 0.007402385870002908\n",
      "state : 0.007034684176878805\n",
      "federal : 0.007014036491315758\n",
      "release : 0.006943703134839403\n",
      "week : 0.006781308268996687\n",
      "epa : 0.006548100561755021\n",
      "air : 0.006254763588951667\n",
      "disaster : 0.0057565792934920115\n",
      "follow : 0.00573390107272309\n",
      "environmental : 0.005488453374713875\n",
      "response : 0.005398110140580032\n",
      "trump : 0.005321220579266696\n",
      "\n",
      "[Topic 3]\n",
      "trump : 0.018502068531496673\n",
      "biden : 0.013314674872412476\n",
      "people : 0.012179552557099477\n",
      "go : 0.009201033734639479\n",
      "get : 0.00865621546372934\n",
      "need : 0.007154970123360606\n",
      "say : 0.007040251673666007\n",
      "water : 0.006922296359066375\n",
      "disaster : 0.006480895117766147\n",
      "oh : 0.0057712524173923006\n",
      "buttigieg : 0.00563832997784419\n",
      "pete : 0.005540222921467095\n",
      "gop : 0.005460751698488064\n",
      "help : 0.005425819781321395\n",
      "regulation : 0.005069411637819183\n",
      "president : 0.005018373647870214\n",
      "blame : 0.004838856230112978\n",
      "republican : 0.004819385292446188\n",
      "like : 0.004649180333924542\n",
      "would : 0.004602272585002344\n",
      "\n",
      "[Topic 4]\n",
      "safety : 0.020854286101955024\n",
      "trump : 0.012096334684715907\n",
      "rail : 0.009905084947262426\n",
      "disaster : 0.009302870886439376\n",
      "regulation : 0.008105892834487346\n",
      "brake : 0.007738428284822817\n",
      "rule : 0.006814332639663208\n",
      "make : 0.0066215506193103195\n",
      "would : 0.0065813934167291074\n",
      "like : 0.006260418724992104\n",
      "railroad : 0.006026254068120426\n",
      "year : 0.005842938838686263\n",
      "derailment : 0.005839382265900528\n",
      "accident : 0.00567860726893937\n",
      "new : 0.005491509162680534\n",
      "cause : 0.004876663188700848\n",
      "ntsb : 0.004615220286816077\n",
      "happen : 0.004435757515635707\n",
      "buttigieg : 0.004175798070820346\n",
      "right : 0.004164262724009133\n",
      "\n",
      "\n",
      "\n",
      "--------------------------------------------------------------------------------\n",
      "Number of topics: 6\n",
      "\n",
      "Displaying the top 20 words per topic and their probabilities within the topic...\n",
      "\n",
      "[Topic 0]\n",
      "ceo : 0.029934803022585877\n",
      "toxic : 0.024509954121365404\n",
      "resident : 0.014631826062639419\n",
      "via : 0.01459418509473152\n",
      "senate : 0.012351306529148174\n",
      "congress : 0.01123495862495429\n",
      "tell : 0.01117980198456287\n",
      "rail : 0.010344488712771362\n",
      "worker : 0.009880603439935067\n",
      "demand : 0.007582947271359503\n",
      "say : 0.007429311901228931\n",
      "hour : 0.007304603436803837\n",
      "shaw : 0.006962922065620949\n",
      "alan : 0.0069533515179600195\n",
      "pay : 0.006774127756902931\n",
      "chemical : 0.006617883194274048\n",
      "000 : 0.006528791563082372\n",
      "alabama : 0.006389362624522756\n",
      "epa : 0.006349796834903962\n",
      "testifies : 0.0062856339368402864\n",
      "\n",
      "[Topic 1]\n",
      "derail : 0.04697313178662796\n",
      "another : 0.03782512567797534\n",
      "car : 0.03128821785332865\n",
      "hazardous : 0.020827774987104208\n",
      "derails : 0.020604929459027463\n",
      "material : 0.016815439652684405\n",
      "springfield : 0.014880866567215961\n",
      "say : 0.013822527190265499\n",
      "20 : 0.013153938085277933\n",
      "company : 0.011986124058506256\n",
      "cargo : 0.010085116823655812\n",
      "freight : 0.010056686516665395\n",
      "carry : 0.010043194629424398\n",
      "place : 0.009405869397579373\n",
      "alabama : 0.00903896294072756\n",
      "county : 0.00897418332782073\n",
      "month : 0.008567927067156818\n",
      "one : 0.007773158371983876\n",
      "second : 0.00776966025866095\n",
      "shelter : 0.007311133895271511\n",
      "\n",
      "[Topic 2]\n",
      "toxic : 0.02416518176141444\n",
      "visit : 0.01466529507849081\n",
      "say : 0.011823379058092392\n",
      "resident : 0.01092977444083954\n",
      "biden : 0.01047557928648287\n",
      "site : 0.009556351121848054\n",
      "federal : 0.008915631700886904\n",
      "town : 0.008451327936817502\n",
      "response : 0.0084293957983874\n",
      "transportation : 0.008078126362458825\n",
      "chemical : 0.007970442462984848\n",
      "buttigieg : 0.007933385254468359\n",
      "disaster : 0.0073999438129481515\n",
      "week : 0.007309123765483458\n",
      "state : 0.007112453608177943\n",
      "safety : 0.007010455152008537\n",
      "dewine : 0.006980621599878736\n",
      "follow : 0.006786861119926392\n",
      "pete : 0.006649608946772285\n",
      "trump : 0.006550273904850106\n",
      "\n",
      "[Topic 3]\n",
      "trump : 0.0231224882771121\n",
      "biden : 0.013814993523489569\n",
      "people : 0.011720680860625382\n",
      "go : 0.00970670297774062\n",
      "get : 0.008110643208959616\n",
      "regulation : 0.008091418827291438\n",
      "need : 0.006753943695487108\n",
      "disaster : 0.00655709445582949\n",
      "would : 0.006380761200950069\n",
      "say : 0.0059863584149820355\n",
      "gop : 0.005916404019189781\n",
      "like : 0.005872338072893928\n",
      "oh : 0.0056962201440909094\n",
      "blame : 0.005648362616070565\n",
      "help : 0.005281466607518711\n",
      "know : 0.0050966197426840715\n",
      "pete : 0.004968176329429738\n",
      "buttigieg : 0.004912142550780366\n",
      "back : 0.004856501906785538\n",
      "one : 0.004783855992950435\n",
      "\n",
      "[Topic 4]\n",
      "safety : 0.02159338367191896\n",
      "rail : 0.011307717134621384\n",
      "disaster : 0.009704355669461722\n",
      "brake : 0.007828791430280743\n",
      "new : 0.007749495521774085\n",
      "rule : 0.007743688965011631\n",
      "trump : 0.007687547640640024\n",
      "railroad : 0.007233208275892477\n",
      "year : 0.006923354274393007\n",
      "make : 0.006652673066922383\n",
      "ntsb : 0.006252759162034284\n",
      "accident : 0.005903207387322961\n",
      "post : 0.005819782094199039\n",
      "would : 0.005640615145310444\n",
      "regulation : 0.005248280811755987\n",
      "like : 0.005203991799272645\n",
      "right : 0.004929012877081026\n",
      "industry : 0.004874703924421628\n",
      "derailment : 0.004657656268054999\n",
      "buttigieg : 0.004537706051506622\n",
      "\n",
      "[Topic 5]\n",
      "chemical : 0.03158453854775816\n",
      "water : 0.018023257187170353\n",
      "epa : 0.014796823019741405\n",
      "toxic : 0.012545060804001683\n",
      "report : 0.009781520257813944\n",
      "health : 0.0093299704724856\n",
      "air : 0.009313319456745755\n",
      "say : 0.009064748422328956\n",
      "chloride : 0.00831175454753678\n",
      "burn : 0.008248121634297074\n",
      "release : 0.008164094317679177\n",
      "vinyl : 0.007671885747307093\n",
      "resident : 0.007168548182086289\n",
      "public : 0.007052544805483708\n",
      "test : 0.006733021742729114\n",
      "order : 0.006379629014678323\n",
      "north : 0.0061313869994422615\n",
      "river : 0.0061046101843074746\n",
      "carolina : 0.0058300818846806135\n",
      "concern : 0.005732325667197565\n",
      "\n",
      "\n",
      "\n",
      "--------------------------------------------------------------------------------\n",
      "Number of topics: 7\n",
      "\n",
      "Displaying the top 20 words per topic and their probabilities within the topic...\n",
      "\n",
      "[Topic 0]\n",
      "ceo : 0.034073432440240206\n",
      "toxic : 0.01885519319050218\n",
      "rail : 0.01579399347884362\n",
      "via : 0.015501236254538137\n",
      "congress : 0.014556779172124511\n",
      "senate : 0.014254845210108901\n",
      "worker : 0.012162868737975382\n",
      "tell : 0.010860056584937093\n",
      "hour : 0.009121934789822915\n",
      "demand : 0.008117677573543666\n",
      "pay : 0.008060734786215695\n",
      "alabama : 0.007968905376933068\n",
      "testifies : 0.007898511616934327\n",
      "testify : 0.007286357026094422\n",
      "alan : 0.006829603419460747\n",
      "shaw : 0.006673310417663819\n",
      "company : 0.0064513084952708116\n",
      "crash : 0.00636805573691005\n",
      "us : 0.0062629759560102706\n",
      "sign : 0.00607812573168082\n",
      "\n",
      "[Topic 1]\n",
      "derail : 0.050468051910027636\n",
      "another : 0.042656624828051055\n",
      "car : 0.03358633545043437\n",
      "hazardous : 0.02402020280051192\n",
      "derails : 0.02303123814563349\n",
      "material : 0.02100708644729808\n",
      "springfield : 0.01679678575611248\n",
      "say : 0.01510643601613701\n",
      "20 : 0.01484715965738732\n",
      "company : 0.012822302641722662\n",
      "cargo : 0.011380712269280517\n",
      "place : 0.010653638907998619\n",
      "alabama : 0.010252643011529408\n",
      "freight : 0.010126350640699689\n",
      "carry : 0.010107130505322776\n",
      "month : 0.00915660208108005\n",
      "county : 0.009108571732008339\n",
      "second : 0.008970189457804886\n",
      "shelter : 0.008252357176971944\n",
      "one : 0.008190511785534356\n",
      "\n",
      "[Topic 2]\n",
      "toxic : 0.025850832589100113\n",
      "resident : 0.01432216594788541\n",
      "say : 0.012899943646961181\n",
      "chemical : 0.012738983548372895\n",
      "visit : 0.011094931145207898\n",
      "town : 0.009128459766782039\n",
      "site : 0.00873922321224486\n",
      "safety : 0.008596990061463947\n",
      "federal : 0.008545488358379942\n",
      "response : 0.008291735797711622\n",
      "transportation : 0.007933694919707784\n",
      "week : 0.007917454260449546\n",
      "environmental : 0.007778714189999576\n",
      "month : 0.00740435810943385\n",
      "epa : 0.0071600071948448914\n",
      "disaster : 0.007028584115487032\n",
      "buttigieg : 0.0068600825701268745\n",
      "state : 0.006663720589334577\n",
      "sue : 0.006293688458211114\n",
      "follow : 0.006162253452179212\n",
      "\n",
      "[Topic 3]\n",
      "trump : 0.024832320823816628\n",
      "biden : 0.013326611390051504\n",
      "people : 0.011315294793812675\n",
      "would : 0.010029795982648578\n",
      "go : 0.009247956987775764\n",
      "regulation : 0.00884122288619135\n",
      "buttigieg : 0.007790841713780097\n",
      "pete : 0.007207984377754399\n",
      "say : 0.007091129305210593\n",
      "get : 0.006993858616370607\n",
      "brake : 0.006989910271114225\n",
      "blame : 0.0069089372283666845\n",
      "disaster : 0.006389249592099461\n",
      "need : 0.006374046679736046\n",
      "oh : 0.006267543543466257\n",
      "rule : 0.0061874215814019615\n",
      "republican : 0.005141663499312294\n",
      "help : 0.005051475625186332\n",
      "back : 0.0049932591312315325\n",
      "even : 0.004938192927650618\n",
      "\n",
      "[Topic 4]\n",
      "safety : 0.020630440273324318\n",
      "disaster : 0.010070177267103764\n",
      "rail : 0.009473485291577996\n",
      "make : 0.008804842046200804\n",
      "year : 0.008100916059768131\n",
      "railroad : 0.007307417684129275\n",
      "accident : 0.006503454272221553\n",
      "new : 0.006440561208150915\n",
      "derailment : 0.0062278321075233956\n",
      "right : 0.006174650092630047\n",
      "trump : 0.006127153866882384\n",
      "like : 0.005873947708597246\n",
      "happen : 0.0058381278537337645\n",
      "post : 0.005707381586067502\n",
      "rule : 0.005358039669401162\n",
      "white : 0.005346148443846392\n",
      "profit : 0.0049616565736584975\n",
      "every : 0.004823392589477526\n",
      "regulation : 0.00478457556758731\n",
      "would : 0.0046151808056909965\n",
      "\n",
      "[Topic 5]\n",
      "chemical : 0.03343748621242268\n",
      "water : 0.016988971352351487\n",
      "toxic : 0.013509458122921768\n",
      "report : 0.012259865352685946\n",
      "resident : 0.009558116405639453\n",
      "chloride : 0.009535622883117436\n",
      "health : 0.00912368846695434\n",
      "burn : 0.009077837351024373\n",
      "release : 0.008884588882585668\n",
      "vinyl : 0.008801970299581314\n",
      "air : 0.008207276231859573\n",
      "say : 0.008111819648918264\n",
      "public : 0.00727251272393695\n",
      "north : 0.007034110031199187\n",
      "river : 0.0070027441577046575\n",
      "carolina : 0.006701248477890141\n",
      "derail : 0.0059477694960602765\n",
      "animal : 0.005665099897801638\n",
      "fire : 0.005638819480376162\n",
      "spill : 0.005467612300203774\n",
      "\n",
      "[Topic 6]\n",
      "epa : 0.017381298163888705\n",
      "biden : 0.014030811297885982\n",
      "trump : 0.011599970062039474\n",
      "toxic : 0.011217699570396525\n",
      "visit : 0.010032467157317048\n",
      "waste : 0.009492403778997299\n",
      "clean : 0.009490333449629722\n",
      "kill : 0.009211607413325025\n",
      "gop : 0.008965003154355848\n",
      "news : 0.00799692212450804\n",
      "order : 0.007609441000759926\n",
      "get : 0.007582992990152742\n",
      "pay : 0.007482925935007916\n",
      "truck : 0.007218383980016027\n",
      "dump : 0.006970581106055291\n",
      "say : 0.006814582610904489\n",
      "site : 0.006762454124790967\n",
      "go : 0.006271006623277019\n",
      "president : 0.006228758006110148\n",
      "hold : 0.0062063526219695\n",
      "\n",
      "\n",
      "\n",
      "--------------------------------------------------------------------------------\n",
      "Number of topics: 8\n",
      "\n",
      "Displaying the top 20 words per topic and their probabilities within the topic...\n",
      "\n",
      "[Topic 0]\n",
      "toxic : 0.024032008743821564\n",
      "rail : 0.01715199168139829\n",
      "via : 0.015426933449308506\n",
      "tell : 0.012244900452080846\n",
      "worker : 0.011489120473297832\n",
      "demand : 0.010837609898060282\n",
      "resident : 0.0103182651827192\n",
      "pay : 0.009897174227669624\n",
      "crash : 0.009476549145434322\n",
      "sign : 0.008419204512631725\n",
      "us : 0.007645136431469387\n",
      "million : 0.007055771959296179\n",
      "industry : 0.006480828465288643\n",
      "change : 0.006352791956915977\n",
      "ceo : 0.006143458778175073\n",
      "chemical : 0.006073928872568855\n",
      "company : 0.005980311017444503\n",
      "help : 0.005744039897151764\n",
      "say : 0.005437862761467473\n",
      "petition : 0.005392179462293446\n",
      "\n",
      "[Topic 1]\n",
      "derail : 0.05138115456884859\n",
      "another : 0.045296581162985954\n",
      "derails : 0.029545194388909336\n",
      "car : 0.02910909830723071\n",
      "hazardous : 0.022347117991603823\n",
      "material : 0.019331966077253456\n",
      "alabama : 0.017970725526531235\n",
      "springfield : 0.017830755032350758\n",
      "ceo : 0.016923586652158373\n",
      "20 : 0.015747972554103006\n",
      "say : 0.01500506410960579\n",
      "company : 0.01344485558526424\n",
      "place : 0.011107918645005205\n",
      "month : 0.009828886490834984\n",
      "congress : 0.009503887188596816\n",
      "second : 0.009407413668581992\n",
      "county : 0.009397726040723305\n",
      "freight : 0.009369429484999\n",
      "cargo : 0.009043473738035615\n",
      "via : 0.008888545870149638\n",
      "\n",
      "[Topic 2]\n",
      "toxic : 0.03056203098692851\n",
      "chemical : 0.01599996585577415\n",
      "resident : 0.015380678666331565\n",
      "ceo : 0.013664989355376111\n",
      "say : 0.013128536134968298\n",
      "visit : 0.013119385938225687\n",
      "town : 0.009691602209395685\n",
      "week : 0.0093634118109344\n",
      "site : 0.009306193643674621\n",
      "month : 0.008550103933992756\n",
      "senate : 0.008533944297540282\n",
      "environmental : 0.008200090418433122\n",
      "epa : 0.008197986724199215\n",
      "disaster : 0.007234012790700236\n",
      "federal : 0.007185923997737526\n",
      "response : 0.007004152162266913\n",
      "state : 0.006724934538361504\n",
      "sue : 0.00663654998121167\n",
      "biden : 0.006464630407851535\n",
      "dewine : 0.006309541710497233\n",
      "\n",
      "[Topic 3]\n",
      "people : 0.017826538569041175\n",
      "water : 0.010098175193359161\n",
      "get : 0.010049303687808408\n",
      "trump : 0.009946120149752772\n",
      "go : 0.009772770285674364\n",
      "need : 0.009317411192260445\n",
      "oh : 0.008458165817489146\n",
      "biden : 0.008360127979523497\n",
      "help : 0.007874023883918904\n",
      "say : 0.00735181304193485\n",
      "disaster : 0.007307294882687198\n",
      "us : 0.0058773349990381115\n",
      "take : 0.005197254186531558\n",
      "like : 0.0051238604058900655\n",
      "know : 0.005004051950614929\n",
      "care : 0.004745374248249172\n",
      "think : 0.004658177518775134\n",
      "republican : 0.004576257727662112\n",
      "government : 0.004534654384946742\n",
      "please : 0.0044551999619370855\n",
      "\n",
      "[Topic 4]\n",
      "disaster : 0.012368698267631978\n",
      "year : 0.009187688161070096\n",
      "make : 0.009001666319433301\n",
      "accident : 0.008781050385400568\n",
      "new : 0.008446381679123134\n",
      "post : 0.008035225916443898\n",
      "happen : 0.007476444385396988\n",
      "derailment : 0.007396076695344543\n",
      "safety : 0.0072479737265171585\n",
      "right : 0.007124378887895119\n",
      "white : 0.006883778486116192\n",
      "like : 0.005952605909315921\n",
      "railroad : 0.005616905284800786\n",
      "see : 0.005349896154464564\n",
      "washington : 0.005347961394466335\n",
      "every : 0.005282344607236937\n",
      "rail : 0.005222135860581856\n",
      "time : 0.00504866786176244\n",
      "include : 0.005027741193923218\n",
      "look : 0.004930673123266757\n",
      "\n",
      "[Topic 5]\n",
      "chemical : 0.03542888233455271\n",
      "water : 0.017306934863369858\n",
      "report : 0.015077496593089611\n",
      "chloride : 0.011973386965715059\n",
      "vinyl : 0.011051551205439245\n",
      "toxic : 0.010871011137752983\n",
      "health : 0.010591672664451011\n",
      "release : 0.010331408133550556\n",
      "burn : 0.009488440815683466\n",
      "public : 0.009255192757254033\n",
      "north : 0.008832541820514971\n",
      "river : 0.008783286437234625\n",
      "air : 0.008683003670873863\n",
      "carolina : 0.008414570499293363\n",
      "resident : 0.007136214837436326\n",
      "say : 0.006766182791172345\n",
      "danger : 0.006626582439218272\n",
      "animal : 0.0065589305507995676\n",
      "risk : 0.006152353429616949\n",
      "concern : 0.006101449305868944\n",
      "\n",
      "[Topic 6]\n",
      "epa : 0.027296828749977436\n",
      "clean : 0.014540066354292105\n",
      "waste : 0.013431201471891885\n",
      "toxic : 0.012303266993996137\n",
      "site : 0.011943865827381816\n",
      "kill : 0.011433601400738467\n",
      "order : 0.011350333529174621\n",
      "hold : 0.009942130225438979\n",
      "gop : 0.009350123484727283\n",
      "truck : 0.009257266024279951\n",
      "dump : 0.008939193549818994\n",
      "say : 0.008841461087676968\n",
      "pay : 0.008781356870436\n",
      "news : 0.007636980924210868\n",
      "biden : 0.007570584002540986\n",
      "cleveland : 0.007412032760433043\n",
      "resident : 0.00738006914546466\n",
      "crash : 0.007247970561497569\n",
      "accountable : 0.007184750576729043\n",
      "sound : 0.0065161804425496106\n",
      "\n",
      "[Topic 7]\n",
      "trump : 0.03031889591442392\n",
      "safety : 0.026112260045645482\n",
      "buttigieg : 0.018305891953167914\n",
      "regulation : 0.01528911177494026\n",
      "pete : 0.014759042362653714\n",
      "biden : 0.013832517708402148\n",
      "rule : 0.013242812808359686\n",
      "would : 0.012400290332253613\n",
      "transportation : 0.011915232488499678\n",
      "brake : 0.011332707768953974\n",
      "ntsb : 0.009328215555915832\n",
      "blame : 0.008928191153563926\n",
      "administration : 0.00828249981723637\n",
      "visit : 0.006909781423880328\n",
      "say : 0.006601818759113528\n",
      "secretary : 0.00648163061744127\n",
      "rail : 0.006277375377993683\n",
      "train : 0.006196145744565951\n",
      "cause : 0.005917888473999778\n",
      "back : 0.005607398731969559\n",
      "\n",
      "\n",
      "\n",
      "--------------------------------------------------------------------------------\n",
      "Number of topics: 9\n",
      "\n",
      "Displaying the top 20 words per topic and their probabilities within the topic...\n",
      "\n",
      "[Topic 0]\n",
      "toxic : 0.02442116167971088\n",
      "rail : 0.01609283864847687\n",
      "worker : 0.012309179750523197\n",
      "via : 0.012087110813110312\n",
      "demand : 0.010653990257738883\n",
      "chemical : 0.010203027837953975\n",
      "pay : 0.00982168180604219\n",
      "resident : 0.009399429549152141\n",
      "tell : 0.009260377581946515\n",
      "000 : 0.009163607377431814\n",
      "crash : 0.008420440621614952\n",
      "sign : 0.008002663921689837\n",
      "million : 0.007287269467478594\n",
      "us : 0.007241278262500913\n",
      "industry : 0.006569080966806988\n",
      "say : 0.00635608675203102\n",
      "change : 0.006163527679606732\n",
      "disaster : 0.005896830769122026\n",
      "fire : 0.005863120479431989\n",
      "get : 0.005585724805242758\n",
      "\n",
      "[Topic 1]\n",
      "derail : 0.048316998426246136\n",
      "another : 0.04068526307219649\n",
      "car : 0.035634665831024426\n",
      "hazardous : 0.029094575088263394\n",
      "material : 0.02423429339081334\n",
      "springfield : 0.02033726806087641\n",
      "derails : 0.020082235945908147\n",
      "say : 0.018878003492676772\n",
      "20 : 0.017981337182360464\n",
      "place : 0.013205513315607011\n",
      "company : 0.012276541497887242\n",
      "carry : 0.012039398302459491\n",
      "freight : 0.01080437966815631\n",
      "cargo : 0.010490016322049859\n",
      "month : 0.010355061991795143\n",
      "second : 0.01015285143271547\n",
      "shelter : 0.009994259538288426\n",
      "one : 0.009420023326261285\n",
      "near : 0.00925674761472866\n",
      "official : 0.008651199011540187\n",
      "\n",
      "[Topic 2]\n",
      "toxic : 0.03751016410853848\n",
      "chemical : 0.022140355918424972\n",
      "resident : 0.021276343508723584\n",
      "visit : 0.014185475894670417\n",
      "say : 0.013897244668738871\n",
      "town : 0.011776850623906062\n",
      "epa : 0.011483865769033257\n",
      "site : 0.011447780774208043\n",
      "environmental : 0.01090351969056483\n",
      "week : 0.010198926910692262\n",
      "health : 0.008188077504051752\n",
      "test : 0.008145712126102858\n",
      "federal : 0.008054257643991114\n",
      "air : 0.007782135286388289\n",
      "state : 0.007600755686705425\n",
      "sue : 0.007488438541841901\n",
      "release : 0.00734115619960314\n",
      "concern : 0.007294084716724386\n",
      "disaster : 0.00724478237065716\n",
      "month : 0.007238463523305889\n",
      "\n",
      "[Topic 3]\n",
      "people : 0.018379926908654212\n",
      "water : 0.011100789922902966\n",
      "go : 0.010256922240443334\n",
      "get : 0.010053938787286856\n",
      "need : 0.009912002470233564\n",
      "trump : 0.009581720141465386\n",
      "biden : 0.008704342612048489\n",
      "oh : 0.008625005593257214\n",
      "help : 0.008001740973276994\n",
      "say : 0.007986216833378246\n",
      "disaster : 0.007698669573184507\n",
      "us : 0.00657760128527527\n",
      "dewine : 0.005790492765293581\n",
      "know : 0.004950385108071338\n",
      "republican : 0.0049253831365063325\n",
      "take : 0.004921610620511008\n",
      "like : 0.004875539722967148\n",
      "care : 0.004834750748978326\n",
      "think : 0.004822718776279325\n",
      "government : 0.004463102798470877\n",
      "\n",
      "[Topic 4]\n",
      "disaster : 0.011041961215299703\n",
      "year : 0.010367938655863194\n",
      "new : 0.008308463544131194\n",
      "happen : 0.008193080967646897\n",
      "post : 0.00807240292559575\n",
      "make : 0.007884214957141027\n",
      "right : 0.00752177102367098\n",
      "derailment : 0.00742727127795962\n",
      "white : 0.006823421215309876\n",
      "accident : 0.0067833362321265646\n",
      "see : 0.006400000311024058\n",
      "like : 0.006139042150976473\n",
      "time : 0.005941446788866935\n",
      "every : 0.005728088445440442\n",
      "railroad : 0.005702586270309726\n",
      "check : 0.005628206314669109\n",
      "look : 0.005481830136136766\n",
      "article : 0.0054572463462039264\n",
      "washington : 0.005205525133920705\n",
      "safety : 0.004869095453893451\n",
      "\n",
      "[Topic 5]\n",
      "chemical : 0.032443491345825075\n",
      "report : 0.017718503741637352\n",
      "chloride : 0.015186385819687166\n",
      "water : 0.014929133515349129\n",
      "vinyl : 0.014013942362409932\n",
      "public : 0.011860803545846189\n",
      "north : 0.011212846330012528\n",
      "burn : 0.011162624642173807\n",
      "river : 0.011116774812690485\n",
      "carolina : 0.010682228439757833\n",
      "health : 0.010566500111455225\n",
      "release : 0.009695590969077813\n",
      "danger : 0.00841236373594791\n",
      "risk : 0.007227349610882498\n",
      "derail : 0.006343999247707534\n",
      "spill : 0.0057083068580096085\n",
      "derails : 0.0055353460205591265\n",
      "contaminate : 0.005499585846718098\n",
      "say : 0.005268367797261703\n",
      "dead : 0.005031855578642832\n",
      "\n",
      "[Topic 6]\n",
      "epa : 0.028614589750967267\n",
      "clean : 0.01461239780395882\n",
      "site : 0.013957181481471244\n",
      "waste : 0.013461358909813098\n",
      "toxic : 0.012452191716890992\n",
      "order : 0.010934372800230067\n",
      "gop : 0.010077503304155085\n",
      "truck : 0.009922735838512197\n",
      "dump : 0.009582076047534267\n",
      "hold : 0.009527479395838916\n",
      "pay : 0.009181262894920567\n",
      "kill : 0.008696315662137345\n",
      "biden : 0.008207389542491542\n",
      "crash : 0.00817934153245442\n",
      "say : 0.008125400152893382\n",
      "cleveland : 0.00794549532149039\n",
      "news : 0.007703477882903329\n",
      "accountable : 0.007269829362378015\n",
      "sound : 0.006950119971491376\n",
      "via : 0.006940964143849914\n",
      "\n",
      "[Topic 7]\n",
      "trump : 0.032043900937458146\n",
      "safety : 0.0277187712692372\n",
      "buttigieg : 0.019679780984933413\n",
      "regulation : 0.01656140174884174\n",
      "pete : 0.0157736757499274\n",
      "rule : 0.014163534004548775\n",
      "biden : 0.013640701221876085\n",
      "would : 0.01331002379189234\n",
      "transportation : 0.012768647368555734\n",
      "brake : 0.0121432414516666\n",
      "ntsb : 0.009447688441838294\n",
      "blame : 0.008937344116950175\n",
      "administration : 0.008722559766313571\n",
      "visit : 0.007008399196482691\n",
      "secretary : 0.006945174705019684\n",
      "rail : 0.006513677914692406\n",
      "train : 0.006387319184068555\n",
      "say : 0.006347230844680225\n",
      "cause : 0.006006155776466764\n",
      "back : 0.005828286792086151\n",
      "\n",
      "[Topic 8]\n",
      "ceo : 0.058373718474390525\n",
      "alabama : 0.02847158811198495\n",
      "senate : 0.022297113338400423\n",
      "congress : 0.022021998427283543\n",
      "derails : 0.018366928632633065\n",
      "derail : 0.018111529522838295\n",
      "another : 0.014853811065511098\n",
      "hour : 0.014572524209123949\n",
      "shaw : 0.013981510537685546\n",
      "alan : 0.012806939743196563\n",
      "safety : 0.011530956218235192\n",
      "via : 0.011348837424547535\n",
      "testifies : 0.011130754511042493\n",
      "testify : 0.011032155078296055\n",
      "hearing : 0.00984896419884945\n",
      "news : 0.009830823688098596\n",
      "company : 0.009699170118161621\n",
      "county : 0.007611317021813752\n",
      "month : 0.007476974188457714\n",
      "hear : 0.007361243936039862\n",
      "\n",
      "\n",
      "\n"
     ]
    }
   ],
   "source": [
    "k_values = range(2, 10)\n",
    "avg_coherences = []\n",
    "avg_num_unique_words = []\n",
    "\n",
    "for k in k_values:\n",
    "    lda_candidate = LatentDirichletAllocation(n_components=k, random_state=0)\n",
    "    lda_candidate.fit(tf)\n",
    "    topic_word_distributions = np.array([row / row.sum() for row in lda_candidate.components_])\n",
    "    print('-' * 80)\n",
    "    print('Number of topics:', k)\n",
    "    print()\n",
    "    print_top_words(topic_word_distributions, num_top_words, tf_vectorizer)\n",
    "    print()\n",
    "    print()\n",
    "    \n",
    "    avg_coherences.append(compute_average_coherence(topic_word_distributions, num_top_words, tf_vectorizer, False))\n",
    "    avg_num_unique_words.append(compute_average_num_unique_words(topic_word_distributions, num_top_words, tf_vectorizer, False))"
   ]
  },
  {
   "cell_type": "code",
   "execution_count": 39,
   "metadata": {},
   "outputs": [
    {
     "data": {
      "text/plain": [
       "Text(0, 0.5, 'Average coherence')"
      ]
     },
     "execution_count": 39,
     "metadata": {},
     "output_type": "execute_result"
    },
    {
     "data": {
      "image/png": "[encoded data removed]",
      "text/plain": [
       "<Figure size 640x480 with 1 Axes>"
      ]
     },
     "metadata": {},
     "output_type": "display_data"
    }
   ],
   "source": [
    "plt.plot(k_values, avg_coherences)\n",
    "plt.xlabel('Number of topics')\n",
    "plt.ylabel('Average coherence')\n",
    "\n",
    "# For differnt number of topics, I fitted a different LDA\n",
    "\n"
   ]
  },
  {
   "cell_type": "code",
   "execution_count": 41,
   "metadata": {},
   "outputs": [
    {
     "data": {
      "text/plain": [
       "Text(0, 0.5, 'Average number of unique words')"
      ]
     },
     "execution_count": 41,
     "metadata": {},
     "output_type": "execute_result"
    },
    {
     "data": {
      "image/png": "[encoded data removed]",
      "text/plain": [
       "<Figure size 640x480 with 1 Axes>"
      ]
     },
     "metadata": {},
     "output_type": "display_data"
    }
   ],
   "source": [
    "plt.plot(k_values, avg_num_unique_words)\n",
    "plt.xlabel('Number of topics')\n",
    "plt.ylabel('Average number of unique words')\n",
    "\n",
    "# For different topic models, the average number of unique words\n",
    "# We want coherence to be high and unique words to be high\n",
    "\n",
    "# Number of topic = 2, gets me high coherence and hogh unique words. BUT, for model 2, there are 2 topics: garbage and not garbage!\n",
    "# that doesnt help a lot\n",
    "\n",
    "# So, you want to tolerate a lower value for one of the metrics, but look at the actual topics to interpret what is going on\n",
    "# If we see resutlts of 4, starts to make more ssense but feels like still low\n",
    "# go to 5, starts to make a bit more sense\n",
    "\n"
   ]
  },
  {
   "attachments": {},
   "cell_type": "markdown",
   "metadata": {},
   "source": [
    "# References\n",
    "Evaluate Topic Models: Latent Dirichlet Allocation (LDA), available at https://towardsdatascience.com/evaluate-topic-model-in-python-latent-dirichlet-allocation-lda-7d57484bb5d0"
   ]
  },
  {
   "cell_type": "code",
   "execution_count": 25,
   "metadata": {},
   "outputs": [
    {
     "name": "stderr",
     "output_type": "stream",
     "text": [
      "/Users/ribarragi/miniconda3/envs/Intro_AI/lib/python3.9/site-packages/tqdm/auto.py:21: TqdmWarning: IProgress not found. Please update jupyter and ipywidgets. See https://ipywidgets.readthedocs.io/en/stable/user_install.html\n",
      "  from .autonotebook import tqdm as notebook_tqdm\n"
     ]
    }
   ],
   "source": [
    "import re\n",
    "import numpy as np\n",
    "import pandas as pd\n",
    "from pprint import pprint\n",
    "\n",
    "# Gensim\n",
    "import gensim\n",
    "import gensim.corpora as corpora\n",
    "from gensim.utils import simple_preprocess\n",
    "from gensim.models import CoherenceModel\n",
    "\n",
    "# spacy for lemmatization\n",
    "import spacy\n",
    "\n",
    "# Plotting tools\n",
    "import pyLDAvis\n",
    "import pyLDAvis.gensim_models \n",
    "import matplotlib.pyplot as plt\n",
    "%matplotlib inline\n",
    "\n",
    "import warnings\n",
    "warnings.filterwarnings(\"ignore\",category=DeprecationWarning)"
   ]
  },
  {
   "cell_type": "code",
   "execution_count": 65,
   "metadata": {},
   "outputs": [
    {
     "name": "stdout",
     "output_type": "stream",
     "text": [
      "[['tristansnell', 'get', 'rid', 'safety', 'rule', 'get', 'get', 'rid', 'bank', 'safety', 'rule', 'get', 'svb', 'signature']]\n"
     ]
    }
   ],
   "source": [
    "def sent_to_words(sentences):\n",
    "    for sentence in sentences:\n",
    "        yield(gensim.utils.simple_preprocess(str(sentence), deacc=True))  # deacc=True removes punctuations\n",
    "\n",
    "data_words = list(sent_to_words(sample_data))\n",
    "\n",
    "print(data_words[:1])"
   ]
  },
  {
   "cell_type": "code",
   "execution_count": 66,
   "metadata": {},
   "outputs": [
    {
     "name": "stdout",
     "output_type": "stream",
     "text": [
      "[[(0, 1), (1, 4), (2, 2), (3, 2), (4, 2), (5, 1), (6, 1), (7, 1)]]\n"
     ]
    }
   ],
   "source": [
    "data_lemmatized = data_words\n",
    "# Create Dictionary\n",
    "id2word = corpora.Dictionary(data_lemmatized)\n",
    "\n",
    "# Create Corpus\n",
    "texts = data_lemmatized\n",
    "\n",
    "# Term Document Frequency\n",
    "corpus = [id2word.doc2bow(text) for text in texts]\n",
    "\n",
    "# View\n",
    "print(corpus[:1])"
   ]
  },
  {
   "cell_type": "code",
   "execution_count": 67,
   "metadata": {},
   "outputs": [],
   "source": [
    "# Build LDA model\n",
    "lda_model = gensim.models.ldamodel.LdaModel(corpus=corpus,\n",
    "                                           id2word=id2word,\n",
    "                                           num_topics=4, \n",
    "                                           random_state=100,\n",
    "                                           update_every=1,\n",
    "                                           chunksize=100,\n",
    "                                           passes=10,\n",
    "                                           alpha='auto',\n",
    "                                           per_word_topics=True)"
   ]
  },
  {
   "cell_type": "code",
   "execution_count": 68,
   "metadata": {},
   "outputs": [
    {
     "name": "stdout",
     "output_type": "stream",
     "text": [
      "[(0,\n",
      "  '0.060*\"north\" + 0.039*\"danger\" + 0.022*\"accident\" + 0.019*\"de\" + '\n",
      "  '0.016*\"fire\" + 0.015*\"show\" + 0.013*\"last\" + 0.013*\"fox\" + 0.012*\"many\" + '\n",
      "  '0.012*\"mile\"'),\n",
      " (1,\n",
      "  '0.021*\"another\" + 0.020*\"derails\" + 0.018*\"say\" + 0.016*\"toxic\" + '\n",
      "  '0.016*\"report\" + 0.012*\"company\" + 0.012*\"chemical\" + 0.011*\"epa\" + '\n",
      "  '0.011*\"public\" + 0.010*\"resident\"'),\n",
      " (2,\n",
      "  '0.062*\"derail\" + 0.037*\"carolina\" + 0.034*\"car\" + 0.029*\"via\" + '\n",
      "  '0.020*\"cargo\" + 0.019*\"springfield\" + 0.017*\"time\" + 0.016*\"place\" + '\n",
      "  '0.016*\"sign\" + 0.016*\"news\"'),\n",
      " (3,\n",
      "  '0.027*\"trump\" + 0.024*\"safety\" + 0.019*\"would\" + 0.016*\"biden\" + '\n",
      "  '0.015*\"rule\" + 0.015*\"regulation\" + 0.014*\"rail\" + 0.012*\"brake\" + '\n",
      "  '0.012*\"go\" + 0.010*\"apply\"')]\n"
     ]
    }
   ],
   "source": [
    "# Print the Keyword in the 10 topics\n",
    "pprint(lda_model.print_topics())\n",
    "doc_lda = lda_model[corpus]"
   ]
  },
  {
   "cell_type": "code",
   "execution_count": 69,
   "metadata": {},
   "outputs": [
    {
     "name": "stdout",
     "output_type": "stream",
     "text": [
      "\n",
      "Perplexity:  -8.359154475447044\n",
      "\n",
      "Coherence Score:  0.36541159788559885\n"
     ]
    }
   ],
   "source": [
    "# Compute Perplexity\n",
    "print('\\nPerplexity: ', lda_model.log_perplexity(corpus))  # a measure of how good the model is. lower the better.\n",
    "\n",
    "# Compute Coherence Score\n",
    "coherence_model_lda = CoherenceModel(model=lda_model, texts=data_lemmatized, dictionary=id2word, coherence='c_v')\n",
    "coherence_lda = coherence_model_lda.get_coherence()\n",
    "print('\\nCoherence Score: ', coherence_lda)"
   ]
  },
  {
   "cell_type": "code",
   "execution_count": 74,
   "metadata": {},
   "outputs": [
    {
     "data": {
      "text/plain": [
       "<gensim.models.ldamodel.LdaModel at 0x28a9f2700>"
      ]
     },
     "execution_count": 74,
     "metadata": {},
     "output_type": "execute_result"
    }
   ],
   "source": [
    "lda_model"
   ]
  },
  {
   "cell_type": "code",
   "execution_count": 71,
   "metadata": {},
   "outputs": [
    {
     "name": "stderr",
     "output_type": "stream",
     "text": [
      "/Users/ribarragi/miniconda3/envs/Intro_AI/lib/python3.9/site-packages/pyLDAvis/_prepare.py:246: FutureWarning: In a future version of pandas all arguments of DataFrame.drop except for the argument 'labels' will be keyword-only.\n",
      "  default_term_info = default_term_info.sort_values(\n",
      "/Users/ribarragi/miniconda3/envs/Intro_AI/lib/python3.9/site-packages/joblib/backports.py:36: DeprecationWarning: distutils Version classes are deprecated. Use packaging.version instead.\n",
      "  if LooseVersion(np.__version__) < '1.13':\n",
      "/Users/ribarragi/miniconda3/envs/Intro_AI/lib/python3.9/site-packages/joblib/backports.py:36: DeprecationWarning: distutils Version classes are deprecated. Use packaging.version instead.\n",
      "  if LooseVersion(np.__version__) < '1.13':\n",
      "/Users/ribarragi/miniconda3/envs/Intro_AI/lib/python3.9/site-packages/joblib/backports.py:36: DeprecationWarning: distutils Version classes are deprecated. Use packaging.version instead.\n",
      "  if LooseVersion(np.__version__) < '1.13':\n",
      "/Users/ribarragi/miniconda3/envs/Intro_AI/lib/python3.9/site-packages/joblib/backports.py:36: DeprecationWarning: distutils Version classes are deprecated. Use packaging.version instead.\n",
      "  if LooseVersion(np.__version__) < '1.13':\n",
      "/Users/ribarragi/miniconda3/envs/Intro_AI/lib/python3.9/site-packages/joblib/backports.py:36: DeprecationWarning: distutils Version classes are deprecated. Use packaging.version instead.\n",
      "  if LooseVersion(np.__version__) < '1.13':\n",
      "/Users/ribarragi/miniconda3/envs/Intro_AI/lib/python3.9/site-packages/joblib/backports.py:36: DeprecationWarning: distutils Version classes are deprecated. Use packaging.version instead.\n",
      "  if LooseVersion(np.__version__) < '1.13':\n",
      "/Users/ribarragi/miniconda3/envs/Intro_AI/lib/python3.9/site-packages/setuptools/_distutils/version.py:346: DeprecationWarning: distutils Version classes are deprecated. Use packaging.version instead.\n",
      "  other = LooseVersion(other)\n",
      "/Users/ribarragi/miniconda3/envs/Intro_AI/lib/python3.9/site-packages/setuptools/_distutils/version.py:346: DeprecationWarning: distutils Version classes are deprecated. Use packaging.version instead.\n",
      "  other = LooseVersion(other)\n",
      "/Users/ribarragi/miniconda3/envs/Intro_AI/lib/python3.9/site-packages/setuptools/_distutils/version.py:346: DeprecationWarning: distutils Version classes are deprecated. Use packaging.version instead.\n",
      "  other = LooseVersion(other)\n",
      "/Users/ribarragi/miniconda3/envs/Intro_AI/lib/python3.9/site-packages/setuptools/_distutils/version.py:346: DeprecationWarning: distutils Version classes are deprecated. Use packaging.version instead.\n",
      "  other = LooseVersion(other)\n",
      "/Users/ribarragi/miniconda3/envs/Intro_AI/lib/python3.9/site-packages/joblib/backports.py:36: DeprecationWarning: distutils Version classes are deprecated. Use packaging.version instead.\n",
      "  if LooseVersion(np.__version__) < '1.13':\n",
      "/Users/ribarragi/miniconda3/envs/Intro_AI/lib/python3.9/site-packages/setuptools/_distutils/version.py:346: DeprecationWarning: distutils Version classes are deprecated. Use packaging.version instead.\n",
      "  other = LooseVersion(other)\n",
      "/Users/ribarragi/miniconda3/envs/Intro_AI/lib/python3.9/site-packages/joblib/backports.py:36: DeprecationWarning: distutils Version classes are deprecated. Use packaging.version instead.\n",
      "  if LooseVersion(np.__version__) < '1.13':\n",
      "/Users/ribarragi/miniconda3/envs/Intro_AI/lib/python3.9/site-packages/setuptools/_distutils/version.py:346: DeprecationWarning: distutils Version classes are deprecated. Use packaging.version instead.\n",
      "  other = LooseVersion(other)\n",
      "/Users/ribarragi/miniconda3/envs/Intro_AI/lib/python3.9/site-packages/joblib/backports.py:36: DeprecationWarning: distutils Version classes are deprecated. Use packaging.version instead.\n",
      "  if LooseVersion(np.__version__) < '1.13':\n",
      "/Users/ribarragi/miniconda3/envs/Intro_AI/lib/python3.9/site-packages/setuptools/_distutils/version.py:346: DeprecationWarning: distutils Version classes are deprecated. Use packaging.version instead.\n",
      "  other = LooseVersion(other)\n",
      "/Users/ribarragi/miniconda3/envs/Intro_AI/lib/python3.9/site-packages/setuptools/_distutils/version.py:346: DeprecationWarning: distutils Version classes are deprecated. Use packaging.version instead.\n",
      "  other = LooseVersion(other)\n",
      "/Users/ribarragi/miniconda3/envs/Intro_AI/lib/python3.9/site-packages/joblib/backports.py:36: DeprecationWarning: distutils Version classes are deprecated. Use packaging.version instead.\n",
      "  if LooseVersion(np.__version__) < '1.13':\n",
      "/Users/ribarragi/miniconda3/envs/Intro_AI/lib/python3.9/site-packages/setuptools/_distutils/version.py:346: DeprecationWarning: distutils Version classes are deprecated. Use packaging.version instead.\n",
      "  other = LooseVersion(other)\n",
      "/Users/ribarragi/miniconda3/envs/Intro_AI/lib/python3.9/site-packages/joblib/backports.py:36: DeprecationWarning: distutils Version classes are deprecated. Use packaging.version instead.\n",
      "  if LooseVersion(np.__version__) < '1.13':\n",
      "/Users/ribarragi/miniconda3/envs/Intro_AI/lib/python3.9/site-packages/setuptools/_distutils/version.py:346: DeprecationWarning: distutils Version classes are deprecated. Use packaging.version instead.\n",
      "  other = LooseVersion(other)\n",
      "/Users/ribarragi/miniconda3/envs/Intro_AI/lib/python3.9/site-packages/joblib/backports.py:36: DeprecationWarning: distutils Version classes are deprecated. Use packaging.version instead.\n",
      "  if LooseVersion(np.__version__) < '1.13':\n",
      "/Users/ribarragi/miniconda3/envs/Intro_AI/lib/python3.9/site-packages/setuptools/_distutils/version.py:346: DeprecationWarning: distutils Version classes are deprecated. Use packaging.version instead.\n",
      "  other = LooseVersion(other)\n",
      "/Users/ribarragi/miniconda3/envs/Intro_AI/lib/python3.9/site-packages/setuptools/_distutils/version.py:346: DeprecationWarning: distutils Version classes are deprecated. Use packaging.version instead.\n",
      "  other = LooseVersion(other)\n",
      "/Users/ribarragi/miniconda3/envs/Intro_AI/lib/python3.9/site-packages/joblib/backports.py:36: DeprecationWarning: distutils Version classes are deprecated. Use packaging.version instead.\n",
      "  if LooseVersion(np.__version__) < '1.13':\n",
      "/Users/ribarragi/miniconda3/envs/Intro_AI/lib/python3.9/site-packages/setuptools/_distutils/version.py:346: DeprecationWarning: distutils Version classes are deprecated. Use packaging.version instead.\n",
      "  other = LooseVersion(other)\n",
      "/Users/ribarragi/miniconda3/envs/Intro_AI/lib/python3.9/site-packages/joblib/backports.py:36: DeprecationWarning: distutils Version classes are deprecated. Use packaging.version instead.\n",
      "  if LooseVersion(np.__version__) < '1.13':\n",
      "/Users/ribarragi/miniconda3/envs/Intro_AI/lib/python3.9/site-packages/setuptools/_distutils/version.py:346: DeprecationWarning: distutils Version classes are deprecated. Use packaging.version instead.\n",
      "  other = LooseVersion(other)\n",
      "/Users/ribarragi/miniconda3/envs/Intro_AI/lib/python3.9/site-packages/joblib/backports.py:36: DeprecationWarning: distutils Version classes are deprecated. Use packaging.version instead.\n",
      "  if LooseVersion(np.__version__) < '1.13':\n",
      "/Users/ribarragi/miniconda3/envs/Intro_AI/lib/python3.9/site-packages/setuptools/_distutils/version.py:346: DeprecationWarning: distutils Version classes are deprecated. Use packaging.version instead.\n",
      "  other = LooseVersion(other)\n",
      "/Users/ribarragi/miniconda3/envs/Intro_AI/lib/python3.9/site-packages/joblib/backports.py:36: DeprecationWarning: distutils Version classes are deprecated. Use packaging.version instead.\n",
      "  if LooseVersion(np.__version__) < '1.13':\n",
      "/Users/ribarragi/miniconda3/envs/Intro_AI/lib/python3.9/site-packages/setuptools/_distutils/version.py:346: DeprecationWarning: distutils Version classes are deprecated. Use packaging.version instead.\n",
      "  other = LooseVersion(other)\n",
      "/Users/ribarragi/miniconda3/envs/Intro_AI/lib/python3.9/site-packages/joblib/backports.py:36: DeprecationWarning: distutils Version classes are deprecated. Use packaging.version instead.\n",
      "  if LooseVersion(np.__version__) < '1.13':\n",
      "/Users/ribarragi/miniconda3/envs/Intro_AI/lib/python3.9/site-packages/joblib/backports.py:36: DeprecationWarning: distutils Version classes are deprecated. Use packaging.version instead.\n",
      "  if LooseVersion(np.__version__) < '1.13':\n",
      "/Users/ribarragi/miniconda3/envs/Intro_AI/lib/python3.9/site-packages/setuptools/_distutils/version.py:346: DeprecationWarning: distutils Version classes are deprecated. Use packaging.version instead.\n",
      "  other = LooseVersion(other)\n",
      "/Users/ribarragi/miniconda3/envs/Intro_AI/lib/python3.9/site-packages/setuptools/_distutils/version.py:346: DeprecationWarning: distutils Version classes are deprecated. Use packaging.version instead.\n",
      "  other = LooseVersion(other)\n",
      "/Users/ribarragi/miniconda3/envs/Intro_AI/lib/python3.9/site-packages/joblib/backports.py:36: DeprecationWarning: distutils Version classes are deprecated. Use packaging.version instead.\n",
      "  if LooseVersion(np.__version__) < '1.13':\n",
      "/Users/ribarragi/miniconda3/envs/Intro_AI/lib/python3.9/site-packages/setuptools/_distutils/version.py:346: DeprecationWarning: distutils Version classes are deprecated. Use packaging.version instead.\n",
      "  other = LooseVersion(other)\n",
      "/Users/ribarragi/miniconda3/envs/Intro_AI/lib/python3.9/site-packages/joblib/backports.py:36: DeprecationWarning: distutils Version classes are deprecated. Use packaging.version instead.\n",
      "  if LooseVersion(np.__version__) < '1.13':\n",
      "/Users/ribarragi/miniconda3/envs/Intro_AI/lib/python3.9/site-packages/setuptools/_distutils/version.py:346: DeprecationWarning: distutils Version classes are deprecated. Use packaging.version instead.\n",
      "  other = LooseVersion(other)\n",
      "/Users/ribarragi/miniconda3/envs/Intro_AI/lib/python3.9/site-packages/joblib/backports.py:36: DeprecationWarning: distutils Version classes are deprecated. Use packaging.version instead.\n",
      "  if LooseVersion(np.__version__) < '1.13':\n",
      "/Users/ribarragi/miniconda3/envs/Intro_AI/lib/python3.9/site-packages/setuptools/_distutils/version.py:346: DeprecationWarning: distutils Version classes are deprecated. Use packaging.version instead.\n",
      "  other = LooseVersion(other)\n",
      "/Users/ribarragi/miniconda3/envs/Intro_AI/lib/python3.9/site-packages/joblib/backports.py:36: DeprecationWarning: distutils Version classes are deprecated. Use packaging.version instead.\n",
      "  if LooseVersion(np.__version__) < '1.13':\n",
      "/Users/ribarragi/miniconda3/envs/Intro_AI/lib/python3.9/site-packages/setuptools/_distutils/version.py:346: DeprecationWarning: distutils Version classes are deprecated. Use packaging.version instead.\n",
      "  other = LooseVersion(other)\n"
     ]
    },
    {
     "data": {
      "text/html": [
       "\n",
       "<link rel=\"stylesheet\" type=\"text/css\" href=\"https://cdn.jsdelivr.net/gh/bmabey/pyLDAvis@3.3.1/pyLDAvis/js/ldavis.v1.0.0.css\">\n",
       "\n",
       "\n",
       "<div id=\"ldavis_el3399109435227364083215705\"></div>\n",
       "<script type=\"text/javascript\">\n",
       "\n",
       "var ldavis_el3399109435227364083215705_data = {\"mdsDat\": {\"x\": [-0.3418310744361773, -0.051284499251738426, 0.2185799709483604, 0.17453560273955523], \"y\": [-0.1726843206366587, 0.36603707641292593, -0.14780320808499742, -0.045549547691269905], \"topics\": [1, 2, 3, 4], \"cluster\": [1, 1, 1, 1], \"Freq\": [46.884871417229, 27.326681964912204, 16.444025776185995, 9.344420841672804]}, \"tinfo\": {\"Term\": [\"derail\", \"north\", \"carolina\", \"car\", \"trump\", \"danger\", \"via\", \"safety\", \"another\", \"derails\", \"would\", \"say\", \"cargo\", \"toxic\", \"springfield\", \"report\", \"biden\", \"rule\", \"regulation\", \"time\", \"place\", \"accident\", \"rail\", \"sign\", \"news\", \"company\", \"track\", \"chemical\", \"brake\", \"go\", \"another\", \"derails\", \"say\", \"toxic\", \"report\", \"company\", \"chemical\", \"epa\", \"public\", \"resident\", \"one\", \"pay\", \"hazardous\", \"get\", \"railroad\", \"people\", \"cause\", \"even\", \"freight\", \"month\", \"happen\", \"train\", \"tell\", \"take\", \"material\", \"state\", \"order\", \"still\", \"year\", \"demand\", \"disaster\", \"make\", \"trump\", \"safety\", \"would\", \"biden\", \"rule\", \"regulation\", \"rail\", \"brake\", \"go\", \"apply\", \"know\", \"like\", \"crash\", \"gop\", \"ntsb\", \"high\", \"stop\", \"blame\", \"transportation\", \"effect\", \"hazard\", \"administration\", \"back\", \"pete\", \"site\", \"change\", \"president\", \"look\", \"waste\", \"obama\", \"amp\", \"derail\", \"car\", \"carolina\", \"via\", \"cargo\", \"place\", \"time\", \"news\", \"sign\", \"track\", \"feb\", \"derailed\", \"petition\", \"shelter\", \"crew\", \"railway\", \"responsible\", \"hazmat\", \"wheel\", \"county\", \"break\", \"burn\", \"second\", \"saturday\", \"involve\", \"follow\", \"put\", \"firm\", \"release\", \"profit\", \"springfield\", \"north\", \"danger\", \"accident\", \"de\", \"fire\", \"show\", \"last\", \"fox\", \"mile\", \"many\", \"kill\", \"lawsuit\", \"please\", \"law\", \"pennsylvania\", \"dump\", \"detector\", \"due\", \"accord\", \"three\", \"power\", \"least\", \"usa\", \"truck\", \"die\", \"border\", \"la\", \"care\", \"damage\", \"le\", \"axle\"], \"Freq\": [10784.0, 5922.0, 6340.0, 5851.0, 7672.0, 3852.0, 5031.0, 6919.0, 10350.0, 9707.0, 5409.0, 9038.0, 3384.0, 8048.0, 3300.0, 7733.0, 4465.0, 4294.0, 4234.0, 2936.0, 2849.0, 2147.0, 3880.0, 2762.0, 2746.0, 6131.0, 2508.0, 5943.0, 3456.0, 3409.0, 10349.570429492647, 9707.129565431535, 9037.71796584426, 8048.140181376106, 7732.847307873227, 6130.706491712112, 5942.695717595282, 5473.848556921509, 5281.673116441524, 4899.480757181567, 4889.539532426672, 4622.064592548609, 4416.101784033673, 4305.789529711681, 4004.228030272373, 4017.6252763755765, 3945.6014243032455, 4222.987297115621, 3542.198824064619, 3325.640533366897, 3230.192383611482, 3272.128196439496, 3160.3236109868244, 3186.5905206514153, 2892.5758152400267, 2966.1778252680233, 2801.882792865641, 3201.752265303566, 2743.8475658483453, 2759.782210892336, 3188.6625270759755, 2869.634580301843, 7671.966081366582, 6918.398059869611, 5408.481011142092, 4464.706482357561, 4293.204084428563, 4234.105037517232, 3879.7044313234987, 3455.932230971894, 3409.089030317178, 2871.013909717998, 2782.8384259843065, 2606.9462335104854, 2507.6028556477713, 2276.6057675331103, 2413.421833368603, 2222.96226418955, 2229.130982178801, 2088.0944539098127, 2102.7716423554866, 1981.567167911741, 1877.8341292578468, 1770.1561606738794, 1714.3695227175315, 1668.3851542009115, 1744.3866489071609, 2383.2801825378638, 1495.3530158633473, 1480.218791221462, 1470.2109424333064, 1395.5213034520912, 2356.3924903203615, 10783.736696646602, 5850.383369377977, 6339.389520533669, 5030.255096849382, 3383.522551011036, 2848.8872356141296, 2936.1665984662145, 2745.944096177123, 2761.4990540564004, 2507.8513438184486, 2323.6140313142005, 2437.502465235773, 2052.0225028541327, 1913.5346024803232, 1907.713606600446, 1864.231197179454, 2232.122128953238, 1600.2136759964005, 1690.6982004580716, 1496.0260433444018, 1428.7015521014328, 1468.885917674441, 1262.002321802176, 1244.1169372932982, 1140.5747315647907, 1135.607463503528, 1233.5395498379478, 1093.9032579758762, 1116.761544650599, 1172.4137004562779, 3266.2372349496673, 5921.878872917158, 3851.8915243140063, 2146.813126046848, 1834.3135202393769, 1530.7657222451523, 1437.1247868973437, 1272.8681100632245, 1265.4710066326631, 1180.4614431453742, 1204.971912075221, 985.0641180238304, 833.4575720314323, 861.8653215110729, 708.2854828060789, 677.8891185978326, 643.9130740761237, 717.8688321030895, 692.872906821224, 677.3928224912042, 653.3410535570606, 635.6812638032465, 617.7882592445574, 568.2001323683397, 539.4363175315797, 552.4890286267837, 564.1370538841134, 517.8928769616161, 598.8818062358937, 511.5589842300397, 493.0861671431293, 518.4215093826292], \"Total\": [10784.0, 5922.0, 6340.0, 5851.0, 7672.0, 3852.0, 5031.0, 6919.0, 10350.0, 9707.0, 5409.0, 9038.0, 3384.0, 8048.0, 3300.0, 7733.0, 4465.0, 4294.0, 4234.0, 2936.0, 2849.0, 2147.0, 3880.0, 2762.0, 2746.0, 6131.0, 2508.0, 5943.0, 3456.0, 3409.0, 10350.306090324686, 9707.87502196818, 9038.463752697271, 8048.88598679111, 7733.635441181723, 6131.447035542608, 5943.454395457505, 5474.587841633656, 5282.462685901485, 4900.2191652798365, 4890.28935372873, 4622.819458359847, 4416.841870057351, 4306.54643911667, 4004.972523720662, 4018.3862908409346, 3946.3792140758114, 4223.834030782236, 3542.964973411958, 3326.3743616088605, 3230.9486814389343, 3272.89700408126, 3161.0662699733443, 3187.3523974452514, 2893.3084044348675, 2966.9294047633166, 2802.6249014200407, 3202.6384654093404, 2744.615464065928, 2760.5588336008504, 3581.819442816645, 3453.2057230657624, 7672.778444903452, 6919.212402054877, 5409.29987061958, 4465.519228538232, 4294.013558735718, 4234.91599164454, 3880.5347891911215, 3456.7480655201775, 3409.914355218194, 2871.825497708321, 2783.668020378008, 2607.763107154452, 2508.4401127991546, 2277.4205060334757, 2414.287600278541, 2223.776544114574, 2229.959424374787, 2088.901493036182, 2103.6078648580933, 1982.3883510434375, 1878.6437558054029, 1770.963195955223, 1715.1856418989569, 1669.191001394358, 1745.2516395362359, 2384.5281332967575, 1496.164397620992, 1481.0383429307528, 1471.0504568559397, 1396.3229754726783, 5147.001241025849, 10784.502644566977, 5851.142945295333, 6340.2692623372, 5031.014079026526, 3384.2958340543855, 2849.642363378178, 2936.956020826835, 2746.7165247546905, 2762.2789569614897, 2508.6282534388106, 2324.428936477041, 2438.4185895117803, 2052.8172440690487, 1914.2769876278765, 1908.4921853368633, 1865.0211365154396, 2233.098547487522, 1600.9795840411398, 1691.5434169869932, 1496.7972234347092, 1429.4689576182236, 1469.7117369336963, 1262.7457263544027, 1244.8608394094501, 1141.3400144395857, 1136.382059919579, 1234.3894976613415, 1094.6736581226994, 1117.5721767831099, 1173.284981767697, 3300.82872341992, 5922.736456636681, 3852.710759124589, 2147.6291836670766, 1835.0734164950852, 1531.613122732387, 1437.9702107009546, 1273.6742158734473, 1266.3050453664214, 1181.2917657127232, 1205.8291939559676, 985.8449986665173, 834.254965799013, 862.7626460507646, 709.1098574375322, 678.6806150663664, 644.6874797762973, 718.7378708528338, 693.7222367279555, 678.2459062298508, 654.1723796138624, 636.4945851821949, 618.6132314565366, 569.0035454689946, 540.204426456599, 553.2776041701451, 564.943701606487, 518.6528719670591, 599.7670135096323, 512.3667061255305, 493.8661058074733, 519.3132329956043], \"Category\": [\"Default\", \"Default\", \"Default\", \"Default\", \"Default\", \"Default\", \"Default\", \"Default\", \"Default\", \"Default\", \"Default\", \"Default\", \"Default\", \"Default\", \"Default\", \"Default\", \"Default\", \"Default\", \"Default\", \"Default\", \"Default\", \"Default\", \"Default\", \"Default\", \"Default\", \"Default\", \"Default\", \"Default\", \"Default\", \"Default\", \"Topic1\", \"Topic1\", \"Topic1\", \"Topic1\", \"Topic1\", \"Topic1\", \"Topic1\", \"Topic1\", \"Topic1\", \"Topic1\", \"Topic1\", \"Topic1\", \"Topic1\", \"Topic1\", \"Topic1\", \"Topic1\", \"Topic1\", \"Topic1\", \"Topic1\", \"Topic1\", \"Topic1\", \"Topic1\", \"Topic1\", \"Topic1\", \"Topic1\", \"Topic1\", \"Topic1\", \"Topic1\", \"Topic1\", \"Topic1\", \"Topic1\", \"Topic1\", \"Topic2\", \"Topic2\", \"Topic2\", \"Topic2\", \"Topic2\", \"Topic2\", \"Topic2\", \"Topic2\", \"Topic2\", \"Topic2\", \"Topic2\", \"Topic2\", \"Topic2\", \"Topic2\", \"Topic2\", \"Topic2\", \"Topic2\", \"Topic2\", \"Topic2\", \"Topic2\", \"Topic2\", \"Topic2\", \"Topic2\", \"Topic2\", \"Topic2\", \"Topic2\", \"Topic2\", \"Topic2\", \"Topic2\", \"Topic2\", \"Topic2\", \"Topic3\", \"Topic3\", \"Topic3\", \"Topic3\", \"Topic3\", \"Topic3\", \"Topic3\", \"Topic3\", \"Topic3\", \"Topic3\", \"Topic3\", \"Topic3\", \"Topic3\", \"Topic3\", \"Topic3\", \"Topic3\", \"Topic3\", \"Topic3\", \"Topic3\", \"Topic3\", \"Topic3\", \"Topic3\", \"Topic3\", \"Topic3\", \"Topic3\", \"Topic3\", \"Topic3\", \"Topic3\", \"Topic3\", \"Topic3\", \"Topic3\", \"Topic4\", \"Topic4\", \"Topic4\", \"Topic4\", \"Topic4\", \"Topic4\", \"Topic4\", \"Topic4\", \"Topic4\", \"Topic4\", \"Topic4\", \"Topic4\", \"Topic4\", \"Topic4\", \"Topic4\", \"Topic4\", \"Topic4\", \"Topic4\", \"Topic4\", \"Topic4\", \"Topic4\", \"Topic4\", \"Topic4\", \"Topic4\", \"Topic4\", \"Topic4\", \"Topic4\", \"Topic4\", \"Topic4\", \"Topic4\", \"Topic4\"], \"logprob\": [30.0, 29.0, 28.0, 27.0, 26.0, 25.0, 24.0, 23.0, 22.0, 21.0, 20.0, 19.0, 18.0, 17.0, 16.0, 15.0, 14.0, 13.0, 12.0, 11.0, 10.0, 9.0, 8.0, 7.0, 6.0, 5.0, 4.0, 3.0, 2.0, 1.0, -3.8632, -3.9273, -3.9987, -4.1147, -4.1547, -4.3868, -4.418, -4.5001, -4.5359, -4.611, -4.613, -4.6693, -4.7149, -4.7402, -4.8128, -4.8094, -4.8275, -4.7596, -4.9354, -4.9985, -5.0276, -5.0147, -5.0495, -5.0412, -5.138, -5.1129, -5.1698, -5.0364, -5.1908, -5.185, -5.0405, -5.1459, -3.6227, -3.7261, -3.9723, -4.1641, -4.2033, -4.2171, -4.3045, -4.4202, -4.4339, -4.6056, -4.6368, -4.7021, -4.741, -4.8376, -4.7793, -4.8615, -4.8587, -4.924, -4.917, -4.9764, -5.0302, -5.0892, -5.1213, -5.1484, -5.1039, -4.7918, -5.2579, -5.2681, -5.2749, -5.327, -4.8032, -2.7744, -3.3859, -3.3056, -3.5369, -3.9335, -4.1055, -4.0753, -4.1423, -4.1366, -4.233, -4.3093, -4.2614, -4.4336, -4.5034, -4.5065, -4.5295, -4.3494, -4.6823, -4.6273, -4.7496, -4.7956, -4.7679, -4.9197, -4.934, -5.0209, -5.0252, -4.9425, -5.0626, -5.042, -4.9933, -3.9688, -2.8086, -3.2386, -3.8232, -3.9805, -4.1614, -4.2246, -4.3459, -4.3518, -4.4213, -4.4008, -4.6023, -4.7694, -4.7359, -4.9321, -4.976, -5.0274, -4.9187, -4.9541, -4.9767, -5.0129, -5.0403, -5.0688, -5.1525, -5.2044, -5.1805, -5.1597, -5.2452, -5.0999, -5.2575, -5.2943, -5.2442], \"loglift\": [30.0, 29.0, 28.0, 27.0, 26.0, 25.0, 24.0, 23.0, 22.0, 21.0, 20.0, 19.0, 18.0, 17.0, 16.0, 15.0, 14.0, 13.0, 12.0, 11.0, 10.0, 9.0, 8.0, 7.0, 6.0, 5.0, 4.0, 3.0, 2.0, 1.0, 0.7574, 0.7574, 0.7574, 0.7574, 0.7574, 0.7574, 0.7573, 0.7573, 0.7573, 0.7573, 0.7573, 0.7573, 0.7573, 0.7573, 0.7573, 0.7573, 0.7573, 0.7573, 0.7573, 0.7573, 0.7572, 0.7572, 0.7572, 0.7572, 0.7572, 0.7572, 0.7572, 0.7572, 0.7572, 0.7572, 0.6412, 0.5724, 1.2972, 1.2972, 1.2972, 1.2971, 1.2971, 1.2971, 1.2971, 1.2971, 1.2971, 1.297, 1.297, 1.297, 1.297, 1.2969, 1.2969, 1.2969, 1.2969, 1.2969, 1.2969, 1.2969, 1.2969, 1.2969, 1.2968, 1.2968, 1.2968, 1.2968, 1.2968, 1.2968, 1.2967, 1.2967, 0.516, 1.8051, 1.8051, 1.8051, 1.8051, 1.805, 1.8049, 1.8049, 1.8049, 1.8049, 1.8049, 1.8049, 1.8048, 1.8048, 1.8048, 1.8048, 1.8048, 1.8048, 1.8047, 1.8047, 1.8047, 1.8047, 1.8046, 1.8046, 1.8046, 1.8045, 1.8045, 1.8045, 1.8045, 1.8045, 1.8045, 1.7947, 2.3702, 2.3702, 2.37, 2.37, 2.3698, 2.3698, 2.3698, 2.3697, 2.3697, 2.3697, 2.3696, 2.3694, 2.3694, 2.3692, 2.3692, 2.3692, 2.3692, 2.3692, 2.3691, 2.3691, 2.3691, 2.3691, 2.369, 2.369, 2.369, 2.369, 2.3689, 2.3689, 2.3688, 2.3688, 2.3687]}, \"token.table\": {\"Topic\": [4, 4, 2, 1, 2, 3, 4, 1, 2, 4, 2, 2, 2, 4, 2, 3, 3, 3, 4, 3, 3, 1, 2, 3, 1, 1, 3, 2, 3, 4, 4, 4, 1, 3, 3, 1, 4, 4, 1, 2, 4, 4, 2, 1, 1, 3, 4, 3, 3, 4, 1, 1, 2, 2, 1, 2, 1, 3, 2, 3, 4, 2, 4, 4, 4, 4, 4, 4, 2, 2, 1, 2, 4, 1, 4, 1, 3, 4, 2, 2, 1, 1, 1, 4, 1, 2, 3, 3, 4, 4, 2, 3, 1, 3, 2, 1, 3, 2, 3, 1, 1, 3, 2, 2, 3, 1, 3, 3, 4, 3, 2, 1, 2, 3, 4, 1, 1, 2, 1, 1, 4, 3, 1, 3, 1, 2, 4, 2, 4, 3, 2, 3, 2, 1], \"Freq\": [0.9997070333780795, 0.9981630464431752, 0.9994561174634103, 0.5352631310908527, 0.4577422638294188, 0.006411500299817835, 0.0005828636636198032, 0.9999704269301782, 0.9997125529705827, 0.997471212146802, 0.9993087384420708, 0.9998837249350728, 0.999568436788816, 0.9983295652225107, 0.9997835926986872, 0.9996719357802599, 0.9995157302511707, 0.999804662899878, 0.998721147558376, 0.9999125862309646, 0.9997998093953612, 0.9999039083536476, 0.9993591464594529, 0.00041937018315545653, 0.9999235469093778, 0.9999270913472763, 0.9994673804692931, 0.9998245472168504, 0.9997421077536263, 0.999284289706676, 0.9998155171335129, 0.9994150552858341, 0.999797565045871, 0.9999533919566305, 0.9998283356624738, 0.999909864726709, 0.9989733797497574, 0.9976908442334995, 0.8903296357932151, 0.10972077355494937, 0.998958896385732, 0.998933623192844, 0.9998040994120889, 0.9998926235817817, 0.9998025417722007, 0.9998154658676331, 0.9995996882481046, 0.9993846036965439, 0.9996637927216081, 0.9989694068019418, 0.9997276367620906, 0.9998731143099476, 0.9997318539051296, 0.9998153586338747, 0.9997063768160775, 0.9996573294945285, 0.9998093954725755, 0.9993881345827864, 0.9996507993950071, 0.9997020918961186, 0.9991428686379094, 0.9997600215352127, 0.9987412159416316, 0.9994706528050542, 0.9984348582580097, 0.9984957047300149, 0.9982462740461664, 0.9990086997410438, 0.9997073709830627, 0.9992989088123821, 0.8311117929724756, 0.16882863250973984, 0.9993123454299134, 0.9998934076870635, 0.9989064803884891, 0.9998874565613597, 0.9997391340721793, 0.9998756560177761, 0.9994666748574642, 0.9997686957255939, 0.9999408309595199, 0.9997770299479877, 0.9998227362398147, 0.9989971496882966, 0.9999038691621522, 0.9992864798615838, 0.9996018914633488, 0.999774581053948, 0.9991160418751837, 0.9992229546115411, 0.9992217448678478, 0.9989047999525563, 0.9999124109475075, 0.9996844612967953, 0.9998621867293623, 0.999757170938152, 0.9994524799234461, 0.9997837048842653, 0.9994880180493068, 0.99991783409154, 0.9997512018873616, 0.9995080613487668, 0.9997639600523254, 0.9998247774480059, 0.9993084854288946, 0.9999486912035098, 0.9994094406032514, 0.9998553043108878, 0.9993252915159615, 0.9995369921063669, 0.9992828314794946, 0.009997489347405273, 0.00030295422264864467, 0.9894484911704734, 0.00030295422264864467, 0.999686745238419, 0.9998006439327335, 0.9995697570259351, 0.999889438819023, 0.9996626866119598, 0.9982078429930741, 0.9996744858213553, 0.9998899242960375, 0.9997495629581826, 0.9997259296335504, 0.9997110369911388, 0.9977704246807098, 0.9998985445873302, 0.9982363106926382, 0.9997984344685591, 0.9992859137828727, 0.9996787448778813, 0.9997596970678885, 0.999775755812067], \"Term\": [\"accident\", \"accord\", \"administration\", \"amp\", \"amp\", \"amp\", \"amp\", \"another\", \"apply\", \"axle\", \"back\", \"biden\", \"blame\", \"border\", \"brake\", \"break\", \"burn\", \"car\", \"care\", \"cargo\", \"carolina\", \"cause\", \"change\", \"change\", \"chemical\", \"company\", \"county\", \"crash\", \"crew\", \"damage\", \"danger\", \"de\", \"demand\", \"derail\", \"derailed\", \"derails\", \"detector\", \"die\", \"disaster\", \"disaster\", \"due\", \"dump\", \"effect\", \"epa\", \"even\", \"feb\", \"fire\", \"firm\", \"follow\", \"fox\", \"freight\", \"get\", \"go\", \"gop\", \"happen\", \"hazard\", \"hazardous\", \"hazmat\", \"high\", \"involve\", \"kill\", \"know\", \"la\", \"last\", \"law\", \"lawsuit\", \"le\", \"least\", \"like\", \"look\", \"make\", \"make\", \"many\", \"material\", \"mile\", \"month\", \"news\", \"north\", \"ntsb\", \"obama\", \"one\", \"order\", \"pay\", \"pennsylvania\", \"people\", \"pete\", \"petition\", \"place\", \"please\", \"power\", \"president\", \"profit\", \"public\", \"put\", \"rail\", \"railroad\", \"railway\", \"regulation\", \"release\", \"report\", \"resident\", \"responsible\", \"rule\", \"safety\", \"saturday\", \"say\", \"second\", \"shelter\", \"show\", \"sign\", \"site\", \"springfield\", \"springfield\", \"springfield\", \"springfield\", \"state\", \"still\", \"stop\", \"take\", \"tell\", \"three\", \"time\", \"toxic\", \"track\", \"train\", \"transportation\", \"truck\", \"trump\", \"usa\", \"via\", \"waste\", \"wheel\", \"would\", \"year\"]}, \"R\": 30, \"lambda.step\": 0.01, \"plot.opts\": {\"xlab\": \"PC1\", \"ylab\": \"PC2\"}, \"topic.order\": [2, 4, 3, 1]};\n",
       "\n",
       "function LDAvis_load_lib(url, callback){\n",
       "  var s = document.createElement('script');\n",
       "  s.src = url;\n",
       "  s.async = true;\n",
       "  s.onreadystatechange = s.onload = callback;\n",
       "  s.onerror = function(){console.warn(\"failed to load library \" + url);};\n",
       "  document.getElementsByTagName(\"head\")[0].appendChild(s);\n",
       "}\n",
       "\n",
       "if(typeof(LDAvis) !== \"undefined\"){\n",
       "   // already loaded: just create the visualization\n",
       "   !function(LDAvis){\n",
       "       new LDAvis(\"#\" + \"ldavis_el3399109435227364083215705\", ldavis_el3399109435227364083215705_data);\n",
       "   }(LDAvis);\n",
       "}else if(typeof define === \"function\" && define.amd){\n",
       "   // require.js is available: use it to load d3/LDAvis\n",
       "   require.config({paths: {d3: \"https://d3js.org/d3.v5\"}});\n",
       "   require([\"d3\"], function(d3){\n",
       "      window.d3 = d3;\n",
       "      LDAvis_load_lib(\"https://cdn.jsdelivr.net/gh/bmabey/pyLDAvis@3.3.1/pyLDAvis/js/ldavis.v3.0.0.js\", function(){\n",
       "        new LDAvis(\"#\" + \"ldavis_el3399109435227364083215705\", ldavis_el3399109435227364083215705_data);\n",
       "      });\n",
       "    });\n",
       "}else{\n",
       "    // require.js not available: dynamically load d3 & LDAvis\n",
       "    LDAvis_load_lib(\"https://d3js.org/d3.v5.js\", function(){\n",
       "         LDAvis_load_lib(\"https://cdn.jsdelivr.net/gh/bmabey/pyLDAvis@3.3.1/pyLDAvis/js/ldavis.v3.0.0.js\", function(){\n",
       "                 new LDAvis(\"#\" + \"ldavis_el3399109435227364083215705\", ldavis_el3399109435227364083215705_data);\n",
       "            })\n",
       "         });\n",
       "}\n",
       "</script>"
      ],
      "text/plain": [
       "PreparedData(topic_coordinates=              x         y  topics  cluster       Freq\n",
       "topic                                                \n",
       "1     -0.341831 -0.172684       1        1  46.884871\n",
       "3     -0.051284  0.366037       2        1  27.326682\n",
       "2      0.218580 -0.147803       3        1  16.444026\n",
       "0      0.174536 -0.045550       4        1   9.344421, topic_info=           Term          Freq         Total Category  logprob  loglift\n",
       "118      derail  10784.000000  10784.000000  Default  30.0000  30.0000\n",
       "2587      north   5922.000000   5922.000000  Default  29.0000  29.0000\n",
       "2583   carolina   6340.000000   6340.000000  Default  28.0000  28.0000\n",
       "354         car   5851.000000   5851.000000  Default  27.0000  27.0000\n",
       "149       trump   7672.000000   7672.000000  Default  26.0000  26.0000\n",
       "...         ...           ...           ...      ...      ...      ...\n",
       "1614         la    517.892877    518.652872   Topic4  -5.2452   2.3689\n",
       "923        care    598.881806    599.767014   Topic4  -5.0999   2.3689\n",
       "32       damage    511.558984    512.366706   Topic4  -5.2575   2.3688\n",
       "23727        le    493.086167    493.866106   Topic4  -5.2943   2.3688\n",
       "2330       axle    518.421509    519.313233   Topic4  -5.2442   2.3687\n",
       "\n",
       "[155 rows x 6 columns], token_table=      Topic      Freq            Term\n",
       "term                                 \n",
       "309       4  0.999707        accident\n",
       "310       4  0.998163          accord\n",
       "290       2  0.999456  administration\n",
       "9481      1  0.535263             amp\n",
       "9481      2  0.457742             amp\n",
       "...     ...       ...             ...\n",
       "208       3  0.999798             via\n",
       "947       2  0.999286           waste\n",
       "1304      3  0.999679           wheel\n",
       "359       2  0.999760           would\n",
       "231       1  0.999776            year\n",
       "\n",
       "[134 rows x 3 columns], R=30, lambda_step=0.01, plot_opts={'xlab': 'PC1', 'ylab': 'PC2'}, topic_order=[2, 4, 3, 1])"
      ]
     },
     "execution_count": 71,
     "metadata": {},
     "output_type": "execute_result"
    }
   ],
   "source": [
    "# Visualize the topics\n",
    "pyLDAvis.enable_notebook()\n",
    "vis = pyLDAvis.gensim_models.prepare(lda_model, corpus, id2word)\n",
    "vis"
   ]
  },
  {
   "attachments": {},
   "cell_type": "markdown",
   "metadata": {},
   "source": [
    "toxic : 0.022457791846392967\n",
    "ceo : 0.01909519770061295\n",
    "resident : 0.017347292501322095\n",
    "chemical : 0.016160113157076755\n",
    "epa : 0.013899063024322483\n",
    "via : 0.009893960751737617\n",
    "pay : 0.008269276069613581\n",
    "say : 0.008163893554262587\n",
    "senate : 0.008134594278846838\n",
    "tell : 0.007605117286419225\n",
    "congress : 0.006781515182579619\n",
    "order : 0.006306676179334696\n",
    "clean : 0.006226100852638858\n",
    "rail : 0.0062106600464542985\n",
    "crash : 0.006076923915123679\n",
    "site : 0.005999986680991488\n",
    "worker : 0.0059216764863732185\n",
    "animal : 0.005689835953484064\n",
    "company : 0.00549751936463235\n",
    "demand : 0.005352323604188377"
   ]
  },
  {
   "cell_type": "code",
   "execution_count": 72,
   "metadata": {},
   "outputs": [],
   "source": [
    "def compute_coherence_values(dictionary, corpus, texts, limit, start=2, step=3):\n",
    "    \"\"\"\n",
    "    Compute c_v coherence for various number of topics\n",
    "\n",
    "    Parameters:\n",
    "    ----------\n",
    "    dictionary : Gensim dictionary\n",
    "    corpus : Gensim corpus\n",
    "    texts : List of input texts\n",
    "    limit : Max num of topics\n",
    "\n",
    "    Returns:\n",
    "    -------\n",
    "    model_list : List of LDA topic models\n",
    "    coherence_values : Coherence values corresponding to the LDA model with respective number of topics\n",
    "    \"\"\"\n",
    "    coherence_values = []\n",
    "    model_list = []\n",
    "    for num_topics in range(start, limit, step):\n",
    "        model = gensim.models.wrappers.LdaMallet(mallet_path, corpus=corpus, num_topics=num_topics, id2word=id2word)\n",
    "        model_list.append(model)\n",
    "        coherencemodel = CoherenceModel(model=model, texts=texts, dictionary=dictionary, coherence='c_v')\n",
    "        coherence_values.append(coherencemodel.get_coherence())\n",
    "\n",
    "    return model_list, coherence_values"
   ]
  },
  {
   "cell_type": "code",
   "execution_count": 73,
   "metadata": {},
   "outputs": [
    {
     "ename": "AttributeError",
     "evalue": "module 'gensim.models' has no attribute 'wrappers'",
     "output_type": "error",
     "traceback": [
      "\u001b[0;31m---------------------------------------------------------------------------\u001b[0m",
      "\u001b[0;31mAttributeError\u001b[0m                            Traceback (most recent call last)",
      "Cell \u001b[0;32mIn[73], line 2\u001b[0m\n\u001b[1;32m      1\u001b[0m \u001b[39m# Can take a long time to run.\u001b[39;00m\n\u001b[0;32m----> 2\u001b[0m model_list, coherence_values \u001b[39m=\u001b[39m compute_coherence_values(dictionary\u001b[39m=\u001b[39;49mid2word, corpus\u001b[39m=\u001b[39;49mcorpus, texts\u001b[39m=\u001b[39;49mdata_lemmatized, start\u001b[39m=\u001b[39;49m\u001b[39m2\u001b[39;49m, limit\u001b[39m=\u001b[39;49m\u001b[39m40\u001b[39;49m, step\u001b[39m=\u001b[39;49m\u001b[39m6\u001b[39;49m)\n",
      "Cell \u001b[0;32mIn[72], line 20\u001b[0m, in \u001b[0;36mcompute_coherence_values\u001b[0;34m(dictionary, corpus, texts, limit, start, step)\u001b[0m\n\u001b[1;32m     18\u001b[0m model_list \u001b[39m=\u001b[39m []\n\u001b[1;32m     19\u001b[0m \u001b[39mfor\u001b[39;00m num_topics \u001b[39min\u001b[39;00m \u001b[39mrange\u001b[39m(start, limit, step):\n\u001b[0;32m---> 20\u001b[0m     model \u001b[39m=\u001b[39m gensim\u001b[39m.\u001b[39;49mmodels\u001b[39m.\u001b[39;49mwrappers\u001b[39m.\u001b[39mLdaMallet(mallet_path, corpus\u001b[39m=\u001b[39mcorpus, num_topics\u001b[39m=\u001b[39mnum_topics, id2word\u001b[39m=\u001b[39mid2word)\n\u001b[1;32m     21\u001b[0m     model_list\u001b[39m.\u001b[39mappend(model)\n\u001b[1;32m     22\u001b[0m     coherencemodel \u001b[39m=\u001b[39m CoherenceModel(model\u001b[39m=\u001b[39mmodel, texts\u001b[39m=\u001b[39mtexts, dictionary\u001b[39m=\u001b[39mdictionary, coherence\u001b[39m=\u001b[39m\u001b[39m'\u001b[39m\u001b[39mc_v\u001b[39m\u001b[39m'\u001b[39m)\n",
      "\u001b[0;31mAttributeError\u001b[0m: module 'gensim.models' has no attribute 'wrappers'"
     ]
    }
   ],
   "source": [
    "# Can take a long time to run.\n",
    "model_list, coherence_values = compute_coherence_values(dictionary=id2word, corpus=corpus, texts=data_lemmatized, start=2, limit=40, step=6)"
   ]
  },
  {
   "cell_type": "code",
   "execution_count": null,
   "metadata": {},
   "outputs": [],
   "source": [
    "# Show graph\n",
    "limit=40; start=2; step=6;\n",
    "x = range(start, limit, step)\n",
    "plt.plot(x, coherence_values)\n",
    "plt.xlabel(\"Num Topics\")\n",
    "plt.ylabel(\"Coherence score\")\n",
    "plt.legend((\"coherence_values\"), loc='best')\n",
    "plt.show()"
   ]
  },
  {
   "cell_type": "code",
   "execution_count": null,
   "metadata": {},
   "outputs": [],
   "source": []
  },
  {
   "cell_type": "code",
   "execution_count": null,
   "metadata": {},
   "outputs": [],
   "source": [
    "\n",
    "# Create Corpus\n",
    "# texts = data_lemmatized\n",
    "\n",
    "# Term Document Frequency\n",
    "# corpus = [id2word.doc2bow(text) for text in texts]\n",
    "\n",
    "# View\n",
    "# print(corpus[:1][0][:30])"
   ]
  }
 ],
 "metadata": {
  "kernelspec": {
   "display_name": "Python 3.8.11 ('UDA_RIG')",
   "language": "python",
   "name": "python3"
  },
  "language_info": {
   "codemirror_mode": {
    "name": "ipython",
    "version": 3
   },
   "file_extension": ".py",
   "mimetype": "text/x-python",
   "name": "python",
   "nbconvert_exporter": "python",
   "pygments_lexer": "ipython3",
   "version": "3.9.16"
  },
  "vscode": {
   "interpreter": {
    "hash": "d1a526087eeeed7e3a2dd7dbe3d8582928a2e8e80d21671a2817819bcd9f426f"
   }
  }
 },
 "nbformat": 4,
 "nbformat_minor": 2
}

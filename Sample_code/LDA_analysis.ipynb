{
 "cells": [
  {
   "attachments": {},
   "cell_type": "markdown",
   "metadata": {},
   "source": [
    "# LDA"
   ]
  },
  {
   "cell_type": "markdown",
   "metadata": {},
   "source": [
    "We'll use NumPy."
   ]
  },
  {
   "cell_type": "code",
   "execution_count": 2,
   "metadata": {},
   "outputs": [],
   "source": [
    "%matplotlib inline\n",
    "import matplotlib.pyplot as plt\n",
    "import numpy as np\n",
    "np.set_printoptions(precision=5, suppress=True)\n",
    "import pandas as pd\n",
    "# data: 20 news groups"
   ]
  },
  {
   "cell_type": "markdown",
   "metadata": {},
   "source": [
    "## Latent Dirichlet Allocation"
   ]
  },
  {
   "cell_type": "markdown",
   "metadata": {},
   "source": [
    "We first load in 10,000 posts from the 20 Newsgroups dataset."
   ]
  },
  {
   "cell_type": "code",
   "execution_count": 3,
   "metadata": {},
   "outputs": [
    {
     "data": {
      "text/plain": [
       "85220"
      ]
     },
     "execution_count": 3,
     "metadata": {},
     "output_type": "execute_result"
    }
   ],
   "source": [
    "tweet_data = pd.read_csv('../data/data_tweet.csv')\n",
    "tweet_data = [i for i in tweet_data.MESSAGE]\n",
    "len(tweet_data)"
   ]
  },
  {
   "cell_type": "code",
   "execution_count": 4,
   "metadata": {},
   "outputs": [],
   "source": [
    "import random\n",
    "sample_size = 10000\n",
    "random.seed(1)\n",
    "# We will use a random sample of 10k tweets to test\n",
    "idx_sample = random.sample(range(len(tweet_data)), sample_size)\n",
    "# sample_data is a list of strings, each string is a tweet. ssample_Data is length 10k\n",
    "sample_data = [tweet_data[i] for i in idx_sample]\n"
   ]
  },
  {
   "cell_type": "markdown",
   "metadata": {},
   "source": [
    "We now fit a `CountVectorizer` model that will compute, for each post, what its raw word count histograms are (the \"term frequencies\" we saw in week 1).\n",
    "\n",
    "The output of the following cell is the term-frequencies matrix, where rows index different posts/text documents, and columns index 1000 different vocabulary words. A note about the arguments to `CountVectorizer`:\n",
    "\n",
    "- `max_df`: we only keep words that appear in at most this fraction of the documents\n",
    "- `min_df`: we only keep words that appear in at least this many documents\n",
    "- `stop_words`: whether to remove stop words\n",
    "- `max_features`: among words that don't get removed due to the above 3 arguments, we keep the top `max_features` number of most frequently occuring words"
   ]
  },
  {
   "cell_type": "code",
   "execution_count": 5,
   "metadata": {},
   "outputs": [],
   "source": [
    "from sklearn.feature_extraction.text import CountVectorizer\n",
    "# We could cap the size of the vocab to vocab_size, right no, we wont\n",
    "vocab_size = 1000\n",
    "\n",
    "\n",
    "# CountVectorizer does tokenization\n",
    "# min_df: words in less than 2 documents, we throw it away\n",
    "# max_df filters for the words were keeping track of:words that show up in more than 95% of document, we throw away, not\n",
    "# semantically interesting; we can use it as an int (50: then every word appearing in omre than 50 docs, goes away)\n",
    "\n",
    "# max_features: here is 1,000: after I do the max_df, min_df and stopwords filetrs, I look at how many words I have left: if its greater than\n",
    "# max_features, I only keep the most popular. BUT, if the words left after the 3 filters is less than max_features, then it will be ignored. \n",
    "# document frequency (df) means number of documents a word appears in\n",
    "\n",
    "# min_df = 2\n",
    "# max_df = 0.95\n",
    "\n",
    "# tf_vectorizer = CountVectorizer(max_df=0.95,\n",
    "#                                 min_df=2,\n",
    "#                                 stop_words='english',\n",
    "#                                 max_features=vocab_size)\n",
    "\n",
    "tf_vectorizer = CountVectorizer(stop_words='english')\n",
    "\n",
    "# tf: term frequency vectorizer\n",
    "\n",
    "# the fitting is learning the vocabulary: goes thru all the data and know the words it needs to keep track of\n",
    "# transform: Ive done the fitting, Ill go back to data points and convert each one into a feat vector representation using the vocab i learnt during fitting\n",
    "tf_fit = tf_vectorizer.fit(sample_data)\n",
    "tf = tf_vectorizer.fit_transform(sample_data)\n"
   ]
  },
  {
   "cell_type": "code",
   "execution_count": 6,
   "metadata": {},
   "outputs": [
    {
     "data": {
      "text/plain": [
       "0"
      ]
     },
     "execution_count": 6,
     "metadata": {},
     "output_type": "execute_result"
    }
   ],
   "source": [
    "tf.toarray()[0, 1]"
   ]
  },
  {
   "cell_type": "code",
   "execution_count": 7,
   "metadata": {},
   "outputs": [
    {
     "data": {
      "text/plain": [
       "(10000, 24428)"
      ]
     },
     "execution_count": 7,
     "metadata": {},
     "output_type": "execute_result"
    }
   ],
   "source": [
    "# size of the matrix (documents, words)\n",
    "tf.toarray().shape"
   ]
  },
  {
   "cell_type": "code",
   "execution_count": 8,
   "metadata": {},
   "outputs": [
    {
     "data": {
      "text/plain": [
       "9"
      ]
     },
     "execution_count": 8,
     "metadata": {},
     "output_type": "execute_result"
    }
   ],
   "source": [
    "# seems like the highest term-doc freq is 9\n",
    "max_freq = np.unique(tf.toarray().flatten()).max()\n",
    "max_freq"
   ]
  },
  {
   "cell_type": "code",
   "execution_count": 9,
   "metadata": {},
   "outputs": [
    {
     "data": {
      "text/plain": [
       "[2928, 10133]"
      ]
     },
     "execution_count": 9,
     "metadata": {},
     "output_type": "execute_result"
    }
   ],
   "source": [
    "# Just for curiosity, I want to know which doc / word combination has highest valeus\n",
    "max_freq_idx = list(np.argwhere(tf.toarray()==max_freq)[0])\n",
    "max_freq_idx"
   ]
  },
  {
   "cell_type": "code",
   "execution_count": 10,
   "metadata": {},
   "outputs": [],
   "source": [
    "max_freq_doc, max_freq_word = max_freq_idx"
   ]
  },
  {
   "cell_type": "code",
   "execution_count": 11,
   "metadata": {},
   "outputs": [
    {
     "data": {
      "text/plain": [
       "'.@PeteButtigieg .@USDOT  https://t.co/Pcmd0P0UC1  https://t.co/wtNJAHW7zK  https://t.co/YGewnSAiCV  https://t.co/ou2hnqIihD  https://t.co/Vi08o8c6hZ  https://t.co/lYLyaxTpj1  https://t.co/XtREO0YrD1  https://t.co/eExsVP6Umb  https://t.co/N9RmZ42oXM'"
      ]
     },
     "execution_count": 11,
     "metadata": {},
     "output_type": "execute_result"
    }
   ],
   "source": [
    "sample_data[max_freq_doc]"
   ]
  },
  {
   "cell_type": "code",
   "execution_count": 12,
   "metadata": {},
   "outputs": [
    {
     "data": {
      "text/plain": [
       "'https'"
      ]
     },
     "execution_count": 12,
     "metadata": {},
     "output_type": "execute_result"
    }
   ],
   "source": [
    "# to print out the vocabulary in the doc-word freq matrix\n",
    "tf_vectorizer.get_feature_names_out()[max_freq_word]\n",
    "\n",
    "# In this case, its https because of a series of links, we should discard urls"
   ]
  },
  {
   "cell_type": "code",
   "execution_count": 13,
   "metadata": {},
   "outputs": [
    {
     "data": {
      "text/plain": [
       "array([ 14, 160,   1, ...,   1,   1,   1])"
      ]
     },
     "execution_count": 13,
     "metadata": {},
     "output_type": "execute_result"
    }
   ],
   "source": [
    "tf.toarray().sum(axis  = 0)"
   ]
  },
  {
   "cell_type": "code",
   "execution_count": 14,
   "metadata": {},
   "outputs": [
    {
     "data": {
      "text/plain": [
       "481"
      ]
     },
     "execution_count": 14,
     "metadata": {},
     "output_type": "execute_result"
    }
   ],
   "source": [
    "(tf[:, tf_fit.vocabulary_['just']].toarray().flatten() > 0).sum()"
   ]
  },
  {
   "cell_type": "code",
   "execution_count": 15,
   "metadata": {},
   "outputs": [
    {
     "data": {
      "text/plain": [
       "array([[0],\n",
       "       [0],\n",
       "       [0],\n",
       "       ...,\n",
       "       [1],\n",
       "       [0],\n",
       "       [0]])"
      ]
     },
     "execution_count": 15,
     "metadata": {},
     "output_type": "execute_result"
    }
   ],
   "source": [
    "tf_fit.vocabulary_['just']  #index for just\n",
    "tf[:, tf_fit.vocabulary_['just']].toarray() # all rows just this one column\n"
   ]
  },
  {
   "cell_type": "code",
   "execution_count": 16,
   "metadata": {},
   "outputs": [
    {
     "data": {
      "text/plain": [
       "481"
      ]
     },
     "execution_count": 16,
     "metadata": {},
     "output_type": "execute_result"
    }
   ],
   "source": [
    "\n",
    "(tf[:, tf_vectorizer.vocabulary_['just']].toarray().flatten() > 0).sum() # this gives you"
   ]
  },
  {
   "cell_type": "code",
   "execution_count": 17,
   "metadata": {},
   "outputs": [],
   "source": [
    "# tf_vectorizer.vocabulary_ # gives youi index of each word kept in the tf table"
   ]
  },
  {
   "cell_type": "markdown",
   "metadata": {},
   "source": [
    "We can verify that there are 10,000 rows (corresponding to posts), and 1000 columns (corresponding to words)."
   ]
  },
  {
   "cell_type": "code",
   "execution_count": 18,
   "metadata": {},
   "outputs": [
    {
     "data": {
      "text/plain": [
       "(10000, 24428)"
      ]
     },
     "execution_count": 18,
     "metadata": {},
     "output_type": "execute_result"
    }
   ],
   "source": [
    "tf.shape\n",
    "# 10,000 posts\n",
    "# 1,000 words\n"
   ]
  },
  {
   "cell_type": "markdown",
   "metadata": {},
   "source": [
    "A note about the `tf` matrix: this actually is stored as what's called a sparse matrix (rather than a 2D NumPy array that you're more familiar with). The reason is that often these matrices are really large and the vast majority of entries are 0, so it's possible to save space by not storing where the 0's are."
   ]
  },
  {
   "cell_type": "code",
   "execution_count": 19,
   "metadata": {},
   "outputs": [
    {
     "data": {
      "text/plain": [
       "scipy.sparse._csr.csr_matrix"
      ]
     },
     "execution_count": 19,
     "metadata": {},
     "output_type": "execute_result"
    }
   ],
   "source": [
    "type(tf)\n",
    "# this is not a numpy array, but a scipy matrix: keep only the non zero entries of the matrix: stored as a sparse matrix, or ill get a memory error"
   ]
  },
  {
   "cell_type": "markdown",
   "metadata": {},
   "source": [
    " To convert `tf` to a 2D NumPy table, you can run `tf.toarray()` (this does not modify the original `tf` variable)."
   ]
  },
  {
   "cell_type": "code",
   "execution_count": 20,
   "metadata": {},
   "outputs": [
    {
     "data": {
      "text/plain": [
       "numpy.ndarray"
      ]
     },
     "execution_count": 20,
     "metadata": {},
     "output_type": "execute_result"
    }
   ],
   "source": [
    "type(tf.toarray())\n",
    "# here I can covnert into array: a dense matrix, because the shape is not that large"
   ]
  },
  {
   "cell_type": "code",
   "execution_count": 21,
   "metadata": {},
   "outputs": [
    {
     "data": {
      "text/plain": [
       "(10000, 24428)"
      ]
     },
     "execution_count": 21,
     "metadata": {},
     "output_type": "execute_result"
    }
   ],
   "source": [
    "tf.toarray().shape"
   ]
  },
  {
   "cell_type": "markdown",
   "metadata": {},
   "source": [
    "We can figure out what words the different columns correspond to by using the `get_feature_names()` function; the output is in the same order as the column indices. In particular, we can index into the following list (i.e., so given a column index, we can figure out which word it corresponds to)."
   ]
  },
  {
   "cell_type": "code",
   "execution_count": 22,
   "metadata": {
    "scrolled": true
   },
   "outputs": [
    {
     "name": "stdout",
     "output_type": "stream",
     "text": [
      "['00', '000', '000ppm', '00ahbzefiu', '00am', '00pm', '01', '01iota', '02', '025ot0mkxw', '02mlrbfl2o', '03', '03feb', '03fmcfolkn', '03s1qccn4k', '03xygwzqeq', '04', '044', '04rttyqiur', '04vzw3g7xi', '05', '05bglcgqyb', '06', '06grudrpf5', '07', '07scj1dkxo', '08emyratwz', '08fbuqzsha', '08mamakitti08', '08rt0rlxrt', '08tbh33css', '09', '09qudb6kt2', '09vqlssof5', '0a54kj9fe8', '0abolwxszp', '0agkbrszhx', '0asdyufkl9', '0bbguz4s7k', '0bwjigjfy1', '0caw6q0e6v', '0ddette', '0dj04aybxf', '0efx5saqkh', '0epzigysqk', '0epzvltgbo', '0euyj6sfjv', '0ftqabhmn7', '0g4fgunqtb', '0h6zu33gx5', '0hg4wumltf', '0hilhzfo2n', '0hoouuldro', '0i2wdv503l', '0i6bvhtrex', '0idpgfsxy3', '0imgjbbwkt', '0iy7kotfpf', '0jfd1injdf', '0jfwrxndhu', '0jngnehay1', '0kctjpxsso', '0kdioxqhmu', '0keren9', '0ktseywxp3', '0kvfcxmisw', '0kwl8cyu50', '0llmy8vtha', '0llumyxbzk', '0lvg7gmiq5', '0lxbvvjzbj', '0mi82xlnnn', '0mtfqrrqi1', '0mtkkyrsh4', '0np6ool2f5', '0nr8vlmfjm', '0nu2jpaqkh', '0ojeb0flwu', '0okavi4xn5', '0op2m7yxlv', '0prndi13xs', '0py1cf24mv', '0q4vz7spdi', '0q8tnm2rhi', '0qcdgzvpf7', '0qnxy9x5no', '0qykq9h9w0', '0r0kg7jrop', '0revhmab62', '0rmq1emiu4', '0rwzudat9a', '0rxhqrgruf', '0rxr3c5saq', '0s0sod41zj', '0soqsh3cpy', '0sul2k3vgj', '0suuxu0vbm', '0t8rujkp5y', '0t9crn85if', '0tps9nxhko', '0uagkiq07x', '0ubiwbx7ls', '0udim42slt', '0uwtotkqoq', '0uxb5r9oex', '0vnskvce8n', '0voxgsz2mf', '0vup4bxpa6', '0vwqucqtg5', '0w8bufd6bw', '0wdhsxvyfw', '0wixcb5don', '0xalaric', '0xbqb61wr4', '0xcnre5bxm', '0xcsvkbe3f', '0xfuoqzlgs', '0xvzs3eeyl', '0xyssmznhs', '0y4j6slp69', '0ywbuqbuiw', '0zeg3aqkrm', '0zkgx2dcjh', '0zutiqx9qz', '10', '100', '1000', '1000s', '100ppm', '100s', '101', '101dalmatianstreet', '102', '103', '104', '1063word', '107', '109', '10a', '10am', '10b', '10bn', '10k', '10mi', '10mm_404', '10s', '10sj5brurh', '10th', '10tv', '10yrs', '11', '1100', '111', '112', '112michelle112', '114th', '115', '115k', '116', '11llotus', '11m', '11qimshjjx', '11th', '12', '120', '123info', '127', '129', '1290', '12dnfr8shq', '12m', '12p', '12smq2vavy', '12th', '13', '132', '135', '137', '13bwppk1fe', '13molon', '13nvestr13', '13th', '14', '140', '141', '1480whbc', '149', '14a3oldvdw', '14s9zrchul', '14th', '15', '150', '151', '159', '15th', '16', '164', '16ftz5hpzh', '16waptnews', '16zwdqkeng', '17', '1700', '174e4yorsb', '175f', '1776eagles', '177_mit', '1797h29xc0', '17atkazytc', '17th', '18', '180', '1819news', '182c0njts9', '1851center', '18er1rwt9v', '18fbsktxbs', '18ng5ks0bj', '18o718dvoo', '18th', '18vnc9mpib', '18ytzvhqto', '18分钟开始曝光地下钱庄https', '19', '1900s', '1903', '191', '1919', '1960', '1960s', '1961mcruzer', '1970', '1974', '1978', '1982', '1983', '1984', '1985', '1986', '1990', '1990s', '1998', '19d1inaea2', '19th', '1_real_lif3', '1acsezviex', '1adoykcpkl', '1aersiegkg', '1aeurhm0se', '1agw6gpmvs', '1au0o0e68p', '1aukbcysur', '1awuc9le9p', '1aywo9utas', '1b', '1baze75xsb', '1bdthb6e9y', '1bobn9nwhh', '1by480jruu', '1cbkcj0c0i', '1condor78', '1cozzmxcrn', '1czm8ut1gc', '1dev9nxmoa', '1dnsara5pb', '1drgdkdfka', '1dxj1vo56p', '1e3xvogr2r', '1ecntrivoe', '1ehblz1kmo', '1er', '1f9vaduh76', '1fiysb603n', '1followernodad', '1foreverseeking', '1gojaejfk6', '1hbrzygzds', '1hpglwhid5', '1hqmwyer9t', '1hwizxdnwm', '1i3ohuphtj', '1iccgxrw3c', '1ijdr1uyxg', '1io0nhvxcp', '1ippiujr4r', '1is3p5nir4', '1iveiurkxd', '1jbkckx56b', '1jfhwjzuh5', '1jmmj7anj1', '1k', '1kew6vyje8', '1kj3209kfk', '1kr7a5iimw', '1ktlji4r6t', '1ku3lubsfa', '1kxwzji2xb', '1l2fpejyhu', '1liavhsj4r', '1ljrqepmvw', '1lkirw9gcs', '1lyjxcqlcl', '1m', '1m44lhrqvo', '1m48fgudho', '1mcculcmq5', '1mdqdxkagd', '1medicmom', '1mels1z6u8', '1n13ru5hgy', '1n1ywpic0h', '1nduepxge3', '1nmvvrlpnr', '1nvtp9ztgu', '1oive429ho', '1okogdd5ej', '1orrtpgkg4', '1oxhosvekt', '1p1ybl4x65', '1pcqdpn9jl', '1pqfnzp8jf', '1pxjg5nh1z', '1q6w8ral0e', '1qi6jttjkt', '1qobs3kfap', '1qstpmmhab', '1qt7028ajs', '1r9li8gwkc', '1rsezlbneo', '1ruhibhhpq', '1rv0vbyxec', '1rvcoa6knk', '1s07lq5k0g', '1s6gmsqfht', '1siv0fgdtp', '1st', '1t5yv3lgho', '1tblair', '1thbxjsfdb', '1tix3bakbs', '1tlwebeugg', '1twn3vrqjm', '1txucicjkb', '1u2t0phu6a', '1u4bgdhany', '1uzucrcwt9', '1v3uxg9tst', '1vdq0fhhc4', '1vfz1mu290', '1vhbnwpjei', '1vkb5rtedt', '1vsk5fjph3', '1wlexbm5yj', '1wuacwsnfh', '1wynplxy1d', '1x3boymixh', '1x50moiws0', '1xe0xedys5', '1xgl3odhn7', '1xxm2jgn2j', '1y8meq0sps', '1yanyrgmah', '1ypr5rysob', '1zj5tfvpqe', '1zjpsgzrht', '1zuwjt7dkc', '1zxj35qdjh', '20', '200', '2000', '2000s', '2002', '2003', '2005', '2006', '2007', '2008', '2010', '2011', '2012', '2013', '2014', '2015', '2016', '2017', '2018', '2019', '202', '2020', '2021', '2022', '2022年1月斯普林菲尔德也发生了一起火车事故', '2023', '2024', '2043', '20consultant', '20east', '20in', '20said', '20th', '20the', '20train', '21', '2110_atc', '211ptggkkc', '212', '2120sdarmn', '215', '219', '21chdrdqu7', '21oz9cponf', '21st', '21wfmjnews', '21wire', '22', '222', '2222', '225', '22feb', '22nd', '23', '230', '231', '233128', '234', '238', '238171', '23ncn2vbhc', '23pich0vft', '23rd', '23skidoost', '24', '240', '2400', '243', '2457klhu', '24k', '24legtljvi', '24rick45', '24wffcwzrl', '24x7', '25', '250', '253', '254', '255', '25k', '25ribbits', '25xb06t8i5', '26', '261', '26lsibpoct', '26mph', '27', '27krhtwxhi', '27yyglhy3q', '28', '280', '28dznemy1h', '28twcbx8qy', '29', '290', '29dpg47kwd', '29fvptj5b3', '29liquwlzk', '29riqkj7ub', '2_acre_living', '2_off_the_grid', '2a466lkwls', '2aj2osxnwk', '2am', '2aukc242rg', '2axglfxe0z', '2b2eyyuezc', '2b9xslax1k', '2bdej6wp8s', '2bfbfniuib', '2bn', '2byx1c2jog', '2c', '2c2nhjdmpt', '2cakgla5f0', '2cdcrvt0wd', '2cmvuvmjaf', '2d1d61gtyg', '2d8enx8azr', '2dtxg6tbw0', '2du1ujmkms', '2duias5eio', '2ebwrvq65q', '2eeirfwcwc', '2eglgnup1i', '2egrahrrbn', '2f7nsvsrpb', '2fkt4useok', '2focou8tsf', '2fod49msof', '2ftvfipnzo', '2fxukfpdkp', '2gae2vxdn3', '2ggnbr1ibk', '2goolytt9t', '2gq8zisxot', '2gtq57wghv', '2gw4lxqiuy', '2h5coixjw7', '2hrtxkdf25', '2hvcrxlfhe', '2ihqwvpjpx', '2iq0borthm', '2irhv7yafi', '2isdtiauva', '2isemtp7p0', '2iyfeaq3sn', '2jatqmxfx7', '2jbfxsnluu', '2jymaeetbl', '2jzormu0jj', '2kioefimhu', '2l3a4j0eug', '2l51r8kcs2', '2le2vnfvjv', '2lf6rlxvnb', '2lwqsp5ofp', '2m', '2m29yeif2w', '2mlhw3vk71', '2mtwsonkpr', '2nd', '2nggmddtst', '2noksipzg2', '2nrah8brig', '2nrkgcqqfp', '2nxonhsege', '2o3d5r2wb7', '2oiohj13bd', '2ptzaousl1', '2pwq54bxk5', '2pzgfnprpf', '2q2jrc8jld', '2q35wgq0lq', '2qmyael8ol', '2qpuavzhvs', '2rhy6itkta', '2rmtevdp9f', '2rrf3xi9sq', '2rxh0uaa1v', '2sacqqxact', '2sdqlzmuad', '2seekergeorge', '2sisifmun9', '2specialists', '2syycszcfz', '2tbqbomurv', '2tddocspjd', '2tf528uiui', '2toaqawozw', '2ty9bak7xi', '2u7xlkmutj', '2ujs8az93i', '2uk5qz5bft', '2umcihdpsn', '2urypq3hof', '2uunydtu2m', '2vayrvtexw', '2vbgl89feg', '2vhnimnbuz', '2vkqhozlc9', '2w3ryq1htq', '2w9n0ousfn', '2wbeb1w5ac', '2wbeztjbyx', '2weeks', '2wgblsd2yh', '2wgnlvrgxa', '2wks', '2wmmbhykdj', '2wnjgaymza', '2wxceta9eu', '2xlzpk15vn', '2xsln8p5h3', '2xwx91ey9a', '2yf7kezysc', '2ypvx5breh', '2yqtxd5lgj', '2ysjrntyk0', '2z8iupwuzr', '2zc2ssswuv', '2zffin1wcb', '2zsowqgb3j', '2zupl6mhc2', '2ο', '30', '300', '3000', '30actruth', '30car', '30hfyyrecw', '30otncrrqb', '30pm', '30th', '31', '315', '317e2ercip', '318xnjygce', '31krkhtcv8', '32', '321jz', '325', '32n', '32nasty', '32ntydknjw', '32sczoy7by', '330', '3302clhscr', '331rg96ycw', '333fdwtgza', '334265v0x7', '3354', '33sdwnkge1', '34', '340', '34phzrb97h', '35', '350', '3500', '350_us', '350nhaction', '350vermont', '35nry7ikko', '35pz2gyisy', '35uluulofg', '36', '362', '36mrfcyqcb', '37', '375', '378yjsfoeu', '37th', '38', '380', '380m', '38ce3w5s5m', '38dumktez2', '38rqzuacct', '38znf81lrk', '39', '3919', '39dnrt5s1b', '3a0tgppoou', '3a7ssi8dqa', '3afxvzvl5v', '3ahxckznnm', '3b', '3b7i7uani8', '3bcaubqfhb', '3bee21cz9e', '3brmoe7h76', '3bvh5lfwdv', '3c0jhwqpz3', '3c9dgeogeh', '3celxewx36', '3cg7frzde8', '3csntstoux', '3csqatqmtz', '3d9ywkhtfg', '3dancingmaidens', '3dg0vva2xh', '3e4coz3abf', '3e6waath8y', '3e9fgj8wfv', '3eqbhmiyj9', '3erxgivjzx', '3ew0vvaee9', '3ewxgclvyb', '3f42eit2nj', '3f8jumui3m', '3fa90eeezx', '3fmxmzadjv', '3g1wvmna2q', '3gkg9xlupl', '3gu9ebuhv4', '3hdryg0lkp', '3hixsazwy5', '3hxnhjjafs', '3igmssmv3k', '3iksdlra92', '3iollexl9k', '3iqkjrlvsj', '3izq4jj2yr', '3j1bt3ngff', '3j1hi3tzlw', '3jbd6h18j3', '3jezobvdwe', '3jfkqcipmz', '3jhfzjvcpq', '3jhykmwrde', '3jiit9rnvw', '3jnfldzsnd', '3jtkxwl3tx', '3jxlrdgkel', '3k', '3kbn81yvk0', '3kcrr6dokd', '3kplij5j73', '3kqtqkacy2', '3kxuydcu5t', '3lilcydopm', '3lv7lxqiza', '3lw60ox704', '3mftjakocd', '3mka71xvx4', '3mslshivuw', '3mwtr5cy8z', '3mwy7yckzg', '3n0d7iukug', '3neuedj2mt', '3news', '3ngonsiclg', '3njo570l3y', '3o1ufu9r26', '3o1ws3bize', '3o7e9qlbog', '3opgph2q6p', '3opq0ahlf4', '3p9blexivi', '3pftk9midg', '3pm', '3pryrlab3w', '3pto9nyuv9', '3pvcbninlh', '3q2znppuex', '3qbsqzqxcy', '3qg5kxjz35', '3qlyhjirzp', '3r0ejwfafb', '3r9gzaaotf', '3rd', '3rz0lj5bff', '3s2rqbgotz', '3s4oitktcr', '3sdge7orph', '3sjy7cz24j', '3ss4dyllza', '3t5qrev7rb', '3tanzngrcf', '3thbgwthyk', '3tzobdsupw', '3u3iu4kdof', '3ukntv2ouv', '3ut6ogqnx5', '3uusdmgv2g', '3uuvvjgsya', '3uwcvqdxou', '3vimafz8g5', '3vystbzsci', '3wbzmrogqf', '3wxpzcs54h', '3wz7ozbxjp', '3x', '3xdu6winik', '3xe9h1dihf', '3xiffkqqqm', '3xnqhuw9mn', '3xoiqfwhls', '3xsfq6i9bm', '3y5jcjvl5w', '3ydmsezcl5', '3yjdflmwvj', '3yld5ojvtt', '3ylnqvkv5k', '3yscvttpf0', '3yzejsylqg', '40', '400', '4000', '401avhokfd', '4029news', '406', '408pqarixq', '40bcamwoa2', '40cw', '40jgjwpqvx', '40joah882u', '40pm', '40rvfjkkty', '40tjnyc5le', '41', '412', '417', '41sn96i508', '42', '42gnome', '42h7eawvkt', '42r8iwzwes', '43', '43k', '44', '4417cron', '448', '44p4ulq2au', '45', '4503', '451', '455', '458wfpnuqu', '45angelheart', '45bestwords', '45gawvdsec', '45k', '45lvnancy', '45th', '46', '46d63ra82c', '46lp9wygqb', '46sjaw7yhb', '47', '4718', '47kna45', '47m', '47qicxhzkb', '47vynsfxlh', '48', '48ha7pwrlj', '48hlpf9aux', '49icjcryo8', '49mph', '49ylfmw66y', '4a31xvvwgb', '4a9zubddbt', '4aehynkcy3', '4afg4ian7m', '4aiuwu8v5s', '4ak5blywkz', '4amp7emlad', '4aywvvcvhi', '4b3cdbmplg', '4bd1luvces', '4bwygtzujz', '4cbfh5gvos', '4cbly1ip1p', '4cbo1fjj5j', '4cc6vszfjf', '4ctx7fce22', '4d5gekb5pj', '4de7p7spjz', '4dvlsv1fso', '4e6psnzbn8', '4ek9ausjbj', '4eurxrq5jh', '4f9rskboqp', '4g4gyraow5', '4g8tz151ht', '4gbf8zvjyn', '4gfqgihcwa', '4hbthiimuk', '4hey0lsylq', '4inug9jxhb', '4ivctq30jj', '4j9t5ejjfw', '4jbipkcv4b', '4kpilpcxfy', '4l2hwunu5f', '4lbv7zs8hh', '4lcit5r1bb', '4lizp3y1ax', '4m', '4mjkgn5rjz', '4mluyuzau6', '4mlwekzjew', '4ncachjdmt', '4ndyxupe5k', '4nhhfkjvg3', '4nkopqel8y', '4npccm4xgn', '4p4hadef42', '4pm', '4pvejzaar9', '4pyqbioypw', '4qofth7vc9', '4qtlz0ld8q', '4qx90gip5c', '4r5dmxkzzt', '4rbsl01uc1', '4rgz1dsgpx', '4rightandjust', '4saku38i0s', '4scarbjxoy', '4ssbfvzdhk', '4swe7fgzqf', '4t9enwbn8j', '4te7jp5ip2', '4tf2y7k60f', '4th', '4tkmnn9d8m', '4tsc0dne9u', '4tvuewjvnx', '4u', '4uc8kubncu', '4ufma64jmg', '4ujjrgoegv', '4uwqn73gd7', '4uznd79lqp', '4va4c0badp', '4vojnf9dzs', '4vxa2bjodb', '4w8ll6d7ju', '4wforqdn0l', '4wfznztw0h', '4wheeleddog', '4wo0vupnf7', '4wvjf8sta0', '4xkp75iods', '4xrg3dxjzo', '4xtol20fbo', '4y5duqo94k', '4yed2w7ynf', '4yiwz9tnjq', '4yobsxnpon', '4z4soy67fd', '4zcqpdrndj', '4zdt6qbszp', '4zj9anwpio', '4zov8tnmtu', '4zreslytdk', '50', '500', '5000', '500k', '500m', '503i7', '503ymujllt', '504k', '50zgxpou2b', '51', '514darkcholate', '52', '53', '530', '53bu5vkgdi', '53fyt6rtps', '53pm', '53xi5hl8hm', '542', '543813zkav', '55', '550', '55bn', '55d0w5qatg', '55gtkqhobb', '55pm', '55r0uid5nj', '56', '5600', '56awtjhqgx', '56rgbyswse', '56uztif3sn', '57', '570blj53ut', '57eyqb9rbm', '57fsloht35', '57ljdsfjpa', '57nkapkgsa', '58', '580', '586', '58bugeye', '58ciyaxix1', '58qjhx69bn', '59', '596rrus0rp', '59fqubwk43', '59i2l9um6x', '59pm', '5ab4xwmjlj', '5ajcyowebt', '5ankkx1dqi', '5b', '5bcpt1fukb', '5bqhu3fzhy', '5c5bhcirqv', '5cjaycyeaq', '5cukcwlrtc', '5dgbkp4l7w', '5dl8zr1dtc', '5dqktiarqe', '5dqoykxjji', '5e3qqb5uri', '5e6qcxhejo', '5ehjjlxuog', '5entt4spkr', '5f66eflbtf', '5fd3u9xwkf', '5fdjrji6aw', '5gklbsgwpz', '5gvpatp8or', '5gw5xgfgtz', '5hherc16gf', '5hhjbm4qww', '5hnokjcjf0', '5hptrsb8qj', '5hr', '5hrs', '5i7o4itvpj', '5iakvwt2gg', '5icuup9qnc', '5ihbipyn6s', '5iptp79lre', '5iqkuitpf1', '5iqwzt5wpj', '5irbs9wfrg', '5j6rrhrlz4', '5jda4jo3ti', '5k', '5kcactwg42', '5kmvsvdm55', '5kor3hhwuc', '5kp6qigslb', '5ld770qmtg', '5lowvd9w3q', '5m', '5m6zdly6wh', '5mbp7mggyz', '5mft46stku', '5million', '5mm', '5mosl397ry', '5mvxwpctqv', '5nfsvhhm81', '5nmcbfjmrx', '5nxislm7m2', '5o7grjxsub', '5oehzoop27', '5onjx8cesd', '5opbqhmxak', '5ovur7mijc', '5ovyvgqayp', '5oxv18mbxw', '5p', '5pm', '5pylq3buhl', '5qbumgmmxe', '5qjtyp5xio', '5qksbjpiai', '5qnbcfwjgu', '5qs3oj5yrz', '5rbrvrl4ux', '5rfxhnrkaw', '5rkhemj9vk', '5rnysjyadl', '5ryuufwbpg', '5sf8jkzwty', '5sic8v3xm6', '5sjjeo0lyb', '5sjubuetvt', '5sldwqjjz0', '5smz8q35cu', '5sy4mtkj9y', '5tfzlfniio', '5th', '5tinfczhuv', '5tksba4oms', '5tvksirj7x', '5u643poo0d', '5u91miwqw2', '5ufplpayq9', '5usefgk0hz', '5utocc7oed', '5uyhsjotei', '5v3vdmim92', '5vfvpzabu6', '5vkqfhg9gs', '5vqbxth17n', '5vzasv9ag1', '5w6gyyw4ex', '5w95zef5ik', '5wmk2bskwq', '5x', '5x15deewg4', '5xde9zxyw4', '5xe5l3cqma', '5xihehfxxd', '5xljnz88jw', '5xx6sbu6ul', '5yhr4yvcju', '5z5lzgz6ng', '5z9a2kuisw', '5zrdjumgy8', '5zvmkajb29', '5zxui0csux', '60', '600', '60lrsaxwgq', '60tpayamnh', '61dtax1qrw', '61geznu1ei', '62', '62chcoviss', '62walterp', '62z7hsdrxh', '63', '638nd6xp7i', '63tqwmuvbx', '64', '64483', '6474', '64ubttfbci', '65', '650', '65320bob', '655d8mzyqq', '65oo9c7hri', '66', '6669', '66nrbgitaw', '6700', '671', '671m', '675', '677l2vybmd', '67pmu2a47c', '681', '687ln4ejmx', '68j6woky6u', '69bolage4t', '69f62on9k8', '69x1cgipec', '6a6l8yh1i3', '6adho8fnbx', '6am', '6am65dfpsl', '6anpz4qjwj', '6aoyebb6tc', '6apbqt5cx5', '6atjmkxc7x', '6b', '6bnfffltfm', '6bnpdpthl3', '6bnyh3bnht', '6btbngwbou', '6buoncvm5c', '6byta7uigv', '6c5pxjelmd', '6c75okqzsf', '6chldrd2rl', '6ci7ypekym', '6cu79b1hoy', '6cxlalvl6k', '6czxtk5rpn', '6d0krswovu', '6dhzagjynb', '6dilbolbqt', '6dnt0mdsz3', '6e9ghuuu1o', '6eawzwj5ib', '6elze5vdgn', '6eqbnmfukv', '6f0kfhytka', '6f1wxmrtxy', '6f4gnpu0sz', '6fatxsw4b7', '6fdxscau0h', '6fkncgb3hf', '6fxxocqcf1', '6gmlmndyna', '6h4gjt08c3', '6h5uowce2l', '6h7adrekjq', '6h7igly921', '6hbsjvtzww', '6hi5sfag3b', '6htgllxgxe', '6i1wd3dblv', '6ieaswvfpo', '6itl7mghd3', '6iwdckrvxk', '6jffjscjla', '6jt5adz0el', '6kagc3jhzd', '6kaklhmfgt', '6kioa4cwyi', '6kizbs3iao', '6kpnp51kfz', '6ksug0tqgc', '6ksuhnipo8', '6kybyrte1k', '6l952qslpu', '6lcqkx4iav', '6lfa17h3g7', '6ltplobql2', '6m', '6ma1enlha5', '6mai5u0evc', '6mfw0gbuwq', '6mjlccdwnp', '6mp9nlz4mb', '6mseglkpni', '6mustcrjwx', '6mv48imawu', '6nbvdwo2uu', '6nbyrc0nef', '6ng1oqdkdq', '6noz05apau', '6ntc7qtnpz', '6nvomgoix5', '6nylnnm4xq', '6p4efrzd6v', '6ppn1wngkd', '6pucerixgv', '6qcth1hrlb', '6qowdnaiia', '6qvuhpomnf', '6qy1b73ulf', '6qyocdkh0m', '6rjiavplj6', '6rxi4ols1c', '6rzomhcjax', '6sfelceuzm', '6sm5arhssp', '6smgtjsotj', '6sn5080u26', '6so2c0onod', '6svimdodrd', '6sxvdro7rf', '6syjvrfs8d', '6t5vyb5glv', '6ta9ritns6', '6tdcz1vl9n', '6tgms7suik', '6th', '6thfygl5my', '6toyygnpen', '6tre542vra', '6trkeq07qx', '6ttv7fmnt0', '6tzo05jhw8', '6uipgj7fgr', '6ulmf2hg4b', '6uqgczcdaw', '6v0hapwcx2', '6vckhawnma', '6wbezzykou', '6wqq24yvjt', '6wyih6fofe', '6x1zwd5wer', '6z20ckadke', '6z37bqxia3', '6zi9vdubei', '6zqywivfie', '6zzaxqhyds', '70', '700', '700wlw', '701zwiepga', '705', '70k', '71', '711573', '713ig49klk', '715', '72', '7220elbhhx', '724242', '72qw0ec3gi', '72zkixnra2', '73', '734', '737', '738petey', '73qdakjrwt', '73rcywufre', '74', '743', '745b', '747', '74ehg3scpo', '74hvfk0f8p', '75', '755gok9fuz', '75cbreeuih', '75jr', '75jrje50yz', '75k', '75tyrvk53s', '769525', '76rsfyxryi', '76xn5bcedy', '77', '77uo7gzmu9', '79', '798rhjvhcs', '79oqzwjox2', '7a1kowcpgw', '7akl0hdvfj', '7al8tltuns', '7anlqzlcwh', '7aucyxnbgk', '7ausfh7qtf', '7b', '7b9gqivmuh', '7bcqmpaywq', '7bq6lbb1ow', '7btrxhwwtv', '7bxpqgk8hu', '7bzxfoxtm7', '7c5xgycgrt', '7cawrisulh', '7ccfkyrntf', '7cvooveavg', '7d4jl4gv7g', '7dtqplxp0v', '7e9wkxgzyi', '7efquap32l', '7ein30fdmb', '7ekmlemb04', '7exenu5pas', '7f2djkwao3', '7f5yrkzq95', '7ffremevy6', '7fq3jikeb7', '7fyq4q61r4', '7g5t4o7r5c', '7g78e5v4i8', '7g9ocqn4ao', '7gjsjgmqun', '7gk1dljsyk', '7gv9puaupf', '7gvd2d8yy4', '7gyjtwnbuy', '7gzacsqepi', '7hpem9uxkd', '7ihd5odyrz', '7ikzbknug2', '7iodndmi0g', '7irrzeqc9v', '7izsalqdlb', '7jjimdkmlk', '7jpani4d7h', '7jrzfqcqkh', '7k6a5m0jzt', '7kbiwsoy1k', '7klfjespmt', '7kw6orc1dn', '7l1kgeiwxz', '7l7dfgyjgf', '7ldl59alev', '7lgkamu2pu', '7lmesjovcq', '7lrdxluq81', '7lvrrh3rrp', '7lxv8qkww9', '7m', '7m1y1ntyll', '7m3ywdfeab', '7m6aychbrl', '7ma8zwaqal', '7mdqzhafi1', '7mfpxsmqtx', '7mhsjxhanv', '7mil', '7misq5utfc', '7mnlur5bvq', '7moahchccx', '7msuqjefuw', '7neexfsbrm', '7ng8wl2hei', '7njpoegjzc', '7nxqwlgone', '7o8abofmgc', '7oddlf0x3v', '7okhzetdec', '7ot9q1ht8h', '7owhga2imp', '7p1cydsl8o', '7p7f6pcgfk', '7pafkylxhn', '7phrd05a4m', '7pm', '7pmqnk47vl', '7ppuuzqilj', '7pugnrcz3j', '7q007vw9vd', '7qbbzixkp9', '7qmv9wan2c', '7qq0dxzroq', '7qwabsfkwi', '7r1erkqnzi', '7rfveducr4', '7ripzgjzh5', '7rm8gujhhu', '7sfplpkfx3', '7sl3zhcdvj', '7supm7xifi', '7t8zeas8d6', '7ta55stscz', '7tev5arbaj', '7th', '7tvbknopys', '7ufzcayzc3', '7uh3jodmbo', '7ujefpzwpl', '7uuwbik6wp', '7uxqtydq7l', '7vcexjys77', '7vkarl4jr2', '7vnt9eq8aw', '7voab9mggc', '7vvm8yqxky', '7wjm6sbvza', '7wkorglhzt', '7wozcjuv71', '7wtx6ipylj', '7wx2vnbdca', '7xceamkkj5', '7xdyzne3xr', '7xfoxatayu', '7y4eg46ibz', '7y4tx4eucp', '7yra6rmpea', '7yu7mzgohu', '7zbs73fb45', '7zdbe5p27r', '7zial1wtz0', '80', '801', '808constituent', '80bjhoylqr', '80jq4we4e4', '80lhikhr8w', '80ryzp1xgr', '813', '814', '814zuyhyrt', '82', '827js', '827mziuxes', '82bwaajy7z', '83', '834vvvxuig', '835scu6bcm', '836522', '83yxapusnp', '84', '841920meema6', '84524cm3ia', '849', '84hoqxqbmq', '85mozp8ohn', '85y4zvd2uj', '86rhf4otpa', '86txrmhxiu', '874d8vyp9e', '87p68poolb', '88', '888', '88lurker88', '88mattr88', '89', '89kuuo890o', '8a2wbddz7n', '8a7xrlhqos', '8abws9r3yf', '8acdqqt2ie', '8adznweol7', '8aitykjeru', '8aj0vw2kns', '8arn9jzhtt', '8auvxqgffk', '8aw83fepjc', '8azejpk1xm', '8b9uvi929x', '8bbspggnen', '8bi2hrbj4x', '8brianvogel4', '8broznbmc8', '8bs62h3q8l', '8ccu5loqaf', '8chan', '8cowkzafmz', '8cvk4oycs5', '8czggcmnwb', '8czrblh4sf', '8d0f10qcii', '8d0zlmwrw5', '8e0medgfgy', '8e4kolppws', '8e88cyuzlm', '8eqv9okj4b', '8ermnufnq5', '8ewvndfqxt', '8ewxne5jpo', '8ezceyuvbc', '8ezpjt7fvk', '8f2cyknuix', '8f34ylcpsr', '8f6ylvlp2l', '8fcrgjxrhj', '8ff1mhkjnt', '8fhuoa2fsi', '8fqw4fdnib', '8fwjybdbyl', '8ghzd31dlq', '8gqkyfhjxd', '8h', '8hj2nnfixp', '8hqriv2ipf', '8hrqjazoaq', '8hwbh809vn', '8hwcqxfuh6', '8hwnkaci4d', '8hz1aah7tb', '8i6eqjivcs', '8ilv9bwecy', '8ime1xhrut', '8iuvywous9', '8j1goojhlm', '8jekpgjj0k', '8jiwpi66xq', '8jtzir4mcf', '8k4yx0dehi', '8kfl7xllfp', '8koxvwtesp', '8kwp5rslgi', '8l9zeysucv', '8lbvgzc4sf', '8lfcledspl', '8luaik8zhi', '8m0cnqgihn', '8m5wsvrx7c', '8mconmsunk', '8mn3fqp67u', '8mod28ehq9', '8mpfx844jk', '8mw4eelucu', '8na4iy6wlq', '8nffn6oamq', '8nn', '8oedntcttq', '8oqlftjjpj', '8owigwgq32', '8oznwt8ilc', '8pagy7qqqw', '8pgbisvgy7', '8pm', '8q5npfhygn', '8q6xxkam7l', '8q7hat3dov', '8qglpa47l4', '8qjp4uomor', '8r1ka36tnf', '8rdzkasyil', '8rj1l8imhx', '8rtoqu6r07', '8sa4um8sgs', '8sdw6fwenk', '8swent6ahi', '8th', '8tibic0fou', '8tip1hm3le', '8tkonue0ji', '8tm4clf9qh', '8twckwujvv', '8tzhftquu0', '8u5zvocwq7', '8ubmr9qo4f', '8ug8gyylnm', '8uhfztrtwc', '8ujvmeumko', '8ukpwmvmbr', '8vbw2mi2rv', '8vdyoddckv', '8votvxnwnv', '8vpxyxmrje', '8w5zsocoka', '8wh3dvxbxd', '8x6xrnmekl', '8xjsiz5jxi', '8xsau3qsbk', '8xvbqyws6z', '8xxtdnxjto', '8yhzb5iikl', '8ylxujcxps', '8yok4puils', '8yxvelbj55', '8zipsbeict', '90', '900', '9025', '905wesa', '90hbcnk8vp', '90kavjw1mz', '90vd9awulm', '91', '917', '917wvxu', '91st', '92sjippg3h', '94', '944', '946400', '94gqy9ilbu', '95qcsc1srvi', '95ykv4udzu', '9653p8oawf', '967tcwmpss', '96feo1jir1', '96wkyjj5c0', '97', '976k3unnw2', '97qmoeypdp', '98', '982abylhkn', '98dwa3fqc6', '98wkpbgsjo', '98zox6mbo1', '99', '999', '99fecmmru0', '99j6zepsg8', '9a0d6ced2a', '9aceqinqrq', '9b', '9b7yplfb8x', '9bdh0tbjtt', '9bmrey5u49', '9bs4clgzno', '9btpzcvmbd', '9bvxetllmx', '9bx5hjlvmy', '9cbq7myxhi', '9cfroxcyc4', '9coruhnkah', '9cppgkirsk', '9ctkji5azq', '9d6a0hsjre', '9dv08m0y4k', '9ebtr4ru2q', '9effzofctb', '9erd1ak44i', '9ev8hcsyci', '9fssrgsofm', '9fxgwahma1', '9fz7d9krah', '9g2m3hu7fx', '9gehoqxzwn', '9gsccz2r5n', '9hftupcbok', '9hp5beub7w', '9hsvi2nfyq', '9i2axi7oqk', '9i4ngylszm', '9iabz7pi4e', '9ievpuuv2u', '9ihzn8tqfg', '9iy0sd3hbq', '9j1zkmikd4', '9jbygv0xd5', '9jdjg7fwub', '9jhjno5og0', '9jmjrwlu9g', '9jryl6svac', '9kcikpl5xg', '9kct6do5ff', '9khyqxifzt', '9kphsla6vc', '9kzjywsele', '9l5lo9qzek', '9lbi9wek3l', '9lhd0ki63s', '9lvrszpggt', '9mfrt7whw8', '9mpomerflx', '9musqffpdg', '9mzx1xci8s', '9news', '9nilxwm4t7', '9nm8trwxrf', '9npbekubgs', '9nqqpxbghi', '9nxcopb4sk', '9omkt6wbtf', '9oo6ckxtxy', '9opqnik4x2', '9oxddn40za', '9ozvuefna6', '9p1inoppls', '9p3ttfrq5u', '9pechybhh1', '9pm', '9q4cru6x8q', '9q6wocsmtz', '9qkaxatyco', '9qkdzjsqna', '9qo8fcwd6h', '9qukzedj4d', '9r25vld5c3', '9r3lveve18', '9rapjyeuso', '9razkwsupi', '9rcg8zpldq', '9rcg8zqj2y', '9rqfxeupfd', '9s4efoolox', '9skmkeshpi', '9skt6rwfit', '9srztjywhe', '9sufgaqp86', '9syeykxdmj', '9tagbotb8f', '9th', '9twdrrk3cf', '9twglpjxvt', '9u3qhzlzpg', '9upikmcedc', '9upkrsjenz', '9uptnkhrgh', '9v4resoxpt', '9v5tidxwo0', '9vealy46fn', '9vhfquzukp', '9visdadp9p', '9vluoonlem', '9vnjzm3lxo', '9vqi6llxmd', '9vuqvtt3be', '9vwrrhvmec', '9w', '9wd1oy3qsu', '9wdkdauk99', '9wi1xwztui', '9wkwxyd4ni', '9wv10t0nb8', '9xax0l87y9', '9xhdfm5lgz', '9xkbnnt0m6', '9xwaetf1w3', '9xykatbk5w', '9yceloe8cl', '9yhe0saqjz', '9zb4nkkog8', '9zbevb2dtr', '9zct2fb95o', '_____', '___rudy', '___superluminal', '__passthemic__', '__stinkbug__', '__twicethefun__', '_belle_curve_', '_capitaloffense', '_cingraham', '_eric_reinhart', '_hughjasole_', '_johnnymaga', '_kel_varnsen_', '_matt_hammond_', '_medgold', '_raethemartian_', '_s_mith_', '_silversmith', '_smokeygirl25', '_starandrea78', '_stephaniehaney', '_stephaniemyers', '_the72', '_thisish', 'a04nsf0few', 'a07yppko7m', 'a0btxlb9bt', 'a0ltw9gzsz', 'a14_g62', 'a15xavqkj5', 'a1bfhvmk4r', 'a1j9rfldcp', 'a290wcpq0x', 'a2aw5li1ww', 'a2db0uwlwn', 'a2ynemgahj', 'a3uqocu183', 'a4bfnigks0', 'a4idwemr89', 'a4tolgtoys', 'a5fjz4sq63', 'a5wibpoj0j', 'a5xd6sg1d3', 'a7gzhpj1xn', 'a7q9lqraij', 'a7rr6higx2', 'a7s7qn9w90', 'a87tolggxy', 'a898aym7z9', 'a89wuez3xr', 'a8dyqs1ee4', 'a8pgewy9cf', 'a_echosystems', 'a_nhdoglover', 'a_research_guru', 'a_w_gordon', 'aa6yhsz2sq', 'aa89gupouh', 'aab8elkeno', 'aah', 'aai7b2zqe9', 'aaj4f8cnnk', 'aajcrw7rde', 'aaoscjx4m7', 'aapdxgux9i', 'aar', 'aar_freightrail', 'aarohi', 'aaronjmate', 'aavicpfg8j', 'aax6ffri19', 'ab', 'ab7rrytyv3', 'abandoned', 'abandoning', 'abbott', 'abc', 'abc11_wtvd', 'abc21wpta', 'abc30', 'abc3340', 'abc7chicago', 'abc7newsbayarea', 'abcbirds', 'abcnetwork', 'abcnews', 'abcnewslive', 'abcpolitics', 'abcwnn', 'abcworldnews', 'abdullah', 'abemdak7tr', 'aberdeen', 'abetted', 'abffzgevzc', 'abhorrent', 'abide', 'abided', 'abiding', 'abigailbottar', 'ability', 'able', 'ablueview', 'abmghql3fd', 'abo', 'aboard', 'abortion', 'abound', 'abppa2hjyo', 'abqx3zqh6b', 'abrams', 'abrat626', 'abriter', 'abroad', 'abruptly', 'absence', 'absent', 'absentee', 'absolute', 'absolutely', 'abstract', 'absurd', 'absurdistlocker', 'absurdly', 'abt', 'abtaxf91fq', 'abughazalehkat', 'abundance', 'abuse', 'abuses', 'abut', 'abvhfzvubw', 'ac44c6m', 'ac7mrjmz5b', 'acc', 'accelerate', 'accept', 'acceptable', 'accepted', 'accepting', 'access', 'accident', 'accidentally', 'accidente', 'accidents', 'accommodations', 'accomplices', 'accomplish', 'accord', 'according', 'account', 'accountability', 'accountable', 'accountablegop', 'accounts', 'accumulate', 'accurate', 'accurately', 'accusation', 'accuse', 'accused', 'accuses', 'accusing', 'accuweather', 'acdideninvestigation', 'ace_boogie504', 'achieve', 'acid', 'acke37o3jm', 'acknowledge', 'acknowledged', 'acknowledges', 'acosta', 'acoustic', 'acquired', 'acquisition', 'acquisitions', 'acr4bxkdia', 'acrecampaigns', 'acres', 'acrylate', 'acrytearsmag', 'acszahtvdn', 'act', 'actbrigitte', 'actbyzwsjf', 'acted', 'acting', 'action', 'actions', 'activate', 'activated', 'activateva', 'active', 'actively', 'activism', 'activist', 'activists', 'activities', 'activity', 'actor', 'actors', 'acts', 'actual', 'actually', 'acute', 'acyn', 'ad', 'ad1czbrecd', 'ad2j3lizd8', 'ad2kjlqefu', 'adam', 'adam_antill', 'adamf71565830', 'adamforcolorado', 'adamkinzinger', 'adamlowisz', 'adamparkhomenko', 'adampiersen', 'adams', 'adamwren', 'adani', 'adapt', 'adaptation', 'adapted', 'adaptivmom', 'adbwoe6orj', 'adcperez46', 'adcq7zcxht', 'add', 'added', 'adding', 'addition', 'additional', 'additionally', 'address', 'addressed', 'addresses', 'addressing', 'adds', 'adelina_rolea', 'adequate', 'adequately', 'adevotedyogi', 'adhere', 'adherence', 'adirtyrottendog', 'adjustments', 'adjusts', 'adkn00', 'adl', 'admin', 'administration', 'administrations', 'administrator', 'administrators', 'admins', 'adminstration', 'admiralmpj', 'admire', 'admission', 'admit', 'admits', 'admitted', 'admitting', 'adndotcom', 'adopted', 'adopting', 'adouble777', 'adria_french', 'adridaplagueboi', 'ads', 'adult', 'adults', 'adv', 'advance', 'advanced', 'advantage', 'adverse', 'advertise', 'advertisement', 'advice', 'advised', 'advises', 'advisors', 'advisory', 'advocate', 'advocated', 'advocates', 'advocating', 'ae', 'ae9xdqu3mf', 'aecom', 'aecpta0t5f', 'aeonanimus', 'aerial', 'aerials', 'aewnixogyb', 'aexf3nmrtr', 'af', 'afar', 'afeqar2eat', 'affairs', 'affect', 'affected', 'affecting', 'affection', 'affects', 'affiliated', 'affiliation', 'affirmatively', 'affleckquine', 'afford', 'affordable', 'afghanistan', 'afhxcisoir', 'afinla', 'afjtu9nf5h', 'aflame', 'afln2021', 'afp', 'afpmdupxdz', 'afpohio', 'afraid', 'africa', 'african', 'afrnet', 'afshinrattansi', 'aft', 'afte', 'aftermath', 'afternoon', 'afterward', 'aftteach', 'aftunion', 'ag', 'ag6y8lajmb', 'aga4igrzmc', 'againer12', 'agandrewbailey', 'agarrettabj', 'agczum4vo7', 'age', 'agence', 'agencies', 'agency', 'agenda', 'agent', 'agent_wd40_mi6', 'agents', 'aggressive', 'aggressivedem', 'aggressively', 'agh6oyplpj', 'aghamilton29', 'ago', 'agraybee', 'agrdiugvgc', 'agree', 'agreed', 'agreement', 'agreements', 'agrees', 'agriculture', 'agrjvmmtss', 'agtwitter', 'agua', 'agy9mctq2v', 'agzyhlldyn', 'ah', 'ahasan46', 'ahbrightwings', 'ahdjejjwjs', 'ahead', 'ahh', 'ahht', 'ahhwhatishappen', 'aholes', 'ahpszf7dis', 'ahq6exovmv', 'ahrk9ymb82', 'ahshaad', 'ai', 'ai3dcoq9le', 'ai8gph3dfw', 'aiaj4omppx', 'aid', 'aide', 'aided', 'aides', 'aidz1t4xig', 'ailqim2pqt', 'aim', 'aimed', 'aiming', 'aims', 'ain', 'aint', 'aintscarylarry', 'air', 'air_pollution', 'airborne', 'aircraft', 'aire', 'aired', 'airevensweeterwithoutmask', 'airline', 'airliner', 'airlines', 'airplane', 'airpollution', 'airport', 'airports', 'airspace', 'airways', 'aisle', 'aiwqvo9vrg', 'aiykyvyqqs', 'aj19g57ity', 'aj7a3dja1c', 'aj7faivmqc', 'ajbpspzgtp', 'ajcqss1lii', 'ajdjkt7gjd', 'ajenglish', 'ajfromoh', 'ajg4xcc9ic', 'ajirrvbzbu', 'ajjkzpmfeg', 'ajlamesa', 'ajmfrraums', 'ajnzzzzz', 'ajplus', 'ajsdecepida', 'ajstream', 'ajt', 'aka', 'aka_realdirty', 'akaren2448k', 'akarl_smith', 'akldryqvsk', 'akq1fgtm7v', 'akruaim6nw', 'aksn8op6ly', 'al', 'al5cnhgasq', 'al8dwjxznv', 'alabama', 'alabamanews360', 'alan', 'alanlevin1', 'alanshaw', 'alanthefisher', 'alarm', 'alarmed', 'alarming', 'alarms', 'alastairmitch13', 'albany', 'albeit', 'albo', 'alburakwg2', 'aldogue66895472', 'ale4igcgej', 'alecmacgillis', 'alecsapolin', 'aleekhijrr', 'alemania', 'alert', 'alerted', 'alerts', 'alerts___', 'ales', 'alex', 'alex_presha', 'alexandria', 'alexaschwerha1', 'alexatfww', 'alexbruesewitz', 'alexgangitano', 'alexnpress', 'alexstein99', 'alez3vacml', 'alfajean', 'alfytjsrs4', 'alghabra', 'algore', 'algorithmic', 'algugezmoz', 'alice4u2010', 'alicesrabbit2', 'alien', 'aliens', 'align', 'aligned', 'aligns', 'alina__lnd', 'alisha', 'alive', 'alivp7mcgd', 'alj0epyrha', 'all100senators', 'alldaydre83', 'allefcxsxu', 'allegany', 'allegation', 'allege', 'alleged', 'allegedly', 'alleges', 'allegheny', 'alleghenyfront', 'alleging', 'allen58b', 'allenev95095326', 'alley', 'alleyway', 'allezvous', 'allhail76', 'allhumansareafrican', 'alliance', 'allies', 'allison', 'alllisted', 'allocated', 'allow', 'allowed', 'allowing', 'allows', 'alloy', 'allstarcharts', 'allvidssmark', 'ally', 'ally_vyne', 'allymalinenko', 'allé', 'alncmv3f3g', 'alongside', 'aloof', 'alpha', 'alphafox78', 'alright', 'alrwziymup', 'alt', 'altered', 'alternative', 'alternatives', 'alters', 'altitude', 'altogether', 'altoona', 'aludy98', 'alum', 'aluminum', 'alums', 'alva1ackley', 'alwaysflacko', 'alx', 'alzheimer', 'am1stnewswire', 'am3wyyofaa', 'am63eup4o5', 'am7ulugoik', 'amanda', 'amandacarpenter', 'amandafortini', 'amandahoovernj', 'amandalhu', 'amarie031447', 'amazed', 'amazing', 'amazing_graciel', 'amazon', 'ambertunatya', 'ambiental', 'amccarthyny', 'amd', 'ame', 'amendment', 'america', 'americaclimatecrisis', 'americaclimateemergency', 'americaclimatejustice', 'americafirst', 'americahours', 'american', 'americanamapn', 'americanchernobyl', 'americanelection', 'americanpolitics', 'americans', 'americanslast', 'americanwire_', 'americas', 'americasdirtydivide', 'americasgarden', 'americasmayorlive', 'americus', 'amermilnews', 'ameticans', 'amfirstnewswire', 'amid', 'amidst', 'amirite', 'amish', 'amit', 'amizade', 'amkrcemnqz', 'ammonia', 'amoneyresists', 'amounts', 'amp', 'amphibian', 'amphibians', 'ample', 'amplified', 'amplifying', 'amreed2', 'amritabhinder', 'ams0giugof', 'amtrak', 'amtrakavali', 'amtvmedia', 'amuse', 'amusing', 'amvirtueorg', 'amybwang', 'amyfromyoga', 'amykremer', 'amylovesbtc', 'amys_here', 'amysgotbirds', 'américain', 'américaine', 'an2vdmht9b', 'an3sbvzgla', 'an4lpoxngq', 'an4zozgzk3', 'an6q5kfxjk', 'anabeaver23', 'anadoluagency', 'analogous', 'analogy', 'analysis', 'analyst', 'analysts', 'analyzed', 'anb4turqrw', 'ancestral', 'anchor', 'ancient', 'ancora', 'and20_andy', 'anda4fa6en', 'andre', 'andrealeeluv', 'andreapsalcedo', 'andrew', 'andrewbuncombe', 'andrewjbates46', 'andrewresist15', 'andrewyoungmd17', 'andy', 'andy_baughman', 'andyvermautlovesap', 'andyvermautthanksyou', 'anecdotal', 'anecdotally', 'anecdotes', 'anews', 'anfiloli', 'angel', 'angel_h_70', 'angela', 'angelinatameztx', 'angellunique73', 'angeloraygomez', 'angelre96386095', 'anger', 'angered', 'angertainment', 'angie_anson', 'angieandjax', 'angielene_blm', 'angle', 'angry', 'angry_staffer', 'anguish', 'anguishoflibs', 'animal', 'animals', 'animalsholbox', 'animaux', 'anitamujagic', 'anitasomanimd', 'ankyxj99z8', 'ann', 'anna52821166', 'anncygoransson', 'anne', 'annenjunod', 'annetifasgae', 'annetteledesm14', 'annie6774', 'anniekoutrakis', 'anniepny13', 'annietiques', 'annika', 'anniversary', 'announce', 'announced', 'announcement', 'announces', 'announcing', 'annoyedtaurus', 'annthompsonwvxu', 'annual', 'annually', 'anny25717503', 'anon', 'anoned', 'anoners', 'anonopshispano', 'anonopsse', 'anonymous_mg76', 'anot', 'anp819dvkj', 'ans', 'ans48br4kz', 'ansfvayjrf', 'answer', 'answered', 'answering', 'answers', 'ante', 'antecedentes', 'anthony', 'anthonytkaz', 'anthonyzenkus', 'anti', 'anticipate', 'anticipated', 'antics', 'antifa', 'antifascist', 'antimason313', 'antitrustreform', 'antonella_risso', 'antoniosabatojr', 'antony', 'antrctclhs', 'anutha', 'anway', 'anxiety', 'anxious', 'anyalitvak', 'anybody', 'anymonkey70', 'anymore', 'anytime', 'anyways', 'ao248qpt3h', 'aoadleqfnk', 'aoaeypdl7p', 'aoc', 'aol', 'aolzsjp1vt', 'aool5wvuks', 'aos1tkkkzp', 'aothv4zjmr', 'aoxervcdm6', 'ap', 'ap1y1beuae', 'ap5brllvtk', 'ap8kmjjkae', 'ap_climate', 'ap_politics', 'apart', 'apathy', 'apatrc2j9k', 'apbcadebvd', 'apdzx8e3le', 'apec7rpeod', 'apexworldnews', 'apgt2z7cnl', 'apkkdad73c', 'aplefxx5u4', 'apocalyptic', 'apocjmvajj', 'apologies', 'apologise', 'apologised', 'apologises', 'apologize', 'apologized', 'apologizes', 'apologizing', 'apology', 'app', 'appalachia', 'appalachian', 'appalling', 'apparatus', 'apparent', 'apparently', 'appartement', 'appear', 'appearance', 'appearances', 'appeared', 'appearing', 'appears', 'applauds', 'applause', 'applicable', 'applied', 'applies', 'apply', 'appodlachia', 'appoint', 'appointed', 'appointing', 'appqb3ojxf', 'appreciate', 'appreciated', 'approach', 'approached', 'approaching', 'appropriat', 'appropriate', 'approval', 'approve', 'approved', 'approx', 'approximately', 'april', 'april_sassy', 'après', 'aptxmhglh9', 'apublictrust', 'aqaileantw', 'aqbomvszq4', 'aqbqloamtz', 'aqdkhkivx9', 'aqehzkre8b', 'aqkcyfuabw', 'aqmkeocfln', 'aqofv69ayg', 'aqrmmu2w3g', 'aqsqaovvun', 'aqthcakgho', 'aqtmk1arq6', 'aquatic', 'aquatiques', 'aquifers', 'aqvq17a81p', 'aqwoyztugi', 'aqypwknsrf', 'arainbowdude', 'arapaho415', 'arbara0728b', 'ardtakeaction', 'area', 'areas', 'aredmond75', 'aren', 'areyouawaqe', 'argue', 'argued', 'arguing', 'argument', 'arguments', 'arhm7rqcty', 'arighteousfren', 'arising', 'aristot51566685', 'arizona', 'arkansas', 'arlenel67970129', 'arm', 'armastrangelo', 'armchair', 'armies', 'arms', 'armstrong', 'army', 'aromalady2', 'array', 'arrest', 'arrested', 'arrestgqpcoupplotters', 'arresting', 'arrests', 'arrival', 'arrived', 'arrives', 'arriving', 'arrogance', 'arrogant', 'arsenio', 'arsonist', 'arsonists', 'art', 'arteelbeier', 'artemizia_123', 'artery', 'arthur', 'arthur59611540', 'arthurdented', 'arthurterry2020', 'article', 'articles', 'artist', 'artmanon1', 'arts', 'artwork', 'aru3voyuga', 'arvjkck9om', 'as0xa2hqjd', 'as1on5nn7g', 'as5wrpejrt', 'asan84664878', 'asap', 'asap_soldier', 'asc0dlsc6v', 'ascertained', 'asdioldnbe', 'asechicago', 'asecondchance', 'aseiwkwj93', 'asgezyqid4', 'asgsesxhlt', 'ashamed', 'ashleygjovik', 'ashleystrohmier', 'ashoutoutfrommn', 'ashponders', 'ashtabula', 'asian', 'aside', 'asiwe8jztj', 'ask', 'askdrdrew', 'asked', 'asking', 'askmelateron', 'askrail', 'asks', 'asleep', 'asmluzrivas', 'asodyaduyq', 'aspecpeople', 'aspects', 'aspiemama_107', 'aspiring', 'asr9s7sejo', 'ass', 'assemblies', 'asses', 'assess', 'assesses', 'assessing', 'assessment', 'assez', 'asshole', 'assi', 'assist', 'assistance', 'assisting', 'associate', 'associated', 'association', 'assumed', 'asteveuknew', 'asthmatic', 'astonishing', 'astounding', 'astrocat9000', 'astrology', 'astrophoenix9', 'astropress', 'aswvickyflynn', 'asymmetricinfo', 'at3pdfay7b', 'at8y8xuavx', 'ataku', 'atasiding8', 'atasteofcreole', 'ataviawrotethis', 'atbennington', 'atd0uvcyhr', 'atdgwt4kj9', 'ate', 'atención', 'atensnut', 'atfh0oreso', 'athena3221', 'athensga34', 'atl', 'atlairportnews', 'atlanta', 'atlantic', 'atlas', 'atlasthundr', 'atldemsoc', 'atletpeder', 'atlrey', 'atm', 'atmosphere', 'atmospheric', 'atorodesu', 'atrocious', 'atrocities', 'atrocity', 'atrupar', 'atsgjr2a3a', 'att', 'attach', 'attached', 'attack', 'attacked', 'attacking', 'attacks', 'attempt', 'attempting', 'attempts', 'attend', 'attendance', 'attended', 'attendees', 'attending', 'attends', 'attention', 'attitude', 'attitudes', 'attorney', 'attorneys', 'attpmgmwby', 'attract', 'attributable', 'attribute', 'atumpkins11', 'atwa', 'atwar', 'au', 'au24wccvnh', 'au58jwh8pj', 'au_stin_reece', 'aubreyel1', 'audacity', 'auddl2dhp5', 'audible', 'audience', 'audio', 'audioboom', 'audioproeric', 'audit', 'audited', 'auditing', 'audition', 'auditorium', 'audits', 'audreynashville', 'audreysofiavip', 'augg1pcqod', 'august', 'aunque', 'aunt', 'auntbunny731', 'aupodzk2wn', 'auraxchan', 'aurora', 'aurorab617', 'auspices', 'austinkellerman', 'australia', 'authentic', 'authentic__neo', 'author', 'authored', 'authoritarian', 'authoritative', 'authorities', 'authority', 'authorized', 'autismcapital', 'auto', 'autocarro', 'automated', 'automaticearth', 'automobiles', 'autre', 'autres', 'auv4frh66w', 'aux', 'auxe99qkec', 'auyunouftw', 'av3clqqgge', 'av8intheblue', 'avaient', 'available', 'avaligaming', 'avant', 'avarice', 'avbzq9iqqy', 'avc6vokygo', 'average', 'averaged', 'avert', 'averted', 'avgeek', 'avgeekiness', 'avgerinosmoscow', 'avgid0r1ql', 'avinrk7kxm', 'avlawns', 'avoid', 'avoidable', 'avoided', 'avondale', 'avprxsdcjh', 'avvnknsi8m', 'avwsg6bjm1', 'awahjzdeei', 'await', 'awaiting', 'awake', 'awakenedof', 'awalkintherain', 'awarded', 'awards', 'aware', 'awareness', 'awash', 'away', 'awbraxtonjr', 'aweghv0qyz', 'awesome', 'awful', 'awhile', 'awkbello2', 'awkward', 'awlg1g6po9', 'awmessenger', 'awol', 'awwhalenawl', 'awxhdfcqaf', 'awxnrrletp', 'ax1kwlxgsr', 'ax1x6hkpox', 'axanvhbju5', 'axdm7jfbmp', 'axed', 'axel', 'axels', 'axios', 'axkzwggcdb', 'axle', 'axles', 'axpb0teicp', 'axsnr2l8j3', 'axujtofymg', 'axwjcz8xx9', 'ay', 'ay01j4lbxc', 'ay5ku8kcg0', 'ay8jsjy9ka', 'ayanlxyxgq', 'ayebee49354370', 'ayethatarmodude', 'ayfkm', 'ayi4uezlob', 'ayjeutq9ui', 'aymanm', 'ayms1hz3hj', 'az6qfj4tpy', 'az8bppqmws', 'azannaphx', 'azardey3', 'azavzokpc2', 'azdem_w_dogs', 'azjihf2q8p', 'azk7a2thkl', 'azk8vne7yp', 'azqwap3utc', 'b0lshevikbill', 'b0mgxzfwx2', 'b0mymitwvj', 'b11ztrdzxz', 'b1cmve9md6', 'b1ikxuthlp', 'b1mvudeija', 'b1oq9axown', 'b28miab8oi', 'b2d0lw6hpx', 'b2tqkunwka', 'b31918', 'b3pb7j85gd', 'b3xflhqonu', 'b4', 'b4gwrrpja3', 'b4ok9x6xcc', 'b4yijab7vc', 'b52malmet', 'b5j0h3q1eq', 'b5jv7kooyh', 'b5thgrdene', 'b5uzciuvlx', 'b6g9ea9wye', 'b6gimcxred', 'b6j95nwvx6', 'b6rgt5kwor', 'b6xmmkq7he', 'b7jcmvftof', 'b7lzoupie7', 'b7ok4yfj8b', 'b7yvhsnbu7', 'b8ymxi11zg', 'b96ccv5i9z', 'b9e9styprd', 'b9gwnqwcgz', 'b9ze5knaxd', 'ba', 'ba2wgvy4q6', 'ba6lzr7xen', 'bab_102', 'baba', 'babe_elder', 'babies', 'bable', 'baby', 'babybiird', 'babykoala196', 'backed', 'background', 'backing', 'backlash', 'backs', 'backseat', 'backside', 'backward', 'backwards', 'backyard', 'backyards', 'bad', 'baddcompani', 'badhealth', 'badly', 'badrobotlinda', 'bag', 'bag4y28l1x', 'bags', 'bailed', 'baileyjoy9', 'bailing', 'bails', 'bait', 'baiting', 'bakhmut', 'bakidonce', 'balance', 'balanced', 'balart', 'balbicyxu2', 'baldwin_daniel_', 'baletti', 'balfralf', 'balkanservicegroup', 'balked', 'balks', 'ball', 'ballgag', 'ballon', 'balloon', 'ballooned', 'balloongate', 'balloons', 'ballot', 'baltimore', 'bambooshooti', 'ban', 'banana', 'bananas', 'band', 'bandieranancy', 'bands', 'bandwagon', 'bang', 'bangkokpost', 'bangkokpostnews', 'banjo91343748', 'bank', 'banking', 'bankroll', 'bankrupt', 'bankrupted', 'banks', 'banned', 'banned_bill', 'bannon', 'bar', 'barack', 'barackobama', 'baratuty', 'barb', 'barbara', 'barbarajdurkin', 'barbaric', 'barbyohn1', 'bardzo', 'bare', 'barely', 'baring', 'barista__morg', 'barkflight', 'barn', 'barnacles71', 'barnettforaz', 'barnettmatt1', 'barondestructo', 'barons', 'barr', 'barrel', 'barreling', 'barron', 'barronsonline', 'barrymoy1', 'bars', 'barsham', 'bartleyfouchard', 'bartow', 'basculante', 'base', 'baseball', 'based', 'based1717', 'basedd', 'baseless', 'baselessly', 'baseline', 'baselines', 'bash', 'bashes', 'bashing', 'basic', 'basically', 'basin', 'basis', 'basketball', 'bass', 'bassistold', 'bat', 'batch', 'bate', 'bathe', 'bathed', 'bathing', 'bathorybetka', 'bathroom', 'batsh', 'batspider55', 'battalion', 'batteries', 'battle', 'battlefronts', 'battles', 'baumbach', 'baumgaertner', 'bavnmrq8eo', 'baxter9mm', 'bay', 'bayer', 'bb5i5adwfe', 'bbb2dyq3g3', 'bbc', 'bbcangry', 'bbcnews', 'bbcworld', 'bbepombtls', 'bbg3sx9tcy', 'bbk0wdkrfd', 'bbn', 'bbncixzjll', 'bbnewsinternational', 'bbv5pbtmpq', 'bbxmtgr5ip', 'bc', 'bc0h3ohl5p', 'bc3htper2c', 'bc9aipzylr', 'bcdkavb4hg', 'bceki2z9ac', 'bcgblsqfiv', 'bcnnl3eby8', 'bcor4laxsa', 'bcp9ang4go', 'bctimes', 'bcufswhuwv', 'bcx9xmr6cg', 'bd2gyvwydg', 'bd5zdjxopw', 'bd7qukxrjd', 'bd9lvyvdzs', 'bdhp344aok', 'bdidmflzh4', 'bdjhhqqsdf', 'bdobxnxfdb', 'bdonesem', 'bdqca4czcj', 'bdtonline', 'bdwuxqcrwf', 'bdxulbesn6', 'be8fxaaf8z', 'beachcity55', 'beachfront', 'beachwood', 'beaconjournal', 'beans', 'bear', 'bearandroo2', 'beardedcynic473', 'bearing', 'bearings', 'bears', 'beast', 'beat', 'beatrizlacombe', 'beautfc', 'beautiful', 'beaver', 'beavercounty', 'beavercounty911', 'beavertonpa', 'beboldbehonest', 'bechtel', 'becketh711dan', 'beckvvaz4v', 'becuase', 'bed', 'bedfellows', 'bedford', 'bediw3o0ey', 'beds', 'bedtbpqf5o', 'beefing', 'beejofj99k', 'beekeeper', 'beer', 'beethovensside1', 'beez52530418', 'bef', 'befor', 'befriends', 'befuddled', 'beg', 'began', 'begging', 'begin', 'beginning', 'begins', 'begrudgingly', 'begs', 'begun', 'behalf', 'behar', 'behaving', 'behavior', 'behest', 'beier', 'beings', 'bekxr0nj08', 'bel', 'belated', 'belden', 'beleafer1', 'belief', 'believable', 'believe', 'believed', 'believes', 'believing', 'belittle', 'bell', 'bellamari8mazz', 'belle_levesque', 'belleville', 'belly', 'belohiospill', 'belong', 'belonging', 'belongs', 'beloved', 'beltsbear', 'ben', 'ben_inskeep', 'benbergquam', 'bencjacobs', 'bend', 'bendaviswilson', 'bender', 'beneath', 'benefit', 'benefited', 'benefits', 'benjami42942421', 'benjaminjs', 'benjealous', 'benjisjones', 'bennet', 'bennyjohnson', 'benonwine', 'benshapiro', 'benstanton77', 'bent', 'benzene', 'bergenfield', 'berhfrfvyr', 'berksgastruth', 'berkshire', 'berman', 'bern_identity', 'bernadettentf', 'bernard', 'bernie', 'berniedebusmann', 'berniemoreno', 'berniesanders', 'berniespofforth', 'bero', 'berquist', 'bertbruno55', 'best', 'besties', 'bet', 'bethanydoolin', 'bethb715', 'bethemckenzie', 'bethosbornet4a', 'betoorourke', 'betrayal', 'betrayed', 'betrily', 'bets', 'better', 'betterman', 'betterpathpa', 'betty5280', 'bettypge69', 'betw', 'between_bob', 'beuzdumval', 'beware', 'beyqzy6kyo', 'bezos', 'bf7ekh26ls', 'bf7ezxwkc8', 'bfc8gyfsu3', 'bfdbezxmef', 'bfdic2x1td', 'bfdikay2dn', 'bffs', 'bfjspoflls', 'bfrankjr', 'bfsdqkdebg', 'bfxxcpv6cd', 'bg6nzdvapy', 'bg8kid8as7', 'bg8mfgle8i', 'bg9xbrdtdv', 'bghrdpf1ls', 'bgnoioznzp', 'bgov', 'bgqj3w83xp', 'bhamtimes', 'bharggavroy', 'bhfrhurju9', 'bhj2pf6d2r', 'bhnmrpjhi0', 'bhnofat2fr', 'bhopal', 'bhpm7t4oxe', 'bhrre5dduw', 'bhtiewt7ml', 'bhvr87mpcx', 'bhzlbmmvgt', 'bi', 'bi8sadd7nx', 'bias', 'bib5pd3r7c', 'biblical', 'bicycles', 'bid', 'bidan', 'bidding', 'biddy', 'bide', 'biden', 'bidenadministration', 'bidencrimefamilly', 'bidencrimefamily', 'bidendestroysamerica', 'bidenfailures', 'bidenisdestroyingamerica', 'bidens', 'bidensamerica', 'bidentour', 'bidenwh', 'bidishalolo', 'bierman_luke', 'big', 'bigbluewaveusa', 'bige_truths', 'bigfish3000', 'bigger', 'bigger_bread', 'biggest', 'biggie', 'bigjoebastardi', 'bigotry', 'bigpapa8070', 'bigpoppaevil', 'bigrazzmatazz', 'bigteethyouhave', 'bigtrainstuck', 'bihg86dp9b', 'bike', 'bikedurham', 'bikers4america', 'bikes', 'bill_e_bomber', 'bill_shapiro', 'billadairduke', 'billclinton', 'billellmore', 'billgrinehart', 'billhemmer', 'billineastala', 'billion', 'billionaire', 'billionaires', 'billions', 'billknowsit', 'billkristol', 'billmaher', 'billmendocino', 'billpegs', 'billprady', 'bills', 'billweircnn', 'billy', 'billykilroy', 'billym2k', 'billyrisner2', 'bim_cat_509', 'binding', 'bingbingbong500', 'bingfair2', 'binghamton', 'bingo', 'biochemyst1', 'biohazard', 'biohazards', 'bioj4pysan', 'biological', 'biometric', 'biometrics', 'biopharma', 'biophysicsfl', 'biosensors', 'bipartisa', 'bipartisan', 'bird', 'birdcage', 'birdieg564', 'birds', 'birthday', 'birthplace', 'bish', 'bishop', 'bisons119', 'bit', 'bitbello', 'bitching', 'bitcoin', 'bite', 'bites', 'bittelmethis', 'bitterchewgum', 'biudsg4p56', 'bivonacarol', 'biz', 'bizarre', 'bizcshnb0l', 'bizneznuna', 'bj4ohqv5bg', 'bjaatupyp1', 'bjhetjbo3x', 'bji1nz71uk', 'bjioc4pu', 'bjjndxchww', 'bjl9jyc51l', 'bjm0ppf7om', 'bjmluus8e8', 'bjohnson921', 'bjt9ms9j1r', 'bjtvns2bu1', 'bjweinman', 'bk0vtpkn00', 'bk_mccallum', 'bkcjlcfzz4', 'bkcxaxiljm', 'bke0sgix9e', 'bkhqgwzmb9', 'bkidd5albx', 'bkjxgixfch', 'bkljkijwqb', 'bklyn', 'bklyn_grl23', 'bknnkp6ewp', 'bkrkizfbsd', 'bkrmewkjx3', 'bksoy1ip6k', 'bktym0rkol', 'bl1viqs9zf', 'blaatimmen', 'black', 'blacked', 'blackhockeyclu1', 'blackknight10k', 'blackletter007', 'blacklivesmatter', 'blackout', 'blackrock', 'blah', 'blake', 'blalpert', 'blame', 'blamed', 'blameitonbrenda', 'blames', 'blamin', 'blaming', 'blancacamachony', 'blanchereddie', 'blanket', 'blast', 'blasted', 'blasting', 'blasts', 'blatant', 'blather', 'blathering', 'blaw', 'blax0xwd76', 'blazed', 'bleach', 'bleach_bae', 'bleed', 'bless', 'blessed', 'blessssyougod', 'blet', 'blew', 'blfkxk4yxc', 'blfr6f3s2v', 'bligjbu8zp', 'blind', 'blindsided', 'blitz', 'blj4rkzsra', 'blm', 'blo', 'blob_fish2', 'blob_watcher', 'bloc', 'block', 'blockages', 'blocked', 'blockers', 'blocking', 'blocks', 'blog', 'blood', 'blooded', 'bloodmoney', 'bloody', 'bloomberg', 'bloomwhisperer', 'blow', 'blowin', 'blowing', 'blowitoutyourd1', 'blown', 'blowout', 'blows', 'blplizw6vv', 'blsuth', 'bltna7z59y', 'blue', 'bluee', 'blueelviseric', 'blueeyedhound1', 'blueeyejeff', 'bluegirl714', 'bluegrass', 'blueislandcomix', 'bluelivesmatter', 'bluemoonindigo2', 'blueprint', 'bluesragdoll', 'bluevino', 'bluevirginia', 'bluey', 'blueyankee52', 'bluff', 'blunder', 'blunders', 'blxpfhxnkp', 'blynn', 'blynnregina', 'blyuz0hnem', 'bmarchetich', 'bmhce6des4', 'bmhmafuxyq', 'bmisbehaving', 'bmjpltsub5', 'bmlf0gsv7i', 'bmpdaajizq', 'bmprt', 'bmrcujvphl', 'bmuetrnuhg', 'bmwedibt', 'bmwepower', 'bn9', 'bncv2rtt0g', 'bndkgjz99m', 'bng5gv0sph', 'bnh5bld0uq', 'bniujvvmfn', 'bnk_ar', 'bnmb0rxbye', 'bnodesk', 'bnofeed', 'bnrmpzuu4o', 'bnsbv6ztms', 'bnsf', 'bnvys2kcru', 'bnwmcayr0b', 'bnyzqiq', 'boagjygiib', 'boar', 'board', 'boashpfpga', 'boasting', 'boasts', 'boat', 'boats', 'bob', 'bob24375399', 'bobanew1959', 'bobbatzjr', 'bobbiejanev', 'bobbyeberle13', 'bobcasey', 'bobclendenin', 'bobdaaliberal', 'bocuukicvh', 'bodies', 'body', 'bodycam', 'boebert', 'boeing', 'bofinbaw6j', 'boggles', 'boggling', 'bogus', 'bogv8rbyap', 'boil', 'boiled', 'boiltowzpj', 'bolas', 'bold', 'boldprogressive', 'bolster', 'bomalley', 'bomb', 'bombarded', 'bombed', 'bombing', 'bombs', 'bombshell', 'bombtrain', 'bomzcdmszc', 'bonafidelulu', 'bond', 'bonds', 'bondsmatthew', 'bonfire', 'bonjs0370', 'bonkers', 'bonnierawson4', 'bonsoirmichel', 'bonuses', 'boobyjargon', 'booed', 'book', 'bookmark', 'books', 'bookstore', 'boom', 'booming', 'boost', 'boosted', 'boosting', 'boot', 'booth', 'bootlicker', 'boots', 'bootsiejazz', 'bopper05', 'border', 'borders', 'borensteinperry', 'boringstein', 'borobodura', 'borrowers', 'bose', 'bosnerdley', 'boss', 'bosses', 'bosssquirrel72', 'bostonglobe', 'bot', 'botched', 'bother', 'bothered', 'bothering', 'botsford', 'bottle', 'bottled', 'bottles', 'bottomless', 'bottoms', 'bought', 'boulder', 'boulevard', 'bouncing', 'bouncy', 'boundingcomics', 'bourgeois', 'bout', 'boutique', 'bowers', 'bowie', 'bowie_sane', 'bowiegrrl1', 'bowl', 'bowman', 'box', 'boxcar', 'boxes', 'boxxy42069', 'boy', 'boycotttheview', 'boyette', 'bozpphzig2', 'bp', 'bpartisans', 'bpikvwmrsw', 'bpkdcwtcny', 'bpolitics', 'bppiwxmng4', 'bpplef5xkj', 'bprzgsvl0x', 'bq2xtfq0nv', 'bq8kuqjjrb', 'bqbz4svdmd', 'bqdhipglz8', 'bqee2ke0ow', 'bqilq9gldj', 'bqkcoscmqq', 'bqojruvkm0', 'bqrl2o08em', 'bqtcevv2jm', 'br00t4c', 'br8zhaqost', 'bracelet', 'braceydujour', 'brad_polumbo', 'bradbeauregardj', 'bradpaisley', 'bradswan18', 'brady_dennis', 'brag', 'bragged', 'bragging', 'brags', 'brahmslover1278', 'brain', 'brainer', 'brainharvest46', 'brainless', 'brainlessness', 'brainpower', 'brainwashed', 'brainwashing', 'brake', 'brakes', 'braking', 'branch', 'brand', 'branded', 'brandenjaggers', 'brandon', 'brandonlbradfor', 'brandsafetynsfaccidentsanddisasters', 'brandsafetynsfhealthissues', 'brandsafetynsfsensitive', 'braqi0cgyz', 'brave', 'bravo', 'brctni5u5p', 'brdjvgugi1', 'breach', 'breached', 'breaches', 'bread', 'break', 'breakdown', 'breakdowns', 'breakfreefromplastic', 'breakimgnews', 'breaking', 'breaking911', 'breaking_4_news', 'breakingalert', 'breakingnews', 'breakingnewzman', 'breakingvideohq', 'breaks', 'breakuptheecho', 'breast', 'breastfeeding', 'breath', 'breathe', 'breathenewwinds', 'breatheproject', 'breathing', 'breathless', 'breathlessly', 'breathtaking', 'brednbreakfast', 'bree1914', 'breezerider11', 'breezy8817', 'brehonfailte', 'breitbart', 'breitbartnews', 'breitbartnewsより', 'brenda', 'brendae44357636', 'brendanord5', 'brenthbaker', 'brentontroyoh', 'breshears', 'bretbaier', 'brew', 'brewer', 'brewing', 'bri_zeeee', 'briahna', 'brian38695266', 'brian_mac8419', 'brianasmithnews', 'brianbeckerdc', 'briancnewberry', 'brianentin', 'brianhirsh1', 'briankarem', 'briano_maga', 'brianstelter', 'briantylercohen', 'brianukulele', 'bribery', 'bribes', 'bribing', 'bricegramm', 'brick', 'brick715', 'bridesmaid', 'bridge', 'bridges', 'bridgeton', 'bridgettewews', 'brie', 'briebriejoy', 'brief', 'briefed', 'briefin', 'briefing', 'briefingcom', 'brighter', 'brighton', 'brilliant', 'bring', 'bringing', 'brings', 'brisco_0317', 'brishangames', 'britain', 'britsham', 'brittanyweberrr', 'brix_rosa', 'brjl204', 'brleimvcq9', 'bro', 'broad', 'broadcast', 'broadcasting', 'broadcasts', 'broader', 'broadly', 'brockovich', 'broke', 'broken', 'brokenanthemusa', 'brokovich', 'bronchitis', 'bronstad', 'bronxtale0423', 'brooke', 'brookesingman', 'brooklynmarie', 'brooks', 'brother', 'brotherman911', 'brothers', 'brought', 'browardprogress', 'brown', 'browns2212', 'bruh50347166', 'bruhtoshi1', 'bruhzband', 'brummer_brumm', 'bruno_j_navarro', 'brush', 'brushed', 'brutality', 'bryan', 'bryncaswelltv', 'bs', 'bs45', 'bsb', 'bsg', 'bsgehia9ym', 'bshmbvqc9m', 'bsknanasur', 'bskpcjqsfk', 'bsquinn', 'bstovalljr', 'bsuby0lgjq', 'bsuheevqn5', 'bt6hsmsovs', 'btbohmh0zh', 'btikuofcli', 'btjef4tfqu', 'btlriyp4ay', 'btmfnsixqq', 'btrmrzliqg', 'btscsirbj7', 'btstou1cv9', 'bttr_as1', 'btw', 'btwjiinszl', 'btwnwkxy13', 'btwwroq7q8', 'btzaejospx', 'bu2bmbgmhr', 'buajmakeuh', 'bubbacowhawks', 'bubbaprog', 'bubble', 'bubbles08272', 'bubrh7knnu', 'buck', 'buckeyeenvintwk', 'bucking', 'buckle', 'bucks', 'buckscobeacon', 'bucksexton', 'bucmon21', 'bucyrustf', 'bud_cann', 'budachec', 'budapest', 'buddies', 'buddy', 'budget', 'budgothmog44', 'budigeg', 'budrykzack', 'budzjmdzir', 'buff00n', 'buffalo', 'buffet', 'buffett', 'buffoon', 'buffoons', 'bugdensteven', 'bugs', 'buickturbo', 'build', 'building', 'buildingback_us', 'buildings', 'buildups', 'built', 'buj4ogr34r', 'bulk', 'bull', 'bulldoghill', 'bulldozing', 'bullet', 'bullsh', 'bullshit', 'bulwarkonline', 'bummer', 'bunch', 'bunk', 'buoyoms8ie', 'buquivzdd3', 'burd', 'burden', 'burdensome', 'bureau', 'bureaucracy', 'buren', 'burgers', 'burghgurl', 'buried', 'burn', 'burned', 'burning', 'burns', 'burnt', 'burtrigg', 'bury', 'buses', 'bush', 'business', 'businessandindustrysectors', 'businesses', 'businessnews', 'businessowner', 'businesswire', 'busted', 'busting', 'busts', 'busy', 'busypoordad', 'buthead', 'butifldrmlori', 'butler', 'butliegh', 'butt', 'buttegieg', 'butterjudge', 'buttgeg', 'butthead', 'butthole', 'buttibutter', 'buttigeig', 'buttigieb', 'buttigieg', 'buttigug', 'button', 'buttooth1', 'buttplug', 'butts', 'butty', 'buttyguy', 'butyl', 'buy', 'buyback', 'buybacks', 'buyer', 'buying', 'buys', 'buzzerly', 'buzzerlyapp', 'bv7enoax26', 'bvegj87dzo', 'bvhex9oyry', 'bvk6fidhll', 'bvogwhs4pd', 'bvpmx9v8iz', 'bvti7f1oqv', 'bvtsdv11cj', 'bvxzygejqj', 'bw5e96pwco', 'bwa', 'bwdmnrxug5', 'bwml0nh0cm', 'bwmozactwi', 'bwsxgpvoau', 'bwthacsa9h', 'bx5deyjfx4', 'bx7sm4omeo', 'bx9jninqof', 'bx9qzyvn1c', 'bxan8xjzaa', 'bxcqzyqkpw', 'bxvdadhkac', 'bxwm5xqzqw', 'by1959', 'byconnorgiffin', 'bye', 'byfordturner', 'byheatherlong', 'byhnenq4zh', 'byjameshowelljr', 'byjoehernandez', 'bylizyoung', 'byluvjedi', 'bystevereilly', 'byt3tjsbtq', 'byzzt9nwic', 'bzbgusikdj', 'bzgp9pgryc', 'bzol3fmo3l', 'bzphrdvfo4', 'bzsqfz5b20', 'bztduzwq2a', 'bztzbrpsqk', 'bánh', 'c05npcftb7', 'c09la8rsk5', 'c0aeyx8qbm', 'c0pweumz9f', 'c0svk8pzow', 'c1arkeeyyy', 'c1m3epsijg', 'c1pkhmkwmg', 'c26n4', 'c2fcnzstlg', 'c2kjjhjszj', 'c2sgpamqd6', 'c2u0deqmz0', 'c2wbvowxgc', 'c2zfmq82iw', 'c32zeiz1po', 'c33ztbhtye', 'c3anb2gaty', 'c3aohobcvu', 'c3dpkd2xap', 'c3jclioykk', 'c3jfauuzao', 'c3mz4dwsci', 'c3solutionsnews', 'c3x4zl8bar', 'c40', 'c49u2xtvb0', 'c5bcfk96hw', 'c5bwig0imj', 'c5g9azpdnp', 'c6ddnbwnxt', 'c6hjalatvc', 'c6jdvyiktn', 'c79xgwn8hj', 'c7lct6nupe', 'c7qhedhf30', 'c7qr7gv7dk', 'c7rsw4o7rc', 'c8isino2ed', 'c8repszaoh', 'c8t9cs3tqc', 'c8ufn2zpcq', 'c9afhujz8m', 'c9hwbpsfjn', 'c9kji0eho7', 'c9qmkm9jjt', 'c9spscxvyk', 'c_m_dangelo', 'c_mandas', 'ca1it23udv', 'caaqw15lyx', 'cabal', 'cabinet', 'cable', 'cablenewswatch', 'caboose', 'cabooses', 'cache', 'cackyc', 'cadenpearson', 'cadet', 'cadets', 'caged', 'cagey', 'caggiano', 'cagle', 'cahbgw5d4w', 'cahvwhhxjf', 'cairo', 'caivdkuc5y', 'cajsmoxqac', 'cajvw2bxxe', 'cake', 'cake8pattie', 'calamity', 'calculated', 'caledonia', 'calhoun', 'californi', 'california', 'californianinar', 'calisenhor', 'called', 'caller', 'callie', 'calling', 'callous', 'calls', 'calltoactivism', 'calnjqctjs', 'calusa18', 'calvine43701301', 'calvinkholsclaw', 'cambridge', 'came', 'camera', 'cameras', 'caminhão', 'camp', 'campaign', 'campaigns', 'campbell', 'campdaniel3', 'camper', 'camphopeowner', 'camps', 'canada', 'canada_flag_guy', 'canadaenvironment', 'canadianpolitics', 'canadians', 'canadien', 'canal', 'canariesblue', 'canceled', 'cancellations', 'cancelled', 'canceltheview', 'cancer', 'cancerous', 'cancers', 'cancun', 'candaceowens', 'candidacy', 'candidate', 'candidates', 'candynotcandace', 'canislatransit', 'cannconactual', 'canned', 'cannon', 'canpoli', 'cantara', 'canton', 'cantonrepdotcom', 'cantpretendtoo', 'cap', 'capable', 'capacity', 'capaction', 'capehartj', 'capital', 'capital_shill', 'capitalhungry', 'capitalism', 'capitalist', 'capitalists', 'capitalize', 'capitalizing', 'capitalsimformenotforthee', 'capito', 'capitol', 'capitolhill', 'capping', 'caps', 'caption', 'captscrod', 'capture', 'captured', 'captures', 'car', 'car_silhouettes', 'carbared', 'carcass', 'carcinogen', 'carcinogenic', 'carcinogens', 'card', 'cardinalmz', 'cardon_brian', 'care', 'care11_cal7', 'cared', 'career', 'careful', 'careless', 'cares', 'carey', 'cargo', 'cargotrain', 'caring', 'carl_e_miller', 'carla87414309', 'carlnyberg312', 'carlson', 'carman', 'carmenbwifemom', 'carnegie', 'carnegiescictr', 'carol', 'carolina', 'carolinagirl_45', 'carolinaj', 'carolinas', 'carolk47', 'carolmswain', 'carper', 'carpet', 'carriages', 'carried', 'carrier', 'carriers', 'carry', 'carrying', 'cars', 'cart', 'cartels', 'carter', 'carting', 'cartistny', 'cartoon', 'carts', 'caru4oql0e', 'carve', 'casabc12321', 'case', 'cases', 'casey', 'cash', 'cassandrarules', 'casselton', 'cassone', 'cassyarsenault', 'cast', 'castanetkam', 'casted', 'castiglionefrnk', 'casts', 'casualty', 'cat', 'catalyzed', 'catastrophe', 'catastrophes', 'catastrophic', 'catastrophy', 'catburt58', 'catch', 'catches', 'catching', 'categorically', 'categorised', 'categorized', 'category', 'cater', 'catheykoehler', 'catholic', 'catholicjdfren', 'cathy', 'cathyjoegpt', 'cathymcmorris', 'catladyactivist', 'cats4pete', 'catsridetransit', 'cattle', 'catturd2', 'caucrrkien', 'caucus', 'caught', 'causation', 'cause', 'caused', 'causes', 'causi', 'causing', 'caustic', 'caution', 'cav1cav', 'caved', 'caving', 'cawrecycles', 'cazzimmax', 'całą', 'cb7b8e0aew', 'cbae31lzfv', 'cballujoxm', 'cbc', 'cbcnews', 'cbcool2532', 'cbdktuzn7e', 'cbouzy', 'cbs', 'cbs2', 'cbs8', 'cbschicago', 'cbsdetroit', 'cbseveningnews', 'cbsmornings', 'cbsnews', 'cbsphiladelphia', 'cc', 'ccavshxg9w', 'ccbc', 'ccbcedu', 'ccbicsfduh', 'cccp', 'ccoock2', 'ccp', 'ccpnrsif9k', 'ccq6cxbgfu', 'ccrmuprbqq', 'ccstpon59q', 'cctmytba5y', 'cctv', 'cctvpqfxfv', 'cd2c7mbyzj', 'cd7wt3smn9', 'cdc', 'cddiobc0ru', 'cdee7pucav', 'cdiuhkgwr8', 'cdlwp8ilt9', 'cdmtx0hllh', 'cdnchange', 'cdnnews', 'cdnpoli', 'cdnsdv4got', 'cdofzsiahk', 'cdoqzdtr1h', 'cdose1fqqm', 'cdrjulb7lb', 'cdvaueqfqj', 'cdx26qvasb', 'ce', 'cease', 'cecesbekre', 'cedoohxdyz', 'ceh', 'ceh2u0gd7d', 'cehlcvxmat', 'cei8cvus2h', 'ceiling', 'cejnetwork', 'celebrated', 'celebrates', 'celebrating', 'celebrity', 'celiafarber', 'cell', 'cells', 'celnyvbc4u', 'cemented', 'cenotes', 'censor', 'censored', 'censorship', 'cent', 'center', 'centers', 'central', 'centralbridge', 'cents', 'centuries', 'century', 'ceo', 'ceos', 'cercla', 'cereal_twit', 'ceremony', 'cernovich', 'certain', 'certainly', 'certains', 'cervanec', 'ces', 'cette', 'cfpdyvyjaj', 'cfrmjdjook', 'cfsabditqf', 'cfuvgxmtxv', 'cfwgoep6zl', 'cfypurenp7', 'cg9lfs5pcl', 'cgauthier592', 'cgdjozqtuo', 'cgiu2023', 'cgjn7xqj6t', 'cgph4ezipb', 'cgrxr7', 'cgtn', 'cgtnamerica', 'cgtnnews', 'cgtnofficial', 'cguoc8e1i3', 'cgvg7qhlqn', 'ch', 'ch3ck', 'ch6wzvtxak', 'cha0skrystal17', 'cha51brolll19', 'chain', 'chains', 'chair', 'chairman', 'chairperson', 'chairwoman', 'challenge', 'challenger', 'challenges', 'chamber', 'chambers', 'championed', 'champions', 'chance', 'chances', 'change', 'changed', 'changes', 'changing', 'channel', 'chant', 'chao', 'chaos', 'chaotic', 'chapter', 'character', 'charade', 'charge', 'charged', 'charges', 'charitable', 'charlesornstein', 'charleston', 'charlie', 'charliekirk11', 'charlielangton', 'charlieonair', 'charlotte', 'chart', 'charteredwealt', 'charteredwealthmanager', 'chartering', 'charts', 'chase', 'chasing', 'chasten', 'chat', 'chattanooga', 'chaudharyparvez', 'chbziolrmc', 'cheap', 'cheaper', 'cheapest', 'cheat', 'check', 'checkbook', 'checked', 'checker', 'checkers', 'checking', 'checkintheherd', 'checkitoutdr', 'checklists', 'checks', 'checkup', 'cheeks', 'cheer', 'cheerful20191', 'cheerleaders', 'cheers', 'cheese', 'cheezwitham', 'chef', 'chefrex45', 'chej', 'cheloxudux', 'chem', 'chemattack', 'chemi', 'chemical', 'chemical_violence', 'chemicaldisaster', 'chemicalfire', 'chemicalindustryandchemicals', 'chemically', 'chemicals', 'chemicalsandenvironment', 'chemicalspill', 'chemicalwarfare', 'cheminots', 'chemist', 'chemistry', 'chemotherapy', 'chemtrails', 'cherbonyl', 'cherijacobus', 'chernobil', 'chernobol', 'chernobyl', 'chernobyl2', 'chernobyling', 'chernobylohio', 'cherylbatchelo3', 'cherylgilmer9', 'cherylhart00', 'cherylkee4', 'chest', 'chetrusinek', 'chevron', 'chez', 'chgwptjelr', 'chheqhhedc', 'chhxesz9ve', 'chicago', 'chicagomattp1g1', 'chicaloca813', 'chicedr', 'chicken', 'chickens', 'chickyldy', 'chicosabe19', 'chief', 'chiefs', 'chigrl', 'chilberg11', 'child', 'children', 'childrenshd', 'chilligaz', 'chillyw23458611', 'chimed', 'chimique', 'chimiques', 'china', 'chinacocochow1', 'chinadaily', 'chinas', 'chinese', 'chineseesgagenda', 'chiny', 'chip', 'chipped', 'chipper', 'chips', 'chit', 'chitown', 'chiweethegod', 'chiyk7hmfr', 'chińskie', 'chky4jq52g', 'chloride', 'chlorinated', 'chlorine', 'cho', 'choa', 'choice', 'choking', 'choose', 'chooses', 'choosing', 'chopped', 'chorus', 'chose', 'chosen', 'chow', 'chptogd6mp', 'chris', 'chris_butzer', 'chris_dubrino', 'chrisalbertell1', 'chrisbrown2075', 'chriscuomo', 'chrisderosetv', 'chrisexcel102', 'chrisforpa', 'chrishayes', 'chrishendel', 'chrisjzullo', 'chriskazana', 'chrismurphyct', 'chrisplanteshow', 'chrispughedits', 'chrisronayne', 'chrissaccoccia1', 'chrisstirewalt', 'christ', 'christi', 'christi88764398', 'christinamb122', 'christineyeder1', 'christmas', 'christo81748100', 'christopher', 'christy39dr', 'chromedupcheeks', 'chromosomal', 'chronic', 'chronicles', 'chsqtgztdj', 'chuckcallesto', 'chuckfree1957', 'chuckgrassley', 'chuckles', 'chuckychuckles1', 'chump', 'chunk', 'church', 'churches', 'churchill', 'chxlo6l0ep', 'chyeaok', 'chở', 'ci', 'cia', 'cialgfbkas', 'cibyryklcw', 'ciccone', 'cieqvdbsq0', 'cifn1llzzy', 'cilesxst2i', 'cilw4e11ql', 'cimkuu1inr', 'cincinnati', 'cincinnatiedition', 'cincinnatitimes', 'cinema', 'cinemashogun', 'cinnamonv10', 'circa', 'circlesspinning', 'circulate', 'circulating', 'circumstance', 'circumstances', 'circus', 'citadel', 'citation', 'cite', 'cited', 'cites', 'citibe', 'cities', 'citing', 'citizen', 'citizenfisher', 'citizenfreepres', 'citizens', 'city', 'citybeatcincy', 'citylab', 'citynightcap', 'cityofhudsonoh', 'citys', 'ciubmoss', 'ciumc4hsg9', 'civil', 'civil_roar_', 'civilian', 'civilians', 'civillost', 'cj6rezrzxp', 'cj7jeepman', 'cj7v3vlys9', 'cjacee113', 'cjanvz30kn', 'cjcvkkylqv', 'cjfhtfkgo5', 'cjjcfwijem', 'cjjja5ti6s', 'cjk8oxayrr', 'cjkvicp3xw', 'cjl3sy331k', 'cjmcs8lphz', 'cjnpz46jbh', 'cjocfbrpiq', 'cjtevlin3', 'cjwv27ajzd', 'cjxgsvimzy', 'cjxiuo4gem', 'ck', 'ckdiamjaem', 'ckepzvvzap', 'ckers', 'ckhcmii9nz', 'ckmbczuacz', 'cknphnxzh9', 'ckptxwfism', 'ckqvn8kop7', 'cks4du9sit', 'ckslepx06z', 'ckzyoxa3rw', 'cl1ntonserver', 'cl4ws_out', 'cl8bmxcer5', 'claim', 'claimed', 'claiming', 'claims', 'claire', 'clairebalan', 'claraho89599857', 'clarenc86122697', 'clarereverri', 'clarify', 'clarity', 'claritysage111', 'clark', 'clarkcounty', 'class', 'classaction', 'classactionlaw', 'classes', 'classic', 'classifications', 'classified', 'classify', 'classifying', 'classism', 'claud_smoot', 'claudevl23', 'claudiapoindex2', 'claw', 'claytravis', 'cle', 'clean', 'cleanairandwater', 'cleanairmoms', 'cleanairmoms_pa', 'cleaned', 'cleaner', 'cleanhouse', 'cleaning', 'cleanup', 'clear', 'clearbluerain', 'clearer', 'clearing', 'clearly', 'clears', 'clelisa32', 'clevel', 'clevela', 'cleveland', 'cleveland19news', 'clevelanddotcom', 'clewis7711', 'clfggccrvc', 'clg', 'click', 'clicks', 'client', 'clients', 'clif_high', 'cliffs', 'climate', 'climateaction', 'climatecaucus', 'climatechange', 'climatecrisis', 'climateemergency', 'climatereality', 'climatescam', 'climb', 'clinic', 'clinics', 'clink', 'clinton', 'clip', 'clips', 'cllbpfybjx', 'cllhkxawpm', 'clock', 'clockoutwars', 'clockwork', 'clog', 'clorox', 'cloruro', 'close', 'closed', 'closely', 'closer', 'closes', 'closest', 'closing', 'clothing', 'clotshotz', 'cloud', 'cloudatlas_47', 'clouded', 'clouds', 'cloudyone', 'clout', 'clown', 'clownshow', 'clownworld_', 'clpt002rpd', 'clqpv49luz', 'club', 'club4growth', 'clue', 'clues', 'cluster', 'clusters', 'cluttered', 'clxk5roodb', 'cmacqx8fff', 'cmatrvcnza', 'cmd8ulgjku', 'cmfbhfu1vh', 'cmfjsosokc', 'cmg', 'cmlyon67', 'cmmjratxwa', 'cmpeupkfiu', 'cmv1c8tud7', 'cmw2le4ost', 'cn0ctceinm', 'cnamfaruar', 'cnbc', 'cnbcnow', 'cngfmbmrry', 'cnn', 'cnnbrk', 'cnnnews', 'cnnpolitics', 'cnnsotu', 'cnntownhall', 'cny8crqyze', 'co1lrflwcy', 'co2mgkiqsp', 'coach', 'coal', 'coast', 'coaster', 'coastline', 'coat', 'coatings', 'cocktail', 'codanschwartz', 'code', 'codes', 'codify', 'coffee', 'coffindafferfbi', 'coginf18ue', 'cogvwgn4zl', 'coherse', 'cohorts', 'coincide', 'coincided', 'coincidence', 'coincidences', 'coincidental', 'coincidentally', 'coincides', 'coisa', 'colarchon', 'colbertlateshow', 'cold', 'coleyufo', 'colinjones', 'colinmorgan65', 'colinthecrypto1', 'collaborators', 'collapse', 'collapsed', 'collapses', 'collar', 'colleague', 'colleagues', 'collected', 'collecting', 'collective', 'collectively', 'college', 'collide', 'collided', 'collides', 'colliding', 'collinrugg', 'collins', 'collision', 'colluding', 'collyererica', 'colmorrisdavis', 'cologne', 'color', 'colorado', 'colorado_dee', 'coloradocd4', 'coloradodavidsu', 'colorless', 'colors', 'colsfire', 'columbia', 'columbiabugle', 'columbiana', 'columbus', 'column', 'columnist', 'columns', 'com', 'combat', 'combination', 'combined', 'combo', 'combustible', 'come', 'comeback', 'comer', 'comes', 'comfort', 'comfortable', 'comforting', 'comic', 'comical', 'coming', 'comment', 'commentary', 'commentator', 'commentators', 'commented', 'comments', 'commerce', 'commercial', 'commie', 'commission', 'commit', 'commitmen', 'commitment', 'commitments', 'committed', 'committee', 'committeeonccp', 'committees', 'committing', 'commodore997', 'common', 'commondreams', 'commonly', 'commonsensetodd', 'commontalkpod', 'commonwealth', 'commotley', 'comms', 'commu', 'communauté', 'communicating', 'communication', 'communications', 'communist', 'communists', 'communistsusa', 'communitie', 'communities', 'community', 'communitynotes', 'commuter', 'comp', 'compa', 'companay', 'companies', 'company', 'companys', 'comparable', 'compare', 'compared', 'comparing', 'comparison', 'compartment', 'compass', 'compassion', 'compañía', 'compel', 'compensate', 'compensated', 'compensating', 'compensation', 'compete', 'competent', 'competing', 'competition', 'competitor', 'complacent', 'complain', 'complained', 'complaining', 'complaint', 'complaints', 'complete', 'completed', 'completely', 'completes', 'complexity', 'compliance', 'complicated', 'complicit', 'complicity', 'comply', 'component', 'components', 'compound', 'compounds', 'comprehensive', 'comprometerse', 'compromised', 'computer', 'computing', 'comrade', 'comrades', 'comté', 'conard', 'conaway', 'conce', 'concealing', 'concede', 'concept', 'concern', 'concerned', 'concerning', 'concerns', 'concerted', 'concessions', 'concidence', 'concluded', 'conclusion', 'concrete', 'condemn', 'condemning', 'condemns', 'conditions', 'condolences', 'conduct', 'conducted', 'conducting', 'conductor', 'conducts', 'coneill1965', 'confederacy', 'conference', 'confessed', 'confesó', 'confidence', 'confident', 'confidential', 'confidentially', 'confirm', 'confirmed', 'confirming', 'confirms', 'conflagration', 'conflict', 'conflicting', 'confront', 'confrontation', 'confronted', 'confronts', 'confused', 'confusednarwhal', 'confusing', 'confusion', 'congestion', 'conglomerate', 'conglomerates', 'congmikesimpson', 'congrajlashins', 'congratulate', 'congreso', 'congress', 'congressional', 'congressman', 'congressmanraja', 'congresspeople', 'congresswoman', 'connect', 'connected', 'connecticut', 'connecting', 'connection', 'connections', 'connectivity', 'connie_ryba', 'conrail', 'conscious', 'consensus', 'consequence', 'consequences', 'consequential', 'conservatism', 'conservative', 'conservativead5', 'conservativenews', 'conservatives', 'conservjean', 'conservnewsdly', 'consider', 'consideration', 'considered', 'considering', 'considers', 'consist', 'consistency', 'consistent', 'consistently', 'consisting', 'consists', 'consolidating', 'conspiracies', 'conspiracist', 'conspiracy', 'conspiracy314', 'conspiricynuts', 'conspiring', 'constanceahath', 'constant', 'constantly', 'constituency', 'constituents', 'constrained', 'constraints', 'construct2021', 'construction', 'constructive', 'constrxsue', 'consultancy', 'consultant', 'consultation', 'consulting', 'consume', 'cont', 'contact', 'contacted', 'contain', 'contained', 'containers', 'containing', 'containment', 'contains', 'contaminando', 'contaminants', 'contaminate', 'contaminated', 'contaminatedwhich', 'contaminating', 'contamination', 'contaminationhttps', 'contaminents', 'contending', 'contenedores', 'contenido', 'content', 'contentious', 'contents', 'contest', 'contested', 'contesting', 'context', 'continental', 'continentsandregions', 'continetti', 'continue', 'continued', 'continues', 'continuing', 'continuous', 'contract', 'contracted', 'contractor', 'contractors', 'contracts', 'contradicted', 'contrary', 'contrast', 'contribute', 'contributed', 'contributes', 'contributing', 'contributions', 'contributor', 'contro', 'control', 'controlled', 'controlleddemolition', 'controls', 'controversial', 'controversy', 'convened', 'conveniently', 'conventional', 'conversation', 'conversely', 'convert', 'converted', 'convertplate', 'conveying', 'convict__trump', 'convince', 'convinced', 'convincing', 'conway', 'cook', 'cooked', 'cookies', 'cool', 'cooler', 'coop', 'coopcopcoop1', 'cooper', 'cooper_holly', 'cooperative', 'cooperstown', 'coordinated', 'coordination', 'coordinator', 'coordinators', 'cop', 'coping', 'coppolino', 'cops', 'copvdtcrpy', 'copxas0tcd', 'copy', 'corbin', 'core', 'corn', 'corner', 'corners', 'corp', 'corporate', 'corporateparasite', 'corporation', 'corporations', 'corporatist', 'corpos', 'corps', 'corpses', 'corpus', 'corpwatch', 'correct', 'corrected', 'correcting', 'correctly', 'correspondent', 'corridor', 'corroborating', 'corrosive', 'corrupt', 'corrupted', 'corruptgop', 'corruption', 'corruptocrats', 'cortez', 'cortezmasto', 'corvid317', 'corygraves4real', 'cos', 'cosplay', 'cost', 'costing', 'costly', 'costonia', 'costos', 'costs', 'cotb7j85to', 'cotswold', 'cottage', 'cough', 'coughing', 'coughs', 'coulda', 'couldn', 'council', 'councilofdc', 'counsel', 'counseling', 'count', 'count_mcristo', 'countdown', 'counter', 'counterracism_', 'counties', 'counting', 'countless', 'countries', 'country', 'countryside', 'counts', 'county', 'coup', 'couple', 'courant', 'courdeleon02', 'course', 'court', 'courtesy', 'courtmouse2003', 'courtney', 'courtneybanks', 'courts', 'cousins', 'cov', 'cover', 'coverage', 'covered', 'covering', 'coverings', 'covers', 'coverup', 'covet_81', 'coveted', 'covfefeprophet', 'covid', 'covidvaccines', 'coving', 'cow', 'cow_cousin', 'coward', 'cowards', 'cowboyshitz', 'coworkers', 'coy5l4tggs', 'coynqsemym', 'coyotegulch', 'cozza', 'cp24', 'cp3mdqy1my', 'cpac', 'cpac2023', 'cpar4thecourse', 'cparaskinner', 'cpdake', 'cpdkidzumx', 'cplh5witgr', 'cpmu6qbevt', 'cpqcueoujk', 'cprnews', 'cpsvg9xc8a', 'cpt_fantabulous', 'cpucelli', 'cpurkiser', 'cpusaohio', 'cputjo3mp1', 'cpwvaqh1n7', 'cq0d5l4qas', 'cq88lhhjso', 'cqbsjhcxp5', 'cqlsgew6ah', 'cqsnhqvus7', 'cquigwdjse', 'cqvnahx5er', 'cqwj1orjbu', 'cr', 'crack', 'crackalacki13', 'cracker', 'cracks', 'crafting', 'craftmastah', 'craftyme25', 'craig1454', 'cramer', 'crap', 'crash', 'crashed', 'crashes', 'crashing', 'cravencarpenter', 'crawfishaka', 'crawmarjorie', 'crayfish', 'craykain', 'crazier', 'craziest', 'crazy', 'crazyday2020', 'crazytown1313', 'cre35', 'create', 'created', 'creates', 'creating', 'creations', 'creature', 'creatures', 'cred', 'credentials', 'credibility', 'credible', 'credit', 'credits', 'creek', 'creeks', 'creepy', 'creepy_org', 'creoletargeted', 'crescent', 'crestview', 'crew', 'crew__darey', 'crewcrew', 'crewing', 'crews', 'crglobalization', 'crhheqwn3h', 'cricket', 'crickets', 'crime', 'crimes', 'criminal', 'criminality', 'criminally', 'criminals', 'criminalunionfw', 'cringe', 'criscre123', 'crises', 'crisi', 'crisis', 'criss', 'criteria', 'critical', 'criticism', 'criticisms', 'criticize', 'criticized', 'criticizes', 'criticizing', 'critics', 'criyihnwiy', 'crjmfux77y', 'crjmg4ubds', 'crjqnuxvnu', 'crkdo3nxqh', 'crmuovb47l', 'cromer', 'cronies', 'crooked', 'crookeddistro', 'crooksandliars', 'crops', 'crosby', 'cross', 'crossed', 'crossers', 'crossing', 'crowd', 'crowds', 'crowleyantmarga', 'crown', 'crs', 'crt', 'crucial', 'crude', 'cruel_grey22', 'cruelty', 'cruising', 'crumbling', 'crumbs', 'crush', 'crushed', 'crustaceans', 'cruz', 'crybabies', 'crying', 'cryingliberal3', 'crypto', 'cryptokubrology', 'cryptolife', 'cryptowendyo', 'crystal82028223', 'cs1lqpaflv', 'cs6vyait7k', 'cs9asph9wx', 'cscneup3r1', 'csd1sf5p18', 'csdrpx6vrq', 'cse', 'cse7nrznf8', 'csep7vxtny', 'csinclairtv', 'cslaaja7hi', 'csmspsy2m0', 'cspan', 'cspanwj', 'cswa26nanp', 'cswys9tq07', 'csx', 'ct', 'ct7em2b3fv', 'cta', 'cteh', 'ctnnce6vu6', 'ctvlondon', 'ctvnewsnorthern', 'ctygrlphoto', 'ctzeapzl2c', 'ctztelegraph', 'cu6kqcwhxd', 'cu6rxlafkz', 'cu9bomvftk', 'cubic', 'cucud3r03r', 'cucumbers', 'cudabdoll', 'cues', 'culbbbsqt9', 'culminating', 'culmination', 'culo_ur', 'culpability', 'culprit', 'culprits', 'cult', 'cultists', 'cultural', 'culture', 'culvert', 'culverts', 'cunningsq16', 'cuo6husidv', 'cuomo', 'curb', 'curbed', 'cure', 'curious', 'curiousfoolish', 'current', 'currently', 'currents', 'curriculum', 'cursed', 'curtishouck', 'cus', 'cushingagnes', 'cut', 'cutbacks', 'cute', 'cuts', 'cutting', 'cuxkpuox8a', 'cuy47bdwpb', 'cuyahoga', 'cuz', 'cv06y759r4', 'cvfz5akchx', 'cvkac6zmlg', 'cvllrxjkr5', 'cvoshjbxzm', 'cvrnwhkrs1', 'cvv8zjat0f', 'cvvncrmtsr', 'cvvzj204bx', 'cvwmqu9pjc', 'cw4wafgtkt', 'cw57thvzgh', 'cw6jpfsial', 'cw8js4lgs9', 'cwcm1ev7o7', 'cwdobfr45y', 'cwebbonline', 'cweiser', 'cwillott', 'cwj91qngq9', 'cwqt09sz46', 'cwthqiyqte', 'cwv0so1eud', 'cwvctgchod', 'cwzlo8gday', 'cwzsxdqo2a', 'cx4i6nq1ie', 'cxiovm0rqp', 'cxisbild4w', 'cxiwexqc12', 'cxkz57us4x', 'cxq3wp0xdj', 'cxqixx7qwh', 'cxrj7czf2i', 'cxrlzpxmwg', 'cybrarerin', 'cycle', 'cycles', 'cyclicamp24', 'cyemkmx3sz', 'cylcfimw6g', 'cynical', 'cynicism', 'cynthiamckinney', 'cynthiamckinneywas', 'cynthianna3', 'cynthiapeet', 'cypqsrayb0', 'cyqty8qsoi', 'cyrhy2dohc', 'cyriloliver11', 'cywwj1gli6', 'cyzenjkqz0', 'cz432ribnx', 'cz8ouhytmu', 'cziautmtmv', 'cznxvc3hnj', 'czoła', 'czrr3au8um', 'czsutgu6a2', 'cztc4j7147', 'cómo', 'd01cvbsswm', 'd0es1tmatt3r', 'd0rjclxzmh', 'd0syooiwyz', 'd0tslash', 'd12c4bphtq', 'd14wqb9rfl', 'd1agsbv6vu', 'd1lihbjc9h', 'd1ndvwfaei', 'd1wzj83l5p', 'd1yzx8ysnu', 'd2e6iiyczk', 'd2jruuzl4b', 'd2usjqzvcx', 'd2wb7zblyc', 'd2x0ku34kk', 'd34thk4p', 'd37dukabua', 'd3caz0haya', 'd3jzegwshl', 'd3xxnxibbw', 'd4thewin', 'd5kdhhxe4k', 'd5krbsxydt', 'd5tzcrjscx', 'd69le0cvto', 'd6gi8iwwfk', 'd7azyyzwxd', 'd7gax7nr3r', 'd7jtkfxlfy', 'd7lvupik0c', 'd7miato4zd', 'd7zwcveen1', 'd87u1maufp', 'd89vq7pyjm', 'd8d8qqr1x6', 'd8gddlxq5d', 'd8ysbyvkgd', 'd96iqrw55u', 'd9j7mea5jc', 'd9khx8pk0u', 'd9xj5joztt', 'da', 'da5ozj3v9z', 'da6kjcrrvq', 'da7cezx0gm', 'da8trrzxzj', 'daangrypacifist', 'daauq7ttnx', 'dachanc1953', 'dad', 'dadavis65', 'daddiorobjr1963', 'daddy', 'daddydrezz', 'dafhaonawv', 'dafjaggvvn', 'daft', 'dagenmcdowell', 'dah', 'daily', 'daily_press', 'dailybeast', 'dailycaller', 'dailycastnews', 'dailyjobcuts', 'dailymail', 'dailynoahnews', 'dailywirenews', 'daintymae2', 'daiseyjane01', 'daklgdijhd', 'dakota', 'dakotans', 'dakuvr7dej', 'dale_garwood', 'dalf20wzdo', 'dallokat', 'dalmatian', 'dalocoengineer', 'dam', 'damaan4u33', 'damage', 'damaged', 'damages', 'damaging', 'dammit90', 'damn', 'damning', 'damnpamfromnamm', 'dan', 'dan_moskow', 'danaboydbarr', 'danalarsen', 'danaloeschradio', 'danaperino', 'danaradio', 'danced', 'dandy', 'dang', 'danger', 'dangerous', 'dangers', 'danhanley4', 'danhornnews', 'danielboone721', 'danielchaitin7', 'danielkalombo', 'danielsgoldman', 'danimalboy', 'danishvikingga', 'dankic1mlj', 'dannoacton', 'danrather', 'dans', 'dapm03rmsi', 'darafaye', 'dare', 'dares', 'dark', 'dark_reaperusmc', 'darkbrandon', 'darlington', 'darnelsugarfoo', 'darpafanaccount', 'darreldrowland', 'darren', 'darrenclyn', 'darrigomelanie', 'darrin48070209', 'darya', 'dasani', 'dash', 'dashaburns', 'dashboard', 'dashcam', 'dashdobrofsky', 'dashuss1', 'daskrubking', 'daszak', 'dat', 'data', 'dataprogress', 'datdudedanny', 'date', 'daughter', 'dave', 'dave_slough', 'dave_winx', 'davedwardspiano', 'davefedor2', 'davehill77', 'davelevitan', 'davemasters', 'davenewworld_2', 'daveyostoh', 'david', 'david_darmofal', 'david_j_hockley', 'davidasmanfox', 'davidb19784816', 'davidbeckerman0', 'davidcundiff', 'davidgross_man', 'davidhogg111', 'davidkurten', 'davidlongenec18', 'davidmuir', 'davidmusiker', 'davidmweissman', 'davidpepper', 'davidre17046614', 'davidrlurie', 'davidsc05322931', 'davidshepardson', 'davidsirota', 'davidson', 'daviedoc1967', 'davis', 'dawg', 'dawn', 'dawnc2022', 'dawnermarie11', 'dawning', 'dawnmaier3', 'daxpnyq67r', 'day', 'daylight', 'days', 'daytime', 'dayton', 'dayton247now', 'daytondailynews', 'daytrading', 'dayyyuum', 'dazjpqs8sl', 'dbca0f0png', 'dbcok98rig', 'dbkt0ekqku', 'dbqrorqtou', 'dburksmlsfd', 'dbuzqhoz1k', 'dby1fafegw', 'dc', 'dc6vtauhig', 'dc9yipgzrd', 'dc_dewitt', 'dc_draino', 'dceiver', 'dcelestespencer', 'dcexaminer', 'dclongislander', 'dcwmj0wkp2', 'dcxfqgzq64', 'dd7tz8vtcz', 'dd8vy64ldc', 'ddalmations', 'ddavenport213', 'dddvyy8tau', 'ddertle89', 'ddiamond', 'ddl1vslvek', 'ddnifcins1', 'ddskirsch', 'ddsxlndry7', 'dduvgb8dt8', 'ddvkg0da3m', 'ddxqazxt3h', 'dead', 'deadjedidave21', 'deadliest', 'deadly', 'deadrabbit43', 'deaf', 'deal', 'dealing', 'dealings', 'deals', 'dealt', 'deam21139715', 'dean', 'deannamcraig', 'deanobeidallah', 'dear', 'death', 'deathpanel_', 'deaths', 'debacle', 'debatalrojovivo', 'debate', 'debates', 'debating', 'debbie', 'debbiethomas88', 'debonking', 'deborah39533585', 'deborahkburns1', 'debra', 'debra79876398', 'debraj112', 'debris', 'debt', 'debts', 'debunked', 'debunks', 'debvader', 'dec', 'decade', 'decadelong', 'decades', 'decatur', 'decaturand', 'deceitful', 'deceive', 'deceiving', 'december', 'decency', 'decent', 'decentamerican1', 'deception', 'deciccopad', 'decide', 'decided', 'decides', 'deciding', 'decision', 'decisions', 'decisively', 'declaration', 'declare', 'declared', 'declares', 'declaring', 'declassify', 'decline', 'declined', 'declines', 'declining', 'decodingfoxnews', 'deconstructs', 'decontaminated', 'decreased', 'decries', 'ded29hu0tk', 'dedicated', 'deduction', 'deductions', 'deebee827', 'deedrenta', 'deeganps', 'deekevin56_m', 'deeleftmom', 'deem', 'deemed', 'deep', 'deeply', 'deepsouthproud', 'deer', 'deesbarbara', 'defaulting', 'defconnewstv', 'defeaning', 'defeat', 'defect', 'defective', 'defenceu', 'defend', 'defended', 'defenders', 'defending', 'defends', 'defense', 'defensive', 'deferred', 'define', 'defined', 'defining', 'definite', 'definitely', 'definition', 'definitive', 'deflect', 'deflected', 'deflection', 'deflects', 'defy_norm', 'degrading', 'degree', 'degrees', 'dehumanization', 'dei', 'deindustrialization', 'deitaone', 'dejaelplástico', 'dekukl8pj2', 'del', 'delaware', 'delay', 'delayed', 'delays', 'delete', 'deleted', 'deliberate', 'deliberately', 'delicious', 'delighted', 'delillo', 'delirious', 'deliver', 'delivered', 'deliveries', 'delivering', 'delivers', 'delivery', 'della', 'delusions', 'deluzio', 'dem', 'dema', 'demand', 'demanded', 'demanding', 'demands', 'demaning', 'demcast', 'demeaning', 'dement', 'demented', 'demfromct', 'democ', 'democracies', 'democracy', 'democracy631', 'democracyinper1', 'democracynotautocracy', 'democracynow', 'democrat', 'democratic', 'democraticags', 'democratically', 'democrats', 'demokratów', 'demolished', 'demolition', 'demonbruncarl', 'demonstrate', 'demonstrates', 'demonstration', 'demorats', 'dems', 'demsforthepeople', 'demsh8usa', 'demsocialists', 'demvoice1', 'den', 'denaepfa', 'denbysister', 'denied', 'denies', 'denise_dewald', 'denise_dreon', 'denisehollar', 'denisewu', 'dennib86', 'denniscearl', 'dennisjromero', 'denounced', 'dense', 'densest', 'denvergazette', 'denverkvs', 'denverpolitics', 'denying', 'department', 'departments', 'departure', 'depe', 'depend', 'dependence', 'dependents', 'depending', 'depends', 'depicting', 'deplorables', 'deploy', 'deployed', 'deploying', 'deployment', 'deploys', 'depopulation', 'deposit', 'depraved', 'depressing', 'depression', 'dept', 'depth', 'deputes', 'deputies', 'deputy', 'deq', 'der', 'dera', 'derai', 'derail', 'derailed', 'derailement', 'derailers', 'derailing', 'derailm', 'derailme', 'derailmen', 'derailment', 'derailments', 'derails', 'deranged', 'deregulate', 'deregulated', 'deregulating', 'deregulation', 'deregulations', 'deregulatory', 'dereliction', 'dernier', 'derramó', 'derrick47886845', 'derricknaacp', 'derricknijel', 'derrickvanorden', 'des', 'desantis', 'descarrilamiento', 'descarriló', 'descend', 'descendants', 'descendent', 'desconoce', 'described', 'describes', 'describing', 'description', 'descriptive', 'desertcra2y', 'deserve', 'deserved', 'deserves', 'design', 'designed', 'designer', 'desimac13', 'desire', 'desired', 'desiree', 'desk', 'desolation', 'desperate', 'desperately', 'despicable', 'despise', 'despite', 'despose', 'destination', 'destined', 'destroy', 'destroyed', 'destroying', 'destroys', 'destruction', 'destructive', 'deswp1frb8', 'deszwwifr7', 'detailed', 'detailing', 'details', 'dete', 'detect', 'detectable', 'detected', 'detecting', 'detection', 'detector', 'detectors', 'deteriorated', 'deteriorating', 'determine', 'determined', 'determines', 'detonate', 'detonated', 'detonating', 'detonation', 'detox', 'detract', 'detrimental', 'detroit', 'detroitnews', 'detroitreddit', 'detroitwon', 'deutsch', 'devast', 'devastated', 'devastating', 'devastation', 'deveautrain', 'developed', 'developer', 'developing', 'development', 'developmental', 'developments', 'develops', 'device', 'devices', 'devild0g_', 'devils', 'devinpasko', 'devjbp9jmt', 'devon', 'devoted', 'dew', 'dewaltjackson', 'dewayne', 'dewhine', 'dewine', 'dewines', 'dezallecnt', 'df1cghbwcd', 'df8hme2ws6', 'dfazl5eltc', 'dfela9vjuv', 'dfmlbp4orw', 'dfvyly1yfu', 'dfxep7h8ll', 'dg1wrhiayi', 'dg3189wsz8', 'dgadncilxe', 'dgaf', 'dgciqmnw5a', 'dgcmt6aklq', 'dgmlmtlih8', 'dgmru6rhvr', 'dgplxstkrz', 'dgq4ha2c9u', 'dgxztipfgx', 'dgypllhpwh', 'dh9x9trpea', 'dhbuhonupt', 'dhbwep67av', 'dhecglibuf', 'dhggsajb2r', 'dhiggins63', 'dhomryws37', 'dhsgov', 'di2ahalav4', 'di2oxnvi65', 'di72utrubr', 'diabetes', 'diabolicalgenie', 'diagnosed', 'diagnosis', 'diagolonmonkey', 'diagonally', 'dialogue', 'dianacialino', 'dianaheardcpa', 'dianesbaker1', 'diapers', 'diarrhea', 'dicaprio', 'dicbhr5rcf', 'dice', 'dickchristian19', 'dickenson', 'dickiepena', 'dics26bbhm', 'dictate', 'did', 'didn', 'didnt', 'die', 'die__trying_', 'died', 'dies', 'diesel', 'dieselliko', 'diethylene', 'dietzmv9vg', 'diff', 'differ', 'difference', 'different', 'differently', 'difficult', 'difficulty', 'dig', 'digest', 'digging', 'digimalice', 'digital', 'digivorr', 'digs', 'dijananukic', 'diligently', 'diluted', 'dimbulbs', 'dime', 'diminish', 'diminishing', 'dimocrap', 'dineshdsouza', 'dingell', 'dingle', 'dings', 'dinner', 'dino', 'dinsinformation', 'diogoalves___', 'dioxin', 'dioxins', 'dip', 'diparker55', 'dipendente', 'dipsh1t', 'dir', 'dir0lmkx94', 'dire', 'direct', 'directed', 'directing', 'direction', 'directive', 'directly', 'director', 'directors', 'directs', 'dirk_fasshauer', 'dirkdig72135517', 'dirt', 'dirty', 'disability', 'disagree', 'disagreement', 'disappeared', 'disappointed', 'disappointing', 'disarray', 'disaster', 'disasters', 'disastersandsafety', 'disastrous', 'disbanded', 'disbelieve', 'disbursed', 'discharge', 'discharged', 'disclosed', 'disclosetv', 'disclosure', 'disconnect', 'discontinued', 'discontinuing', 'discourse', 'discovered', 'discovers', 'discrepancies', 'discrepancy', 'discrimination', 'discuss', 'discussed', 'discusses', 'discussing', 'discussion', 'discussions', 'disdain', 'disease', 'diseasedaily', 'disfunction', 'disgrace', 'disgraced', 'disgraceful', 'disgruntled', 'disguise', 'disgust', 'disgusted', 'disgusting', 'disheartened', 'dishonest', 'disinfo', 'disinformation', 'disintegrated', 'disintegrating', 'disjointed', 'dismal', 'dismantle', 'dismantled', 'dismantling', 'dismissed', 'dismisses', 'dismissive', 'disney', 'disorderly', 'disowned', 'disparity', 'dispatch', 'dispatchalerts', 'dispatched', 'dispatcher', 'dispatchers', 'dispatching', 'disperse', 'dispersed', 'dispersing', 'displaced', 'displacement', 'display', 'disposal', 'dispose', 'disposed', 'disposing', 'disproves', 'disrails', 'disregard', 'disregarded', 'disrupted', 'disruptive', 'disrupts', 'dissipated', 'dissolvethegop', 'distance', 'distract', 'distracting', 'distraction', 'distractions', 'distressed', 'distressing', 'distribute', 'distributed', 'distributing', 'distribution', 'district', 'districtr', 'districts', 'distrust', 'distrustful', 'disturbing', 'ditch', 'div', 'dive', 'diversified', 'diversifying', 'diversion', 'diversity', 'divestspd', 'divide', 'dividends', 'divider', 'divillogan4', 'division', 'dixon', 'dixqzd936l', 'dizziness', 'dj1zrmds30', 'dj2rhn9hzc', 'dj_eurobeat', 'djbwjdxnvj', 'djbxetgxb9', 'djffndl9dv', 'djfreedomrocket', 'djlissa2', 'djnnhmo2ov', 'djournalnow', 'djpj0txvh2', 'djqlqcs9bc', 'djsgddoooc', 'djt', 'djtj', 'djtrump', 'dju2pne5iq', 'djx1555', 'djzjxin7h1', 'dkbilson', 'dkbubba', 'dkcjlatml7', 'dkeller32125797', 'dkga6hl7vj', 'dkirkeles1', 'dkiurjs7uu', 'dkrgkhut3i', 'dkugxnowz3', 'dl', 'dl5atv52f1', 'dlbmaga', 'dldwcdgjai', 'dlgnqmg9xy', 'dlkodkadzn', 'dlkthbyig0', 'dloesch', 'dlqigtcidm', 'dlqyehd7bh', 'dlsgdsbhuf', 'dlvdaco0ep', 'dlzr6x3uw3', 'dm', 'dm55iwynd2', 'dma', 'dmandork', 'dmashak', 'dmdvxfhuwf', 'dmgd', 'dmitrysplane', 'dmmdbwnzva', 'dmuhndli4k', 'dmwe9ydgp3', 'dn2cwfqmke', 'dna', 'dnbrgr', 'dnc', 'dncclimate', 'dnh9qyvapg', 'dnj1bs0wrk', 'dnj5d2jc9s', 'dnjzlempnl', 'dnldjaieua', 'do4p68hnur', 'doanebarile', 'docdeezwhat', 'docfromdailykos', 'doctor', 'doctors', 'document', 'documentary', 'documentation', 'documented', 'documenting', 'documents', 'dodaistewart', 'dodd', 'dodge', 'dodged', 'dodges', 'dodule24o2', 'doeditj1fq', 'does', 'doesn', 'doesnt', 'dof45ckpfq', 'dog', 'dogcukkjnf', 'dogs', 'dohickey', 'doing', 'doings', 'doj', 'doled', 'dolioj', 'dollar', 'dollars', 'dolwy9q3g9', 'domain', 'domenicadelia22', 'domestic', 'domestically', 'dominion', 'don', 'donald', 'donaldjtrump', 'donaldjtrumpjr', 'donaldrusso994', 'donaldtrump', 'donate', 'donated', 'donates', 'donating', 'donation', 'donations', 'doncheadlefan90', 'dondatimes', 'dondelillo', 'donelson52', 'donjeffries', 'donlawr86874954', 'donna', 'donnacassata', 'donnagann4', 'donnell', 'donnie', 'donniesmolder', 'donny', 'donor', 'donors', 'donovanlawtampa', 'donsheldon', 'dont', 'dont_biame_me', 'donwinslow', 'donziger', 'doocy', 'doom', 'doomed', 'door', 'doors', 'doorstep', 'doozy', 'dopn7uywcj', 'doppler', 'dor', 'dorajfacundo', 'dorspi', 'dot', 'dots', 'dotspola', 'double', 'doubled', 'doubt', 'doubters', 'doubtfire', 'doubtful', 'doubts', 'douchebag', 'doug', 'doug_in_nc', 'dougjballoon', 'dougwahl1', 'downed', 'downfall', 'downgraded', 'download', 'downplay', 'downplayed', 'downplaying', 'downside', 'downsize', 'downstream', 'downtown', 'downwind', 'doxhlq9eca', 'dozen', 'dozens', 'dpafwb19h0', 'dpgxgmhlkn', 'dphrilnz3g', 'dpq1jdoyiw', 'dptt4zyere', 'dpv1pseyuj', 'dpwwtqwdg5', 'dqfzuinbwo', 'dqgah', 'dqkjkmvfrt', 'dqpjlduzdm', 'dqschmitt15', 'dqwivra9m4', 'dqxcusg8hd', 'dr', 'dr83u1npuk', 'dr919lgbjc', 'dr9hxvx6vm', 'dr_nicole_karn', 'dr_palazzolo', 'drabick', 'drafts', 'drag', 'draganov313', 'drags', 'drahlers', 'drain', 'drainage', 'drained', 'drainoswamp2', 'drains', 'drama', 'dramatic', 'dramerling', 'drank', 'dratdf4yhq', 'draw', 'drawing', 'drawn', 'draws', 'drbiden', 'drbobbullard', 'drboguslaw', 'drcaeceo3h', 'drdooleymd', 'dread', 'dream', 'dregs', 'drericding', 'dress', 'dressing', 'dretchy', 'drew', 'drewects', 'drewscofield01', 'drhenryealy', 'drill', 'drilling', 'drink', 'drinkable', 'drinking', 'drinks', 'drive', 'driver', 'drives', 'driving', 'drj38378656', 'drkellyvictory', 'drl8c9574i', 'drloupis', 'drmammal', 'drmarcsiegel', 'drnmkq1rng', 'dro6be0dyb', 'drod12swiw', 'drone', 'drones', 'drop', 'dropped', 'droppedcall365', 'dropping', 'drops', 'droughts', 'drove', 'droves', 'drpeppertexan', 'drsimonegold', 'drstt6uyh0', 'drue86', 'druewhitmer', 'drug', 'drugi', 'drumbeats', 'drumpf', 'drumpster', 'drunk', 'drzsvjko5d', 'drüben', 'ds', 'ds1uz3khub', 'ds9pbmqywy', 'dsamn', 'dschlopes', 'dselektra', 'dskolnick', 'dsolgih7oy', 'dsslfj0lxp', 'dswgtlcliv', 'dt6pehgpqp', 'dtaehpstmi', 'dtgly25h1k', 'dthekingpin', 'dtjpyavhj3', 'dtknscghpw', 'dtnenisbq6', 'dtnwjn9jke', 'dtpfjzzmpg', 'dtporge', 'dtt1snammt', 'dtt9wb6vtz', 'du', 'du6buvhhwf', 'du8gvyepsi', 'dubdortqwj', 'duc48nnj0d', 'duckheadpgh', 'dudcanoe58', 'dude', 'dudebroson11', 'dudeneyn', 'dudleywbrown', 'dudly_mohr', 'duedgyaql5', 'dufyeibisp', 'dug', 'duh', 'duin46473580', 'dukbusg3bv', 'dukeenergy', 'dulaznziv5', 'dumb', 'dumbass', 'dumbed', 'dumber', 'dumbness', 'dummy', 'dump', 'dumped', 'dumping', 'dumpster', 'duncan', 'duncanm22722159', 'dunk', 'dunphy_official', 'duop7qrfc1', 'dupe', 'dupont', 'durbinwatson09', 'durch', 'durham', 'durlaurie', 'dushan41', 'dust', 'dustinmills48', 'dutaafvut3', 'dutch', 'dutpbc6v3q', 'duty', 'duyusjwtes', 'dv59zlxzvx', 'dva6fcs8p1', 'dvb19ndqfe', 'dvdgbjrw0h', 'dvdnln', 'dvex8cozhp', 'dviawb1c9s', 'dviipxbop7', 'dvjyxsuu9l', 'dvni9teplp', 'dvr', 'dvuqbfhi4y', 'dvv7v9l5z2', 'dvzn4gcny2', 'dw', 'dw53nfsd2k', 'dw6rn0ivvy', 'dw_environment', 'dwbnseaside', 'dwchejn01w', 'dweiss36', 'dwifleyq4f', 'dwjf8lvvgg', 'dwkxkgcujf', 'dwn4ux1l1y', 'dwukfwsi8c', 'dwxusdart5', 'dx080xd', 'dx322upwcu', 'dxbmab2glo', 'dxemrtcdbi', 'dxicd0n3ee', 'dxkzxfttsb', 'dxl7vyruzl', 'dxmhyba2ms', 'dxqwnol8vu', 'dxvynbft2p', 'dying', 'dylrsah5qf', 'dymh52dord', 'dynamics', 'dyp5v48wfp', 'dypzprt2jf', 'dysfunctional', 'dysinger', 'dysqdzgihf', 'dywersję', 'dyzxyaj3nf', 'dza5gularr', 'dzdud0vc5f', 'dzk0io597h', 'dzm1eiwd3l', 'dzoarno2r9', 'dzp8hjgpdr', 'dzpnkmhyce', 'dzrjkugrtc', 'dzrknub2as', 'dzwflcvspc', 'dzzon7cvvk', 'débordé', 'déchets', 'déclin', 'déraille', 'déraillement', 'déraillent', 'déraillé', 'désormais', 'díaz', 'e0mr7v0t36', 'e1l0jpy5y6', 'e1ncncyzot', 'e1wtnjroer', 'e21otklqit', 'e22', 'e2ma4qraje', 'e2mur8mv7c', 'e2rupc7hfz', 'e2sd68scwk', 'e2u0ijmxib', 'e35dgysngb', 'e3hrfabane', 'e3txuoacxv', 'e3w0tl2ass', 'e48ax0d2sc', 'e4c7qqnoaf', 'e4hr2m7nmh', 'e4nsyj3t1w', 'e4plrkufbj', 'e4sv1sm7kf', 'e4wlfhvihd', 'e5aupvtwxk', 'e5kwl8491x', 'e5mmso7bik', 'e5npwzg1dy', 'e6nbfoglyn', 'e6qaub5uix', 'e6r2jegngh', 'e6rkztgrjc', 'e7', 'e7izmumgwq', 'e7rech7vn8', 'e8g0fd7pn1', 'e8j7gumkpk', 'e8wklmfhbl', 'e9o2cb6aj1', 'e9w5et6t2c', 'ea', 'ea4seza8v8', 'ea929m5jtt', 'ea9ajxz9bz', 'eagle', 'eagles', 'eago67twib', 'eaipljylvw', 'eam4h107xa', 'eamnm7e3ql', 'ean68hr0nu', 'eani9zyqtw', 'eaods6rri3', 'earful', 'earl', 'earlier', 'early', 'earned', 'earnings', 'earns', 'ears', 'earth', 'earth3r', 'earthjustice', 'earthquake', 'earthquakes', 'earthquakesome', 'earthshaking', 'ease', 'eased', 'eashttps', 'easier', 'easily', 'easing', 'east', 'eastbourne', 'easterly', 'eastern', 'eastohiodcm', 'eastpalastine', 'eastpalenstine', 'eastpalenstineoh', 'eastpalestine', 'eastpalestine1', 'eastpalestine23', 'eastpalestinecatastrophe', 'eastpalestinechernobyl', 'eastpalestinedisaster', 'eastpalestineincident', 'eastpalestineoh', 'eastpalestineohio', 'eastpalestinetrain', 'eastpalestinetrainderailment', 'easy', 'easyjet', 'eat', 'eating', 'eatlovepray22', 'eau7tcnzdt', 'eavis', 'eavk8ku3zn', 'eb8xicrs1x', 'ebacnvslw1', 'ebb9zltaps', 'ebgnrmmgmy', 'ebon_geist', 'ebqnyu5efg', 'ebrahimji', 'ebrmcpmyhq', 'ebs', 'ebsmj1dwbr', 'ebuslqpuu6', 'ec4qna6d2a', 'ec67i7l7qd', 'ec8xjhyw8n', 'ecatpanther', 'ecava6tymk', 'ecb', 'ecdwa75hpr', 'ecfhvbi2yc', 'ecftjh3dfg', 'echo', 'echoes', 'echoing', 'ecjfe53aia', 'eckelberry', 'eclecticbrotha', 'eclipsethis2003', 'eco', 'ecological', 'ecologicaldisaster', 'ecology', 'ecomadres_', 'economic', 'economically', 'economics', 'economist', 'economy', 'ecosearch', 'ecosensenow', 'ecosystem', 'ecosystems', 'ecothought', 'ecowarriorss', 'ecp', 'ecwauthority', 'ecxhdm5t7s', 'ed', 'ed80frr06g', 'edamnit43t', 'edavis152', 'edbi0xxsvn', 'edbyersphd', 'edclay115', 'edcmp05dfq', 'eddmewss8o', 'edenton', 'edgallekfox8', 'edge', 'edgeofstreet918', 'edgreenberger', 'edhenry', 'edis', 'edit', 'edited', 'editor', 'editorial', 'edkrassen', 'edlx7fge13', 'ednoralbrenda', 'edpinoqi8c', 'edpndphbvc', 'edrmulzi7c', 'edsafetyuk', 'edt22', 'eduardo', 'educate', 'educated', 'edward_heubel', 'edywvymcwn', 'ee', 'ee1c34x1tb', 'eebnqb7cl1', 'eedvlhrypg', 'eefjlarrh9', 'eegp8pqgta', 'eeh82ofonj', 'eelyyt73rv', 'eerie', 'eerily', 'eery', 'eesuhaebpu', 'eeuu', 'eexsvp6umb', 'eezyswngkm', 'ef2p6ye2bt', 'ef9w7cyewt', 'efbpa0662x', 'efdfwal4mx', 'eff', 'effect', 'effected', 'effecting', 'effective', 'effectively', 'effects', 'efficiency', 'efficient', 'effort', 'efforts', 'effysassperella', 'efimmhpxrn', 'eflem215', 'efmllmoorw', 'efphty3wvx', 'efqzulitja', 'efr5v36z1z', 'efx55yc8ew', 'eg6zrwp2wu', 'eg7tpycf7r', 'egdm8z', 'egekvylvtc', 'egg', 'egjedykgwi', 'egnndq4wjm', 'egos', 'egpt4lz0qi', 'egqkouhoec', 'egregious', 'egs2eohvsu', 'egt1cpoqwa', 'egulators', 'egvniecjs7', 'egxviewmep', 'eh9gvmthff', 'ehardykerniii', 'ehkaixlt6s', 'ehnewsroom', 'ehoesmre1t', 'ehpdzox7cs', 'ehrdn7xopa', 'ehuhptsine', 'ehvonshgvy', 'ehzk1hw33d', 'ei4s6xgjus', 'ei7ky2wusr', 'ei8ybibogl', 'eiagrjtc6i', 'eiayuy7hm8', 'eic02l2teb', 'eidkii2caf', 'eimcgrj7xe', 'eiqtf32urr', 'eirzapuz4s', 'eisvbjjktq', 'eitanap', 'eitmonline', 'eiwqtdnifj', 'eixckxdyv9', 'eiynkeekyl', 'ej7xfurhi2', 'ejkladhpqh', 'ejn6xhaudm', 'ejohns03', 'ejorxln0ji', 'ejxd2', 'ek3r94ft1k', 'ekaetaiqj2', 'ekfuckp3th', 'ekgkvdwn3n', 'ekgmggg3lh', 'ekhi78etn9', 'eklbk5t8dn', 'eklmkz3jko', 'ekokbwjrpx', 'ekq7oickv1', 'ekvs1yr5k4', 'ekyfkmeqka', 'el', 'el6sl1kzu2', 'elaborate', 'elaine', 'elainechao', 'elb9oscukl', 'elbfxqo2lj', 'elderly', 'elect', 'elected', 'electing', 'election', 'electric', 'electrical', 'electronic', 'electronically', 'eleftheria119', 'eleftheriaelpis', 'elements', 'eleohh2soz', 'elevated', 'elevenonethree', 'elfsraccoon', 'eliane', 'elicit', 'eligibility', 'eligible', 'elijahschaffer', 'eliminate', 'eliminated', 'eliminateproblematicplastics', 'eliminates', 'eliminating', 'elise', 'eliseo1183', 'elisestefanik', 'elite', 'elites', 'elitism', 'elitist', 'eljt3uh7wh', 'elk', 'ellab_g', 'ellaleeuk', 'elleemmakay', 'ellendeubner', 'ellenkmcd', 'ellis_texas', 'elmfvpl6et', 'elon', 'elonmusk', 'elonmusk689', 'eloquent', 'elp0tq6br5', 'elpenor_dignam', 'elpiov0n56', 'elrhgzqxsg', 'els2359', 'elvin_unleashed', 'em', 'em30a48rjn', 'ema', 'email', 'emails', 'emanated', 'emanuelmaiberg', 'embankment', 'embarrassed', 'embarrasses', 'embarrassing', 'embarrassment', 'embassy', 'embattled', 'embedded', 'embellished', 'emblematic', 'emboldenedshow', 'emejzauzol', 'emeraldrobinson', 'emerge', 'emerged', 'emergencies', 'emergency', 'emerges', 'emerging', 'emeriticus', 'emermcasey', 'emhlvjdfmx', 'emil', 'emily', 'emilycompagno', 'eminent', 'eminently', 'emitted', 'emitting', 'emjbs1027', 'emkooblq1a', 'emmahendersontv', 'emmakinnison', 'emme0703', 'emnqebyo1x', 'emotional', 'emotions', 'emouzsu5kh', 'empathy', 'empewltd6a', 'empire', 'employ', 'employed', 'employee', 'employees', 'employers', 'employs', 'employés', 'empoisonnement', 'empowered', 'empowers', 'empressnitara', 'emrn4zkvka', 'emspesbc3o', 'emvhgfxwlo', 'en', 'en1zdawna4', 'en9d6gxqcx', 'enable', 'enabled', 'enabling', 'enact', 'enacted', 'enbolden2', 'encapsulated', 'encapsulation', 'enck', 'enckj', 'encountering', 'encounters', 'encourage', 'encourages', 'encouraging', 'end', 'endanger', 'endangered', 'endangering', 'endcorporatelobbying', 'endcorporatepersonhood', 'ended', 'ending', 'endless', 'endorse', 'endorsed', 'ends', 'endure', 'enemies', 'enemy', 'energy', 'enforce', 'enforced', 'enforcement', 'enforcing', 'engage', 'engaged', 'engagement', 'engine', 'engineco16', 'engineer', 'engineering', 'engineers', 'england', 'englewood', 'english', 'enhance', 'enhanced', 'enhancing', 'eniacww6ny', 'enjoy', 'enjoyed', 'enjoying', 'enmnewsnews', 'enon', 'enoree', 'enormous', 'enoughhate', 'enoxi1hzv6', 'enquirer', 'enrich', 'enricofaraboll1', 'enron', 'ensued', 'ensuing', 'ensure', 'ensuring', 'entanglement', 'enter', 'entered', 'entering', 'enterprise', 'enterprises', 'enters', 'entertain', 'entertainment', 'enthusiasm', 'enthusiast', 'enthusiasts', 'entire', 'entirely', 'entities', 'entitled', 'entity', 'entlvtur1n', 'entrance', 'entre', 'entrepreneur', 'entresmith', 'env22', 'envelopes', 'envenenadas', 'envir', 'enviro', 'enviromentalprotectionagency', 'environment', 'environmental', 'environmentaldisaster', 'environmentalism', 'environmentalist', 'environmentalists', 'environmentally', 'environmentalprotectionagency', 'environmentnews', 'environnement', 'enx25dagik', 'enygmactown', 'eo', 'eo3h4j5rta', 'eo7vvr5ezg', 'eoavt7czuo', 'eomyqemxe0', 'eon11eip2m', 'eowljfau0w', 'eoxxr8nk94', 'ep', 'ep_417', 'epa', 'epagreatlakes', 'epal', 'epalestinetruth', 'epamichaelregan', 'epaohio', 'eparegion3', 'epas', 'epastatelocal', 'epawater', 'epic', 'epicenter', 'epidemic', 'epidemiologist', 'epiro4pd4o', 'episode', 'epkradsvqo', 'epoch', 'epochtimes', 'epqvkqsdna', 'eprdn2c0o8', 'eprggvehat', 'epstein', 'epsteinclientlist', 'epswzpxnp6', 'epw', 'epwcmte', 'epwgop', 'epyiprvtit', 'eq1wu4fh8u', 'eq4ohpejx7', 'eqafrcjpbk', 'eqariqmtnf', 'eqhcaozhyd', 'eqnl', 'eqnlbkqzm6', 'eqqt882aoq', 'eqr5xqkb0e', 'eqstybrlyl', 'eqtimpvji5', 'equ2sk4s8o', 'equal', 'equally', 'equifax', 'equipment', 'equipped', 'equitable', 'equity', 'equnblfqlw', 'eqvocvh6z5', 'era', 'erased', 'erhmop7svj', 'eric', 'ericakland', 'ericareport', 'ericarhill', 'ericbolling', 'ericcrystal6', 'ericfoltz', 'ericjbrewercle', 'ericka', 'erickleefeld', 'ericmgarcia', 'ericmmatheny', 'ericsandy', 'erie', 'erienewsnow', 'erik75071631', 'erikacorasmom1', 'erikhagstrom1', 'erin', 'erinbrockovich', 'erinbrokovich', 'erins_galaxy', 'erinwfmj', 'erjift4xbs', 'erlfm1y4i0', 'ernielittle7', 'eroshevich', 'erosion', 'erqtcun4cw', 'errg68cdas', 'erroneously', 'error', 'errors', 'erupt', 'erupted', 'erupts', 'erxc1gqqib', 'es', 'es3dt3vtc5', 'es8oyhw8ny', 'escalates', 'escape', 'escochrane', 'escándalo', 'esdeeesdee1', 'esg', 'eshalegal', 'esk4r7jr2o', 'eslffqjvi2', 'eso', 'esoryelsnya', 'esp', 'españa', 'español', 'especially', 'espendidriksen2', 'esrwterh3p', 'essentially', 'est', 'establish', 'established', 'estados', 'estate', 'estates', 'esteemed', 'estherfung', 'esthier1', 'estimate', 'estimated', 'estimates', 'estos', 'estuardospeaks', 'esu9tzmizu', 'esuxtkjty0', 'eswxsrqgma', 'esz2lyhovt', 'eszubski', 'et', 'et26ekomeb', 'et8v0jicwr', 'etacoja7vi', 'etats', 'etfb1df65b', 'etgnsuuyc5', 'ethan', 'ethandasaxman', 'ethane', 'ethanecracker', 'ether', 'ethical', 'ethnic', 'ethyec7qzb', 'ethyl', 'ethylene', 'ethylhexyl', 'etkbw8kgz9', 'etnje2zq4v', 'etoileluna77', 'etowah', 'etpoxo1dzu', 'etssywktit', 'ettrdxdxju', 'eu', 'eu1wf6xlv9', 'eu38g5knwf', 'eu6vcwnnqt', 'eu6wqv0mo4', 'eugene_robinson', 'eugeneppc', 'eulumggc7l', 'eupgjy7f0c', 'euphemism', 'eurofins', 'europe', 'european', 'euv4vmrgai', 'eva8e6ebtk', 'evac', 'evacuate', 'evacuated', 'evacuating', 'evacuation', 'evacuations', 'evacuees', 'evaluating', 'evan', 'evanakilgore', 'evandonovan', 'evanlamberttv', 'evans', 'evaporated', 'evbiqxvy9z', 'eve', 'evening', 'event', 'events', 'eventually', 'everybody', 'everyday', 'evh6u5jqh7', 'evidence', 'evident', 'evil', 'evilwizzy69', 'evl8hdrahg', 'evo', 'evocations', 'evrybdydys', 'evtbjevmnb', 'evv2yueocx', 'evzlpbl3as', 'ew14bkymjz', 'ew5cpze0ji', 'ewarren', 'ewbxuxv2rp', 'ewcb2afzdk', 'ewerickson', 'ewkfs05vwt', 'ewms8go8mp', 'ewsu', 'ewtalggc2z', 'ewteaxelm2', 'ewupcuamfi', 'ex', 'exacly', 'exact', 'exactly', 'exagerate', 'exaggerating', 'exaggeration', 'examine', 'examined', 'examiner', 'examining', 'example', 'examples', 'exasperated', 'excavated', 'exceed', 'exceedingly', 'excellence', 'excellent', 'exception', 'exceptionalism', 'exceptionally', 'excerpt', 'excess', 'excessive', 'exchange', 'exchanging', 'excited', 'excluded', 'exclusive', 'exclusively', 'excsvgj9qw', 'excuse', 'excuses', 'exczfk1kki', 'exczsu0idw', 'execs', 'execute', 'executive', 'executives', 'exempt', 'exercise', 'exgeeqcl3m', 'exhaust', 'exhausted', 'exhaustion', 'exhibit', 'exhortant', 'exist', 'existence', 'existent', 'existing', 'exit', 'exiting', 'exmaga2023', 'exobcrwp5e', 'exodus', 'exp0sed', 'expanding', 'expands', 'expec', 'expect', 'expectations', 'expected', 'expecting', 'expects', 'expediency', 'expelgqpcoupplotters', 'expense', 'expenses', 'expensive', 'experience', 'experienced', 'experiences', 'experiencing', 'experiment', 'expert', 'expertise', 'expertly', 'experts', 'expired', 'explain', 'explained', 'explainer', 'explaining', 'explains', 'explan', 'explanation', 'explanations', 'explicitly', 'explode', 'exploded', 'explodes', 'exploding', 'exploit', 'exploited', 'exploiting', 'exploits', 'explore', 'explosion', 'explosions', 'explosive', 'explosives', 'explotando', 'exports', 'expose', 'exposed', 'exposes', 'exposing', 'exposure', 'express', 'expressed', 'expressing', 'expressions', 'exrhmbhzte', 'ext1ilzcvx', 'ext6anxt11', 'extension', 'extensive', 'extent', 'extention', 'externalized', 'exth6xdifp', 'extinguish', 'extra', 'extraordinarily', 'extraordinary', 'extras', 'extraterrestrial', 'extreme', 'extremely', 'extremism', 'extremists', 'extrmly', 'exuevvucum', 'exuyhisl1f', 'exxon', 'exxon_knew', 'exxuv3ycit', 'ey4oqg3hoi', 'eybzjem0w4', 'eye', 'eyebrows', 'eyeem', 'eyeing', 'eyes', 'eyesupamerica99', 'eylxqkqvxr', 'eyn4ds3zhj', 'eynoufelizabeth', 'eysvrjeglr', 'eyxhglcczy', 'eyxtjlucau', 'eyxxwkoghh', 'eyytup813n', 'eyzixircb2', 'ez8znvpkxi', 'ezd3oeoann', 'ezdygrqw54', 'ezfcl9xojy', 'ezgh64i6lv', 'ezhz1t4gt7', 'ezim79', 'ezm9l7ty7t', 'ezpkpxqt66', 'ezqsygkhrf', 'ezuttsudcj', 'ezx18zdpez', 'f0au9ezgzm', 'f0bjl98bqf', 'f0f1o7yovu', 'f0kdty5rzf', 'f0t2jewjvp', 'f1doioqyvq', 'f1qlqhwrss', 'f1w59r06lh', 'f2agpljnh1', 'f2bwmbippx', 'f2isb2n57v', 'f2wjwjvrio', 'f2zlyk4hh7', 'f3amh814gz', 'f3dkh5m6nr', 'f3odfozxhe', 'f3wskhmodq', 'f4ceefngpo', 'f4j1kwm6cf', 'f4jmkmsymg', 'f4wfk57bpv', 'f5dyfokxum', 'f5egf06xyx', 'f5kx0c67kt', 'f5u8b14yvz', 'f5usrqnlly', 'f5w9futz04', 'f6bq4mt9hg', 'f6dooryfzb', 'f6ejmlnjsn', 'f6q0plbhzw', 'f7bcbgazjv', 'f7dmdbwfnx', 'f7i17kilex', 'f7k06dcshy', 'f7sjtfe63w', 'f7vag8lhzb', 'f7zcpofrjg', 'f8b1fpqgtp', 'f8ebywatam', 'f8fdpmm5ah', 'f8nvd8ngdi', 'f8oabb7wxz', 'f8oqoaott8', 'f96hgi7hiw', 'f9fmqqpvms', 'f9oucktoqx', 'fa', 'faa', 'faatithestreet', 'fab', 'fabisiak', 'fabricator', 'faca8txg0b', 'face', 'facebook', 'facebookwatch', 'faced', 'faceless', 'faces', 'facethenation', 'facetious_dem', 'facilitated', 'facilities', 'facility', 'facing', 'fact', 'factor', 'factories', 'factors', 'factory', 'facts', 'factsbeatmemes', 'factsmatter', 'factsvs_fiction', 'factual', 'faculty', 'fae', 'fahy', 'faidf8ju54', 'fail', 'failed', 'failing', 'fails', 'failure', 'failures', 'fainting', 'fair', 'fairgrounds', 'fairly', 'fait', 'faith', 'faith2cu', 'fake', 'faked', 'fakenews', 'fakepresident', 'faking', 'falconfan00', 'falconryfinance', 'fall', 'fallacy', 'fallen', 'fallenwood1', 'falling', 'fallout', 'fallouts', 'fallow', 'falls', 'false', 'falsely', 'falsifies', 'falsities', 'fame', 'familiar', 'families', 'family', 'famous', 'fan', 'fanateresafana', 'fancy', 'fandom', 'fang', 'fangled', 'fanned', 'fanoffryes71', 'fans', 'fantastic', 'fao1n3vkxu', 'fapzo6irkb', 'far', 'faraenznmd', 'faralynpadilla', 'farce', 'faring', 'fark', 'farm', 'farmandrail', 'farmdocdaily', 'farmer', 'farmers', 'farmgirlcarrie', 'farming', 'farmland', 'farmlands', 'farms', 'farther', 'farts', 'farzs8oaxh', 'fascism', 'fascist', 'fascists', 'fashion', 'fashioned', 'fast', 'fastcompany', 'faster', 'fastlerner', 'faststocknewss', 'fat', 'fatal', 'fatalities', 'fatality', 'fatally', 'fatballs369', 'fateful', 'father', 'fatmansqueeze98', 'fau', 'faucet', 'fauchi', 'fault', 'faulted', 'faulty', 'faux', 'favor', 'favorable', 'favorita', 'favorite', 'fawfulfan', 'fayecook19', 'fazer', 'fb', 'fb66e7jp05', 'fb6ibiija8', 'fb856lvj5n', 'fbayer6', 'fbi', 'fborsmkmzb', 'fbvtppoqvs', 'fbzfatkpjp', 'fc8wawbixz', 'fcddsahk4j', 'fcdkrjpkbf', 'fcevnrhahn', 'fcjomc4mlo', 'fcking', 'fclvqw4sxv', 'fcrbkvpd1q', 'fcwhaug1rq', 'fcy7dkhxz4', 'fd5rply77j', 'fd6rpsqbtw', 'fdarpkouf0', 'fddonsdinp', 'fdmltn2kag', 'fdn82j99wr', 'fdrlst', 'fdt', 'fdt5sdohck', 'fear', 'feared', 'fearful', 'fearing', 'fears', 'feat', 'featured', 'features', 'featuring', 'feaysevgb9', 'feb', 'feb3', 'february', 'fed', 'federal', 'federalist26', 'federallawsuit', 'federally', 'feds', 'fee', 'feed', 'feeding', 'feedly', 'feeds', 'feedstock', 'feei55xytg', 'feel', 'feeling', 'feelings', 'feels', 'feesmac', 'feet', 'fehcyv1jsm', 'feigns', 'feistyliblady', 'feji7o0y9w', 'fejxqazpn8', 'felipeg46458704', 'felixstowe', 'fell', 'fellout', 'fellow', 'felt', 'feltontherivers', 'felxyxs7r2', 'fema', 'fema_deanne', 'femaregion5', 'femmevoilet', 'fender', 'fentanyl', 'feob9jidja', 'ferahgo684', 'fernand46357857', 'ferraribgoddess', 'ferro', 'ferroequinologists', 'ferroviaire', 'ferry', 'fertile', 'fertility', 'fertilizer', 'fervljlgc9', 'fervor', 'festivities', 'fetterman', 'feu', 'feud', 'fevc0or9uu', 'fewer', 'fewifgvwyx', 'ff08zadpdd', 'ff1r2y3bzn', 'ff3p33xzsl', 'ff7e4fbcyk', 'ffa7wm1ckx', 'ffcrmufgz2', 'ffohfptvuw', 'ffrf', 'ffs', 'fg0u8jkz1d', 'fg5kxd8qca', 'fgaodbebgp', 'fgc339unab', 'fgjhlpvy5g', 'fgjqorvxjy', 'fgn1klcads', 'fgnjtptbms', 'fgqrpzfn5l', 'fgtulak35y', 'fgxxeqtqci', 'fgyknkcpb9', 'fh8g5hcegb', 'fhbms7hhej', 'fhf0hkvbft', 'fhljstehos', 'fhoxl73vao', 'fhsrtvm8kp', 'fhyli4fgm3', 'fi', 'fi8jwu0qq8', 'fi97bhybtv', 'fiasco', 'fiction', 'fictional', 'ficwgs0p30', 'fidzx4c2qo', 'field', 'fielded', 'fields', 'fiercefreckled', 'fiery', 'fifth', 'fight', 'fight4newjersey', 'fighter', 'fighthetyranny', 'fighting', 'figure', 'figured', 'figures', 'fiknuqfhah', 'fikuirfrzy', 'filamsd', 'file', 'file411', 'filed', 'files', 'filing', 'filings', 'filled', 'filling', 'fills', 'film', 'filmed', 'filming', 'filters', 'filth', 'filthy', 'fin', 'final', 'finalized', 'finally', 'finance', 'financial', 'financially', 'financing', 'finding', 'findings', 'finds', 'fine', 'fined', 'fines', 'finfox2', 'finger', 'fingerprints', 'fingers', 'fink', 'finkencrvs', 'finneylawfirm', 'fintech', 'fire_ice_pain', 'fireapparatus1', 'firearms', 'fireball', 'firebunicorn', 'fired', 'fireengineering', 'firefighters', 'firefighting', 'firepete', 'fires', 'firing', 'firm', 'firmly', 'firms', 'firstfreespeech', 'firsthand', 'fiscal', 'fish', 'fisherlady111', 'fishing_huuker', 'fishmanlevine', 'fishy', 'fit', 'fitibmehle', 'fitness', 'fitnessgoddoc', 'fitnessmamma', 'fitted', 'fittingly', 'fivethirtyeight', 'fix', 'fixed', 'fixgjlhhxy', 'fixing', 'fiyo7s968d', 'fjb', 'fjlfksau1f', 'fjm06r7ujh', 'fjpl1osim5', 'fjqimkgrcw', 'fjqqs63reg', 'fjuspgotv7', 'fk1iv19nu6', 'fkchpcrajh', 'fkdw9y9kpk', 'fke5sejm4g', 'fkeonaeqxb', 'fkhl7rure3', 'fkjvaafnll', 'fkr', 'fkvjo5rvlx', 'fkzsscc7mz', 'fl', 'fl81lyzczj', 'fl8rhirzop', 'fla', 'fla9zfx2mf', 'flack', 'flacksan2', 'flag', 'flagged', 'flagged_falsely', 'flagrant', 'flakes', 'flames', 'flammable', 'flanigancolette', 'flaqp3qjmb', 'flare', 'flared', 'flash', 'flashback', 'flashing', 'flashpoint', 'flat', 'flatcars', 'flattielover', 'flaunting', 'flavors', 'flawed', 'flbjwffotl', 'fldemocrat42', 'fldkptobrp', 'flee', 'fleeing', 'flew', 'flex', 'flf9wqmtw4', 'flhmym3cre', 'flickr', 'flies', 'flight', 'flint', 'flip', 'flipscrisos', 'fllip0mgo1', 'fllokgpatl', 'flman1980', 'flmomubkzx', 'floating', 'flock', 'flocking', 'flood', 'flooded', 'floofspikey', 'floor', 'flop', 'florenc39933400', 'florida', 'florida_leen', 'floridians', 'flotus', 'floundering', 'flourish', 'flow', 'flowergirlbaker', 'flowing', 'flows', 'floyd', 'flsen', 'flsqwr4rgm', 'flu', 'fluafe69sp', 'fluffer', 'fluid', 'flushed', 'flw6gmizez', 'fly', 'flyeaglesfly008', 'flyers', 'flying', 'flying_vixen', 'flyingwasabi739', 'fmizofvtfy', 'fmjg2qjbwt', 'fmmveanfqf', 'fmoagpnokf', 'fmr', 'fmv', 'fmx5mmvk5d', 'fmxlt6oxkt', 'fn', 'fn6autm3kr', 'fn6pii9pcw', 'fnaxkzqpdo', 'fnc', 'fnlzjstgal', 'fnmr8uyztz', 'fnvw2b4bwt', 'fo9gs2fk7x', 'fo9yguqsbb', 'foa72h1vym', 'focp0hdsmk', 'focus', 'focused', 'focuses', 'focusing', 'focwzuxqtl', 'fodder', 'foezuebili', 'fohreality', 'foiaed', 'foiltha', 'foirclaqwe', 'fois', 'fokes', 'fold', 'folded', 'folk', 'folks', 'follow', 'followed', 'followers', 'following', 'follows', 'fomenting', 'fomocast', 'fonqlfz6xv', 'food', 'foodandwater', 'foodandwaterpa', 'foods', 'fooking', 'fool', 'fooling', 'foolish', 'fools', 'foot', 'footage', 'football', 'footing', 'footnote', 'forbes', 'forbid', 'force', 'forced', 'forces', 'forcing', 'ford', 'fordjohnathan5', 'forecast', 'forefront', 'foreign', 'foremost', 'foresight', 'forest', 'forestry', 'forests', 'forever', 'foreverphoenix2', 'forex', 'forget', 'forgets', 'forgetting', 'forgiatoblow47', 'forgiveness', 'forgot', 'forgotten', 'fork', 'forkstalk', 'form', 'formal', 'formar', 'formed', 'forming', 'formosaclubhq', 'forms', 'formula', 'fort', 'fortexashoujami', 'forth', 'forthright', 'fortify', 'fortunately', 'fortune', 'fortunemagazine', 'forum', 'forumidex', 'forumotion', 'forward', 'fospjp1alg', 'fossil', 'foster_jfosfla', 'fostering', 'fotogem', 'fou', 'fought', 'foul', 'fouled', 'foundation', 'founder', 'founders', 'foundersfollows', 'fountains', 'four4thefire', 'fourth', 'fowclvljlk', 'fowehsamb3', 'fox', 'fox10phoenix', 'fox13', 'fox19', 'fox19tricia', 'fox28columbus', 'fox2news', 'fox32news', 'fox4', 'fox4beaumont', 'fox4kc', 'fox55fortwayne', 'fox56wolf', 'fox5atlanta', 'fox5sandiego', 'fox7austin', 'fox8news', 'foxbusiness', 'foxcarolinanews', 'foxes', 'foxnews', 'foxnewspolitics', 'foxnewsradio', 'foxnewsrundown', 'foxnewssunday', 'fp4p3c7tqm', 'fp4rrqo9jt', 'fpdgwrmipi', 'fpj8supqb6', 'fpkr208jne', 'fplbcs5hfp', 'fplpisv5ah', 'fpotus', 'fppgymmayz', 'fpqrjoyujz', 'fpqzz6kwvi', 'fpsqaaggnz', 'fpwellman', 'fq5fgv3p9q', 'fq6pz2bnee', 'fqml7englo', 'fqmldxwg6p', 'fr54xi89dz', 'fra', 'frackhazreveal', 'fracking', 'fraction', 'framed', 'framing', 'fran', 'france', 'franckpengam', 'francophone', 'franfigliola', 'frank', 'frank21blue', 'franklarose', 'franklintkeener', 'frankmikedavis1', 'franksowa1', 'frankthorp', 'frantigrassi', 'frantzrantz', 'fraud', 'frauds', 'fraukegalia', 'fravxn5nk6', 'fray', 'frayed', 'frdqc1jycg', 'freak', 'freakin', 'freaking', 'freakinwoke', 'freaks', 'fred67099622', 'fredsimontlm', 'free', 'freebeacon', 'freedom', 'freedomcaucus', 'freedomjody', 'freemason', 'freemasonic', 'freemasons', 'freepalastine', 'freespeech', 'freespeechc72', 'freespoke', 'freespokesearch', 'freethankelon', 'freeusa99403238', 'freeze', 'freight', 'freights', 'freighttrain', 'freightwaves', 'french_one', 'frens', 'frequency', 'frequent', 'frequently', 'fresh', 'freshresists', 'freshwords', 'frets', 'freya123rufus', 'fri', 'friction', 'friday', 'fridayfeeling', 'friend', 'friends', 'frightening', 'frm', 'fro', 'frogborg', 'frogger04091968', 'froggy', 'frogs', 'fromkalen', 'fromkulak', 'fron', 'frontlinesshow', 'frontlinestory', 'froomkin', 'frostharding1', 'frqfppams1', 'fruit45144003', 'fruits', 'frustrated', 'frustrates', 'frustrating', 'frustration', 'frustrations', 'frvbauumtk', 'frvnb6vdrd', 'fs1vbtabbi', 'fs5ss7mke1', 'fs94b5opv4', 'fs9yswx1im', 'fsddqh4orh', 'fsesfyup3k', 'fsikvshlcj', 'fsrvdgqqxw', 'ft', 'ft3lzyetxt', 'ft6ikxprv8', 'ftcoyiaz7z', 'ftlizcklhs', 'ftlz7fspyv', 'ftoejc8lwn', 'ftr', 'ftw', 'ftwmqnxtep', 'ftya8p2bux', 'fu', 'fu5ivpgj1z', 'fuck', 'fucked', 'fuckers', 'fucking', 'fuct', 'fuel', 'fueled', 'fueling', 'fuels', 'fuente', 'fuf6tyx3iw', 'fuhpwol7uh', 'fujpnf9osf', 'fuk', 'fukushima', 'fulfilling', 'fulilvfkdy', 'fully', 'fulton', 'fumes', 'fumetps', 'fun', 'funcionário', 'function', 'functioning', 'fund', 'fundamental', 'funded', 'funding', 'fundraise', 'fundraising', 'fundraisingop', 'funds', 'funeral', 'fungj9yti3', 'funkwrite', 'funkytown_01', 'funnels', 'funny', 'funranium', 'furans', 'furio888az9', 'furious', 'furniture', 'furrowedbrow_jk', 'furthermore', 'furvgqgqdb', 'fury', 'fused', 'fuss', 'futpmilcan', 'future', 'fuw43hxioy', 'fuxd77y1u9', 'fv3nwrmgom', 'fv46pjongd', 'fvbgttwowg', 'fvck', 'fvfxjqkogl', 'fvhaj5xm9w', 'fvhpfdhsup', 'fvknt6aurn', 'fvlt4aeto1', 'fvpklpgeib', 'fvsfwntrkg', 'fvtaoma0s3', 'fvvjn6dozk', 'fvzhxmpurx', 'fw0uhnxbdy', 'fw6mowfrlw', 'fw8tppphoc', 'fwbr5c4cqo', 'fwcszvjlfr', 'fwe1991', 'fwlzfcqr13', 'fwmezkj09s', 'fwmizkl0zo', 'fwtoney', 'fwu4tqkuhx', 'fwycfab0xj', 'fx1f8aif8m', 'fx3jxvsj9s', 'fxck', 'fxe9bb1g0e', 'fxebmchfvt', 'fxemqphvyp', 'fxgzoqr5h5', 'fxk3v6d7sd', 'fxsoy1lylq', 'fxuqtmgqhh', 'fxxk', 'fy5pjbv1sb', 'fy99plosiq', 'fy9fv80eih', 'fyc2jazcgs', 'fyi', 'fyj5q635vq', 'fyqzzyq9by', 'fysug9ugqh', 'fywaeorhjf', 'fyyfgzt403', 'fz3zocgya7', 'fzafwb3ple', 'fzaqlujw63', 'fzbotjjfup', 'fzfyyd3kfq', 'fzjfb4en6e', 'fzksnznn8y', 'fzlikolmy8', 'fzmbonf2et', 'fzq02zijk1', 'fzuqjlsghl', 'fzvwymvbx0', 'fzzd4a8rv9', 'février', 'g09mk1d1em', 'g0mgo5hmlp', 'g0vbix4nk7', 'g12zunpfrf', 'g1gtxot9mq', 'g1ncghhaoq', 'g2bcehbjfn', 'g2nexdt3de', 'g2ojbibwqd', 'g2rh9stv7o', 'g3104', 'g33efuar67', 'g3bb6jdwvl', 'g3cwwthvbq', 'g3f0zeblcy', 'g3suen3idn', 'g4qpgzw4wg', 'g4s5tvejfh', 'g4xjotbcvb', 'g5rn1oirrp', 'g5ztt11vh4', 'g6o5udsq3e', 'g6ugsjsosg', 'g72ow8pb1u', 'g7jgeo9twh', 'g7mardsz73', 'g7nqoqirzj', 'g7q01nrn5v', 'g7vxy1on3h', 'g8gz86rymt', 'g8r7zvps0r', 'g8wenjd5x2', 'g8xfzezpe8', 'g9ciecrr6l', 'g9iwy4emc3', 'g9jpx6papx', 'g9mxccdjin', 'g9puk3phk7', 'g_morkert', 'ga', 'ga2x8jdoks', 'ga6oukisst', 'gabbard', 'gabegutierrez', 'gabinga1', 'gaborgurbacs', 'gabydore', 'gac', 'gae', 'gaeyxupaem', 'gaffes', 'gagediffee', 'gagop', 'gaijingirl2004', 'gailendavid', 'gain', 'gains', 'gal', 'galadrielk9', 'galenmicheal', 'galgrafix', 'galling', 'gallon', 'gallons', 'galones', 'galore', 'galvanized', 'gamble', 'gambling', 'game', 'games', 'gamoqkintx', 'gang', 'gangstamimi', 'ganoe', 'gao', 'gaoupvoqwp', 'gap', 'garbage', 'garcticall', 'gardensage', 'garnish', 'garrett_foxnews', 'garthphoebus', 'gartlgruber', 'garyhartman', 'garylmcardle1', 'garysblues', 'gas', 'gases', 'gaslight', 'gaslighters', 'gaslighting', 'gasoline', 'gasps', 'gassed', 'gasses', 'gate', 'gatekeepers', 'gates', 'gateway', 'gatewaypundit', 'gather', 'gathered', 'gathering', 'gatwick', 'gatx', 'gauci10p', 'gave', 'gavels', 'gavinnewsom', 'gawd', 'gay', 'gayresistergary', 'gaza', 'gazette', 'gbayffbzdi', 'gbhnews', 'gbhvujwl63', 'gbnmwqzqiv', 'gbsnicbnkx', 'gc22gc', 'gckzmfjwor', 'gcnpoynp5j', 'gcsodyxeqp', 'gcul2ondnf', 'gcww', 'gd', 'gd3atw4fzn', 'gdet6trdlt', 'gdiddy64', 'gdnbp3rcyq', 'gdthor1', 'ge', 'ge2pchlwco', 'ge7nxcume2', 'gear', 'gearing', 'gecgehvz9t', 'gecgehwwzr', 'gee', 'geek', 'geeks', 'geese', 'geez8090', 'gef8ikjahn', 'gekifu9fvk', 'gematria', 'gemini', 'gender', 'gene', 'genebryant2', 'general', 'generally', 'generalmcnews', 'generate', 'generated', 'generation', 'generations', 'genereaux2019', 'generosity', 'generously', 'genexermama', 'genflynn', 'geniuses', 'geno_kusa', 'genocide', 'genomesoldier22', 'genrdn1vez', 'genuine', 'genuinely', 'genzforchange', 'genzhmsoig', 'geoffrbennett', 'geography', 'geopolitical', 'geopoliticsw', 'geor', 'georebekah', 'george', 'georgehwbush', 'georgementz', 'georgesolis', 'georgetakei', 'georgia', 'gep75fn1s0', 'geraldavery17', 'geraldorivera', 'geriatrickgames', 'gerilake2', 'germans', 'germany', 'gernand', 'gerrymandering', 'gerthosmith', 'gerummst', 'gesture', 'gestures', 'getittogetber', 'getreal', 'gets', 'gettin', 'getting', 'gettingpaid', 'getty', 'getwisdomdude', 'getötet', 'geyrhvmeox', 'gf3axd6ubf', 'gf5zdafd69', 'gfbfllob4z', 'gfdswcvqso', 'gffl8ktkgi', 'gfilms7', 'gfm25kyx2r', 'gfotn89gha', 'gfoyrexg7i', 'gfull225', 'gfx7ybjhhe', 'gfzzsmoxao', 'gg3hg2hhka', 'gg_macm13', 'ggay15x5hu', 'gghaxluyly', 'ggiq1xtmzw', 'ggk0pqmfg0', 'ggo2cbgoub', 'ggplt4ztcr', 'ggreenwald', 'ggsegpm588', 'ggz3r5qz0i', 'gh1kiiznvg', 'gh4dau7k9t', 'gh5esi7yc7', 'gh9jdhcfhl', 'ghost_of_tick', 'ghostedhippie', 'ghouls', 'ghovqekaor', 'ghpdjranpt', 'ghvgkqoxlr', 'ghwwnx4mcr', 'gi26eg9ifj', 'gi2hunzhkh', 'gi66panovq', 'giancky26', 'giant', 'giants', 'gibberish', 'gidbxb8j5s', 'giddy_bunny', 'gif2pqcaic', 'gift', 'gifted', 'giftlink', 'gigantic', 'gigi69030829', 'gigtib6kqf', 'gii0pecib4', 'gillis15_', 'gimli0413', 'gin', 'ginged78', 'ginger4trump', 'gio3dx5q7z', 'gio6ramiau', 'giobenitez', 'giobruno1600', 'giovanni', 'gipjjsqevj', 'girard', 'girls', 'girlsreallyrule', 'girlsrnottoys', 'girlwithipad', 'gitmoropeco', 'gitrxlruzz', 'giu0njjspg', 'giuliani', 'giulsw3jjv', 'given', 'gives', 'giving', 'gixrkc2wd0', 'gizmodo', 'gj98dqoxbm', 'gjbhwc0lky', 'gjdktye2ut', 'gjhh4f3a8b', 'gjk4uyewuh', 'gjlcmiq2xx', 'gjm6awkedf', 'gjoaqgsker', 'gjxwsnvuzc', 'gjzlevkf45', 'gk0bznwah6', 'gk4bmwnynp', 'gk7oxtmr6f', 'gkcmldrbgb', 'gkfpw307xh', 'gkham7quyg', 'gkiaxlyqyz', 'gkj8ojdall', 'gkmc18', 'gkrnxn6oea', 'gkupejbpap', 'gl6bsrxcgr', 'gl6oqubtqg', 'glad', 'gladysgist3', 'glaring', 'glasgow_jon', 'glass', 'glasses', 'glastris', 'glchppsrcr', 'gleefully', 'glenn', 'glennbeck', 'glennkesslerwp', 'glhlrgvckp', 'glimpse', 'glitches', 'glitching', 'gliz2r3jey', 'glmxpomc9e', 'global', 'globalink', 'globalist', 'globalists', 'globalnational', 'globalnews', 'globalwarming', 'globeandmail', 'glorious', 'gloves', 'glowing', 'glqjx0aazy', 'glr2mtcnyc', 'glshruk7rh', 'glvjrzeofk', 'glw03lumjn', 'glycol', 'glyktf0vve', 'gm', 'gm1gtrrtrc', 'gm2ccuyrze', 'gm34jqkocs', 'gma', 'gma3', 'gmaietqhcu', 'gmajv1cc9r', 'gmarshall1965', 'gmfo5ttlvg', 'gmtutc', 'gmujixjua0', 'gmxbhydwod', 'gmzwywxnod', 'gniyndcmsf', 'gnlvj0jwie', 'gnmonqfhnc', 'gnppp0yjg4', 'gnqxr73vhv', 'gnqy5jm0uu', 'go0usmoeys', 'go2igucek6', 'goal', 'goalie', 'goals', 'goat', 'gobm1t4em6', 'god', 'goddamn', 'goddessnyx74', 'godfamily_usa_', 'godlessape666', 'godrigsadrang', 'gods', 'godslightangel7', 'godthedoganus', 'goes', 'gofund', 'gofundme', 'goghnblh5a', 'gohcytsisz', 'going', 'gojoe_joe', 'gold', 'golden', 'goldshift_', 'golf', 'golfweek', 'gomer', 'gomez', 'gomorrah', 'gomtgzev3g', 'gondolas', 'gone', 'gonna', 'gonzalez', 'gonzalolira1968', 'gooberment', 'good', 'goodie', 'goodness', 'goodpoliticguy', 'goods', 'goodvibepolitik', 'goodwill', 'googeliart', 'google', 'googlenews', 'goose', 'gooseymarmay66', 'gop', 'gopbetrayedamerica', 'gopbs', 'gopchairwoman', 'gopcorruptionovercountry', 'gopfailure', 'gophypocrisy', 'gopisdirty', 'gopjosh20', 'gopmajoritywhip', 'gopnomor', 'gopoversight', 'gordongchang', 'gore', 'gorka', 'gosto', 'got', 'gotchas', 'gotdamn', 'gothenburg', 'gothgirlvictim', 'gotta', 'gotten', 'gov', 'govabbott', 'govandybeshear', 'govern', 'governance', 'governed', 'governing', 'government', 'governmental', 'governments', 'governor', 'governors', 'governorshapiro', 'govholcomb', 'govinslee', 'govkathyhochul', 'govmikedewine', 'govmurphy', 'govparsonmo', 'govrondesantis', 'govsmpfm3t', 'govt', 'govtstheproblem', 'govwhitmer', 'goya', 'goyafoods', 'gp7m3jewk8', 'gpaogqao2w', 'gpdfikpstg', 'gpdqoseyzc', 'gpgi4yuxtz', 'gpid1yeicq', 'gplnsocwoo', 'gplpd5upnj', 'gpm1ypbsdw', 'gpq', 'gpxjqxp9ce', 'gq1lxlp06c', 'gq2bv62b7u', 'gq3yk2xuih', 'gqbumefjep', 'gqchv07xsv', 'gqespg0zop', 'gqmb4as2ol', 'gqp', 'gqpers', 'grab', 'grabbed', 'grabber57', 'grabbing', 'grabs', 'grace', 'graceirene21', 'gracewein', 'graciesue1212', 'gracing', 'grade', 'graduate', 'grady', 'graftedin2', 'grafton', 'graham', 'grahamallen_1', 'grahamdavida', 'graig', 'graiggraziosi', 'grain', 'grama641', 'gramma_smith', 'grammy_lovesyou', 'grammyc4zone', 'grammypam64gill', 'gramps', 'grand', 'granddaughter', 'grande', 'grandeur', 'grandfather', 'grandolpatriots', 'grandosek', 'grandstanding', 'graniteville', 'grans', 'grant', 'granted', 'grantsmithellis', 'grantstern', 'graphics', 'grapple', 'grappled', 'grapples', 'grappling', 'grass', 'grave', 'gravenscott', 'grawj53q1n', 'gray', 'graycrawford6', 'graywolf442', 'graziosi', 'greased', 'great', 'great_thunberg', 'greatbritain', 'greater', 'greatest', 'greatlakes', 'greatly', 'greece', 'greed', 'greedy', 'green', 'greene', 'greenenergy', 'greenesj333', 'greenhousenyt', 'greennewdeal', 'greenpeace', 'greenpeaceusa', 'greenrener', 'greensboro', 'greenville', 'greenwashing', 'greeted', 'greets', 'greg', 'greg90693832', 'greg_price11', 'gregabbott_tx', 'gregdemarco1964', 'gregskilee', 'gremloe', 'grenfell', 'greta', 'gretathunberg', 'grew', 'greycat70477250', 'grgimwpkh7', 'grids', 'grief', 'grievance', 'grievances', 'grift', 'grifter', 'grifters', 'grifts', 'grill', 'grille', 'grilled', 'grilling', 'grills', 'grim', 'grimkim', 'gringopicoso', 'gringosito', 'griot2325', 'grip', 'gripped', 'grist', 'gritty20202', 'grizzlyjoeshow', 'grkqdpjade', 'grlcrutel8', 'grlezfqghd', 'grmsa6qkmo', 'grocery', 'gronko63', 'gross', 'grossas', 'grossly', 'ground', 'ground_app', 'groundbreaking', 'grounded', 'groundnews', 'groundwater', 'groundwork', 'group', 'groups', 'grow', 'growing', 'grown', 'grows', 'growth', 'gruenberg', 'grumpiest17', 'grumpy', 'grxqrhelcz', 'gryspcxkav', 'gsaw45bb1h', 'gsiwkiizim', 'gsk339', 'gsmft36lgk', 'gsojudy', 'gsondr17zb', 'gsqujt87qb', 'gstephanopoulos', 'gsultzugkw', 'gsupvpwzcl', 'gsvh0nhk6p', 'gsztjfh5nr', 'gt', 'gt5zl6yd4h', 'gt7qeyvnyr', 'gta9slpwam', 'gtconway3d', 'gtf', 'gtkwmhlnsi', 'gtntlyir7q', 'gtpzvm8kv5', 'gtqfcwgsuo', 'gtrv8xcmy6', 'gtrzgqb5lr', 'gtunept9rd', 'gtxxysbvi7', 'gu4f3ufdjv', 'gu6jlef55e', 'guarantee', 'guarantees', 'guard', 'guardian', 'guardianaus', 'guardianeco', 'guarding', 'guardrails', 'gucphobgtv', 'gudgeon', 'gudsjbccxe', 'guess', 'guessed', 'guest', 'guidance', 'guideline', 'guidelines', 'guilfoyle', 'guiliani', 'guilty', 'gulag', 'gulf', 'gum', 'gun', 'gunfighterspock', 'gunn', 'guns', 'gunthereaglema', 'gunthereagleman', 'guntotingteabag', 'guoxsh7mcy', 'gustoon', 'gutted', 'gutting', 'guuu09awkg', 'guvenor', 'guy', 'guy85one', 'guy_in_denver', 'guyjustin15', 'guymasson', 'guyontheleft1', 'guypbenson', 'guys', 'gvd6krohuy', 'gvefjnwu31', 'gvfusbv1b4', 'gvslyf0irv', 'gvzjupjqrh', 'gw11pvs72o', 'gw2jxftkok', 'gw2s57nlto', 'gw2zxxoty2', 'gwestr', 'gwfttgw3ij', 'gwjtecklyr', 'gwobuprbf3', 'gxanzmn8ny', 'gxcgqksj5u', 'gxclmvel1w', 'gxhjagm7td', 'gxjii9uwss', 'gxjsmlh1lx', 'gxmmfkecum', 'gxo4u1chbt', 'gxqmzuf3hz', 'gxwqlpg5r7', 'gy4pfciqte', 'gya9ccfili', 'gylcol', 'gyloqly9ca', 'gym', 'gymnasium', 'gymofsybmu', 'gypr9jdxgr', 'gypsum', 'gypztaxeuj', 'gz2msvy00p', 'gzcgebubj2', 'gzhk24ofko', 'gztrxzmmsh', 'gzyk41msdt', 'gzysxd1w0h', 'h0cel2yrhy', 'h0mvgl8fti', 'h0pfoejuvj', 'h0rubjdinr', 'h1555szwei', 'h1bde1qsom', 'h1bmvef2o6', 'h1cgcsp7tq', 'h1ereelv32', 'h1hgbhyadh', 'h1muhy0gtg', 'h1tonudof6', 'h1xl4yg7yt', 'h20', 'h24net', 'h2ar8khdn5', 'h2djywqbek', 'h2rgn6wd2v', 'h2twefaae1', 'h30nvt3juq', 'h3qs3ydgkg', 'h3sdn5tnvg', 'h3vgiezcqu', 'h3wk6mruh2', 'h4cmtmebht', 'h4ggep7ic6', 'h4ichlfdcr', 'h4jjl3rbyj', 'h4txttloud', 'h5533prmh5', 'h55rnumjs0', 'h59trjrpfp', 'h5ofnrpodd', 'h5ormbntv4', 'h5sggkruqr', 'h63gekwctm', 'h6sfmwzbth', 'h77omp6cie', 'h7fdlvru4v', 'h7g0qskfpy', 'h7yb8zh0nk', 'h8dwnt0oid', 'h8ly9wxksi', 'h8xivwjahh', 'h9hy6kqu71', 'h9mbtn1bqo', 'h9mqs3onko', 'h9nyyiadoo', 'h9x88k4zrb', 'ha', 'ha0z8esij9', 'ha9suglazj', 'habit', 'habitants', 'hack', 'hacked90622', 'hacker', 'hacks', 'hackwzqmhe', 'hadn', 'hafeorbnvt', 'hagens', 'haha', 'haileypcampbell', 'hair', 'hajp7y2pzv', 'hale27storm', 'haledamages', 'halevy', 'haley', 'haleybemiller', 'haleytalbotnbc', 'haleywsyx6', 'half', 'halfassed', 'hall', 'hallmark', 'halls', 'hallway', 'haln4pbgk0', 'halt', 'halted', 'halts', 'halvorson', 'ham', 'hamburgers', 'hamilton', 'hamlet', 'hamlets', 'hammer', 'hampshire', 'han8ubulbz', 'hanayuu', 'hand', 'handbook', 'handed', 'handful', 'handing', 'handiwork', 'handle', 'handled', 'handler', 'handles', 'handling', 'hands', 'handsomerandall', 'handwaving', 'handy', 'handysook1', 'hang', 'hankcny', 'hannamwebster', 'hannity', 'hapconnors', 'happen', 'happened', 'happening', 'happens', 'happier', 'happily', 'happy', 'happyinday', 'happymarch5', 'happywhitebitch', 'harassed', 'harassing', 'harbinger', 'hard', 'harder', 'hardly', 'hardwood', 'hardworking', 'hardyonthebeach', 'harm', 'harmed', 'harmful', 'harmfuls', 'harmless', 'harms', 'harpers', 'harping', 'harris', 'harrisburg', 'harrisfaulkner', 'harrisonjaime', 'harrisonkrank', 'harry_bawlzak', 'harrymudd15', 'harshly', 'hartman', 'harvard', 'harvey', 'hasan', 'hasanthehun', 'hasn', 'hastily', 'hat', 'hate', 'hatecrime', 'hated', 'hateful', 'hategop', 'hatehypocrits', 'hater', 'haters', 'hates', 'hatred', 'hats', 'hattierowan', 'hauda01', 'haugsdog88', 'haul', 'haulage', 'hauling', 'haunting', 'haunts', 'hauoywhib0', 'hav48fcgnn', 'haven', 'haverda', 'haverstraw', 'having', 'havoc', 'hawaii', 'hawgphan41', 'hawk', 'hawkeye1745', 'hawksaffair', 'hawley', 'hawleymo', 'haxhx5dwik', 'haxmat', 'haya', 'haystacktv', 'haz', 'hazar', 'hazard', 'hazardo', 'hazardous', 'hazards', 'hazchems', 'hazigaeo7a', 'hazma', 'hazmat', 'hazord', 'hazuaewgof', 'hazuqsk1e5', 'hb6guss06t', 'hb6gussxwr', 'hb95ql3zxh', 'hbbpwqbwfz', 'hbh9vd6jjw', 'hbmqfd4njh', 'hbo', 'hbo5w91ee3', 'hbomax', 'hbuosgks8m', 'hbuuoryaft', 'hbvfi3wa6u', 'hc233kmzcp', 'hc7nnhkv1f', 'hcdsvz0scx', 'hckopomjjz', 'hckxyssyku', 'hcp1hcp', 'hcslvcimfi', 'hctvghenrx', 'hd6p4pcixd', 'hd6zrns8vc', 'hddilxphyq', 'hdftih5vgw', 'hdijj7pflo', 'hdkjbzbitl', 'hdmpkddoud', 'hdmsta85kt', 'hdryrxqrb4', 'hdu5nicgqu', 'hdumjqiqvq', 'hdybwtcuvp', 'he7x8oxtil', 'hea', 'head', 'headache', 'headaches', 'headed', 'header', 'heading', 'headline', 'headlines', 'headquarters', 'heads', 'headway', 'heal', 'health', 'healthallegheny', 'healthcare', 'healthierphilly', 'healthiest', 'healthmap', 'healthvermont', 'healthy', 'healthy4life000', 'heapadude', 'hear', 'heard', 'hearing', 'hearings', 'hears', 'heart', 'heartbreaking', 'hearth', 'heartland', 'hearts', 'heat', 'heated', 'heath', 'heather', 'heathergautney', 'heathershorn', 'heating', 'heaton', 'heats', 'heatwaves', 'heaven', 'heavier', 'heavily', 'heavy', 'heck', 'hedge', 'hedged', 'hedgefund', 'heel', 'heels', 'heerjeet', 'hefty', 'hegemony', 'heh8axzyrf', 'height', 'heightening', 'heir', 'heisnu6j4k', 'heissbroinc', 'held', 'helenaironline', 'helens31self', 'helicopter', 'helium', 'hell', 'hellbender', 'hellion78', 'hellish', 'helllllloooooooo', 'hello', 'help', 'helpalestineoh', 'helped', 'helpforeastpalestineohio', 'helpful', 'helping', 'helplessly', 'helplessness', 'helps', 'henhouse', 'henokcronin', 'henryjgomez', 'henryjoefarley', 'hens', 'hepaco', 'heqmwlrunz', 'herbieziskend46', 'herbstan22', 'heridj78ho', 'heritage', 'hernandez', 'hero', 'heroaerials', 'herr_nd', 'hes', 'hesitate', 'hesitation', 'heures', 'hexxed4life', 'hey', 'hey_late', 'heyjohnrussell', 'heyjudeoregon', 'heytammybruce', 'heytexasbarb', 'hf0vnnmmw5', 'hf5lztroac', 'hf6slfrqv0', 'hfgj6auebz', 'hfo413qorr', 'hfpy510pox', 'hfqjruzsdu', 'hftqa8l8uq', 'hfuw4kviwy', 'hfxnxwvcof', 'hfz820cfsa', 'hg035ifhpq', 'hg3eoeohcj', 'hgi9ct60nx', 'hgiv4v85nt', 'hgm9lbzmbm', 'hgpho6zp8e', 'hha6lrswwp', 'hhbbmgikuu', 'hhdjj7fglb', 'hhelenakhl', 'hhfoiyoqxb', 'hhft', 'hhhqnbmkfr', 'hhkuj4xqma', 'hhs', 'hhsxue2krx', 'hhunter_us', 'hhyaguk4pl', 'hi', 'hi4gstrl2n', 'hi62ivemfu', 'hi8ruqluxx', 'hickmanhill', 'hicks', 'hid', 'hidalgo', 'hide', 'hides', 'hidin', 'hiding', 'high', 'highballsam', 'higher', 'highest', 'highimpactflix', 'highlight', 'highlighted', 'highlights', 'highly', 'highschool', 'hightechaztec', 'highway', 'highwayoftearz', 'highwiretalk', 'hih4nulegy', 'hihrke1i3g', 'hikhwzp0be', 'hil_81', 'hilarious', 'hilary', 'hildaha05771304', 'hill', 'hillary', 'hillaryclinton', 'hillgirltn', 'hills', 'hillsdale1512', 'hilltvlive', 'hinderance', 'hindleskitchen', 'hindus', 'hint', 'hiphop', 'hippies', 'hire', 'hired', 'hires', 'hiring', 'hirji', 'hiroshima', 'hiscampaigns', 'hisey_mike', 'hispanic', 'hispearlgurl', 'historians', 'historic', 'historically', 'historicalwaifu', 'historię', 'history', 'historyinmemes', 'hit', 'hits', 'hitting', 'hives', 'hiwl8wh4kl', 'hixomg8tzr', 'hj2ewtr4wi', 'hj3qpdzuye', 'hj8nxv3otp', 'hjcbbfrdr3', 'hjesdkrqul', 'hjiesn8p2a', 'hjndn2exjb', 'hjpgtdi5jl', 'hjrernjdkx', 'hk', 'hk1vdf2ilh', 'hk83r19d0i', 'hka63waski', 'hkavnrsxok', 'hkdu3kzrex', 'hkees9ry6i', 'hkeuururky', 'hkhrwsfyqi', 'hkhud4ol72', 'hkieem69kc', 'hkqjgppp08', 'hku9vo7mbj', 'hkueskg8ne', 'hkufbucls8', 'hl0vcsrbb8', 'hl1dxqbxun', 'hl5zzfmpij', 'hl7nxcnsby', 'hl9jzv9ezi', 'hlb0hkmqtg', 'hlikkmh9e3', 'hliwblvejo', 'hllndu90ng', 'hlm6gwl7uz', 'hlqw5h0f7p', 'hlscmsxx9e', 'hm', 'hm2fc8i3pw', 'hm5ewvf9eh', 'hm7tgtqh7j', 'hmb7fjuaie', 'hmczxr83ub', 'hmdzmng9pl', 'hmez9nsyk9', 'hmmm', 'hmmmm', 'hms9vjd3ci', 'hmvlfyhtyr', 'hne6rbxfr1', 'hnhxyr8zoo', 'hnlhqspbhh', 'hno3yfoucd', 'hnt08k5asi', 'ho51wegvkw', 'ho6uanwf0q', 'hoax', 'hobart', 'hobos', 'hockey', 'hockman2tom', 'hodgetwins', 'hodjfn9wqi', 'hoes', 'hoexter', 'hofewgf0eg', 'hofuqlvrki', 'hogwaaf22t', 'hogwash', 'hoinydt3ro', 'hokdvh5cbz', 'hokln6ib9q', 'hokpwa9dnz', 'holcomb', 'hold', 'holders', 'holding', 'holds', 'hole', 'holes', 'holiday', 'hollowed', 'hollyweird', 'hollywood', 'hollywoodcia', 'holman', 'holocaust', 'holt', 'holywell_john', 'holzer', 'home', 'homedede', 'homedy', 'homegrown', 'homeland', 'homeless', 'homendy', 'homeowners', 'homepagesuppressfeed', 'homerwrrjt', 'homes', 'homesick', 'hometown', 'homework', 'homie', 'homophobic', 'honest', 'honestly', 'honey', 'honeybadgerla', 'honeyjoesoul', 'hongpong', 'honing', 'honor', 'hook', 'hoopla', 'hoops', 'hoosierstate100', 'hope', 'hopefully', 'hopes', 'hoping', 'hopiumof_masses', 'hopzxpj9z6', 'hoqdlpsy1q', 'horizon', 'hormone', 'horn', 'horning', 'horrendous', 'horrible', 'horrific', 'horrified', 'horrifying', 'horrifyingly', 'horror', 'horrorartnft', 'hors', 'horses', 'hospital', 'hospitalizing', 'host', 'hostage', 'hosted', 'hostile', 'hostility', 'hosting', 'hostinlied', 'hosts', 'hot', 'hotbed', 'hotbox', 'hotel', 'hotline', 'hotseat', 'hottopics', 'hour', 'hours', 'hourscheckmate', 'house', 'housebluedogs', 'housecommerce', 'housedemocrats', 'housegop', 'houseguards', 'household', 'houseofrepresentatives', 'houses', 'housewife', 'housing', 'houston', 'houstonians', 'houstonpubmedia', 'houzzinspector', 'hover', 'hovering', 'hovers', 'howard', 'howarda_atlaw', 'howardmortman', 'hoy', 'hozz7qp4bb', 'hp', 'hp0ilzk3mh', 'hp4hsppwyh', 'hp7pn7myno', 'hpc0k8gjw5', 'hplyk3qgbj', 'hprearden', 'hps9xtidix', 'hptebhbmmi', 'hpunrxkuab', 'hq', 'hqcrzttaj4', 'hqgi0gmagr', 'hqgjvsbnno', 'hqhw1vas9k', 'hqiwaz3ogw', 'hqj2cwibwa', 'hqjnjotznz', 'hqlfefi7kz', 'hqmdznlozq', 'hqr7393tbq', 'hquowk4ggr', 'hqvkprnmwl', 'hqxhce2qfb', 'hr', 'hr0fmjxqru', 'hr4himsytn', 'hrcvarchjw', 'hriwicf4k9', 'hrkbenowen', 'hrmmm', 'hrs', 'hrtszplbgj', 'hru7pc0qjl', 'hs', 'hs1vf6vp8t', 'hs4ftszjhq', 'hs8rkgtn9r', 'hscsbu64zw', 'hscyomwzkh', 'hscyrydjpj', 'hsey2tpxdm', 'hsnbomnzh5', 'hsx6px3xwm', 'hsxnps6fqw', 'hszvryj852', 'ht', 'ht95cgzjtn', 'htbnkfabkq', 'htbyqavoq1', 'htetafkcno', 'htlo9mhsv4', 'html', 'htonwbwmoa', 'htpugdpabs', 'htruohyhpn', 'htt', 'http', 'https', 'htwovbts3n', 'hub', 'hub1atgfdk', 'hubris', 'hucpnigmt6', 'hudson', 'huf19hkmsh', 'huffman', 'huffmanfornc', 'huffpost', 'huffpostgreen', 'huffpostpol', 'huffpostwomen', 'huge', 'hugely', 'huggers', 'huh', 'hujdrqghza', 'huko', 'hulton', 'human', 'humanbydesign3', 'humane', 'humanitarian', 'humanity', 'humankind', 'humans', 'humble', 'humiliation', 'humor', 'hundreds', 'hung', 'hunt', 'hunter', 'huntington', 'huoavy9aic', 'huq0oo5li8', 'huron', 'hurricane', 'hurry', 'hurt', 'hurting', 'husband', 'hush', 'husted', 'hut', 'huttonpulitzer', 'huttunenthe', 'huuugefoot', 'huvizphdm7', 'huw6ngxhdo', 'huwfwhjbzx', 'huwvzu3grm', 'hv73lipsdg', 'hv7imzj8jm', 'hv7piyxjvc', 'hviwxbfeib', 'hvm7lqslui', 'hvmtmlhqkk', 'hvsb8hibpm', 'hvvgvmrohm', 'hvwg7bylny', 'hw1l98gqsh', 'hwfo0gzy3v', 'hwjequnpb5', 'hwohh1xifd', 'hwseleutheroi', 'hwxmmb0tyw', 'hx6z6hzs3t', 'hxhzi3aild', 'hxibs7enz2', 'hxkb5tqluw', 'hxpvmqtxe6', 'hxwrca9pm0', 'hy3ob9ufhd', 'hy5wba38cx', 'hy8k4wihhx', 'hyaesjil6a', 'hydrochloric', 'hydrogen', 'hygiene', 'hykflvbpbc', 'hyowzp8raq', 'hype', 'hyped', 'hyperbolic', 'hypocrisy', 'hypocrites', 'hypothesizing', 'hyru5cv7ek', 'hyrumjenny', 'hysteria', 'hysterical', 'hyvyriux8j', 'hyycgguwck', 'hyzz3puhat', 'hz1c8rkhjv', 'hz8vk5rnyv', 'hzdogc5g74', 'hzdxujo7a6', 'hzfhaonljh', 'hziegnffq4', 'hziujordhq', 'hzqbgkj5fp', 'hzynwkz1oq', 'hàng', 'hôtel', 'i02mltzdpx', 'i0fy3mmole', 'i0hpaykbba', 'i0snaoddwz', 'i0vfxlcsvt', 'i0vfxld0lr', 'i18xdwqh0c', 'i1fkmpriwb', 'i1jc9uu4qc', 'i1mnku3c5i', 'i2bz1wvts9', 'i2dgvbmpja', 'i2hhz86g9e', 'i2rr0eiskd', 'i2sdukeapd', 'i2ygwghoxl', 'i2zu7knbu1', 'i3drswt07o', 'i3loxypiu4', 'i3ngsyvgki', 'i4buw1rqsb', 'i4eltxrlwl', 'i4i0io0xvh', 'i4jdrexzv5', 'i4locbqrrx', 'i4snwlw7tv', 'i51enu3lny', 'i5b5bzgbtu', 'i5xnan87k2', 'i60rodjuaz', 'i6foq4gvtt', 'i6kvkjjamj', 'i6sohqgvrz', 'i7dqyqcwc9', 'i7dsbplv17', 'i7lao60len', 'i7n58goqez', 'i7sb7umk6z', 'i7vf16slwo', 'i7xubeunjn', 'i7xuji96mt', 'i89metz1k5', 'i8dhmobqe8', 'i8neespvxu', 'i8pxove5su', 'i92mc3oun8', 'i9iq1ldlxv', 'i9jt5byiep', 'i9l4v62cln', 'i9mbzo9z9h', 'i_am_the_story', 'i_countsixshots', 'ia2opinupg', 'ia3kbm1yy2', 'ia3qu9w0xk', 'ia7lqwpwiw', 'ia_diego', 'iaconomp', 'iaffofficial', 'iam_pann', 'iamdingsoc', 'iamgabesanchez', 'iamlisamuhammad', 'iammichelle777', 'iamoutofideas12', 'iamplasticgirl', 'iamrickydiaz', 'iamthatperla', 'iamzerker', 'ian_fraser', 'ian_w_weigand', 'iansmithfitness', 'iaqq84wgyh', 'iarentspartacus', 'ib3o9yjkbs', 'ib7puilr6o', 'iba', 'ibcdpri1jy', 'ibdhuhd5j0', 'ibdso4zlrm', 'ibjtcpxgpq', 'iblx8piih7', 'ibqobvdi0v', 'ibwellssociety', 'ibxrik6iud', 'ibytjeqgem', 'ic4l7wuv4e', 'ic5bue54l7', 'ic7smmfdfp', 'icabtnbmcq', 'icantell10', 'ice', 'iceland', 'icestationspmda', 'ichwpyuhpt', 'icing', 'icjtsm3scr', 'icjxkhn4nn', 'icky', 'icodm7tiwb', 'ics', 'icym', 'icymi', 'id', 'id10cy', 'idajocvy6e', 'idauxfpk9o', 'idea', 'ideas', 'ideastream', 'identical', 'identified', 'identifies', 'identify', 'identifying', 'ideology', 'idfbwdy7ck', 'idfwph8tr0', 'idiot', 'idiotic', 'idiots', 'idjoe4idaho', 'idjop7s85w', 'idk', 'idmvbuxal2', 'idnvpv71a0', 'idol', 'idontexisttore', 'idrick', 'idtk8ndmhk', 'iduncan', 'iduzyu5myp', 'idvdobrliz', 'idx40pxguj', 'ie9p4mseyp', 'iea4kimwdx', 'ielra2qk70', 'ienj92xkft', 'iepeezl9ch', 'ieqexvvd3r', 'ieuajuy2pl', 'iev6xtqomr', 'iexwuk09tc', 'ieyht9oj44', 'ieypghmq0p', 'if7mjhvwsi', 'iffbnirpej', 'ifffff', 'ifjasw9fsk', 'iflxd7o2op', 'ifp5tkqsbq', 'ifs', 'ifwkmnlg1e', 'ig', 'ig6czpqhjx', 'igd_news', 'iglpolbf1w', 'ignite', 'ignited', 'igniting', 'ignorance', 'ignorant', 'ignore', 'ignored', 'ignores', 'ignoring', 'ignorning', 'igpcjbaslh', 'igrhzqsfnh', 'igy9rsn1el', 'ihelpu2c', 'ihjivhgtdf', 'ihksvsjz3s', 'ihl3lhahk8', 'ihl8z8ql1u', 'ihrpcfjf09', 'ihzngfoedl', 'ii', 'ii9qxkniag', 'iiak6vyifk', 'iiamgxuhtv', 'iifgxwj5od', 'iihml6z5fu', 'iihzs1q2k9', 'iii', 'iiro9cnzve', 'ija6cx8wey', 'ijaef4kljr', 'ijaegf4ojm', 'ijak6lkgot', 'ijbvhle1sw', 'ijeftomi', 'ijkgstn3l', 'ijqm31wf3g', 'ijuu0xtb5u', 'ijx9wuvdsw', 'ijxpdqczkp', 'ijynyajf91', 'ik1rg3pidy', 'ik9hc1udat', 'ikbr4zvjnr', 'ike_saul', 'ikjbptmycn', 'iklfjwrsxc', 'ikntwymugc', 'ikrhptznsn', 'ikrk3pnpxr', 'ikvg8m3suy', 'ikvqezxzfw', 'il', 'il1fz5tsia', 'ildnfomvxs', 'ilhan', 'ilif', 'ill', 'illegal', 'illegally', 'illegals', 'illegitimate', 'illinois', 'illiterate', 'illness', 'illnesses', 'illuminai', 'illusion', 'illustrates', 'illustration', 'illustrator', 'ilmingomurpho', 'ilrl0v3bfh', 'ils', 'iluvcannabis', 'ilzp7hdm21', 'im', 'im0thr4syq', 'im1voice', 'imafratguy', 'image', 'imagerata', 'images', 'imagine', 'imagined', 'imancentral', 'imanilfc', 'imat', 'imbecile', 'imdruxryjd', 'imfopinion', 'imgv4qg5nl', 'imgxwqi69d', 'imho', 'imi4fflfvk', 'imitates', 'imitating', 'imjdsharp', 'imjorbv9no', 'imk8wa0rjg', 'imkb5zx0zm', 'imkingjudas', 'imknottheone', 'imlxbsocxp', 'immediate', 'immediately', 'immeme0', 'immigrants', 'immigration', 'imminent', 'immorality', 'immune', 'imnebnsjzd', 'imnotowned', 'imo', 'impact', 'impacted', 'impacts', 'impairment', 'impeach', 'impeachjohnfetterman', 'impediments', 'imperialist', 'impinkestgirl', 'implement', 'implementation', 'implemented', 'implementing', 'implications', 'implies', 'imply', 'importance', 'important', 'importantly', 'impose', 'imposed', 'impossible', 'imposter_edits', 'impressed', 'impression', 'improper', 'improv', 'improve', 'improved', 'improvement', 'improvements', 'improving', 'impunity', 'imretiredatlast', 'imurb00gieman', 'imwf95qjyn', 'in2', 'in51hwryyb', 'inability', 'inaccessible', 'inaccurate', 'inaction', 'inadequate', 'inappropriate', 'inaugural', 'inauguration', 'inbound', 'incase', 'incendiary', 'incentive', 'incentives', 'incessantly', 'inch', 'incident', 'incidents', 'incineration', 'incinerator', 'incisyk', 'incite', 'incited', 'incites', 'incjdent', 'incl', 'incleveland', 'inclined', 'inclu', 'include', 'included', 'includes', 'including', 'inclusion', 'incoherent', 'income', 'incompent', 'incompetence', 'incompetent', 'inconnus', 'incontextmedia', 'inconvenience', 'inconveniencefee', 'incorrect', 'incorrectly', 'increase', 'increased', 'increases', 'increasin', 'increasing', 'increasingly', 'incredible', 'incredibly', 'incskram', 'incurred', 'incurring', 'ind', 'indemnity', 'indepen09523899', 'independent', 'independently', 'independents', 'indgop', 'indian', 'indiana', 'indiana_2020', 'indicate', 'indicated', 'indicates', 'indicating', 'indication', 'indicators', 'indict', 'indicted', 'indictment', 'indifference', 'indigenous', 'indirect', 'indirectly', 'indiscriminately', 'individual', 'individuals', 'indivisibleteam', 'indleftnews', 'indoor', 'indrasting', 'induced', 'industrial', 'industrialfires', 'industrially', 'industries', 'industry', 'indystar', 'indépendants', 'ine', 'ineffective', 'ineligible', 'inept', 'ineptitude', 'ineptocracy', 'inequalitymedia', 'inet1pmppy', 'inevitable', 'inexcusable', 'infamous', 'infantry_bucky', 'inferior', 'inferno', 'infertility', 'infiltration', 'inflation', 'inflicted', 'influence', 'influenced', 'influencer', 'influencermarketing', 'influences', 'info', 'inform', 'informal', 'information', 'informational', 'informed', 'informing', 'informs', 'infotech', 'infowars', 'infrabrutalism', 'infrared', 'infrastructure', 'infrequent', 'infuriate', 'ing', 'ingenious50', 'inglw6aiar', 'ingraham', 'ingrahamangle', 'ingredient', 'ingwxyzudm', 'inhabitants', 'inhalers', 'inhaling', 'inherited', 'inhumane', 'initial', 'initially', 'initiate', 'initiated', 'initiatives', 'injected', 'injects', 'injunctive', 'injured', 'injuries', 'injuring', 'injury', 'inland', 'innocent', 'innovating', 'innovation', 'innovationohio', 'innovative', 'input', 'inquiri', 'inquiries', 'ins', 'insane', 'insanity', 'insensitive', 'inside', 'insideclimate', 'insider', 'insidernews', 'insight', 'insightful', 'insighttweeting', 'insinuated', 'insist', 'insisted', 'insisting', 'insists', 'insitute', 'inslee', 'inspe', 'inspect', 'inspected', 'inspecting', 'inspection', 'inspections', 'inspector', 'inspire', 'inspiring', 'instagood', 'instagram', 'install', 'installation', 'installations', 'installed', 'installing', 'instates', 'instavideo', 'instead', 'insteada', 'instinct', 'instincts', 'institute', 'institutional', 'instruct', 'instructed', 'instructing', 'instructive', 'instructs', 'instrumental', 'insufferable', 'insufficient', 'insult', 'insulting', 'insurance', 'insurrection', 'intake', 'intakes', 'integrity', 'intellectualism', 'intelligence', 'intelligencerwv', 'intelligent', 'intend', 'intended', 'intends', 'intense', 'intensifying', 'intentional', 'intentionally', 'intentions', 'interact', 'interagency', 'interested', 'interesting', 'interestingly', 'interests', 'interference', 'internal', 'international', 'internationalists', 'internet', 'internetfreak69', 'internethippo', 'interoperate', 'interrupt', 'interrupted', 'intersect', 'intersectionality', 'interstate', 'intervenants', 'intervened', 'intervenes', 'interview', 'interviewed', 'interviewing', 'interviews', 'inthefights', 'inthesetimesmag', 'intimidated', 'intimidation', 'introduce', 'introduced', 'introducing', 'inusualraisin', 'invade', 'invariably', 'invasion', 'invente', 'invented', 'inventory', 'invercargill', 'invest', 'invested', 'investigate', 'investigated', 'investigates', 'investigating', 'investigation', 'investigations', 'investigative', 'investigator', 'investigators', 'investing', 'investment', 'investmentnews', 'investments', 'investor', 'investors', 'invitation', 'invited', 'invites', 'invoking', 'involucrados', 'involve', 'involved', 'involvement', 'involves', 'involving', 'io13ozacgk', 'io4krewmjy', 'ioafoq5mvn', 'ioswuikecl', 'iowa', 'iowagop', 'ip3fbdlmrq', 'ip9guduwnu', 'ipaint4all', 'ipdh2wfv8b', 'iphigeniamama', 'ipoila4xuv', 'ips_dc', 'ipswich', 'ipxtfhba1l', 'ipzmyt7fnu', 'iq', 'iq7zaylsjn', 'iqac114sqi', 'iqenbbtsu6', 'iqsybjljdv', 'iqtypytzis', 'iqv3cefgmc', 'iqxxv1vqln', 'iqyamlhexn', 'ira', 'iran', 'iraq', 'ire', 'irejlmis2t', 'iren61926565', 'irfrdssiuc', 'irfywv3f4y', 'irgedtqdzm', 'irina_s2306', 'irishamerican27', 'irishmason', 'irishusprincess', 'irizarry', 'irj79tziot', 'iro2mec7ej', 'iromg', 'iron', 'ironic', 'irony', 'irrationally', 'irregularjoe', 'irrelevant', 'irresponsibilities', 'irresponsible', 'irreversible', 'irritated', 'irritating', 'irritation', 'iruz8xhzq1', 'irvcyvh9a9', 'irveyrlqui', 'is1tst0lhy', 'is2pbzy02f', 'is93jnlhm6', 'isaacmeisner', 'isabellechaudry', 'isabellewsyx6', 'isaiah', 'ischemic', 'iscmdvdgtt', 'isellmpls', 'isezdrtxvm', 'ish', 'island', 'islandtelhi', 'isle', 'isn', 'isni6jxocl', 'isnt', 'isobutylene', 'israel', 'israelinews', 'israelis', 'israeliusanews', 'israeliusnews', 'isrpzxuwat', 'issue', 'issued', 'issues', 'isthischill', 'iszojmryqt', 'itachiakocta', 'italy', 'itchy', 'items', 'itfwylqkyu', 'itgcmm2cp5', 'ithhua9qdz', 'ithlryakaz', 'itisjustmebabe', 'itlqcr6vj9', 'itnck3qwub', 'itnucdnfcu', 'itqmkbf9yk', 'its_the_dr', 'itsjefftiedrich', 'itskac', 'itstotally', 'itv', 'itvedfulzw', 'itwr9psjf6', 'ity3dgzkzu', 'iu4nkrvh3c', 'iuhsy8kbbj', 'iuj0esfejh', 'iujpejabxt', 'iumjhvmosa', 'iunfold', 'iupowwrztv', 'iusardrdsy', 'iuwbejlumy', 'iuzn2xzqvn', 'iv2x9zfpds', 'iv6ysngdqx', 'ivalhrztvj', 'ivcf8rxmlf', 'ivj16ta0um', 'ivjpwpvodm', 'ivjronhkwn', 'ivnuuxudxe', 'ivrmqcqoev', 'ivssuy0lev', 'ivvanoo0i3', 'ivx2u2mwup', 'iwbph1xrnw', 'iwf', 'iwhyxud48n', 'iwiohdsn9i', 'iwklrjtdib', 'iwllo18gz0', 'iwn', 'iwsycu264j', 'iwu4tzztnq', 'iwv1kok0rq', 'iwy64yw0nb', 'iwzwu9u8nh', 'ix5ixawjic', 'ix5vgvdjnn', 'ixlnbqvw6dzz230', 'ixocs8qzln', 'ixphj8lkgo', 'ixtfb', 'ixv3xqezsj', 'ixxvzk8mjr', 'iy3ywicnky', 'iyada84rtu', 'iyengar_raghu', 'iygnppdgfj', 'iylzsbv9vq', 'iymgr0nego', 'izi3svy9d6', 'izi6irccbg', 'izjwkd54uq', 'izzesfbt3t', 'j01skrhm6y', 'j0bamala', 'j0destqt74', 'j0f7qji2yq', 'j1ln1fsx7e', 'j1whnphiv1', 'j20nle9s8t', 'j2blcws4dz', 'j2dumfounded', 'j2q0dycjhn', 'j2rcedczpp', 'j359os8mvq', 'j3dbrp0dgf', 'j48tx9v7yk', 'j4ld1nfvwi', 'j4qnqyvbue', 'j5bqlaghhz', 'j5q5srcdif', 'j5wwkf2oxp', 'j5ycxi1boq', 'j6', 'j664rmvujy', 'j6ni50krgr', 'j6pvlwh6wu', 'j6qe1n5zqb', 'j6sptj06lo', 'j6tmlgmjuf', 'j6un8ilaos', 'j6ysyxc5zj', 'j7lveyhf6t', 'j7mrlhtg5s', 'j7vvb88c02', 'j7zihvpoej', 'j8h03ebdbw', 'j8ib0kmjbi', 'j8iwhw21s8', 'j8xycgauf9', 'j9h5whoo5f', 'j9mgq9qo0y', 'j9q1ys5i39', 'j9su4jjp9p', 'j_g_allen', 'j_millertv', 'ja2emgehuf', 'ja9tybv4cp', 'ja9vozu1rr', 'jab', 'jabin', 'jabyy8hsjr', 'jacabiterebel', 'jaccocharite', 'jack', 'jackalack48', 'jackbonedaddy', 'jacket', 'jackhole_12345', 'jackie', 'jackie_b_wood', 'jackiewsyx6', 'jacklestons', 'jacknoo53430211', 'jackposobiec', 'jackrayher', 'jackson', 'jacksonhickma20', 'jacksonhinklle', 'jacksonville', 'jackstr42679640', 'jackwagon', 'jackwhoelse', 'jacob_fischler', 'jacobin', 'jacybrean', 'jafnmluwvm', 'jags24asare', 'jahjah311', 'jahwmjgitk', 'jail', 'jailanelsarha', 'jails', 'jajnrv0hbe', 'jake', 'jakebrister27', 'jakejakeny', 'jakepoling', 'jakeshieldsajj', 'jaketapper', 'jakg4dlrbj', 'jakubak2mars', 'jalopnik', 'jamais', 'jamal', 'james', 'james__hannon', 'jamesba054', 'jamesbi08016114', 'jamesbradleyca', 'jamesdubhthaigh', 'jameseperloff', 'jamesfloveiv', 'jamesjo56909490', 'jamesle92789807', 'jameslindholm1', 'jameslynch32', 'jamesmelville', 'jamesmurtagh', 'jamesoverholser', 'jamesstrock', 'jamesvalvis', 'jameswhittom', 'jami', 'jamie', 'jaminjack', 'jan', 'jancary4', 'janebon34813396', 'janet', 'janeway888', 'janicedean', 'janissillivan', 'janlan584', 'january', 'japan', 'japanese', 'jar', 'jardindesdieux', 'jaredr891', 'jaredrutecki', 'jaromebellva', 'jasnotron', 'jason', 'jason_koebler', 'jasoncarrollcnn', 'jasonrantz', 'jasontoddd1', 'jatifupoec', 'jav2vpznpw', 'javaman72', 'javaswrath', 'jaw', 'jawdropping', 'jawja100', 'jay', 'jaychpjones', 'jaydeetheguy', 'jayshahyyz', 'jaystormy99', 'jazcleveland923', 'jazz', 'jbarab', 'jbatnc304', 'jbdew0k6gk', 'jbdph5clcw', 'jbepdwrcpd', 'jbjk216', 'jbldxpac5c', 'jbmr5gruwk', 'jbn9yro2oi', 'jbnd0c9j6b', 'jbot07646940', 'jbpclbwgrf', 'jbpzcs3poj', 'jbyd2kzuge', 'jca_belair', 'jcb88850464', 'jccftrpdoj', 'jcekaatl4a', 'jcenters', 'jcldnylpv6', 'jclyr2epvw', 'jctt3hg9nq', 'jcue6tk5pq', 'jd', 'jd1515151', 'jd_onetwothree', 'jdbalartmsnbc', 'jdcrloz03k', 'jdd4zzksga', 'jdellarocca', 'jdglbun0iw', 'jdkhykupeo', 'jdpbwxazzh', 'jdpnpxot8e', 'jdql74qhth', 'jdqps9ploz', 'jdrpltrf1m', 'jdsmyndw1r', 'jdttransit', 'jdvance1', 'je9d9kyimb', 'jean', 'jeana_luft', 'jeanette_rich77', 'jeannielynna', 'jeannine_bartel', 'jeans', 'jebrafaushay', 'jedediahbila', 'jedloxgoun', 'jeff', 'jeffandersondc1', 'jeffclarkus', 'jeffdtteets', 'jefferson', 'jeffhauser', 'jeffjun80346519', 'jeffpendergast2', 'jeffreyareddick', 'jeffreygoldberg', 'jeffries', 'jeffrmarks', 'jeffroushpoetry', 'jeffy', 'jeffzymeri', 'jefiner68', 'jegdmneuyw', 'jehutton', 'jem2486', 'jemelehill', 'jencages', 'jenchangefl', 'jendoc3', 'jenkins', 'jenmercieca', 'jennaellis', 'jennaellisesq', 'jennajordantv', 'jennamdawn', 'jennibetweets', 'jennie_sc1', 'jennifer', 'jenniferhomendy', 'jennifershutt', 'jennwcbus', 'jennybizh', 'jeopardizing', 'jeor7n1pql', 'jeremiahthinks', 'jeremymoulton9', 'jerk', 'jerked', 'jeromecylin', 'jerry', 'jersey', 'jersey_nobody', 'jerusalem', 'jesbejj', 'jessea1986', 'jessebwatters', 'jessekellydc', 'jessekirschnews', 'jesseprimetime', 'jessica', 'jessicaemiranda', 'jessicalburbank', 'jessicalexicus', 'jessicam6946', 'jessicamauch', 'jessicatarlov', 'jessicausaf', 'jesus', 'jet', 'jethoreau', 'jetnz1ugxl', 'jetsfannick', 'jettonefan', 'jeu83oiup3', 'jeudi', 'jew', 'jewell2022', 'jewels_cam', 'jewelsjoneslive', 'jewhaditm', 'jewish', 'jexsj1izvn', 'jfc', 'jfcmyjtxa5', 'jfh0z8k6dz', 'jfjwema8cx', 'jfnohdfisu', 'jfnq1qhuan', 'jfofogay0o', 'jforkbxhmp', 'jfradioshow', 'jftaveira1993', 'jfyc913uw1', 'jfyuixatow', 'jganyfl1', 'jgbkl1tqbo', 'jgiifgpwgk', 'jgmshqqiyz', 'jgnightingale', 'jgopvurruf', 'jgqx4vjvsj', 'jgubzg5fat', 'jgxqgt95iq', 'jheil', 'jhht7rgmas', 'jhjzeyaeym', 'jhnlb5jz8w', 'jhul9ms4cb', 'jhvtobguhh', 'jibud7uhxs', 'jidvw88jmw', 'jiggwhjwsm', 'jihnd3gcgh', 'jihr1v0u3c', 'jiish59jkp', 'jilevin', 'jilldlawrence', 'jim', 'jim_jodan', 'jim_jordan', 'jim_kosior', 'jim_sinclairjr', 'jimbousa1776', 'jimenadiazleiva', 'jimins', 'jimjordan', 'jimlongo63', 'jimmlssocrfan', 'jimmy', 'jimmy_dore', 'jimmycarter', 'jimmydangle64', 'jimmylevymusic', 'jinping', 'jippherd', 'jisiewbx5w', 'jithe', 'jizw7phad8', 'jj3fqqyifl', 'jj63927499j', 'jj6a8rrz6v', 'jj81titgnb', 'jj_talking', 'jjauthor', 'jjber6ghvb', 'jjclvtmovn', 'jjd7uot9x9', 'jjfbr1q5ji', 'jjgihurjvh', 'jjipq1bxli', 'jjjh5lt6bi', 'jjmexavtot', 'jjtskkbxci', 'jjuucai0hi', 'jk', 'jk124k', 'jk70m7iea0', 'jklc0tyfap', 'jkoff609', 'jkwyovtqho', 'jl5q1x1tja', 'jlauro67', 'jlbryant2', 'jleefromthe413', 'jleetxgirl', 'jlhh6iwnuk', 'jlioldkrm1', 'jlknvpw7yo', 'jlm0k05gog', 'jlounsbury59', 'jlownlaw', 'jlvqhqa6ax', 'jlvstw1', 'jlxb4sdwtj', 'jlz95gybvy', 'jm8blpkpot', 'jmarano11', 'jmbenson1491', 'jmborchardt', 'jmbz9naovn', 'jmeinco', 'jmg', 'jmifmfpygl', 'jmk9kedtik', 'jmorgan_wx', 'jmujmtistl', 'jmvxpdhnvh', 'jmxxovfrmp', 'jmy32web4n', 'jndjm1blrc', 'jndlwcabid', 'jnghg9dzes', 'jnguyp2kaq', 'jnko4kihas', 'jnmooq0m3h', 'jnnupwciu7', 'jnuobhzbys', 'jnzwdcfgqg', 'joann_cubberly', 'joaquinlife', 'job', 'jobs', 'jocc3go2fy', 'jocqbarnesjr', 'jodyfield', 'joe', 'joe172726', 'joe7993', 'joeb', 'joebanner13', 'joebarton1238', 'joebiden', 'joeconchatv', 'joedanielsen17', 'joedonatelli', 'joeenterprise72', 'joekatz45', 'joekent16jan19', 'joelmcurzon', 'joelpollak', 'joemill37087868', 'joenbc', 'joenicedj', 'joerogan', 'joesonka', 'joevettweets', 'joewelker8', 'joeystats707', 'jofnubrj5h', 'john', 'john90502268', 'john_sipher', 'johnabbottnet', 'johnathanperk', 'johnathonwillow', 'johnbasham', 'johnclke', 'johncusack', 'johnd1111111111', 'johndned', 'johndylanpope', 'johnfbachman', 'johnfetterman', 'johnfugelsang', 'johngalto', 'johnmlippert', 'johnny', 'johnnyg0626', 'johnnypatriot64', 'johnrich', 'johnrobertsfox', 'johnrplatt', 'johnsmi59776698', 'johnson', 'johnsonleads', 'johnwdean', 'johoad1', 'join', 'join1440', 'join_rage', 'joined', 'joining', 'joins', 'joint', 'jointly', 'jojo', 'jojofromjerz', 'joke', 'jokes', 'joking', 'jon', 'jonahfurman', 'jonahtillman6', 'jonathan', 'jonathanweisman', 'jonathon', 'joncoopertweets', 'jones', 'joneskeepup45', 'joni_looking', 'jonijam', 'jonnajarian', 'jonstewart', 'jontheredrc', 'jookboxer', 'jordan', 'jordanbpeterson', 'jordanchariton', 'jordanschachtel', 'jordanschafer', 'jordanuhl', 'jorgebedollarev', 'jorgeneutrino', 'jorymicah', 'joseph', 'josephs03876993', 'josephsokolovi1', 'josh', 'josh_oknefski', 'joshbloomacsh', 'joshbottweet', 'joshshapiropa', 'joshslyder', 'joshsweigart', 'joshtpm', 'joshuaeberly1', 'joshuahosler', 'joshuaphilll', 'jost', 'josé', 'jot', 'jotlkecglr', 'jotrumpca', 'journal', 'journalism', 'journalist', 'journalists', 'journals', 'journey', 'journos', 'joxtq4uhtb', 'joy', 'joyannreid', 'joycebehar', 'joydonohuehotm1', 'joyless', 'joyq8uv5e4', 'joyreidofficial', 'joyride', 'joys', 'joyvbehar', 'jozgk5hoqe', 'jp', 'jpcaxoxmak', 'jpelzer', 'jpf2muoybs', 'jpgpicscom', 'jpjepifl6m', 'jplgscv5sj', 'jplinville', 'jpmorgan', 'jpmwjalld4', 'jpnews_ny', 'jpnzkuatph', 'jprv5yodhe', 'jptgdjsdid', 'jpthetattooer', 'jpw6u7f7ro', 'jq8eblyrbb', 'jqb1u44qd9', 'jqejpc1qgr', 'jqeznxf2lw', 'jqgdl5te0n', 'jqjbshhpjy', 'jqkn51kfmk', 'jqv79omh1p', 'jqwfyn1cwu', 'jqziinjvm4', 'jqzmcmrtgq', 'jr', 'jreyrpfgga', 'jrkmhmcmfp', 'jrlacich', 'jrn7p5o0ti', 'jrobfrommn', 'jrolley325', 'jrpfrwmwuo', 'jrpsaki', 'jrtb4z3fco', 'jrvub7gbuk', 'jrwqewknt1', 'jryqcrfmlk', 'jrz6tgrzit', 'jrzweffs99', 'js1majhmss', 'js49ugzncg', 'js9f8ic0d9', 'jsaejcv2co', 'jscarpel2', 'jsd68ajlux', 'jsjisjuow4', 'jsnundzal1', 'jsoamsrent', 'jsolomonreports', 'jspof0inhq', 'jspz5gam5g', 'jsrzfmyhsc', 'jstbztgiw2', 'jsuyhrxbv4', 'jszlurorej', 'jtdougl', 'jtinaglia', 'jtljjudguj', 'jtnipxzqfw', 'jtonyy35', 'jtrea81', 'jttwleyhkn', 'jtupxip9tf', 'jtwskzz0ty', 'ju8qwxyebf', 'juazdjfb9e', 'jubalharshaw13', 'jucis3cju8', 'judge', 'judge_knot', 'judgejeanine', 'judgement', 'judgenap', 'judicial', 'judiciarygop', 'judith', 'judytgolf', 'juevosdechivo', 'jufvqkprjy', 'juice', 'jul1arock', 'jules31415', 'juliane', 'juliaseymour58', 'julie', 'juliet_notromeo', 'july', 'jump', 'jumped', 'junior', 'juniorm0331', 'juniors', 'junkscience', 'juofjsbfrt', 'juph0nzc68', 'jupiter', 'jupoo4kacq', 'jurisdictions', 'jus', 'just', 'justavet11', 'justhere4stonks', 'justice', 'justice314lady', 'justice4ail', 'justice4eastpalestineoh', 'justice4lacie', 'justice4ohio', 'justice4springfield', 'justicedems', 'justifiable', 'justifiably', 'justified', 'justify', 'justin_sweitzer', 'justinalpertesq', 'justinsink', 'justinweather', 'justlikehvn', 'justmy_tenet', 'justsomeavgguy', 'justthechemicalflu', 'justthenews', 'juxtaposing', 'juy4wwew6i', 'jvargasnow', 'jvgkl2xfhf', 'jvinmlguuo', 'jvman588', 'jvmigrrshc', 'jvphu9vv9g', 'jvwer3v4uf', 'jvzy26clne', 'jw1h10x20i', 'jwalkerdread1', 'jwbgdh0go5', 'jwfn5p1g8j', 'jwhjb6wcma', 'jwillows_author', 'jwmcgowan', 'jwrecfan3t', 'jwsagain', 'jwtmdmba', 'jwx8txyiux', 'jx05tfys7c', 'jx7uvmkkkp', 'jx8msh9uta', 'jxdkmkl1js', 'jxdxxkqduz', 'jxdz0opxlz', 'jxfp7jslcv', 'jxhhupuidx', 'jxji2zzmps', 'jxml1gji7e', 'jxn9g3syfh', 'jxushqtwdt', 'jxvjutlbxy', 'jy0qkw5fwi', 'jy7gnzztfr', 'jy8tcyttjb', 'jyeguxeioi', 'jygukgml5b', 'jysxjr7rnb', 'jzebysnvsp', 'jzj9sv2otg', 'jztl2lw74a', 'jzwhyzx9qa', 'k03uxz9ax7', 'k0fp8fxqml', 'k0nf6seplz', 'k0qx6avgre', 'k0sse0xemw', 'k18l8hbduo', 'k1erry', 'k1i5s45pll', 'k1knrqqzll', 'k26vrh6zng', 'k2g4k8tyas', 'k2hqbhghz4', 'k2qekwzhbu', 'k3pypcxob1', 'k3tohaixnb', 'k3zgixmzs1', 'k49yttki2y', 'k4jyldlqwg', 'k4vsjrb029', 'k5whu0ftx2', 'k5wj5jmtjm', 'k6215kbfiw', 'k62syg3l3r', 'k63ptcusse', 'k66nul1hrq', 'k684fkcbvq', 'k6oh8hmbuo', 'k73uzqkaop', 'k746tc432v', 'k7cgkzphg0', 'k7egjajdqc', 'k7nnhfthzf', 'k7rdjugaf4', 'k7syet87tj', 'k7tyge4dyz', 'k80a9ap3s0', 'k8jgpf8rpi', 'k8kmxzoxpl', 'k8oyp2hzno', 'k9ilj3wb8u', 'k9stfdovyh', 'k_gaita', 'kabooom', 'kaewa3alnp', 'kagsundaram', 'kahnswvcpk', 'kaicisz', 'kaitlancollins', 'kaktusbam', 'kaladinfree', 'kalejtbinl', 'kali8989', 'kali_koda', 'kals55', 'kamala', 'kamalaharris', 'kamilahvmoore', 'kaminkowron', 'kamps', 'kananykimberly', 'kandibar2011', 'kanekoathegreat', 'kangaroos991', 'kansas', 'kaos_vs_control', 'kaoticleftist', 'kaqyuylqup', 'karencdannemill', 'karengraham2009', 'karenshubris', 'karensummerlin5', 'karilake', 'karinavlaw', 'karine', 'karlmevers', 'karlrove', 'karolcummins', 'kate13luna', 'katewsyx6', 'katherineoma', 'kathrynw5', 'kathrynwise6869', 'kathy_arizona', 'katiekingcst', 'katiepavlich', 'katkat4522', 'katpawsclaws', 'katrina', 'katrinawte', 'katy', 'katyashanahan', 'katyturnbc', 'kaufmanabrams', 'kawaiifoxita', 'kaybeans616', 'kaylaepstein', 'kayleighmcenany', 'kazweida', 'kb2ypbivbg', 'kb6mal7yyd', 'kbahyww4ba', 'kbb9by0oiy', 'kbdctoepcf', 'kbdus4xzi8', 'kbfatfn02g', 'kblfenryky', 'kbo54667809', 'kbovlnotme', 'kbs3khunbz', 'kbsyhc8f9f', 'kbt1wcuzum', 'kbvpol3jzn', 'kc2fargo', 'kc3ga2m4mh', 'kc3qez62hb', 'kc6qjflvxe', 'kccoq8lkws', 'kce2pcxs2t', 'kcsnyljbvg', 'kctv5', 'kcumrcrxid', 'kd05fnt1x6', 'kdchccyts4', 'kdglk2o5l3', 'kdie0t7ygb', 'kdjde02cqn', 'kdka', 'kdlpps30ww', 'kdlufjprza', 'kdphpuwdn7', 'kdrkzhswg9', 'kdvqisyyz8', 'kdzdoatwpg', 'ke1px709kj', 'keanazc8vm', 'keatchie', 'keawewong', 'keepi', 'keeping', 'keeplooking2024', 'keeps', 'keepsatit', 'keith', 'keith0sta', 'keith_laing', 'keithgl53454543', 'kekm4rprmg', 'keknative', 'kekxzja7y5', 'keller78rpm', 'kelly', 'kellyharrelson5', 'kellymnyc', 'kellyrippin', 'kemu808', 'ken', 'ken__champion', 'kendallraeonyt', 'kengeor', 'kenklippenstein', 'kennedy', 'kent', 'kentatwater7', 'kentpg', 'kentucky', 'kenvogel', 'keolfp0d2z', 'kept', 'kerirn', 'kermithigby', 'kerry', 'kerryarndt', 'kese8p8qvq', 'kesharam', 'kessler', 'keu4fbsg5d', 'keusoecrbm', 'kevin', 'kevinbriggs1776', 'kevinjmccarthy8', 'kevinmccleerey', 'kevinobrien11', 'kevintober94', 'kevinwid99', 'kexiq20stj', 'key', 'key2eternity', 'keyisfaith', 'keys', 'keysdiver76', 'keysman19', 'keystone', 'kf7nmkrdc6', 'kfbk', 'kfnubggefa', 'kfyoye8jxs', 'kfywn4b8ta', 'kfz89atxyu', 'kg3eztawqr', 'kg92xalqvk', 'kg976huhz2', 'kgaf2fjw9n', 'kgdjkvovwo', 'kgerardjr', 'kgun9', 'kgwnews', 'kgwxrtjtpo', 'kgz4pirsfa', 'kh22pl72i2', 'kh3bkm8mgq', 'kh46c3uezk', 'kh4bq0q6mu', 'kh8wgslplh', 'khanna', 'kharkov', 'khenry657', 'khgpm1vh1x', 'khlhr5ckdz', 'khlqm6zhir', 'khlvmx30kx', 'khm74ztrtx', 'khou', 'khpeno4h1m', 'khrglpqjil', 'khz2d6dsbf', 'khzauqvqs8', 'kick', 'kicked', 'kicking', 'kicks', 'kid', 'kidding', 'kids', 'kieqtyk904', 'kiev', 'kigx1svz6p', 'kiiglf8rvl', 'kiii3news', 'kikuyukuyu', 'kill', 'killed', 'killer', 'killing', 'kills', 'killuminati', 'kilmeade', 'kilometers', 'kimberly', 'kimberlyarchie', 'kimberlymckeeve', 'kimeleveneleven', 'kimguilfoyle', 'kimkgarrett', 'kimmacthomas', 'kimmel', 'kimssporty', 'kin_sails', 'kind', 'kinda', 'kinds', 'kingtrumpusliar', 'kinkygirl28', 'kioembzaxp', 'kiq1pdo7xl', 'kiradiju', 'kirby', 'kirby_knows', 'kirin', 'kirk', 'kiro7seattle', 'kiss', 'kissimmee', 'kissing', 'kittiesandcarts', 'kittybayoutsfan', 'kiyjkzlwii', 'kizma1984', 'kizzyrocnrolla', 'kjb', 'kjb5snir2c', 'kjidkx6x8l', 'kjmumovrom', 'kjp', 'kjp46', 'kjrbplg7fo', 'kjt5uulgbt', 'kjuiypqy6c', 'kk2ers2uiz', 'kkd8rzltza', 'kkdlf00gvm', 'kkhjf9dbhx', 'kkhrxm9xh1', 'kkj9uvvkwn', 'kkms6o4jjo', 'kkndc3vqcu', 'kkpxf7lyyo', 'kksjrzmplt', 'kksl1ni7v7', 'kkxfdba4nv', 'kkxsy73alt', 'kl3uv6yxhq', 'kl8mej3set', 'klagtcxg8l', 'kleavittnh', 'klem1544', 'kleptocratic', 'kleytoncooper', 'klfy', 'klgmhcufni', 'klimek91', 'klla63wb8t', 'klpie0vg9s', 'klsdhjotb0', 'klsvpyiwhc', 'klswartz1', 'klszxcfe9c', 'klumpshtein', 'klzhr05clq', 'km', 'km3iijwchw', 'kmbc', 'kmekoa0oda', 'kmkqreowyf', 'kmphfox26', 'kmrv2aogvg', 'kmsv7n8khx', 'kmvdr0w2mi', 'kn2ltc6j12', 'knadhvxt00', 'knee', 'kneqbosl14', 'knew', 'knife', 'knklwdynak', 'knock', 'knocked', 'knocks', 'know', 'knowing', 'knowledge', 'knowmercypod', 'known', 'knows', 'knspgbctbt', 'knw9nzcono', 'ko6rjmq0fz', 'koacalifornia', 'koat7news', 'koaubuxsrq', 'kofixmuovz', 'kogz', 'kolejny', 'kolektiva', 'kolhaolam', 'kollidiert', 'kolr10kozl', 'kool', 'koolaid', 'koonskarl', 'kopj7hdtev', 'korbendallas654', 'korea', 'korphxzvqh', 'koryallen20', 'kould9hhpd', 'kouřit', 'kow55g0dxh', 'kowg7vhvvv', 'kownunkowns', 'kowtowing', 'koxirnu75v', 'kozedl8ekw', 'kpca5d2rfc', 'kpi0b9wzn0', 'kpjcmro0jv', 'kpkq0agexp', 'kpmokiu9e5', 'kpwmzbvx0d', 'kpzbkffdvp', 'kpzldjs64b', 'kqaej01qtw', 'kqagvmy9bw', 'kqexcgsdfl', 'kqkq0uu547', 'kqkscao2cn', 'kqldl1nig8', 'kqldvxiemn', 'kqo0sc8yf8', 'kqoh4jjfcx', 'kqsxilymuh', 'kqur2xri6c', 'kqvvmsavsy', 'kqwqptawyv', 'kqx4fkokm7', 'kqyxjkngn9', 'kr23qsvag1', 'krassenstein', 'krbymusic', 'krc6dbzhro', 'krdonc13', 'kribhas4dd', 'kris_maher', 'krisboyles', 'krishan_a_patel', 'krispi_largo', 'kristen', 'kristenkcornett', 'kristenmeghan', 'kristensque', 'kristinbatt333', 'kristincredibl1', 'kristyshl', 'krnv', 'krofqlx7vy', 'krommsan', 'kroniklylate421', 'krouse', 'krus_vs_insta', 'kruse', 'krystalball', 'ksbw', 'ksdbsskkiq', 'ksgvbwxasp', 'ksh_safety', 'kshodftign', 'kshodftqwl', 'ksi', 'ksleg', 'ksliberal', 'ksntnews', 'ksoccdurhj', 'ksorbs', 'kstp', 'ksumnwpxlq', 'ksvg9xhj0e', 'kswhwfmpl3', 'kt6nqjk65g', 'kt_so_it_goes', 'ktemev5dyh', 'ktfezd7o75', 'kthalps', 'ktj0gz2kep', 'ktlfbqcedw', 'ktrk2vqv55', 'kttpcc2vxj', 'ktwdgocre7', 'ktxarvemul', 'ktxojgican', 'ktxs_news', 'kucinskigeri', 'kuecr8ibfn', 'kugsf5lcqf', 'kumigflp4x', 'kunaendaje', 'kuoijljjos', 'kuqaun6vfg', 'kuqlkacsvz', 'kurtmetzger', 'kushners', 'kux6kk1xik', 'kvconner', 'kvd8ebmd7p', 'kvf4ivye3a', 'kviqkzuywk', 'kvjq3is1oh', 'kvotjjmn81', 'kvozajkvxp', 'kvplwqo8hp', 'kvufmydexq', 'kvverra', 'kw1akqiegr', 'kwfnqommzs', 'kwornvefdx', 'kwv6udofrv', 'kwvjp97h8d', 'kwwol2vmqu', 'kx4xyl58qq', 'kxcqsmx4xi', 'kxe2l6mnc6', 'kxgykwyujs', 'kxly4news', 'kxnt', 'kxphevfxmm', 'kxpq5jvrck', 'kxtvfswtdn', 'ky0hcuxhbm', 'ky4gcblzsr', 'kyatp2ds7n', 'kydaffhldm', 'kydwloomcn', 'kyiv', 'kylealexstewart', 'kylegriffin1', 'kylenabecker', 'kytv', 'kyuhszkvx2', 'kyvtpjrux7', 'kywgdtwi9p', 'kyx9zbff5s', 'kyyrpwsui3', 'kyzqew7ren', 'kz81tn6mrr', 'kzarjrv06s', 'kzbysq2kmq', 'kzviegnqms', 'kzvxgronwa', 'kzx8yucgbp', 'kzzo8kfc8e', 'l00kin', 'l07yw319la', 'l09a2dg122', 'l0gl8qyhcc', 'l0qfmwrgsn', 'l0yuiz6hg6', 'l1e28yqijf', 'l1i5uxrcac', 'l1k1ru43rk', 'l1onacprdq', 'l1yk5jhyty', 'l2e8ropcii', 'l2ef0mmh8t', 'l2gdw6pqxk', 'l2ngrnluam', 'l2pyt9y88n', 'l3k6wbspps', 'l4ddmfrvjl', 'l4ehwbyeiv', 'l4kq4sshs5', 'l4simjddym', 'l4xtcatud0', 'l5dms7mepz', 'l5gf9vp4hv', 'l5qwrwjowu', 'l5uctercf4', 'l6idg5pxpy', 'l6pmwx5wmx', 'l6q4brsfje', 'l7aptprmv7', 'l7har1ysjp', 'l7hmp6r6qi', 'l7tr0hix4u', 'l8mrcwlojq', 'l8z7rupe64', 'l8zaimebqz', 'l8zqqkoe53', 'l92gknzvtz', 'l9i1qhvp5l', 'l9ia57buta', 'l9n4rgvrcf', 'l9qoxmzcy0', 'l9r8xhmaao', 'la', 'la1ybpdxid', 'la24h3xqz9', 'lab', 'labeled', 'labeling', 'lablissmusic', 'labor', 'laboratory', 'laboroflove963', 'labourheartland', 'labs', 'lac', 'lachampt58', 'lack', 'lackadaisical', 'lackey', 'lacking', 'lackluster', 'lacmegantic', 'lacquered', 'lacrlvpquk', 'lacroyboynft', 'laden', 'ladiebldr', 'ladies', 'lads04', 'lady', 'ladybug1833', 'ladyfishrn11', 'ladyoftheocean1', 'lae4xb5xzr', 'lafuvle1f5', 'lag', 'lagged', 'lago', 'lahood', 'lai', 'laid', 'laif2x6t4q', 'lainemartin1', 'lake', 'lakes', 'lakotaman', 'lakotaman1', 'lalovestrump', 'lambert', 'lame', 'lamenta', 'lamestream', 'lancegooden', 'land', 'landfill', 'lands', 'lane', 'lanemancini61', 'language', 'languages', 'lani0xxput', 'lanier', 'lapham923', 'lapse', 'lapses', 'laptop', 'large', 'largely', 'larger', 'largest', 'larimer1', 'larry', 'larry_carrocci', 'larrycasanova9', 'larryelder', 'larryleftlibby', 'larrymendteshow', 'las', 'lash', 'lashback', 'lashes', 'lashing', 'lasting', 'lastly', 'late', 'lately', 'later', 'latest', 'latestnews', 'latimes', 'laudable', 'lauded', 'laughable', 'laughed', 'laughing', 'laughingstock', 'launch', 'launched', 'launches', 'launching', 'laundering', 'laundry', 'laura', 'laura13285576', 'lauraloomer', 'lauramiers', 'lauranoonan16', 'laurarabinow', 'lauren', 'lauren_linder', 'laurenboebert', 'laurieluvsmolly', 'lavern_spicer', 'lavrov', 'law', 'law360', 'lawcrimenews', 'lawdog323e', 'lawful', 'lawmak', 'lawmaker', 'lawmakers', 'lawn', 'lawnchaney', 'lawns', 'lawrence', 'laws', 'lawsuit', 'lawsuits', 'lawyer', 'lawyers', 'lax', 'laxssgxjz1', 'lay', 'layered', 'layers', 'laying', 'laylatexas77', 'layoffs', 'lays', 'lazy', 'lb2eqdyzc', 'lbcfdv8ppu', 'lbcs3zwf0x', 'lbdbia1upn', 'lbgqroseok', 'lbs', 'lbthvsqns5', 'lbtpd2qytx', 'lbtrnplo8c', 'lbvcvxnyzw', 'lbzgv7xmfj', 'lbzohpxcjg', 'lcbbs0vnje', 'lcjnl611j6', 'lcr00xly3h', 'lcrcro0dpo', 'lctfgvunby', 'lcupeqh2hj', 'lcvoters', 'ld1e7zv58s', 'ld4b9mq3t7', 'lda', 'ldbaotmucw', 'ldc05dcmov', 'ldcqexb6ed', 'ldds0imm3c', 'ldgt77kq1y', 'ldieurg4ke', 'ldog562', 'ldogls', 'ldsrbwobkg', 'ldsv0edji9', 'ldy1kzlgqy', 'ldz0st7bdz', 'ldzg8kplko', 'ldzmywjqil', 'le', 'le0mbahuel', 'leached', 'leaching', 'lead', 'leader', 'leadermcconnell', 'leaders', 'leadership', 'leading', 'leads', 'league', 'leahlitman', 'leak', 'leakage', 'leaked', 'leaking', 'leaks', 'lean', 'leaping', 'learn', 'learn2merge', 'learned', 'learning', 'leased', 'leasing', 'leave', 'leaves', 'leaving', 'lebron', 'leckomio16', 'lectric1e', 'lecture', 'led', 'lede', 'ledppx2vhq', 'lee', 'leeitalian1', 'leery', 'leespacey', 'left', 'left_voice', 'leftcoastbabe', 'leftist', 'leftistbasher', 'leftists', 'leftiststears1', 'leftover', 'leftovernews', 'legacy', 'legal', 'legally', 'legendaryenergy', 'legislated', 'legislation', 'legislative', 'legislators', 'legislature', 'legit', 'legitimacy', 'legitimate', 'leia', 'leitshelly', 'leklc52rye', 'lelandvittert', 'lelxsd8xn0', 'lemmabarkaloo', 'lemon', 'lemqa1tzo1', 'length', 'lengthens', 'lengths', 'lengthy', 'lenin', 'les', 'lesandob', 'lesinski', 'lesions', 'leskobrandon20', 'leslibless', 'leslie', 'leslierun', 'lesoldham4', 'lessened', 'lesser', 'lesson', 'lessons', 'lessors', 'lesstraveledby2', 'lester', 'let', 'lethal', 'lets', 'letsgobrandon', 'letter', 'letters', 'letting', 'level', 'levels', 'lever', 'leveraged', 'levernews', 'leviismithphd', 'lewisefur', 'lexington', 'lfatv', 'lfb8gk8aaw', 'lfljs6a8bw', 'lfogfyhv4n', 'lfooqspsgj', 'lfq2gpxg6e', 'lfren3o1n2', 'lfsenwloot', 'lfutk6wvg5', 'lfuwuvse6e', 'lfuwuvslwc', 'lfvb5mv03x', 'lfyjjt8dyp', 'lgb_fjb_2022', 'lgbtq', 'lgbtqtravelbiz', 'lgbzjtm1jb', 'lgdmljaond', 'lgfjwgpwdg', 'lgi4hbv2cs', 'lgigldjtw3', 'lgjmrh6mdg', 'lgsg4kggj9', 'lgxavi34hn', 'lh6fo5fvff', 'lheztdc65y', 'lhfang', 'lhphfci8tm', 'lhtd0jnkg2', 'lhuauhsvrp', 'li', 'li3qu9k1wa', 'li847gjztr', 'li8r9bkpsq', 'liability', 'liabilty', 'liable', 'liar', 'liars', 'lib', 'libbe', 'libby', 'libby4liberty0', 'libel', 'liberal', 'liberal_jamie', 'liberalettie', 'liberallogic', 'liberalpuppy', 'liberals', 'libertarian', 'libertariandream', 'libertarianrep3', 'libertarians', 'libertas3127', 'liberte_ny', 'libertprosperit', 'liberty', 'libertyrepost', 'libfantasypod', 'library', 'libs', 'libzghhqul', 'licensed', 'licensees', 'licking', 'lid', 'liddlesavages', 'lidianews', 'lie', 'lied', 'lieden', 'lieing', 'lier', 'lies', 'lietdansnewlegs', 'lieu', 'lievre_pelafina', 'life', 'lifeless', 'lifeline', 'lifelong', 'lifestyle', 'lifted', 'light', 'lightfighter24', 'lighting', 'lightly', 'lights', 'lightsoutonight', 'lightwebsdallas', 'like', 'liked', 'likely', 'likes', 'liking', 'lil', 'lil_byington', 'lildonnyb', 'lillianvikingdk', 'lilly', 'lilop6ye9z', 'lima', 'limbo', 'limestone', 'limit', 'limitations', 'limited', 'limiting', 'limits', 'limpbaddymormon', 'limricklevel', 'lina', 'linacantalupa', 'lincoln', 'lincolncolottie', 'lincolnmjay', 'lindagmedium', 'lindamarkss', 'lindastraynor', 'lindo', 'lindsay', 'lindsayboyce85', 'lindsey', 'lindseygrahamsc', 'lindyli', 'line', 'lines', 'lineside', 'linformant01', 'linger', 'lingered', 'lingering', 'lingers', 'lining', 'link', 'linked', 'links', 'linlovesfriz', 'linsd13', 'linzikiro7', 'lips', 'liqi4ceo30', 'liquefied', 'liquid', 'liquidated', 'liquids', 'liquified', 'lirr', 'lisa_liberal', 'lisa_pubcitizen', 'lisajoy9', 'lisaluvsliberty', 'lisamarieboothe', 'lisamomentor2', 'lismciey2s', 'list', 'listed', 'listen', 'listened', 'listening', 'lists', 'lit', 'lit_poster', 'literal', 'literally', 'lithuania', 'litigation', 'little', 'littlemissflint', 'littlespeedypetey', 'littlwritergir1', 'livable', 'live', 'lived', 'livefreeordeb', 'livelihood', 'livelihoods', 'livenow', 'liveonnews9', 'liver', 'liverhead1776', 'liverpool', 'livers', 'lives', 'livestock', 'livestream', 'livetube', 'living', 'livingbluetx', 'livingston', 'livingston19577', 'livncuckooland', 'livnwithluv', 'liwcvwhq4s', 'liwzexa4mx', 'liz', 'liz_wheeler', 'lizaadamczewski', 'lizburgh', 'lizcgoodwin', 'lizmw', 'lizwofford16', 'lizzo', 'lizzystarrrdust', 'lj6d47p1d2', 'lj7wn6ane0', 'ljalzvsjie', 'ljferal', 'ljlwrsybd2', 'ljmontello', 'ljmoynihan', 'ljpwrwzlhv', 'ljteopy4as', 'ljw2urbt3t', 'lkchokochi', 'lke7nne50e', 'lkhzynuzud', 'lkn3c5r8v4', 'lknattorney', 'lkobelnotski', 'lkqksokvgw', 'lkr38yw2hp', 'lkscqjssjn', 'lkvcgz45da', 'lkxwe1sn4v', 'll', 'llbdcnjivx', 'llcbillionaire', 'llfzcrzvaj', 'llkzswbeli', 'llqo82byid', 'lltevosuf1', 'llzntyqgmn', 'lm4txvrcte', 'lmao', 'lmaureschat', 'lmcnallyytown', 'lme', 'lmixdw9gwb', 'lmminhsssg', 'lmorello_dc', 'lmpnrhqlmz', 'lmzlmplqve', 'ln04rhykrh', 'ln7bmawmxt', 'lne1uqcy2t', 'lng', 'lnjl9gd7pp', 'lnm4xl1wrc', 'lnqig7tahq', 'lnrqpqya4r', 'lnttfwl6xp', 'lo0uyy8asr', 'lo8aq7yr7s', 'load', 'loaded', 'loading', 'loads', 'loan', 'loans', 'loathes', 'loathing', 'lobbie', 'lobbied', 'lobbists', 'lobby', 'lobbyi', 'lobbyin', 'lobbying', 'lobbyist', 'lobbyists', 'loc', 'local', 'local12', 'local4news', 'localbusiness', 'localhost', 'locally', 'localnews', 'locals', 'located', 'location', 'locations', 'lock', 'lockemup', 'lockheed', 'locoashes', 'locomotive', 'locomotives', 'locus', 'lodge', 'lodging', 'loegso57uu', 'lofted', 'logan_ratick', 'logged', 'logic', 'logically', 'logically_left', 'logistics', 'logs', 'loi', 'lol', 'lollioness', 'lolol', 'lololol', 'london', 'londonderry', 'londres', 'lone', 'lonestarherd', 'long', 'longer', 'longshortgamma', 'longstanding', 'longterm', 'longtime', 'lonxerjy1z', 'loo', 'loo5nc6ejb', 'look', 'looked', 'looking', 'lookingrightati', 'lookner', 'lookout', 'looks', 'looming', 'looms', 'looney', 'loop', 'loops', 'loose', 'loosen', 'loosened', 'loosening', 'looted', 'lor_blueeyes', 'loraanem', 'lorax58', 'lord', 'lordbutters22', 'lordofthepepes', 'lorie12265438', 'loris', 'loriwimberley', 'lorrainespeaks', 'lorraynenj', 'lors', 'los', 'lose', 'loser', 'losers', 'loses', 'losing', 'loss', 'losses', 'lost', 'lost_my_job', 'lostandlovinit', 'lostindivan', 'lot', 'lots', 'lotta', 'lou', 'loud', 'loudmouth', 'loudobbs', 'louiedadawg', 'louiejamesdick3', 'louis', 'louisanamom', 'louisd217', 'louisiana', 'louisianagov', 'louisville', 'louisvillewater', 'loujacobson', 'lounging', 'lourinaldi22', 'lov_dem66', 'love', 'loveamerica89', 'loved', 'lovely', 'lover', 'loves', 'lovett', 'loveworld_peopl', 'loving', 'low', 'lowcountry1girl', 'lower', 'lowered', 'lowering', 'lowers', 'lowest', 'lowiq', 'loxn7snjny', 'loxqoorhix', 'lozpuuy2ij', 'lozqju8my3', 'lp1ozprsr4', 'lp3yzeedro', 'lp_lapresse', 'lp_mitchell2', 'lphpixacaa', 'lphr8lenu0', 'lpjfasdrkz', 'lpmisescaucus', 'lprmduyedn', 'lps_ryry', 'lpwvzgmqvy', 'lpxlqkvie7', 'lq2bsg4hgb', 'lq4a7h4hwz', 'lqe294khqo', 'lqegpuxhuf', 'lqep02ewba', 'lqhjzwzlbt', 'lqizwvo2l4', 'lqmqmssbyq', 'lqscpxiuit', 'lqtxkvv6bz', 'lqxcctkuxs', 'lrbmtpsvqn', 'lrckcrw', 'lrdfndcvre', 'lrdk1rxwkb', 'lrookziosr', 'lrqe4abqou', 'lrqseeqpsr', 'lrummc8zzs', 'lrzehde7bm', 'ls01r3ym0m', 'ls3eomujjo', 'lsefehh06z', 'lsferguson', 'lsjou4m2wt', 'lso0ikzfkk', 'lsrfqaenpn', 'lszjkcsp42', 'lt', 'lt0wt9dwxn', 'ltce5ismvj', 'ltdfsb3v5x', 'ltdmanagement', 'ltfbi7x1fv', 'ltfnc1azyg', 'lti2', 'ltk175', 'ltm22ctoui', 'ltqcrabvfh', 'ltrhgrpgxe', 'lts9tmaepe', 'ltsrsxgzql', 'lube', 'lucasfoxnews', 'lucasjohnn01', 'lucathecactus', 'luciakoopa', 'luck', 'luckboxwinnerr', 'luckily', 'lucky', 'ludicrous', 'ludicrously', 'ludwig', 'luisciphermstar', 'lukewearechange', 'lukewsavage', 'lulfo9', 'lulmhbsm4z', 'lululemon2022', 'lum3atuxgg', 'lump', 'lunacy', 'lunatic', 'lung', 'lungs', 'luparellosal', 'lupmjzysua', 'luqul8pqqt', 'luuap6resq', 'luxury', 'luzmievy2l', 'luzsxvy7ir', 'lv8bsxrohv', 'lvakipy2ry', 'lviuiflq4k', 'lvrjcdyfaj', 'lvyoeovdeh', 'lvyuzbmxa9', 'lvz6e4s6o9', 'lw1c0jyb4r', 'lw22', 'lw6emuvb6y', 'lwbhaf7uo6', 'lwdgeoyytl', 'lwebxeirxb', 'lwpcddhzab', 'lwqulvr8z4', 'lwsbxmum26', 'lwwvnjhffe', 'lwydhqpwe4', 'lx5mn6xka2', 'lx8yid4kbl', 'lx9sm8wpqb', 'lxbcg835mf', 'lxhign5qwi', 'lxhqjgoid3', 'lxhydwtx1f', 'lxl0brk8ja', 'lxmrkfmhvo', 'lxogqxw1zd', 'lxqbw6m8br', 'lxtdcebfdg', 'lxtksnyj9o', 'lxyahlvlam', 'lxzvaeaz6a', 'ly01jcjasd', 'ly14cznumc', 'ly4zwt9viz', 'ly7amktoop', 'ly7kouipel', 'lying', 'lyinnmgvjr', 'lyiwwwt9kw', 'lyjn0fxojn', 'lykjsm7rox', 'lylyaxtpj1', 'lyn', 'lynguist716', 'lynn18181', 'lynne_soukup', 'lynnehellothere', 'lynnschore', 'lypeupj3zj', 'lyq5cjs6js', 'lyretail1982', 'lyscyubl1t', 'lyssa_b_ruiz', 'lythia777', 'lytton', 'lywd4ze3zt', 'lyxxgmzanj', 'lz', 'lz4z965szq', 'lz5rcdylxp', 'lz8kj7ccj1', 'lzaink1idg', 'm01giq4e7e', 'm02afca9h7', 'm0bgyrt7ko', 'm0nnbablqk', 'm0orm0kvxy', 'm0r0n', 'm0syorrjws', 'm0x3pvbo3g', 'm0x5idawxw', 'm1dsoxofkw', 'm1keyrobinson', 'm1wgl7qdbn', 'm1yeumzbbw', 'm2eaobfhjs', 'm2kmgvrfkw', 'm2lfza6ybv', 'm3mqvdrh7s', 'm3wyqyipsz', 'm3xlswcqpn', 'm3xrmonu5g', 'm4ezogt23p', 'm4oa3cyzs3', 'm52a1r8bvb', 'm5kcdjuglq', 'm5msrlumej', 'm5omo7h3e6', 'm5qrlmrlrq', 'm62yu0izob', 'm6avvbv740', 'm6c9bc88k3', 'm6tngb5qpu', 'm78t20n5la', 'm7qkjfrtqf', 'm7uzo6rosd', 'm8ifcabicx', 'm8s7zykipl', 'm92247202', 'm9b560t5bt', 'm9eqibi7zs', 'm9incp14j9', 'm9ktgpjs6q', 'm9lxvtjhfs', 'm9v29yeasi', 'm_c0ms', 'm_j_salem', 'm_star_online', 'ma', 'ma3y2owa3k', 'maaaaaybe', 'mac6272', 'macdaddy611', 'mach', 'machell49934776', 'machine', 'machinery', 'mackinawjack', 'macron', 'macrovist', 'macs', 'macstryke1', 'mad', 'mad_patrice', 'madbradpotts', 'maddenifico', 'maddening', 'madder', 'maddow', 'maddowblog', 'madeintheusanj', 'madek17', 'madison', 'madisonwiison', 'madness', 'madonna', 'madrid', 'madtqcwvry', 'mae_westside', 'maerpgsn3o', 'mafia', 'maga', 'magaincwarroom', 'magamastriano', 'magamorons', 'magapatriothm', 'magarepublicans', 'magas', 'magateam2024', 'magatqnuts', 'magats', 'magatstriggeredbyrealleader', 'magawarrior_45', 'magazine', 'maggiebower17', 'maggiejordanacn', 'maggienyt', 'maggies66638762', 'magic', 'magically', 'magistercalvert', 'magiwise1', 'magnanimous', 'magnitudes', 'magpiefl', 'mahoning', 'mahoningmatters', 'mai', 'mail', 'maile', 'maileprmedia', 'mailonline', 'main', 'maine', 'maineggal', 'mainers', 'mainstream', 'maintain', 'maintained', 'maintaining', 'maintenance', 'maintenant', 'mairpekavd', 'mairscott3', 'majex8bl7y', 'majo', 'major', 'majority', 'majormizako', 'mają', 'mak', 'mak10ev9yy', 'make', 'makeitmakesense', 'maker', 'makers', 'makes', 'makeshift', 'makeup', 'making', 'mal', 'malades', 'malarkey', 'malcolm', 'malcolm_flex48', 'malcolmnance', 'malfunction', 'malfunctioning', 'malignant', 'mallardreborn', 'malonespeaking', 'malpractice', 'mamabearnj908', 'mamaelliemae', 'mammals', 'man', 'manage', 'management', 'manager', 'managers', 'managing', 'manazqex77', 'manchin', 'mandate', 'mandated', 'mandates', 'mandatory', 'manewreality21', 'mangled', 'manhattan', 'manhattan_res82', 'manifest', 'manifestation', 'manifests', 'manipulative', 'manipulator', 'manj6kt4s3', 'mankyisobsessed', 'mann', 'manner', 'manoeuvring', 'manolo9927', 'mans', 'mansion', 'manthonyk76', 'manufacturies', 'manufacturing', 'manumeel_', 'maoiuooadb', 'maosppctmg', 'map', 'mapplemobs', 'maps', 'mar', 'maragay', 'marc', 'march', 'marchan', 'marchandises', 'marco', 'marcorubio', 'marcusdaurelius', 'marcusganthony', 'margin', 'margins', 'mari2025z', 'maria', 'mariaangelagrow', 'mariaba40543284', 'mariabartiromo', 'mariabonanno9', 'mariabruno01', 'mariage', 'marialoraina62', 'marianvader', 'marijuana', 'marimagforever', 'marionawfal', 'marisatwigg', 'marjorie', 'marjorietaylorgreeneissodumb', 'mark', 'markcuker', 'markdarling89', 'markdice', 'marked', 'market', 'marketing', 'marketnews', 'marketrebels', 'markets', 'marketwatch', 'markey', 'markiemartin', 'marking', 'markmaycot', 'marknew0405', 'marknorm', 'markosket', 'markruffalo', 'marks', 'markwayne', 'marla_vous', 'marlonwayans', 'marnihughestv', 'marqd19olw', 'married', 'marron_lorenzo', 'mars', 'marshablackburn', 'marshaling', 'martharaddatz', 'marthedeferrer', 'marvel', 'marwabalkar', 'marwilliamson', 'mary1kathy', 'maryann26920610', 'maryis4dacubs', 'marykostakidis', 'marylcamacho', 'marylouculkar6', 'maryvicars', 'marywalterradio', 'mascher', 'masdive', 'mask', 'masks', 'masonic', 'mass', 'massachusetts', 'massaging', 'masse', 'masses', 'massive', 'massively', 'master', 'masterjost', 'masters', 'masto', 'mastodon', 'mastriano', 'mat', 'mata34814036', 'match', 'matchmap', 'mate', 'material', 'materiales', 'materials', 'math', 'mathews', 'matls', 'matrix', 'matrixmarxist', 'matrixsimulated', 'matsdr5p89', 'matt', 'matt95501', 'matter', 'mattered', 'matters', 'mattgaetz', 'matthancock', 'matthatter69420', 'matthew', 'matthew_sleigh', 'matthewarco', 'matthewbendett', 'matthewccook5', 'matthewdalywdc', 'matthewjshow', 'matthewnichol5', 'mattina_dominic', 'mattison', 'mattjenkinsnj', 'mattlockeradio', 'mattmcneilshow', 'mattortega', 'mattstaton', 'matttttt187', 'mattwallace888', 'mattyglesias', 'matériaux', 'maura', 'max', 'maxarmstrong', 'maxbocephus', 'maximillian_alv', 'maximize', 'maximizing', 'maximum', 'maxnordau', 'maxstier', 'maya', 'mayatcontreras', 'maybe', 'mayo', 'mayor', 'mayorpete', 'mayorseidel', 'mb4acc1tj9', 'mba6u0scrr', 'mbalter', 'mbedv5uawk', 'mbg5syaajg', 'mblasdel79', 'mblehrhoff', 'mbpblm', 'mbrcqulzlo', 'mbs', 'mbw8lmttso', 'mbyfzkydzo', 'mc7uqvqfa6', 'mccain', 'mccainsuzanne', 'mccarthy', 'mcclellandshane', 'mcconnell', 'mccvdtoruq', 'mcdanieljustine', 'mcdonald', 'mcdonalds', 'mcgee', 'mcgeezer71', 'mcgregormx', 'mckaylarosered', 'mckinsey', 'mclaudehawkes', 'mcmorris', 'mcnq1wycez', 'mcquakenbush', 'mcspocky', 'mcssbxwwhs', 'mcujdfiizb', 'md6xcwejek', 'mdenaxa', 'mdf43v6srb', 'mdk6vublli', 'mdl', 'mdn7o8ikow', 'mdockendorf1', 'mdwoyuvrxo', 'me15000', 'me21freed', 'me5zhdu4dh', 'me_idealist', 'meadows', 'meal', 'meals', 'mean', 'meander', 'meaning', 'meaningfully', 'means', 'meant', 'meantime', 'measly', 'measur', 'measure', 'measured', 'measurements', 'measures', 'measuring', 'meat', 'meattankdriver', 'mebehealthy', 'mechanical', 'mechanics', 'mechanism', 'mechanisms', 'mecklenburg', 'med', 'med22', 'media', 'mediaite', 'mediaknowj', 'medicaid', 'medical', 'medicare', 'medicareforall', 'medicine', 'medics', 'medida', 'medill', 'medina', 'medio', 'mediocrity', 'medwoman1', 'meeksisglen', 'meely', 'meer', 'meet', 'meeting', 'meetings', 'meetjess', 'meets', 'meetthepress', 'mega', 'megamanx1984', 'meganguzapg', 'mege723', 'megebrock', 'meghan', 'meghankdka', 'meghanmccain', 'megstesprit', 'megthenewsie', 'megynkellyshow', 'meh', 'meidas_laurena', 'meidastouch', 'meifbjoaq9', 'meifyabkjv', 'meimei1935', 'mejemyodo5', 'mekathleen', 'melaguas', 'melancholy', 'melanoma', 'melbr1111', 'melico24', 'melindagorden12', 'melissa', 'melissalmrogers', 'melliemaga', 'mellon', 'melpzfiwhr', 'meltdown', 'melted', 'melvinosquire', 'member', 'members', 'meme', 'memeaccount691', 'memeber', 'memeburk', 'memequeenkimmy', 'memes', 'memo', 'memorandum', 'memories', 'memory', 'memphilly', 'memphis', 'memqg13knw', 'men', 'menace', 'mendacity', 'ment', 'mental', 'mentality', 'mention', 'mentioned', 'mentioning', 'mentions', 'mentored', 'menu', 'menxdwpyiy', 'merchandise', 'merck', 'mercuryx', 'mercy', 'mere', 'merely', 'meremortal19', 'merger', 'meridian', 'merit', 'merkley', 'merritt', 'mess', 'message', 'messages', 'messaging', 'messed', 'messes', 'messing', 'met', 'metabolism', 'metal', 'metalheadrailf1', 'metallic', 'metalmaster63', 'metals', 'metam', 'meter', 'meth', 'methepeople1776', 'methods', 'metra', 'metric', 'metro', 'metronorth', 'metropolitanguy', 'meverhart26', 'mexican', 'mexico', 'mf', 'mf1otd19py', 'mf8l8jrow8', 'mfalknerjr', 'mfaqkcpqoj', 'mfk7pnwh80', 'mflle8nsn3', 'mfnuflztjo', 'mfqicmzlk7', 'mfrs', 'mfry2yweeh', 'mfstern', 'mfsx5rdtbs', 'mfvyigfeuo', 'mfy0kvx1oi', 'mg440', 'mg79qhonj6', 'mg8hgcjnqd', 'mgdmitch', 'mgen0itkfy', 'mgfvg5st9y', 'mggphbzjkb', 'mgnooe4vjq', 'mh5nqjynwo', 'mhaffqaxgv', 'mhamedkalid', 'mhbnsb039x', 'mhdude1mhdude1', 'mhenderson33', 'mhfk6rhl91', 'mhgg3h4pgs', 'mhk0k4txh9', 'mhprvpmvp', 'mhq5pramaz', 'mht2oeudek', 'mhznvejptu', 'mi', 'mia', 'miainpololu', 'miamac88', 'miami', 'mic', 'micdbi2suh', 'mich', 'michael', 'michael18915907', 'michael25782778', 'michael45900872', 'michael59503746', 'michael78794333', 'michaelart123', 'michaelguylee1', 'michaeljknowles', 'michaeljstern1', 'michaelregan', 'michaelrulli', 'michaelshep71', 'michaelzzzs3', 'michel77520107', 'michele', 'michell57107272', 'michelle', 'michellepallas', 'michellmybell1', 'michigan', 'michiganfront', 'michigantrainderailment', 'mickey', 'mickiedances', 'mickster', 'microscope', 'mid', 'middle', 'mideast', 'midheaven', 'midhxjsv5l', 'midigate', 'midnite312004', 'midst', 'midwest', 'midwestern', 'miesiąc', 'mightym55070329', 'migraines', 'migrants', 'miguelmarquez', 'miies', 'miijmydk87', 'miimaewest', 'mikal', 'mike', 'mike10010100', 'mike71442212', 'mike_houston_', 'mike_paroulek', 'mike_pence', 'mikecartertv', 'mikecollinsga', 'mikedewine', 'mikeemanuelfox', 'mikegrahamntsb', 'mikeholdennews', 'mikekarr', 'mikekellypa', 'mikekellyslemon', 'mikepompeo', 'mikes_booh', 'mikeskis67', 'mikesrandomthoughts', 'mikeswi00209234', 'mikethebot', 'mikeviqueira', 'mikewsyx6', 'mikey', 'mikeyp7899', 'mikiebarb', 'mil', 'mild', 'mildinchemicalchildren', 'mildvinyl', 'mile', 'milehigherpod', 'miles', 'milestone', 'milford', 'militarization', 'military', 'millenboy', 'millennial', 'millennialother', 'millennials', 'miller', 'millerboss1209', 'millerkim34', 'millie__weaver', 'million', 'millionmomsmeet', 'millions', 'milllionsusd', 'mills', 'milo59qy7f', 'milrszp5rb', 'milruby27', 'mimics', 'mimitexasangel', 'min', 'mind', 'mind_vince', 'mindblowing', 'minded', 'mindlessly', 'minds', 'miner', 'minerals', 'mines', 'minggao26', 'mingo', 'minha', 'miniaturequark', 'minimal', 'minimaxify', 'minimize', 'minimizes', 'minimizing', 'minister_prawdy', 'miniver', 'minks', 'minnows', 'minor', 'minority', 'minovi', 'mins', 'minstrel', 'minute', 'minutes', 'mioaclhw6v', 'miranda', 'mirror', 'mirrorquantic', 'mirrors', 'misclassified', 'miserable', 'miserably', 'misery', 'misfitnici', 'mishandling', 'mishap', 'mishaps', 'mishisww', 'mishvik1', 'misinfo', 'misinformation', 'misinformed', 'miskanismary', 'mislabeling', 'misleading', 'misled', 'mismanage', 'mismanaged', 'mismanagement', 'mismanaging', 'mismatched', 'misogyny', 'misplaced', 'miss', 'missed', 'misses', 'missile', 'missinfo14', 'missing', 'mission', 'missionblue', 'mississippi', 'mississippimg', 'missmaga2016', 'missouri', 'missouriaction', 'misstrade', 'missy8008135', 'missyleroy1', 'mistake', 'mistaken', 'mistakes', 'mister', 'misterdishmiami', 'misterresiste12', 'misti', 'mistressredwasp', 'mistrust', 'mistytienken', 'mit', 'mitam', 'mitarbeiter', 'mitch', 'mitchell', 'mitchellmccoy', 'mitchellvii', 'mitchfreeze', 'mitigate', 'mitigated', 'mitigating', 'miulfcp3h4', 'mivlfmh6mf', 'mix', 'mixed', 'mixing', 'mixture', 'mixyqkpno5', 'miyup4fpij', 'mj', 'mj3vbpdh3x', 'mj_innocent', 'mjbennett69', 'mjbuldtgsm', 'mjdowntheshore', 'mjex3vvfsx', 'mjf3oso5vm', 'mjff4szkht', 'mjfree', 'mjl1', 'mjno5ih214', 'mjoesq', 'mjtt3tmsja', 'mjwsvzv2cz', 'mk9af8gigc', 'mkalagian', 'mkfpxrinbs', 'mkg68ddsdj', 'mkgcyil8ji', 'mkkaonly', 'mklxhj6qf5', 'mkolken', 'mkraju', 'mksbqbqg2h', 'mktu3ttduq', 'mktwwashington', 'mkvad4x8d7', 'mkvhzohm8v', 'ml', 'ml7yc8tcng', 'mlb', 'mlbcooljoe', 'mlfilxknri', 'mlglj0lrew', 'mlgqry3g3a', 'mliwxxlkqx', 'mloopylucep', 'mlpahythhz', 'mls', 'mlucoji', 'mlunbd6ugm', 'mlvrldenvw', 'mlxfhupdrl', 'mlzh72l6ki', 'mlzkduazg8', 'mmckv4hrow', 'mmfa', 'mmflint', 'mmitrucker4', 'mmkybcn0dg', 'mmlof167ug', 'mmmac88', 'mmn', 'mmnonmeanstv', 'mmpadellan', 'mmqgpzumt4', 'mmuqi2trxc', 'mmvseiu3yq', 'mmw3mdfcgj', 'mmxvlnsk0u', 'mmzdebukaw', 'mn9_kels', 'mnhockeyguy7', 'mnk8o5wxjb', 'mnlbcmqt5x', 'mnli0utmhm', 'mno1legcfo', 'mnos1utaew', 'mnpqr16mbp', 'mnrqdt1ad7', 'mnsnowta', 'mntqlk3q4o', 'mnxekxho8j', 'mo', 'mo4m1afsop', 'mo_josports', 'moass', 'mob', 'mobile', 'mobility', 'mobilize', 'mobilized', 'mobill', 'mock', 'mocked', 'mocking', 'mode', 'model', 'moderately', 'moderation', 'moderator', 'modqtxjwdy', 'moerbfiiju', 'moex3uheaw', 'mofarmbureau', 'moguls', 'mohmtbfju7', 'mois', 'moistcr1tikal', 'mojorabbit', 'mojx9ukszh', 'mole', 'molecular', 'molly', 'mollyfrankiin', 'mollygalt', 'mollyjongfast', 'mollyploofkins', 'molson_hart', 'molten', 'mom', 'moment', 'momento', 'moments', 'momentum', 'moms', 'mon', 'monadian001', 'monakabdi', 'monday', 'mondaymotivation', 'money', 'moneylaundering', 'moneyoutofpolitics', 'moneytraderblog', 'mongering', 'monicafitz1', 'monies', 'moniker', 'monitor', 'monitored', 'monitoring', 'monobutyl', 'monomer', 'monopolize', 'monopoly', 'monotonous', 'monroetrombly', 'monsanto', 'monster', 'mont_jiang', 'montgomery', 'month', 'monthly', 'months', 'montreal', 'montyboa99', 'moodav47', 'mook8oocoh', 'moon', 'moonbreeze2', 'moonwat97093810', 'moore', 'moorman', 'moral', 'moralescmo', 'moran', 'morden', 'more_shower', 'moreperfectus', 'morgan', 'morganlbrennan', 'morgotharc', 'moriartydg', 'morigeaujanine', 'mormbv17m1', 'morning', 'morning_joe', 'morningbrew', 'morningjoe', 'morningjoegree1', 'morninglive', 'mornings', 'morningsmaria', 'morningstargaz3', 'moron', 'morons', 'morphed', 'morphing', 'morphix9', 'morrison42069', 'morrone', 'mort', 'mortal', 'mortified', 'morto', 'morts', 'mosen', 'mostfamousnixon', 'mostlypeacefull', 'mother', 'motherboard', 'motherf', 'motherjones', 'motion', 'motive', 'motives', 'motivos', 'motorcades', 'motorway', 'motto', 'mount', 'mounting', 'mounts', 'mouse', 'mouth', 'mouthing', 'mouths', 'mov', 'moved', 'movement', 'moves', 'movie', 'movies', 'moving', 'mozlyytto8', 'mp', 'mp01kv9pa8', 'mp1b83rsrv', 'mp8fj1ftwz', 'mpfvhjsaas', 'mph', 'mpiegoerew', 'mplsme', 'mplspat', 'mpukita', 'mq3gzleyq8', 'mq6xlf3edu', 'mq7nfhkafj', 'mqcy7n2yom', 'mqjkfdwl8i', 'mqm8zdhs5p', 'mqmlaloptp', 'mqn4q0mygj', 'mqsszusya4', 'mqwugwahh1', 'mqxiihoo0a', 'mqxsybyz1s', 'mr', 'mr2ptjammu', 'mr71wnefco', 'mr_lincoln', 'mr_viper69', 'mr_w_smith', 'mra5gzsttb', 'mrbeast', 'mrbg5sc8kj', 'mrcrackin_', 'mrdanzak', 'mrddmia', 'mrdrewbles', 'mrdwindsorandme', 'mres6tdrou', 'mrgen0', 'mrhoneyote', 'mrhortywho', 'mrickwartz', 'mrjacklowe', 'mrjoncryer', 'mrna', 'mrpissant', 'mrrobzilla', 'mrs', 'mrsassy_pants', 'mrsdebda', 'mrsflorida2016', 'mrshhjones', 'mrslydiawi', 'mrsmeganeverly', 'mrspsj4lxs', 'mrsrdc1', 'mrstevensteele', 'mrteabagzzzz', 'mrtruth_199', 'mrvlijjyzz', 'mrwells2022', 'ms', 'ms2ozxrmlf', 'ms_julialee', 'msadvocate2001', 'msavaarmstrong', 'msbfprrlwd', 'msbsvls59f', 'mscanny51', 'mschlapp', 'msfreepress', 'mshellbuttercup', 'msjhdsce74', 'mskellymhayes', 'msm', 'msmariat', 'msn', 'msn9dwamme', 'msnbc', 'msnbc_rocks_', 'mstodaynews', 'msu', 'msvespa', 'msxywzbnma', 'msypypzkpl', 'mt1clwqzzj', 'mt29chzvly', 'mt2xwlris5', 'mt5bhubmfq', 'mta', 'mtbhjdbc71', 'mtcgf5twlo', 'mtcvw4ayes', 'mtg', 'mtgreenee', 'mtkpwrlxtx', 'mtl2vc4orz', 'mtntallpaul', 'mtshuhkmel', 'mtyqxarwvy', 'mucho', 'mucus', 'mucusmucous', 'mud', 'muddled', 'mudslide', 'mudslinging', 'muellershewrote', 'mug', 'muga', 'muishiki_fun2', 'muito', 'muldenkipper', 'mull', 'mullenbe11', 'mullet', 'mullin', 'multi', 'multibillion', 'multicolored', 'multidistrict', 'multimillion', 'multimillionaire', 'multiple', 'mum', 'mundial', 'mundo', 'municipal', 'munitions', 'muotwuhhrx', 'murdaugh', 'murder', 'murdered', 'murderedhornet', 'murdering', 'murders', 'murielbowser', 'murphy', 'murphytheass', 'murphythemoron', 'murphyyuiko', 'musashibonmot', 'mushroom', 'musk', 'mussolini', 'mustard', 'mustread', 'mutations', 'mute', 'muttleysdad', 'muxom4tatp', 'mv0madfutv', 'mval60857980', 'mvbfscoctc', 'mvbnofstkk', 'mvqifu7xgl', 'mvsforwi', 'mvtqzvul7l', 'mvzb3izbki', 'mw2srq4wwh', 'mw8hsloonx', 'mwbzhztuza', 'mwesypaffp', 'mwexayjkf6', 'mwjc6iafoh', 'mwjcnqovwp', 'mwq0tjzlp3', 'mwtba', 'mwxjvrdjlo', 'mxd81tjeeg', 'mxjrty5vhi', 'mxjyba9wsk', 'mxkmjmq4us', 'mxm', 'mxma6kaoer', 'mxptlps3oz', 'mxs07eddvf', 'mxwqyqjrxo', 'mxxikyuhy1', 'myasakcs4a', 'mybuddysully', 'mychaelschnell', 'mychickendinner', 'myforumlink', 'myid', 'myidbiometrictrackers', 'myl8iqxilm', 'mylordbebo', 'mymeltingpotfam', 'mynews13', 'myopkobabz', 'mypmwqiv3t', 'mypoup00oi', 'myscannerbrain', 'myslyocbbz', 'mysterious', 'mystery', 'mystical', 'mysticalrose3_1', 'mysunshine1602', 'mythical', 'myzkrvnftw', 'mz4hb99jvc', 'mz9u5jicaf', 'mza7k5con0', 'mzbxps6vdg', 'mzgbptusbh', 'mzjsevouwz', 'mzjt7k1zzn', 'mzl6iuh7jv', 'mzmmmsboac', 'mznzv06u7s', 'mzo4fzonrc', 'mzp1r9n1qu', 'mzsqkdou8b', 'mzviswipy9', 'mzy8qyqfwa', 'médica', 'mégantic', 'n0cvrj17uu', 'n0pke8ekhb', 'n0rid7fqxs', 'n19snr9drh', 'n1puzqxyiy', 'n1vcew3wfw', 'n2dpqwpxlc', 'n2i1z39zrd', 'n2play', 'n31kdcsftx', 'n3bcxljpat', 'n3jukmoci4', 'n3mqwxh5xo', 'n3rsd8vjjn', 'n3sqrpn358', 'n4mpe5vj0l', 'n4mxwwqrue', 'n51u3s09ic', 'n54os4sqol', 'n5cvcfs9ml', 'n5hlbw3aeg', 'n5nznyrghz', 'n673qdnwt2', 'n67zkqz9nf', 'n6oazsxqvx', 'n6obimqnek', 'n6t9fo3cns', 'n73aibkezn', 'n7dfcosm28', 'n7sa6rwiga', 'n7ucy4v7qw', 'n7wcdzdt6w', 'n7y3ydriwm', 'n7zzt', 'n8a7zy8i4g', 'n8ss3udpqt', 'n91cxypvmx', 'n92ciqxtnq', 'n97wzlfizw', 'n9ltqdp', 'n9rmz42oxm', 'na', 'naacp', 'nab2justold', 'nacotweets', 'nad', 'nadineyousif_', 'nagging', 'nagy', 'nah', 'nahsnvl7o9', 'nail', 'name22412547', 'named', 'names', 'naming', 'nanaoftrey', 'nancy31nsuh', 'nancycottle1', 'nancyda91542471', 'nancyskies', 'nanjs7qxbg', 'nano', 'naomilitvin', 'napa_patriot', 'narcissist', 'narcissists', 'narrates', 'narrative', 'narratives', 'narrow', 'narrows', 'nash', 'nashishereforit', 'nasht1241', 'nashville', 'nashvilletea', 'nasleep', 'nasty', 'nat_yasv', 'natalie', 'natasha38585763', 'natcounterpunch', 'nateadams5k', 'natev_2016', 'nathan', 'nathen', 'nathen_velez', 'nation', 'national', 'nationalize', 'nationalized', 'nationalizetherailroads', 'nationally', 'nationalwedgeday', 'nations', 'nationwide', 'natl', 'nato', 'natrone86', 'natsec', 'natural', 'natural_femme', 'naturally', 'nature', 'natureworldnews', 'naturogungdom', 'nausea', 'nauseum', 'navigate', 'navycapital', 'naxqgvfqqh', 'nay', 'naynay101', 'nazi', 'nazis', 'nbc', 'nbc24wnwo', 'nbc4i', 'nbcbayarea', 'nbcchicago', 'nbcnews', 'nbcnightlynews', 'nbcp6a08rh', 'nbcphiladelphia', 'nbcpolitics', 'nbcsnl', 'nbeehi8xk1', 'nberlat', 'nbiomlkwd9', 'nbkkrom1jy', 'nblgpjhcbm', 'nbnn8lgxot', 'nbreavington', 'nbt6fdo8li', 'nbyrbrmkf3', 'nbzwkenunw', 'nbzxdvjqj9', 'nc', 'nca0vunrrd', 'ncii91h42a', 'nckevns', 'ncn2p8ndux', 'ncogbnxbaz', 'ncpol', 'ncrailroad', 'nczj9z2eoh', 'nd', 'nd0ytxfpli', 'nd5ml5av2k', 'nd8aqniqu1', 'ndesikewya', 'ndfqpjgdpa', 'ndiymskevh', 'ndjxgcmcq2', 'ndktce5qrj', 'ndlsk9o1mw', 'nduxqnad3h', 'ndvswbpxff', 'ndwzxmxcxq', 'ndxgbridrw', 'ndztsrmfjd', 'ne', 'ne1honest', 'ne2w083a3x', 'ne635g8xou', 'near', 'nearby', 'nearly', 'neb', 'nebraska', 'necessarily', 'necessary', 'necessitating', 'necessities', 'neck', 'nedryun', 'nee', 'need', 'needed', 'needing', 'needlessly', 'needs', 'neesietweets', 'negative', 'negatively', 'neglect', 'neglig', 'negligence', 'negligent', 'negotiated', 'negotiations', 'neguse', 'nehsx9mrzg', 'neighbor', 'neighborhoods', 'neighboring', 'neighbors', 'neil', 'neloangelo314', 'nelsonskeels', 'nemá', 'neoavatara', 'neocons', 'neojekgain', 'neoliberal', 'neolibtears', 'neounrealist', 'nepswirlredux', 'neptune', 'neqzrmypbw', 'nerdery', 'nerdongaming', 'nerdypursuit', 'nerve', 'nervex_ogryn', 'nervous', 'nespmsw22z', 'nesvyksopy', 'net', 'netflix', 'netherlands', 'netnjiuim0', 'nets', 'netvibes', 'network', 'networks', 'netypzc70n', 'neurological', 'nevada', 'nevakillbill', 'nevermagats', 'nevschannel', 'new', 'newblackman', 'newd_kne_gro', 'newer', 'neweracodeonly', 'newest', 'newflash', 'newfmom29', 'newfound', 'newly', 'newmediacast', 'newport', 'newrepublic', 'news', 'news3lv', 'news4buffalo', 'news4jax', 'news5', 'news_ntd', 'news_pug', 'newsandinformation', 'newsandsentinel', 'newsbeakfeed', 'newsbecker', 'newsbreak', 'newsbreaklocal', 'newsbusters', 'newscasters', 'newschannelnine', 'newscomauhq', 'newsflash', 'newshour', 'newshourextra', 'newsinvesting', 'newsinvideos', 'newsinvids', 'newsinvidscom', 'newsjunkiebreak', 'newsjunky2', 'newsklw', 'newsletter', 'newsline', 'newsmax', 'newsnation', 'newsnationlive', 'newspaper', 'newspath', 'newspeak', 'newssportsinc', 'newsstories', 'newsupdate', 'newsvideos', 'newswatch', 'newsweek', 'newsworldpress', 'newsworthy', 'newtothestreet', 'newvamajority', 'newworldorder', 'newyork', 'nexstardc', 'nextnewsnetwork', 'nextpittsburgh', 'nexus', 'nf01', 'nf4pmdawk5', 'nf7q66hugg', 'nf84guvh47', 'nfa3fwvk0p', 'nfgklshse9', 'nfh6ulmze2', 'nfkwge2knq', 'nfm9z42tj2', 'nfnr77yuzk', 'nfs', 'nftzja4r8z', 'nfvlxd1i4g', 'ng2r5yinkx', 'ngalj3chfl', 'ngmmpy2q5p', 'ngmocmpd9m', 'ngo', 'ngpisuuzxt', 'ngv9qq9nnl', 'ngysmkwfmi', 'nh3jg7iuu9', 'nhdnt6mk8c', 'nhfdi7ngll', 'nhfshdmggr', 'nhg673fyky', 'nhghees53o', 'nhq9qslh7h', 'nhs', 'nhuykfyjxh', 'nhvdnep1qc', 'nhyyut2zv0', 'ni', 'ni0a4ynt3d', 'niagara', 'niais', 'niallstanage', 'nib37mblxl', 'nic', 'nice', 'niceblackdude', 'nicely', 'nicher66', 'nichols', 'nick', 'nick04896213', 'nick4764', 'nickadamsinusa', 'nickdrom', 'nickellis77', 'nickieantonio', 'nickmmark', 'nicknamed', 'nicksortor', 'nickssantucci', 'nickyk1776', 'nicolefreed7', 'nicolledwallace', 'nicshodln', 'nicu24mxjf', 'nidciijfb2', 'niega', 'nig33u0yke', 'night', 'nightly', 'nightmare', 'nightmarem', 'nights', 'nih', 'niha57womc', 'nikki', 'nikki_miumiu', 'nikkihaley', 'nil', 'nilly', 'nils_gilman', 'nimt6mfuze', 'nina', 'ninabellatrix1', 'ninaturner', 'ninja', 'ninja0179048354', 'nions', 'nitric', 'nitwit', 'niwuzfo7q4', 'nixxed', 'nj', 'nj_opinion', 'njbpuprez', 'njcumdc6ql', 'njdotcom', 'njf1q7ckmk', 'njgavio', 'njkww6nntb', 'njsayshey', 'njsendems', 'nk29nwv3ju', 'nk8wvblnqf', 'nkac8mk3bh', 'nkbqlk4ctv', 'nkdidxpyzg', 'nkellyin', 'nkiihunp7m', 'nkim2szplv', 'nktlwzokje', 'nkxauzi9ct', 'nky', 'nkz5q2n45t', 'nkzrccjszk', 'nl5leffg8y', 'nla80lwzyy', 'nlabxcedjc', 'nljooakqru', 'nlkqb2ysky', 'nllnfkpoay', 'nlmcx1kshc', 'nm0geboaqs', 'nm3kb79kvz', 'nmet9lzio6', 'nmfuhvpo6l', 'nmjdbpwhyi', 'nmlaxon7vh', 'nmlq2ni227', 'nmuglvject', 'nmw5xzu7kl', 'nncjvfpwqs', 'nndaqpvjob', 'nndqyi1udm', 'nngdpzrogj', 'nnhllevbks', 'nnllj8kpgs', 'nnovtih0ms', 'nnrk7d501y', 'nnsjyq05me', 'nnvkvzbxxj', 'nnwaodyiez', 'nnwtuxsjsh', 'no1builder', 'no1vx732az', 'noaa', 'noah', 'noble', 'nobottom', 'noc', 'nofpplus', 'nointegrity', 'noise', 'nokk3ddlta', 'noliewithbtc', 'nomandatesco', 'nominee', 'nomorenorfolk', 'nomoreplastics', 'non', 'non_fudd', 'nonchalant', 'noncommittal', 'nonhazardous', 'nonsense', 'nonstop', 'noon', 'nope', 'noproof', 'nora_adeline', 'nord', 'nordstream', 'nordstream2', 'norf', 'norfo', 'norfok', 'norfol', 'norfolfsouthern', 'norfolk', 'norfolkcom', 'norfolksouthern', 'norfolksouthernderailment', 'norfolksoutherndisaster', 'norfolksouthernrailroadsafety', 'norfolksouthernrailway', 'norfolksoutherntrain', 'norm', 'normal', 'normalice0', 'normalization', 'normally', 'normative', 'nortfolksouthern', 'north', 'northcarolina', 'northeast', 'northeastern', 'northern', 'northfolk', 'northnorfolkrailway', 'northville', 'nose', 'nosebleeds', 'noses', 'noso', 'not_now_todd', 'not_the_bee', 'notablindtrust', 'notarole_model', 'notbilly', 'note', 'note0157h7', 'notebrooks', 'noted', 'notes', 'notfitforoffice', 'nother', 'nothin', 'nothoodlum', 'notice', 'noticed', 'noticing', 'notification', 'notified', 'notify', 'notifying', 'notimpressed', 'noting', 'notizie', 'notmypresident', 'notoagenda21', 'notorious', 'notoriously', 'notsurepotus', 'notterpockets', 'noturtlesoup17', 'nouveau', 'nov', 'novel', 'novelection2024', 'november', 'nowaday', 'nowbrowsing', 'nowego', 'nowhiteguiltnwg', 'nowpammsy', 'nowthisnews', 'noxious', 'noyer', 'np6egg35pm', 'npad3lqwd4', 'npbu5zkdpv', 'npc_dale', 'npcmk5esid', 'npgwvhhq9r', 'npjkpktgoy', 'npkmlpaj0m', 'npr', 'npr7y3xcrm', 'nprpolitics', 'nps4nwhrtm', 'npuoka4pc6', 'npv0mmhetb', 'nq4qx7y4p7', 'nq5xdehc5j', 'nqfxdp7yus', 'nqgltbm7ao', 'nqkqdu2rxv', 'nqpgu2kk50', 'nqrcbylqg0', 'nqu7e2ulk8', 'nqxrhlzl46', 'nqzhbxa9xv', 'nr', 'nr2nyioko3', 'nr5lo3lymg', 'nrdc', 'nrj9ywmuih', 'nrkp3fcmqv', 'nroby6opbg', 'nrot8qdszd', 'nrsc', 'nrthms1', 'ns', 'ns7eolec5k', 'nsachs1', 'nsb', 'nsc', 'nscorp', 'nseijvdkp1', 'nseswersxt', 'nsmp6f855t', 'nso0jymsd2', 'nstb', 'nsuin423x2', 'nswingatc', 'nsxsvaawxw', 'nszxnitxrc', 'nt', 'nt95xd5uth', 'ntb0y0jjzx', 'ntcbbypnht', 'ntd', 'ntdnews', 'ntgt5iocrl', 'ntldg3rtgu', 'ntmbwv4io8', 'ntouogf7pq', 'ntpje80dj3', 'ntpwgpzbw9', 'ntr1euy9so', 'ntr6atpjeo', 'nts', 'ntsb', 'ntsb_newsroom', 'ntukmru75m', 'ntvojaw94j', 'ntykgiebwl', 'ntzal76g6j', 'ntzmjdp2zt', 'nu1gw3eole', 'nu4qv5dfcz', 'nu4ryfays7', 'nu5v2ddnrr', 'nu63z13vm5', 'nuclear', 'nudpcyaik2', 'nudypquhld', 'nuetu8iwvt', 'nuff6xta1t', 'nufjf1ncv2', 'nugget', 'nuisance', 'nuit', 'nuke', 'nuked', 'nukes', 'nuking', 'nuland', 'null', 'numb', 'number', 'numberonepal', 'numbers', 'numbnuts', 'numerous', 'nurdles', 'nursing', 'nut', 'nutrition', 'nuts', 'nuv7siz3b8', 'nuzmewpiuv', 'nvkjjtzdxm', 'nvm', 'nvrail', 'nvrdsphoxu', 'nvreofcoxq', 'nvthtqkdb6', 'nvu5c34llu', 'nvv7yzufky', 'nvyoung', 'nvz7gufkcz', 'nw', 'nwj76e5vax', 'nwjstgqaln', 'nwo0fcvqoq', 'nwobuckeye', 'nwomykchjs', 'nwoztbrgfh', 'nwvaibby7w', 'nww3gwb8xl', 'nwxuydnq8u', 'nx0ad1kp19', 'nx3ape4fxw', 'nxcwevecpy', 'nxeuyay96q', 'nxj7bh3mmt', 'nxmvtjt0on', 'nxpgusnasv', 'nxshixzdbj', 'nxtesck6ce', 'nxuhn8c4vb', 'nxwkukxg2v', 'nxxjzbybho', 'nxz8ctazm5', 'ny', 'ny_indivisible', 'nybc', 'nyc', 'nydailynews', 'nydw92qyp5', 'nyetengale', 'nyfqfq4vma', 'nylj4woahw', 'nymag', 'nynu64nyts', 'nypmetro', 'nypost', 'nyse', 'nysquyczkk', 'nystateparks', 'nyt', 'nytabgxndx', 'nytdavidbrooks', 'nythealth', 'nytimes', 'nytopinion', 'nytpolitics', 'nytupelo7', 'nzcvzk2abh', 'nze9mwrqg9', 'nzibcql6t8', 'nziim8g42h', 'nzkiss1wdc', 'nzlgzuvboe', 'nzlkpgs6sv', 'nzmuwrg9cd', 'nznltcwdjx', 'nzpcd01tic', 'nzse24emdk', 'nzunpvj773', 'nzuvsqwt5d', 'nzzotqvpkp', 'não', 'o06qmellcq', 'o0iauwg5dv', 'o0iubnksmm', 'o0mnu7yctr', 'o0se7mdsu9', 'o1btjdtd1q', 'o1fnhiyotq', 'o1g3igcc1t', 'o1oevcsk3b', 'o207a8i8uj', 'o2j8qbkdau', 'o2ma7i8czh', 'o2t33s8hxc', 'o2tzrjylaq', 'o2wg2zctlp', 'o2ygskskcn', 'o2yzwl6ahm', 'o2zt7wzdub', 'o3gme8nl40', 'o3gq9xs0bc', 'o4e8l05y6s', 'o4in3funyz', 'o4jfcst2v8', 'o4wjxgbsh8', 'o4zem30v4u', 'o50cjpqlng', 'o54yc1ntfz', 'o58t9mlbif', 'o5kwvq8few', 'o5rxmlfzox', 'o5sgodotsq', 'o5xwavxko3', 'o6bpq800lq', 'o6lm5vz9cw', 'o6sbqijy81', 'o6tckfehxa', 'o71qdm9qcc', 'o7bai0mcnc', 'o7dhbxzfxh', 'o7v5ot5ums', 'o7xhsta6u9', 'o8iwlogeyv', 'o8mmylhelq', 'o8ncalzkjz', 'o8wipdigt2', 'o93z2vqx1o', 'o9badsdjqq', 'o9bs0dnck5', 'o9eetmokvu', 'o9k4metlh5', 'o9kfrkigqo', 'o9pe9lfsrl', 'o9sqzlmhdg', 'o9u3ktsn5r', 'oa0malnhpt', 'oa52hypixj', 'oaabroewm4', 'oaazk2m0yq', 'oad4ez6byb', 'oaizjaggj0', 'oakoppukai', 'oakwood', 'oan', 'oann', 'oanojpgahj', 'oao1edmbia', 'oath', 'oavhhpfjyv', 'oavjfubbmz', 'ob5tehlumx', 'obama', 'obamas', 'obfuscated', 'obgsqgek4p', 'object', 'objectiveliber1', 'objects', 'obligation', 'oblivion', 'obomba', 'obpvfpcna6', 'observation', 'observations', 'observed', 'obsessed', 'obsession', 'obstacles', 'obstante', 'obtained', 'obtains', 'obtusely', 'obvious', 'obviously', 'obxiden', 'oc1orfa3wg', 'oc1orfablo', 'oc22', 'oc7joele6c', 'oc8hdddkt4', 'oc8hnm90rt', 'ocasio', 'occamsrazorcuts', 'occasionally', 'occumskeep', 'occupied', 'occupydemocrats', 'occur', 'occurred', 'occurrence', 'occurring', 'occurs', 'oceana', 'oceanographyy', 'ocryuuogdx', 'ocsoco', 'october', 'ocwzacobgg', 'od', 'odd', 'oddly', 'odds', 'oddswithgop', 'odewzcglrq', 'odgssv', 'odktiger', 'odnr', 'odor', 'odors', 'odour', 'odtdmheakg', 'oduvb1b8ok', 'odvpdoerhn', 'odvtwwzmeq', 'odwegzrcav', 'odwnflhkq4', 'odysee', 'odyseeteam', 'oeawhdypjx', 'oejkemdkq0', 'oep7hvnqs2', 'oepa', 'oeq3d9bbb3', 'oet856p36e', 'of0p7sk7uo', 'of369jv6n0', 'of5upvibir', 'of9zsf7phx', 'offcolor', 'offcyndisc', 'offended', 'offer', 'offered', 'offering', 'offers', 'office', 'officer', 'officer_lew', 'officers', 'official', 'official_4news', 'officially', 'officials', 'officialzavior', 'offloading', 'ofg0z4xglr', 'ofh0fi69sd', 'ofswylykbz', 'og2kgslfnu', 'og8yogfpy8', 'ogape12', 'ogh3reai8b', 'ogh3zqkvag', 'ogiowm0nti', 'ogkando', 'ogkbqkpyax', 'ogle', 'ogmmouhhwa', 'ognfmgshav', 'ogp1ijikbl', 'ogqifgx1yq', 'ogrvhv5zsi', 'ogsfugsdl9', 'ogt40ml1ns', 'ogttaefin6', 'ogx7lkqges', 'ogxonpqat3', 'ogzcxuucmv', 'oh', 'oh1cnhg3rw', 'oh5z0ga5hk', 'oh7lwcydyw', 'ohchadwick', 'ohdeptofhealth', 'ohgckrx9cl', 'ohhh', 'ohhhhhhh', 'ohi', 'ohio', 'ohio_ema', 'ohioag', 'ohioans', 'ohiobeforeukraine', 'ohiocapjournal', 'ohiochamber', 'ohiochemicaldisaster', 'ohiochemicalspill', 'ohiochernobyl', 'ohiocitizenact', 'ohiocoverup', 'ohioderailment', 'ohiodivwildlife', 'ohioens', 'ohioenviro', 'ohioepa', 'ohiofarmbureau', 'ohiogop', 'ohionewsdaily', 'ohiopress', 'ohioraildisaster', 'ohioriver', 'ohiosenatedems', 'ohiosierraclub', 'ohiostate', 'ohiostathletics', 'ohiotoxiccloud', 'ohiotrain', 'ohiotraincrash', 'ohiotrainderailment', 'ohiotraindisaster', 'ohiowns', 'ohkqn8wv7e', 'ohm60qrxhz', 'ohpi3ktjf5', 'ohpol', 'ohqyneejld', 'ohsaa', 'ohsen', 'ohwmg2fnpt', 'ohz6mi56vw', 'oib1ppzxm2', 'oil', 'oilgreyjya', 'oilspill', 'oily', 'oircixxhli', 'oiu35ttql8', 'ojjqav0ql7', 'ojmmq2b9hn', 'ojrn0z5q3u', 'ojy8kqg3by', 'ok', 'ok1eawbeda', 'ok37boib7z', 'ok6p0ng9f1', 'okadvdkaip', 'okay', 'okcufpsfbe', 'okhir4sp9h', 'oki8omklj7', 'okl03axrak', 'oklahoma', 'oklahomapatrio1', 'oko7f5jqm2', 'okxtds6srz', 'okxzjjqpnn', 'ol', 'old', 'older', 'oldglorycries', 'oldman308', 'oldmanlefty1', 'oldmanliver', 'oldword16', 'ole', 'oletimeyyore', 'olg89qbggh', 'oligarchs', 'olightworker', 'olivermoyes2', 'olndefaogg', 'olqpjhe1eb', 'olrbt2krlj', 'olsentrini', 'oltfeim91m', 'oltr6vd7us', 'olupeogyt9', 'olupszf2uj', 'oluxamesr6', 'om9twzkwip', 'omaha', 'omar', 'omaralghabra', 'omaucfsrv4', 'omcbviqeic', 'omfa8zzlpr', 'omfg', 'omg', 'omgvsukutp', 'omi_veve_nft', 'ominous', 'omission', 'omitted', 'omlagq10wy', 'omn9hc1zqy', 'omoh1kobzh', 'ompraka15856860', 'omuctxyv8g', 'omuiaxrk6h', 'omunderdal', 'omwbf6yvgd', 'omwwygosm1', 'omyk2bhbey', 'onbalance', 'onboard', 'onegeorgiapeach', 'oneladyonevote', 'oneradchee', 'ones', 'onev1', 'onevisionary', 'onewater', 'oneway', 'ongoing', 'onij3nlrlj', 'onion', 'onjefanty6', 'online', 'onlyyeading', 'onpointradio', 'onpoli', 'onset', 'onsite', 'ont', 'ontario', 'onthemohawk', 'onutrjt98d', 'onward', 'onyv7zoovl', 'oo1gnyjcbv', 'oof', 'oogabooganana7', 'oohhh', 'oohrdmln61', 'oola8iciod', 'oone', 'ooohh', 'ooooh', 'ooooooo', 'ooops', 'ooowa59lwc', 'oops', 'oopsies', 'oorpsigmio', 'oost', 'ooyiqyrgce', 'ooyxnox9ih', 'op', 'op9hcpn8bs', 'ope', 'open', 'opened', 'opener', 'opening', 'openings', 'openly', 'opens', 'opensociety', 'openworlds', 'opera', 'operate', 'operated', 'operating', 'operation', 'operational', 'operations', 'operator', 'operators', 'operatorssign', 'opinion', 'opinions', 'oplapmy0ov', 'opmpwc8i26', 'opmpyn2irg', 'opponents', 'opportunistic', 'opportunistically', 'opportunity', 'oppose', 'opposed', 'opposing', 'opposite', 'opposition', 'opps', 'oppwbl0jvx', 'oprah', 'ops', 'opscrotchfruit', 'opt', 'opted', 'optics', 'optimal', 'optimism', 'optimum', 'opting', 'option', 'options', 'opxgbzkp1v', 'opérateur', 'orange', 'orangeblobaloo', 'orangemanbad', 'orators', 'orbmjfb8ls', 'orchestrated', 'ord', 'order', 'ordered', 'ordering', 'orders', 'ordinarily', 'ordinary', 'oregon_report', 'oregoncovid', 'organic', 'organisée', 'organization', 'organizations', 'organize', 'organize2win', 'organizers', 'orgs', 'orientale', 'origin', 'original', 'originally', 'originclear', 'origins', 'origx9os3k', 'orjj2dvxwo', 'orleans', 'ormorrison', 'orpwfz0d9y', 'ortemame2d', 'orthodixit', 'orwellian', 'orzrsbwzuq', 'os96fngnie', 'osbourne', 'osc6gze83t', 'osdbmdxa8j', 'osha', 'oshb7zig28', 'osidu1iffy', 'osiris_neits', 'osjav3b2s8', 'osqk18zcol', 'osrb1r9auc', 'osrenu2gna', 'osujamieg', 'osullivanauthor', 'ot5mgdtudx', 'ot5ozh5u2h', 'otan', 'otfhcmj2i2', 'other95', 'othgvthuqr', 'otjyzyrliz', 'otrpilotcar', 'ots', 'ottawagestapo', 'ottoman', 'ou', 'ou2hnqiihd', 'ou2mhimlpw', 'ouffunrjnj', 'ought', 'ougyaru7yy', 'ouisdevtiy', 'oul5lxg2j0', 'ounbfso2dd', 'ounces', 'ouowg7dnjg', 'ouq7fbvybx', 'ourbluevoice', 'ourocean', 'ourrev305', 'outages', 'outcome', 'outcomes', 'outcry', 'outdated', 'outdoorlife', 'outfits', 'outkick', 'outlawbparker', 'outlet', 'outlets', 'outline', 'outlined', 'outlines', 'outlook', 'outnumberedfnc', 'outrage', 'outraged', 'outrageous', 'outreach', 'outright', 'outside', 'outsidethebeltway', 'outskirts', 'outsourced', 'outta', 'outweigh', 'outweighed', 'ouvo2amdcs', 'oval', 'ovdzrv1aow', 'overall', 'overblown', 'overcoming', 'overcompensated', 'overdose', 'overdrive', 'overdue', 'overflow', 'overflowed', 'overground', 'overhaul', 'overheat', 'overheated', 'overheating', 'overit', 'overloaded', 'overlook', 'overlooked', 'overlords', 'overnight', 'overplay', 'overrun', 'overseas', 'oversee', 'overseeing', 'overseen', 'oversees', 'overshadowed', 'oversight', 'oversightdem', 'oversightdems', 'overstuffed', 'overthrown', 'overturn', 'overturncitizensunited', 'overturned', 'overturning', 'overview', 'overwhelming', 'overwhelmingly', 'overworked', 'ovgpmu7x7x', 'ovjfsfjhwd', 'ovnbdrukwn', 'ovpckoiarb', 'ovpiyekxvv', 'ovq6cpoy6w', 'ovqhalitxc', 'ovqhaljrmk', 'ovrnwwjezg', 'ovttdzveyf', 'ovwx8pcb78', 'ovxdt3srws', 'ow0i3zzyhv', 'ow7wb3ot4l', 'owdyfi1x9u', 'owe', 'owed', 'owes', 'owienu7n0b', 'owienu7upj', 'owned', 'owner', 'owners', 'ownership', 'owns', 'owqsntdowh', 'owsyez2wtk', 'owtaxulztx', 'owvxthly6e', 'oww8txt4xs', 'owww1agqlw', 'ox22w19zy2', 'ox3f2jf8wb', 'ox8g76oinv', 'oxegqbfs41', 'oxford', 'oxmlqflqey', 'oxn2xoxtvb', 'oxo9etonxm', 'oxphsptqde', 'oxygen', 'oybuablyl2', 'oydxg3bgoe', 'oyinbyqyua', 'oyith6tysu', 'oyk0uxsjyc', 'oymocjukgd', 'oyqwd8sxf1', 'oyt0hpx3bn', 'oywphcl3be', 'oz', 'oz1grcsy6j', 'oz4zc4204z', 'ozigz0hq1l', 'ozlmk1d2rf', 'ozmwjymcux', 'oznn9l35yw', 'oznqypbgig', 'ozonemama74', 'ozp4iz4ery', 'ozwizard182', 'ozzie6067', 'ozzy', 'p0lykyemhr', 'p0zgzveifr', 'p10rmlgemt', 'p1kv3x9dic', 'p1qpyohkrs', 'p22z3monvu', 'p2ledojaoy', 'p2o4m1hxsi', 'p2p2emmquh', 'p2tdikpieq', 'p2uznpnfwc', 'p2wsbzd2wg', 'p3adi2mgj0', 'p3miliawsj', 'p3u3o5l4k1', 'p45qcqkmmx', 'p4dan2kzez', 'p4rno4l9oe', 'p4vdkpobjw', 'p54a3kvalj', 'p5ciaxcuka', 'p5d4ekrrgy', 'p60frjhfpx', 'p6nbj1c6gx', 'p6xpjvhdi1', 'p706oqzkgo', 'p7facnrsg0', 'p7ie8bmboz', 'p7wulqrrki', 'p86dragfgr', 'p8aum6j14g', 'p8awwmjjyk', 'p8dcpnzjch', 'p8ltiwzbgw', 'p8x6tcg3mz', 'p95katxks1', 'p9b6rsmdwu', 'p9ftlhimsk', 'p9kt2uhkiv', 'p9q5pracjw', 'p9umppba5s', 'p_mcculloughmd', 'pa', 'pa16', 'pa17', 'pa2xs537zj', 'pa3z6dzrvp', 'pa6gxin3vu', 'pa7i0o6kni', 'paagriculture', 'pablorodriguez', 'pac', 'pacific', 'pacificcoastgal', 'pack', 'packaging', 'packed', 'pacs', 'pad', 'padeep52754503', 'padempolicy', 'padfield', 'paen', 'pagal200', 'pagar', 'page', 'page_post', 'pages', 'pahealthdept', 'pahousedems', 'pahumanservices', 'pahxeltcjx', 'paid', 'pain', 'paine', 'paints', 'pair', 'pakp39fm04', 'pal', 'palatine', 'palazzo214', 'pale', 'pale_tonyb', 'palenstine', 'pales', 'palest', 'palesteen', 'palesti', 'palestin', 'palestina', 'palestine', 'palestineohio', 'palestinians', 'palestyny', 'palistine', 'pallet', 'pallets', 'palpable', 'pam_f_4', 'pamacious', 'pambowling7', 'pamelabrowncnn', 'pamelageller', 'pamelahensley22', 'pamelalauren', 'pamrotella', 'pamt817716', 'panam1957', 'pandemic', 'pandemictruther', 'pandered', 'panel', 'panelheld', 'panhandle', 'panic', 'pannes', 'pantries', 'pants', 'pap', 'papaw44vjc', 'pape_valley', 'paper', 'papers', 'papfot5w0t', 'papi_b_dubs', 'papijoe320', 'papitocanyon', 'paqpopaz2x', 'paqpu7hglq', 'par', 'para', 'paradise4amish', 'paraffin', 'paragraph', 'parallel', 'parallels', 'paralysis', 'paranoia', 'paranoid', 'pardoned', 'parenting', 'parents', 'park', 'parkerthayer', 'parking', 'parkreturns', 'parks', 'parkse', 'parliament', 'parras', 'parroting', 'parsel14', 'parthenon1', 'partially', 'participants', 'participate', 'participates', 'participating', 'participation', 'participatory', 'particle', 'particles', 'particu', 'particular', 'particularly', 'particulate', 'parties', 'partisan', 'partly', 'partner', 'partnered', 'partners', 'partnership', 'partnerships', 'parts', 'party', 'partygate', 'parzr1', 'pas', 'pasen', 'pasky_68', 'pass', 'passage', 'passed', 'passenger', 'passes', 'passing', 'passionately', 'past', 'pastitsio123', 'pat10th', 'patch', 'patently', 'patgill69033215', 'path', 'pathetic', 'pathetically', 'patience', 'patients', 'patkiernan', 'patpetterson2', 'patrcksteve', 'patricia626262', 'patricia_millin', 'patrick', 'patrickalyons', 'patrickdmarley', 'patrickkeschl', 'patrickscalling', 'patricksmcmahon', 'patrickwestpalm', 'patriot', 'patriotbob1776', 'patriotic', 'patrioticgrams', 'patrioticmitten', 'patriotpartyunited', 'patriots', 'patriottakes', 'patronus1177', 'patsy', 'pattern', 'patterns', 'patti_lake', 'pattyoshelton', 'paul', 'paul_lander', 'paulahickshuds1', 'paulared62', 'paulfoxone', 'paulgom63759406', 'paulinaplazas', 'paulinefulham', 'paulkrugman', 'paulpaton2', 'paulpenthouse', 'paulsboro', 'paulstevesamuel', 'paultho47290238', 'paulvuch', 'pause', 'pavnknf7jo', 'pavsv7vszd', 'pawpanasiuk', 'pawpawdude', 'paws1981', 'pawtvela9o', 'pay', 'payalsampat', 'payday', 'payer', 'payers', 'paying', 'payk4pcrgl', 'payment', 'payout', 'payouts', 'payroll', 'pays', 'paywall', 'pazfikzxcp', 'pbeotvk2rw', 'pbhaodqdxk', 'pblest', 'pbnw04qq3i', 'pbpost', 'pbpr6lsjvz', 'pbqbkqllzc', 'pbqbkqltok', 'pbrownback', 'pbs', 'pbsflfkeew', 'pbxszxm62a', 'pc1opetwyj', 'pc4l8namtk', 'pcadfael', 'pcepwtngse', 'pckmwzcodg', 'pckzudtajf', 'pcmbtgeld6', 'pcmd0p0uc1', 'pcrossetti', 'pctwood_74', 'pcwsszfv7t', 'pd', 'pd2tvo3zok', 'pd61dbux6o', 'pd6pr8drvl', 'pdaytonp2', 'pdd3moe58v', 'pdf', 'pdg', 'pdgalknjei', 'pdjgcbc61p', 'pdjlqcz1xj', 'pdl3luwrid', 'pdlb0de6do', 'pdm0hb77t0', 'pdnrgmgtd5', 'pds', 'pdscteyvwq', 'pdugomm3dc', 'pdwsyi4ncv', 'pdzlnl51y0', 'pdzupw73tb', 'pe3lfbekut', 'peace', 'peaceful', 'peacefully', 'peah9tws4k', 'peak', 'peao8rn0zw', 'peaok3ujzc', 'pearcealan1962', 'peasy', 'peaxxgdlh3', 'peckerwoodboy', 'peculiar', 'pedo', 'pedopeter', 'pedophile', 'pedro', 'pedrosanchez', 'pee', 'peep', 'peer', 'peerleegate', 'peers', 'peghlk66qh', 'pegycrnvvm', 'pehzkelcgn', 'peimenipusha', 'peligrosos', 'pema', 'pemahq', 'pembfukvdd', 'pemex', 'pen', 'penalties', 'penalty', 'pence', 'pending', 'pendragonmr', 'penetration', 'penfmdhfbq', 'penggaos', 'peninsula', 'penncapitalstar', 'pennies', 'pennlive', 'penns', 'pennsy', 'pennsylva', 'pennsylvania', 'pennsylvaniadan', 'pennsylvaniadep', 'pennsylvanian', 'pennsylvanians', 'penny', 'penny_rietveld', 'pens', 'pension', 'pensions', 'penwlu9kis', 'people', 'peopleoverprofits', 'peoples', 'peoplesforumnyc', 'peoplesworld', 'peor', 'peovzsjxef', 'pepe_precipice', 'pepesgrandma', 'percent', 'perception', 'peregrinepfp', 'perfect', 'perfectly', 'perform', 'performance', 'performative', 'performed', 'perhapsfrogs', 'perimeternews', 'period', 'periwinklerose3', 'perjuring', 'permanent', 'permanently', 'permitted', 'perpetrated', 'perry', 'perry_pirates', 'persecuted', 'perseverance', 'persist', 'persistent', 'person', 'personal', 'personally', 'personas', 'personnel', 'persons', 'perspective', 'persuade', 'persuaded', 'pertaining', 'pertains', 'pervasive', 'perverted', 'pesky', 'pesticide', 'pet', 'pet_surft', 'peta', 'pete', 'petebuttigieg', 'petemode', 'peter', 'peterbakernyt', 'peterbropotkin', 'peterdclack', 'peterrabbit67', 'peters', 'peterssonrick', 'petesouza', 'petey', 'petie', 'petition', 'petitioned', 'petrochemical', 'petrochemicals', 'petroleum', 'pets', 'pettet50', 'petty', 'peu', 'pex5qv7ezb', 'pełnego', 'pf26xubbqf', 'pf88mnfgat', 'pfas', 'pfbkjrses1', 'pfclv7qxr6', 'pfcq4f76dx', 'pfft', 'pfhlobbapz', 'pfizer', 'pfvweqynud', 'pfw4v3rts2', 'pg0jqj7ord', 'pg30veukhv', 'pg4xuquz2b', 'pgantioch', 'pgc77bolht', 'pgehcylimj', 'pggs5gggyg', 'pghnewspartners', 'pghweatherdude', 'pgibpxhfir', 'pgkikgv2l1', 'pglpb6reuf', 'pgpp8brnxa', 'pgrc8mzwl8', 'pgx446w4ad', 'pgzhm5dfc8', 'ph', 'ph3kblretq', 'phaggitd', 'pharma', 'phase', 'phds2', 'phenomenal', 'phenomenon', 'phgi79wgmn', 'phicyhzsdz', 'phil_hoffman18', 'phil_lewis_', 'philadelphia', 'philharmonic___', 'philipmmarshall', 'philipreichert', 'philipwegmann', 'phillipandi', 'phillipmbailey', 'phillipsylvia2', 'philly', 'phillyinquirer', 'phillytrib', 'philnkids', 'philosophy', 'philosophy_lol', 'phmsa', 'phmsa_dot', 'phone', 'phones', 'phortuenti', 'phosgene', 'photo', 'photograph', 'photography', 'photoop', 'photos', 'phquzyscmu', 'phrase', 'phrgfiyvhw', 'phtslclbpx', 'phv6vlwufv', 'phvvnem0fg', 'phxsxq2jr5', 'phylliel', 'phyllislevin1', 'physical', 'physiological', 'piaseq3uty', 'pic', 'pick', 'picked', 'picking', 'pickup', 'pics', 'pics_train', 'picture', 'pictures', 'piece', 'pieces', 'piedminu', 'piedmont', 'pierre', 'pierrepoilievre', 'pigs', 'pigwiq1dqi', 'pijbox7gmb', 'pijnp8eqp6', 'pike', 'pile', 'piles', 'pileup', 'pilfered', 'piling', 'pillar', 'pills', 'pilot', 'pimp_my_yugo', 'pimtoolnews', 'pin', 'pinching', 'pine', 'pineapp411', 'pineappletrevor', 'pinning', 'pinocchio', 'pint', 'pints', 'pipe', 'pipeline', 'pipelines', 'piper4missouri', 'pipes', 'piping', 'piq2jdixm3', 'piqchunjuh', 'piratefish256', 'pisces', 'piss', 'pissed', 'pissedoffvet6', 'pit', 'pitched', 'pitfalls', 'pits', 'pitsr4me68', 'pitt', 'pittance', 'pittsburg', 'pittsburgh', 'pittsburghers', 'pittsburghpg', 'pitttweet', 'piyushmittal', 'pizza', 'pjbaop2did', 'pjbybexxx2', 'pjhjr7wzub', 'pjmooney', 'pjn3sthtcu', 'pjwhsateah', 'pk4fze6wqo', 'pk87rn5spf', 'pkjmee5b6e', 'placarded', 'placards', 'place', 'placed', 'places', 'placing', 'plague', 'plagued', 'plain', 'plains', 'plaintiff', 'plaintiffs', 'plan', 'plane', 'planes', 'planet', 'planetdetroit', 'planetplush', 'planetwaves', 'planned', 'planning', 'plans', 'plant', 'planter', 'planting', 'plants', 'plaslaiko', 'plastic', 'plasticpolllution', 'plasticpollution', 'plastics', 'plasticsbeyond', 'plasticstreaty', 'plates', 'platform', 'platitudes', 'play', 'playbook', 'played', 'player', 'playerinthgame', 'players', 'playing', 'playmagic', 'plays', 'plbhelrcto', 'plea', 'plead', 'pleaded', 'pleading', 'pleads', 'pleaseshare', 'pledge', 'pledged', 'pledges', 'pledging', 'plenty', 'plft4kfw7o', 'plg8xlat3c', 'plied', 'plight', 'plmuse', 'plot', 'plotting', 'ploy', 'plpercussionist', 'pls', 'plsui2def5', 'plu4pqmvqs', 'plum', 'plumb', 'plume', 'plumes', 'plunderbund', 'plunged', 'plunges', 'plurality', 'plus', 'plusieurs', 'pluto', 'plv1pbpthv', 'plv8ao3s2d', 'plvgvl2xat', 'plvkk5kqrw', 'plwqudffs8', 'plz', 'pm', 'pmfzdv9pe3', 'pmhvdrh5nq', 'pmiller4126', 'pmrxqjjhhy', 'pmsx5kmr2y', 'pn2evjs3a3', 'pn7ovw6vrh', 'pnbqh2zouw', 'pnepfimldy', 'pneumatic', 'pneumonia', 'pnew0903', 'pnewman51', 'pnjaban', 'pnklsox2qh', 'pnrea4notx', 'pnva23gemn', 'pnvur80fmx', 'pnynofhsnm', 'po', 'po6mxjtabk', 'poandpo', 'pocie', 'pociąg', 'pocket', 'pocketing', 'pockets', 'pod', 'podcast', 'podemos', 'poderconclaudia', 'podernfamily', 'podiatristdon', 'podium', 'podsaveamerica', 'podía', 'poem', 'poemtrees', 'poeticalcontext', 'poetwoagun', 'pogo', 'pogtpdhmop', 'point', 'pointed', 'pointing', 'pointmanrt', 'points', 'poison', 'poisoned', 'poisoning', 'poisonous', 'poisons', 'poitrine', 'poku3n4gxp', 'pol', 'poland', 'polarisengineer', 'poli', 'police', 'police_frequ', 'policies', 'policy', 'policymakers', 'policymaking', 'polish', 'politibunny', 'politic2day', 'political', 'political_qrm', 'politically', 'politician', 'politicians', 'politicization', 'politicized', 'politicizing', 'politico', 'politicongress', 'politics', 'politicslive', 'politicstoday', 'politicussarah', 'politicususa', 'politifact', 'politiolyc', 'poll', 'pollutants', 'pollute', 'polluted', 'pollutedprops', 'polluters', 'pollutes', 'polluting', 'pollution', 'pollytix2023', 'polreader', 'polyacrylamide', 'polypropyl', 'polypropylene', 'polyvinyl', 'pomjaov3a7', 'pompeo', 'pond', 'pondering', 'ponpniocqr', 'ponzistl', 'pool', 'poor', 'poorer', 'poorly', 'poorlyagedstuff', 'poors', 'pop', 'pope_head', 'poppij', 'popping', 'poppwigglewigg1', 'poppy_haze', 'popresistance', 'popularized', 'populated', 'population', 'populations', 'populism', 'populist', 'populous', 'popviewers', 'por', 'porch', 'port', 'portage', 'porter_anderson', 'portfolio', 'portion', 'portions', 'portrait', 'portraying', 'portrays', 'pos', 'pose', 'posed', 'poses', 'position', 'positioning', 'positions', 'positive', 'posobiec', 'posse', 'possibility', 'possible', 'possibly', 'post', 'postcard', 'posted', 'posting', 'postlive', 'postpolitics', 'posts', 'poststar', 'postthoserich', 'posture', 'pot', 'pote', 'potent', 'potential', 'potentially', 'pothole', 'potholes', 'pots', 'potus', 'pounding', 'pounds', 'pour', 'poured', 'poverty', 'povtjy0zrw', 'power', 'powered', 'powerful', 'powers', 'powhr_coalition', 'powodem', 'pox8n2sbwg', 'pp1mwxkbnz', 'pp7bjcteou', 'ppabbavgi2', 'ppgoycomxw', 'ppkg6hkgly', 'ppkymy4pmq', 'ppl', 'ppp', 'ppqj7y89cj', 'ppwjnqige1', 'ppwowadp4n', 'pq4dkakzwk', 'pqbsbak8jn', 'pqcci6gqii', 'pqure1ngil', 'pqvptso09k', 'pr', 'pr0gressamerica', 'pr42hr51rp', 'pra', 'practical', 'practice', 'practiced', 'practices', 'pracuje', 'prageru', 'prairielive', 'praised', 'prattling', 'pray', 'prayers', 'prayforohio', 'praying', 'prays_thelord', 'prbvbwrsov', 'pre', 'precaution', 'precautions', 'precedent', 'precisely', 'precision', 'precursors', 'predicament', 'predict', 'predictability', 'predictable', 'predicted', 'predictive', 'predictiveprogramming', 'preemptive', 'prefect', 'prefer', 'preferred', 'preheat', 'prelim', 'preliminary', 'prem_thakker', 'premiered', 'premiu', 'premium', 'prepare', 'prepared', 'preparedness', 'preparednessjoe', 'prepares', 'preparing', 'pres', 'presdient', 'preselectnews', 'presence', 'present', 'presentations', 'presents', 'presidency', 'president', 'presidential', 'presidents', 'presidenttrump', 'presiding', 'presidnttictac', 'press', 'pressed', 'presser', 'presses', 'pressing', 'presssec', 'pressure', 'pressuring', 'preteens', 'pretend', 'pretending', 'pretty', 'pretty_certain', 'prettywonderfu4', 'prevent', 'preventable', 'prevented', 'preventing', 'prevention', 'preventiva', 'prevents', 'preview', 'previous', 'previously', 'prewariii', 'prez', 'prezlives2022', 'pri', 'priapusiq', 'price', 'prices', 'prides', 'pridgewessea', 'priests', 'primarily', 'primary', 'prime', 'prime_ise', 'prior', 'priorities', 'prioritize', 'prioritized', 'prioritizing', 'priority', 'prismreports', 'prison', 'privacy', 'private', 'privately', 'privatize', 'prix', 'prize', 'prl4zmypek', 'prluc2iqqr', 'prmjc1w25c', 'pro', 'probablemente', 'probably', 'probe', 'probes', 'probing', 'problem', 'problematic', 'problems', 'procanadian5', 'procedures', 'proceed', 'process', 'processed', 'processing', 'produce', 'produced', 'producer', 'produces', 'producing', 'product', 'production', 'products', 'produits', 'prof', 'profession', 'professional', 'professor', 'proff_proff', 'profile', 'profit', 'profitability', 'profiteering', 'profits', 'profwolff', 'progeny', 'proglocommons', 'program', 'programme', 'programming', 'programs', 'progress', 'progressive', 'progressivepush', 'progressivesdr', 'progressohio', 'prohibit', 'prohibited', 'prohibiting', 'prohibitive', 'project', 'projection', 'projectlincoln', 'proletariats', 'prominent', 'promise', 'promised', 'promises', 'promising', 'promo', 'promote', 'promoted', 'promoters', 'promoting', 'prompted', 'prompting', 'prompts', 'pronounced', 'pronouns', 'pronto', 'pronunciation', 'proof', 'propaganda', 'propagating', 'proper', 'properly', 'properties', 'property', 'prophetic', 'proponents', 'proportion', 'proportions', 'proposal', 'proposals', 'proposed', 'proposes', 'proposing', 'propped', 'propublica', 'propylene', 'prosecuted', 'prosecutor', 'prosecutorial', 'prospects', 'prostitute', 'protect', 'protected', 'protecting', 'protection', 'protections', 'protective', 'protectiveinstincts', 'protects', 'protest', 'protesting', 'protestor', 'protests', 'protocol', 'protocols', 'proud', 'proudblue', 'proudelephantus', 'proudidealist', 'proundpapaof3', 'prove', 'proved', 'proven', 'proves', 'provide', 'provided', 'providers', 'provides', 'providing', 'proving', 'provision', 'provisions', 'provoquée', 'prowrestling', 'proximity', 'proxy', 'proxywar', 'prpatriotus', 'prpblem', 'prudent', 'pruitt', 'prv77vfaya', 'przeczytaj', 'przyaxh4ad', 'przypadek', 'préoccupations', 'présentaient', 'prévoient', 'ps', 'ps5s', 'ps6o8o3rvu', 'psa', 'psap1nrloo', 'psc', 'pscak6jthg', 'pseawabear', 'psfzqk0srx', 'pslf', 'psoe', 'psr', 'psrpennsylvania', 'pssmp81ml0', 'psst', 'pstql9dywm', 'psuquylgzz', 'pswal807', 'psxh1xumr3', 'psy1vws7cs', 'psychopathic', 'psyop', 'psyzon3d', 'pszaqxcddz', 'pt', 'ptbbui9m8l', 'pthdcyqoxx', 'ptl6riooff', 'ptmfmddf5o', 'ptrumpfortx2020', 'ptvxs90lwh', 'pu02qs836b', 'pub', 'public', 'public_citizen', 'publications', 'publichealth', 'publicity', 'publicly', 'publicsafety', 'publique', 'published', 'publishes', 'publishing', 'publius__enigma', 'publiusbellicus', 'publié', 'pucgesc712', 'pudding', 'pudditatlevi', 'puddle', 'puddyspopupshop', 'puerto', 'puff', 'puffer', 'puffy', 'puhhlease', 'puisque', 'pulie2011', 'pulitzer', 'pull', 'pulled', 'pulling', 'pulls', 'pulmonologist', 'pulsikw0fn', 'pulte', 'pummeled', 'pumped', 'pun', 'pundit', 'punditry', 'pundits', 'pungent', 'punishedjkkc', 'punishment', 'punishmenthurts', 'puppeteers', 'purdue', 'purduece', 'pure', 'purely', 'puretheredblood', 'purifiers', 'purpose', 'purposeful', 'purposefully', 'purposely', 'purposes', 'purrfection2015', 'pursued', 'purveyor', 'purview', 'push', 'pushback', 'pushed', 'pushing', 'puskar', 'pusqmsdqdk', 'putin', 'putinisawarcriminal', 'puts', 'putting', 'putz', 'puuck0v0xe', 'pv2ulergdq', 'pvc', 'pvectzqajx', 'pvkcp8hcmc', 'pvpfbyvkkb', 'pvpjdzl2b9', 'pvqmc8oy4j', 'pvriajpg9b', 'pvsbgj6hl7', 'pvsmxqj9db', 'pvv5jj2mxv', 'pvviwxrjsu', 'pvxgdume8y', 'pvy1ip3h8j', 'pw3hl78ps5', 'pw4mcflw2y', 'pwah2k4veb', 'pwcvpbftxb', 'pwdtv2hlva', 'pwef2n07od', 'pwmbjogzvv', 'pwmbjoh7l3', 'pwoowpytmb', 'pwqhjuuxtf', 'pwref1s386', 'pwsaexvu6f', 'pwsk5khnp3', 'pwunatcllh', 'pwxmkv4akd', 'px4vsxx3hq', 'pxc16suz4t', 'pxkbvnwsue', 'pxm8ll2bo2', 'pxor3cgph6', 'pxpegmbvk8', 'pxv1uddgga', 'pxve0pucqw', 'pxylendhc7', 'pxzevls76q', 'pyd6umypip', 'pydbijqlfq', 'pyle', 'pym9qqjkh5', 'pymu9jxdyn', 'pyntqxhnp9', 'pyromamiac', 'pytg1qgmtz', 'pz062mhywh', 'pzhauqqel0', 'pzjwh6mzzw', 'pzmarqxag2', 'pznswmlmcz', 'pzo2kgibjh', 'pzympt8wnc', 'q0c0xgrkyi', 'q0xv3ekcbd', 'q17', 'q1afbfwntq', 'q2qqmybs0j', 'q2zxixdnhx', 'q30kg4xz64', 'q3dbkjrd4c', 'q3snsg6nhn', 'q3zth72fnz', 'q4', 'q41ucmpbfw', 'q4cczirron', 'q4lzzpytmf', 'q4plbypioz', 'q5gpkpicbv', 'q5ip3c5rbp', 'q5vgotmahm', 'q6cqhwrgpj', 'q6hjckbele', 'q6rmxuorsz', 'q6ufvlsvyh', 'q6xagdnxdl', 'q6zvwhirwz', 'q83eckpmz8', 'q8830elhtt', 'q89obhchtk', 'q8kompytas', 'q8qpdea4uo', 'q8vlpxxjsy', 'q9ejswtu97', 'q9ep00skca', 'q9fpsljgsj', 'q9hgccknav', 'q9lux2lbmt', 'q9mynvp1dl', 'q9s2fowcsd', 'qa1bfu8blg', 'qackxalsuf', 'qah3c7oknv', 'qajexxdrp0', 'qam7pkvve0', 'qapjvru7s7', 'qaudbfw8kx', 'qb7688jzhh', 'qbgsagh4an', 'qbluxj2kse', 'qbotruydd4', 'qburnvjwmh', 'qbzjopzrgx', 'qc1ju2ocor', 'qc2wsrj5dc', 'qc8hpyl78w', 'qcgmmfptbl', 'qcpvviai7b', 'qcsqzjkvgz', 'qd79bihqwp', 'qdjkp6ezb9', 'qdl4dm81h4', 'qdosjqmdgn', 'qdztcsvv8o', 'qe5gmxrve6', 'qe807qcjui', 'qelhfaq0kd', 'qen5gngy1i', 'qeoz5urlxi', 'qeprdyqpnf', 'qeqoa3hes0', 'qergtm4e2a', 'qeshllyokh', 'qeskhn0lpw', 'qezomwojsw', 'qeztv4e9my', 'qf6ddan0ec', 'qffzys0uxc', 'qfixi4l8ov', 'qfj5ibsrgv', 'qfjnpfy1jt', 'qfmxaefcrc', 'qfnxnqflb1', 'qg0wgnqvsp', 'qg3sch5zsq', 'qg9vdh01v3', 'qgdyltzcul', 'qgh41j0bkb', 'qgjin9zfe2', 'qgqmbzavwz', 'qh83jomhtx', 'qhav77nld9', 'qhddicfbnl', 'qhf685fkdf', 'qhnh1ykuhq', 'qhoos1x9ir', 'qhqc92wfzu', 'qht9xk4zjz', 'qhyxguvmla', 'qi1boqyqb9', 'qiaykieqfx', 'qihlc6fiku', 'qiklvxie81', 'qisezx1bnu', 'qiw3eimisd', 'qja21qlukd', 'qjbieoekgv', 'qjdctsb31t', 'qjeo1odgor', 'qjjl1c4vfa', 'qjldx5dqfl', 'qjo3admnfc', 'qjodqjphea', 'qjssx86hgt', 'qjtao2qz0m', 'qjwlm2hnvl', 'qk2dcagmcv', 'qkauni4rqa', 'qkgfcoovtt', 'qkisydh0i1', 'qkl3ssoth4', 'qkmxr725w1', 'qks8wg4auh', 'qkw92s3h9g', 'ql4ayjmca0', 'qlcvtoez9r', 'qlm6vywdtx', 'qlnwvgv5bl', 'qlouckoyot', 'qlowqza1mt', 'qls7szix1u', 'qm4stnibu2', 'qmaedki4bx', 'qmefiui3w3', 'qmoslktzly', 'qms49pvtye', 'qmsofln6ri', 'qmteystp2q', 'qmuylk3uxl', 'qn', 'qn8vxjlbd2', 'qnm7j0u5yn', 'qnosvvew1s', 'qnxszn7udk', 'qo3p6ggfyl', 'qo6cpexlvq', 'qoaf4jozhc', 'qoatwfjpdh', 'qob2uaqwgm', 'qobx2v1yjx', 'qogmvwirrf', 'qohpbezzwd', 'qoklfiq6cw', 'qokvr9zs41', 'qonninpolp', 'qovahv5qmc', 'qowtft8n1s', 'qoxrnv9rud', 'qoxywmfcwy', 'qoyf0ypmdq', 'qoyg6m6dgo', 'qp4fdrbn2j', 'qp7gxlzu0x', 'qp8rsxv05d', 'qpd1icpfhb', 'qpffvx5ucb', 'qpi4jqgmmf', 'qprb992uws', 'qpt75camyv', 'qptyb5fbaw', 'qq8j2xbzbc', 'qqdcjn2v80', 'qqgeapwvwq', 'qqsf4qd7jy', 'qqvafueq59', 'qqwdwuoung', 'qqxofsfpco', 'qr22o0iv3t', 'qr3ykxsiwu', 'qr6copx0ld', 'qr6qsxyao6', 'qrbeof9nas', 'qrbozspeho', 'qrc3cm7zgq', 'qrx5ks8nac', 'qrxj96d1oy', 'qs', 'qs2nbalatf', 'qs4e9jedxk', 'qsiycwqtrb', 'qsmtwcldp5', 'qsnnedg29q', 'qsrs6sjpti', 'qsthlpsbnx', 'qsuvx05x0k', 'qswpcvxlmr', 'qt4usatrump', 'qtixgcdnya', 'qtvxy8goct', 'quaferu', 'qualifications', 'qualified', 'qualifiers', 'qualifies', 'qualify', 'qualities', 'quality', 'quality_nguyen', 'quantifiable', 'quantities', 'quantity', 'quantumsback', 'quarter', 'quarterly', 'quarters', 'que', 'quebec', 'queen', 'queenb_wiov', 'quelques', 'quen231', 'quesdtiuyp', 'question', 'questioned', 'questioneverything', 'questioning', 'questions', 'qufas7mu1f', 'quick', 'quickly', 'quicktake', 'quid', 'quiet', 'quietasicanbe', 'quieter', 'quietly', 'quinn', 'quipped', 'quit', 'quite', 'quiz', 'qujbhwrqyw', 'quo', 'quote', 'quote4that', 'quoted', 'quoting', 'quyalify', 'qué', 'québec', 'qv0wazc5wg', 'qv4ozijgvb', 'qv8g7fv96f', 'qv8qpao3rh', 'qvbwajr4av', 'qvgthgegdm', 'qvgulh8znr', 'qvuyddordh', 'qvxthtjn0g', 'qvzd7b5arr', 'qw4ql8hyf4', 'qw5mtjjwub', 'qwa0wlmmtu', 'qwertz42069', 'qwfqhalsvn', 'qwjvmzxxff', 'qwpjnzz97k', 'qwtc6wrmux', 'qwtxje4jhd', 'qwuvp5yfvq', 'qww9rp7kde', 'qwwdowiyps', 'qx', 'qx3ndvamru', 'qx9tk9ztx4', 'qxc6fmx6ak', 'qxlq6px3vp', 'qxoc6ygnj9', 'qxtn4xoyjo', 'qxueuobcdc', 'qxx20pbuow', 'qy3l6o9fyo', 'qy4npllamn', 'qyaggn8p1w', 'qybksmhgcc', 'qygkfj0ww7', 'qyhf1tudjh', 'qyhtublemd', 'qyliax16zv', 'qynv2pnvnj', 'qynyayiy4m', 'qyr2ljgubj', 'qysolucrc8', 'qytfvxvzk1', 'qyunbjaysl', 'qyy5dqxwi6', 'qz3osybd1y', 'qz3stbfwed', 'qz7ghxvvwm', 'qzajb0o7bm', 'qzbqebp33v', 'qzeo9vv2gi', 'qzfafqbhon', 'qzk62stxt7', 'qzrmiixw2w', 'qztrr842aw', 'qzwlxptjhd', 'r05jl9frjs', 'r0lximxacw', 'r0lyeuy5pa', 'r0pziiocjh', 'r0rqj8axmc', 'r0ryjw1fqd', 'r0senyz4r2', 'r1ch_ch4nce', 'r1dh5cwcoa', 'r1es9uy5rn', 'r1lxn5uim1', 'r1p1kefgcg', 'r1rfsltrl3', 'r1sqrnq868', 'r1uhju6jsw', 'r1y4eo6rre', 'r23fr89fr3', 'r2foel5al2', 'r2imx94mge', 'r3mqg72gp8', 'r3rkjxffus', 'r3yxs0dolj', 'r3zxkzq2gp', 'r4n2rj6bmf', 'r5bwfq90vh', 'r5rofae9wy', 'r61z6qlfoq', 'r67hcnwfxf', 'r6h1pssd9t', 'r6kpibi1v5', 'r6mtyk3mvs', 'r6usyklv99', 'r6wvdgdgve', 'r6yd5ymegp', 'r6zndh3qll', 'r72ylm8dxa', 'r864vl880w', 'r87gt34jha', 'r8fcdue0ss', 'r8m7wellfp', 'r8ofz1dmhz', 'r8pjrlpkio', 'r8tgfzshss', 'r91tcqxbcb', 'r9q31j6gn0', 'rabbit', 'rabbitmongoose', 'rabbittgirl', 'race', 'rachel', 'rachel71806692', 'rachelacenas', 'rachelcarsondc', 'rachele39193616', 'racial', 'racialize', 'racialized', 'racism', 'racist', 'racists', 'racketeering', 'racking', 'radar', 'radarresist', 'radiation', 'radical', 'radicalcntrsts', 'radicalized', 'radicals', 'radio', 'radioblackon', 'radius', 'radyfzsf46', 'raelintao', 'rafevatta', 'rages', 'ragged', 'rags', 'rahhjinbuu', 'rail', 'railcar', 'railcars', 'railfanmag', 'railment', 'railnewstoday', 'railphotoart', 'railr', 'railroad', 'railroaded', 'railroader', 'railroaders', 'railroading', 'railroads', 'railroadworkers', 'rails', 'railsafety', 'railway', 'railways', 'railwaysafetynow', 'railworkers', 'rain', 'rainbow', 'rained', 'rainforest', 'rains', 'raise', 'raisecorporatetaxes', 'raised', 'raiser', 'raises', 'raising', 'raison', 'raj9lvzuhy', 'rake', 'raked', 'raleighfam', 'rally', 'ralpha2017', 'ramhog1950', 'ramifications', 'ramongovea', 'ramonster74', 'ran', 'ranchers', 'rand_taylor2', 'randalluhrig', 'random', 'randos', 'randpaul', 'randrenn', 'randy', 'randyfeenstra', 'range', 'ranger', 'ranking', 'rant', 'rantonstupidity', 'rao', 'rape', 'rapes', 'rapid', 'rapidly', 'rapids', 'rapporte', 'rapports', 'rare', 'rarely', 'rascals', 'rash', 'rashes', 'rasmussen', 'rasmussen_poll', 'rat', 'rate', 'rated', 'ratemysalad', 'rates', 'rating', 'ratings', 'ratio', 'rationale', 'rationalizing', 'ratner', 'ratomanche', 'rats', 'rattle', 'rattled', 'ravaged', 'ravenna', 'ravilious', 'ravingcoeliac', 'ravivisvesvarayasharadaprasad', 'ravmabay', 'raw', 'rawsalerts', 'rawstory', 'raxvmwtzjz', 'ray', 'ray_jerink', 'rayjpolitics1', 'raymondmollica', 'raymondmyr', 'raymondzino', 'raynengrace', 'raytheon', 'razkolni', 'rb5yqgfmwj', 'rb6celqj4t', 'rb9avphxbj', 'rbagqr1fqk', 'rbilmrurpb', 'rbjvzphz5a', 'rbm9ez1d09', 'rbmpwzic4h', 'rboss45', 'rbqdnlidaj', 'rbreich', 'rbrieidqdx', 'rbruo8irrf', 'rby0ymw2h8', 'rbz0ksdtyc', 'rbzuel5zxb', 'rc6rfhazvw', 'rcfswqhvpp', 'rcx2zchc5e', 'rczqdwmjnk', 'rd4qw0lgci', 'rdadmgpjeq', 'rdg1akr7wm', 'rdhxbmleru', 'rdkpuad8rh', 'rdmfk24vpq', 'rdn0ac6lop', 'rdnbe4oql8', 'rdp1m4y6pv', 'rdsb8fa5ka', 'rdv4017', 'rdwwujifrg', 're0wng17uo', 're1kzns6ed', 'reach', 'reached', 'reaching', 'react', 'reaction', 'reactions', 'reactors', 'reacts', 'read', 'reading', 'readingeagle', 'readings', 'reads', 'ready', 'readyalerts', 'reagan', 'reaganrunners', 'reaganworld', 'reaisolidarity', 'real', 'real___itamara', 'real_anthefacts', 'realamvoice', 'realanilreddy', 'realannapaulina', 'realbarabbas', 'realbasedmaga', 'realbradstaggs', 'realcgbsl3', 'realcinders2', 'realclairemayo', 'realconniebevan', 'realdailywire', 'realdamndean', 'realdanlyman', 'realdennislynch', 'realdoctort', 'realdoctortb', 'realdonaldtrump', 'realfkd1974', 'realgeorgewebb1', 'realgregboulden', 'realguancha', 'realhalseye', 'realistreport', 'reality', 'realize', 'realized', 'realizing', 'realjediman', 'realjoebonanno', 'realleader', 'reallizusa', 'really', 'reallyamerican1', 'realmattcouch', 'realmeetjames', 'realmikelauber', 'realmonsanto', 'realmwb77', 'realnatebutler', 'realoumagagirl', 'realpappi61', 'realpersonpltcs', 'realrogerwilc0', 'realronphillips', 'realsaltyslim', 'realsirignano', 'realsoiidarity', 'realstewpeters', 'realtcpl', 'realtime', 'realtkan', 'realtors', 'realtrump2020_', 'realtuckfrumper', 'realwayneroot', 'reap', 'reaping', 'rear', 'reason', 'reasonable', 'reasonably', 'reasons', 'reasonuntil', 'reassurance', 'reassure', 'reassured', 'reassures', 'rebabella2019', 'rebecca_altman', 'rebeccaarainey', 'rebeccahefner', 'rebeccajburns_', 'rebeccashabad', 'rebekahentralgo', 'rebel', 'rebel4kics', 'rebellegrrl', 'rebelnews_usa', 'rebelnewsonline', 'rebound', 'rebsbrannon', 'rebuffed', 'rebuild', 'rebuilt', 'rec1p7qcvm', 'recall', 'recalled', 'recalling', 'recap', 'recapping', 'recco', 'receipts', 'receive', 'received', 'receiving', 'recent', 'recently', 'reception', 'recipe', 'reciting', 'reckless', 'recklessly', 'reckon', 'reckonnews', 'reclaiming', 'reco', 'recognition', 'recognize', 'recognizes', 'recommend', 'recommendation', 'recommendations', 'recommended', 'recommends', 'reconnectsreiki', 'reconsidering', 'record', 'recorded', 'recording', 'recordpub', 'records', 'recount', 'recounting', 'recover', 'recovered', 'recovering', 'recovers', 'recovery', 'recriminations', 'rectangle', 'recurring', 'recycle', 'recycles', 'red', 'redactedgirl', 'redcross', 'redcrossukraine', 'reddit', 'redeye', 'redheadedpat', 'redlights4ff', 'redneck', 'redpill3333', 'redpilllaredo', 'redress', 'redrock556', 'redstate', 'redstate66', 'redstatejimy', 'redsteeze', 'reduce', 'reduced', 'reducing', 'redvoicemedia', 'redvoicenews', 'redwardprice719', 'redwave2024', 'redwoodgirl', 'reece', 'reed', 'reedgalen', 'reedreports', 'reeeeeallie7', 'reeking', 'reeling', 'reels', 'reenact', 'reeort', 'reestablished', 'refcsp', 'referenced', 'referencing', 'referral', 'referred', 'referring', 'refers', 'refineries', 'reflect', 'reflecting', 'reflection', 'reflects', 'reform', 'reforms', 'reframe', 'refuiiimvx', 'refurb', 'refusal', 'refuse', 'refused', 'refuses', 'refusing', 'refute', 'regain', 'regan', 'reganrj', 'regard', 'regarding', 'regardless', 'regards', 'regime', 'regimes', 'regina', 'reginaj40120348', 'reginaldalawso1', 'region', 'regional', 'register', 'regluations', 'regret', 'regs', 'regular', 'regularity', 'regularly', 'regulat', 'regulate', 'regulated', 'regulating', 'regulation', 'regulations', 'regulationsmatter', 'regulator', 'regulators', 'regulatory', 'regvickers', 'reich', 'reid', 'reidfrazier', 'reignited', 'reimburse', 'reimbursed', 'reimbursing', 'reimplement', 'reinforced', 'reins', 'reinstate', 'reinstated', 'reinstating', 'reintroducing', 'reiterated', 'reiterates', 'rejected', 'rejection', 'related', 'relates', 'relating', 'relation', 'relations', 'relationship', 'relationships', 'relatively', 'relax', 'relaxed', 'relaxers', 'relaxing', 'relayed', 'release', 'released', 'releases', 'releasing', 'relevant', 'reliability', 'reliable', 'reliance', 'relied', 'relief', 'relies', 'relieved', 'relocate', 'relocated', 'relocation', 'relucrant', 'reluctant', 'reluctantly', 'rely', 'relying', 'remain', 'remained', 'remaining', 'remains', 'remarking', 'remarks', 'remasculate', 'remawriter', 'remediate', 'remediation', 'remedy', 'remember', 'remind', 'reminded', 'reminder', 'reminding', 'reminds', 'reminiscent', 'reminiscing', 'remiss', 'remnants', 'remotely', 'removal', 'remove', 'removed', 'remover', 'removes', 'removing', 'remylebruh', 'renae131', 'renamed', 'renaycharlotte', 'rendering', 'reneeazpatriot4', 'reneepatriot', 'renegades', 'reneupshaw1', 'renewable', 'renewed', 'rent', 'reo6ltedfw', 'reopen', 'rep', 'repadamschiff', 'repair', 'repaired', 'repairing', 'repairs', 'repandybarr', 'repandybiggsaz', 'repaoc', 'repbeccab', 'repbethvanduyne', 'repbilljohnson', 'repboebert', 'repbrianfitz', 'repbrianhiggins', 'repbridesweeney', 'repdeluzio', 'repdonaldspress', 'repeal', 'repealed', 'repealing', 'repeat', 'repeated', 'repeatedly', 'repeating', 'repeats', 'repemiliasykes', 'repent', 'repercussions', 'repgosar', 'repjamescomer', 'repjasonsmith', 'repjayapal', 'repjeffries', 'repjimbanks', 'repjohnson1', 'repkatieporter', 'replace', 'replaced', 'replacement', 'replaces', 'replacing', 'replied', 'replies', 'reploudermilk', 'reply', 'repmattgaetz', 'repmikecarey', 'repmikecollins', 'repmtg', 'repnancymace', 'report', 'reportable', 'reported', 'reportedly', 'reporter', 'reportergarriss', 'reporters', 'reportertopher', 'reporting', 'reports', 'reppfluger', 'repraskin', 'represent', 'representative', 'representatives', 'represented', 'representing', 'represents', 'reprickallen', 'reprobate', 'reproductive', 'reprokhanna', 'reprussellfry', 'reps', 'repscottperry', 'repshontelbrown', 'repsmucker', 'repstefanik', 'repsummerlee', 'repsusanwild', 'repswalwell', 'repthomasmassie', 'reptroynehls', 'republi', 'republic', 'republican', 'republicanags', 'republicancoryr', 'republicanrehab', 'republicans', 'republicanshateamerica', 'republicanslie', 'republicn', 'republicservice', 'republikkkans', 'republishing', 'repubs', 'repulsive', 'repurchase', 'reputation', 'repweinstein', 'request', 'requested', 'requesting', 'requests', 'require', 'required', 'requirement', 'requirements', 'requires', 'requiring', 'rescinded', 'rescinding', 'rescue', 'rescued', 'research', 'researched', 'researchers', 'resemble', 'resentment', 'reserves', 'reservoir', 'reshadhudson', 'resided', 'residence', 'resident', 'residential', 'residents', 'residentshttps', 'residual', 'residue', 'resign', 'resignation', 'resignations', 'resigned', 'resilient', 'resistance', 'resistanceearth', 'resistanceunited', 'resisted', 'resistenzanow', 'resisting', 'reslst45', 'resolution', 'resolved', 'resonate', 'resource', 'resources', 'respect', 'respectable', 'respectful', 'respectfully', 'respects', 'respibsable', 'respinsable', 'respirateurs', 'respirator', 'respiratory', 'respon', 'respond', 'responded', 'responder', 'responders', 'responding', 'responds', 'responsable', 'responsables', 'response', 'responses', 'responsibilities', 'responsibility', 'responsible', 'responsive', 'responsiveness', 'rest', 'restarts', 'restore', 'restoring', 'restrict', 'restriction', 'restrictions', 'result', 'resultant', 'resulted', 'resulting', 'results', 'resume', 'resumed', 'resumes', 'retail', 'retains', 'retaliation', 'rethuglicans', 'rethugs', 'retire', 'retired', 'retirement', 'retornofeliz', 'retourne', 'retract', 'retribution', 'retroactive', 'return', 'returned', 'returning', 'returns', 'retweet', 'retweeted', 'retweeting', 'reuploadfrominstagram', 'reuters', 'reveal', 'revealed', 'revealing', 'reveals', 'revelation', 'revelator_news', 'revenue', 'revenues', 'reverberate', 'reverse', 'reversed', 'reversing', 'review', 'reviewed', 'reviewing', 'reviews', 'revisionist', 'revisit', 'revisited', 'revitalized', 'revive', 'revives', 'revned144', 'revoke', 'revoked', 'revolving', 'revolvingdoordc', 'rewards', 'reynolds', 'rezindianfdl', 'rf5w0tk7ew', 'rfejiabxnc', 'rfelu6k3eh', 'rfmunvkci2', 'rfp9noemx0', 'rfuw42yfqd', 'rfvotlyiz9', 'rg6nl38ybv', 'rgarbacik', 'rggirxyxxe', 'rgjserjnsc', 'rgpskvag0j', 'rgrjvp5vdy', 'rgxaenmz6v', 'rgyizpskke', 'rgzbtzhth1', 'rgzn1z93sc', 'rgzr4drsjo', 'rh5h1ptlnq', 'rhetorically', 'rhguyq90oe', 'rhinohelix', 'rhinos', 'rhodes', 'rholftroy', 'rhonda_harbison', 'rhoyzzcf1f', 'rhpkebh8dw', 'rhs8ebtyts', 'rhzagjsdqo', 'rhzbdrilpu', 'ri0y4n03jf', 'ri40vn68i3', 'ri9shczyt5', 'ribaltabile', 'rice_rust_belt', 'rich', 'rich06041419', 'richard_katz', 'richardgrenell', 'richardwalpole_', 'richer', 'richer_andrew', 'richjsal', 'richmchugh', 'richscully5', 'richsementa', 'rick', 'rickall37804297', 'rickcpettry', 'rickitick43', 'ricksmithshow', 'rickstelter', 'ricky779399901', 'rickydoggin', 'rico', 'ricochet', 'rid', 'riddle', 'ride', 'rides', 'ridfo6dz5m', 'ridicule', 'ridiculing', 'ridiculous', 'riding', 'rifts', 'rig2009', 'rigel2020', 'rigged', 'rigggedsys', 'riggs', 'right', 'righterthanrigh', 'rightfully', 'rights', 'rikardrene', 'rileymoorewv', 'rimztnlegb', 'ring', 'rino', 'rinoajrs5v', 'rinos', 'rioherring', 'riot', 'riots', 'rip', 'ripped', 'rips', 'rise', 'rises', 'rising', 'risk', 'risked', 'riskier', 'risking', 'risks', 'ritua1l', 'ritual', 'rituals', 'riv39525750', 'river', 'rivers', 'rivertamydn', 'rivervalleyorg', 'riw37xqfit', 'riwolxh1nt', 'rj3ckoklsp', 'rjaud5qnhj', 'rjcdac', 'rjfmqigard', 'rjgjis2sdm', 'rjh5f2n55a', 'rjj0e8masy', 'rjmaximus_2', 'rjmccoon', 'rjn12484', 'rjput9whhb', 'rjwmsoqdln', 'rjwrpwvlhp', 'rjz1vqfay5', 'rk0nvsqw3f', 'rk4ymg9ihu', 'rkbrjvtkrd', 'rkbttjmryy', 'rkoj11hhqa', 'rkszjfz5ty', 'rktqjofgkv', 'rlaoxvdoi3', 'rlfelty', 'rlkpkvnb9b', 'rlsoal5ldg', 'rltsniwjir', 'rlu8tpohfh', 'rlweqmkgdz', 'rm', 'rm3zw06xeq', 'rm4rtgyapo', 'rm9zuah8np', 'rmehlufdxo', 'rmeq3sbqlk', 'rmerekqqaq', 'rmfggk0wpt', 'rmille10', 'rmkwdkkbbc', 'rmlzeqhczf', 'rmnqk7p2q9', 'rmnyfmnjw2', 'rmojomojito1', 'rmppbz4i7a', 'rmrnnbpguq', 'rmundell', 'rmurreytv', 'rmwr1vsrqr', 'rmxl4a0wed', 'rn', 'rn5z9qrjpq', 'rnaas44emf', 'rnacylrqhm', 'rnalen8o7n', 'rnaudbertrand', 'rnc', 'rncresearch', 'rnh8sh4mek', 'rnhlr7vtyl', 'rnlrgzp2zf', 'rnsjokynzp', 'rnwnkingpf', 'rnztf2vn6i', 'ro', 'roachdale', 'road', 'road_closed1984', 'roadbeds', 'roadblock', 'roads', 'roadway', 'roaming', 'roanoke', 'roaring', 'rob', 'rob4684', 'rob67148165', 'robber', 'robby', 'robbysoave', 'robbystarbuck', 'robcarson', 'robert', 'robert_rev13', 'robertd38259050', 'robertfranek', 'roberth56356296', 'robertkennedyjr', 'robertskvarla', 'robertson', 'robertwatson777', 'robes', 'robferg96563317', 'robfinnertyusa', 'robinhoodjr24', 'roblabonne', 'robmoorepayless', 'robotino627', 'robreiner', 'robust', 'robwoods7645', 'robynl01', 'roce0uicnq', 'rock', 'rockbridgecounty', 'rockchalk85alum', 'rockefellerinst', 'rocket', 'rocketed', 'rocks', 'rocky', 'rocky81461369', 'rockymountviews', 'rockymtnview', 'rode', 'roden', 'rodeo', 'rodgers', 'rodneyevans', 'rodriguezlarry', 'rodzqo8kq0', 'roe', 'rofkbfl2uh', 'rogan', 'rogerli53799411', 'rogermarshallmd', 'rogue', 'roguecitizenone', 'rohit', 'rohodehjd7', 'rokhanna', 'rokmoto131', 'roktgurl', 'rolandkausen', 'role', 'roles', 'roll', 'rollback', 'rollbacks', 'rollcall', 'rolled', 'roller', 'rollercoaster', 'rolling', 'rolls', 'rome', 'romenewstribune', 'romulus', 'romulus7078', 'ron', 'ron4california', 'ron7350', 'ronallennbc', 'rondaglarson', 'ronfancy', 'ronfilipkowski', 'ronin09stglide', 'ronjohnsonwi', 'ronna', 'ronny', 'ronnyjacksontx', 'ronplacone', 'ronreedwlvslvfr', 'ronwaxman', 'roof', 'room', 'rooms', 'rooster', 'root', 'rooting', 'rooupd63cq', 'rosaowe90749350', 'roscoejames', 'rose', 'rosegar17673310', 'rosekellywhite', 'rosemar95234384', 'rosie', 'rosieodonnell', 'rosję', 'ross_macfarlane', 'rosscarusotv', 'rossgrooters', 'rosyjsko', 'rothbard1776', 'rotrj2ummk', 'rotten', 'rough', 'roughly', 'round', 'rounds', 'roundup', 'rourke', 'route', 'routes', 'routinely', 'rovti3xf5p', 'row1dzkbfu', 'rowdygirlinmt', 'rows', 'roy', 'royalintel_', 'roylovesamerica', 'royqhobbs', 'royuvw37a1', 'roywoodjr', 'rozpada', 'rp7byyxevn', 'rp_in_action', 'rpckuumsoh', 'rpg8co4fh5', 'rpkreport', 'rppaviprgm', 'rpptdtpihs', 'rpsagainsttrump', 'rpsowoqvsc', 'rpts', 'rqaequb8bx', 'rqcd1ay3of', 'rqf090eubw', 'rqfvvxlvyu', 'rqgn6ebltz', 'rql1fzhpfn', 'rqq6cvzozt', 'rqtwrsyowp', 'rquhxx9ia0', 'rr', 'rr5ngy0mxi', 'rr5y1tb3xo', 'rr9qohcavv', 'rr9y9iiu5j', 'rrai4gqttm', 'rrap', 'rrb1cq3po9', 'rrbqhzthdn', 'rrmru8kw7s', 'rrn6qfuemc', 'rro5vg5rnh', 'rrpayr1esp', 'rrpayr2cin', 'rrpre', 'rrqxlzwpuw', 'rrtrhtykcq', 'rrx4dq2hjx', 'rs', 'rsbnetwork', 'rschooley', 'rsk1kfo6kk', 'rskellner', 'rslvhpwiik', 'rsnoeljr', 'rsoe', 'rsp7dzah1k', 'rsph', 'rss', 'rst4h05rna', 'rstghckarv', 'rstib0m78u', 'rsuf8phb5x', 'rsvp', 'rt', 'rtc7ufhmuf', 'rterriers', 'rtgb4h8o0x', 'rtgfbpb9kb', 'rtghj0ajxp', 'rtitbot', 'rtl0v2fezn', 'rtlj7jru1l', 'rtlvx1rfut', 'rtlwjlrbht', 'rtoedog7dz', 'rtovertime', 'rtoxhdm9r4', 'rts', 'rtxzrjz9l2', 'rtzxi9ahdy', 'ru5bot', 'rubber', 'rubbish', 'rubble', 'rubio', 'ruby', 'rudeness', 'rudw3ospdv', 'rudy', 'rudygiuliani', 'rudygobert27', 'rug', 'ruin', 'ruined', 'ruining', 'rukqtriomo', 'rule', 'ruled', 'rules', 'ruling', 'ruliquid', 'rulli', 'rumble', 'rumblevideo', 'rumor', 'rump', 'run', 'runaway', 'runner', 'running', 'runoff', 'runs', 'runtime', 'ruptlynews', 'rupuuky5zg', 'ruqgsps8un', 'rur', 'rural', 'rus', 'rush', 'rushed', 'rushhour', 'rushing', 'rushr65', 'rushvilerocket', 'rusia', 'russell', 'russellsieg', 'russia', 'russiainvadedukraine', 'russian', 'russianasset', 'russians', 'russias', 'russwil97532934', 'rustycohl', 'rustye83', 'rustyrockets', 'rustyweiss74', 'ruthiedaughter', 'ruthlessworld2', 'rutog6cevk', 'ruxrn0ii8v', 'rvbugnchyf', 'rvmixkmzs1', 'rvp', 'rvpwho34od', 'rvqhfvv9mt', 'rw3tr1ykg0', 'rwc', 'rwcent', 'rwjdt2xi13', 'rwk0qbc4hq', 'rwmwp4dcbk', 'rwnjs', 'rwsvlxcj0w', 'rwwfdeqlbj', 'rwyubsxp7l', 'rx1q7i3cxv', 'rx2lixyfgx', 'rx7kcwzfz9', 'rxbeujbnpj', 'rxgdrlepow', 'rxktqzt8qm', 'rxkzrcid9e', 'rxoislbz5v', 'rxoornlfev', 'rxtjmifco7', 'rxzy93anka', 'ryan', 'ryanbretonwx', 'ryandbusse', 'ryandeto', 'ryankakiuchan', 'ryankbauer4', 'ryanmarino', 'ryanyoungnews', 'ryclif65pa', 'rycunni', 'ryevszwbbc', 'rylanjames8', 'rylpuvoqyi', 'ryp1hdxlkq', 'ryqmlyx9um', 'ryrbatb2se', 'rysfisk', 'ryshampton', 'rysnsu', 'rywtbl0udz', 'ryxh40bn0y', 'ryz669gnw1', 'rz8ug8pgye', 'rzamofrqpa', 'rzdejqfw33', 'rzfxf81aoi', 'rzg0iiplum', 'rznb8fdaku', 'rznlgxpk6f', 'rzobimyzhj', 'rzqutlho9d', 'rzs1he8ybr', 'rztiamu5qd', 'rzyjiavj7p', 'réseau', 'résidence', 'révèlent', 's0g3p2smie', 's0kedh3wty', 's0ql4b5sse', 's0y45og4kv', 's18griwttr', 's1bwf24pgy', 's1cjn2h4oo', 's1f8hrnnkx', 's1kdskajva', 's1khe8rdxh', 's1tjukbgpv', 's1wb8qlor2', 's23quez4im', 's27p734qs3', 's2fahvwztb', 's2kjc6hre8', 's2ljrmezvs', 's2zyqyfbxs', 's3dle1vcp6', 's3vtxijjga', 's4e13zo9y5', 's4eokqbejt', 's4h1oqq5ef', 's4hkzqqvkl', 's4ojhxiqhx', 's4ssxk1hpa', 's55njcxbe1', 's5lbkfwwag', 's5lpifqgmk', 's5n6cxmgbe', 's60gabtlpr', 's6f9zjekkn', 's6mph03yso', 's7xmfi7k8h', 's86tbl8gzl', 's88mztjudo', 's8c3uxi40m', 's8dx86m8zw', 's8ftyjique', 's8selpnhvc', 's8vdeubgd6', 's8yyvtva9a', 's937sr1tvs', 's942ep7uyh', 's98yi5dzvn', 's9lqjfbrw5', 's9mroofadc', 's9tus3azje', 'sa', 'sa7ogwgdws', 'saagar', 'sabatoge', 'sabcnews', 'saber', 'sabk1ask2o', 'sabmc', 'sabotage', 'sabotaged', 'saboteurs', 'sack', 'sacked', 'sacramento', 'sacrebleu141', 'sacrifice', 'sacrificed', 'sad', 'saddened', 'saddest', 'saddled', 'sadist', 'sadly', 'safe', 'safeguards', 'safeh2o4schools', 'safely', 'safemoonhedge', 'safer', 'safest', 'safet', 'safeties', 'safety', 'safetyculture', 'safetypropagan1', 'safetyregulations', 'safetyviolations', 'safhmhxmtz', 'safricaphotog', 'saga', 'sagcast452', 'sah05cbn6d', 'sahana', 'sahzlpprni', 'said', 'saidthegadfly', 'sailed', 'saint', 'saint_sean', 'saintmatamoros', 'saiyanpineapple', 'sale', 'salem', 'salem4congress', 'salemjakes', 'salemnewsoh', 'sales', 'salivating', 'sally_tanner', 'sallybmccarty', 'salon', 'saltandslowburn', 'saltinesnack', 'salty', 'saltykid41', 'saltynugz', 'saltytanker2', 'saludar1', 'salvadacchino1', 'sam', 'sam_fukin_nella', 'samanthabartosz', 'samcrowley', 'samfrob5', 'sammy20241', 'sammybytes', 'sample', 'samples', 'sampling', 'samplings', 'samstwitch_sam', 'samuel', 'samueloakford', 'samuelt1492', 'samvbee', 'sanctimony', 'sanctions', 'sandabluedeux', 'sanders', 'sandra26865205', 'sandrajayne12', 'sandratwang', 'sandrayozipovic', 'sandstone', 'sandstormist', 'sandusky', 'sanduskyregistr', 'sandytl2', 'sanitation', 'sanitize', 'sanmateogirl11', 'sanqjdfzcl', 'santos', 'santos4congress', 'sarabbvpgs', 'saracarterdc', 'saraeisen', 'saraflocks', 'sarafrommi', 'saragerre', 'sarah', 'sarah77929529', 'sarah_g_barker', 'sarahgeving1', 'sarahlazare', 'sarahstankorb', 'saras76', 'sarasidnercnn', 'sarcasmstardust', 'sargent', 'sarifel1', 'sars', 'saschasegan', 'sassafrass_84', 'sat', 'sat3td8xpb', 'satanic', 'satellite', 'satisfactory', 'satisfied', 'satq5kcbqk', 'saturday', 'saul14ken', 'saunpedro', 'sav_says_', 'savanah', 'save', 'saveamerica', 'saved', 'saving', 'savings', 'savjnis0y8', 'savvy', 'saw', 'say', 'saying', 'sayitnspinit', 'sayntedanon', 'sayrd8oom1', 'says', 'sb8kr5u0lm', 'sbb', 'sbethlenfalvay', 'sbgqsjkbo2', 'sbktdfmlo3', 'sbpgsuumsj', 'sbpj69rzfh', 'sbv', 'sbwdctmbqa', 'sbzrjydphd', 'sc', 'sc45xwf4jq', 'scada', 'scale', 'scam', 'scams', 'scandal', 'scapelliti', 'scarborough', 'scarce', 'scare', 'scared', 'scares', 'scarred', 'scary', 'scattered', 'scecht1ken', 'scemcjpsb5', 'scenario', 'scene', 'scenes', 'schachin', 'schadenfreude', 'schaussl', 'schccalifornia', 'schedule', 'scheduled', 'schedules', 'scheduling', 'schettler', 'schianta', 'schiff', 'schnelltim', 'schocking', 'scholar', 'scholarship', 'scholz', 'school', 'schools', 'schumankimm', 'schumann', 'schumer', 'sci', 'science', 'scienceguy', 'sciencysoupy', 'scientific', 'scientist', 'scientists', 'scihoss', 'sco7n1dybr', 'scoop', 'scoops', 'scooter_downey', 'scorches', 'score', 'scores', 'scoring', 'scorn', 'scott', 'scott_4trump', 'scottadamssays', 'scottalanennis', 'scottatlas_it', 'scottaustin336', 'scottcotter10', 'scottforflorida', 'scottfreeforme', 'scottjenningsky', 'scottpresler', 'scottstriviaaits', 'scottth16775833', 'scottwa91433575', 'scottwalker', 'scottwongdc', 'scotus', 'scqzubc22r', 'scrambles', 'scrap', 'scrapped', 'scrapping', 'scrappy94546226', 'scraps', 'scream', 'screaming', 'screams', 'screen', 'screening', 'screenings', 'screenshot', 'screw', 'screwed', 'screws', 'scrgqpg0dc', 'scripps', 'scrippsnews', 'script', 'scripted', 'scroll', 'scrub', 'scrutinised', 'scrutinize', 'scrutinized', 'scrutiny', 'sctrac3duw', 'scumbag', 'scummy', 'scxf3sopws', 'scxn4ylwrh', 'sd', 'sd2y4fhcm3', 'sdagnray9q', 'sdemerson66', 'sdgrumbine', 'sdhyvaz5qh', 'sdkilvd1h9', 'sdlyuixcaz', 'sdmu2xilww', 'sdol285jdu', 'sdonaldsonjr', 'sdonziger', 'sdpltqyfpl', 'sdshark', 'sdxutpequn', 'se', 'se0diz6wp9', 'se2ud78wrn', 'sea', 'seancasten', 'seanhannity', 'seanhecking', 'seaotter369', 'search', 'searching', 'season', 'seat', 'seatowntexan', 'seattle_writer', 'seattletimes', 'seatwarmer', 'seawhale18', 'seb_lach', 'sebastian', 'sebastianranie1', 'sebgorka', 'sec', 'secbecerra', 'secblinken', 'secessionist', 'secmayorkas', 'second', 'secondamendment', 'secondly', 'seconds', 'secret', 'secret_p00', 'secretaries', 'secretary', 'secretarypete', 'secretarypeye', 'secretly', 'secs', 'secti0n31', 'section', 'sector', 'secure', 'secured', 'securities', 'security', 'secyellen', 'sediment', 'seditioncaucus', 'seeing', 'seek', 'seeking', 'seeks', 'seemingly', 'seen', 'seep', 'seeped', 'sees', 'seesawrrr', 'segei', 'segment', 'segmentation', 'segments', 'seguq1k4mr', 'seguramente', 'sehxzaibos', 'seize', 'seized', 'seizing', 'seldeednow', 'seldengadawgs', 'select', 'selected', 'selene406', 'self', 'sell', 'selling', 'sellout', 'sells', 'selma', 'sen', 'sen_joemanchin', 'senate', 'senatedems', 'senategop', 'senatenj', 'senator', 'senatorbrownstain', 'senatorcantwell', 'senatorcarper', 'senatordurbin', 'senatorhassan', 'senatormuth', 'senators', 'senatorwicker', 'senbobcasey', 'sencapito', 'senclairecelsi', 'send', 'sending', 'sends', 'senduckworth', 'seneca', 'senfettermanpa', 'sengillibrand', 'senhawleypress', 'senile', 'senior', 'seniors', 'senjackreed', 'senjohnbarrasso', 'senjohnkennedy', 'senlisaboscola', 'senmarcorubio', 'senmarkey', 'senmarkkelly', 'senmastriano', 'senrickscott', 'senronjohnson', 'sens', 'sensanders', 'sensation', 'senschumer', 'sense', 'sensei415', 'senses', 'sensherrodbrown', 'sensible', 'sensitive', 'sensitivity', 'sensor', 'sensors', 'senstor', 'sent', 'sentate', 'sentedcruz', 'sentence', 'sentimens', 'sentiment', 'senvancepress', 'senwarren', 'senwhitehouse', 'separate', 'separated', 'separating', 'septembersrain', 'sequestered', 'ser8awgplp', 'sergeantjake', 'serial', 'series', 'seriously', 'seriousness', 'serous', 'serve', 'serves', 'service', 'services', 'sería', 'sesmith', 'session', 'sessions', 'set', 'sethmoulton', 'setiokaibadl', 'sets', 'setting', 'settle', 'settled', 'settlement', 'settlements', 'seulement', 'sevekc258y', 'seven', 'sever', 'severe', 'severely', 'severity', 'sewage', 'sewer', 'sex', 'sexuality', 'sexy', 'sexypf4yhy', 'sf7jxtwxrq', 'sfdjtgzcow', 'sfe5emhmhp', 'sfeh7uks5u', 'sfgate', 'sfj5dty21i', 'sfkwkgcho9', 'sfof_states', 'sfopg2jtn0', 'sfvi2nqkes', 'sg0bnbfgze', 'sg9gszljb1', 'sgf9kifini', 'sggomg', 'sgnjait8s9', 'sgppssduy7', 'sh', 'sh0nvdtrsb', 'sh37eutasy', 'sh44aonvtm', 'sh8tkipnoj', 'shabadu_joey', 'shade', 'shaded', 'shadow', 'shadow_avatar', 'shadowalterer', 'shady', 'shaggy', 'shake', 'shall', 'shallow', 'shamanartist', 'shame', 'shameful', 'shamelessly', 'shamwowsupernva', 'shanna_hanna_', 'shannonbream', 'shannonjoyradi0', 'shanshan8466', 'shape', 'shapiro', 'share', 'shared', 'shareholder', 'shareholders', 'sharemylesson', 'shares', 'shari_criswell', 'sharing', 'sharon_ringel', 'sharonkgilbert', 'sharp', 'sharply', 'shattered', 'shaw', 'shawn', 'shawn_farash', 'shawnmpatterson', 'shawnquinn83', 'shawnreynolds_', 'shawnwitzemann', 'shcn4d9h7l', 'shdwstar', 'shea', 'sheathed', 'shed', 'shedding', 'sheen', 'sheena0620', 'sheens', 'sheep', 'sheers', 'sheet', 'sheila_yarnell', 'sheisartmoney', 'sheiton_kenzi', 'sheldonays', 'shelf', 'shell', 'shelley', 'shelleywilde1', 'shelling', 'shelly', 'shellykc2105', 'shellyrkirchoff', 'shelter', 'sheltered', 'shelves', 'sheriff', 'sheringham', 'sherrirose711', 'sherrod', 'sherrodbrown', 'sheryl0_c', 'sheth', 'shg00fxydh', 'shi', 'shield', 'shies', 'shift', 'shift_in2_turbo', 'shifted', 'shifts', 'shills', 'shine', 'shines', 'shining', 'shintech', 'ship', 'shipment', 'shipments', 'shipped', 'shippers', 'shipping', 'ships', 'shit', 'shld', 'shldmaidn01', 'shmisinformation', 'shmuuaapjk', 'shock', 'shocked', 'shocking', 'shocks', 'shoepox', 'shoes', 'shoesonplease', 'shogun', 'shontel', 'shooting', 'shootings', 'shoots', 'shore', 'shoring', 'short', 'shortage', 'shortages', 'shortcuts', 'shorten', 'shortly', 'shortness', 'shortnews', 'shorts', 'shorty56167141', 'shoshido', 'shot', 'shots', 'shotsbyrod', 'shoud', 'shoul', 'shouldn', 'shouldnt', 'shout', 'shouted', 'shouting', 'shoved', 'shovlr', 'showed', 'shower', 'showering', 'showing', 'shown', 'shows', 'shrank', 'shrapnel', 'shreds', 'shrekvivre', 'shreveporttimes', 'shrouded', 'shrp4bx6gi', 'shrugged', 'shtf', 'shuster', 'shut', 'shutitdowncuse', 'shuts', 'shutting', 'shuttle', 'shuttletvnews', 'shwbusiness', 'shykpbtnyd', 'shytt', 'shz2jazcmo', 'si', 'si5zfq8eer', 'si73hl0yx6', 'sibersong', 'sick', 'sickening', 'sickens', 'sickness', 'sicko', 'sid7bhky4t', 'sided', 'sideline', 'sides', 'sidestepped', 'sidewalks', 'sie', 'siegel', 'sieqj7rois', 'sierra', 'sierraclub', 'sierraclubohio', 'sift', 'sigh', 'sight', 'sightings', 'sights', 'sign', 'signal', 'signalcorp13', 'signaling', 'signals', 'signature', 'signed', 'significant', 'significantly', 'signing', 'signorpallina', 'signs', 'sikvo8szeh', 'sil', 'silcaggiano', 'silence', 'silenced', 'silences', 'silent', 'silicon', 'silicone', 'silly', 'silver_1_spirit', 'silver_strike', 'silverado', 'silverforest155', 'silverfoxx514', 'sim40kaobo', 'similar', 'similarly', 'simmer', 'simmering', 'simmz3egpm', 'simon', 'simon_schama', 'simonateba', 'simonshaykhet', 'simple', 'simplement', 'simpleton', 'simpletruthnd', 'simply', 'simply_savage85', 'simulation', 'simultaneous', 'simultaneously', 'sincerely', 'sinclairedon', 'single', 'singled', 'singlepayer', 'sinister', 'sinizt3r1', 'sink', 'sinnaig', 'sinon', 'sinus', 'sir', 'sir1xkd4iq', 'siratyst', 'sire', 'sirenamel', 'sirota', 'sissy', 'sissyroxx', 'sister', 'sisterslead', 'sistertoldjah', 'sit', 'sitdown', 'site', 'site_alpha', 'sites', 'sitting', 'situated', 'situation', 'situations', 'sivak', 'sivavaid', 'siyjqbqgl1', 'siywzjfv7z', 'size', 'sizes', 'się', 'siły', 'sj0wvpdcf4', 'sj1udsy3za', 'sj2tthaq3h', 'sj9yj78bwa', 'sjelkglyb8', 'sjgkptfbyu', 'sjn6dwu0c2', 'sjqxobytt7', 'sjv0gvtkko', 'sjva5dnyir', 'sk4skfjtd4', 'skandertammy', 'skates', 'skcdb5kz0r', 'skeeter', 'skeptical', 'skepticism', 'skew', 'skfydiyfg6', 'skiball3148', 'skillfully', 'skimmed', 'skin', 'skip', 'skipped', 'skipping', 'skips', 'skirchy', 'skmorefield', 'skoc0i4rua', 'skull', 'sky', 'skyjellyfetti', 'skyking661', 'skyrocketed', 'skzkwk0dja', 'slam', 'slammed', 'slamming', 'slams', 'slap', 'slapping', 'slash', 'slashed', 'slashing', 'slate', 'slated', 'slave', 'slavery', 'slaves', 'slay', 'slay_news_', 'sldl418u8a', 'sleep', 'sleepercells', 'sleeprcandidate', 'sleepy', 'sleeves', 'sleeze', 'slenarz', 'slew', 'slgvgxzqmw', 'sliding', 'slight', 'slightly', 'slim90866101', 'slime', 'slimy', 'slinkescouse', 'slipped', 'slipperybobb', 'slipping', 'slips', 'slitt', 'sliver5631', 'slog', 'slogan', 'slope', 'sloppily', 'slosalty1', 'slow', 'slowed', 'slowing', 'slowly', 'slqpfjbcg1', 'sludge', 'sluggish', 'slulay2', 'slw2mpu7gs', 'slzgtu7m7j', 'sm3yrhd5kb', 'small', 'small_town_dude', 'smallbusiness', 'smaller', 'smallest', 'smart', 'smarter', 'smartmoney', 'smartnews', 'smartunionworks', 'smash', 'smdh', 'smear', 'smeary', 'smell', 'smelled', 'smelling', 'smells', 'smellycat2sunny', 'smfh', 'smh', 'smi6maz9ye', 'smiles', 'smiling', 'smite', 'smith', 'smithtvnews', 'smog', 'smoke', 'smokemoreweed66', 'smolgob', 'smoosieq', 'smr33rra0z', 'smsvlv5agr', 'smuggling', 'smugly', 'sn', 'snafu', 'snake', 'snakes', 'snap1448', 'snapchatrabbit', 'snd', 'sneak', 'sneaks', 'sngftppwmq', 'sniffyfoot', 'snippet', 'snitstwits', 'snl', 'snojusticecuz', 'snojusticedad', 'snoopdoug44', 'snoopsmom123', 'snow', 'snoweliora', 'snowstorm', 'snqbvvmj0t', 'sntgylsqqj', 'snub', 'snubs', 'snuff', 'snvaex0hpr', 'sny1va7mwd', 'snydergm', 'so7tfih9z9', 'soaring', 'soave', 'sobre', 'socaltelevision', 'socalvalleygal', 'social', 'socialism', 'socialist', 'socialist90s', 'socialistalt', 'socialize', 'socially', 'socialmedia', 'society', 'sociojen', 'société', 'sodium', 'sodom', 'soicgldjad', 'soil', 'soiled', 'soir', 'sojq49wglx', 'sold', 'sole', 'solely', 'solfolk', 'solicitations', 'solid', 'soliddude92', 'solomonsucceeds', 'solution', 'solutions', 'solve', 'solved', 'some0ne', 'someb1tchiknow', 'somebadideas', 'somebody', 'somekindawonder', 'somethin', 'somewhat', 'son', 'song', 'songdogmi', 'sons', 'sont', 'soo', 'soo0bi9arr', 'soon', 'sooner', 'sooooo', 'sooooooo', 'soopajx', 'soopermexican', 'soot', 'soozin54', 'sop', 'sophiakianni', 'sophiewodzak', 'sophisticated', 'sorbo', 'sordid', 'sordzjdfoo', 'sore', 'sorenstam', 'soros', 'sorry', 'sort', 'sorting', 'sosismgzgg', 'sosword', 'sot', 'sothern', 'sou', 'sou_railman', 'souhern', 'soul', 'soulless', 'soulnature9', 'soulshaker007', 'sound', 'sounded', 'sounding', 'sounds', 'soup', 'source', 'sourced', 'sourcedamerican', 'sources', 'sout', 'south', 'southbound', 'southcarolina', 'southeast', 'souther', 'southern', 'southernは', 'southren', 'southside', 'southwen', 'southwest', 'southwestern', 'sovereign', 'soviet', 'sowsstpm8c', 'sowxw7t8eu', 'soxfan311', 'soybeans', 'soyouliedagain', 'sp', 'sp1ayyjosf', 'sp500', 'space', 'spaced', 'spaceforcedod', 'spacekarenelonm', 'spaces', 'spacetrain', 'spacing', 'spades', 'spaethon', 'span', 'span3', 'spar', 'spare', 'spares', 'spark', 'sparked', 'sparking', 'sparks', 'sparksn123', 'sparkybru', 'spartajustice', 'spartan914', 'speak', 'speakercoughlin', 'speakermccarthy', 'speakerpelosi', 'speakfreedom66', 'speaking', 'speaks', 'spearmint', 'specia', 'special', 'specialist', 'specialists', 'specialized', 'specializing', 'species', 'specific', 'specifically', 'specifics', 'specify', 'specimens', 'specnews1albany', 'spectacular', 'spectacularly', 'spectrum', 'spectrumnews1oh', 'spectrumnewsdc', 'speculation', 'sped', 'speech', 'speeches', 'speed', 'speedyboarder', 'speknmymind', 'spell', 'spend', 'spending', 'spends', 'spent', 'sperm', 'spewed', 'spewing', 'spews', 'spfybq9sga', 'sphaczry4p', 'sphere', 'spielmaker', 'spike', 'spill', 'spillage', 'spilled', 'spilling', 'spills', 'spin', 'spirit', 'spiritofprivac1', 'spiritsside8101', 'spite', 'splain', 'splashy', 'splendora', 'split', 'spmwwaslsg', 'spoke', 'spoken', 'spokesman', 'spokesperson', 'spokeswoman', 'sponsor', 'sponsored', 'sponsors', 'spontaneously', 'spoofs', 'sportpolitics42', 'sports', 'spot', 'spotlight', 'spotted', 'spout', 'spouted', 'spox', 'spr', 'spr34231', 'sprang', 'sprawną', 'spread', 'spreading', 'spreads', 'spree', 'sprin', 'sprinfield', 'spring', 'springermaine1', 'springf', 'springfi', 'springfield', 'springfieldnews', 'springfieldohio', 'springfieldtownship', 'springing', 'springs', 'sprouting', 'sprtskye', 'spruce_gum', 'sprung', 'sprzyslp', 'spsanke2jp', 'spun', 'spurs', 'sputhern', 'sputnik', 'sputzeed', 'spw09aogbt', 'spx9zlowun', 'spy', 'spysun04', 'spz465vkhl', 'spzdt3mz9b', 'spzhcoxyj8', 'sq', 'sq06vrq7ue', 'sqrcse3rkj', 'sqsryvg1xw', 'square', 'squarely', 'squares', 'squashed', 'squat', 'squeaky', 'squillmama', 'squirreltribe', 'sqwv3eet3h', 'sqy5qqcimd', 'sqyngmnv4v', 'sr2seqsi4k', 'srae78', 'srchish', 'sremmn7rli', 'srerotvmmz', 'srhctncvdt', 'sri7fchyue', 'srluwsbn5b', 'srobhartkopf', 'srqfccvppm', 'sruhle', 'srurocket', 'srwf1zjgfi', 'ss', 'ss6tqsarnn', 'ss7cyvuf6m', 'ss9jqkdja4', 'ssag1tceof', 'ssdance', 'ssharmaus', 'ssjjnkxxfs', 'sslzl6whi8', 'ssqejyreyq', 'ssrtisxpwk', 'sstorck', 'ssumi7zcef', 'ssuttell', 'ssz3s4pd3u', 'st', 'stack', 'staff', 'staffed', 'staffer', 'staffing', 'stafford', 'stage', 'staged', 'staggering', 'stake', 'stale', 'stalincruz', 'stance', 'stand', 'standard', 'standards', 'standing', 'standpoint', 'stands', 'stanford', 'stank', 'stapelsusan', 'star', 'staring', 'stark', 'starricky12', 'starrynwt', 'starsandstripes', 'starseed_2020', 'starshi10977911', 'start', 'started', 'starters', 'starting', 'startled', 'startribune', 'starts', 'starttheclock', 'starwanderer6', 'stat', 'state', 'stated', 'statement', 'statements', 'staten', 'statenews', 'states', 'statewide', 'stathies', 'static', 'stating', 'station', 'stationcdrkelly', 'stations', 'statnews', 'stats', 'status', 'statuscoup', 'statute', 'stay', 'stayconnected', 'staying', 'stays', 'staywoke', 'stdojo', 'steadily', 'stealing', 'stealthgirl21', 'steam', 'steams', 'steamtug7', 'steel', 'steen', 'steep', 'steering', 'stefani', 'stefanik', 'stegi16948327', 'stellaescotv', 'stemmed', 'stemming', 'stems', 'stench', 'stenographer', 'step', 'stepford', 'stephanie', 'stephanieseneff', 'stephen', 'stephen15551497', 'stephenasmith', 'stephengoin', 'stephengroves', 'stephenhorsman7', 'stephenm', 'stephhoover8', 'stephieloves31', 'stephpmba', 'stepped', 'stepping', 'steps', 'sterben', 'steroids', 'steubenville', 'steve', 'steve_kosareff', 'stevebenen', 'stevebothe', 'stevedaines', 'steveestrada11', 'stevegrubershow', 'steveluttner', 'steven', 'stevescalise', 'stevewebb1976', 'stevewfmj', 'stevewil94', 'stew', 'stewart', 'stfn', 'stfu', 'stick', 'sticker', 'sticking', 'sticks', 'stierven', 'still_ultra', 'stillgray', 'stills', 'stinks', 'stir', 'stirke', 'stirred', 'stm4r6s62k', 'stock', 'stockbuybacks', 'stockholder', 'stockholders', 'stockmarket', 'stockmarketcrash', 'stockmarketreport', 'stockmarkettips', 'stockmktnewz', 'stockpiles', 'stockpornx', 'stocks', 'stoke', 'stolen', 'stomach', 'stomp02763058', 'stonertrans', 'stones', 'stonewalled', 'stonewalling', 'stonyfield', 'stood', 'stooges', 'stool', 'stoopidity', 'stop', 'stopped', 'stopping', 'stops', 'stopshere', 'stopthehate2200', 'stopthemagas', 'stoptheshamble', 'storage', 'store', 'stored', 'stores', 'stories', 'storing', 'storm', 'storm4congress', 'story', 'stove', 'str4y4nk4ng4roo', 'straight', 'straights', 'strain', 'straits', 'stranded', 'strange', 'strangely', 'stranger', 'strangers', 'stranglehold', 'strap', 'strategy', 'stratus_c5_elite', 'straw', 'stream', 'streaming', 'streams', 'street', 'streetsboro', 'strength', 'strengthen', 'stressed', 'stretch', 'stretched', 'stricken', 'strict', 'stricter', 'strictscrutiny_', 'strike', 'strikepac', 'strikes', 'striking', 'string', 'stringent', 'strip', 'stripping', 'stroll', 'strong', 'stronger', 'strongly', 'struck', 'structural', 'structure', 'struggle', 'struggled', 'struggles', 'struggling', 'strum', 'stu02duncan', 'stuart', 'stuartmeissner', 'stubborn', 'stuck', 'stucknation', 'student', 'students', 'studies', 'studio_michaud', 'studiolittle_t', 'study', 'studying', 'stuff', 'stuffed', 'stumbles', 'stumbling', 'stumping', 'stumpsurgeon', 'stunning', 'stunt', 'stuntman', 'stupid', 'stupidity', 'stupidly', 'sturdferguson', 'stwp2ktfmr', 'style', 'styx666official', 'stz9jzjn8l', 'su', 'suave118', 'sub', 'subcommittee', 'subcontracted', 'subcontractors', 'subject', 'subjecting', 'subjects', 'submits', 'submitted', 'subpoena', 'subpoenaed', 'subpoenaing', 'subrata30016572', 'subscribe', 'subscription', 'subsequent', 'subsequently', 'subsidies', 'substance', 'substances', 'substantial', 'substantive', 'substations', 'substituting', 'subtle', 'suburb', 'success', 'successful', 'successfully', 'suck', 'sucking', 'sucks', 'suddenly', 'sue', 'sued', 'suefhmqkpr', 'sueinphilly', 'sueromulus', 'sues', 'suffer', 'suffered', 'suffering', 'suffers', 'suffolk', 'sugar1420', 'suggest', 'suggested', 'suggesting', 'suggests', 'suicide', 'suing', 'suit', 'suite', 'suits', 'suivn1dnq2', 'suk5bycrfq', 'sul7lbzbcs', 'sulfur', 'sullied', 'sulphur', 'summ116', 'summarizing', 'summary', 'summers', 'summerswave', 'summit', 'summoned', 'sums', 'sun', 'sunday', 'sundayfocus', 'sundaytoday', 'sunnihostin', 'sunny', 'sunnythefarmer1', 'sunraysunray', 'sunrisemvmtpgh', 'sunset', 'sunshine', 'sup3rb3ingus3r', 'sup3rk', 'supayalaya', 'super', 'superbowl', 'supercharge', 'superficial', 'superfund', 'superfundsite', 'superheroes', 'supersede', 'supervise', 'supervised', 'supervisera', 'supervision', 'supervisor', 'supplied', 'supplies', 'supply', 'support', 'supported', 'supporter', 'supporters', 'supportindependentmedia', 'supporting', 'supportive', 'supports', 'suppose', 'supposed', 'supposedly', 'suppressed', 'suppression', 'supremacist', 'supremacists', 'supremacy', 'supreme', 'supremecourt', 'sur', 'surabees', 'surasia_', 'sure', 'surefooted', 'surely', 'surface', 'surfaces', 'surfelvistx', 'surgeon', 'surprise', 'surprised', 'surprising', 'surround', 'surrounding', 'surveil', 'surveillance', 'survey', 'surveying', 'surveys', 'survient', 'survive', 'sus', 'susanbordson', 'susanengel14', 'susanm52825212', 'suscoont', 'susiemagooziee', 'susieq2457', 'suspect', 'suspected', 'suspects', 'suspended', 'suspension', 'suspicious', 'suspiciously', 'sustainable', 'sutin', 'suttondunnavant', 'suxdknmr6w', 'suzgrecruiter', 'suzyd68', 'sv6cwzvu0h', 'sv6nbcbbp8', 'sv8eqfdkuv', 'sv8r4uylwz', 'svaxhzbuzs', 'svb', 'svbbank', 'svbcollapse', 'svbxjakdyi', 'svdate', 'svfxaz56kx', 'svhb0zfmkg', 'sviowztxf7', 'svlfqgb2b0', 'svuepwu9u1', 'svvauopxwp', 'svyauy4pik', 'svyxpqheue', 'sw', 'swag', 'swaite111', 'swallowing', 'swallwell', 'swamp', 'swanee55d', 'swanky', 'swapping', 'swd98nx3ni', 'sweeney', 'sweep', 'sweeping', 'sweet', 'sweet_t2021', 'sweetcarolinatv', 'sweetiewalker', 'sweetpeafan', 'swept', 'swhyno', 'swier', 'swim', 'swissch33z', 'switch', 'switched', 'swizzlesticks', 'swoop', 'sworn', 'swsynaqcci', 'sxaxmly1iz', 'sxeotfw5ly', 'sxm', 'sxmprogress', 'sxpuo0wdxr', 'sxqx5dzf4m', 'sxtmlmxeho', 'sxupwvwwqr', 'sxxj9eirjt', 'sy65myjgn6', 'sy66osuuky', 'syaectznbc', 'syctonj9ka', 'sydneydawessns', 'sydreflux', 'syghlentnomore', 'syh51yas5y', 'syi4isb1r0', 'syk1h1wr89', 'sykescharlie', 'symbolic', 'symmaap67g', 'sympathizer', 'symptom', 'symptoms', 'symptômes', 'syncrony', 'syndicate', 'syntax2600', 'synyster63', 'syracuseunews', 'syria', 'syrians', 'systemic', 'systemically', 'systems', 'systemschange', 'syzmhgjjbp', 'sz1r0bw97a', 'sz4vf3pfnb', 'sz7w65foai', 'sz81tvdott', 'szesccd6mo', 'szqwwlgdek', 't0d5uvxwql', 't0reajyjfj', 't0wyaidxbc', 't0xfghtpbf', 't11qvsaly0', 't1oas3cd1m', 't265phzyxa', 't2di4vo5xq', 't2t9nykmvk', 't2tsdvbcib', 't31dihihfq', 't36daetpz2', 't3ahau5bgl', 't3dcwnjebv', 't3kzhwd88g', 't3ry9vajlh', 't4ld4ykfyv', 't4r7dcs6ix', 't4wmrwjov4', 't5i1fdnklu', 't5ulgje4k3', 't5vbopcujl', 't5wwrsrdvc', 't6hcazrf4v', 't6yo6pvu46', 't7el5c6fdl', 't8399cerfa', 't8bxmiall2', 't8giqwtjbl', 't8sal0x2kt', 't8ssd7esyi', 't8x2ira4a8', 't8zk2i2eao', 't92gnqu870', 't9gjkpqh51', 't9gmb2vc1c', 't9qhgugx30', 't9xesr4ung', 'ta4gy9n1vt', 'taberisagrunt', 'table', 'tabloid', 'tabs', 'tackettwendi', 'tackled', 'taco', 'tactic', 'tactics', 'tadcooper20', 'tadcruledb', 'tagging', 'tahtcqfi9e', 'tailgating', 'tain', 'tainted', 'taiwan', 'tak3islml5', 'takata', 'takeaway', 'takeaways', 'taken', 'takeover', 'takes', 'takethegoldpill', 'taking', 'taks', 'tale', 'talented', 'talk', 'talked', 'talking', 'talkingpoints', 'talklew', 'talks', 'talktv', 'tallntran', 'tam', 'tami1501', 'tamiami335', 'tamieuscongress', 'tamlynjjoy', 'tammiecroft71', 'tammy', 'tammy_sager', 'tampafreepress', 'tampered', 'tamtym', 'tamu', 'tandem', 'tangle', 'tanglenews', 'tangogolfsierr1', 'tank', 'tanker', 'tankers', 'tanking', 'tanks', 'tanthonypotter', 'tap', 'tape', 'tapes', 'tapper', 'tarallucci_vino', 'tarantulaes', 'tard', 'target', 'targets', 'tarraaaango', 'tasman', 'tasosperte', 'taste', 'tastic', 'tastymorsel6', 'tatecurtis', 'tau32f6kh7', 'taught', 'taup4hbczv', 'tax', 'taxable', 'taxed', 'taxes', 'taxpayer', 'taxpayers', 'taylor', 'taylorbizzle', 'taylorfor20th', 'taylorpopielarz', 'tayo', 'tazvwidrlu', 'tba3xngvlc', 'tbd', 'tbh', 'tbh23duu0a', 'tbkrhj1wut', 'tbkxy95pej', 'tbluvoter', 'tbnd4vu69o', 'tbnteryqbd', 'tbnterzorb', 'tbor24', 'tbrandall33', 'tbt', 'tbxcturynk', 'tbxrbya1s8', 'tbyfg5v7ma', 'tbzlpo0kft', 'tc247ps2si', 'tc3f6jhvih', 'tc6tfg5jyx', 'tcanf25bnq', 'tcdms99', 'tceq', 'tcgd7twutt', 'tcjsf5qcxc', 'tcjxp49fxd', 'tckldpaowm', 'tctnjounic', 'tcunderdahl', 'tcvgz1gnta', 'tcxo71kx49', 'td5linwksl', 'tddjomabma', 'tdfeqdvac4', 'tdiq1qyvfx', 'tdokester', 'tds', 'tdshzzc4cu', 'tdssnrpcrn', 'tdxt65bcux', 'te3osk5wfh', 'te3ugmi2m8', 'te4tekcnj9', 'tea', 'teach', 'teacher', 'teachers', 'teaches', 'teagan1776', 'team', 'teambernie27001', 'teamed', 'teammates', 'teams', 'teamtrump', 'tear', 'tearing', 'tears', 'teases', 'teaterjohn', 'tech', 'tech5960', 'techn', 'technews', 'technical', 'technically', 'technician', 'technicians', 'technology', 'technologynews', 'techpriest', 'techwoods52', 'ted', 'tedcruz', 'teddmanii', 'teddy', 'tedinator01', 'tedious', 'teenagers', 'teeth', 'tehachapi', 'tehudi', 'teipd9kdrx', 'telegram', 'telegraph', 'telemedicine', 'telepathically', 'telesurenglish', 'television', 'tell', 'tellement', 'telling', 'tells', 'temp', 'temperature', 'temperatures', 'tempers', 'temporarily', 'temporary', 'tend', 'tendenciasahora', 'tends', 'tenho', 'tenlaughter', 'tennessee', 'tennis', 'tens', 'tense', 'tension', 'tensions', 'tentatively', 'tentoads4truth', 'tenure', 'teoanon17', 'teowdoz6jj', 'tepid', 'teqxasgal', 'teresaccarter2', 'teriedelson', 'term', 'terminally', 'terms', 'terrible', 'terribly', 'terrier', 'terriers', 'terrified', 'terrifying', 'territory', 'terror', 'terrorattacks', 'terrorism', 'terrorist', 'terrorists', 'terry', 'terrycr71807035', 'terrymoran', 'terse', 'tesla', 'tesseracting_', 'test', 'tested', 'testifi', 'testified', 'testifies', 'testify', 'testifying', 'testimony', 'testing', 'tests', 'teswk3iufh', 'tevdwe1saa', 'texagchick', 'texansgal', 'texas', 'texas3talon', 'texasartchick', 'texasdem2', 'texaselection', 'texaslindsay_', 'texaspolitics', 'texfischer', 'texfontaholic', 'texl9fmlx1', 'texo6cttyw', 'texpat1307', 'text', 'textile', 'texts', 'teyllan', 'tez6j4ztp4', 'tf', 'tf9ckgvhfh', 'tfdi2xknzv', 'tfdna4sics', 'tfg', 'tfiamonrhy', 'tficxuiybk', 'tfld5yvelv', 'tfmdswuka2', 'tfnv38baag', 'tforthelma', 'tft', 'tg0awicizc', 'tg22110', 'tgapujlsys', 'tgavta', 'tghw10y6b6', 'tgktgtz0n0', 'tgltkfrtg6', 'tgmid8lbrr', 'tgowdysc', 'tgvxnwu70i', 'tgwjsaevvo', 'tgx9r11qrr', 'th', 'th0tbl8bkb', 'th55202331', 'th8mjwch61', 'tha', 'thaat', 'thank', 'thankarailroader', 'thanked', 'thankful', 'thankfully', 'thankfulturtle', 'thanks', 'thankyoujournalistsforthenewswegetfromyou', 'that1dude247', 'thatcheersguy', 'thatconservativ', 'thatdangphil', 'thatfelladanny', 'thatlazysumbish', 'thats', 'thdbbchzmy', 'the_real_deepee', 'the_real_sand', 'the_red_yota', 'the_trump_train', 'theactionnet', 'theamberadams', 'theanabraga', 'theanoncomm', 'theartificer4', 'theater', 'theatlantic', 'thebeatnews', 'thebias_news', 'thebidenshitshow', 'thebigginslarry', 'theblackfemini3', 'theblaze', 'theboltupright', 'thebonepile', 'theburkeshow', 'thebwstimes', 'theccshowcast', 'thechadwickpaul', 'thechangfucius', 'thechiefnerd', 'theclassixjawn', 'thecorpmex', 'thecure', 'thecygnetnyc', 'thedagwood13', 'thedailybeast', 'thedailyrabbit', 'thedailyshow', 'thedarthlurker', 'thedefender', 'thedemocrats', 'thee', 'theethistle', 'theferocity', 'thefilkil', 'thefitzburgh', 'thefive', 'theflstandard', 'theghostofddp', 'thegreatamericashow', 'thegreatreset', 'thegreengarret', 'thehiddenpod', 'thehill', 'thehounddog71', 'thehoustonwade', 'theinsiderpaper', 'theintercept', 'theirs', 'thejackcochran', 'thejake1776', 'thejed1', 'thejlouderback', 'thejoezaza', 'thejuanwilliams', 'thejude99', 'thejusticedept', 'thekevindalton', 'thekingofjerky', 'thelastpinkcar', 'thelastrefuge2', 'theleadcnn', 'thelegallowdown', 'theleoterrell', 'thelexiciccone', 'thelmavrh', 'thelokrailfan', 'thelook4utoday', 'thematic', 'themckenziest', 'theme', 'themes', 'themodalice', 'themorrancave', 'thenation', 'thenaturalblaze', 'theoc2ps', 'theohiostar', 'theoldpoet', 'theoldreader', 'theology', 'theomniliberal', 'theonion', 'theories', 'theorist', 'theorists', 'theorized', 'theorizing', 'theory', 'theoxygenproj', 'theplaindealer', 'thepoliticpress', 'thepolitizpress', 'thepostmillennial', 'theprogequalist', 'theprospect', 'thepugnews', 'thepupnews', 'thequartering', 'theradicalprole', 'theragingsaxon', 'theraginpatriot', 'therealanswers2', 'therealgsns', 'therealharmonie', 'thereallybigba3', 'therealnews', 'therecount', 'thereidout', 'therenedavis', 'theres', 'theresabluest', 'thereseosulliv2', 'theresident', 'therickwilson', 'thermal', 'theronanon', 'theshadowstate1', 'thesis', 'thesizzlereport', 'thesky973dotcom', 'thesocprogram', 'thesonofstan666', 'thespybrief', 'thestevegrubershow', 'thethe1776', 'theticker', 'thetinavasquez', 'thetnholler', 'thetribesman22', 'theupriser1', 'theusasingers', 'theview', 'thevotersguide', 'theweek', 'theyoungturks', 'thezanetta', 'thhs', 'thi', 'thievery', 'thievesinschools', 'thing', 'things', 'think', 'thinkin', 'thinking', 'thinks', 'thinktwicemore', 'thinly', 'thirty', 'thisa', 'thisismarietta', 'thisonecansee', 'thisweekabc', 'thisweekinconspiracy', 'thlslskyier', 'tho', 'thojruduhf', 'thom_hartmann', 'thomas', 'thomasmanson420', 'thomass4217', 'thomassuddes', 'thomaswrzalins2', 'thompson', 'thompsoncarolk', 'thomson', 'thordeplorable', 'thorough', 'thoroughly', 'thou', 'thought', 'thoughts', 'thouoj2gpt', 'thousand', 'thousands', 'thr', 'threa', 'thread', 'threat', 'threaten', 'threatened', 'threatening', 'threatens', 'threats', 'threshold', 'threw', 'thrilled', 'throat', 'throats', 'throw', 'throwing', 'thrown', 'throws', 'thrsajrzzs', 'thrust', 'ths', 'thug', 'thumbs', 'thumperjoey68', 'thunberg', 'thurs', 'thursday', 'thursdaythoughts', 'thursdayvibes', 'thwarting', 'thwbpm9vlb', 'thwspydwnw', 'thx', 'thy', 'ti8c4rt81k', 'ticalthinker', 'ticker', 'tickertick', 'ticket', 'tidbit', 'tidfudt8fd', 'tidytops', 'tie', 'tied', 'tiempos', 'tier', 'tiere', 'tieroneposter', 'tierra', 'tight', 'tighten', 'tightens', 'tigris', 'tik', 'tiktok', 'tiktoker', 'til', 'til0hjnfau', 'tilghmanchris', 'till', 'tim', 'timcast', 'time', 'timed', 'timeline', 'timely', 'timer', 'times', 'timestamps', 'timhannan', 'timid', 'timing', 'timmarchman', 'timmins316', 'timodc', 'timomalum', 'timothytobias2', 'timperone', 'timrunshismouth', 'timwhatley22', 'tina', 'tinadesireeberg', 'tinfoil1701', 'tinfoilhats', 'tinfoilted1', 'tingling', 'tingsmencup', 'tinkeringhalo2', 'tiny', 'tip_ct', 'tipkn7pjpe', 'tippecanoe', 'tipped', 'tips', 'tiramisudreams', 'tired', 'tirelessly', 'tires', 'titanic', 'titaniccaptn', 'title', 'tiwannarn42', 'tiwkulrjyo', 'tixputucwl', 'tj3estzmgx', 'tj8d7ev0tu', 'tjdn6wyvmz', 'tjdogmanr2', 'tjjcfh1hub', 'tjl4aopct4', 'tjlbi9uvqv', 'tjnphkvyr9', 'tjnugent520', 'tjulpjhdsb', 'tjva5acwvc', 'tjvjtv7dom', 'tk0kegxdyv', 'tk11v2qdcu', 'tkbk83eb8a', 'tkevhbugyu', 'tkiutmmqqw', 'tkmbzck7qv', 'tksyfqllql', 'tkxagfd8jw', 'tkycpmg8po', 'tl2kuy7k78', 'tlciaar5ga', 'tleholt', 'tlongpine', 'tlow', 'tm01iogjuo', 'tm4acrq54m', 'tmcs10', 'tmczi9igzh', 'tmdgpo3aek', 'tmgyh8ei7z', 'tmhoef7dsk', 'tmitch613', 'tmjmzqbve6', 'tmnxspq4ps', 'tmoa8nhm20', 'tmpgqs52g1', 'tmsnbb', 'tmupssnom8', 'tmwkenglewood', 'tmz', 'tmzlive', 'tmzmvcjadn', 'tn', 'tn7tw4ubwf', 'tnegivoroo', 'tnelson460', 'tnfjm7cu5j', 'tniv2z9znw', 'tnm9vaiqrt', 'tnnnewsnetwork', 'tns2p3tuzm', 'tntradiolive', 'tnzpzjju0j', 'to6bfsocuo', 'toa', 'toadyism', 'toast', 'toav2iwold', 'tobacco', 'toberlaurent', 'toblam', 'today', 'today_explained', 'todayshow', 'todd', 'toddabailey', 'toddbohannon', 'toddm2017', 'toddpiro', 'todo', 'todos', 'tojamesconnor', 'tok', 'tokenofthemonth', 'tokyosimping', 'tokzu2g4fc', 'told', 'toledeaux', 'toledo', 'tolerate', 'tolerated', 'toll', 'tom', 'tomashaggerty', 'tombent', 'tomc_tweeting', 'tomcostellonbc', 'tomdoubting', 'tomfitton', 'tomhammerofgod', 'tomilahren', 'tomisapatriot', 'tommyinpa', 'tommypigott', 'tomorrawdotcom', 'tomorrow', 'tomselliott', 'tomspace12', 'tomston93521872', 'tomthunkitsmind', 'tomwsyx6', 'ton', 'ton_hbc', 'tone', 'tonetone1263', 'toni76482280', 'tonight', 'toniw67', 'tonnes', 'tons', 'tonvynbzzl', 'tonyfradelich', 'tonyhussein4', 'tonyiannitelli', 'too_much_online', 'took', 'tookthegoldpill', 'tool', 'toolittletoolate', 'tools', 'toomuchtuuuna', 'toon', 'tooth', 'top_cat59', 'top_disaster', 'topclhe6r4', 'topglobalpro', 'topherjk', 'topic', 'topics', 'topper', 'toppled', 'topstories', 'tor_lan', 'torched', 'torches', 'tore', 'toresays', 'toriglass', 'toriyorgeytv', 'torn', 'tornado', 'torrential', 'torrhl', 'tort', 'torwf3ji7m', 'torxie', 'torycolumbus', 'tos3n9iqmx', 'toscaausten', 'toss', 'tossed', 'tosuedurun', 'tosyneno', 'total', 'totaling', 'totalitarian', 'totally', 'totals', 'touch', 'touches', 'tough', 'tougher', 'toughtalkty', 'tour', 'toured', 'touring', 'tourism', 'tournament', 'tours', 'tous', 'tout', 'touted', 'touting', 'towarowy', 'towels', 'town', 'townhall', 'townhallcom', 'towns', 'township', 'townspeople', 'towpq0yyvo', 'towpq0z6lm', 'toxic', 'toxicchemicals', 'toxiccloud', 'toxicfrieght', 'toxicgas', 'toxicities', 'toxicity', 'toxicologist', 'toxicologists', 'toxicology', 'toxicplastic', 'toxics', 'toxictrain', 'toxictraindisaster', 'toxictrains', 'toxicwaste', 'toxilogical', 'toxins', 'toxique', 'toxiques', 'toy', 'toys', 'toysandgames13', 'toytownz', 'tp5lvgkwel', 'tp8lzib16c', 'tp9zgufhcz', 'tpblue4', 'tpdbkmwsxa', 'tpfrgtthxm', 'tpg3gpy3t5', 'tpg9mvp5fk', 'tpgju5ef6r', 'tphm0zdhdt', 'tpi97gybzy', 'tpostmillennial', 'tppatriots', 'tpprhnmtit', 'tpqmfjguz2', 'tprdj6yexg', 'tpt5xvq1pt', 'tpusa', 'tpzfxdkzl8', 'tq1nywhkva', 'tq4vgkfiv8', 'tq6r0nrfym', 'tq7rb9g0xp', 'tqa3vbuvbb', 'tqc2gmn79s', 'tqhtkuejcb', 'tqhwhzo2a3', 'tqq9hohhzn', 'tqsguwe8hu', 'tr', 'tra', 'trac', 'trace', 'tracegallagher', 'traces', 'track', 'trackable', 'trackage', 'tracker', 'trackinflation', 'tracking', 'tracks', 'tracy_username', 'trade', 'tradeintercept1', 'trader', 'trading', 'tradingmarket', 'traditional', 'traecrowder', 'traffic', 'tragedia', 'tragedies', 'tragedy', 'tragic', 'trai', 'trail', 'trailer', 'train', 'trainaccident', 'trainbrake', 'traincrash', 'trainderailed', 'trainderailment', 'trainderailments', 'traindisaster', 'trained', 'trainfire', 'training', 'trainman80i', 'trains', 'trainscapes', 'trainsmagazine', 'trainwreck', 'trainwrecks', 'trait', 'traitor', 'traitortrump', 'tranmariefrance', 'trans', 'transcript', 'transferred', 'transient', 'transit', 'transition', 'transitioning', 'translateslowly', 'translation', 'transmission', 'transp', 'transparency', 'transparent', 'transparently', 'transpatory', 'transpired', 'transpo', 'transpor', 'transport', 'transportation', 'transportationsecretary', 'transported', 'transporting', 'transports', 'transtv_corp', 'trapped', 'trash', 'trash_meme_boi', 'trashed', 'trashing', 'trashy', 'trauma', 'travel', 'traveldestination', 'traveled', 'traveling', 'travelled', 'traveltips', 'traveltuesday', 'travisallen02', 'tray97194941', 'trbbq6xdwa', 'trbpqtz2wd', 'treasonous', 'treasontrump', 'treasure', 'treasury', 'treat', 'treated', 'treathunterdog', 'treating', 'treatment', 'treats', 'treaty', 'tree', 'treinontsporing', 'trek', 'trem', 'tremendous', 'tremly', 'tren', 'trend', 'trending', 'trendingnews', 'trendingnewstoday', 'trendingnow', 'trendings911', 'trends', 'trendy', 'treno', 'trent', 'trentconaway', 'trespasserz', 'trespassing', 'trgzmcsot2', 'trhlofficial', 'trial', 'triangle', 'tribal', 'triblive', 'tribune', 'trick', 'trickle', 'tried', 'tries', 'trigger', 'triggered', 'triggers', 'trillion', 'trillions', 'trinaqureshi', 'trip', 'tripe', 'triple', 'tripped', 'trishacecilia', 'trishinpa2', 'tristan', 'tristanmcclone', 'tristansnell', 'tritium', 'triumph', 'trivial', 'troll', 'trollfootball', 'trolls', 'tropchock', 'trosky', 'trouble', 'troubled', 'troubles', 'troubling', 'trowwgbkso', 'trsmiami', 'trteitvqic', 'truck', 'trucked', 'truckloads', 'trucks', 'trudeau', 'true', 'truecrime', 'truecrimecommunity', 'truecrimeupdat', 'truefactsstated', 'truejmitchell', 'truenorth5000', 'truly', 'trump', 'trump2024', 'trump666', 'trump_lost_lol_', 'trumpbelongsinprison', 'trumpcrimefamily', 'trumpcult', 'trumped', 'trumphttps', 'trumphypocrisy', 'trumpin_texan', 'trumpisalaughingstock', 'trumps', 'trumpster', 'trumptrain', 'trumptrainwreck', 'trumptrounced1', 'trumpwarroom', 'trumpwon', 'trumpy', 'trunembak', 'truns', 'trusses', 'trust', 'trusting', 'trustingmyvibes', 'trusts', 'truth', 'truth4forever', 'truthful', 'truthma08903007', 'truthout', 'truthpage1', 'truthseeker', 'truthseekerrose', 'truthstreamnews', 'truthwsuf', 'trvsovacot', 'try', 'trying', 'trysts', 'trật', 'ts24hlluwp', 'tschp5kg6g', 'tsgfaz8swv', 'tshotqruxl', 'tsi6poepab', 'tsqunravmz', 'tsr246gxiw', 'tsreq28jm3', 'tsrtgldoki', 'tsukuru_agender', 'tsx2b8an1e', 'tsy6mfwh7b', 'ttctknfnzt', 'ttdaflcio', 'ttdgcp1sdx', 'ttdpplghsh', 'ttsgpod', 'ttxzu3oprx', 'ttyhp5hyqz', 'tu5qanfnik', 'tuapj86lgm', 'tuarx1q2mk', 'tube', 'tubes', 'tucker', 'tuckercarlson', 'tuckercarlsonisarussianasset', 'tucson', 'tuesday', 'tuezpdkvlg', 'tufftiffresists', 'tulsateresa', 'tulsi', 'tulsigabbard', 'tummysticks13', 'tumu9pzym9', 'tun1shjyhk', 'tune', 'tuning', 'tunnel', 'tupafoptap', 'tuq8dbpl6f', 'turbine', 'turbokitty', 'turdytr333', 'turkey', 'turks', 'turley', 'turn', 'turned', 'turner', 'turning', 'turnout', 'turns', 'tuscon', 'tuwpodcast', 'tuzbe1the5', 'tv', 'tv85xenntr', 'tvbeptgtqr', 'tvc15ma', 'tvgzjxcxwz', 'tvllvzcbx5', 'tvsteve', 'tvunetworks', 'tw', 'tw02va8cxo', 'tw5ty5rjfz', 'twbgkejgtd', 'twc', 'twc_health', 'twcrbphjdi', 'tweet', 'tweet100', 'tweeted', 'tweeting', 'tweetingjohnny', 'tweetmalena', 'tweets', 'tweetymctwat', 'twfi9sdojb', 'twgmbcvavs', 'twice', 'twistedladynj', 'twitbzed', 'twitchyteam', 'twitter', 'twitteralternative', 'twitterceo', 'twitterfiction', 'twitterfiles', 'twitterheads', 'twittersupport', 'twopartyhell', 'twopersoncrews', 'twosides1truth', 'twowheelsrlife', 'twq9e34ppi', 'twsmrx2r95', 'twsuj1vrck', 'twtfrontpage', 'twzugbr2w2', 'tx', 'tx_vet1', 'txbltwdo8k', 'txdvbeg9zf', 'txeut759sb', 'txgxk77y1e', 'txhctrlwqv', 'txj1mbpim3', 'txnnty45wc', 'txq4ljeork', 'txstillwatching', 'txtmbgmhny', 'txwomenresist', 'tycoon', 'tylerjoelb', 'tylermonroe7', 'tylko', 'tymetwx', 'tyo44jagqr', 'tyokuaqmli', 'type', 'types', 'typical', 'typically', 'typo', 'typo_cat', 'typtrvqxfg', 'tyre', 'tytlive', 'tyygo2mwd7', 'tz2grvyyuf', 'tz9jf96awn', 'tzgibsez0b', 'tzirbypmy4', 'tzo0ragcdx', 'tzq6vliuln', 'tzzmx9ckod', 'tàu', 'tóxico', 'u0avwt4z8j', 'u0exisfkvg', 'u0zytkjtsm', 'u1sbh9i56m', 'u1wimypsjh', 'u2owxgavip', 'u2tt9460yt', 'u2ujv0fjel', 'u2v7xj333w', 'u3axbtyntn', 'u3muipzdne', 'u3npwbgzec', 'u3rr1dnxix', 'u3wx7d37sd', 'u4aq3m1rsz', 'u4n9ge1ptr', 'u4qpgleyui', 'u52wkilgr9', 'u53qpxydz4', 'u5bzntiwth', 'u5cfnclqtd', 'u5cszszsd5', 'u5gh', 'u5v4cbeuvh', 'u6ubyiehmu', 'u7avwrjyoh', 'u7bxwexoj1', 'u8e6w49hka', 'u8ggea9yql', 'u8gxpuwdze', 'u8nl9tzfrz', 'u8pxwzp35g', 'u8ykzyzjka', 'u9dm3mzcq3', 'u9i9pcqx1o', 'ua6ox1uyfe', 'ua8ougrmtq', 'uab', 'uadrwvritv', 'uaejq5tzhz', 'uandqbd1ed', 'uaofmwh7h3', 'uaps', 'uasf8lsd68', 'uawpwkyn7r', 'uawy96q5bn', 'ub7llnzbmv', 'ubaazywetj', 'ubauxgvoo1', 'ubinapfkkb', 'ubiquitous', 'ubk3cjqs4v', 'ubnr1jhsjp', 'ubpmcwkpkg', 'ubumjytpnj', 'uc1dmbfbwi', 'uc2wfyxufk', 'uc3o4douns', 'uc77gbq0kt', 'uc7ew6fiia', 'ucciso', 'ucewkvwq1a', 'uck26ns50j', 'ucku9kf6lh', 'uco5ap21g2', 'ucqikt85gd', 'ucrania', 'ucrmmfuepq', 'ucsusa', 'ucvmo5rviv', 'uddmnrme22', 'udencatherine', 'udex3jfr49', 'udhaxyeone', 'udj0d7j6nb', 'udliufmrph', 'udnspeak4me', 'udozmpr189', 'udsqbpfvsk', 'udv1ydo1vq', 'ue', 'ue5zddab34', 'ue8bfx96ww', 'uebbpnvulu', 'uebbv1rqoi', 'ueewnajfbb', 'uefvxxm4ph', 'uegq3obse3', 'ueiubnaua7', 'uelsrks3ry', 'ueqm59w5to', 'uf1v8fkpp4', 'uf21dfonoz', 'uf2judi2su', 'uf4ru8tdzn', 'ufa', 'ufajgkaqly', 'ufe3v2jvsg', 'uff9hnxxu1', 'ufiegh0i2l', 'ufjkuv9pws', 'ufmkxnvxrd', 'ufo', 'ufos', 'ufotwitter', 'ufzoxgwxah', 'ugc7oriqqk', 'ugly', 'ugnews24', 'ugpmeftsi8', 'ugutbiqmg0', 'ugxkqbvno5', 'ugyhrlkwqq', 'uh', 'uh6uack7hi', 'uhhhhh', 'uhk3zru1d4', 'uhsalna5wa', 'uhtbt3xfe5', 'uhtypgsnrr', 'ui3lwwoxrh', 'uij5dhgqg0', 'uimoulwgyk', 'uinta', 'uiszwa0g44', 'uix4nubva9', 'uj8nlzkxdw', 'ujbwaoywyo', 'ujeg62sxjo', 'ujgx90aclk', 'ujjfpynvq7', 'ujq8oqh870', 'uk', 'ukepcfr1gs', 'ukr', 'ukra7o3got', 'ukraine', 'ukrainerussianwar', 'ukrainerussiawar', 'ukrainian', 'ul5cmeixjv', 'ul9fzlbrha', 'ul9qrly1cc', 'uldey1thkr', 'ulhpgzid0p', 'uliz41qksd', 'ulj09q9ob6', 'ulsingxw89', 'ultimate', 'ultimately', 'ultramaga', 'ultrapop_', 'ulx9fwakfe', 'ulxdulzpph', 'um', 'um6ccursts', 'umabqlambh', 'umc9yop0fd', 'ume9jdze1l', 'ummmmm', 'ummoozcqgj', 'umngveexx4', 'umweltverschmutzung', 'un1rynwhg0', 'un9j1qxest', 'unabated', 'unable', 'unacceptable', 'unacceptably', 'unaffected', 'unanimously', 'unannounced', 'unanswered', 'unavoidable', 'unaware', 'unbelievable', 'unbik3lhfp', 'unbossed', 'uncanny', 'uncertain', 'uncertainty', 'uncle', 'unclear', 'uncompensated', 'unconscious', 'uncontrolled', 'unconvinced', 'uncounted', 'uncovered', 'undeniable', 'undercarriage', 'undercompensated', 'undergo', 'undergoing', 'undergradwoman', 'underground', 'underhanded', 'underinvestment', 'underlines', 'underlying', 'undermanned', 'undermined', 'underneath', 'underpass', 'underplay', 'underreported', 'underscores', 'undersecstatep', 'understaffed', 'understaffing', 'understand', 'understandable', 'understandably', 'understanding', 'understands', 'understatement', 'understood', 'underway', 'undetermined', 'undid', 'undo', 'undoing', 'undone', 'undoubtedly', 'une', 'uneasy', 'uneducated', 'unelected', 'unequivocal', 'unequivocally', 'uneven', 'unexplained', 'unfair', 'unfairly', 'unfathomable', 'unfit', 'unfold', 'unfolded', 'unfolding', 'unfolds', 'unfollow', 'unfortunate', 'unfortunately', 'unfreakingbelievable', 'unfuck', 'unfv6xf4vi', 'ungathegreat', 'ungoverend', 'ungovernablechi', 'unhealthytruth', 'unhinged', 'unicorn', 'unidentified', 'unidos', 'unified', 'uniformity', 'uniformrabbit', 'unifying', 'unilaterally', 'unintelligent', 'union', 'unionize', 'unionpacific', 'unions', 'unionstrong', 'unique', 'unis', 'unit', 'united', 'united_states', 'unitedstates', 'uniting', 'universe', 'university', 'unkelkennie', 'unknown', 'unkpdco7k6', 'unleash', 'unleashed', 'unless', 'unlike', 'unlikely', 'unlivable', 'unloaded', 'unloading', 'unnecessary', 'unp', 'unpander', 'unpanderers', 'unplanned', 'unprecedented', 'unpredictable', 'unprepared', 'unq0esaewe', 'unqualified', 'unqypoiqsn', 'unravels', 'unreal', 'unrealtap', 'unrelated', 'unreservedly', 'unsafe', 'unsold', 'unsourced', 'unspecified', 'unstable', 'unsure', 'unsurprising', 'untold', 'untrue', 'unuon', 'unusual', 'unusual_whales', 'unusually', 'unveiled', 'unveils', 'unwarranted', 'unwillingness', 'unyfdfw37p', 'unzfhrvcg2', 'unzu72njkd', 'uo2rktvjrk', 'uo4vm1uq6t', 'uoegi6k2rj', 'uoezadxzxf', 'uojdxu4wwx', 'uomot1dsig', 'uopiwtkavh', 'uosbqts9v5', 'uosdgsrqys', 'uosygbqfwo', 'uov2ir7fpl', 'uoxpk9nptw', 'upcoming', 'upcyacogoi', 'update', 'updated', 'updates', 'updating', 'upeixrtgwe', 'upended', 'upending', 'upgm7twgsl', 'upgrade', 'upgraded', 'upgrades', 'upgrading', 'upheaval', 'upi', 'upkeep', 'uploaded', 'uploads', 'upnpx6fssl', 'upper', 'uprise_greg', 'uproar', 'uprooted', 'ups', 'upschittscreek1', 'upset', 'upsetting', 'upside', 'upstatefederlst', 'upstream', 'upt6e0pezt', 'uptick', 'upw9ybsqzk', 'upwardnewshq', 'upwards', 'uqcb3w4wcp', 'uqf4fmqh21', 'uqf8p1rpkh', 'uqjlmhkfle', 'uqpo0vmzmn', 'uqrpz9bcec', 'ur', 'ur4ouunqjl', 'ur712tqzba', 'ur_ninja', 'urb6kfm7jh', 'urbajqyltp', 'urbanist', 'urc9e0zu6m', 'urcommunistdad', 'urge', 'urged', 'urgence', 'urgency', 'urgent', 'urges', 'urging', 'uri_pharmacy', 'url', 'urlawschool', 'urribgzad1', 'urrjk3zfse', 'urrktxxq9z', 'urs5nd8ubb', 'urwqk4dyf4', 'urxkauyypk', 'urziel99', 'urzxyc2wyh', 'us3et94bzh', 'usa', 'usa_anne711', 'usaclimate', 'usafirsttrump', 'usaherald', 'usajaun', 'usanews', 'usapat4djt', 'usapat4dt', 'usar', 'usatoday', 'usatodaydc', 'usburning', 'usclimatecontrol', 'uscongress', 'usdot', 'usdotfra', 'use', 'used', 'useful', 'usefulidiotpod', 'useless', 'usepa', 'users', 'uses', 'usg', 'usgao', 'using', 'usmneknytb', 'usnews', 'usnewstoday', 'uso', 'uspoli', 'uspolitics', 'usqneljwhc', 'usqxfcehn9', 'usrcceqm57', 'usrhqnwux1', 'usual', 'usually', 'uswellness', 'ut2digjcbv', 'ut47uva0zt', 'ut8eiwuifu', 'utah', 'utc', 'utcdohtqik', 'utchohwfwh', 'uterine', 'uterus', 'uthgd7mpmj', 'uthrow2p72', 'utilities', 'utility', 'utilize', 'utm_campaign', 'utm_content', 'utm_medium', 'utm_source', 'utmost', 'utpjdrwrmd', 'utq6destjy', 'utter', 'uttered', 'utterly', 'uty453xg9b', 'uu', 'uuc45slgrt', 'uue6pdgy9k', 'uuhfkreydl', 'uuow28gait', 'uuqa8joonq', 'uuqljeuzp6', 'uusgct7nyh', 'uuwb19pmgf', 'uuxmd34ayp', 'uv4toewja6', 'uv6etqeppe', 'uv6uflrclv', 'uvccdoh4sh', 'uvgtqobdcz', 'uvlv4vdtta', 'uvmhealth', 'uvqlrzpgq2', 'uwaga', 'uwbwxfdsjt', 'uwmxwejko8', 'uwoorxlpdz', 'uwpps0awuo', 'uwrsb41e6k', 'uwxaoicg4m', 'uwytgcn3un', 'uxc4jeaspl', 'uxdssda5wr', 'uxeo1lxjnd', 'uxf4flvthx', 'uxfpog9poj', 'uxlv9lsb8r', 'uxqmfeauhg', 'uxtw5bge9m', 'uy0emosrpu', 'uy4tpnrjum', 'uy930b7h6l', 'uyci3lowun', 'uyjyi0ewz9', 'uyvmmaytwy', 'uz0eoyhbui', 'uz5ktcsns2', 'uzabsmfiu5', 'uzanmuudv8', 'uzd8oyibp6', 'uznhrly0du', 'uzrhxesgid', 'uzsoajcfr6', 'uzulh2citq', 'v0ek1fput1', 'v0vxtfzhr3', 'v126ek8gq5', 'v1n7z', 'v1o3054tf1', 'v1x2f0fmiy', 'v2ag4y8hfa', 'v3f6gyof', 'v3hq5g68gr', 'v3noxbtuoy', 'v41ta4ghzm', 'v431o46gbf', 'v44bktxq90', 'v4a07vxmx5', 'v4d8v0mqfp', 'v4hfdyrbya', 'v4jmvlabvp', 'v4mpirec4t__', 'v4piobeyxd', 'v4ppeck99p', 'v4wvgiok0n', 'v5c7znkb9j', 'v5djqrxbye', 'v5dx8xsdmc', 'v5eojqzqaa', 'v5i67educr', 'v5lwzrxczr', 'v636r3j23x', 'v6czl5qs4d', 'v6rbapusfm', 'v83keacbc9', 'v8bp5zslgd', 'v8bq9y6c3n', 'v8gedyu6vp', 'v8i9uaendu', 'v8isdftzz6', 'v8iu3rae7b', 'v8n4dvybh4', 'v9cyjc683v', 'v9qyqtze8f', 'v_hawtmess1', 'v_helium', 'va', 'va8r11txqw', 'va8xrf96vr', 'vaato5455', 'vabvox', 'vaca', 'vacant', 'vacation', 'vacationing', 'vaccine', 'vaccines', 'vacuum', 'vaep', 'vaesl4ddvs', 'vague', 'vahvhqqa6i', 'valariy020580', 'valdemings', 'valentine', 'valeriecs159', 'valiantnewslive', 'valid', 'valley', 'valuable', 'value', 'values', 'valves', 'vam4wr89dp', 'vampyanji', 'van', 'vanbo2gjcv', 'vance', 'vandergrift', 'vanessa', 'vanguard', 'vanguard_group', 'vanity', 'vanityfair', 'vannyfour', 'vansadventures', 'vantassel', 'vapors', 'varctga8jv', 'varga_3', 'variety', 'various', 'varneyco', 'vast', 'vastbluesea10', 'vastly', 'vav2djorbj', 'vawyz5tbuf', 'vax', 'vaxes', 'vaxx', 'vayqm8siyf', 'vb5p7wz49j', 'vbnmw', 'vbqdogkprx', 'vbwzhy1dxv', 'vc', 'vc65vjfks6', 'vc6vqh9qkg', 'vcequvsmbz', 'vch6slfe0c', 'vcjs1bcbjb', 'vcndygki5t', 'vcprrglbzo', 'vcuurncjn3', 'vcwa9p0hf1', 'vcwc4zpsvf', 'vdaqbni04q', 'vdare', 'vdghejwfyc', 'vdidkvxq5a', 'vdnng430xj', 'vds4sd8qjp', 'vdyy2ynrhh', 've', 've1n49ixeh', 've1rrhkxr1', 'vea23lmqcp', 'vea3zvmjwl', 'vedm9f4lt2', 'vee_sawce', 'vegan', 'vegastarr', 'vegetables', 'vegetation', 'vehicles', 'veiakv3lrt', 'veiled', 'vekssqflrl', 'velez', 'velopky', 'vemsgd8b5f', 'venezuela', 'vent', 'vented', 'venting', 'veou9srsst', 'veqibomzxq', 'veracruz', 'verdantsquare', 'verdict', 'verifiably', 'verified', 'verify', 'verifythis', 'vermaut', 'vermin', 'veroconplatanos', 'veron', 'veronika91654', 'vers', 'verse', 'version', 'versus', 'veryvirology', 'vessel', 'vest', 'vestment', 'vet', 'veteran', 'veterans', 'veteranstoday', 'veto', 'vetsunitedmarch', 'veywi0214m', 'vf9jctr9qj', 'vfj5hx8xkw', 'vfnvoekgtb', 'vfo5laxzt4', 'vfpdry4cms', 'vfsfpngpky', 'vfuxm3zfbm', 'vfvgyeoezc', 'vg3wixxvqb', 'vg57kjljjk', 'vgaxltvcun', 'vgcddhxbbr', 'vgpupf03id', 'vgq2dv5aqt', 'vgsryn9rae', 'vgw91sadyx', 'vgyrwvgu2j', 'vgzeoy3p8u', 'vhilmvkzgf', 'vhiruqe23n', 'vhisjr6rh9', 'vhm9ckaufr', 'vhvpuvpwyd', 'vhxpmxclqg', 'vi08o8c6hz', 'vi3yyvpjic', 'vi9jatcryd', 'vibecheckpod', 'vice', 'vicinity', 'vickery', 'vickie627', 'vicpekzafv', 'victim', 'victimized', 'victims', 'victoriaamwood', 'victoriraew', 'victornelson', 'victorshi2020', 'video', 'videos', 'vidéosurveillance', 'vieeetcpez', 'view', 'viewed', 'viewers', 'viewership', 'viewpoints', 'views', 'vigilant', 'vigilantfox', 'vihnouiycs', 'vihstr8dmw', 'vikcmjuvck', 'vile', 'vilifying', 'village', 'villagers', 'villain', 'vimgry1pjj', 'vimp3s2vgb', 'vincecoglianese', 'vincedaomedia', 'vincentcrypt46', 'vinci', 'vingt', 'vingtaine', 'vinilo', 'vinoveritas1984', 'vinyl', 'vinylchloride', 'violates', 'violating', 'violation', 'violations', 'violence', 'violent', 'viq4qezfdi', 'viqgnnegvh', 'viral', 'virginia', 'virginiahealth', 'virginiahealthcare', 'virology', 'virtual', 'virtually', 'virtue', 'virtueemoji', 'visibility', 'visibly', 'visionsurreal', 'visit', 'visitbritain', 'visited', 'visiting', 'visitors', 'visits', 'vist', 'visual', 'visualization', 'vital', 'vitally', 'vitusspehar', 'viueiwdu9y', 'vivekgramaswamy', 'vivificguy', 'vixenvalentino', 'vjgsru16rq', 'vjo3aqc72s', 'vjrbdfl2gl', 'vjrqfykz8y', 'vjtftloarr', 'vjwbrdlnsu', 'vjzek7yndn', 'vk1rzwogcr', 'vkdipowtwi', 'vke3c33cnb', 'vkfhjl30i9', 'vkgktw2uhd', 'vkitbkbk2c', 'vkneib', 'vkufg87uyk', 'vkymgt2c3p', 'vkz0xxaa5d', 'vl5j3ceoxc', 'vlaenfnobz', 'vlaku', 'vlal2ltwtd', 'vlehdgziiq', 'vlhqvtcevk', 'vlnyucb6yw', 'vm5sxyzkm6', 'vmbipdzccz', 'vmbtwp2xs7', 'vmcgndgfo3', 'vmexbru3wq', 'vmguvandoa', 'vmih7y8r6r', 'vmkerne1', 'vmo283eizr', 'vmryyyv6cd', 'vmvs05ncff', 'vmyqya5qq8', 'vni1xiwzyg', 'vnkxcsuw9z', 'vnor0q3lyo', 'vnoy5zkf8y', 'vnuvsvh5gc', 'vo', 'vo5weaiklv', 'voa60', 'voa60news', 'vob4bcpqze', 'vocal', 'vodxim1ld9', 'vogel', 'voice', 'voices', 'voicing', 'void', 'voinovichschool', 'voiufpkx2t', 'volaprvr6h', 'volatile', 'volexqqn2q', 'volkswagen', 'volodymyr', 'volume', 'voluntarily', 'voluntary', 'volunteermg', 'vomiting', 'von', 'voodoo_pork', 'vorurzip1h', 'vote', 'vote4annmarie', 'voteapl', 'votebergen', 'voteblue', 'voted', 'votelizkeating', 'voter', 'voters', 'votes', 'votevets', 'voting', 'voucher', 'vowed', 'vowing', 'vowj01pvhg', 'vows', 'voxdotcom', 'voyr1avhha', 'vp', 'vp9yiwtdh3', 'vphkm5pcgs', 'vpi7vpyf2m', 'vpig2xgqwp', 'vpkkc1xryw', 'vpp2021', 'vpqilkm1tm', 'vps4synlyr', 'vpt1abz1mt', 'vpted7yohr', 'vpvjtohzzk', 'vpz7qitlmj', 'vq950pxagj', 'vqg1xmvkj1', 'vqh0jqkhfb', 'vqv4rumi7k', 'vqw1p0u3eg', 'vqxsselprz', 'vqzyhdanxv', 'vr679p9bbn', 'vrbalaltrcation', 'vrf7ebvrs8', 'vrfnauly00', 'vrlwebnp7j', 'vryaolrezj', 'vs', 'vs1x8hsvw2', 'vs4gheicpv', 'vs4z8vgb00', 'vs6wsmzky0', 'vsbbaxgvza', 'vscd1dk1ii', 'vse9amhayk', 'vsjdyk9y1o', 'vsoiwyamwn', 'vstddqobxs', 'vt', 'vt6bs13hhz', 'vtawo1xxle', 'vtfpbyrbej', 'vthsel47qx', 'vtlagu8s7u', 'vtodhc7tc5', 'vtpqbaklcg', 'vtss9h3idn', 'vttbqw9s3xjpoow', 'vtwxvhoz1r', 'vtzvumgjwy', 'vu2grgorr0', 'vu3lgew9uv', 'vu3sti2mg5', 'vues', 'vujfit5lje', 'vukzciudwu', 'vulnerable', 'vusogj3ic2', 'vuvstonrga', 'vuxcrsp2dc', 'vv9zn3hkgf', 'vvbzl01nve', 'vvpqlm5evc', 'vvrlkjbjo8', 'vvsqscytv9', 'vvvk1u0cf6', 'vvwofeyrod', 'vw0gmtiacr', 'vw5qr8a3vy', 'vweyewmc6p', 'vwfkbjabvw', 'vwjwc200we', 'vwumt0x9dj', 'vwxaumafpy', 'vwyeamp1wb', 'vx3qt9aw0a', 'vx953d98mc', 'vxa8ljxdxi', 'vxbfaadlec', 'vxf3danz6l', 'vxijlarmae', 'vxnr9k5frs', 'vxoq8rpvvl', 'vxsltfsw9b', 'vy276qlasy', 'vyahizu6mt', 'vybpdraiia', 'vyjdtek64h', 'vynvzuhrhj', 'vyrvvv9egz', 'vyt36qo2a1', 'vyvdgwbrqd', 'vz1h1jbbvn', 'vzgjl7zx77', 'vzh9y6jxwb', 'vzhqt3mhuo', 'vzispxagey', 'vzlr1kps44', 'vznidl2ind', 'vzsehsksh5', 'vzuzuvp56y', 'vêtements', 'w0gkhuxpjc', 'w0hmk9s6yx', 'w0ng_again', 'w0rr2jvyd1', 'w0vjctpvsv', 'w17dgyalky', 'w17y1l5vco', 'w1_aaron', 'w1gwyj3cdl', 'w1ibnuwbwh', 'w1qw9j9bmr', 'w1t1gflfxe', 'w1tmyoebcw', 'w22mclecws', 'w275iuyxuh', 'w2alakecgg', 'w2cdda64wz', 'w2hiltcqy5', 'w2nf4qoszu', 'w2ro0sdqdm', 'w2z291brgg', 'w34a3ovteq', 'w3by7n4cyv', 'w3vyfjkbfk', 'w4iupmrbye', 'w4o1w5u558', 'w4pxwvrwbl', 'w58vcjdxbj', 'w5g6zopgcv', 'w5lxpbzim3', 'w5nxgitpg6', 'w6ahoihvq9', 'w6eor8ffwf', 'w6kkjc63od', 'w6oyfpeybs', 'w6p10oo9fd', 'w6wcni7eth', 'w77cyegzlx', 'w7hlm4yiqd', 'w7ozzixqgs', 'w8602sutsh', 'w8v0gwyuh3', 'w8vm2zmpai', 'w9all20mpj', 'w9jlepa7iv', 'w9mwgentns', 'w_terrence', 'wa', 'wabveyhdmw', 'wackiejalsh', 'wacvapaiej', 'waddya', 'wade', 'wage', 'wager', 'wagon', 'wagonerachel', 'wagons', 'waist', 'wait', 'waited', 'waiter', 'waiting', 'waitingonbiden', 'waive', 'waiver', 'waivers', 'wajahatali', 'wajhedkbje', 'wake', 'wakeupamerica', 'wakeupeastpalestine', 'wakeupnj', 'waldorickwilson', 'wali', 'walk', 'walked', 'walker', 'walking', 'wall', 'wall2wall', 'wallace', 'walleyeguy44', 'walls', 'wallstreetsilv', 'walsham', 'walshfreedom', 'walterblake1', 'wand', 'wandering', 'wanderinglord', 'wanes', 'wang_seaver', 'wangotango406', 'wanna', 'wannabe', 'want', 'wanted', 'wanting', 'wanton', 'wants', 'wapo', 'war', 'warcriminalelmo', 'warddpatrick', 'warehouse', 'warehouseworker', 'warfare', 'warglwsco2', 'warlockyone', 'warm', 'warmed', 'warming', 'warn', 'warned', 'warning', 'warnings', 'warns', 'warrants', 'warren', 'warriors_mom', 'warroom', 'wars', 'wartime', 'wary', 'wasgqjoxmi', 'washed', 'washing', 'washington', 'washingtonpost', 'washtimes', 'wasn', 'wasnt', 'waste', 'wasteful', 'wastewater', 'wasting', 'watch', 'watchchad', 'watchdog', 'watchdog_sepa', 'watched', 'watching', 'watchlive', 'water', 'waterdieren', 'watered', 'waterford', 'watergate', 'waterkeeper', 'waters', 'watershed', 'watersheds', 'waterwarriorone', 'waterway', 'waterways', 'watery', 'wattdefook', 'watts', 'wattzzd', 'wavy_news', 'wavycryptoguy', 'wawwqtvy1x', 'wax', 'way', 'wayne', 'wayne_o37922', 'waynegregory42', 'ways', 'wayside', 'waytooearly', 'wb6f7xa4pk', 'wb8bpwtczd', 'wben', 'wbfn2cj0yk', 'wbimcmj8z9', 'wbns', 'wbofdhwejc', 'wbslmokgkk', 'wbzryv1coa', 'wc9j9z8chw', 'wcaiwekznw', 'wcenem4gsf', 'wchs8fox11', 'wchxiijagk', 'wck8ck8yo4', 'wcmlbl4gti', 'wcpotter', 'wcrvnujikc', 'wcsi', 'wcswvesft3', 'wcwumb5aru', 'wcys8yws1g', 'wd5xqr0tvu', 'wdbj7', 'wdeullohiy', 'wdf5e7j2lx', 'wdf67v3hiz', 'wdld5dz6qe', 'wdqs2zkixt', 'wdt0d1v7ga', 'wdt8zopmhd', 'wdtn', 'wdymvideos', 'wdzeddnxhp', 'weak', 'weaken', 'weakened', 'weakening', 'weakens', 'weaknesses', 'wealth', 'wealthbeforehealth', 'wealthmanagement', 'wealthy', 'weapon', 'weaponize', 'weaponized', 'weaponizes', 'weaponry', 'weapons', 'wear', 'wearedrilled', 'wearing', 'wears', 'weary', 'weasel', 'weasels', 'weather', 'web', 'webpage', 'websi', 'website', 'websuggestion', 'weciv01', 'wecpklkuyo', 'wed', 'wedding', 'wednesday', 'week', 'weekdays', 'weekend', 'weekends', 'weekly', 'weeklywrapup', 'weeks', 'wef', 'weigh', 'weighed', 'weight', 'weighty', 'weigseaf0b', 'weimmom', 'weird', 'weirder', 'weirdly', 'weirdo', 'welcome', 'welcomed', 'welcoming', 'welds', 'welfare', 'wellness', 'wells', 'welp', 'welwnlk2nm', 'wendywi89642313', 'wenonahhauter', 'went', 'weon8oldpm', 'weren', 'werewolf_doctor', 'wesaconfluence', 'wesh', 'wesleyhunttx', 'west', 'westcentralohio', 'western', 'westjournalism', 'westland', 'westlooptom', 'westseneca', 'wethepeople', 'wewintheylose', 'wews', 'wewuaq8ezz', 'wfaa', 'wfalv1dcbe', 'wffg0u9yij', 'wfh', 'wfhcigdugr', 'wfjewkfn9z', 'wfkivnzz1a', 'wfmy', 'wfpknzm4ep', 'wfplnews', 'wfposr3muk', 'wfqs1ishwp', 'wfvqil14g2', 'wfzzbi1sen', 'wg4hgqiuzt', 'wg7fprc62q', 'wg9b5tn5pc', 'wgi44wwzkp', 'wgnnews', 'wgo', 'wgofvu9cuv', 'wgq2op1j9q', 'wgrz', 'wgx42f7ovm', 'wh', 'wh6isewqjv', 'wh9vmtmqtg', 'wha', 'whack', 'whale', 'whalenmona', 'whalesorg', 'whartonknows', 'whatdidyedorong', 'whatifisaidit', 'whatilearnedtoday', 'whats', 'whatsapp0032499357495', 'whatsgoingon', 'whatsoever', 'whatsrightshow', 'whattheffacts', 'whay', 'whcos', 'whd4qrythi', 'whe', 'wheel', 'wheels', 'whelton', 'whenweallvote', 'wher', 'wheresfema', 'whew_lord', 'whic', 'whil', 'whilst', 'whine', 'whining', 'whio', 'whioradio', 'whiotv', 'whip', 'whisper', 'whispers', 'whistle', 'whistleblower', 'whistleblowers', 'whistles', 'white', 'white_janissary', 'whitehouse', 'whiteness', 'whitenoise', 'whitenoisemovie', 'whitewonderly', 'whiting', 'whitining', 'who_shot_jgr', 'whoa', 'whodisdontcare', 'whoopi', 'whoopigoldberg', 'whoown', 'whopping', 'whorfd5pii', 'whosaidwhatann', 'whowatwherewolf', 'whowpwfm43', 'whpaafytkb', 'whumprtxhl', 'why5wcithu', 'wi', 'wi07ijxuol', 'wibcrnhdkx', 'wickliffe', 'wide', 'wideawake885', 'widely', 'wider', 'widespread', 'widsdceazz', 'wieder', 'wife', 'wig5h6ur9p', 'wil', 'wild', 'wildlife', 'wildly', 'wildpalmsltd', 'wile', 'wiljjokgrt', 'wilkamaxx', 'wilkinsrobertc', 'wilkowmajority', 'will_bunch', 'willful', 'willfully', 'willhild', 'william16723077', 'william_willia2', 'williambasham11', 'williamjmccart7', 'williamlegate', 'williamsburg', 'williamsburgohio', 'williegeist', 'willing', 'willingl', 'willingly', 'willingness', 'willow', 'willtullett', 'willwakeu', 'willy', 'wilmington', 'wilson', 'wily_kaioty', 'wimmerannemarie', 'win', 'wind', 'windelljason1', 'windfalls', 'windflowerlia', 'windmillchemo', 'window', 'winds', 'windsorvillhelm', 'windy_wyoming_', 'wing', 'wingers', 'wings', 'wink', 'winning', 'winny_powers', 'wins', 'winslow_nj', 'winter', 'wipe', 'wiped', 'wipodp25jf', 'wiprbsjl64', 'wiqr2vlzlg', 'wire', 'wired', 'wisconsin', 'wise', 'wisejames', 'wish', 'wishfulldreamz', 'wishyouwerehere', 'wit4nevyuu', 'witches', 'witchestruth', 'withdrawn', 'withdrew', 'withering', 'witness', 'witnessed', 'witnesses', 'witnessing', 'witsken', 'wixjtuo8yq', 'wiyvvocbif', 'wizard', 'więc', 'wj0izyyvve', 'wjakerfbvk', 'wjf7trh8p5', 'wjnhl6sb43', 'wjpunv2hyk', 'wjpvlptqak', 'wjqkukao9e', 'wjvwxwunr1', 'wjz', 'wjzri1ncg4', 'wk3ywucyfw', 'wkaihgtnyo', 'wkbn', 'wkc0nmvyun', 'wkcrwtzjwz', 'wkiloski', 'wkkccduhac', 'wkmzbgtqxs', 'wkok1070', 'wkrc', 'wks', 'wksu', 'wksxwhsdth', 'wktlcaxl4e', 'wktrksl3hi', 'wkumx34vpn', 'wkuuvzjpiz', 'wkyc', 'wl0whbo9we', 'wllih14jb1', 'wlpxuwuo5u', 'wlqaglxtmq', 'wltx', 'wlwt', 'wlxxsg1is8', 'wlzf9bmr0l', 'wm3xcbfffj', 'wm49291771', 'wmcactionnews5', 'wme8yqspnq', 'wmj8viooyc', 'wmk2jkhzqk', 'wmpf7zm0y3', 'wmt8dinv4m', 'wmyai3b1zz', 'wn4q5il0he', 'wncqwvhow1', 'wndinuvcf4', 'wndu', 'wnhud5nqqw', 'wnt', 'wnxd9ywxlc', 'woadtxced4', 'wobbly', 'wocdgzgk5t', 'woe2xw1eu8', 'woes', 'wofeiuf0qs', 'wojcik', 'wojxcqzomi', 'woke', 'wokeness', 'wokes', 'wokesocieties', 'wokies', 'wolfe', 'woman', 'wombatcat1', 'women', 'womeninbusiness', 'won', 'wonder', 'wondered', 'wonderful', 'wondering', 'wonders', 'wont', 'woobietoosday', 'woobietuesday', 'wood', 'woodchucking', 'woodcutterbrian', 'wooded', 'woodhouseb', 'woodland', 'woodrow', 'woods', 'woohooo', 'wooke_jack', 'woopsie', 'woopsy', 'wopizza', 'worcteaparty', 'word', 'worded', 'words', 'work', 'workdaymagazine', 'worked', 'workemail17', 'worker', 'workers', 'workforce', 'workforces', 'working', 'workingfamilies', 'workplace', 'works', 'world', 'worldbreakingn9', 'worldfullofjunk', 'worldnews', 'worldnewsinvids', 'worldnewstonight', 'worlds', 'worldwide', 'worls', 'worm_a_toe', 'worms', 'worn', 'worried', 'worries', 'worry', 'worrying', 'worse', 'worsen', 'worsened', 'worsening', 'worst', 'worth', 'worthless', 'worthmeaningful', 'worthwhile', 'worthy', 'wosesjvwcg', 'wosmccjxdz', 'wosunews', 'wot', 'wotuo1ntem', 'wouldn', 'wouldnt', 'wow', 'wowk13news', 'wowt6news', 'wowterrifying', 'wp7q1a9e7a', 'wpd2s29wgv', 'wpdldjyfvh', 'wpgt4rfez3', 'wphaaavfst', 'wphydrjdf1', 'wpksfml3qd', 'wplmp6hc3v', 'wpo51al0iu', 'wpost', 'wpowq6shpx', 'wppqoo9gfr', 'wpqssopozg', 'wpri12', 'wptf', 'wpxi', 'wpxigordon', 'wpzxaltuwj', 'wq0lv2uaok', 'wq58bmiznb', 'wq8luje9kk', 'wqd6xw0s6i', 'wqfxkfegmb', 'wqhq6vp4ty', 'wqksimmgpk', 'wqooyapgjg', 'wqrznadzbr', 'wqtoolzjfl', 'wr', 'wramckay', 'wrap', 'wrapped', 'wraps', 'wrcg1hyihd', 'wrcj44dpsd', 'wrcx8ao9ch', 'wrd1cqvrmh', 'wreak', 'wreaking', 'wreck', 'wreckage', 'wrecked', 'wrecking', 'wrecks', 'wrenching', 'wri', 'wright', 'wrist', 'write', 'writers', 'writes', 'writing', 'written', 'wrjp', 'wrjr6iaiuo', 'wrkrsstrikeback', 'wrong', 'wrongly', 'wrongs', 'wrote', 'wrq9hxuajv', 'wrtv', 'wrypme3vjt', 'wsaznews', 'wsbtv', 'wsc9bcjqqf', 'wschodniej', 'wsgsdqewrf', 'wshawnm', 'wsj', 'wsjgraphics', 'wsle6wxpxm', 'wsmartin218', 'wsmvcarley', 'wsoctv', 'wsqfbpg9s5', 'wsqur7ghny', 'wswj92m5ew', 'wsws', 'wsws_updates', 'wsyjyktbvt', 'wsyx', 'wsyx6', 'wt33vpjgnr', 'wtae', 'wtaj', 'wtajnews', 'wtbsktpv8p', 'wtccmidsouth', 'wte1oogozv', 'wtf', 'wtgkrt9kcc', 'wth', 'wthrcom', 'wti', 'wtnjahw7zk', 'wtnkmnq0vs', 'wtoc11', 'wtop', 'wtopelius', 'wtov9', 'wtpblue', 'wtrf7news', 'wtunzecius', 'wtwtqk1vd7', 'wtycvnhxqr', 'wtyppod', 'wu7jekhmqp', 'wubylmfjiz', 'wuh5aeovpv', 'wuhan', 'wuhlejpvlw', 'wuixx4vydn', 'wujamplnht', 'wuk7mamgmm', 'wurst', 'wusfyvlmpe', 'wutangkids', 'wuvketnqz8', 'wuzysgzwtw', 'wv', 'wv1rhnf8qb', 'wv2cdd2xqc', 'wv48gyxlko', 'wv77ekcczu', 'wvi1azbfpf', 'wvjntkiu2v', 'wvjoc38f85', 'wvl5v8enkz', 'wvtm', 'wvuxth49on', 'wvyiu7mkze', 'wvzrmp4pn1', 'ww1', 'ww2', 'ww3z7zdugl', 'wwfrbeffzq', 'wwg1wga', 'wwgbkyjlob', 'wwhprdlc6k', 'wwhunkeb3y', 'wwi', 'wwii', 'wwj950', 'wwjprkptvi', 'wwjtraffic', 'wwkhhtc5zv', 'wwltv', 'wwmweverni', 'wwo0kgmssu', 'wwqxb3wup1', 'wws3uipwj7', 'www', 'wx1coarztn', 'wx4seunium', 'wxaynnf0yd', 'wxe2v9wz9h', 'wxix', 'wxku3e7ikk', 'wxlvtg1osv', 'wxmfnqfiqt', 'wxp3s9xdtu', 'wxreppert', 'wxtd2zyufb', 'wxyzdetroit', 'wy1vicrgpd', 'wy2imeuzdq', 'wy2peov7ki', 'wycq2u3lzh', 'wyd9kosjnh', 'wye1v8brpm', 'wyfkwdyrda', 'wyk4yj6pfb', 'wykoleił', 'wykolejony', 'wythjadas7', 'wytxxezage', 'wyv8qehgjf', 'wz2amqdjgp', 'wz3xouzogt', 'wz9y46enmg', 'wzb8dnldnm', 'wzbl9lzscp', 'wzerxksjgx', 'wzke26f4wb', 'wzyngiykyx', 'x0fyvwfswi', 'x0hiahci0t', 'x0kifqxgss', 'x13azsi8hv', 'x13f0pnm6e', 'x13yhopixi', 'x1ari4irru', 'x1pbr8ynod', 'x1qg0otcyb', 'x1rmqxzwm7', 'x1vcpej6ia', 'x1xp6ux4m5', 'x1yyzx5f64', 'x2', 'x2bsd0c84r', 'x2wx11sacs', 'x3', 'x31kon97ee', 'x3bpri5grz', 'x3igihmake', 'x3jty0l2us', 'x3ju708g1d', 'x3malp6v8e', 'x3uyhoyqjf', 'x3yfstzg15', 'x4avyldikq', 'x4sevgtsxa', 'x4twiskzhq', 'x5', 'x550o7dwlh', 'x5bgmy12ef', 'x5dndw0eet', 'x5eqooyrbr', 'x5hzfjtmke', 'x5ikr3r1oz', 'x5jitvinme', 'x5wdado0rx', 'x6fy43suug', 'x6ho2yijhf', 'x6kr8fjggl', 'x6s2nwm3qq', 'x6wbjuwsdc', 'x6xzuebycs', 'x7bsqgygh8', 'x7bwltzxxs', 'x7omz0kdvg', 'x80v1ftlc4', 'x8kcxm304n', 'x8ngc60hrs', 'x8wo8ibywx', 'x8y2heuxsf', 'x93rk4mhgm', 'x9nftb9ydz', 'x9nk1ph21a', 'x9u3mhvq45', 'xa3wqmv7oe', 'xaewcopghm', 'xagsxlxwuw', 'xanpinha', 'xaozv38uvn', 'xaruayjx86', 'xaxo5hpcuw', 'xayar2atzy', 'xb8utsup7v', 'xbaqftz21x', 'xbfryj4v5r', 'xblwkl4jfr', 'xbr86beepf', 'xbrgii4mru', 'xbvjiy8xqz', 'xbvrfmuqix', 'xcbtlhwxbw', 'xceeoseuf7', 'xcmuuw8jms', 'xcni3iaih3', 'xcwnhlr4lw', 'xd2ywgigje', 'xd8eb7aaul', 'xd8xsccynf', 'xditynsdi8', 'xdjxgdfcvk', 'xdmlhikd0y', 'xdmwwzbbnb', 'xdsj7lpvsq', 'xdszdc54c7', 'xdy7b6cgr9', 'xe45vbfuq0', 'xeg7fx2ewv', 'xegwbpso0u', 'xekknvrwv4', 'xelsq71sns', 'xep7mzpvra', 'xeujoqfuzp', 'xeumcnih2k', 'xexoksgiws', 'xezef0hkid', 'xf69e1calt', 'xf95szn0ja', 'xfefupiatp', 'xfk0vykutr', 'xfljhwq4kd', 'xfvglbotkq', 'xfzaont0r8', 'xgcgzjejfq', 'xgkbqcwu8p', 'xgkpuplofn', 'xgumyksfvl', 'xgzae0feei', 'xh6pb5zkbp', 'xhaziyhryo', 'xhjrv2ck12', 'xhkrhhhgjq', 'xhnorthamerica', 'xhoi47wre4', 'xhrmxw4mtu', 'xhxgbefwsk', 'xhyclewsaj', 'xi', 'xi2wgtpwss', 'xiailrmh8n', 'xians', 'ximyvqgaho', 'xin97558681', 'xing', 'xiosydxjq4', 'xipwxnnp8j', 'xiq38fx57i', 'xitohol0bo', 'xix1d67icl', 'xj0du22c3g', 'xj264hixkc', 'xj7f6jateo', 'xj8fpukbcx', 'xj8mvww7ro', 'xjhjf51qw6', 'xjkxinp4ka', 'xjrqdzwnoo', 'xjs9yfiocl', 'xjsmtcihpt', 'xjy7egdto6', 'xjzt0zmzjk', 'xk5igdakyq', 'xk6', 'xk9lldu1z8', 'xkaa4nw3lx', 'xkcszwrexr', 'xkd4wa3ael', 'xkhqjapben', 'xko20i9jci', 'xktyoflff8', 'xkzggpfc3r', 'xlluwvvs7g', 'xlm3ee9lcf', 'xlnit1pa1l', 'xm5xursvxg', 'xma5m6flxm', 'xmbq4qyhwl', 'xml6waio2j', 'xmlunoi8sl', 'xms16fdhoo', 'xmsbtit8pp', 'xmsnlhfh14', 'xmy5nxnkga', 'xmzqfcpqyh', 'xnbxdfo8on', 'xnf6lplurz', 'xng2suaux4', 'xnnhlkdxmg', 'xnqiiqwoyv', 'xnsfqleiqp', 'xnsy4b8hbo', 'xnyveqn3mk', 'xo5zc71s11', 'xo75jszu0u', 'xoaqcr1vkk', 'xoedkmfzaf', 'xoilyda7s5', 'xonrfr4nro', 'xoph4rcdf1', 'xoq6acuelm', 'xoqdhzoxyh', 'xoqdhzp5of', 'xossmtbyp8', 'xoyplxrnkf', 'xp2ctsiubr', 'xpayzx7m6z', 'xpds1118', 'xpe6clsdue', 'xpgbfhclxf', 'xphglydnfl', 'xplyahhyav', 'xpmio6ihyq', 'xpolajzvcd', 'xpq74jyubk', 'xpvsspbqia', 'xpwfrzffib', 'xpymlcjvrc', 'xpz9f6asqd', 'xq8rme97nl', 'xqdrahvxt7', 'xqe9ko7kwb', 'xqfolhkhvw', 'xqmij76trk', 'xqpdh9ua67', 'xqt5idwns0', 'xquw0ooxmm', 'xqw8pvoa7v', 'xr1ui5weqe', 'xr2ysooqmd', 'xr7lsung9x', 'xrajtgkgdo', 'xreyvjontd', 'xrj1v1xqmn', 'xrkbggvddy', 'xrmwwctmul', 'xrn0wohytu', 'xrnkvuzm3l', 'xrtlihlco4', 'xru8zp0d2e', 'xsdodojuob', 'xsdoky1ogi', 'xsp2pwoxfa', 'xsp3abqsii', 'xtbsovclws', 'xtjnb8ammc', 'xtjxrny2vj', 'xtqhxps4yw', 'xtreo0yrd1', 'xttjv2chas', 'xttz7pwdno', 'xtuq3rll9f', 'xu3d35bbtx', 'xuaavx4t4g', 'xub8saucfp', 'xukxbpt2bh', 'xuu2homurk', 'xvctevsq5d', 'xvd7av3zzp', 'xvg7tsepxz', 'xvli3mywbg', 'xvsvhbjlgt', 'xvze8kyfoj', 'xw3el2ceaq', 'xweeqlpoi1', 'xwimfj47rn', 'xwlagibyrg', 'xwlrxgz1rq', 'xwp2mekvrt', 'xwtemdn9nj', 'xwtqllb5hm', 'xwzj5n33iv', 'xx17965797n', 'xxesbk5yue', 'xxhy9jawcq', 'xxis478tfo', 'xxiv1pyja1', 'xxmvxfelr7', 'xxo8ffiv61', 'xxx', 'xxxwzxyvwn', 'xylvw9npov', 'xymjx2hlhg', 'xyoec96pbm', 'xyt68gchwy', 'xyuquawznd', 'xz04qkiyob', 'xzi9zquq0h', 'xzibki9smf', 'xzjpdoxaui', 'xzkkwqgsxa', 'xznrdx4ll8', 'xzoygdahbp', 'xzqiy7pr8x', 'xzswxk3i0g', 'xztw5hafmu', 'xzuge3kus2', 'xzy8ujymne', 'xzyr8tbigu', 'y0phris9sp', 'y0potmaqom', 'y19vh1c88b', 'y2dzteou0s', 'y2n8i0badw', 'y2vkgisnd4', 'y2ymlfnnyc', 'y2z2neapor', 'y31m860spl', 'y3kia06ro8', 'y3y17waimu', 'y3ygwhgcbj', 'y42zuxslp3', 'y4kwijlryo', 'y4rzpam25y', 'y4xf1yikql', 'y57vc9tnaz', 'y5ig3wpxyd', 'y5nsvvyd0w', 'y5oapzxwt2', 'y5pnpd3vwc', 'y75rputek5', 'y7ax7aol7g', 'y7cmrbjyx0', 'y7k0wezp9x', 'y86ta4rlqi', 'y8cu6q6jcv', 'y8dwcury5j', 'y8wpgwz1h6', 'y9fll9ucff', 'ya', 'ya8jsvnxuv', 'ya8wk0pdqr', 'yaboytroy27', 'yaga', 'yagductzxx', 'yahoo', 'yahoofinance', 'yahoolife', 'yahoonews', 'yakdy5gxqq', 'yalf06usj6', 'yaneustage', 'yank2usqew', 'yapping', 'yaqotsf6gg', 'yard', 'yards', 'yardym0ah9', 'yawl', 'yawn', 'yay', 'yaystack', 'yb6sijqhx0', 'ybcnwjrwvr', 'ybfmqqriht', 'ybgzustnn3', 'ybh0whgrp9', 'ybi7ncsiry', 'ybiuoqkntk', 'ybkbliz0f9', 'ybraqmrcfd', 'ybumb2gdcw', 'yburpq5pjk', 'ybuwkmhlhl', 'ybvn6hpqeo', 'ybwzcfwlzd', 'ybzvfk2yns', 'yc2p8hnzah', 'ycd2kxsd0d', 'ycdcuxhyzk', 'ycjzpp5n7s', 'ycom', 'ycre2ygdz2', 'ycy7whqf8l', 'yd0aqxfcbu', 'yd6iixnxzd', 'yd837r9lim', 'ydanasmithdutra', 'ydhk3kjcqk', 'ydnkhb8vqo', 'ydoaps29ib', 'ydsa', 'ydsagt', 'ydtsbp6oms', 'ydw3zg2bkr', 'ydxdfbpfec', 'ydxmlw2ok9', 'ydytu85cat', 'ydz7ozodro', 'ye0dng2ok8', 'ye8ps047um', 'yea', 'yeah', 'year', 'years', 'yedupu1ohe', 'yelled', 'yellen', 'yelling', 'yellow', 'yep', 'yepzdlhw5i', 'yes', 'yesitsm97576245', 'yesk4x8wsp', 'yesterday', 'yetiglass25', 'yfbgzxkyxd', 'yfbovg1xvo', 'yfebmh7qzi', 'yfpvaiztbn', 'yfumtocped', 'yfuwxsgxd3', 'yfuyctytck', 'yfwacjw4yk', 'yg4gnrrp8r', 'ygdhtdgo4a', 'ygdyqnedub', 'ygewnsaicv', 'yggoyj9kme', 'ygme0dgjka', 'ygmtxam7sh', 'ygvnllwwax', 'yhcxfkssts', 'yhfvi0wkx1', 'yhkpsfwxag', 'yhrlmbin9a', 'yhutphcrk8', 'yhwk0vkshx', 'yhx0zzpssz', 'yhxjk6lep2', 'yhzgoiwiap', 'yi2lml2ea9', 'yi2wv3zvem', 'yi7ck7rtvn', 'yibrksfeup', 'yidewfw93n', 'yiidnjiwgj', 'yikes', 'yin5jtdphm', 'yitgordon', 'yizdmd1evd', 'yizkdmwsiw', 'yj6fe8t551', 'yj753lhpqq', 'yjdqxfogue', 'yjfmm0tmp4', 'yjhgldnxij', 'yjhq4jihlr', 'yjmqfqd40r', 'ykhmydwioi', 'ykjodwqifu', 'ykm3sytgyx', 'ykm6eftjju', 'ykyv8sbmyu', 'yldcf5qnf8', 'ylnvp3ntks', 'ylq5ggccm6', 'ylrzalkmpp', 'ylz3vafyun', 'ymep5f4hva', 'ymujcuyyri', 'ymw75f4oij', 'ymxlrbdgab', 'ymztmzjare', 'yn0dct1i2o', 'yncky56xjl', 'yndh4d7fid', 'ynr2si0z8m', 'ynr4onjztb', 'ynwxx6y4ej', 'ynxoaad9jx', 'yo', 'yo2fzuonul', 'yo3h8vvb06', 'yo6oqplaeu', 'yo8lfziyur', 'yo8sq7szqo', 'yoaxze6alq', 'yoeduxud2y', 'yogachampagne', 'yogurt', 'yohiobaseball', 'yohv77hwbm', 'yoi6w0r8kz', 'yolalindayola', 'yoooo', 'yoqsgujfvx', 'york', 'yost', 'yosyn3noie', 'youaretheproblem', 'young', 'youngest', 'youngstown', 'yourcallradio', 'yourcalvinist', 'youre', 'youredailynews', 'yourmomswatchin', 'yournewsnet', 'youth', 'youtu', 'youtube', 'youtubeより', 'yoxo02zuzw', 'yp3jpz3pwy', 'ypjl0dpknc', 'ypldvm70fu', 'ypqx3ee8sa', 'ypu', 'ypxrcm4vnt', 'yq3uuoqqno', 'yq901gt0dy', 'yqkrgr08jv', 'yqkrk6azmt', 'yqp6stbpfc', 'yqthuoalce', 'yqwxfllkpw', 'yqxdgjzjyb', 'yr', 'yr6k4jlfon', 'yrain', 'yrdvredlaq', 'yrin88qahs', 'yrqbnzncbk', 'yrs', 'yrtgopjyzv', 'yruwhining', 'yrwdxmeoqd', 'yryh79l5f6', 'yrzfw2oqmo', 'ys2qpnljwi', 'ys84gh7pzr', 'ysfj9fljqr', 'yshmgafrxg', 'yshotismfn', 'ysixf1ae4i', 'ysl2su9ifu', 'ysortxqa3w', 'ysrb6xm5eb', 'ysrltzfyuf', 'ysv1tuydgn', 'ysw7tyor7l', 'ysx3bupypy', 'yszdlo3v9j', 'yszqyid31d', 'yszsq9yhjp', 'yt', 'ytbrayzs1v', 'ytcitnzswg', 'ytev2zsfgg', 'ytffm7krfo', 'ytgmluparn', 'ytgzksp5i5', 'ythxy8zjdj', 'ytie70mbji', 'ytifnbrn7n', 'ytkqbbgvkj', 'ytosxti8jb', 'ytqdv9qgvk', 'ytvilxbkv1', 'yu2g1zjubv', 'yu36seksv8', 'yucatán', 'yudi8h90nr', 'yuflixs1vx', 'yuge', 'yugrqpgysw', 'yujczvvpk3', 'yuleqa2jqp', 'yulfrr3ep5', 'yup', 'yuqwjqpe37', 'yusrrzb1ts', 'yuvtw8zu3i', 'yuz5rscnwv', 'yv1fvmitge', 'yv3gu8exgt', 'yv7b2owswk', 'yva0tvsvhh', 'yvcgqof0d6', 'yve19icqcf', 'yves', 'yvfvuh2pka', 'yvsnmtdsrf', 'yw4hq826e7', 'ywasdn3fvk', 'ywiu2arsmn', 'ywkr0vbbmt', 'ywlwqibybx', 'ywptiocjqx', 'ywtbrhtovz', 'ywwxbqt7ik', 'yx6hwq8tx8', 'yx6icetous', 'yxog6uje9t', 'yxztgbwgqt', 'yy8i6spdz9', 'yyaurkgjnt', 'yylj4t92kk', 'yz3rvqasuq', 'yz5rgaqiwe', 'yze3x8izxv', 'yzelyidbjn', 'yzlceapgyf', 'yzmpebut9n', 'yznyruskwv', 'yzpbj85ueg', 'yzpt4dkhvs', 'yzrbpq6thp', 'yzszhhbz8y', 'yztpfib746', 'yzvchlogco', 'z0npuxt8n8', 'z0ruyuey1s', 'z0si1enemc', 'z0t0zzuqvp', 'z1dbppl7wb', 'z1ghwsvn58', 'z1szewcmzz', 'z22gfzmnvi', 'z25kw2co2l', 'z2f36kj6sc', 'z2fdpoctpa', 'z2gr4ns4ek', 'z2hrvlaq2g', 'z2roxc6agj', 'z3cwmynf3r', 'z3jxc1gpis', 'z3uvjowe5f', 'z3zkj7gwlq', 'z401ylysdr', 'z4dhaejg6l', 'z4hgqdkhan', 'z4ihbhhfwo', 'z4m1d7d3xq', 'z4ridhudw2', 'z4y4izbysm', 'z5540kopid', 'z5dnutsmst', 'z5podjfqck', 'z6hcynb6nf', 'z6lngucglx', 'z71b49yfvi', 'z79b1iqsyp', 'z7bqrz4muv', 'z7df0wadi6', 'z7ivx8d0sr', 'z7yymwx2jl', 'z8kewa29pi', 'z8swvoerhs', 'z9h5shd7qe', 'za3ymr6sdj', 'zab6aenrpz', 'zac_unchained', 'zachary38090591', 'zack', 'zagozana', 'zahra', 'zainsville', 'zakharova', 'zaleskiluke', 'zalgqd9eik', 'zatn8tw1hc', 'zawsze_pod_prad', 'zaxhn7wrsp', 'zazpvmrlec', 'zazzybritches', 'zbglqt0mnp', 'zbspneap2h', 'zby3vq5ftj', 'zc9f1oevlq', 'zcghbgf2cq', 'zcjvxh54zv', 'zclgo6chcl', 'zcqiyl8uz1', 'zczbtsm1ew', 'zd0o5djqzq', 'zd33gdrng5', 'zd5vq4mem0', 'zd8nzsuiwn', 'zddfwkhr7t', 'zdj5ocyz4r', 'zdkr3zzefk', 'zdqtnvvhe6', 'zdxa64xavr', 'ze', 'ze6gsqmfia', 'zeal', 'zegdie', 'zeimeu6bmp', 'zein', 'zejabzz9nz', 'zejy65ypon', 'zekegary2', 'zelenki', 'zelensky', 'zelenskyy', 'zeligvasirov', 'zelinsky', 'zemznzzif5', 'zenkus', 'zenkuswatch', 'zephyr21848384', 'zero', 'zerohedge', 'zerohedgejpn', 'zf9p0bslry', 'zfa2aownaw', 'zfaw9vvpba', 'zfcoepo2t8', 'zffa0tlxbu', 'zfgc6ifdrd', 'zfi6vrcfwq', 'zfmd5wjpue', 'zfrgwipy7b', 'zfrun2aj08', 'zftplelryc', 'zfuq9koilf', 'zfvxuuy0uc', 'zfwaadd8o5', 'zg2qaodihk', 'zg4ever', 'zg8ldlssuq', 'zge0s4akdc', 'zgfisjlded', 'zggg3ohni7', 'zggo4gtr28', 'zgltgrjlvt', 'zgmgir515o', 'zgxg2zhkhe', 'zgymvexsi6', 'zh3hjvba6q', 'zh3wpkvsvm', 'zhamiwllcu', 'zhangxinyue', 'zhenbrutalism', 'zhirji28', 'zhirji28article', 'zhmaefcpjc', 'zhok5rtbnb', 'zhssbwxio0', 'zi2ppg1z1t', 'zianrybfyc', 'ziavfohk2x', 'zibjf7dk33', 'zicfqoq8fq', 'zictugonen', 'ziggy_usa', 'zijkrf3euf', 'zikmbgahey', 'zikvqocczb', 'zimasueuyu', 'zimieywrsj', 'zionists', 'zip', 'zipillinois', 'zirmowtlpv', 'zisqkk4jzu', 'zivwnj9fsu', 'ziwun385lk', 'ziyjkskymi', 'zj5cwjskap', 'zj66isfrm5', 'zj7vlavpc8', 'zjbts3fvkg', 'zjehnele6f', 'zjfsjmen83', 'zjgg2bpoca', 'zjkcyn0uhj', 'zjkgmvjesa', 'zjmefrtz7k', 'zjqqnxrqp1', 'zjruf4pv03', 'zjsaw8d2ot', 'zjtvbkunat', 'zjulcmmund', 'zk58r6hwve', 'zkbgfv8exb', 'zkcjlkn1pr', 'zkqhzoquvz', 'zl5sglwxle', 'zlawbwmxqv', 'zlqhj05tmc', 'zluyfvn3zy', 'zlvgahbqu', 'zm0cn9n5ck', 'zm2tgcslo6', 'zm5xm3noj1', 'zmc2ecoots', 'zmeixnew2m', 'zmjvjpq9vh', 'zmmkfdj2m0', 'zmup5nlmor', 'zmx1xxfliw', 'zni6kc01wf', 'znjg2cvrjy', 'znoc38yfl7', 'znqoezse0v', 'znudrh0sac', 'zocji4ekpm', 'zofdak1t35', 'zofhzj2puw', 'zombywoof2022', 'zon4e6b9ul', 'zone', 'zookies', 'zool8ooxlv', 'zoom', 'zoomarang', 'zoomerwaffen', 'zooming', 'zoqbvrosov', 'zotr81gbky', 'zotvnu0nmx', 'zoyfkh0wft', 'zp08prrqch', 'zpbac61ejt', 'zpjvtjilt2', 'zpl9g8fa7r', 'zpnler0gvg', 'zptfgvtcbf', 'zpubacmag3', 'zpyunx3urd', 'zq2w7vt3ab', 'zq4bqxa2zk', 'zq4kl1w2x6', 'zqamroddrt', 'zqbqmqoqqg', 'zqbyq5ptwj', 'zqchsoimjc', 'zqfjqy8vae', 'zqfkd0j7qm', 'zqgbnmznkc', 'zqibezkz5c', 'zqngfqt6o5', 'zqothuf1wd', 'zqqxzinkyc', 'zqrv9u452w', 'zqvj5g4lyu', 'zqxrigiojs', 'zqycs38wcg', 'zr2g7h6gud', 'zr4qgaob1v', 'zrmztd1lln', 'zrtatrxyuy', 'zrtghagnht', 'zs4xgjiht3', 'zsnakeplissken', 'zsnyrxplmr', 'zswcdgfnbk', 'zt_followers', 'ztbqvsppb2', 'zthtljcl7u', 'ztm3ll7man', 'ztyyxdgr0y', 'zu6di7zju4', 'zubfhadv6t', 'zucuraezda', 'zue2iuuap7', 'zuem5eseax', 'zug', 'zui2iiyfhz', 'zuki75uhkz', 'zuoxslpail', 'zuoynwgxl1', 'zutgz61o3l', 'zuuzp8vey0', 'zv0h8mgxbc', 'zv75fmvusp', 'zvcf0rhnmx', 'zvhcs1smju', 'zvmwszgbvu', 'zvoj10s6hz', 'zvp5chf5sx', 'zvrnoyz3pz', 'zvs0bvfhol', 'zvs8euhb16', 'zvvn9ovf9e', 'zvwi5xg43g', 'zvwtwf9dji', 'zvwzoxtq80', 'zvzknvqpwx', 'zwcmze0wch', 'zwcvtcbfk5', 'zwovoojy68', 'zwrj2lk1uz', 'zwsowajt8s', 'zwu8s4b09u', 'zwv134', 'zwwrnosap4', 'zwwsqqv3fk', 'zwx80ok0ih', 'zx5yd1h5no', 'zxbdqwpzkd', 'zxddd8mllx', 'zxgcnehsq4', 'zximyjwrgi', 'zxnfpqdpv3', 'zxo2ccr0w5', 'zxppveopyj', 'zxseoyuag4', 'zxsrfdheun', 'zxtrkwj2fr', 'zxu0c630hl', 'zxyavthpb2', 'zy1bzlvni3', 'zy6su4dkfd', 'zygbebfvi9', 'zyk47jgker', 'zykfgswuxh', 'zyo2iqpao7', 'zyocigc2kk', 'zyq6ggjbez', 'zyreoqd5eu', 'zyrofoxtrot', 'zyse2zsrqd', 'zyvsr9pxij', 'zyxf1brfuw', 'zyyeipogp5', 'zz492jyyop', 'zz9alrxhen', 'zzaxhlsi2o', 'zzbz7g3ybi', 'zzhrt7ir5d', 'zzlyyy28zc', 'zzq84hzbv5', 'zzrtjvqnvx', 'zzu0sfhprk', 'ça', 'élimination', 'énième', 'était', 'états', 'éventuellement', 'éverything', 'éviter', 'środka', 'ενα', 'μεσα', 'μηνα', 'οχαιο', 'στο', 'τρενο', 'алабаме', 'амери', 'американском', 'генеральный', 'давно', 'директор', 'до', 'жд', 'за', 'испытания', 'как', 'какой', 'компании', 'конгрессом', 'марта', 'несколько', 'огайо', 'они', 'перед', 'по', 'поезд', 'провел', 'пути', 'рельсов', 'ремонтировали', 'сошел', 'стабильность', 'счёту', 'там', 'того', 'часов', 'штате', 'الأميركية', 'القضبان', 'انبعاث', 'بأوهايو', 'بحادث', 'بعد', 'ثان', 'خروج', 'سامة', 'عن', 'قطار', 'مماثل', 'مواد', 'การท', 'งของ', 'งคน', 'งม', 'งเล', 'ชาวบ', 'ตกลงมาเป', 'ตว', 'ทำให', 'นบรรยากาศ', 'นอกจากน', 'นไปอย', 'บนช', 'ผลเส', 'ฝนกรด', 'ฝนท', 'พบว', 'พอเค', 'ยท', 'ลอยข', 'สารเคม', 'หากฝนตก', 'อยหมาของเค', 'อาจจะทำให', 'าตายแล', 'าน', 'านคนน', 'าปล', 'าว', 'าหมาของเค', 'าออกมาด', 'าออกมาเด', 'เค', 'เหล', 'แต', 'ℂℍ𝔼ℝℕ𝕆𝔹𝕐𝕃', 'その米国の物流ですが___________', 'ちょっと脱線し過ぎだろ', 'またオハイオで貨物列車が脱線', 'アメリカ三大ネットワークのテレビニュースを数時間遅れで視聴できる時代となっている', 'ウェストバージニア州', 'ウェストバージニア州で岩石滑りに衝突した後', 'オハイオ州でノーフォーク', 'オハイオ州西中央でノーフォーク', 'サザンの貨物列車が脱線し', 'サザンの貨物列車が脱線した後', 'サザン鉄道の貨物列車が再び脱線', 'ディーゼルが川に流出', '一周后会有人帮我开奖', '乗務員は流出した痕跡を見つけられませんでした', '事件沒人受傷', '人が負傷', '似乎每一天都是如此', '但我们被告知没有危险物质', '但有當地民眾表示', '住民に避難するよう指示', '俄亥俄州', '出軌', '前17分钟是恩怨', '南诺福克有什么问题吗', '又一起', '呼籲市民就地避難', '因为我们听说俄亥俄州又有一列火车出轨了', '因为福禄寿利用我赚了千万还恶心我', '堆疊在路軌旁', '墮軌', '妙なモノは漏れたりしてないそうだけど', '州内では有害物質が流出した先月の事故に続き２例目', '当地老百姓怕啥呢', '很可能会被报复', '意外', '我忍无可忍选择曝光福禄寿利用警察冻卡', '拉文纳', '據報這列載貨火車共有212卡車廂', '收钱解冻', '显然正在进行', '波蒂奇县', '火曜日', '環境保護庁はオハイオ州の有毒列車事故による汚染廃棄物の出荷の一時停止を命令', '當中20節出軌', '當局稱車上並無載有有毒化學物', '疯狂三月', '看到有毒化學物品處理組的車輛出現', '美国', '美国俄亥俄州再发生列车脱轨事故', '肇事的火車同樣屬於norfolk', '脱線させるひとをディレーラーと呼ぶ', '脱線はderail', '脱軌', '脱轨', '自分たちが引き起こした混乱の後始末の代償を払うことになる', '貨物列車が脱線', '转发评论此条推特抽一万u', '还有u商安徽省芜湖防空洞帮人藏匿的数十亿资产', '这可能是我的最后一条视频', '这次是在斯普林菲尔德', '附近居民被要求就地避难', '바이든은', '방문하지', '번도', '않은', '열차', '오하이오', '지역', '찾은', '탈선', '트럼프', '𝔸𝕄𝔼ℝ𝕀ℂ𝔸𝕊', '𝔻𝕖𝕣𝕒𝕚𝕝𝕞𝕖𝕟𝕥', '𝕋𝕠𝕩𝕚𝕔', '𝗗𝗢', '𝗦𝗘𝗔𝗥𝗖𝗛']\n"
     ]
    },
    {
     "name": "stderr",
     "output_type": "stream",
     "text": [
      "/Users/ribarragi/miniconda3/envs/Intro_AI/lib/python3.9/site-packages/sklearn/utils/deprecation.py:87: FutureWarning: Function get_feature_names is deprecated; get_feature_names is deprecated in 1.0 and will be removed in 1.2. Please use get_feature_names_out instead.\n",
      "  warnings.warn(msg, category=FutureWarning)\n"
     ]
    }
   ],
   "source": [
    "print(tf_vectorizer.get_feature_names())\n",
    "# this will print out the vocabulary, here 1,000 words, sorted alphabetically"
   ]
  },
  {
   "cell_type": "markdown",
   "metadata": {},
   "source": [
    "We can also go in reverse: given a word, we can figure out which column index it corresponds to. To do this, we use the `vocabulary_` attribute."
   ]
  },
  {
   "cell_type": "code",
   "execution_count": 23,
   "metadata": {},
   "outputs": [
    {
     "data": {
      "text/plain": [
       "4238"
      ]
     },
     "execution_count": 23,
     "metadata": {},
     "output_type": "execute_result"
    }
   ],
   "source": [
    "tf_vectorizer.vocabulary_['car']\n",
    "# .vocabulary_ get the word index in the vocabulary\n",
    "# IN OTHER WORDS: what column do I have to look at to find the word car"
   ]
  },
  {
   "cell_type": "markdown",
   "metadata": {},
   "source": [
    "We can figure out what the raw counts are for the 0-th post as follows."
   ]
  },
  {
   "cell_type": "code",
   "execution_count": 24,
   "metadata": {},
   "outputs": [
    {
     "data": {
      "text/plain": [
       "(10000, 24428)"
      ]
     },
     "execution_count": 24,
     "metadata": {},
     "output_type": "execute_result"
    }
   ],
   "source": [
    "tf.toarray().shape"
   ]
  },
  {
   "cell_type": "code",
   "execution_count": 25,
   "metadata": {},
   "outputs": [
    {
     "data": {
      "text/plain": [
       "array([[0, 0, 0, ..., 0, 0, 0]])"
      ]
     },
     "execution_count": 25,
     "metadata": {},
     "output_type": "execute_result"
    }
   ],
   "source": [
    "tf[0].toarray()\n",
    "\n",
    "# I can index in to the zeroeth row of the matrix and convert into an array, I am anazlizing just the zeroeth row:\n",
    "# feature vector representation for the zeroeth document: \n",
    "# We should be able to write code to know what word corresponds each non zero number there\n",
    "\n",
    "# tf_vectorizer.get_feature_names_out()[(tf[0].toarray() != 0)[0]] # LIKE THIS!\n",
    "\n",
    "# run a for loop that goes thru the entries, and check to which indeces this corresponds in the vocabulary"
   ]
  },
  {
   "cell_type": "markdown",
   "metadata": {},
   "source": [
    "We now fit an LDA model to the data."
   ]
  },
  {
   "cell_type": "code",
   "execution_count": 26,
   "metadata": {},
   "outputs": [
    {
     "data": {
      "text/plain": [
       "LatentDirichletAllocation(n_components=6, random_state=0)"
      ]
     },
     "execution_count": 26,
     "metadata": {},
     "output_type": "execute_result"
    }
   ],
   "source": [
    "# Now LDA. This will take a while ong\n",
    "\n",
    "num_topics = 6\n",
    "\n",
    "from sklearn.decomposition import LatentDirichletAllocation\n",
    "lda = LatentDirichletAllocation(n_components=num_topics, random_state=0)\n",
    "lda.fit(tf)"
   ]
  },
  {
   "cell_type": "markdown",
   "metadata": {},
   "source": [
    "The fitting procedure determines the every topic's distribution over words; this information is stored in the `components_` attribute. There's a catch: we actually have to normalize to get the probability distributions (without this normalization, instead what the model has are pseudocounts for how often different words appear per topic)."
   ]
  },
  {
   "cell_type": "code",
   "execution_count": 28,
   "metadata": {},
   "outputs": [
    {
     "data": {
      "text/plain": [
       "(6, 24428)"
      ]
     },
     "execution_count": 28,
     "metadata": {},
     "output_type": "execute_result"
    }
   ],
   "source": [
    "lda.components_.shape\n",
    "# The shaope of this is 16 by 1000, 10 topics and 1000 words\n",
    "# These are not probability distributions yet"
   ]
  },
  {
   "cell_type": "code",
   "execution_count": 29,
   "metadata": {},
   "outputs": [
    {
     "data": {
      "text/plain": [
       "array([20862.34559, 55864.67022, 10805.84185, 58661.77848, 14844.61046,\n",
       "       33811.7534 ])"
      ]
     },
     "execution_count": 29,
     "metadata": {},
     "output_type": "execute_result"
    }
   ],
   "source": [
    "# If we access: sum ACROSS COLUMNS (get rid of columns), I get 6 numbers: a sum for each row.\n",
    "# They dont sum uop to 1, because not probability distributions\n",
    "\n",
    "# .components_ is a raw count histogram, but why are there fractions?\n",
    "# Because of how it works: when it estimates how much a word belongs to a topic it does a prob assignment, not a deterministic assignment.\n",
    "lda.components_.sum(axis=1)"
   ]
  },
  {
   "cell_type": "code",
   "execution_count": 30,
   "metadata": {},
   "outputs": [],
   "source": [
    "topic_word_distributions = np.array([row / row.sum() for row in lda.components_])\n",
    "# We can get the proba distributions: take each row and divide by sum, then we get what was in the purple box in the lecture slide:\n",
    "# "
   ]
  },
  {
   "cell_type": "code",
   "execution_count": 31,
   "metadata": {},
   "outputs": [
    {
     "data": {
      "text/plain": [
       "(6, 24428)"
      ]
     },
     "execution_count": 31,
     "metadata": {},
     "output_type": "execute_result"
    }
   ],
   "source": [
    "topic_word_distributions.shape"
   ]
  },
  {
   "cell_type": "markdown",
   "metadata": {},
   "source": [
    "We can verify that each topic's word distribution sums to 1."
   ]
  },
  {
   "cell_type": "code",
   "execution_count": 32,
   "metadata": {},
   "outputs": [
    {
     "data": {
      "text/plain": [
       "array([1., 1., 1., 1., 1., 1.])"
      ]
     },
     "execution_count": 32,
     "metadata": {},
     "output_type": "execute_result"
    }
   ],
   "source": [
    "topic_word_distributions.sum(axis=1)\n",
    "# then we have distributions: every row sums to 1"
   ]
  },
  {
   "cell_type": "markdown",
   "metadata": {},
   "source": [
    "We can also print out what the probabilities for the different words are for a specific topic. This isn't very easy to interpret."
   ]
  },
  {
   "cell_type": "code",
   "execution_count": 33,
   "metadata": {},
   "outputs": [
    {
     "name": "stdout",
     "output_type": "stream",
     "text": [
      "[0.00025 0.00002 0.00001 ... 0.00001 0.00001 0.00001]\n"
     ]
    }
   ],
   "source": [
    "print(topic_word_distributions[0])\n",
    "# lets look at 0th topic, it is saying that the 0th word appears 0.00011, word 1 appears with prob 0.00191\n",
    "# Lets view the data differently to interpret"
   ]
  },
  {
   "cell_type": "markdown",
   "metadata": {},
   "source": [
    "Instead, usually people do something like looking at the most probable words per topic, and try to use these words to interpret what the different topics correspond to."
   ]
  },
  {
   "cell_type": "code",
   "execution_count": 34,
   "metadata": {},
   "outputs": [
    {
     "name": "stdout",
     "output_type": "stream",
     "text": [
      "Displaying the top 20 words per topic and their probabilities within the topic...\n",
      "\n",
      "[Topic 0]\n",
      "train : 0.047425078592101384\n",
      "norfolk : 0.04673303482464975\n",
      "southern : 0.044426666919721886\n",
      "https : 0.029109210306047094\n",
      "ceo : 0.026544839672883364\n",
      "alabama : 0.013189597642795866\n",
      "rt : 0.01134576798741151\n",
      "derails : 0.011258017800928732\n",
      "senate : 0.010791110250812837\n",
      "derailed : 0.010708821836184363\n",
      "congress : 0.010045685844307263\n",
      "shaw : 0.00930662028235464\n",
      "ohio : 0.008040708071635644\n",
      "alan : 0.0068611460658802\n",
      "cars : 0.006834682471778272\n",
      "rule : 0.006594092446895714\n",
      "derailment : 0.006297629794629995\n",
      "testifies : 0.006047561618236604\n",
      "hearing : 0.005849576406187376\n",
      "east : 0.005668701101074927\n",
      "\n",
      "[Topic 1]\n",
      "https : 0.05410412381347682\n",
      "train : 0.04725167656813235\n",
      "ohio : 0.03992579673196351\n",
      "norfolk : 0.03602688401379518\n",
      "southern : 0.03577110113420752\n",
      "derailment : 0.033994162359630736\n",
      "rt : 0.01895076374463655\n",
      "east : 0.01800981247722726\n",
      "palestine : 0.017971550998206052\n",
      "derailed : 0.009629363360382698\n",
      "toxic : 0.009186298222234065\n",
      "chemicals : 0.007557209271042103\n",
      "residents : 0.00673679067030297\n",
      "hazardous : 0.005511715932815041\n",
      "safety : 0.00495812307779468\n",
      "derails : 0.004437178241995558\n",
      "month : 0.004294057768845135\n",
      "springfield : 0.00427581241388678\n",
      "company : 0.00426432109227005\n",
      "rail : 0.0038300595097322857\n",
      "\n",
      "[Topic 2]\n",
      "https : 0.03672350091125189\n",
      "train : 0.007173166538146568\n",
      "norfolk : 0.006328925704178307\n",
      "rail : 0.006060788666894723\n",
      "southern : 0.005628565870346502\n",
      "ohio : 0.0052286696454468306\n",
      "rt : 0.0051763474531326984\n",
      "just : 0.00506588803964453\n",
      "safety : 0.004512463020952013\n",
      "push : 0.004165223596148002\n",
      "crash : 0.0034531405568440946\n",
      "pr : 0.003332750472434457\n",
      "dollar : 0.003254234826293185\n",
      "firms : 0.0030692966881483825\n",
      "transportation : 0.002919925218670183\n",
      "like : 0.0026487481295001205\n",
      "people : 0.0026283812375223095\n",
      "multimillion : 0.0024215187527565534\n",
      "crafting : 0.002236442718524955\n",
      "illusion : 0.002236442718524955\n",
      "\n",
      "[Topic 3]\n",
      "palestine : 0.04760267319804416\n",
      "east : 0.04723688445847812\n",
      "https : 0.04019492694028252\n",
      "train : 0.030667515389622382\n",
      "derailment : 0.02988960633573248\n",
      "ohio : 0.02152976931453984\n",
      "rt : 0.018514880437454445\n",
      "toxic : 0.010151859311417568\n",
      "biden : 0.009054003308259374\n",
      "people : 0.007480633220947543\n",
      "water : 0.007246927350275915\n",
      "disaster : 0.005881292750777584\n",
      "residents : 0.005425357542013416\n",
      "epa : 0.005240755451547026\n",
      "trump : 0.0038344499621894325\n",
      "buttigieg : 0.0037748024987832593\n",
      "visit : 0.003643003005710748\n",
      "oh : 0.0033848038164770496\n",
      "chemical : 0.0033626981684471394\n",
      "pete : 0.0031845158803922103\n",
      "\n",
      "[Topic 4]\n",
      "east : 0.021608435178076764\n",
      "palestine : 0.021495718940992177\n",
      "https : 0.019490196702749818\n",
      "derailment : 0.01925579533273684\n",
      "train : 0.016429932462712793\n",
      "trump : 0.013302259386586614\n",
      "ohio : 0.011609115730135714\n",
      "rt : 0.011395362964894218\n",
      "safety : 0.007708261430358132\n",
      "norfolk : 0.005668811236313158\n",
      "southern : 0.0055630891403734\n",
      "movie : 0.004423929155757262\n",
      "regulations : 0.004321339691474473\n",
      "president : 0.004191141408109075\n",
      "water : 0.004060258417195848\n",
      "ntsb : 0.0036561427053980237\n",
      "white : 0.0035988256058154724\n",
      "noise : 0.003482447226131697\n",
      "administration : 0.0034624993056410675\n",
      "gop : 0.0032769544140696175\n",
      "\n",
      "[Topic 5]\n",
      "https : 0.04983905801949627\n",
      "train : 0.036007693323180295\n",
      "norfolk : 0.026474569004359273\n",
      "southern : 0.025249373625774126\n",
      "trump : 0.015235129451176714\n",
      "ohio : 0.01398930602247639\n",
      "rt : 0.01367607777601502\n",
      "derailment : 0.012895177981036768\n",
      "palestine : 0.01154323905472275\n",
      "east : 0.011228742232591462\n",
      "toxic : 0.005226317960923565\n",
      "safety : 0.004698273687209642\n",
      "railroad : 0.004656594555494295\n",
      "derails : 0.004367703479093899\n",
      "carolina : 0.0038776892908896424\n",
      "disaster : 0.0038607534304352753\n",
      "news : 0.003693405773045073\n",
      "north : 0.0036250666395347417\n",
      "gop : 0.00341759996099659\n",
      "biden : 0.0033413861589964623\n",
      "\n"
     ]
    }
   ],
   "source": [
    "# we can sort the probability by big to small\n",
    "# for each topic, listing top 20 most popular words (by probability)\n",
    "\n",
    "num_top_words = 20\n",
    "\n",
    "def print_top_words(topic_word_distributions, num_top_words, vectorizer):\n",
    "    vocab = vectorizer.get_feature_names()\n",
    "    num_topics = len(topic_word_distributions)\n",
    "    print('Displaying the top %d words per topic and their probabilities within the topic...' % num_top_words)\n",
    "    print()\n",
    "\n",
    "    for topic_idx in range(num_topics):\n",
    "        print('[Topic ', topic_idx, ']', sep='')\n",
    "        # This is the interesting part: take the topic_word_distributions only for the topic_idxth topic, and get the indexes sorted from highest to lowest\n",
    "        sort_indices = np.argsort(-topic_word_distributions[topic_idx])\n",
    "        # then for the range 0,num_words, print the vocab of each of the words and its entry in the topic_word_distribution matrix\n",
    "        for rank in range(num_top_words):\n",
    "            word_idx = sort_indices[rank]\n",
    "            print(vocab[word_idx], ':',\n",
    "                  topic_word_distributions[topic_idx, word_idx])\n",
    "        print()\n",
    "\n",
    "print_top_words(topic_word_distributions, num_top_words, tf_vectorizer)"
   ]
  },
  {
   "cell_type": "markdown",
   "metadata": {},
   "source": [
    "We can use the `transform()` function to figure out for each document, what fraction of it is explained by each of the topics."
   ]
  },
  {
   "cell_type": "code",
   "execution_count": 1,
   "metadata": {},
   "outputs": [],
   "source": [
    "# consider removing:\n",
    "terms_remove = ['train', 'https', 'rt', 'palestine', 'east', 'ohio', 'norfolk', 'southern']"
   ]
  },
  {
   "cell_type": "code",
   "execution_count": 106,
   "metadata": {},
   "outputs": [],
   "source": [
    "doc_topic_matrix = lda.transform(tf)\n",
    "# Ill get a low dimensional version of the data, the document topic matrix (10, 10)\n",
    "# each of the 10,000 represented as a distribution over 10 different topics"
   ]
  },
  {
   "cell_type": "code",
   "execution_count": 107,
   "metadata": {},
   "outputs": [
    {
     "data": {
      "text/plain": [
       "(10000, 10)"
      ]
     },
     "execution_count": 107,
     "metadata": {},
     "output_type": "execute_result"
    }
   ],
   "source": [
    "doc_topic_matrix.shape"
   ]
  },
  {
   "cell_type": "code",
   "execution_count": 108,
   "metadata": {},
   "outputs": [
    {
     "data": {
      "text/plain": [
       "array([0.00714, 0.00714, 0.00714, 0.93571, 0.00714, 0.00714, 0.00714,\n",
       "       0.00714, 0.00714, 0.00714])"
      ]
     },
     "execution_count": 108,
     "metadata": {},
     "output_type": "execute_result"
    }
   ],
   "source": [
    "# The topic distribution of the 0th document is very small except for 0.96288 fior index 7\n",
    "# We saw from above, topic 7 is about religion, and we can check that document 0 is about religion\n",
    "doc_topic_matrix[0]\n",
    "\n",
    "\n",
    "# Note: for GMM when you do the .predict, itll give you k probabilites that sum to 1. \n",
    "# predict_proba of GMM \n",
    "# here: ... gives you a proba distr:\n",
    "# INTERPRETARATION DIFFERENT\n",
    "\n",
    "# FOR LDA: document can consist of a bunch of words, and different fraction of the words are truly in different topics: we get mixed membership, words are allowed to e in different topics\n",
    "# GMM: the above doesnt hold"
   ]
  },
  {
   "cell_type": "code",
   "execution_count": 109,
   "metadata": {},
   "outputs": [
    {
     "data": {
      "text/plain": [
       "0.9999999999999999"
      ]
     },
     "execution_count": 109,
     "metadata": {},
     "output_type": "execute_result"
    }
   ],
   "source": [
    "doc_topic_matrix[0].sum()"
   ]
  },
  {
   "cell_type": "markdown",
   "metadata": {},
   "source": [
    "Note that this *could* be interpreted as a form of dimensionality reduction: document 0 is converted from its raw counts histogram representation to a 10-dimensional vector of probabilities, indicating estimated memberships to the 10 different topics."
   ]
  },
  {
   "attachments": {},
   "cell_type": "markdown",
   "metadata": {},
   "source": [
    "# **--------------------- Stop here by now ---------------------**"
   ]
  },
  {
   "cell_type": "markdown",
   "metadata": {},
   "source": [
    "## Word clouds\n",
    "\n",
    "Here's a fancier way to visualize. This requires installation of the wordcloud package:\n",
    "\n",
    "```\n",
    "pip install wordcloud\n",
    "```"
   ]
  },
  {
   "cell_type": "code",
   "execution_count": null,
   "metadata": {},
   "outputs": [
    {
     "ename": "ModuleNotFoundError",
     "evalue": "No module named 'wordcloud'",
     "output_type": "error",
     "traceback": [
      "\u001b[0;31m---------------------------------------------------------------------------\u001b[0m",
      "\u001b[0;31mModuleNotFoundError\u001b[0m                       Traceback (most recent call last)",
      "\u001b[0;32m/var/folders/yv/9jkc42cj01gb_08dbbq9fcnw0000gn/T/ipykernel_53404/2357757354.py\u001b[0m in \u001b[0;36m<module>\u001b[0;34m\u001b[0m\n\u001b[0;32m----> 1\u001b[0;31m \u001b[0;32mfrom\u001b[0m \u001b[0mwordcloud\u001b[0m \u001b[0;32mimport\u001b[0m \u001b[0mWordCloud\u001b[0m\u001b[0;34m\u001b[0m\u001b[0;34m\u001b[0m\u001b[0m\n\u001b[0m\u001b[1;32m      2\u001b[0m \u001b[0;34m\u001b[0m\u001b[0m\n\u001b[1;32m      3\u001b[0m \u001b[0mnum_max_word_cloud_words\u001b[0m \u001b[0;34m=\u001b[0m \u001b[0;36m100\u001b[0m\u001b[0;34m\u001b[0m\u001b[0;34m\u001b[0m\u001b[0m\n\u001b[1;32m      4\u001b[0m \u001b[0;34m\u001b[0m\u001b[0m\n\u001b[1;32m      5\u001b[0m \u001b[0mvocab\u001b[0m \u001b[0;34m=\u001b[0m \u001b[0mtf_vectorizer\u001b[0m\u001b[0;34m.\u001b[0m\u001b[0mget_feature_names\u001b[0m\u001b[0;34m(\u001b[0m\u001b[0;34m)\u001b[0m\u001b[0;34m\u001b[0m\u001b[0;34m\u001b[0m\u001b[0m\n",
      "\u001b[0;31mModuleNotFoundError\u001b[0m: No module named 'wordcloud'"
     ]
    }
   ],
   "source": [
    "from wordcloud import WordCloud\n",
    "\n",
    "num_max_word_cloud_words = 100\n",
    "\n",
    "vocab = tf_vectorizer.get_feature_names()\n",
    "num_topics = len(topic_word_distributions)\n",
    "\n",
    "for topic_idx in range(num_topics):\n",
    "    wc = WordCloud(max_words=num_max_word_cloud_words)\n",
    "    wc.generate_from_frequencies(dict(zip(vocab, topic_word_distributions[topic_idx])))\n",
    "    plt.figure()\n",
    "    plt.imshow(wc, interpolation='bilinear')\n",
    "    plt.title('Topic %d' % topic_idx)"
   ]
  },
  {
   "cell_type": "markdown",
   "metadata": {},
   "source": [
    "## Computing co-occurrences of words\n",
    "\n",
    "Here, we count the number of newsgroup posts in which two words both occur. This part of the demo should feel like a review of co-occurrence analysis from earlier in the course, except now we use scikit-learn's built-in CountVectorizer. Conceptually everything else in the same as before."
   ]
  },
  {
   "cell_type": "code",
   "execution_count": 70,
   "metadata": {},
   "outputs": [],
   "source": [
    "word1 = 'year'\n",
    "word2 = 'team'\n",
    "\n",
    "word1_column_idx = tf_vectorizer.vocabulary_[word1]\n",
    "word2_column_idx = tf_vectorizer.vocabulary_[word2]"
   ]
  },
  {
   "cell_type": "code",
   "execution_count": 69,
   "metadata": {},
   "outputs": [
    {
     "data": {
      "text/plain": [
       "array([[0, 0, 0, ..., 0, 0, 0],\n",
       "       [0, 0, 0, ..., 0, 0, 0],\n",
       "       [0, 0, 0, ..., 0, 0, 0],\n",
       "       ...,\n",
       "       [0, 0, 0, ..., 0, 0, 0],\n",
       "       [0, 0, 0, ..., 0, 0, 0],\n",
       "       [0, 0, 0, ..., 0, 0, 0]])"
      ]
     },
     "execution_count": 69,
     "metadata": {},
     "output_type": "execute_result"
    }
   ],
   "source": [
    "np.array(tf.todense())"
   ]
  },
  {
   "cell_type": "code",
   "execution_count": 71,
   "metadata": {},
   "outputs": [
    {
     "data": {
      "text/plain": [
       "array([[0],\n",
       "       [0],\n",
       "       [0],\n",
       "       ...,\n",
       "       [0],\n",
       "       [0],\n",
       "       [0]])"
      ]
     },
     "execution_count": 71,
     "metadata": {},
     "output_type": "execute_result"
    }
   ],
   "source": [
    "tf[:, word1_column_idx].toarray()"
   ]
  },
  {
   "cell_type": "code",
   "execution_count": 72,
   "metadata": {},
   "outputs": [],
   "source": [
    "documents_with_word1 = (tf[:, word1_column_idx].toarray().flatten() > 0)"
   ]
  },
  {
   "cell_type": "code",
   "execution_count": 73,
   "metadata": {},
   "outputs": [],
   "source": [
    "documents_with_word2 = (tf[:, word2_column_idx].toarray().flatten() > 0)"
   ]
  },
  {
   "cell_type": "code",
   "execution_count": 77,
   "metadata": {},
   "outputs": [],
   "source": [
    "documents_with_both_word1_and_word2 = documents_with_word1 * documents_with_word2"
   ]
  },
  {
   "cell_type": "code",
   "execution_count": 79,
   "metadata": {},
   "outputs": [
    {
     "data": {
      "text/plain": [
       "array([False, False, False, ..., False, False, False])"
      ]
     },
     "execution_count": 79,
     "metadata": {},
     "output_type": "execute_result"
    }
   ],
   "source": [
    "documents_with_both_word1_and_word2"
   ]
  },
  {
   "cell_type": "markdown",
   "metadata": {},
   "source": [
    "Next, we compute the log of the conditional probability of word 1 appearing given that word 2 appeared, where we add in a little bit of a fudge factor in the numerator (in this case, it's actually not needed but some times you do have two words that do not co-occur for which you run into a numerical issue due to taking the log of 0)."
   ]
  },
  {
   "cell_type": "code",
   "execution_count": 84,
   "metadata": {},
   "outputs": [
    {
     "data": {
      "text/plain": [
       "-1.5482462194376105"
      ]
     },
     "execution_count": 84,
     "metadata": {},
     "output_type": "execute_result"
    }
   ],
   "source": [
    "eps = 0.1\n",
    "np.log2((documents_with_both_word1_and_word2.sum() + eps) / documents_with_word2.sum())"
   ]
  },
  {
   "cell_type": "code",
   "execution_count": 85,
   "metadata": {},
   "outputs": [],
   "source": [
    "# compute log of prob of see one word given you see another, using count vectorizer!\n",
    "# Same content as in hw , but with a different tool\n",
    "# This uses np.arrays instead of counters. Needs to kep track of the indexes.\n",
    "# Understad how countvectorizer works\n",
    "\n",
    "def prob_see_word1_given_see_word2(word1, word2, vectorizer, eps=0.1):\n",
    "    word1_column_idx = vectorizer.vocabulary_[word1]\n",
    "    word2_column_idx = vectorizer.vocabulary_[word2]\n",
    "    documents_with_word1 = (tf[:, word1_column_idx].toarray().flatten() > 0)\n",
    "    documents_with_word2 = (tf[:, word2_column_idx].toarray().flatten() > 0)\n",
    "    documents_with_both_word1_and_word2 = documents_with_word1 * documents_with_word2\n",
    "    return np.log2((documents_with_both_word1_and_word2.sum() + eps) / documents_with_word2.sum())"
   ]
  },
  {
   "cell_type": "code",
   "execution_count": 86,
   "metadata": {},
   "outputs": [
    {
     "data": {
      "text/plain": [
       "(str, str)"
      ]
     },
     "execution_count": 86,
     "metadata": {},
     "output_type": "execute_result"
    }
   ],
   "source": [
    "type(word1), type(word2)"
   ]
  },
  {
   "cell_type": "markdown",
   "metadata": {},
   "source": [
    "## Topic coherence\n",
    "\n",
    "The below code shows how one implements the topic coherence calculation from lecture."
   ]
  },
  {
   "cell_type": "code",
   "execution_count": 87,
   "metadata": {},
   "outputs": [],
   "source": [
    "# In the cell below, vectorizer.get_feature_names() is just tokenizing the text, \n",
    "# eliminating stopwords, eliminating some other words, and then giving you back\n",
    "# a list of the tokens in string format"
   ]
  },
  {
   "cell_type": "code",
   "execution_count": 88,
   "metadata": {},
   "outputs": [],
   "source": [
    "# topic coherence\n",
    "\n",
    "def compute_average_coherence(topic_word_distributions, num_top_words, vectorizer, verbose=True):\n",
    "    vocab = vectorizer.get_feature_names()\n",
    "    num_topics = len(topic_word_distributions)\n",
    "    average_coherence = 0\n",
    "    # foor loop thru different topics, for each topic double nested for loop, going thru each entry, ordering matters\n",
    "    # make sure words arent the same, then compute the log(prob)\n",
    "    # add a bunhc of them and divide by total number of topics\n",
    "    for topic_idx in range(num_topics):\n",
    "        if verbose:\n",
    "            print('[Topic ', topic_idx, ']', sep='')\n",
    "        \n",
    "        sort_indices = np.argsort(topic_word_distributions[topic_idx])[::-1]\n",
    "        coherence = 0.\n",
    "        for top_word_idx1 in sort_indices[:num_top_words]:\n",
    "            word1 = vocab[top_word_idx1]\n",
    "            for top_word_idx2 in sort_indices[:num_top_words]:\n",
    "                word2 = vocab[top_word_idx2]\n",
    "                if top_word_idx1 != top_word_idx2:\n",
    "                    coherence += prob_see_word1_given_see_word2(word1, word2, vectorizer, 0.1)\n",
    "        \n",
    "        if verbose:\n",
    "            print('Coherence:', coherence)\n",
    "            print()\n",
    "        average_coherence += coherence\n",
    "    average_coherence /= num_topics\n",
    "    if verbose:\n",
    "        print('Average coherence:', average_coherence)\n",
    "    return average_coherence"
   ]
  },
  {
   "cell_type": "code",
   "execution_count": 91,
   "metadata": {},
   "outputs": [
    {
     "name": "stdout",
     "output_type": "stream",
     "text": [
      "[Topic 0]\n",
      "Coherence: -883.433278037819\n",
      "\n",
      "[Topic 1]\n",
      "Coherence: -1204.9568944144453\n",
      "\n",
      "[Topic 2]\n",
      "Coherence: -658.5193466692967\n",
      "\n",
      "[Topic 3]\n",
      "Coherence: -1262.9416512877067\n",
      "\n",
      "[Topic 4]\n",
      "Coherence: -1120.0387743529964\n",
      "\n",
      "[Topic 5]\n",
      "Coherence: -1068.283511244093\n",
      "\n",
      "[Topic 6]\n",
      "Coherence: -1018.020273866717\n",
      "\n",
      "[Topic 7]\n",
      "Coherence: -874.4985384459782\n",
      "\n",
      "[Topic 8]\n",
      "Coherence: -982.6298329129335\n",
      "\n",
      "[Topic 9]\n",
      "Coherence: -228.56240302255796\n",
      "\n",
      "Average coherence: -930.1884504254543\n"
     ]
    },
    {
     "data": {
      "text/plain": [
       "-930.1884504254543"
      ]
     },
     "execution_count": 91,
     "metadata": {},
     "output_type": "execute_result"
    }
   ],
   "source": [
    "compute_average_coherence(topic_word_distributions, num_top_words, tf_vectorizer, True)\n",
    "# These are negative, the highest possible is zero."
   ]
  },
  {
   "cell_type": "markdown",
   "metadata": {},
   "source": [
    "## Number of unique words\n",
    "\n",
    "The below code shows how one implements the number of unique words calculation from lecture."
   ]
  },
  {
   "cell_type": "code",
   "execution_count": 37,
   "metadata": {},
   "outputs": [],
   "source": [
    "# brute force implementation\n",
    "# nothing clever to speed upmcalculation\n",
    "\n",
    "#fro loop for each topic\n",
    "# For loop over each top word\n",
    "# another for loop for other topics\n",
    "# lok for all other top words in those other topics\n",
    "# check for uniqueness\n",
    "\n",
    "def compute_average_num_unique_words(topic_word_distributions, num_top_words, vectorizer, verbose=True):\n",
    "    vocab = vectorizer.get_feature_names()\n",
    "    num_topics = len(topic_word_distributions)\n",
    "    average_number_of_unique_top_words = 0\n",
    "    for topic_idx1 in range(num_topics):\n",
    "        if verbose:\n",
    "            print('[Topic ', topic_idx1, ']', sep='')\n",
    "        \n",
    "        sort_indices1 = np.argsort(topic_word_distributions[topic_idx1])[::-1]\n",
    "        num_unique_top_words = 0\n",
    "        for top_word_idx1 in sort_indices1[:num_top_words]:\n",
    "            word1 = vocab[top_word_idx1]\n",
    "            break_ = False\n",
    "            for topic_idx2 in range(num_topics):\n",
    "                if topic_idx1 != topic_idx2:\n",
    "                    sort_indices2 = np.argsort(topic_word_distributions[topic_idx2])[::-1]\n",
    "                    for top_word_idx2 in sort_indices2[:num_top_words]:\n",
    "                        word2 = vocab[top_word_idx2]\n",
    "                        if word1 == word2:\n",
    "                            break_ = True\n",
    "                            break\n",
    "                    if break_:\n",
    "                        break\n",
    "            else:\n",
    "                num_unique_top_words += 1\n",
    "        if verbose:\n",
    "            print('Number of unique top words:', num_unique_top_words)\n",
    "            print()\n",
    "\n",
    "        average_number_of_unique_top_words += num_unique_top_words\n",
    "    average_number_of_unique_top_words /= num_topics\n",
    "    \n",
    "    if verbose:\n",
    "        print('Average number of unique top words:', average_number_of_unique_top_words)\n",
    "    \n",
    "    return average_number_of_unique_top_words"
   ]
  },
  {
   "cell_type": "code",
   "execution_count": 38,
   "metadata": {},
   "outputs": [
    {
     "name": "stdout",
     "output_type": "stream",
     "text": [
      "[Topic 0]\n",
      "Number of unique top words: 9\n",
      "\n",
      "[Topic 1]\n",
      "Number of unique top words: 15\n",
      "\n",
      "[Topic 2]\n",
      "Number of unique top words: 19\n",
      "\n",
      "[Topic 3]\n",
      "Number of unique top words: 18\n",
      "\n",
      "[Topic 4]\n",
      "Number of unique top words: 12\n",
      "\n",
      "[Topic 5]\n",
      "Number of unique top words: 13\n",
      "\n",
      "[Topic 6]\n",
      "Number of unique top words: 14\n",
      "\n",
      "[Topic 7]\n",
      "Number of unique top words: 10\n",
      "\n",
      "[Topic 8]\n",
      "Number of unique top words: 8\n",
      "\n",
      "[Topic 9]\n",
      "Number of unique top words: 20\n",
      "\n",
      "Average number of unique top words: 13.8\n"
     ]
    },
    {
     "data": {
      "text/plain": [
       "13.8"
      ]
     },
     "execution_count": 38,
     "metadata": {},
     "output_type": "execute_result"
    }
   ],
   "source": [
    "compute_average_num_unique_words(topic_word_distributions, num_top_words, tf_vectorizer, True)"
   ]
  },
  {
   "cell_type": "markdown",
   "metadata": {},
   "source": [
    "## Plotting average coherence vs k (number of topics), and average number of unique words vs k\n",
    "\n",
    "Next, we plot the average coherence vs k and the average number of unique words vs k. Note that these are *not* the only topic model metrics available (much like how CH index is not the only metric available for clustering).\n",
    "\n",
    "For both average coherence and average number of unique words, we would like these to be high. In this particular example, it turns out k=2 yields very high values for both but if you look at the topics learned for k=2, they are qualitatively quite bad (basically one topic is gibberish and the other is everything else!). This observation reinforces the important idea that while there exist topic modeling metrics (such as coherence and number of unique words), you should definitely still look at what the learned topics are (e.g., by printing the top words per topic) to help decide on what value of k to use.\n",
    "\n",
    "Also, keep in mind that the results are in some sense \"noisy\" since the LDA fitting procedure is random. We're choosing a specific `random_state` seed value but if we try different random seeds, we can get different results. For simplicity, because LDA fitting is quite computationally expensive, we are *not* doing what we did with GMM's where we did many different random initializations. Thus, the conclusions we draw regarding how many topics to use might actually be different with different random initializations.\n",
    "\n",
    "At least according to average coherence and average number of unique words for the random seed we use, the results below suggests that using k=4 yields average coherence and average number of unique words that are still reasonably high (as good as or almost as good as the k=2 result), and inspecting the topics learned for k=4, they are definitely more interesting than the ones learned for k=2.\n",
    "\n",
    "From qualitatively looking at topics, the k=5, k=6, and k=7 topics also look decent. When k gets too large (e.g., k=10), there start to be topics that look like there might be too much overlap (such as multiple topics that seem to be about computers).\n",
    "\n",
    "Note that one of the things to look out for is whether there are \"stable\" topics, where even for slightly different values of k and different random initializations, LDA keeps finding specific topics (e.g., one on gibberish, one on numbers, etc)."
   ]
  },
  {
   "cell_type": "code",
   "execution_count": 39,
   "metadata": {},
   "outputs": [
    {
     "name": "stdout",
     "output_type": "stream",
     "text": [
      "--------------------------------------------------------------------------------\n",
      "Number of topics: 2\n",
      "\n",
      "Displaying the top 20 words per topic and their probabilities within the topic...\n",
      "\n",
      "[Topic 0]\n",
      "ax : 0.6670609408224907\n",
      "max : 0.04897290356354059\n",
      "g9v : 0.013114422643457437\n",
      "b8f : 0.01275949912939879\n",
      "a86 : 0.010547142707890972\n",
      "pl : 0.008819612623778256\n",
      "145 : 0.00881675090221303\n",
      "1d9 : 0.007305507436215006\n",
      "db : 0.007159573058301496\n",
      "1t : 0.00557821214241208\n",
      "0t : 0.005377089263425004\n",
      "25 : 0.005211780342996569\n",
      "bhj : 0.005104981847457374\n",
      "3t : 0.004773718255446174\n",
      "34u : 0.004726396579798662\n",
      "giz : 0.004584428325550535\n",
      "2di : 0.0045371051926778325\n",
      "55 : 0.004286549836996119\n",
      "14 : 0.004247079858618981\n",
      "wm : 0.004101448384177003\n",
      "\n",
      "[Topic 1]\n",
      "people : 0.00898805018321434\n",
      "like : 0.008724015906915197\n",
      "don : 0.008445318198979547\n",
      "just : 0.008117711165098762\n",
      "know : 0.007726560502119272\n",
      "use : 0.006807342121575315\n",
      "time : 0.006601978036055969\n",
      "think : 0.0065897670065797375\n",
      "does : 0.00599569573547193\n",
      "new : 0.005707662001047904\n",
      "good : 0.005477410696991825\n",
      "edu : 0.005188926692129768\n",
      "make : 0.004467734634022856\n",
      "way : 0.004391946942939348\n",
      "god : 0.0042037116677492575\n",
      "used : 0.00410836241940848\n",
      "say : 0.004042354681202132\n",
      "ve : 0.004042230793685092\n",
      "right : 0.004015407615464605\n",
      "file : 0.003959205422499352\n",
      "\n",
      "\n",
      "\n",
      "--------------------------------------------------------------------------------\n",
      "Number of topics: 3\n",
      "\n",
      "Displaying the top 20 words per topic and their probabilities within the topic...\n",
      "\n",
      "[Topic 0]\n",
      "people : 0.013987379438521899\n",
      "don : 0.011524660963375346\n",
      "just : 0.010967976112691066\n",
      "think : 0.010217784634479091\n",
      "like : 0.009964277649120086\n",
      "know : 0.009234223571289897\n",
      "time : 0.00818251395696018\n",
      "good : 0.007331228467660352\n",
      "god : 0.006936159078250954\n",
      "said : 0.0063851562833832035\n",
      "say : 0.00634022436925281\n",
      "did : 0.005991990842787771\n",
      "right : 0.005942281837723303\n",
      "new : 0.005741586103397407\n",
      "way : 0.005672662128082932\n",
      "does : 0.005643696594475116\n",
      "make : 0.005429269467006293\n",
      "ve : 0.004878420810829421\n",
      "years : 0.004864967623517497\n",
      "going : 0.004673802945477092\n",
      "\n",
      "[Topic 1]\n",
      "use : 0.01244773450065218\n",
      "edu : 0.01126346019083091\n",
      "file : 0.009899941300464012\n",
      "program : 0.007018677072679079\n",
      "information : 0.006912590192704493\n",
      "available : 0.006853780538031965\n",
      "data : 0.006844735735509173\n",
      "like : 0.006720850461439024\n",
      "com : 0.006638007030520864\n",
      "does : 0.006444410483775505\n",
      "mail : 0.006332373100478364\n",
      "windows : 0.006315044731545731\n",
      "using : 0.006245824476178379\n",
      "key : 0.006193923454661427\n",
      "thanks : 0.005966709211683629\n",
      "drive : 0.005867773459190474\n",
      "used : 0.005786160568218421\n",
      "new : 0.005598871363047167\n",
      "know : 0.005332454197272463\n",
      "software : 0.0052909641829535685\n",
      "\n",
      "[Topic 2]\n",
      "ax : 0.68604063105398\n",
      "max : 0.05009072233000451\n",
      "g9v : 0.013485575446910127\n",
      "b8f : 0.01312055234170118\n",
      "a86 : 0.010845241613434808\n",
      "pl : 0.009068576651875217\n",
      "145 : 0.009035086598061274\n",
      "1d9 : 0.00751136296576256\n",
      "db : 0.007365489778231076\n",
      "1t : 0.005734915903615353\n",
      "0t : 0.0055280700414600615\n",
      "bhj : 0.005248219820615878\n",
      "3t : 0.0049075292549175895\n",
      "34u : 0.004858861948257405\n",
      "giz : 0.004712853760341552\n",
      "2di : 0.0046641840133856026\n",
      "25 : 0.00455579193842999\n",
      "55 : 0.004226656256448206\n",
      "wm : 0.004196597365437893\n",
      "14 : 0.004000263167269867\n",
      "\n",
      "\n",
      "\n",
      "--------------------------------------------------------------------------------\n",
      "Number of topics: 4\n",
      "\n",
      "Displaying the top 20 words per topic and their probabilities within the topic...\n",
      "\n",
      "[Topic 0]\n",
      "10 : 0.020775606453347972\n",
      "00 : 0.015890839621149584\n",
      "20 : 0.01370862334313512\n",
      "25 : 0.013601644987850624\n",
      "year : 0.013594635673486039\n",
      "game : 0.012965301259011644\n",
      "15 : 0.01281446793442682\n",
      "team : 0.012416605185666847\n",
      "12 : 0.01200158843407778\n",
      "11 : 0.011583394324247782\n",
      "new : 0.011183206859657917\n",
      "14 : 0.010589397196093081\n",
      "50 : 0.010024991529015564\n",
      "16 : 0.009833008522346818\n",
      "30 : 0.009705445241436112\n",
      "17 : 0.009353751988371137\n",
      "13 : 0.00920312973948339\n",
      "games : 0.00882507455924421\n",
      "18 : 0.008546215566491976\n",
      "40 : 0.007990140347664858\n",
      "\n",
      "[Topic 1]\n",
      "use : 0.013276949661338217\n",
      "edu : 0.012267336422302898\n",
      "file : 0.011566434456562217\n",
      "program : 0.008065671587659575\n",
      "available : 0.007681160188932213\n",
      "information : 0.007480435404680009\n",
      "data : 0.007434941850183757\n",
      "windows : 0.007399896886108286\n",
      "com : 0.007340443977972629\n",
      "like : 0.007152698596414284\n",
      "does : 0.007096002799591012\n",
      "mail : 0.007033384374437087\n",
      "using : 0.0069138854531540644\n",
      "thanks : 0.006892248571444717\n",
      "drive : 0.006788681866371032\n",
      "software : 0.006203964578431319\n",
      "used : 0.005965791036499411\n",
      "know : 0.005872577507701732\n",
      "space : 0.005619311028569055\n",
      "files : 0.005423185775158846\n",
      "\n",
      "[Topic 2]\n",
      "ax : 0.7694336151809155\n",
      "max : 0.05590620315698597\n",
      "g9v : 0.015123723771983425\n",
      "b8f : 0.01471432929726028\n",
      "a86 : 0.012162431729599878\n",
      "pl : 0.010169665152511954\n",
      "145 : 0.009876385397348647\n",
      "1d9 : 0.00842326069634432\n",
      "1t : 0.006430858200869931\n",
      "0t : 0.006198902004432631\n",
      "bhj : 0.005885015641233298\n",
      "3t : 0.005502916442890248\n",
      "34u : 0.005448338232758139\n",
      "giz : 0.0052846043454822305\n",
      "2di : 0.005230018373874223\n",
      "wm : 0.004676695241138819\n",
      "2tm : 0.004438521790306373\n",
      "75u : 0.004438519274554816\n",
      "7ey : 0.003565146249628605\n",
      "0d : 0.0031420297101864476\n",
      "\n",
      "[Topic 3]\n",
      "people : 0.015795911140035916\n",
      "don : 0.012761597900782592\n",
      "just : 0.011936575887743144\n",
      "think : 0.010999709691428675\n",
      "like : 0.010753928501201888\n",
      "know : 0.010324843095132303\n",
      "time : 0.008613581455996083\n",
      "god : 0.007712410358519168\n",
      "say : 0.007084985395544734\n",
      "said : 0.0068370461766585336\n",
      "good : 0.006593197861237151\n",
      "does : 0.006503028570432555\n",
      "did : 0.0063234864798292\n",
      "right : 0.006271311549565499\n",
      "way : 0.006110322587408365\n",
      "make : 0.005871057599517065\n",
      "ve : 0.005157698494190836\n",
      "believe : 0.005155273774726601\n",
      "going : 0.0050781770001162\n",
      "government : 0.004975447044627339\n",
      "\n",
      "\n",
      "\n",
      "--------------------------------------------------------------------------------\n",
      "Number of topics: 5\n",
      "\n",
      "Displaying the top 20 words per topic and their probabilities within the topic...\n",
      "\n",
      "[Topic 0]\n",
      "just : 0.01788986875726951\n",
      "don : 0.01755711550967227\n",
      "like : 0.016386048145262958\n",
      "know : 0.01524576861274901\n",
      "think : 0.014491329975876854\n",
      "good : 0.01276034503962281\n",
      "time : 0.011471087014762548\n",
      "people : 0.011219407785017697\n",
      "ve : 0.00858172660641144\n",
      "did : 0.008116535351038309\n",
      "say : 0.007875888166202504\n",
      "said : 0.007678048035553154\n",
      "way : 0.007542137242486355\n",
      "going : 0.007408145097860342\n",
      "god : 0.0074071880880660305\n",
      "really : 0.007234901025242828\n",
      "didn : 0.006692126916253543\n",
      "right : 0.006667378655305287\n",
      "ll : 0.006630570931032463\n",
      "make : 0.006455959390314091\n",
      "\n",
      "[Topic 1]\n",
      "use : 0.014335647877248416\n",
      "file : 0.01328286066822729\n",
      "edu : 0.011739138588429163\n",
      "windows : 0.008689762826347727\n",
      "program : 0.008652474941699548\n",
      "available : 0.008243612862010944\n",
      "using : 0.007731496553926784\n",
      "data : 0.00771268913740636\n",
      "drive : 0.007664969613300175\n",
      "mail : 0.0076012461807667756\n",
      "does : 0.007511142367459826\n",
      "com : 0.007497719500632217\n",
      "thanks : 0.007330801561702594\n",
      "software : 0.007274022927197559\n",
      "information : 0.007128754550897665\n",
      "like : 0.006685961466907405\n",
      "files : 0.006285441223146031\n",
      "version : 0.006170161674869499\n",
      "used : 0.006165552309976762\n",
      "ftp : 0.006036171238656391\n",
      "\n",
      "[Topic 2]\n",
      "10 : 0.024353843289057202\n",
      "00 : 0.019294286330864854\n",
      "25 : 0.015878390555695204\n",
      "20 : 0.015827143003794033\n",
      "15 : 0.015639730168933063\n",
      "12 : 0.015220670126098361\n",
      "11 : 0.014532714538286085\n",
      "space : 0.01422197905910557\n",
      "14 : 0.013202131067711839\n",
      "16 : 0.012547268137490181\n",
      "17 : 0.011526340617938358\n",
      "new : 0.011458708594472995\n",
      "13 : 0.011406768858740368\n",
      "18 : 0.011265357386054142\n",
      "30 : 0.0111825719875938\n",
      "50 : 0.011024513142984154\n",
      "1993 : 0.010454359422598706\n",
      "edu : 0.009536001262584526\n",
      "40 : 0.009457996901332411\n",
      "24 : 0.009286948231365763\n",
      "\n",
      "[Topic 3]\n",
      "people : 0.0178399256980091\n",
      "government : 0.009986220466769547\n",
      "law : 0.008382618743940959\n",
      "key : 0.008077617684382749\n",
      "use : 0.006580405294050447\n",
      "does : 0.0061882231764507\n",
      "mr : 0.006127602753321975\n",
      "god : 0.006059964929970658\n",
      "gun : 0.0060319137039072475\n",
      "state : 0.005851973769972758\n",
      "public : 0.005584139747842319\n",
      "don : 0.005417000586981113\n",
      "db : 0.005401382408991808\n",
      "right : 0.005245771246385886\n",
      "think : 0.0052296939644315525\n",
      "time : 0.005053885686666727\n",
      "fact : 0.005047232271562822\n",
      "believe : 0.005040817942256452\n",
      "make : 0.005036157216503352\n",
      "president : 0.004997775132483828\n",
      "\n",
      "[Topic 4]\n",
      "ax : 0.7685586473392421\n",
      "max : 0.05579735161776002\n",
      "g9v : 0.015105858999712783\n",
      "b8f : 0.014696929029633137\n",
      "a86 : 0.012147934763857596\n",
      "pl : 0.010123673188735622\n",
      "145 : 0.009894126036774125\n",
      "1d9 : 0.008413042149865624\n",
      "1t : 0.006422912313133303\n",
      "0t : 0.00619118545087805\n",
      "bhj : 0.005877678236271994\n",
      "3t : 0.005495997712040084\n",
      "34u : 0.005441482595443563\n",
      "giz : 0.005277918016504323\n",
      "2di : 0.005223393985632816\n",
      "wm : 0.004666691661868891\n",
      "2tm : 0.004432796847972883\n",
      "75u : 0.0044327955653250825\n",
      "7ey : 0.0035604137127846795\n",
      "0d : 0.0031378082029156784\n",
      "\n",
      "\n",
      "\n"
     ]
    },
    {
     "name": "stdout",
     "output_type": "stream",
     "text": [
      "--------------------------------------------------------------------------------\n",
      "Number of topics: 6\n",
      "\n",
      "Displaying the top 20 words per topic and their probabilities within the topic...\n",
      "\n",
      "[Topic 0]\n",
      "like : 0.016852479569330253\n",
      "just : 0.01624908857341225\n",
      "don : 0.01432168553200919\n",
      "good : 0.014036402102538266\n",
      "think : 0.012288120987062752\n",
      "time : 0.010978590575114808\n",
      "know : 0.010511006543471495\n",
      "year : 0.00907102511248688\n",
      "ve : 0.008935106759377025\n",
      "new : 0.007749648930000116\n",
      "make : 0.007203414753732119\n",
      "game : 0.006984723567373855\n",
      "really : 0.006972371761322122\n",
      "got : 0.006968159542501393\n",
      "car : 0.006801159432506462\n",
      "way : 0.006668961381068071\n",
      "ll : 0.00664002541785189\n",
      "going : 0.006382567779276912\n",
      "better : 0.006331053807802954\n",
      "years : 0.006279998362410046\n",
      "\n",
      "[Topic 1]\n",
      "file : 0.014684399342629453\n",
      "use : 0.014099134117677867\n",
      "windows : 0.010163634821532165\n",
      "program : 0.009171897841265509\n",
      "does : 0.008546948639464508\n",
      "drive : 0.008483613061925693\n",
      "edu : 0.008365693100682532\n",
      "software : 0.008197953667931447\n",
      "thanks : 0.007978565222922599\n",
      "using : 0.00795437668874942\n",
      "available : 0.0077450955684646525\n",
      "data : 0.007258479078655452\n",
      "like : 0.007236749360850795\n",
      "mail : 0.007160801942510292\n",
      "files : 0.006983935748058578\n",
      "card : 0.006944423921097715\n",
      "version : 0.006902729510591516\n",
      "know : 0.006690034282180732\n",
      "ftp : 0.0064153556413757435\n",
      "window : 0.006276827647030434\n",
      "\n",
      "[Topic 2]\n",
      "10 : 0.021815903293409548\n",
      "edu : 0.018380285479533454\n",
      "00 : 0.01803483082137648\n",
      "25 : 0.014346641377615056\n",
      "15 : 0.014006473300625374\n",
      "20 : 0.013852657886336503\n",
      "12 : 0.013794799397224312\n",
      "11 : 0.013765440740076308\n",
      "space : 0.012364813795544105\n",
      "14 : 0.012087206613976949\n",
      "16 : 0.011563089974008333\n",
      "13 : 0.010760464070105856\n",
      "17 : 0.010744102379030224\n",
      "18 : 0.010581320050873477\n",
      "1993 : 0.010443881296028176\n",
      "new : 0.009941470382695364\n",
      "30 : 0.009414776602491102\n",
      "50 : 0.009184951410556724\n",
      "24 : 0.00894451550016259\n",
      "university : 0.008727802570915301\n",
      "\n",
      "[Topic 3]\n",
      "people : 0.014054283476713081\n",
      "key : 0.013209886651381786\n",
      "government : 0.012939236222488508\n",
      "law : 0.011905292967421755\n",
      "use : 0.010790266780879182\n",
      "gun : 0.008957383167459915\n",
      "public : 0.00861957495511258\n",
      "db : 0.008173298248367065\n",
      "state : 0.007676815674760135\n",
      "encryption : 0.006892653708530188\n",
      "used : 0.0068311658156582\n",
      "right : 0.006082953920414708\n",
      "does : 0.005995112438565502\n",
      "make : 0.0056963925958670066\n",
      "security : 0.005643721068334067\n",
      "states : 0.0056279950550295315\n",
      "don : 0.005382255862901452\n",
      "information : 0.0053745945845739915\n",
      "number : 0.0053469989355769765\n",
      "chip : 0.005195152121240399\n",
      "\n",
      "[Topic 4]\n",
      "people : 0.022516118466123676\n",
      "god : 0.018959647828147807\n",
      "don : 0.013423499150045686\n",
      "know : 0.013379340217087539\n",
      "said : 0.013067219553566612\n",
      "think : 0.011459323017328415\n",
      "just : 0.01136021830522689\n",
      "say : 0.010329683194737671\n",
      "did : 0.009679356460128415\n",
      "like : 0.009010560243454594\n",
      "jesus : 0.008763317267492172\n",
      "time : 0.00852354754555519\n",
      "believe : 0.008112383349375724\n",
      "does : 0.007360582520571009\n",
      "mr : 0.006698183820263974\n",
      "way : 0.006385355120724336\n",
      "armenian : 0.006155863843635275\n",
      "life : 0.005743294932649253\n",
      "world : 0.005738305093824698\n",
      "things : 0.005730775986188089\n",
      "\n",
      "[Topic 5]\n",
      "ax : 0.7683372376306211\n",
      "max : 0.055781543045980056\n",
      "g9v : 0.015101062245049828\n",
      "b8f : 0.014692250116136429\n",
      "a86 : 0.01214398848156198\n",
      "pl : 0.010118777713597074\n",
      "145 : 0.009906887185733303\n",
      "1d9 : 0.008410171226900636\n",
      "1t : 0.006420617594518415\n",
      "0t : 0.006188957377092919\n",
      "bhj : 0.005875536516572994\n",
      "3t : 0.005493974745897464\n",
      "34u : 0.005439469299154595\n",
      "giz : 0.005275946436316086\n",
      "2di : 0.0052214381605485945\n",
      "wm : 0.004667039118601915\n",
      "2tm : 0.004431068229625176\n",
      "75u : 0.004431067899009933\n",
      "7ey : 0.0035589358875741774\n",
      "cx : 0.0033107144431898075\n",
      "\n",
      "\n",
      "\n",
      "--------------------------------------------------------------------------------\n",
      "Number of topics: 7\n",
      "\n",
      "Displaying the top 20 words per topic and their probabilities within the topic...\n",
      "\n",
      "[Topic 0]\n",
      "like : 0.017829035658076316\n",
      "just : 0.016967162883081574\n",
      "good : 0.01588049515401469\n",
      "don : 0.0141335431317534\n",
      "think : 0.0120981370364379\n",
      "time : 0.011168025495623677\n",
      "know : 0.009810679625777237\n",
      "year : 0.009551121929627114\n",
      "ve : 0.0088104994782204\n",
      "new : 0.007977488084654876\n",
      "game : 0.007897277764507368\n",
      "really : 0.007436913414854621\n",
      "make : 0.007243692646968024\n",
      "car : 0.007226097605720573\n",
      "better : 0.007118680679023743\n",
      "got : 0.007051795626240988\n",
      "way : 0.006919298167688\n",
      "years : 0.006291294524424631\n",
      "team : 0.006184877235266438\n",
      "right : 0.006170630218570102\n",
      "\n",
      "[Topic 1]\n",
      "file : 0.015615156171206193\n",
      "use : 0.014186847573469306\n",
      "windows : 0.010326170351063793\n",
      "program : 0.009297015395362197\n",
      "drive : 0.008658166342739186\n",
      "software : 0.008390653074867919\n",
      "does : 0.008388253612561859\n",
      "using : 0.008048226290499717\n",
      "thanks : 0.008034733681416596\n",
      "edu : 0.00779893785267434\n",
      "available : 0.007692915544929095\n",
      "files : 0.007198408425196097\n",
      "card : 0.007169341564361409\n",
      "like : 0.007153422106531535\n",
      "data : 0.007031346468962803\n",
      "version : 0.0069552668750789935\n",
      "mail : 0.0068786447104656565\n",
      "know : 0.006546925634983991\n",
      "window : 0.0063578963219649304\n",
      "problem : 0.0063573851446217956\n",
      "\n",
      "[Topic 2]\n",
      "10 : 0.02205483183114173\n",
      "edu : 0.01949122102787648\n",
      "00 : 0.018245947709002286\n",
      "25 : 0.014388159272812328\n",
      "15 : 0.014186533582213516\n",
      "12 : 0.014021331089184158\n",
      "20 : 0.013983503222042955\n",
      "11 : 0.013962456662952205\n",
      "space : 0.013311825146601914\n",
      "14 : 0.012054671704414542\n",
      "16 : 0.011420189084481638\n",
      "13 : 0.010826406189119531\n",
      "17 : 0.010765250659190486\n",
      "1993 : 0.010577851372959477\n",
      "18 : 0.01044367907986733\n",
      "new : 0.010046128754133521\n",
      "30 : 0.009530351965624458\n",
      "50 : 0.00923767191424363\n",
      "24 : 0.00907196765849678\n",
      "university : 0.00878790722884679\n",
      "\n",
      "[Topic 3]\n",
      "key : 0.01800660906978901\n",
      "government : 0.014289806229344726\n",
      "use : 0.013392912240594185\n",
      "gun : 0.011940602564933383\n",
      "law : 0.011315145256077451\n",
      "db : 0.01102164971314816\n",
      "public : 0.01075905653405362\n",
      "people : 0.010666502862830683\n",
      "encryption : 0.00928684949995958\n",
      "chip : 0.007710219777670045\n",
      "used : 0.007466027415875519\n",
      "security : 0.00736173387282621\n",
      "state : 0.006983957793806743\n",
      "control : 0.00669931550303187\n",
      "keys : 0.006540765470165359\n",
      "number : 0.006536663158213455\n",
      "clipper : 0.0064013744620944795\n",
      "privacy : 0.006210533192503303\n",
      "information : 0.005989612884353921\n",
      "make : 0.005894046622100199\n",
      "\n",
      "[Topic 4]\n",
      "people : 0.027940492096063682\n",
      "don : 0.017733919199035594\n",
      "said : 0.017161206880436805\n",
      "know : 0.016831191462503392\n",
      "just : 0.01341203639960515\n",
      "think : 0.012978914267683337\n",
      "did : 0.011581335241183781\n",
      "like : 0.010359404215777348\n",
      "going : 0.009918865021318748\n",
      "say : 0.009660452752960496\n",
      "mr : 0.009638214840079087\n",
      "time : 0.009511945756932847\n",
      "didn : 0.009118489827328715\n",
      "armenian : 0.008272743373564519\n",
      "right : 0.007113216304728201\n",
      "want : 0.007072928593435861\n",
      "president : 0.007006147876163486\n",
      "armenians : 0.006773043856663243\n",
      "ve : 0.006768157094540119\n",
      "turkish : 0.006283041556202234\n",
      "\n",
      "[Topic 5]\n",
      "ax : 0.7684671646505757\n",
      "max : 0.05578130264602271\n",
      "g9v : 0.015103297797248798\n",
      "b8f : 0.0146944164219419\n",
      "a86 : 0.012145722768302806\n",
      "pl : 0.010119611664950635\n",
      "145 : 0.009896058325559759\n",
      "1d9 : 0.008411272996077761\n",
      "1t : 0.006421383205613338\n",
      "0t : 0.0061896837289940184\n",
      "bhj : 0.005876208656622851\n",
      "3t : 0.00549458468961693\n",
      "34u : 0.0054400681477923\n",
      "giz : 0.005276516325699887\n",
      "2di : 0.005221998811577763\n",
      "wm : 0.004667560554911541\n",
      "2tm : 0.00443149489202925\n",
      "75u : 0.004431494768341797\n",
      "7ey : 0.0035592147026092327\n",
      "cx : 0.0035218387215253883\n",
      "\n",
      "[Topic 6]\n",
      "god : 0.030466227611854337\n",
      "jesus : 0.014268222820384709\n",
      "people : 0.014077554732074806\n",
      "does : 0.013116235482918112\n",
      "believe : 0.010887373038089988\n",
      "israel : 0.00893202733613483\n",
      "christian : 0.008832688982006079\n",
      "bible : 0.008561705295926397\n",
      "true : 0.008338171554544157\n",
      "say : 0.008201329034166297\n",
      "think : 0.007794427072508322\n",
      "life : 0.007753579926468761\n",
      "church : 0.00754561925678073\n",
      "question : 0.007398164489349969\n",
      "religion : 0.006487366095143022\n",
      "faith : 0.0064375153505617285\n",
      "christ : 0.006280904439057572\n",
      "christians : 0.006258098302843449\n",
      "way : 0.006243292939675113\n",
      "point : 0.0060150203404209495\n",
      "\n",
      "\n",
      "\n",
      "--------------------------------------------------------------------------------\n",
      "Number of topics: 8\n",
      "\n",
      "Displaying the top 20 words per topic and their probabilities within the topic...\n",
      "\n",
      "[Topic 0]\n",
      "like : 0.017661001366634312\n",
      "just : 0.016866606325517113\n",
      "good : 0.016185365929317633\n",
      "don : 0.014220124835484625\n",
      "think : 0.011534850091803652\n",
      "time : 0.011208080557975517\n",
      "year : 0.010238062877606598\n",
      "know : 0.010061470659389418\n",
      "ve : 0.009095127769626954\n",
      "new : 0.008359869162322606\n",
      "game : 0.008229422828407875\n",
      "car : 0.00774755648361833\n",
      "really : 0.007473629499084065\n",
      "make : 0.0073903849890153\n",
      "got : 0.007227359419145756\n",
      "better : 0.007184019628962949\n",
      "way : 0.0068432272093408575\n",
      "ll : 0.006464853766416209\n",
      "team : 0.006457862531771675\n",
      "years : 0.006445413687116738\n",
      "\n",
      "[Topic 1]\n",
      "use : 0.014423728653978465\n",
      "file : 0.012381234894502144\n",
      "windows : 0.01215212554781952\n",
      "drive : 0.010204610555986631\n",
      "program : 0.009567308170146097\n",
      "does : 0.009358234567371048\n",
      "using : 0.008830810635433147\n",
      "card : 0.008343135987445774\n",
      "thanks : 0.008329872605144277\n",
      "software : 0.008231538644113391\n",
      "version : 0.007777843273367926\n",
      "like : 0.007644264115855421\n",
      "window : 0.007497499823544402\n",
      "problem : 0.007486899473908847\n",
      "dos : 0.007293619631793128\n",
      "image : 0.0071517838806143905\n",
      "know : 0.007099478844245626\n",
      "scsi : 0.006981563986623095\n",
      "files : 0.006936792549573861\n",
      "graphics : 0.006821902909722337\n",
      "\n",
      "[Topic 2]\n",
      "10 : 0.0321393562384871\n",
      "00 : 0.027401034052146143\n",
      "25 : 0.022109258720895357\n",
      "11 : 0.021123805405801156\n",
      "15 : 0.020901114367972533\n",
      "12 : 0.020749773281693463\n",
      "20 : 0.020730858616827184\n",
      "14 : 0.018664930285562584\n",
      "16 : 0.018208125180919188\n",
      "17 : 0.016491699262545866\n",
      "13 : 0.016362321996789678\n",
      "18 : 0.015392566359377288\n",
      "24 : 0.01373613339743992\n",
      "50 : 0.013221113556174459\n",
      "30 : 0.0132166210485867\n",
      "19 : 0.01257184418146775\n",
      "55 : 0.012422147000617457\n",
      "21 : 0.01235082366937971\n",
      "40 : 0.012341784342925264\n",
      "23 : 0.011258793493614343\n",
      "\n",
      "[Topic 3]\n",
      "key : 0.02513317274301868\n",
      "government : 0.01911745999987274\n",
      "gun : 0.016781967437429032\n",
      "use : 0.015563194721814753\n",
      "db : 0.015449234604217916\n",
      "law : 0.013641702326974241\n",
      "encryption : 0.012329348351085252\n",
      "chip : 0.011672097424691798\n",
      "people : 0.01008871096541619\n",
      "public : 0.01008382216625293\n",
      "keys : 0.009156908890308364\n",
      "clipper : 0.008977680963315216\n",
      "used : 0.008576281443049442\n",
      "guns : 0.0076810595002643365\n",
      "number : 0.007662337749576472\n",
      "control : 0.007304496313123503\n",
      "security : 0.007262506820998999\n",
      "state : 0.006920459974583096\n",
      "bit : 0.006900738744266417\n",
      "make : 0.006327598108311477\n",
      "\n",
      "[Topic 4]\n",
      "people : 0.024887139697562826\n",
      "said : 0.020969477483719582\n",
      "know : 0.015062099253364209\n",
      "don : 0.013073988635596516\n",
      "mr : 0.012202594755682358\n",
      "did : 0.011799291498782583\n",
      "armenian : 0.011151352972789018\n",
      "going : 0.010884620721062213\n",
      "didn : 0.010526919971877418\n",
      "president : 0.010119118720817959\n",
      "just : 0.009918308988397673\n",
      "time : 0.009522441062580036\n",
      "think : 0.009461136850750475\n",
      "armenians : 0.009129748124515875\n",
      "turkish : 0.00846922321899605\n",
      "like : 0.008284154648535543\n",
      "say : 0.00798588999782298\n",
      "went : 0.007768814905213023\n",
      "war : 0.0071963719818615044\n",
      "told : 0.006949709018715218\n",
      "\n",
      "[Topic 5]\n",
      "ax : 0.7711893587818562\n",
      "max : 0.0559542273907728\n",
      "g9v : 0.015156559803946878\n",
      "b8f : 0.014746229918060953\n",
      "a86 : 0.012188506975756679\n",
      "pl : 0.010150072669210678\n",
      "145 : 0.009899146883979172\n",
      "1d9 : 0.008440826927797771\n",
      "1t : 0.006443887787942356\n",
      "0t : 0.006211367948434271\n",
      "bhj : 0.005896781707820299\n",
      "3t : 0.005513806686448754\n",
      "34u : 0.005459096523850719\n",
      "giz : 0.005294965122729864\n",
      "2di : 0.005240254464921044\n",
      "wm : 0.004686555168112836\n",
      "2tm : 0.004446950043732632\n",
      "75u : 0.004446949965272228\n",
      "7ey : 0.0035715796395607833\n",
      "0d : 0.003147569707121064\n",
      "\n",
      "[Topic 6]\n",
      "edu : 0.020258005577058102\n",
      "information : 0.018054330270947612\n",
      "space : 0.015401707346716424\n",
      "mail : 0.014022074421910844\n",
      "com : 0.012276052521184716\n",
      "file : 0.011722450391621772\n",
      "send : 0.010574219459879944\n",
      "list : 0.01044350563583072\n",
      "available : 0.009372790383732387\n",
      "university : 0.00924721184464295\n",
      "new : 0.00894135853884839\n",
      "internet : 0.008889356186057327\n",
      "research : 0.008629968472021568\n",
      "data : 0.008398654806017737\n",
      "email : 0.008376287346056013\n",
      "nasa : 0.00837495038392586\n",
      "anonymous : 0.007980649560909735\n",
      "address : 0.007507564553577955\n",
      "ftp : 0.007503942031897771\n",
      "computer : 0.007312447254529496\n",
      "\n",
      "[Topic 7]\n",
      "god : 0.021211670592902524\n",
      "people : 0.01932816808591011\n",
      "think : 0.01264690641131503\n",
      "don : 0.012231786264765837\n",
      "does : 0.01205294816757208\n",
      "just : 0.010700113360800064\n",
      "believe : 0.010543942149482385\n",
      "jesus : 0.009893312119046212\n",
      "say : 0.009839471792239337\n",
      "know : 0.009515796489662921\n",
      "like : 0.008773553704861584\n",
      "time : 0.007256185089332646\n",
      "way : 0.007250653178948299\n",
      "true : 0.0070260883968934346\n",
      "question : 0.006725422490598352\n",
      "life : 0.0065649652969491335\n",
      "make : 0.006464572558674824\n",
      "good : 0.006440231163175911\n",
      "things : 0.0063245077339640346\n",
      "point : 0.006211538865620111\n",
      "\n",
      "\n",
      "\n"
     ]
    },
    {
     "name": "stdout",
     "output_type": "stream",
     "text": [
      "--------------------------------------------------------------------------------\n",
      "Number of topics: 9\n",
      "\n",
      "Displaying the top 20 words per topic and their probabilities within the topic...\n",
      "\n",
      "[Topic 0]\n",
      "like : 0.016290666444561043\n",
      "just : 0.016109572302259314\n",
      "good : 0.01591998408545131\n",
      "don : 0.01345682928131839\n",
      "think : 0.01267532379437271\n",
      "year : 0.012031043180593363\n",
      "time : 0.011506208971841377\n",
      "game : 0.0095936756698935\n",
      "car : 0.008861658870142054\n",
      "new : 0.008491789796663759\n",
      "ve : 0.00829786816819498\n",
      "know : 0.0078067833055090775\n",
      "team : 0.007707870425712116\n",
      "make : 0.007674871319121082\n",
      "got : 0.007590768892011672\n",
      "years : 0.007521317603459092\n",
      "better : 0.007518048145453325\n",
      "really : 0.007346372828973151\n",
      "way : 0.007034423360390621\n",
      "power : 0.006566448188612813\n",
      "\n",
      "[Topic 1]\n",
      "drive : 0.015355231395836447\n",
      "use : 0.012559908422174576\n",
      "card : 0.011884579329690953\n",
      "file : 0.010715825975593545\n",
      "dos : 0.010264631487329215\n",
      "scsi : 0.010213702586526673\n",
      "disk : 0.00980979067318461\n",
      "software : 0.009777678629631031\n",
      "windows : 0.009089278470122012\n",
      "output : 0.008908559762058713\n",
      "program : 0.008850370933872623\n",
      "pc : 0.00879408146612969\n",
      "mac : 0.008695904083631504\n",
      "version : 0.008565966751210267\n",
      "bit : 0.008356445695350767\n",
      "available : 0.0079203296723622\n",
      "data : 0.007862687522739291\n",
      "using : 0.007559820136801286\n",
      "memory : 0.007374272389157403\n",
      "graphics : 0.006996138114178558\n",
      "\n",
      "[Topic 2]\n",
      "10 : 0.03259595500403585\n",
      "00 : 0.027458258523894066\n",
      "25 : 0.022241790633267193\n",
      "11 : 0.021703064879917067\n",
      "15 : 0.021100612635025648\n",
      "12 : 0.020702019961833518\n",
      "20 : 0.02065322306164026\n",
      "14 : 0.018963443912077133\n",
      "16 : 0.01758453084887431\n",
      "17 : 0.017079653636598024\n",
      "18 : 0.016823140412694174\n",
      "13 : 0.01681217395503477\n",
      "24 : 0.013625759689938424\n",
      "30 : 0.013231584439439018\n",
      "19 : 0.013195740624319595\n",
      "21 : 0.013059166511249538\n",
      "55 : 0.012878149024772143\n",
      "50 : 0.012614666603984732\n",
      "1993 : 0.012426639548509194\n",
      "40 : 0.012030551064452609\n",
      "\n",
      "[Topic 3]\n",
      "key : 0.023818024974100932\n",
      "government : 0.019567261091960143\n",
      "gun : 0.01617482571941761\n",
      "use : 0.015009725824652424\n",
      "db : 0.014752485504738958\n",
      "law : 0.014301152014809144\n",
      "encryption : 0.011972229607872706\n",
      "chip : 0.01096827240182045\n",
      "public : 0.010886803841178723\n",
      "people : 0.009753634308839448\n",
      "keys : 0.008747776718467298\n",
      "clipper : 0.008527619065533443\n",
      "state : 0.008383659756993565\n",
      "used : 0.008121190524315217\n",
      "control : 0.007863005251055525\n",
      "states : 0.007660020522145991\n",
      "security : 0.007562347080395562\n",
      "number : 0.007519688492694022\n",
      "guns : 0.007322302085650049\n",
      "private : 0.006143477546789012\n",
      "\n",
      "[Topic 4]\n",
      "people : 0.024464346175928676\n",
      "said : 0.022093259490519532\n",
      "know : 0.014674912728296376\n",
      "mr : 0.013071067999804589\n",
      "don : 0.012797259408076567\n",
      "did : 0.012199270708349988\n",
      "armenian : 0.01180250811552727\n",
      "going : 0.010906337510684072\n",
      "didn : 0.010680180547700683\n",
      "president : 0.010184523418148803\n",
      "just : 0.009834948699968149\n",
      "armenians : 0.009662803350892191\n",
      "time : 0.00944111430951646\n",
      "turkish : 0.008963691654384754\n",
      "think : 0.008659311396368904\n",
      "went : 0.008311690620289648\n",
      "like : 0.008110318918147803\n",
      "say : 0.007899000109468776\n",
      "war : 0.007325974947886871\n",
      "stephanopoulos : 0.007311246529044677\n",
      "\n",
      "[Topic 5]\n",
      "ax : 0.7713893701243456\n",
      "max : 0.05594034774767906\n",
      "g9v : 0.015160304465654709\n",
      "b8f : 0.014749868064037639\n",
      "a86 : 0.01219148115730736\n",
      "pl : 0.01013813587478889\n",
      "145 : 0.009902252401484778\n",
      "1d9 : 0.00844282850501952\n",
      "1t : 0.006445371213453421\n",
      "0t : 0.006212790769767541\n",
      "bhj : 0.005898122839172306\n",
      "3t : 0.005515048719574262\n",
      "34u : 0.0054603240347023485\n",
      "giz : 0.005296149684396151\n",
      "2di : 0.005241424828285781\n",
      "wm : 0.004704103574389207\n",
      "2tm : 0.004447914459546839\n",
      "75u : 0.004447914430547118\n",
      "7ey : 0.0035723168080773996\n",
      "0d : 0.0031481983089928917\n",
      "\n",
      "[Topic 6]\n",
      "edu : 0.020347867879674915\n",
      "space : 0.01961543936181583\n",
      "information : 0.018395816486433427\n",
      "mail : 0.01371460159720653\n",
      "new : 0.010852022757948507\n",
      "available : 0.010736155983573012\n",
      "send : 0.010504234777284545\n",
      "data : 0.010488996432860756\n",
      "university : 0.010305761977048035\n",
      "internet : 0.010292863424167912\n",
      "com : 0.010133053777612283\n",
      "list : 0.010111473752876273\n",
      "research : 0.009687684361364924\n",
      "nasa : 0.009677069669675794\n",
      "anonymous : 0.00905979536800793\n",
      "computer : 0.00880849572226842\n",
      "ftp : 0.008645832649986562\n",
      "email : 0.008418359739294336\n",
      "pub : 0.00838294977956079\n",
      "address : 0.007352260271304426\n",
      "\n",
      "[Topic 7]\n",
      "god : 0.021638014099719032\n",
      "people : 0.020368373457676902\n",
      "think : 0.013015923346792323\n",
      "don : 0.011873997247862969\n",
      "does : 0.011620495821675864\n",
      "believe : 0.010982743506964843\n",
      "just : 0.010320891798604945\n",
      "jesus : 0.01009179209040601\n",
      "say : 0.009923609097587726\n",
      "know : 0.008802096584230647\n",
      "like : 0.008445597225743822\n",
      "time : 0.007227534559055178\n",
      "true : 0.007177391886006824\n",
      "way : 0.007116106157627439\n",
      "life : 0.006691178334573095\n",
      "question : 0.006635274765708483\n",
      "good : 0.006511182744946799\n",
      "make : 0.006505774231532127\n",
      "things : 0.00634022634922335\n",
      "israel : 0.006314447957110356\n",
      "\n",
      "[Topic 8]\n",
      "know : 0.02084026377842588\n",
      "thanks : 0.02004603785923407\n",
      "like : 0.017712648630046273\n",
      "file : 0.016843371886460543\n",
      "use : 0.01592734499197518\n",
      "does : 0.015686372368193854\n",
      "don : 0.013452922920348517\n",
      "just : 0.012255548254389185\n",
      "problem : 0.01149670947391793\n",
      "help : 0.011339457759682016\n",
      "windows : 0.010578218245142773\n",
      "want : 0.009746468826662831\n",
      "files : 0.00964050249341239\n",
      "need : 0.009517829638799323\n",
      "ve : 0.009153773098338543\n",
      "edu : 0.00914708737862593\n",
      "mail : 0.00888890466116911\n",
      "using : 0.008269066288287105\n",
      "hi : 0.007652085721994726\n",
      "window : 0.007480680480211786\n",
      "\n",
      "\n",
      "\n",
      "--------------------------------------------------------------------------------\n",
      "Number of topics: 10\n",
      "\n",
      "Displaying the top 20 words per topic and their probabilities within the topic...\n",
      "\n",
      "[Topic 0]\n",
      "good : 0.01592254908129389\n",
      "like : 0.01584763067117222\n",
      "just : 0.015714974597809874\n",
      "think : 0.014658035148150044\n",
      "don : 0.01336602502776772\n",
      "time : 0.012159230893303024\n",
      "year : 0.011442050656933937\n",
      "new : 0.008768217977593912\n",
      "years : 0.00843922077825026\n",
      "game : 0.008416482579473757\n",
      "make : 0.008318270139852606\n",
      "ve : 0.00805613381872604\n",
      "know : 0.00786552901690738\n",
      "going : 0.007357414502894818\n",
      "better : 0.007305177940555176\n",
      "really : 0.007282768897233162\n",
      "got : 0.007100242166187475\n",
      "way : 0.007020258221618519\n",
      "team : 0.006901091494924322\n",
      "car : 0.006860678090522195\n",
      "\n",
      "[Topic 1]\n",
      "drive : 0.025114459755967225\n",
      "card : 0.01904504522714293\n",
      "scsi : 0.01574807346309645\n",
      "disk : 0.015086151949241311\n",
      "use : 0.01311205775591249\n",
      "output : 0.012487568705565076\n",
      "file : 0.011474974819227298\n",
      "bit : 0.011450491727323115\n",
      "hard : 0.010426435918865882\n",
      "entry : 0.009962381704950415\n",
      "memory : 0.009892936703385204\n",
      "mac : 0.009531449582937765\n",
      "video : 0.009451338641933656\n",
      "drives : 0.009074000962777757\n",
      "pc : 0.0090703286112168\n",
      "windows : 0.008135023862197355\n",
      "16 : 0.00798823814975238\n",
      "bus : 0.007927283819698584\n",
      "controller : 0.007902057876189581\n",
      "program : 0.00784268458596016\n",
      "\n",
      "[Topic 2]\n",
      "10 : 0.032029220388909305\n",
      "00 : 0.026964330541393168\n",
      "25 : 0.021829691245344042\n",
      "15 : 0.0206063577495655\n",
      "11 : 0.02060435039972444\n",
      "20 : 0.02049576092374077\n",
      "12 : 0.020376684447947477\n",
      "14 : 0.018055470834875288\n",
      "16 : 0.016460265629681656\n",
      "13 : 0.016023012407497653\n",
      "17 : 0.016018903187206005\n",
      "18 : 0.015931416080248326\n",
      "30 : 0.013487129884524487\n",
      "50 : 0.013323083130055324\n",
      "24 : 0.01312690458019883\n",
      "19 : 0.012520561557602226\n",
      "55 : 0.01250023314639117\n",
      "21 : 0.01226424792228292\n",
      "40 : 0.01192815257556637\n",
      "22 : 0.011207231765196151\n",
      "\n",
      "[Topic 3]\n",
      "key : 0.02286656504255774\n",
      "government : 0.020853124988437204\n",
      "gun : 0.016677031123281342\n",
      "db : 0.015171423239595656\n",
      "law : 0.014649075730175279\n",
      "use : 0.014111126676381442\n",
      "people : 0.012470526208203755\n",
      "encryption : 0.010285224622752638\n",
      "public : 0.010243636203369282\n",
      "state : 0.009947341601966503\n",
      "chip : 0.009825392329557068\n",
      "keys : 0.008779074363170275\n",
      "clipper : 0.00860324584622739\n",
      "states : 0.00831822632566845\n",
      "control : 0.008226551411556786\n",
      "number : 0.008019292972255121\n",
      "used : 0.007703329865061306\n",
      "guns : 0.007611516117671719\n",
      "health : 0.0074015183803604065\n",
      "right : 0.006935759695920386\n",
      "\n",
      "[Topic 4]\n",
      "people : 0.02431129507816113\n",
      "said : 0.02424559321880428\n",
      "mr : 0.014104981910179977\n",
      "know : 0.013468288248487321\n",
      "armenian : 0.013342199409186437\n",
      "did : 0.01241301316278436\n",
      "don : 0.011539776119380056\n",
      "didn : 0.010944034432906041\n",
      "armenians : 0.01092331207436881\n",
      "turkish : 0.010132982460837872\n",
      "going : 0.009685278853463312\n",
      "went : 0.009482314763594613\n",
      "time : 0.009318116756590049\n",
      "president : 0.009271538629901233\n",
      "just : 0.009064415387593214\n",
      "war : 0.008272822237163071\n",
      "stephanopoulos : 0.008264930815089574\n",
      "jews : 0.007943422443838038\n",
      "say : 0.00778579920403193\n",
      "like : 0.007637486984592752\n",
      "\n",
      "[Topic 5]\n",
      "edu : 0.020183125501381658\n",
      "available : 0.01462208677587774\n",
      "window : 0.0145175966975094\n",
      "windows : 0.014508094728017699\n",
      "image : 0.014202932981631174\n",
      "version : 0.013567233933254529\n",
      "use : 0.013559184672232326\n",
      "software : 0.012291845460115209\n",
      "program : 0.011764165563758247\n",
      "graphics : 0.011586390886004624\n",
      "ftp : 0.010473416938225266\n",
      "server : 0.010462468444821689\n",
      "file : 0.010300988884546303\n",
      "using : 0.010279537804707145\n",
      "dos : 0.01018612827417759\n",
      "com : 0.010041868375764224\n",
      "display : 0.00950825069896609\n",
      "sun : 0.00841184948299741\n",
      "set : 0.008165843948144175\n",
      "motif : 0.008043634521501537\n",
      "\n",
      "[Topic 6]\n",
      "space : 0.02122937597565116\n",
      "information : 0.020605813849808002\n",
      "edu : 0.01308609835593781\n",
      "mail : 0.012122425926729597\n",
      "data : 0.012063443176285979\n",
      "new : 0.011922325100362566\n",
      "internet : 0.011805664499152158\n",
      "university : 0.011648063401924154\n",
      "nasa : 0.011260324762512446\n",
      "research : 0.011214434673689003\n",
      "computer : 0.010579251202203384\n",
      "send : 0.010082352367484646\n",
      "file : 0.009827860114832524\n",
      "anonymous : 0.009393114153924213\n",
      "list : 0.00884288720549653\n",
      "email : 0.008556680088168823\n",
      "technology : 0.008502540090233126\n",
      "address : 0.008453084833023794\n",
      "available : 0.008312068272885744\n",
      "com : 0.00801043664202556\n",
      "\n",
      "[Topic 7]\n",
      "god : 0.024214358169839564\n",
      "people : 0.019831156312240143\n",
      "think : 0.012548053861881268\n",
      "does : 0.011687743323611263\n",
      "jesus : 0.011293758739612999\n",
      "believe : 0.011272045532292002\n",
      "don : 0.010834089093902355\n",
      "say : 0.010114162234632518\n",
      "just : 0.009461924824189793\n",
      "know : 0.008276216060086664\n",
      "true : 0.007825806533253571\n",
      "like : 0.007419673532456676\n",
      "way : 0.007242156428134814\n",
      "life : 0.007196868607195379\n",
      "christian : 0.007055010808531854\n",
      "time : 0.0070227629792582015\n",
      "israel : 0.006934392612716913\n",
      "bible : 0.006745791914802942\n",
      "question : 0.0064075417201172645\n",
      "things : 0.00637398445911145\n",
      "\n",
      "[Topic 8]\n",
      "know : 0.026134132260814825\n",
      "like : 0.021317018148473164\n",
      "don : 0.020053165678589904\n",
      "thanks : 0.019992616431884633\n",
      "just : 0.017657856830905833\n",
      "does : 0.0150396282979183\n",
      "ve : 0.012652637710485493\n",
      "help : 0.01128297754768276\n",
      "want : 0.010651057192301491\n",
      "use : 0.010537774368367085\n",
      "mail : 0.010021837288920494\n",
      "problem : 0.00966309187171309\n",
      "edu : 0.009128531452268497\n",
      "good : 0.009109138814944394\n",
      "post : 0.008996488682684118\n",
      "file : 0.008922092098023733\n",
      "need : 0.008706364795622623\n",
      "looking : 0.0073136427958200205\n",
      "time : 0.007174443660697419\n",
      "bike : 0.007034238505179918\n",
      "\n",
      "[Topic 9]\n",
      "ax : 0.7717971886082466\n",
      "max : 0.055921756933680296\n",
      "g9v : 0.015168170327094601\n",
      "b8f : 0.014757516856658555\n",
      "a86 : 0.012197776886748507\n",
      "pl : 0.010147908394792498\n",
      "145 : 0.009912072552667453\n",
      "1d9 : 0.008447141779981918\n",
      "1t : 0.006448628175420717\n",
      "0t : 0.006215924619143329\n",
      "bhj : 0.005901090271008161\n",
      "3t : 0.005517813662944112\n",
      "34u : 0.005463059915719654\n",
      "giz : 0.00529879860622197\n",
      "2di : 0.005244044809233216\n",
      "wm : 0.004677791543976195\n",
      "2tm : 0.004450114768534644\n",
      "75u : 0.00445011475803213\n",
      "7ey : 0.003574054032872233\n",
      "0d : 0.0031497118103811115\n",
      "\n",
      "\n",
      "\n"
     ]
    }
   ],
   "source": [
    "k_values = range(2, 11)\n",
    "avg_coherences = []\n",
    "avg_num_unique_words = []\n",
    "\n",
    "for k in k_values:\n",
    "    lda_candidate = LatentDirichletAllocation(n_components=k, random_state=0)\n",
    "    lda_candidate.fit(tf)\n",
    "    topic_word_distributions = np.array([row / row.sum() for row in lda_candidate.components_])\n",
    "    print('-' * 80)\n",
    "    print('Number of topics:', k)\n",
    "    print()\n",
    "    print_top_words(topic_word_distributions, num_top_words, tf_vectorizer)\n",
    "    print()\n",
    "    print()\n",
    "    \n",
    "    avg_coherences.append(compute_average_coherence(topic_word_distributions, num_top_words, tf_vectorizer, False))\n",
    "    avg_num_unique_words.append(compute_average_num_unique_words(topic_word_distributions, num_top_words, tf_vectorizer, False))"
   ]
  },
  {
   "cell_type": "code",
   "execution_count": 40,
   "metadata": {},
   "outputs": [
    {
     "data": {
      "text/plain": [
       "Text(0, 0.5, 'Average coherence')"
      ]
     },
     "execution_count": 40,
     "metadata": {},
     "output_type": "execute_result"
    },
    {
     "data": {
      "image/png": "[encoded data removed]",
      "text/plain": [
       "<Figure size 432x288 with 1 Axes>"
      ]
     },
     "metadata": {
      "needs_background": "light"
     },
     "output_type": "display_data"
    }
   ],
   "source": [
    "plt.plot(k_values, avg_coherences)\n",
    "plt.xlabel('Number of topics')\n",
    "plt.ylabel('Average coherence')\n",
    "\n",
    "# For differnt number of topics, I fitted a different LDA\n",
    "\n"
   ]
  },
  {
   "cell_type": "code",
   "execution_count": 41,
   "metadata": {},
   "outputs": [
    {
     "data": {
      "text/plain": [
       "Text(0, 0.5, 'Average number of unique words')"
      ]
     },
     "execution_count": 41,
     "metadata": {},
     "output_type": "execute_result"
    },
    {
     "data": {
      "image/png": "[encoded data removed]",
      "text/plain": [
       "<Figure size 432x288 with 1 Axes>"
      ]
     },
     "metadata": {
      "needs_background": "light"
     },
     "output_type": "display_data"
    }
   ],
   "source": [
    "plt.plot(k_values, avg_num_unique_words)\n",
    "plt.xlabel('Number of topics')\n",
    "plt.ylabel('Average number of unique words')\n",
    "\n",
    "# For different topic models, the average number of unique words\n",
    "# We want coherence to be high and unique words to be high\n",
    "\n",
    "# Number of topic = 2, gets me high coherence and hogh unique words. BUT, for model 2, there are 2 topics: garbage and not garbage!\n",
    "# that doesnt help a lot\n",
    "\n",
    "# So, you want to tolerate a lower value for one of the metrics, but look at the actual topics to interpret what is going on\n",
    "# If we see resutlts of 4, starts to make more ssense but feels like still low\n",
    "# go to 5, starts to make a bit more sense\n",
    "\n"
   ]
  }
 ],
 "metadata": {
  "kernelspec": {
   "display_name": "Python 3.8.11 ('UDA_RIG')",
   "language": "python",
   "name": "python3"
  },
  "language_info": {
   "codemirror_mode": {
    "name": "ipython",
    "version": 3
   },
   "file_extension": ".py",
   "mimetype": "text/x-python",
   "name": "python",
   "nbconvert_exporter": "python",
   "pygments_lexer": "ipython3",
   "version": "3.9.16"
  },
  "vscode": {
   "interpreter": {
    "hash": "d1a526087eeeed7e3a2dd7dbe3d8582928a2e8e80d21671a2817819bcd9f426f"
   }
  }
 },
 "nbformat": 4,
 "nbformat_minor": 2
}

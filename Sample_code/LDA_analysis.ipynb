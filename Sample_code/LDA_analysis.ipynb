{
 "cells": [
  {
   "attachments": {},
   "cell_type": "markdown",
   "metadata": {},
   "source": [
    "# TO DO\n",
    "- MORE Visualizations : Choosing the number of topics, results graph...\n",
    "- Where to include optimal number of topics, coherence, perplexity y unique words?\n",
    "- Interpretation of Lambda (l)\n",
    "- Intepretation of perplexity and sparsity and loglikelihood (include formulas)\n",
    "- Choosing the best model (grid search based on loglikelihood?)\n",
    "- Give each topic a \"name\"\n",
    "- Add coherence to the metrics????\n",
    "- 'make pretty'"
   ]
  },
  {
   "cell_type": "code",
   "execution_count": null,
   "metadata": {},
   "outputs": [],
   "source": []
  },
  {
   "cell_type": "code",
   "execution_count": null,
   "metadata": {},
   "outputs": [],
   "source": []
  },
  {
   "attachments": {},
   "cell_type": "markdown",
   "metadata": {},
   "source": [
    "# LDA analysis"
   ]
  },
  {
   "cell_type": "code",
   "execution_count": 53,
   "metadata": {},
   "outputs": [
    {
     "name": "stderr",
     "output_type": "stream",
     "text": [
      "[nltk_data] Downloading package punkt to /Users/ribarragi/nltk_data...\n",
      "[nltk_data]   Package punkt is already up-to-date!\n",
      "[nltk_data] Downloading package stopwords to\n",
      "[nltk_data]     /Users/ribarragi/nltk_data...\n",
      "[nltk_data]   Package stopwords is already up-to-date!\n",
      "[nltk_data] Downloading package wordnet to\n",
      "[nltk_data]     /Users/ribarragi/nltk_data...\n",
      "[nltk_data]   Package wordnet is already up-to-date!\n",
      "[nltk_data] Downloading package omw-1.4 to\n",
      "[nltk_data]     /Users/ribarragi/nltk_data...\n",
      "[nltk_data]   Package omw-1.4 is already up-to-date!\n",
      "[nltk_data] Downloading package averaged_perceptron_tagger to\n",
      "[nltk_data]     /Users/ribarragi/nltk_data...\n",
      "[nltk_data]   Package averaged_perceptron_tagger is already up-to-\n",
      "[nltk_data]       date!\n"
     ]
    }
   ],
   "source": [
    "# Import libraries\n",
    "%matplotlib inline\n",
    "import matplotlib.pyplot as plt\n",
    "import numpy as np\n",
    "np.set_printoptions(precision=5, suppress=True)\n",
    "import pandas as pd\n",
    "# data: 20 news groups\n",
    "\n",
    "import nltk\n",
    "from nltk.corpus import stopwords, wordnet\n",
    "from nltk.tokenize import RegexpTokenizer\n",
    "from nltk.stem import WordNetLemmatizer \n",
    "nltk.download('punkt')\n",
    "nltk.download('stopwords')\n",
    "nltk.download('wordnet')\n",
    "nltk.download('omw-1.4')\n",
    "nltk.download('averaged_perceptron_tagger')\n",
    "import random\n",
    "from sklearn.feature_extraction.text import CountVectorizer\n",
    "\n",
    "import pyLDAvis.sklearn\n",
    "from sklearn.decomposition import LatentDirichletAllocation\n",
    "import matplotlib.pyplot as plt\n",
    "import warnings\n",
    "warnings.filterwarnings(\"ignore\",category=DeprecationWarning)\n",
    "pyLDAvis.enable_notebook()"
   ]
  },
  {
   "attachments": {},
   "cell_type": "markdown",
   "metadata": {},
   "source": [
    "## Data preprocessing"
   ]
  },
  {
   "cell_type": "code",
   "execution_count": 129,
   "metadata": {},
   "outputs": [],
   "source": [
    "# Read in data\n",
    "df = pd.read_csv('../data/data_tweet.csv')\n",
    "\n",
    "# RIG (made some changes to stopwords)\n",
    "# modify default stop words\n",
    "add_stopwords = set(['rt','train','southern','east','derailment','norfolk','palestine','february','u','ohio', 'amp'])\n",
    "remove_stopwords = set([\"no\", \"not\", \"nor\", \"against\", \"aren't\", \"couldn't\", \"didn't\", \n",
    "                                                   \"doesn't\", \"don't\", \"haven't\", \"hadn't\", \"hasn't\", \"isn't\", \"mightn't\",\n",
    "                                                   \"mustn't\", \"needn't\", \"shouldn't\", \"wasn't\", \"weren't\", \"wouldn't\"])\n",
    "# remove stopwords (not impacting sentiment analysis) and punctuations\n",
    "stop_words = set(stopwords.words('english')) - remove_stopwords\n",
    "stop_words = set(stopwords.words('english')).union(add_stopwords)\n",
    "# stop_words = set(stopwords.words('english')).union(add_stopwords_2)\n",
    "tokenizer = RegexpTokenizer(r'\\w+')\n",
    "\n",
    "\n",
    "# normalize pos tags\n",
    "lemmatizer = WordNetLemmatizer()\n",
    "\n",
    "def pos_tagger(nltk_tag):\n",
    "  if nltk_tag.startswith('J'):\n",
    "      return wordnet.ADJ\n",
    "  elif nltk_tag.startswith('V'):\n",
    "      return wordnet.VERB\n",
    "  elif nltk_tag.startswith('N'):\n",
    "      return wordnet.NOUN\n",
    "  elif nltk_tag.startswith('R'):\n",
    "      return wordnet.ADV\n",
    "  else:         \n",
    "      return None\n",
    "\n",
    "# lemmatize each token with pos tag\n",
    "def lemma_token(row):\n",
    "  wordnet_tagged = list(map(lambda x: (x[0], pos_tagger(x[1])), row))\n",
    "  lemmatized = []\n",
    "  for word, tag in wordnet_tagged:\n",
    "    if tag is None:\n",
    "        # if there is no available tag, just append the original token\n",
    "        lemmatized.append(word)\n",
    "    else:       \n",
    "        # else use the pos tag to lemmatize the token\n",
    "        lemmatized.append(lemmatizer.lemmatize(word, tag))\n",
    "  return lemmatized\n",
    "\n",
    "\n",
    "# RIG (edit: added http://)\n",
    "# remove urls\n",
    "df['Message_no_url'] = df['MESSAGE'].apply(lambda x: \" \".join([word for word in x.split(\" \") if not(word.startswith((\"https://\", 'http://')))]))\n",
    "\n",
    "\n",
    "# tokenize MESSAGE and remove stopwords\n",
    "df['Text'] = df['Message_no_url'].map(tokenizer.tokenize)\n",
    "df['Text'] = df['Text'].apply(lambda x : nltk.pos_tag([item.lower() for item in x if item.lower() not in stop_words]))\n",
    "\n",
    "# apply lemmatization and reset index\n",
    "df['Text'] = df['Text'].apply(lambda row : lemma_token(row))\n",
    "df = df.reset_index(drop=True)\n",
    "\n",
    "# join words\n",
    "df['T_text'] = df['Text'].apply(lambda row : \" \".join(row))"
   ]
  },
  {
   "cell_type": "code",
   "execution_count": 3,
   "metadata": {},
   "outputs": [
    {
     "data": {
      "text/plain": [
       "85220"
      ]
     },
     "execution_count": 3,
     "metadata": {},
     "output_type": "execute_result"
    }
   ],
   "source": [
    "# number of documents (tweets) in our data\n",
    "len(df)"
   ]
  },
  {
   "cell_type": "code",
   "execution_count": null,
   "metadata": {},
   "outputs": [],
   "source": [
    "# # We first used a random sample to test this\n",
    "# sample_size = 10000\n",
    "# random.seed(1)\n",
    "# # We will use a random sample of 10k tweets to test\n",
    "# idx_sample = random.sample(range(len(df.T_text)), sample_size)\n",
    "# # sample_data is a list of strings, each string is a tweet. ssample_Data is length 10k\n",
    "# sample_data = [df.T_text[i] for i in idx_sample]\n",
    "# len(sample_data)"
   ]
  },
  {
   "cell_type": "code",
   "execution_count": 4,
   "metadata": {},
   "outputs": [],
   "source": [
    "# take only the text\n",
    "sample_data = df.T_text.tolist()"
   ]
  },
  {
   "attachments": {},
   "cell_type": "markdown",
   "metadata": {},
   "source": [
    "## Vectorization"
   ]
  },
  {
   "attachments": {},
   "cell_type": "markdown",
   "metadata": {},
   "source": [
    "We use CountVectorizer to get term frequencies."
   ]
  },
  {
   "cell_type": "code",
   "execution_count": 5,
   "metadata": {},
   "outputs": [],
   "source": [
    "# We could cap the size of the vocab to vocab_size\n",
    "# If not capped, we have 48k words\n",
    "max_vocabulary = 15000\n",
    "\n",
    "# We can also set options to only keep words that appear in at least this percentage of documents\n",
    "# - min_df = 2 # words in less than 2 documents we discard them\n",
    "# And we can choose to only keep words that appear in at most this percentage of documents:\n",
    "# - max_df = 0.95 # words that appear in more than 95% of documents, we discard them\n",
    "# Finally, we can set max_features, to keep only the most frequently occuring words\n",
    "# - max_features = max_vocabulary # after I do the max_df, min_df and stopwords filetrs, I look at how many words I have left: if its greater than\n",
    "# max_features, I only keep the most popular. BUT, if the words left after the 3 filters is less than max_features, then it will be ignored. \n",
    "\n",
    "\n",
    "# tf_vectorizer = CountVectorizer(max_df=0.95,\n",
    "#                                 min_df=2,\n",
    "#                                 stop_words='english',\n",
    "#                                 max_features=max_vocabulary)\n",
    "\n",
    "# tf_vectorizer = CountVectorizer(stop_words='english')\n",
    "\n",
    "# We capped the number of words to 15k and the min doc frequency\n",
    "tf_vectorizer = CountVectorizer(min_df = 2, max_features=max_vocabulary)\n",
    "\n",
    "# tf: term frequency vectorizer\n",
    "\n",
    "# the fitting is learning the vocabulary: goes thru all the data and know the words it needs to keep track of\n",
    "# transform: Ive done the fitting, Ill go back to data points and convert each one into a feat vector representation using the vocab i learnt during fitting\n",
    "tf_fit = tf_vectorizer.fit(sample_data)\n",
    "tf = tf_vectorizer.fit_transform(sample_data)\n"
   ]
  },
  {
   "cell_type": "code",
   "execution_count": 6,
   "metadata": {},
   "outputs": [
    {
     "data": {
      "text/plain": [
       "(85220, 15000)"
      ]
     },
     "execution_count": 6,
     "metadata": {},
     "output_type": "execute_result"
    }
   ],
   "source": [
    "# size of the matrix (documents, words)\n",
    "tf.toarray().shape"
   ]
  },
  {
   "cell_type": "code",
   "execution_count": 7,
   "metadata": {},
   "outputs": [
    {
     "data": {
      "text/plain": [
       "10"
      ]
     },
     "execution_count": 7,
     "metadata": {},
     "output_type": "execute_result"
    }
   ],
   "source": [
    "# seems like the highest term-doc freq is 10\n",
    "max_freq = tf.toarray().max()\n",
    "max_freq"
   ]
  },
  {
   "cell_type": "code",
   "execution_count": 73,
   "metadata": {},
   "outputs": [
    {
     "data": {
      "text/plain": [
       "'trump state go trump trump trump trump trump trump trump trump trump'"
      ]
     },
     "execution_count": 73,
     "metadata": {},
     "output_type": "execute_result"
    }
   ],
   "source": [
    "# which doc / word combination has highest values?\n",
    "max_freq_idx = list(np.argwhere(tf.toarray()==max_freq)[0])\n",
    "max_freq_doc, max_freq_word = max_freq_idx\n",
    "# to print out the vocabulary in the doc-word freq matrix\n",
    "tf_vectorizer.get_feature_names_out()[max_freq_word]\n",
    "# In which document is this word?\n",
    "sample_data[max_freq_doc]"
   ]
  },
  {
   "cell_type": "code",
   "execution_count": null,
   "metadata": {},
   "outputs": [
    {
     "data": {
      "text/plain": [
       "array([[0, 0, 0, ..., 0, 0, 0]])"
      ]
     },
     "execution_count": 15,
     "metadata": {},
     "output_type": "execute_result"
    }
   ],
   "source": [
    "tf[0].toarray()\n",
    "\n",
    "# I can index in to the zeroeth row of the matrix and convert into an array, I am anazlizing just the zeroeth row:\n",
    "# feature vector representation for the zeroeth document: \n",
    "# We should be able to write code to know what word corresponds each non zero number there\n",
    "\n",
    "# tf_vectorizer.get_feature_names_out()[(tf[0].toarray() != 0)[0]] # LIKE THIS!\n",
    "\n",
    "# run a for loop that goes thru the entries, and check to which indeces this corresponds in the vocabulary"
   ]
  },
  {
   "cell_type": "markdown",
   "metadata": {},
   "source": [
    "The fitting procedure determines the every topic's distribution over words; this information is stored in the `components_` attribute. There's a catch: we actually have to normalize to get the probability distributions (without this normalization, instead what the model has are pseudocounts for how often different words appear per topic)."
   ]
  },
  {
   "cell_type": "markdown",
   "metadata": {},
   "source": [
    "We now fit an LDA model to the data."
   ]
  },
  {
   "cell_type": "code",
   "execution_count": 12,
   "metadata": {},
   "outputs": [
    {
     "data": {
      "text/plain": [
       "LatentDirichletAllocation(n_components=4, random_state=0)"
      ]
     },
     "execution_count": 12,
     "metadata": {},
     "output_type": "execute_result"
    }
   ],
   "source": [
    "# Now LDA. This will take a while ong\n",
    "\n",
    "num_topics = 4\n",
    "\n",
    "lda = LatentDirichletAllocation(n_components=num_topics, random_state=0)\n",
    "lda.fit(tf)"
   ]
  },
  {
   "cell_type": "code",
   "execution_count": 13,
   "metadata": {},
   "outputs": [
    {
     "data": {
      "text/plain": [
       "(4, 15000)"
      ]
     },
     "execution_count": 13,
     "metadata": {},
     "output_type": "execute_result"
    }
   ],
   "source": [
    "lda.components_.shape\n",
    "# The shaope of this is 16 by 1000, 10 topics and 1000 words\n",
    "# These are not probability distributions yet"
   ]
  },
  {
   "cell_type": "code",
   "execution_count": 29,
   "metadata": {},
   "outputs": [
    {
     "data": {
      "text/plain": [
       "array([[ 16.11285, 319.16088,   0.25549, ...,   0.25001,   0.25001,\n",
       "          0.25001],\n",
       "       [ 17.45323, 720.37464,   0.25503, ...,  11.24819,  11.24819,\n",
       "         11.24819],\n",
       "       [  0.28027, 139.28358,   0.25415, ...,   0.25011,   0.25011,\n",
       "          0.25011],\n",
       "       [ 60.15364, 182.1809 ,   6.23532, ...,   0.25169,   0.25169,\n",
       "          0.25169]])"
      ]
     },
     "execution_count": 29,
     "metadata": {},
     "output_type": "execute_result"
    }
   ],
   "source": [
    "lda.components_  "
   ]
  },
  {
   "cell_type": "code",
   "execution_count": 14,
   "metadata": {},
   "outputs": [
    {
     "data": {
      "text/plain": [
       "array([264743.16727, 213299.88075, 353547.17579, 210579.77618])"
      ]
     },
     "execution_count": 14,
     "metadata": {},
     "output_type": "execute_result"
    }
   ],
   "source": [
    "# If we access: sum ACROSS COLUMNS (get rid of columns), I get 6 numbers: a sum for each row.\n",
    "# They dont sum uop to 1, because not probability distributions\n",
    "\n",
    "# .components_ is a raw count histogram, but why are there fractions?\n",
    "# Because of how it works: when it estimates how much a word belongs to a topic it does a prob assignment, not a deterministic assignment.\n",
    "lda.components_.sum(axis=1)"
   ]
  },
  {
   "cell_type": "code",
   "execution_count": 30,
   "metadata": {},
   "outputs": [],
   "source": [
    "topic_word_distributions = np.array([row / row.sum() for row in lda.components_])\n",
    "\n",
    "# we get the topic-word distribution matrix for the LDA model.  Each value represents the probability of each word occuring in that topic. \n",
    "# The higher the value of a word in a topic, the more strongly the word is associated with that topic"
   ]
  },
  {
   "cell_type": "code",
   "execution_count": 46,
   "metadata": {},
   "outputs": [
    {
     "data": {
      "text/plain": [
       "(4, 15000)"
      ]
     },
     "execution_count": 46,
     "metadata": {},
     "output_type": "execute_result"
    }
   ],
   "source": [
    "topic_word_distributions.shape"
   ]
  },
  {
   "cell_type": "code",
   "execution_count": 45,
   "metadata": {},
   "outputs": [
    {
     "name": "stdout",
     "output_type": "stream",
     "text": [
      "[0.00006 0.00121 0.      ... 0.      0.      0.     ]\n"
     ]
    }
   ],
   "source": [
    "print(topic_word_distributions[0])\n",
    "# lets look at 0th topic, it is saying that the 0th word appears 0.00006, word 1 appears with prob 0.00121"
   ]
  },
  {
   "cell_type": "code",
   "execution_count": 37,
   "metadata": {},
   "outputs": [],
   "source": [
    "# # we can sort the probability by big to small\n",
    "# # for each topic, listing top 20 most popular words (by probability)\n",
    "\n",
    "# num_top_words = 20\n",
    "\n",
    "# def print_top_words(topic_word_distributions, num_top_words, vectorizer):\n",
    "#     vocab = vectorizer.get_feature_names_out()\n",
    "#     num_topics = len(topic_word_distributions)\n",
    "#     print('Displaying the top %d words per topic and their probabilities within the topic...' % num_top_words)\n",
    "#     print()\n",
    "\n",
    "#     for topic_idx in range(num_topics):\n",
    "#         print('[Topic ', topic_idx, ']', sep='')\n",
    "#         # This is the interesting part: take the topic_word_distributions only for the topic_idxth topic, and get the indexes sorted from highest to lowest\n",
    "#         sort_indices = np.argsort(-topic_word_distributions[topic_idx])\n",
    "#         # then for the range 0,num_words, print the vocab of each of the words and its entry in the topic_word_distribution matrix\n",
    "#         for rank in range(num_top_words):\n",
    "#             word_idx = sort_indices[rank]\n",
    "#             print(vocab[word_idx], ':',\n",
    "#                   topic_word_distributions[topic_idx, word_idx])\n",
    "#         print()\n",
    "\n",
    "# print_top_words(topic_word_distributions, num_top_words, tf_vectorizer)"
   ]
  },
  {
   "cell_type": "code",
   "execution_count": 28,
   "metadata": {},
   "outputs": [
    {
     "name": "stderr",
     "output_type": "stream",
     "text": [
      "/Users/ribarragi/miniconda3/envs/Intro_AI/lib/python3.9/site-packages/sklearn/utils/deprecation.py:87: FutureWarning: Function get_feature_names is deprecated; get_feature_names is deprecated in 1.0 and will be removed in 1.2. Please use get_feature_names_out instead.\n",
      "  warnings.warn(msg, category=FutureWarning)\n",
      "/Users/ribarragi/miniconda3/envs/Intro_AI/lib/python3.9/site-packages/pyLDAvis/_prepare.py:246: FutureWarning: In a future version of pandas all arguments of DataFrame.drop except for the argument 'labels' will be keyword-only.\n",
      "  default_term_info = default_term_info.sort_values(\n"
     ]
    },
    {
     "data": {
      "text/html": [
       "\n",
       "<link rel=\"stylesheet\" type=\"text/css\" href=\"https://cdn.jsdelivr.net/gh/bmabey/pyLDAvis@3.3.1/pyLDAvis/js/ldavis.v1.0.0.css\">\n",
       "\n",
       "\n",
       "<div id=\"ldavis_el1862063046612801245324726\"></div>\n",
       "<script type=\"text/javascript\">\n",
       "\n",
       "var ldavis_el1862063046612801245324726_data = {\"mdsDat\": {\"x\": [0.11777191592679372, 0.15834116714928959, -0.1338367568511185, -0.1422763262249647], \"y\": [0.03931716336037326, -0.028671786768150968, -0.19018962678713824, 0.17954425019491596], \"topics\": [1, 2, 3, 4], \"cluster\": [1, 1, 1, 1], \"Freq\": [33.75826912555347, 25.43941529786077, 20.511757546432964, 20.290558030152795]}, \"tinfo\": {\"Term\": [\"trump\", \"ceo\", \"derail\", \"another\", \"safety\", \"car\", \"derails\", \"water\", \"report\", \"alabama\", \"springfield\", \"hazardous\", \"rule\", \"20\", \"senate\", \"congress\", \"rail\", \"brake\", \"regulation\", \"material\", \"biden\", \"dewine\", \"blame\", \"shaw\", \"company\", \"people\", \"would\", \"gop\", \"place\", \"near\", \"sue\", \"dump\", \"lawsuit\", \"river\", \"truck\", \"vance\", \"file\", \"cincinnati\", \"quality\", \"supply\", \"jd\", \"food\", \"basically\", \"truckloads\", \"rash\", \"delivers\", \"headache\", \"pollute\", \"collides\", \"drinking\", \"multimillion\", \"bottle\", \"craft\", \"illusion\", \"intake\", \"nuke\", \"yost\", \"taxpayer\", \"contaminated\", \"suit\", \"water\", \"balloon\", \"everyone\", \"worry\", \"safe\", \"people\", \"ukraine\", \"trust\", \"josh\", \"air\", \"cleveland\", \"see\", \"sure\", \"feel\", \"general\", \"home\", \"american\", \"drink\", \"care\", \"good\", \"get\", \"chemical\", \"resident\", \"bad\", \"country\", \"like\", \"go\", \"test\", \"know\", \"many\", \"town\", \"toxic\", \"biden\", \"need\", \"disaster\", \"think\", \"make\", \"say\", \"happen\", \"oh\", \"look\", \"us\", \"state\", \"environmental\", \"one\", \"take\", \"president\", \"epa\", \"wreck\", \"news\", \"trump\", \"brake\", \"apply\", \"obama\", \"chloride\", \"waste\", \"flammable\", \"ecp\", \"vinyl\", \"roll\", \"hazard\", \"repeal\", \"liquid\", \"braking\", \"require\", \"era\", \"categorize\", \"disposal\", \"homendy\", \"blame\", \"gop\", \"deploy\", \"cdc\", \"gutted\", \"shipment\", \"removal\", \"deregulate\", \"mixed\", \"jennifer\", \"rollback\", \"chao\", \"rule\", \"mike\", \"deregulation\", \"dewine\", \"fault\", \"texas\", \"contain\", \"trump\", \"regulation\", \"dot\", \"maga\", \"high\", \"republican\", \"administration\", \"would\", \"visit\", \"fema\", \"buttigieg\", \"biden\", \"gov\", \"prevent\", \"back\", \"epa\", \"pete\", \"toxic\", \"safety\", \"disaster\", \"chemical\", \"hazardous\", \"say\", \"carry\", \"cause\", \"president\", \"site\", \"derail\", \"go\", \"car\", \"springfield\", \"north\", \"shelter\", \"carolina\", \"20\", \"saturday\", \"sick\", \"aboard\", \"clark\", \"door\", \"detector\", \"preliminary\", \"myid\", \"toxins\", \"farmer\", \"alarm\", \"injury\", \"biometrics\", \"212\", \"surveil\", \"aquatic\", \"plane\", \"28\", \"lexington\", \"economy\", \"temperature\", \"box\", \"indication\", \"dayton\", \"spokesperson\", \"danger\", \"spark\", \"footage\", \"minute\", \"another\", \"mile\", \"place\", \"video\", \"report\", \"derail\", \"car\", \"second\", \"derails\", \"animal\", \"material\", \"near\", \"hazardous\", \"cargo\", \"track\", \"order\", \"hazmat\", \"public\", \"crew\", \"die\", \"official\", \"freight\", \"month\", \"say\", \"carry\", \"via\", \"company\", \"site\", \"resident\", \"toxic\", \"one\", \"week\", \"chemical\", \"ceo\", \"alabama\", \"congress\", \"alan\", \"senate\", \"testifies\", \"testify\", \"hearing\", \"committee\", \"calhoun\", \"de\", \"stock\", \"pledge\", \"inspection\", \"petition\", \"skip\", \"washington\", \"scrutiny\", \"accountable\", \"deeply\", \"brockovich\", \"practice\", \"bipartisan\", \"reveals\", \"testimony\", \"audio\", \"congressional\", \"buyback\", \"shaw\", \"hall\", \"profit\", \"apologize\", \"sorry\", \"erin\", \"victim\", \"hold\", \"lawmaker\", \"hour\", \"sign\", \"safety\", \"industry\", \"rail\", \"demand\", \"company\", \"worker\", \"change\", \"community\", \"last\", \"railroad\", \"pay\", \"via\", \"month\", \"toxic\", \"make\", \"derails\", \"town\", \"live\", \"derail\", \"say\", \"disaster\"], \"Freq\": [8369.0, 4905.0, 8840.0, 5759.0, 6474.0, 4848.0, 4266.0, 4432.0, 3980.0, 2287.0, 2264.0, 4061.0, 2374.0, 2002.0, 1791.0, 1773.0, 4552.0, 2032.0, 2829.0, 2856.0, 5659.0, 2201.0, 1879.0, 1538.0, 4637.0, 4432.0, 3328.0, 1740.0, 1728.0, 2144.0, 1161.4798191575699, 827.0356985928248, 843.6658708655626, 1114.0986140284786, 856.3065317546783, 659.2966973666055, 480.81670992759206, 352.33497142009105, 326.80306451678797, 306.2341779522313, 301.3357926132748, 274.84334831547875, 257.19806479251463, 252.2964438905679, 243.4735295507658, 238.57426060925494, 224.83686142183308, 202.27905656354, 197.37623805066357, 189.5288727550144, 187.5620466982946, 181.67966839849257, 182.65437764291326, 178.73729252301678, 173.84149859750264, 160.10049672442514, 149.31797211453, 195.1348925152018, 138.4965654626778, 157.99273050160815, 4286.327591299666, 224.07899791503456, 398.39003407293, 444.68805961552357, 1581.4207256895616, 3936.695251247293, 672.3040649810071, 326.08948266982054, 224.9897390427829, 1812.6547181791948, 646.2221337159443, 1502.0375666898817, 585.9071674833102, 434.6072209992037, 398.6336712021269, 980.8304777670721, 772.0812149296866, 552.5920513663328, 754.2787341628482, 884.4309980882445, 2416.277636687745, 4862.461057366002, 3647.646958814296, 749.7636790495632, 458.3122389573007, 1790.3298650011584, 2340.1970039208795, 1089.7058486943183, 1533.8870505879331, 825.5711820649248, 1571.8140430044284, 3968.5890541634135, 2495.0317162266965, 1317.7087804012092, 2454.39783746698, 982.6611654904974, 1617.0973694913303, 2947.9954145357915, 1318.4072206493659, 1378.7814688519586, 1033.8676487393627, 1295.5266820203735, 1350.6744183888793, 1182.2860194015914, 1361.8227999962585, 1221.1628388795618, 1164.5759547827113, 1407.3711823313981, 1225.2485417213104, 1280.659317885553, 1236.3478777034093, 2031.5191792053593, 807.6239211226422, 785.9079897781171, 1526.301555304927, 1280.7118240091027, 597.3900128555839, 581.5970067463084, 1408.299437293263, 827.8309428190128, 826.644273332745, 410.84039413841543, 388.13655594321347, 357.52839660968584, 577.0079004801603, 358.399390489219, 295.36405068759814, 286.4705136605006, 268.71057896213813, 1874.00815566928, 1735.1497505788082, 250.9396115287812, 250.93165206688505, 236.14060848421505, 227.25110811245483, 223.30424350595516, 224.28779585750723, 222.31627206330694, 208.50129360136833, 187.77380583604054, 178.88930677385054, 2364.3003692410143, 827.8981178569421, 770.6929710306553, 2115.8976355140308, 578.714846477507, 439.2320675876077, 377.3216637213414, 7131.184796225796, 2478.941469744106, 320.15636021368397, 490.66059814778095, 1024.2246365319938, 1257.2504483807354, 1566.151068690603, 2576.378156944068, 2398.7289370485946, 798.509650698831, 2034.9908989394146, 3025.539775640048, 1048.529812875946, 843.8234685211709, 1143.5826647914032, 2055.4899605182304, 1455.847087377503, 3303.5606755875374, 2396.886944922089, 2082.3712334154034, 2245.7472674504806, 1414.735870348128, 1809.8608444626323, 1177.2624221159128, 1233.3610670075298, 1125.8289465357007, 1217.5375918829056, 1379.585812013834, 1225.4497413708366, 1222.6231254766744, 2264.203220737119, 1127.2840661121134, 1112.4714359325706, 1073.9465062529134, 2000.7583521507145, 899.1069063739421, 884.8161530144803, 488.19529673255647, 403.20660832986334, 385.44852017369647, 362.7467099925714, 357.7970085894597, 306.43461046129806, 296.5667588675131, 287.6613255761949, 456.9597760057999, 239.267912316701, 216.5675576223106, 217.5517311867506, 215.57991763484702, 162.23177672322564, 220.20164179827685, 152.34193314025407, 147.42136430878568, 149.35790525024785, 142.4752681891174, 151.29777707841808, 135.56404011677017, 134.5810138677741, 189.56463440936926, 839.9381382591803, 227.74515844771378, 321.01765136313475, 374.4052639673753, 5099.107531716769, 1367.7412369296421, 1570.4107201315119, 1350.5010279879648, 3113.7208246090604, 6351.800637126557, 3619.4420215824675, 1139.353805106844, 3100.8025288212452, 996.2833696922924, 2005.838172820422, 1562.625118740876, 2620.362425743385, 1166.2803111410255, 1123.9150348183973, 1552.6531558676243, 586.9759481949899, 1124.9599388358345, 812.8543445888812, 798.2129541818799, 1651.7758241789297, 1242.0427849301145, 1539.532306731128, 2941.173027665928, 1265.957382564809, 1756.7547406089625, 1616.6893966276339, 1391.999634653444, 1784.0232261630397, 1506.3775999447196, 1218.6441640544394, 1175.5474084587702, 1212.1291909902566, 4903.582576647313, 2286.364702845659, 1772.8458606054498, 1028.5801053077114, 1790.0913426334394, 893.9776533528121, 886.0569132398632, 791.0413537055995, 566.372196663318, 568.3434234254837, 528.6954779300333, 446.6049697859826, 418.8970041669735, 412.95635339636743, 486.01610758211706, 365.4539781607463, 600.519786399303, 355.5554510872656, 671.5852167114631, 348.6269342785507, 514.5353283429209, 296.16891492080106, 292.2135135040746, 284.29107565091095, 273.4113745530661, 264.50472167063526, 260.53781910714594, 232.83198106412928, 1532.9221454169895, 795.0497958312168, 758.9044513474968, 535.7687045005521, 530.8574184342012, 500.83236251498676, 807.0624736070363, 1370.4373694478957, 392.83607433250245, 1180.9903535301655, 977.9167130330557, 4075.3122862777655, 958.73915996389, 2884.3887229708944, 904.6426275450826, 2310.010943956397, 1135.895964200891, 820.5265061671363, 1052.7467015766792, 1087.883665611841, 1374.9012350246232, 1142.8503235358314, 1493.6938363207896, 1086.017005019029, 1704.9452729668415, 1108.7448156534529, 1165.2104181929817, 1019.7073433771913, 917.9768491770083, 1108.150593226183, 1059.0118802041004, 925.0073643776302], \"Total\": [8369.0, 4905.0, 8840.0, 5759.0, 6474.0, 4848.0, 4266.0, 4432.0, 3980.0, 2287.0, 2264.0, 4061.0, 2374.0, 2002.0, 1791.0, 1773.0, 4552.0, 2032.0, 2829.0, 2856.0, 5659.0, 2201.0, 1879.0, 1538.0, 4637.0, 4432.0, 3328.0, 1740.0, 1728.0, 2144.0, 1162.2394115967397, 827.790676721096, 844.4643843264852, 1115.163648669339, 857.2157027790237, 660.0761521550457, 481.57254438796366, 353.08930259064755, 327.5890166184251, 306.99229355290873, 302.08831886640587, 275.6071323440111, 257.9528695231747, 253.04890573445013, 244.2217923999058, 239.3178184738817, 225.58683318955286, 203.02870715692887, 198.1247603421191, 190.27846576307002, 188.31695046149207, 182.43217667296543, 183.41302819400084, 179.4898374979783, 174.58582151112032, 160.85486269449382, 150.0661537454642, 196.16559150651747, 139.27768791268818, 158.8943274742357, 4432.120989744842, 225.59168182213045, 404.129132312199, 453.1800536626724, 1690.6326280757794, 4432.994041108507, 709.3606440863593, 334.5083403659066, 227.56491650550973, 2027.6707238903994, 686.8419888247952, 1705.0425242881302, 640.840202767757, 464.1778687373832, 427.810665150584, 1170.5072471343838, 896.5544471767922, 623.3958334878216, 893.4885210434343, 1098.0747373379866, 3634.524370411202, 8716.097213917135, 6686.084663557278, 942.7876343366084, 509.4096645877483, 2933.5112659397682, 4226.975618673532, 1577.2707249584842, 2520.451615099007, 1102.3323292764017, 2757.4670189639905, 10483.47260266251, 5659.611940604198, 2205.099335838366, 5779.998505659082, 1425.0670226042546, 3193.6773518302057, 8758.041166868452, 2471.3090216311657, 2782.5398817789483, 1591.8402117689006, 2543.719212011872, 2904.952328908568, 2197.152222284558, 3690.733298970227, 2661.3191929354525, 2298.29662217173, 4485.741585734514, 2821.7445497192953, 3454.98734072981, 8369.955305404043, 2032.2675888878207, 808.3663391321403, 786.651958014457, 1527.8964551007098, 1282.130970800902, 598.1316926664213, 582.3394167077292, 1410.4379647345058, 829.093026197424, 828.1080511335272, 411.58545937215973, 388.88405488024665, 358.28654227012817, 578.3917972921448, 359.27388266817536, 296.10444930618894, 287.22125865705783, 269.45499727584996, 1879.2592150858002, 1740.1049395040197, 251.68867376091922, 251.68862113473548, 236.88342157577026, 228.0002708440252, 224.05217451734913, 225.0392091995598, 223.06516917429084, 209.2469478273032, 188.51957890934966, 179.6364079251684, 2374.789304450492, 833.9966179935581, 777.7856378869412, 2201.5093578890296, 590.1719561569454, 446.09227567830914, 385.9284015777262, 8369.955305404043, 2829.7450683511, 325.6896200455118, 515.1671974336642, 1165.561403772774, 1462.4602106269956, 1882.2316141199574, 3328.3256050052173, 3548.021224105776, 974.2033952020205, 3313.3795879698027, 5659.611940604198, 1468.2374081793405, 1094.2010742456466, 1748.6215326676042, 4485.741585734514, 2673.8975876730847, 10483.47260266251, 6474.185328012396, 5779.998505659082, 8716.097213917135, 4061.5163659326035, 8758.041166868452, 2453.6733658638263, 3097.411368878451, 2298.29662217173, 3165.851038430738, 8840.677081013544, 4226.975618673532, 4848.029549393205, 2264.948683384403, 1128.028648920593, 1113.2121591433877, 1074.6892377350468, 2002.2020885036054, 899.854441281251, 886.026165949446, 488.9433127032648, 403.9954048817036, 386.2154052242905, 363.4968698929501, 358.55794464044214, 307.1941210537084, 297.3164337297344, 288.4264402780619, 458.3181876056542, 240.02597949748994, 217.30733601706797, 218.29510853615903, 216.31956974394504, 162.98012370979316, 221.25630822640164, 153.1024455759842, 148.16362964763857, 150.13901212820835, 143.2247869342187, 152.11426991632877, 136.31039961002344, 135.32265123522922, 190.6353154490862, 846.4762492960969, 229.16002153216485, 324.96781927635783, 384.2268288715863, 5759.992092982691, 1489.6901393599387, 1728.4682674878109, 1528.8378745349337, 3980.2462102968466, 8840.677081013544, 4848.029549393205, 1367.5208463992183, 4266.507605905306, 1195.7613995257216, 2856.9621479776397, 2144.3329685072085, 4061.5163659326035, 1535.6966034995644, 1503.4653560808158, 2266.304306148114, 684.4411834431443, 1670.8890314726218, 1096.8288242441254, 1085.5097306610546, 3196.7002879841652, 2093.2145568921583, 2977.8178188008396, 8758.041166868452, 2453.6733658638263, 4828.693231171708, 4637.388964185515, 3165.851038430738, 6686.084663557278, 10483.47260266251, 3690.733298970227, 3214.150181345428, 8716.097213917135, 4905.129254021945, 2287.277664223836, 1773.604620415453, 1029.322702799063, 1791.4183184945916, 894.7185272883829, 886.8006233219401, 791.7858891224647, 567.1156775807275, 569.0951435746181, 529.5055005179221, 447.3574794822853, 419.6448884359354, 413.7064776517653, 486.946493738388, 366.1991196159655, 601.7535975188342, 356.30176583440266, 673.0112990328857, 349.37359078602, 515.6460406634254, 296.91754615017504, 292.95860452559805, 285.04069651079607, 274.153627679497, 265.24600737015055, 261.2870265290206, 233.57442660935254, 1538.035341653085, 797.7068888943414, 764.0617255452457, 538.4080834234888, 533.4506547661034, 503.75268911348394, 819.4546636170038, 1436.5097555139398, 396.871891046981, 1394.9812208995622, 1139.651226016253, 6474.185328012396, 1175.2092747182828, 4552.411440034035, 1138.41197493995, 4637.388964185515, 1878.6093653810703, 1121.391260220175, 1733.434801110107, 1962.8801654653764, 3530.3549329023463, 2475.670399212552, 4828.693231171708, 2977.8178188008396, 10483.47260266251, 3193.6773518302057, 4266.507605905306, 2757.4670189639905, 2044.2813258837468, 8840.677081013544, 8758.041166868452, 5779.998505659082], \"Category\": [\"Default\", \"Default\", \"Default\", \"Default\", \"Default\", \"Default\", \"Default\", \"Default\", \"Default\", \"Default\", \"Default\", \"Default\", \"Default\", \"Default\", \"Default\", \"Default\", \"Default\", \"Default\", \"Default\", \"Default\", \"Default\", \"Default\", \"Default\", \"Default\", \"Default\", \"Default\", \"Default\", \"Default\", \"Default\", \"Default\", \"Topic1\", \"Topic1\", \"Topic1\", \"Topic1\", \"Topic1\", \"Topic1\", \"Topic1\", \"Topic1\", \"Topic1\", \"Topic1\", \"Topic1\", \"Topic1\", \"Topic1\", \"Topic1\", \"Topic1\", \"Topic1\", \"Topic1\", \"Topic1\", \"Topic1\", \"Topic1\", \"Topic1\", \"Topic1\", \"Topic1\", \"Topic1\", \"Topic1\", \"Topic1\", \"Topic1\", \"Topic1\", \"Topic1\", \"Topic1\", \"Topic1\", \"Topic1\", \"Topic1\", \"Topic1\", \"Topic1\", \"Topic1\", \"Topic1\", \"Topic1\", \"Topic1\", \"Topic1\", \"Topic1\", \"Topic1\", \"Topic1\", \"Topic1\", \"Topic1\", \"Topic1\", \"Topic1\", \"Topic1\", \"Topic1\", \"Topic1\", \"Topic1\", \"Topic1\", \"Topic1\", \"Topic1\", \"Topic1\", \"Topic1\", \"Topic1\", \"Topic1\", \"Topic1\", \"Topic1\", \"Topic1\", \"Topic1\", \"Topic1\", \"Topic1\", \"Topic1\", \"Topic1\", \"Topic1\", \"Topic1\", \"Topic1\", \"Topic1\", \"Topic1\", \"Topic1\", \"Topic1\", \"Topic1\", \"Topic1\", \"Topic1\", \"Topic1\", \"Topic1\", \"Topic1\", \"Topic1\", \"Topic1\", \"Topic2\", \"Topic2\", \"Topic2\", \"Topic2\", \"Topic2\", \"Topic2\", \"Topic2\", \"Topic2\", \"Topic2\", \"Topic2\", \"Topic2\", \"Topic2\", \"Topic2\", \"Topic2\", \"Topic2\", \"Topic2\", \"Topic2\", \"Topic2\", \"Topic2\", \"Topic2\", \"Topic2\", \"Topic2\", \"Topic2\", \"Topic2\", \"Topic2\", \"Topic2\", \"Topic2\", \"Topic2\", \"Topic2\", \"Topic2\", \"Topic2\", \"Topic2\", \"Topic2\", \"Topic2\", \"Topic2\", \"Topic2\", \"Topic2\", \"Topic2\", \"Topic2\", \"Topic2\", \"Topic2\", \"Topic2\", \"Topic2\", \"Topic2\", \"Topic2\", \"Topic2\", \"Topic2\", \"Topic2\", \"Topic2\", \"Topic2\", \"Topic2\", \"Topic2\", \"Topic2\", \"Topic2\", \"Topic2\", \"Topic2\", \"Topic2\", \"Topic2\", \"Topic2\", \"Topic2\", \"Topic2\", \"Topic2\", \"Topic2\", \"Topic2\", \"Topic2\", \"Topic2\", \"Topic2\", \"Topic3\", \"Topic3\", \"Topic3\", \"Topic3\", \"Topic3\", \"Topic3\", \"Topic3\", \"Topic3\", \"Topic3\", \"Topic3\", \"Topic3\", \"Topic3\", \"Topic3\", \"Topic3\", \"Topic3\", \"Topic3\", \"Topic3\", \"Topic3\", \"Topic3\", \"Topic3\", \"Topic3\", \"Topic3\", \"Topic3\", \"Topic3\", \"Topic3\", \"Topic3\", \"Topic3\", \"Topic3\", \"Topic3\", \"Topic3\", \"Topic3\", \"Topic3\", \"Topic3\", \"Topic3\", \"Topic3\", \"Topic3\", \"Topic3\", \"Topic3\", \"Topic3\", \"Topic3\", \"Topic3\", \"Topic3\", \"Topic3\", \"Topic3\", \"Topic3\", \"Topic3\", \"Topic3\", \"Topic3\", \"Topic3\", \"Topic3\", \"Topic3\", \"Topic3\", \"Topic3\", \"Topic3\", \"Topic3\", \"Topic3\", \"Topic3\", \"Topic3\", \"Topic3\", \"Topic3\", \"Topic3\", \"Topic3\", \"Topic3\", \"Topic3\", \"Topic3\", \"Topic3\", \"Topic3\", \"Topic4\", \"Topic4\", \"Topic4\", \"Topic4\", \"Topic4\", \"Topic4\", \"Topic4\", \"Topic4\", \"Topic4\", \"Topic4\", \"Topic4\", \"Topic4\", \"Topic4\", \"Topic4\", \"Topic4\", \"Topic4\", \"Topic4\", \"Topic4\", \"Topic4\", \"Topic4\", \"Topic4\", \"Topic4\", \"Topic4\", \"Topic4\", \"Topic4\", \"Topic4\", \"Topic4\", \"Topic4\", \"Topic4\", \"Topic4\", \"Topic4\", \"Topic4\", \"Topic4\", \"Topic4\", \"Topic4\", \"Topic4\", \"Topic4\", \"Topic4\", \"Topic4\", \"Topic4\", \"Topic4\", \"Topic4\", \"Topic4\", \"Topic4\", \"Topic4\", \"Topic4\", \"Topic4\", \"Topic4\", \"Topic4\", \"Topic4\", \"Topic4\", \"Topic4\", \"Topic4\", \"Topic4\", \"Topic4\", \"Topic4\", \"Topic4\", \"Topic4\", \"Topic4\", \"Topic4\"], \"logprob\": [30.0, 29.0, 28.0, 27.0, 26.0, 25.0, 24.0, 23.0, 22.0, 21.0, 20.0, 19.0, 18.0, 17.0, 16.0, 15.0, 14.0, 13.0, 12.0, 11.0, 10.0, 9.0, 8.0, 7.0, 6.0, 5.0, 4.0, 3.0, 2.0, 1.0, -5.6989, -6.0385, -6.0186, -5.7406, -6.0037, -6.2652, -6.5809, -6.8918, -6.967, -7.032, -7.0481, -7.1402, -7.2065, -7.2258, -7.2614, -7.2817, -7.341, -7.4467, -7.4713, -7.5118, -7.5223, -7.5541, -7.5488, -7.5705, -7.5982, -7.6806, -7.7503, -7.4827, -7.8255, -7.6938, -4.3932, -7.3444, -6.7689, -6.659, -5.3903, -4.4783, -6.2457, -6.9692, -7.3403, -5.2538, -6.2852, -5.4418, -6.3832, -6.6819, -6.7683, -5.868, -6.1073, -6.4418, -6.1306, -5.9714, -4.9664, -4.2671, -4.5545, -6.1366, -6.6288, -5.2662, -4.9984, -5.7627, -5.4208, -6.0403, -5.3964, -4.4702, -4.9343, -5.5727, -4.9507, -5.8661, -5.368, -4.7675, -5.5722, -5.5274, -5.8153, -5.5897, -5.548, -5.6812, -5.5398, -5.6488, -5.6963, -5.5069, -5.6455, -5.6012, -5.6365, -4.8569, -5.7794, -5.8066, -5.1428, -5.3183, -6.0809, -6.1077, -5.2233, -5.7546, -5.7561, -6.4552, -6.5121, -6.5942, -6.1156, -6.5918, -6.7852, -6.8158, -6.8798, -4.9376, -5.0146, -6.9482, -6.9483, -7.009, -7.0474, -7.0649, -7.0605, -7.0693, -7.1335, -7.2382, -7.2867, -4.7052, -5.7546, -5.8262, -4.8162, -6.1126, -6.3884, -6.5403, -3.6012, -4.6579, -6.7046, -6.2777, -5.5418, -5.3368, -5.1171, -4.6193, -4.6908, -5.7907, -4.8552, -4.4586, -5.5183, -5.7355, -5.4315, -4.8452, -5.1901, -4.3707, -4.6915, -4.8322, -4.7567, -5.2187, -4.9724, -5.4025, -5.3559, -5.4472, -5.3689, -5.2439, -5.3624, -5.3647, -4.5332, -5.2306, -5.2438, -5.2791, -4.6569, -5.4567, -5.4728, -6.0674, -6.2587, -6.3037, -6.3644, -6.3782, -6.5331, -6.5659, -6.5964, -6.1336, -6.7806, -6.8802, -6.8757, -6.8848, -7.1691, -6.8636, -7.232, -7.2649, -7.2518, -7.299, -7.2389, -7.3487, -7.356, -7.0134, -5.5248, -6.8299, -6.4866, -6.3328, -3.7213, -5.0372, -4.8991, -5.0499, -4.2146, -3.5017, -4.0641, -5.2199, -4.2187, -5.3541, -4.6543, -4.904, -4.3871, -5.1966, -5.2336, -4.9104, -5.8832, -5.2326, -5.5576, -5.5758, -4.8485, -5.1336, -4.9189, -4.2716, -5.1146, -4.7869, -4.87, -5.0196, -4.7715, -4.9407, -5.1527, -5.1887, -5.158, -3.7496, -4.5126, -4.767, -5.3114, -4.7573, -5.4516, -5.4605, -5.574, -5.9081, -5.9046, -5.9769, -6.1456, -6.2097, -6.224, -6.0611, -6.3462, -5.8495, -6.3736, -5.7377, -6.3933, -6.004, -6.5564, -6.5698, -6.5973, -6.6363, -6.6694, -6.6846, -6.797, -4.9124, -5.5689, -5.6154, -5.9636, -5.9728, -6.031, -5.5539, -5.0244, -6.2739, -5.1732, -5.3619, -3.9346, -5.3817, -4.2802, -5.4398, -4.5023, -5.2121, -5.5374, -5.2881, -5.2553, -5.0212, -5.206, -4.9383, -5.257, -4.806, -5.2363, -5.1866, -5.32, -5.4251, -5.2369, -5.2822, -5.4175], \"loglift\": [30.0, 29.0, 28.0, 27.0, 26.0, 25.0, 24.0, 23.0, 22.0, 21.0, 20.0, 19.0, 18.0, 17.0, 16.0, 15.0, 14.0, 13.0, 12.0, 11.0, 10.0, 9.0, 8.0, 7.0, 6.0, 5.0, 4.0, 3.0, 2.0, 1.0, 1.0853, 1.085, 1.085, 1.085, 1.0849, 1.0848, 1.0844, 1.0838, 1.0835, 1.0835, 1.0835, 1.0832, 1.083, 1.083, 1.0829, 1.0828, 1.0826, 1.0822, 1.0822, 1.082, 1.0819, 1.0818, 1.0818, 1.0817, 1.0817, 1.0812, 1.0809, 1.0807, 1.0803, 1.0803, 1.0525, 1.0792, 1.0716, 1.067, 1.0192, 0.9672, 1.0323, 1.0605, 1.0746, 0.9738, 1.025, 0.9592, 0.9963, 1.0201, 1.0153, 0.9092, 0.9365, 0.9654, 0.9166, 0.8696, 0.6777, 0.5023, 0.48, 0.8569, 0.9802, 0.5921, 0.4947, 0.7162, 0.5893, 0.7968, 0.5239, 0.1146, 0.2669, 0.5711, 0.2294, 0.7142, 0.4054, -0.0029, 0.4576, 0.3838, 0.6544, 0.4112, 0.3201, 0.4662, 0.0889, 0.3069, 0.4061, -0.0732, 0.2517, 0.0935, -0.8265, 1.3685, 1.368, 1.3679, 1.3678, 1.3678, 1.3676, 1.3676, 1.3674, 1.3673, 1.3671, 1.3671, 1.3669, 1.3668, 1.3665, 1.3664, 1.3664, 1.3663, 1.3661, 1.3661, 1.366, 1.3659, 1.3659, 1.3657, 1.3656, 1.3655, 1.3655, 1.3655, 1.3653, 1.3649, 1.3647, 1.3644, 1.3615, 1.3597, 1.3292, 1.3493, 1.3534, 1.3463, 1.2087, 1.2365, 1.3517, 1.3201, 1.2396, 1.2177, 1.185, 1.1128, 0.9774, 1.17, 0.8814, 0.7426, 1.0322, 1.109, 0.9442, 0.5885, 0.7609, 0.2141, 0.3752, 0.348, 0.0127, 0.3143, -0.2079, 0.6345, 0.448, 0.6552, 0.4133, -0.4887, 0.1307, -0.0087, 1.5838, 1.5835, 1.5835, 1.5835, 1.5835, 1.5833, 1.5828, 1.5826, 1.5822, 1.5822, 1.5821, 1.582, 1.5817, 1.5816, 1.5815, 1.5812, 1.581, 1.5808, 1.5808, 1.5807, 1.5796, 1.5794, 1.5792, 1.5791, 1.579, 1.5789, 1.5788, 1.5787, 1.5787, 1.5785, 1.5764, 1.578, 1.5719, 1.5583, 1.4623, 1.4988, 1.4883, 1.4601, 1.3386, 1.2535, 1.2919, 1.4016, 1.265, 1.4017, 1.2305, 1.2677, 1.1459, 1.309, 1.2932, 1.206, 1.4306, 1.1886, 1.2845, 1.2767, 0.9239, 1.0622, 0.9245, 0.493, 0.9224, 0.5731, 0.5304, 0.7625, 0.263, -0.3559, 0.4761, 0.5783, -0.3886, 1.5947, 1.5946, 1.5946, 1.5943, 1.5943, 1.5942, 1.5942, 1.5941, 1.5937, 1.5937, 1.5935, 1.5933, 1.5932, 1.5932, 1.5931, 1.593, 1.593, 1.5929, 1.5929, 1.5929, 1.5929, 1.5925, 1.5925, 1.5924, 1.5923, 1.5922, 1.5921, 1.5918, 1.5917, 1.5917, 1.5882, 1.5901, 1.5901, 1.5892, 1.5798, 1.5479, 1.5848, 1.4285, 1.442, 1.1321, 1.3914, 1.1387, 1.3652, 0.8981, 1.0919, 1.2826, 1.0963, 1.0048, 0.652, 0.822, 0.4217, 0.5863, -0.2213, 0.5371, 0.2971, 0.6002, 0.7944, -0.4817, -0.5176, -0.2373]}, \"token.table\": {\"Topic\": [2, 3, 3, 3, 3, 1, 4, 1, 2, 4, 1, 2, 4, 4, 4, 1, 3, 1, 2, 3, 4, 1, 3, 4, 2, 3, 4, 2, 4, 2, 3, 4, 1, 2, 3, 4, 1, 2, 3, 1, 2, 1, 1, 2, 3, 4, 3, 4, 1, 2, 3, 4, 1, 3, 2, 2, 1, 4, 1, 2, 3, 4, 4, 4, 2, 3, 4, 1, 2, 3, 4, 2, 3, 3, 1, 2, 3, 4, 2, 1, 2, 3, 4, 2, 2, 4, 1, 2, 4, 2, 1, 2, 3, 4, 1, 2, 1, 3, 1, 3, 4, 1, 4, 1, 2, 3, 4, 1, 2, 3, 4, 4, 4, 2, 3, 1, 1, 2, 3, 4, 1, 1, 2, 3, 4, 1, 3, 4, 3, 4, 4, 1, 1, 2, 3, 4, 2, 1, 2, 3, 4, 3, 4, 2, 2, 4, 3, 1, 2, 4, 1, 2, 3, 1, 2, 3, 4, 2, 3, 1, 2, 4, 1, 2, 4, 1, 1, 3, 2, 1, 2, 3, 4, 1, 2, 3, 4, 2, 1, 4, 1, 2, 4, 3, 1, 2, 3, 1, 2, 4, 1, 2, 3, 1, 2, 1, 1, 2, 3, 1, 2, 3, 4, 1, 2, 4, 1, 2, 3, 4, 1, 2, 3, 4, 1, 2, 3, 4, 1, 2, 4, 1, 2, 4, 2, 1, 4, 1, 2, 3, 4, 2, 4, 1, 2, 3, 4, 1, 2, 3, 4, 1, 4, 1, 2, 4, 1, 2, 4, 1, 2, 3, 4, 2, 2, 3, 4, 1, 3, 2, 4, 3, 4, 1, 1, 2, 1, 4, 1, 2, 3, 4, 1, 2, 3, 4, 2, 4, 1, 3, 1, 2, 3, 4, 2, 1, 2, 3, 4, 1, 2, 3, 4, 1, 2, 3, 4, 1, 2, 3, 4, 1, 2, 3, 4, 1, 2, 3, 4, 1, 2, 1, 2, 3, 1, 2, 3, 4, 2, 1, 2, 3, 4, 1, 3, 1, 2, 3, 1, 2, 3, 4, 1, 2, 3, 4, 3, 1, 2, 1, 2, 3, 4, 1, 2, 3, 4, 1, 2, 3, 4, 1, 2, 3, 4, 1, 2, 3, 4, 1, 2, 3, 4, 1, 2, 3, 4, 4, 1, 2, 3, 4, 1, 3, 4, 1, 4, 3, 1, 2, 4, 1, 2, 4, 1, 2, 3, 4, 1, 3, 4, 1, 1, 2, 3, 4, 1, 2, 3, 4, 1, 1, 2, 4, 2, 2, 1, 2, 3, 4, 1, 2, 3, 4, 2, 3, 1, 2, 3, 4, 4, 1, 2, 3, 2, 2, 4, 1, 2, 3, 4, 2, 3, 4, 3, 1, 2, 3, 4, 4, 3, 4, 1, 2, 3, 4, 2, 4, 2, 4, 3, 2, 3, 4, 1, 2, 3, 4, 1, 2, 3, 4, 1, 2, 4, 2, 3, 1, 3, 3, 1, 2, 3, 4, 4, 1, 1, 1, 1, 2, 3, 4, 3, 1, 2, 3, 4, 1, 3, 1, 2, 3, 4, 4, 4, 4, 1, 2, 1, 2, 3, 4, 1, 2, 3, 4, 1, 2, 3, 4, 3, 1, 2, 3, 4, 1, 1, 1, 2, 4, 1, 2, 3, 4, 1, 2, 3, 1, 2, 3, 4, 1, 1, 2, 3, 4, 1, 2, 4, 1, 2, 3, 4, 1, 2, 1, 2, 3, 4, 1, 2, 1, 2, 1, 2, 3, 4, 1, 3, 4, 1, 2, 3, 1, 2, 3, 4, 1, 2, 3, 4, 1], \"Freq\": [0.0004994500833566578, 0.9993996167966722, 0.9986481211689169, 0.992799294800049, 0.9980707115144916, 0.0014858591548715387, 0.998497352073674, 0.16629196834861582, 0.8319911259870043, 0.0010625684878505803, 0.8941293961780341, 0.10504664169107626, 0.0009863534431086972, 0.9994414039695222, 0.9996864901568909, 0.0021818902828713823, 0.9971238592722216, 0.8610743077913356, 0.01115381227708984, 0.002230762455417968, 0.1260380787311152, 0.1664211606754742, 0.8329420906169462, 0.0008362872395752472, 0.00017361134943540713, 0.8852442707711409, 0.1145834906273687, 0.003714654481565213, 0.9955274010594771, 0.9995468154543229, 0.9939862377848087, 0.9990725312980593, 0.250483018662026, 0.6542296195190815, 0.005718790380411553, 0.08921312993442021, 0.7955131916083485, 0.18774111321957024, 0.01697094808764477, 0.992944412625172, 0.004432787556362375, 0.9963060324743196, 0.44084294580339084, 0.5346656328661565, 0.02420660664331244, 0.0003533811188804736, 0.9985857080451079, 0.9967278499051073, 0.002128498276283495, 0.9972014424388176, 0.0005321245690708738, 0.0005321245690708738, 0.9976310282492536, 0.9926747837862834, 0.9998683298945061, 0.9992002427210561, 0.0019393148034520138, 0.9987471237777871, 0.14607441953143674, 0.6141765366662681, 0.16931353172961985, 0.07032094989839827, 0.997540712749717, 0.998075640625328, 0.2522674392842912, 0.7464888493621012, 0.0012376162188926796, 0.8438832533846806, 0.11639769012202492, 0.0011192085588656241, 0.03805309100143122, 0.240281836372574, 0.759264556125803, 0.9993586632201701, 0.0024453132529674232, 0.4796889497904429, 0.5159610963761263, 0.0016302088353116156, 0.9962700685221826, 0.22470376618137625, 0.3980743443989036, 0.25892589149060885, 0.11816318738848235, 0.9972639957593997, 0.00020386822613900607, 0.9997697809856858, 0.01961848712436059, 0.2479063372987384, 0.7321262695045476, 0.9964572442050081, 0.5578184685958717, 0.2576841383106392, 0.139053061278938, 0.045433178437672805, 0.0006544946135987245, 0.9987587803516537, 0.996914937431819, 0.997536098505885, 0.9405365579138851, 0.0567816188214265, 0.002911877888278282, 0.9943229693240923, 0.9980327160316095, 0.3322882404524961, 0.05365070548972593, 0.006922671676093669, 0.6074644395772195, 0.07655169810892717, 0.07655169810892717, 0.3486875939215077, 0.4981251341735824, 0.9996591007891538, 0.9989014895502717, 0.9768651347212961, 0.020729233628038114, 0.9908263273763623, 0.8990799190483503, 0.037298075244363876, 0.029445848877129376, 0.03337196206074663, 0.9977480978419703, 0.0009117192928341808, 0.05014456110587995, 0.7412277850741891, 0.20787199876619322, 0.007088208328336928, 0.99234916596717, 0.0011813680547228215, 0.9976156893743653, 0.9990453347180952, 0.9989306839558781, 0.9986719815686588, 0.15987182496881264, 0.0008784166207077618, 0.04479924765609585, 0.7949670417405245, 0.9972637872390977, 0.00011311350825692125, 0.15609664139455134, 0.7184970044479638, 0.12532976714866875, 0.7268239709001999, 0.2730570545303879, 0.9953820971765047, 0.9912756965976176, 0.008999909048227396, 0.9986330834345385, 0.03815564067397171, 0.9611587579300492, 0.0009084676350945645, 0.26162823969072063, 0.0027636785882822605, 0.7351385044830813, 0.4245675838146562, 0.3602077055835836, 0.05501731526204592, 0.16003464345091972, 0.995748021358976, 0.9968530379476067, 0.012281631816945965, 0.9825305453556772, 0.0030704079542364913, 0.887076830311865, 0.025665875741392116, 0.08662233062719839, 0.9985365355877067, 0.9990448349524449, 0.9924136164740733, 0.9994171496931323, 0.5379690983681497, 0.27672183740087564, 0.10695663123224634, 0.07828315136998455, 0.3136605114468742, 0.4581182310044964, 0.22649543683725953, 0.0015605000569496228, 0.996454285352682, 0.00397020213136658, 0.9945356339073282, 0.9848337280781231, 0.007423369809634094, 0.007423369809634094, 0.9985214938073959, 0.016944214132297204, 0.9810699982600082, 0.0016944214132297204, 0.9371407585270053, 0.002154346571326449, 0.06247605056846702, 0.15910435209257062, 0.8201572730449286, 0.02052959381839621, 0.9988110942066033, 0.9981079540169887, 0.9977971094621263, 0.003077227776666661, 0.009231683329999983, 0.9877901163099982, 0.0004777341131645492, 0.2689643057116412, 0.59334576855037, 0.1371096904782256, 0.932655570565444, 0.06544951372389081, 0.0023374826329961, 0.6647362223428038, 0.1062037176425175, 0.1961742245572927, 0.03274156062036161, 0.5535872952904128, 0.2898053148422033, 0.14170888456365696, 0.014667697567523758, 0.8050453852922995, 0.12021039689885016, 0.007285478599930313, 0.0664799922243641, 0.0011493559696290833, 0.9970663036532298, 0.001724033954443625, 0.26698679506204115, 0.7144621122961253, 0.018389396598660995, 0.996270648364104, 0.0025071865717144455, 0.9966066622564921, 0.5333205958719262, 0.2132473095785319, 0.08902164726238523, 0.16428540358422003, 0.9986619486043996, 0.0012075718846486089, 0.003939415370625027, 0.3483920468396508, 0.6450792669398482, 0.0024621346066406417, 0.0029220918442382678, 0.13879936260131773, 0.8576339562839316, 0.0014610459221191339, 0.9973986372287085, 0.9990074474257987, 0.046329605480422455, 0.878546592813937, 0.07464214216290285, 0.04455242977246801, 0.0013922634303896253, 0.9537004498168934, 0.8380981855530307, 0.005980313250633247, 0.12387791733454583, 0.03161022718191859, 0.9983114164500569, 0.11111260687799603, 0.04157762063821787, 0.8466063788575052, 0.9972709457827449, 0.9977228471861906, 0.18379705185000245, 0.8160248737229275, 0.9957255481275906, 0.9982923215131285, 0.9966445069476446, 0.9963973487273861, 0.9988198259049064, 0.9887288579237229, 0.008788700959321981, 0.6086210863205729, 0.2547162564653245, 0.09522103045432691, 0.04126244653020833, 0.20836727946814357, 0.039737525179743764, 0.19817817044769645, 0.5542875307123233, 0.010078819110740416, 0.9902439776302459, 0.9994500841774925, 0.9921463205888927, 0.6101902592920715, 0.3054360180590481, 0.011931094455431565, 0.07226834355861406, 0.9977266877642518, 0.42313158617053787, 0.011740067130743248, 0.11593316291608956, 0.4490575677509292, 0.6495626837137053, 0.21673029582323822, 0.05025630048075089, 0.08355109954924836, 0.0213522911683763, 0.9530886330611604, 0.023293408547319604, 0.0038822347578866007, 0.5063128869525105, 0.14466082484357443, 0.001878712010955512, 0.3472486033582771, 0.7493203075538998, 0.1270034419582881, 0.10613859077942649, 0.017236181408624814, 0.00035002213827294525, 0.2964687511171846, 0.7021444093755281, 0.0010500664148188356, 0.005995228148561414, 0.9928097814017701, 0.07988238416556186, 0.0013425610784128042, 0.9183117776343581, 0.0052052585861161365, 0.01561577575834841, 0.9733833556037176, 0.0052052585861161365, 0.9952248520993496, 0.06380511218665236, 0.05473806992854913, 0.5171572250918138, 0.3646965886037077, 0.9983169307876144, 0.9961128128051004, 0.26535058144263535, 0.005596145830073153, 0.7288979943670282, 0.5977054995116144, 0.1419437187762787, 0.003627954473515111, 0.2571312733103835, 0.3707683628529329, 0.16179509354784505, 0.2616507416229909, 0.2057894660331267, 0.999088100358464, 0.9946855029423797, 0.9991712243161479, 0.1682985427261503, 0.20959112198238047, 0.5167828858431233, 0.10542120613143616, 0.49559038094302904, 0.24689673075261853, 0.1753793371284976, 0.08229891025087284, 0.3690323547301615, 0.19318654105918145, 0.3302866669721489, 0.10756669957993693, 0.010148681241792972, 0.2938705090014834, 0.6852566073262819, 0.011031175262818448, 0.3304155513836515, 0.04039309919115544, 0.16763136164329506, 0.4616931237549066, 0.8881130819240894, 0.040379030140820935, 0.0277464843984412, 0.04376274775038693, 0.2015784009398265, 0.5445234726686223, 0.2505705540439402, 0.0033658731140230776, 0.9980562674738211, 0.0005785469243548331, 0.0908318671237088, 0.908318671237088, 0.0005785469243548331, 0.004519645148271863, 0.9943219326198098, 0.9984632520168685, 0.9949331935796953, 0.9969097611034716, 0.9984439205746741, 0.5068971466786373, 0.4899280576481936, 0.0034808387754756203, 0.10966905701744921, 0.7713390343560594, 0.11880814510223665, 0.0013087947826288318, 0.0013087947826288318, 0.005235179130515327, 0.9933752400152833, 0.03351509223245361, 0.6732942635983984, 0.2932570570339691, 0.9982019646919018, 0.040857466960106184, 0.19418279996093477, 0.13135895291475, 0.6335104016825066, 0.21102694039534625, 0.11981798092245834, 0.27957528881906946, 0.38947925240751824, 0.994997201568707, 0.0003533887243710977, 0.8760506477159512, 0.1236860535298842, 0.9953038861612671, 0.9985775508856586, 0.19219916547397362, 0.013818240654991567, 0.7823636618117044, 0.011557074002356584, 0.059488797963741374, 0.8595105636830219, 0.024616054329824017, 0.05675368081598315, 0.997593677333149, 0.0017289318497974852, 0.5456107996782545, 0.07313697397002919, 0.2668228252812517, 0.11441673841937082, 0.9963489546456513, 0.9989565220577917, 0.9986816603651376, 0.0012061372709723885, 0.9972438994805972, 0.9954567319171126, 0.00421089988120606, 0.9351528970545425, 0.030166222485630403, 0.03430668439542281, 0.0005914945585417726, 0.37023963302822066, 0.0003089191764941349, 0.6294228221067999, 0.9990504672288616, 0.3366049489641865, 0.20666721764761792, 0.33580568348157147, 0.1209174494413411, 0.9991530610753613, 0.8328940673914184, 0.16672506353401526, 0.8809164455456018, 0.05219811162021209, 0.053371102892576405, 0.013489399632189642, 0.0005582169109671405, 0.9992082706311814, 0.003250900590246506, 0.9967261209695787, 0.9989111157891768, 0.995612852386875, 0.9988418333578825, 0.0011286348399524096, 0.011406998652949812, 0.1298642923566594, 0.0008774614348422932, 0.8581572832757628, 0.1756241823290588, 0.3847306727999885, 0.43969219748570115, 0.9967254983648703, 0.0037491752650991106, 0.0018745876325495553, 0.9954060328838139, 0.004363762899453386, 0.9949379410753719, 0.00524561777886886, 0.9966673779850834, 0.9995811457489688, 0.46506787273427996, 0.2179037479206508, 0.2922595292016312, 0.024785260426993454, 0.9992009086721898, 0.9989336004403456, 0.994371558201908, 0.996767692304505, 0.9144245280946719, 0.05773670228584105, 0.009362708478785037, 0.020285868370700913, 0.9985226961003884, 0.45879502287481305, 0.29534225059754554, 0.11911385933768694, 0.12662892932744635, 0.994058124579515, 0.991448498821777, 0.6910671597158378, 0.2878389821201746, 0.020288210193492483, 0.0012680131370932802, 0.9991969236508821, 0.9990971777636546, 0.9957920393420959, 0.01345013201781325, 0.9841013259700027, 0.6897921181304201, 0.25823346843539635, 0.024560248356627366, 0.027367133883099068, 0.5700884141818737, 0.054035097781869705, 0.006165078270414665, 0.36990469622487987, 0.3785959243115668, 0.3151627447531914, 0.14365468934573433, 0.16263694909327825, 0.9989357005068141, 0.03990780350031213, 0.03059598268357263, 0.7476061855725139, 0.1822456359847587, 0.9985818006190479, 0.9958549287877544, 0.14767103943816515, 0.8519758755934916, 0.00023894990200350348, 0.9745646390861298, 0.011957848332345151, 0.008968386249258864, 0.005978924166172576, 0.9473319468766427, 0.021145802385639345, 0.031013843498937706, 0.5094901960405335, 0.03616751391645762, 0.13720067779177947, 0.3172519970715359, 0.9983696545443548, 0.20274636493369458, 0.12405012522500823, 0.3638665609688472, 0.30940047927573006, 0.00244064752914111, 0.012203237645705552, 0.984801278008438, 0.04120777032631033, 0.0019622747774433492, 0.8836777414419883, 0.07391234995036615, 0.0014179992668989668, 0.9982714838968726, 0.28156539572329714, 0.6761515358760659, 0.042277086444939514, 0.9987476642899328, 0.0007799515203780899, 0.9991178976043332, 0.9670313626178211, 0.0327157133876771, 0.24703263855195323, 0.2050308675135229, 0.3658820943792154, 0.18231879872977907, 0.030341592589919683, 0.3646314197209646, 0.60470261723068, 0.9819496608543119, 0.013239770708148026, 0.004413256902716009, 0.191387525019206, 0.7739627385392067, 0.017726631045734936, 0.01682527692476536, 0.43412859612747795, 0.3558082534791738, 0.15912142013162253, 0.051032259463148426, 0.992895441651203], \"Term\": [\"20\", \"20\", \"212\", \"28\", \"aboard\", \"accountable\", \"accountable\", \"administration\", \"administration\", \"administration\", \"air\", \"air\", \"air\", \"alabama\", \"alan\", \"alarm\", \"alarm\", \"american\", \"american\", \"american\", \"american\", \"animal\", \"animal\", \"animal\", \"another\", \"another\", \"another\", \"apologize\", \"apologize\", \"apply\", \"aquatic\", \"audio\", \"back\", \"back\", \"back\", \"back\", \"bad\", \"bad\", \"bad\", \"balloon\", \"balloon\", \"basically\", \"biden\", \"biden\", \"biden\", \"biden\", \"biometrics\", \"bipartisan\", \"blame\", \"blame\", \"blame\", \"blame\", \"bottle\", \"box\", \"brake\", \"braking\", \"brockovich\", \"brockovich\", \"buttigieg\", \"buttigieg\", \"buttigieg\", \"buttigieg\", \"buyback\", \"calhoun\", \"car\", \"car\", \"car\", \"care\", \"care\", \"care\", \"care\", \"cargo\", \"cargo\", \"carolina\", \"carry\", \"carry\", \"carry\", \"carry\", \"categorize\", \"cause\", \"cause\", \"cause\", \"cause\", \"cdc\", \"ceo\", \"ceo\", \"change\", \"change\", \"change\", \"chao\", \"chemical\", \"chemical\", \"chemical\", \"chemical\", \"chloride\", \"chloride\", \"cincinnati\", \"clark\", \"cleveland\", \"cleveland\", \"cleveland\", \"collides\", \"committee\", \"community\", \"community\", \"community\", \"community\", \"company\", \"company\", \"company\", \"company\", \"congress\", \"congressional\", \"contain\", \"contain\", \"contaminated\", \"country\", \"country\", \"country\", \"country\", \"craft\", \"crew\", \"crew\", \"crew\", \"crew\", \"danger\", \"danger\", \"danger\", \"dayton\", \"de\", \"deeply\", \"delivers\", \"demand\", \"demand\", \"demand\", \"demand\", \"deploy\", \"derail\", \"derail\", \"derail\", \"derail\", \"derails\", \"derails\", \"deregulate\", \"deregulation\", \"deregulation\", \"detector\", \"dewine\", \"dewine\", \"dewine\", \"die\", \"die\", \"die\", \"disaster\", \"disaster\", \"disaster\", \"disaster\", \"disposal\", \"door\", \"dot\", \"dot\", \"dot\", \"drink\", \"drink\", \"drink\", \"drinking\", \"dump\", \"economy\", \"ecp\", \"environmental\", \"environmental\", \"environmental\", \"environmental\", \"epa\", \"epa\", \"epa\", \"epa\", \"era\", \"erin\", \"erin\", \"everyone\", \"everyone\", \"everyone\", \"farmer\", \"fault\", \"fault\", \"fault\", \"feel\", \"feel\", \"feel\", \"fema\", \"fema\", \"fema\", \"file\", \"flammable\", \"food\", \"footage\", \"footage\", \"footage\", \"freight\", \"freight\", \"freight\", \"freight\", \"general\", \"general\", \"general\", \"get\", \"get\", \"get\", \"get\", \"go\", \"go\", \"go\", \"go\", \"good\", \"good\", \"good\", \"good\", \"gop\", \"gop\", \"gop\", \"gov\", \"gov\", \"gov\", \"gutted\", \"hall\", \"hall\", \"happen\", \"happen\", \"happen\", \"happen\", \"hazard\", \"hazard\", \"hazardous\", \"hazardous\", \"hazardous\", \"hazardous\", \"hazmat\", \"hazmat\", \"hazmat\", \"hazmat\", \"headache\", \"hearing\", \"high\", \"high\", \"high\", \"hold\", \"hold\", \"hold\", \"home\", \"home\", \"home\", \"home\", \"homendy\", \"hour\", \"hour\", \"hour\", \"illusion\", \"indication\", \"industry\", \"industry\", \"injury\", \"inspection\", \"intake\", \"jd\", \"jennifer\", \"josh\", \"josh\", \"know\", \"know\", \"know\", \"know\", \"last\", \"last\", \"last\", \"last\", \"lawmaker\", \"lawmaker\", \"lawsuit\", \"lexington\", \"like\", \"like\", \"like\", \"like\", \"liquid\", \"live\", \"live\", \"live\", \"live\", \"look\", \"look\", \"look\", \"look\", \"maga\", \"maga\", \"maga\", \"maga\", \"make\", \"make\", \"make\", \"make\", \"many\", \"many\", \"many\", \"many\", \"material\", \"material\", \"material\", \"material\", \"mike\", \"mike\", \"mile\", \"mile\", \"mile\", \"minute\", \"minute\", \"minute\", \"minute\", \"mixed\", \"month\", \"month\", \"month\", \"month\", \"multimillion\", \"myid\", \"near\", \"near\", \"near\", \"need\", \"need\", \"need\", \"need\", \"news\", \"news\", \"news\", \"news\", \"north\", \"nuke\", \"obama\", \"official\", \"official\", \"official\", \"official\", \"oh\", \"oh\", \"oh\", \"oh\", \"one\", \"one\", \"one\", \"one\", \"order\", \"order\", \"order\", \"order\", \"pay\", \"pay\", \"pay\", \"pay\", \"people\", \"people\", \"people\", \"people\", \"pete\", \"pete\", \"pete\", \"pete\", \"petition\", \"place\", \"place\", \"place\", \"place\", \"plane\", \"plane\", \"pledge\", \"pollute\", \"practice\", \"preliminary\", \"president\", \"president\", \"president\", \"prevent\", \"prevent\", \"prevent\", \"profit\", \"profit\", \"profit\", \"profit\", \"public\", \"public\", \"public\", \"quality\", \"rail\", \"rail\", \"rail\", \"rail\", \"railroad\", \"railroad\", \"railroad\", \"railroad\", \"rash\", \"regulation\", \"regulation\", \"regulation\", \"removal\", \"repeal\", \"report\", \"report\", \"report\", \"report\", \"republican\", \"republican\", \"republican\", \"republican\", \"require\", \"require\", \"resident\", \"resident\", \"resident\", \"resident\", \"reveals\", \"river\", \"roll\", \"roll\", \"rollback\", \"rule\", \"rule\", \"safe\", \"safe\", \"safe\", \"safe\", \"safety\", \"safety\", \"safety\", \"saturday\", \"say\", \"say\", \"say\", \"say\", \"scrutiny\", \"second\", \"second\", \"see\", \"see\", \"see\", \"see\", \"senate\", \"senate\", \"shaw\", \"shaw\", \"shelter\", \"shipment\", \"sick\", \"sick\", \"sign\", \"sign\", \"sign\", \"sign\", \"site\", \"site\", \"site\", \"skip\", \"sorry\", \"sorry\", \"sorry\", \"spark\", \"spark\", \"spokesperson\", \"spokesperson\", \"springfield\", \"state\", \"state\", \"state\", \"state\", \"stock\", \"sue\", \"suit\", \"supply\", \"sure\", \"sure\", \"sure\", \"sure\", \"surveil\", \"take\", \"take\", \"take\", \"take\", \"taxpayer\", \"temperature\", \"test\", \"test\", \"test\", \"test\", \"testifies\", \"testify\", \"testimony\", \"texas\", \"texas\", \"think\", \"think\", \"think\", \"think\", \"town\", \"town\", \"town\", \"town\", \"toxic\", \"toxic\", \"toxic\", \"toxic\", \"toxins\", \"track\", \"track\", \"track\", \"track\", \"truck\", \"truckloads\", \"trump\", \"trump\", \"trump\", \"trust\", \"trust\", \"trust\", \"trust\", \"ukraine\", \"ukraine\", \"ukraine\", \"us\", \"us\", \"us\", \"us\", \"vance\", \"via\", \"via\", \"via\", \"via\", \"victim\", \"victim\", \"victim\", \"video\", \"video\", \"video\", \"video\", \"vinyl\", \"vinyl\", \"visit\", \"visit\", \"visit\", \"washington\", \"waste\", \"waste\", \"water\", \"water\", \"week\", \"week\", \"week\", \"week\", \"worker\", \"worker\", \"worker\", \"worry\", \"worry\", \"worry\", \"would\", \"would\", \"would\", \"would\", \"wreck\", \"wreck\", \"wreck\", \"wreck\", \"yost\"]}, \"R\": 30, \"lambda.step\": 0.01, \"plot.opts\": {\"xlab\": \"PC1\", \"ylab\": \"PC2\"}, \"topic.order\": [3, 1, 2, 4]};\n",
       "\n",
       "function LDAvis_load_lib(url, callback){\n",
       "  var s = document.createElement('script');\n",
       "  s.src = url;\n",
       "  s.async = true;\n",
       "  s.onreadystatechange = s.onload = callback;\n",
       "  s.onerror = function(){console.warn(\"failed to load library \" + url);};\n",
       "  document.getElementsByTagName(\"head\")[0].appendChild(s);\n",
       "}\n",
       "\n",
       "if(typeof(LDAvis) !== \"undefined\"){\n",
       "   // already loaded: just create the visualization\n",
       "   !function(LDAvis){\n",
       "       new LDAvis(\"#\" + \"ldavis_el1862063046612801245324726\", ldavis_el1862063046612801245324726_data);\n",
       "   }(LDAvis);\n",
       "}else if(typeof define === \"function\" && define.amd){\n",
       "   // require.js is available: use it to load d3/LDAvis\n",
       "   require.config({paths: {d3: \"https://d3js.org/d3.v5\"}});\n",
       "   require([\"d3\"], function(d3){\n",
       "      window.d3 = d3;\n",
       "      LDAvis_load_lib(\"https://cdn.jsdelivr.net/gh/bmabey/pyLDAvis@3.3.1/pyLDAvis/js/ldavis.v3.0.0.js\", function(){\n",
       "        new LDAvis(\"#\" + \"ldavis_el1862063046612801245324726\", ldavis_el1862063046612801245324726_data);\n",
       "      });\n",
       "    });\n",
       "}else{\n",
       "    // require.js not available: dynamically load d3 & LDAvis\n",
       "    LDAvis_load_lib(\"https://d3js.org/d3.v5.js\", function(){\n",
       "         LDAvis_load_lib(\"https://cdn.jsdelivr.net/gh/bmabey/pyLDAvis@3.3.1/pyLDAvis/js/ldavis.v3.0.0.js\", function(){\n",
       "                 new LDAvis(\"#\" + \"ldavis_el1862063046612801245324726\", ldavis_el1862063046612801245324726_data);\n",
       "            })\n",
       "         });\n",
       "}\n",
       "</script>"
      ],
      "text/plain": [
       "PreparedData(topic_coordinates=              x         y  topics  cluster       Freq\n",
       "topic                                                \n",
       "2      0.117772  0.039317       1        1  33.758269\n",
       "0      0.158341 -0.028672       2        1  25.439415\n",
       "1     -0.133837 -0.190190       3        1  20.511758\n",
       "3     -0.142276  0.179544       4        1  20.290558, topic_info=           Term         Freq        Total Category  logprob  loglift\n",
       "13647     trump  8369.000000  8369.000000  Default  30.0000  30.0000\n",
       "2452        ceo  4905.000000  4905.000000  Default  29.0000  29.0000\n",
       "3790     derail  8840.000000  8840.000000  Default  28.0000  28.0000\n",
       "1090    another  5759.000000  5759.000000  Default  27.0000  27.0000\n",
       "11592    safety  6474.000000  6474.000000  Default  26.0000  26.0000\n",
       "...         ...          ...          ...      ...      ...      ...\n",
       "13457      town  1019.707343  2757.467019   Topic4  -5.3200   0.6002\n",
       "7926       live   917.976849  2044.281326   Topic4  -5.4251   0.7944\n",
       "3790     derail  1108.150593  8840.677081   Topic4  -5.2369  -0.4817\n",
       "11693       say  1059.011880  8758.041167   Topic4  -5.2822  -0.5176\n",
       "4008   disaster   925.007364  5779.998506   Topic4  -5.4175  -0.2373\n",
       "\n",
       "[305 rows x 6 columns], token_table=       Topic      Freq    Term\n",
       "term                          \n",
       "164        2  0.000499      20\n",
       "164        3  0.999400      20\n",
       "197        3  0.998648     212\n",
       "242        3  0.992799      28\n",
       "567        3  0.998071  aboard\n",
       "...      ...       ...     ...\n",
       "14766      1  0.434129   wreck\n",
       "14766      2  0.355808   wreck\n",
       "14766      3  0.159121   wreck\n",
       "14766      4  0.051032   wreck\n",
       "14902      1  0.992895    yost\n",
       "\n",
       "[572 rows x 3 columns], R=30, lambda_step=0.01, plot_opts={'xlab': 'PC1', 'ylab': 'PC2'}, topic_order=[3, 1, 2, 4])"
      ]
     },
     "execution_count": 28,
     "metadata": {},
     "output_type": "execute_result"
    }
   ],
   "source": [
    "pyLDAvis.sklearn.prepare(lda, tf, tf_vectorizer)"
   ]
  },
  {
   "cell_type": "code",
   "execution_count": 48,
   "metadata": {},
   "outputs": [],
   "source": [
    "# We want to know, for each tweet, what fraction is explained by each of the topics\n",
    "doc_topic_matrix = lda.transform(tf)\n",
    "# Ill get a low dimensional version of the data, the document topic matrix (10, 10)\n",
    "# each of the 10,000 represented as a distribution over 10 different topics"
   ]
  },
  {
   "cell_type": "code",
   "execution_count": 49,
   "metadata": {},
   "outputs": [
    {
     "data": {
      "text/plain": [
       "(85220, 4)"
      ]
     },
     "execution_count": 49,
     "metadata": {},
     "output_type": "execute_result"
    }
   ],
   "source": [
    "doc_topic_matrix.shape"
   ]
  },
  {
   "cell_type": "code",
   "execution_count": 85,
   "metadata": {},
   "outputs": [
    {
     "data": {
      "text/plain": [
       "'nicksortor break state sue explosion aim force railroad pay environmental cleanup economic damage'"
      ]
     },
     "execution_count": 85,
     "metadata": {},
     "output_type": "execute_result"
    }
   ],
   "source": [
    "sample_data[3]"
   ]
  },
  {
   "cell_type": "code",
   "execution_count": 84,
   "metadata": {},
   "outputs": [
    {
     "data": {
      "text/plain": [
       "'RT @nicksortor 🚨 #BREAKING: The State of Ohio is SUING Norfolk Southern over the East Palestine train explosion, aiming to FORCE the railroad to pay for environmental cleanup and economic damage.'"
      ]
     },
     "execution_count": 84,
     "metadata": {},
     "output_type": "execute_result"
    }
   ],
   "source": [
    "df.MESSAGE.iloc[3]"
   ]
  },
  {
   "cell_type": "code",
   "execution_count": 50,
   "metadata": {},
   "outputs": [
    {
     "data": {
      "text/plain": [
       "array([0.87253, 0.01727, 0.09306, 0.01714])"
      ]
     },
     "execution_count": 50,
     "metadata": {},
     "output_type": "execute_result"
    }
   ],
   "source": [
    "# The topic distribution of the 0th document is very small except for 0.96288 fior index 7\n",
    "# We saw from above, topic 7 is about religion, and we can check that document 0 is about religion\n",
    "doc_topic_matrix[0]\n",
    "\n",
    "# Note: for GMM when you do the .predict, itll give you k probabilites that sum to 1. \n",
    "# predict_proba of GMM \n",
    "# here: ... gives you a proba distr:\n",
    "# INTERPRETARATION DIFFERENT\n",
    "\n",
    "# FOR LDA: document can consist of a bunch of words, and different fraction of the words are truly in different topics: we get mixed membership, words are allowed to e in different topics\n",
    "# GMM: the above doesnt hold"
   ]
  },
  {
   "cell_type": "code",
   "execution_count": 51,
   "metadata": {},
   "outputs": [],
   "source": [
    "# here we can take some tweets and say:this is the topic it belongs to..."
   ]
  },
  {
   "cell_type": "code",
   "execution_count": 52,
   "metadata": {},
   "outputs": [
    {
     "data": {
      "text/plain": [
       "1.0"
      ]
     },
     "execution_count": 52,
     "metadata": {},
     "output_type": "execute_result"
    }
   ],
   "source": [
    "doc_topic_matrix[0].sum()"
   ]
  },
  {
   "attachments": {},
   "cell_type": "markdown",
   "metadata": {},
   "source": [
    "## Split: media, public, govt"
   ]
  },
  {
   "attachments": {},
   "cell_type": "markdown",
   "metadata": {},
   "source": [
    "### To do\n",
    "Present these results and then tweak:\n",
    "- Adjust count vectorizer parameters to get better sparsity (0.2-0.8)"
   ]
  },
  {
   "cell_type": "code",
   "execution_count": 164,
   "metadata": {},
   "outputs": [],
   "source": [
    "data_media = df.query('IS_MEDIA == 1')\n",
    "data_govt = df.query('IS_GOVT == 1')\n",
    "data_people = df.query('IS_PEOPLE == 1')"
   ]
  },
  {
   "cell_type": "markdown",
   "metadata": {},
   "source": []
  },
  {
   "cell_type": "code",
   "execution_count": 165,
   "metadata": {},
   "outputs": [],
   "source": [
    "def parse_lda(dataframe, max_voc, min_df, num_topics):\n",
    "  '''Outputs...\n",
    "  Parameters: \n",
    "    list_documents:list of strings, contains documents to be analyzed\n",
    "    max_voc:int, the max size of vocab allowed\n",
    "    min_df: int, minimum document frequency, i.e., keep words that appear in at least this number of documents\n",
    "    '''\n",
    "  sample_data = dataframe.T_text.tolist()\n",
    "  max_vocabulary = max_voc\n",
    "  tf_vectorizer = CountVectorizer(min_df = min_df, max_features=max_voc)\n",
    "  tf_fit = tf_vectorizer.fit(sample_data)\n",
    "  tf = tf_vectorizer.fit_transform(sample_data)\n",
    "  lda = LatentDirichletAllocation(n_components=num_topics, random_state=0)\n",
    "  lda.fit(tf)\n",
    "\n",
    "  return tf, tf_vectorizer, tf_vectorizer.get_feature_names_out(), lda, sample_data"
   ]
  },
  {
   "cell_type": "code",
   "execution_count": 169,
   "metadata": {},
   "outputs": [],
   "source": [
    "# we are getting the term frequency, ..., the vocabulary ordered alphabetically, fitted lda and the data used.\n",
    "tf, tf_vectorizer, vocab, lda, data = parse_lda(data_media, max_voc = 3800, min_df = 2, num_topics = 4)"
   ]
  },
  {
   "cell_type": "code",
   "execution_count": 170,
   "metadata": {},
   "outputs": [
    {
     "name": "stdout",
     "output_type": "stream",
     "text": [
      "Size of the ... (tweets, words in vocabulary): (7406, 3800)\n"
     ]
    }
   ],
   "source": [
    "print(f'Size of the ... (tweets, words in vocabulary): {tf.toarray().shape}')"
   ]
  },
  {
   "cell_type": "code",
   "execution_count": 171,
   "metadata": {},
   "outputs": [
    {
     "name": "stdout",
     "output_type": "stream",
     "text": [
      "Sparsity: 0.2971594866182469\n"
     ]
    }
   ],
   "source": [
    "# Metrics part 1\n",
    "\n",
    "# 1. Sparsity\n",
    "# How sparse is this document?\n",
    "# We are taking the non zero entries in the doc-word frequency matrix\n",
    "# Sparsity (%) = (# of zero elements in tf / total # of elements in tf) x 100\n",
    "\n",
    "sparsity_media = ((tf.todense() > 0).sum() / tf.todense().size)*100\n",
    "print(f'Sparsity: {sparsity_media}')\n",
    "\n",
    "\n",
    "#LOOK: to icnrease sparsity, we can increase min_df (can be integer or float)\n",
    "# we can also lower max_features\n",
    "# we can also reduce stop words"
   ]
  },
  {
   "cell_type": "code",
   "execution_count": 172,
   "metadata": {},
   "outputs": [],
   "source": [
    "def most_frequent(tf, vocab, data):\n",
    "  #highest frequency word\n",
    "  max_freq = tf.toarray().max()\n",
    "  # which doc / word combination has highest values?\n",
    "  max_freq_idx = list(np.argwhere(tf.toarray()==max_freq)[0])\n",
    "  max_freq_doc, max_freq_word = max_freq_idx\n",
    "  # to print out the vocabulary in the doc-word freq matrix\n",
    "  # vocab[max_freq_word]\n",
    "  # In which document is this word?\n",
    "  # sample_data[max_freq_doc]\n",
    "  print(f'The most repeated word in a single tweet is {vocab[max_freq_word]}, and it is repeated {max_freq} times in the tweet: {data[max_freq_doc]}')\n",
    "  "
   ]
  },
  {
   "cell_type": "code",
   "execution_count": 173,
   "metadata": {},
   "outputs": [
    {
     "name": "stdout",
     "output_type": "stream",
     "text": [
      "The most repeated word in a single tweet is get, and it is repeated 4 times in the tweet: get rid safety rule get get rid bank safety rule get svb signature\n"
     ]
    }
   ],
   "source": [
    "most_frequent(tf, vocab, data)"
   ]
  },
  {
   "cell_type": "code",
   "execution_count": 174,
   "metadata": {},
   "outputs": [],
   "source": [
    "topic_word = np.array([row / row.sum() for row in lda.components_])"
   ]
  },
  {
   "cell_type": "code",
   "execution_count": 175,
   "metadata": {},
   "outputs": [
    {
     "data": {
      "text/plain": [
       "(4, 3800)"
      ]
     },
     "execution_count": 175,
     "metadata": {},
     "output_type": "execute_result"
    }
   ],
   "source": [
    "topic_word.shape\n"
   ]
  },
  {
   "cell_type": "code",
   "execution_count": 176,
   "metadata": {},
   "outputs": [
    {
     "name": "stderr",
     "output_type": "stream",
     "text": [
      "/Users/ribarragi/miniconda3/envs/Intro_AI/lib/python3.9/site-packages/sklearn/utils/deprecation.py:87: FutureWarning: Function get_feature_names is deprecated; get_feature_names is deprecated in 1.0 and will be removed in 1.2. Please use get_feature_names_out instead.\n",
      "  warnings.warn(msg, category=FutureWarning)\n",
      "/Users/ribarragi/miniconda3/envs/Intro_AI/lib/python3.9/site-packages/pyLDAvis/_prepare.py:246: FutureWarning: In a future version of pandas all arguments of DataFrame.drop except for the argument 'labels' will be keyword-only.\n",
      "  default_term_info = default_term_info.sort_values(\n"
     ]
    },
    {
     "data": {
      "text/html": [
       "\n",
       "<link rel=\"stylesheet\" type=\"text/css\" href=\"https://cdn.jsdelivr.net/gh/bmabey/pyLDAvis@3.3.1/pyLDAvis/js/ldavis.v1.0.0.css\">\n",
       "\n",
       "\n",
       "<div id=\"ldavis_el18620108064571683221996941\"></div>\n",
       "<script type=\"text/javascript\">\n",
       "\n",
       "var ldavis_el18620108064571683221996941_data = {\"mdsDat\": {\"x\": [-0.17043076258966575, 0.15880555224560514, 0.08532324355056323, -0.07369803320650267], \"y\": [-0.08965336777769532, -0.14985639173534707, 0.1645674965736438, 0.07494226293939861], \"topics\": [1, 2, 3, 4], \"cluster\": [1, 1, 1, 1], \"Freq\": [26.65614857874313, 26.454255283922823, 25.840035876386242, 21.0495602609478]}, \"tinfo\": {\"Term\": [\"ceo\", \"car\", \"derail\", \"water\", \"senate\", \"springfield\", \"pay\", \"trump\", \"epa\", \"shaw\", \"million\", \"alan\", \"buttigieg\", \"cargo\", \"pennsylvania\", \"ntsb\", \"waste\", \"pete\", \"20\", \"visit\", \"hazardous\", \"alabama\", \"hearing\", \"transportation\", \"help\", \"safety\", \"rail\", \"official\", \"saturday\", \"cleanup\", \"senate\", \"shaw\", \"alan\", \"alabama\", \"hearing\", \"testify\", \"former\", \"donald\", \"sorry\", \"deeply\", \"derails\", \"press\", \"testimony\", \"testifies\", \"committee\", \"arrest\", \"calhoun\", \"bank\", \"trump\", \"capitol\", \"hill\", \"scrutiny\", \"discuss\", \"joe\", \"ceo\", \"panel\", \"pete\", \"grill\", \"apology\", \"criticize\", \"secretary\", \"buttigieg\", \"face\", \"president\", \"hour\", \"congress\", \"visit\", \"administration\", \"thursday\", \"biden\", \"morning\", \"hear\", \"disaster\", \"transportation\", \"week\", \"toxic\", \"spill\", \"company\", \"response\", \"chemical\", \"today\", \"tell\", \"say\", \"month\", \"derail\", \"community\", \"safety\", \"springfield\", \"cargo\", \"20\", \"sue\", \"risk\", \"cleveland\", \"kill\", \"shelter\", \"dump\", \"place\", \"columbus\", \"raise\", \"indication\", \"car\", \"dayton\", \"remain\", \"special\", \"overheat\", \"fish\", \"ntsb\", \"death\", \"aboard\", \"spokesperson\", \"bearing\", \"prompt\", \"detector\", \"alert\", \"212\", \"pose\", \"sensor\", \"authority\", \"track\", \"saturday\", \"second\", \"derail\", \"train\", \"involve\", \"public\", \"crew\", \"official\", \"material\", \"hazardous\", \"include\", \"expert\", \"incident\", \"concern\", \"near\", \"month\", \"carry\", \"say\", \"health\", \"company\", \"investigation\", \"another\", \"toxic\", \"chemical\", \"resident\", \"report\", \"safety\", \"follow\", \"state\", \"pay\", \"lawsuit\", \"cost\", \"dollar\", \"help\", \"clean\", \"file\", \"shapiro\", \"recovery\", \"seek\", \"recover\", \"general\", \"sure\", \"josh\", \"regan\", \"michael\", \"drink\", \"contamination\", \"yost\", \"monitoring\", \"million\", \"clinic\", \"base\", \"symptom\", \"triple\", \"firm\", \"liveonnews9\", \"daily\", \"billion\", \"win\", \"water\", \"pledge\", \"damage\", \"pennsylvania\", \"attorney\", \"cleanup\", \"safe\", \"air\", \"epa\", \"border\", \"resident\", \"test\", \"order\", \"last\", \"environmental\", \"say\", \"railroad\", \"chemical\", \"town\", \"state\", \"get\", \"month\", \"people\", \"toxic\", \"health\", \"company\", \"take\", \"waste\", \"dewine\", \"chloride\", \"vinyl\", \"mike\", \"shipment\", \"brown\", \"disposal\", \"legislation\", \"sherrod\", \"pause\", \"indiana\", \"removal\", \"tour\", \"vance\", \"national\", \"govmikedewine\", \"introduce\", \"model\", \"decision\", \"ill\", \"sandusky\", \"representative\", \"ship\", \"resume\", \"capture\", \"haleybemiller\", \"oversight\", \"landfill\", \"jd\", \"moment\", \"update\", \"management\", \"board\", \"point\", \"operator\", \"rail\", \"join\", \"safety\", \"agency\", \"need\", \"site\", \"accountable\", \"federal\", \"industry\", \"could\", \"gov\", \"protection\", \"transportation\", \"plan\", \"come\", \"epa\", \"via\", \"worker\", \"hold\", \"say\", \"toxic\", \"release\", \"disaster\", \"biden\", \"order\", \"hazardous\", \"new\", \"chemical\", \"report\"], \"Freq\": [647.0, 478.0, 829.0, 421.0, 332.0, 286.0, 274.0, 289.0, 466.0, 261.0, 252.0, 240.0, 297.0, 215.0, 290.0, 215.0, 170.0, 219.0, 189.0, 312.0, 555.0, 180.0, 177.0, 304.0, 167.0, 694.0, 428.0, 483.0, 214.0, 284.0, 331.35690284565516, 260.40031572097416, 239.58760340799896, 179.98241469470477, 177.12907344935564, 142.1433255985449, 91.0401951630697, 81.59196008112879, 78.75703205268532, 65.5121122238096, 156.9335418612385, 68.16819272356956, 52.26549879140173, 47.53883327635173, 135.7690082239849, 39.96059667287651, 39.012522040373376, 38.04969933707993, 283.54177247883575, 33.34249747948689, 33.3422110236021, 33.323823786382874, 46.21913170934281, 60.97470328224997, 631.4059052207346, 27.66779791495466, 213.98098601249228, 27.66470937285132, 45.17625175625126, 25.764256683815425, 149.525209633987, 274.3907410741394, 109.17598523215926, 183.57602804208818, 91.47787964710345, 150.11945387657792, 231.41128511210945, 109.39039587840493, 188.44180242453058, 209.7576544725796, 100.56053210168963, 103.96868571654376, 189.44252589576885, 162.10931423007338, 185.71413660630228, 308.12831121611583, 137.70290380197858, 203.745342921731, 139.0427878243247, 197.88284633147723, 110.09890469870928, 115.38195921006549, 167.74861455902544, 144.02847282463372, 138.04214283757148, 119.15224143240708, 124.25055462334402, 285.683501465772, 214.84778677286167, 188.9561319549468, 142.947268469728, 117.11195467955585, 86.46063628982097, 87.4100517273344, 83.58969056639434, 65.3791971349777, 130.5383524782224, 56.755673112552806, 53.8760141831688, 52.924657440837514, 471.93987697004906, 46.22379956171491, 56.5769390474031, 45.25751531494155, 44.30446816122144, 43.34169402200745, 211.9890070554629, 42.388802882407106, 37.60434038971209, 37.598335837273304, 36.63696776603422, 46.95612870733242, 35.68285811003978, 46.93608121028488, 30.889906012718487, 28.013906528620044, 28.01032017835919, 102.92554189252704, 110.7913719709433, 195.69763806328697, 197.84681183956388, 651.8809244952071, 144.71412736089667, 129.6989446622867, 151.87117080220008, 105.6038717547874, 342.987173822994, 262.69841888043237, 346.8926597444633, 95.82518891943981, 63.609167323707695, 115.43777580972962, 188.80698727349102, 176.37110889889388, 343.1228343776174, 209.41919860752907, 515.922394682606, 194.52135883905734, 306.2787260199713, 134.62383343675464, 159.93892980273577, 335.5818426126427, 298.2416437003052, 283.2722776912423, 166.24884746506342, 190.91173269157107, 135.91117786663852, 133.03781168685967, 273.32945535083775, 146.39281507688472, 124.28280395766907, 123.31105201405062, 166.31689981147906, 142.33806564912484, 90.62759695166879, 81.9729657882665, 81.00563064585083, 77.10932833101545, 71.38868275135168, 69.46532385852822, 67.5434605795477, 58.89038307029385, 56.96441392049825, 55.99871986974724, 44.463710485119435, 47.272847935552136, 40.620436707652956, 36.77427732741673, 247.96372757728736, 34.83802118582687, 30.023124340557892, 39.310199839754354, 26.202649779761757, 27.129916529935674, 37.4032090751794, 26.18074349865422, 25.219650145174928, 24.277512013230524, 408.85107536419844, 115.28256467255453, 104.7647915443382, 249.79132822715002, 70.80584792894152, 231.4545794072099, 177.6580867495937, 191.58933758567284, 307.5502530514547, 114.67650880653271, 399.79184016620684, 112.36402843933526, 154.81218831498026, 188.87670979151707, 169.95086270434334, 391.9046871629566, 171.54122188775943, 229.19500155414815, 136.28139845826925, 146.206648340543, 118.84997635385854, 183.35905445661405, 125.29785653644535, 186.0135606181521, 122.31505859069225, 130.00582800636357, 115.86954806900575, 169.33808623213002, 133.42577821365978, 81.396956505595, 80.43058090427049, 102.41267649076147, 65.94777804262633, 61.0992198964236, 47.583692951098044, 47.57512182280465, 44.68240946709928, 38.893469375622296, 33.09412835607396, 28.26063688045077, 28.23308365733576, 51.74898675334726, 119.42308165251568, 26.31197132287589, 29.12088626895682, 24.393935127734142, 24.37372178985903, 23.42049988855407, 23.382105614522356, 23.354184915004815, 19.559972885766538, 18.59998577830071, 22.310135355397865, 18.585697242180053, 17.623557084820455, 16.664726101399957, 16.664289432110795, 32.521082279596754, 118.33086176527944, 26.588481867722795, 99.83322863815131, 65.18499075293262, 52.88103647883216, 255.50643060703266, 50.76161448957264, 332.99188100526794, 134.6909104706468, 86.99719487651363, 206.1889494599895, 67.55321243786088, 161.20875474831917, 62.76485994253523, 92.27860509865037, 109.82485309874617, 63.06193974898259, 142.17280871931004, 90.69321728107069, 93.97563142224952, 155.43487366876894, 100.26261531103859, 74.25441331371849, 89.44959176174089, 197.74799537375333, 173.5533513770076, 98.60506372813991, 103.3094243198733, 94.6132284857427, 85.01925091759367, 94.33114175967438, 80.9730206833207, 89.09474087872297, 81.4829432052277], \"Total\": [647.0, 478.0, 829.0, 421.0, 332.0, 286.0, 274.0, 289.0, 466.0, 261.0, 252.0, 240.0, 297.0, 215.0, 290.0, 215.0, 170.0, 219.0, 189.0, 312.0, 555.0, 180.0, 177.0, 304.0, 167.0, 694.0, 428.0, 483.0, 214.0, 284.0, 332.0833105561666, 261.12791767676663, 240.31431955988472, 180.71180156235866, 177.87394685670083, 142.86889378706317, 91.78128071673154, 82.3203372465567, 79.48205474468725, 66.23704013173939, 158.96866586688446, 69.07909701005116, 52.992073478173154, 48.26163746038626, 138.1737059804532, 40.69324530209429, 39.747172119794804, 38.80133926492519, 289.59972012267673, 34.070648444647695, 34.07067097053782, 34.070912981236546, 47.32336001652965, 62.46884925468434, 647.371331664666, 28.394178625131268, 219.60331351510905, 28.394246643079953, 46.37956026031128, 26.502236320491342, 155.2730515094135, 297.54862056381364, 119.37425268261043, 209.62445931543925, 101.43444758001979, 179.27885086192305, 312.963004682168, 133.81844670381065, 269.0721530538542, 312.4230844266929, 126.15156242182616, 132.98378787316224, 354.1282190708718, 304.78291264761356, 383.5929106315939, 1003.2770658239183, 240.74120500470625, 653.3314777618777, 281.6499308602721, 814.4142324646535, 168.59069689838904, 211.52810041078283, 1273.3236917783413, 683.9868029689609, 829.2351415969999, 274.83774995976364, 694.1229382375054, 286.46794035704556, 215.569200383187, 189.700664533512, 143.7129547730899, 117.84444580933092, 87.18574803889686, 88.14386985479052, 84.31145167479207, 66.10786981921648, 132.20396528294387, 57.485112105814366, 54.61080517950174, 53.652776838752615, 478.97085230007843, 46.94615724012084, 57.483040573648275, 45.98806102149115, 45.0300045509694, 44.07190391436582, 215.59363134328743, 43.11381375749707, 38.32335025617304, 38.323342134019, 37.365274382950425, 47.90605328124883, 36.407220992715544, 47.906341990121035, 31.61682470263983, 28.742513132387135, 28.742503419796698, 108.30319191027706, 117.84515283232288, 214.71910341847396, 228.15751278305143, 829.2351415969999, 166.7766157840675, 150.1751039427965, 184.1765684905725, 122.43068182445617, 483.3244866141458, 386.3897213069168, 555.0531867294804, 116.08460202967328, 69.98145359764708, 151.32455821565546, 289.86177941455344, 270.0850764906926, 683.9868029689609, 357.3216815381529, 1273.3236917783413, 325.30476871123733, 653.3314777618777, 193.62898345368575, 263.2036102433881, 1003.2770658239183, 814.4142324646535, 817.8412488662185, 380.4481920414469, 694.1229382375054, 330.9981841706737, 332.0894269525869, 274.0517891556089, 147.12087892837837, 125.00413316873947, 124.04248446445429, 167.31019437857526, 143.272737442038, 91.34821286666694, 82.69383072520965, 81.73219440022328, 77.88521430716747, 72.1161351189178, 70.19299406303752, 68.2698317051157, 59.61549842461227, 57.692267081216855, 56.73064155060465, 45.191480323765404, 48.07601662274476, 41.34508982794621, 37.49875406672008, 252.88120650231443, 35.57543593766432, 30.767422112662093, 40.377959501931386, 26.921151969528225, 27.882742413267426, 38.45490970065154, 26.92106554978891, 25.959373987440088, 24.99797828810838, 421.12999884866076, 126.75116178279038, 115.35195488158703, 290.2532177837291, 76.90450994287148, 284.6423107351297, 218.29821135430305, 241.17732896889504, 466.1579643980637, 149.87910334850244, 817.8412488662185, 162.6954892686145, 267.6345470514595, 370.13677241573015, 324.7177422795851, 1273.3236917783413, 403.3268944706905, 814.4142324646535, 283.39891149967707, 332.0894269525869, 225.8447045880734, 683.9868029689609, 292.87914331922605, 1003.2770658239183, 325.30476871123733, 653.3314777618777, 256.1808198277264, 170.06357235309895, 134.3090313215695, 82.12861616861683, 81.16229685990714, 103.38643809596554, 66.66762657775989, 61.835720084255534, 48.307534164810775, 48.307301953999854, 45.40855440843812, 39.61073933500711, 33.81280346812894, 28.98121919089245, 28.980629607658287, 53.1252374439334, 122.69214037041223, 27.048270980018035, 29.946965833227637, 25.1159393544185, 25.115588870896737, 24.149561509895882, 24.149260053602127, 24.149224965586388, 20.28430201045173, 19.3180514992864, 23.180862864938923, 19.31786908251127, 18.351550543499407, 17.38536210002626, 17.385388625290663, 34.747506243269825, 148.3553698686185, 28.946383992697744, 129.23183482030245, 80.86924544770835, 63.600233784813, 428.27550214063916, 63.511351200986546, 694.1229382375054, 225.26040419112394, 129.20054596730574, 408.2659479611612, 95.36478575579675, 306.76095220600774, 86.65575130535089, 148.34250573661578, 191.88963058972084, 88.77024241695132, 304.78291264761356, 168.06112924363248, 182.45440527604222, 466.1579643980637, 215.49405612526908, 126.17508490073092, 195.38082547280362, 1273.3236917783413, 1003.2770658239183, 267.62810613686065, 354.1282190708718, 312.4230844266929, 267.6345470514595, 555.0531867294804, 283.15832398422003, 814.4142324646535, 380.4481920414469], \"Category\": [\"Default\", \"Default\", \"Default\", \"Default\", \"Default\", \"Default\", \"Default\", \"Default\", \"Default\", \"Default\", \"Default\", \"Default\", \"Default\", \"Default\", \"Default\", \"Default\", \"Default\", \"Default\", \"Default\", \"Default\", \"Default\", \"Default\", \"Default\", \"Default\", \"Default\", \"Default\", \"Default\", \"Default\", \"Default\", \"Default\", \"Topic1\", \"Topic1\", \"Topic1\", \"Topic1\", \"Topic1\", \"Topic1\", \"Topic1\", \"Topic1\", \"Topic1\", \"Topic1\", \"Topic1\", \"Topic1\", \"Topic1\", \"Topic1\", \"Topic1\", \"Topic1\", \"Topic1\", \"Topic1\", \"Topic1\", \"Topic1\", \"Topic1\", \"Topic1\", \"Topic1\", \"Topic1\", \"Topic1\", \"Topic1\", \"Topic1\", \"Topic1\", \"Topic1\", \"Topic1\", \"Topic1\", \"Topic1\", \"Topic1\", \"Topic1\", \"Topic1\", \"Topic1\", \"Topic1\", \"Topic1\", \"Topic1\", \"Topic1\", \"Topic1\", \"Topic1\", \"Topic1\", \"Topic1\", \"Topic1\", \"Topic1\", \"Topic1\", \"Topic1\", \"Topic1\", \"Topic1\", \"Topic1\", \"Topic1\", \"Topic1\", \"Topic1\", \"Topic1\", \"Topic1\", \"Topic1\", \"Topic2\", \"Topic2\", \"Topic2\", \"Topic2\", \"Topic2\", \"Topic2\", \"Topic2\", \"Topic2\", \"Topic2\", \"Topic2\", \"Topic2\", \"Topic2\", \"Topic2\", \"Topic2\", \"Topic2\", \"Topic2\", \"Topic2\", \"Topic2\", \"Topic2\", \"Topic2\", \"Topic2\", \"Topic2\", \"Topic2\", \"Topic2\", \"Topic2\", \"Topic2\", \"Topic2\", \"Topic2\", \"Topic2\", \"Topic2\", \"Topic2\", \"Topic2\", \"Topic2\", \"Topic2\", \"Topic2\", \"Topic2\", \"Topic2\", \"Topic2\", \"Topic2\", \"Topic2\", \"Topic2\", \"Topic2\", \"Topic2\", \"Topic2\", \"Topic2\", \"Topic2\", \"Topic2\", \"Topic2\", \"Topic2\", \"Topic2\", \"Topic2\", \"Topic2\", \"Topic2\", \"Topic2\", \"Topic2\", \"Topic2\", \"Topic2\", \"Topic2\", \"Topic2\", \"Topic2\", \"Topic2\", \"Topic3\", \"Topic3\", \"Topic3\", \"Topic3\", \"Topic3\", \"Topic3\", \"Topic3\", \"Topic3\", \"Topic3\", \"Topic3\", \"Topic3\", \"Topic3\", \"Topic3\", \"Topic3\", \"Topic3\", \"Topic3\", \"Topic3\", \"Topic3\", \"Topic3\", \"Topic3\", \"Topic3\", \"Topic3\", \"Topic3\", \"Topic3\", \"Topic3\", \"Topic3\", \"Topic3\", \"Topic3\", \"Topic3\", \"Topic3\", \"Topic3\", \"Topic3\", \"Topic3\", \"Topic3\", \"Topic3\", \"Topic3\", \"Topic3\", \"Topic3\", \"Topic3\", \"Topic3\", \"Topic3\", \"Topic3\", \"Topic3\", \"Topic3\", \"Topic3\", \"Topic3\", \"Topic3\", \"Topic3\", \"Topic3\", \"Topic3\", \"Topic3\", \"Topic3\", \"Topic3\", \"Topic3\", \"Topic3\", \"Topic3\", \"Topic3\", \"Topic4\", \"Topic4\", \"Topic4\", \"Topic4\", \"Topic4\", \"Topic4\", \"Topic4\", \"Topic4\", \"Topic4\", \"Topic4\", \"Topic4\", \"Topic4\", \"Topic4\", \"Topic4\", \"Topic4\", \"Topic4\", \"Topic4\", \"Topic4\", \"Topic4\", \"Topic4\", \"Topic4\", \"Topic4\", \"Topic4\", \"Topic4\", \"Topic4\", \"Topic4\", \"Topic4\", \"Topic4\", \"Topic4\", \"Topic4\", \"Topic4\", \"Topic4\", \"Topic4\", \"Topic4\", \"Topic4\", \"Topic4\", \"Topic4\", \"Topic4\", \"Topic4\", \"Topic4\", \"Topic4\", \"Topic4\", \"Topic4\", \"Topic4\", \"Topic4\", \"Topic4\", \"Topic4\", \"Topic4\", \"Topic4\", \"Topic4\", \"Topic4\", \"Topic4\", \"Topic4\", \"Topic4\", \"Topic4\", \"Topic4\", \"Topic4\", \"Topic4\", \"Topic4\", \"Topic4\", \"Topic4\", \"Topic4\", \"Topic4\", \"Topic4\", \"Topic4\"], \"logprob\": [30.0, 29.0, 28.0, 27.0, 26.0, 25.0, 24.0, 23.0, 22.0, 21.0, 20.0, 19.0, 18.0, 17.0, 16.0, 15.0, 14.0, 13.0, 12.0, 11.0, 10.0, 9.0, 8.0, 7.0, 6.0, 5.0, 4.0, 3.0, 2.0, 1.0, -4.2314, -4.4724, -4.5557, -4.8417, -4.8577, -5.0777, -5.5233, -5.6328, -5.6682, -5.8523, -4.9788, -5.8126, -6.0782, -6.173, -5.1236, -6.3467, -6.3707, -6.3957, -4.3872, -6.5277, -6.5278, -6.5283, -6.2012, -5.9241, -3.5866, -6.7143, -4.6687, -6.7144, -6.224, -6.7856, -5.0271, -4.42, -5.3416, -4.8219, -5.5185, -5.0231, -4.5904, -5.3397, -4.7958, -4.6886, -5.4238, -5.3905, -4.7905, -4.9463, -4.8104, -4.3041, -5.1095, -4.7177, -5.0998, -4.7469, -5.3332, -5.2863, -4.9121, -5.0646, -5.107, -5.2542, -5.2123, -4.3721, -4.657, -4.7855, -5.0645, -5.2638, -5.5673, -5.5564, -5.6011, -5.8468, -5.1553, -5.9882, -6.0403, -6.0581, -3.8701, -6.1935, -5.9914, -6.2146, -6.2359, -6.2579, -4.6704, -6.2801, -6.3999, -6.4, -6.4259, -6.1778, -6.4523, -6.1782, -6.5965, -6.6943, -6.6944, -5.393, -5.3193, -4.7504, -4.7395, -3.5471, -5.0522, -5.1618, -5.0039, -5.3673, -4.1893, -4.456, -4.178, -5.4644, -5.8742, -5.2782, -4.7862, -4.8544, -4.1889, -4.6826, -3.781, -4.7564, -4.3025, -5.1245, -4.9522, -4.2111, -4.3291, -4.3806, -4.9135, -4.7752, -5.115, -5.1363, -4.3928, -5.0172, -5.1809, -5.1888, -4.8896, -5.0453, -5.4967, -5.5971, -5.609, -5.6583, -5.7353, -5.7627, -5.7907, -5.9278, -5.9611, -5.9782, -6.2088, -6.1475, -6.2992, -6.3987, -4.4902, -6.4528, -6.6015, -6.332, -6.7376, -6.7028, -6.3817, -6.7385, -6.7759, -6.8139, -3.9901, -5.2561, -5.3518, -4.4829, -5.7435, -4.5591, -4.8236, -4.7481, -4.2748, -5.2614, -4.0125, -5.2817, -4.9613, -4.7624, -4.868, -4.0325, -4.8587, -4.5689, -5.0888, -5.0185, -5.2256, -4.792, -5.1728, -4.7777, -5.1969, -5.1359, -5.251, -4.6665, -4.9049, -5.3991, -5.411, -5.1694, -5.6096, -5.6859, -5.9359, -5.9361, -5.9989, -6.1376, -6.2991, -6.457, -6.4579, -5.852, -5.0158, -6.5284, -6.427, -6.6041, -6.6049, -6.6448, -6.6465, -6.6477, -6.825, -6.8753, -6.6934, -6.876, -6.9292, -6.9851, -6.9852, -6.3165, -5.025, -6.518, -5.1949, -5.6212, -5.8304, -4.2552, -5.8713, -3.9903, -4.8955, -5.3326, -4.4696, -5.5855, -4.7157, -5.659, -5.2736, -5.0996, -5.6543, -4.8414, -5.291, -5.2554, -4.7522, -5.1906, -5.4909, -5.3048, -4.5114, -4.642, -5.2073, -5.1607, -5.2486, -5.3556, -5.2516, -5.4043, -5.3087, -5.398], \"loglift\": [30.0, 29.0, 28.0, 27.0, 26.0, 25.0, 24.0, 23.0, 22.0, 21.0, 20.0, 19.0, 18.0, 17.0, 16.0, 15.0, 14.0, 13.0, 12.0, 11.0, 10.0, 9.0, 8.0, 7.0, 6.0, 5.0, 4.0, 3.0, 2.0, 1.0, 1.32, 1.3194, 1.3191, 1.3181, 1.318, 1.3171, 1.314, 1.3133, 1.313, 1.3111, 1.3093, 1.3089, 1.3083, 1.3071, 1.3046, 1.304, 1.3035, 1.3026, 1.301, 1.3005, 1.3005, 1.3, 1.2985, 1.2979, 1.2972, 1.2962, 1.2962, 1.2961, 1.2959, 1.2939, 1.2844, 1.2411, 1.2328, 1.1895, 1.2188, 1.1446, 1.0203, 1.1206, 0.966, 0.9237, 1.0954, 1.076, 0.6966, 0.6908, 0.5968, 0.1416, 0.7635, 0.1569, 0.6163, -0.0926, 0.8961, 0.716, -0.7048, -0.2358, -0.4708, 0.4864, -0.3982, 1.327, 1.3264, 1.3258, 1.3244, 1.3235, 1.3214, 1.3214, 1.3212, 1.3187, 1.3171, 1.317, 1.3162, 1.3161, 1.315, 1.3142, 1.3139, 1.3137, 1.3135, 1.313, 1.3129, 1.3128, 1.3108, 1.3107, 1.3101, 1.3097, 1.3097, 1.3093, 1.3065, 1.3041, 1.3039, 1.2788, 1.268, 1.237, 1.1872, 1.0891, 1.1879, 1.1832, 1.1369, 1.1819, 0.9868, 0.9439, 0.8597, 1.138, 1.2343, 1.0591, 0.9011, 0.9036, 0.6399, 0.7955, 0.4263, 0.8155, 0.5722, 0.9663, 0.8316, 0.2346, 0.3252, 0.2695, 0.5019, 0.0389, 0.4396, 0.415, 1.3506, 1.3483, 1.3475, 1.3473, 1.3473, 1.3467, 1.3453, 1.3445, 1.3443, 1.3432, 1.3431, 1.3428, 1.3425, 1.341, 1.3405, 1.3403, 1.337, 1.3364, 1.3356, 1.3337, 1.3336, 1.3323, 1.3288, 1.3264, 1.3262, 1.3259, 1.3255, 1.3254, 1.3243, 1.324, 1.3237, 1.2584, 1.257, 1.2031, 1.2706, 1.1464, 1.1472, 1.1231, 0.9374, 1.0855, 0.6375, 0.9831, 0.8058, 0.6805, 0.7058, 0.1749, 0.4983, 0.0853, 0.6211, 0.5329, 0.7113, 0.0368, 0.5042, -0.332, 0.3751, -0.2613, 0.5598, 1.554, 1.5517, 1.5493, 1.5492, 1.5488, 1.5474, 1.5463, 1.5432, 1.543, 1.5422, 1.54, 1.5368, 1.5331, 1.5322, 1.532, 1.5313, 1.5307, 1.5303, 1.5291, 1.5283, 1.5276, 1.526, 1.5248, 1.5219, 1.5204, 1.52, 1.5197, 1.5178, 1.516, 1.5159, 1.4921, 1.3322, 1.4733, 1.3002, 1.3427, 1.3737, 1.0418, 1.3342, 0.8238, 1.044, 1.1628, 0.8752, 1.2135, 0.9149, 1.2357, 1.0836, 1.0003, 1.2164, 0.7957, 0.9414, 0.8948, 0.46, 0.7932, 1.0281, 0.777, -0.3041, -0.1963, 0.5598, 0.3264, 0.3637, 0.4115, -0.214, 0.3064, -0.6545, 0.0173]}, \"token.table\": {\"Topic\": [2, 2, 2, 1, 3, 4, 1, 3, 4, 1, 2, 3, 4, 2, 3, 1, 1, 2, 1, 2, 4, 1, 4, 1, 2, 3, 2, 4, 1, 3, 2, 1, 3, 4, 3, 2, 4, 2, 3, 4, 1, 4, 1, 1, 4, 1, 2, 4, 2, 1, 2, 3, 4, 1, 3, 1, 2, 3, 4, 4, 3, 2, 3, 4, 2, 3, 2, 1, 2, 3, 4, 1, 4, 1, 2, 3, 1, 2, 3, 4, 2, 3, 4, 1, 3, 3, 3, 1, 2, 3, 4, 1, 2, 1, 3, 2, 3, 2, 2, 4, 1, 1, 2, 3, 4, 1, 2, 2, 4, 1, 2, 3, 4, 1, 4, 4, 3, 1, 3, 2, 1, 2, 3, 4, 2, 3, 4, 2, 3, 4, 1, 3, 4, 1, 2, 3, 4, 3, 3, 2, 1, 2, 3, 4, 1, 3, 1, 2, 3, 4, 3, 4, 4, 1, 4, 1, 2, 4, 2, 3, 4, 1, 2, 3, 4, 1, 3, 1, 1, 2, 3, 4, 1, 4, 4, 1, 2, 3, 4, 2, 3, 4, 4, 2, 1, 3, 4, 4, 1, 2, 4, 1, 2, 4, 4, 1, 4, 1, 4, 3, 2, 4, 1, 2, 3, 3, 4, 1, 3, 1, 4, 1, 2, 4, 3, 4, 2, 3, 4, 1, 4, 3, 1, 2, 3, 4, 1, 2, 2, 4, 1, 2, 3, 4, 1, 3, 4, 1, 2, 3, 4, 2, 4, 1, 2, 3, 4, 1, 3, 4, 2, 3, 4, 2, 4, 1, 4, 3, 2, 3, 1, 2, 3, 4, 1, 4, 1, 2, 1, 2, 3, 4, 1, 3, 1, 3, 4, 2, 1, 4, 1, 2, 3, 4, 2, 3, 4, 1, 2, 3, 4, 1, 2, 3, 4, 2, 3, 3, 3, 1, 2, 3, 4, 2, 4, 1, 2, 3, 4, 4, 1, 2, 3, 4, 1, 3, 4, 4, 2, 2, 3, 4, 1, 2, 3, 4, 4, 1, 2, 4, 1, 2, 3, 4, 1, 2, 3, 4, 1, 4, 3, 1, 2, 3, 1, 2, 4, 4, 4, 1, 2, 3, 4, 1, 2, 1, 2, 3, 2, 2, 1, 2, 3, 4, 2, 3, 1, 3, 1, 2, 3, 4, 1, 2, 3, 4, 2, 3, 4, 1, 1, 1, 1, 2, 3, 4, 1, 3, 4, 4, 1, 2, 3, 1, 2, 3, 4, 1, 2, 4, 1, 2, 3, 4, 1, 4, 3, 1, 3, 4, 1, 2, 4, 1, 4, 1, 2, 3, 4, 4, 1, 4, 4, 1, 2, 3, 1, 2, 3, 4, 3, 1, 2, 3, 4, 3], \"Freq\": [0.9963064729623643, 0.9804906182565409, 0.9915625785842939, 0.10486050926184931, 0.18874891667132876, 0.7130514629805753, 0.8145364311488162, 0.13451060330897882, 0.04483686776965961, 0.11098266510606346, 0.0044393066042425385, 0.288554929275765, 0.5993063915727427, 0.20317000859695064, 0.7960947275635617, 0.9960611229803216, 0.9986920481456937, 0.9810809602138285, 0.37613465829155346, 0.6078943972388743, 0.015197359930971857, 0.9702549948173652, 0.021561222107052563, 0.9829641185669059, 0.0780188314632926, 0.9232228389822957, 0.9510338355062475, 0.0461666910439926, 0.9793476390221003, 0.9750573151740826, 0.9902242285388624, 0.6721654399685516, 0.025606302474992442, 0.30407484189053524, 0.963043254128383, 0.22440291156064335, 0.7738031433125633, 0.23352154648681858, 0.7672850813138326, 0.9864848329878457, 0.9208579071239106, 0.07729829147390489, 0.981201879782972, 0.9685756364048338, 0.9490587183135025, 0.012526858307112518, 0.9854461868261847, 0.0020878097178520863, 0.9973595468082861, 0.13433273848196312, 0.5849071321402144, 0.1595201269473312, 0.11754114617171772, 0.9747110647878579, 0.023170627530614687, 0.2431195233423102, 0.36590716139398205, 0.2811836911383285, 0.10928099786598792, 0.9862579424655142, 0.9911166809208704, 0.10188225329222254, 0.8115448451897728, 0.08431634755218417, 0.9863997492070854, 0.9838249083251545, 0.9915610827213591, 0.22471367538629466, 0.04932739215796712, 0.2137520326845242, 0.5151972069832121, 0.984268309480237, 0.014474533962944663, 0.43298273260285985, 0.14554041432028902, 0.418428691170831, 0.3122457847872939, 0.46836867718094094, 0.19898015697229515, 0.019898015697229515, 0.652034912577062, 0.23804449189321314, 0.11039744551569305, 0.8366854164829903, 0.16175918052004482, 0.9776184322593046, 0.9919672002574185, 0.040446937108188565, 0.16852890461745237, 0.16852890461745237, 0.6201863689922247, 0.13068619533575052, 0.8657960440993472, 0.9810492852596361, 0.9657864378330251, 0.0866912052792288, 0.9102576554319024, 0.9798459065503184, 0.974165733429152, 0.955581815077828, 0.9964213356866801, 0.16641841750004685, 0.7862667261596417, 0.0012059305615945424, 0.04582536134059261, 0.987616013154863, 0.012581095708979147, 0.9888148289923853, 0.9902535867566838, 0.5337049967265539, 0.016943015769096948, 0.15813481384490485, 0.29085510403616427, 0.972035797625794, 0.021131212991865087, 0.9936338260661047, 0.9915957466592583, 0.9961086499731255, 0.9736348463199417, 0.983241483619936, 0.10162672285269428, 0.12626350415031715, 0.5235316025744857, 0.24636781297622856, 0.006435586709054329, 0.6607202354629111, 0.33250531330114036, 0.9145280172081452, 0.02857900053775454, 0.07144750134438635, 0.9130947214371824, 0.07539314213701506, 0.008377015793001673, 0.13365455969919576, 0.08801641736288501, 0.2542696501594456, 0.5248386368675736, 0.9961880713837807, 0.9683409041985988, 0.975678293444082, 0.2598201564624159, 0.4108783869638205, 0.21450268731199454, 0.11480425518106749, 0.9914875810118313, 0.9830040863912125, 0.12840681853884592, 0.022139106644628603, 0.5269107381421608, 0.3232309570115776, 0.4273289794138182, 0.5732461918965854, 0.9612444366298886, 0.9861152631363778, 0.9835453340555538, 0.2053857228921034, 0.6251653144171919, 0.1693531399285765, 0.5994378772021485, 0.37503292830083135, 0.02459232316726763, 0.7820502157691094, 0.007519713613164513, 0.09775627697113867, 0.10527599058430319, 0.995086706782276, 0.9921690702503718, 0.9685749960291751, 0.3787475041162653, 0.005118209515084666, 0.15866449496762464, 0.4555206468425353, 0.8971311242979043, 0.08872725405144109, 0.9523982450188663, 0.1123413159136601, 0.7599559605924067, 0.006608312700803536, 0.12555794131526718, 0.8269830651222865, 0.0172288138567143, 0.15505932471042871, 0.9759616658555075, 0.9878333074779249, 0.13847897940109388, 0.13847897940109388, 0.7270146418557428, 0.9683785716889912, 0.09812580565731588, 0.6972096717756655, 0.20658064348908606, 0.13317786686945288, 0.8656561346514436, 0.0066588933434726435, 0.9778326137196591, 0.9764866926122511, 0.01600797856741395, 0.18894260274868155, 0.8030060616818966, 0.9896755300068386, 0.9870226953198793, 0.977834105622357, 0.28367892040206727, 0.20532950429102012, 0.5106220567237211, 0.9923812382270769, 0.9936386024147554, 0.0260044818147904, 0.9621658271472449, 0.06909325878163354, 0.9327589935520528, 0.21222096623752013, 0.6806599282983877, 0.10869854368263226, 0.9871208657149962, 0.9865897488926099, 0.015817703716797915, 0.9806976304414707, 0.9555684802916925, 0.05755808736310036, 0.9497084414911561, 0.9866994496448424, 0.21053037774258734, 0.5014716636507462, 0.2675490217145381, 0.019006214657316913, 0.8006242496012514, 0.19817431920823056, 0.024451444004015953, 0.9699072788259662, 0.09996850011418698, 0.6516465192628484, 0.24436744472356817, 0.003702537041266184, 0.038699526867829584, 0.28637649882193894, 0.6733717675002348, 0.34962772277715953, 0.23308514851810636, 0.13066894689651415, 0.28605904590858505, 0.9833314587221488, 0.013915067812105879, 0.04965608129670452, 0.709668161865402, 0.09724315920604634, 0.1427612337280255, 0.11006248850725953, 0.047169637931682655, 0.8333302701263936, 0.10462027532871641, 0.5791479527125373, 0.31759726439074626, 0.9771262614507724, 0.9808435509214269, 0.986117625364856, 0.9845814709530718, 0.9961620788579794, 0.13781070303173845, 0.8613168939483654, 0.33460900933182564, 0.04097253175491742, 0.4267972057803898, 0.19803390348210087, 0.9744843853882763, 0.022768326761408327, 0.007564069639362124, 0.9908931227564383, 0.22610820343181615, 0.06545237467763099, 0.1666060446339698, 0.5414696450604018, 0.08678421440310241, 0.9072895142142524, 0.173118964106728, 0.024731280586675432, 0.8037666190669515, 0.9741667289506961, 0.8777601650154765, 0.12403132766523038, 0.9843788199794484, 0.9810868727605354, 0.28162590660252684, 0.7096972846383677, 0.8252949940685884, 0.048866150964587476, 0.12488016357616799, 0.2404993969656858, 0.09573276966595261, 0.06771342244664941, 0.5977460740118016, 0.18595338180566137, 0.30248416773720915, 0.4264530889409834, 0.08677824484264197, 0.9888153053687074, 0.9845230874189622, 0.9910415423738913, 0.9880006954789572, 0.15319766145575633, 0.4782756260082149, 0.0037365283281891788, 0.3699163044907287, 0.9915968158812094, 0.9661429291697706, 0.17610807831806144, 0.4363274776238537, 0.17347959953719483, 0.21290678125019366, 0.9524115176688246, 0.1161594626484045, 0.34603292557366816, 0.4890924743090716, 0.04890924743090716, 0.49352044779644766, 0.3159951068624737, 0.1881768613900124, 0.9835360466194973, 0.9928342332680048, 0.09619868101400297, 0.8153983438329775, 0.09161779144190758, 0.17864270602388793, 0.27516739395615, 0.06627068126692617, 0.47974210569318293, 0.9524101338487718, 0.009314494929229125, 0.9128205030644543, 0.074515959433833, 0.13193817179775308, 0.40523867052167023, 0.3078557341947572, 0.15549855961878042, 0.9685681160987286, 0.8678215220038475, 0.10957342449543529, 0.02191468489908706, 0.9660401373055142, 0.03220133791018381, 0.9886343728390306, 0.9967378349898033, 0.9741670581385304, 0.9916096434386352, 0.995680593301545, 0.9963059386523979, 0.9910026995186132, 0.9859841363875751, 0.9899857455255111, 0.1763556337714686, 0.16410871475956104, 0.154311179550035, 0.5045730632905907, 0.9939350492858331, 0.9785148362521872, 0.5732296637682038, 0.3239993751733326, 0.10384595358119636, 0.9915627887336065, 0.9983665175360903, 0.05420226763970386, 0.40049453311558963, 0.4396406152998202, 0.1023820610972184, 0.9950390361521994, 0.9960475703780666, 0.02476598650192235, 0.9658734735749717, 0.3786388070161906, 0.0702628714050663, 0.45280517127709397, 0.10149081425176244, 0.5436629921824693, 0.2411027182722255, 0.0803675727574085, 0.13237011983573166, 0.036878711431844576, 0.6884026133944321, 0.2704438838335269, 0.9945787695123064, 0.9939182437545978, 0.9812788326053749, 0.6986973488942656, 0.13750958462280757, 0.033448277340682925, 0.12636015884257995, 0.652467793441164, 0.10676745710855412, 0.23726101579678693, 0.9661625844250412, 0.19407272846939877, 0.32463074580335793, 0.47988892857887694, 0.3069939605836221, 0.3349025024548605, 0.18539245671608348, 0.1734316530569813, 0.02545713529913767, 0.9419140060680936, 0.03394284706551689, 0.0299802222061737, 0.8694264439790373, 0.0059960444412347404, 0.09593671105975585, 0.5315258607929326, 0.46590538415182986, 0.9657833375566222, 0.9806639311657324, 0.017265210055734725, 0.003453042011146945, 0.10784914637177867, 0.09436800307530634, 0.7953874544918677, 0.018823445279757413, 0.9788191545473856, 0.06032648989837082, 0.22738446192462847, 0.24594645881643487, 0.4640499222951602, 0.9856793498351413, 0.7381064104832258, 0.2588165335460662, 0.9937460307437816, 0.0023745636804168033, 0.026120200484584834, 0.9711965452904725, 0.48488904472647065, 0.21376828853532578, 0.10167028357167933, 0.2007336367953669, 0.9600776400152679, 0.007925494964293121, 0.28531781871455236, 0.1109569295001037, 0.586486627357691, 0.9916534265765954], \"Term\": [\"20\", \"212\", \"aboard\", \"accountable\", \"accountable\", \"accountable\", \"administration\", \"administration\", \"administration\", \"agency\", \"agency\", \"agency\", \"agency\", \"air\", \"air\", \"alabama\", \"alan\", \"alert\", \"another\", \"another\", \"another\", \"apology\", \"apology\", \"arrest\", \"attorney\", \"attorney\", \"authority\", \"authority\", \"bank\", \"base\", \"bearing\", \"biden\", \"biden\", \"biden\", \"billion\", \"board\", \"board\", \"border\", \"border\", \"brown\", \"buttigieg\", \"buttigieg\", \"calhoun\", \"capitol\", \"capture\", \"car\", \"car\", \"car\", \"cargo\", \"carry\", \"carry\", \"carry\", \"carry\", \"ceo\", \"ceo\", \"chemical\", \"chemical\", \"chemical\", \"chemical\", \"chloride\", \"clean\", \"cleanup\", \"cleanup\", \"cleanup\", \"cleveland\", \"clinic\", \"columbus\", \"come\", \"come\", \"come\", \"come\", \"committee\", \"committee\", \"community\", \"community\", \"community\", \"company\", \"company\", \"company\", \"company\", \"concern\", \"concern\", \"concern\", \"congress\", \"congress\", \"contamination\", \"cost\", \"could\", \"could\", \"could\", \"could\", \"crew\", \"crew\", \"criticize\", \"daily\", \"damage\", \"damage\", \"dayton\", \"death\", \"decision\", \"deeply\", \"derail\", \"derail\", \"derail\", \"derail\", \"derails\", \"derails\", \"detector\", \"dewine\", \"disaster\", \"disaster\", \"disaster\", \"disaster\", \"discuss\", \"discuss\", \"disposal\", \"dollar\", \"donald\", \"drink\", \"dump\", \"environmental\", \"environmental\", \"environmental\", \"environmental\", \"epa\", \"epa\", \"epa\", \"expert\", \"expert\", \"expert\", \"face\", \"face\", \"face\", \"federal\", \"federal\", \"federal\", \"federal\", \"file\", \"firm\", \"fish\", \"follow\", \"follow\", \"follow\", \"follow\", \"former\", \"general\", \"get\", \"get\", \"get\", \"get\", \"gov\", \"gov\", \"govmikedewine\", \"grill\", \"haleybemiller\", \"hazardous\", \"hazardous\", \"hazardous\", \"health\", \"health\", \"health\", \"hear\", \"hear\", \"hear\", \"hear\", \"hearing\", \"help\", \"hill\", \"hold\", \"hold\", \"hold\", \"hold\", \"hour\", \"hour\", \"ill\", \"incident\", \"incident\", \"incident\", \"incident\", \"include\", \"include\", \"include\", \"indiana\", \"indication\", \"industry\", \"industry\", \"industry\", \"introduce\", \"investigation\", \"investigation\", \"investigation\", \"involve\", \"involve\", \"involve\", \"jd\", \"joe\", \"joe\", \"join\", \"join\", \"josh\", \"kill\", \"landfill\", \"last\", \"last\", \"last\", \"lawsuit\", \"legislation\", \"liveonnews9\", \"liveonnews9\", \"management\", \"management\", \"material\", \"material\", \"material\", \"michael\", \"mike\", \"million\", \"million\", \"model\", \"moment\", \"moment\", \"monitoring\", \"month\", \"month\", \"month\", \"month\", \"morning\", \"morning\", \"national\", \"national\", \"near\", \"near\", \"near\", \"near\", \"need\", \"need\", \"need\", \"new\", \"new\", \"new\", \"new\", \"ntsb\", \"ntsb\", \"official\", \"official\", \"official\", \"official\", \"operator\", \"operator\", \"operator\", \"order\", \"order\", \"order\", \"overheat\", \"oversight\", \"panel\", \"pause\", \"pay\", \"pennsylvania\", \"pennsylvania\", \"people\", \"people\", \"people\", \"people\", \"pete\", \"pete\", \"place\", \"place\", \"plan\", \"plan\", \"plan\", \"plan\", \"pledge\", \"pledge\", \"point\", \"point\", \"point\", \"pose\", \"president\", \"president\", \"press\", \"prompt\", \"protection\", \"protection\", \"public\", \"public\", \"public\", \"rail\", \"rail\", \"rail\", \"rail\", \"railroad\", \"railroad\", \"railroad\", \"railroad\", \"raise\", \"recover\", \"recovery\", \"regan\", \"release\", \"release\", \"release\", \"release\", \"remain\", \"removal\", \"report\", \"report\", \"report\", \"report\", \"representative\", \"resident\", \"resident\", \"resident\", \"resident\", \"response\", \"response\", \"response\", \"resume\", \"risk\", \"safe\", \"safe\", \"safe\", \"safety\", \"safety\", \"safety\", \"safety\", \"sandusky\", \"saturday\", \"saturday\", \"saturday\", \"say\", \"say\", \"say\", \"say\", \"scrutiny\", \"second\", \"second\", \"second\", \"secretary\", \"secretary\", \"seek\", \"senate\", \"sensor\", \"shapiro\", \"shaw\", \"shelter\", \"sherrod\", \"ship\", \"shipment\", \"site\", \"site\", \"site\", \"site\", \"sorry\", \"special\", \"spill\", \"spill\", \"spill\", \"spokesperson\", \"springfield\", \"state\", \"state\", \"state\", \"state\", \"sue\", \"sure\", \"symptom\", \"symptom\", \"take\", \"take\", \"take\", \"take\", \"tell\", \"tell\", \"tell\", \"tell\", \"test\", \"test\", \"test\", \"testifies\", \"testify\", \"testimony\", \"thursday\", \"thursday\", \"thursday\", \"thursday\", \"today\", \"today\", \"today\", \"tour\", \"town\", \"town\", \"town\", \"toxic\", \"toxic\", \"toxic\", \"toxic\", \"track\", \"track\", \"track\", \"train\", \"train\", \"train\", \"train\", \"transportation\", \"transportation\", \"triple\", \"trump\", \"trump\", \"trump\", \"update\", \"update\", \"update\", \"vance\", \"vance\", \"via\", \"via\", \"via\", \"via\", \"vinyl\", \"visit\", \"visit\", \"waste\", \"water\", \"water\", \"water\", \"week\", \"week\", \"week\", \"week\", \"win\", \"worker\", \"worker\", \"worker\", \"worker\", \"yost\"]}, \"R\": 30, \"lambda.step\": 0.01, \"plot.opts\": {\"xlab\": \"PC1\", \"ylab\": \"PC2\"}, \"topic.order\": [4, 3, 1, 2]};\n",
       "\n",
       "function LDAvis_load_lib(url, callback){\n",
       "  var s = document.createElement('script');\n",
       "  s.src = url;\n",
       "  s.async = true;\n",
       "  s.onreadystatechange = s.onload = callback;\n",
       "  s.onerror = function(){console.warn(\"failed to load library \" + url);};\n",
       "  document.getElementsByTagName(\"head\")[0].appendChild(s);\n",
       "}\n",
       "\n",
       "if(typeof(LDAvis) !== \"undefined\"){\n",
       "   // already loaded: just create the visualization\n",
       "   !function(LDAvis){\n",
       "       new LDAvis(\"#\" + \"ldavis_el18620108064571683221996941\", ldavis_el18620108064571683221996941_data);\n",
       "   }(LDAvis);\n",
       "}else if(typeof define === \"function\" && define.amd){\n",
       "   // require.js is available: use it to load d3/LDAvis\n",
       "   require.config({paths: {d3: \"https://d3js.org/d3.v5\"}});\n",
       "   require([\"d3\"], function(d3){\n",
       "      window.d3 = d3;\n",
       "      LDAvis_load_lib(\"https://cdn.jsdelivr.net/gh/bmabey/pyLDAvis@3.3.1/pyLDAvis/js/ldavis.v3.0.0.js\", function(){\n",
       "        new LDAvis(\"#\" + \"ldavis_el18620108064571683221996941\", ldavis_el18620108064571683221996941_data);\n",
       "      });\n",
       "    });\n",
       "}else{\n",
       "    // require.js not available: dynamically load d3 & LDAvis\n",
       "    LDAvis_load_lib(\"https://d3js.org/d3.v5.js\", function(){\n",
       "         LDAvis_load_lib(\"https://cdn.jsdelivr.net/gh/bmabey/pyLDAvis@3.3.1/pyLDAvis/js/ldavis.v3.0.0.js\", function(){\n",
       "                 new LDAvis(\"#\" + \"ldavis_el18620108064571683221996941\", ldavis_el18620108064571683221996941_data);\n",
       "            })\n",
       "         });\n",
       "}\n",
       "</script>"
      ],
      "text/plain": [
       "PreparedData(topic_coordinates=              x         y  topics  cluster       Freq\n",
       "topic                                                \n",
       "3     -0.170431 -0.089653       1        1  26.656149\n",
       "2      0.158806 -0.149856       2        1  26.454255\n",
       "0      0.085323  0.164567       3        1  25.840036\n",
       "1     -0.073698  0.074942       4        1  21.049560, topic_info=           Term        Freq       Total Category  logprob  loglift\n",
       "595         ceo  647.000000  647.000000  Default  30.0000  30.0000\n",
       "558         car  478.000000  478.000000  Default  29.0000  29.0000\n",
       "986      derail  829.000000  829.000000  Default  28.0000  28.0000\n",
       "3681      water  421.000000  421.000000  Default  27.0000  27.0000\n",
       "3019     senate  332.000000  332.000000  Default  26.0000  26.0000\n",
       "...         ...         ...         ...      ...      ...      ...\n",
       "2429      order   85.019251  267.634547   Topic4  -5.3556   0.4115\n",
       "1637  hazardous   94.331142  555.053187   Topic4  -5.2516  -0.2140\n",
       "2322        new   80.973021  283.158324   Topic4  -5.4043   0.3064\n",
       "619    chemical   89.094741  814.414232   Topic4  -5.3087  -0.6545\n",
       "2841     report   81.482943  380.448192   Topic4  -5.3980   0.0173\n",
       "\n",
       "[270 rows x 6 columns], token_table=      Topic      Freq         Term\n",
       "term                              \n",
       "25        2  0.996306           20\n",
       "40        2  0.980491          212\n",
       "130       2  0.991563       aboard\n",
       "146       1  0.104861  accountable\n",
       "146       3  0.188749  accountable\n",
       "...     ...       ...          ...\n",
       "3751      1  0.007925       worker\n",
       "3751      2  0.285318       worker\n",
       "3751      3  0.110957       worker\n",
       "3751      4  0.586487       worker\n",
       "3788      3  0.991653         yost\n",
       "\n",
       "[436 rows x 3 columns], R=30, lambda_step=0.01, plot_opts={'xlab': 'PC1', 'ylab': 'PC2'}, topic_order=[4, 3, 1, 2])"
      ]
     },
     "execution_count": 176,
     "metadata": {},
     "output_type": "execute_result"
    }
   ],
   "source": [
    "pyLDAvis.sklearn.prepare(lda, tf, tf_vectorizer)"
   ]
  },
  {
   "cell_type": "code",
   "execution_count": 177,
   "metadata": {},
   "outputs": [],
   "source": [
    "def tweet_topic(dataframe, lda, tf, tweet_no):\n",
    "  tweet_topic_matrix = lda.transform(tf)\n",
    "  print(f'{dataframe.MESSAGE.iloc[tweet_no]}')\n",
    "  print(f'{tweet_topic_matrix[tweet_no]}')"
   ]
  },
  {
   "cell_type": "code",
   "execution_count": 178,
   "metadata": {},
   "outputs": [
    {
     "name": "stdout",
     "output_type": "stream",
     "text": [
      "Ohio filed a lawsuit against railroad Norfolk Southern to make sure it pays for the cleanup and environmental damage caused by a fiery train derailment last month. https://t.co/2iybJ3ySje\n",
      "[0.9455  0.01808 0.0183  0.01812]\n"
     ]
    }
   ],
   "source": [
    "tweet_topic(data_media, lda, tf, 14)"
   ]
  },
  {
   "cell_type": "code",
   "execution_count": 179,
   "metadata": {},
   "outputs": [
    {
     "name": "stdout",
     "output_type": "stream",
     "text": [
      "Loglikelihood: -598000.972311989\n",
      "Perplexity: 1086.7800853503707\n"
     ]
    }
   ],
   "source": [
    "# Metrics part 2\n",
    "\n",
    "\n",
    "# 2. Loglikelihood\n",
    "loglikelihood_media = lda.score(tf)\n",
    "perplexity_media = lda.perplexity(tf)\n",
    "\n",
    "print(f'Loglikelihood: {loglikelihood_media}')\n",
    "print(f'Perplexity: {perplexity_media}')\n",
    "\n",
    "# INTERPRETATION MISSING\n",
    "\n"
   ]
  },
  {
   "cell_type": "code",
   "execution_count": null,
   "metadata": {},
   "outputs": [],
   "source": [
    "# Choose optimal model\n",
    "\n",
    "# Visualize keyowrds for topics???"
   ]
  },
  {
   "attachments": {},
   "cell_type": "markdown",
   "metadata": {},
   "source": [
    "## GOVT\n"
   ]
  },
  {
   "cell_type": "code",
   "execution_count": 197,
   "metadata": {},
   "outputs": [],
   "source": [
    "tf, tf_vectorizer, vocab, lda, data = parse_lda(data_govt, max_voc = 800, min_df = 2, num_topics = 4)"
   ]
  },
  {
   "cell_type": "code",
   "execution_count": 198,
   "metadata": {},
   "outputs": [
    {
     "name": "stdout",
     "output_type": "stream",
     "text": [
      "Size of the ... (tweets, words in vocabulary): (376, 848)\n"
     ]
    }
   ],
   "source": [
    "print(f'Size of the ... (tweets, words in vocabulary): {tf.toarray().shape}')"
   ]
  },
  {
   "cell_type": "code",
   "execution_count": 199,
   "metadata": {},
   "outputs": [
    {
     "name": "stdout",
     "output_type": "stream",
     "text": [
      "Sparsity: 1.444889100762746\n"
     ]
    }
   ],
   "source": [
    "# Metrics part 1\n",
    "\n",
    "# 1. Sparsity\n",
    "# How sparse is this document?\n",
    "# We are taking the non zero entries in the doc-word frequency matrix\n",
    "# Sparsity (%) = (# of zero elements in tf / total # of elements in tf) x 100\n",
    "\n",
    "sparsity_govt = ((tf.todense() > 0).sum() / tf.todense().size)*100\n",
    "print(f'Sparsity: {sparsity_govt}')\n",
    "\n",
    "\n",
    "#OJO: to icnrease sparsity, we can increase min_df (can be integer or float)\n",
    "# we can also lower max_features\n",
    "# we can also reduce stop words"
   ]
  },
  {
   "cell_type": "code",
   "execution_count": 200,
   "metadata": {},
   "outputs": [
    {
     "name": "stdout",
     "output_type": "stream",
     "text": [
      "The most repeated word in a single tweet is update, and it is repeated 3 times in the tweet: update ohioag file civil lawsuit united state district court northern district today full update previous update information\n"
     ]
    }
   ],
   "source": [
    "most_frequent(tf, vocab, data)"
   ]
  },
  {
   "attachments": {},
   "cell_type": "markdown",
   "metadata": {},
   "source": [
    "topic_word = np.array([row / row.sum() for row in lda.components_])\n",
    "topic_word.shape\n"
   ]
  },
  {
   "cell_type": "code",
   "execution_count": 201,
   "metadata": {},
   "outputs": [
    {
     "name": "stderr",
     "output_type": "stream",
     "text": [
      "/Users/ribarragi/miniconda3/envs/Intro_AI/lib/python3.9/site-packages/sklearn/utils/deprecation.py:87: FutureWarning: Function get_feature_names is deprecated; get_feature_names is deprecated in 1.0 and will be removed in 1.2. Please use get_feature_names_out instead.\n",
      "  warnings.warn(msg, category=FutureWarning)\n",
      "/Users/ribarragi/miniconda3/envs/Intro_AI/lib/python3.9/site-packages/pyLDAvis/_prepare.py:246: FutureWarning: In a future version of pandas all arguments of DataFrame.drop except for the argument 'labels' will be keyword-only.\n",
      "  default_term_info = default_term_info.sort_values(\n"
     ]
    },
    {
     "data": {
      "text/html": [
       "\n",
       "<link rel=\"stylesheet\" type=\"text/css\" href=\"https://cdn.jsdelivr.net/gh/bmabey/pyLDAvis@3.3.1/pyLDAvis/js/ldavis.v1.0.0.css\">\n",
       "\n",
       "\n",
       "<div id=\"ldavis_el18620108053302087844668904\"></div>\n",
       "<script type=\"text/javascript\">\n",
       "\n",
       "var ldavis_el18620108053302087844668904_data = {\"mdsDat\": {\"x\": [-0.020537665495463455, -0.13225139344479153, -0.004522879805911148, 0.15731193874616617], \"y\": [0.055344992341688846, -0.09715388209730055, 0.1130110134165665, -0.07120212366095471], \"topics\": [1, 2, 3, 4], \"cluster\": [1, 1, 1, 1], \"Freq\": [27.142607844703768, 25.236641268046228, 25.091852361705424, 22.528898525544594]}, \"tinfo\": {\"Term\": [\"ceo\", \"epa\", \"shaw\", \"alan\", \"resident\", \"toxic\", \"happen\", \"biden\", \"cause\", \"cleanup\", \"update\", \"effort\", \"chemical\", \"hazardous\", \"people\", \"hold\", \"material\", \"release\", \"air\", \"testimony\", \"site\", \"one\", \"hill\", \"buttigieg\", \"company\", \"clean\", \"derail\", \"public\", \"epwcmte\", \"oversight\", \"cause\", \"secretarypete\", \"mile\", \"secretary\", \"000\", \"airport\", \"usdot\", \"west\", \"pennsylvania\", \"examine\", \"upended\", \"governor\", \"horrific\", \"management\", \"across\", \"progressive\", \"exist\", \"ecological\", \"happens\", \"thread\", \"repair\", \"criticism\", \"wither\", \"announces\", \"upgrade\", \"person\", \"every\", \"nothing\", \"kill\", \"eastpalestine\", \"one\", \"buttigieg\", \"accountability\", \"hold\", \"people\", \"life\", \"within\", \"disaster\", \"pete\", \"border\", \"answer\", \"fire\", \"potus\", \"worker\", \"freight\", \"call\", \"response\", \"chemical\", \"rail\", \"say\", \"hear\", \"accountable\", \"public\", \"epwcmte\", \"make\", \"day\", \"safety\", \"must\", \"site\", \"resident\", \"work\", \"company\", \"need\", \"health\", \"derail\", \"cleanup\", \"effort\", \"air\", \"resource\", \"test\", \"epa\", \"meet\", \"do\", \"district\", \"contaminate\", \"wake\", \"phase\", \"24\", \"website\", \"relate\", \"transition\", \"among\", \"count\", \"firm\", \"focus\", \"jeffzymeri\", \"woe\", \"disposal\", \"yesterday\", \"available\", \"associate\", \"hotel\", \"stay\", \"page\", \"pahealthdept\", \"clean\", \"conduct\", \"resident\", \"information\", \"responder\", \"around\", \"get\", \"action\", \"state\", \"epamichaelregan\", \"emergency\", \"pay\", \"safety\", \"update\", \"ntsb\", \"site\", \"health\", \"new\", \"rail\", \"community\", \"take\", \"response\", \"since\", \"need\", \"today\", \"work\", \"continue\", \"make\", \"say\", \"accountable\", \"follow\", \"oversight\", \"well\", \"government\", \"tax\", \"weekend\", \"run\", \"standard\", \"wreck\", \"dam\", \"appear\", \"brake\", \"away\", \"heard\", \"understand\", \"afternoon\", \"try\", \"medium\", \"act\", \"leslie\", \"sulphur\", \"fra\", \"gop\", \"pahousedems\", \"pass\", \"although\", \"heavy\", \"epw\", \"director\", \"urge\", \"fine\", \"push\", \"hazardous\", \"policy\", \"material\", \"release\", \"house\", \"even\", \"system\", \"derail\", \"full\", \"go\", \"chemical\", \"federal\", \"update\", \"impact\", \"committee\", \"work\", \"carry\", \"accident\", \"bipartisan\", \"public\", \"keep\", \"railroad\", \"week\", \"toxic\", \"safety\", \"rail\", \"car\", \"last\", \"today\", \"environmental\", \"answer\", \"biden\", \"ceo\", \"shaw\", \"alan\", \"hill\", \"capitol\", \"eastpalestineoh\", \"press\", \"airline\", \"ukraine\", \"reuters\", \"shareholder\", \"testify\", \"apologize\", \"happen\", \"ahead\", \"similar\", \"epwgop\", \"greed\", \"testimony\", \"railway\", \"investigate\", \"detail\", \"soon\", \"merkley\", \"groundwater\", \"bernie\", \"behind\", \"child\", \"economic\", \"fed\", \"toxic\", \"biden\", \"senator\", \"expect\", \"company\", \"senate\", \"concern\", \"still\", \"visit\", \"since\", \"today\", \"hear\", \"president\", \"day\", \"community\", \"continue\", \"question\", \"last\", \"safety\", \"epwcmte\", \"american\", \"hearing\", \"put\"], \"Freq\": [29.0, 34.0, 17.0, 15.0, 30.0, 27.0, 16.0, 30.0, 14.0, 12.0, 23.0, 11.0, 24.0, 17.0, 26.0, 23.0, 16.0, 14.0, 8.0, 9.0, 16.0, 16.0, 7.0, 13.0, 25.0, 11.0, 25.0, 15.0, 13.0, 7.0, 13.862034648839392, 7.042709190737313, 6.191955617482236, 6.183124417744048, 6.128432116856024, 4.483804619071594, 4.4811027501459995, 3.629733746860563, 3.628925538429276, 3.6286755989356894, 3.627434634540265, 3.626243904871251, 3.625825962160065, 3.61333639787414, 2.775686855658309, 2.7756837326004864, 2.7756827707308753, 2.7756804069982173, 2.7756778364929913, 2.7756762289822965, 2.7756751298321367, 2.77566053610511, 2.77566053610511, 2.7756410058729957, 2.775634921591673, 2.7739491960466545, 2.77292947417667, 2.7715464517960875, 2.7673389250294136, 6.198410883620202, 12.030273963609677, 10.009938673307886, 11.09825424115995, 15.580922652320604, 16.998518548692758, 4.484074030734712, 4.4856540720984235, 14.447953925190815, 6.033873249422157, 4.452994550545696, 12.020593932982264, 6.203163992608498, 4.260348971217461, 7.462128480604198, 7.072971331169445, 8.110850751226677, 10.565183933176236, 11.44092389572339, 14.930683799734839, 9.824510307890428, 11.337688988994348, 8.296387291224681, 7.776654530894391, 7.219039259569593, 11.07053156193906, 8.415451444708825, 14.214789800741384, 6.435997959795093, 7.192053671981609, 7.89294275079977, 7.475858335339855, 7.447655909443617, 7.227251997111223, 7.262496823693299, 7.010921013078982, 12.146626620459333, 11.301158683055387, 7.893137044461006, 6.187769001678281, 6.184478791156219, 30.818309048386993, 5.318824820332033, 5.317204316826129, 4.481370832481509, 4.4794389233858745, 4.455039883522166, 3.627777815416218, 3.6277657332293796, 3.6277596659107667, 3.6268848224156534, 2.7741761120608985, 2.774167765596767, 2.774167765596767, 2.774167765596767, 2.774167765596767, 2.774167765596767, 2.774167765596767, 2.774164794225456, 2.774163995531018, 2.774156974365152, 2.774142463208724, 2.7735194652116593, 2.773517805414376, 2.7728495165833977, 2.772173036163005, 8.738592979238053, 5.342285177344073, 21.492554405567425, 9.618886335406833, 6.086413707525948, 4.48441458971916, 12.01859160743022, 6.204679342482852, 8.20802738251075, 5.195070594308244, 6.462259304324088, 8.35591045358786, 23.88633313326326, 12.16256720756653, 8.304921453854005, 8.60152846634662, 10.150913566225812, 7.867644931179343, 13.336537057119365, 10.54577456713743, 9.3662283963917, 8.426337282942995, 8.420304714431367, 8.387135040395746, 9.904388479652937, 7.602096991226723, 7.130277758749625, 7.446137612127986, 6.792148852487961, 6.549965723841029, 6.374409185627478, 7.005120932739764, 7.003794827278096, 6.813901408437186, 4.461274477493759, 4.4605627772242284, 4.457476478326817, 4.419394255859213, 4.40206659267601, 3.6115249569865178, 3.6115227722630676, 3.6115144577203186, 3.611507453346261, 3.6114895571862466, 3.6114571539497047, 3.6105458914793833, 3.608864766268843, 3.60753137625398, 3.6066107613462095, 2.7617421223538976, 2.7617421223538976, 2.761741013710879, 2.7617323725253278, 2.7617323725253278, 2.7617293599798303, 2.758947805655926, 2.7550718667191876, 2.7542046757077605, 2.7524973643280783, 2.7511772515653936, 2.743764090893219, 6.82230678278031, 13.288228181826387, 5.313500892695563, 11.658148097978463, 9.757769230872844, 7.7089493866364736, 4.471944705167914, 4.464435543611427, 14.627498949238031, 7.7224613794599595, 9.993817278447706, 12.223750207597474, 10.449493273206922, 11.26018997479951, 7.715089919643714, 7.361875653339543, 10.265243644571393, 5.998782684820723, 7.43654911216525, 5.322408578964315, 7.065950493429547, 5.115830364510138, 7.15401980351709, 7.423413224660787, 8.795071034350054, 11.46948915445928, 9.83945996206966, 5.32560009813726, 5.9170338290641125, 7.142544600981283, 5.938068959176927, 6.194779168363344, 6.10696425423051, 28.776929318816602, 17.0114799755165, 15.330019792451466, 6.891524900715791, 6.092575056927697, 5.251936971593282, 5.246928235006396, 5.245983863384077, 5.228406150584283, 5.186334419079861, 4.4076535574477225, 4.405665700727963, 4.40465817770662, 14.49659076833333, 3.5714948365238404, 3.5714879195296, 3.5709995981504132, 3.567588174174482, 7.762245229225451, 6.855442166451563, 2.7311416120844227, 2.7311347416991745, 2.7311221239871912, 2.731114328066452, 2.730303403542142, 2.730113694697936, 2.729884882957182, 2.7294000941391694, 2.7282702912253063, 2.7266861319765603, 17.762733187207992, 18.793741286683545, 6.114563361598219, 5.2547772290901715, 11.479227961223653, 10.22087020980765, 7.378897742948131, 6.1077677516297975, 8.082667673116845, 8.90126133500392, 11.278130431901717, 9.551175364525955, 7.728734571179676, 7.230233856206498, 8.078762510653362, 7.120339967547631, 6.426788766952167, 6.346290761874089, 8.29970224112287, 5.921882033709327, 5.444792425999128, 5.4712745910604985, 5.268983468135365], \"Total\": [29.0, 34.0, 17.0, 15.0, 30.0, 27.0, 16.0, 30.0, 14.0, 12.0, 23.0, 11.0, 24.0, 17.0, 26.0, 23.0, 16.0, 14.0, 8.0, 9.0, 16.0, 16.0, 7.0, 13.0, 25.0, 11.0, 25.0, 15.0, 13.0, 7.0, 14.51449537664911, 7.681993668059221, 6.827940713169504, 6.827880302819596, 6.827898544656526, 5.119800939590725, 5.119799423517064, 4.265731089595506, 4.265718480174966, 4.265730388404252, 4.265724347913999, 4.265724828249508, 4.265728901240887, 4.2657218744068, 3.411661404643214, 3.41166137963978, 3.4116613848142854, 3.4116613543428356, 3.41166133094747, 3.411661333430966, 3.4116612963873245, 3.4116612039912755, 3.4116612039912755, 3.4116610204703735, 3.4116609475868405, 3.4116336887940046, 3.4116598291985354, 3.411658905874949, 3.4116195020999394, 7.681535243959953, 16.195679803569504, 13.612153190495597, 15.358798030963637, 23.896490387999627, 26.406574675184473, 5.960221355617073, 5.969597748352696, 23.827890619112928, 8.506122706613745, 5.959666468201531, 20.43364548067804, 9.381118067340518, 5.959873908263208, 12.793988126548895, 11.934670200871706, 14.473709869703228, 21.31167027128532, 24.692913111159765, 41.73324380020126, 21.274452188989763, 27.152858700198614, 17.06421166371055, 15.332944298439179, 13.567311203811226, 28.929926186538896, 18.661381607487876, 57.87031432958679, 11.93704793980682, 16.218102597965075, 30.725584969741544, 25.562497180600285, 25.430214070882016, 22.155263554937907, 23.023593177475558, 25.506215628144066, 12.799885151906249, 11.946261277826213, 8.531834539723134, 6.824666320607565, 6.824649268750942, 34.12788459432767, 5.97102605175987, 5.970976839138553, 5.117462474100331, 5.117437011676592, 5.1172124388047715, 4.263860420666999, 4.263860352252266, 4.263860293942541, 4.263860821004408, 3.4102583044924715, 3.4102582400098473, 3.4102582400098473, 3.4102582400098473, 3.4102582400098473, 3.4102582400098473, 3.4102582400098473, 3.410258229927788, 3.410258235277907, 3.410258167996748, 3.4102580626988552, 3.410258609627925, 3.4102586015854066, 3.4102581660546525, 3.41025737368052, 11.085054782791431, 6.811644331135916, 30.725584969741544, 13.627604777835419, 8.523783933929623, 5.971519547665449, 21.30149510817861, 9.359467970213062, 13.63068749987373, 7.679280228807005, 10.204253271334556, 14.428869140296683, 57.87031432958679, 23.846973406161922, 14.478544010277949, 16.218102597965075, 23.023593177475558, 16.16255204716233, 41.73324380020126, 28.033827735690974, 22.991911581626223, 21.31167027128532, 22.054893628055588, 22.155263554937907, 33.93728479312562, 25.562497180600285, 20.363336379874966, 28.929926186538896, 21.274452188989763, 17.06421166371055, 14.460506686113607, 7.64767182306234, 7.647701468362552, 7.648638418406675, 5.098338098439253, 5.0983412964956765, 5.098350371180425, 5.098474097058481, 5.098605131429837, 4.248560923182839, 4.248560924041808, 4.248560926389898, 4.248560913964208, 4.248560887259536, 4.248560888778193, 4.248565789977135, 4.248572748441067, 4.248517166882155, 4.248576612023951, 3.3987837242515937, 3.3987837242515937, 3.3987837326072503, 3.3987837111254446, 3.3987837111254446, 3.398783724822721, 3.3987962490206165, 3.3988171918649965, 3.3987743275588507, 3.398791462732643, 3.398830891298594, 3.3988645390719174, 8.487504522497966, 17.835852490193158, 6.80212977563157, 16.135881912544757, 14.466288210049303, 11.046155710983237, 5.938816963621007, 5.952390217215918, 25.506215628144066, 12.766963345317786, 17.863986899186735, 24.692913111159765, 21.21492841997311, 23.846973406161922, 14.433102993445384, 13.592836653684657, 25.562497180600285, 10.174530158947343, 15.257654028306765, 8.50908044941151, 15.332944298439179, 8.511190072869223, 17.023726813091077, 18.68207847038689, 27.84996132840099, 57.87031432958679, 41.73324380020126, 9.350913629812153, 15.239709322247693, 33.93728479312562, 16.18056230885969, 20.43364548067804, 30.408930007455375, 29.421752861345585, 17.65671469113862, 15.976004986481271, 7.57299822213804, 6.731968927289137, 5.891613836612399, 5.891689478372677, 5.891709992177615, 5.891997829262046, 5.892349300858468, 5.051316559525055, 5.051349889416422, 5.0513633602380095, 16.843657517280217, 4.210890531734816, 4.210890624435709, 4.210898268941395, 4.210938516619996, 9.262591564000422, 8.427122387282811, 3.3705309668085657, 3.3705310650485516, 3.370531242287911, 3.370531362133466, 3.370540402407591, 3.370547133682005, 3.370550758233052, 3.370558381438918, 3.3705632348533614, 3.3706011277230963, 27.84996132840099, 30.408930007455375, 8.438818879681158, 7.591135269640869, 25.430214070882016, 22.00912036421436, 14.386754744123316, 11.843275384932333, 18.653347585750033, 22.054893628055588, 33.93728479312562, 27.152858700198614, 21.199114275569094, 18.661381607487876, 28.033827735690974, 20.363336379874966, 15.254424780623545, 15.239709322247693, 57.87031432958679, 13.567311203811226, 11.848202086143296, 13.555624999545127, 11.014747455216908], \"Category\": [\"Default\", \"Default\", \"Default\", \"Default\", \"Default\", \"Default\", \"Default\", \"Default\", \"Default\", \"Default\", \"Default\", \"Default\", \"Default\", \"Default\", \"Default\", \"Default\", \"Default\", \"Default\", \"Default\", \"Default\", \"Default\", \"Default\", \"Default\", \"Default\", \"Default\", \"Default\", \"Default\", \"Default\", \"Default\", \"Default\", \"Topic1\", \"Topic1\", \"Topic1\", \"Topic1\", \"Topic1\", \"Topic1\", \"Topic1\", \"Topic1\", \"Topic1\", \"Topic1\", \"Topic1\", \"Topic1\", \"Topic1\", \"Topic1\", \"Topic1\", \"Topic1\", \"Topic1\", \"Topic1\", \"Topic1\", \"Topic1\", \"Topic1\", \"Topic1\", \"Topic1\", \"Topic1\", \"Topic1\", \"Topic1\", \"Topic1\", \"Topic1\", \"Topic1\", \"Topic1\", \"Topic1\", \"Topic1\", \"Topic1\", \"Topic1\", \"Topic1\", \"Topic1\", \"Topic1\", \"Topic1\", \"Topic1\", \"Topic1\", \"Topic1\", \"Topic1\", \"Topic1\", \"Topic1\", \"Topic1\", \"Topic1\", \"Topic1\", \"Topic1\", \"Topic1\", \"Topic1\", \"Topic1\", \"Topic1\", \"Topic1\", \"Topic1\", \"Topic1\", \"Topic1\", \"Topic1\", \"Topic1\", \"Topic1\", \"Topic1\", \"Topic1\", \"Topic1\", \"Topic1\", \"Topic1\", \"Topic1\", \"Topic2\", \"Topic2\", \"Topic2\", \"Topic2\", \"Topic2\", \"Topic2\", \"Topic2\", \"Topic2\", \"Topic2\", \"Topic2\", \"Topic2\", \"Topic2\", \"Topic2\", \"Topic2\", \"Topic2\", \"Topic2\", \"Topic2\", \"Topic2\", \"Topic2\", \"Topic2\", \"Topic2\", \"Topic2\", \"Topic2\", \"Topic2\", \"Topic2\", \"Topic2\", \"Topic2\", \"Topic2\", \"Topic2\", \"Topic2\", \"Topic2\", \"Topic2\", \"Topic2\", \"Topic2\", \"Topic2\", \"Topic2\", \"Topic2\", \"Topic2\", \"Topic2\", \"Topic2\", \"Topic2\", \"Topic2\", \"Topic2\", \"Topic2\", \"Topic2\", \"Topic2\", \"Topic2\", \"Topic2\", \"Topic2\", \"Topic2\", \"Topic2\", \"Topic2\", \"Topic2\", \"Topic2\", \"Topic2\", \"Topic2\", \"Topic2\", \"Topic2\", \"Topic2\", \"Topic2\", \"Topic2\", \"Topic3\", \"Topic3\", \"Topic3\", \"Topic3\", \"Topic3\", \"Topic3\", \"Topic3\", \"Topic3\", \"Topic3\", \"Topic3\", \"Topic3\", \"Topic3\", \"Topic3\", \"Topic3\", \"Topic3\", \"Topic3\", \"Topic3\", \"Topic3\", \"Topic3\", \"Topic3\", \"Topic3\", \"Topic3\", \"Topic3\", \"Topic3\", \"Topic3\", \"Topic3\", \"Topic3\", \"Topic3\", \"Topic3\", \"Topic3\", \"Topic3\", \"Topic3\", \"Topic3\", \"Topic3\", \"Topic3\", \"Topic3\", \"Topic3\", \"Topic3\", \"Topic3\", \"Topic3\", \"Topic3\", \"Topic3\", \"Topic3\", \"Topic3\", \"Topic3\", \"Topic3\", \"Topic3\", \"Topic3\", \"Topic3\", \"Topic3\", \"Topic3\", \"Topic3\", \"Topic3\", \"Topic3\", \"Topic3\", \"Topic3\", \"Topic3\", \"Topic3\", \"Topic3\", \"Topic3\", \"Topic3\", \"Topic3\", \"Topic3\", \"Topic4\", \"Topic4\", \"Topic4\", \"Topic4\", \"Topic4\", \"Topic4\", \"Topic4\", \"Topic4\", \"Topic4\", \"Topic4\", \"Topic4\", \"Topic4\", \"Topic4\", \"Topic4\", \"Topic4\", \"Topic4\", \"Topic4\", \"Topic4\", \"Topic4\", \"Topic4\", \"Topic4\", \"Topic4\", \"Topic4\", \"Topic4\", \"Topic4\", \"Topic4\", \"Topic4\", \"Topic4\", \"Topic4\", \"Topic4\", \"Topic4\", \"Topic4\", \"Topic4\", \"Topic4\", \"Topic4\", \"Topic4\", \"Topic4\", \"Topic4\", \"Topic4\", \"Topic4\", \"Topic4\", \"Topic4\", \"Topic4\", \"Topic4\", \"Topic4\", \"Topic4\", \"Topic4\", \"Topic4\", \"Topic4\", \"Topic4\", \"Topic4\", \"Topic4\", \"Topic4\"], \"logprob\": [30.0, 29.0, 28.0, 27.0, 26.0, 25.0, 24.0, 23.0, 22.0, 21.0, 20.0, 19.0, 18.0, 17.0, 16.0, 15.0, 14.0, 13.0, 12.0, 11.0, 10.0, 9.0, 8.0, 7.0, 6.0, 5.0, 4.0, 3.0, 2.0, 1.0, -4.5423, -5.2195, -5.3482, -5.3496, -5.3585, -5.671, -5.6716, -5.8823, -5.8825, -5.8826, -5.8829, -5.8833, -5.8834, -5.8868, -6.1506, -6.1506, -6.1506, -6.1506, -6.1506, -6.1506, -6.1506, -6.1506, -6.1506, -6.1506, -6.1506, -6.1512, -6.1516, -6.1521, -6.1536, -5.3472, -4.684, -4.8679, -4.7647, -4.4254, -4.3383, -5.6709, -5.6706, -4.5009, -5.3741, -5.6779, -4.6849, -5.3464, -5.7221, -5.1616, -5.2152, -5.0783, -4.8139, -4.7343, -4.4681, -4.8866, -4.7433, -5.0557, -5.1203, -5.1948, -4.7672, -5.0414, -4.5172, -5.3096, -5.1985, -5.1055, -5.1598, -5.1636, -5.1936, -5.1887, -5.224, -4.6016, -4.6738, -5.0327, -5.2761, -5.2766, -3.6706, -5.4274, -5.4277, -5.5987, -5.5992, -5.6046, -5.81, -5.81, -5.81, -5.8103, -6.0783, -6.0783, -6.0783, -6.0783, -6.0783, -6.0783, -6.0783, -6.0783, -6.0783, -6.0783, -6.0783, -6.0785, -6.0785, -6.0788, -6.079, -4.9309, -5.423, -4.031, -4.8349, -5.2926, -5.5981, -4.6122, -5.2734, -4.9936, -5.451, -5.2327, -4.9757, -3.9254, -4.6003, -4.9818, -4.9467, -4.7811, -5.0359, -4.5082, -4.7429, -4.8616, -4.9673, -4.968, -4.972, -4.8057, -5.0702, -5.1343, -5.091, -5.1829, -5.2192, -5.2464, -5.1463, -5.1465, -5.1739, -5.5975, -5.5976, -5.5983, -5.6069, -5.6108, -5.8088, -5.8088, -5.8088, -5.8088, -5.8088, -5.8088, -5.8091, -5.8095, -5.8099, -5.8101, -6.077, -6.077, -6.077, -6.0771, -6.0771, -6.0771, -6.0781, -6.0795, -6.0798, -6.0804, -6.0809, -6.0836, -5.1727, -4.506, -5.4227, -4.6369, -4.8148, -5.0505, -5.5951, -5.5968, -4.41, -5.0488, -4.7909, -4.5895, -4.7464, -4.6716, -5.0497, -5.0966, -4.7641, -5.3014, -5.0865, -5.421, -5.1376, -5.4606, -5.1252, -5.0883, -4.9187, -4.6532, -4.8065, -5.4204, -5.3151, -5.1268, -5.3115, -5.2692, -5.2835, -3.6256, -4.1513, -4.2554, -5.0549, -5.1781, -5.3266, -5.3275, -5.3277, -5.3311, -5.3391, -5.5018, -5.5023, -5.5025, -4.3113, -5.7122, -5.7122, -5.7123, -5.7133, -4.9359, -5.0601, -5.9804, -5.9804, -5.9805, -5.9805, -5.9808, -5.9808, -5.9809, -5.9811, -5.9815, -5.9821, -4.1081, -4.0516, -5.1745, -5.326, -4.5446, -4.6607, -4.9865, -5.1756, -4.8954, -4.799, -4.5623, -4.7285, -4.9402, -5.0069, -4.8959, -5.0222, -5.1247, -5.1373, -4.8689, -5.2065, -5.2905, -5.2857, -5.3233], \"loglift\": [30.0, 29.0, 28.0, 27.0, 26.0, 25.0, 24.0, 23.0, 22.0, 21.0, 20.0, 19.0, 18.0, 17.0, 16.0, 15.0, 14.0, 13.0, 12.0, 11.0, 10.0, 9.0, 8.0, 7.0, 6.0, 5.0, 4.0, 3.0, 2.0, 1.0, 1.2581, 1.2172, 1.2063, 1.2049, 1.196, 1.1714, 1.1708, 1.1426, 1.1424, 1.1423, 1.142, 1.1417, 1.1415, 1.1381, 1.0978, 1.0978, 1.0978, 1.0978, 1.0978, 1.0978, 1.0978, 1.0978, 1.0978, 1.0977, 1.0977, 1.0971, 1.0968, 1.0963, 1.0948, 1.0895, 1.0067, 0.9967, 0.9792, 0.8764, 0.8636, 1.0195, 1.0183, 0.8038, 0.9607, 1.0126, 0.7735, 0.8904, 0.9684, 0.7649, 0.7809, 0.7249, 0.6024, 0.5347, 0.2762, 0.5314, 0.4307, 0.5829, 0.6252, 0.6731, 0.3435, 0.5077, -0.0999, 0.6863, 0.4909, -0.0551, 0.0746, 0.076, 0.1838, 0.1503, 0.0126, 1.3245, 1.3214, 1.2991, 1.2789, 1.2784, 1.2749, 1.2612, 1.2609, 1.2441, 1.2437, 1.2383, 1.2153, 1.2153, 1.2153, 1.2151, 1.1704, 1.1704, 1.1704, 1.1704, 1.1704, 1.1704, 1.1704, 1.1704, 1.1704, 1.1704, 1.1704, 1.1702, 1.1702, 1.17, 1.1697, 1.139, 1.1339, 1.0195, 1.0285, 1.0401, 1.0905, 0.8046, 0.9658, 0.8697, 0.9861, 0.92, 0.8306, 0.492, 0.7036, 0.8211, 0.7427, 0.5579, 0.6569, 0.2361, 0.3992, 0.4788, 0.449, 0.414, 0.4055, 0.1453, 0.1642, 0.3275, 0.0197, 0.2351, 0.4193, 0.5577, 1.2949, 1.2947, 1.2671, 1.2491, 1.249, 1.2483, 1.2397, 1.2357, 1.2202, 1.2202, 1.2202, 1.2202, 1.2202, 1.2202, 1.2199, 1.2194, 1.2191, 1.2188, 1.1751, 1.1751, 1.1751, 1.1751, 1.1751, 1.1751, 1.1741, 1.1726, 1.1723, 1.1717, 1.1712, 1.1685, 1.1642, 1.0883, 1.1356, 1.0576, 0.9889, 1.0229, 1.0989, 1.095, 0.8266, 0.8799, 0.8018, 0.6795, 0.6745, 0.6322, 0.7563, 0.7694, 0.4703, 0.8543, 0.664, 0.9134, 0.6079, 0.8736, 0.5157, 0.4597, 0.23, -0.2359, -0.0623, 0.8197, 0.4366, -0.1758, 0.3802, 0.1892, -0.2227, 1.4682, 1.4531, 1.4491, 1.3961, 1.3906, 1.3754, 1.3745, 1.3743, 1.3709, 1.3627, 1.3541, 1.3536, 1.3534, 1.3403, 1.3257, 1.3257, 1.3255, 1.3246, 1.3137, 1.284, 1.28, 1.28, 1.28, 1.28, 1.2797, 1.2796, 1.2796, 1.2794, 1.279, 1.2784, 1.0406, 1.0092, 1.1682, 1.1225, 0.695, 0.7233, 0.8227, 0.8282, 0.6541, 0.583, 0.3887, 0.4456, 0.4814, 0.5422, 0.2462, 0.4396, 0.626, 0.6143, -0.4516, 0.6614, 0.7129, 0.5831, 0.753]}, \"token.table\": {\"Topic\": [1, 2, 1, 2, 3, 4, 1, 2, 3, 1, 2, 3, 1, 3, 1, 2, 4, 3, 4, 2, 4, 1, 4, 3, 1, 3, 4, 2, 1, 1, 3, 4, 4, 3, 1, 2, 2, 2, 3, 4, 4, 1, 3, 4, 1, 2, 3, 1, 4, 3, 1, 4, 1, 2, 3, 4, 4, 1, 3, 4, 1, 3, 4, 1, 4, 1, 3, 4, 4, 2, 3, 2, 1, 3, 4, 1, 2, 3, 4, 1, 2, 4, 1, 3, 4, 2, 4, 2, 1, 2, 3, 4, 2, 1, 3, 1, 2, 3, 4, 1, 2, 3, 4, 4, 3, 1, 2, 3, 4, 2, 2, 2, 1, 2, 4, 1, 4, 2, 1, 2, 4, 1, 2, 3, 4, 2, 3, 1, 2, 3, 1, 4, 4, 3, 4, 1, 1, 1, 3, 4, 4, 1, 3, 4, 3, 1, 2, 3, 2, 2, 1, 2, 3, 4, 3, 1, 2, 3, 1, 2, 3, 1, 2, 3, 4, 1, 2, 3, 4, 3, 3, 1, 4, 4, 1, 4, 1, 2, 3, 4, 1, 2, 3, 1, 2, 3, 4, 3, 1, 2, 3, 4, 3, 4, 1, 2, 3, 1, 2, 1, 3, 4, 1, 3, 4, 2, 3, 4, 4, 2, 1, 3, 1, 1, 3, 4, 3, 1, 4, 1, 2, 3, 4, 1, 2, 3, 4, 3, 2, 4, 1, 1, 2, 3, 1, 2, 3, 4, 1, 2, 3, 4, 1, 1, 2, 3, 4, 1, 3, 4, 3, 2, 2, 3, 3, 2, 3, 4, 1, 1, 2, 4, 1, 1, 4, 2, 1, 3, 1, 4, 1, 2, 3, 4, 4, 1, 1, 3, 3, 4, 1, 2, 4, 1, 3, 4, 1, 2, 3, 4, 1, 2, 3, 4, 2, 4, 2, 1, 3, 1, 1, 2, 3, 2, 2, 3, 1, 2, 4, 4, 3, 1, 2, 3, 4, 1, 2, 4, 1, 1, 1, 3, 4, 2, 4, 4, 4, 4, 1, 2, 4, 1, 2, 4, 3, 2, 3, 2, 1, 3, 4, 3, 1, 3, 1, 2, 3, 4, 3, 2, 4, 3, 4, 1, 1, 2, 3, 4, 1, 3, 4, 2, 3, 4, 3, 2, 3, 1, 1, 3, 1, 1, 2, 4, 2, 2, 1, 3, 4, 3, 3, 1, 1, 1, 3, 2, 1, 2, 3, 1, 2, 3, 3, 2], \"Freq\": [0.878747679210255, 0.938117027657135, 0.1310817505947834, 0.0655408752973917, 0.458786127081742, 0.32770437648695855, 0.7162018784167735, 0.13021852334850428, 0.13021852334850428, 0.4688174383709226, 0.41021525857455726, 0.11720435959273065, 0.8793369693478521, 0.9414917901396784, 0.10684367991669463, 0.6410620795001678, 0.21368735983338927, 0.9414941883297344, 0.9499178308850663, 0.9376646913102944, 0.8486500534884553, 0.7812803753889226, 0.9389080694887642, 0.8826654439390028, 0.16880198239858174, 0.3376039647971635, 0.4220049559964543, 0.8796987761229886, 0.8793370683663007, 0.5872667220025494, 0.2936333610012747, 0.09787778700042489, 0.7918654261711097, 0.9414952666359924, 0.1674615635129165, 0.669846254051666, 0.8796988218615398, 0.8796987946992466, 0.9414952688692222, 0.8900622524885795, 0.8900632096257863, 0.16442538421358946, 0.19731046105630737, 0.6248164600116399, 0.11752151198302048, 0.23504302396604096, 0.5876075599151024, 0.6711784998946583, 0.16779462497366457, 0.9414952661156478, 0.7346376330074137, 0.22039128990222412, 0.5527262928453349, 0.13818157321133373, 0.13818157321133373, 0.13818157321133373, 0.8912697109575207, 0.32082426581671525, 0.5347071096945255, 0.10694142193890509, 0.09828463667392186, 0.5897078200435312, 0.2948539100217656, 0.9645529959328225, 0.9856652707493956, 0.4454719437306341, 0.48596939316069176, 0.04049744943005765, 0.8900602394310928, 0.8119039712795741, 0.18042310472879425, 0.9375084118010915, 0.2942726453580759, 0.5149771293766328, 0.14713632267903795, 0.24969833110189313, 0.39238309173154634, 0.10701357047223992, 0.2853695212593064, 0.27526311734886677, 0.23593981487045726, 0.432556327262505, 0.2780335156289444, 0.1390167578144722, 0.4865586523506527, 0.7340371512272126, 0.14680743024544252, 0.7816412768487612, 0.14732359884625254, 0.34375506397458927, 0.14732359884625254, 0.34375506397458927, 0.8796987761229886, 0.8793370210647891, 0.9414952668263428, 0.42869280358052386, 0.05358660044756548, 0.10717320089513097, 0.37510620313295834, 0.2744429084288012, 0.03920612977554303, 0.5880919466331455, 0.11761838932662909, 0.890067452903534, 0.8826666869370052, 0.5875467629002066, 0.041967625921443326, 0.1678705036857733, 0.1678705036857733, 0.8796987787237228, 0.7816373877178678, 0.8373839213754783, 0.7810938581213753, 0.1301823096868959, 0.8486639040950679, 0.8793369823124983, 0.8900589577962679, 0.9207901739448312, 0.09799835160982982, 0.5879901096589789, 0.19599670321965965, 0.37081529587600864, 0.18540764793800432, 0.37081529587600864, 0.061802549312668105, 0.9083481255428428, 0.0879046573105977, 0.2604410752582609, 0.6511026881456522, 0.8826711369668171, 0.5159460039535035, 0.4422394319601459, 0.9499160854830118, 0.673534817540685, 0.16838370438517125, 0.8793373754102436, 0.937705770358436, 0.8793369744586494, 0.26346520368285026, 0.6586630092071256, 0.8900489516024567, 0.23568309546086783, 0.47136619092173565, 0.23568309546086783, 0.8826477094080277, 0.639582612320853, 0.1065971020534755, 0.213194204106951, 0.8796987761229886, 0.8796987761229886, 0.20746161010256253, 0.41492322020512507, 0.20746161010256253, 0.20746161010256253, 0.882668694456373, 0.5865264713798897, 0.0837894959114128, 0.3351579836456512, 0.15665432302924948, 0.23498148454387421, 0.6266172921169979, 0.18778024639520344, 0.5633407391856103, 0.18778024639520344, 0.04694506159880086, 0.27989272653506186, 0.055978545307012365, 0.5597854530701237, 0.055978545307012365, 0.8826687000352268, 0.9151955703846966, 0.937706992610081, 0.9499070062914833, 0.8900649871626187, 0.11873905640435656, 0.8311733948304959, 0.8793369883425254, 0.11213369257789485, 0.7288690017563165, 0.11213369257789485, 0.30403594895206193, 0.43433706993151705, 0.21716853496575853, 0.40511388216812466, 0.07365706948511358, 0.14731413897022716, 0.3682853474255679, 0.9414952747870664, 0.14754022777017747, 0.14754022777017747, 0.29508045554035495, 0.3688505694254437, 0.8826600051277963, 0.9243366754711493, 0.6695543881219855, 0.2510828955457446, 0.08369429851524819, 0.9377060972713039, 0.8796986807775595, 0.18105846525514682, 0.7242338610205873, 0.09052923262757341, 0.27714068151641064, 0.5542813630328213, 0.20785551113730796, 0.7338046680268034, 0.22014140040804103, 0.07338046680268034, 0.8900674788460976, 0.8796987761229886, 0.35247714765094706, 0.5874619127515784, 0.879347769630647, 0.1968541483675446, 0.3937082967350892, 0.3937082967350892, 0.8826686966263483, 0.671116014211501, 0.16777900355287526, 0.38022910701785, 0.2419639771931773, 0.20739769473700911, 0.17283141228084092, 0.9377076419348713, 0.12394736221049749, 0.743684173262985, 0.12394736221049749, 0.9415049634683403, 0.8373770197378932, 0.8900673744513302, 0.8787422521738363, 0.502636835359572, 0.16754561178652402, 0.251318417679786, 0.3159520076410853, 0.3610880087326689, 0.22568000545791805, 0.04513600109158361, 0.18561425146511515, 0.49497133724030706, 0.12374283431007677, 0.18561425146511515, 0.8793376133921057, 0.06906771836243517, 0.5525417468994813, 0.27627087344974066, 0.06906771836243517, 0.7409383332804108, 0.1852345833201027, 0.0617448611067009, 0.9153112426831367, 0.8796987952002231, 0.8796989995984527, 0.8826687000352268, 0.8826686964780257, 0.5544440054319811, 0.06930550067899764, 0.3465275033949882, 0.9377083880687628, 0.6437790667327905, 0.18934678433317367, 0.15147742746653894, 0.8793441130136351, 0.7053742588658913, 0.2351247529552971, 0.9381170126048067, 0.14701277878914787, 0.7350638939457392, 0.6711551387780379, 0.16778878469450947, 0.28303069279241994, 0.09434356426413998, 0.23585891066034995, 0.3773742570565599, 0.8486530083355704, 0.8793369757923498, 0.5217523682528712, 0.4565333222212623, 0.8247418285840068, 0.11782026122628668, 0.3631494971866543, 0.18157474859332715, 0.45393687148331785, 0.393328498864232, 0.196664249432116, 0.393328498864232, 0.35942569122622725, 0.31150226572939693, 0.2396171274841515, 0.0958468509936606, 0.1762246324167414, 0.293707720694569, 0.4111908089723967, 0.05874154413891381, 0.11866446861019588, 0.8306512802713711, 0.9381169245242269, 0.2765049293861931, 0.6912623234654827, 0.8793369972502133, 0.26036933089730835, 0.6834694936054344, 0.032546166362163544, 0.8791638621045212, 0.7039127277870696, 0.2346375759290232, 0.5161491267449393, 0.37538118308722856, 0.09384529577180714, 0.8485579765733745, 0.784567499050458, 0.24192023427186324, 0.4147204016089084, 0.19008018407074967, 0.13824013386963613, 0.4700473559161882, 0.32903314914133175, 0.1880189423664753, 0.87875002693329, 0.911221787269252, 0.27261425721291777, 0.27261425721291777, 0.4543570953548629, 0.23699999117359485, 0.7109999735207846, 0.7918727628458305, 0.9628065185043622, 0.9499178099730458, 0.22670705578192407, 0.3627312892510785, 0.40807270040746335, 0.43161645807311066, 0.5549354460939995, 0.8900674060993439, 0.7845484597652, 0.5869109683626823, 0.36681935522667647, 0.8796986828521801, 0.2533083038680976, 0.2533083038680976, 0.5066166077361952, 0.8826686966263483, 0.16799973850970493, 0.6719989540388197, 0.26096133758599027, 0.3914420063789854, 0.21746778132165856, 0.08698711252866342, 0.7845693876646812, 0.8791660587560317, 0.7918675378992834, 0.10796114598062984, 0.8636891678450387, 0.8793369877024179, 0.17679670122623858, 0.2946611687103976, 0.20626281809727834, 0.3241272855814374, 0.03590669258776365, 0.3231602332898728, 0.6463204665797456, 0.8796987594892676, 0.9414926463169836, 0.8486085950622685, 0.9414952744505272, 0.5032085118566564, 0.461274469201935, 0.9377070981991742, 0.8793370871516353, 0.8826564474509021, 0.7812806067414623, 0.21443872107201523, 0.32165808160802284, 0.42887744214403045, 0.7816755797877879, 0.9381170404862011, 0.3746906432865998, 0.3746906432865998, 0.21410893902091416, 0.7845688955247824, 0.915307694600528, 0.9377056162204769, 0.8793370210647891, 0.6700618984091175, 0.16751547460227936, 0.8796987761229886, 0.2738386610097073, 0.3129584697253798, 0.3911980871567247, 0.547131975640516, 0.23448513241736396, 0.15632342161157597, 0.7845282968360118, 0.8796987773436241], \"Term\": [\"000\", \"24\", \"accident\", \"accident\", \"accident\", \"accident\", \"accountability\", \"accountability\", \"accountability\", \"accountable\", \"accountable\", \"accountable\", \"across\", \"act\", \"action\", \"action\", \"action\", \"afternoon\", \"ahead\", \"air\", \"airline\", \"airport\", \"alan\", \"although\", \"american\", \"american\", \"american\", \"among\", \"announces\", \"answer\", \"answer\", \"answer\", \"apologize\", \"appear\", \"around\", \"around\", \"associate\", \"available\", \"away\", \"behind\", \"bernie\", \"biden\", \"biden\", \"biden\", \"bipartisan\", \"bipartisan\", \"bipartisan\", \"border\", \"border\", \"brake\", \"buttigieg\", \"buttigieg\", \"call\", \"call\", \"call\", \"call\", \"capitol\", \"car\", \"car\", \"car\", \"carry\", \"carry\", \"carry\", \"cause\", \"ceo\", \"chemical\", \"chemical\", \"chemical\", \"child\", \"clean\", \"clean\", \"cleanup\", \"committee\", \"committee\", \"committee\", \"community\", \"community\", \"community\", \"community\", \"company\", \"company\", \"company\", \"concern\", \"concern\", \"concern\", \"conduct\", \"conduct\", \"contaminate\", \"continue\", \"continue\", \"continue\", \"continue\", \"count\", \"criticism\", \"dam\", \"day\", \"day\", \"day\", \"day\", \"derail\", \"derail\", \"derail\", \"derail\", \"detail\", \"director\", \"disaster\", \"disaster\", \"disaster\", \"disaster\", \"disposal\", \"district\", \"do\", \"eastpalestine\", \"eastpalestine\", \"eastpalestineoh\", \"ecological\", \"economic\", \"effort\", \"emergency\", \"emergency\", \"emergency\", \"environmental\", \"environmental\", \"environmental\", \"environmental\", \"epa\", \"epa\", \"epamichaelregan\", \"epamichaelregan\", \"epw\", \"epwcmte\", \"epwcmte\", \"epwgop\", \"even\", \"even\", \"every\", \"examine\", \"exist\", \"expect\", \"expect\", \"fed\", \"federal\", \"federal\", \"federal\", \"fine\", \"fire\", \"fire\", \"fire\", \"firm\", \"focus\", \"follow\", \"follow\", \"follow\", \"follow\", \"fra\", \"freight\", \"freight\", \"freight\", \"full\", \"full\", \"full\", \"get\", \"get\", \"get\", \"get\", \"go\", \"go\", \"go\", \"go\", \"gop\", \"government\", \"governor\", \"greed\", \"groundwater\", \"happen\", \"happen\", \"happens\", \"hazardous\", \"hazardous\", \"hazardous\", \"health\", \"health\", \"health\", \"hear\", \"hear\", \"hear\", \"hear\", \"heard\", \"hearing\", \"hearing\", \"hearing\", \"hearing\", \"heavy\", \"hill\", \"hold\", \"hold\", \"hold\", \"horrific\", \"hotel\", \"house\", \"house\", \"house\", \"impact\", \"impact\", \"impact\", \"information\", \"information\", \"information\", \"investigate\", \"jeffzymeri\", \"keep\", \"keep\", \"kill\", \"last\", \"last\", \"last\", \"leslie\", \"life\", \"life\", \"make\", \"make\", \"make\", \"make\", \"management\", \"material\", \"material\", \"material\", \"medium\", \"meet\", \"merkley\", \"mile\", \"must\", \"must\", \"must\", \"need\", \"need\", \"need\", \"need\", \"new\", \"new\", \"new\", \"new\", \"nothing\", \"ntsb\", \"ntsb\", \"ntsb\", \"ntsb\", \"one\", \"one\", \"one\", \"oversight\", \"page\", \"pahealthdept\", \"pahousedems\", \"pass\", \"pay\", \"pay\", \"pay\", \"pennsylvania\", \"people\", \"people\", \"people\", \"person\", \"pete\", \"pete\", \"phase\", \"policy\", \"policy\", \"potus\", \"potus\", \"president\", \"president\", \"president\", \"president\", \"press\", \"progressive\", \"public\", \"public\", \"push\", \"push\", \"put\", \"put\", \"put\", \"question\", \"question\", \"question\", \"rail\", \"rail\", \"rail\", \"rail\", \"railroad\", \"railroad\", \"railroad\", \"railroad\", \"railway\", \"railway\", \"relate\", \"release\", \"release\", \"repair\", \"resident\", \"resident\", \"resident\", \"resource\", \"responder\", \"responder\", \"response\", \"response\", \"response\", \"reuters\", \"run\", \"safety\", \"safety\", \"safety\", \"safety\", \"say\", \"say\", \"say\", \"secretary\", \"secretarypete\", \"senate\", \"senate\", \"senate\", \"senator\", \"senator\", \"shareholder\", \"shaw\", \"similar\", \"since\", \"since\", \"since\", \"site\", \"site\", \"soon\", \"standard\", \"state\", \"state\", \"stay\", \"still\", \"still\", \"still\", \"sulphur\", \"system\", \"system\", \"take\", \"take\", \"take\", \"take\", \"tax\", \"test\", \"testify\", \"testimony\", \"testimony\", \"thread\", \"today\", \"today\", \"today\", \"today\", \"toxic\", \"toxic\", \"toxic\", \"transition\", \"try\", \"ukraine\", \"understand\", \"update\", \"update\", \"upended\", \"upgrade\", \"urge\", \"usdot\", \"visit\", \"visit\", \"visit\", \"wake\", \"website\", \"week\", \"week\", \"week\", \"weekend\", \"well\", \"west\", \"wither\", \"within\", \"within\", \"woe\", \"work\", \"work\", \"work\", \"worker\", \"worker\", \"worker\", \"wreck\", \"yesterday\"]}, \"R\": 30, \"lambda.step\": 0.01, \"plot.opts\": {\"xlab\": \"PC1\", \"ylab\": \"PC2\"}, \"topic.order\": [1, 2, 3, 4]};\n",
       "\n",
       "function LDAvis_load_lib(url, callback){\n",
       "  var s = document.createElement('script');\n",
       "  s.src = url;\n",
       "  s.async = true;\n",
       "  s.onreadystatechange = s.onload = callback;\n",
       "  s.onerror = function(){console.warn(\"failed to load library \" + url);};\n",
       "  document.getElementsByTagName(\"head\")[0].appendChild(s);\n",
       "}\n",
       "\n",
       "if(typeof(LDAvis) !== \"undefined\"){\n",
       "   // already loaded: just create the visualization\n",
       "   !function(LDAvis){\n",
       "       new LDAvis(\"#\" + \"ldavis_el18620108053302087844668904\", ldavis_el18620108053302087844668904_data);\n",
       "   }(LDAvis);\n",
       "}else if(typeof define === \"function\" && define.amd){\n",
       "   // require.js is available: use it to load d3/LDAvis\n",
       "   require.config({paths: {d3: \"https://d3js.org/d3.v5\"}});\n",
       "   require([\"d3\"], function(d3){\n",
       "      window.d3 = d3;\n",
       "      LDAvis_load_lib(\"https://cdn.jsdelivr.net/gh/bmabey/pyLDAvis@3.3.1/pyLDAvis/js/ldavis.v3.0.0.js\", function(){\n",
       "        new LDAvis(\"#\" + \"ldavis_el18620108053302087844668904\", ldavis_el18620108053302087844668904_data);\n",
       "      });\n",
       "    });\n",
       "}else{\n",
       "    // require.js not available: dynamically load d3 & LDAvis\n",
       "    LDAvis_load_lib(\"https://d3js.org/d3.v5.js\", function(){\n",
       "         LDAvis_load_lib(\"https://cdn.jsdelivr.net/gh/bmabey/pyLDAvis@3.3.1/pyLDAvis/js/ldavis.v3.0.0.js\", function(){\n",
       "                 new LDAvis(\"#\" + \"ldavis_el18620108053302087844668904\", ldavis_el18620108053302087844668904_data);\n",
       "            })\n",
       "         });\n",
       "}\n",
       "</script>"
      ],
      "text/plain": [
       "PreparedData(topic_coordinates=              x         y  topics  cluster       Freq\n",
       "topic                                                \n",
       "0     -0.020538  0.055345       1        1  27.142608\n",
       "1     -0.132251 -0.097154       2        1  25.236641\n",
       "2     -0.004523  0.113011       3        1  25.091852\n",
       "3      0.157312 -0.071202       4        1  22.528899, topic_info=         Term       Freq      Total Category  logprob  loglift\n",
       "128       ceo  29.000000  29.000000  Default  30.0000  30.0000\n",
       "259       epa  34.000000  34.000000  Default  29.0000  29.0000\n",
       "687      shaw  17.000000  17.000000  Default  28.0000  28.0000\n",
       "54       alan  15.000000  15.000000  Default  27.0000  27.0000\n",
       "634  resident  30.000000  30.000000  Default  26.0000  26.0000\n",
       "..        ...        ...        ...      ...      ...      ...\n",
       "658    safety   8.299702  57.870314   Topic4  -4.8689  -0.4516\n",
       "263   epwcmte   5.921882  13.567311   Topic4  -5.2065   0.6614\n",
       "62   american   5.444792  11.848202   Topic4  -5.2905   0.7129\n",
       "360   hearing   5.471275  13.555625   Topic4  -5.2857   0.5831\n",
       "596       put   5.268983  11.014747   Topic4  -5.3233   0.7530\n",
       "\n",
       "[272 rows x 6 columns], token_table=      Topic      Freq       Term\n",
       "term                            \n",
       "1         1  0.878748        000\n",
       "15        2  0.938117         24\n",
       "28        1  0.131082   accident\n",
       "28        2  0.065541   accident\n",
       "28        3  0.458786   accident\n",
       "...     ...       ...        ...\n",
       "835       1  0.547132     worker\n",
       "835       2  0.234485     worker\n",
       "835       3  0.156323     worker\n",
       "838       3  0.784528      wreck\n",
       "844       2  0.879699  yesterday\n",
       "\n",
       "[394 rows x 3 columns], R=30, lambda_step=0.01, plot_opts={'xlab': 'PC1', 'ylab': 'PC2'}, topic_order=[1, 2, 3, 4])"
      ]
     },
     "execution_count": 201,
     "metadata": {},
     "output_type": "execute_result"
    }
   ],
   "source": [
    "\n",
    "pyLDAvis.sklearn.prepare(lda, tf, tf_vectorizer)"
   ]
  },
  {
   "cell_type": "code",
   "execution_count": 206,
   "metadata": {},
   "outputs": [
    {
     "name": "stdout",
     "output_type": "stream",
     "text": [
      "The disaster in East Palestine clearly demonstrates the need for more federal oversight on rail and transportation companies. Our economy depends on infrastructure and railways, and it is in the best interest of all of us to have safe and reliable service. https://t.co/I5xnAn87k2\n",
      "[0.01006 0.09555 0.88417 0.01022]\n"
     ]
    }
   ],
   "source": [
    "tweet_topic(data_govt, lda, tf, 14)"
   ]
  },
  {
   "cell_type": "code",
   "execution_count": 202,
   "metadata": {},
   "outputs": [
    {
     "name": "stdout",
     "output_type": "stream",
     "text": [
      "Loglikelihood: -32159.344147288863\n",
      "Perplexity: 816.8465370366005\n"
     ]
    }
   ],
   "source": [
    "# Metrics part 2\n",
    "\n",
    "\n",
    "# 2. Loglikelihood\n",
    "loglikelihood_govt = lda.score(tf)\n",
    "loglikelihood_govt = lda.perplexity(tf)\n",
    "\n",
    "print(f'Loglikelihood: {loglikelihood_govt}')\n",
    "print(f'Perplexity: {loglikelihood_govt}')\n",
    "\n",
    "# INTERPRETATION MISSING\n"
   ]
  },
  {
   "attachments": {},
   "cell_type": "markdown",
   "metadata": {},
   "source": [
    "## People"
   ]
  },
  {
   "cell_type": "code",
   "execution_count": 208,
   "metadata": {},
   "outputs": [],
   "source": [
    "tf, tf_vectorizer, vocab, lda, data = parse_lda(data_people, 12000, 2, num_topics = 4)"
   ]
  },
  {
   "cell_type": "code",
   "execution_count": 210,
   "metadata": {},
   "outputs": [
    {
     "name": "stdout",
     "output_type": "stream",
     "text": [
      "Size of the ... (tweets, words in vocabulary): (77438, 12000)\n"
     ]
    }
   ],
   "source": [
    "print(f'Size of the ... (tweets, words in vocabulary): {tf.toarray().shape}')"
   ]
  },
  {
   "cell_type": "code",
   "execution_count": 209,
   "metadata": {},
   "outputs": [
    {
     "name": "stdout",
     "output_type": "stream",
     "text": [
      "Sparsity: 0.09589262808095939\n"
     ]
    }
   ],
   "source": [
    "# Metrics part 1\n",
    "\n",
    "# 1. Sparsity\n",
    "# How sparse is this document?\n",
    "# We are taking the non zero entries in the doc-word frequency matrix\n",
    "# Sparsity (%) = (# of zero elements in tf / total # of elements in tf) x 100\n",
    "\n",
    "sparsity_people = ((tf.todense() > 0).sum() / tf.todense().size)*100\n",
    "print(f'Sparsity: {sparsity_people}')\n",
    "\n",
    "\n",
    "#OJO: to icnrease sparsity, we can increase min_df (can be integer or float)\n",
    "# we can also lower max_features\n",
    "# we can also reduce stop words"
   ]
  },
  {
   "cell_type": "code",
   "execution_count": 150,
   "metadata": {},
   "outputs": [
    {
     "name": "stdout",
     "output_type": "stream",
     "text": [
      "The most repeated word in a single tweet is trump, and it is repeated 10 times in the tweet: trump state go trump trump trump trump trump trump trump trump trump\n"
     ]
    }
   ],
   "source": [
    "most_frequent(tf, vocab, data)"
   ]
  },
  {
   "cell_type": "code",
   "execution_count": 151,
   "metadata": {},
   "outputs": [
    {
     "data": {
      "text/plain": [
       "(4, 15000)"
      ]
     },
     "execution_count": 151,
     "metadata": {},
     "output_type": "execute_result"
    }
   ],
   "source": [
    "topic_word = np.array([row / row.sum() for row in lda.components_])\n",
    "topic_word.shape"
   ]
  },
  {
   "cell_type": "code",
   "execution_count": 211,
   "metadata": {},
   "outputs": [
    {
     "name": "stderr",
     "output_type": "stream",
     "text": [
      "/Users/ribarragi/miniconda3/envs/Intro_AI/lib/python3.9/site-packages/sklearn/utils/deprecation.py:87: FutureWarning: Function get_feature_names is deprecated; get_feature_names is deprecated in 1.0 and will be removed in 1.2. Please use get_feature_names_out instead.\n",
      "  warnings.warn(msg, category=FutureWarning)\n",
      "/Users/ribarragi/miniconda3/envs/Intro_AI/lib/python3.9/site-packages/pyLDAvis/_prepare.py:246: FutureWarning: In a future version of pandas all arguments of DataFrame.drop except for the argument 'labels' will be keyword-only.\n",
      "  default_term_info = default_term_info.sort_values(\n"
     ]
    },
    {
     "data": {
      "text/html": [
       "\n",
       "<link rel=\"stylesheet\" type=\"text/css\" href=\"https://cdn.jsdelivr.net/gh/bmabey/pyLDAvis@3.3.1/pyLDAvis/js/ldavis.v1.0.0.css\">\n",
       "\n",
       "\n",
       "<div id=\"ldavis_el18620108023506725199793493\"></div>\n",
       "<script type=\"text/javascript\">\n",
       "\n",
       "var ldavis_el18620108023506725199793493_data = {\"mdsDat\": {\"x\": [0.12022876816575037, -0.047035924911453475, 0.1807215659943882, -0.25391440924868497], \"y\": [-0.11151234459180343, 0.19825576304849057, 0.0016260300485308615, -0.08836944850521794], \"topics\": [1, 2, 3, 4], \"cluster\": [1, 1, 1, 1], \"Freq\": [31.86336609985347, 27.970857528277776, 24.165724326596568, 16.000052045272184]}, \"tinfo\": {\"Term\": [\"another\", \"derails\", \"ceo\", \"via\", \"biden\", \"chemical\", \"resident\", \"trump\", \"derail\", \"safety\", \"alabama\", \"visit\", \"would\", \"rule\", \"brake\", \"car\", \"report\", \"senate\", \"springfield\", \"release\", \"hazardous\", \"congress\", \"dewine\", \"hour\", \"toxic\", \"20\", \"carry\", \"place\", \"county\", \"president\", \"dewine\", \"fema\", \"gov\", \"mike\", \"joe\", \"gop\", \"sound\", \"declare\", \"maga\", \"aid\", \"erin\", \"party\", \"ukraine\", \"biden\", \"farmer\", \"reveals\", \"brockovich\", \"shapiro\", \"audio\", \"advice\", \"biometrics\", \"surveil\", \"terrorist\", \"donation\", \"crime\", \"jd\", \"diversity\", \"visit\", \"donor\", \"voter\", \"republican\", \"house\", \"care\", \"president\", \"review\", \"accountable\", \"vote\", \"donate\", \"help\", \"former\", \"pete\", \"support\", \"governor\", \"mayor\", \"trump\", \"potus\", \"donald\", \"never\", \"clean\", \"buttigieg\", \"response\", \"administration\", \"government\", \"secretary\", \"disaster\", \"people\", \"go\", \"need\", \"take\", \"get\", \"call\", \"say\", \"wreck\", \"make\", \"epa\", \"toxic\", \"like\", \"resident\", \"site\", \"week\", \"dump\", \"lawsuit\", \"cleveland\", \"conductor\", \"de\", \"truck\", \"file\", \"footage\", \"gallon\", \"chloride\", \"20\", \"basically\", \"vinyl\", \"spark\", \"collides\", \"pause\", \"removal\", \"caggiano\", \"specialist\", \"212\", \"multimillion\", \"discover\", \"craft\", \"disposal\", \"illusion\", \"creek\", \"acrylate\", \"la\", \"shipment\", \"pollutant\", \"waste\", \"mile\", \"release\", \"outside\", \"five\", \"40\", \"plume\", \"carry\", \"contaminate\", \"plane\", \"soil\", \"detroit\", \"fiery\", \"gas\", \"chemical\", \"hazardous\", \"car\", \"material\", \"texas\", \"burn\", \"fire\", \"month\", \"near\", \"air\", \"sue\", \"kill\", \"concern\", \"involve\", \"toxic\", \"derail\", \"feb\", \"epa\", \"last\", \"environmental\", \"crash\", \"week\", \"water\", \"company\", \"state\", \"say\", \"one\", \"health\", \"report\", \"rail\", \"site\", \"brake\", \"apply\", \"hazard\", \"ecp\", \"bearing\", \"prevent\", \"lobby\", \"stock\", \"chair\", \"movie\", \"bear\", \"era\", \"overheat\", \"cincinnati\", \"categorize\", \"homendy\", \"buyback\", \"mixed\", \"jennifer\", \"maintenance\", \"litigation\", \"donovanlawtampa\", \"intake\", \"wall\", \"multidistrict\", \"cash\", \"2015\", \"bp\", \"placarded\", \"mainstream\", \"system\", \"repeal\", \"delivers\", \"preventable\", \"truckloads\", \"rule\", \"obama\", \"flammable\", \"would\", \"profit\", \"safety\", \"high\", \"train\", \"film\", \"stop\", \"wheel\", \"regulation\", \"effect\", \"article\", \"ntsb\", \"own\", \"even\", \"railroad\", \"rail\", \"like\", \"year\", \"new\", \"trump\", \"happen\", \"cause\", \"accident\", \"make\", \"know\", \"company\", \"disaster\", \"water\", \"time\", \"say\", \"go\", \"derail\", \"get\", \"derails\", \"alabama\", \"shelter\", \"north\", \"testifies\", \"testify\", \"carolina\", \"calhoun\", \"petition\", \"virginia\", \"deeply\", \"mailonline\", \"rash\", \"testimony\", \"estimate\", \"grill\", \"senate\", \"trail\", \"central\", \"outage\", \"foxbusiness\", \"mom\", \"symptom\", \"clinic\", \"44\", \"abundance\", \"panel\", \"justthenews\", \"sooner\", \"youtube\", \"another\", \"hour\", \"demand\", \"danger\", \"alan\", \"hearing\", \"clark\", \"door\", \"aboard\", \"nbcnews\", \"ceo\", \"county\", \"congress\", \"via\", \"public\", \"place\", \"sign\", \"springfield\", \"resident\", \"report\", \"derail\", \"official\", \"news\", \"break\", \"say\", \"toxic\", \"tell\", \"company\", \"health\"], \"Freq\": [5467.0, 4092.0, 4172.0, 4599.0, 5234.0, 7895.0, 5804.0, 8012.0, 7980.0, 5753.0, 2088.0, 3159.0, 3197.0, 2339.0, 2031.0, 4366.0, 3594.0, 1415.0, 1969.0, 2121.0, 3482.0, 1568.0, 2030.0, 1276.0, 9427.0, 1806.0, 2085.0, 1590.0, 1332.0, 2033.0, 2029.6821811158463, 910.5006145949998, 1249.221473158387, 717.1907894060582, 663.7636718039524, 1660.1811564567251, 579.1577740031829, 502.493999071223, 498.5829843770384, 470.4355088672997, 417.9198949531364, 390.7605689157426, 665.0788485947436, 5220.962843902669, 278.0803317050499, 271.2751388141695, 425.3053923174827, 267.38958036514157, 255.72692284607078, 228.53929407764048, 213.00032886622594, 212.028830597582, 206.19221467011695, 200.35592549993385, 204.22311420482373, 280.6835529001096, 186.76322858059217, 3146.2636369309625, 184.79518452187096, 177.04102794334074, 1351.767742093562, 793.846640353892, 831.4309333494109, 1985.975651682067, 251.33175759935546, 536.9546898774107, 503.58719520653545, 292.65061930950907, 2016.878679033048, 459.4064823313405, 2062.724267982198, 787.5370092805165, 1094.5019145165309, 652.9164795793797, 5856.003248609046, 757.054812907323, 766.6756477148842, 736.4692161684499, 1240.7660491623628, 2170.197585927535, 1303.0627745338425, 1359.1876737371297, 1261.7174338214002, 841.9688037352146, 3117.5051425174897, 2493.506041767247, 2235.6827414083823, 1367.6390278424449, 1426.3317999696733, 1713.3796517442845, 1234.7276766459474, 2492.5560242381875, 1402.5593509910952, 1468.6290272440303, 1618.1355381133178, 2341.169258496577, 1351.078834554064, 1699.8716240672716, 1292.4162783447953, 1250.7456146345924, 767.8056737288626, 692.4357459119522, 603.188860394787, 524.8359842803482, 524.8331300763505, 784.2310673991916, 385.0126608433534, 313.60918729118896, 276.92338250744706, 1446.6798548807951, 1801.449986688884, 256.0122143864854, 1329.3474550945248, 212.44553332749118, 191.64176761231823, 192.62794083954861, 193.61388437870977, 189.65918372190228, 185.68937001891175, 186.6763732125131, 185.68815464466027, 183.69535023115108, 180.72852728129016, 236.03164304479128, 176.76461494017022, 269.5161349075493, 164.86606957060738, 166.84032448535163, 159.9028127369527, 158.91278058152594, 1104.3456279382674, 1400.0297335527403, 2095.659284248098, 313.5569290828113, 280.7164315599756, 221.8230728302555, 263.01954218675786, 1964.2356309178288, 782.7099049505792, 213.45624893135087, 688.306820814589, 243.8290138825174, 513.068735525854, 305.7116362309235, 6519.033909040326, 2897.2746976529593, 3509.7813785483104, 2042.4747334501237, 395.70169803807084, 1409.5969895518776, 1461.8532710457866, 1735.1473896431305, 1396.1877281669117, 1329.0393690008611, 830.3474623433665, 1045.9971797877233, 1069.446472794182, 646.629415871473, 4611.416541876327, 3868.5693789722386, 922.6097842948088, 1728.0416162685865, 992.038693160838, 1086.6510501214607, 1358.6939209165835, 1309.367152500213, 1556.1423002851152, 1505.8736727232176, 1230.521750773669, 1914.4027760392066, 1354.3048235658978, 1111.812274274314, 1232.0442049513006, 1254.5041447188912, 1111.5700502904888, 2030.992080027133, 815.3590619577923, 816.3321588194043, 584.477904834305, 518.1980743072609, 1019.3151047670963, 469.0097824250819, 433.8661129756451, 410.8031741747143, 503.9106039607461, 364.6319534294086, 354.59429487936916, 429.62619178663283, 332.4475521035073, 295.3761892192283, 260.2402049465741, 222.09140173394235, 223.06335676346512, 200.0080745787763, 294.9183023258748, 168.88570475064122, 159.85417773395218, 157.8410946295931, 189.7728451399412, 142.79428826298226, 190.67339412140683, 137.76059623477107, 134.75750416515572, 131.7523957627715, 132.7408003709392, 727.5352123977681, 402.10674553609664, 237.46204230500925, 286.69638511628295, 244.68928781472295, 2214.0469778651936, 754.6469622378235, 553.7439050048503, 2689.184451742798, 658.0201625483076, 4516.626590952508, 954.2943316405277, 1501.3877511331127, 292.0597179071915, 1067.6500704071077, 666.9685985449729, 1808.6301912407346, 693.7567834496543, 549.1900092160928, 1195.13960451688, 424.5153851192532, 1027.5163016794854, 1491.1809204279848, 1574.3324337669276, 1221.7021365164012, 958.308955690321, 1023.7506121328239, 2155.879318958936, 1056.9954012682485, 1174.6339205598474, 886.3283785297441, 1042.8236653368563, 934.6939343109428, 1074.7234073392372, 1104.2326309726827, 989.8063548904743, 865.5186061686228, 1105.8503700035888, 907.7874943456327, 957.9663916152035, 833.1010974883995, 4091.7525966450594, 2087.4261594449254, 1025.094934156054, 1106.776509331151, 841.6290605372664, 730.1651921744975, 1059.0136151828851, 524.9964069646062, 483.56707122386024, 294.1743862567498, 279.28318219521765, 344.1175664324098, 226.1177964218483, 208.36544363312987, 200.46815177594252, 180.74688464096425, 1409.319271554826, 316.0943104069835, 150.16456266391285, 126.49656994119674, 125.50391817774411, 126.47475394356461, 270.54895910118387, 138.19734698304043, 106.77113275370068, 134.1992403258466, 103.80845372710876, 92.95514411588134, 93.92791622702049, 400.12130689452914, 5386.636216904182, 1262.454008673897, 1054.0332867120876, 809.4058551492071, 741.4847968141088, 575.9673160054617, 324.9203019458249, 324.8862083453662, 433.3196879402356, 377.63854386031704, 3596.960657056063, 1197.7419120168597, 1388.3844449601968, 3696.475381452304, 1215.846815068716, 1290.0008180661412, 892.5657048378761, 1456.3403319939691, 3333.508596195763, 1884.897711023336, 3049.2163730413718, 1433.549090767738, 1484.050697636175, 1009.8416391991564, 1911.8374302963875, 1997.1911928019308, 908.4345099880168, 942.7049364436675, 774.4361457848456], \"Total\": [5467.0, 4092.0, 4172.0, 4599.0, 5234.0, 7895.0, 5804.0, 8012.0, 7980.0, 5753.0, 2088.0, 3159.0, 3197.0, 2339.0, 2031.0, 4366.0, 3594.0, 1415.0, 1969.0, 2121.0, 3482.0, 1568.0, 2030.0, 1276.0, 9427.0, 1806.0, 2085.0, 1590.0, 1332.0, 2033.0, 2030.4458266413094, 911.2817113710407, 1250.3404180429313, 717.9534277681975, 664.5210274678299, 1662.2919519676705, 580.0035626812128, 503.252540489923, 499.36749443648614, 471.19312206683054, 418.73318302460297, 391.5308117527294, 666.47365605575, 5234.836041694298, 278.83669504023436, 272.0363683794774, 426.51141009772346, 268.15032269044644, 256.49266715278736, 229.29025353940486, 213.7461853249577, 212.77468842011444, 206.9458830803415, 201.11713457756267, 205.00376817783382, 281.75766355156964, 187.515942170525, 3159.5159187502954, 185.57377107044593, 177.80116753358033, 1360.3572446217202, 800.6555417940451, 839.6069046151356, 2033.90821981873, 252.6171212003052, 547.124312483839, 518.1312391716207, 296.42076003212065, 2237.6194930017564, 474.5700430032728, 2407.867788989962, 857.2027506326162, 1225.095182994154, 710.164839752406, 8012.408201029389, 838.8718182225839, 851.8236931058361, 817.6851865519291, 1518.261411423816, 2962.136771127786, 1615.5975816429147, 1721.496875740278, 1575.0357622830454, 981.5778256346179, 5373.535437090178, 4103.029801755415, 3966.5908618377885, 2044.4049780501616, 2362.336479127063, 3384.562511965407, 1980.0770533998812, 7424.646600577371, 2657.528572481655, 2919.2320975742355, 3960.680707994052, 9427.907089651788, 2773.2611843310515, 5804.9708832124215, 2716.45413128666, 2786.801556341311, 768.5541491604317, 693.1859384294805, 603.9341299614979, 525.5908913951903, 525.5908129993508, 785.4040856660976, 385.7629130161189, 314.36148607760134, 277.6690264434861, 1450.876611849238, 1806.8071476923078, 256.84338035260606, 1333.8613690748682, 213.20943917635256, 192.3839614330189, 193.3756302603091, 194.3673284547529, 190.40059303269763, 186.43382406806938, 187.42551172049414, 186.43389050259515, 184.45049598981993, 181.47547456606142, 237.01267840393706, 177.50865205634005, 270.71997112688734, 165.60840725203144, 167.59174466304853, 160.64993150218606, 159.65827315073008, 1109.6385718327397, 1410.286704121052, 2121.214699888686, 315.3652319397576, 282.6232883998007, 223.12249302815945, 265.7905362958739, 2085.9699344243663, 813.1021109415383, 215.1726653555978, 727.6850052068162, 246.91413502279158, 536.0378392079926, 314.26914255667896, 7895.743601633688, 3482.956167913753, 4366.031627655625, 2449.297594537399, 419.3568328663476, 1721.0608561247006, 1852.797619058599, 2264.654462542864, 1870.2153855052993, 1788.9737212862103, 1027.7801117723782, 1370.7417060935338, 1410.1461259446446, 765.929968650487, 9427.907089651788, 7980.068088760032, 1378.9222049395676, 3960.680707994052, 1570.0873919765695, 1846.9129474777733, 2932.6787896153674, 2786.801556341311, 4024.26317367339, 3947.0303428769225, 2548.6325106606664, 7424.646600577371, 3362.4578708368726, 2027.9097403714688, 3594.3692562846027, 4071.1721103556524, 2716.45413128666, 2031.736073348118, 816.0981871957604, 817.101576638027, 585.2173084229387, 518.9641733007439, 1020.8592177295774, 469.77646197006317, 434.64182105274375, 411.5544878494653, 504.9077349750276, 365.3784348875353, 355.3400945526613, 430.6243310884586, 333.2551268893694, 296.11432290641125, 260.98023690742417, 222.83463346074134, 223.83810274104357, 200.75039500817417, 296.10863713254065, 169.63159734004856, 160.59717081230298, 158.58947577838228, 190.70582196504594, 143.53218417148742, 191.7121737091577, 138.5127908489169, 135.5014101879229, 132.49006204585206, 133.49358236351557, 732.6935657910482, 405.4452841909308, 238.87369030546938, 289.0674403577231, 246.87854556187932, 2339.767757248958, 784.9978083265634, 594.7624108011186, 3197.063096738828, 721.7302827735589, 5753.912472057798, 1094.4593944994338, 1894.307423150651, 302.0242766865816, 1368.6161131026454, 808.3530224056999, 2693.9366258148693, 869.1370537227401, 651.8198834086037, 1781.5723137512005, 474.1432242129671, 1739.0668541380014, 3121.830342562707, 4071.1721103556524, 2773.2611843310515, 1813.0412887884615, 2037.8221645178505, 8012.408201029389, 2289.3638337781636, 2859.4239057919735, 1825.1671781649927, 2919.2320975742355, 2332.9759621036915, 3947.0303428769225, 5373.535437090178, 4024.26317367339, 2362.6000542630154, 7424.646600577371, 3966.5908618377885, 7980.068088760032, 3384.562511965407, 4092.5003711668724, 2088.1724059447342, 1025.8391197259025, 1107.7098323839355, 842.3720912397611, 730.910949541265, 1060.3657265216248, 525.7435350158039, 484.31550386585747, 294.9301909255823, 280.13503310041244, 345.23657205133935, 226.86981912580433, 209.114942549599, 201.22395661639646, 181.49624151163755, 1415.3841432736851, 317.61341101941986, 150.9184886105291, 127.24525586183235, 126.25875197660942, 127.24501059543542, 272.23806066657266, 139.082539472868, 107.51758113108848, 135.13970154891408, 104.55844903096974, 93.70824533861152, 94.69450097883933, 403.4448199100669, 5467.03714313444, 1276.3974960240764, 1067.0789564983406, 817.7530579610319, 758.2837444057883, 589.6608149025878, 330.4655850038941, 332.31143216554466, 449.0663667864685, 392.5754369080928, 4172.470391302126, 1332.280622193938, 1568.3815812515518, 4599.825241163961, 1465.497359741469, 1590.4340724274007, 1090.0193061182636, 1969.589207833365, 5804.9708832124215, 3594.3692562846027, 7980.068088760032, 2688.608215734458, 3313.0157092732325, 2010.7524821118413, 7424.646600577371, 9427.907089651788, 2658.4644195006717, 3947.0303428769225, 2027.9097403714688], \"Category\": [\"Default\", \"Default\", \"Default\", \"Default\", \"Default\", \"Default\", \"Default\", \"Default\", \"Default\", \"Default\", \"Default\", \"Default\", \"Default\", \"Default\", \"Default\", \"Default\", \"Default\", \"Default\", \"Default\", \"Default\", \"Default\", \"Default\", \"Default\", \"Default\", \"Default\", \"Default\", \"Default\", \"Default\", \"Default\", \"Default\", \"Topic1\", \"Topic1\", \"Topic1\", \"Topic1\", \"Topic1\", \"Topic1\", \"Topic1\", \"Topic1\", \"Topic1\", \"Topic1\", \"Topic1\", \"Topic1\", \"Topic1\", \"Topic1\", \"Topic1\", \"Topic1\", \"Topic1\", \"Topic1\", \"Topic1\", \"Topic1\", \"Topic1\", \"Topic1\", \"Topic1\", \"Topic1\", \"Topic1\", \"Topic1\", \"Topic1\", \"Topic1\", \"Topic1\", \"Topic1\", \"Topic1\", \"Topic1\", \"Topic1\", \"Topic1\", \"Topic1\", \"Topic1\", \"Topic1\", \"Topic1\", \"Topic1\", \"Topic1\", \"Topic1\", \"Topic1\", \"Topic1\", \"Topic1\", \"Topic1\", \"Topic1\", \"Topic1\", \"Topic1\", \"Topic1\", \"Topic1\", \"Topic1\", \"Topic1\", \"Topic1\", \"Topic1\", \"Topic1\", \"Topic1\", \"Topic1\", \"Topic1\", \"Topic1\", \"Topic1\", \"Topic1\", \"Topic1\", \"Topic1\", \"Topic1\", \"Topic1\", \"Topic1\", \"Topic1\", \"Topic1\", \"Topic1\", \"Topic1\", \"Topic2\", \"Topic2\", \"Topic2\", \"Topic2\", \"Topic2\", \"Topic2\", \"Topic2\", \"Topic2\", \"Topic2\", \"Topic2\", \"Topic2\", \"Topic2\", \"Topic2\", \"Topic2\", \"Topic2\", \"Topic2\", \"Topic2\", \"Topic2\", \"Topic2\", \"Topic2\", \"Topic2\", \"Topic2\", \"Topic2\", \"Topic2\", \"Topic2\", \"Topic2\", \"Topic2\", \"Topic2\", \"Topic2\", \"Topic2\", \"Topic2\", \"Topic2\", \"Topic2\", \"Topic2\", \"Topic2\", \"Topic2\", \"Topic2\", \"Topic2\", \"Topic2\", \"Topic2\", \"Topic2\", \"Topic2\", \"Topic2\", \"Topic2\", \"Topic2\", \"Topic2\", \"Topic2\", \"Topic2\", \"Topic2\", \"Topic2\", \"Topic2\", \"Topic2\", \"Topic2\", \"Topic2\", \"Topic2\", \"Topic2\", \"Topic2\", \"Topic2\", \"Topic2\", \"Topic2\", \"Topic2\", \"Topic2\", \"Topic2\", \"Topic2\", \"Topic2\", \"Topic2\", \"Topic2\", \"Topic2\", \"Topic2\", \"Topic2\", \"Topic2\", \"Topic2\", \"Topic2\", \"Topic2\", \"Topic2\", \"Topic3\", \"Topic3\", \"Topic3\", \"Topic3\", \"Topic3\", \"Topic3\", \"Topic3\", \"Topic3\", \"Topic3\", \"Topic3\", \"Topic3\", \"Topic3\", \"Topic3\", \"Topic3\", \"Topic3\", \"Topic3\", \"Topic3\", \"Topic3\", \"Topic3\", \"Topic3\", \"Topic3\", \"Topic3\", \"Topic3\", \"Topic3\", \"Topic3\", \"Topic3\", \"Topic3\", \"Topic3\", \"Topic3\", \"Topic3\", \"Topic3\", \"Topic3\", \"Topic3\", \"Topic3\", \"Topic3\", \"Topic3\", \"Topic3\", \"Topic3\", \"Topic3\", \"Topic3\", \"Topic3\", \"Topic3\", \"Topic3\", \"Topic3\", \"Topic3\", \"Topic3\", \"Topic3\", \"Topic3\", \"Topic3\", \"Topic3\", \"Topic3\", \"Topic3\", \"Topic3\", \"Topic3\", \"Topic3\", \"Topic3\", \"Topic3\", \"Topic3\", \"Topic3\", \"Topic3\", \"Topic3\", \"Topic3\", \"Topic3\", \"Topic3\", \"Topic3\", \"Topic3\", \"Topic3\", \"Topic3\", \"Topic3\", \"Topic3\", \"Topic3\", \"Topic4\", \"Topic4\", \"Topic4\", \"Topic4\", \"Topic4\", \"Topic4\", \"Topic4\", \"Topic4\", \"Topic4\", \"Topic4\", \"Topic4\", \"Topic4\", \"Topic4\", \"Topic4\", \"Topic4\", \"Topic4\", \"Topic4\", \"Topic4\", \"Topic4\", \"Topic4\", \"Topic4\", \"Topic4\", \"Topic4\", \"Topic4\", \"Topic4\", \"Topic4\", \"Topic4\", \"Topic4\", \"Topic4\", \"Topic4\", \"Topic4\", \"Topic4\", \"Topic4\", \"Topic4\", \"Topic4\", \"Topic4\", \"Topic4\", \"Topic4\", \"Topic4\", \"Topic4\", \"Topic4\", \"Topic4\", \"Topic4\", \"Topic4\", \"Topic4\", \"Topic4\", \"Topic4\", \"Topic4\", \"Topic4\", \"Topic4\", \"Topic4\", \"Topic4\", \"Topic4\", \"Topic4\", \"Topic4\", \"Topic4\", \"Topic4\", \"Topic4\", \"Topic4\"], \"logprob\": [30.0, 29.0, 28.0, 27.0, 26.0, 25.0, 24.0, 23.0, 22.0, 21.0, 20.0, 19.0, 18.0, 17.0, 16.0, 15.0, 14.0, 13.0, 12.0, 11.0, 10.0, 9.0, 8.0, 7.0, 6.0, 5.0, 4.0, 3.0, 2.0, 1.0, -4.9776, -5.7793, -5.463, -6.0179, -6.0954, -5.1786, -6.2317, -6.3737, -6.3815, -6.4396, -6.558, -6.6252, -6.0934, -4.0328, -6.9654, -6.9901, -6.5405, -7.0046, -7.0492, -7.1616, -7.232, -7.2366, -7.2645, -7.2932, -7.2741, -6.9561, -7.3634, -4.5393, -7.374, -7.4169, -5.3841, -5.9164, -5.8701, -4.9994, -7.0665, -6.3074, -6.3715, -6.9143, -4.984, -6.4633, -4.9615, -5.9244, -5.5952, -6.1118, -3.9181, -5.9638, -5.9512, -5.9914, -5.4698, -4.9107, -5.4208, -5.3786, -5.4531, -5.8575, -4.5485, -4.7718, -4.881, -5.3724, -5.3304, -5.1471, -5.4747, -4.7722, -5.3472, -5.3012, -5.2043, -4.8349, -5.3846, -5.155, -5.429, -5.4618, -5.8195, -5.9228, -6.0608, -6.1999, -6.1999, -5.7983, -6.5097, -6.7148, -6.8392, -5.186, -4.9666, -6.9178, -5.2705, -7.1043, -7.2074, -7.2022, -7.1971, -7.2178, -7.2389, -7.2336, -7.2389, -7.2497, -7.266, -6.999, -7.2882, -6.8664, -7.3579, -7.346, -7.3884, -7.3946, -5.456, -5.2187, -4.8154, -6.715, -6.8256, -7.0611, -6.8908, -4.8801, -5.8002, -7.0996, -5.9288, -6.9665, -6.2226, -6.7403, -3.6805, -4.4915, -4.2997, -4.8411, -6.4823, -5.2119, -5.1755, -5.0041, -5.2215, -5.2708, -5.7411, -5.5103, -5.4881, -5.9912, -4.0267, -4.2023, -5.6358, -5.0082, -5.5632, -5.4721, -5.2487, -5.2857, -5.113, -5.1459, -5.3478, -4.9058, -5.2519, -5.4492, -5.3466, -5.3285, -5.4495, -4.7005, -5.6131, -5.6119, -5.946, -6.0664, -5.3899, -6.1661, -6.244, -6.2986, -6.0944, -6.4179, -6.4458, -6.2538, -6.5103, -6.6285, -6.7552, -6.9137, -6.9093, -7.0184, -6.6301, -7.1875, -7.2425, -7.2552, -7.0709, -7.3554, -7.0662, -7.3912, -7.4133, -7.4358, -7.4284, -5.7271, -6.32, -6.8468, -6.6583, -6.8168, -4.6142, -5.6905, -6.0001, -4.4198, -5.8275, -3.9012, -5.4558, -5.0026, -6.6398, -5.3435, -5.814, -4.8164, -5.7746, -6.0083, -5.2307, -6.2658, -5.3819, -5.0094, -4.9552, -5.2088, -5.4516, -5.3855, -4.6408, -5.3536, -5.248, -5.5297, -5.3671, -5.4765, -5.3369, -5.3099, -5.4193, -5.5534, -5.3084, -5.5058, -5.4519, -5.5916, -3.5877, -4.2607, -4.9719, -4.8952, -5.1691, -5.3111, -4.9393, -5.641, -5.7232, -6.2202, -6.2722, -6.0634, -6.4834, -6.5651, -6.6038, -6.7073, -4.6536, -6.1484, -6.8927, -7.0642, -7.0721, -7.0644, -6.304, -6.9757, -7.2337, -7.0051, -7.2619, -7.3723, -7.3619, -5.9126, -3.3127, -4.7636, -4.944, -5.2081, -5.2958, -5.5484, -6.1208, -6.1209, -5.8329, -5.9705, -3.7166, -4.8162, -4.6685, -3.6893, -4.8012, -4.742, -5.1103, -4.6207, -3.7926, -4.3628, -3.8818, -4.6365, -4.6019, -4.9869, -4.3486, -4.3049, -5.0927, -5.0557, -5.2523], \"loglift\": [30.0, 29.0, 28.0, 27.0, 26.0, 25.0, 24.0, 23.0, 22.0, 21.0, 20.0, 19.0, 18.0, 17.0, 16.0, 15.0, 14.0, 13.0, 12.0, 11.0, 10.0, 9.0, 8.0, 7.0, 6.0, 5.0, 4.0, 3.0, 2.0, 1.0, 1.1433, 1.1429, 1.1428, 1.1427, 1.1426, 1.1424, 1.1423, 1.1422, 1.1421, 1.1421, 1.1418, 1.1417, 1.1416, 1.1411, 1.141, 1.1409, 1.1409, 1.1409, 1.1407, 1.1404, 1.1402, 1.1402, 1.1401, 1.1399, 1.1399, 1.1399, 1.1397, 1.1395, 1.1395, 1.1394, 1.1374, 1.1352, 1.1339, 1.1199, 1.1386, 1.125, 1.1152, 1.1309, 1.0399, 1.1112, 0.989, 1.0589, 1.031, 1.0597, 0.8302, 1.0411, 1.0384, 1.0391, 0.9419, 0.8326, 0.9287, 0.9074, 0.9219, 0.9903, 0.5993, 0.6457, 0.5704, 0.7417, 0.6392, 0.463, 0.6714, 0.0522, 0.5046, 0.4567, 0.2486, -0.2493, 0.4246, -0.0844, 0.4009, 0.3426, 1.273, 1.2729, 1.2728, 1.2726, 1.2726, 1.2725, 1.2721, 1.2716, 1.2713, 1.2711, 1.271, 1.2708, 1.2706, 1.2704, 1.2701, 1.2701, 1.2701, 1.2701, 1.27, 1.27, 1.27, 1.2699, 1.2699, 1.2699, 1.2698, 1.2696, 1.2695, 1.2695, 1.2693, 1.2693, 1.2692, 1.2667, 1.2619, 1.2683, 1.2672, 1.2682, 1.2635, 1.2139, 1.2359, 1.266, 1.2184, 1.2614, 1.2302, 1.2464, 1.0824, 1.0899, 1.0557, 1.0924, 1.2159, 1.0744, 1.037, 1.0077, 0.9817, 0.9768, 1.0607, 1.0036, 0.9975, 1.1047, 0.5589, 0.5499, 0.8722, 0.4446, 0.8149, 0.7436, 0.5046, 0.5187, 0.3239, 0.3104, 0.5459, -0.0814, 0.3646, 0.673, 0.2033, 0.0968, 0.3805, 1.4199, 1.4193, 1.4193, 1.419, 1.4188, 1.4187, 1.4186, 1.4184, 1.4184, 1.4183, 1.4182, 1.4181, 1.4179, 1.4178, 1.4177, 1.4174, 1.4169, 1.4168, 1.4165, 1.4162, 1.4158, 1.4156, 1.4155, 1.4153, 1.4151, 1.4148, 1.4148, 1.4147, 1.4147, 1.4146, 1.4132, 1.412, 1.4143, 1.412, 1.4113, 1.365, 1.3808, 1.3488, 1.2472, 1.3278, 1.1781, 1.2832, 1.1878, 1.3867, 1.1719, 1.228, 1.0218, 1.1949, 1.2489, 1.021, 1.3097, 0.894, 0.6814, 0.4701, 0.6005, 0.7826, 0.7318, 0.1074, 0.6474, 0.5306, 0.6979, 0.3908, 0.5056, 0.1193, -0.1621, 0.0176, 0.416, -0.484, -0.0544, -0.6997, 0.0184, 1.8324, 1.8322, 1.8319, 1.8317, 1.8317, 1.8316, 1.8313, 1.8312, 1.831, 1.83, 1.8295, 1.8293, 1.8293, 1.829, 1.8288, 1.8284, 1.8283, 1.8278, 1.8276, 1.8267, 1.8266, 1.8265, 1.8264, 1.8262, 1.8256, 1.8256, 1.8254, 1.8245, 1.8244, 1.8243, 1.8178, 1.8216, 1.8203, 1.8223, 1.8102, 1.8091, 1.8157, 1.81, 1.7969, 1.7938, 1.6842, 1.7261, 1.7107, 1.6139, 1.6458, 1.6232, 1.6327, 1.5307, 1.2779, 1.1871, 0.8705, 1.2037, 1.0295, 1.1439, 0.4758, 0.2806, 0.7588, 0.4006, 0.87]}, \"token.table\": {\"Topic\": [1, 2, 4, 3, 2, 1, 2, 4, 3, 4, 4, 1, 2, 3, 4, 1, 2, 3, 4, 2, 1, 3, 1, 1, 1, 2, 3, 4, 4, 1, 4, 2, 3, 4, 3, 1, 2, 3, 4, 1, 2, 3, 3, 1, 3, 4, 1, 3, 3, 1, 2, 3, 4, 1, 4, 1, 2, 1, 3, 4, 3, 2, 4, 1, 2, 3, 4, 1, 2, 3, 4, 1, 2, 3, 2, 4, 1, 2, 3, 2, 3, 3, 1, 2, 3, 4, 4, 1, 4, 3, 1, 2, 3, 4, 2, 3, 3, 2, 4, 1, 2, 3, 4, 2, 4, 2, 1, 2, 3, 4, 1, 2, 3, 4, 2, 1, 3, 4, 2, 3, 4, 1, 2, 3, 4, 2, 1, 2, 3, 4, 1, 2, 1, 2, 4, 2, 1, 4, 1, 3, 1, 4, 1, 2, 3, 4, 4, 2, 4, 1, 1, 2, 3, 4, 2, 2, 1, 1, 3, 1, 3, 1, 1, 3, 1, 4, 2, 3, 1, 2, 3, 1, 2, 3, 4, 1, 2, 3, 4, 3, 1, 4, 1, 2, 3, 4, 1, 1, 2, 3, 4, 1, 1, 2, 2, 2, 3, 1, 2, 3, 4, 1, 2, 3, 2, 3, 2, 1, 3, 4, 2, 1, 2, 3, 1, 2, 3, 4, 1, 2, 3, 4, 1, 3, 1, 1, 2, 3, 4, 1, 2, 4, 4, 1, 2, 3, 4, 3, 1, 2, 3, 4, 1, 2, 3, 4, 1, 4, 1, 2, 3, 2, 3, 3, 1, 2, 3, 4, 1, 2, 3, 4, 2, 3, 1, 2, 3, 4, 1, 2, 3, 1, 4, 1, 2, 3, 4, 1, 2, 3, 4, 2, 1, 2, 3, 4, 2, 1, 2, 3, 4, 3, 3, 1, 2, 4, 3, 2, 3, 1, 2, 3, 4, 1, 2, 3, 4, 1, 3, 4, 1, 2, 3, 3, 4, 1, 2, 3, 4, 2, 3, 3, 2, 1, 2, 4, 1, 2, 3, 4, 1, 2, 3, 4, 1, 2, 3, 1, 2, 3, 4, 1, 2, 3, 4, 4, 2, 3, 4, 1, 3, 1, 2, 3, 4, 1, 2, 3, 4, 4, 2, 3, 2, 3, 1, 2, 3, 4, 4, 1, 2, 1, 2, 3, 4, 1, 3, 4, 4, 3, 1, 2, 3, 4, 1, 2, 2, 3, 2, 1, 2, 3, 4, 1, 3, 1, 2, 3, 2, 3, 1, 2, 3, 1, 2, 3, 4, 1, 2, 3, 4, 1, 2, 3, 4, 4, 1, 3, 1, 2, 3, 4, 2, 1, 3, 1, 2, 3, 4, 1, 3, 4, 1, 2, 3, 4, 1, 2, 3, 4, 1, 1, 2, 1, 3, 1, 2, 3, 4, 1, 2, 3, 4, 1, 3, 4, 1, 4, 1, 4, 2, 1, 2, 3, 4, 1, 2, 4, 2, 4, 4, 1, 2, 2, 2, 4, 1, 2, 3, 4, 3, 1, 2, 3, 4, 2, 3, 1, 2, 3, 4, 1, 1, 2, 4, 1, 2, 3, 1, 2, 3, 4, 1, 2, 3, 4, 1, 4, 4, 4, 2, 4, 1, 2, 3, 4, 1, 2, 3, 4, 1, 4, 1, 2, 3, 4, 1, 2, 1, 3, 1, 3, 1, 4, 1, 2, 3, 4, 2, 3, 4, 1, 2, 4, 1, 3, 4, 1, 3, 1, 2, 3, 1, 2, 3, 4, 1, 2, 3, 4, 2, 3, 1, 2, 3, 4, 1, 2, 3, 4, 1, 2, 3, 4, 2, 4], \"Freq\": [0.0005534624994577983, 0.9967859615234947, 0.002213849997831193, 0.9962978808976839, 0.9977297022343004, 0.004481843073857164, 0.9949691623962906, 0.9951860790984739, 0.033402635132397954, 0.964222734155221, 0.9915664935185493, 0.08492372745593402, 0.41913968712122274, 0.4854349840384357, 0.010410005301049977, 0.9814954074369742, 0.0018277381888956688, 0.0018277381888956688, 0.01462190551116535, 0.9963262296756135, 0.7894292572651942, 0.21028211267844024, 0.9987341217739333, 0.9974678703678928, 0.05757490944358118, 0.742884025733198, 0.033538782200144376, 0.16601697189071468, 0.9994385492589613, 0.02110028088830789, 0.9772067586397591, 0.013352753619330011, 0.0012804010319905491, 0.9853600513332982, 0.9986543442774528, 0.010739163039019997, 0.06903747667941426, 0.842257215488854, 0.07824247357000283, 0.9980792154479259, 0.9967163632893781, 0.998964265946205, 0.9981421197255071, 0.9973569293127622, 0.002292335405430597, 0.0003820559009050995, 0.9965090122014422, 0.9962995943198857, 0.9996377121232557, 0.08305348444707834, 0.30883960384212966, 0.10543316588491383, 0.502299516715863, 0.996456343108436, 0.0023446031602551436, 0.18070250037542326, 0.8192621399657454, 0.7325792722169975, 0.11005568789988072, 0.15731886675259024, 0.9962544715434085, 0.997896051549436, 0.9985857457747311, 0.6237131014065587, 0.10100617026826861, 0.1863563841449556, 0.08888542983607638, 0.05245037588583923, 0.8039337089925577, 0.14086017978074727, 0.002748491312795069, 0.9897488877618499, 0.0023820671185604088, 0.007146201355681226, 0.0009430708433781185, 0.9987120231374275, 0.00047939329493545886, 0.9415284312532411, 0.05800658868719052, 0.005216152843361309, 0.9962851930820099, 0.9962368490133339, 0.17206263086890258, 0.31230066944294715, 0.41092193347756206, 0.1049162383346967, 0.9939140086878328, 0.1378080480088336, 0.8620792151091728, 0.9986526988142864, 0.1143654157935375, 0.8256347126888937, 0.01025869178214456, 0.049773652720775455, 0.9973280899164146, 0.0027569539458643113, 0.9962337356934764, 0.015130168546721988, 0.9834609555369292, 0.8173822970552864, 0.16729661841421656, 0.00461053672795085, 0.011197017767880636, 0.9984532585340765, 0.9922165681114905, 0.9980041920846267, 0.10742253369426942, 0.3815526786404947, 0.2723566597201406, 0.23891379545683034, 0.08013353929849099, 0.7580774646910342, 0.023401830060621263, 0.13828354126730746, 0.9988757579233883, 0.06057199417261137, 0.0541959947860207, 0.884988714858785, 0.9629786830750183, 0.006149289163952863, 0.030746445819764316, 0.002251777853722543, 0.09757704032797687, 0.0007505926179075144, 0.8992099562532022, 0.9973799513835224, 0.3474638966968646, 0.4633988573219225, 0.10877427188056901, 0.08047250208092252, 0.0036938538218567432, 0.9973405319013207, 0.9951036598655929, 0.00978290441364662, 0.9892962088300146, 0.9988759069132521, 0.9975111094547012, 0.9959482643500515, 0.004186312853128402, 0.9921561461914314, 0.01218279108666896, 0.9877432157960835, 0.013032470255045135, 0.4848329559304772, 0.12004910100320423, 0.38207694045800594, 0.9998777346068438, 0.988197779675422, 0.01214997270092732, 0.9997804291868023, 0.5802511282382884, 0.16097409426751746, 0.20545132956224196, 0.05340990179743065, 0.9975576319954987, 0.9957273239104485, 0.9972485423663029, 0.9004210685939478, 0.0997859072105418, 0.9884597825342936, 0.010120748626630992, 0.9944453535502623, 0.9969081240999941, 0.9962815608190202, 0.0210645777498045, 0.9779982526694947, 0.9992789718707041, 0.9979199035889436, 0.0023011330508042197, 0.199048008894565, 0.7984931686290643, 0.4055415827924472, 0.5885496668830308, 0.004872996321938617, 0.001082888071541915, 0.4085156363991434, 0.43628864010983914, 0.0017673729634079133, 0.15325648411265763, 0.999042904085762, 0.9982490448468712, 0.9939174408605346, 0.21620790431680725, 0.19263204240992135, 0.5911216107385049, 0.0005750210221191683, 0.9969993366901956, 0.06526836661096796, 0.6693633597991493, 0.055840713656050374, 0.20958397722855268, 0.9996908624769646, 0.04104187874592113, 0.9570219907571609, 0.9980223266924392, 0.029798929075292625, 0.9668096988872719, 0.11712018504765624, 0.7890770070952693, 0.08635589680933178, 0.007016416615758208, 0.0035382788363335213, 0.9942563530097195, 0.0035382788363335213, 0.06893508946669111, 0.9314643796230946, 0.9988500942589636, 0.9671912645291741, 0.031607557664352096, 0.9979506214614148, 0.9975905614967024, 0.019091915773811266, 0.9736877044643745, 0.006363971924603755, 0.5061215427234834, 0.2301626863873868, 0.24611748107919537, 0.017432090496605674, 0.5637082517161912, 0.14344811951096278, 0.22891193763788087, 0.06403483718064068, 0.9986212097309637, 0.0012031580840132093, 0.9989279575197374, 0.8012516478804939, 0.006983968404663576, 0.19174167801894546, 0.0006349062186057796, 0.8938081017703465, 0.0008162631066395858, 0.10529794075650657, 0.9972658303692435, 0.2218957041710761, 0.2603343300904751, 0.461700313600054, 0.05634753117730082, 0.9986518485956672, 0.018375195355483098, 0.8317647022630397, 0.03789884042068389, 0.11197384669747514, 0.06854348457073747, 0.5483478765658998, 0.000986237188068165, 0.38167379178237987, 0.022046572659144063, 0.9768327578205368, 0.9014043747421076, 0.0017876140302272832, 0.09697806113983012, 0.12791703438575805, 0.8716632200286656, 0.9962440186312963, 0.0023503649994181842, 0.007834549998060613, 0.0007834549998060613, 0.9887202097552494, 0.9916873843411713, 0.00624488277292929, 0.001248976554585858, 0.001248976554585858, 0.99713449428832, 0.9962830082167241, 0.0013056023930776953, 0.8447247483212689, 0.0013056023930776953, 0.15275547999009034, 0.997310938974936, 0.003549149249021124, 0.9962620496555257, 0.9992159353183823, 0.9924420168571901, 0.009483916584874769, 0.7630905190599236, 0.04960817905934494, 0.1780058189776495, 0.36005514572149944, 0.21817627282409907, 0.40077566815428806, 0.021003216833754133, 0.9964691300025651, 0.1464886611887603, 0.6318119647793489, 0.1789709295393115, 0.04267278391150844, 0.9982891481726137, 0.4871520964679278, 0.06706905251149857, 0.4406364632744691, 0.005408794557378917, 0.9962766527583747, 0.9983471671466745, 0.9992640801802671, 0.0028965645037493082, 0.996418189289762, 0.9963025760881036, 0.003377138909840012, 0.9962559784028036, 0.503214527279513, 0.12469032534359614, 0.35728573992684276, 0.015072456909665468, 0.017147773342721374, 0.8337084087104059, 0.01592293238966985, 0.1330993835649326, 0.9195048296500624, 0.008448742692037327, 0.07181431288231728, 0.9986720200345568, 0.9927059483075371, 0.0070907567736252656, 0.9962557637382534, 0.9902156431155181, 0.08301487185330006, 0.7661212907738064, 0.010597643215314902, 0.14041877260292246, 0.0019805598740717635, 0.9982021765321688, 0.9962922310800233, 0.9976726843953884, 0.010189124494145194, 0.025472811235362987, 0.9628722646967209, 0.0042775821768991276, 0.7464380898688978, 0.017645026479708902, 0.2315241353246653, 0.6691433520694717, 0.026902693248407127, 0.2934839263462595, 0.01076107729936285, 0.9001019122085545, 0.0012229645546311882, 0.09783716437049506, 0.05250703513930826, 0.3233844500635901, 0.5024972334827258, 0.12218926868867062, 0.16631372995236157, 0.1780854821631458, 0.20766578259024457, 0.4479302636103531, 0.9993591892360404, 0.21890775748464184, 0.6707558210106332, 0.11057648262685754, 0.03821666720822211, 0.9617861247402565, 0.18336624767968476, 0.24473629000655697, 0.03830978399798688, 0.5333614587680892, 0.30781054804484487, 0.40268162517171013, 0.19598758566333602, 0.09338406964838772, 0.9902137344657903, 0.9956709497386242, 0.003170926591524281, 0.0023222097029965095, 0.9985501722884991, 0.006327202091688047, 0.09701709873921673, 0.8963536296558067, 0.002109067363896016, 0.9946589774796264, 0.9986442656955831, 0.9980575098330464, 0.6078435011446864, 0.16500002015836113, 0.19010342056650176, 0.037289517111121495, 0.8567746158792943, 0.026994837630709707, 0.11628545440921104, 0.999348557162967, 0.9963011410947754, 0.006287591653980033, 0.02892292160830815, 0.1534172363571128, 0.8110993233634243, 0.00464743046402936, 0.9899026888382537, 0.9895009945246226, 0.007524722391822225, 0.9958769869062243, 0.9024024690732187, 0.017881158568161533, 0.07629294322415588, 0.002384154475754871, 0.9764452400792206, 0.023108220686668363, 0.0009795669986935427, 0.0009795669986935427, 0.99817877166872, 0.006918800669923202, 0.9928478961339795, 0.08174799008469914, 0.005542236615911807, 0.9116979233174921, 0.0013647243966054116, 0.08870708577935175, 0.07983637720141658, 0.8297524331360903, 0.30310681212939417, 0.30826503178475667, 0.3866208446447864, 0.0019650360591856996, 0.1066681925215195, 0.34434927015205247, 0.4776044295783351, 0.07111212834767967, 0.9961659989453159, 0.32851552316391364, 0.671508001585898, 0.0028285679899893485, 0.9881130845029458, 0.006128563978310255, 0.0028285679899893485, 0.998110132717915, 0.007399272150831704, 0.9915024682114483, 0.0008346387880862899, 0.3427583289741031, 0.1318729285176338, 0.5244313718475522, 0.9938565809424244, 0.005880808171256949, 0.0007351010214071186, 0.29285245941823473, 0.12816601753362744, 0.004651186120171963, 0.5743353527649381, 0.8065127200023215, 0.004951728135087163, 0.03899485906381141, 0.14978977608638666, 0.9961903315146756, 0.9935985289016774, 0.0039585598761023005, 0.05342410570994959, 0.9462477603346272, 0.09836785017996265, 0.11400938112730653, 0.7850310587683591, 0.002606921824557314, 0.33577355719612756, 0.257790047522418, 0.14896331899675777, 0.257520674432008, 0.8578025888631124, 0.01222521504317975, 0.13040229379391732, 0.003532609873977638, 0.9954894624868984, 0.9957101573516495, 0.9991820162540431, 0.9959543617846036, 0.01100897932049842, 0.0009174149433748683, 0.16972176452435064, 0.8192515444337574, 0.47562003168742584, 0.40935717897555535, 0.11485561136724215, 0.94546403330719, 0.05359461816712269, 0.9926658784653766, 0.9982697301434261, 0.9943274595110576, 0.997673039909802, 0.26046040360077044, 0.7392404437479957, 0.377457321122623, 0.4830041188169947, 0.024326771215803143, 0.11574834691390205, 0.9985233334169519, 0.12494372845892039, 0.04676256503725675, 0.7803503040592221, 0.048223895194671025, 0.8075657336555074, 0.19167524039775297, 0.9192690987265911, 0.001166585150668263, 0.017498777260023943, 0.0629955981360862, 0.9963591138313179, 0.0036732556702450355, 0.0036732556702450355, 0.9954522866364046, 0.0027296541055887562, 0.004094481158383134, 0.9935940944343072, 0.6036396646285289, 0.2967401156413736, 0.07958222787528993, 0.019895556968822482, 0.44649835871151106, 0.07109367295406537, 0.14030656090934593, 0.34155055577931936, 0.9954293215875462, 0.9995582816149412, 0.9987536791700319, 0.994668278909172, 0.9443032018658163, 0.05484589303766105, 0.20274273639150417, 0.18750528647481493, 0.3665453229959136, 0.24337593616934217, 0.24830537443135356, 0.4890799152084456, 0.05070054206671807, 0.21181795503605855, 0.00314848166137058, 0.9949202049931034, 0.0005278974192777957, 0.19584994255206223, 0.7923740263359714, 0.01108584580483371, 0.0012732299439872465, 0.9982122760860013, 0.008101149475942235, 0.9923908108029239, 0.7308664078357434, 0.26908264605427984, 0.9977888757607146, 0.0015004343996401724, 0.107395384411386, 0.02130515723140856, 0.06761126427518431, 0.8035087870131229, 0.9963554165465937, 0.0029988123899069787, 0.996846064071423, 0.9957221551978629, 0.00031650418156321136, 0.003798050178758536, 0.9727265254374289, 0.011580077683778915, 0.015440103578371885, 0.9954940254628586, 0.9962988966053941, 0.003604777358625324, 0.9949185509805893, 0.000901194339656331, 0.25694144626633697, 0.38665463287274693, 0.24600776770181199, 0.11033075642384295, 0.4489017157154138, 0.4697141054128511, 0.012200366374359768, 0.06889618658461986, 0.17442874102255077, 0.8251345408655415, 0.1463843489599516, 0.004691806056408705, 0.8410844323788671, 0.008132463831108421, 0.5279341168813285, 0.16406220595884477, 0.09896412882379857, 0.20921694154384793, 0.16601938514105152, 0.29067181385160845, 0.5283939234721838, 0.014892104314978043, 0.007435961132599841, 0.9914614843466455], \"Term\": [\"20\", \"20\", \"20\", \"2015\", \"212\", \"40\", \"40\", \"44\", \"aboard\", \"aboard\", \"abundance\", \"accident\", \"accident\", \"accident\", \"accident\", \"accountable\", \"accountable\", \"accountable\", \"accountable\", \"acrylate\", \"administration\", \"administration\", \"advice\", \"aid\", \"air\", \"air\", \"air\", \"air\", \"alabama\", \"alan\", \"alan\", \"another\", \"another\", \"another\", \"apply\", \"article\", \"article\", \"article\", \"article\", \"audio\", \"basically\", \"bear\", \"bearing\", \"biden\", \"biden\", \"biden\", \"biometrics\", \"bp\", \"brake\", \"break\", \"break\", \"break\", \"break\", \"brockovich\", \"brockovich\", \"burn\", \"burn\", \"buttigieg\", \"buttigieg\", \"buttigieg\", \"buyback\", \"caggiano\", \"calhoun\", \"call\", \"call\", \"call\", \"call\", \"car\", \"car\", \"car\", \"car\", \"care\", \"care\", \"care\", \"carolina\", \"carolina\", \"carry\", \"carry\", \"carry\", \"cash\", \"cash\", \"categorize\", \"cause\", \"cause\", \"cause\", \"cause\", \"central\", \"ceo\", \"ceo\", \"chair\", \"chemical\", \"chemical\", \"chemical\", \"chemical\", \"chloride\", \"chloride\", \"cincinnati\", \"clark\", \"clark\", \"clean\", \"clean\", \"clean\", \"clean\", \"cleveland\", \"clinic\", \"collides\", \"company\", \"company\", \"company\", \"company\", \"concern\", \"concern\", \"concern\", \"concern\", \"conductor\", \"congress\", \"congress\", \"congress\", \"contaminate\", \"contaminate\", \"contaminate\", \"county\", \"county\", \"county\", \"county\", \"craft\", \"crash\", \"crash\", \"crash\", \"crash\", \"creek\", \"creek\", \"crime\", \"danger\", \"danger\", \"de\", \"declare\", \"deeply\", \"delivers\", \"delivers\", \"demand\", \"demand\", \"derail\", \"derail\", \"derail\", \"derail\", \"derails\", \"detroit\", \"detroit\", \"dewine\", \"disaster\", \"disaster\", \"disaster\", \"disaster\", \"discover\", \"disposal\", \"diversity\", \"donald\", \"donald\", \"donate\", \"donate\", \"donation\", \"donor\", \"donovanlawtampa\", \"door\", \"door\", \"dump\", \"ecp\", \"effect\", \"effect\", \"effect\", \"environmental\", \"environmental\", \"environmental\", \"environmental\", \"epa\", \"epa\", \"epa\", \"epa\", \"era\", \"erin\", \"estimate\", \"even\", \"even\", \"even\", \"even\", \"farmer\", \"feb\", \"feb\", \"feb\", \"feb\", \"fema\", \"fiery\", \"fiery\", \"file\", \"film\", \"film\", \"fire\", \"fire\", \"fire\", \"fire\", \"five\", \"five\", \"five\", \"flammable\", \"flammable\", \"footage\", \"former\", \"former\", \"foxbusiness\", \"gallon\", \"gas\", \"gas\", \"gas\", \"get\", \"get\", \"get\", \"get\", \"go\", \"go\", \"go\", \"go\", \"gop\", \"gop\", \"gov\", \"government\", \"government\", \"government\", \"government\", \"governor\", \"governor\", \"governor\", \"grill\", \"happen\", \"happen\", \"happen\", \"happen\", \"hazard\", \"hazardous\", \"hazardous\", \"hazardous\", \"hazardous\", \"health\", \"health\", \"health\", \"health\", \"hearing\", \"hearing\", \"help\", \"help\", \"help\", \"high\", \"high\", \"homendy\", \"hour\", \"hour\", \"hour\", \"hour\", \"house\", \"house\", \"house\", \"house\", \"illusion\", \"intake\", \"involve\", \"involve\", \"involve\", \"involve\", \"jd\", \"jd\", \"jennifer\", \"joe\", \"justthenews\", \"kill\", \"kill\", \"kill\", \"kill\", \"know\", \"know\", \"know\", \"know\", \"la\", \"last\", \"last\", \"last\", \"last\", \"lawsuit\", \"like\", \"like\", \"like\", \"like\", \"litigation\", \"lobby\", \"maga\", \"mailonline\", \"mailonline\", \"mainstream\", \"maintenance\", \"maintenance\", \"make\", \"make\", \"make\", \"make\", \"material\", \"material\", \"material\", \"material\", \"mayor\", \"mayor\", \"mayor\", \"mike\", \"mile\", \"mile\", \"mixed\", \"mom\", \"month\", \"month\", \"month\", \"month\", \"movie\", \"movie\", \"multidistrict\", \"multimillion\", \"nbcnews\", \"nbcnews\", \"nbcnews\", \"near\", \"near\", \"near\", \"near\", \"need\", \"need\", \"need\", \"need\", \"never\", \"never\", \"never\", \"new\", \"new\", \"new\", \"new\", \"news\", \"news\", \"news\", \"news\", \"north\", \"ntsb\", \"ntsb\", \"ntsb\", \"obama\", \"obama\", \"official\", \"official\", \"official\", \"official\", \"one\", \"one\", \"one\", \"one\", \"outage\", \"outside\", \"outside\", \"overheat\", \"overheat\", \"own\", \"own\", \"own\", \"own\", \"panel\", \"party\", \"pause\", \"people\", \"people\", \"people\", \"people\", \"pete\", \"pete\", \"pete\", \"petition\", \"placarded\", \"place\", \"place\", \"place\", \"place\", \"plane\", \"plane\", \"plume\", \"plume\", \"pollutant\", \"potus\", \"potus\", \"potus\", \"potus\", \"president\", \"president\", \"prevent\", \"prevent\", \"prevent\", \"preventable\", \"preventable\", \"profit\", \"profit\", \"profit\", \"public\", \"public\", \"public\", \"public\", \"rail\", \"rail\", \"rail\", \"rail\", \"railroad\", \"railroad\", \"railroad\", \"railroad\", \"rash\", \"regulation\", \"regulation\", \"release\", \"release\", \"release\", \"release\", \"removal\", \"repeal\", \"repeal\", \"report\", \"report\", \"report\", \"report\", \"republican\", \"republican\", \"republican\", \"resident\", \"resident\", \"resident\", \"resident\", \"response\", \"response\", \"response\", \"response\", \"reveals\", \"review\", \"review\", \"rule\", \"rule\", \"safety\", \"safety\", \"safety\", \"safety\", \"say\", \"say\", \"say\", \"say\", \"secretary\", \"secretary\", \"secretary\", \"senate\", \"senate\", \"shapiro\", \"shelter\", \"shipment\", \"sign\", \"sign\", \"sign\", \"sign\", \"site\", \"site\", \"site\", \"soil\", \"soil\", \"sooner\", \"sound\", \"spark\", \"specialist\", \"springfield\", \"springfield\", \"state\", \"state\", \"state\", \"state\", \"stock\", \"stop\", \"stop\", \"stop\", \"stop\", \"sue\", \"sue\", \"support\", \"support\", \"support\", \"support\", \"surveil\", \"symptom\", \"symptom\", \"symptom\", \"system\", \"system\", \"system\", \"take\", \"take\", \"take\", \"take\", \"tell\", \"tell\", \"tell\", \"tell\", \"terrorist\", \"testifies\", \"testify\", \"testimony\", \"texas\", \"texas\", \"time\", \"time\", \"time\", \"time\", \"toxic\", \"toxic\", \"toxic\", \"toxic\", \"trail\", \"trail\", \"train\", \"train\", \"train\", \"train\", \"truck\", \"truck\", \"truckloads\", \"truckloads\", \"trump\", \"trump\", \"ukraine\", \"ukraine\", \"via\", \"via\", \"via\", \"via\", \"vinyl\", \"vinyl\", \"virginia\", \"visit\", \"visit\", \"visit\", \"vote\", \"vote\", \"vote\", \"voter\", \"wall\", \"waste\", \"waste\", \"waste\", \"water\", \"water\", \"water\", \"water\", \"week\", \"week\", \"week\", \"week\", \"wheel\", \"wheel\", \"would\", \"would\", \"would\", \"would\", \"wreck\", \"wreck\", \"wreck\", \"wreck\", \"year\", \"year\", \"year\", \"year\", \"youtube\", \"youtube\"]}, \"R\": 30, \"lambda.step\": 0.01, \"plot.opts\": {\"xlab\": \"PC1\", \"ylab\": \"PC2\"}, \"topic.order\": [2, 4, 3, 1]};\n",
       "\n",
       "function LDAvis_load_lib(url, callback){\n",
       "  var s = document.createElement('script');\n",
       "  s.src = url;\n",
       "  s.async = true;\n",
       "  s.onreadystatechange = s.onload = callback;\n",
       "  s.onerror = function(){console.warn(\"failed to load library \" + url);};\n",
       "  document.getElementsByTagName(\"head\")[0].appendChild(s);\n",
       "}\n",
       "\n",
       "if(typeof(LDAvis) !== \"undefined\"){\n",
       "   // already loaded: just create the visualization\n",
       "   !function(LDAvis){\n",
       "       new LDAvis(\"#\" + \"ldavis_el18620108023506725199793493\", ldavis_el18620108023506725199793493_data);\n",
       "   }(LDAvis);\n",
       "}else if(typeof define === \"function\" && define.amd){\n",
       "   // require.js is available: use it to load d3/LDAvis\n",
       "   require.config({paths: {d3: \"https://d3js.org/d3.v5\"}});\n",
       "   require([\"d3\"], function(d3){\n",
       "      window.d3 = d3;\n",
       "      LDAvis_load_lib(\"https://cdn.jsdelivr.net/gh/bmabey/pyLDAvis@3.3.1/pyLDAvis/js/ldavis.v3.0.0.js\", function(){\n",
       "        new LDAvis(\"#\" + \"ldavis_el18620108023506725199793493\", ldavis_el18620108023506725199793493_data);\n",
       "      });\n",
       "    });\n",
       "}else{\n",
       "    // require.js not available: dynamically load d3 & LDAvis\n",
       "    LDAvis_load_lib(\"https://d3js.org/d3.v5.js\", function(){\n",
       "         LDAvis_load_lib(\"https://cdn.jsdelivr.net/gh/bmabey/pyLDAvis@3.3.1/pyLDAvis/js/ldavis.v3.0.0.js\", function(){\n",
       "                 new LDAvis(\"#\" + \"ldavis_el18620108023506725199793493\", ldavis_el18620108023506725199793493_data);\n",
       "            })\n",
       "         });\n",
       "}\n",
       "</script>"
      ],
      "text/plain": [
       "PreparedData(topic_coordinates=              x         y  topics  cluster       Freq\n",
       "topic                                                \n",
       "1      0.120229 -0.111512       1        1  31.863366\n",
       "3     -0.047036  0.198256       2        1  27.970858\n",
       "2      0.180722  0.001626       3        1  24.165724\n",
       "0     -0.253914 -0.088369       4        1  16.000052, topic_info=          Term         Freq        Total Category  logprob  loglift\n",
       "870    another  5467.000000  5467.000000  Default  30.0000  30.0000\n",
       "3042   derails  4092.000000  4092.000000  Default  29.0000  29.0000\n",
       "1961       ceo  4172.000000  4172.000000  Default  28.0000  28.0000\n",
       "11380      via  4599.000000  4599.000000  Default  27.0000  27.0000\n",
       "1354     biden  5234.000000  5234.000000  Default  26.0000  26.0000\n",
       "...        ...          ...          ...      ...      ...      ...\n",
       "9324       say  1911.837430  7424.646601   Topic4  -4.3486   0.4758\n",
       "10813    toxic  1997.191193  9427.907090   Topic4  -4.3049   0.2806\n",
       "10443     tell   908.434510  2658.464420   Topic4  -5.0927   0.7588\n",
       "2327   company   942.704936  3947.030343   Topic4  -5.0557   0.4006\n",
       "4915    health   774.436146  2027.909740   Topic4  -5.2523   0.8700\n",
       "\n",
       "[305 rows x 6 columns], token_table=       Topic      Freq     Term\n",
       "term                           \n",
       "130        1  0.000553       20\n",
       "130        2  0.996786       20\n",
       "130        4  0.002214       20\n",
       "143        3  0.996298     2015\n",
       "159        2  0.997730      212\n",
       "...      ...       ...      ...\n",
       "11912      2  0.290672     year\n",
       "11912      3  0.528394     year\n",
       "11912      4  0.014892     year\n",
       "11935      2  0.007436  youtube\n",
       "11935      4  0.991461  youtube\n",
       "\n",
       "[576 rows x 3 columns], R=30, lambda_step=0.01, plot_opts={'xlab': 'PC1', 'ylab': 'PC2'}, topic_order=[2, 4, 3, 1])"
      ]
     },
     "execution_count": 211,
     "metadata": {},
     "output_type": "execute_result"
    }
   ],
   "source": [
    "#12000\n",
    "pyLDAvis.sklearn.prepare(lda, tf, tf_vectorizer)"
   ]
  },
  {
   "cell_type": "code",
   "execution_count": 212,
   "metadata": {},
   "outputs": [],
   "source": [
    "#15000\n",
    "# pyLDAvis.sklearn.prepare(lda, tf, tf_vectorizer)"
   ]
  },
  {
   "cell_type": "markdown",
   "metadata": {},
   "source": []
  },
  {
   "cell_type": "code",
   "execution_count": null,
   "metadata": {},
   "outputs": [],
   "source": [
    "tweet_topic(data_people, lda, tf, 14)"
   ]
  },
  {
   "cell_type": "code",
   "execution_count": 213,
   "metadata": {},
   "outputs": [
    {
     "name": "stdout",
     "output_type": "stream",
     "text": [
      "Loglikelihood: -6901292.724032542\n",
      "Perplexity: 1745.8362936854046\n"
     ]
    }
   ],
   "source": [
    "# Metrics part 2\n",
    "\n",
    "\n",
    "# 2. Loglikelihood\n",
    "loglikelihood_people = lda.score(tf)\n",
    "perplexity_people = lda.perplexity(tf)\n",
    "\n",
    "print(f'Loglikelihood: {loglikelihood_people}')\n",
    "print(f'Perplexity: {perplexity_people}')\n",
    "\n",
    "# INTERPRETATION MISSING"
   ]
  },
  {
   "cell_type": "code",
   "execution_count": null,
   "metadata": {},
   "outputs": [],
   "source": []
  },
  {
   "attachments": {},
   "cell_type": "markdown",
   "metadata": {},
   "source": [
    "# Until here, the rest need editing and deleting !!!"
   ]
  },
  {
   "cell_type": "code",
   "execution_count": null,
   "metadata": {},
   "outputs": [],
   "source": []
  },
  {
   "attachments": {},
   "cell_type": "markdown",
   "metadata": {},
   "source": [
    "## cut"
   ]
  },
  {
   "cell_type": "code",
   "execution_count": 117,
   "metadata": {},
   "outputs": [],
   "source": [
    "word1 = 'year'\n",
    "word2 = 'team'\n",
    "\n",
    "word1_column_idx = tf_vectorizer.vocabulary_[word1]\n",
    "word2_column_idx = tf_vectorizer.vocabulary_[word2]"
   ]
  },
  {
   "cell_type": "code",
   "execution_count": null,
   "metadata": {},
   "outputs": [],
   "source": [
    "np.array(tf.todense())"
   ]
  },
  {
   "cell_type": "code",
   "execution_count": null,
   "metadata": {},
   "outputs": [],
   "source": [
    "tf[:, word1_column_idx].toarray()"
   ]
  },
  {
   "cell_type": "code",
   "execution_count": null,
   "metadata": {},
   "outputs": [],
   "source": [
    "documents_with_word1 = (tf[:, word1_column_idx].toarray().flatten() > 0)"
   ]
  },
  {
   "cell_type": "code",
   "execution_count": null,
   "metadata": {},
   "outputs": [],
   "source": [
    "documents_with_word2 = (tf[:, word2_column_idx].toarray().flatten() > 0)"
   ]
  },
  {
   "cell_type": "code",
   "execution_count": null,
   "metadata": {},
   "outputs": [],
   "source": [
    "documents_with_both_word1_and_word2 = documents_with_word1 * documents_with_word2"
   ]
  },
  {
   "cell_type": "code",
   "execution_count": null,
   "metadata": {},
   "outputs": [],
   "source": [
    "documents_with_both_word1_and_word2"
   ]
  },
  {
   "cell_type": "markdown",
   "metadata": {},
   "source": [
    "Next, we compute the log of the conditional probability of word 1 appearing given that word 2 appeared, where we add in a little bit of a fudge factor in the numerator (in this case, it's actually not needed but some times you do have two words that do not co-occur for which you run into a numerical issue due to taking the log of 0)."
   ]
  },
  {
   "cell_type": "code",
   "execution_count": null,
   "metadata": {},
   "outputs": [],
   "source": [
    "eps = 0.1\n",
    "np.log2((documents_with_both_word1_and_word2.sum() + eps) / documents_with_word2.sum())"
   ]
  },
  {
   "cell_type": "code",
   "execution_count": 29,
   "metadata": {},
   "outputs": [],
   "source": [
    "# compute log of prob of see one word given you see another, using count vectorizer!\n",
    "# Same content as in hw , but with a different tool\n",
    "# This uses np.arrays instead of counters. Needs to kep track of the indexes.\n",
    "# Understad how countvectorizer works\n",
    "\n",
    "def prob_see_word1_given_see_word2(word1, word2, vectorizer, eps=0.1):\n",
    "    word1_column_idx = vectorizer.vocabulary_[word1]\n",
    "    word2_column_idx = vectorizer.vocabulary_[word2]\n",
    "    documents_with_word1 = (tf[:, word1_column_idx].toarray().flatten() > 0)\n",
    "    documents_with_word2 = (tf[:, word2_column_idx].toarray().flatten() > 0)\n",
    "    documents_with_both_word1_and_word2 = documents_with_word1 * documents_with_word2\n",
    "    return np.log2((documents_with_both_word1_and_word2.sum() + eps) / documents_with_word2.sum())"
   ]
  },
  {
   "cell_type": "code",
   "execution_count": null,
   "metadata": {},
   "outputs": [],
   "source": [
    "type(word1), type(word2)"
   ]
  },
  {
   "cell_type": "markdown",
   "metadata": {},
   "source": [
    "## Topic coherence\n",
    "\n",
    "The below code shows how one implements the topic coherence calculation from lecture."
   ]
  },
  {
   "cell_type": "code",
   "execution_count": null,
   "metadata": {},
   "outputs": [],
   "source": [
    "# In the cell below, vectorizer.get_feature_names() is just tokenizing the text, \n",
    "# eliminating stopwords, eliminating some other words, and then giving you back\n",
    "# a list of the tokens in string format"
   ]
  },
  {
   "cell_type": "code",
   "execution_count": 30,
   "metadata": {},
   "outputs": [],
   "source": [
    "# topic coherence\n",
    "\n",
    "def compute_average_coherence(topic_word_distributions, num_top_words, vectorizer, verbose=True):\n",
    "    vocab = vectorizer.get_feature_names()\n",
    "    num_topics = len(topic_word_distributions)\n",
    "    average_coherence = 0\n",
    "    # foor loop thru different topics, for each topic double nested for loop, going thru each entry, ordering matters\n",
    "    # make sure words arent the same, then compute the log(prob)\n",
    "    # add a bunhc of them and divide by total number of topics\n",
    "    for topic_idx in range(num_topics):\n",
    "        if verbose:\n",
    "            print('[Topic ', topic_idx, ']', sep='')\n",
    "        \n",
    "        sort_indices = np.argsort(topic_word_distributions[topic_idx])[::-1]\n",
    "        coherence = 0.\n",
    "        for top_word_idx1 in sort_indices[:num_top_words]:\n",
    "            word1 = vocab[top_word_idx1]\n",
    "            for top_word_idx2 in sort_indices[:num_top_words]:\n",
    "                word2 = vocab[top_word_idx2]\n",
    "                if top_word_idx1 != top_word_idx2:\n",
    "                    coherence += prob_see_word1_given_see_word2(word1, word2, vectorizer, 0.1)\n",
    "        \n",
    "        if verbose:\n",
    "            print('Coherence:', coherence)\n",
    "            print()\n",
    "        average_coherence += coherence\n",
    "    average_coherence /= num_topics\n",
    "    if verbose:\n",
    "        print('Average coherence:', average_coherence)\n",
    "    return average_coherence"
   ]
  },
  {
   "cell_type": "code",
   "execution_count": 31,
   "metadata": {},
   "outputs": [
    {
     "name": "stdout",
     "output_type": "stream",
     "text": [
      "[Topic 0]\n",
      "Coherence: -1803.9963547838227\n",
      "\n",
      "[Topic 1]\n",
      "Coherence: -1480.571439744989\n",
      "\n",
      "[Topic 2]\n",
      "Coherence: -1525.9302693585266\n",
      "\n",
      "[Topic 3]\n",
      "Coherence: -1552.8652033153915\n",
      "\n",
      "[Topic 4]\n",
      "Coherence: -1614.3602279209074\n",
      "\n",
      "Average coherence: -1595.5446990247274\n"
     ]
    },
    {
     "data": {
      "text/plain": [
       "-1595.5446990247274"
      ]
     },
     "execution_count": 31,
     "metadata": {},
     "output_type": "execute_result"
    }
   ],
   "source": [
    "compute_average_coherence(topic_word_distributions, num_top_words, tf_vectorizer, True)\n",
    "# These are negative, the highest possible is zero."
   ]
  },
  {
   "cell_type": "markdown",
   "metadata": {},
   "source": [
    "## Number of unique words\n",
    "\n",
    "The below code shows how one implements the number of unique words calculation from lecture."
   ]
  },
  {
   "cell_type": "code",
   "execution_count": 32,
   "metadata": {},
   "outputs": [],
   "source": [
    "# brute force implementation\n",
    "# nothing clever to speed upmcalculation\n",
    "\n",
    "#fro loop for each topic\n",
    "# For loop over each top word\n",
    "# another for loop for other topics\n",
    "# lok for all other top words in those other topics\n",
    "# check for uniqueness\n",
    "\n",
    "def compute_average_num_unique_words(topic_word_distributions, num_top_words, vectorizer, verbose=True):\n",
    "    vocab = vectorizer.get_feature_names()\n",
    "    num_topics = len(topic_word_distributions)\n",
    "    average_number_of_unique_top_words = 0\n",
    "    for topic_idx1 in range(num_topics):\n",
    "        if verbose:\n",
    "            print('[Topic ', topic_idx1, ']', sep='')\n",
    "        \n",
    "        sort_indices1 = np.argsort(topic_word_distributions[topic_idx1])[::-1]\n",
    "        num_unique_top_words = 0\n",
    "        for top_word_idx1 in sort_indices1[:num_top_words]:\n",
    "            word1 = vocab[top_word_idx1]\n",
    "            break_ = False\n",
    "            for topic_idx2 in range(num_topics):\n",
    "                if topic_idx1 != topic_idx2:\n",
    "                    sort_indices2 = np.argsort(topic_word_distributions[topic_idx2])[::-1]\n",
    "                    for top_word_idx2 in sort_indices2[:num_top_words]:\n",
    "                        word2 = vocab[top_word_idx2]\n",
    "                        if word1 == word2:\n",
    "                            break_ = True\n",
    "                            break\n",
    "                    if break_:\n",
    "                        break\n",
    "            else:\n",
    "                num_unique_top_words += 1\n",
    "        if verbose:\n",
    "            print('Number of unique top words:', num_unique_top_words)\n",
    "            print()\n",
    "\n",
    "        average_number_of_unique_top_words += num_unique_top_words\n",
    "    average_number_of_unique_top_words /= num_topics\n",
    "    \n",
    "    if verbose:\n",
    "        print('Average number of unique top words:', average_number_of_unique_top_words)\n",
    "    \n",
    "    return average_number_of_unique_top_words"
   ]
  },
  {
   "cell_type": "code",
   "execution_count": 33,
   "metadata": {},
   "outputs": [
    {
     "name": "stdout",
     "output_type": "stream",
     "text": [
      "[Topic 0]\n",
      "Number of unique top words: 12\n",
      "\n",
      "[Topic 1]\n",
      "Number of unique top words: 18\n",
      "\n",
      "[Topic 2]\n",
      "Number of unique top words: 10\n",
      "\n",
      "[Topic 3]\n",
      "Number of unique top words: 11\n",
      "\n",
      "[Topic 4]\n",
      "Number of unique top words: 13\n",
      "\n",
      "Average number of unique top words: 12.8\n"
     ]
    },
    {
     "data": {
      "text/plain": [
       "12.8"
      ]
     },
     "execution_count": 33,
     "metadata": {},
     "output_type": "execute_result"
    }
   ],
   "source": [
    "compute_average_num_unique_words(topic_word_distributions, num_top_words, tf_vectorizer, True)"
   ]
  },
  {
   "cell_type": "markdown",
   "metadata": {},
   "source": [
    "## Plotting average coherence vs k (number of topics), and average number of unique words vs k\n",
    "\n",
    "Next, we plot the average coherence vs k and the average number of unique words vs k. Note that these are *not* the only topic model metrics available (much like how CH index is not the only metric available for clustering).\n",
    "\n",
    "For both average coherence and average number of unique words, we would like these to be high. In this particular example, it turns out k=2 yields very high values for both but if you look at the topics learned for k=2, they are qualitatively quite bad (basically one topic is gibberish and the other is everything else!). This observation reinforces the important idea that while there exist topic modeling metrics (such as coherence and number of unique words), you should definitely still look at what the learned topics are (e.g., by printing the top words per topic) to help decide on what value of k to use.\n",
    "\n",
    "Also, keep in mind that the results are in some sense \"noisy\" since the LDA fitting procedure is random. We're choosing a specific `random_state` seed value but if we try different random seeds, we can get different results. For simplicity, because LDA fitting is quite computationally expensive, we are *not* doing what we did with GMM's where we did many different random initializations. Thus, the conclusions we draw regarding how many topics to use might actually be different with different random initializations.\n",
    "\n",
    "At least according to average coherence and average number of unique words for the random seed we use, the results below suggests that using k=4 yields average coherence and average number of unique words that are still reasonably high (as good as or almost as good as the k=2 result), and inspecting the topics learned for k=4, they are definitely more interesting than the ones learned for k=2.\n",
    "\n",
    "From qualitatively looking at topics, the k=5, k=6, and k=7 topics also look decent. When k gets too large (e.g., k=10), there start to be topics that look like there might be too much overlap (such as multiple topics that seem to be about computers).\n",
    "\n",
    "Note that one of the things to look out for is whether there are \"stable\" topics, where even for slightly different values of k and different random initializations, LDA keeps finding specific topics (e.g., one on gibberish, one on numbers, etc)."
   ]
  },
  {
   "cell_type": "code",
   "execution_count": 38,
   "metadata": {},
   "outputs": [
    {
     "name": "stdout",
     "output_type": "stream",
     "text": [
      "--------------------------------------------------------------------------------\n",
      "Number of topics: 2\n",
      "\n",
      "Displaying the top 20 words per topic and their probabilities within the topic...\n",
      "\n",
      "[Topic 0]\n",
      "toxic : 0.018947190874659656\n",
      "chemical : 0.0146115452622207\n",
      "resident : 0.010830155655439894\n",
      "epa : 0.007999680723243629\n",
      "disaster : 0.006966187494212401\n",
      "say : 0.006606448271329401\n",
      "via : 0.006232089935997095\n",
      "people : 0.005913273839575192\n",
      "rail : 0.005855525932622772\n",
      "ceo : 0.005576890298219318\n",
      "week : 0.00526333465928172\n",
      "crash : 0.005061909876325971\n",
      "pay : 0.004480046732685991\n",
      "water : 0.004477018407464085\n",
      "town : 0.004397929397226687\n",
      "site : 0.0042968358211493375\n",
      "health : 0.004232030415188725\n",
      "environmental : 0.004013384752745299\n",
      "make : 0.003954174126354031\n",
      "air : 0.003689459403823465\n",
      "\n",
      "[Topic 1]\n",
      "trump : 0.01634969760232949\n",
      "derail : 0.015011308697711551\n",
      "another : 0.011362601118430776\n",
      "say : 0.010169433813758904\n",
      "safety : 0.009975825059334477\n",
      "biden : 0.009940841871689083\n",
      "car : 0.009550665099861032\n",
      "derails : 0.008420039311766166\n",
      "hazardous : 0.007467425834262224\n",
      "go : 0.006694118184305232\n",
      "visit : 0.006507923267303166\n",
      "buttigieg : 0.006488923577766188\n",
      "would : 0.006411988940496926\n",
      "material : 0.005634671412277326\n",
      "regulation : 0.005322409264333314\n",
      "pete : 0.005264842563668584\n",
      "company : 0.005216760014175944\n",
      "one : 0.005105220997306266\n",
      "rule : 0.004692355827638666\n",
      "report : 0.004575816862409945\n",
      "\n",
      "\n",
      "\n",
      "--------------------------------------------------------------------------------\n",
      "Number of topics: 3\n",
      "\n",
      "Displaying the top 20 words per topic and their probabilities within the topic...\n",
      "\n",
      "[Topic 0]\n",
      "toxic : 0.01023355063171308\n",
      "rail : 0.009504396348593179\n",
      "ceo : 0.008340562309136776\n",
      "epa : 0.008236270734557488\n",
      "resident : 0.007461001085057629\n",
      "like : 0.0070624296939894825\n",
      "safety : 0.006373299935510663\n",
      "chemical : 0.006253984502984596\n",
      "people : 0.005888048858391378\n",
      "via : 0.005871617571850233\n",
      "disaster : 0.00585624005327073\n",
      "company : 0.005531521835646027\n",
      "say : 0.005345007148220003\n",
      "pay : 0.00522843991399548\n",
      "worker : 0.004754858004865517\n",
      "make : 0.004731594547112623\n",
      "get : 0.004694244697626469\n",
      "us : 0.0044558954452675595\n",
      "tell : 0.0042970899140246915\n",
      "senate : 0.004129599337588516\n",
      "\n",
      "[Topic 1]\n",
      "derail : 0.030211992249200653\n",
      "another : 0.020492888176724976\n",
      "car : 0.0172513636334293\n",
      "derails : 0.015177248156519944\n",
      "hazardous : 0.014210087533388347\n",
      "say : 0.01173519094438522\n",
      "material : 0.010169967362013994\n",
      "safety : 0.00939550300997033\n",
      "rule : 0.008388290343985976\n",
      "trump : 0.008265238339258917\n",
      "company : 0.008229183840943195\n",
      "would : 0.008068253144901873\n",
      "springfield : 0.008060764621716109\n",
      "alabama : 0.008047957439337991\n",
      "report : 0.00753717438788766\n",
      "brake : 0.007178678632659467\n",
      "20 : 0.007125041877683239\n",
      "carry : 0.006829906753838116\n",
      "freight : 0.006494431556078246\n",
      "place : 0.006146292375582899\n",
      "\n",
      "[Topic 2]\n",
      "toxic : 0.01696342849095113\n",
      "chemical : 0.014450675617403012\n",
      "biden : 0.013407041742828312\n",
      "trump : 0.013376286417079478\n",
      "water : 0.011388011143568954\n",
      "visit : 0.009279376398728124\n",
      "say : 0.008843177312988946\n",
      "buttigieg : 0.008268429525629001\n",
      "disaster : 0.008253295689051117\n",
      "resident : 0.007355114348753984\n",
      "pete : 0.006936351746047361\n",
      "town : 0.0060273738317453045\n",
      "president : 0.006008840858724464\n",
      "people : 0.005465310633847379\n",
      "week : 0.0054147264166713545\n",
      "site : 0.005321286267608076\n",
      "state : 0.005164186068013076\n",
      "go : 0.005107170085055596\n",
      "release : 0.004677687156364966\n",
      "dewine : 0.004345415516314407\n",
      "\n",
      "\n",
      "\n",
      "--------------------------------------------------------------------------------\n",
      "Number of topics: 4\n",
      "\n",
      "Displaying the top 20 words per topic and their probabilities within the topic...\n",
      "\n",
      "[Topic 0]\n",
      "toxic : 0.019109299293063424\n",
      "ceo : 0.014923148368793515\n",
      "resident : 0.014032535894965403\n",
      "epa : 0.012880097059215922\n",
      "chemical : 0.012055885985278793\n",
      "via : 0.011039836351194989\n",
      "rail : 0.008261465726107668\n",
      "pay : 0.007074146528604315\n",
      "say : 0.0069376617126327865\n",
      "tell : 0.006885196688547245\n",
      "senate : 0.006883262743183415\n",
      "congress : 0.006599828068642475\n",
      "worker : 0.006277101473757908\n",
      "crash : 0.005741687794560437\n",
      "clean : 0.0057331420386155015\n",
      "order : 0.005672258700306906\n",
      "week : 0.005322239066502825\n",
      "company : 0.005293422135944193\n",
      "disaster : 0.005077140447718318\n",
      "site : 0.005028399356037468\n",
      "\n",
      "[Topic 1]\n",
      "derail : 0.0386118578493583\n",
      "another : 0.02775513784486114\n",
      "car : 0.02332374806901548\n",
      "derails : 0.020483019699128382\n",
      "hazardous : 0.016970728264387933\n",
      "material : 0.01377240935500586\n",
      "say : 0.012975360945835873\n",
      "springfield : 0.010917852908276593\n",
      "alabama : 0.010275916159686593\n",
      "company : 0.010241773857462177\n",
      "20 : 0.009650838779189153\n",
      "carry : 0.00829905537191412\n",
      "freight : 0.008126224217172481\n",
      "safety : 0.007981659384084227\n",
      "place : 0.00791534314766714\n",
      "report : 0.007798574830620281\n",
      "cargo : 0.007402796580398657\n",
      "rule : 0.007105469425994468\n",
      "train : 0.007012888757794708\n",
      "second : 0.006587839745918873\n",
      "\n",
      "[Topic 2]\n",
      "toxic : 0.022008512747863085\n",
      "chemical : 0.01896722758512501\n",
      "water : 0.012895261867155868\n",
      "say : 0.010827548250814941\n",
      "visit : 0.008920669340034453\n",
      "resident : 0.007981457800256109\n",
      "site : 0.007547501653377204\n",
      "town : 0.0073920692179010915\n",
      "state : 0.007043293385695993\n",
      "release : 0.006883585340615956\n",
      "federal : 0.006599997436781134\n",
      "week : 0.006526304884290921\n",
      "safety : 0.006415177320643226\n",
      "follow : 0.006174718066702522\n",
      "disaster : 0.005761117423299645\n",
      "health : 0.005644195905535136\n",
      "biden : 0.00553243794090501\n",
      "air : 0.005398272085328734\n",
      "epa : 0.005335739228082774\n",
      "dewine : 0.005234660770348556\n",
      "\n",
      "[Topic 3]\n",
      "trump : 0.021005122899025962\n",
      "biden : 0.011623020281198826\n",
      "people : 0.00897159219499902\n",
      "disaster : 0.008293985594980725\n",
      "go : 0.008005207979875506\n",
      "regulation : 0.00796871155018297\n",
      "buttigieg : 0.0069646018842054\n",
      "safety : 0.006773281166151351\n",
      "get : 0.0060919760023181654\n",
      "like : 0.0060039051233090465\n",
      "pete : 0.005785231178103724\n",
      "would : 0.005674729353438205\n",
      "blame : 0.005354458627448547\n",
      "need : 0.005146898900987625\n",
      "gop : 0.004752947956861332\n",
      "say : 0.004634640109591115\n",
      "administration : 0.004602304880761151\n",
      "oh : 0.0045900678418359965\n",
      "rail : 0.004530449091720051\n",
      "make : 0.004397563907887254\n",
      "\n",
      "\n",
      "\n",
      "--------------------------------------------------------------------------------\n",
      "Number of topics: 5\n",
      "\n",
      "Displaying the top 20 words per topic and their probabilities within the topic...\n",
      "\n",
      "[Topic 0]\n",
      "toxic : 0.022457791846392967\n",
      "ceo : 0.01909519770061295\n",
      "resident : 0.017347292501322095\n",
      "chemical : 0.016160113157076755\n",
      "epa : 0.013899063024322483\n",
      "via : 0.009893960751737617\n",
      "pay : 0.008269276069613581\n",
      "say : 0.008163893554262587\n",
      "senate : 0.008134594278846838\n",
      "tell : 0.007605117286419225\n",
      "congress : 0.006781515182579619\n",
      "order : 0.006306676179334696\n",
      "clean : 0.006226100852638858\n",
      "rail : 0.0062106600464542985\n",
      "crash : 0.006076923915123679\n",
      "site : 0.005999986680991488\n",
      "worker : 0.0059216764863732185\n",
      "animal : 0.005689835953484064\n",
      "company : 0.00549751936463235\n",
      "demand : 0.005352323604188377\n",
      "\n",
      "[Topic 1]\n",
      "derail : 0.041301288720680895\n",
      "another : 0.03180513917666337\n",
      "car : 0.026418350367137678\n",
      "derails : 0.022203092403190045\n",
      "hazardous : 0.019883504315243262\n",
      "material : 0.015784198361090688\n",
      "say : 0.013526961781535762\n",
      "springfield : 0.012509990870489616\n",
      "20 : 0.011057471751499764\n",
      "company : 0.010800731026674894\n",
      "alabama : 0.010715894642125327\n",
      "carry : 0.009308797231190406\n",
      "freight : 0.008695898991201418\n",
      "cargo : 0.008482252175005624\n",
      "place : 0.008091923299740364\n",
      "second : 0.007548877594248619\n",
      "county : 0.007522726704506382\n",
      "report : 0.007300660550027382\n",
      "month : 0.007231423910512517\n",
      "one : 0.007019434564381862\n",
      "\n",
      "[Topic 2]\n",
      "toxic : 0.024399433631634115\n",
      "chemical : 0.018556797501523944\n",
      "visit : 0.013117524876437109\n",
      "water : 0.012062389845854405\n",
      "say : 0.010973712439973757\n",
      "site : 0.00844431795530629\n",
      "biden : 0.007837146592019666\n",
      "town : 0.007748579055315083\n",
      "resident : 0.007402385870002908\n",
      "state : 0.007034684176878805\n",
      "federal : 0.007014036491315758\n",
      "release : 0.006943703134839403\n",
      "week : 0.006781308268996687\n",
      "epa : 0.006548100561755021\n",
      "air : 0.006254763588951667\n",
      "disaster : 0.0057565792934920115\n",
      "follow : 0.00573390107272309\n",
      "environmental : 0.005488453374713875\n",
      "response : 0.005398110140580032\n",
      "trump : 0.005321220579266696\n",
      "\n",
      "[Topic 3]\n",
      "trump : 0.018502068531496673\n",
      "biden : 0.013314674872412476\n",
      "people : 0.012179552557099477\n",
      "go : 0.009201033734639479\n",
      "get : 0.00865621546372934\n",
      "need : 0.007154970123360606\n",
      "say : 0.007040251673666007\n",
      "water : 0.006922296359066375\n",
      "disaster : 0.006480895117766147\n",
      "oh : 0.0057712524173923006\n",
      "buttigieg : 0.00563832997784419\n",
      "pete : 0.005540222921467095\n",
      "gop : 0.005460751698488064\n",
      "help : 0.005425819781321395\n",
      "regulation : 0.005069411637819183\n",
      "president : 0.005018373647870214\n",
      "blame : 0.004838856230112978\n",
      "republican : 0.004819385292446188\n",
      "like : 0.004649180333924542\n",
      "would : 0.004602272585002344\n",
      "\n",
      "[Topic 4]\n",
      "safety : 0.020854286101955024\n",
      "trump : 0.012096334684715907\n",
      "rail : 0.009905084947262426\n",
      "disaster : 0.009302870886439376\n",
      "regulation : 0.008105892834487346\n",
      "brake : 0.007738428284822817\n",
      "rule : 0.006814332639663208\n",
      "make : 0.0066215506193103195\n",
      "would : 0.0065813934167291074\n",
      "like : 0.006260418724992104\n",
      "railroad : 0.006026254068120426\n",
      "year : 0.005842938838686263\n",
      "derailment : 0.005839382265900528\n",
      "accident : 0.00567860726893937\n",
      "new : 0.005491509162680534\n",
      "cause : 0.004876663188700848\n",
      "ntsb : 0.004615220286816077\n",
      "happen : 0.004435757515635707\n",
      "buttigieg : 0.004175798070820346\n",
      "right : 0.004164262724009133\n",
      "\n",
      "\n",
      "\n",
      "--------------------------------------------------------------------------------\n",
      "Number of topics: 6\n",
      "\n",
      "Displaying the top 20 words per topic and their probabilities within the topic...\n",
      "\n",
      "[Topic 0]\n",
      "ceo : 0.029934803022585877\n",
      "toxic : 0.024509954121365404\n",
      "resident : 0.014631826062639419\n",
      "via : 0.01459418509473152\n",
      "senate : 0.012351306529148174\n",
      "congress : 0.01123495862495429\n",
      "tell : 0.01117980198456287\n",
      "rail : 0.010344488712771362\n",
      "worker : 0.009880603439935067\n",
      "demand : 0.007582947271359503\n",
      "say : 0.007429311901228931\n",
      "hour : 0.007304603436803837\n",
      "shaw : 0.006962922065620949\n",
      "alan : 0.0069533515179600195\n",
      "pay : 0.006774127756902931\n",
      "chemical : 0.006617883194274048\n",
      "000 : 0.006528791563082372\n",
      "alabama : 0.006389362624522756\n",
      "epa : 0.006349796834903962\n",
      "testifies : 0.0062856339368402864\n",
      "\n",
      "[Topic 1]\n",
      "derail : 0.04697313178662796\n",
      "another : 0.03782512567797534\n",
      "car : 0.03128821785332865\n",
      "hazardous : 0.020827774987104208\n",
      "derails : 0.020604929459027463\n",
      "material : 0.016815439652684405\n",
      "springfield : 0.014880866567215961\n",
      "say : 0.013822527190265499\n",
      "20 : 0.013153938085277933\n",
      "company : 0.011986124058506256\n",
      "cargo : 0.010085116823655812\n",
      "freight : 0.010056686516665395\n",
      "carry : 0.010043194629424398\n",
      "place : 0.009405869397579373\n",
      "alabama : 0.00903896294072756\n",
      "county : 0.00897418332782073\n",
      "month : 0.008567927067156818\n",
      "one : 0.007773158371983876\n",
      "second : 0.00776966025866095\n",
      "shelter : 0.007311133895271511\n",
      "\n",
      "[Topic 2]\n",
      "toxic : 0.02416518176141444\n",
      "visit : 0.01466529507849081\n",
      "say : 0.011823379058092392\n",
      "resident : 0.01092977444083954\n",
      "biden : 0.01047557928648287\n",
      "site : 0.009556351121848054\n",
      "federal : 0.008915631700886904\n",
      "town : 0.008451327936817502\n",
      "response : 0.0084293957983874\n",
      "transportation : 0.008078126362458825\n",
      "chemical : 0.007970442462984848\n",
      "buttigieg : 0.007933385254468359\n",
      "disaster : 0.0073999438129481515\n",
      "week : 0.007309123765483458\n",
      "state : 0.007112453608177943\n",
      "safety : 0.007010455152008537\n",
      "dewine : 0.006980621599878736\n",
      "follow : 0.006786861119926392\n",
      "pete : 0.006649608946772285\n",
      "trump : 0.006550273904850106\n",
      "\n",
      "[Topic 3]\n",
      "trump : 0.0231224882771121\n",
      "biden : 0.013814993523489569\n",
      "people : 0.011720680860625382\n",
      "go : 0.00970670297774062\n",
      "get : 0.008110643208959616\n",
      "regulation : 0.008091418827291438\n",
      "need : 0.006753943695487108\n",
      "disaster : 0.00655709445582949\n",
      "would : 0.006380761200950069\n",
      "say : 0.0059863584149820355\n",
      "gop : 0.005916404019189781\n",
      "like : 0.005872338072893928\n",
      "oh : 0.0056962201440909094\n",
      "blame : 0.005648362616070565\n",
      "help : 0.005281466607518711\n",
      "know : 0.0050966197426840715\n",
      "pete : 0.004968176329429738\n",
      "buttigieg : 0.004912142550780366\n",
      "back : 0.004856501906785538\n",
      "one : 0.004783855992950435\n",
      "\n",
      "[Topic 4]\n",
      "safety : 0.02159338367191896\n",
      "rail : 0.011307717134621384\n",
      "disaster : 0.009704355669461722\n",
      "brake : 0.007828791430280743\n",
      "new : 0.007749495521774085\n",
      "rule : 0.007743688965011631\n",
      "trump : 0.007687547640640024\n",
      "railroad : 0.007233208275892477\n",
      "year : 0.006923354274393007\n",
      "make : 0.006652673066922383\n",
      "ntsb : 0.006252759162034284\n",
      "accident : 0.005903207387322961\n",
      "post : 0.005819782094199039\n",
      "would : 0.005640615145310444\n",
      "regulation : 0.005248280811755987\n",
      "like : 0.005203991799272645\n",
      "right : 0.004929012877081026\n",
      "industry : 0.004874703924421628\n",
      "derailment : 0.004657656268054999\n",
      "buttigieg : 0.004537706051506622\n",
      "\n",
      "[Topic 5]\n",
      "chemical : 0.03158453854775816\n",
      "water : 0.018023257187170353\n",
      "epa : 0.014796823019741405\n",
      "toxic : 0.012545060804001683\n",
      "report : 0.009781520257813944\n",
      "health : 0.0093299704724856\n",
      "air : 0.009313319456745755\n",
      "say : 0.009064748422328956\n",
      "chloride : 0.00831175454753678\n",
      "burn : 0.008248121634297074\n",
      "release : 0.008164094317679177\n",
      "vinyl : 0.007671885747307093\n",
      "resident : 0.007168548182086289\n",
      "public : 0.007052544805483708\n",
      "test : 0.006733021742729114\n",
      "order : 0.006379629014678323\n",
      "north : 0.0061313869994422615\n",
      "river : 0.0061046101843074746\n",
      "carolina : 0.0058300818846806135\n",
      "concern : 0.005732325667197565\n",
      "\n",
      "\n",
      "\n",
      "--------------------------------------------------------------------------------\n",
      "Number of topics: 7\n",
      "\n",
      "Displaying the top 20 words per topic and their probabilities within the topic...\n",
      "\n",
      "[Topic 0]\n",
      "ceo : 0.034073432440240206\n",
      "toxic : 0.01885519319050218\n",
      "rail : 0.01579399347884362\n",
      "via : 0.015501236254538137\n",
      "congress : 0.014556779172124511\n",
      "senate : 0.014254845210108901\n",
      "worker : 0.012162868737975382\n",
      "tell : 0.010860056584937093\n",
      "hour : 0.009121934789822915\n",
      "demand : 0.008117677573543666\n",
      "pay : 0.008060734786215695\n",
      "alabama : 0.007968905376933068\n",
      "testifies : 0.007898511616934327\n",
      "testify : 0.007286357026094422\n",
      "alan : 0.006829603419460747\n",
      "shaw : 0.006673310417663819\n",
      "company : 0.0064513084952708116\n",
      "crash : 0.00636805573691005\n",
      "us : 0.0062629759560102706\n",
      "sign : 0.00607812573168082\n",
      "\n",
      "[Topic 1]\n",
      "derail : 0.050468051910027636\n",
      "another : 0.042656624828051055\n",
      "car : 0.03358633545043437\n",
      "hazardous : 0.02402020280051192\n",
      "derails : 0.02303123814563349\n",
      "material : 0.02100708644729808\n",
      "springfield : 0.01679678575611248\n",
      "say : 0.01510643601613701\n",
      "20 : 0.01484715965738732\n",
      "company : 0.012822302641722662\n",
      "cargo : 0.011380712269280517\n",
      "place : 0.010653638907998619\n",
      "alabama : 0.010252643011529408\n",
      "freight : 0.010126350640699689\n",
      "carry : 0.010107130505322776\n",
      "month : 0.00915660208108005\n",
      "county : 0.009108571732008339\n",
      "second : 0.008970189457804886\n",
      "shelter : 0.008252357176971944\n",
      "one : 0.008190511785534356\n",
      "\n",
      "[Topic 2]\n",
      "toxic : 0.025850832589100113\n",
      "resident : 0.01432216594788541\n",
      "say : 0.012899943646961181\n",
      "chemical : 0.012738983548372895\n",
      "visit : 0.011094931145207898\n",
      "town : 0.009128459766782039\n",
      "site : 0.00873922321224486\n",
      "safety : 0.008596990061463947\n",
      "federal : 0.008545488358379942\n",
      "response : 0.008291735797711622\n",
      "transportation : 0.007933694919707784\n",
      "week : 0.007917454260449546\n",
      "environmental : 0.007778714189999576\n",
      "month : 0.00740435810943385\n",
      "epa : 0.0071600071948448914\n",
      "disaster : 0.007028584115487032\n",
      "buttigieg : 0.0068600825701268745\n",
      "state : 0.006663720589334577\n",
      "sue : 0.006293688458211114\n",
      "follow : 0.006162253452179212\n",
      "\n",
      "[Topic 3]\n",
      "trump : 0.024832320823816628\n",
      "biden : 0.013326611390051504\n",
      "people : 0.011315294793812675\n",
      "would : 0.010029795982648578\n",
      "go : 0.009247956987775764\n",
      "regulation : 0.00884122288619135\n",
      "buttigieg : 0.007790841713780097\n",
      "pete : 0.007207984377754399\n",
      "say : 0.007091129305210593\n",
      "get : 0.006993858616370607\n",
      "brake : 0.006989910271114225\n",
      "blame : 0.0069089372283666845\n",
      "disaster : 0.006389249592099461\n",
      "need : 0.006374046679736046\n",
      "oh : 0.006267543543466257\n",
      "rule : 0.0061874215814019615\n",
      "republican : 0.005141663499312294\n",
      "help : 0.005051475625186332\n",
      "back : 0.0049932591312315325\n",
      "even : 0.004938192927650618\n",
      "\n",
      "[Topic 4]\n",
      "safety : 0.020630440273324318\n",
      "disaster : 0.010070177267103764\n",
      "rail : 0.009473485291577996\n",
      "make : 0.008804842046200804\n",
      "year : 0.008100916059768131\n",
      "railroad : 0.007307417684129275\n",
      "accident : 0.006503454272221553\n",
      "new : 0.006440561208150915\n",
      "derailment : 0.0062278321075233956\n",
      "right : 0.006174650092630047\n",
      "trump : 0.006127153866882384\n",
      "like : 0.005873947708597246\n",
      "happen : 0.0058381278537337645\n",
      "post : 0.005707381586067502\n",
      "rule : 0.005358039669401162\n",
      "white : 0.005346148443846392\n",
      "profit : 0.0049616565736584975\n",
      "every : 0.004823392589477526\n",
      "regulation : 0.00478457556758731\n",
      "would : 0.0046151808056909965\n",
      "\n",
      "[Topic 5]\n",
      "chemical : 0.03343748621242268\n",
      "water : 0.016988971352351487\n",
      "toxic : 0.013509458122921768\n",
      "report : 0.012259865352685946\n",
      "resident : 0.009558116405639453\n",
      "chloride : 0.009535622883117436\n",
      "health : 0.00912368846695434\n",
      "burn : 0.009077837351024373\n",
      "release : 0.008884588882585668\n",
      "vinyl : 0.008801970299581314\n",
      "air : 0.008207276231859573\n",
      "say : 0.008111819648918264\n",
      "public : 0.00727251272393695\n",
      "north : 0.007034110031199187\n",
      "river : 0.0070027441577046575\n",
      "carolina : 0.006701248477890141\n",
      "derail : 0.0059477694960602765\n",
      "animal : 0.005665099897801638\n",
      "fire : 0.005638819480376162\n",
      "spill : 0.005467612300203774\n",
      "\n",
      "[Topic 6]\n",
      "epa : 0.017381298163888705\n",
      "biden : 0.014030811297885982\n",
      "trump : 0.011599970062039474\n",
      "toxic : 0.011217699570396525\n",
      "visit : 0.010032467157317048\n",
      "waste : 0.009492403778997299\n",
      "clean : 0.009490333449629722\n",
      "kill : 0.009211607413325025\n",
      "gop : 0.008965003154355848\n",
      "news : 0.00799692212450804\n",
      "order : 0.007609441000759926\n",
      "get : 0.007582992990152742\n",
      "pay : 0.007482925935007916\n",
      "truck : 0.007218383980016027\n",
      "dump : 0.006970581106055291\n",
      "say : 0.006814582610904489\n",
      "site : 0.006762454124790967\n",
      "go : 0.006271006623277019\n",
      "president : 0.006228758006110148\n",
      "hold : 0.0062063526219695\n",
      "\n",
      "\n",
      "\n",
      "--------------------------------------------------------------------------------\n",
      "Number of topics: 8\n",
      "\n",
      "Displaying the top 20 words per topic and their probabilities within the topic...\n",
      "\n",
      "[Topic 0]\n",
      "toxic : 0.024032008743821564\n",
      "rail : 0.01715199168139829\n",
      "via : 0.015426933449308506\n",
      "tell : 0.012244900452080846\n",
      "worker : 0.011489120473297832\n",
      "demand : 0.010837609898060282\n",
      "resident : 0.0103182651827192\n",
      "pay : 0.009897174227669624\n",
      "crash : 0.009476549145434322\n",
      "sign : 0.008419204512631725\n",
      "us : 0.007645136431469387\n",
      "million : 0.007055771959296179\n",
      "industry : 0.006480828465288643\n",
      "change : 0.006352791956915977\n",
      "ceo : 0.006143458778175073\n",
      "chemical : 0.006073928872568855\n",
      "company : 0.005980311017444503\n",
      "help : 0.005744039897151764\n",
      "say : 0.005437862761467473\n",
      "petition : 0.005392179462293446\n",
      "\n",
      "[Topic 1]\n",
      "derail : 0.05138115456884859\n",
      "another : 0.045296581162985954\n",
      "derails : 0.029545194388909336\n",
      "car : 0.02910909830723071\n",
      "hazardous : 0.022347117991603823\n",
      "material : 0.019331966077253456\n",
      "alabama : 0.017970725526531235\n",
      "springfield : 0.017830755032350758\n",
      "ceo : 0.016923586652158373\n",
      "20 : 0.015747972554103006\n",
      "say : 0.01500506410960579\n",
      "company : 0.01344485558526424\n",
      "place : 0.011107918645005205\n",
      "month : 0.009828886490834984\n",
      "congress : 0.009503887188596816\n",
      "second : 0.009407413668581992\n",
      "county : 0.009397726040723305\n",
      "freight : 0.009369429484999\n",
      "cargo : 0.009043473738035615\n",
      "via : 0.008888545870149638\n",
      "\n",
      "[Topic 2]\n",
      "toxic : 0.03056203098692851\n",
      "chemical : 0.01599996585577415\n",
      "resident : 0.015380678666331565\n",
      "ceo : 0.013664989355376111\n",
      "say : 0.013128536134968298\n",
      "visit : 0.013119385938225687\n",
      "town : 0.009691602209395685\n",
      "week : 0.0093634118109344\n",
      "site : 0.009306193643674621\n",
      "month : 0.008550103933992756\n",
      "senate : 0.008533944297540282\n",
      "environmental : 0.008200090418433122\n",
      "epa : 0.008197986724199215\n",
      "disaster : 0.007234012790700236\n",
      "federal : 0.007185923997737526\n",
      "response : 0.007004152162266913\n",
      "state : 0.006724934538361504\n",
      "sue : 0.00663654998121167\n",
      "biden : 0.006464630407851535\n",
      "dewine : 0.006309541710497233\n",
      "\n",
      "[Topic 3]\n",
      "people : 0.017826538569041175\n",
      "water : 0.010098175193359161\n",
      "get : 0.010049303687808408\n",
      "trump : 0.009946120149752772\n",
      "go : 0.009772770285674364\n",
      "need : 0.009317411192260445\n",
      "oh : 0.008458165817489146\n",
      "biden : 0.008360127979523497\n",
      "help : 0.007874023883918904\n",
      "say : 0.00735181304193485\n",
      "disaster : 0.007307294882687198\n",
      "us : 0.0058773349990381115\n",
      "take : 0.005197254186531558\n",
      "like : 0.0051238604058900655\n",
      "know : 0.005004051950614929\n",
      "care : 0.004745374248249172\n",
      "think : 0.004658177518775134\n",
      "republican : 0.004576257727662112\n",
      "government : 0.004534654384946742\n",
      "please : 0.0044551999619370855\n",
      "\n",
      "[Topic 4]\n",
      "disaster : 0.012368698267631978\n",
      "year : 0.009187688161070096\n",
      "make : 0.009001666319433301\n",
      "accident : 0.008781050385400568\n",
      "new : 0.008446381679123134\n",
      "post : 0.008035225916443898\n",
      "happen : 0.007476444385396988\n",
      "derailment : 0.007396076695344543\n",
      "safety : 0.0072479737265171585\n",
      "right : 0.007124378887895119\n",
      "white : 0.006883778486116192\n",
      "like : 0.005952605909315921\n",
      "railroad : 0.005616905284800786\n",
      "see : 0.005349896154464564\n",
      "washington : 0.005347961394466335\n",
      "every : 0.005282344607236937\n",
      "rail : 0.005222135860581856\n",
      "time : 0.00504866786176244\n",
      "include : 0.005027741193923218\n",
      "look : 0.004930673123266757\n",
      "\n",
      "[Topic 5]\n",
      "chemical : 0.03542888233455271\n",
      "water : 0.017306934863369858\n",
      "report : 0.015077496593089611\n",
      "chloride : 0.011973386965715059\n",
      "vinyl : 0.011051551205439245\n",
      "toxic : 0.010871011137752983\n",
      "health : 0.010591672664451011\n",
      "release : 0.010331408133550556\n",
      "burn : 0.009488440815683466\n",
      "public : 0.009255192757254033\n",
      "north : 0.008832541820514971\n",
      "river : 0.008783286437234625\n",
      "air : 0.008683003670873863\n",
      "carolina : 0.008414570499293363\n",
      "resident : 0.007136214837436326\n",
      "say : 0.006766182791172345\n",
      "danger : 0.006626582439218272\n",
      "animal : 0.0065589305507995676\n",
      "risk : 0.006152353429616949\n",
      "concern : 0.006101449305868944\n",
      "\n",
      "[Topic 6]\n",
      "epa : 0.027296828749977436\n",
      "clean : 0.014540066354292105\n",
      "waste : 0.013431201471891885\n",
      "toxic : 0.012303266993996137\n",
      "site : 0.011943865827381816\n",
      "kill : 0.011433601400738467\n",
      "order : 0.011350333529174621\n",
      "hold : 0.009942130225438979\n",
      "gop : 0.009350123484727283\n",
      "truck : 0.009257266024279951\n",
      "dump : 0.008939193549818994\n",
      "say : 0.008841461087676968\n",
      "pay : 0.008781356870436\n",
      "news : 0.007636980924210868\n",
      "biden : 0.007570584002540986\n",
      "cleveland : 0.007412032760433043\n",
      "resident : 0.00738006914546466\n",
      "crash : 0.007247970561497569\n",
      "accountable : 0.007184750576729043\n",
      "sound : 0.0065161804425496106\n",
      "\n",
      "[Topic 7]\n",
      "trump : 0.03031889591442392\n",
      "safety : 0.026112260045645482\n",
      "buttigieg : 0.018305891953167914\n",
      "regulation : 0.01528911177494026\n",
      "pete : 0.014759042362653714\n",
      "biden : 0.013832517708402148\n",
      "rule : 0.013242812808359686\n",
      "would : 0.012400290332253613\n",
      "transportation : 0.011915232488499678\n",
      "brake : 0.011332707768953974\n",
      "ntsb : 0.009328215555915832\n",
      "blame : 0.008928191153563926\n",
      "administration : 0.00828249981723637\n",
      "visit : 0.006909781423880328\n",
      "say : 0.006601818759113528\n",
      "secretary : 0.00648163061744127\n",
      "rail : 0.006277375377993683\n",
      "train : 0.006196145744565951\n",
      "cause : 0.005917888473999778\n",
      "back : 0.005607398731969559\n",
      "\n",
      "\n",
      "\n",
      "--------------------------------------------------------------------------------\n",
      "Number of topics: 9\n",
      "\n",
      "Displaying the top 20 words per topic and their probabilities within the topic...\n",
      "\n",
      "[Topic 0]\n",
      "toxic : 0.02442116167971088\n",
      "rail : 0.01609283864847687\n",
      "worker : 0.012309179750523197\n",
      "via : 0.012087110813110312\n",
      "demand : 0.010653990257738883\n",
      "chemical : 0.010203027837953975\n",
      "pay : 0.00982168180604219\n",
      "resident : 0.009399429549152141\n",
      "tell : 0.009260377581946515\n",
      "000 : 0.009163607377431814\n",
      "crash : 0.008420440621614952\n",
      "sign : 0.008002663921689837\n",
      "million : 0.007287269467478594\n",
      "us : 0.007241278262500913\n",
      "industry : 0.006569080966806988\n",
      "say : 0.00635608675203102\n",
      "change : 0.006163527679606732\n",
      "disaster : 0.005896830769122026\n",
      "fire : 0.005863120479431989\n",
      "get : 0.005585724805242758\n",
      "\n",
      "[Topic 1]\n",
      "derail : 0.048316998426246136\n",
      "another : 0.04068526307219649\n",
      "car : 0.035634665831024426\n",
      "hazardous : 0.029094575088263394\n",
      "material : 0.02423429339081334\n",
      "springfield : 0.02033726806087641\n",
      "derails : 0.020082235945908147\n",
      "say : 0.018878003492676772\n",
      "20 : 0.017981337182360464\n",
      "place : 0.013205513315607011\n",
      "company : 0.012276541497887242\n",
      "carry : 0.012039398302459491\n",
      "freight : 0.01080437966815631\n",
      "cargo : 0.010490016322049859\n",
      "month : 0.010355061991795143\n",
      "second : 0.01015285143271547\n",
      "shelter : 0.009994259538288426\n",
      "one : 0.009420023326261285\n",
      "near : 0.00925674761472866\n",
      "official : 0.008651199011540187\n",
      "\n",
      "[Topic 2]\n",
      "toxic : 0.03751016410853848\n",
      "chemical : 0.022140355918424972\n",
      "resident : 0.021276343508723584\n",
      "visit : 0.014185475894670417\n",
      "say : 0.013897244668738871\n",
      "town : 0.011776850623906062\n",
      "epa : 0.011483865769033257\n",
      "site : 0.011447780774208043\n",
      "environmental : 0.01090351969056483\n",
      "week : 0.010198926910692262\n",
      "health : 0.008188077504051752\n",
      "test : 0.008145712126102858\n",
      "federal : 0.008054257643991114\n",
      "air : 0.007782135286388289\n",
      "state : 0.007600755686705425\n",
      "sue : 0.007488438541841901\n",
      "release : 0.00734115619960314\n",
      "concern : 0.007294084716724386\n",
      "disaster : 0.00724478237065716\n",
      "month : 0.007238463523305889\n",
      "\n",
      "[Topic 3]\n",
      "people : 0.018379926908654212\n",
      "water : 0.011100789922902966\n",
      "go : 0.010256922240443334\n",
      "get : 0.010053938787286856\n",
      "need : 0.009912002470233564\n",
      "trump : 0.009581720141465386\n",
      "biden : 0.008704342612048489\n",
      "oh : 0.008625005593257214\n",
      "help : 0.008001740973276994\n",
      "say : 0.007986216833378246\n",
      "disaster : 0.007698669573184507\n",
      "us : 0.00657760128527527\n",
      "dewine : 0.005790492765293581\n",
      "know : 0.004950385108071338\n",
      "republican : 0.0049253831365063325\n",
      "take : 0.004921610620511008\n",
      "like : 0.004875539722967148\n",
      "care : 0.004834750748978326\n",
      "think : 0.004822718776279325\n",
      "government : 0.004463102798470877\n",
      "\n",
      "[Topic 4]\n",
      "disaster : 0.011041961215299703\n",
      "year : 0.010367938655863194\n",
      "new : 0.008308463544131194\n",
      "happen : 0.008193080967646897\n",
      "post : 0.00807240292559575\n",
      "make : 0.007884214957141027\n",
      "right : 0.00752177102367098\n",
      "derailment : 0.00742727127795962\n",
      "white : 0.006823421215309876\n",
      "accident : 0.0067833362321265646\n",
      "see : 0.006400000311024058\n",
      "like : 0.006139042150976473\n",
      "time : 0.005941446788866935\n",
      "every : 0.005728088445440442\n",
      "railroad : 0.005702586270309726\n",
      "check : 0.005628206314669109\n",
      "look : 0.005481830136136766\n",
      "article : 0.0054572463462039264\n",
      "washington : 0.005205525133920705\n",
      "safety : 0.004869095453893451\n",
      "\n",
      "[Topic 5]\n",
      "chemical : 0.032443491345825075\n",
      "report : 0.017718503741637352\n",
      "chloride : 0.015186385819687166\n",
      "water : 0.014929133515349129\n",
      "vinyl : 0.014013942362409932\n",
      "public : 0.011860803545846189\n",
      "north : 0.011212846330012528\n",
      "burn : 0.011162624642173807\n",
      "river : 0.011116774812690485\n",
      "carolina : 0.010682228439757833\n",
      "health : 0.010566500111455225\n",
      "release : 0.009695590969077813\n",
      "danger : 0.00841236373594791\n",
      "risk : 0.007227349610882498\n",
      "derail : 0.006343999247707534\n",
      "spill : 0.0057083068580096085\n",
      "derails : 0.0055353460205591265\n",
      "contaminate : 0.005499585846718098\n",
      "say : 0.005268367797261703\n",
      "dead : 0.005031855578642832\n",
      "\n",
      "[Topic 6]\n",
      "epa : 0.028614589750967267\n",
      "clean : 0.01461239780395882\n",
      "site : 0.013957181481471244\n",
      "waste : 0.013461358909813098\n",
      "toxic : 0.012452191716890992\n",
      "order : 0.010934372800230067\n",
      "gop : 0.010077503304155085\n",
      "truck : 0.009922735838512197\n",
      "dump : 0.009582076047534267\n",
      "hold : 0.009527479395838916\n",
      "pay : 0.009181262894920567\n",
      "kill : 0.008696315662137345\n",
      "biden : 0.008207389542491542\n",
      "crash : 0.00817934153245442\n",
      "say : 0.008125400152893382\n",
      "cleveland : 0.00794549532149039\n",
      "news : 0.007703477882903329\n",
      "accountable : 0.007269829362378015\n",
      "sound : 0.006950119971491376\n",
      "via : 0.006940964143849914\n",
      "\n",
      "[Topic 7]\n",
      "trump : 0.032043900937458146\n",
      "safety : 0.0277187712692372\n",
      "buttigieg : 0.019679780984933413\n",
      "regulation : 0.01656140174884174\n",
      "pete : 0.0157736757499274\n",
      "rule : 0.014163534004548775\n",
      "biden : 0.013640701221876085\n",
      "would : 0.01331002379189234\n",
      "transportation : 0.012768647368555734\n",
      "brake : 0.0121432414516666\n",
      "ntsb : 0.009447688441838294\n",
      "blame : 0.008937344116950175\n",
      "administration : 0.008722559766313571\n",
      "visit : 0.007008399196482691\n",
      "secretary : 0.006945174705019684\n",
      "rail : 0.006513677914692406\n",
      "train : 0.006387319184068555\n",
      "say : 0.006347230844680225\n",
      "cause : 0.006006155776466764\n",
      "back : 0.005828286792086151\n",
      "\n",
      "[Topic 8]\n",
      "ceo : 0.058373718474390525\n",
      "alabama : 0.02847158811198495\n",
      "senate : 0.022297113338400423\n",
      "congress : 0.022021998427283543\n",
      "derails : 0.018366928632633065\n",
      "derail : 0.018111529522838295\n",
      "another : 0.014853811065511098\n",
      "hour : 0.014572524209123949\n",
      "shaw : 0.013981510537685546\n",
      "alan : 0.012806939743196563\n",
      "safety : 0.011530956218235192\n",
      "via : 0.011348837424547535\n",
      "testifies : 0.011130754511042493\n",
      "testify : 0.011032155078296055\n",
      "hearing : 0.00984896419884945\n",
      "news : 0.009830823688098596\n",
      "company : 0.009699170118161621\n",
      "county : 0.007611317021813752\n",
      "month : 0.007476974188457714\n",
      "hear : 0.007361243936039862\n",
      "\n",
      "\n",
      "\n"
     ]
    }
   ],
   "source": [
    "k_values = range(2, 10)\n",
    "avg_coherences = []\n",
    "avg_num_unique_words = []\n",
    "\n",
    "for k in k_values:\n",
    "    lda_candidate = LatentDirichletAllocation(n_components=k, random_state=0)\n",
    "    lda_candidate.fit(tf)\n",
    "    topic_word_distributions = np.array([row / row.sum() for row in lda_candidate.components_])\n",
    "    print('-' * 80)\n",
    "    print('Number of topics:', k)\n",
    "    print()\n",
    "    print_top_words(topic_word_distributions, num_top_words, tf_vectorizer)\n",
    "    print()\n",
    "    print()\n",
    "    \n",
    "    avg_coherences.append(compute_average_coherence(topic_word_distributions, num_top_words, tf_vectorizer, False))\n",
    "    avg_num_unique_words.append(compute_average_num_unique_words(topic_word_distributions, num_top_words, tf_vectorizer, False))"
   ]
  },
  {
   "cell_type": "code",
   "execution_count": 39,
   "metadata": {},
   "outputs": [
    {
     "data": {
      "text/plain": [
       "Text(0, 0.5, 'Average coherence')"
      ]
     },
     "execution_count": 39,
     "metadata": {},
     "output_type": "execute_result"
    },
    {
     "data": {
      "image/png": "[encoded data removed]",
      "text/plain": [
       "<Figure size 640x480 with 1 Axes>"
      ]
     },
     "metadata": {},
     "output_type": "display_data"
    }
   ],
   "source": [
    "plt.plot(k_values, avg_coherences)\n",
    "plt.xlabel('Number of topics')\n",
    "plt.ylabel('Average coherence')\n",
    "\n",
    "# For differnt number of topics, I fitted a different LDA\n",
    "\n"
   ]
  },
  {
   "cell_type": "code",
   "execution_count": 41,
   "metadata": {},
   "outputs": [
    {
     "data": {
      "text/plain": [
       "Text(0, 0.5, 'Average number of unique words')"
      ]
     },
     "execution_count": 41,
     "metadata": {},
     "output_type": "execute_result"
    },
    {
     "data": {
      "image/png": "[encoded data removed]",
      "text/plain": [
       "<Figure size 640x480 with 1 Axes>"
      ]
     },
     "metadata": {},
     "output_type": "display_data"
    }
   ],
   "source": [
    "plt.plot(k_values, avg_num_unique_words)\n",
    "plt.xlabel('Number of topics')\n",
    "plt.ylabel('Average number of unique words')\n",
    "\n",
    "# For different topic models, the average number of unique words\n",
    "# We want coherence to be high and unique words to be high\n",
    "\n",
    "# Number of topic = 2, gets me high coherence and hogh unique words. BUT, for model 2, there are 2 topics: garbage and not garbage!\n",
    "# that doesnt help a lot\n",
    "\n",
    "# So, you want to tolerate a lower value for one of the metrics, but look at the actual topics to interpret what is going on\n",
    "# If we see resutlts of 4, starts to make more ssense but feels like still low\n",
    "# go to 5, starts to make a bit more sense\n",
    "\n"
   ]
  },
  {
   "attachments": {},
   "cell_type": "markdown",
   "metadata": {},
   "source": [
    "# References\n",
    "Evaluate Topic Models: Latent Dirichlet Allocation (LDA), available at https://towardsdatascience.com/evaluate-topic-model-in-python-latent-dirichlet-allocation-lda-7d57484bb5d0"
   ]
  },
  {
   "cell_type": "code",
   "execution_count": 25,
   "metadata": {},
   "outputs": [
    {
     "name": "stderr",
     "output_type": "stream",
     "text": [
      "/Users/ribarragi/miniconda3/envs/Intro_AI/lib/python3.9/site-packages/tqdm/auto.py:21: TqdmWarning: IProgress not found. Please update jupyter and ipywidgets. See https://ipywidgets.readthedocs.io/en/stable/user_install.html\n",
      "  from .autonotebook import tqdm as notebook_tqdm\n"
     ]
    }
   ],
   "source": [
    "import re\n",
    "import numpy as np\n",
    "import pandas as pd\n",
    "from pprint import pprint\n",
    "\n",
    "# Gensim\n",
    "import gensim\n",
    "import gensim.corpora as corpora\n",
    "from gensim.utils import simple_preprocess\n",
    "from gensim.models import CoherenceModel\n",
    "\n",
    "# spacy for lemmatization\n",
    "import spacy\n",
    "\n",
    "# Plotting tools\n",
    "import pyLDAvis\n",
    "import pyLDAvis.gensim_models \n",
    "import matplotlib.pyplot as plt\n",
    "%matplotlib inline\n",
    "\n",
    "import warnings\n",
    "warnings.filterwarnings(\"ignore\",category=DeprecationWarning)"
   ]
  },
  {
   "cell_type": "code",
   "execution_count": 65,
   "metadata": {},
   "outputs": [
    {
     "name": "stdout",
     "output_type": "stream",
     "text": [
      "[['tristansnell', 'get', 'rid', 'safety', 'rule', 'get', 'get', 'rid', 'bank', 'safety', 'rule', 'get', 'svb', 'signature']]\n"
     ]
    }
   ],
   "source": [
    "def sent_to_words(sentences):\n",
    "    for sentence in sentences:\n",
    "        yield(gensim.utils.simple_preprocess(str(sentence), deacc=True))  # deacc=True removes punctuations\n",
    "\n",
    "data_words = list(sent_to_words(sample_data))\n",
    "\n",
    "print(data_words[:1])"
   ]
  },
  {
   "cell_type": "code",
   "execution_count": 66,
   "metadata": {},
   "outputs": [
    {
     "name": "stdout",
     "output_type": "stream",
     "text": [
      "[[(0, 1), (1, 4), (2, 2), (3, 2), (4, 2), (5, 1), (6, 1), (7, 1)]]\n"
     ]
    }
   ],
   "source": [
    "data_lemmatized = data_words\n",
    "# Create Dictionary\n",
    "id2word = corpora.Dictionary(data_lemmatized)\n",
    "\n",
    "# Create Corpus\n",
    "texts = data_lemmatized\n",
    "\n",
    "# Term Document Frequency\n",
    "corpus = [id2word.doc2bow(text) for text in texts]\n",
    "\n",
    "# View\n",
    "print(corpus[:1])"
   ]
  },
  {
   "cell_type": "code",
   "execution_count": 67,
   "metadata": {},
   "outputs": [],
   "source": [
    "# Build LDA model\n",
    "lda_model = gensim.models.ldamodel.LdaModel(corpus=corpus,\n",
    "                                           id2word=id2word,\n",
    "                                           num_topics=4, \n",
    "                                           random_state=100,\n",
    "                                           update_every=1,\n",
    "                                           chunksize=100,\n",
    "                                           passes=10,\n",
    "                                           alpha='auto',\n",
    "                                           per_word_topics=True)"
   ]
  },
  {
   "cell_type": "code",
   "execution_count": 68,
   "metadata": {},
   "outputs": [
    {
     "name": "stdout",
     "output_type": "stream",
     "text": [
      "[(0,\n",
      "  '0.060*\"north\" + 0.039*\"danger\" + 0.022*\"accident\" + 0.019*\"de\" + '\n",
      "  '0.016*\"fire\" + 0.015*\"show\" + 0.013*\"last\" + 0.013*\"fox\" + 0.012*\"many\" + '\n",
      "  '0.012*\"mile\"'),\n",
      " (1,\n",
      "  '0.021*\"another\" + 0.020*\"derails\" + 0.018*\"say\" + 0.016*\"toxic\" + '\n",
      "  '0.016*\"report\" + 0.012*\"company\" + 0.012*\"chemical\" + 0.011*\"epa\" + '\n",
      "  '0.011*\"public\" + 0.010*\"resident\"'),\n",
      " (2,\n",
      "  '0.062*\"derail\" + 0.037*\"carolina\" + 0.034*\"car\" + 0.029*\"via\" + '\n",
      "  '0.020*\"cargo\" + 0.019*\"springfield\" + 0.017*\"time\" + 0.016*\"place\" + '\n",
      "  '0.016*\"sign\" + 0.016*\"news\"'),\n",
      " (3,\n",
      "  '0.027*\"trump\" + 0.024*\"safety\" + 0.019*\"would\" + 0.016*\"biden\" + '\n",
      "  '0.015*\"rule\" + 0.015*\"regulation\" + 0.014*\"rail\" + 0.012*\"brake\" + '\n",
      "  '0.012*\"go\" + 0.010*\"apply\"')]\n"
     ]
    }
   ],
   "source": [
    "# Print the Keyword in the 10 topics\n",
    "pprint(lda_model.print_topics())\n",
    "doc_lda = lda_model[corpus]"
   ]
  },
  {
   "cell_type": "code",
   "execution_count": 69,
   "metadata": {},
   "outputs": [
    {
     "name": "stdout",
     "output_type": "stream",
     "text": [
      "\n",
      "Perplexity:  -8.359154475447044\n",
      "\n",
      "Coherence Score:  0.36541159788559885\n"
     ]
    }
   ],
   "source": [
    "# Compute Perplexity\n",
    "print('\\nPerplexity: ', lda_model.log_perplexity(corpus))  # a measure of how good the model is. lower the better.\n",
    "\n",
    "# Compute Coherence Score\n",
    "coherence_model_lda = CoherenceModel(model=lda_model, texts=data_lemmatized, dictionary=id2word, coherence='c_v')\n",
    "coherence_lda = coherence_model_lda.get_coherence()\n",
    "print('\\nCoherence Score: ', coherence_lda)"
   ]
  },
  {
   "cell_type": "code",
   "execution_count": 74,
   "metadata": {},
   "outputs": [
    {
     "data": {
      "text/plain": [
       "<gensim.models.ldamodel.LdaModel at 0x28a9f2700>"
      ]
     },
     "execution_count": 74,
     "metadata": {},
     "output_type": "execute_result"
    }
   ],
   "source": [
    "lda_model"
   ]
  },
  {
   "cell_type": "code",
   "execution_count": 71,
   "metadata": {},
   "outputs": [
    {
     "name": "stderr",
     "output_type": "stream",
     "text": [
      "/Users/ribarragi/miniconda3/envs/Intro_AI/lib/python3.9/site-packages/pyLDAvis/_prepare.py:246: FutureWarning: In a future version of pandas all arguments of DataFrame.drop except for the argument 'labels' will be keyword-only.\n",
      "  default_term_info = default_term_info.sort_values(\n",
      "/Users/ribarragi/miniconda3/envs/Intro_AI/lib/python3.9/site-packages/joblib/backports.py:36: DeprecationWarning: distutils Version classes are deprecated. Use packaging.version instead.\n",
      "  if LooseVersion(np.__version__) < '1.13':\n",
      "/Users/ribarragi/miniconda3/envs/Intro_AI/lib/python3.9/site-packages/joblib/backports.py:36: DeprecationWarning: distutils Version classes are deprecated. Use packaging.version instead.\n",
      "  if LooseVersion(np.__version__) < '1.13':\n",
      "/Users/ribarragi/miniconda3/envs/Intro_AI/lib/python3.9/site-packages/joblib/backports.py:36: DeprecationWarning: distutils Version classes are deprecated. Use packaging.version instead.\n",
      "  if LooseVersion(np.__version__) < '1.13':\n",
      "/Users/ribarragi/miniconda3/envs/Intro_AI/lib/python3.9/site-packages/joblib/backports.py:36: DeprecationWarning: distutils Version classes are deprecated. Use packaging.version instead.\n",
      "  if LooseVersion(np.__version__) < '1.13':\n",
      "/Users/ribarragi/miniconda3/envs/Intro_AI/lib/python3.9/site-packages/joblib/backports.py:36: DeprecationWarning: distutils Version classes are deprecated. Use packaging.version instead.\n",
      "  if LooseVersion(np.__version__) < '1.13':\n",
      "/Users/ribarragi/miniconda3/envs/Intro_AI/lib/python3.9/site-packages/joblib/backports.py:36: DeprecationWarning: distutils Version classes are deprecated. Use packaging.version instead.\n",
      "  if LooseVersion(np.__version__) < '1.13':\n",
      "/Users/ribarragi/miniconda3/envs/Intro_AI/lib/python3.9/site-packages/setuptools/_distutils/version.py:346: DeprecationWarning: distutils Version classes are deprecated. Use packaging.version instead.\n",
      "  other = LooseVersion(other)\n",
      "/Users/ribarragi/miniconda3/envs/Intro_AI/lib/python3.9/site-packages/setuptools/_distutils/version.py:346: DeprecationWarning: distutils Version classes are deprecated. Use packaging.version instead.\n",
      "  other = LooseVersion(other)\n",
      "/Users/ribarragi/miniconda3/envs/Intro_AI/lib/python3.9/site-packages/setuptools/_distutils/version.py:346: DeprecationWarning: distutils Version classes are deprecated. Use packaging.version instead.\n",
      "  other = LooseVersion(other)\n",
      "/Users/ribarragi/miniconda3/envs/Intro_AI/lib/python3.9/site-packages/setuptools/_distutils/version.py:346: DeprecationWarning: distutils Version classes are deprecated. Use packaging.version instead.\n",
      "  other = LooseVersion(other)\n",
      "/Users/ribarragi/miniconda3/envs/Intro_AI/lib/python3.9/site-packages/joblib/backports.py:36: DeprecationWarning: distutils Version classes are deprecated. Use packaging.version instead.\n",
      "  if LooseVersion(np.__version__) < '1.13':\n",
      "/Users/ribarragi/miniconda3/envs/Intro_AI/lib/python3.9/site-packages/setuptools/_distutils/version.py:346: DeprecationWarning: distutils Version classes are deprecated. Use packaging.version instead.\n",
      "  other = LooseVersion(other)\n",
      "/Users/ribarragi/miniconda3/envs/Intro_AI/lib/python3.9/site-packages/joblib/backports.py:36: DeprecationWarning: distutils Version classes are deprecated. Use packaging.version instead.\n",
      "  if LooseVersion(np.__version__) < '1.13':\n",
      "/Users/ribarragi/miniconda3/envs/Intro_AI/lib/python3.9/site-packages/setuptools/_distutils/version.py:346: DeprecationWarning: distutils Version classes are deprecated. Use packaging.version instead.\n",
      "  other = LooseVersion(other)\n",
      "/Users/ribarragi/miniconda3/envs/Intro_AI/lib/python3.9/site-packages/joblib/backports.py:36: DeprecationWarning: distutils Version classes are deprecated. Use packaging.version instead.\n",
      "  if LooseVersion(np.__version__) < '1.13':\n",
      "/Users/ribarragi/miniconda3/envs/Intro_AI/lib/python3.9/site-packages/setuptools/_distutils/version.py:346: DeprecationWarning: distutils Version classes are deprecated. Use packaging.version instead.\n",
      "  other = LooseVersion(other)\n",
      "/Users/ribarragi/miniconda3/envs/Intro_AI/lib/python3.9/site-packages/setuptools/_distutils/version.py:346: DeprecationWarning: distutils Version classes are deprecated. Use packaging.version instead.\n",
      "  other = LooseVersion(other)\n",
      "/Users/ribarragi/miniconda3/envs/Intro_AI/lib/python3.9/site-packages/joblib/backports.py:36: DeprecationWarning: distutils Version classes are deprecated. Use packaging.version instead.\n",
      "  if LooseVersion(np.__version__) < '1.13':\n",
      "/Users/ribarragi/miniconda3/envs/Intro_AI/lib/python3.9/site-packages/setuptools/_distutils/version.py:346: DeprecationWarning: distutils Version classes are deprecated. Use packaging.version instead.\n",
      "  other = LooseVersion(other)\n",
      "/Users/ribarragi/miniconda3/envs/Intro_AI/lib/python3.9/site-packages/joblib/backports.py:36: DeprecationWarning: distutils Version classes are deprecated. Use packaging.version instead.\n",
      "  if LooseVersion(np.__version__) < '1.13':\n",
      "/Users/ribarragi/miniconda3/envs/Intro_AI/lib/python3.9/site-packages/setuptools/_distutils/version.py:346: DeprecationWarning: distutils Version classes are deprecated. Use packaging.version instead.\n",
      "  other = LooseVersion(other)\n",
      "/Users/ribarragi/miniconda3/envs/Intro_AI/lib/python3.9/site-packages/joblib/backports.py:36: DeprecationWarning: distutils Version classes are deprecated. Use packaging.version instead.\n",
      "  if LooseVersion(np.__version__) < '1.13':\n",
      "/Users/ribarragi/miniconda3/envs/Intro_AI/lib/python3.9/site-packages/setuptools/_distutils/version.py:346: DeprecationWarning: distutils Version classes are deprecated. Use packaging.version instead.\n",
      "  other = LooseVersion(other)\n",
      "/Users/ribarragi/miniconda3/envs/Intro_AI/lib/python3.9/site-packages/setuptools/_distutils/version.py:346: DeprecationWarning: distutils Version classes are deprecated. Use packaging.version instead.\n",
      "  other = LooseVersion(other)\n",
      "/Users/ribarragi/miniconda3/envs/Intro_AI/lib/python3.9/site-packages/joblib/backports.py:36: DeprecationWarning: distutils Version classes are deprecated. Use packaging.version instead.\n",
      "  if LooseVersion(np.__version__) < '1.13':\n",
      "/Users/ribarragi/miniconda3/envs/Intro_AI/lib/python3.9/site-packages/setuptools/_distutils/version.py:346: DeprecationWarning: distutils Version classes are deprecated. Use packaging.version instead.\n",
      "  other = LooseVersion(other)\n",
      "/Users/ribarragi/miniconda3/envs/Intro_AI/lib/python3.9/site-packages/joblib/backports.py:36: DeprecationWarning: distutils Version classes are deprecated. Use packaging.version instead.\n",
      "  if LooseVersion(np.__version__) < '1.13':\n",
      "/Users/ribarragi/miniconda3/envs/Intro_AI/lib/python3.9/site-packages/setuptools/_distutils/version.py:346: DeprecationWarning: distutils Version classes are deprecated. Use packaging.version instead.\n",
      "  other = LooseVersion(other)\n",
      "/Users/ribarragi/miniconda3/envs/Intro_AI/lib/python3.9/site-packages/joblib/backports.py:36: DeprecationWarning: distutils Version classes are deprecated. Use packaging.version instead.\n",
      "  if LooseVersion(np.__version__) < '1.13':\n",
      "/Users/ribarragi/miniconda3/envs/Intro_AI/lib/python3.9/site-packages/setuptools/_distutils/version.py:346: DeprecationWarning: distutils Version classes are deprecated. Use packaging.version instead.\n",
      "  other = LooseVersion(other)\n",
      "/Users/ribarragi/miniconda3/envs/Intro_AI/lib/python3.9/site-packages/joblib/backports.py:36: DeprecationWarning: distutils Version classes are deprecated. Use packaging.version instead.\n",
      "  if LooseVersion(np.__version__) < '1.13':\n",
      "/Users/ribarragi/miniconda3/envs/Intro_AI/lib/python3.9/site-packages/setuptools/_distutils/version.py:346: DeprecationWarning: distutils Version classes are deprecated. Use packaging.version instead.\n",
      "  other = LooseVersion(other)\n",
      "/Users/ribarragi/miniconda3/envs/Intro_AI/lib/python3.9/site-packages/joblib/backports.py:36: DeprecationWarning: distutils Version classes are deprecated. Use packaging.version instead.\n",
      "  if LooseVersion(np.__version__) < '1.13':\n",
      "/Users/ribarragi/miniconda3/envs/Intro_AI/lib/python3.9/site-packages/joblib/backports.py:36: DeprecationWarning: distutils Version classes are deprecated. Use packaging.version instead.\n",
      "  if LooseVersion(np.__version__) < '1.13':\n",
      "/Users/ribarragi/miniconda3/envs/Intro_AI/lib/python3.9/site-packages/setuptools/_distutils/version.py:346: DeprecationWarning: distutils Version classes are deprecated. Use packaging.version instead.\n",
      "  other = LooseVersion(other)\n",
      "/Users/ribarragi/miniconda3/envs/Intro_AI/lib/python3.9/site-packages/setuptools/_distutils/version.py:346: DeprecationWarning: distutils Version classes are deprecated. Use packaging.version instead.\n",
      "  other = LooseVersion(other)\n",
      "/Users/ribarragi/miniconda3/envs/Intro_AI/lib/python3.9/site-packages/joblib/backports.py:36: DeprecationWarning: distutils Version classes are deprecated. Use packaging.version instead.\n",
      "  if LooseVersion(np.__version__) < '1.13':\n",
      "/Users/ribarragi/miniconda3/envs/Intro_AI/lib/python3.9/site-packages/setuptools/_distutils/version.py:346: DeprecationWarning: distutils Version classes are deprecated. Use packaging.version instead.\n",
      "  other = LooseVersion(other)\n",
      "/Users/ribarragi/miniconda3/envs/Intro_AI/lib/python3.9/site-packages/joblib/backports.py:36: DeprecationWarning: distutils Version classes are deprecated. Use packaging.version instead.\n",
      "  if LooseVersion(np.__version__) < '1.13':\n",
      "/Users/ribarragi/miniconda3/envs/Intro_AI/lib/python3.9/site-packages/setuptools/_distutils/version.py:346: DeprecationWarning: distutils Version classes are deprecated. Use packaging.version instead.\n",
      "  other = LooseVersion(other)\n",
      "/Users/ribarragi/miniconda3/envs/Intro_AI/lib/python3.9/site-packages/joblib/backports.py:36: DeprecationWarning: distutils Version classes are deprecated. Use packaging.version instead.\n",
      "  if LooseVersion(np.__version__) < '1.13':\n",
      "/Users/ribarragi/miniconda3/envs/Intro_AI/lib/python3.9/site-packages/setuptools/_distutils/version.py:346: DeprecationWarning: distutils Version classes are deprecated. Use packaging.version instead.\n",
      "  other = LooseVersion(other)\n",
      "/Users/ribarragi/miniconda3/envs/Intro_AI/lib/python3.9/site-packages/joblib/backports.py:36: DeprecationWarning: distutils Version classes are deprecated. Use packaging.version instead.\n",
      "  if LooseVersion(np.__version__) < '1.13':\n",
      "/Users/ribarragi/miniconda3/envs/Intro_AI/lib/python3.9/site-packages/setuptools/_distutils/version.py:346: DeprecationWarning: distutils Version classes are deprecated. Use packaging.version instead.\n",
      "  other = LooseVersion(other)\n"
     ]
    },
    {
     "data": {
      "text/html": [
       "\n",
       "<link rel=\"stylesheet\" type=\"text/css\" href=\"https://cdn.jsdelivr.net/gh/bmabey/pyLDAvis@3.3.1/pyLDAvis/js/ldavis.v1.0.0.css\">\n",
       "\n",
       "\n",
       "<div id=\"ldavis_el3399109435227364083215705\"></div>\n",
       "<script type=\"text/javascript\">\n",
       "\n",
       "var ldavis_el3399109435227364083215705_data = {\"mdsDat\": {\"x\": [-0.3418310744361773, -0.051284499251738426, 0.2185799709483604, 0.17453560273955523], \"y\": [-0.1726843206366587, 0.36603707641292593, -0.14780320808499742, -0.045549547691269905], \"topics\": [1, 2, 3, 4], \"cluster\": [1, 1, 1, 1], \"Freq\": [46.884871417229, 27.326681964912204, 16.444025776185995, 9.344420841672804]}, \"tinfo\": {\"Term\": [\"derail\", \"north\", \"carolina\", \"car\", \"trump\", \"danger\", \"via\", \"safety\", \"another\", \"derails\", \"would\", \"say\", \"cargo\", \"toxic\", \"springfield\", \"report\", \"biden\", \"rule\", \"regulation\", \"time\", \"place\", \"accident\", \"rail\", \"sign\", \"news\", \"company\", \"track\", \"chemical\", \"brake\", \"go\", \"another\", \"derails\", \"say\", \"toxic\", \"report\", \"company\", \"chemical\", \"epa\", \"public\", \"resident\", \"one\", \"pay\", \"hazardous\", \"get\", \"railroad\", \"people\", \"cause\", \"even\", \"freight\", \"month\", \"happen\", \"train\", \"tell\", \"take\", \"material\", \"state\", \"order\", \"still\", \"year\", \"demand\", \"disaster\", \"make\", \"trump\", \"safety\", \"would\", \"biden\", \"rule\", \"regulation\", \"rail\", \"brake\", \"go\", \"apply\", \"know\", \"like\", \"crash\", \"gop\", \"ntsb\", \"high\", \"stop\", \"blame\", \"transportation\", \"effect\", \"hazard\", \"administration\", \"back\", \"pete\", \"site\", \"change\", \"president\", \"look\", \"waste\", \"obama\", \"amp\", \"derail\", \"car\", \"carolina\", \"via\", \"cargo\", \"place\", \"time\", \"news\", \"sign\", \"track\", \"feb\", \"derailed\", \"petition\", \"shelter\", \"crew\", \"railway\", \"responsible\", \"hazmat\", \"wheel\", \"county\", \"break\", \"burn\", \"second\", \"saturday\", \"involve\", \"follow\", \"put\", \"firm\", \"release\", \"profit\", \"springfield\", \"north\", \"danger\", \"accident\", \"de\", \"fire\", \"show\", \"last\", \"fox\", \"mile\", \"many\", \"kill\", \"lawsuit\", \"please\", \"law\", \"pennsylvania\", \"dump\", \"detector\", \"due\", \"accord\", \"three\", \"power\", \"least\", \"usa\", \"truck\", \"die\", \"border\", \"la\", \"care\", \"damage\", \"le\", \"axle\"], \"Freq\": [10784.0, 5922.0, 6340.0, 5851.0, 7672.0, 3852.0, 5031.0, 6919.0, 10350.0, 9707.0, 5409.0, 9038.0, 3384.0, 8048.0, 3300.0, 7733.0, 4465.0, 4294.0, 4234.0, 2936.0, 2849.0, 2147.0, 3880.0, 2762.0, 2746.0, 6131.0, 2508.0, 5943.0, 3456.0, 3409.0, 10349.570429492647, 9707.129565431535, 9037.71796584426, 8048.140181376106, 7732.847307873227, 6130.706491712112, 5942.695717595282, 5473.848556921509, 5281.673116441524, 4899.480757181567, 4889.539532426672, 4622.064592548609, 4416.101784033673, 4305.789529711681, 4004.228030272373, 4017.6252763755765, 3945.6014243032455, 4222.987297115621, 3542.198824064619, 3325.640533366897, 3230.192383611482, 3272.128196439496, 3160.3236109868244, 3186.5905206514153, 2892.5758152400267, 2966.1778252680233, 2801.882792865641, 3201.752265303566, 2743.8475658483453, 2759.782210892336, 3188.6625270759755, 2869.634580301843, 7671.966081366582, 6918.398059869611, 5408.481011142092, 4464.706482357561, 4293.204084428563, 4234.105037517232, 3879.7044313234987, 3455.932230971894, 3409.089030317178, 2871.013909717998, 2782.8384259843065, 2606.9462335104854, 2507.6028556477713, 2276.6057675331103, 2413.421833368603, 2222.96226418955, 2229.130982178801, 2088.0944539098127, 2102.7716423554866, 1981.567167911741, 1877.8341292578468, 1770.1561606738794, 1714.3695227175315, 1668.3851542009115, 1744.3866489071609, 2383.2801825378638, 1495.3530158633473, 1480.218791221462, 1470.2109424333064, 1395.5213034520912, 2356.3924903203615, 10783.736696646602, 5850.383369377977, 6339.389520533669, 5030.255096849382, 3383.522551011036, 2848.8872356141296, 2936.1665984662145, 2745.944096177123, 2761.4990540564004, 2507.8513438184486, 2323.6140313142005, 2437.502465235773, 2052.0225028541327, 1913.5346024803232, 1907.713606600446, 1864.231197179454, 2232.122128953238, 1600.2136759964005, 1690.6982004580716, 1496.0260433444018, 1428.7015521014328, 1468.885917674441, 1262.002321802176, 1244.1169372932982, 1140.5747315647907, 1135.607463503528, 1233.5395498379478, 1093.9032579758762, 1116.761544650599, 1172.4137004562779, 3266.2372349496673, 5921.878872917158, 3851.8915243140063, 2146.813126046848, 1834.3135202393769, 1530.7657222451523, 1437.1247868973437, 1272.8681100632245, 1265.4710066326631, 1180.4614431453742, 1204.971912075221, 985.0641180238304, 833.4575720314323, 861.8653215110729, 708.2854828060789, 677.8891185978326, 643.9130740761237, 717.8688321030895, 692.872906821224, 677.3928224912042, 653.3410535570606, 635.6812638032465, 617.7882592445574, 568.2001323683397, 539.4363175315797, 552.4890286267837, 564.1370538841134, 517.8928769616161, 598.8818062358937, 511.5589842300397, 493.0861671431293, 518.4215093826292], \"Total\": [10784.0, 5922.0, 6340.0, 5851.0, 7672.0, 3852.0, 5031.0, 6919.0, 10350.0, 9707.0, 5409.0, 9038.0, 3384.0, 8048.0, 3300.0, 7733.0, 4465.0, 4294.0, 4234.0, 2936.0, 2849.0, 2147.0, 3880.0, 2762.0, 2746.0, 6131.0, 2508.0, 5943.0, 3456.0, 3409.0, 10350.306090324686, 9707.87502196818, 9038.463752697271, 8048.88598679111, 7733.635441181723, 6131.447035542608, 5943.454395457505, 5474.587841633656, 5282.462685901485, 4900.2191652798365, 4890.28935372873, 4622.819458359847, 4416.841870057351, 4306.54643911667, 4004.972523720662, 4018.3862908409346, 3946.3792140758114, 4223.834030782236, 3542.964973411958, 3326.3743616088605, 3230.9486814389343, 3272.89700408126, 3161.0662699733443, 3187.3523974452514, 2893.3084044348675, 2966.9294047633166, 2802.6249014200407, 3202.6384654093404, 2744.615464065928, 2760.5588336008504, 3581.819442816645, 3453.2057230657624, 7672.778444903452, 6919.212402054877, 5409.29987061958, 4465.519228538232, 4294.013558735718, 4234.91599164454, 3880.5347891911215, 3456.7480655201775, 3409.914355218194, 2871.825497708321, 2783.668020378008, 2607.763107154452, 2508.4401127991546, 2277.4205060334757, 2414.287600278541, 2223.776544114574, 2229.959424374787, 2088.901493036182, 2103.6078648580933, 1982.3883510434375, 1878.6437558054029, 1770.963195955223, 1715.1856418989569, 1669.191001394358, 1745.2516395362359, 2384.5281332967575, 1496.164397620992, 1481.0383429307528, 1471.0504568559397, 1396.3229754726783, 5147.001241025849, 10784.502644566977, 5851.142945295333, 6340.2692623372, 5031.014079026526, 3384.2958340543855, 2849.642363378178, 2936.956020826835, 2746.7165247546905, 2762.2789569614897, 2508.6282534388106, 2324.428936477041, 2438.4185895117803, 2052.8172440690487, 1914.2769876278765, 1908.4921853368633, 1865.0211365154396, 2233.098547487522, 1600.9795840411398, 1691.5434169869932, 1496.7972234347092, 1429.4689576182236, 1469.7117369336963, 1262.7457263544027, 1244.8608394094501, 1141.3400144395857, 1136.382059919579, 1234.3894976613415, 1094.6736581226994, 1117.5721767831099, 1173.284981767697, 3300.82872341992, 5922.736456636681, 3852.710759124589, 2147.6291836670766, 1835.0734164950852, 1531.613122732387, 1437.9702107009546, 1273.6742158734473, 1266.3050453664214, 1181.2917657127232, 1205.8291939559676, 985.8449986665173, 834.254965799013, 862.7626460507646, 709.1098574375322, 678.6806150663664, 644.6874797762973, 718.7378708528338, 693.7222367279555, 678.2459062298508, 654.1723796138624, 636.4945851821949, 618.6132314565366, 569.0035454689946, 540.204426456599, 553.2776041701451, 564.943701606487, 518.6528719670591, 599.7670135096323, 512.3667061255305, 493.8661058074733, 519.3132329956043], \"Category\": [\"Default\", \"Default\", \"Default\", \"Default\", \"Default\", \"Default\", \"Default\", \"Default\", \"Default\", \"Default\", \"Default\", \"Default\", \"Default\", \"Default\", \"Default\", \"Default\", \"Default\", \"Default\", \"Default\", \"Default\", \"Default\", \"Default\", \"Default\", \"Default\", \"Default\", \"Default\", \"Default\", \"Default\", \"Default\", \"Default\", \"Topic1\", \"Topic1\", \"Topic1\", \"Topic1\", \"Topic1\", \"Topic1\", \"Topic1\", \"Topic1\", \"Topic1\", \"Topic1\", \"Topic1\", \"Topic1\", \"Topic1\", \"Topic1\", \"Topic1\", \"Topic1\", \"Topic1\", \"Topic1\", \"Topic1\", \"Topic1\", \"Topic1\", \"Topic1\", \"Topic1\", \"Topic1\", \"Topic1\", \"Topic1\", \"Topic1\", \"Topic1\", \"Topic1\", \"Topic1\", \"Topic1\", \"Topic1\", \"Topic2\", \"Topic2\", \"Topic2\", \"Topic2\", \"Topic2\", \"Topic2\", \"Topic2\", \"Topic2\", \"Topic2\", \"Topic2\", \"Topic2\", \"Topic2\", \"Topic2\", \"Topic2\", \"Topic2\", \"Topic2\", \"Topic2\", \"Topic2\", \"Topic2\", \"Topic2\", \"Topic2\", \"Topic2\", \"Topic2\", \"Topic2\", \"Topic2\", \"Topic2\", \"Topic2\", \"Topic2\", \"Topic2\", \"Topic2\", \"Topic2\", \"Topic3\", \"Topic3\", \"Topic3\", \"Topic3\", \"Topic3\", \"Topic3\", \"Topic3\", \"Topic3\", \"Topic3\", \"Topic3\", \"Topic3\", \"Topic3\", \"Topic3\", \"Topic3\", \"Topic3\", \"Topic3\", \"Topic3\", \"Topic3\", \"Topic3\", \"Topic3\", \"Topic3\", \"Topic3\", \"Topic3\", \"Topic3\", \"Topic3\", \"Topic3\", \"Topic3\", \"Topic3\", \"Topic3\", \"Topic3\", \"Topic3\", \"Topic4\", \"Topic4\", \"Topic4\", \"Topic4\", \"Topic4\", \"Topic4\", \"Topic4\", \"Topic4\", \"Topic4\", \"Topic4\", \"Topic4\", \"Topic4\", \"Topic4\", \"Topic4\", \"Topic4\", \"Topic4\", \"Topic4\", \"Topic4\", \"Topic4\", \"Topic4\", \"Topic4\", \"Topic4\", \"Topic4\", \"Topic4\", \"Topic4\", \"Topic4\", \"Topic4\", \"Topic4\", \"Topic4\", \"Topic4\", \"Topic4\"], \"logprob\": [30.0, 29.0, 28.0, 27.0, 26.0, 25.0, 24.0, 23.0, 22.0, 21.0, 20.0, 19.0, 18.0, 17.0, 16.0, 15.0, 14.0, 13.0, 12.0, 11.0, 10.0, 9.0, 8.0, 7.0, 6.0, 5.0, 4.0, 3.0, 2.0, 1.0, -3.8632, -3.9273, -3.9987, -4.1147, -4.1547, -4.3868, -4.418, -4.5001, -4.5359, -4.611, -4.613, -4.6693, -4.7149, -4.7402, -4.8128, -4.8094, -4.8275, -4.7596, -4.9354, -4.9985, -5.0276, -5.0147, -5.0495, -5.0412, -5.138, -5.1129, -5.1698, -5.0364, -5.1908, -5.185, -5.0405, -5.1459, -3.6227, -3.7261, -3.9723, -4.1641, -4.2033, -4.2171, -4.3045, -4.4202, -4.4339, -4.6056, -4.6368, -4.7021, -4.741, -4.8376, -4.7793, -4.8615, -4.8587, -4.924, -4.917, -4.9764, -5.0302, -5.0892, -5.1213, -5.1484, -5.1039, -4.7918, -5.2579, -5.2681, -5.2749, -5.327, -4.8032, -2.7744, -3.3859, -3.3056, -3.5369, -3.9335, -4.1055, -4.0753, -4.1423, -4.1366, -4.233, -4.3093, -4.2614, -4.4336, -4.5034, -4.5065, -4.5295, -4.3494, -4.6823, -4.6273, -4.7496, -4.7956, -4.7679, -4.9197, -4.934, -5.0209, -5.0252, -4.9425, -5.0626, -5.042, -4.9933, -3.9688, -2.8086, -3.2386, -3.8232, -3.9805, -4.1614, -4.2246, -4.3459, -4.3518, -4.4213, -4.4008, -4.6023, -4.7694, -4.7359, -4.9321, -4.976, -5.0274, -4.9187, -4.9541, -4.9767, -5.0129, -5.0403, -5.0688, -5.1525, -5.2044, -5.1805, -5.1597, -5.2452, -5.0999, -5.2575, -5.2943, -5.2442], \"loglift\": [30.0, 29.0, 28.0, 27.0, 26.0, 25.0, 24.0, 23.0, 22.0, 21.0, 20.0, 19.0, 18.0, 17.0, 16.0, 15.0, 14.0, 13.0, 12.0, 11.0, 10.0, 9.0, 8.0, 7.0, 6.0, 5.0, 4.0, 3.0, 2.0, 1.0, 0.7574, 0.7574, 0.7574, 0.7574, 0.7574, 0.7574, 0.7573, 0.7573, 0.7573, 0.7573, 0.7573, 0.7573, 0.7573, 0.7573, 0.7573, 0.7573, 0.7573, 0.7573, 0.7573, 0.7573, 0.7572, 0.7572, 0.7572, 0.7572, 0.7572, 0.7572, 0.7572, 0.7572, 0.7572, 0.7572, 0.6412, 0.5724, 1.2972, 1.2972, 1.2972, 1.2971, 1.2971, 1.2971, 1.2971, 1.2971, 1.2971, 1.297, 1.297, 1.297, 1.297, 1.2969, 1.2969, 1.2969, 1.2969, 1.2969, 1.2969, 1.2969, 1.2969, 1.2969, 1.2968, 1.2968, 1.2968, 1.2968, 1.2968, 1.2968, 1.2967, 1.2967, 0.516, 1.8051, 1.8051, 1.8051, 1.8051, 1.805, 1.8049, 1.8049, 1.8049, 1.8049, 1.8049, 1.8049, 1.8048, 1.8048, 1.8048, 1.8048, 1.8048, 1.8048, 1.8047, 1.8047, 1.8047, 1.8047, 1.8046, 1.8046, 1.8046, 1.8045, 1.8045, 1.8045, 1.8045, 1.8045, 1.8045, 1.7947, 2.3702, 2.3702, 2.37, 2.37, 2.3698, 2.3698, 2.3698, 2.3697, 2.3697, 2.3697, 2.3696, 2.3694, 2.3694, 2.3692, 2.3692, 2.3692, 2.3692, 2.3692, 2.3691, 2.3691, 2.3691, 2.3691, 2.369, 2.369, 2.369, 2.369, 2.3689, 2.3689, 2.3688, 2.3688, 2.3687]}, \"token.table\": {\"Topic\": [4, 4, 2, 1, 2, 3, 4, 1, 2, 4, 2, 2, 2, 4, 2, 3, 3, 3, 4, 3, 3, 1, 2, 3, 1, 1, 3, 2, 3, 4, 4, 4, 1, 3, 3, 1, 4, 4, 1, 2, 4, 4, 2, 1, 1, 3, 4, 3, 3, 4, 1, 1, 2, 2, 1, 2, 1, 3, 2, 3, 4, 2, 4, 4, 4, 4, 4, 4, 2, 2, 1, 2, 4, 1, 4, 1, 3, 4, 2, 2, 1, 1, 1, 4, 1, 2, 3, 3, 4, 4, 2, 3, 1, 3, 2, 1, 3, 2, 3, 1, 1, 3, 2, 2, 3, 1, 3, 3, 4, 3, 2, 1, 2, 3, 4, 1, 1, 2, 1, 1, 4, 3, 1, 3, 1, 2, 4, 2, 4, 3, 2, 3, 2, 1], \"Freq\": [0.9997070333780795, 0.9981630464431752, 0.9994561174634103, 0.5352631310908527, 0.4577422638294188, 0.006411500299817835, 0.0005828636636198032, 0.9999704269301782, 0.9997125529705827, 0.997471212146802, 0.9993087384420708, 0.9998837249350728, 0.999568436788816, 0.9983295652225107, 0.9997835926986872, 0.9996719357802599, 0.9995157302511707, 0.999804662899878, 0.998721147558376, 0.9999125862309646, 0.9997998093953612, 0.9999039083536476, 0.9993591464594529, 0.00041937018315545653, 0.9999235469093778, 0.9999270913472763, 0.9994673804692931, 0.9998245472168504, 0.9997421077536263, 0.999284289706676, 0.9998155171335129, 0.9994150552858341, 0.999797565045871, 0.9999533919566305, 0.9998283356624738, 0.999909864726709, 0.9989733797497574, 0.9976908442334995, 0.8903296357932151, 0.10972077355494937, 0.998958896385732, 0.998933623192844, 0.9998040994120889, 0.9998926235817817, 0.9998025417722007, 0.9998154658676331, 0.9995996882481046, 0.9993846036965439, 0.9996637927216081, 0.9989694068019418, 0.9997276367620906, 0.9998731143099476, 0.9997318539051296, 0.9998153586338747, 0.9997063768160775, 0.9996573294945285, 0.9998093954725755, 0.9993881345827864, 0.9996507993950071, 0.9997020918961186, 0.9991428686379094, 0.9997600215352127, 0.9987412159416316, 0.9994706528050542, 0.9984348582580097, 0.9984957047300149, 0.9982462740461664, 0.9990086997410438, 0.9997073709830627, 0.9992989088123821, 0.8311117929724756, 0.16882863250973984, 0.9993123454299134, 0.9998934076870635, 0.9989064803884891, 0.9998874565613597, 0.9997391340721793, 0.9998756560177761, 0.9994666748574642, 0.9997686957255939, 0.9999408309595199, 0.9997770299479877, 0.9998227362398147, 0.9989971496882966, 0.9999038691621522, 0.9992864798615838, 0.9996018914633488, 0.999774581053948, 0.9991160418751837, 0.9992229546115411, 0.9992217448678478, 0.9989047999525563, 0.9999124109475075, 0.9996844612967953, 0.9998621867293623, 0.999757170938152, 0.9994524799234461, 0.9997837048842653, 0.9994880180493068, 0.99991783409154, 0.9997512018873616, 0.9995080613487668, 0.9997639600523254, 0.9998247774480059, 0.9993084854288946, 0.9999486912035098, 0.9994094406032514, 0.9998553043108878, 0.9993252915159615, 0.9995369921063669, 0.9992828314794946, 0.009997489347405273, 0.00030295422264864467, 0.9894484911704734, 0.00030295422264864467, 0.999686745238419, 0.9998006439327335, 0.9995697570259351, 0.999889438819023, 0.9996626866119598, 0.9982078429930741, 0.9996744858213553, 0.9998899242960375, 0.9997495629581826, 0.9997259296335504, 0.9997110369911388, 0.9977704246807098, 0.9998985445873302, 0.9982363106926382, 0.9997984344685591, 0.9992859137828727, 0.9996787448778813, 0.9997596970678885, 0.999775755812067], \"Term\": [\"accident\", \"accord\", \"administration\", \"amp\", \"amp\", \"amp\", \"amp\", \"another\", \"apply\", \"axle\", \"back\", \"biden\", \"blame\", \"border\", \"brake\", \"break\", \"burn\", \"car\", \"care\", \"cargo\", \"carolina\", \"cause\", \"change\", \"change\", \"chemical\", \"company\", \"county\", \"crash\", \"crew\", \"damage\", \"danger\", \"de\", \"demand\", \"derail\", \"derailed\", \"derails\", \"detector\", \"die\", \"disaster\", \"disaster\", \"due\", \"dump\", \"effect\", \"epa\", \"even\", \"feb\", \"fire\", \"firm\", \"follow\", \"fox\", \"freight\", \"get\", \"go\", \"gop\", \"happen\", \"hazard\", \"hazardous\", \"hazmat\", \"high\", \"involve\", \"kill\", \"know\", \"la\", \"last\", \"law\", \"lawsuit\", \"le\", \"least\", \"like\", \"look\", \"make\", \"make\", \"many\", \"material\", \"mile\", \"month\", \"news\", \"north\", \"ntsb\", \"obama\", \"one\", \"order\", \"pay\", \"pennsylvania\", \"people\", \"pete\", \"petition\", \"place\", \"please\", \"power\", \"president\", \"profit\", \"public\", \"put\", \"rail\", \"railroad\", \"railway\", \"regulation\", \"release\", \"report\", \"resident\", \"responsible\", \"rule\", \"safety\", \"saturday\", \"say\", \"second\", \"shelter\", \"show\", \"sign\", \"site\", \"springfield\", \"springfield\", \"springfield\", \"springfield\", \"state\", \"still\", \"stop\", \"take\", \"tell\", \"three\", \"time\", \"toxic\", \"track\", \"train\", \"transportation\", \"truck\", \"trump\", \"usa\", \"via\", \"waste\", \"wheel\", \"would\", \"year\"]}, \"R\": 30, \"lambda.step\": 0.01, \"plot.opts\": {\"xlab\": \"PC1\", \"ylab\": \"PC2\"}, \"topic.order\": [2, 4, 3, 1]};\n",
       "\n",
       "function LDAvis_load_lib(url, callback){\n",
       "  var s = document.createElement('script');\n",
       "  s.src = url;\n",
       "  s.async = true;\n",
       "  s.onreadystatechange = s.onload = callback;\n",
       "  s.onerror = function(){console.warn(\"failed to load library \" + url);};\n",
       "  document.getElementsByTagName(\"head\")[0].appendChild(s);\n",
       "}\n",
       "\n",
       "if(typeof(LDAvis) !== \"undefined\"){\n",
       "   // already loaded: just create the visualization\n",
       "   !function(LDAvis){\n",
       "       new LDAvis(\"#\" + \"ldavis_el3399109435227364083215705\", ldavis_el3399109435227364083215705_data);\n",
       "   }(LDAvis);\n",
       "}else if(typeof define === \"function\" && define.amd){\n",
       "   // require.js is available: use it to load d3/LDAvis\n",
       "   require.config({paths: {d3: \"https://d3js.org/d3.v5\"}});\n",
       "   require([\"d3\"], function(d3){\n",
       "      window.d3 = d3;\n",
       "      LDAvis_load_lib(\"https://cdn.jsdelivr.net/gh/bmabey/pyLDAvis@3.3.1/pyLDAvis/js/ldavis.v3.0.0.js\", function(){\n",
       "        new LDAvis(\"#\" + \"ldavis_el3399109435227364083215705\", ldavis_el3399109435227364083215705_data);\n",
       "      });\n",
       "    });\n",
       "}else{\n",
       "    // require.js not available: dynamically load d3 & LDAvis\n",
       "    LDAvis_load_lib(\"https://d3js.org/d3.v5.js\", function(){\n",
       "         LDAvis_load_lib(\"https://cdn.jsdelivr.net/gh/bmabey/pyLDAvis@3.3.1/pyLDAvis/js/ldavis.v3.0.0.js\", function(){\n",
       "                 new LDAvis(\"#\" + \"ldavis_el3399109435227364083215705\", ldavis_el3399109435227364083215705_data);\n",
       "            })\n",
       "         });\n",
       "}\n",
       "</script>"
      ],
      "text/plain": [
       "PreparedData(topic_coordinates=              x         y  topics  cluster       Freq\n",
       "topic                                                \n",
       "1     -0.341831 -0.172684       1        1  46.884871\n",
       "3     -0.051284  0.366037       2        1  27.326682\n",
       "2      0.218580 -0.147803       3        1  16.444026\n",
       "0      0.174536 -0.045550       4        1   9.344421, topic_info=           Term          Freq         Total Category  logprob  loglift\n",
       "118      derail  10784.000000  10784.000000  Default  30.0000  30.0000\n",
       "2587      north   5922.000000   5922.000000  Default  29.0000  29.0000\n",
       "2583   carolina   6340.000000   6340.000000  Default  28.0000  28.0000\n",
       "354         car   5851.000000   5851.000000  Default  27.0000  27.0000\n",
       "149       trump   7672.000000   7672.000000  Default  26.0000  26.0000\n",
       "...         ...           ...           ...      ...      ...      ...\n",
       "1614         la    517.892877    518.652872   Topic4  -5.2452   2.3689\n",
       "923        care    598.881806    599.767014   Topic4  -5.0999   2.3689\n",
       "32       damage    511.558984    512.366706   Topic4  -5.2575   2.3688\n",
       "23727        le    493.086167    493.866106   Topic4  -5.2943   2.3688\n",
       "2330       axle    518.421509    519.313233   Topic4  -5.2442   2.3687\n",
       "\n",
       "[155 rows x 6 columns], token_table=      Topic      Freq            Term\n",
       "term                                 \n",
       "309       4  0.999707        accident\n",
       "310       4  0.998163          accord\n",
       "290       2  0.999456  administration\n",
       "9481      1  0.535263             amp\n",
       "9481      2  0.457742             amp\n",
       "...     ...       ...             ...\n",
       "208       3  0.999798             via\n",
       "947       2  0.999286           waste\n",
       "1304      3  0.999679           wheel\n",
       "359       2  0.999760           would\n",
       "231       1  0.999776            year\n",
       "\n",
       "[134 rows x 3 columns], R=30, lambda_step=0.01, plot_opts={'xlab': 'PC1', 'ylab': 'PC2'}, topic_order=[2, 4, 3, 1])"
      ]
     },
     "execution_count": 71,
     "metadata": {},
     "output_type": "execute_result"
    }
   ],
   "source": [
    "# Visualize the topics\n",
    "pyLDAvis.enable_notebook()\n",
    "vis = pyLDAvis.gensim_models.prepare(lda_model, corpus, id2word)\n",
    "vis"
   ]
  },
  {
   "attachments": {},
   "cell_type": "markdown",
   "metadata": {},
   "source": [
    "toxic : 0.022457791846392967\n",
    "ceo : 0.01909519770061295\n",
    "resident : 0.017347292501322095\n",
    "chemical : 0.016160113157076755\n",
    "epa : 0.013899063024322483\n",
    "via : 0.009893960751737617\n",
    "pay : 0.008269276069613581\n",
    "say : 0.008163893554262587\n",
    "senate : 0.008134594278846838\n",
    "tell : 0.007605117286419225\n",
    "congress : 0.006781515182579619\n",
    "order : 0.006306676179334696\n",
    "clean : 0.006226100852638858\n",
    "rail : 0.0062106600464542985\n",
    "crash : 0.006076923915123679\n",
    "site : 0.005999986680991488\n",
    "worker : 0.0059216764863732185\n",
    "animal : 0.005689835953484064\n",
    "company : 0.00549751936463235\n",
    "demand : 0.005352323604188377"
   ]
  },
  {
   "cell_type": "code",
   "execution_count": 72,
   "metadata": {},
   "outputs": [],
   "source": [
    "def compute_coherence_values(dictionary, corpus, texts, limit, start=2, step=3):\n",
    "    \"\"\"\n",
    "    Compute c_v coherence for various number of topics\n",
    "\n",
    "    Parameters:\n",
    "    ----------\n",
    "    dictionary : Gensim dictionary\n",
    "    corpus : Gensim corpus\n",
    "    texts : List of input texts\n",
    "    limit : Max num of topics\n",
    "\n",
    "    Returns:\n",
    "    -------\n",
    "    model_list : List of LDA topic models\n",
    "    coherence_values : Coherence values corresponding to the LDA model with respective number of topics\n",
    "    \"\"\"\n",
    "    coherence_values = []\n",
    "    model_list = []\n",
    "    for num_topics in range(start, limit, step):\n",
    "        model = gensim.models.wrappers.LdaMallet(mallet_path, corpus=corpus, num_topics=num_topics, id2word=id2word)\n",
    "        model_list.append(model)\n",
    "        coherencemodel = CoherenceModel(model=model, texts=texts, dictionary=dictionary, coherence='c_v')\n",
    "        coherence_values.append(coherencemodel.get_coherence())\n",
    "\n",
    "    return model_list, coherence_values"
   ]
  },
  {
   "cell_type": "code",
   "execution_count": 73,
   "metadata": {},
   "outputs": [
    {
     "ename": "AttributeError",
     "evalue": "module 'gensim.models' has no attribute 'wrappers'",
     "output_type": "error",
     "traceback": [
      "\u001b[0;31m---------------------------------------------------------------------------\u001b[0m",
      "\u001b[0;31mAttributeError\u001b[0m                            Traceback (most recent call last)",
      "Cell \u001b[0;32mIn[73], line 2\u001b[0m\n\u001b[1;32m      1\u001b[0m \u001b[39m# Can take a long time to run.\u001b[39;00m\n\u001b[0;32m----> 2\u001b[0m model_list, coherence_values \u001b[39m=\u001b[39m compute_coherence_values(dictionary\u001b[39m=\u001b[39;49mid2word, corpus\u001b[39m=\u001b[39;49mcorpus, texts\u001b[39m=\u001b[39;49mdata_lemmatized, start\u001b[39m=\u001b[39;49m\u001b[39m2\u001b[39;49m, limit\u001b[39m=\u001b[39;49m\u001b[39m40\u001b[39;49m, step\u001b[39m=\u001b[39;49m\u001b[39m6\u001b[39;49m)\n",
      "Cell \u001b[0;32mIn[72], line 20\u001b[0m, in \u001b[0;36mcompute_coherence_values\u001b[0;34m(dictionary, corpus, texts, limit, start, step)\u001b[0m\n\u001b[1;32m     18\u001b[0m model_list \u001b[39m=\u001b[39m []\n\u001b[1;32m     19\u001b[0m \u001b[39mfor\u001b[39;00m num_topics \u001b[39min\u001b[39;00m \u001b[39mrange\u001b[39m(start, limit, step):\n\u001b[0;32m---> 20\u001b[0m     model \u001b[39m=\u001b[39m gensim\u001b[39m.\u001b[39;49mmodels\u001b[39m.\u001b[39;49mwrappers\u001b[39m.\u001b[39mLdaMallet(mallet_path, corpus\u001b[39m=\u001b[39mcorpus, num_topics\u001b[39m=\u001b[39mnum_topics, id2word\u001b[39m=\u001b[39mid2word)\n\u001b[1;32m     21\u001b[0m     model_list\u001b[39m.\u001b[39mappend(model)\n\u001b[1;32m     22\u001b[0m     coherencemodel \u001b[39m=\u001b[39m CoherenceModel(model\u001b[39m=\u001b[39mmodel, texts\u001b[39m=\u001b[39mtexts, dictionary\u001b[39m=\u001b[39mdictionary, coherence\u001b[39m=\u001b[39m\u001b[39m'\u001b[39m\u001b[39mc_v\u001b[39m\u001b[39m'\u001b[39m)\n",
      "\u001b[0;31mAttributeError\u001b[0m: module 'gensim.models' has no attribute 'wrappers'"
     ]
    }
   ],
   "source": [
    "# Can take a long time to run.\n",
    "model_list, coherence_values = compute_coherence_values(dictionary=id2word, corpus=corpus, texts=data_lemmatized, start=2, limit=40, step=6)"
   ]
  },
  {
   "cell_type": "code",
   "execution_count": null,
   "metadata": {},
   "outputs": [],
   "source": [
    "# Show graph\n",
    "limit=40; start=2; step=6;\n",
    "x = range(start, limit, step)\n",
    "plt.plot(x, coherence_values)\n",
    "plt.xlabel(\"Num Topics\")\n",
    "plt.ylabel(\"Coherence score\")\n",
    "plt.legend((\"coherence_values\"), loc='best')\n",
    "plt.show()"
   ]
  },
  {
   "cell_type": "code",
   "execution_count": null,
   "metadata": {},
   "outputs": [],
   "source": []
  },
  {
   "cell_type": "code",
   "execution_count": null,
   "metadata": {},
   "outputs": [],
   "source": [
    "\n",
    "# Create Corpus\n",
    "# texts = data_lemmatized\n",
    "\n",
    "# Term Document Frequency\n",
    "# corpus = [id2word.doc2bow(text) for text in texts]\n",
    "\n",
    "# View\n",
    "# print(corpus[:1][0][:30])"
   ]
  }
 ],
 "metadata": {
  "kernelspec": {
   "display_name": "Python 3.8.11 ('UDA_RIG')",
   "language": "python",
   "name": "python3"
  },
  "language_info": {
   "codemirror_mode": {
    "name": "ipython",
    "version": 3
   },
   "file_extension": ".py",
   "mimetype": "text/x-python",
   "name": "python",
   "nbconvert_exporter": "python",
   "pygments_lexer": "ipython3",
   "version": "3.9.16"
  },
  "vscode": {
   "interpreter": {
    "hash": "d1a526087eeeed7e3a2dd7dbe3d8582928a2e8e80d21671a2817819bcd9f426f"
   }
  }
 },
 "nbformat": 4,
 "nbformat_minor": 2
}

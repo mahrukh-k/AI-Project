{
 "cells": [
  {
   "attachments": {},
   "cell_type": "markdown",
   "metadata": {},
   "source": [
    "# TO DO\n",
    "- MORE Visualizations : Choosing the number of topics, results graph...\n",
    "- Where to include optimal number of topics, coherence, perplexity y unique words?\n",
    "- Interpretation of Lambda (l)\n",
    "- Intepretation of perplexity and sparsity and loglikelihood (include formulas)\n",
    "- Choosing the best model (grid search based on loglikelihood?)\n",
    "- Give each topic a \"name\"\n",
    "- Add coherence to the metrics????\n",
    "- 'make pretty'"
   ]
  },
  {
   "cell_type": "code",
   "execution_count": null,
   "metadata": {},
   "outputs": [],
   "source": []
  },
  {
   "cell_type": "code",
   "execution_count": null,
   "metadata": {},
   "outputs": [],
   "source": []
  },
  {
   "attachments": {},
   "cell_type": "markdown",
   "metadata": {},
   "source": [
    "# LDA analysis"
   ]
  },
  {
   "cell_type": "code",
   "execution_count": 2,
   "metadata": {},
   "outputs": [
    {
     "name": "stderr",
     "output_type": "stream",
     "text": [
      "[nltk_data] Downloading package punkt to /Users/ribarragi/nltk_data...\n",
      "[nltk_data]   Package punkt is already up-to-date!\n",
      "[nltk_data] Downloading package stopwords to\n",
      "[nltk_data]     /Users/ribarragi/nltk_data...\n",
      "[nltk_data]   Package stopwords is already up-to-date!\n",
      "[nltk_data] Downloading package wordnet to\n",
      "[nltk_data]     /Users/ribarragi/nltk_data...\n",
      "[nltk_data]   Package wordnet is already up-to-date!\n",
      "[nltk_data] Downloading package omw-1.4 to\n",
      "[nltk_data]     /Users/ribarragi/nltk_data...\n",
      "[nltk_data]   Package omw-1.4 is already up-to-date!\n",
      "[nltk_data] Downloading package averaged_perceptron_tagger to\n",
      "[nltk_data]     /Users/ribarragi/nltk_data...\n",
      "[nltk_data]   Package averaged_perceptron_tagger is already up-to-\n",
      "[nltk_data]       date!\n"
     ]
    }
   ],
   "source": [
    "# Import libraries\n",
    "%matplotlib inline\n",
    "import matplotlib.pyplot as plt\n",
    "import numpy as np\n",
    "np.set_printoptions(precision=5, suppress=True)\n",
    "import pandas as pd\n",
    "# data: 20 news groups\n",
    "\n",
    "import nltk\n",
    "from nltk.corpus import stopwords, wordnet\n",
    "from nltk.tokenize import RegexpTokenizer\n",
    "from nltk.stem import WordNetLemmatizer \n",
    "nltk.download('punkt')\n",
    "nltk.download('stopwords')\n",
    "nltk.download('wordnet')\n",
    "nltk.download('omw-1.4')\n",
    "nltk.download('averaged_perceptron_tagger')\n",
    "import random\n",
    "from sklearn.feature_extraction.text import CountVectorizer\n",
    "\n",
    "import pyLDAvis.sklearn\n",
    "from sklearn.decomposition import LatentDirichletAllocation\n",
    "import matplotlib.pyplot as plt\n",
    "import warnings\n",
    "warnings.filterwarnings(\"ignore\",category=DeprecationWarning)\n",
    "pyLDAvis.enable_notebook()"
   ]
  },
  {
   "attachments": {},
   "cell_type": "markdown",
   "metadata": {},
   "source": [
    "## Data preprocessing"
   ]
  },
  {
   "cell_type": "code",
   "execution_count": 3,
   "metadata": {},
   "outputs": [],
   "source": [
    "# Read in data\n",
    "df = pd.read_csv('../data/data_tweet.csv')\n",
    "\n",
    "# RIG (made some changes to stopwords)\n",
    "# modify default stop words\n",
    "add_stopwords = set(['rt','train','southern','east','derailment','norfolk','palestine','february','u','ohio', 'amp', '20', 'car', ])\n",
    "remove_stopwords = set([\"no\", \"not\", \"nor\", \"against\", \"aren't\", \"couldn't\", \"didn't\", \n",
    "                                                   \"doesn't\", \"don't\", \"haven't\", \"hadn't\", \"hasn't\", \"isn't\", \"mightn't\",\n",
    "                                                   \"mustn't\", \"needn't\", \"shouldn't\", \"wasn't\", \"weren't\", \"wouldn't\"])\n",
    "# remove stopwords (not impacting sentiment analysis) and punctuations\n",
    "stop_words = set(stopwords.words('english')) - remove_stopwords\n",
    "stop_words = set(stopwords.words('english')).union(add_stopwords)\n",
    "# stop_words = set(stopwords.words('english')).union(add_stopwords_2)\n",
    "tokenizer = RegexpTokenizer(r'\\w+')\n",
    "\n",
    "\n",
    "# normalize pos tags\n",
    "lemmatizer = WordNetLemmatizer()\n",
    "\n",
    "def pos_tagger(nltk_tag):\n",
    "  if nltk_tag.startswith('J'):\n",
    "      return wordnet.ADJ\n",
    "  elif nltk_tag.startswith('V'):\n",
    "      return wordnet.VERB\n",
    "  elif nltk_tag.startswith('N'):\n",
    "      return wordnet.NOUN\n",
    "  elif nltk_tag.startswith('R'):\n",
    "      return wordnet.ADV\n",
    "  else:         \n",
    "      return None\n",
    "\n",
    "# lemmatize each token with pos tag\n",
    "def lemma_token(row):\n",
    "  wordnet_tagged = list(map(lambda x: (x[0], pos_tagger(x[1])), row))\n",
    "  lemmatized = []\n",
    "  for word, tag in wordnet_tagged:\n",
    "    if tag is None:\n",
    "        # if there is no available tag, just append the original token\n",
    "        lemmatized.append(word)\n",
    "    else:       \n",
    "        # else use the pos tag to lemmatize the token\n",
    "        lemmatized.append(lemmatizer.lemmatize(word, tag))\n",
    "  return lemmatized\n",
    "\n",
    "\n",
    "# RIG (edit: added http://)\n",
    "# remove urls\n",
    "df['Message_no_url'] = df['MESSAGE'].apply(lambda x: \" \".join([word for word in x.split(\" \") if not(word.startswith((\"https://\", 'http://')))]))\n",
    "\n",
    "\n",
    "# tokenize MESSAGE and remove stopwords\n",
    "df['Text'] = df['Message_no_url'].map(tokenizer.tokenize)\n",
    "df['Text'] = df['Text'].apply(lambda x : nltk.pos_tag([item.lower() for item in x if item.lower() not in stop_words]))\n",
    "\n",
    "# apply lemmatization and reset index\n",
    "df['Text'] = df['Text'].apply(lambda row : lemma_token(row))\n",
    "df = df.reset_index(drop=True)\n",
    "\n",
    "# join words\n",
    "df['T_text'] = df['Text'].apply(lambda row : \" \".join(row))"
   ]
  },
  {
   "cell_type": "code",
   "execution_count": 4,
   "metadata": {},
   "outputs": [
    {
     "data": {
      "text/plain": [
       "85220"
      ]
     },
     "execution_count": 4,
     "metadata": {},
     "output_type": "execute_result"
    }
   ],
   "source": [
    "# number of documents (tweets) in our data\n",
    "len(df)"
   ]
  },
  {
   "cell_type": "code",
   "execution_count": 5,
   "metadata": {},
   "outputs": [],
   "source": [
    "# # We first used a random sample to test this\n",
    "# sample_size = 10000\n",
    "# random.seed(1)\n",
    "# # We will use a random sample of 10k tweets to test\n",
    "# idx_sample = random.sample(range(len(df.T_text)), sample_size)\n",
    "# # sample_data is a list of strings, each string is a tweet. ssample_Data is length 10k\n",
    "# sample_data = [df.T_text[i] for i in idx_sample]\n",
    "# len(sample_data)"
   ]
  },
  {
   "cell_type": "code",
   "execution_count": 6,
   "metadata": {},
   "outputs": [],
   "source": [
    "# take only the text\n",
    "sample_data = df.T_text.tolist()"
   ]
  },
  {
   "attachments": {},
   "cell_type": "markdown",
   "metadata": {},
   "source": [
    "## Vectorization"
   ]
  },
  {
   "attachments": {},
   "cell_type": "markdown",
   "metadata": {},
   "source": [
    "We use CountVectorizer to get term frequencies."
   ]
  },
  {
   "cell_type": "code",
   "execution_count": 7,
   "metadata": {},
   "outputs": [],
   "source": [
    "# We could cap the size of the vocab to vocab_size\n",
    "# If not capped, we have 48k words\n",
    "max_vocabulary = 15000\n",
    "\n",
    "# We can also set options to only keep words that appear in at least this percentage of documents\n",
    "# - min_df = 2 # words in less than 2 documents we discard them\n",
    "# And we can choose to only keep words that appear in at most this percentage of documents:\n",
    "# - max_df = 0.95 # words that appear in more than 95% of documents, we discard them\n",
    "# Finally, we can set max_features, to keep only the most frequently occuring words\n",
    "# - max_features = max_vocabulary # after I do the max_df, min_df and stopwords filetrs, I look at how many words I have left: if its greater than\n",
    "# max_features, I only keep the most popular. BUT, if the words left after the 3 filters is less than max_features, then it will be ignored. \n",
    "\n",
    "\n",
    "# tf_vectorizer = CountVectorizer(max_df=0.95,\n",
    "#                                 min_df=2,\n",
    "#                                 stop_words='english',\n",
    "#                                 max_features=max_vocabulary)\n",
    "\n",
    "# tf_vectorizer = CountVectorizer(stop_words='english')\n",
    "\n",
    "# We capped the number of words to 15k and the min doc frequency\n",
    "tf_vectorizer = CountVectorizer(min_df = 2, max_features=max_vocabulary)\n",
    "\n",
    "# tf: term frequency vectorizer\n",
    "\n",
    "# the fitting is learning the vocabulary: goes thru all the data and know the words it needs to keep track of\n",
    "# transform: Ive done the fitting, Ill go back to data points and convert each one into a feat vector representation using the vocab i learnt during fitting\n",
    "tf_fit = tf_vectorizer.fit(sample_data)\n",
    "tf = tf_vectorizer.fit_transform(sample_data)\n"
   ]
  },
  {
   "cell_type": "code",
   "execution_count": 8,
   "metadata": {},
   "outputs": [
    {
     "data": {
      "text/plain": [
       "(85220, 15000)"
      ]
     },
     "execution_count": 8,
     "metadata": {},
     "output_type": "execute_result"
    }
   ],
   "source": [
    "# size of the matrix (documents, words)\n",
    "tf.toarray().shape"
   ]
  },
  {
   "cell_type": "code",
   "execution_count": 9,
   "metadata": {},
   "outputs": [
    {
     "data": {
      "text/plain": [
       "10"
      ]
     },
     "execution_count": 9,
     "metadata": {},
     "output_type": "execute_result"
    }
   ],
   "source": [
    "# seems like the highest term-doc freq is 10\n",
    "max_freq = tf.toarray().max()\n",
    "max_freq"
   ]
  },
  {
   "cell_type": "code",
   "execution_count": 10,
   "metadata": {},
   "outputs": [
    {
     "data": {
      "text/plain": [
       "'trump state go trump trump trump trump trump trump trump trump trump'"
      ]
     },
     "execution_count": 10,
     "metadata": {},
     "output_type": "execute_result"
    }
   ],
   "source": [
    "# which doc / word combination has highest values?\n",
    "max_freq_idx = list(np.argwhere(tf.toarray()==max_freq)[0])\n",
    "max_freq_doc, max_freq_word = max_freq_idx\n",
    "# to print out the vocabulary in the doc-word freq matrix\n",
    "tf_vectorizer.get_feature_names_out()[max_freq_word]\n",
    "# In which document is this word?\n",
    "sample_data[max_freq_doc]"
   ]
  },
  {
   "cell_type": "code",
   "execution_count": 11,
   "metadata": {},
   "outputs": [
    {
     "data": {
      "text/plain": [
       "array([[0, 0, 0, ..., 0, 0, 0]])"
      ]
     },
     "execution_count": 11,
     "metadata": {},
     "output_type": "execute_result"
    }
   ],
   "source": [
    "tf[0].toarray()\n",
    "\n",
    "# I can index in to the zeroeth row of the matrix and convert into an array, I am anazlizing just the zeroeth row:\n",
    "# feature vector representation for the zeroeth document: \n",
    "# We should be able to write code to know what word corresponds each non zero number there\n",
    "\n",
    "# tf_vectorizer.get_feature_names_out()[(tf[0].toarray() != 0)[0]] # LIKE THIS!\n",
    "\n",
    "# run a for loop that goes thru the entries, and check to which indeces this corresponds in the vocabulary"
   ]
  },
  {
   "cell_type": "markdown",
   "metadata": {},
   "source": [
    "The fitting procedure determines the every topic's distribution over words; this information is stored in the `components_` attribute. There's a catch: we actually have to normalize to get the probability distributions (without this normalization, instead what the model has are pseudocounts for how often different words appear per topic)."
   ]
  },
  {
   "cell_type": "markdown",
   "metadata": {},
   "source": [
    "We now fit an LDA model to the data."
   ]
  },
  {
   "cell_type": "code",
   "execution_count": 12,
   "metadata": {},
   "outputs": [
    {
     "data": {
      "text/plain": [
       "LatentDirichletAllocation(n_components=4, random_state=0)"
      ]
     },
     "execution_count": 12,
     "metadata": {},
     "output_type": "execute_result"
    }
   ],
   "source": [
    "# Now LDA. This will take a while ong\n",
    "\n",
    "num_topics = 4\n",
    "\n",
    "lda = LatentDirichletAllocation(n_components=num_topics, random_state=0)\n",
    "lda.fit(tf)"
   ]
  },
  {
   "cell_type": "code",
   "execution_count": 13,
   "metadata": {},
   "outputs": [
    {
     "data": {
      "text/plain": [
       "(4, 15000)"
      ]
     },
     "execution_count": 13,
     "metadata": {},
     "output_type": "execute_result"
    }
   ],
   "source": [
    "lda.components_.shape\n",
    "# The shaope of this is 16 by 1000, 10 topics and 1000 words\n",
    "# These are not probability distributions yet"
   ]
  },
  {
   "cell_type": "code",
   "execution_count": 14,
   "metadata": {},
   "outputs": [
    {
     "data": {
      "text/plain": [
       "array([[  0.27365, 233.02054,   0.25006, ...,  11.21699,  11.21699,\n",
       "         11.21699],\n",
       "       [ 28.10881,  37.82829,   0.35485, ...,   0.25004,   0.25004,\n",
       "          0.25004],\n",
       "       [  6.47948, 464.91625,   0.26389, ...,   0.25257,   0.25257,\n",
       "          0.25257],\n",
       "       [ 59.13806, 625.23493,   6.1312 , ...,   0.2804 ,   0.2804 ,\n",
       "          0.2804 ]])"
      ]
     },
     "execution_count": 14,
     "metadata": {},
     "output_type": "execute_result"
    }
   ],
   "source": [
    "lda.components_  "
   ]
  },
  {
   "cell_type": "code",
   "execution_count": 15,
   "metadata": {},
   "outputs": [
    {
     "data": {
      "text/plain": [
       "array([346374.64316, 243854.68968, 267914.26725, 179606.3999 ])"
      ]
     },
     "execution_count": 15,
     "metadata": {},
     "output_type": "execute_result"
    }
   ],
   "source": [
    "# If we access: sum ACROSS COLUMNS (get rid of columns), I get 6 numbers: a sum for each row.\n",
    "# They dont sum uop to 1, because not probability distributions\n",
    "\n",
    "# .components_ is a raw count histogram, but why are there fractions?\n",
    "# Because of how it works: when it estimates how much a word belongs to a topic it does a prob assignment, not a deterministic assignment.\n",
    "lda.components_.sum(axis=1)"
   ]
  },
  {
   "cell_type": "code",
   "execution_count": 16,
   "metadata": {},
   "outputs": [],
   "source": [
    "topic_word_distributions = np.array([row / row.sum() for row in lda.components_])\n",
    "\n",
    "# we get the topic-word distribution matrix for the LDA model.  Each value represents the probability of each word occuring in that topic. \n",
    "# The higher the value of a word in a topic, the more strongly the word is associated with that topic"
   ]
  },
  {
   "cell_type": "code",
   "execution_count": 17,
   "metadata": {},
   "outputs": [
    {
     "data": {
      "text/plain": [
       "(4, 15000)"
      ]
     },
     "execution_count": 17,
     "metadata": {},
     "output_type": "execute_result"
    }
   ],
   "source": [
    "topic_word_distributions.shape"
   ]
  },
  {
   "cell_type": "code",
   "execution_count": 18,
   "metadata": {},
   "outputs": [
    {
     "name": "stdout",
     "output_type": "stream",
     "text": [
      "[0.      0.00067 0.      ... 0.00003 0.00003 0.00003]\n"
     ]
    }
   ],
   "source": [
    "print(topic_word_distributions[0])\n",
    "# lets look at 0th topic, it is saying that the 0th word appears 0.00006, word 1 appears with prob 0.00121"
   ]
  },
  {
   "cell_type": "code",
   "execution_count": 19,
   "metadata": {},
   "outputs": [],
   "source": [
    "# # we can sort the probability by big to small\n",
    "# # for each topic, listing top 20 most popular words (by probability)\n",
    "\n",
    "# num_top_words = 20\n",
    "\n",
    "# def print_top_words(topic_word_distributions, num_top_words, vectorizer):\n",
    "#     vocab = vectorizer.get_feature_names_out()\n",
    "#     num_topics = len(topic_word_distributions)\n",
    "#     print('Displaying the top %d words per topic and their probabilities within the topic...' % num_top_words)\n",
    "#     print()\n",
    "\n",
    "#     for topic_idx in range(num_topics):\n",
    "#         print('[Topic ', topic_idx, ']', sep='')\n",
    "#         # This is the interesting part: take the topic_word_distributions only for the topic_idxth topic, and get the indexes sorted from highest to lowest\n",
    "#         sort_indices = np.argsort(-topic_word_distributions[topic_idx])\n",
    "#         # then for the range 0,num_words, print the vocab of each of the words and its entry in the topic_word_distribution matrix\n",
    "#         for rank in range(num_top_words):\n",
    "#             word_idx = sort_indices[rank]\n",
    "#             print(vocab[word_idx], ':',\n",
    "#                   topic_word_distributions[topic_idx, word_idx])\n",
    "#         print()\n",
    "\n",
    "# print_top_words(topic_word_distributions, num_top_words, tf_vectorizer)"
   ]
  },
  {
   "cell_type": "code",
   "execution_count": 20,
   "metadata": {},
   "outputs": [
    {
     "name": "stderr",
     "output_type": "stream",
     "text": [
      "/Users/ribarragi/miniconda3/envs/Intro_AI/lib/python3.9/site-packages/sklearn/utils/deprecation.py:87: FutureWarning: Function get_feature_names is deprecated; get_feature_names is deprecated in 1.0 and will be removed in 1.2. Please use get_feature_names_out instead.\n",
      "  warnings.warn(msg, category=FutureWarning)\n",
      "/Users/ribarragi/miniconda3/envs/Intro_AI/lib/python3.9/site-packages/pyLDAvis/_prepare.py:246: FutureWarning: In a future version of pandas all arguments of DataFrame.drop except for the argument 'labels' will be keyword-only.\n",
      "  default_term_info = default_term_info.sort_values(\n"
     ]
    },
    {
     "data": {
      "text/html": [
       "\n",
       "<link rel=\"stylesheet\" type=\"text/css\" href=\"https://cdn.jsdelivr.net/gh/bmabey/pyLDAvis@3.3.1/pyLDAvis/js/ldavis.v1.0.0.css\">\n",
       "\n",
       "\n",
       "<div id=\"ldavis_el565265665569248143644137\"></div>\n",
       "<script type=\"text/javascript\">\n",
       "\n",
       "var ldavis_el565265665569248143644137_data = {\"mdsDat\": {\"x\": [-0.134764016200765, -0.06716581186334009, -0.07592293400621897, 0.2778527620703237], \"y\": [0.18557398101341666, -0.13498100077103087, -0.08479945376475365, 0.03420647352236787], \"topics\": [1, 2, 3, 4], \"cluster\": [1, 1, 1, 1], \"Freq\": [33.34398623568269, 25.714547099893597, 23.515016532791034, 17.42645013163266]}, \"tinfo\": {\"Term\": [\"another\", \"ceo\", \"derail\", \"derails\", \"toxic\", \"resident\", \"chemical\", \"trump\", \"epa\", \"alabama\", \"springfield\", \"visit\", \"car\", \"water\", \"material\", \"senate\", \"via\", \"regulation\", \"hazardous\", \"safety\", \"shaw\", \"congress\", \"company\", \"rule\", \"month\", \"say\", \"brake\", \"public\", \"would\", \"cargo\", \"regulation\", \"brake\", \"blame\", \"rule\", \"obama\", \"apply\", \"deregulation\", \"fault\", \"ecp\", \"lobby\", \"repeal\", \"era\", \"bearing\", \"bank\", \"maintenance\", \"homendy\", \"misinformation\", \"deregulate\", \"regs\", \"plane\", \"diversity\", \"caggiano\", \"wall\", \"specialist\", \"jennifer\", \"2018\", \"gutted\", \"common\", \"box\", \"narrative\", \"failure\", \"categorize\", \"roll\", \"krassenstein\", \"wrong\", \"vote\", \"guess\", \"always\", \"nothing\", \"flammable\", \"gop\", \"guy\", \"seem\", \"corporation\", \"hazard\", \"lie\", \"would\", \"think\", \"prevent\", \"like\", \"republican\", \"trump\", \"back\", \"year\", \"derailment\", \"try\", \"train\", \"safety\", \"go\", \"administration\", \"high\", \"wheel\", \"even\", \"rail\", \"happen\", \"get\", \"people\", \"biden\", \"cause\", \"one\", \"know\", \"buttigieg\", \"see\", \"railroad\", \"disaster\", \"pete\", \"say\", \"make\", \"derail\", \"waste\", \"return\", \"prompt\", \"de\", \"movie\", \"brockovich\", \"erin\", \"petition\", \"noise\", \"evacuate\", \"skip\", \"netflix\", \"film\", \"reveals\", \"audio\", \"truckloads\", \"delivers\", \"activist\", \"pause\", \"shipment\", \"headache\", \"mount\", \"multimillion\", \"craft\", \"tour\", \"illusion\", \"clinic\", \"fume\", \"un\", \"la\", \"chloride\", \"fear\", \"vinyl\", \"cloud\", \"evacuation\", \"symptom\", \"jd\", \"visit\", \"resident\", \"door\", \"worry\", \"wednesday\", \"demand\", \"dead\", \"toxic\", \"chemical\", \"town\", \"spill\", \"vance\", \"area\", \"meeting\", \"place\", \"shelter\", \"answer\", \"concern\", \"hall\", \"release\", \"tell\", \"sign\", \"site\", \"health\", \"president\", \"home\", \"white\", \"burn\", \"via\", \"buttigieg\", \"disaster\", \"week\", \"biden\", \"us\", \"water\", \"crash\", \"trump\", \"people\", \"pete\", \"say\", \"derail\", \"file\", \"border\", \"shapiro\", \"cincinnati\", \"preliminary\", \"victim\", \"virginia\", \"dioxin\", \"deploy\", \"lawsuit\", \"josh\", \"monitoring\", \"ensure\", \"intake\", \"pollutant\", \"litigation\", \"center\", \"donovanlawtampa\", \"governorshapiro\", \"justice\", \"pledge\", \"chemicalspill\", \"multidistrict\", \"epamichaelregan\", \"entirely\", \"study\", \"bp\", \"recover\", \"regan\", \"gofund\", \"pennsylvania\", \"drink\", \"sample\", \"monitor\", \"special\", \"announces\", \"million\", \"test\", \"agency\", \"blackrock\", \"protection\", \"announce\", \"governor\", \"investigation\", \"alert\", \"administrator\", \"epa\", \"support\", \"fema\", \"federal\", \"gov\", \"clean\", \"cleanup\", \"pay\", \"sue\", \"team\", \"order\", \"help\", \"water\", \"dewine\", \"environmental\", \"state\", \"response\", \"fiery\", \"safety\", \"air\", \"river\", \"say\", \"company\", \"toxic\", \"chemical\", \"disaster\", \"follow\", \"official\", \"take\", \"biden\", \"ceo\", \"derails\", \"alabama\", \"senate\", \"shaw\", \"north\", \"carolina\", \"alan\", \"testifies\", \"testify\", \"springfield\", \"hearing\", \"cleveland\", \"saturday\", \"calhoun\", \"sound\", \"sorry\", \"aboard\", \"deeply\", \"myid\", \"toxins\", \"farmer\", \"testimony\", \"injury\", \"advice\", \"biometrics\", \"212\", \"surveil\", \"grill\", \"collides\", \"dump\", \"another\", \"danger\", \"truck\", \"congress\", \"committee\", \"employee\", \"derail\", \"cargo\", \"material\", \"second\", \"car\", \"public\", \"hour\", \"month\", \"hazardous\", \"county\", \"via\", \"say\", \"company\", \"report\", \"kill\", \"official\", \"break\", \"near\", \"news\", \"railroad\"], \"Freq\": [5782.0, 4917.0, 8824.0, 4289.0, 10461.0, 6674.0, 8707.0, 8352.0, 4486.0, 2293.0, 2275.0, 3535.0, 3564.0, 4447.0, 2864.0, 1796.0, 4829.0, 2821.0, 4064.0, 6452.0, 1542.0, 1776.0, 4639.0, 2368.0, 2981.0, 8773.0, 2026.0, 1675.0, 3324.0, 1540.0, 2820.9894466993287, 2025.4755633033205, 1872.8625922956257, 2366.675396485128, 783.9499982579125, 805.5802082216895, 775.0816677443012, 588.016455658548, 580.1484454322316, 492.5146231033417, 409.81777926600023, 357.63485120961195, 548.1002219293499, 327.02168599489494, 291.66556098238715, 268.0239701562878, 360.145056093853, 223.73364472105362, 223.70154514909592, 219.75499477927457, 194.1997062249017, 191.236719403808, 195.15660102650887, 193.19262467467323, 207.8059438976302, 162.6898749132294, 235.16271955156367, 157.75210554634145, 150.87561378882734, 169.48536065273046, 461.851081178217, 293.5178032888629, 812.105884927604, 299.6646128533271, 413.4748405568471, 544.1390707783646, 344.77012675534627, 304.645833751337, 979.6140659611842, 581.2232912870976, 1631.8687831828515, 326.2520856654714, 545.4047999799432, 477.7288534722113, 777.3587482413392, 892.3090391410202, 2860.3938855664655, 1286.9643486267164, 993.4844691088944, 2468.696323569129, 1294.6995203770791, 6196.3154792396645, 1491.3180007226729, 1609.5863668724046, 1559.4167841015885, 908.7517185817586, 1604.1306642960258, 4009.4218208069856, 2771.180868595744, 1445.7217194470747, 962.544722831146, 776.6852802068181, 1304.678235966943, 2396.439024406721, 1565.168137161973, 1976.9724735827472, 2195.4080505753336, 2541.0532270752374, 1741.2828932823488, 1890.4470945320759, 1505.7145413370272, 1728.374627770448, 1184.4736720488931, 1671.6587312276533, 1962.8425381409909, 1373.0746846918425, 1982.1620576548758, 1376.4307808172998, 1414.6310618328534, 1274.1508548271613, 630.3761530759974, 582.2847284477085, 524.4254127598984, 503.82248363256986, 510.65911335687224, 498.89297422351797, 482.2244852867629, 465.53770364165615, 372.2762728085904, 362.4610293748844, 312.4025540496442, 299.63809567143954, 281.96738733285554, 262.33800479509193, 252.5233287976996, 238.78034357687852, 240.73231727646092, 229.935767023291, 226.00805669465646, 225.02773365170623, 201.46938239008517, 187.73081481987015, 182.82130582757395, 180.85446536360624, 178.89887515176883, 174.96562203201833, 172.02215302477, 169.08113453803125, 166.12865809995114, 1495.0108762559694, 588.6808519770359, 1377.5102799125386, 368.916268219045, 346.0310451221169, 309.4312933112047, 298.6619311889167, 3292.6694529836354, 6011.165383114928, 375.14854218355356, 438.3433112535724, 493.10843584721636, 1026.653525040776, 640.8853103735755, 7824.179279546152, 6481.4144739669455, 2193.7153479612894, 1732.5356470524412, 600.0449305540124, 1034.7161750427886, 429.7140491330216, 1285.7459401539265, 895.3888690403131, 900.4479943859164, 1244.9806203795815, 667.2832108855968, 1555.6043796434042, 1784.0908643863581, 870.6804158157316, 1842.3029927515129, 1400.3171156731205, 1354.078729850678, 861.9564944824708, 834.8362611066921, 1130.2676105841415, 2040.7463556276375, 1562.6549544625582, 2119.2701097185895, 1512.026538748854, 2032.5120181328327, 1311.2806638872487, 1761.9753758762643, 1423.300804934079, 2154.1497059608896, 1576.465653773326, 1282.8766003521814, 1363.8100275141342, 1343.7924384830894, 483.3490341285958, 612.2172053481493, 356.27714080348875, 354.3001590840012, 357.2479324477807, 814.8614793521322, 318.79369709754525, 615.5727194488871, 250.7458682592605, 846.578185044392, 228.0632157600302, 187.62318977767234, 302.55080624974335, 174.80958378315222, 173.81869345163696, 168.88985793030145, 255.27564924243944, 157.0577687181561, 151.1329825756434, 160.92189282092485, 416.04643745437124, 143.24176199989205, 140.2919997828924, 140.28130471923572, 138.2961977033621, 140.2491650295858, 133.3819425969635, 221.6192301875707, 196.1023034508003, 121.5518183900421, 1111.8740904626734, 620.0028937326597, 235.02975409073053, 333.54937529265476, 227.7929243565064, 197.7084070205325, 1476.1871801817051, 1520.4086915757127, 1104.9958373044021, 258.97650932107996, 513.6863620624758, 553.6124364010011, 1250.863641935972, 852.6915425306609, 456.0701898545841, 292.7478922278754, 3664.943933585633, 871.2185847975943, 860.7380439580102, 1830.395859217368, 1239.413792812785, 1388.4785266865547, 1130.627542524862, 1858.1043758125638, 966.8426843782379, 588.7562480270882, 1622.3441300738855, 1710.1813652751368, 2684.0804501866237, 1529.0902566284321, 1473.553592136077, 1782.6391811799112, 1281.3728322116829, 649.5631927413789, 2226.7105351446585, 1132.1293425941706, 797.7259331047898, 2332.0280071343614, 1529.520264506183, 2066.6060856908903, 1732.2253744513218, 1316.0173589041528, 1027.2813295992632, 1105.9681888270857, 939.8266969515299, 985.7984428034925, 4917.179518497696, 4289.038702888284, 2292.529572969948, 1795.3602532979808, 1541.3308450426434, 1132.4771307940596, 1078.9061007131586, 1031.272416279786, 896.3218913847488, 888.3804777937721, 2273.4763312743717, 793.1009219582821, 693.835145964643, 902.9719218546468, 569.8425692684311, 610.3850034732482, 534.0824648215396, 490.4509691086404, 349.5383139532312, 307.8517066918476, 297.93436730335804, 289.0047782212558, 274.12363716384766, 239.38302685315412, 245.26912463278651, 217.568089289912, 218.55512092544703, 216.57597554788208, 213.59098881117689, 199.69021084343981, 825.1031522097461, 5477.3647147347, 834.6879906062277, 827.7831931315795, 1610.685261601176, 540.773215007441, 726.084115704217, 6043.837327454616, 1261.99532948658, 2140.819265932857, 1120.2413384447384, 2534.6367341106916, 1327.6994878361456, 1117.4971907990014, 1830.167209779897, 2273.33507251723, 1129.1966657634343, 2255.9841845470505, 3095.945872834525, 2098.4173940268815, 1767.4634370057142, 1036.170228499523, 1282.5653277500796, 1106.0032226019935, 1052.6091005882604, 1126.5963668220973, 1059.4382834601463], \"Total\": [5782.0, 4917.0, 8824.0, 4289.0, 10461.0, 6674.0, 8707.0, 8352.0, 4486.0, 2293.0, 2275.0, 3535.0, 3564.0, 4447.0, 2864.0, 1796.0, 4829.0, 2821.0, 4064.0, 6452.0, 1542.0, 1776.0, 4639.0, 2368.0, 2981.0, 8773.0, 2026.0, 1675.0, 3324.0, 1540.0, 2821.7423527667697, 2026.2201867279107, 1873.6138337807313, 2368.8573140903272, 784.6936592003409, 806.3541708791194, 775.8326724264133, 588.76681430683, 580.8903377352601, 493.26476837474604, 410.5619618016541, 358.38043485269526, 549.3847855582563, 327.8589114812992, 292.41514109530675, 268.7858482920423, 361.33703653976016, 224.4806776883883, 224.4807357625736, 220.54243491262653, 194.94395177414816, 191.99026558398032, 195.9284513238565, 193.95939237915331, 208.72816656149797, 163.4381225933128, 236.29840185679564, 158.51535680737652, 151.6234518618559, 170.33076156378593, 464.71602633815456, 295.3775387466066, 826.1491850455891, 302.26213107537217, 418.4404434736026, 555.335833435828, 349.5363803175276, 308.1659626403254, 1020.0430108051833, 596.5997906485067, 1736.1852004830469, 330.8203600673854, 562.1900817608109, 492.3020473632401, 826.1240696201539, 959.9548512192599, 3324.574572513337, 1427.850688051698, 1092.0426057774148, 2937.8636743189177, 1457.957811019792, 8352.503874251957, 1746.7239755087337, 1937.1021139061029, 1954.046381849693, 1047.2277157954227, 2046.4130410023768, 6452.364992168381, 4229.510298216546, 1879.4075609431109, 1162.7381985450274, 892.8408249362584, 1866.3489028324143, 4538.878120260022, 2473.6318926930107, 3642.2176776871484, 4442.742879755843, 5657.619010843132, 3092.3323938329413, 3694.9310875428528, 2523.869027598743, 3302.552449143283, 1709.9206982859719, 3531.1756498772565, 5777.288435586112, 2666.3636386706585, 8773.945965137897, 3193.5787613350894, 8824.65861851977, 1275.156983363843, 631.1998608913815, 583.0995042304183, 525.1823862191856, 504.56785938226966, 511.43969865234544, 499.6598667322061, 482.9717674534588, 466.2838812513001, 373.028057665882, 363.21163548171234, 313.1479433318902, 300.3866334826799, 282.71709923251166, 263.0842714169836, 253.2678528889636, 239.52489088706815, 241.48822371313304, 230.69017372955622, 226.76361559710105, 225.782021579289, 202.22261532821582, 188.4795821253547, 183.57138422945386, 181.60813802301752, 179.64480792982056, 175.71829480007924, 172.77335816854003, 169.82842218591725, 166.88355456927064, 1519.6633464001052, 593.913787237726, 1402.852139821554, 371.0689117298281, 350.46751262562, 313.1803017177875, 302.36367986578557, 3535.676192877488, 6674.513297884539, 383.86325538455054, 453.58552406637, 515.4668100452124, 1131.2183263862812, 687.3386756482214, 10461.288628269684, 8707.354702919294, 2752.713311121696, 2190.1684530882753, 660.9293430308998, 1261.560432677888, 457.62518170237195, 1720.371821933422, 1108.6025173558262, 1121.5390813546187, 1712.1293848558435, 792.548350921265, 2392.7791049591397, 2890.0529999090095, 1131.7310166673467, 3160.0730607115124, 2377.9188940819267, 2295.955562150182, 1171.5134940646426, 1118.0897835464827, 1814.3011331266644, 4829.898897322146, 3302.552449143283, 5777.288435586112, 3211.472023513546, 5657.619010843132, 2541.5137356964906, 4447.582634739211, 3153.851381745121, 8352.503874251957, 4442.742879755843, 2666.3636386706585, 8773.945965137897, 8824.65861851977, 484.2455734873191, 613.4443863563774, 357.019694463567, 355.04720918878706, 358.00595137552364, 816.6039845128856, 319.54249374240067, 617.3827020492869, 251.4917493250054, 849.1600188539704, 228.80817989867552, 188.3722241060101, 303.7618081550189, 175.55109145422955, 174.56484413878556, 169.6336391775305, 256.4250979590824, 157.79873271763205, 151.88126389128777, 161.74356490605814, 418.1751980842731, 143.9913316829898, 141.03261265768555, 141.03258518951444, 139.0601003121034, 141.0324607307241, 134.12889321960196, 222.89392423984796, 197.24654268622444, 122.29401641857281, 1122.382531659479, 626.2826615510746, 236.69653499470854, 337.28088732748563, 229.79537390021386, 199.2177998722311, 1520.6217921441423, 1582.6313499611858, 1166.0534060809036, 263.3255921480128, 534.4877738217205, 577.9908981241756, 1362.9716153094244, 919.4210635805022, 482.22899252328966, 301.75140592426163, 4486.526503106576, 966.2061451024459, 973.8811387750885, 2234.822334212944, 1469.8118569334529, 1695.2256073178544, 1349.950211151835, 2472.992353896569, 1169.850451101493, 663.3948199986307, 2261.323582285539, 2444.586749204371, 4447.582634739211, 2203.471004115785, 2199.110000597148, 2911.479139876689, 1945.2975430537056, 769.977128056513, 6452.364992168381, 2033.3756043668548, 1119.8511422354957, 8773.945965137897, 4639.341399687938, 10461.288628269684, 8707.354702919294, 5777.288435586112, 2236.543417503895, 3199.6565757702674, 2662.6369430576087, 5657.619010843132, 4917.986411786627, 4289.840579692428, 2293.271033100379, 1796.1130720012811, 1542.07635439888, 1133.2358300015705, 1079.6500637938393, 1032.0181572242923, 897.0611783510664, 889.1225086437984, 2275.396301155041, 793.8586026166132, 694.6252388204807, 904.0043433946249, 570.5842174722108, 611.2686672202741, 534.8600142393747, 491.1976952369355, 350.28666130450813, 308.60865186272235, 298.68541662384854, 289.7544501117001, 274.86952078713364, 240.13786744028943, 246.0912308174699, 218.30670258738763, 219.29898435163332, 217.31437317770732, 214.33731393388163, 200.44461361661058, 837.4180779679076, 5782.872833526475, 850.2631630320249, 866.9577519301613, 1776.9567816351928, 568.4333637665857, 805.148937426041, 8824.65861851977, 1540.8725674178934, 2864.6935620783647, 1371.8306014702098, 3564.6332708156588, 1675.8712040629161, 1397.4567908491654, 2981.2781206574946, 4064.2842629349084, 1564.153048937904, 4829.898897322146, 8773.945965137897, 4639.341399687938, 3985.043198967487, 1461.7919097110337, 3199.6565757702674, 2164.3027853074227, 2147.2611082587273, 3459.071855157412, 3531.1756498772565], \"Category\": [\"Default\", \"Default\", \"Default\", \"Default\", \"Default\", \"Default\", \"Default\", \"Default\", \"Default\", \"Default\", \"Default\", \"Default\", \"Default\", \"Default\", \"Default\", \"Default\", \"Default\", \"Default\", \"Default\", \"Default\", \"Default\", \"Default\", \"Default\", \"Default\", \"Default\", \"Default\", \"Default\", \"Default\", \"Default\", \"Default\", \"Topic1\", \"Topic1\", \"Topic1\", \"Topic1\", \"Topic1\", \"Topic1\", \"Topic1\", \"Topic1\", \"Topic1\", \"Topic1\", \"Topic1\", \"Topic1\", \"Topic1\", \"Topic1\", \"Topic1\", \"Topic1\", \"Topic1\", \"Topic1\", \"Topic1\", \"Topic1\", \"Topic1\", \"Topic1\", \"Topic1\", \"Topic1\", \"Topic1\", \"Topic1\", \"Topic1\", \"Topic1\", \"Topic1\", \"Topic1\", \"Topic1\", \"Topic1\", \"Topic1\", \"Topic1\", \"Topic1\", \"Topic1\", \"Topic1\", \"Topic1\", \"Topic1\", \"Topic1\", \"Topic1\", \"Topic1\", \"Topic1\", \"Topic1\", \"Topic1\", \"Topic1\", \"Topic1\", \"Topic1\", \"Topic1\", \"Topic1\", \"Topic1\", \"Topic1\", \"Topic1\", \"Topic1\", \"Topic1\", \"Topic1\", \"Topic1\", \"Topic1\", \"Topic1\", \"Topic1\", \"Topic1\", \"Topic1\", \"Topic1\", \"Topic1\", \"Topic1\", \"Topic1\", \"Topic1\", \"Topic1\", \"Topic1\", \"Topic1\", \"Topic1\", \"Topic1\", \"Topic1\", \"Topic1\", \"Topic1\", \"Topic1\", \"Topic1\", \"Topic1\", \"Topic1\", \"Topic2\", \"Topic2\", \"Topic2\", \"Topic2\", \"Topic2\", \"Topic2\", \"Topic2\", \"Topic2\", \"Topic2\", \"Topic2\", \"Topic2\", \"Topic2\", \"Topic2\", \"Topic2\", \"Topic2\", \"Topic2\", \"Topic2\", \"Topic2\", \"Topic2\", \"Topic2\", \"Topic2\", \"Topic2\", \"Topic2\", \"Topic2\", \"Topic2\", \"Topic2\", \"Topic2\", \"Topic2\", \"Topic2\", \"Topic2\", \"Topic2\", \"Topic2\", \"Topic2\", \"Topic2\", \"Topic2\", \"Topic2\", \"Topic2\", \"Topic2\", \"Topic2\", \"Topic2\", \"Topic2\", \"Topic2\", \"Topic2\", \"Topic2\", \"Topic2\", \"Topic2\", \"Topic2\", \"Topic2\", \"Topic2\", \"Topic2\", \"Topic2\", \"Topic2\", \"Topic2\", \"Topic2\", \"Topic2\", \"Topic2\", \"Topic2\", \"Topic2\", \"Topic2\", \"Topic2\", \"Topic2\", \"Topic2\", \"Topic2\", \"Topic2\", \"Topic2\", \"Topic2\", \"Topic2\", \"Topic2\", \"Topic2\", \"Topic2\", \"Topic2\", \"Topic2\", \"Topic2\", \"Topic2\", \"Topic2\", \"Topic2\", \"Topic2\", \"Topic2\", \"Topic3\", \"Topic3\", \"Topic3\", \"Topic3\", \"Topic3\", \"Topic3\", \"Topic3\", \"Topic3\", \"Topic3\", \"Topic3\", \"Topic3\", \"Topic3\", \"Topic3\", \"Topic3\", \"Topic3\", \"Topic3\", \"Topic3\", \"Topic3\", \"Topic3\", \"Topic3\", \"Topic3\", \"Topic3\", \"Topic3\", \"Topic3\", \"Topic3\", \"Topic3\", \"Topic3\", \"Topic3\", \"Topic3\", \"Topic3\", \"Topic3\", \"Topic3\", \"Topic3\", \"Topic3\", \"Topic3\", \"Topic3\", \"Topic3\", \"Topic3\", \"Topic3\", \"Topic3\", \"Topic3\", \"Topic3\", \"Topic3\", \"Topic3\", \"Topic3\", \"Topic3\", \"Topic3\", \"Topic3\", \"Topic3\", \"Topic3\", \"Topic3\", \"Topic3\", \"Topic3\", \"Topic3\", \"Topic3\", \"Topic3\", \"Topic3\", \"Topic3\", \"Topic3\", \"Topic3\", \"Topic3\", \"Topic3\", \"Topic3\", \"Topic3\", \"Topic3\", \"Topic3\", \"Topic3\", \"Topic3\", \"Topic3\", \"Topic3\", \"Topic3\", \"Topic3\", \"Topic3\", \"Topic3\", \"Topic3\", \"Topic3\", \"Topic4\", \"Topic4\", \"Topic4\", \"Topic4\", \"Topic4\", \"Topic4\", \"Topic4\", \"Topic4\", \"Topic4\", \"Topic4\", \"Topic4\", \"Topic4\", \"Topic4\", \"Topic4\", \"Topic4\", \"Topic4\", \"Topic4\", \"Topic4\", \"Topic4\", \"Topic4\", \"Topic4\", \"Topic4\", \"Topic4\", \"Topic4\", \"Topic4\", \"Topic4\", \"Topic4\", \"Topic4\", \"Topic4\", \"Topic4\", \"Topic4\", \"Topic4\", \"Topic4\", \"Topic4\", \"Topic4\", \"Topic4\", \"Topic4\", \"Topic4\", \"Topic4\", \"Topic4\", \"Topic4\", \"Topic4\", \"Topic4\", \"Topic4\", \"Topic4\", \"Topic4\", \"Topic4\", \"Topic4\", \"Topic4\", \"Topic4\", \"Topic4\", \"Topic4\", \"Topic4\", \"Topic4\", \"Topic4\", \"Topic4\", \"Topic4\"], \"logprob\": [30.0, 29.0, 28.0, 27.0, 26.0, 25.0, 24.0, 23.0, 22.0, 21.0, 20.0, 19.0, 18.0, 17.0, 16.0, 15.0, 14.0, 13.0, 12.0, 11.0, 10.0, 9.0, 8.0, 7.0, 6.0, 5.0, 4.0, 3.0, 2.0, 1.0, -4.7949, -5.1262, -5.2045, -4.9705, -6.0754, -6.0482, -6.0867, -6.363, -6.3764, -6.5402, -6.724, -6.8602, -6.4333, -6.9497, -7.0641, -7.1486, -6.8532, -7.3293, -7.3294, -7.3472, -7.4708, -7.4862, -7.4659, -7.476, -7.4031, -7.6479, -7.2794, -7.6787, -7.7233, -7.6069, -6.6045, -7.0578, -6.0401, -7.037, -6.7151, -6.4405, -6.8968, -7.0206, -5.8526, -6.3746, -5.3422, -6.952, -6.4382, -6.5707, -6.0838, -5.9459, -4.781, -5.5797, -5.8385, -4.9283, -5.5737, -4.008, -5.4323, -5.356, -5.3876, -5.9276, -5.3594, -4.4433, -4.8127, -5.4633, -5.8701, -6.0847, -5.566, -4.958, -5.384, -5.1504, -5.0456, -4.8994, -5.2773, -5.1951, -5.4227, -5.2848, -5.6627, -5.3181, -5.1576, -5.5149, -5.1478, -5.5125, -5.4851, -5.3299, -6.0336, -6.1129, -6.2176, -6.2577, -6.2442, -6.2675, -6.3015, -6.3367, -6.5603, -6.587, -6.7356, -6.7773, -6.8381, -6.9103, -6.9484, -7.0043, -6.9962, -7.0421, -7.0593, -7.0637, -7.1743, -7.2449, -7.2714, -7.2822, -7.2931, -7.3153, -7.3323, -7.3495, -7.3671, -5.17, -6.102, -5.2519, -6.5693, -6.6334, -6.7452, -6.7806, -4.3804, -3.7785, -6.5526, -6.3969, -6.2792, -5.5458, -6.017, -3.5149, -3.7032, -4.7865, -5.0226, -6.0829, -5.538, -6.4168, -5.3208, -5.6826, -5.677, -5.353, -5.9767, -5.1303, -4.9932, -5.7106, -4.9611, -5.2354, -5.269, -5.7207, -5.7527, -5.4497, -4.8588, -5.1258, -4.8211, -5.1587, -4.8629, -5.3011, -5.0057, -5.2192, -4.8047, -5.117, -5.323, -5.2619, -5.2766, -6.2097, -5.9734, -6.5148, -6.5203, -6.512, -5.6875, -6.6259, -5.9679, -6.866, -5.6493, -6.9609, -7.156, -6.6782, -7.2268, -7.2325, -7.2612, -6.8481, -7.3339, -7.3723, -7.3096, -6.3597, -7.4259, -7.4467, -7.4468, -7.4611, -7.4471, -7.4973, -6.9895, -7.1118, -7.5901, -5.3767, -5.9608, -6.9308, -6.5807, -6.962, -7.1037, -5.0933, -5.0637, -5.3829, -6.8337, -6.1489, -6.074, -5.2589, -5.6421, -6.2678, -6.7112, -4.1839, -5.6206, -5.6327, -4.8782, -5.2681, -5.1545, -5.3599, -4.8632, -5.5164, -6.0125, -4.9988, -4.9461, -4.4954, -5.058, -5.095, -4.9046, -5.2348, -5.9142, -4.6822, -5.3586, -5.7087, -4.636, -5.0578, -4.7568, -4.9333, -5.2081, -5.4558, -5.382, -5.5448, -5.497, -3.5903, -3.727, -4.3534, -4.5979, -4.7504, -5.0587, -5.1071, -5.1523, -5.2925, -5.3014, -4.3618, -5.4149, -5.5486, -5.2851, -5.7455, -5.6767, -5.8103, -5.8955, -6.2342, -6.3612, -6.394, -6.4244, -6.4772, -6.6128, -6.5885, -6.7083, -6.7038, -6.7129, -6.7268, -6.7941, -5.3753, -3.4824, -5.3638, -5.3721, -4.7064, -5.7978, -5.5032, -3.384, -4.9504, -4.4219, -5.0695, -4.253, -4.8996, -5.072, -4.5787, -4.3618, -5.0616, -4.3695, -4.053, -4.4419, -4.6135, -5.1475, -4.9342, -5.0823, -5.1318, -5.0639, -5.1253], \"loglift\": [30.0, 29.0, 28.0, 27.0, 26.0, 25.0, 24.0, 23.0, 22.0, 21.0, 20.0, 19.0, 18.0, 17.0, 16.0, 15.0, 14.0, 13.0, 12.0, 11.0, 10.0, 9.0, 8.0, 7.0, 6.0, 5.0, 4.0, 3.0, 2.0, 1.0, 1.098, 1.0979, 1.0979, 1.0974, 1.0973, 1.0973, 1.0973, 1.097, 1.097, 1.0968, 1.0965, 1.0962, 1.096, 1.0957, 1.0957, 1.0955, 1.095, 1.095, 1.0948, 1.0947, 1.0945, 1.0944, 1.0943, 1.0943, 1.0939, 1.0937, 1.0935, 1.0935, 1.0933, 1.0933, 1.0921, 1.092, 1.0811, 1.0897, 1.0864, 1.0779, 1.0846, 1.0868, 1.0579, 1.0722, 1.0363, 1.0844, 1.068, 1.0682, 1.0374, 1.0252, 0.9479, 0.9944, 1.0037, 0.9243, 0.9795, 0.7997, 0.9402, 0.9131, 0.8727, 0.9565, 0.8548, 0.6225, 0.6755, 0.8359, 0.9093, 0.9589, 0.7403, 0.4596, 0.6406, 0.4873, 0.3934, 0.2979, 0.524, 0.4281, 0.5818, 0.4508, 0.7311, 0.3505, 0.0188, 0.4346, -0.3893, 0.2566, -0.7324, 1.3573, 1.3568, 1.3567, 1.3567, 1.3566, 1.3566, 1.3566, 1.3566, 1.3565, 1.3561, 1.356, 1.3557, 1.3556, 1.3555, 1.3553, 1.3552, 1.355, 1.355, 1.3548, 1.3548, 1.3548, 1.3544, 1.3541, 1.354, 1.354, 1.354, 1.3538, 1.3538, 1.3537, 1.3536, 1.3418, 1.3493, 1.3399, 1.3523, 1.3454, 1.3461, 1.3458, 1.2869, 1.2534, 1.3351, 1.3239, 1.3138, 1.2611, 1.2881, 1.0677, 1.0629, 1.1311, 1.1237, 1.2615, 1.1599, 1.2952, 1.0669, 1.1445, 1.1385, 1.0395, 1.1861, 0.9275, 0.8757, 1.0959, 0.8185, 0.8286, 0.8301, 1.0513, 1.066, 0.8849, 0.4966, 0.6098, 0.3553, 0.6048, 0.3344, 0.6964, 0.4322, 0.5625, 0.0029, 0.322, 0.6265, -0.5034, -0.5239, 1.4457, 1.4455, 1.4454, 1.4454, 1.4454, 1.4454, 1.4452, 1.4446, 1.4446, 1.4445, 1.4443, 1.4435, 1.4435, 1.4433, 1.4432, 1.4431, 1.443, 1.4428, 1.4426, 1.4424, 1.4424, 1.4423, 1.4423, 1.4422, 1.442, 1.442, 1.4419, 1.4418, 1.4417, 1.4414, 1.4381, 1.4375, 1.4405, 1.4364, 1.4388, 1.4399, 1.4179, 1.4074, 1.3937, 1.4309, 1.4078, 1.4044, 1.3617, 1.3722, 1.3918, 1.4172, 1.2453, 1.344, 1.324, 1.2479, 1.277, 1.2479, 1.2702, 1.1617, 1.2569, 1.3282, 1.1155, 1.0903, 0.9425, 1.0822, 1.0472, 0.957, 1.03, 1.2775, 0.3836, 0.8619, 1.1083, 0.1225, 0.3379, -0.1742, -0.1672, -0.0318, 0.6695, 0.3852, 0.4062, -0.2998, 1.747, 1.747, 1.7469, 1.7468, 1.7467, 1.7465, 1.7465, 1.7465, 1.7464, 1.7463, 1.7463, 1.7462, 1.746, 1.746, 1.7459, 1.7457, 1.7457, 1.7457, 1.745, 1.7447, 1.7447, 1.7446, 1.7445, 1.744, 1.7438, 1.7438, 1.7438, 1.7438, 1.7437, 1.7434, 1.7324, 1.6929, 1.7287, 1.7009, 1.6489, 1.6973, 1.6438, 1.3687, 1.5475, 1.4559, 1.5446, 1.4062, 1.5143, 1.5236, 1.2592, 1.1662, 1.4213, 0.9859, 0.7055, 0.9538, 0.9342, 1.403, 0.833, 1.0758, 1.0343, 0.6254, 0.5433]}, \"token.table\": {\"Topic\": [1, 4, 4, 2, 1, 2, 3, 4, 2, 3, 4, 2, 3, 4, 1, 2, 3, 4, 4, 1, 3, 1, 2, 3, 2, 3, 4, 2, 3, 1, 2, 4, 1, 2, 3, 4, 1, 1, 2, 3, 4, 2, 1, 2, 3, 4, 1, 1, 3, 1, 2, 3, 4, 4, 1, 3, 4, 1, 3, 4, 1, 3, 1, 1, 2, 3, 4, 2, 1, 2, 3, 4, 1, 2, 3, 4, 1, 4, 1, 2, 4, 1, 4, 4, 1, 4, 1, 2, 3, 4, 3, 4, 4, 1, 2, 3, 4, 3, 1, 2, 3, 4, 3, 1, 2, 3, 4, 2, 3, 4, 4, 2, 1, 2, 4, 3, 4, 1, 1, 2, 3, 4, 1, 2, 3, 4, 1, 3, 4, 1, 2, 3, 4, 1, 2, 3, 4, 2, 1, 2, 3, 4, 1, 2, 3, 4, 2, 1, 2, 3, 4, 4, 2, 1, 2, 3, 4, 3, 1, 2, 3, 4, 1, 2, 3, 4, 4, 1, 1, 1, 2, 3, 4, 2, 3, 1, 2, 3, 4, 1, 3, 2, 3, 2, 3, 4, 1, 2, 3, 4, 1, 1, 2, 3, 4, 1, 3, 3, 1, 2, 3, 4, 1, 2, 3, 4, 3, 1, 2, 2, 2, 3, 1, 2, 3, 4, 1, 3, 4, 1, 1, 2, 3, 1, 2, 3, 4, 2, 3, 1, 2, 3, 4, 3, 2, 1, 2, 1, 2, 3, 4, 2, 1, 2, 3, 4, 1, 2, 3, 4, 3, 1, 2, 3, 4, 1, 2, 3, 4, 1, 2, 3, 4, 3, 4, 1, 2, 4, 1, 4, 1, 3, 2, 4, 1, 2, 3, 4, 1, 2, 3, 4, 1, 2, 3, 4, 2, 1, 2, 3, 4, 4, 1, 2, 3, 4, 1, 2, 3, 4, 1, 2, 3, 4, 1, 3, 4, 2, 4, 3, 1, 3, 4, 2, 3, 1, 3, 3, 1, 2, 3, 4, 1, 2, 3, 4, 1, 2, 3, 2, 1, 2, 3, 4, 1, 2, 3, 4, 1, 2, 3, 4, 3, 1, 1, 1, 2, 3, 4, 1, 2, 4, 2, 3, 4, 1, 2, 3, 1, 4, 2, 3, 3, 1, 2, 3, 4, 2, 2, 3, 2, 4, 1, 1, 2, 3, 4, 2, 1, 2, 3, 4, 2, 4, 1, 2, 3, 4, 1, 1, 2, 3, 4, 1, 2, 3, 4, 2, 3, 4, 2, 1, 2, 3, 2, 3, 4, 1, 2, 3, 4, 1, 2, 3, 4, 2, 1, 2, 4, 1, 3, 4, 3, 3, 1, 2, 3, 1, 3, 2, 1, 2, 3, 1, 3, 4, 1, 2, 3, 4, 1, 2, 3, 4, 3, 4, 2, 3, 1, 1, 1, 2, 3, 4, 1, 1, 2, 3, 4, 1, 2, 3, 4, 2, 3, 4, 1, 2, 3, 4, 2, 2, 2, 3, 1, 4, 1, 4, 1, 2, 3, 4, 1, 3, 2, 4, 1, 2, 3, 4, 1, 3, 4, 1, 2, 3, 4, 1, 2, 3, 4, 4, 3, 4, 2, 4, 2, 1, 2, 3, 1, 2, 3, 4, 2, 4, 4, 1, 3, 4, 1, 1, 2, 3, 4, 2, 4, 1, 2, 3, 4, 3, 1, 2, 3, 4, 1, 2, 3, 4, 4, 2, 4, 1, 2, 3, 4, 2, 3, 1, 2, 3, 4, 2, 3, 4, 4, 4, 1, 2, 3, 4, 2, 1, 2, 3, 4, 1, 2, 3, 4, 4, 1, 4, 1, 2, 3, 4, 2, 1, 2, 4, 1, 2, 3, 2, 1, 2, 3, 4, 2, 3, 1, 2, 3, 4, 2, 3, 1, 2, 3, 4, 3, 1, 2, 3, 1, 2, 4, 1, 2, 3, 1, 2, 3, 2, 3, 1, 2, 3, 4, 1, 3, 4, 1, 2, 3, 4, 1, 2, 3, 4, 1, 2, 3, 4, 1, 2, 3, 4, 1, 2, 3, 4], \"Freq\": [0.9973193366005372, 0.9986366359492395, 0.9975616839237046, 0.9979782711321236, 0.769391392292994, 0.09737110981301376, 0.13302064182105705, 0.0005320825672842282, 0.029825875947232416, 0.9709979613932331, 0.9955657468417504, 0.004287968264511109, 0.9476409864569552, 0.0471676509096222, 0.0034425513835057713, 0.43966299097916567, 0.5567097380183619, 0.99988181375142, 0.999013430900256, 0.0539162937175419, 0.945608843661504, 0.9897264363228182, 0.006490009418510283, 0.006490009418510283, 0.015571179458376936, 0.958492602215647, 0.02595196576396156, 0.00501963178311051, 0.9938870930558809, 0.05239610289255253, 0.00034584886397724446, 0.9471071140016839, 0.06954728666770127, 0.80246869231963, 0.04190669837669179, 0.08559666051409387, 0.9995607750391702, 0.01902405891809376, 0.8204125408427935, 0.14585111837205217, 0.015060713310157561, 0.9958786155814497, 0.8535979473034633, 0.09503504980038559, 0.00801500420003252, 0.04293752250017421, 0.9973802405509781, 0.9974793885912782, 0.0018202178623928434, 0.4491288641264172, 0.35933844186108077, 0.1742782605386255, 0.0173217743740216, 0.9985950839632839, 0.011392739974600451, 0.9835732178071723, 0.003797579991533484, 0.9996723797776981, 0.997645448571212, 0.0016301396218483856, 0.9958881567844536, 0.9915835194602427, 0.9993978015144143, 0.13075804454033543, 0.18435498152506655, 0.17372800264016297, 0.5110190715957985, 0.9991402727369345, 0.025354115234843176, 0.6228293525081041, 0.2579505636936219, 0.09425116750343877, 0.5232316599387427, 0.4732703035209808, 0.0012111843980063487, 0.0024223687960126974, 0.9948421052444081, 0.9989761064987059, 0.2308792903713434, 0.058070489801783816, 0.711153099746483, 0.1804172557019797, 0.8190164629348862, 0.9993978939883956, 0.9953363456393739, 0.0033854977742835846, 0.5630054529299915, 0.1946750618402383, 0.17171504624114042, 0.07049694930427235, 0.9944424396425119, 0.00389977427310789, 0.9997994277120686, 0.04972807641048884, 0.7443133099685408, 0.19891230564195536, 0.007005571965449929, 0.9931153377678852, 0.014476890590350346, 0.9837705196624439, 0.0013160809627591223, 0.0006580404813795611, 0.9970505071954241, 0.001769675957612821, 0.0005898919858709404, 0.8187700763888652, 0.17873727171889492, 0.10667060074544013, 0.8378086766881444, 0.05555760455491674, 0.9990998904365432, 0.9959122366803271, 0.0053898344398524605, 0.9944244541527789, 0.9977818629865456, 0.04749897124456428, 0.9517386460484917, 0.9967488524912904, 0.20067503548297244, 0.017243826894347794, 0.3297881893544015, 0.45221936030427085, 0.025698992371248088, 0.7271646705046334, 0.24647669956060664, 0.0005840680084374565, 0.08891606235611713, 0.004502079106638842, 0.9066061800993968, 0.9709486331819224, 0.00406254658235114, 0.02234400620293127, 0.00203127329117557, 0.0012786472534500675, 0.14129052150623245, 0.13553660886570715, 0.7217963745725631, 0.9968874003328337, 0.24034106501891528, 0.4511943740394676, 0.057390148771007475, 0.2511215349538007, 0.0011761064614795448, 0.016465490460713626, 0.0011761064614795448, 0.9820488953354198, 0.9977486179083468, 0.052375926563493325, 0.9325824701999783, 0.007274434244929628, 0.008729321093915554, 0.9991816379663429, 0.9978086165278095, 0.07867623598736576, 0.9078707231351082, 0.00972402916697779, 0.004420013257717177, 0.9980446701479264, 0.1603461460855184, 0.15230050907345352, 0.0024930142854285545, 0.6848990155059175, 0.7978316249199041, 0.01637627453331426, 0.17195088259979974, 0.013305723058317837, 0.9998040533962014, 0.9978587124141902, 0.9989267370967904, 0.007261270953924136, 0.03539869590038016, 0.6939052055343753, 0.26322107207974993, 0.0016197408781954633, 0.9977603809684054, 0.33977877716968297, 0.366781064097075, 0.22778852305415323, 0.06560170990693319, 0.9951578299015823, 0.9949382817981097, 0.9769103834237236, 0.02084075484637277, 0.003193446222903132, 0.989968329099971, 0.006386892445806264, 0.008359026613070397, 0.004776586636040227, 0.0011941466590100567, 0.9851709936832967, 0.9984672877522265, 0.09563448005801166, 0.001242006234519632, 0.001242006234519632, 0.9016965262612529, 0.0032920530927629636, 0.997492087107178, 0.9923766751949399, 0.03228578833288039, 0.29648357736673264, 0.6702711549671225, 0.000909458826278321, 0.00022288957823108293, 0.182769454149488, 0.8168903042169189, 0.00022288957823108293, 0.9926783928116549, 0.998938460876494, 0.998679368153937, 0.9972440205374503, 0.9872527054158303, 0.01141332607417145, 0.6992261725658594, 0.11894882016062895, 0.035363162750457255, 0.14681070596401952, 0.9941555139392196, 0.004303703523546406, 0.9973962432279839, 0.9986975925133742, 0.0050512381838328825, 0.9917264300925227, 0.003367492122555255, 0.051458229246890225, 0.06532957800039976, 0.8188570393200792, 0.06398718941135045, 0.11603058679432605, 0.8840914622116348, 0.0025974797524806587, 0.0012987398762403294, 0.8441809195562141, 0.15195256552011854, 0.9974278061473044, 0.9987128805360037, 0.9738521687519374, 0.025142482842132635, 0.01117796319281893, 0.39033447469323707, 0.4591907279610017, 0.1390538621186675, 0.9955238575163561, 0.5428011653755463, 0.15924363981680165, 0.2001527817697386, 0.09774264788755412, 0.6551585892032099, 0.22390298952560078, 0.08960848260845057, 0.031209286818774343, 0.9975958233511075, 0.9399918853967537, 0.000575975419973501, 0.037438402298277565, 0.022463041378966542, 0.0027214367479286867, 0.067355559511235, 0.8429650326709107, 0.0864056167467358, 0.014673819891296534, 0.03741824072280617, 0.9178474342005982, 0.030815021771722722, 0.9941976787082931, 0.9984262472656269, 0.98702172199241, 0.002860932527514232, 0.008582797582542696, 0.9945052448658434, 0.004231937212195078, 0.9854290707307024, 0.01209115424209451, 0.8415890326750078, 0.1577190840845217, 0.6326729553507676, 0.284601763940537, 0.0044469025615708905, 0.07802292676210744, 0.9405366924574164, 0.002420943867329257, 0.05447123701490829, 0.0012104719336646285, 0.18699479436784952, 0.25072065192215615, 0.0029525493847555187, 0.5592620626291078, 0.996536386848612, 0.00042053578971459524, 0.5887501056004333, 0.2926929096413583, 0.11817055690980126, 0.9989184438969569, 0.18162579018499006, 0.08754035833240513, 0.6995047324692185, 0.031089099220854156, 0.8282173933952058, 0.0894440383313618, 0.0662229899184121, 0.016340737772075713, 0.02816868962004385, 0.7358003167417515, 0.23473908016703207, 0.001707193310305688, 0.9970763033208934, 0.19964839115380842, 0.7993091502466093, 0.9964106508991206, 0.9952616076239106, 0.9968607916381241, 0.022840459971864995, 0.9277577312381352, 0.05003148374789475, 0.988875383884471, 0.009921826594158571, 0.9965114120748844, 0.9964678714763021, 0.9954028161399188, 0.17033888226212868, 0.11971608191113461, 0.0013681837932701098, 0.7087192049139169, 0.5967029126835623, 0.1933539318655899, 0.20959883187888742, 0.0003962170734950613, 0.9925159957440779, 0.00330838665248026, 0.00661677330496052, 0.9947055623811998, 0.0011776343419342844, 0.0011776343419342844, 0.9974562876183389, 0.0011776343419342844, 0.9292103674116038, 0.023959460146263326, 0.045835488975460276, 0.0010417156585331882, 0.8404065925803674, 0.0776074131665953, 0.015657635989751683, 0.06637476126090387, 0.9962646608266926, 0.9994632327469517, 0.9985803023271923, 0.43086458886166856, 0.23077558284233265, 0.28682555479454097, 0.051353046928280265, 0.20525755626490114, 0.04712545934653342, 0.747374877488356, 0.9396336067005625, 0.041518694249559736, 0.017481555473498837, 0.009206760071654238, 0.019728771582116226, 0.9706555618401183, 0.9962997522961834, 0.0027674993119338426, 0.00889466350664313, 0.9902725370729352, 0.9980239968616572, 0.00939194495340302, 0.17442183484891324, 0.20226224310364363, 0.6138306880259832, 0.9939541117780943, 0.9988745629121821, 0.9926781994729694, 0.9974555221316452, 0.9980277550255037, 0.9921871918403442, 0.006519933670923227, 0.4223985599662405, 0.08103346133861725, 0.4903921539630113, 0.9963341821131696, 0.21075017534344495, 0.2688582483805265, 0.19484995635319877, 0.32580994185468104, 0.9993911836485999, 0.9989094679422827, 0.9607438016034492, 0.007842806543701626, 0.030390875356843802, 0.0019607016359254065, 0.9991160127366802, 0.017189344761713875, 0.23627535708828526, 0.34566209648100993, 0.4009805332596164, 0.5115115695586245, 0.13559116208934968, 0.08552256930186526, 0.2671227085472817, 0.24587370173623982, 0.7172790363600378, 0.03626194881721523, 0.9970082222471889, 0.05458973610948992, 0.1940968395004086, 0.7513165162328316, 0.0017819236700369306, 0.9907495605405333, 0.007127694680147722, 0.4940641534764283, 0.35473581133432847, 0.15035756470262146, 0.0006752585241135695, 0.514933514726642, 0.48117967909270326, 0.0015001704726194957, 0.0022502557089292435, 0.9979879414927655, 0.16217424422032717, 0.7475128246141245, 0.0900968023446262, 0.9975404510572243, 0.9947983570182114, 0.004782684408741401, 0.9967642732328367, 0.9971901266678428, 0.3972202315387604, 0.5897326683152211, 0.013066454984827645, 0.9093051816353747, 0.08974008841920113, 0.9981143797543277, 0.02432235242173412, 0.013096651304010679, 0.9616683957516413, 0.003580227397817825, 0.20407296167561603, 0.7924236640503454, 0.5278837493575921, 0.17228927044976503, 0.15554504467715358, 0.14408846914852472, 0.4734966950902368, 0.01529235737731626, 0.21126108524959128, 0.29990011967736885, 0.9959894634055344, 0.004486439024349254, 0.005069797353004957, 0.9936802811889717, 0.9978584542636119, 0.9997369168853982, 0.0016716963098306168, 0.65028986452411, 0.3105175895510371, 0.037613166971188876, 0.9986312375379637, 0.0735249244163565, 0.25620801306860064, 0.22659729265518744, 0.44340799127543323, 0.8882287197968997, 0.06927498123512499, 0.04046756329576608, 0.002743563613272277, 0.9005900103465467, 0.046595157747093, 0.052737927739475034, 0.07865120713606741, 0.2565160285025989, 0.6585110871980545, 0.006168722128319012, 0.9980990792841953, 0.9974635448847687, 0.28753821633579757, 0.7125947100495853, 0.9828733292948678, 0.016946091884394273, 0.9992159451397602, 0.0008442889270297931, 0.6213225700756175, 0.00015498193316927352, 0.3451447651679721, 0.033321115631393804, 0.004224818922771115, 0.992832446851212, 0.0011061893754236865, 0.9988890060075889, 0.2258960800391537, 0.1554602690077728, 0.26578691152941797, 0.352862897982452, 0.0007289529763574936, 0.1829671970657309, 0.8164273335203928, 0.692429772437309, 0.14737525562010292, 0.15790205959296744, 0.0023392897717476654, 0.9694230077717297, 0.008893789062125962, 0.019566335936677115, 0.0017787578124251922, 0.9993802884580976, 0.997143870550057, 0.9993020096600213, 0.807322720261092, 0.19213378705655038, 0.9966325479725204, 0.17583683496278402, 0.7696175037818336, 0.05478333551604326, 0.00031644837976462577, 0.5828979155264407, 0.2686646744201673, 0.14809784172984486, 0.9966641060931173, 0.9983920760264764, 0.997924534188799, 0.004351697699685805, 0.9921870755283634, 0.004351697699685805, 0.9950536430982528, 0.015523920067453196, 0.7912633375557762, 0.11916891581192011, 0.07442349914690796, 0.00043948388221092655, 0.9989468642654361, 0.09994919627427756, 0.11300098135476742, 0.6124034946977213, 0.17482522647287727, 0.9926792688337517, 0.0025644303484905254, 0.005128860696981051, 0.8266013823301126, 0.16583316253572064, 0.044503960379428914, 0.05278376696164825, 0.9014639416391299, 0.0010349758227774166, 0.9985533714447399, 0.9866520924373001, 0.009579146528517476, 0.43265380321701463, 0.1633718788189248, 0.35303348526388345, 0.05107718510200867, 0.11154744922511264, 0.8878573999133965, 0.12075903106655411, 0.6172897175436463, 0.06989491196402273, 0.19203800069323076, 0.03917526340010929, 0.9604258123897761, 0.9988170501893562, 0.9987375095862655, 0.9968366052931456, 0.9013547500236956, 0.03151590035047887, 0.04272155380842691, 0.024512366939261343, 0.9966513724019326, 0.09081948308599132, 0.7970317835626598, 0.05521824571628272, 0.057034635378002546, 0.0017206293258517267, 0.7479002136368839, 0.19758560091863994, 0.052861556510889154, 0.9977052223319235, 0.7838104858901439, 0.21549901762939744, 0.027683009865898684, 0.013841504932949342, 0.0034603762332373355, 0.9550638403735047, 0.9989424126042517, 0.7418134841098661, 0.2578867406024293, 0.00023944915561971148, 0.8680060566479262, 0.11840786691346848, 0.013368630135391602, 0.9951220050492471, 0.2836892006024957, 0.5158343162134146, 0.10859669815019253, 0.09167764735143065, 0.9078126222214782, 0.09078126222214783, 0.00724652849760585, 0.4225761332461011, 0.10310774833736323, 0.46709052258853706, 0.0012245837872031844, 0.9980357865705952, 0.015682336987273976, 0.9822845622028882, 0.0014256669988430889, 0.0007128334994215444, 0.9983022798124684, 0.05769759131533362, 0.9313635696146746, 0.011030421869107899, 0.9795874266465142, 0.007202848725342016, 0.012604985269348529, 0.9952612736048128, 0.9990926737813952, 0.0007842171693731517, 0.00022484124121476521, 0.3961702670204163, 0.6034738914204298, 0.9564146330910389, 0.042679760503048385, 0.032383903468110445, 0.470812135036375, 0.26467613411436425, 0.23198084695906043, 0.8702559048590452, 0.01344024563488873, 0.11648212883570233, 0.19586978006842276, 0.7468094354206987, 0.052768570886013444, 0.00536629534434035, 0.008818623584236582, 0.9656392824739056, 0.024251214856650598, 0.0022046558960591455, 0.8602604446432602, 0.008121339862016793, 0.12933985706174891, 0.0021055325568191683, 0.9869982848014407, 0.004779652710902861, 0.004779652710902861, 0.0023898263554514303, 0.8311384249916943, 0.11821782566652049, 0.050591034564711826, 0.0005162350465786922], \"Term\": [\"2018\", \"212\", \"aboard\", \"activist\", \"administration\", \"administration\", \"administration\", \"administration\", \"administrator\", \"administrator\", \"advice\", \"agency\", \"agency\", \"agency\", \"air\", \"air\", \"air\", \"alabama\", \"alan\", \"alert\", \"alert\", \"always\", \"always\", \"always\", \"announce\", \"announce\", \"announce\", \"announces\", \"announces\", \"another\", \"another\", \"another\", \"answer\", \"answer\", \"answer\", \"answer\", \"apply\", \"area\", \"area\", \"area\", \"area\", \"audio\", \"back\", \"back\", \"back\", \"back\", \"bank\", \"bearing\", \"bearing\", \"biden\", \"biden\", \"biden\", \"biden\", \"biometrics\", \"blackrock\", \"blackrock\", \"blackrock\", \"blame\", \"border\", \"border\", \"box\", \"bp\", \"brake\", \"break\", \"break\", \"break\", \"break\", \"brockovich\", \"burn\", \"burn\", \"burn\", \"burn\", \"buttigieg\", \"buttigieg\", \"buttigieg\", \"buttigieg\", \"caggiano\", \"calhoun\", \"car\", \"car\", \"car\", \"cargo\", \"cargo\", \"carolina\", \"categorize\", \"categorize\", \"cause\", \"cause\", \"cause\", \"cause\", \"center\", \"center\", \"ceo\", \"chemical\", \"chemical\", \"chemical\", \"chemical\", \"chemicalspill\", \"chloride\", \"chloride\", \"chloride\", \"chloride\", \"cincinnati\", \"clean\", \"clean\", \"clean\", \"clean\", \"cleanup\", \"cleanup\", \"cleanup\", \"cleveland\", \"clinic\", \"cloud\", \"cloud\", \"collides\", \"committee\", \"committee\", \"common\", \"company\", \"company\", \"company\", \"company\", \"concern\", \"concern\", \"concern\", \"concern\", \"congress\", \"congress\", \"congress\", \"corporation\", \"corporation\", \"corporation\", \"corporation\", \"county\", \"county\", \"county\", \"county\", \"craft\", \"crash\", \"crash\", \"crash\", \"crash\", \"danger\", \"danger\", \"danger\", \"danger\", \"de\", \"dead\", \"dead\", \"dead\", \"dead\", \"deeply\", \"delivers\", \"demand\", \"demand\", \"demand\", \"demand\", \"deploy\", \"derail\", \"derail\", \"derail\", \"derail\", \"derailment\", \"derailment\", \"derailment\", \"derailment\", \"derails\", \"deregulate\", \"deregulation\", \"dewine\", \"dewine\", \"dewine\", \"dewine\", \"dioxin\", \"dioxin\", \"disaster\", \"disaster\", \"disaster\", \"disaster\", \"diversity\", \"donovanlawtampa\", \"door\", \"door\", \"drink\", \"drink\", \"drink\", \"dump\", \"dump\", \"dump\", \"dump\", \"ecp\", \"employee\", \"employee\", \"employee\", \"employee\", \"ensure\", \"ensure\", \"entirely\", \"environmental\", \"environmental\", \"environmental\", \"environmental\", \"epa\", \"epa\", \"epa\", \"epa\", \"epamichaelregan\", \"era\", \"erin\", \"evacuate\", \"evacuation\", \"evacuation\", \"even\", \"even\", \"even\", \"even\", \"failure\", \"failure\", \"farmer\", \"fault\", \"fear\", \"fear\", \"fear\", \"federal\", \"federal\", \"federal\", \"federal\", \"fema\", \"fema\", \"fiery\", \"fiery\", \"fiery\", \"fiery\", \"file\", \"film\", \"flammable\", \"flammable\", \"follow\", \"follow\", \"follow\", \"follow\", \"fume\", \"get\", \"get\", \"get\", \"get\", \"go\", \"go\", \"go\", \"go\", \"gofund\", \"gop\", \"gop\", \"gop\", \"gop\", \"gov\", \"gov\", \"gov\", \"gov\", \"governor\", \"governor\", \"governor\", \"governor\", \"governorshapiro\", \"grill\", \"guess\", \"guess\", \"guess\", \"gutted\", \"gutted\", \"guy\", \"guy\", \"hall\", \"hall\", \"happen\", \"happen\", \"happen\", \"happen\", \"hazard\", \"hazard\", \"hazard\", \"hazard\", \"hazardous\", \"hazardous\", \"hazardous\", \"hazardous\", \"headache\", \"health\", \"health\", \"health\", \"health\", \"hearing\", \"help\", \"help\", \"help\", \"help\", \"high\", \"high\", \"high\", \"high\", \"home\", \"home\", \"home\", \"home\", \"homendy\", \"hour\", \"hour\", \"illusion\", \"injury\", \"intake\", \"investigation\", \"investigation\", \"investigation\", \"jd\", \"jd\", \"jennifer\", \"josh\", \"justice\", \"kill\", \"kill\", \"kill\", \"kill\", \"know\", \"know\", \"know\", \"know\", \"krassenstein\", \"krassenstein\", \"krassenstein\", \"la\", \"lawsuit\", \"lawsuit\", \"lawsuit\", \"lawsuit\", \"lie\", \"lie\", \"lie\", \"lie\", \"like\", \"like\", \"like\", \"like\", \"litigation\", \"lobby\", \"maintenance\", \"make\", \"make\", \"make\", \"make\", \"material\", \"material\", \"material\", \"meeting\", \"meeting\", \"meeting\", \"million\", \"million\", \"million\", \"misinformation\", \"misinformation\", \"monitor\", \"monitor\", \"monitoring\", \"month\", \"month\", \"month\", \"month\", \"mount\", \"movie\", \"multidistrict\", \"multimillion\", \"myid\", \"narrative\", \"near\", \"near\", \"near\", \"near\", \"netflix\", \"news\", \"news\", \"news\", \"news\", \"noise\", \"north\", \"nothing\", \"nothing\", \"nothing\", \"nothing\", \"obama\", \"official\", \"official\", \"official\", \"official\", \"one\", \"one\", \"one\", \"one\", \"order\", \"order\", \"order\", \"pause\", \"pay\", \"pay\", \"pay\", \"pennsylvania\", \"pennsylvania\", \"pennsylvania\", \"people\", \"people\", \"people\", \"people\", \"pete\", \"pete\", \"pete\", \"pete\", \"petition\", \"place\", \"place\", \"place\", \"plane\", \"pledge\", \"pledge\", \"pollutant\", \"preliminary\", \"president\", \"president\", \"president\", \"prevent\", \"prevent\", \"prompt\", \"protection\", \"protection\", \"protection\", \"public\", \"public\", \"public\", \"rail\", \"rail\", \"rail\", \"rail\", \"railroad\", \"railroad\", \"railroad\", \"railroad\", \"recover\", \"recover\", \"regan\", \"regan\", \"regs\", \"regulation\", \"release\", \"release\", \"release\", \"release\", \"repeal\", \"report\", \"report\", \"report\", \"report\", \"republican\", \"republican\", \"republican\", \"republican\", \"resident\", \"resident\", \"resident\", \"response\", \"response\", \"response\", \"response\", \"return\", \"reveals\", \"river\", \"river\", \"roll\", \"roll\", \"rule\", \"rule\", \"safety\", \"safety\", \"safety\", \"safety\", \"sample\", \"sample\", \"saturday\", \"saturday\", \"say\", \"say\", \"say\", \"say\", \"second\", \"second\", \"second\", \"see\", \"see\", \"see\", \"see\", \"seem\", \"seem\", \"seem\", \"seem\", \"senate\", \"shapiro\", \"shaw\", \"shelter\", \"shelter\", \"shipment\", \"sign\", \"sign\", \"sign\", \"site\", \"site\", \"site\", \"site\", \"skip\", \"sorry\", \"sound\", \"special\", \"special\", \"special\", \"specialist\", \"spill\", \"spill\", \"spill\", \"spill\", \"springfield\", \"springfield\", \"state\", \"state\", \"state\", \"state\", \"study\", \"sue\", \"sue\", \"sue\", \"sue\", \"support\", \"support\", \"support\", \"support\", \"surveil\", \"symptom\", \"symptom\", \"take\", \"take\", \"take\", \"take\", \"team\", \"team\", \"tell\", \"tell\", \"tell\", \"tell\", \"test\", \"test\", \"testifies\", \"testify\", \"testimony\", \"think\", \"think\", \"think\", \"think\", \"tour\", \"town\", \"town\", \"town\", \"town\", \"toxic\", \"toxic\", \"toxic\", \"toxic\", \"toxins\", \"train\", \"train\", \"truck\", \"truck\", \"truck\", \"truck\", \"truckloads\", \"trump\", \"trump\", \"trump\", \"try\", \"try\", \"try\", \"un\", \"us\", \"us\", \"us\", \"us\", \"vance\", \"vance\", \"via\", \"via\", \"via\", \"via\", \"victim\", \"victim\", \"vinyl\", \"vinyl\", \"vinyl\", \"vinyl\", \"virginia\", \"visit\", \"visit\", \"visit\", \"vote\", \"vote\", \"vote\", \"wall\", \"waste\", \"waste\", \"water\", \"water\", \"water\", \"wednesday\", \"wednesday\", \"week\", \"week\", \"week\", \"week\", \"wheel\", \"wheel\", \"wheel\", \"white\", \"white\", \"white\", \"white\", \"worry\", \"worry\", \"worry\", \"worry\", \"would\", \"would\", \"would\", \"would\", \"wrong\", \"wrong\", \"wrong\", \"wrong\", \"year\", \"year\", \"year\", \"year\"]}, \"R\": 30, \"lambda.step\": 0.01, \"plot.opts\": {\"xlab\": \"PC1\", \"ylab\": \"PC2\"}, \"topic.order\": [1, 3, 2, 4]};\n",
       "\n",
       "function LDAvis_load_lib(url, callback){\n",
       "  var s = document.createElement('script');\n",
       "  s.src = url;\n",
       "  s.async = true;\n",
       "  s.onreadystatechange = s.onload = callback;\n",
       "  s.onerror = function(){console.warn(\"failed to load library \" + url);};\n",
       "  document.getElementsByTagName(\"head\")[0].appendChild(s);\n",
       "}\n",
       "\n",
       "if(typeof(LDAvis) !== \"undefined\"){\n",
       "   // already loaded: just create the visualization\n",
       "   !function(LDAvis){\n",
       "       new LDAvis(\"#\" + \"ldavis_el565265665569248143644137\", ldavis_el565265665569248143644137_data);\n",
       "   }(LDAvis);\n",
       "}else if(typeof define === \"function\" && define.amd){\n",
       "   // require.js is available: use it to load d3/LDAvis\n",
       "   require.config({paths: {d3: \"https://d3js.org/d3.v5\"}});\n",
       "   require([\"d3\"], function(d3){\n",
       "      window.d3 = d3;\n",
       "      LDAvis_load_lib(\"https://cdn.jsdelivr.net/gh/bmabey/pyLDAvis@3.3.1/pyLDAvis/js/ldavis.v3.0.0.js\", function(){\n",
       "        new LDAvis(\"#\" + \"ldavis_el565265665569248143644137\", ldavis_el565265665569248143644137_data);\n",
       "      });\n",
       "    });\n",
       "}else{\n",
       "    // require.js not available: dynamically load d3 & LDAvis\n",
       "    LDAvis_load_lib(\"https://d3js.org/d3.v5.js\", function(){\n",
       "         LDAvis_load_lib(\"https://cdn.jsdelivr.net/gh/bmabey/pyLDAvis@3.3.1/pyLDAvis/js/ldavis.v3.0.0.js\", function(){\n",
       "                 new LDAvis(\"#\" + \"ldavis_el565265665569248143644137\", ldavis_el565265665569248143644137_data);\n",
       "            })\n",
       "         });\n",
       "}\n",
       "</script>"
      ],
      "text/plain": [
       "PreparedData(topic_coordinates=              x         y  topics  cluster       Freq\n",
       "topic                                                \n",
       "0     -0.134764  0.185574       1        1  33.343986\n",
       "2     -0.067166 -0.134981       2        1  25.714547\n",
       "1     -0.075923 -0.084799       3        1  23.515017\n",
       "3      0.277853  0.034206       4        1  17.426450, topic_info=           Term          Freq         Total Category  logprob  loglift\n",
       "1124    another   5782.000000   5782.000000  Default  30.0000  30.0000\n",
       "2437        ceo   4917.000000   4917.000000  Default  29.0000  29.0000\n",
       "3797     derail   8824.000000   8824.000000  Default  28.0000  28.0000\n",
       "3810    derails   4289.000000   4289.000000  Default  27.0000  27.0000\n",
       "13498     toxic  10461.000000  10461.000000  Default  26.0000  26.0000\n",
       "...         ...           ...           ...      ...      ...      ...\n",
       "9351   official   1282.565328   3199.656576   Topic4  -4.9342   0.8330\n",
       "1930      break   1106.003223   2164.302785   Topic4  -5.0823   1.0758\n",
       "8930       near   1052.609101   2147.261108   Topic4  -5.1318   1.0343\n",
       "8997       news   1126.596367   3459.071855   Topic4  -5.0639   0.6254\n",
       "10671  railroad   1059.438283   3531.175650   Topic4  -5.1253   0.5433\n",
       "\n",
       "[320 rows x 6 columns], token_table=       Topic      Freq            Term\n",
       "term                                  \n",
       "180        1  0.997319            2018\n",
       "196        4  0.998637             212\n",
       "590        4  0.997562          aboard\n",
       "681        2  0.997978        activist\n",
       "728        1  0.769391  administration\n",
       "...      ...       ...             ...\n",
       "14781      4  0.002390           wrong\n",
       "14882      1  0.831138            year\n",
       "14882      2  0.118218            year\n",
       "14882      3  0.050591            year\n",
       "14882      4  0.000516            year\n",
       "\n",
       "[644 rows x 3 columns], R=30, lambda_step=0.01, plot_opts={'xlab': 'PC1', 'ylab': 'PC2'}, topic_order=[1, 3, 2, 4])"
      ]
     },
     "execution_count": 20,
     "metadata": {},
     "output_type": "execute_result"
    }
   ],
   "source": [
    "pyLDAvis.sklearn.prepare(lda, tf, tf_vectorizer)"
   ]
  },
  {
   "cell_type": "code",
   "execution_count": 21,
   "metadata": {},
   "outputs": [],
   "source": [
    "# We want to know, for each tweet, what fraction is explained by each of the topics\n",
    "doc_topic_matrix = lda.transform(tf)\n",
    "# Ill get a low dimensional version of the data, the document topic matrix (10, 10)\n",
    "# each of the 10,000 represented as a distribution over 10 different topics"
   ]
  },
  {
   "cell_type": "code",
   "execution_count": 22,
   "metadata": {},
   "outputs": [
    {
     "data": {
      "text/plain": [
       "(85220, 4)"
      ]
     },
     "execution_count": 22,
     "metadata": {},
     "output_type": "execute_result"
    }
   ],
   "source": [
    "doc_topic_matrix.shape"
   ]
  },
  {
   "cell_type": "code",
   "execution_count": 23,
   "metadata": {},
   "outputs": [
    {
     "data": {
      "text/plain": [
       "'nicksortor break state sue explosion aim force railroad pay environmental cleanup economic damage'"
      ]
     },
     "execution_count": 23,
     "metadata": {},
     "output_type": "execute_result"
    }
   ],
   "source": [
    "sample_data[3]"
   ]
  },
  {
   "cell_type": "code",
   "execution_count": 24,
   "metadata": {},
   "outputs": [
    {
     "data": {
      "text/plain": [
       "'RT @nicksortor 🚨 #BREAKING: The State of Ohio is SUING Norfolk Southern over the East Palestine train explosion, aiming to FORCE the railroad to pay for environmental cleanup and economic damage.'"
      ]
     },
     "execution_count": 24,
     "metadata": {},
     "output_type": "execute_result"
    }
   ],
   "source": [
    "df.MESSAGE.iloc[3]"
   ]
  },
  {
   "cell_type": "code",
   "execution_count": 25,
   "metadata": {},
   "outputs": [
    {
     "data": {
      "text/plain": [
       "array([0.94948, 0.01695, 0.01679, 0.01678])"
      ]
     },
     "execution_count": 25,
     "metadata": {},
     "output_type": "execute_result"
    }
   ],
   "source": [
    "# The topic distribution of the 0th document is very small except for 0.96288 fior index 7\n",
    "# We saw from above, topic 7 is about religion, and we can check that document 0 is about religion\n",
    "doc_topic_matrix[0]\n",
    "\n",
    "# Note: for GMM when you do the .predict, itll give you k probabilites that sum to 1. \n",
    "# predict_proba of GMM \n",
    "# here: ... gives you a proba distr:\n",
    "# INTERPRETARATION DIFFERENT\n",
    "\n",
    "# FOR LDA: document can consist of a bunch of words, and different fraction of the words are truly in different topics: we get mixed membership, words are allowed to e in different topics\n",
    "# GMM: the above doesnt hold"
   ]
  },
  {
   "cell_type": "code",
   "execution_count": 26,
   "metadata": {},
   "outputs": [],
   "source": [
    "# here we can take some tweets and say:this is the topic it belongs to..."
   ]
  },
  {
   "cell_type": "code",
   "execution_count": 27,
   "metadata": {},
   "outputs": [
    {
     "data": {
      "text/plain": [
       "1.0"
      ]
     },
     "execution_count": 27,
     "metadata": {},
     "output_type": "execute_result"
    }
   ],
   "source": [
    "doc_topic_matrix[0].sum()"
   ]
  },
  {
   "attachments": {},
   "cell_type": "markdown",
   "metadata": {},
   "source": [
    "## Split: media, public, govt"
   ]
  },
  {
   "attachments": {},
   "cell_type": "markdown",
   "metadata": {},
   "source": [
    "### To do\n",
    "Present these results and then tweak:\n",
    "- Adjust count vectorizer parameters to get better sparsity (0.2-0.8)"
   ]
  },
  {
   "cell_type": "code",
   "execution_count": 28,
   "metadata": {},
   "outputs": [],
   "source": [
    "data_media = df.query('IS_MEDIA == 1')\n",
    "data_govt = df.query('IS_GOVT == 1')\n",
    "data_people = df.query('IS_PEOPLE == 1')"
   ]
  },
  {
   "cell_type": "markdown",
   "metadata": {},
   "source": []
  },
  {
   "cell_type": "code",
   "execution_count": 29,
   "metadata": {},
   "outputs": [],
   "source": [
    "def parse_lda(dataframe, max_voc, min_df, num_topics):\n",
    "  '''Outputs...\n",
    "  Parameters: \n",
    "    list_documents:list of strings, contains documents to be analyzed\n",
    "    max_voc:int, the max size of vocab allowed\n",
    "    min_df: int, minimum document frequency, i.e., keep words that appear in at least this number of documents\n",
    "    '''\n",
    "  sample_data = dataframe.T_text.tolist()\n",
    "  max_vocabulary = max_voc\n",
    "  tf_vectorizer = CountVectorizer(min_df = min_df, max_features=max_voc)\n",
    "  tf_fit = tf_vectorizer.fit(sample_data)\n",
    "  tf = tf_vectorizer.fit_transform(sample_data)\n",
    "  lda = LatentDirichletAllocation(n_components=num_topics, random_state=0)\n",
    "  lda.fit(tf)\n",
    "\n",
    "  return tf, tf_vectorizer, tf_vectorizer.get_feature_names_out(), lda, sample_data"
   ]
  },
  {
   "cell_type": "code",
   "execution_count": 30,
   "metadata": {},
   "outputs": [],
   "source": [
    "# we are getting the term frequency, ..., the vocabulary ordered alphabetically, fitted lda and the data used.\n",
    "tf, tf_vectorizer, vocab, lda, data = parse_lda(data_media, max_voc = 3800, min_df = 2, num_topics = 4)"
   ]
  },
  {
   "cell_type": "code",
   "execution_count": 31,
   "metadata": {},
   "outputs": [
    {
     "name": "stdout",
     "output_type": "stream",
     "text": [
      "Size of the ... (tweets, words in vocabulary): (7406, 3800)\n"
     ]
    }
   ],
   "source": [
    "print(f'Size of the ... (tweets, words in vocabulary): {tf.toarray().shape}')"
   ]
  },
  {
   "cell_type": "code",
   "execution_count": 32,
   "metadata": {},
   "outputs": [
    {
     "name": "stdout",
     "output_type": "stream",
     "text": [
      "Sparsity: 0.2962036471140043\n"
     ]
    }
   ],
   "source": [
    "# Metrics part 1\n",
    "\n",
    "# 1. Sparsity\n",
    "# How sparse is this document?\n",
    "# We are taking the non zero entries in the doc-word frequency matrix\n",
    "# Sparsity (%) = (# of zero elements in tf / total # of elements in tf) x 100\n",
    "\n",
    "sparsity_media = ((tf.todense() > 0).sum() / tf.todense().size)*100\n",
    "print(f'Sparsity: {sparsity_media}')\n",
    "\n",
    "\n",
    "#LOOK: to icnrease sparsity, we can increase min_df (can be integer or float)\n",
    "# we can also lower max_features\n",
    "# we can also reduce stop words"
   ]
  },
  {
   "cell_type": "code",
   "execution_count": 33,
   "metadata": {},
   "outputs": [],
   "source": [
    "def most_frequent(tf, vocab, data):\n",
    "  #highest frequency word\n",
    "  max_freq = tf.toarray().max()\n",
    "  # which doc / word combination has highest values?\n",
    "  max_freq_idx = list(np.argwhere(tf.toarray()==max_freq)[0])\n",
    "  max_freq_doc, max_freq_word = max_freq_idx\n",
    "  # to print out the vocabulary in the doc-word freq matrix\n",
    "  # vocab[max_freq_word]\n",
    "  # In which document is this word?\n",
    "  # sample_data[max_freq_doc]\n",
    "  print(f'The most repeated word in a single tweet is {vocab[max_freq_word]}, and it is repeated {max_freq} times in the tweet: {data[max_freq_doc]}')\n",
    "  "
   ]
  },
  {
   "cell_type": "code",
   "execution_count": 34,
   "metadata": {},
   "outputs": [
    {
     "name": "stdout",
     "output_type": "stream",
     "text": [
      "The most repeated word in a single tweet is get, and it is repeated 4 times in the tweet: get rid safety rule get get rid bank safety rule get svb signature\n"
     ]
    }
   ],
   "source": [
    "most_frequent(tf, vocab, data)"
   ]
  },
  {
   "cell_type": "code",
   "execution_count": 35,
   "metadata": {},
   "outputs": [],
   "source": [
    "topic_word = np.array([row / row.sum() for row in lda.components_])"
   ]
  },
  {
   "cell_type": "code",
   "execution_count": 36,
   "metadata": {},
   "outputs": [
    {
     "data": {
      "text/plain": [
       "(4, 3800)"
      ]
     },
     "execution_count": 36,
     "metadata": {},
     "output_type": "execute_result"
    }
   ],
   "source": [
    "topic_word.shape\n"
   ]
  },
  {
   "attachments": {},
   "cell_type": "markdown",
   "metadata": {},
   "source": [
    "## Media"
   ]
  },
  {
   "cell_type": "code",
   "execution_count": 37,
   "metadata": {},
   "outputs": [
    {
     "name": "stderr",
     "output_type": "stream",
     "text": [
      "/Users/ribarragi/miniconda3/envs/Intro_AI/lib/python3.9/site-packages/sklearn/utils/deprecation.py:87: FutureWarning: Function get_feature_names is deprecated; get_feature_names is deprecated in 1.0 and will be removed in 1.2. Please use get_feature_names_out instead.\n",
      "  warnings.warn(msg, category=FutureWarning)\n",
      "/Users/ribarragi/miniconda3/envs/Intro_AI/lib/python3.9/site-packages/pyLDAvis/_prepare.py:246: FutureWarning: In a future version of pandas all arguments of DataFrame.drop except for the argument 'labels' will be keyword-only.\n",
      "  default_term_info = default_term_info.sort_values(\n"
     ]
    },
    {
     "data": {
      "text/html": [
       "\n",
       "<link rel=\"stylesheet\" type=\"text/css\" href=\"https://cdn.jsdelivr.net/gh/bmabey/pyLDAvis@3.3.1/pyLDAvis/js/ldavis.v1.0.0.css\">\n",
       "\n",
       "\n",
       "<div id=\"ldavis_el5652656651759206777619324\"></div>\n",
       "<script type=\"text/javascript\">\n",
       "\n",
       "var ldavis_el5652656651759206777619324_data = {\"mdsDat\": {\"x\": [0.14053536763535368, -0.2151549292608614, 0.08841943691745555, -0.013799875291947932], \"y\": [0.14168847216469801, 0.01250073143408743, -0.18930316493750785, 0.03511396133872238], \"topics\": [1, 2, 3, 4], \"cluster\": [1, 1, 1, 1], \"Freq\": [27.896108809528787, 24.851358221892305, 24.24281823855337, 23.009714730025543]}, \"tinfo\": {\"Term\": [\"derail\", \"epa\", \"ceo\", \"car\", \"senate\", \"material\", \"site\", \"hazardous\", \"month\", \"safety\", \"springfield\", \"transportation\", \"order\", \"shaw\", \"buttigieg\", \"alan\", \"agency\", \"million\", \"carry\", \"pete\", \"spill\", \"another\", \"hearing\", \"toxic\", \"alabama\", \"waste\", \"water\", \"test\", \"congress\", \"federal\", \"transportation\", \"national\", \"pete\", \"cleveland\", \"truck\", \"secretary\", \"employee\", \"rule\", \"practice\", \"union\", \"gop\", \"special\", \"launch\", \"sherrod\", \"death\", \"legislation\", \"democrat\", \"fall\", \"brown\", \"buttigieg\", \"system\", \"nothing\", \"republicans\", \"deregulation\", \"something\", \"policy\", \"corporate\", \"cincinnati\", \"secretarypete\", \"lobby\", \"drink\", \"republican\", \"dump\", \"vance\", \"regulation\", \"safety\", \"ntsb\", \"investigation\", \"worker\", \"sen\", \"back\", \"board\", \"rail\", \"trump\", \"disaster\", \"like\", \"water\", \"include\", \"biden\", \"accident\", \"derailment\", \"follow\", \"response\", \"people\", \"call\", \"report\", \"say\", \"work\", \"company\", \"railroad\", \"president\", \"toxic\", \"springfield\", \"alabama\", \"derails\", \"pledge\", \"dollar\", \"wheel\", \"shapiro\", \"recover\", \"car\", \"josh\", \"clark\", \"less\", \"calhoun\", \"aboard\", \"212\", \"congress\", \"injury\", \"length\", \"model\", \"win\", \"loose\", \"amendment\", \"economy\", \"bear\", \"cash\", \"unlike\", \"unusual\", \"derail\", \"approximately\", \"2012\", \"material\", \"million\", \"another\", \"train\", \"saturday\", \"shelter\", \"carry\", \"sure\", \"hazardous\", \"governor\", \"across\", \"gov\", \"involve\", \"cargo\", \"month\", \"fiery\", \"pennsylvania\", \"second\", \"near\", \"last\", \"one\", \"say\", \"cause\", \"pay\", \"company\", \"railroad\", \"ceo\", \"report\", \"resident\", \"chemical\", \"official\", \"order\", \"epa\", \"waste\", \"test\", \"contaminate\", \"protection\", \"shipment\", \"dioxin\", \"resource\", \"disposal\", \"fema\", \"administrator\", \"regulator\", \"door\", \"michael\", \"direct\", \"ensure\", \"pause\", \"regan\", \"evacuation\", \"agency\", \"thousand\", \"indiana\", \"creek\", \"end\", \"removal\", \"transport\", \"tour\", \"soil\", \"fish\", \"animal\", \"site\", \"emergency\", \"federal\", \"air\", \"local\", \"clean\", \"environmental\", \"cleanup\", \"know\", \"visit\", \"water\", \"chemical\", \"toxic\", \"resident\", \"biden\", \"official\", \"concern\", \"via\", \"say\", \"go\", \"health\", \"safe\", \"state\", \"hazardous\", \"new\", \"week\", \"senate\", \"hearing\", \"sue\", \"committee\", \"risk\", \"sorry\", \"deeply\", \"indication\", \"apology\", \"dayton\", \"dave\", \"yost\", \"devastate\", \"hill\", \"capitol\", \"six\", \"west\", \"panel\", \"sensor\", \"shaw\", \"fourth\", \"alan\", \"fatally\", \"capture\", \"virginia\", \"economic\", \"answer\", \"entirely\", \"emerge\", \"pass\", \"responder\", \"spill\", \"columbus\", \"public\", \"ceo\", \"bring\", \"testify\", \"first\", \"crew\", \"toxic\", \"right\", \"health\", \"week\", \"full\", \"say\", \"company\", \"resident\", \"chemical\", \"tell\", \"month\", \"hear\", \"community\", \"thursday\", \"impact\", \"last\", \"follow\", \"state\", \"town\", \"live\", \"railroad\"], \"Freq\": [814.0, 471.0, 648.0, 377.0, 333.0, 382.0, 412.0, 551.0, 677.0, 695.0, 282.0, 306.0, 270.0, 261.0, 302.0, 241.0, 227.0, 248.0, 353.0, 223.0, 240.0, 260.0, 178.0, 1005.0, 180.0, 171.0, 423.0, 164.0, 178.0, 309.0, 305.6436129668325, 121.3679737816964, 221.65238441085984, 86.84171257363235, 78.18087790764312, 156.21190431586908, 57.96724260213786, 58.90219222851974, 53.15080998287061, 49.30005526673016, 47.38215738030776, 45.46178754693306, 43.532491465541426, 44.47489533628618, 42.57651462467937, 47.30772566677103, 41.612397739193966, 33.90263699479572, 60.24590249896829, 295.69067358881466, 32.9293591737489, 31.007357312558298, 30.064247606150865, 29.10429763800472, 29.09412601913098, 43.13618063421697, 27.175423421456635, 26.216216463693588, 36.5007428707372, 25.253042451278777, 43.52905350932299, 69.2820171308129, 62.460331978227636, 49.62082736715767, 116.72939787874832, 539.8784868735307, 183.06725682195457, 159.8763155737744, 108.56485157119032, 93.09184530744793, 85.01724951050389, 105.52885485715164, 288.7291698105007, 210.5338219450803, 195.91870354410958, 106.17756347331238, 205.91657398233554, 82.01625130299085, 154.20083962909234, 96.44383272573047, 101.19439957985821, 143.50209062591327, 121.85334301622862, 121.86855945313079, 100.50311888559735, 134.11782193796685, 207.68203314862166, 97.56391579890251, 124.19239385555093, 111.56245197174442, 96.90192140281671, 95.2219828646581, 281.513923614531, 179.601802958008, 159.707968367733, 123.8810786698231, 121.05717726016154, 88.01886056217245, 80.43444411231161, 70.08449649388524, 373.6781554051385, 57.79866514651814, 67.94852456091304, 53.81837241713607, 38.935982502932525, 37.05367551062881, 30.444448825391518, 173.8324466267578, 26.66303751574399, 24.767043439567956, 23.829240248195195, 23.827904183987094, 22.892642935237586, 22.89191791816618, 22.891435715102716, 24.69852891534175, 21.938782553124508, 20.048472331048032, 19.10879688269549, 782.075220357219, 17.21034939031276, 15.336867524356357, 360.3311256089593, 234.1183989033804, 236.4932319617459, 145.8504812792959, 178.98427614412049, 74.17918166569076, 284.1832334172461, 60.30876293797502, 413.4675554274366, 95.40235432317324, 59.933987533955445, 148.20541017851764, 119.33842676988115, 162.08975975614024, 434.836556997394, 167.85424843963645, 200.0789364537204, 162.58702134641686, 174.7788035047938, 214.66125923860426, 180.861583154078, 433.7924420987876, 145.26840807688907, 157.26302142292224, 257.4544187420397, 187.9073144188134, 180.90591989032086, 151.1024297589146, 168.79140383465645, 154.48514881741568, 148.94963053354917, 269.8630751770183, 469.53785589960404, 170.58528892504788, 163.67549580358175, 110.2342071100353, 88.81711433954756, 66.43390705987572, 64.48514951964725, 57.64620967996059, 47.93843001300908, 47.92997484797861, 77.63580843329237, 47.92104590806313, 46.95972794039557, 56.5099109061774, 43.043951053405245, 42.07836284107548, 39.17884309462726, 57.286172422787196, 35.272058920625014, 222.92436556374577, 39.95349074458525, 33.293530949745346, 30.407512633314138, 33.22070518694272, 28.468777748153116, 40.7676067357092, 28.410825364099466, 106.72300022836887, 43.40292932579561, 38.65292821028016, 368.77758607652373, 62.31317781577931, 246.29943106031627, 176.6061336131892, 105.85040234328146, 108.8411480375305, 208.54394614010795, 185.34868853944732, 126.9824805533012, 180.62042488286357, 206.5139845901118, 308.55967047160266, 347.02365383433676, 294.2184814371948, 157.36756685346293, 200.84320950271135, 136.39719961477005, 108.38863364779564, 242.96631038990745, 106.54006043454852, 119.12046913633276, 102.30704244129511, 116.00248610664167, 125.78131202383821, 108.48265346305809, 107.2689987191362, 332.37848830902453, 177.7360729185672, 141.65150127527073, 137.85622083979632, 116.02452491954554, 79.02111071284513, 65.7316522308346, 52.42745919143882, 45.795982780743465, 45.79357779347895, 43.89024985661059, 40.10029451734829, 40.081186310393434, 33.45214143460088, 33.45075288182862, 31.54236971550953, 30.578026485674705, 27.760627573272966, 27.751571703619973, 254.95371954554912, 23.95935257027104, 233.59439475321537, 22.062606330702703, 22.03111251667856, 22.025149580820816, 19.209477762482972, 127.01518049781566, 18.26203300842061, 18.227213052835012, 17.298957168445952, 48.022617068990314, 220.44432103037926, 51.72211803050509, 154.44136775561418, 466.8984427519374, 50.78645386933455, 106.45368483713902, 102.5026171812439, 90.56895362943303, 445.93750745960944, 93.03261487071858, 174.14942616310935, 179.81976640905924, 57.909554947689685, 382.6210298918161, 241.01367857737594, 277.31243305224166, 270.9446535185805, 108.21116601943602, 201.46076438013682, 81.82121930409247, 121.31551808671254, 118.08977620876936, 86.75704910594715, 130.02746851177145, 120.90195585302341, 110.49420238280756, 102.64804369075195, 97.32673680447299, 93.61480195929549], \"Total\": [814.0, 471.0, 648.0, 377.0, 333.0, 382.0, 412.0, 551.0, 677.0, 695.0, 282.0, 306.0, 270.0, 261.0, 302.0, 241.0, 227.0, 248.0, 353.0, 223.0, 240.0, 260.0, 178.0, 1005.0, 180.0, 171.0, 423.0, 164.0, 178.0, 309.0, 306.9771402820307, 122.20553365743918, 223.25975517122325, 87.5646352883319, 78.90393239306326, 157.8231048476317, 58.69543908673609, 59.6582067377308, 53.883801043035966, 50.034644690846775, 48.11016823833496, 46.185562626671825, 44.26082925640146, 45.223331243417775, 43.29867642711265, 48.111043111665936, 42.33632893051607, 34.63793312228816, 61.57453079532645, 302.22492862023944, 33.67574776930253, 31.75070008459374, 30.78866561305411, 29.82636222478631, 29.826445340148208, 44.253327003510826, 27.90165269704649, 26.93948776191954, 37.52828367028269, 25.977153012437885, 45.210402681551045, 73.09648888144885, 66.43098972181286, 52.895971371053754, 132.78873870595453, 695.4959565412936, 215.8929157298809, 193.73995507886, 126.03444375394372, 107.58746626911511, 97.31920191327751, 128.51334113968696, 427.844746152048, 294.7150443264861, 356.79123323240736, 154.51648052427583, 423.69029490415767, 115.79510702937151, 317.3514183997243, 155.87249708983373, 174.9361174777451, 330.8326959445339, 283.44435311510017, 294.28135595672035, 195.0139932154133, 379.00531020171246, 1267.0618155291327, 186.40670329005266, 650.2368342590742, 400.2912351328313, 213.26735467952932, 1005.0233997594794, 282.2851957861847, 180.3271819652504, 160.5025503760653, 124.62853989103901, 121.7964103705209, 88.75432519502995, 81.20266475132958, 70.81727689966847, 377.65189801257424, 58.54491353370526, 68.93697890803749, 54.77022425068898, 39.66345769013564, 37.7752952489183, 31.166956124674467, 178.5138738367309, 27.39076951267555, 25.50283710657449, 24.558720045936663, 24.558785389838462, 23.614516423340312, 23.614524989135518, 23.614527629956342, 25.503437597277024, 22.670669693514235, 20.782553511618463, 19.83851268647272, 814.9061478251265, 17.95063826457457, 16.062193346213334, 382.0424352539164, 248.5602672654154, 260.9822265502604, 164.64437780769853, 212.0329190071796, 83.23978599688556, 353.92657082943174, 67.15187285806343, 551.5380368344785, 113.57744669188762, 68.1268541732591, 189.0853767661799, 148.8447058345637, 212.69772539641056, 677.3333541461994, 227.79761147990249, 287.18384699122896, 225.03527555515169, 269.0199835476475, 366.7208661130499, 307.8218498004008, 1267.0618155291327, 233.33996658234588, 272.0961550728778, 650.2368342590742, 400.2912351328313, 648.296295603802, 379.00531020171246, 817.1249536728451, 815.7282932937217, 483.4809729685584, 270.59346782493077, 471.0965693036134, 171.3050866420939, 164.490095738937, 110.95325779516429, 89.538059564127, 67.14956594987066, 65.20270632701624, 58.388452841548265, 48.654637919064434, 48.654485112280746, 78.81870083870238, 48.65436914499182, 47.68118023100241, 57.41069493902313, 43.78696023575315, 42.813681221217315, 39.893908981371816, 58.379213904117236, 35.999973906414134, 227.71618961974207, 40.86390672648341, 34.05230232380303, 31.13294716587131, 34.05051871525854, 29.186239095515088, 41.830345657429014, 29.185580468231898, 109.9169908479286, 44.745099353233186, 39.881226821488575, 412.6800288939699, 66.0993938601189, 309.3291371312034, 243.36008612107233, 138.2935577493281, 144.14356714731355, 325.4867216048033, 285.03676074050765, 189.13177064319717, 318.00957545808444, 423.69029490415767, 815.7282932937217, 1005.0233997594794, 817.1249536728451, 317.3514183997243, 483.4809729685584, 290.79668345596707, 215.63032183664828, 1267.0618155291327, 232.32139031776597, 324.590351507366, 219.0600021920391, 330.9444571993806, 551.5380368344785, 284.62885471046343, 385.02137660011243, 333.1914326679567, 178.4655309536936, 142.3942130113062, 138.59742815596329, 116.76500410537169, 79.74432801431061, 66.45495686138808, 53.16600129367451, 46.52083383027026, 46.52084363971658, 44.62237256860451, 40.82541757333421, 40.825733208907124, 34.180763040060924, 34.180793236574985, 32.28241806427421, 31.333487798498577, 28.485307689372757, 28.48539685976871, 261.96422367017783, 24.688320493480113, 241.07829566230083, 22.78988948392353, 22.789876033430858, 22.790579193369663, 19.94212053642063, 131.95056084249654, 18.992972515977343, 18.993830631993962, 18.04389744283705, 50.31730321690891, 240.2110072782541, 56.937866938023035, 182.9414475047834, 648.296295603802, 60.021351987325765, 143.14582803431927, 140.75797730041316, 121.79978354134593, 1005.0233997594794, 138.10273583282958, 324.590351507366, 385.02137660011243, 76.12682285768926, 1267.0618155291327, 650.2368342590742, 817.1249536728451, 815.7282932937217, 212.27173579955547, 677.3333541461994, 133.546748276409, 274.903749677061, 269.17197525027757, 152.6661456440658, 366.7208661130499, 330.8326959445339, 330.9444571993806, 281.91193143940035, 246.50843716882264, 400.2912351328313], \"Category\": [\"Default\", \"Default\", \"Default\", \"Default\", \"Default\", \"Default\", \"Default\", \"Default\", \"Default\", \"Default\", \"Default\", \"Default\", \"Default\", \"Default\", \"Default\", \"Default\", \"Default\", \"Default\", \"Default\", \"Default\", \"Default\", \"Default\", \"Default\", \"Default\", \"Default\", \"Default\", \"Default\", \"Default\", \"Default\", \"Default\", \"Topic1\", \"Topic1\", \"Topic1\", \"Topic1\", \"Topic1\", \"Topic1\", \"Topic1\", \"Topic1\", \"Topic1\", \"Topic1\", \"Topic1\", \"Topic1\", \"Topic1\", \"Topic1\", \"Topic1\", \"Topic1\", \"Topic1\", \"Topic1\", \"Topic1\", \"Topic1\", \"Topic1\", \"Topic1\", \"Topic1\", \"Topic1\", \"Topic1\", \"Topic1\", \"Topic1\", \"Topic1\", \"Topic1\", \"Topic1\", \"Topic1\", \"Topic1\", \"Topic1\", \"Topic1\", \"Topic1\", \"Topic1\", \"Topic1\", \"Topic1\", \"Topic1\", \"Topic1\", \"Topic1\", \"Topic1\", \"Topic1\", \"Topic1\", \"Topic1\", \"Topic1\", \"Topic1\", \"Topic1\", \"Topic1\", \"Topic1\", \"Topic1\", \"Topic1\", \"Topic1\", \"Topic1\", \"Topic1\", \"Topic1\", \"Topic1\", \"Topic1\", \"Topic1\", \"Topic1\", \"Topic1\", \"Topic1\", \"Topic2\", \"Topic2\", \"Topic2\", \"Topic2\", \"Topic2\", \"Topic2\", \"Topic2\", \"Topic2\", \"Topic2\", \"Topic2\", \"Topic2\", \"Topic2\", \"Topic2\", \"Topic2\", \"Topic2\", \"Topic2\", \"Topic2\", \"Topic2\", \"Topic2\", \"Topic2\", \"Topic2\", \"Topic2\", \"Topic2\", \"Topic2\", \"Topic2\", \"Topic2\", \"Topic2\", \"Topic2\", \"Topic2\", \"Topic2\", \"Topic2\", \"Topic2\", \"Topic2\", \"Topic2\", \"Topic2\", \"Topic2\", \"Topic2\", \"Topic2\", \"Topic2\", \"Topic2\", \"Topic2\", \"Topic2\", \"Topic2\", \"Topic2\", \"Topic2\", \"Topic2\", \"Topic2\", \"Topic2\", \"Topic2\", \"Topic2\", \"Topic2\", \"Topic2\", \"Topic2\", \"Topic2\", \"Topic2\", \"Topic2\", \"Topic2\", \"Topic2\", \"Topic2\", \"Topic2\", \"Topic2\", \"Topic3\", \"Topic3\", \"Topic3\", \"Topic3\", \"Topic3\", \"Topic3\", \"Topic3\", \"Topic3\", \"Topic3\", \"Topic3\", \"Topic3\", \"Topic3\", \"Topic3\", \"Topic3\", \"Topic3\", \"Topic3\", \"Topic3\", \"Topic3\", \"Topic3\", \"Topic3\", \"Topic3\", \"Topic3\", \"Topic3\", \"Topic3\", \"Topic3\", \"Topic3\", \"Topic3\", \"Topic3\", \"Topic3\", \"Topic3\", \"Topic3\", \"Topic3\", \"Topic3\", \"Topic3\", \"Topic3\", \"Topic3\", \"Topic3\", \"Topic3\", \"Topic3\", \"Topic3\", \"Topic3\", \"Topic3\", \"Topic3\", \"Topic3\", \"Topic3\", \"Topic3\", \"Topic3\", \"Topic3\", \"Topic3\", \"Topic3\", \"Topic3\", \"Topic3\", \"Topic3\", \"Topic3\", \"Topic3\", \"Topic3\", \"Topic3\", \"Topic4\", \"Topic4\", \"Topic4\", \"Topic4\", \"Topic4\", \"Topic4\", \"Topic4\", \"Topic4\", \"Topic4\", \"Topic4\", \"Topic4\", \"Topic4\", \"Topic4\", \"Topic4\", \"Topic4\", \"Topic4\", \"Topic4\", \"Topic4\", \"Topic4\", \"Topic4\", \"Topic4\", \"Topic4\", \"Topic4\", \"Topic4\", \"Topic4\", \"Topic4\", \"Topic4\", \"Topic4\", \"Topic4\", \"Topic4\", \"Topic4\", \"Topic4\", \"Topic4\", \"Topic4\", \"Topic4\", \"Topic4\", \"Topic4\", \"Topic4\", \"Topic4\", \"Topic4\", \"Topic4\", \"Topic4\", \"Topic4\", \"Topic4\", \"Topic4\", \"Topic4\", \"Topic4\", \"Topic4\", \"Topic4\", \"Topic4\", \"Topic4\", \"Topic4\", \"Topic4\", \"Topic4\", \"Topic4\", \"Topic4\", \"Topic4\", \"Topic4\", \"Topic4\", \"Topic4\"], \"logprob\": [30.0, 29.0, 28.0, 27.0, 26.0, 25.0, 24.0, 23.0, 22.0, 21.0, 20.0, 19.0, 18.0, 17.0, 16.0, 15.0, 14.0, 13.0, 12.0, 11.0, 10.0, 9.0, 8.0, 7.0, 6.0, 5.0, 4.0, 3.0, 2.0, 1.0, -4.3541, -5.2777, -4.6754, -5.6125, -5.7175, -5.0253, -6.0167, -6.0007, -6.1034, -6.1786, -6.2183, -6.2597, -6.303, -6.2816, -6.3253, -6.2199, -6.3482, -6.5531, -5.9781, -4.3872, -6.5822, -6.6423, -6.6732, -6.7057, -6.706, -6.3122, -6.7742, -6.8102, -6.4792, -6.8476, -6.3031, -5.8384, -5.942, -6.1721, -5.3167, -3.7852, -4.8667, -5.0022, -5.3892, -5.543, -5.6337, -5.4176, -4.4111, -4.7269, -4.7989, -5.4114, -4.7491, -5.6696, -5.0383, -5.5076, -5.4595, -5.1102, -5.2737, -5.2736, -5.4664, -5.1778, -4.7405, -5.496, -5.2547, -5.362, -5.5029, -5.5203, -4.3208, -4.7702, -4.8876, -5.1417, -5.1647, -5.4834, -5.5735, -5.7113, -4.0376, -5.904, -5.7422, -5.9754, -6.2991, -6.3486, -6.5451, -4.8029, -6.6777, -6.7515, -6.7901, -6.7901, -6.8302, -6.8302, -6.8302, -6.7542, -6.8727, -6.9628, -7.0108, -3.299, -7.1155, -7.2307, -4.074, -4.5052, -4.4951, -4.9784, -4.7737, -5.6545, -4.3114, -5.8615, -3.9364, -5.4029, -5.8677, -4.9624, -5.179, -4.8728, -3.886, -4.8379, -4.6623, -4.8698, -4.7975, -4.5919, -4.7632, -3.8884, -4.9824, -4.9031, -4.4101, -4.725, -4.763, -4.943, -4.8323, -4.9209, -4.9574, -4.3383, -3.7844, -4.797, -4.8383, -5.2336, -5.4496, -5.74, -5.7698, -5.8819, -6.0663, -6.0664, -5.5842, -6.0666, -6.0869, -5.9018, -6.174, -6.1967, -6.2681, -5.8881, -6.3731, -4.5294, -6.2485, -6.4308, -6.5215, -6.433, -6.5874, -6.2283, -6.5894, -5.266, -6.1657, -6.2816, -4.026, -5.804, -4.4296, -4.7623, -5.2742, -5.2463, -4.596, -4.7139, -5.0921, -4.7398, -4.6058, -4.2043, -4.0868, -4.2519, -4.8776, -4.6337, -5.0206, -5.2505, -4.4433, -5.2677, -5.1561, -5.3082, -5.1826, -5.1016, -5.2496, -5.2608, -4.0777, -4.7037, -4.9306, -4.9578, -5.1302, -5.5143, -5.6984, -5.9246, -6.0598, -6.0598, -6.1023, -6.1926, -6.1931, -6.3739, -6.3739, -6.4327, -6.4637, -6.5604, -6.5607, -4.3429, -6.7076, -4.4304, -6.7901, -6.7915, -6.7918, -6.9286, -5.0397, -6.9792, -6.9811, -7.0333, -6.0123, -4.4883, -5.9381, -4.8442, -3.7379, -5.9564, -5.2163, -5.2541, -5.3779, -3.7838, -5.351, -4.7241, -4.692, -5.8251, -3.9369, -4.3991, -4.2588, -4.2821, -5.1999, -4.5784, -5.4794, -5.0856, -5.1125, -5.4209, -5.0162, -5.089, -5.179, -5.2527, -5.3059, -5.3448], \"loglift\": [30.0, 29.0, 28.0, 27.0, 26.0, 25.0, 24.0, 23.0, 22.0, 21.0, 20.0, 19.0, 18.0, 17.0, 16.0, 15.0, 14.0, 13.0, 12.0, 11.0, 10.0, 9.0, 8.0, 7.0, 6.0, 5.0, 4.0, 3.0, 2.0, 1.0, 1.2723, 1.2698, 1.2695, 1.2684, 1.2675, 1.2664, 1.2642, 1.2639, 1.263, 1.2619, 1.2614, 1.2609, 1.2601, 1.26, 1.2599, 1.2598, 1.2594, 1.2552, 1.2549, 1.2548, 1.2543, 1.253, 1.2529, 1.2522, 1.2518, 1.2511, 1.2503, 1.2495, 1.2489, 1.2484, 1.2388, 1.2231, 1.2151, 1.2128, 1.1478, 1.0234, 1.1118, 1.0846, 1.1275, 1.132, 1.1415, 1.0796, 0.8834, 0.9403, 0.6772, 0.9015, 0.5552, 0.9318, 0.5549, 0.7966, 0.7293, 0.4414, 0.4325, 0.3951, 0.6138, 0.2379, -0.5318, 0.6293, -0.3788, -0.0009, 0.4878, -1.0799, 1.3895, 1.3882, 1.3873, 1.3862, 1.3862, 1.3839, 1.3828, 1.3819, 1.3817, 1.3794, 1.3778, 1.3747, 1.3737, 1.373, 1.3688, 1.3657, 1.3653, 1.363, 1.3621, 1.362, 1.3612, 1.3612, 1.3612, 1.3602, 1.3594, 1.3563, 1.3548, 1.3511, 1.3501, 1.346, 1.3337, 1.3324, 1.2937, 1.2711, 1.2228, 1.277, 1.1728, 1.2848, 1.1041, 1.2179, 1.2641, 1.1487, 1.1713, 1.1205, 0.9491, 1.0869, 1.0308, 1.0672, 0.961, 0.8567, 0.8605, 0.3204, 0.9183, 0.844, 0.4658, 0.636, 0.1159, 0.4727, -0.1849, -0.2717, 0.2149, 1.4143, 1.4137, 1.4128, 1.4121, 1.4105, 1.409, 1.4063, 1.406, 1.4043, 1.4022, 1.402, 1.4019, 1.4019, 1.4018, 1.4012, 1.3999, 1.3997, 1.399, 1.3981, 1.3966, 1.3958, 1.3945, 1.3945, 1.3935, 1.3924, 1.3922, 1.3913, 1.3901, 1.3876, 1.3866, 1.3858, 1.3046, 1.3581, 1.1892, 1.0964, 1.1497, 1.1361, 0.9719, 0.9867, 1.0187, 0.8514, 0.6984, 0.4449, 0.3537, 0.3956, 0.7156, 0.5386, 0.66, 0.7292, -0.2345, 0.6374, 0.4146, 0.6557, 0.3687, -0.0611, 0.4525, 0.1391, 1.4668, 1.4652, 1.464, 1.4639, 1.4629, 1.4601, 1.4583, 1.4553, 1.4535, 1.4535, 1.4527, 1.4513, 1.4508, 1.4477, 1.4477, 1.4461, 1.4448, 1.4435, 1.4432, 1.4421, 1.4393, 1.4377, 1.4368, 1.4354, 1.4351, 1.4318, 1.4311, 1.43, 1.4281, 1.4271, 1.4226, 1.3834, 1.3732, 1.2999, 1.141, 1.3022, 1.1731, 1.1521, 1.173, 0.6567, 1.0742, 0.8466, 0.7079, 1.1957, 0.2718, 0.4768, 0.3886, 0.3671, 0.7955, 0.2567, 0.9793, 0.6512, 0.6453, 0.9041, 0.4324, 0.4626, 0.3723, 0.459, 0.5399, 0.0162]}, \"token.table\": {\"Topic\": [2, 2, 2, 1, 2, 3, 4, 1, 2, 3, 4, 1, 3, 1, 2, 3, 4, 2, 2, 4, 2, 3, 4, 1, 2, 3, 4, 2, 3, 4, 4, 2, 1, 3, 2, 1, 3, 4, 1, 2, 3, 4, 1, 4, 1, 3, 2, 1, 2, 3, 4, 4, 4, 2, 4, 2, 4, 2, 3, 4, 2, 1, 2, 3, 2, 4, 1, 2, 3, 4, 1, 2, 3, 3, 4, 2, 3, 1, 2, 4, 4, 1, 2, 3, 4, 1, 2, 3, 4, 1, 2, 3, 4, 1, 2, 3, 1, 3, 1, 2, 3, 4, 4, 4, 1, 4, 1, 2, 4, 1, 2, 3, 4, 2, 1, 4, 3, 3, 1, 2, 3, 4, 3, 2, 3, 1, 4, 1, 3, 4, 2, 4, 3, 4, 1, 3, 3, 4, 2, 3, 4, 3, 4, 3, 1, 4, 1, 2, 3, 4, 3, 1, 2, 3, 1, 2, 3, 4, 3, 4, 1, 2, 3, 4, 4, 1, 2, 3, 4, 1, 2, 3, 4, 1, 1, 2, 3, 1, 2, 3, 4, 1, 2, 3, 4, 1, 2, 3, 4, 1, 2, 3, 4, 4, 4, 1, 2, 3, 4, 1, 2, 3, 4, 2, 1, 2, 1, 2, 3, 4, 2, 2, 3, 4, 2, 3, 4, 1, 1, 2, 2, 1, 2, 3, 4, 1, 2, 3, 4, 1, 1, 2, 3, 4, 2, 2, 3, 3, 1, 2, 2, 2, 3, 4, 1, 1, 2, 3, 1, 2, 3, 4, 1, 1, 2, 1, 2, 3, 4, 1, 2, 3, 4, 3, 4, 4, 3, 1, 2, 3, 4, 1, 2, 3, 1, 2, 3, 4, 1, 3, 2, 1, 2, 1, 1, 3, 4, 3, 2, 3, 4, 1, 2, 3, 4, 1, 2, 3, 4, 2, 3, 4, 1, 2, 3, 3, 3, 1, 2, 3, 4, 1, 3, 4, 1, 1, 2, 3, 4, 3, 1, 2, 4, 1, 2, 3, 4, 1, 2, 3, 4, 4, 1, 1, 2, 3, 4, 1, 2, 3, 4, 2, 3, 4, 1, 2, 3, 4, 2, 4, 1, 3, 1, 3, 1, 2, 3, 4, 4, 4, 2, 2, 4, 2, 3, 4, 1, 3, 1, 3, 4, 4, 3, 4, 1, 4, 1, 1, 2, 3, 4, 2, 1, 2, 3, 4, 4, 1, 2, 4, 1, 1, 2, 3, 4, 3, 2, 4, 3, 1, 2, 3, 4, 3, 1, 2, 3, 4, 1, 2, 3, 4, 1, 2, 3, 2, 3, 1, 3, 1, 1, 3, 4, 1, 2, 2, 1, 3, 4, 1, 2, 3, 4, 4, 1, 3, 4, 3, 1, 3, 4, 1, 2, 3, 4, 4, 2, 2, 1, 3, 4, 1, 2, 3, 4, 4], \"Freq\": [0.9338699688567909, 0.9625579052376372, 0.9794761299995267, 0.6158879968713947, 0.2566199986964145, 0.012830999934820723, 0.10906349944597615, 0.11742799659668023, 0.8807099744751017, 0.9896128605268716, 0.012687344365729124, 0.017565725154103037, 0.9792891773412443, 0.22189341259985768, 0.01643654908147094, 0.7273172968550891, 0.03698223543330961, 0.9981856203724547, 0.029036209919973483, 0.9706390173248279, 0.9739768219170936, 0.9779037183225828, 0.025074454315963664, 0.07663357104568332, 0.9042761383390632, 0.0038316785522841657, 0.015326714209136663, 0.030314384224365824, 0.007578596056091456, 0.9624816991236149, 0.9888042885866898, 0.9470415340912613, 0.8734144786323328, 0.1233055734539764, 0.9802600102297278, 0.48526646194480594, 0.49471970470996446, 0.018906485530317114, 0.8248170894941079, 0.17118845253651296, 0.14994663902106803, 0.8496976211193854, 0.9744288624697736, 0.016240481041162894, 0.9794029941584952, 0.019852763395104632, 0.983272822674241, 0.5179115525747681, 0.21024132332243062, 0.04615053438785063, 0.2307526719392531, 0.9654544811642498, 0.9653409245284101, 0.9903299889877618, 0.007943823441078303, 0.7616442521803003, 0.23507538647540135, 0.8024263319208901, 0.16105035535031947, 0.03390533796848831, 0.9704168556738267, 0.23142199251555715, 0.6214109058288109, 0.14571014343572117, 0.2791933275377156, 0.720349635138747, 0.10052366783663101, 0.18878835179074605, 0.3788026019697437, 0.332218463216183, 0.9651259975608163, 0.9864081814596571, 0.01450600266852437, 0.7561905269667907, 0.2428134719618135, 0.347323621496414, 0.6490390906751171, 0.9935517884991735, 0.08781502133619633, 0.9132762218964418, 0.995689471558657, 0.2800980346410501, 0.17096893023544618, 0.10912910440560394, 0.44015405443593586, 0.19069974733328415, 0.39524060536011313, 0.0430612332688061, 0.37063418634936673, 0.2063297259340487, 0.0481436027179447, 0.46768071211717704, 0.27854513001096576, 0.022407221993616062, 0.9747141567222988, 0.9914084740357589, 0.9676846132794874, 0.9636093826956005, 0.17241409951169065, 0.0656815617187393, 0.016420390429684826, 0.7471277645506595, 0.9860524545697867, 0.9888040800861161, 0.9931019501804995, 0.9931539063017221, 0.9920557842634853, 0.9596197084621971, 0.03926832566597226, 0.5773536160298569, 0.3258332288485331, 0.040014607051574246, 0.05716372435939178, 0.9968688947628072, 0.9722942335857645, 0.9797741976933565, 0.9815543495850584, 0.982027520715846, 0.5493408518598021, 0.075674505103136, 0.2382345531024652, 0.13733521296495052, 0.9865452103424671, 0.9934611342969951, 0.9857138554938809, 0.9732273412807939, 0.022118803210927136, 0.9332993571167896, 0.04515964631210272, 0.9527572539389669, 0.9739767129969273, 0.9476761348856131, 0.937981369862572, 0.045386195315930904, 0.9881517355086412, 0.9691482316600426, 0.9809948316050413, 0.9477189515679006, 0.3041598732872519, 0.6421152880508652, 0.05530179514313671, 0.9976723046291032, 0.0021227070311257514, 0.972222926910623, 0.9815828178882395, 0.9653403547884365, 0.10991528413819852, 0.032328024746528974, 0.7952694087646128, 0.061423247018405056, 0.9865483087372031, 0.2238829444640577, 0.737496758234543, 0.035118893249263955, 0.1705054339391218, 0.09235711005035764, 0.007104393080796741, 0.7317524873220643, 0.9609990953544035, 0.02234881617103264, 0.43526532221634606, 0.12090703394898503, 0.08161224791556489, 0.3657437776956797, 0.9721195901656458, 0.18390364229663786, 0.03940792334927954, 0.013135974449759846, 0.7618865180860711, 0.30561111873033814, 0.04304381953948424, 0.4605688690724814, 0.18939280597373065, 0.9769244573655356, 0.005288616270080921, 0.7827152079719762, 0.21154465080323684, 0.11445934363418418, 0.8364336650190383, 0.008804564894937245, 0.03521825957974898, 0.016318004197235413, 0.7488150814953585, 0.2284520587612958, 0.0054393347324118045, 0.003080806300483355, 0.095504995314984, 0.3666159497575192, 0.5360602962841038, 0.19468837942939934, 0.0823681605278228, 0.11232021890157655, 0.6140171966619518, 0.9973914797372587, 0.9654553340814237, 0.17685649877445178, 0.11790433251630118, 0.13755505460235137, 0.5698709404954557, 0.7081473656671922, 0.2849861349636261, 0.9690974691286157, 0.9780686667174039, 0.9857335328788512, 0.825849267565245, 0.1703314114353318, 0.14780505545459116, 0.7994909817771068, 0.04702888128100628, 0.006718411611572326, 0.9906923846869883, 0.079309784649021, 0.6714895100283779, 0.2485039919002658, 0.5862769748523703, 0.05999113231047509, 0.3544930545618983, 0.9941069957164498, 0.9769066925219809, 0.9802830914665231, 0.9859371718625144, 0.6860109655639387, 0.129436031238479, 0.0906052218669353, 0.08413342030501135, 0.07707646934205237, 0.3813256904291012, 0.1500962824029441, 0.3934956592725831, 0.9623841376316326, 0.028923979287960967, 0.18077487054975605, 0.7664854511309657, 0.021692984465970726, 0.9739771752118993, 0.9423036992231861, 0.05496771578801919, 0.9928463687914014, 0.05632436814630009, 0.9414215818738729, 0.9772496268172125, 0.6422243897147684, 0.060531494203001156, 0.2967519593854447, 0.9901351958347608, 0.011151587924577561, 0.6505092956003578, 0.3345476377373269, 0.28809447335694016, 0.10188706984574714, 0.37944150149450656, 0.228367570343916, 0.9763564241861238, 0.8476424498753095, 0.14822163057928908, 0.1365100256060999, 0.3081817244743771, 0.4157350779822134, 0.140646693048709, 0.20466383410031075, 0.58800244400248, 0.1786747758018586, 0.029237690585758678, 0.9978067917540614, 0.9829628770499883, 0.9421467869597403, 0.97759284551962, 0.007350342747270071, 0.5770019056607005, 0.3564916232425984, 0.058802741978160565, 0.1671403197042137, 0.6964179987675571, 0.13580150975967364, 0.4145692465068783, 0.061165954402654175, 0.3092278805911961, 0.21747894898721484, 0.9943574462389914, 0.004479087595671133, 0.9949566937750491, 0.9716783553152649, 0.02259717105384337, 0.9835980197029884, 0.45482816695391143, 0.40793866520608546, 0.13597955506869516, 0.9939907167215117, 0.005466229843698229, 0.15305443562355042, 0.8417993959295272, 0.6754786697726441, 0.12387671106557142, 0.07946807879678167, 0.12153941463037196, 0.27979628373035526, 0.46965804769023917, 0.017487267733147203, 0.23482902384511958, 0.9884593571590395, 0.9763749147704786, 0.01712938446965752, 0.8810988125964742, 0.045184554492126876, 0.07530759082021146, 0.9865506601669878, 0.9593562194966953, 0.35355705155867906, 0.3984113043683622, 0.12400881659147699, 0.12400881659147699, 0.9439577886142696, 0.01368054766107637, 0.04104164298322911, 0.9743845471263385, 0.09423283385716884, 0.20682271327092902, 0.3597980929091901, 0.3389934412783866, 0.9933470947996784, 0.019873879084679448, 0.019873879084679448, 0.9539461960646136, 0.4304195820421183, 0.21520979102105914, 0.2998824956850824, 0.05644846977601551, 0.2389525435610906, 0.06516887551666108, 0.021722958505553693, 0.6734117136721645, 0.9934483442943116, 0.9889670378356425, 0.36063178676837865, 0.02738975595709205, 0.46562585127056483, 0.14607869843782426, 0.7764243557725683, 0.002875645762120623, 0.10927453896058367, 0.1121501847227043, 0.8442085353451128, 0.07074373201216028, 0.08017622961378165, 0.16415931523683233, 0.34252472506146747, 0.19178227693533778, 0.3022741237293596, 0.7243308836709555, 0.2755123606601181, 0.9884484287050885, 0.00633620787631467, 0.9859230527320646, 0.026646568992758503, 0.8644129583586755, 0.009294762993104036, 0.009294762993104036, 0.12083191891035248, 0.9964241797623169, 0.9829597999930182, 0.9851893437855451, 0.026721206056034758, 0.9734153634698377, 0.8889979606959674, 0.04805394382140364, 0.04805394382140364, 0.972949112553582, 0.9828805155534609, 0.016962294053242188, 0.8941552150923382, 0.08965783999570871, 0.991251644665777, 0.9734618749528515, 0.027293323596808923, 0.972291524158403, 0.990666069514348, 0.974330449620047, 0.020815032819075322, 0.054119085329595834, 0.008326013127630129, 0.9158614440393141, 0.998989689185115, 0.030216550791105728, 0.28403557743639385, 0.3505119891768264, 0.332382058702163, 0.9972315376940571, 0.08934970455227646, 0.8934970455227647, 0.01489161742537941, 0.9799336966789342, 0.28736750924579635, 0.05653131329425502, 0.1460392260101588, 0.5087818196482952, 0.997020515206491, 0.25149178634370667, 0.7405035931231364, 0.9788589296597155, 0.21919072349616442, 0.31206814870640354, 0.02972077606727653, 0.43838144699232884, 0.9593778691665089, 0.241210081647847, 0.3227958445581482, 0.07449134874418804, 0.36536232955482706, 0.09452516232232529, 0.1164151999127585, 0.3452655929036513, 0.4437707620606008, 0.09717914582353789, 0.8867597056397831, 0.012147393227942236, 0.023906089808330363, 0.9801496821415449, 0.996816895612706, 0.003257571554289889, 0.9885438866524385, 0.7159458061674436, 0.1900140528216912, 0.0950070264108456, 0.9793214342334272, 0.9623456515494606, 0.9577330871661325, 0.9452515702804823, 0.018905031405609646, 0.03781006281121929, 0.18086510128916203, 0.18086510128916203, 0.5008572035699872, 0.1391270009916631, 0.9653111407717246, 0.2830103460575279, 0.569165251515695, 0.14779429183004233, 0.9982190450495418, 0.4862041979191403, 0.4885644124721458, 0.025962360083060892, 0.17661357039566553, 0.07791775164514655, 0.277906647534356, 0.4675065098708793, 0.9893568248564222, 0.9915009753792574, 0.9772470266355409, 0.5257321666566357, 0.19849071598260734, 0.27359531121926955, 0.8648429489068881, 0.015868677961594274, 0.07140905082717423, 0.04760603388478283, 0.9797817726701382], \"Term\": [\"2012\", \"212\", \"aboard\", \"accident\", \"accident\", \"accident\", \"accident\", \"across\", \"across\", \"administrator\", \"administrator\", \"agency\", \"agency\", \"air\", \"air\", \"air\", \"air\", \"alabama\", \"alan\", \"alan\", \"amendment\", \"animal\", \"animal\", \"another\", \"another\", \"another\", \"another\", \"answer\", \"answer\", \"answer\", \"apology\", \"approximately\", \"back\", \"back\", \"bear\", \"biden\", \"biden\", \"biden\", \"board\", \"board\", \"bring\", \"bring\", \"brown\", \"brown\", \"buttigieg\", \"buttigieg\", \"calhoun\", \"call\", \"call\", \"call\", \"call\", \"capitol\", \"capture\", \"car\", \"car\", \"cargo\", \"cargo\", \"carry\", \"carry\", \"carry\", \"cash\", \"cause\", \"cause\", \"cause\", \"ceo\", \"ceo\", \"chemical\", \"chemical\", \"chemical\", \"chemical\", \"cincinnati\", \"clark\", \"clark\", \"clean\", \"clean\", \"cleanup\", \"cleanup\", \"cleveland\", \"columbus\", \"columbus\", \"committee\", \"community\", \"community\", \"community\", \"community\", \"company\", \"company\", \"company\", \"company\", \"concern\", \"concern\", \"concern\", \"concern\", \"congress\", \"congress\", \"contaminate\", \"corporate\", \"creek\", \"crew\", \"crew\", \"crew\", \"crew\", \"dave\", \"dayton\", \"death\", \"deeply\", \"democrat\", \"derail\", \"derail\", \"derailment\", \"derailment\", \"derailment\", \"derailment\", \"derails\", \"deregulation\", \"devastate\", \"dioxin\", \"direct\", \"disaster\", \"disaster\", \"disaster\", \"disaster\", \"disposal\", \"dollar\", \"door\", \"drink\", \"drink\", \"dump\", \"dump\", \"economic\", \"economy\", \"emerge\", \"emergency\", \"emergency\", \"employee\", \"end\", \"ensure\", \"entirely\", \"environmental\", \"environmental\", \"environmental\", \"epa\", \"epa\", \"evacuation\", \"fall\", \"fatally\", \"federal\", \"federal\", \"federal\", \"federal\", \"fema\", \"fiery\", \"fiery\", \"fiery\", \"first\", \"first\", \"first\", \"first\", \"fish\", \"fish\", \"follow\", \"follow\", \"follow\", \"follow\", \"fourth\", \"full\", \"full\", \"full\", \"full\", \"go\", \"go\", \"go\", \"go\", \"gop\", \"gov\", \"gov\", \"gov\", \"governor\", \"governor\", \"governor\", \"governor\", \"hazardous\", \"hazardous\", \"hazardous\", \"hazardous\", \"health\", \"health\", \"health\", \"health\", \"hear\", \"hear\", \"hear\", \"hear\", \"hearing\", \"hill\", \"impact\", \"impact\", \"impact\", \"impact\", \"include\", \"include\", \"indiana\", \"indication\", \"injury\", \"investigation\", \"investigation\", \"involve\", \"involve\", \"involve\", \"involve\", \"josh\", \"know\", \"know\", \"know\", \"last\", \"last\", \"last\", \"launch\", \"legislation\", \"length\", \"less\", \"like\", \"like\", \"like\", \"like\", \"live\", \"live\", \"live\", \"live\", \"lobby\", \"local\", \"local\", \"local\", \"local\", \"loose\", \"material\", \"material\", \"michael\", \"million\", \"million\", \"model\", \"month\", \"month\", \"month\", \"national\", \"near\", \"near\", \"near\", \"new\", \"new\", \"new\", \"new\", \"nothing\", \"ntsb\", \"ntsb\", \"official\", \"official\", \"official\", \"official\", \"one\", \"one\", \"one\", \"one\", \"order\", \"panel\", \"pass\", \"pause\", \"pay\", \"pay\", \"pay\", \"pay\", \"pennsylvania\", \"pennsylvania\", \"pennsylvania\", \"people\", \"people\", \"people\", \"people\", \"pete\", \"pete\", \"pledge\", \"policy\", \"policy\", \"practice\", \"president\", \"president\", \"president\", \"protection\", \"public\", \"public\", \"public\", \"rail\", \"rail\", \"rail\", \"rail\", \"railroad\", \"railroad\", \"railroad\", \"railroad\", \"recover\", \"regan\", \"regan\", \"regulation\", \"regulation\", \"regulation\", \"regulator\", \"removal\", \"report\", \"report\", \"report\", \"report\", \"republican\", \"republican\", \"republican\", \"republicans\", \"resident\", \"resident\", \"resident\", \"resident\", \"resource\", \"responder\", \"responder\", \"responder\", \"response\", \"response\", \"response\", \"response\", \"right\", \"right\", \"right\", \"right\", \"risk\", \"rule\", \"safe\", \"safe\", \"safe\", \"safe\", \"safety\", \"safety\", \"safety\", \"safety\", \"saturday\", \"saturday\", \"saturday\", \"say\", \"say\", \"say\", \"say\", \"second\", \"second\", \"secretary\", \"secretary\", \"secretarypete\", \"secretarypete\", \"sen\", \"sen\", \"sen\", \"sen\", \"senate\", \"sensor\", \"shapiro\", \"shaw\", \"shaw\", \"shelter\", \"shelter\", \"shelter\", \"sherrod\", \"shipment\", \"site\", \"site\", \"site\", \"six\", \"soil\", \"soil\", \"something\", \"sorry\", \"special\", \"spill\", \"spill\", \"spill\", \"spill\", \"springfield\", \"state\", \"state\", \"state\", \"state\", \"sue\", \"sure\", \"sure\", \"sure\", \"system\", \"tell\", \"tell\", \"tell\", \"tell\", \"test\", \"testify\", \"testify\", \"thousand\", \"thursday\", \"thursday\", \"thursday\", \"thursday\", \"tour\", \"town\", \"town\", \"town\", \"town\", \"toxic\", \"toxic\", \"toxic\", \"toxic\", \"train\", \"train\", \"train\", \"transport\", \"transport\", \"transportation\", \"transportation\", \"truck\", \"trump\", \"trump\", \"trump\", \"union\", \"unlike\", \"unusual\", \"vance\", \"vance\", \"vance\", \"via\", \"via\", \"via\", \"via\", \"virginia\", \"visit\", \"visit\", \"visit\", \"waste\", \"water\", \"water\", \"water\", \"week\", \"week\", \"week\", \"week\", \"west\", \"wheel\", \"win\", \"work\", \"work\", \"work\", \"worker\", \"worker\", \"worker\", \"worker\", \"yost\"]}, \"R\": 30, \"lambda.step\": 0.01, \"plot.opts\": {\"xlab\": \"PC1\", \"ylab\": \"PC2\"}, \"topic.order\": [1, 3, 2, 4]};\n",
       "\n",
       "function LDAvis_load_lib(url, callback){\n",
       "  var s = document.createElement('script');\n",
       "  s.src = url;\n",
       "  s.async = true;\n",
       "  s.onreadystatechange = s.onload = callback;\n",
       "  s.onerror = function(){console.warn(\"failed to load library \" + url);};\n",
       "  document.getElementsByTagName(\"head\")[0].appendChild(s);\n",
       "}\n",
       "\n",
       "if(typeof(LDAvis) !== \"undefined\"){\n",
       "   // already loaded: just create the visualization\n",
       "   !function(LDAvis){\n",
       "       new LDAvis(\"#\" + \"ldavis_el5652656651759206777619324\", ldavis_el5652656651759206777619324_data);\n",
       "   }(LDAvis);\n",
       "}else if(typeof define === \"function\" && define.amd){\n",
       "   // require.js is available: use it to load d3/LDAvis\n",
       "   require.config({paths: {d3: \"https://d3js.org/d3.v5\"}});\n",
       "   require([\"d3\"], function(d3){\n",
       "      window.d3 = d3;\n",
       "      LDAvis_load_lib(\"https://cdn.jsdelivr.net/gh/bmabey/pyLDAvis@3.3.1/pyLDAvis/js/ldavis.v3.0.0.js\", function(){\n",
       "        new LDAvis(\"#\" + \"ldavis_el5652656651759206777619324\", ldavis_el5652656651759206777619324_data);\n",
       "      });\n",
       "    });\n",
       "}else{\n",
       "    // require.js not available: dynamically load d3 & LDAvis\n",
       "    LDAvis_load_lib(\"https://d3js.org/d3.v5.js\", function(){\n",
       "         LDAvis_load_lib(\"https://cdn.jsdelivr.net/gh/bmabey/pyLDAvis@3.3.1/pyLDAvis/js/ldavis.v3.0.0.js\", function(){\n",
       "                 new LDAvis(\"#\" + \"ldavis_el5652656651759206777619324\", ldavis_el5652656651759206777619324_data);\n",
       "            })\n",
       "         });\n",
       "}\n",
       "</script>"
      ],
      "text/plain": [
       "PreparedData(topic_coordinates=              x         y  topics  cluster       Freq\n",
       "topic                                                \n",
       "0      0.140535  0.141688       1        1  27.896109\n",
       "2     -0.215155  0.012501       2        1  24.851358\n",
       "1      0.088419 -0.189303       3        1  24.242818\n",
       "3     -0.013800  0.035114       4        1  23.009715, topic_info=          Term        Freq       Total Category  logprob  loglift\n",
       "1004    derail  814.000000  814.000000  Default  30.0000  30.0000\n",
       "1235       epa  471.000000  471.000000  Default  29.0000  29.0000\n",
       "613        ceo  648.000000  648.000000  Default  28.0000  28.0000\n",
       "574        car  377.000000  377.000000  Default  27.0000  27.0000\n",
       "3019    senate  333.000000  333.000000  Default  26.0000  26.0000\n",
       "...        ...         ...         ...      ...      ...      ...\n",
       "1442    follow  120.901956  330.832696   Topic4  -5.0890   0.4626\n",
       "3218     state  110.494202  330.944457   Topic4  -5.1790   0.3723\n",
       "3457      town  102.648044  281.911931   Topic4  -5.2527   0.4590\n",
       "2019      live   97.326737  246.508437   Topic4  -5.3059   0.5399\n",
       "2748  railroad   93.614802  400.291235   Topic4  -5.3448   0.0162\n",
       "\n",
       "[270 rows x 6 columns], token_table=      Topic      Freq      Term\n",
       "term                           \n",
       "28        2  0.933870      2012\n",
       "39        2  0.962558       212\n",
       "129       2  0.979476    aboard\n",
       "139       1  0.615888  accident\n",
       "139       2  0.256620  accident\n",
       "...     ...       ...       ...\n",
       "3751      1  0.864843    worker\n",
       "3751      2  0.015869    worker\n",
       "3751      3  0.071409    worker\n",
       "3751      4  0.047606    worker\n",
       "3788      4  0.979782      yost\n",
       "\n",
       "[456 rows x 3 columns], R=30, lambda_step=0.01, plot_opts={'xlab': 'PC1', 'ylab': 'PC2'}, topic_order=[1, 3, 2, 4])"
      ]
     },
     "execution_count": 37,
     "metadata": {},
     "output_type": "execute_result"
    }
   ],
   "source": [
    "pyLDAvis.sklearn.prepare(lda, tf, tf_vectorizer)"
   ]
  },
  {
   "cell_type": "code",
   "execution_count": 38,
   "metadata": {},
   "outputs": [],
   "source": [
    "def tweet_topic(dataframe, lda, tf, tweet_no):\n",
    "  tweet_topic_matrix = lda.transform(tf)\n",
    "  print(f'{dataframe.MESSAGE.iloc[tweet_no]}')\n",
    "  print(f'{tweet_topic_matrix[tweet_no]}')"
   ]
  },
  {
   "cell_type": "code",
   "execution_count": 39,
   "metadata": {},
   "outputs": [
    {
     "name": "stdout",
     "output_type": "stream",
     "text": [
      "Ohio filed a lawsuit against railroad Norfolk Southern to make sure it pays for the cleanup and environmental damage caused by a fiery train derailment last month. https://t.co/2iybJ3ySje\n",
      "[0.01803 0.01838 0.94527 0.01832]\n"
     ]
    }
   ],
   "source": [
    "tweet_topic(data_media, lda, tf, 14)"
   ]
  },
  {
   "cell_type": "code",
   "execution_count": 40,
   "metadata": {},
   "outputs": [
    {
     "name": "stdout",
     "output_type": "stream",
     "text": [
      "Loglikelihood: -596634.0540684959\n",
      "Perplexity: 1095.9522157406354\n"
     ]
    }
   ],
   "source": [
    "# Metrics part 2\n",
    "\n",
    "\n",
    "# 2. Loglikelihood\n",
    "loglikelihood_media = lda.score(tf)\n",
    "perplexity_media = lda.perplexity(tf)\n",
    "\n",
    "print(f'Loglikelihood: {loglikelihood_media}')\n",
    "print(f'Perplexity: {perplexity_media}')\n",
    "\n",
    "# INTERPRETATION MISSING\n",
    "\n"
   ]
  },
  {
   "cell_type": "code",
   "execution_count": 41,
   "metadata": {},
   "outputs": [],
   "source": [
    "# Choose optimal model\n",
    "\n",
    "# Visualize keyowrds for topics???"
   ]
  },
  {
   "attachments": {},
   "cell_type": "markdown",
   "metadata": {},
   "source": [
    "## GOVT\n"
   ]
  },
  {
   "cell_type": "code",
   "execution_count": 42,
   "metadata": {},
   "outputs": [],
   "source": [
    "tf, tf_vectorizer, vocab, lda, data = parse_lda(data_govt, max_voc = 800, min_df = 2, num_topics = 4)"
   ]
  },
  {
   "cell_type": "code",
   "execution_count": 43,
   "metadata": {},
   "outputs": [
    {
     "name": "stdout",
     "output_type": "stream",
     "text": [
      "Size of the ... (tweets, words in vocabulary): (376, 800)\n"
     ]
    }
   ],
   "source": [
    "print(f'Size of the ... (tweets, words in vocabulary): {tf.toarray().shape}')"
   ]
  },
  {
   "cell_type": "code",
   "execution_count": 44,
   "metadata": {},
   "outputs": [
    {
     "name": "stdout",
     "output_type": "stream",
     "text": [
      "Sparsity: 1.496343085106383\n"
     ]
    }
   ],
   "source": [
    "# Metrics part 1\n",
    "\n",
    "# 1. Sparsity\n",
    "# How sparse is this document?\n",
    "# We are taking the non zero entries in the doc-word frequency matrix\n",
    "# Sparsity (%) = (# of zero elements in tf / total # of elements in tf) x 100\n",
    "\n",
    "sparsity_govt = ((tf.todense() > 0).sum() / tf.todense().size)*100\n",
    "print(f'Sparsity: {sparsity_govt}')\n",
    "\n",
    "\n",
    "#OJO: to icnrease sparsity, we can increase min_df (can be integer or float)\n",
    "# we can also lower max_features\n",
    "# we can also reduce stop words"
   ]
  },
  {
   "cell_type": "code",
   "execution_count": 45,
   "metadata": {},
   "outputs": [
    {
     "name": "stdout",
     "output_type": "stream",
     "text": [
      "The most repeated word in a single tweet is update, and it is repeated 3 times in the tweet: update ohioag file civil lawsuit united state district court northern district today full update previous update information\n"
     ]
    }
   ],
   "source": [
    "most_frequent(tf, vocab, data)"
   ]
  },
  {
   "attachments": {},
   "cell_type": "markdown",
   "metadata": {},
   "source": [
    "topic_word = np.array([row / row.sum() for row in lda.components_])\n",
    "topic_word.shape\n"
   ]
  },
  {
   "attachments": {},
   "cell_type": "markdown",
   "metadata": {},
   "source": [
    "## Govt"
   ]
  },
  {
   "cell_type": "code",
   "execution_count": 46,
   "metadata": {},
   "outputs": [
    {
     "name": "stderr",
     "output_type": "stream",
     "text": [
      "/Users/ribarragi/miniconda3/envs/Intro_AI/lib/python3.9/site-packages/sklearn/utils/deprecation.py:87: FutureWarning: Function get_feature_names is deprecated; get_feature_names is deprecated in 1.0 and will be removed in 1.2. Please use get_feature_names_out instead.\n",
      "  warnings.warn(msg, category=FutureWarning)\n",
      "/Users/ribarragi/miniconda3/envs/Intro_AI/lib/python3.9/site-packages/pyLDAvis/_prepare.py:246: FutureWarning: In a future version of pandas all arguments of DataFrame.drop except for the argument 'labels' will be keyword-only.\n",
      "  default_term_info = default_term_info.sort_values(\n"
     ]
    },
    {
     "data": {
      "text/html": [
       "\n",
       "<link rel=\"stylesheet\" type=\"text/css\" href=\"https://cdn.jsdelivr.net/gh/bmabey/pyLDAvis@3.3.1/pyLDAvis/js/ldavis.v1.0.0.css\">\n",
       "\n",
       "\n",
       "<div id=\"ldavis_el5652662797597921463243598\"></div>\n",
       "<script type=\"text/javascript\">\n",
       "\n",
       "var ldavis_el5652662797597921463243598_data = {\"mdsDat\": {\"x\": [0.17065657469758239, -0.04770131214396469, -0.10383496318133778, -0.019120299372279843], \"y\": [0.03346243768843997, -0.13068531404588982, 0.11905277079088794, -0.021829894433438107], \"topics\": [1, 2, 3, 4], \"cluster\": [1, 1, 1, 1], \"Freq\": [28.96526650600514, 25.996673866173577, 23.574376116010598, 21.46368351181069]}, \"tinfo\": {\"Term\": [\"update\", \"ceo\", \"people\", \"epa\", \"community\", \"chemical\", \"accountable\", \"investigation\", \"hold\", \"hear\", \"derail\", \"president\", \"shaw\", \"buttigieg\", \"biden\", \"testimony\", \"join\", \"effort\", \"alan\", \"toxic\", \"concern\", \"time\", \"visit\", \"open\", \"pete\", \"go\", \"site\", \"today\", \"day\", \"accident\", \"update\", \"effort\", \"soil\", \"responder\", \"resource\", \"conduct\", \"ukraine\", \"district\", \"tax\", \"force\", \"monitoring\", \"dam\", \"appear\", \"phase\", \"relate\", \"night\", \"website\", \"management\", \"remove\", \"ohioag\", \"medium\", \"alert\", \"pennsylvania\", \"24\", \"speak\", \"order\", \"transition\", \"leslie\", \"sulphur\", \"accelerate\", \"ohioan\", \"cleanup\", \"epa\", \"long\", \"president\", \"site\", \"continue\", \"begin\", \"lawsuit\", \"information\", \"visit\", \"right\", \"another\", \"derail\", \"resident\", \"safety\", \"late\", \"today\", \"federal\", \"health\", \"community\", \"biden\", \"state\", \"ensure\", \"since\", \"rail\", \"response\", \"work\", \"get\", \"take\", \"accountable\", \"airline\", \"occur\", \"break\", \"standard\", \"image\", \"might\", \"sit\", \"extra\", \"examine\", \"alabama\", \"brake\", \"prevent\", \"time\", \"know\", \"every\", \"entire\", \"future\", \"nothing\", \"quality\", \"chairman\", \"exact\", \"large\", \"detect\", \"together\", \"child\", \"equipment\", \"fra\", \"hard\", \"foot\", \"hold\", \"people\", \"feel\", \"000\", \"train\", \"lead\", \"hazardous\", \"keep\", \"system\", \"like\", \"union\", \"railroad\", \"oversight\", \"accident\", \"material\", \"rail\", \"derail\", \"pay\", \"say\", \"make\", \"sure\", \"week\", \"response\", \"new\", \"county\", \"epa\", \"chemical\", \"safety\", \"answer\", \"incident\", \"take\", \"since\", \"one\", \"toxic\", \"resident\", \"investigation\", \"open\", \"eastpalestine\", \"spill\", \"door\", \"press\", \"weekend\", \"apologize\", \"testify\", \"spend\", \"lot\", \"talk\", \"march\", \"horrific\", \"stock\", \"buyback\", \"economy\", \"among\", \"count\", \"firm\", \"focus\", \"jeffzymeri\", \"woe\", \"merkley\", \"reporter\", \"national\", \"usa\", \"reach\", \"culture\", \"investigate\", \"announce\", \"government\", \"chemical\", \"go\", \"need\", \"ceo\", \"question\", \"shaw\", \"biden\", \"toxic\", \"company\", \"hill\", \"alan\", \"answer\", \"safety\", \"last\", \"public\", \"plan\", \"environmental\", \"today\", \"federal\", \"rail\", \"ntsb\", \"epwcmte\", \"accident\", \"health\", \"work\", \"disaster\", \"hear\", \"testimony\", \"join\", \"pete\", \"secretary\", \"reuters\", \"away\", \"afternoon\", \"epwgop\", \"tomorrow\", \"gop\", \"pahousedems\", \"conductor\", \"experience\", \"detail\", \"politician\", \"part\", \"buttigieg\", \"extent\", \"defect\", \"mishandle\", \"potentially\", \"precipitate\", \"previously\", \"unreported\", \"sick\", \"6am\", \"25k\", \"donation\", \"respect\", \"sander\", \"house\", \"secretarypete\", \"colleague\", \"fail\", \"concern\", \"hear\", \"committee\", \"community\", \"send\", \"policy\", \"day\", \"senate\", \"ceo\", \"disaster\", \"still\", \"hearing\", \"oh\", \"worker\", \"alan\", \"impact\", \"make\", \"shaw\", \"get\", \"today\", \"toxic\", \"week\", \"take\", \"visit\", \"people\", \"rail\"], \"Freq\": [24.0, 29.0, 26.0, 34.0, 28.0, 24.0, 17.0, 13.0, 23.0, 27.0, 25.0, 21.0, 17.0, 13.0, 30.0, 9.0, 9.0, 12.0, 16.0, 27.0, 14.0, 14.0, 18.0, 9.0, 8.0, 17.0, 16.0, 34.0, 18.0, 15.0, 23.612588702365723, 11.45615293162298, 8.010462341218249, 7.988390465238959, 6.280094506651811, 6.262257365287168, 5.406199626504178, 4.549396403468856, 4.5475328186952, 4.547417419832511, 4.547325421442974, 3.6828494398427964, 3.6828454685242606, 3.6828446935739345, 3.682838921468586, 3.6828304195768986, 3.682821332228345, 3.6828195748197468, 3.6807086623248026, 3.6804501119745283, 3.678993148169205, 3.678585925020796, 3.6723191510104396, 3.658231516180024, 3.6022685092217395, 7.130946531000203, 2.816284411170412, 2.8162813417543067, 2.8162813417543067, 2.8162787194741075, 6.294185666004555, 9.99404954057502, 24.909373847299673, 9.23518782776894, 15.852144781646635, 11.75174019424337, 14.047683771552201, 6.053907056146277, 7.149285955697608, 9.66829991357533, 12.382016217150605, 5.417489669181259, 8.004098569110845, 14.015625669215076, 15.107428411883667, 22.33532017338708, 8.069351373041341, 14.733797319835695, 10.105078697584322, 10.489909632177163, 11.63336827692628, 12.106615845024356, 7.587442039977012, 7.289703808257373, 8.270713370970071, 9.92192715686185, 8.099038959405691, 8.39489616045178, 7.28086570430833, 7.203486023767353, 15.738169395784695, 5.371726319656844, 4.508556370247424, 4.50593052568338, 4.416566377780992, 3.6538382011773716, 3.6538091224909457, 3.6526607829048827, 3.6526491553755633, 3.645176049162458, 3.637780878598162, 3.631189184277885, 7.962714407991749, 12.114897415626942, 7.075897599563114, 2.7941048319366732, 2.7940954628440973, 2.7940950423050297, 2.794088353115548, 2.7940866228414496, 2.794085370666859, 2.794062446729086, 2.7936599584267987, 2.7935950813153934, 2.793259740449532, 2.792491507006986, 2.7908827000516756, 2.790013707462632, 2.7884420113546438, 2.788517557597417, 18.319399519550206, 19.85497695626118, 4.10840284985936, 5.390505012753654, 7.093498475393487, 9.693266495363122, 11.119554817308673, 6.0181169244582255, 4.436231924855239, 7.75546621324944, 5.385871869301374, 10.19934396783849, 5.363393946121898, 8.551938853009608, 8.622993949903124, 16.317927447573517, 11.374051124728792, 7.794964895754532, 9.506854677105993, 11.30719240687062, 5.3934178804689035, 8.31787570389846, 8.010599742173621, 7.01288500291665, 6.060213414508375, 8.938274709027262, 7.637230252764713, 9.889849422347247, 6.980041703167557, 6.252968521860575, 7.059553337325813, 6.959897602267434, 6.2820572054080595, 6.315986745725675, 6.311231797708281, 12.888424107478516, 8.653584571865546, 6.972533166881279, 6.969709606502388, 5.278405271543884, 5.26624428827728, 4.437484224837057, 4.433830998980523, 4.4328316518702096, 4.430827487377539, 4.423453391823728, 3.5924352682720784, 3.5875332232132013, 3.5863608336054154, 3.585907071799123, 3.585907071798935, 3.5759767495961494, 2.7471811820114405, 2.7471811820114405, 2.7471811820114405, 2.7471811820114405, 2.7471811820114405, 2.7471811820114405, 2.7471584275618124, 2.7471476875081016, 2.7455711935869034, 2.743800573245323, 2.7433449098677647, 2.7430462151470842, 2.742098323628957, 6.144920267415199, 5.956699782865442, 16.575723400563735, 11.533265303801059, 13.418814248365086, 16.99501895231866, 9.481598785978893, 10.469533172829285, 15.186753554821514, 13.954343984038905, 12.632576975356958, 5.005845614014856, 8.69015290780293, 10.273328638011051, 20.027581964817173, 7.7147913747819326, 7.620174365305185, 5.280835191320335, 7.430848336382947, 10.348694224027847, 7.408419572570903, 9.356462934696907, 6.3341669086605465, 6.149643974043137, 6.3788691274521385, 7.0476089727384625, 6.836095097709595, 6.732268224563045, 6.132898155894664, 8.621036326587127, 8.620402806923773, 7.780777200695547, 6.098847762615981, 5.254076412538323, 3.576511138770837, 3.5722705686361333, 3.572103115404183, 3.5709403502134216, 2.7349728974477903, 2.7349728974477903, 2.734244237460399, 2.7331365536725025, 2.730265010926845, 2.708767298557624, 3.3513346406236746, 10.321203301896004, 1.893437432940033, 1.8934326852930352, 1.8934326852930352, 1.8934326852930352, 1.8934326852930352, 1.8934326852930352, 1.8934326852930352, 1.893430540068219, 1.8934293226545427, 1.893427708980743, 1.893427708980743, 1.893427574812968, 1.893427574812968, 7.663317061249652, 5.174205076909587, 3.5902971865750346, 3.5752510306091456, 9.189603036961024, 15.530929739660142, 8.342961689792418, 15.687317129938737, 3.456545794525106, 4.4302522918144485, 9.890545630799352, 10.303763224925696, 12.10678163234949, 9.415351980081963, 5.924938893909405, 6.34630373963866, 6.560796342523358, 6.070571631342194, 6.914358130943761, 6.4885219973314525, 9.089623866552811, 6.826238597599048, 7.276555272662743, 8.827219963696736, 7.432732010997052, 6.083698246729739, 6.457286692054596, 5.9697227273134015, 6.226993226466792, 6.312599600305322], \"Total\": [24.0, 29.0, 26.0, 34.0, 28.0, 24.0, 17.0, 13.0, 23.0, 27.0, 25.0, 21.0, 17.0, 13.0, 30.0, 9.0, 9.0, 12.0, 16.0, 27.0, 14.0, 14.0, 18.0, 9.0, 8.0, 17.0, 16.0, 34.0, 18.0, 15.0, 24.250391112316404, 12.118225355004435, 8.652269232883478, 8.651897767826922, 6.919169286491781, 6.918813118247303, 6.0525157928882, 5.186086232619397, 5.1860405855573735, 5.186070448960765, 5.18602653317567, 4.319525853123845, 4.3195257691888695, 4.319525762995134, 4.31952563671476, 4.319525447200846, 4.319525269296168, 4.319525248326554, 4.319484797036658, 4.319467417817749, 4.319431457294312, 4.319421608476191, 4.31944100064325, 4.3189530068831585, 4.318603905163456, 8.630668549372762, 3.452965108046506, 3.4529650377263295, 3.4529650377263295, 3.4529649745535864, 7.761120153126109, 12.966557769582662, 34.57097640353794, 12.05378242110637, 21.524108659489357, 16.334083386201222, 20.692419333351445, 7.754180966216487, 9.47635944091749, 13.780881614351006, 18.8774525514459, 6.894266247546205, 12.018487679268027, 25.892910962073415, 30.8850315947681, 58.16797230605139, 13.71196580711373, 34.137851303837, 21.441782677170355, 23.17043926597426, 28.11395283890009, 30.71716561743294, 13.743675980655263, 12.864510857723712, 22.27457717412741, 41.90891713943759, 21.456312580502285, 25.616877536343623, 21.308533671676376, 23.08952701651568, 17.19458336063573, 6.011696225460898, 5.152007497821099, 5.151888077081447, 5.150337551261043, 4.29223160816446, 4.292231316664989, 4.292224738836732, 4.292224624148088, 4.292135990387855, 4.291927781094296, 4.292410537863149, 9.432681964437245, 14.574357294823162, 8.597808339858817, 3.432494634612857, 3.4324944750742303, 3.432494447337023, 3.432494378378006, 3.4324944491011995, 3.432494359955167, 3.4324940746927455, 3.4324856086462816, 3.432498619430894, 3.4324805601090125, 3.4324851538889667, 3.4324389962096995, 3.4325268750949527, 3.4323998377485165, 3.4325369279517264, 23.97538006462112, 26.515296705107502, 5.145279122567163, 6.85364316993313, 9.414336422914191, 14.57952035518528, 17.949718071183995, 8.574804716810592, 5.995970181898768, 11.953884839766344, 7.702381992458043, 17.083158151058797, 7.702122599445361, 15.363410949572115, 16.191666925731294, 41.90891713943759, 25.892910962073415, 14.605621292649891, 21.430504231670177, 29.003439913351905, 8.541052036261947, 18.7436719687917, 21.456312580502285, 16.247208913125657, 12.000371791702337, 34.57097640353794, 24.646424395032845, 58.16797230605139, 20.39673925553342, 13.722593078908517, 23.08952701651568, 22.27457717412741, 16.279268708187892, 27.97436844069204, 30.8850315947681, 13.53278849521368, 9.306421990316412, 7.615691006018567, 7.6157486103500185, 5.925184794845792, 5.925369152106612, 5.079777972902705, 5.079753611521961, 5.079804234310413, 5.07992321060292, 5.080058716183618, 4.234473993629093, 4.2344521747431845, 4.234489163672377, 4.234540888689519, 4.234540888689519, 4.2348437753219415, 3.3891762239325516, 3.3891762239325516, 3.3891762239325516, 3.3891762239325516, 3.3891762239325516, 3.3891762239325516, 3.3891764674742824, 3.3891766542422532, 3.3892160394015383, 3.38926034264405, 3.389218690774003, 3.3892042700771725, 3.389153737803888, 7.636473792627895, 7.640530460654169, 24.646424395032845, 17.763976694569557, 22.058563543789887, 29.540406051598353, 15.291109831501753, 17.729739797099093, 30.71716561743294, 27.97436844069204, 25.6231863506721, 7.608085798257603, 16.0387567455413, 20.39673925553342, 58.16797230605139, 15.363574018511327, 15.28335214228973, 8.524784177432817, 16.204648422009186, 34.137851303837, 21.441782677170355, 41.90891713943759, 14.453569564605624, 13.53852192414292, 15.363410949572115, 23.17043926597426, 25.616877536343623, 23.76584514404547, 27.072759521067532, 9.268769801329023, 9.268735198135484, 8.427218358096852, 6.744136618726335, 5.902576385995847, 4.219446982614758, 4.219572992312048, 4.219475264178046, 4.2195170374401645, 3.377906341993244, 3.377906341993244, 3.3779096352022977, 3.3779146973838, 3.377927480891932, 3.3784842106784145, 4.224209461747533, 13.530754834020778, 2.5363656427808023, 2.5363657335588705, 2.5363657335588705, 2.5363657335588705, 2.5363657335588705, 2.5363657335588705, 2.5363657335588705, 2.5363657640050903, 2.536365741170141, 2.5363658071731363, 2.5363658071731363, 2.5363657993920956, 2.5363657993920956, 11.029213147611557, 7.59630443830941, 5.085596655370899, 5.085974759722728, 14.41475549040511, 27.072759521067532, 13.54615802928898, 28.11395283890009, 5.081797347974687, 6.7935712122298355, 18.62396245551061, 22.087422255706333, 29.540406051598353, 23.76584514404547, 11.931887846341805, 13.559396612583278, 14.45345027728002, 12.770874152101147, 16.0387567455413, 14.426266121331823, 29.003439913351905, 17.729739797099093, 21.308533671676376, 34.137851303837, 27.97436844069204, 18.7436719687917, 23.08952701651568, 18.8774525514459, 26.515296705107502, 41.90891713943759], \"Category\": [\"Default\", \"Default\", \"Default\", \"Default\", \"Default\", \"Default\", \"Default\", \"Default\", \"Default\", \"Default\", \"Default\", \"Default\", \"Default\", \"Default\", \"Default\", \"Default\", \"Default\", \"Default\", \"Default\", \"Default\", \"Default\", \"Default\", \"Default\", \"Default\", \"Default\", \"Default\", \"Default\", \"Default\", \"Default\", \"Default\", \"Topic1\", \"Topic1\", \"Topic1\", \"Topic1\", \"Topic1\", \"Topic1\", \"Topic1\", \"Topic1\", \"Topic1\", \"Topic1\", \"Topic1\", \"Topic1\", \"Topic1\", \"Topic1\", \"Topic1\", \"Topic1\", \"Topic1\", \"Topic1\", \"Topic1\", \"Topic1\", \"Topic1\", \"Topic1\", \"Topic1\", \"Topic1\", \"Topic1\", \"Topic1\", \"Topic1\", \"Topic1\", \"Topic1\", \"Topic1\", \"Topic1\", \"Topic1\", \"Topic1\", \"Topic1\", \"Topic1\", \"Topic1\", \"Topic1\", \"Topic1\", \"Topic1\", \"Topic1\", \"Topic1\", \"Topic1\", \"Topic1\", \"Topic1\", \"Topic1\", \"Topic1\", \"Topic1\", \"Topic1\", \"Topic1\", \"Topic1\", \"Topic1\", \"Topic1\", \"Topic1\", \"Topic1\", \"Topic1\", \"Topic1\", \"Topic1\", \"Topic1\", \"Topic1\", \"Topic1\", \"Topic2\", \"Topic2\", \"Topic2\", \"Topic2\", \"Topic2\", \"Topic2\", \"Topic2\", \"Topic2\", \"Topic2\", \"Topic2\", \"Topic2\", \"Topic2\", \"Topic2\", \"Topic2\", \"Topic2\", \"Topic2\", \"Topic2\", \"Topic2\", \"Topic2\", \"Topic2\", \"Topic2\", \"Topic2\", \"Topic2\", \"Topic2\", \"Topic2\", \"Topic2\", \"Topic2\", \"Topic2\", \"Topic2\", \"Topic2\", \"Topic2\", \"Topic2\", \"Topic2\", \"Topic2\", \"Topic2\", \"Topic2\", \"Topic2\", \"Topic2\", \"Topic2\", \"Topic2\", \"Topic2\", \"Topic2\", \"Topic2\", \"Topic2\", \"Topic2\", \"Topic2\", \"Topic2\", \"Topic2\", \"Topic2\", \"Topic2\", \"Topic2\", \"Topic2\", \"Topic2\", \"Topic2\", \"Topic2\", \"Topic2\", \"Topic2\", \"Topic2\", \"Topic2\", \"Topic2\", \"Topic2\", \"Topic2\", \"Topic2\", \"Topic2\", \"Topic2\", \"Topic3\", \"Topic3\", \"Topic3\", \"Topic3\", \"Topic3\", \"Topic3\", \"Topic3\", \"Topic3\", \"Topic3\", \"Topic3\", \"Topic3\", \"Topic3\", \"Topic3\", \"Topic3\", \"Topic3\", \"Topic3\", \"Topic3\", \"Topic3\", \"Topic3\", \"Topic3\", \"Topic3\", \"Topic3\", \"Topic3\", \"Topic3\", \"Topic3\", \"Topic3\", \"Topic3\", \"Topic3\", \"Topic3\", \"Topic3\", \"Topic3\", \"Topic3\", \"Topic3\", \"Topic3\", \"Topic3\", \"Topic3\", \"Topic3\", \"Topic3\", \"Topic3\", \"Topic3\", \"Topic3\", \"Topic3\", \"Topic3\", \"Topic3\", \"Topic3\", \"Topic3\", \"Topic3\", \"Topic3\", \"Topic3\", \"Topic3\", \"Topic3\", \"Topic3\", \"Topic3\", \"Topic3\", \"Topic3\", \"Topic3\", \"Topic3\", \"Topic3\", \"Topic3\", \"Topic4\", \"Topic4\", \"Topic4\", \"Topic4\", \"Topic4\", \"Topic4\", \"Topic4\", \"Topic4\", \"Topic4\", \"Topic4\", \"Topic4\", \"Topic4\", \"Topic4\", \"Topic4\", \"Topic4\", \"Topic4\", \"Topic4\", \"Topic4\", \"Topic4\", \"Topic4\", \"Topic4\", \"Topic4\", \"Topic4\", \"Topic4\", \"Topic4\", \"Topic4\", \"Topic4\", \"Topic4\", \"Topic4\", \"Topic4\", \"Topic4\", \"Topic4\", \"Topic4\", \"Topic4\", \"Topic4\", \"Topic4\", \"Topic4\", \"Topic4\", \"Topic4\", \"Topic4\", \"Topic4\", \"Topic4\", \"Topic4\", \"Topic4\", \"Topic4\", \"Topic4\", \"Topic4\", \"Topic4\", \"Topic4\", \"Topic4\", \"Topic4\", \"Topic4\", \"Topic4\", \"Topic4\", \"Topic4\", \"Topic4\", \"Topic4\", \"Topic4\", \"Topic4\", \"Topic4\"], \"logprob\": [30.0, 29.0, 28.0, 27.0, 26.0, 25.0, 24.0, 23.0, 22.0, 21.0, 20.0, 19.0, 18.0, 17.0, 16.0, 15.0, 14.0, 13.0, 12.0, 11.0, 10.0, 9.0, 8.0, 7.0, 6.0, 5.0, 4.0, 3.0, 2.0, 1.0, -4.0523, -4.7756, -5.1334, -5.1361, -5.3767, -5.3796, -5.5266, -5.6991, -5.6995, -5.6996, -5.6996, -5.9104, -5.9104, -5.9104, -5.9104, -5.9104, -5.9104, -5.9104, -5.911, -5.9111, -5.9115, -5.9116, -5.9133, -5.9171, -5.9326, -5.2497, -6.1787, -6.1787, -6.1787, -6.1787, -5.3745, -4.9121, -3.9989, -4.9911, -4.4508, -4.7501, -4.5717, -5.4134, -5.2471, -4.9453, -4.6979, -5.5245, -5.1342, -4.5739, -4.4989, -4.1079, -5.126, -4.524, -4.9011, -4.8637, -4.7602, -4.7204, -5.1876, -5.2277, -5.1014, -4.9194, -5.1224, -5.0865, -5.2289, -5.2396, -4.3499, -5.4248, -5.6, -5.6006, -5.6206, -5.8102, -5.8102, -5.8105, -5.8105, -5.8126, -5.8146, -5.8164, -5.0312, -4.6116, -5.1493, -6.0785, -6.0785, -6.0785, -6.0785, -6.0785, -6.0785, -6.0785, -6.0786, -6.0787, -6.0788, -6.0791, -6.0796, -6.0799, -6.0805, -6.0805, -4.198, -4.1175, -5.693, -5.4213, -5.1468, -4.8346, -4.6973, -5.3112, -5.6162, -5.0576, -5.4222, -4.7837, -5.4264, -4.9598, -4.9516, -4.3137, -4.6747, -5.0525, -4.854, -4.6805, -5.4208, -4.9876, -5.0252, -5.1582, -5.3042, -4.9156, -5.073, -4.8145, -5.1629, -5.2729, -5.1516, -5.1658, -5.2683, -5.2629, -5.2637, -4.4518, -4.8502, -5.0662, -5.0666, -5.3446, -5.3469, -5.5181, -5.5189, -5.5191, -5.5196, -5.5213, -5.7293, -5.7307, -5.731, -5.7312, -5.7312, -5.7339, -5.9976, -5.9976, -5.9976, -5.9976, -5.9976, -5.9976, -5.9976, -5.9976, -5.9982, -5.9988, -5.999, -5.9991, -5.9995, -5.1926, -5.2237, -4.2002, -4.5629, -4.4115, -4.1753, -4.7588, -4.6597, -4.2878, -4.3724, -4.4719, -5.3976, -4.846, -4.6786, -4.0111, -4.965, -4.9774, -5.3441, -5.0025, -4.6713, -5.0056, -4.7721, -5.1622, -5.1918, -5.1552, -5.0555, -5.086, -5.1013, -5.1945, -4.7602, -4.7602, -4.8627, -5.1063, -5.2554, -5.64, -5.6412, -5.6412, -5.6416, -5.9083, -5.9083, -5.9085, -5.9089, -5.91, -5.9179, -5.705, -4.5802, -6.276, -6.276, -6.276, -6.276, -6.276, -6.276, -6.276, -6.276, -6.276, -6.276, -6.276, -6.276, -6.276, -4.8779, -5.2707, -5.6361, -5.6403, -4.6963, -4.1715, -4.793, -4.1615, -5.6741, -5.4259, -4.6228, -4.5819, -4.4206, -4.672, -5.1352, -5.0665, -5.0333, -5.1109, -4.9808, -5.0443, -4.7072, -4.9936, -4.9297, -4.7365, -4.9085, -5.1088, -5.0492, -5.1277, -5.0855, -5.0718], \"loglift\": [30.0, 29.0, 28.0, 27.0, 26.0, 25.0, 24.0, 23.0, 22.0, 21.0, 20.0, 19.0, 18.0, 17.0, 16.0, 15.0, 14.0, 13.0, 12.0, 11.0, 10.0, 9.0, 8.0, 7.0, 6.0, 5.0, 4.0, 3.0, 2.0, 1.0, 1.2124, 1.1829, 1.162, 1.1593, 1.1422, 1.1394, 1.1261, 1.1081, 1.1077, 1.1077, 1.1076, 1.0796, 1.0796, 1.0796, 1.0796, 1.0796, 1.0796, 1.0796, 1.079, 1.079, 1.0786, 1.0785, 1.0768, 1.073, 1.0577, 1.0482, 1.0353, 1.0353, 1.0353, 1.0353, 1.0296, 0.9787, 0.9113, 0.9727, 0.9332, 0.9098, 0.8518, 0.9915, 0.9573, 0.8846, 0.8173, 0.998, 0.8326, 0.6253, 0.524, 0.2819, 0.7089, 0.3988, 0.4868, 0.4466, 0.3567, 0.308, 0.645, 0.6711, 0.2483, -0.2017, 0.2648, 0.1234, 0.1652, 0.0743, 1.2587, 1.2346, 1.2138, 1.2132, 1.1935, 1.1862, 1.1862, 1.1859, 1.1858, 1.1838, 1.1818, 1.1799, 1.1778, 1.1624, 1.1524, 1.1414, 1.1414, 1.1414, 1.1414, 1.1414, 1.1414, 1.1414, 1.1413, 1.1412, 1.1411, 1.1409, 1.1403, 1.14, 1.1394, 1.1394, 1.0781, 1.0579, 1.1222, 1.1071, 1.0641, 0.939, 0.8683, 0.9931, 1.0459, 0.9145, 0.9895, 0.8314, 0.9853, 0.7614, 0.7171, 0.404, 0.5246, 0.7193, 0.5344, 0.4052, 0.8875, 0.5348, 0.3619, 0.507, 0.664, -0.0055, 0.1756, -0.4246, 0.2749, 0.5612, 0.1622, 0.1839, 0.395, -0.141, -0.2407, 1.3962, 1.3723, 1.3568, 1.3564, 1.3294, 1.3271, 1.3098, 1.309, 1.3088, 1.3083, 1.3066, 1.2806, 1.2792, 1.2789, 1.2787, 1.2787, 1.2759, 1.235, 1.235, 1.235, 1.235, 1.235, 1.235, 1.235, 1.235, 1.2344, 1.2337, 1.2336, 1.2335, 1.2332, 1.2277, 1.1961, 1.0483, 1.0131, 0.948, 0.8922, 0.9671, 0.9182, 0.7406, 0.7495, 0.7378, 1.0264, 0.8322, 0.7592, 0.3788, 0.7561, 0.749, 0.9661, 0.6654, 0.2515, 0.3823, -0.0544, 0.62, 0.6559, 0.566, 0.2548, 0.124, 0.1837, -0.0399, 1.4664, 1.4663, 1.459, 1.4382, 1.4224, 1.3735, 1.3723, 1.3723, 1.3719, 1.3277, 1.3277, 1.3274, 1.327, 1.3259, 1.3179, 1.3073, 1.268, 1.2465, 1.2465, 1.2465, 1.2465, 1.2465, 1.2465, 1.2465, 1.2465, 1.2465, 1.2465, 1.2465, 1.2465, 1.2465, 1.1747, 1.1548, 1.1906, 1.1864, 1.0886, 0.9831, 1.0541, 0.9554, 1.1534, 1.1113, 0.9059, 0.7763, 0.6468, 0.6129, 0.8388, 0.7796, 0.749, 0.7951, 0.6974, 0.7398, 0.3785, 0.5843, 0.4644, 0.1862, 0.2134, 0.4136, 0.2646, 0.3875, 0.09, -0.3541]}, \"token.table\": {\"Topic\": [2, 4, 1, 4, 4, 1, 2, 3, 1, 2, 4, 2, 2, 3, 4, 1, 3, 1, 3, 1, 4, 2, 3, 4, 3, 1, 4, 1, 4, 1, 3, 4, 2, 2, 2, 4, 3, 3, 4, 2, 2, 3, 2, 1, 2, 1, 4, 1, 3, 4, 1, 3, 4, 1, 2, 3, 2, 4, 1, 4, 1, 2, 4, 3, 1, 2, 4, 3, 1, 1, 3, 4, 4, 1, 2, 4, 2, 1, 2, 3, 4, 1, 4, 3, 3, 3, 1, 1, 2, 3, 4, 2, 1, 2, 3, 4, 1, 2, 4, 2, 3, 4, 4, 2, 2, 2, 2, 4, 4, 2, 1, 4, 1, 2, 3, 2, 3, 3, 3, 2, 1, 2, 2, 1, 2, 3, 4, 2, 3, 4, 4, 1, 3, 2, 1, 2, 4, 1, 2, 3, 2, 3, 4, 2, 3, 4, 3, 4, 2, 3, 4, 3, 1, 4, 2, 2, 3, 4, 1, 2, 3, 4, 1, 2, 3, 4, 3, 3, 3, 4, 1, 2, 4, 1, 2, 2, 1, 2, 3, 4, 1, 3, 4, 1, 3, 1, 2, 3, 1, 2, 4, 1, 4, 3, 1, 2, 3, 4, 1, 3, 2, 3, 4, 1, 3, 2, 4, 1, 3, 1, 2, 3, 4, 1, 2, 4, 1, 2, 1, 2, 3, 4, 2, 1, 2, 3, 4, 1, 1, 4, 1, 2, 3, 4, 3, 1, 3, 2, 3, 4, 4, 1, 2, 4, 1, 2, 4, 4, 1, 1, 3, 1, 4, 4, 4, 4, 1, 3, 3, 2, 4, 4, 2, 3, 4, 2, 2, 3, 4, 1, 2, 3, 4, 1, 2, 4, 3, 1, 1, 3, 1, 2, 3, 4, 1, 4, 1, 1, 2, 3, 4, 4, 1, 4, 1, 2, 3, 4, 4, 1, 2, 3, 4, 3, 4, 1, 2, 3, 4, 2, 4, 3, 4, 4, 1, 2, 3, 4, 2, 1, 4, 1, 1, 3, 3, 2, 1, 2, 4, 1, 2, 4, 3, 1, 2, 3, 4, 2, 3, 1, 2, 3, 4, 3, 1, 3, 4, 2, 3, 4, 1, 3, 4, 2, 4, 2, 3, 4, 2, 4, 1, 1, 2, 3, 4, 1, 3, 1, 4, 1, 1, 2, 3, 4, 3, 3, 1, 2, 3, 4, 1, 2, 3, 4], \"Freq\": [0.729539002254298, 0.1459078004508596, 0.9261503872871875, 0.788529791067112, 0.7885298115867584, 0.8688185435150128, 0.5858074114883101, 0.39053827432554, 0.05815785000579551, 0.9305256000927281, 0.9479632198063396, 0.8317120181195892, 0.9319821311112871, 0.5611407506695903, 0.436442806076348, 0.926049911902701, 0.8851708503133012, 0.13095049196205985, 0.7857029517723592, 0.6656411533208171, 0.33282057666040854, 0.34319211087139695, 0.49027444410199567, 0.14708233323059872, 0.7874397669460088, 0.9260275812062418, 0.9479915298097268, 0.7737761120279337, 0.12896268533798896, 0.3906610443637296, 0.48832630545466205, 0.0976652610909324, 0.9318773133921349, 0.9705179781064864, 0.22171712050069897, 0.7390570683356633, 0.9446124397296578, 0.5754829493645425, 0.4062232583749712, 0.8739999794316294, 0.3245906940404829, 0.6897552248360261, 0.874002323535481, 0.7712147030616173, 0.2313644109184852, 0.19663376153590553, 0.7865350461436221, 0.14764333884749292, 0.2214650082712394, 0.5905733553899717, 0.4268343220451059, 0.03556952683709216, 0.5691124293934745, 0.27319006716026123, 0.23416291470879536, 0.5073529818690565, 0.3468667923870196, 0.6243602262966352, 0.8672007608033125, 0.8881232253036084, 0.6765762753239397, 0.19330750723541135, 0.09665375361770567, 0.8851708503133012, 0.24999225457950824, 0.4999845091590165, 0.24999225457950824, 0.885163525399338, 0.9260275632121135, 0.1610827989567996, 0.3221655979135992, 0.536942663189332, 0.7885298139530235, 0.5406885313322426, 0.4248267031896192, 0.8881185333226451, 0.8739988948625995, 0.04207719077268118, 0.2524631446360871, 0.2945403354087683, 0.37869471695413065, 0.9641181761597111, 0.788529791067112, 0.8438555375267632, 0.9191549387269001, 0.9445448786823103, 0.9077236705667762, 0.5441326201530061, 0.07773323145042946, 0.07773323145042946, 0.23319969435128834, 0.8739999501194019, 0.18513206345935862, 0.308553439098931, 0.43197481473850347, 0.061710687819786204, 0.7231499541170476, 0.26033398348213715, 0.02892599816468191, 0.1477266138213691, 0.44317984146410727, 0.3693165345534227, 0.9479851757773488, 0.8740140766704888, 0.8739999094968325, 0.8740000520666712, 0.9319369211408755, 0.8881218943520108, 0.7885298421749848, 0.9319176767907182, 0.196619143279924, 0.786476573119696, 0.46637913230261724, 0.1865516529210469, 0.3264653926118321, 0.7774116631410771, 0.19435291578526928, 0.8851708503133012, 0.8851708503133012, 0.8739891406762429, 0.964121110426093, 0.8739917003321386, 0.8739999571819969, 0.32850688404263617, 0.09385910972646748, 0.2346477743161687, 0.32850688404263617, 0.11258740283145043, 0.6755244169887026, 0.22517480566290085, 0.8881240911581202, 0.13088096502587357, 0.7852857901552415, 0.8740240478416555, 0.05571118142548287, 0.6128229956803116, 0.27855590712741435, 0.4315843944609621, 0.21579219723048104, 0.30210907612267346, 0.1846874898773836, 0.2216249878528603, 0.5909999676076275, 0.221248783092307, 0.29499837745640933, 0.442497566184614, 0.6571955328297028, 0.2628782131318811, 0.7507701630374322, 0.16683781400831826, 0.041709453502079566, 0.9446239783339024, 0.2720048982505763, 0.7253463953348701, 0.9319161604400396, 0.34659002946067957, 0.20795401767640773, 0.41590803535281545, 0.2914900978990595, 0.4372351468485893, 0.07287252447476487, 0.14574504894952975, 0.7256429798791895, 0.1451285959758379, 0.07256429798791895, 0.1451285959758379, 0.8851767231851652, 0.9606298069756932, 0.8851708503133012, 0.9710062708243576, 0.11662073166978794, 0.6997243900187277, 0.11662073166978794, 0.1163087103679751, 0.8141609725758258, 0.8740022077421478, 0.32544510762766393, 0.06508902152553278, 0.5207121722042622, 0.06508902152553278, 0.5834320266354239, 0.14585800665885598, 0.218787009988284, 0.738680296335643, 0.21105151323875515, 0.13717872407844267, 0.6858936203922134, 0.205768086117664, 0.8688185276197894, 0.6692385034015746, 0.3346192517007873, 0.7466535968196052, 0.16592302151546784, 0.7873924738816779, 0.17239334420115526, 0.3792653572425416, 0.13791467536092422, 0.3103080195620795, 0.9260276928696406, 0.9446322298450793, 0.5558414733505591, 0.18528049111685302, 0.2470406548224707, 0.9260478003986191, 0.8851707867060966, 0.931916223729515, 0.7885298139530235, 0.9641292746989175, 0.8851604515980441, 0.04533386763897092, 0.18133547055588367, 0.5893402793066219, 0.18133547055588367, 0.2461961326027213, 0.4308432320547623, 0.30774516575340166, 0.9260276502346095, 0.8739999747407081, 0.20756118317972458, 0.0691870610599082, 0.41512236635944916, 0.2767482442396328, 0.970495482026106, 0.13837526415017204, 0.2767505283003441, 0.13837526415017204, 0.4843134245256021, 0.926040090845471, 0.7730842818588827, 0.1288473803098138, 0.3071391037046509, 0.36856692444558115, 0.12285564148186037, 0.18428346222279057, 0.9670741354050727, 0.8110611547594107, 0.11586587925134438, 0.6491716972098128, 0.2596686788839251, 0.8881240911581202, 0.7101920553813911, 0.342333947992763, 0.5477343167884209, 0.13693357919710522, 0.9260457543937562, 0.7542815840392805, 0.22628447521178413, 0.9493049378877929, 0.9260275825340657, 0.351915067591005, 0.5865251126516751, 0.2943959719447094, 0.5887919438894188, 0.8879721830630035, 0.7885298139530235, 0.7885298139530235, 0.7433525008221914, 0.23229765650693482, 0.843829282471351, 0.8481150992009812, 0.10601438740012264, 0.7885298139530235, 0.3271533596458053, 0.5234453754332884, 0.19629201578748315, 0.8739999567327928, 0.2615899070817907, 0.5885772909340291, 0.06539747677044767, 0.23861270303712262, 0.38178032485939617, 0.21475143273341035, 0.14316762182227358, 0.05853718563964831, 0.5853718563964831, 0.2926859281982416, 0.8851597591405008, 0.9260276096062768, 0.9260363649720824, 0.88517073792683, 0.4856721597960414, 0.19426886391841655, 0.12951257594561102, 0.1618907199320138, 0.8671561211421341, 0.7885297934861567, 0.924652627051249, 0.37285064570087106, 0.37285064570087106, 0.13981899213782664, 0.09321266142521777, 0.8470877245845977, 0.7252403403740886, 0.1450480680748177, 0.37821500609040953, 0.17191591185927707, 0.34383182371855414, 0.10314954711556625, 0.7885297934861567, 0.2799747469839347, 0.46662457830655785, 0.2799747469839347, 0.8896616926976089, 0.26328591965241305, 0.6582147991310326, 0.18109854349194557, 0.13582390761895918, 0.18109854349194557, 0.45274635872986396, 0.19678077096060168, 0.590342312881805, 0.5640240699773936, 0.3948168489841756, 0.7885298044876095, 0.3591538433013328, 0.3142596128886662, 0.0897884608253332, 0.224471152063333, 0.9319176518897913, 0.734660140778846, 0.2448867135929487, 0.9246129292412112, 0.9262252542349338, 0.7874134773634212, 0.9191479863826915, 0.7766481245526544, 0.5820858998175087, 0.21828221243156576, 0.21828221243156576, 0.3352361379449572, 0.1676180689724786, 0.5028542069174359, 0.9446124397296578, 0.8688185276197894, 0.5854079777025086, 0.11708159554050174, 0.23416319108100347, 0.6671147251658454, 0.16677868129146134, 0.3031677519852606, 0.3031677519852606, 0.08661935771007445, 0.25985807313022335, 0.944627362458273, 0.9641266622410402, 0.7874319197151114, 0.9710026457566693, 0.8233639231736429, 0.06861366026447024, 0.06861366026447024, 0.43939496562028907, 0.2929299770801927, 0.26363697937217345, 0.8740034932360178, 0.9479757907143472, 0.214482053910189, 0.500458125790441, 0.2502290628952205, 0.7435468295951508, 0.21244195131290025, 0.8688185099261637, 0.826102759760673, 0.6491498350634726, 0.25965993402538906, 0.7885298139530235, 0.9896747598355544, 0.8851488810858424, 0.6356789915004115, 0.31783949575020576, 0.9260276883741365, 0.05335133914341889, 0.42681071314735114, 0.16005401743025668, 0.32010803486051337, 0.7874359905762388, 0.8851708503133012, 0.31229411112459354, 0.19518381945287097, 0.2732573472340194, 0.23422058334344517, 0.23490952649521024, 0.15660635099680684, 0.07830317549840342, 0.4698190529904205], \"Term\": [\"000\", \"000\", \"24\", \"25k\", \"6am\", \"accelerate\", \"accident\", \"accident\", \"accountable\", \"accountable\", \"afternoon\", \"airline\", \"alabama\", \"alan\", \"alan\", \"alert\", \"among\", \"announce\", \"announce\", \"another\", \"another\", \"answer\", \"answer\", \"answer\", \"apologize\", \"appear\", \"away\", \"begin\", \"begin\", \"biden\", \"biden\", \"biden\", \"brake\", \"break\", \"buttigieg\", \"buttigieg\", \"buyback\", \"ceo\", \"ceo\", \"chairman\", \"chemical\", \"chemical\", \"child\", \"cleanup\", \"cleanup\", \"colleague\", \"colleague\", \"committee\", \"committee\", \"committee\", \"community\", \"community\", \"community\", \"company\", \"company\", \"company\", \"concern\", \"concern\", \"conduct\", \"conductor\", \"continue\", \"continue\", \"continue\", \"count\", \"county\", \"county\", \"county\", \"culture\", \"dam\", \"day\", \"day\", \"day\", \"defect\", \"derail\", \"derail\", \"detail\", \"detect\", \"disaster\", \"disaster\", \"disaster\", \"disaster\", \"district\", \"donation\", \"door\", \"eastpalestine\", \"economy\", \"effort\", \"ensure\", \"ensure\", \"ensure\", \"ensure\", \"entire\", \"environmental\", \"environmental\", \"environmental\", \"environmental\", \"epa\", \"epa\", \"epa\", \"epwcmte\", \"epwcmte\", \"epwcmte\", \"epwgop\", \"equipment\", \"every\", \"exact\", \"examine\", \"experience\", \"extent\", \"extra\", \"fail\", \"fail\", \"federal\", \"federal\", \"federal\", \"feel\", \"feel\", \"firm\", \"focus\", \"foot\", \"force\", \"fra\", \"future\", \"get\", \"get\", \"get\", \"get\", \"go\", \"go\", \"go\", \"gop\", \"government\", \"government\", \"hard\", \"hazardous\", \"hazardous\", \"hazardous\", \"health\", \"health\", \"health\", \"hear\", \"hear\", \"hear\", \"hearing\", \"hearing\", \"hearing\", \"hill\", \"hill\", \"hold\", \"hold\", \"hold\", \"horrific\", \"house\", \"house\", \"image\", \"impact\", \"impact\", \"impact\", \"incident\", \"incident\", \"incident\", \"incident\", \"information\", \"information\", \"information\", \"information\", \"investigate\", \"investigation\", \"jeffzymeri\", \"join\", \"keep\", \"keep\", \"keep\", \"know\", \"know\", \"large\", \"last\", \"last\", \"last\", \"last\", \"late\", \"late\", \"late\", \"lawsuit\", \"lawsuit\", \"lead\", \"lead\", \"lead\", \"leslie\", \"like\", \"like\", \"long\", \"long\", \"lot\", \"make\", \"make\", \"make\", \"make\", \"management\", \"march\", \"material\", \"material\", \"material\", \"medium\", \"merkley\", \"might\", \"mishandle\", \"monitoring\", \"national\", \"need\", \"need\", \"need\", \"need\", \"new\", \"new\", \"new\", \"night\", \"nothing\", \"ntsb\", \"ntsb\", \"ntsb\", \"ntsb\", \"occur\", \"oh\", \"oh\", \"oh\", \"oh\", \"ohioag\", \"ohioan\", \"ohioan\", \"one\", \"one\", \"one\", \"one\", \"open\", \"order\", \"order\", \"oversight\", \"oversight\", \"pahousedems\", \"part\", \"pay\", \"pay\", \"pay\", \"pennsylvania\", \"people\", \"people\", \"pete\", \"phase\", \"plan\", \"plan\", \"policy\", \"policy\", \"politician\", \"potentially\", \"precipitate\", \"president\", \"president\", \"press\", \"prevent\", \"prevent\", \"previously\", \"public\", \"public\", \"public\", \"quality\", \"question\", \"question\", \"question\", \"rail\", \"rail\", \"rail\", \"rail\", \"railroad\", \"railroad\", \"railroad\", \"reach\", \"relate\", \"remove\", \"reporter\", \"resident\", \"resident\", \"resident\", \"resident\", \"resource\", \"respect\", \"responder\", \"response\", \"response\", \"response\", \"response\", \"reuters\", \"right\", \"right\", \"safety\", \"safety\", \"safety\", \"safety\", \"sander\", \"say\", \"say\", \"say\", \"secretary\", \"secretarypete\", \"secretarypete\", \"senate\", \"senate\", \"senate\", \"senate\", \"send\", \"send\", \"shaw\", \"shaw\", \"sick\", \"since\", \"since\", \"since\", \"since\", \"sit\", \"site\", \"site\", \"soil\", \"speak\", \"spend\", \"spill\", \"standard\", \"state\", \"state\", \"state\", \"still\", \"still\", \"still\", \"stock\", \"sulphur\", \"sure\", \"sure\", \"sure\", \"system\", \"system\", \"take\", \"take\", \"take\", \"take\", \"talk\", \"tax\", \"testify\", \"testimony\", \"time\", \"time\", \"time\", \"today\", \"today\", \"today\", \"together\", \"tomorrow\", \"toxic\", \"toxic\", \"toxic\", \"train\", \"train\", \"transition\", \"ukraine\", \"union\", \"union\", \"unreported\", \"update\", \"usa\", \"visit\", \"visit\", \"website\", \"week\", \"week\", \"week\", \"week\", \"weekend\", \"woe\", \"work\", \"work\", \"work\", \"work\", \"worker\", \"worker\", \"worker\", \"worker\"]}, \"R\": 30, \"lambda.step\": 0.01, \"plot.opts\": {\"xlab\": \"PC1\", \"ylab\": \"PC2\"}, \"topic.order\": [3, 2, 4, 1]};\n",
       "\n",
       "function LDAvis_load_lib(url, callback){\n",
       "  var s = document.createElement('script');\n",
       "  s.src = url;\n",
       "  s.async = true;\n",
       "  s.onreadystatechange = s.onload = callback;\n",
       "  s.onerror = function(){console.warn(\"failed to load library \" + url);};\n",
       "  document.getElementsByTagName(\"head\")[0].appendChild(s);\n",
       "}\n",
       "\n",
       "if(typeof(LDAvis) !== \"undefined\"){\n",
       "   // already loaded: just create the visualization\n",
       "   !function(LDAvis){\n",
       "       new LDAvis(\"#\" + \"ldavis_el5652662797597921463243598\", ldavis_el5652662797597921463243598_data);\n",
       "   }(LDAvis);\n",
       "}else if(typeof define === \"function\" && define.amd){\n",
       "   // require.js is available: use it to load d3/LDAvis\n",
       "   require.config({paths: {d3: \"https://d3js.org/d3.v5\"}});\n",
       "   require([\"d3\"], function(d3){\n",
       "      window.d3 = d3;\n",
       "      LDAvis_load_lib(\"https://cdn.jsdelivr.net/gh/bmabey/pyLDAvis@3.3.1/pyLDAvis/js/ldavis.v3.0.0.js\", function(){\n",
       "        new LDAvis(\"#\" + \"ldavis_el5652662797597921463243598\", ldavis_el5652662797597921463243598_data);\n",
       "      });\n",
       "    });\n",
       "}else{\n",
       "    // require.js not available: dynamically load d3 & LDAvis\n",
       "    LDAvis_load_lib(\"https://d3js.org/d3.v5.js\", function(){\n",
       "         LDAvis_load_lib(\"https://cdn.jsdelivr.net/gh/bmabey/pyLDAvis@3.3.1/pyLDAvis/js/ldavis.v3.0.0.js\", function(){\n",
       "                 new LDAvis(\"#\" + \"ldavis_el5652662797597921463243598\", ldavis_el5652662797597921463243598_data);\n",
       "            })\n",
       "         });\n",
       "}\n",
       "</script>"
      ],
      "text/plain": [
       "PreparedData(topic_coordinates=              x         y  topics  cluster       Freq\n",
       "topic                                                \n",
       "2      0.170657  0.033462       1        1  28.965267\n",
       "1     -0.047701 -0.130685       2        1  25.996674\n",
       "3     -0.103835  0.119053       3        1  23.574376\n",
       "0     -0.019120 -0.021830       4        1  21.463684, topic_info=          Term       Freq      Total Category  logprob  loglift\n",
       "744     update  24.000000  24.000000  Default  30.0000  30.0000\n",
       "127        ceo  29.000000  29.000000  Default  29.0000  29.0000\n",
       "502     people  26.000000  26.000000  Default  28.0000  28.0000\n",
       "258        epa  34.000000  34.000000  Default  27.0000  27.0000\n",
       "154  community  28.000000  28.000000  Default  26.0000  26.0000\n",
       "..         ...        ...        ...      ...      ...      ...\n",
       "773       week   6.083698  18.743672   Topic4  -5.1088   0.4136\n",
       "689       take   6.457287  23.089527   Topic4  -5.0492   0.2646\n",
       "762      visit   5.969723  18.877453   Topic4  -5.1277   0.3875\n",
       "502     people   6.226993  26.515297   Topic4  -5.0855   0.0900\n",
       "554       rail   6.312600  41.908917   Topic4  -5.0718  -0.3541\n",
       "\n",
       "[274 rows x 6 columns], token_table=      Topic      Freq    Term\n",
       "term                         \n",
       "1         2  0.729539     000\n",
       "1         4  0.145908     000\n",
       "14        1  0.926150      24\n",
       "16        4  0.788530     25k\n",
       "21        4  0.788530     6am\n",
       "...     ...       ...     ...\n",
       "788       4  0.234221    work\n",
       "789       1  0.234910  worker\n",
       "789       2  0.156606  worker\n",
       "789       3  0.078303  worker\n",
       "789       4  0.469819  worker\n",
       "\n",
       "[384 rows x 3 columns], R=30, lambda_step=0.01, plot_opts={'xlab': 'PC1', 'ylab': 'PC2'}, topic_order=[3, 2, 4, 1])"
      ]
     },
     "execution_count": 46,
     "metadata": {},
     "output_type": "execute_result"
    }
   ],
   "source": [
    "\n",
    "pyLDAvis.sklearn.prepare(lda, tf, tf_vectorizer)"
   ]
  },
  {
   "cell_type": "code",
   "execution_count": 47,
   "metadata": {},
   "outputs": [
    {
     "name": "stdout",
     "output_type": "stream",
     "text": [
      "The disaster in East Palestine clearly demonstrates the need for more federal oversight on rail and transportation companies. Our economy depends on infrastructure and railways, and it is in the best interest of all of us to have safe and reliable service. https://t.co/I5xnAn87k2\n",
      "[0.01898 0.01955 0.01817 0.94329]\n"
     ]
    }
   ],
   "source": [
    "tweet_topic(data_govt, lda, tf, 14)"
   ]
  },
  {
   "cell_type": "code",
   "execution_count": 48,
   "metadata": {},
   "outputs": [
    {
     "name": "stdout",
     "output_type": "stream",
     "text": [
      "Loglikelihood: 771.9467568087389\n",
      "Perplexity: 771.9467568087389\n"
     ]
    }
   ],
   "source": [
    "# Metrics part 2\n",
    "\n",
    "\n",
    "# 2. Loglikelihood\n",
    "loglikelihood_govt = lda.score(tf)\n",
    "loglikelihood_govt = lda.perplexity(tf)\n",
    "\n",
    "print(f'Loglikelihood: {loglikelihood_govt}')\n",
    "print(f'Perplexity: {loglikelihood_govt}')\n",
    "\n",
    "# INTERPRETATION MISSING\n"
   ]
  },
  {
   "attachments": {},
   "cell_type": "markdown",
   "metadata": {},
   "source": [
    "## People"
   ]
  },
  {
   "cell_type": "code",
   "execution_count": 49,
   "metadata": {},
   "outputs": [],
   "source": [
    "tf, tf_vectorizer, vocab, lda, data = parse_lda(data_people, 12000, 2, num_topics = 4)"
   ]
  },
  {
   "cell_type": "code",
   "execution_count": 50,
   "metadata": {},
   "outputs": [
    {
     "name": "stdout",
     "output_type": "stream",
     "text": [
      "Size of the ... (tweets, words in vocabulary): (77438, 12000)\n"
     ]
    }
   ],
   "source": [
    "print(f'Size of the ... (tweets, words in vocabulary): {tf.toarray().shape}')"
   ]
  },
  {
   "cell_type": "code",
   "execution_count": 51,
   "metadata": {},
   "outputs": [
    {
     "name": "stdout",
     "output_type": "stream",
     "text": [
      "Sparsity: 0.09560487099356904\n"
     ]
    }
   ],
   "source": [
    "# Metrics part 1\n",
    "\n",
    "# 1. Sparsity\n",
    "# How sparse is this document?\n",
    "# We are taking the non zero entries in the doc-word frequency matrix\n",
    "# Sparsity (%) = (# of zero elements in tf / total # of elements in tf) x 100\n",
    "\n",
    "sparsity_people = ((tf.todense() > 0).sum() / tf.todense().size)*100\n",
    "print(f'Sparsity: {sparsity_people}')\n",
    "\n",
    "\n",
    "#OJO: to icnrease sparsity, we can increase min_df (can be integer or float)\n",
    "# we can also lower max_features\n",
    "# we can also reduce stop words"
   ]
  },
  {
   "cell_type": "code",
   "execution_count": 52,
   "metadata": {},
   "outputs": [
    {
     "name": "stdout",
     "output_type": "stream",
     "text": [
      "The most repeated word in a single tweet is trump, and it is repeated 10 times in the tweet: trump state go trump trump trump trump trump trump trump trump trump\n"
     ]
    }
   ],
   "source": [
    "most_frequent(tf, vocab, data)"
   ]
  },
  {
   "cell_type": "code",
   "execution_count": 53,
   "metadata": {},
   "outputs": [
    {
     "data": {
      "text/plain": [
       "(4, 12000)"
      ]
     },
     "execution_count": 53,
     "metadata": {},
     "output_type": "execute_result"
    }
   ],
   "source": [
    "topic_word = np.array([row / row.sum() for row in lda.components_])\n",
    "topic_word.shape"
   ]
  },
  {
   "cell_type": "code",
   "execution_count": 54,
   "metadata": {},
   "outputs": [
    {
     "name": "stderr",
     "output_type": "stream",
     "text": [
      "/Users/ribarragi/miniconda3/envs/Intro_AI/lib/python3.9/site-packages/sklearn/utils/deprecation.py:87: FutureWarning: Function get_feature_names is deprecated; get_feature_names is deprecated in 1.0 and will be removed in 1.2. Please use get_feature_names_out instead.\n",
      "  warnings.warn(msg, category=FutureWarning)\n",
      "/Users/ribarragi/miniconda3/envs/Intro_AI/lib/python3.9/site-packages/pyLDAvis/_prepare.py:246: FutureWarning: In a future version of pandas all arguments of DataFrame.drop except for the argument 'labels' will be keyword-only.\n",
      "  default_term_info = default_term_info.sort_values(\n"
     ]
    },
    {
     "data": {
      "text/html": [
       "\n",
       "<link rel=\"stylesheet\" type=\"text/css\" href=\"https://cdn.jsdelivr.net/gh/bmabey/pyLDAvis@3.3.1/pyLDAvis/js/ldavis.v1.0.0.css\">\n",
       "\n",
       "\n",
       "<div id=\"ldavis_el565266279654528769995688\"></div>\n",
       "<script type=\"text/javascript\">\n",
       "\n",
       "var ldavis_el565266279654528769995688_data = {\"mdsDat\": {\"x\": [0.01724562128602469, -0.1838834488381356, 0.2126211733161789, -0.04598334576406796], \"y\": [-0.14679300087261882, -0.057025925109324534, 0.005482073050893615, 0.19833685293104972], \"topics\": [1, 2, 3, 4], \"cluster\": [1, 1, 1, 1], \"Freq\": [27.585065574461414, 26.817203357175973, 24.08664812614801, 21.511082942214614]}, \"tinfo\": {\"Term\": [\"trump\", \"safety\", \"visit\", \"biden\", \"buttigieg\", \"another\", \"toxic\", \"water\", \"pete\", \"epa\", \"resident\", \"chemical\", \"ceo\", \"rule\", \"health\", \"regulation\", \"president\", \"brake\", \"derail\", \"springfield\", \"would\", \"air\", \"report\", \"site\", \"congress\", \"place\", \"test\", \"car\", \"concern\", \"senate\", \"springfield\", \"place\", \"shelter\", \"movie\", \"noise\", \"arrest\", \"netflix\", \"film\", \"detroit\", \"balloon\", \"mass\", \"212\", \"mouse\", \"mickey\", \"chemicalspill\", \"extras\", \"crazy\", \"outage\", \"value\", \"metal\", \"mom\", \"saturday\", \"memory\", \"gofund\", \"dumb\", \"buren\", \"loose\", \"28\", \"bedford\", \"passenger\", \"coverage\", \"explode\", \"fly\", \"recently\", \"event\", \"clark\", \"spokesperson\", \"trail\", \"another\", \"article\", \"second\", \"coincidence\", \"medium\", \"white\", \"plastic\", \"derail\", \"car\", \"share\", \"hazmat\", \"lot\", \"material\", \"story\", \"like\", \"look\", \"hazardous\", \"derails\", \"really\", \"cargo\", \"one\", \"happen\", \"time\", \"carry\", \"see\", \"chloride\", \"go\", \"month\", \"people\", \"company\", \"know\", \"oh\", \"chemical\", \"resident\", \"say\", \"disaster\", \"cause\", \"toxic\", \"news\", \"get\", \"rule\", \"brake\", \"apply\", \"truck\", \"dump\", \"congress\", \"ecp\", \"roll\", \"obama\", \"lobby\", \"dollar\", \"cleveland\", \"braking\", \"categorize\", \"pr\", \"homendy\", \"advice\", \"regs\", \"mixed\", \"jennifer\", \"collides\", \"cash\", \"multimillion\", \"craft\", \"illusion\", \"organization\", \"donor\", \"domestic\", \"recover\", \"collision\", \"repeal\", \"donation\", \"buyback\", \"deregulate\", \"regulation\", \"safety\", \"era\", \"flammable\", \"hazard\", \"testifies\", \"would\", \"prevent\", \"push\", \"spend\", \"system\", \"jim_jordan\", \"gop\", \"billion\", \"dewine\", \"back\", \"high\", \"money\", \"deregulation\", \"alabama\", \"hour\", \"train\", \"help\", \"ceo\", \"rail\", \"railroad\", \"trump\", \"republican\", \"derailment\", \"ntsb\", \"fema\", \"even\", \"disaster\", \"say\", \"company\", \"federal\", \"year\", \"derails\", \"one\", \"derail\", \"go\", \"another\", \"animal\", \"north\", \"carolina\", \"health\", \"river\", \"danger\", \"drink\", \"fish\", \"alarm\", \"west\", \"de\", \"door\", \"detector\", \"myid\", \"virginia\", \"monitor\", \"farmer\", \"hall\", \"shapiro\", \"quality\", \"sensor\", \"biometrics\", \"surveil\", \"petition\", \"sample\", \"pose\", \"43\", \"estimate\", \"confront\", \"headache\", \"test\", \"concern\", \"air\", \"grow\", \"return\", \"dioxin\", \"rash\", \"safe\", \"cincinnati\", \"medical\", \"demand\", \"water\", \"public\", \"sick\", \"die\", \"sign\", \"risk\", \"soil\", \"report\", \"resident\", \"release\", \"chemical\", \"mile\", \"toxic\", \"local\", \"burn\", \"official\", \"say\", \"via\", \"epa\", \"site\", \"town\", \"fire\", \"week\", \"wreck\", \"people\", \"state\", \"visit\", \"waste\", \"buttigieg\", \"committee\", \"scrutiny\", \"deeply\", \"reveals\", \"audio\", \"washington\", \"truckloads\", \"review\", \"delivers\", \"removal\", \"specialist\", \"joe\", \"michael\", \"criticism\", \"skip\", \"shipment\", \"sorry\", \"tour\", \"administrator\", \"court\", \"advocate\", \"temporarily\", \"regan\", \"vow\", \"yost\", \"pause\", \"indiana\", \"pete\", \"former\", \"calhoun\", \"hearing\", \"attorney\", \"donald\", \"key\", \"secretary\", \"president\", \"senate\", \"sen\", \"vance\", \"sue\", \"biden\", \"response\", \"senator\", \"trump\", \"epa\", \"face\", \"hold\", \"cleanup\", \"alan\", \"plan\", \"toxic\", \"ceo\", \"site\", \"administration\", \"order\", \"blame\", \"news\", \"clean\", \"disaster\", \"tell\", \"say\", \"rail\", \"transportation\", \"via\", \"make\", \"chemical\", \"call\", \"crash\"], \"Freq\": [8062.0, 5710.0, 3190.0, 5298.0, 2973.0, 5461.0, 9424.0, 4023.0, 2425.0, 3969.0, 5833.0, 7875.0, 4185.0, 2318.0, 2031.0, 2691.0, 2053.0, 2008.0, 7911.0, 1961.0, 3174.0, 1788.0, 3587.0, 2727.0, 1578.0, 1582.0, 1415.0, 3150.0, 1410.0, 1408.0, 1961.155919488951, 1581.209789568516, 1022.5244768452633, 494.16579162307397, 452.842151366897, 412.4772848375987, 312.1438546854548, 295.41452005786385, 244.24233861746976, 219.63694090101563, 194.0596842077381, 185.2138982333841, 147.82566395902714, 145.85876807080768, 142.90035255570774, 132.0892456124399, 131.0890960339163, 126.18387335378027, 152.5906554834559, 124.21138997026914, 126.16297337252074, 668.9172423137344, 122.24358603498828, 121.26299486063932, 126.14775642421057, 118.3107168471939, 119.28101144307105, 128.99889308455982, 107.48857341815963, 107.47897338702764, 414.1911341672021, 185.61752138632502, 178.6270005796758, 179.33652157802123, 404.83614718024313, 321.5797019510637, 149.44054117483566, 300.9247288229944, 4484.216120814574, 583.0513243952255, 973.640617106843, 286.47796459125567, 889.2630119972665, 889.9205089557964, 296.4079690607274, 5462.052344126144, 2373.6754146266753, 479.09378401018205, 548.1865972156685, 364.953520045336, 1698.3163912240975, 763.2342214997556, 1850.6547744191353, 1078.869283700355, 2148.4724817577376, 2381.7759996057057, 565.0070729978246, 924.7597630591267, 1933.3256191282794, 1387.536648909423, 1397.7172888875502, 1257.2350401519839, 1043.8548263301548, 901.4932515348714, 1712.8227931416855, 1188.753730059552, 1718.548001818021, 1664.3818307020497, 1197.227571917851, 1288.5626041635392, 2343.525088288487, 1825.7544006511348, 1697.0012162487208, 1476.6896486304822, 1093.504038175809, 1372.9485156493186, 1110.6504036142308, 1052.4947784155643, 2317.2652697771027, 2007.491673682354, 806.343897205419, 785.4823295207508, 768.606378246478, 1576.5760378142409, 578.0162946003471, 808.9996323301657, 776.1693914563805, 463.82123014629485, 556.9161041431104, 603.4095419419444, 357.628742932348, 292.1107019705326, 273.2395906348579, 257.3618605250151, 233.52711569020528, 222.61317187427275, 221.61806057303218, 197.79537436832464, 191.8423406631918, 188.8619322863073, 185.88832207131304, 180.92463485300974, 176.95364945531406, 157.08529429840448, 188.69824142740742, 152.12337214511987, 149.13912757116782, 147.15778818421873, 396.8030817252578, 204.42658182028742, 218.9136778388672, 221.07744125564403, 2525.737904965198, 5167.354800479439, 343.6577783345156, 564.243509055821, 764.3397711659745, 798.1222213844703, 2755.582909586831, 923.3529273725441, 497.5440346773837, 317.0091086507684, 668.3423168434902, 422.50046854731613, 1458.3528397317111, 592.7778446092336, 1710.5532798477973, 1371.6576960797672, 929.6584130354239, 652.7695613337534, 652.8162966088743, 1512.3611194727534, 999.6407746212129, 1339.1314534402852, 1494.3778464524873, 2290.6853150182847, 2184.640568545646, 1757.4036895610768, 3299.74929060776, 1001.8087947151413, 1140.3372742382294, 1105.706130749921, 750.2997959017047, 986.1676714536765, 1619.68543123065, 1614.2578903050478, 1172.7838615786152, 964.5995133414784, 951.4219894062696, 1124.588484316894, 1037.0209280231156, 1186.9230798717006, 1015.8711515936836, 975.9958802468869, 1159.679126234139, 1111.1564746017784, 1063.6364654634438, 2030.3011121004583, 1027.993811699705, 820.055130802331, 582.3581048887274, 510.15916890609446, 450.73676128856374, 460.54324606164573, 523.750332078136, 332.9124089826154, 325.9821574990518, 307.1849165578318, 295.2966236515821, 290.345463653433, 283.42070450051153, 684.2935865594867, 272.51997031346275, 281.39553292023, 236.85084345475352, 217.08613113826658, 216.09622039267177, 484.4469948709891, 211.14022094330446, 212.12625997995815, 208.1666239137851, 201.24021034837543, 206.1641249947176, 196.27864837702123, 1409.5005063284152, 1401.5672703302614, 1754.8248478630896, 365.6081638403233, 577.460828086276, 545.9535023040332, 226.79654772818884, 1409.1814515355934, 324.78933088276546, 299.1487186334877, 984.3979378052729, 3369.463007692053, 1299.9904683174084, 769.4805038706058, 922.2033990504577, 946.1623727636319, 728.5338307629105, 644.061897185496, 2528.6482680444074, 3589.7154674641115, 1525.196608075425, 4094.2553024111894, 1076.1298332276658, 4434.583880273794, 964.7729296874775, 1102.5350357868792, 1444.012229602242, 2577.9270791785975, 1808.3746486626137, 1659.1413733020709, 1330.9380462382067, 1240.1913660317032, 976.1833784423734, 1102.3330750969953, 1084.7914527239864, 1166.552863709093, 986.6975022819561, 3188.508455355534, 1097.037881985024, 2970.126782383825, 404.268205695817, 318.0908262234873, 277.88053142148885, 273.95653972878785, 258.258521927578, 571.1936290419721, 240.6057956423017, 254.2946267512122, 232.76007399961932, 191.5438024599244, 183.6973137397447, 668.3437705047457, 178.79167760987676, 172.90767236595357, 347.6576613740259, 158.1907696532297, 443.2748204381544, 149.36255146985783, 218.5547263436359, 124.81040009075197, 123.83433201317298, 115.98329077127849, 136.42885882333005, 109.13793944715184, 106.19892381530931, 189.96684165095732, 108.1331791236493, 2397.6782643059896, 475.08670872426353, 517.8249809786247, 580.0283443092226, 361.9970683900151, 843.0096269847824, 210.7931183838163, 961.7320447016817, 1956.3217141480607, 1345.389616457838, 326.8698717154765, 571.901026525689, 916.3418074151084, 4097.221073642547, 1366.9692181456587, 726.9568012361009, 4761.735443854512, 2303.2837342880625, 611.3535251128886, 863.3594102453067, 771.8605911705973, 589.1325344249484, 689.7725259713324, 3615.921077737078, 1893.261396694945, 1393.5831669529873, 1011.8942936918942, 1086.7890541804761, 993.3903373796845, 1270.695210489532, 839.97105358216, 1493.2582891248999, 1059.3609402615132, 1551.6330826122064, 1222.794083698591, 888.5245927599044, 1230.0906536000914, 1042.153879026986, 1430.7149755348607, 855.0487640724314, 860.5840575965733], \"Total\": [8062.0, 5710.0, 3190.0, 5298.0, 2973.0, 5461.0, 9424.0, 4023.0, 2425.0, 3969.0, 5833.0, 7875.0, 4185.0, 2318.0, 2031.0, 2691.0, 2053.0, 2008.0, 7911.0, 1961.0, 3174.0, 1788.0, 3587.0, 2727.0, 1578.0, 1582.0, 1415.0, 3150.0, 1410.0, 1408.0, 1961.9167520222375, 1582.1294546942745, 1023.2679238073954, 494.9090498642174, 453.58489015224364, 413.244633579903, 312.8859697582633, 296.1595402354258, 244.9963241131481, 220.39866119559062, 194.81703003456215, 185.96179826663672, 148.5732792359371, 146.60545634248314, 143.65373448240467, 132.83070742602294, 131.8468848492995, 126.92726491520983, 153.49397064447552, 124.95947917861436, 126.92725728046348, 672.9945159282228, 122.99165950659787, 122.00773508336822, 126.92747904186953, 119.05600299679026, 120.04000090668875, 129.87896939694713, 108.2330133522235, 108.23306906793066, 420.11723148857584, 186.95056519951513, 180.05644701346648, 181.04825169815246, 413.2363517091165, 329.6585152569341, 151.53695282627237, 316.77845803392194, 5461.501175809385, 641.0302763886955, 1121.2440654820914, 305.135754278863, 1032.4843035229574, 1048.3953467797285, 319.9164297219431, 7911.324580559311, 3150.1974706065953, 544.372480362644, 639.351419209155, 408.7000695021953, 2434.8546333727, 976.4276663197194, 2771.2609468878136, 1491.8591608174352, 3461.9688630608325, 4099.879960486705, 698.7253970592852, 1311.0407432855031, 3361.638491251497, 2277.742951929552, 2352.85668270478, 2067.96081249612, 1615.7367443437045, 1442.859826216908, 3981.4599488087306, 2256.373613922429, 4126.943976245452, 3927.1968878741277, 2330.383644812773, 2671.1349504710797, 7875.235272647821, 5833.318243019475, 7440.819268344572, 5399.131296270087, 2844.7539554145656, 9424.622858024142, 3301.337086099725, 3394.9554340056434, 2318.0233218566946, 2008.290451303307, 807.0853549313323, 786.2378775318451, 769.3614336473921, 1578.4250195588897, 578.7569932526419, 810.05995148284, 777.2987908789846, 464.5924543717209, 557.9067304014571, 604.5643554027602, 358.3704672753104, 292.8501763342677, 273.9881964988459, 258.10452184572006, 234.2789125466146, 223.35887504160473, 222.366134862583, 198.5405805587592, 192.58422803601695, 189.60600506126724, 186.6278511914913, 181.66419052196702, 177.6932620301916, 157.83853695365153, 189.60427445493897, 152.87486570075578, 149.89662629895264, 147.91119982798688, 401.0167228063467, 205.48815991665342, 220.37427329262448, 223.34085692711517, 2691.3211383124876, 5710.911252414166, 351.33895518441193, 588.4736920075898, 807.9654716399, 847.2132728453078, 3174.363391150057, 1009.3147169735557, 526.8776415282697, 326.52311983837274, 724.5301455401099, 444.61481528150614, 1695.7814394378531, 644.8062726341477, 2073.723307261032, 1651.9169761318958, 1083.6541289159152, 746.6061531919883, 751.3265514108436, 2094.7076773926583, 1281.483777107205, 1873.43542244273, 2273.097009352378, 4185.704172341896, 4065.7814742599658, 3103.128526898908, 8062.019047479702, 1385.3088549764166, 1778.2142341908354, 1766.3055996726152, 929.8249965683339, 1730.0529643966695, 5399.131296270087, 7440.819268344572, 3927.1968878741277, 1903.712565500076, 1802.413992773034, 4099.879960486705, 3361.638491251497, 7911.324580559311, 3981.4599488087306, 5461.501175809385, 1160.4325710669839, 1111.9160211781273, 1064.3896819858098, 2031.7452121474735, 1028.7449019451863, 820.8169393704597, 583.1844656522162, 510.90540087087805, 451.4973193232626, 461.3981073085341, 524.764861737195, 333.6715166748327, 326.7407141600084, 307.92815958670076, 296.04653790667896, 291.0958765125174, 284.1649732302489, 686.1493796003206, 273.27347248168337, 282.18444040243156, 237.62861459064763, 217.82607792634371, 216.83594637047847, 486.14332251573666, 211.88524900476327, 212.87536539484122, 208.91483866730454, 201.98395313349533, 206.93455023604207, 197.0331955132825, 1415.8356848740816, 1410.9334079484845, 1788.966610471832, 367.3367587182988, 584.1257619526418, 552.4380513151388, 227.72621716627384, 1475.447864798725, 328.7009286513231, 302.9580560018748, 1071.462534779629, 4023.833931271566, 1466.9407497530494, 838.014274148028, 1052.0113815641812, 1089.9190275396973, 834.9994060945506, 726.007359764397, 3587.8649004012127, 5833.318243019475, 2113.618900559079, 7875.235272647821, 1405.9931497458442, 9424.622858024142, 1361.8314518972943, 1721.4626314305879, 2691.7789234401007, 7440.819268344572, 4603.090295073097, 3969.9946915962073, 2727.8143864439485, 2466.1220074828234, 1848.8986176121698, 2799.0626288590765, 2676.953975541651, 4126.943976245452, 2557.9960081268628, 3190.498434209369, 1097.8380700478017, 2973.7008969112476, 405.19364322223356, 318.8580532152232, 278.63346719183573, 274.7091421568863, 259.0118535704363, 572.9612791551004, 241.35228929012067, 255.08797257886638, 233.50359366303434, 192.29821937189428, 184.44952427666712, 671.0841316813217, 179.54411536696898, 173.65760797808076, 349.2793873838275, 158.94136117346505, 445.428114321756, 150.11160471918217, 219.77277085588705, 125.58480538574084, 124.60364229295638, 116.75499616967033, 137.35919253534584, 109.88721448619677, 106.9439275377645, 191.32420800144394, 108.9062817903322, 2425.556834256038, 478.809210441045, 522.9372985053827, 586.7104852954483, 364.98381506061514, 857.6351029140303, 212.91689314186556, 989.2514967066782, 2053.563340091049, 1408.585306910874, 336.6229259370554, 605.635512005927, 1014.7259444793199, 5298.4067760307635, 1627.8743936301898, 820.2965027657016, 8062.019047479702, 3969.9946915962073, 770.7792977806189, 1200.7908579222562, 1042.412778810621, 756.4127476417822, 940.0693126577937, 9424.622858024142, 4185.704172341896, 2727.8143864439485, 1735.1740205777542, 1977.2485500190867, 1816.1815628472448, 3301.337086099725, 1534.5104144424129, 5399.131296270087, 2664.142928863859, 7440.819268344572, 4065.7814742599658, 1811.0993542307829, 4603.090295073097, 2920.471845069936, 7875.235272647821, 1990.3804408793585, 2934.957468068009], \"Category\": [\"Default\", \"Default\", \"Default\", \"Default\", \"Default\", \"Default\", \"Default\", \"Default\", \"Default\", \"Default\", \"Default\", \"Default\", \"Default\", \"Default\", \"Default\", \"Default\", \"Default\", \"Default\", \"Default\", \"Default\", \"Default\", \"Default\", \"Default\", \"Default\", \"Default\", \"Default\", \"Default\", \"Default\", \"Default\", \"Default\", \"Topic1\", \"Topic1\", \"Topic1\", \"Topic1\", \"Topic1\", \"Topic1\", \"Topic1\", \"Topic1\", \"Topic1\", \"Topic1\", \"Topic1\", \"Topic1\", \"Topic1\", \"Topic1\", \"Topic1\", \"Topic1\", \"Topic1\", \"Topic1\", \"Topic1\", \"Topic1\", \"Topic1\", \"Topic1\", \"Topic1\", \"Topic1\", \"Topic1\", \"Topic1\", \"Topic1\", \"Topic1\", \"Topic1\", \"Topic1\", \"Topic1\", \"Topic1\", \"Topic1\", \"Topic1\", \"Topic1\", \"Topic1\", \"Topic1\", \"Topic1\", \"Topic1\", \"Topic1\", \"Topic1\", \"Topic1\", \"Topic1\", \"Topic1\", \"Topic1\", \"Topic1\", \"Topic1\", \"Topic1\", \"Topic1\", \"Topic1\", \"Topic1\", \"Topic1\", \"Topic1\", \"Topic1\", \"Topic1\", \"Topic1\", \"Topic1\", \"Topic1\", \"Topic1\", \"Topic1\", \"Topic1\", \"Topic1\", \"Topic1\", \"Topic1\", \"Topic1\", \"Topic1\", \"Topic1\", \"Topic1\", \"Topic1\", \"Topic1\", \"Topic1\", \"Topic1\", \"Topic1\", \"Topic1\", \"Topic1\", \"Topic1\", \"Topic1\", \"Topic1\", \"Topic2\", \"Topic2\", \"Topic2\", \"Topic2\", \"Topic2\", \"Topic2\", \"Topic2\", \"Topic2\", \"Topic2\", \"Topic2\", \"Topic2\", \"Topic2\", \"Topic2\", \"Topic2\", \"Topic2\", \"Topic2\", \"Topic2\", \"Topic2\", \"Topic2\", \"Topic2\", \"Topic2\", \"Topic2\", \"Topic2\", \"Topic2\", \"Topic2\", \"Topic2\", \"Topic2\", \"Topic2\", \"Topic2\", \"Topic2\", \"Topic2\", \"Topic2\", \"Topic2\", \"Topic2\", \"Topic2\", \"Topic2\", \"Topic2\", \"Topic2\", \"Topic2\", \"Topic2\", \"Topic2\", \"Topic2\", \"Topic2\", \"Topic2\", \"Topic2\", \"Topic2\", \"Topic2\", \"Topic2\", \"Topic2\", \"Topic2\", \"Topic2\", \"Topic2\", \"Topic2\", \"Topic2\", \"Topic2\", \"Topic2\", \"Topic2\", \"Topic2\", \"Topic2\", \"Topic2\", \"Topic2\", \"Topic2\", \"Topic2\", \"Topic2\", \"Topic2\", \"Topic2\", \"Topic2\", \"Topic2\", \"Topic2\", \"Topic2\", \"Topic2\", \"Topic2\", \"Topic2\", \"Topic2\", \"Topic2\", \"Topic2\", \"Topic3\", \"Topic3\", \"Topic3\", \"Topic3\", \"Topic3\", \"Topic3\", \"Topic3\", \"Topic3\", \"Topic3\", \"Topic3\", \"Topic3\", \"Topic3\", \"Topic3\", \"Topic3\", \"Topic3\", \"Topic3\", \"Topic3\", \"Topic3\", \"Topic3\", \"Topic3\", \"Topic3\", \"Topic3\", \"Topic3\", \"Topic3\", \"Topic3\", \"Topic3\", \"Topic3\", \"Topic3\", \"Topic3\", \"Topic3\", \"Topic3\", \"Topic3\", \"Topic3\", \"Topic3\", \"Topic3\", \"Topic3\", \"Topic3\", \"Topic3\", \"Topic3\", \"Topic3\", \"Topic3\", \"Topic3\", \"Topic3\", \"Topic3\", \"Topic3\", \"Topic3\", \"Topic3\", \"Topic3\", \"Topic3\", \"Topic3\", \"Topic3\", \"Topic3\", \"Topic3\", \"Topic3\", \"Topic3\", \"Topic3\", \"Topic3\", \"Topic3\", \"Topic3\", \"Topic3\", \"Topic3\", \"Topic3\", \"Topic3\", \"Topic3\", \"Topic3\", \"Topic3\", \"Topic3\", \"Topic4\", \"Topic4\", \"Topic4\", \"Topic4\", \"Topic4\", \"Topic4\", \"Topic4\", \"Topic4\", \"Topic4\", \"Topic4\", \"Topic4\", \"Topic4\", \"Topic4\", \"Topic4\", \"Topic4\", \"Topic4\", \"Topic4\", \"Topic4\", \"Topic4\", \"Topic4\", \"Topic4\", \"Topic4\", \"Topic4\", \"Topic4\", \"Topic4\", \"Topic4\", \"Topic4\", \"Topic4\", \"Topic4\", \"Topic4\", \"Topic4\", \"Topic4\", \"Topic4\", \"Topic4\", \"Topic4\", \"Topic4\", \"Topic4\", \"Topic4\", \"Topic4\", \"Topic4\", \"Topic4\", \"Topic4\", \"Topic4\", \"Topic4\", \"Topic4\", \"Topic4\", \"Topic4\", \"Topic4\", \"Topic4\", \"Topic4\", \"Topic4\", \"Topic4\", \"Topic4\", \"Topic4\", \"Topic4\", \"Topic4\", \"Topic4\", \"Topic4\", \"Topic4\", \"Topic4\", \"Topic4\", \"Topic4\", \"Topic4\", \"Topic4\", \"Topic4\", \"Topic4\", \"Topic4\", \"Topic4\", \"Topic4\", \"Topic4\", \"Topic4\"], \"logprob\": [30.0, 29.0, 28.0, 27.0, 26.0, 25.0, 24.0, 23.0, 22.0, 21.0, 20.0, 19.0, 18.0, 17.0, 16.0, 15.0, 14.0, 13.0, 12.0, 11.0, 10.0, 9.0, 8.0, 7.0, 6.0, 5.0, 4.0, 3.0, 2.0, 1.0, -4.8645, -5.0799, -5.5158, -6.2429, -6.3303, -6.4236, -6.7024, -6.7574, -6.9477, -7.0538, -7.1776, -7.2243, -7.4498, -7.4632, -7.4837, -7.5623, -7.5699, -7.6081, -7.4181, -7.6238, -7.6082, -5.9402, -7.6398, -7.6479, -7.6084, -7.6725, -7.6643, -7.586, -7.7684, -7.7685, -6.4195, -7.2221, -7.2605, -7.2566, -6.4423, -6.6726, -7.4389, -6.739, -4.0375, -6.0775, -5.5648, -6.7882, -5.6554, -5.6547, -6.7541, -3.8402, -4.6736, -6.2739, -6.1392, -6.546, -5.0084, -5.8082, -4.9225, -5.4621, -4.7733, -4.6702, -6.109, -5.6163, -4.8788, -5.2105, -5.2032, -5.3091, -5.4951, -5.6418, -4.9999, -5.3652, -4.9966, -5.0286, -5.3581, -5.2845, -4.6864, -4.9361, -5.0092, -5.1483, -5.4487, -5.2211, -5.4331, -5.4869, -4.6694, -4.8129, -5.7251, -5.7513, -5.773, -5.0546, -6.058, -5.7218, -5.7632, -6.2781, -6.0952, -6.015, -6.5381, -6.7405, -6.8072, -6.8671, -6.9643, -7.0121, -7.0166, -7.1304, -7.1609, -7.1766, -7.1924, -7.2195, -7.2417, -7.3608, -7.1774, -7.3929, -7.4127, -7.4261, -6.4341, -7.0974, -7.0289, -7.0191, -4.5833, -3.8675, -6.5779, -6.0821, -5.7786, -5.7353, -4.4962, -5.5896, -6.2079, -6.6587, -5.9128, -6.3714, -5.1325, -6.0328, -4.973, -5.1938, -5.5828, -5.9364, -5.9363, -5.0962, -5.5102, -5.2178, -5.1081, -4.681, -4.7284, -4.946, -4.316, -5.508, -5.3785, -5.4093, -5.7971, -5.5238, -5.0276, -5.031, -5.3504, -5.5459, -5.5596, -5.3924, -5.4735, -5.3385, -5.4941, -5.5341, -5.2543, -5.297, -5.3407, -4.6943, -5.3748, -5.6008, -5.9431, -6.0755, -6.1993, -6.1778, -6.0492, -6.5023, -6.5234, -6.5827, -6.6222, -6.6391, -6.6633, -5.7818, -6.7025, -6.6704, -6.8428, -6.9299, -6.9345, -6.1272, -6.9577, -6.953, -6.9719, -7.0057, -6.9815, -7.0307, -5.0592, -5.0649, -4.8401, -6.4086, -5.9516, -6.0077, -6.8861, -5.0594, -6.527, -6.6093, -5.4182, -4.1877, -5.1401, -5.6645, -5.4834, -5.4578, -5.7192, -5.8424, -4.4748, -4.1244, -4.9803, -3.9929, -5.3291, -3.913, -5.4383, -5.3048, -5.035, -4.4555, -4.81, -4.8961, -5.1166, -5.1872, -5.4265, -5.305, -5.3211, -5.2484, -5.4158, -4.1298, -5.1967, -4.2007, -6.195, -6.4348, -6.5699, -6.5841, -6.6431, -5.8494, -6.7139, -6.6586, -6.7471, -6.942, -6.9838, -5.6923, -7.0109, -7.0444, -6.3459, -7.1333, -6.1029, -7.1907, -6.8101, -7.3703, -7.3782, -7.4437, -7.2813, -7.5045, -7.5318, -6.9503, -7.5137, -4.4149, -6.0336, -5.9475, -5.834, -6.3055, -5.4601, -6.8462, -5.3284, -4.6183, -4.9927, -6.4075, -5.8481, -5.3767, -3.879, -4.9768, -5.6082, -3.7287, -4.455, -5.7814, -5.4363, -5.5483, -5.8185, -5.6607, -4.004, -4.6511, -4.9575, -5.2775, -5.2061, -5.296, -5.0498, -5.4637, -4.8884, -5.2317, -4.85, -5.0882, -5.4075, -5.0823, -5.2481, -4.9312, -5.4459, -5.4395], \"loglift\": [30.0, 29.0, 28.0, 27.0, 26.0, 25.0, 24.0, 23.0, 22.0, 21.0, 20.0, 19.0, 18.0, 17.0, 16.0, 15.0, 14.0, 13.0, 12.0, 11.0, 10.0, 9.0, 8.0, 7.0, 6.0, 5.0, 4.0, 3.0, 2.0, 1.0, 1.2875, 1.2873, 1.2872, 1.2864, 1.2863, 1.286, 1.2855, 1.2854, 1.2848, 1.2844, 1.284, 1.2839, 1.2829, 1.2828, 1.2826, 1.2823, 1.2821, 1.282, 1.282, 1.2819, 1.2819, 1.2818, 1.2818, 1.2818, 1.2817, 1.2816, 1.2816, 1.2811, 1.281, 1.2809, 1.2737, 1.2807, 1.2799, 1.2784, 1.2674, 1.2631, 1.274, 1.2366, 1.0907, 1.1931, 1.1467, 1.2248, 1.1386, 1.124, 1.2116, 0.9174, 1.0049, 1.1602, 1.1341, 1.1747, 0.9276, 1.0416, 0.8841, 0.9638, 0.8108, 0.7448, 1.0755, 0.9389, 0.7347, 0.7922, 0.7671, 0.7902, 0.851, 0.8176, 0.4444, 0.647, 0.4118, 0.4294, 0.6219, 0.5589, 0.0758, 0.1263, -0.1902, -0.0085, 0.3318, -0.6385, 0.1985, 0.1168, 1.3158, 1.3157, 1.3152, 1.3152, 1.3151, 1.315, 1.3148, 1.3148, 1.3147, 1.3145, 1.3143, 1.3142, 1.3141, 1.3136, 1.3134, 1.3132, 1.3129, 1.3128, 1.3128, 1.3124, 1.3123, 1.3122, 1.3122, 1.312, 1.312, 1.3113, 1.3113, 1.3112, 1.3111, 1.311, 1.3056, 1.3109, 1.3095, 1.3059, 1.2526, 1.2161, 1.294, 1.2741, 1.2606, 1.2564, 1.1746, 1.2271, 1.2588, 1.2866, 1.2354, 1.2651, 1.1653, 1.232, 1.1236, 1.1302, 1.1628, 1.1818, 1.1756, 0.9904, 1.0677, 0.9804, 0.8967, 0.7133, 0.695, 0.7476, 0.4228, 0.992, 0.8718, 0.8477, 1.1016, 0.754, 0.1121, -0.212, 0.1076, 0.6363, 0.6772, 0.0226, 0.1401, -0.5808, -0.0498, -0.4059, 1.4229, 1.4228, 1.4228, 1.4228, 1.4228, 1.4226, 1.4221, 1.4221, 1.4218, 1.4217, 1.4216, 1.4212, 1.4212, 1.4211, 1.421, 1.4209, 1.4209, 1.4208, 1.4208, 1.4207, 1.4202, 1.4201, 1.4201, 1.42, 1.42, 1.42, 1.4199, 1.4198, 1.4198, 1.4197, 1.419, 1.4169, 1.4042, 1.4188, 1.412, 1.4117, 1.4194, 1.3776, 1.4115, 1.4109, 1.3388, 1.246, 1.3027, 1.3382, 1.2918, 1.2821, 1.2871, 1.3037, 1.0736, 0.938, 1.0972, 0.7694, 1.1561, 0.6696, 1.0788, 0.978, 0.8007, 0.3635, 0.4892, 0.551, 0.7059, 0.7361, 0.7848, 0.4917, 0.5202, 0.16, 0.4709, 1.536, 1.5359, 1.5354, 1.5343, 1.5342, 1.5339, 1.5339, 1.5337, 1.5335, 1.5335, 1.5335, 1.5334, 1.5327, 1.5325, 1.5325, 1.5324, 1.5323, 1.5319, 1.5319, 1.5318, 1.5316, 1.531, 1.5304, 1.5304, 1.53, 1.5298, 1.5298, 1.5296, 1.5295, 1.5295, 1.525, 1.5288, 1.5268, 1.5251, 1.5284, 1.5194, 1.5266, 1.5084, 1.4881, 1.4907, 1.5072, 1.4793, 1.4346, 1.2795, 1.3619, 1.4158, 1.0101, 0.9922, 1.3049, 1.2067, 1.2361, 1.2867, 1.227, 0.5786, 0.7432, 0.865, 0.9973, 0.9381, 0.9332, 0.5818, 0.934, 0.2513, 0.6144, -0.0311, 0.3351, 0.8245, 0.217, 0.5061, -0.1689, 0.6917, 0.3098]}, \"token.table\": {\"Topic\": [1, 1, 3, 1, 2, 3, 4, 3, 4, 2, 4, 1, 2, 3, 4, 1, 2, 4, 2, 4, 3, 3, 1, 2, 3, 2, 1, 1, 2, 4, 1, 3, 4, 4, 1, 2, 3, 4, 1, 1, 1, 2, 3, 4, 1, 2, 4, 3, 1, 2, 4, 2, 2, 1, 1, 2, 3, 4, 2, 4, 1, 2, 1, 4, 1, 2, 3, 4, 1, 2, 3, 1, 2, 3, 3, 1, 2, 3, 4, 2, 2, 1, 2, 3, 4, 2, 3, 4, 1, 2, 3, 4, 1, 1, 3, 1, 3, 1, 3, 1, 2, 3, 4, 1, 3, 4, 1, 2, 1, 2, 3, 2, 2, 4, 1, 2, 3, 4, 1, 2, 3, 3, 2, 4, 4, 1, 4, 2, 1, 2, 3, 4, 1, 4, 3, 3, 4, 4, 4, 2, 3, 4, 1, 2, 3, 4, 1, 2, 4, 1, 2, 3, 4, 2, 4, 1, 2, 4, 3, 1, 1, 2, 3, 4, 1, 2, 3, 3, 4, 1, 2, 3, 4, 2, 2, 2, 4, 2, 2, 3, 3, 1, 2, 2, 2, 3, 4, 2, 4, 3, 1, 2, 3, 4, 1, 2, 4, 1, 2, 1, 1, 2, 3, 4, 3, 1, 2, 3, 4, 1, 2, 3, 4, 1, 1, 2, 3, 4, 3, 1, 2, 1, 4, 2, 4, 1, 2, 3, 4, 1, 2, 3, 4, 1, 1, 2, 3, 4, 2, 3, 3, 4, 1, 2, 3, 4, 2, 3, 1, 2, 3, 4, 1, 2, 3, 3, 1, 3, 1, 4, 1, 2, 3, 4, 2, 3, 1, 2, 3, 4, 2, 1, 2, 4, 2, 4, 2, 1, 2, 3, 4, 3, 4, 2, 4, 1, 2, 3, 4, 1, 2, 3, 4, 2, 1, 2, 3, 4, 1, 2, 3, 4, 1, 1, 2, 3, 1, 2, 3, 4, 1, 1, 2, 4, 1, 3, 1, 2, 3, 4, 1, 1, 4, 1, 1, 2, 3, 2, 1, 1, 2, 4, 3, 1, 2, 3, 4, 1, 1, 2, 3, 1, 1, 2, 3, 4, 1, 3, 2, 3, 4, 2, 4, 1, 2, 3, 4, 1, 2, 3, 4, 1, 2, 3, 4, 1, 2, 3, 4, 2, 1, 1, 2, 4, 1, 2, 3, 4, 1, 2, 3, 4, 3, 4, 1, 1, 2, 3, 4, 1, 3, 3, 2, 2, 4, 1, 2, 3, 4, 1, 2, 3, 4, 1, 2, 3, 4, 3, 1, 2, 3, 4, 1, 2, 3, 4, 3, 1, 2, 3, 4, 1, 3, 2, 4, 2, 1, 2, 4, 1, 2, 3, 4, 4, 2, 4, 1, 2, 3, 4, 1, 2, 4, 1, 2, 3, 4, 1, 2, 3, 4, 1, 2, 3, 4, 4, 4, 1, 3, 4, 3, 2, 4, 2, 1, 2, 3, 1, 2, 3, 4, 3, 1, 3, 4, 1, 2, 3, 4, 4, 1, 3, 4, 2, 4, 1, 2, 3, 4, 2, 4, 1, 2, 4, 2, 4, 3, 3, 1, 2, 3, 4, 1, 4, 3, 4, 1, 3, 4, 1, 3, 4, 3, 4, 1, 3, 4, 1, 2, 4, 4, 1, 2, 4, 1, 2, 1, 1, 2, 3, 4, 1, 2, 3, 4, 1, 4, 3, 1, 2, 3, 4, 1, 2, 3, 4, 4, 3, 4, 2, 4, 1, 2, 3, 4, 4, 1, 2, 3, 4, 1, 2, 3, 4, 1, 4, 1, 2, 4, 2, 3, 4, 2, 4, 2, 4, 1, 3, 4, 1, 2, 3, 4, 3, 3, 4, 4, 1, 4, 4, 2, 3, 4, 1, 2, 3, 4, 3, 1, 4, 1, 2, 3, 4, 1, 2, 3, 4, 1, 2, 3, 4, 4], \"Freq\": [0.9948279793183239, 0.9932323962760996, 0.9956209971817205, 0.0005763110720543371, 0.41436766080706844, 0.0017289332161630115, 0.5832268049189893, 0.0045501542165828, 0.9964837734316333, 0.9988094850553009, 0.9951555004183814, 0.017887421605683376, 0.001117963850355211, 0.9810132786866975, 0.0005589819251776055, 0.0009547871627078086, 0.7218190950071034, 0.2768882771852645, 0.2207789338831806, 0.7786754015400801, 0.9988985110166146, 0.9996272329148895, 0.8210196895792994, 0.17870544536784036, 0.0001830998415654102, 0.9986552166698346, 0.9969881433931257, 0.9094734234463706, 0.0889193570093364, 0.001559988719462042, 0.0027398475185370173, 0.0054796950370740345, 0.9918248017104002, 0.9960934082495142, 0.03874286718080799, 0.8305502151885713, 0.07627501976221573, 0.05448215697301123, 0.9981911814099595, 0.9886077887510081, 0.030197756941542725, 0.17137227064325497, 0.025101885457657392, 0.7732513136843784, 0.07754266998014947, 0.9196560659645727, 0.003101706799205979, 0.9962076261290301, 0.03909300779856648, 0.4140555192186196, 0.546751503436289, 0.9993574379131915, 0.9989662449639697, 0.991130199484198, 0.28464167101483645, 0.045891208184024646, 0.640734210468091, 0.029045068470901676, 0.0010088438965452338, 0.9987554575797816, 0.004537734759411539, 0.9937639123111269, 0.007649100592810033, 0.9905585267688992, 0.19795210599332916, 0.3225514011363384, 0.049739234754669, 0.42956611833577774, 0.7536035509364013, 0.21109787757906778, 0.03523588633274665, 0.7055463415133273, 0.2928970758282353, 0.001525505603272059, 0.9996338916165715, 0.6078451740498629, 0.11799063044404658, 0.16828171883003365, 0.10590142650510738, 0.9968038720025169, 0.9970968897990442, 0.38456752926478366, 0.33148736754724956, 0.1933383373817468, 0.0906932564445285, 0.5473392064203593, 0.00023890842707130478, 0.4522536524459799, 0.29764190133355817, 0.0008888623333340048, 0.5198574846670594, 0.18170885700013728, 0.9954492343358833, 0.6244542842130189, 0.3749497977350091, 0.009126837615911688, 0.9887407417237662, 0.9767683378329691, 0.02426753634367625, 0.0039100418892759285, 0.16487343299780166, 0.2834780369725048, 0.5474058644986299, 0.0009593128752133935, 0.25805516343240287, 0.7405895396647398, 0.0016540836241226975, 0.9974124253459865, 0.937287735014577, 0.009831689528124934, 0.049158447640624665, 0.9969663765201598, 0.9938395481272104, 0.9970541412921947, 0.42371188598612824, 0.2986863234745964, 0.08250159318479901, 0.19505006289986432, 0.00212625201380839, 0.00425250402761678, 0.9936684411197877, 0.9954838366286535, 0.9990971889438955, 0.0006335429226023433, 0.9953433428196622, 0.9854392273630362, 0.011901439943998022, 0.9963438555498547, 0.2902938149086178, 0.2149945976611946, 0.20136578005985106, 0.29336029886892007, 0.9935767549588488, 0.9962131922365085, 0.9990047240361702, 0.9985424676975074, 0.001905615396369289, 0.9977265215186818, 0.9978433151493117, 0.07373099612507512, 0.9183708884439736, 0.006533126238930707, 0.6904027188344547, 0.1500380862791098, 0.07710466101959307, 0.08241350653241751, 0.35709982958771697, 0.6410926074488148, 0.0011247238727172188, 0.5809926200173987, 0.2743982777160258, 0.14415056189348557, 0.0004878191603840459, 0.9895189041569806, 0.008954922209565435, 0.0013309791835816216, 0.8691294068787989, 0.1291049808074173, 0.9977330215430524, 0.9959333099516712, 0.006751141751158288, 0.8250859668737022, 0.1658851973141751, 0.0024111220539851028, 0.08935264546305219, 0.034220162092232755, 0.8764163735844055, 0.9883461117498835, 0.010860946282965753, 0.27356252681248266, 0.3000482690834272, 0.1498389195607979, 0.2765259665071338, 0.9983747634648453, 0.9942772430461638, 0.016323958700421064, 0.9829355131753541, 0.9927579286453437, 0.9968129702947041, 0.9979874917657803, 0.9979689691307337, 0.9926928428038535, 0.9995302160576485, 0.9986920361024277, 0.001763226539022279, 0.4178846897482801, 0.5801015313383298, 0.979111467498502, 0.019923779861888122, 0.9951285578966512, 0.3566364803260053, 0.5699247481384785, 0.05028747777692458, 0.02312067943766647, 0.9800686660913264, 0.0024199226323242625, 0.01693945842626984, 0.9949154194933796, 0.005349007631684837, 0.9937461190855618, 0.0038921647333266434, 0.08562762413318616, 0.11806233024424152, 0.792704217354193, 0.9959003630285391, 0.0015758681506690304, 0.5069042551318714, 0.2747263475999676, 0.21694451540876986, 0.10969806186803659, 0.8066033960885044, 0.05592450212880297, 0.027962251064401485, 0.9960847446126366, 0.3493971999580492, 0.07085299256115239, 0.5278818377075171, 0.0519228037089361, 0.9982278502647756, 0.04078347142099678, 0.9584115783934244, 0.9941326898814822, 0.005553813909952414, 0.0062655436332075005, 0.9920444085911876, 0.3098715198033587, 0.266866537016961, 0.23711651467842562, 0.18615855562331055, 0.43024418731438874, 0.25518277542990014, 0.1095075689836973, 0.2049499456208647, 0.991740400043656, 0.0005896986349440747, 0.8597806097484608, 0.0023587945397762987, 0.1373997819419694, 0.002722297663564006, 0.9963609448644263, 0.9968674757068605, 0.0014574085902147084, 0.6093751706373096, 0.3016143675993024, 0.018000275213349924, 0.07112303864787042, 0.9455849622501011, 0.053220096042872186, 0.6204561869169695, 0.15135895807471694, 0.0670138898346075, 0.160891106197743, 0.8571186104159243, 0.134511314773302, 0.007820425277517558, 0.9947562363256052, 0.0004921876985466302, 0.9991410280496594, 0.010226508900686503, 0.988562527066362, 0.2393210662641229, 0.6572530753650728, 0.06906876360931488, 0.03431441758934115, 0.8582074069429972, 0.14118896049707375, 0.09993413857900078, 0.17821588046588474, 0.0033311379526333594, 0.7186930132806473, 0.9957206412432391, 0.0624276338328608, 0.78034542291076, 0.15762977542797352, 0.9960985463248809, 0.9916783331922305, 0.9972772288806762, 0.004498275656274989, 0.9513853013021601, 0.03148792959392492, 0.01574396479696246, 0.0029802522598608274, 0.9954042547935164, 0.009393336388143748, 0.9909969889491655, 0.5136493309436048, 0.302525295167286, 0.15576834346911322, 0.027892403100529917, 0.6679269962212376, 0.2666656132941624, 0.016959788666881775, 0.048353440028982085, 0.9987247869263781, 0.2672871150779178, 0.002202915783609213, 0.7086045770609635, 0.022029157836092127, 0.7232586214162354, 0.14143426239001453, 0.06770076067010174, 0.06770076067010174, 0.9913362137717978, 0.8930754537051515, 0.10031806466277045, 0.007340346194836861, 0.27529798013880413, 0.3133055370982659, 0.05478566768931426, 0.35679166082665914, 0.9958061672821046, 0.6973722277818174, 0.16592366314714618, 0.13676381145544475, 0.009902360873286812, 0.9869353003709189, 0.861030038874807, 0.010653914991701773, 0.06876617858280236, 0.06004933904413727, 0.9919371808578233, 0.9923216775156137, 0.9969694614281461, 0.9958701650157635, 0.22546340290299624, 0.00853489222345727, 0.7652953360366687, 0.9983534594293808, 0.9926945771906615, 0.08840002150776305, 0.8746244552207466, 0.03750303942753584, 0.9962353416831369, 0.5269517391373272, 0.17195733791865683, 0.13118394851526397, 0.16974139284238546, 0.9961414378218931, 0.9981631981381895, 0.996635811924732, 0.9969857917900509, 0.9971683940991416, 0.3365303121204629, 0.13418805424785335, 0.14448691168448316, 0.3849955235869562, 0.9987105166751755, 0.9991761777322385, 0.6261657100588919, 0.251372129535396, 0.12228914409830077, 0.9983290970033339, 0.0012865065683032653, 0.2102698684023614, 0.017832073645429942, 0.5364482155000174, 0.23553197273338713, 0.48256640862442113, 0.2822770148198709, 0.15461592456313883, 0.0804901302205202, 0.5750172140848994, 0.30848052302433554, 0.07645081428857689, 0.0398615140648611, 0.17246187890576947, 0.049058071125688094, 0.228600496379495, 0.5497538485940511, 0.9946873750236436, 0.9926945174795244, 0.9886072798401684, 0.005226730116622006, 0.9930787221581812, 0.4165309754371528, 0.1948172799601343, 0.2827758280018367, 0.10613180176932688, 0.0004122764661198788, 0.011131464585236728, 0.0004122764661198788, 0.9886389657554694, 0.9955911715404313, 0.002057006552769486, 0.9992861173964473, 0.06063382692372735, 0.09148261606036057, 0.11382139440068118, 0.7339884311819627, 0.9252416334393011, 0.07189377557129704, 0.9958878971588958, 0.996393288063232, 0.047234968654874455, 0.9524907081333447, 0.005944627477533553, 0.9144818602939114, 0.07628938596168058, 0.0029723137387667764, 0.011588743446428799, 0.0034084539548319996, 0.8861980282563199, 0.0981634738991616, 0.051245294679203635, 0.945190990749756, 0.0018979738770075422, 0.0018979738770075422, 0.995802602011853, 0.041812380000315334, 0.5374120605922883, 0.12002612611855226, 0.300803180825798, 0.1089223334032439, 0.5662027804423063, 0.1021549694935749, 0.2226784981705371, 0.996811007641937, 0.8086152333633596, 0.183190707735416, 0.002862354808365875, 0.00572470961673175, 0.9886867082176118, 0.005523389431383306, 0.9940183690514527, 0.9901048301882228, 0.9983932805824801, 0.00037156472550392854, 0.9385724966229235, 0.060936614982644285, 0.18641014228997574, 0.0004731221885532379, 0.7215113375436878, 0.09178570457932815, 0.9984491828740362, 0.9899836526062121, 0.009974646373866117, 0.2452712196330453, 0.04459476720600823, 0.7048760391499677, 0.005295628605713478, 0.008662328228750323, 0.7233044071006519, 0.2678103144055308, 0.31302938120770446, 0.00017142901490016673, 0.6154301634915986, 0.07148589921336954, 0.022114728348124783, 0.014128854222413055, 0.12408819795336684, 0.8397453792190716, 0.0017119601036892382, 0.0017119601036892382, 0.9878009798286905, 0.008559800518446192, 0.9974185709608409, 0.9957349122819579, 0.1269461980766932, 0.8730545131878239, 0.0011976056422329546, 0.9992759118963528, 0.9986915147688764, 0.001234476532470799, 0.9995585368589498, 0.0013555206169706528, 0.04337665974306089, 0.9549642746558249, 0.0005253102118741233, 0.9047592882511983, 0.004027378291034945, 0.09070356325026528, 0.9958220357060186, 0.9940645639248437, 0.0014858962091552222, 0.004457688627465667, 0.2280662839399333, 0.21691159827875803, 0.3464672245121674, 0.20857918248366322, 0.9973089805743622, 0.8686779533421368, 0.0008918664818707771, 0.13021250635313344, 0.027293362799940993, 0.9724524079090088, 0.646144864659906, 0.1330662317067814, 0.15101470016955656, 0.07055604843987479, 0.026736146906651555, 0.9714133376083399, 0.0007099321532701984, 0.0440157935027523, 0.9548587461484168, 0.11337363951503188, 0.8862649024454643, 0.9973546342820265, 0.9989992717580676, 0.8799122242199039, 0.0018369775035906135, 0.09001189767594006, 0.027554662553859202, 0.9997381684687247, 0.9940773051991314, 0.9176454670558067, 0.08114420254849786, 0.03669997402494481, 0.8679543856899449, 0.09541993246485651, 0.0010997815741821348, 0.4879364250788072, 0.511031838136632, 0.002863037545645622, 0.9963370658846765, 0.0013773965050774674, 0.887043349269889, 0.11156911691127486, 0.0022450311685482155, 0.0022450311685482155, 0.9945488076668594, 0.9975628873078964, 0.027563132449717354, 0.970834776284489, 0.0030625702721908173, 0.9832585202555787, 0.013198100943027901, 0.9995327263395388, 0.1735733748564865, 0.19038340890790298, 0.385848921133676, 0.25019585564898955, 0.7814198904009393, 0.011265555431730448, 0.09831757467692027, 0.10958313010865071, 0.09657780066940748, 0.9027067899303801, 0.996144798016791, 0.0013802048212287119, 0.9219768205807796, 0.07453106034635044, 0.0013802048212287119, 0.3588396064049358, 0.09496487491678739, 0.1490160290196229, 0.39750119579793614, 0.9935335001118654, 0.9958782753278318, 0.00423777989501205, 0.9419115889437988, 0.05783667651409291, 0.5941713366038501, 0.294535576728518, 0.03825137360110623, 0.07310262510433636, 0.9925948115652905, 0.19950351138635902, 0.02311321168500501, 0.5028137278843194, 0.27452007562716474, 0.14568222205634734, 0.00010610504155597039, 0.47057585930072865, 0.3836758302663889, 0.950190874304236, 0.047351704699546644, 0.2807676174469684, 0.7147297333868644, 0.004270229923147808, 0.5068744560344104, 0.0022086032942675833, 0.49086208215097044, 0.9984255686895536, 0.9985403523987411, 0.4093267431601548, 0.5906708942208052, 0.9967818237915047, 0.054488218319134904, 0.944462450865005, 0.20964177066717216, 0.13034721492259407, 0.39277960763341685, 0.2672117905913179, 0.9964649547531312, 0.00031343065060861187, 0.9995303447908633, 0.9919261354440082, 0.001745318639114006, 0.9965769429340974, 0.9992366177939473, 0.0004970384052027671, 0.8372611935640611, 0.16203452009610209, 0.325108838443863, 0.092530977095561, 0.39370323073091984, 0.18863457878940623, 0.999137171778063, 0.8489163965995665, 0.15070650636261967, 0.04630849776362327, 0.8682055771193588, 0.040008021877416027, 0.04567845017500255, 0.17445200936094088, 0.25289937973738114, 0.40531141361160783, 0.16735439013640582, 0.4133345629734095, 0.5276257307217617, 0.03606274710506257, 0.02274727125088562, 0.9911736219204108], \"Term\": [\"212\", \"28\", \"43\", \"administration\", \"administration\", \"administration\", \"administration\", \"administrator\", \"administrator\", \"advice\", \"advocate\", \"air\", \"air\", \"air\", \"air\", \"alabama\", \"alabama\", \"alabama\", \"alan\", \"alan\", \"alarm\", \"animal\", \"another\", \"another\", \"another\", \"apply\", \"arrest\", \"article\", \"article\", \"article\", \"attorney\", \"attorney\", \"attorney\", \"audio\", \"back\", \"back\", \"back\", \"back\", \"balloon\", \"bedford\", \"biden\", \"biden\", \"biden\", \"biden\", \"billion\", \"billion\", \"billion\", \"biometrics\", \"blame\", \"blame\", \"blame\", \"brake\", \"braking\", \"buren\", \"burn\", \"burn\", \"burn\", \"burn\", \"buttigieg\", \"buttigieg\", \"buyback\", \"buyback\", \"calhoun\", \"calhoun\", \"call\", \"call\", \"call\", \"call\", \"car\", \"car\", \"car\", \"cargo\", \"cargo\", \"cargo\", \"carolina\", \"carry\", \"carry\", \"carry\", \"carry\", \"cash\", \"categorize\", \"cause\", \"cause\", \"cause\", \"cause\", \"ceo\", \"ceo\", \"ceo\", \"chemical\", \"chemical\", \"chemical\", \"chemical\", \"chemicalspill\", \"chloride\", \"chloride\", \"cincinnati\", \"cincinnati\", \"clark\", \"clark\", \"clean\", \"clean\", \"clean\", \"clean\", \"cleanup\", \"cleanup\", \"cleanup\", \"cleveland\", \"cleveland\", \"coincidence\", \"coincidence\", \"coincidence\", \"collides\", \"collision\", \"committee\", \"company\", \"company\", \"company\", \"company\", \"concern\", \"concern\", \"concern\", \"confront\", \"congress\", \"congress\", \"court\", \"coverage\", \"coverage\", \"craft\", \"crash\", \"crash\", \"crash\", \"crash\", \"crazy\", \"criticism\", \"danger\", \"de\", \"de\", \"deeply\", \"delivers\", \"demand\", \"demand\", \"demand\", \"derail\", \"derail\", \"derail\", \"derail\", \"derailment\", \"derailment\", \"derailment\", \"derails\", \"derails\", \"derails\", \"derails\", \"deregulate\", \"deregulate\", \"deregulation\", \"deregulation\", \"deregulation\", \"detector\", \"detroit\", \"dewine\", \"dewine\", \"dewine\", \"dewine\", \"die\", \"die\", \"die\", \"dioxin\", \"dioxin\", \"disaster\", \"disaster\", \"disaster\", \"disaster\", \"dollar\", \"domestic\", \"donald\", \"donald\", \"donation\", \"donor\", \"door\", \"drink\", \"dumb\", \"dump\", \"ecp\", \"epa\", \"epa\", \"epa\", \"era\", \"era\", \"estimate\", \"even\", \"even\", \"even\", \"even\", \"event\", \"event\", \"event\", \"explode\", \"explode\", \"extras\", \"face\", \"face\", \"face\", \"face\", \"farmer\", \"federal\", \"federal\", \"federal\", \"federal\", \"fema\", \"fema\", \"fema\", \"fema\", \"film\", \"fire\", \"fire\", \"fire\", \"fire\", \"fish\", \"flammable\", \"flammable\", \"fly\", \"fly\", \"former\", \"former\", \"get\", \"get\", \"get\", \"get\", \"go\", \"go\", \"go\", \"go\", \"gofund\", \"gop\", \"gop\", \"gop\", \"gop\", \"grow\", \"grow\", \"hall\", \"hall\", \"happen\", \"happen\", \"happen\", \"happen\", \"hazard\", \"hazard\", \"hazardous\", \"hazardous\", \"hazardous\", \"hazardous\", \"hazmat\", \"hazmat\", \"hazmat\", \"headache\", \"health\", \"health\", \"hearing\", \"hearing\", \"help\", \"help\", \"help\", \"help\", \"high\", \"high\", \"hold\", \"hold\", \"hold\", \"hold\", \"homendy\", \"hour\", \"hour\", \"hour\", \"illusion\", \"indiana\", \"jennifer\", \"jim_jordan\", \"jim_jordan\", \"jim_jordan\", \"jim_jordan\", \"joe\", \"joe\", \"key\", \"key\", \"know\", \"know\", \"know\", \"know\", \"like\", \"like\", \"like\", \"like\", \"lobby\", \"local\", \"local\", \"local\", \"local\", \"look\", \"look\", \"look\", \"look\", \"loose\", \"lot\", \"lot\", \"lot\", \"make\", \"make\", \"make\", \"make\", \"mass\", \"material\", \"material\", \"material\", \"medical\", \"medical\", \"medium\", \"medium\", \"medium\", \"medium\", \"memory\", \"metal\", \"michael\", \"mickey\", \"mile\", \"mile\", \"mile\", \"mixed\", \"mom\", \"money\", \"money\", \"money\", \"monitor\", \"month\", \"month\", \"month\", \"month\", \"mouse\", \"movie\", \"multimillion\", \"myid\", \"netflix\", \"news\", \"news\", \"news\", \"news\", \"noise\", \"north\", \"ntsb\", \"ntsb\", \"ntsb\", \"obama\", \"obama\", \"official\", \"official\", \"official\", \"official\", \"oh\", \"oh\", \"oh\", \"oh\", \"one\", \"one\", \"one\", \"one\", \"order\", \"order\", \"order\", \"order\", \"organization\", \"outage\", \"passenger\", \"pause\", \"pause\", \"people\", \"people\", \"people\", \"people\", \"pete\", \"pete\", \"pete\", \"pete\", \"petition\", \"petition\", \"place\", \"plan\", \"plan\", \"plan\", \"plan\", \"plastic\", \"plastic\", \"pose\", \"pr\", \"president\", \"president\", \"prevent\", \"prevent\", \"prevent\", \"prevent\", \"public\", \"public\", \"public\", \"public\", \"push\", \"push\", \"push\", \"push\", \"quality\", \"rail\", \"rail\", \"rail\", \"rail\", \"railroad\", \"railroad\", \"railroad\", \"railroad\", \"rash\", \"really\", \"really\", \"really\", \"really\", \"recently\", \"recently\", \"recover\", \"regan\", \"regs\", \"regulation\", \"regulation\", \"regulation\", \"release\", \"release\", \"release\", \"release\", \"removal\", \"repeal\", \"repeal\", \"report\", \"report\", \"report\", \"report\", \"republican\", \"republican\", \"republican\", \"resident\", \"resident\", \"resident\", \"resident\", \"response\", \"response\", \"response\", \"response\", \"return\", \"return\", \"return\", \"return\", \"reveals\", \"review\", \"risk\", \"risk\", \"risk\", \"river\", \"roll\", \"roll\", \"rule\", \"safe\", \"safe\", \"safe\", \"safety\", \"safety\", \"safety\", \"safety\", \"sample\", \"saturday\", \"saturday\", \"saturday\", \"say\", \"say\", \"say\", \"say\", \"scrutiny\", \"second\", \"second\", \"second\", \"secretary\", \"secretary\", \"see\", \"see\", \"see\", \"see\", \"sen\", \"sen\", \"senate\", \"senate\", \"senate\", \"senator\", \"senator\", \"sensor\", \"shapiro\", \"share\", \"share\", \"share\", \"share\", \"shelter\", \"shipment\", \"sick\", \"sick\", \"sign\", \"sign\", \"sign\", \"site\", \"site\", \"site\", \"skip\", \"skip\", \"soil\", \"soil\", \"soil\", \"sorry\", \"sorry\", \"sorry\", \"specialist\", \"spend\", \"spend\", \"spend\", \"spokesperson\", \"spokesperson\", \"springfield\", \"state\", \"state\", \"state\", \"state\", \"story\", \"story\", \"story\", \"story\", \"sue\", \"sue\", \"surveil\", \"system\", \"system\", \"system\", \"system\", \"tell\", \"tell\", \"tell\", \"tell\", \"temporarily\", \"test\", \"test\", \"testifies\", \"testifies\", \"time\", \"time\", \"time\", \"time\", \"tour\", \"town\", \"town\", \"town\", \"town\", \"toxic\", \"toxic\", \"toxic\", \"toxic\", \"trail\", \"trail\", \"train\", \"train\", \"train\", \"transportation\", \"transportation\", \"transportation\", \"truck\", \"truckloads\", \"trump\", \"trump\", \"value\", \"vance\", \"vance\", \"via\", \"via\", \"via\", \"via\", \"virginia\", \"visit\", \"visit\", \"vow\", \"washington\", \"washington\", \"waste\", \"water\", \"water\", \"water\", \"week\", \"week\", \"week\", \"week\", \"west\", \"white\", \"white\", \"would\", \"would\", \"would\", \"would\", \"wreck\", \"wreck\", \"wreck\", \"wreck\", \"year\", \"year\", \"year\", \"year\", \"yost\"]}, \"R\": 30, \"lambda.step\": 0.01, \"plot.opts\": {\"xlab\": \"PC1\", \"ylab\": \"PC2\"}, \"topic.order\": [3, 4, 1, 2]};\n",
       "\n",
       "function LDAvis_load_lib(url, callback){\n",
       "  var s = document.createElement('script');\n",
       "  s.src = url;\n",
       "  s.async = true;\n",
       "  s.onreadystatechange = s.onload = callback;\n",
       "  s.onerror = function(){console.warn(\"failed to load library \" + url);};\n",
       "  document.getElementsByTagName(\"head\")[0].appendChild(s);\n",
       "}\n",
       "\n",
       "if(typeof(LDAvis) !== \"undefined\"){\n",
       "   // already loaded: just create the visualization\n",
       "   !function(LDAvis){\n",
       "       new LDAvis(\"#\" + \"ldavis_el565266279654528769995688\", ldavis_el565266279654528769995688_data);\n",
       "   }(LDAvis);\n",
       "}else if(typeof define === \"function\" && define.amd){\n",
       "   // require.js is available: use it to load d3/LDAvis\n",
       "   require.config({paths: {d3: \"https://d3js.org/d3.v5\"}});\n",
       "   require([\"d3\"], function(d3){\n",
       "      window.d3 = d3;\n",
       "      LDAvis_load_lib(\"https://cdn.jsdelivr.net/gh/bmabey/pyLDAvis@3.3.1/pyLDAvis/js/ldavis.v3.0.0.js\", function(){\n",
       "        new LDAvis(\"#\" + \"ldavis_el565266279654528769995688\", ldavis_el565266279654528769995688_data);\n",
       "      });\n",
       "    });\n",
       "}else{\n",
       "    // require.js not available: dynamically load d3 & LDAvis\n",
       "    LDAvis_load_lib(\"https://d3js.org/d3.v5.js\", function(){\n",
       "         LDAvis_load_lib(\"https://cdn.jsdelivr.net/gh/bmabey/pyLDAvis@3.3.1/pyLDAvis/js/ldavis.v3.0.0.js\", function(){\n",
       "                 new LDAvis(\"#\" + \"ldavis_el565266279654528769995688\", ldavis_el565266279654528769995688_data);\n",
       "            })\n",
       "         });\n",
       "}\n",
       "</script>"
      ],
      "text/plain": [
       "PreparedData(topic_coordinates=              x         y  topics  cluster       Freq\n",
       "topic                                                \n",
       "2      0.017246 -0.146793       1        1  27.585066\n",
       "3     -0.183883 -0.057026       2        1  26.817203\n",
       "0      0.212621  0.005482       3        1  24.086648\n",
       "1     -0.045983  0.198337       4        1  21.511083, topic_info=            Term         Freq        Total Category  logprob  loglift\n",
       "10967      trump  8062.000000  8062.000000  Default  30.0000  30.0000\n",
       "9259      safety  5710.000000  5710.000000  Default  29.0000  29.0000\n",
       "11434      visit  3190.000000  3190.000000  Default  28.0000  28.0000\n",
       "1338       biden  5298.000000  5298.000000  Default  27.0000  27.0000\n",
       "1724   buttigieg  2973.000000  2973.000000  Default  26.0000  26.0000\n",
       "...          ...          ...          ...      ...      ...      ...\n",
       "11380        via  1230.090654  4603.090295   Topic4  -5.0823   0.2170\n",
       "6509        make  1042.153879  2920.471845   Topic4  -5.2481   0.5061\n",
       "2024    chemical  1430.714976  7875.235273   Topic4  -4.9312  -0.1689\n",
       "1770        call   855.048764  1990.380441   Topic4  -5.4459   0.6917\n",
       "2617       crash   860.584058  2934.957468   Topic4  -5.4395   0.3098\n",
       "\n",
       "[322 rows x 6 columns], token_table=       Topic      Freq            Term\n",
       "term                                  \n",
       "158        1  0.994828             212\n",
       "192        1  0.993232              28\n",
       "254        3  0.995621              43\n",
       "560        1  0.000576  administration\n",
       "560        2  0.414368  administration\n",
       "...      ...       ...             ...\n",
       "11912      1  0.413335            year\n",
       "11912      2  0.527626            year\n",
       "11912      3  0.036063            year\n",
       "11912      4  0.022747            year\n",
       "11928      4  0.991174            yost\n",
       "\n",
       "[613 rows x 3 columns], R=30, lambda_step=0.01, plot_opts={'xlab': 'PC1', 'ylab': 'PC2'}, topic_order=[3, 4, 1, 2])"
      ]
     },
     "execution_count": 54,
     "metadata": {},
     "output_type": "execute_result"
    }
   ],
   "source": [
    "#12000\n",
    "pyLDAvis.sklearn.prepare(lda, tf, tf_vectorizer)"
   ]
  },
  {
   "cell_type": "code",
   "execution_count": 55,
   "metadata": {},
   "outputs": [],
   "source": [
    "#15000\n",
    "# pyLDAvis.sklearn.prepare(lda, tf, tf_vectorizer)"
   ]
  },
  {
   "cell_type": "markdown",
   "metadata": {},
   "source": []
  },
  {
   "cell_type": "code",
   "execution_count": 56,
   "metadata": {},
   "outputs": [
    {
     "name": "stdout",
     "output_type": "stream",
     "text": [
      "RT @ACTBrigitte Immediately after the train crashed in East Palestine, the Democrats blamed President Trump. 2 weeks later the Washington Post fact checkers found that President Trump's changes had nothing to do with the crash. The Silicon Valley Bank just collapsed and the Democrats are…\n",
      "[0.01024 0.96866 0.01033 0.01076]\n"
     ]
    }
   ],
   "source": [
    "tweet_topic(data_people, lda, tf, 14)"
   ]
  },
  {
   "cell_type": "code",
   "execution_count": 213,
   "metadata": {},
   "outputs": [
    {
     "name": "stdout",
     "output_type": "stream",
     "text": [
      "Loglikelihood: -6901292.724032542\n",
      "Perplexity: 1745.8362936854046\n"
     ]
    }
   ],
   "source": [
    "# Metrics part 2\n",
    "\n",
    "\n",
    "# 2. Loglikelihood\n",
    "loglikelihood_people = lda.score(tf)\n",
    "perplexity_people = lda.perplexity(tf)\n",
    "\n",
    "print(f'Loglikelihood: {loglikelihood_people}')\n",
    "print(f'Perplexity: {perplexity_people}')\n",
    "\n",
    "# INTERPRETATION MISSING"
   ]
  },
  {
   "attachments": {},
   "cell_type": "markdown",
   "metadata": {},
   "source": [
    "# Experiment: use bigrams and then LDA"
   ]
  },
  {
   "cell_type": "code",
   "execution_count": 141,
   "metadata": {},
   "outputs": [],
   "source": [
    "# COMPUTE COHERENCE AND PERPLEXITY ON N GRAMS\n",
    "def compute_coherence(data, topics):\n",
    "    '''data : list of strings with data to analyze\n",
    "      topics : int with max number of topics\n",
    "      '''\n",
    "    from gensim import corpora\n",
    "    from gensim.models.ldamodel import LdaModel\n",
    "    from gensim.models.coherencemodel import CoherenceModel\n",
    "    from gensim.models.phrases import Phrases, Phraser\n",
    "    from nltk.tokenize import word_tokenize\n",
    "    import matplotlib.pyplot as plt\n",
    "    from tqdm import tqdm\n",
    "    \n",
    "    coherences = []\n",
    "    perplexities = []\n",
    "\n",
    "    # Tokenize the strings\n",
    "    tokenized_data = [word_tokenize(text.lower()) for text in data]\n",
    "\n",
    "    # Create bigrams\n",
    "    bigram_phrases = Phrases(tokenized_data)\n",
    "    bigram = Phraser(bigram_phrases)\n",
    "    tokenized_data_bigram = [bigram[text] for text in tokenized_data]\n",
    "\n",
    "    # Create a dictionary from the tokenized bigrams and words\n",
    "    dictionary = corpora.Dictionary(tokenized_data_bigram)\n",
    "    corpus = [dictionary.doc2bow(doc) for doc in tokenized_data_bigram]\n",
    "\n",
    "    # Iterate\n",
    "    for k in tqdm(range(2, topics + 1)):\n",
    "        # Compute LDA model, then coherence and perplexity for each k\n",
    "        lda_model = LdaModel(corpus, num_topics = k, id2word = dictionary, random_state = 0)\n",
    "        coherence_model = CoherenceModel(model = lda_model, texts = tokenized_data_bigram, dictionary = dictionary, coherence = 'c_v')\n",
    "        coherence = coherence_model.get_coherence()\n",
    "        coherences.append(coherence)\n",
    "        perplexity = lda_model.log_perplexity(corpus)\n",
    "        perplexities.append(perplexity)\n",
    "\n",
    "    # Plot\n",
    "    plt.plot(range(2, topics+1), coherences)\n",
    "    plt.xlabel('Number of topics')\n",
    "    plt.ylabel('Coherence')\n",
    "    plt.xticks(range(2, topics + 1))\n",
    "    # plt.title('Coherence')\n",
    "    plt.show()\n",
    "\n",
    "    plt.plot(range(2, topics+1), perplexities)\n",
    "    plt.xlabel('Number of topics')\n",
    "    plt.ylabel('Perplexity')\n",
    "    plt.xticks(range(2, topics + 1))\n",
    "    plt.show()\n",
    "        \n",
    "      "
   ]
  },
  {
   "cell_type": "code",
   "execution_count": 142,
   "metadata": {},
   "outputs": [
    {
     "name": "stderr",
     "output_type": "stream",
     "text": [
      "100%|██████████| 7/7 [00:30<00:00,  4.39s/it]\n"
     ]
    },
    {
     "data": {
      "image/png": "[encoded data removed]",
      "text/plain": [
       "<Figure size 640x480 with 1 Axes>"
      ]
     },
     "metadata": {},
     "output_type": "display_data"
    },
    {
     "data": {
      "image/png": "[encoded data removed]",
      "text/plain": [
       "<Figure size 640x480 with 1 Axes>"
      ]
     },
     "metadata": {},
     "output_type": "display_data"
    }
   ],
   "source": [
    "compute_coherence([i for i in data_media.T_text], 8)"
   ]
  },
  {
   "cell_type": "code",
   "execution_count": 148,
   "metadata": {},
   "outputs": [
    {
     "name": "stderr",
     "output_type": "stream",
     "text": [
      "100%|██████████| 19/19 [00:24<00:00,  1.31s/it]\n"
     ]
    },
    {
     "data": {
      "image/png": "[encoded data removed]",
      "text/plain": [
       "<Figure size 640x480 with 1 Axes>"
      ]
     },
     "metadata": {},
     "output_type": "display_data"
    },
    {
     "data": {
      "image/png": "[encoded data removed]",
      "text/plain": [
       "<Figure size 640x480 with 1 Axes>"
      ]
     },
     "metadata": {},
     "output_type": "display_data"
    }
   ],
   "source": [
    "compute_coherence([i for i in data_govt.T_text], 20)"
   ]
  },
  {
   "cell_type": "code",
   "execution_count": 144,
   "metadata": {},
   "outputs": [
    {
     "name": "stderr",
     "output_type": "stream",
     "text": [
      "Traceback (most recent call last):\n",
      "  File \"<string>\", line 1, in <module>\n",
      "  File \"/Users/ribarragi/miniconda3/envs/Intro_AI/lib/python3.9/multiprocessing/spawn.py\", line 116, in spawn_main\n",
      "    exitcode = _main(fd, parent_sentinel)\n",
      "  File \"/Users/ribarragi/miniconda3/envs/Intro_AI/lib/python3.9/multiprocessing/spawn.py\", line 126, in _main\n",
      "    self = reduction.pickle.load(from_parent)\n",
      "_pickle.UnpicklingError: pickle data was truncated\n",
      "100%|██████████| 7/7 [01:51<00:00, 15.89s/it]\n"
     ]
    },
    {
     "data": {
      "image/png": "[encoded data removed]",
      "text/plain": [
       "<Figure size 640x480 with 1 Axes>"
      ]
     },
     "metadata": {},
     "output_type": "display_data"
    },
    {
     "data": {
      "image/png": "[encoded data removed]",
      "text/plain": [
       "<Figure size 640x480 with 1 Axes>"
      ]
     },
     "metadata": {},
     "output_type": "display_data"
    }
   ],
   "source": [
    "compute_coherence([i for i in data_people.T_text], 8)"
   ]
  },
  {
   "cell_type": "code",
   "execution_count": 88,
   "metadata": {},
   "outputs": [
    {
     "name": "stdout",
     "output_type": "stream",
     "text": [
      "Coherence score for 2 topics: 0.3553067693078562\n",
      "Coherence score for 3 topics: 0.3654568355104821\n",
      "Coherence score for 4 topics: 0.3899242394178972\n",
      "Coherence score for 5 topics: 0.3884568482767611\n",
      "Coherence score for 6 topics: 0.42128301356191206\n"
     ]
    }
   ],
   "source": [
    "from gensim import corpora\n",
    "from gensim.models.ldamodel import LdaModel\n",
    "from gensim.models.coherencemodel import CoherenceModel\n",
    "from gensim.models.phrases import Phrases, Phraser\n",
    "from nltk.tokenize import word_tokenize\n",
    "\n",
    "# Define the list of strings\n",
    "data = [i for i in data_people.T_text]\n",
    "\n",
    "# Tokenize the strings\n",
    "tokenized_data = [word_tokenize(text.lower()) for text in data]\n",
    "\n",
    "# Create bigrams from the tokenized data\n",
    "bigram_phrases = Phrases(tokenized_data)\n",
    "bigram = Phraser(bigram_phrases)\n",
    "tokenized_data_bigram = [bigram[text] for text in tokenized_data]\n",
    "\n",
    "# Create a dictionary from the tokenized data\n",
    "dictionary = corpora.Dictionary(tokenized_data_bigram)\n",
    "\n",
    "# Convert the tokenized data into a bag of words\n",
    "corpus = [dictionary.doc2bow(text) for text in tokenized_data_bigram]\n",
    "\n",
    "# Define the range of number of topics to evaluate\n",
    "min_topics, max_topics = 2, 6\n",
    "\n",
    "# Iterate over the range of number of topics\n",
    "for num_topics in range(min_topics, max_topics+1):\n",
    "\n",
    "    # Train an LDA model with the current number of topics\n",
    "    lda_model = LdaModel(corpus, num_topics=num_topics, id2word=dictionary)\n",
    "    \n",
    "    # Compute coherence for the current model\n",
    "    coherence_model = CoherenceModel(model=lda_model, texts=tokenized_data_bigram, dictionary=dictionary, coherence='c_v')\n",
    "    coherence = coherence_model.get_coherence()\n",
    "    \n",
    "    # Print the coherence score for the current number of topics\n",
    "    print(f\"Coherence score for {num_topics} topics: {coherence}\")\n"
   ]
  },
  {
   "cell_type": "code",
   "execution_count": 59,
   "metadata": {},
   "outputs": [
    {
     "data": {
      "text/plain": [
       "LatentDirichletAllocation(n_components=2)"
      ]
     },
     "execution_count": 59,
     "metadata": {},
     "output_type": "execute_result"
    }
   ],
   "source": [
    "from sklearn.feature_extraction.text import CountVectorizer\n",
    "from sklearn.decomposition import LatentDirichletAllocation\n",
    "import nltk\n",
    "\n",
    "# Sample text\n",
    "text = [i for i in data_people.T_text]\n",
    "\n",
    "# Tokenize on bigrams\n",
    "bigram = CountVectorizer(tokenizer=lambda doc: nltk.ngrams(nltk.word_tokenize(doc.lower()), 2))\n",
    "bigram_tokens = bigram.fit_transform(text)\n",
    "\n",
    "# Train LDA model\n",
    "lda_model = LatentDirichletAllocation(n_components=2)\n",
    "lda_model.fit(bigram_tokens)\n"
   ]
  },
  {
   "cell_type": "code",
   "execution_count": 60,
   "metadata": {},
   "outputs": [
    {
     "name": "stderr",
     "output_type": "stream",
     "text": [
      "/Users/ribarragi/miniconda3/envs/Intro_AI/lib/python3.9/site-packages/sklearn/utils/deprecation.py:87: FutureWarning: Function get_feature_names is deprecated; get_feature_names is deprecated in 1.0 and will be removed in 1.2. Please use get_feature_names_out instead.\n",
      "  warnings.warn(msg, category=FutureWarning)\n",
      "/Users/ribarragi/miniconda3/envs/Intro_AI/lib/python3.9/site-packages/pyLDAvis/_prepare.py:246: FutureWarning: In a future version of pandas all arguments of DataFrame.drop except for the argument 'labels' will be keyword-only.\n",
      "  default_term_info = default_term_info.sort_values(\n",
      "/Users/ribarragi/miniconda3/envs/Intro_AI/lib/python3.9/site-packages/joblib/backports.py:36: DeprecationWarning: distutils Version classes are deprecated. Use packaging.version instead.\n",
      "  if LooseVersion(np.__version__) < '1.13':\n",
      "/Users/ribarragi/miniconda3/envs/Intro_AI/lib/python3.9/site-packages/joblib/backports.py:36: DeprecationWarning: distutils Version classes are deprecated. Use packaging.version instead.\n",
      "  if LooseVersion(np.__version__) < '1.13':\n",
      "/Users/ribarragi/miniconda3/envs/Intro_AI/lib/python3.9/site-packages/joblib/backports.py:36: DeprecationWarning: distutils Version classes are deprecated. Use packaging.version instead.\n",
      "  if LooseVersion(np.__version__) < '1.13':\n",
      "/Users/ribarragi/miniconda3/envs/Intro_AI/lib/python3.9/site-packages/setuptools/_distutils/version.py:346: DeprecationWarning: distutils Version classes are deprecated. Use packaging.version instead.\n",
      "  other = LooseVersion(other)\n",
      "/Users/ribarragi/miniconda3/envs/Intro_AI/lib/python3.9/site-packages/joblib/backports.py:36: DeprecationWarning: distutils Version classes are deprecated. Use packaging.version instead.\n",
      "  if LooseVersion(np.__version__) < '1.13':\n",
      "/Users/ribarragi/miniconda3/envs/Intro_AI/lib/python3.9/site-packages/setuptools/_distutils/version.py:346: DeprecationWarning: distutils Version classes are deprecated. Use packaging.version instead.\n",
      "  other = LooseVersion(other)\n",
      "/Users/ribarragi/miniconda3/envs/Intro_AI/lib/python3.9/site-packages/setuptools/_distutils/version.py:346: DeprecationWarning: distutils Version classes are deprecated. Use packaging.version instead.\n",
      "  other = LooseVersion(other)\n",
      "/Users/ribarragi/miniconda3/envs/Intro_AI/lib/python3.9/site-packages/setuptools/_distutils/version.py:346: DeprecationWarning: distutils Version classes are deprecated. Use packaging.version instead.\n",
      "  other = LooseVersion(other)\n",
      "/Users/ribarragi/miniconda3/envs/Intro_AI/lib/python3.9/site-packages/joblib/backports.py:36: DeprecationWarning: distutils Version classes are deprecated. Use packaging.version instead.\n",
      "  if LooseVersion(np.__version__) < '1.13':\n",
      "/Users/ribarragi/miniconda3/envs/Intro_AI/lib/python3.9/site-packages/setuptools/_distutils/version.py:346: DeprecationWarning: distutils Version classes are deprecated. Use packaging.version instead.\n",
      "  other = LooseVersion(other)\n",
      "/Users/ribarragi/miniconda3/envs/Intro_AI/lib/python3.9/site-packages/joblib/backports.py:36: DeprecationWarning: distutils Version classes are deprecated. Use packaging.version instead.\n",
      "  if LooseVersion(np.__version__) < '1.13':\n",
      "/Users/ribarragi/miniconda3/envs/Intro_AI/lib/python3.9/site-packages/setuptools/_distutils/version.py:346: DeprecationWarning: distutils Version classes are deprecated. Use packaging.version instead.\n",
      "  other = LooseVersion(other)\n",
      "/Users/ribarragi/miniconda3/envs/Intro_AI/lib/python3.9/site-packages/joblib/backports.py:36: DeprecationWarning: distutils Version classes are deprecated. Use packaging.version instead.\n",
      "  if LooseVersion(np.__version__) < '1.13':\n",
      "/Users/ribarragi/miniconda3/envs/Intro_AI/lib/python3.9/site-packages/setuptools/_distutils/version.py:346: DeprecationWarning: distutils Version classes are deprecated. Use packaging.version instead.\n",
      "  other = LooseVersion(other)\n",
      "/Users/ribarragi/miniconda3/envs/Intro_AI/lib/python3.9/site-packages/joblib/backports.py:36: DeprecationWarning: distutils Version classes are deprecated. Use packaging.version instead.\n",
      "  if LooseVersion(np.__version__) < '1.13':\n",
      "/Users/ribarragi/miniconda3/envs/Intro_AI/lib/python3.9/site-packages/setuptools/_distutils/version.py:346: DeprecationWarning: distutils Version classes are deprecated. Use packaging.version instead.\n",
      "  other = LooseVersion(other)\n",
      "/Users/ribarragi/miniconda3/envs/Intro_AI/lib/python3.9/site-packages/joblib/backports.py:36: DeprecationWarning: distutils Version classes are deprecated. Use packaging.version instead.\n",
      "  if LooseVersion(np.__version__) < '1.13':\n",
      "/Users/ribarragi/miniconda3/envs/Intro_AI/lib/python3.9/site-packages/joblib/backports.py:36: DeprecationWarning: distutils Version classes are deprecated. Use packaging.version instead.\n",
      "  if LooseVersion(np.__version__) < '1.13':\n",
      "/Users/ribarragi/miniconda3/envs/Intro_AI/lib/python3.9/site-packages/setuptools/_distutils/version.py:346: DeprecationWarning: distutils Version classes are deprecated. Use packaging.version instead.\n",
      "  other = LooseVersion(other)\n",
      "/Users/ribarragi/miniconda3/envs/Intro_AI/lib/python3.9/site-packages/setuptools/_distutils/version.py:346: DeprecationWarning: distutils Version classes are deprecated. Use packaging.version instead.\n",
      "  other = LooseVersion(other)\n",
      "/Users/ribarragi/miniconda3/envs/Intro_AI/lib/python3.9/site-packages/joblib/backports.py:36: DeprecationWarning: distutils Version classes are deprecated. Use packaging.version instead.\n",
      "  if LooseVersion(np.__version__) < '1.13':\n",
      "/Users/ribarragi/miniconda3/envs/Intro_AI/lib/python3.9/site-packages/setuptools/_distutils/version.py:346: DeprecationWarning: distutils Version classes are deprecated. Use packaging.version instead.\n",
      "  other = LooseVersion(other)\n",
      "/Users/ribarragi/miniconda3/envs/Intro_AI/lib/python3.9/site-packages/joblib/backports.py:36: DeprecationWarning: distutils Version classes are deprecated. Use packaging.version instead.\n",
      "  if LooseVersion(np.__version__) < '1.13':\n",
      "/Users/ribarragi/miniconda3/envs/Intro_AI/lib/python3.9/site-packages/joblib/backports.py:36: DeprecationWarning: distutils Version classes are deprecated. Use packaging.version instead.\n",
      "  if LooseVersion(np.__version__) < '1.13':\n",
      "/Users/ribarragi/miniconda3/envs/Intro_AI/lib/python3.9/site-packages/setuptools/_distutils/version.py:346: DeprecationWarning: distutils Version classes are deprecated. Use packaging.version instead.\n",
      "  other = LooseVersion(other)\n",
      "/Users/ribarragi/miniconda3/envs/Intro_AI/lib/python3.9/site-packages/setuptools/_distutils/version.py:346: DeprecationWarning: distutils Version classes are deprecated. Use packaging.version instead.\n",
      "  other = LooseVersion(other)\n",
      "/Users/ribarragi/miniconda3/envs/Intro_AI/lib/python3.9/site-packages/joblib/backports.py:36: DeprecationWarning: distutils Version classes are deprecated. Use packaging.version instead.\n",
      "  if LooseVersion(np.__version__) < '1.13':\n",
      "/Users/ribarragi/miniconda3/envs/Intro_AI/lib/python3.9/site-packages/setuptools/_distutils/version.py:346: DeprecationWarning: distutils Version classes are deprecated. Use packaging.version instead.\n",
      "  other = LooseVersion(other)\n",
      "/Users/ribarragi/miniconda3/envs/Intro_AI/lib/python3.9/site-packages/joblib/backports.py:36: DeprecationWarning: distutils Version classes are deprecated. Use packaging.version instead.\n",
      "  if LooseVersion(np.__version__) < '1.13':\n",
      "/Users/ribarragi/miniconda3/envs/Intro_AI/lib/python3.9/site-packages/setuptools/_distutils/version.py:346: DeprecationWarning: distutils Version classes are deprecated. Use packaging.version instead.\n",
      "  other = LooseVersion(other)\n",
      "/Users/ribarragi/miniconda3/envs/Intro_AI/lib/python3.9/site-packages/joblib/backports.py:36: DeprecationWarning: distutils Version classes are deprecated. Use packaging.version instead.\n",
      "  if LooseVersion(np.__version__) < '1.13':\n",
      "/Users/ribarragi/miniconda3/envs/Intro_AI/lib/python3.9/site-packages/setuptools/_distutils/version.py:346: DeprecationWarning: distutils Version classes are deprecated. Use packaging.version instead.\n",
      "  other = LooseVersion(other)\n",
      "/Users/ribarragi/miniconda3/envs/Intro_AI/lib/python3.9/site-packages/joblib/backports.py:36: DeprecationWarning: distutils Version classes are deprecated. Use packaging.version instead.\n",
      "  if LooseVersion(np.__version__) < '1.13':\n",
      "/Users/ribarragi/miniconda3/envs/Intro_AI/lib/python3.9/site-packages/setuptools/_distutils/version.py:346: DeprecationWarning: distutils Version classes are deprecated. Use packaging.version instead.\n",
      "  other = LooseVersion(other)\n",
      "/Users/ribarragi/miniconda3/envs/Intro_AI/lib/python3.9/site-packages/joblib/backports.py:36: DeprecationWarning: distutils Version classes are deprecated. Use packaging.version instead.\n",
      "  if LooseVersion(np.__version__) < '1.13':\n",
      "/Users/ribarragi/miniconda3/envs/Intro_AI/lib/python3.9/site-packages/setuptools/_distutils/version.py:346: DeprecationWarning: distutils Version classes are deprecated. Use packaging.version instead.\n",
      "  other = LooseVersion(other)\n",
      "/Users/ribarragi/miniconda3/envs/Intro_AI/lib/python3.9/site-packages/joblib/backports.py:36: DeprecationWarning: distutils Version classes are deprecated. Use packaging.version instead.\n",
      "  if LooseVersion(np.__version__) < '1.13':\n",
      "/Users/ribarragi/miniconda3/envs/Intro_AI/lib/python3.9/site-packages/setuptools/_distutils/version.py:346: DeprecationWarning: distutils Version classes are deprecated. Use packaging.version instead.\n",
      "  other = LooseVersion(other)\n",
      "/Users/ribarragi/miniconda3/envs/Intro_AI/lib/python3.9/site-packages/joblib/backports.py:36: DeprecationWarning: distutils Version classes are deprecated. Use packaging.version instead.\n",
      "  if LooseVersion(np.__version__) < '1.13':\n",
      "/Users/ribarragi/miniconda3/envs/Intro_AI/lib/python3.9/site-packages/setuptools/_distutils/version.py:346: DeprecationWarning: distutils Version classes are deprecated. Use packaging.version instead.\n",
      "  other = LooseVersion(other)\n",
      "/Users/ribarragi/miniconda3/envs/Intro_AI/lib/python3.9/site-packages/joblib/backports.py:36: DeprecationWarning: distutils Version classes are deprecated. Use packaging.version instead.\n",
      "  if LooseVersion(np.__version__) < '1.13':\n",
      "/Users/ribarragi/miniconda3/envs/Intro_AI/lib/python3.9/site-packages/setuptools/_distutils/version.py:346: DeprecationWarning: distutils Version classes are deprecated. Use packaging.version instead.\n",
      "  other = LooseVersion(other)\n",
      "/Users/ribarragi/miniconda3/envs/Intro_AI/lib/python3.9/site-packages/joblib/backports.py:36: DeprecationWarning: distutils Version classes are deprecated. Use packaging.version instead.\n",
      "  if LooseVersion(np.__version__) < '1.13':\n",
      "/Users/ribarragi/miniconda3/envs/Intro_AI/lib/python3.9/site-packages/setuptools/_distutils/version.py:346: DeprecationWarning: distutils Version classes are deprecated. Use packaging.version instead.\n",
      "  other = LooseVersion(other)\n"
     ]
    },
    {
     "data": {
      "text/html": [
       "\n",
       "<link rel=\"stylesheet\" type=\"text/css\" href=\"https://cdn.jsdelivr.net/gh/bmabey/pyLDAvis@3.3.1/pyLDAvis/js/ldavis.v1.0.0.css\">\n",
       "\n",
       "\n",
       "<div id=\"ldavis_el565265745150544825531491\"></div>\n",
       "<script type=\"text/javascript\">\n",
       "\n",
       "var ldavis_el565265745150544825531491_data = {\"mdsDat\": {\"x\": [0.1135162217156499, -0.1135162217156499], \"y\": [0.0, 0.0], \"topics\": [1, 2], \"cluster\": [1, 1], \"Freq\": [50.00034885823956, 49.99965114176044]}, \"tinfo\": {\"Term\": [[\"shelter\", \"place\"], [\"derails\", \"alabama\"], [\"ceo\", \"testifies\"], [\"alabama\", \"hour\"], [\"epa\", \"order\"], [\"derails\", \"north\"], [\"derails\", \"springfield\"], [\"hour\", \"ceo\"], [\"safety\", \"board\"], [\"testifies\", \"congress\"], [\"carolina\", \"danger\"], [\"danger\", \"public\"], [\"calhoun\", \"county\"], [\"official\", \"say\"], [\"national\", \"transportation\"], [\"public\", \"report\"], [\"pete\", \"buttigieg\"], [\"ceo\", \"testify\"], [\"transportation\", \"safety\"], [\"pay\", \"toxic\"], [\"release\", \"toxic\"], [\"demand\", \"pay\"], [\"tell\", \"shelter\"], [\"county\", \"alabama\"], [\"via\", \"change\"], [\"vinyl\", \"chloride\"], [\"near\", \"springfield\"], [\"sign\", \"petition\"], [\"toxic\", \"sign\"], [\"petition\", \"via\"], [\"ceo\", \"testifies\"], [\"derails\", \"north\"], [\"derails\", \"alabama\"], [\"alabama\", \"hour\"], [\"hour\", \"ceo\"], [\"testifies\", \"congress\"], [\"carolina\", \"danger\"], [\"public\", \"report\"], [\"danger\", \"public\"], [\"pay\", \"toxic\"], [\"epa\", \"order\"], [\"demand\", \"pay\"], [\"via\", \"change\"], [\"county\", \"alabama\"], [\"toxic\", \"sign\"], [\"petition\", \"via\"], [\"effect\", \"would\"], [\"hazard\", \"cargo\"], [\"order\", \"clean\"], [\"alabama\", \"ceo\"], [\"categorize\", \"high\"], [\"derail\", \"alabama\"], [\"calhoun\", \"county\"], [\"even\", \"safety\"], [\"derailed\", \"categorize\"], [\"still\", \"effect\"], [\"rule\", \"still\"], [\"truckloads\", \"water\"], [\"via\", \"youtube\"], [\"ceo\", \"testify\"], [\"apply\", \"derailed\"], [\"release\", \"toxic\"], [\"protection\", \"agency\"], [\"sign\", \"petition\"], [\"environmental\", \"protection\"], [\"vinyl\", \"chloride\"], [\"toxic\", \"chemical\"], [\"safety\", \"rule\"], [\"hazardous\", \"chemical\"], [\"north\", \"carolina\"], [\"rail\", \"safety\"], [\"town\", \"hall\"], [\"donald\", \"trump\"], [\"carry\", \"hazardous\"], [\"hazardous\", \"material\"], [\"trump\", \"visit\"], [\"safety\", \"regulation\"], [\"toxic\", \"wreck\"], [\"chemical\", \"spill\"], [\"high\", \"hazard\"], [\"another\", \"derail\"], [\"say\", \"toxins\"], [\"toxins\", \"aboard\"], [\"sound\", \"alarm\"], [\"tell\", \"skip\"], [\"skip\", \"inspection\"], [\"worker\", \"tell\"], [\"leak\", \"audio\"], [\"audio\", \"reveals\"], [\"emergency\", \"service\"], [\"launch\", \"myid\"], [\"myid\", \"emergency\"], [\"service\", \"surveil\"], [\"reveals\", \"us\"], [\"biometrics\", \"1\"], [\"surveil\", \"biometrics\"], [\"1\", \"week\"], [\"inspection\", \"crash\"], [\"farmer\", \"sound\"], [\"scrutiny\", \"industry\"], [\"alarm\", \"launch\"], [\"local\", \"farmer\"], [\"braking\", \"rule\"], [\"derails\", \"railroad\"], [\"crew\", \"ignore\"], [\"railroad\", \"say\"], [\"springfield\", \"saturday\"], [\"crash\", \"prompt\"], [\"ceo\", \"apologize\"], [\"prompt\", \"scrutiny\"], [\"mixed\", \"freight\"], [\"safety\", \"board\"], [\"derails\", \"springfield\"], [\"shelter\", \"place\"], [\"national\", \"transportation\"], [\"tell\", \"shelter\"], [\"near\", \"springfield\"], [\"sue\", \"toxic\"], [\"buttigieg\", \"visit\"], [\"transportation\", \"safety\"], [\"official\", \"say\"], [\"derail\", \"near\"], [\"pete\", \"buttigieg\"], [\"secretary\", \"pete\"], [\"another\", \"derails\"], [\"rail\", \"worker\"], [\"get\", \"sick\"], [\"freight\", \"derail\"], [\"hazardous\", \"material\"], [\"transportation\", \"secretary\"], [\"another\", \"derail\"], [\"mike\", \"dewine\"], [\"biden\", \"administration\"], [\"white\", \"noise\"], [\"cargo\", \"derail\"], [\"resident\", \"tell\"], [\"dump\", \"truck\"], [\"rule\", \"would\"], [\"feb\", \"3\"], [\"gov\", \"mike\"], [\"toxic\", \"chemical\"], [\"last\", \"month\"], [\"ecp\", \"brake\"], [\"chemical\", \"spill\"], [\"roll\", \"back\"], [\"car\", \"derail\"], [\"safety\", \"regulation\"]], \"Freq\": [742.0, 671.0, 585.0, 490.0, 468.0, 463.0, 427.0, 398.0, 395.0, 378.0, 375.0, 345.0, 339.0, 509.0, 342.0, 326.0, 1182.0, 309.0, 358.0, 284.0, 289.0, 268.0, 271.0, 265.0, 260.0, 973.0, 253.0, 300.0, 237.0, 236.0, 585.433025946601, 463.5494178228903, 671.099730657278, 489.9309448709182, 398.2435172243369, 377.69813131825816, 375.49549690260346, 326.30776645941745, 345.3590975764127, 284.46808893223863, 467.7460123424419, 268.31457498709506, 260.24304467804507, 264.61537902174524, 237.48549657859922, 236.0172444107965, 223.5260458691852, 227.18349127400745, 217.65120760268422, 209.5796490786078, 202.9676183815878, 226.41231315274374, 338.5082405282828, 191.2324898862005, 183.15927302099348, 177.2882825579838, 168.4789694958113, 155.98644058774534, 197.71630838806294, 309.02246502452664, 212.9926786655743, 287.55337741089016, 237.57617650775128, 289.6259307921596, 252.6612181637265, 764.1275912863765, 1160.3464494774182, 485.59013023092916, 413.4980338888909, 514.287788224988, 316.31650398232256, 374.4062256472705, 414.4284909613867, 410.8794216904264, 585.1413273085496, 305.7843811600733, 321.28628539749684, 294.3009724675835, 319.09479531351997, 300.4605748331156, 287.69798790870055, 183.86920480617604, 184.59577138299042, 188.9857813808937, 177.26462983684036, 176.53059422154803, 180.1855250290578, 171.3937840846787, 164.7884523005252, 170.64696396397034, 163.32038448527294, 161.8523360415524, 160.38428442277586, 158.91621846602604, 157.4481719422361, 157.4481719422361, 164.76697989159433, 154.5120495325832, 153.77673574266797, 155.97282560055538, 151.57595355891104, 155.96308492575812, 167.67200630238776, 147.16703841523668, 139.83115788013504, 165.45390382172187, 176.4351854510812, 138.36329918509043, 167.6443336732905, 133.95922416486871, 144.20334031141013, 394.18238948214275, 424.7565569173088, 733.0688599941813, 340.07048733120865, 270.50277240986657, 252.028120780518, 216.53084012370107, 166.02541222646113, 348.7073753971866, 475.3799503787399, 272.82882566665387, 942.6292154342426, 315.50373394395365, 681.5944440233388, 405.10554817356916, 202.4736241004485, 300.67331395794315, 965.9353394449925, 343.49875843055884, 524.1742005729576, 344.2471291722558, 402.12326788078116, 268.3061049397687, 294.52402891962544, 255.75814548817925, 311.7210369281056, 197.74728515027383, 383.2096317909158, 242.32497125760057, 641.1054542199541, 257.0707901109388, 227.45107560612175, 290.9231780507062, 265.84531683165926, 232.39629068570278, 238.08392658217875], \"Total\": [742.0, 671.0, 585.0, 490.0, 468.0, 463.0, 427.0, 398.0, 395.0, 378.0, 375.0, 345.0, 339.0, 509.0, 342.0, 326.0, 1182.0, 309.0, 358.0, 284.0, 289.0, 268.0, 271.0, 265.0, 260.0, 973.0, 253.0, 300.0, 237.0, 236.0, 585.8279652487486, 463.9639899532383, 671.7200146154203, 490.3923156251356, 398.6272854228159, 378.0719177413586, 375.8695567521152, 326.68349520833624, 345.77061905789265, 284.8386376969931, 468.36868610462454, 268.6879903359129, 260.61266730226856, 265.01738520451124, 237.85493745233254, 236.38669681397408, 223.9066500196575, 227.57724998366774, 218.03368723977388, 209.95836420263683, 203.35128072406616, 226.84312507863598, 339.16350602037403, 191.60535696489322, 183.5300337225066, 177.6570714188635, 168.84762761345988, 156.36758065447955, 198.21242457490118, 309.79867831049546, 213.62893391588392, 289.9772257630452, 242.25912542503642, 300.25389469329735, 262.0797878352829, 973.4176357811336, 1801.4519036973725, 623.2511103179362, 513.8717983818597, 709.8701382285335, 374.394173401732, 488.1759290489694, 578.4665058687672, 643.794688394324, 1551.0766667535422, 430.17910869512895, 559.3702119796756, 433.1138052558056, 610.0179733642262, 480.0924529425974, 811.8721884816582, 184.24144009295787, 184.9754704749842, 189.37964897811636, 177.63517475943917, 176.90114530194458, 180.571294476754, 171.76293892133876, 165.15667368149738, 171.02891104633449, 163.6886147660853, 162.22055584827532, 160.75249693085829, 159.2844380152165, 157.8163790971686, 157.8163790971686, 165.15667633939321, 154.88026126470822, 154.14623196542834, 156.34832108270615, 151.9441434289752, 156.34832228842575, 168.0927980209864, 147.53996726595855, 140.19967213701426, 165.89071162847839, 176.9011571118742, 138.73161319571759, 168.0928014463684, 134.32743643358464, 144.60385284687652, 395.6420586598065, 427.2054477983072, 742.8390209837347, 342.05797353363124, 271.5910342462785, 253.97443344686684, 218.0069317941937, 166.62476120402798, 358.94167176027787, 509.42065716190007, 283.3366714163333, 1182.5511517806785, 347.933977022399, 878.6576515462613, 481.53278382124915, 212.13570928777344, 347.2016924545808, 1551.0766667535422, 443.36615312089776, 811.8721884816582, 460.9849481286589, 582.8417569244568, 331.7891722700015, 386.110830508878, 315.6400784850946, 432.3582818786992, 212.87041464562475, 648.1808064504012, 303.89581618532947, 1801.4519036973725, 339.86588651165465, 303.89765731752243, 610.0179733642262, 483.7523827955847, 391.25736308244336, 559.3702119796756], \"Category\": [\"Default\", \"Default\", \"Default\", \"Default\", \"Default\", \"Default\", \"Default\", \"Default\", \"Default\", \"Default\", \"Default\", \"Default\", \"Default\", \"Default\", \"Default\", \"Default\", \"Default\", \"Default\", \"Default\", \"Default\", \"Default\", \"Default\", \"Default\", \"Default\", \"Default\", \"Default\", \"Default\", \"Default\", \"Default\", \"Default\", \"Topic1\", \"Topic1\", \"Topic1\", \"Topic1\", \"Topic1\", \"Topic1\", \"Topic1\", \"Topic1\", \"Topic1\", \"Topic1\", \"Topic1\", \"Topic1\", \"Topic1\", \"Topic1\", \"Topic1\", \"Topic1\", \"Topic1\", \"Topic1\", \"Topic1\", \"Topic1\", \"Topic1\", \"Topic1\", \"Topic1\", \"Topic1\", \"Topic1\", \"Topic1\", \"Topic1\", \"Topic1\", \"Topic1\", \"Topic1\", \"Topic1\", \"Topic1\", \"Topic1\", \"Topic1\", \"Topic1\", \"Topic1\", \"Topic1\", \"Topic1\", \"Topic1\", \"Topic1\", \"Topic1\", \"Topic1\", \"Topic1\", \"Topic1\", \"Topic1\", \"Topic1\", \"Topic1\", \"Topic1\", \"Topic1\", \"Topic1\", \"Topic1\", \"Topic2\", \"Topic2\", \"Topic2\", \"Topic2\", \"Topic2\", \"Topic2\", \"Topic2\", \"Topic2\", \"Topic2\", \"Topic2\", \"Topic2\", \"Topic2\", \"Topic2\", \"Topic2\", \"Topic2\", \"Topic2\", \"Topic2\", \"Topic2\", \"Topic2\", \"Topic2\", \"Topic2\", \"Topic2\", \"Topic2\", \"Topic2\", \"Topic2\", \"Topic2\", \"Topic2\", \"Topic2\", \"Topic2\", \"Topic2\", \"Topic2\", \"Topic2\", \"Topic2\", \"Topic2\", \"Topic2\", \"Topic2\", \"Topic2\", \"Topic2\", \"Topic2\", \"Topic2\", \"Topic2\", \"Topic2\", \"Topic2\", \"Topic2\", \"Topic2\", \"Topic2\", \"Topic2\", \"Topic2\", \"Topic2\", \"Topic2\", \"Topic2\", \"Topic2\", \"Topic2\", \"Topic2\", \"Topic2\", \"Topic2\", \"Topic2\", \"Topic2\", \"Topic2\", \"Topic2\", \"Topic2\", \"Topic2\", \"Topic2\", \"Topic2\", \"Topic2\", \"Topic2\"], \"logprob\": [30.0, 29.0, 28.0, 27.0, 26.0, 25.0, 24.0, 23.0, 22.0, 21.0, 20.0, 19.0, 18.0, 17.0, 16.0, 15.0, 14.0, 13.0, 12.0, 11.0, 10.0, 9.0, 8.0, 7.0, 6.0, 5.0, 4.0, 3.0, 2.0, 1.0, -6.6561, -6.8895, -6.5195, -6.8342, -7.0414, -7.0943, -7.1002, -7.2406, -7.1838, -7.3778, -6.8805, -7.4363, -7.4668, -7.4501, -7.5583, -7.5645, -7.6189, -7.6027, -7.6455, -7.6833, -7.7154, -7.6061, -7.2039, -7.7749, -7.8181, -7.8506, -7.9016, -7.9786, -7.7416, -7.295, -7.6672, -7.367, -7.5579, -7.3598, -7.4964, -6.3897, -5.9719, -6.8431, -7.0038, -6.7856, -7.2717, -7.1031, -7.0015, -7.0101, -6.6566, -7.3055, -7.2561, -7.3438, -7.2629, -7.3231, -7.3665, -7.8142, -7.8102, -7.7867, -7.8508, -7.8549, -7.8344, -7.8844, -7.9237, -7.8888, -7.9327, -7.9417, -7.9508, -7.96, -7.9693, -7.9693, -7.9239, -7.9881, -7.9929, -7.9787, -8.0073, -7.9788, -7.9064, -8.0368, -8.088, -7.9197, -7.8555, -8.0985, -7.9066, -8.1309, -8.0572, -7.0516, -6.9769, -6.4312, -7.1993, -7.4281, -7.4989, -7.6507, -7.9163, -7.1742, -6.8643, -7.4196, -6.1797, -7.2742, -6.504, -7.0243, -7.7178, -7.3224, -6.1553, -7.1892, -6.7666, -7.187, -7.0316, -7.4363, -7.343, -7.4842, -7.2863, -7.7414, -7.0798, -7.5381, -6.5652, -7.4791, -7.6015, -7.3553, -7.4455, -7.58, -7.5558], \"loglift\": [30.0, 29.0, 28.0, 27.0, 26.0, 25.0, 24.0, 23.0, 22.0, 21.0, 20.0, 19.0, 18.0, 17.0, 16.0, 15.0, 14.0, 13.0, 12.0, 11.0, 10.0, 9.0, 8.0, 7.0, 6.0, 5.0, 4.0, 3.0, 2.0, 1.0, 0.6925, 0.6922, 0.6922, 0.6922, 0.6922, 0.6922, 0.6921, 0.692, 0.6919, 0.6918, 0.6918, 0.6917, 0.6917, 0.6916, 0.6916, 0.6916, 0.6914, 0.6914, 0.6914, 0.6913, 0.6913, 0.6912, 0.6912, 0.6912, 0.6911, 0.6911, 0.691, 0.6907, 0.6906, 0.6906, 0.6902, 0.6847, 0.6736, 0.6571, 0.6565, 0.4511, 0.2533, 0.4436, 0.4758, 0.3708, 0.5246, 0.4278, 0.3597, 0.2441, -0.2817, 0.3518, 0.1387, 0.3067, 0.0451, 0.2245, -0.3443, 0.6911, 0.6911, 0.6911, 0.6911, 0.6911, 0.691, 0.691, 0.6909, 0.6909, 0.6909, 0.6909, 0.6909, 0.6908, 0.6908, 0.6908, 0.6908, 0.6908, 0.6908, 0.6907, 0.6907, 0.6907, 0.6906, 0.6906, 0.6905, 0.6905, 0.6905, 0.6905, 0.6905, 0.6904, 0.6904, 0.6895, 0.6874, 0.6799, 0.6873, 0.6891, 0.6855, 0.6864, 0.6896, 0.6642, 0.624, 0.6554, 0.4664, 0.5953, 0.4392, 0.5203, 0.6465, 0.5493, 0.2195, 0.4379, 0.2556, 0.4011, 0.322, 0.4808, 0.4224, 0.4828, 0.366, 0.6195, 0.1676, 0.4667, -0.34, 0.414, 0.4034, -0.0473, 0.0945, 0.1722, -0.161]}, \"token.table\": {\"Topic\": [2, 1, 1, 2, 1, 2, 1, 2, 1, 2, 2, 1, 2, 2, 2, 1, 2, 1, 2, 1, 2, 1, 2, 1, 1, 2, 1, 2, 1, 1, 2, 1, 2, 1, 2, 2, 1, 1, 1, 1, 2, 1, 1, 2, 1, 2, 1, 2, 1, 2, 1, 2, 1, 2, 1, 2, 1, 2, 1, 2, 1, 2, 1, 2, 1, 2, 1, 2, 1, 2, 1, 1, 2, 1, 2, 1, 2, 1, 2, 1, 2, 2, 2, 2, 1, 2, 2, 2, 1, 2, 1, 2, 1, 2, 1, 2, 1, 1, 1, 2, 1, 2, 1, 2, 1, 1, 2, 1, 2, 2, 1, 2, 1, 2, 2, 1, 2, 1, 1, 2, 1, 2, 1, 2, 1, 2, 2, 2, 1, 2, 2, 1, 2, 1, 2, 2, 2, 2, 1, 1, 2, 2, 1, 2, 2, 1, 1, 2, 1, 2, 1, 1, 2, 2, 1, 2, 1, 2, 1, 1, 2, 1, 1, 1, 2, 1, 2, 2], \"Freq\": [0.9990513472245515, 1.000198305018813, 0.9991999963852707, 1.0003676125302645, 0.3547356395328801, 0.6454217885945457, 0.2242056387414592, 0.7761839879272852, 0.997055951624364, 0.00468101385739138, 0.9990513633024631, 0.3105474133409761, 0.6897240892987424, 0.9948270318845298, 0.9994479357707233, 0.006001508976061032, 0.9962504900261314, 0.999517913874955, 0.0029484304244098967, 0.406382128498107, 0.5929600868651624, 0.23827355445779086, 0.7640293322287859, 0.9976865464720552, 0.6384022847797444, 0.36191662373158257, 0.9982725423571696, 0.9994479154040512, 0.9985866751028231, 0.9974219440997906, 0.0032279027317145327, 0.5229354116252132, 0.4770351247114014, 0.9999343997583486, 0.9947264132603616, 0.9985758016836221, 0.9977712997709512, 0.9974394451532695, 0.9962832240194905, 0.038823072018929254, 0.9635180601061533, 0.997112005529798, 0.9989281030790299, 0.0014887155038435618, 1.0000776138828475, 0.9963401966533909, 0.004681588238884637, 0.9948375007629855, 0.7156853435761783, 0.2835082037354909, 0.2798604885610756, 0.721623739099633, 0.25008419173364227, 0.7469619937307473, 1.0004169147291262, 0.9998309581335834, 0.9653548718492189, 0.0343406871408813, 0.9992128293040022, 0.0021350701480854746, 0.9968406052185476, 0.9990513425883732, 0.40883654277146175, 0.5908845127602635, 0.1353680037321486, 0.8669312579441857, 0.04713963544173728, 0.9522206359230929, 0.2040172871685393, 0.7963255402384922, 0.9974634987297317, 0.8037024045695897, 0.19460106648174086, 0.3771573723847097, 0.622793199527572, 0.6248796417465653, 0.37492778504793917, 0.9984263861362362, 1.0007731051995523, 0.24421397761305993, 0.7561806294765832, 0.9957931419538901, 0.9955581866138878, 0.997772139263617, 0.25380438227962665, 0.7462282692665946, 0.9958240888123779, 0.9986403951883779, 0.00584696207879323, 0.993983553394849, 0.007874808392547958, 0.9922258574610429, 0.7240760983166252, 0.27610683904680655, 0.06674248388242016, 0.9324317601220463, 0.9998454952525898, 0.9970557446006141, 0.2029510517482558, 0.7974285074941885, 0.9983641346184621, 0.9975624009340301, 0.982419133159323, 0.02063905741931351, 0.9979077755125022, 0.8440302292336319, 0.15491694080870458, 0.15782933697036114, 0.8410642299078456, 0.9946307323675048, 0.9931814446536539, 0.0068970933656503745, 0.19008992865534777, 0.8110503622628171, 0.9982142761793884, 0.4506437751069817, 0.54986809256173, 0.9949799258334838, 0.07046540509150225, 0.9301433472078297, 0.002527537146549558, 0.9958496357405258, 0.5738596606064239, 0.42547850225647627, 0.7797820043225901, 0.2214195814743157, 0.9986895451271112, 0.997772146958189, 0.09197147192652567, 0.908218285274441, 0.9953189098444801, 0.013461866861486482, 0.9867548409469592, 0.9658492533335113, 0.036635661333340085, 1.000558813216764, 0.9979953021342846, 0.9949058721458544, 0.996301462060498, 0.004587010109128253, 0.9953811936808309, 0.9948270318845298, 0.0036820066714470436, 0.9978238079621488, 0.9964242737380176, 0.9998097776164169, 0.7661172494280923, 0.23352237014653082, 0.6439250460249143, 0.3558240987085949, 0.9964056350417201, 0.6788054234991604, 0.32093181587205205, 1.0001326096100893, 0.02785967968266048, 0.9723028209248508, 0.22554721260540572, 0.7736269392365417, 0.9976492527866644, 0.7113316147039219, 0.28825202687348467, 0.9976491269261368, 0.9989282983881724, 0.7848635281678626, 0.21470743113492577, 0.18987961412053622, 0.8077418505445033, 0.9968361833013966], \"Term\": [[\"1\", \"week\"], [\"alabama\", \"ceo\"], [\"alabama\", \"hour\"], [\"alarm\", \"launch\"], [\"another\", \"derail\"], [\"another\", \"derail\"], [\"another\", \"derails\"], [\"another\", \"derails\"], [\"apply\", \"derailed\"], [\"apply\", \"derailed\"], [\"audio\", \"reveals\"], [\"biden\", \"administration\"], [\"biden\", \"administration\"], [\"biometrics\", \"1\"], [\"braking\", \"rule\"], [\"buttigieg\", \"visit\"], [\"buttigieg\", \"visit\"], [\"calhoun\", \"county\"], [\"calhoun\", \"county\"], [\"car\", \"derail\"], [\"car\", \"derail\"], [\"cargo\", \"derail\"], [\"cargo\", \"derail\"], [\"carolina\", \"danger\"], [\"carry\", \"hazardous\"], [\"carry\", \"hazardous\"], [\"categorize\", \"high\"], [\"ceo\", \"apologize\"], [\"ceo\", \"testifies\"], [\"ceo\", \"testify\"], [\"ceo\", \"testify\"], [\"chemical\", \"spill\"], [\"chemical\", \"spill\"], [\"county\", \"alabama\"], [\"crash\", \"prompt\"], [\"crew\", \"ignore\"], [\"danger\", \"public\"], [\"demand\", \"pay\"], [\"derail\", \"alabama\"], [\"derail\", \"near\"], [\"derail\", \"near\"], [\"derailed\", \"categorize\"], [\"derails\", \"alabama\"], [\"derails\", \"alabama\"], [\"derails\", \"north\"], [\"derails\", \"railroad\"], [\"derails\", \"springfield\"], [\"derails\", \"springfield\"], [\"donald\", \"trump\"], [\"donald\", \"trump\"], [\"dump\", \"truck\"], [\"dump\", \"truck\"], [\"ecp\", \"brake\"], [\"ecp\", \"brake\"], [\"effect\", \"would\"], [\"emergency\", \"service\"], [\"environmental\", \"protection\"], [\"environmental\", \"protection\"], [\"epa\", \"order\"], [\"epa\", \"order\"], [\"even\", \"safety\"], [\"farmer\", \"sound\"], [\"feb\", \"3\"], [\"feb\", \"3\"], [\"freight\", \"derail\"], [\"freight\", \"derail\"], [\"get\", \"sick\"], [\"get\", \"sick\"], [\"gov\", \"mike\"], [\"gov\", \"mike\"], [\"hazard\", \"cargo\"], [\"hazardous\", \"chemical\"], [\"hazardous\", \"chemical\"], [\"hazardous\", \"material\"], [\"hazardous\", \"material\"], [\"high\", \"hazard\"], [\"high\", \"hazard\"], [\"hour\", \"ceo\"], [\"inspection\", \"crash\"], [\"last\", \"month\"], [\"last\", \"month\"], [\"launch\", \"myid\"], [\"leak\", \"audio\"], [\"local\", \"farmer\"], [\"mike\", \"dewine\"], [\"mike\", \"dewine\"], [\"mixed\", \"freight\"], [\"myid\", \"emergency\"], [\"national\", \"transportation\"], [\"national\", \"transportation\"], [\"near\", \"springfield\"], [\"near\", \"springfield\"], [\"north\", \"carolina\"], [\"north\", \"carolina\"], [\"official\", \"say\"], [\"official\", \"say\"], [\"order\", \"clean\"], [\"pay\", \"toxic\"], [\"pete\", \"buttigieg\"], [\"pete\", \"buttigieg\"], [\"petition\", \"via\"], [\"prompt\", \"scrutiny\"], [\"protection\", \"agency\"], [\"protection\", \"agency\"], [\"public\", \"report\"], [\"rail\", \"safety\"], [\"rail\", \"safety\"], [\"rail\", \"worker\"], [\"rail\", \"worker\"], [\"railroad\", \"say\"], [\"release\", \"toxic\"], [\"release\", \"toxic\"], [\"resident\", \"tell\"], [\"resident\", \"tell\"], [\"reveals\", \"us\"], [\"roll\", \"back\"], [\"roll\", \"back\"], [\"rule\", \"still\"], [\"rule\", \"would\"], [\"rule\", \"would\"], [\"safety\", \"board\"], [\"safety\", \"board\"], [\"safety\", \"regulation\"], [\"safety\", \"regulation\"], [\"safety\", \"rule\"], [\"safety\", \"rule\"], [\"say\", \"toxins\"], [\"scrutiny\", \"industry\"], [\"secretary\", \"pete\"], [\"secretary\", \"pete\"], [\"service\", \"surveil\"], [\"shelter\", \"place\"], [\"shelter\", \"place\"], [\"sign\", \"petition\"], [\"sign\", \"petition\"], [\"skip\", \"inspection\"], [\"sound\", \"alarm\"], [\"springfield\", \"saturday\"], [\"still\", \"effect\"], [\"sue\", \"toxic\"], [\"sue\", \"toxic\"], [\"surveil\", \"biometrics\"], [\"tell\", \"shelter\"], [\"tell\", \"shelter\"], [\"tell\", \"skip\"], [\"testifies\", \"congress\"], [\"town\", \"hall\"], [\"town\", \"hall\"], [\"toxic\", \"chemical\"], [\"toxic\", \"chemical\"], [\"toxic\", \"sign\"], [\"toxic\", \"wreck\"], [\"toxic\", \"wreck\"], [\"toxins\", \"aboard\"], [\"transportation\", \"safety\"], [\"transportation\", \"safety\"], [\"transportation\", \"secretary\"], [\"transportation\", \"secretary\"], [\"truckloads\", \"water\"], [\"trump\", \"visit\"], [\"trump\", \"visit\"], [\"via\", \"change\"], [\"via\", \"youtube\"], [\"vinyl\", \"chloride\"], [\"vinyl\", \"chloride\"], [\"white\", \"noise\"], [\"white\", \"noise\"], [\"worker\", \"tell\"]]}, \"R\": 30, \"lambda.step\": 0.01, \"plot.opts\": {\"xlab\": \"PC1\", \"ylab\": \"PC2\"}, \"topic.order\": [1, 2]};\n",
       "\n",
       "function LDAvis_load_lib(url, callback){\n",
       "  var s = document.createElement('script');\n",
       "  s.src = url;\n",
       "  s.async = true;\n",
       "  s.onreadystatechange = s.onload = callback;\n",
       "  s.onerror = function(){console.warn(\"failed to load library \" + url);};\n",
       "  document.getElementsByTagName(\"head\")[0].appendChild(s);\n",
       "}\n",
       "\n",
       "if(typeof(LDAvis) !== \"undefined\"){\n",
       "   // already loaded: just create the visualization\n",
       "   !function(LDAvis){\n",
       "       new LDAvis(\"#\" + \"ldavis_el565265745150544825531491\", ldavis_el565265745150544825531491_data);\n",
       "   }(LDAvis);\n",
       "}else if(typeof define === \"function\" && define.amd){\n",
       "   // require.js is available: use it to load d3/LDAvis\n",
       "   require.config({paths: {d3: \"https://d3js.org/d3.v5\"}});\n",
       "   require([\"d3\"], function(d3){\n",
       "      window.d3 = d3;\n",
       "      LDAvis_load_lib(\"https://cdn.jsdelivr.net/gh/bmabey/pyLDAvis@3.3.1/pyLDAvis/js/ldavis.v3.0.0.js\", function(){\n",
       "        new LDAvis(\"#\" + \"ldavis_el565265745150544825531491\", ldavis_el565265745150544825531491_data);\n",
       "      });\n",
       "    });\n",
       "}else{\n",
       "    // require.js not available: dynamically load d3 & LDAvis\n",
       "    LDAvis_load_lib(\"https://d3js.org/d3.v5.js\", function(){\n",
       "         LDAvis_load_lib(\"https://cdn.jsdelivr.net/gh/bmabey/pyLDAvis@3.3.1/pyLDAvis/js/ldavis.v3.0.0.js\", function(){\n",
       "                 new LDAvis(\"#\" + \"ldavis_el565265745150544825531491\", ldavis_el565265745150544825531491_data);\n",
       "            })\n",
       "         });\n",
       "}\n",
       "</script>"
      ],
      "text/plain": [
       "<IPython.core.display.HTML object>"
      ]
     },
     "execution_count": 60,
     "metadata": {},
     "output_type": "execute_result"
    }
   ],
   "source": [
    "from sklearn.pipeline import make_pipeline\n",
    "pipeline = make_pipeline(bigram, lda_model)\n",
    "vis_data = pyLDAvis.sklearn.prepare(lda_model, bigram_tokens, bigram)\n",
    "pyLDAvis.display(vis_data)"
   ]
  },
  {
   "attachments": {},
   "cell_type": "markdown",
   "metadata": {},
   "source": [
    "## people 4 topics"
   ]
  },
  {
   "cell_type": "code",
   "execution_count": 67,
   "metadata": {},
   "outputs": [
    {
     "name": "stderr",
     "output_type": "stream",
     "text": [
      "/Users/ribarragi/miniconda3/envs/Intro_AI/lib/python3.9/site-packages/sklearn/utils/deprecation.py:87: FutureWarning: Function get_feature_names is deprecated; get_feature_names is deprecated in 1.0 and will be removed in 1.2. Please use get_feature_names_out instead.\n",
      "  warnings.warn(msg, category=FutureWarning)\n",
      "/Users/ribarragi/miniconda3/envs/Intro_AI/lib/python3.9/site-packages/pyLDAvis/_prepare.py:246: FutureWarning: In a future version of pandas all arguments of DataFrame.drop except for the argument 'labels' will be keyword-only.\n",
      "  default_term_info = default_term_info.sort_values(\n",
      "/Users/ribarragi/miniconda3/envs/Intro_AI/lib/python3.9/site-packages/joblib/backports.py:36: DeprecationWarning: distutils Version classes are deprecated. Use packaging.version instead.\n",
      "  if LooseVersion(np.__version__) < '1.13':\n",
      "/Users/ribarragi/miniconda3/envs/Intro_AI/lib/python3.9/site-packages/joblib/backports.py:36: DeprecationWarning: distutils Version classes are deprecated. Use packaging.version instead.\n",
      "  if LooseVersion(np.__version__) < '1.13':\n",
      "/Users/ribarragi/miniconda3/envs/Intro_AI/lib/python3.9/site-packages/joblib/backports.py:36: DeprecationWarning: distutils Version classes are deprecated. Use packaging.version instead.\n",
      "  if LooseVersion(np.__version__) < '1.13':\n",
      "/Users/ribarragi/miniconda3/envs/Intro_AI/lib/python3.9/site-packages/setuptools/_distutils/version.py:346: DeprecationWarning: distutils Version classes are deprecated. Use packaging.version instead.\n",
      "  other = LooseVersion(other)\n",
      "/Users/ribarragi/miniconda3/envs/Intro_AI/lib/python3.9/site-packages/setuptools/_distutils/version.py:346: DeprecationWarning: distutils Version classes are deprecated. Use packaging.version instead.\n",
      "  other = LooseVersion(other)\n",
      "/Users/ribarragi/miniconda3/envs/Intro_AI/lib/python3.9/site-packages/setuptools/_distutils/version.py:346: DeprecationWarning: distutils Version classes are deprecated. Use packaging.version instead.\n",
      "  other = LooseVersion(other)\n",
      "/Users/ribarragi/miniconda3/envs/Intro_AI/lib/python3.9/site-packages/joblib/backports.py:36: DeprecationWarning: distutils Version classes are deprecated. Use packaging.version instead.\n",
      "  if LooseVersion(np.__version__) < '1.13':\n",
      "/Users/ribarragi/miniconda3/envs/Intro_AI/lib/python3.9/site-packages/joblib/backports.py:36: DeprecationWarning: distutils Version classes are deprecated. Use packaging.version instead.\n",
      "  if LooseVersion(np.__version__) < '1.13':\n",
      "/Users/ribarragi/miniconda3/envs/Intro_AI/lib/python3.9/site-packages/joblib/backports.py:36: DeprecationWarning: distutils Version classes are deprecated. Use packaging.version instead.\n",
      "  if LooseVersion(np.__version__) < '1.13':\n",
      "/Users/ribarragi/miniconda3/envs/Intro_AI/lib/python3.9/site-packages/setuptools/_distutils/version.py:346: DeprecationWarning: distutils Version classes are deprecated. Use packaging.version instead.\n",
      "  other = LooseVersion(other)\n",
      "/Users/ribarragi/miniconda3/envs/Intro_AI/lib/python3.9/site-packages/setuptools/_distutils/version.py:346: DeprecationWarning: distutils Version classes are deprecated. Use packaging.version instead.\n",
      "  other = LooseVersion(other)\n",
      "/Users/ribarragi/miniconda3/envs/Intro_AI/lib/python3.9/site-packages/setuptools/_distutils/version.py:346: DeprecationWarning: distutils Version classes are deprecated. Use packaging.version instead.\n",
      "  other = LooseVersion(other)\n",
      "/Users/ribarragi/miniconda3/envs/Intro_AI/lib/python3.9/site-packages/joblib/backports.py:36: DeprecationWarning: distutils Version classes are deprecated. Use packaging.version instead.\n",
      "  if LooseVersion(np.__version__) < '1.13':\n",
      "/Users/ribarragi/miniconda3/envs/Intro_AI/lib/python3.9/site-packages/setuptools/_distutils/version.py:346: DeprecationWarning: distutils Version classes are deprecated. Use packaging.version instead.\n",
      "  other = LooseVersion(other)\n",
      "/Users/ribarragi/miniconda3/envs/Intro_AI/lib/python3.9/site-packages/joblib/backports.py:36: DeprecationWarning: distutils Version classes are deprecated. Use packaging.version instead.\n",
      "  if LooseVersion(np.__version__) < '1.13':\n",
      "/Users/ribarragi/miniconda3/envs/Intro_AI/lib/python3.9/site-packages/joblib/backports.py:36: DeprecationWarning: distutils Version classes are deprecated. Use packaging.version instead.\n",
      "  if LooseVersion(np.__version__) < '1.13':\n",
      "/Users/ribarragi/miniconda3/envs/Intro_AI/lib/python3.9/site-packages/setuptools/_distutils/version.py:346: DeprecationWarning: distutils Version classes are deprecated. Use packaging.version instead.\n",
      "  other = LooseVersion(other)\n",
      "/Users/ribarragi/miniconda3/envs/Intro_AI/lib/python3.9/site-packages/joblib/backports.py:36: DeprecationWarning: distutils Version classes are deprecated. Use packaging.version instead.\n",
      "  if LooseVersion(np.__version__) < '1.13':\n",
      "/Users/ribarragi/miniconda3/envs/Intro_AI/lib/python3.9/site-packages/setuptools/_distutils/version.py:346: DeprecationWarning: distutils Version classes are deprecated. Use packaging.version instead.\n",
      "  other = LooseVersion(other)\n",
      "/Users/ribarragi/miniconda3/envs/Intro_AI/lib/python3.9/site-packages/setuptools/_distutils/version.py:346: DeprecationWarning: distutils Version classes are deprecated. Use packaging.version instead.\n",
      "  other = LooseVersion(other)\n",
      "/Users/ribarragi/miniconda3/envs/Intro_AI/lib/python3.9/site-packages/joblib/backports.py:36: DeprecationWarning: distutils Version classes are deprecated. Use packaging.version instead.\n",
      "  if LooseVersion(np.__version__) < '1.13':\n",
      "/Users/ribarragi/miniconda3/envs/Intro_AI/lib/python3.9/site-packages/setuptools/_distutils/version.py:346: DeprecationWarning: distutils Version classes are deprecated. Use packaging.version instead.\n",
      "  other = LooseVersion(other)\n",
      "/Users/ribarragi/miniconda3/envs/Intro_AI/lib/python3.9/site-packages/joblib/backports.py:36: DeprecationWarning: distutils Version classes are deprecated. Use packaging.version instead.\n",
      "  if LooseVersion(np.__version__) < '1.13':\n",
      "/Users/ribarragi/miniconda3/envs/Intro_AI/lib/python3.9/site-packages/setuptools/_distutils/version.py:346: DeprecationWarning: distutils Version classes are deprecated. Use packaging.version instead.\n",
      "  other = LooseVersion(other)\n",
      "/Users/ribarragi/miniconda3/envs/Intro_AI/lib/python3.9/site-packages/joblib/backports.py:36: DeprecationWarning: distutils Version classes are deprecated. Use packaging.version instead.\n",
      "  if LooseVersion(np.__version__) < '1.13':\n",
      "/Users/ribarragi/miniconda3/envs/Intro_AI/lib/python3.9/site-packages/setuptools/_distutils/version.py:346: DeprecationWarning: distutils Version classes are deprecated. Use packaging.version instead.\n",
      "  other = LooseVersion(other)\n",
      "/Users/ribarragi/miniconda3/envs/Intro_AI/lib/python3.9/site-packages/joblib/backports.py:36: DeprecationWarning: distutils Version classes are deprecated. Use packaging.version instead.\n",
      "  if LooseVersion(np.__version__) < '1.13':\n",
      "/Users/ribarragi/miniconda3/envs/Intro_AI/lib/python3.9/site-packages/setuptools/_distutils/version.py:346: DeprecationWarning: distutils Version classes are deprecated. Use packaging.version instead.\n",
      "  other = LooseVersion(other)\n",
      "/Users/ribarragi/miniconda3/envs/Intro_AI/lib/python3.9/site-packages/joblib/backports.py:36: DeprecationWarning: distutils Version classes are deprecated. Use packaging.version instead.\n",
      "  if LooseVersion(np.__version__) < '1.13':\n",
      "/Users/ribarragi/miniconda3/envs/Intro_AI/lib/python3.9/site-packages/setuptools/_distutils/version.py:346: DeprecationWarning: distutils Version classes are deprecated. Use packaging.version instead.\n",
      "  other = LooseVersion(other)\n",
      "/Users/ribarragi/miniconda3/envs/Intro_AI/lib/python3.9/site-packages/joblib/backports.py:36: DeprecationWarning: distutils Version classes are deprecated. Use packaging.version instead.\n",
      "  if LooseVersion(np.__version__) < '1.13':\n",
      "/Users/ribarragi/miniconda3/envs/Intro_AI/lib/python3.9/site-packages/setuptools/_distutils/version.py:346: DeprecationWarning: distutils Version classes are deprecated. Use packaging.version instead.\n",
      "  other = LooseVersion(other)\n",
      "/Users/ribarragi/miniconda3/envs/Intro_AI/lib/python3.9/site-packages/joblib/backports.py:36: DeprecationWarning: distutils Version classes are deprecated. Use packaging.version instead.\n",
      "  if LooseVersion(np.__version__) < '1.13':\n",
      "/Users/ribarragi/miniconda3/envs/Intro_AI/lib/python3.9/site-packages/setuptools/_distutils/version.py:346: DeprecationWarning: distutils Version classes are deprecated. Use packaging.version instead.\n",
      "  other = LooseVersion(other)\n",
      "/Users/ribarragi/miniconda3/envs/Intro_AI/lib/python3.9/site-packages/joblib/backports.py:36: DeprecationWarning: distutils Version classes are deprecated. Use packaging.version instead.\n",
      "  if LooseVersion(np.__version__) < '1.13':\n",
      "/Users/ribarragi/miniconda3/envs/Intro_AI/lib/python3.9/site-packages/setuptools/_distutils/version.py:346: DeprecationWarning: distutils Version classes are deprecated. Use packaging.version instead.\n",
      "  other = LooseVersion(other)\n",
      "/Users/ribarragi/miniconda3/envs/Intro_AI/lib/python3.9/site-packages/joblib/backports.py:36: DeprecationWarning: distutils Version classes are deprecated. Use packaging.version instead.\n",
      "  if LooseVersion(np.__version__) < '1.13':\n",
      "/Users/ribarragi/miniconda3/envs/Intro_AI/lib/python3.9/site-packages/setuptools/_distutils/version.py:346: DeprecationWarning: distutils Version classes are deprecated. Use packaging.version instead.\n",
      "  other = LooseVersion(other)\n",
      "/Users/ribarragi/miniconda3/envs/Intro_AI/lib/python3.9/site-packages/joblib/backports.py:36: DeprecationWarning: distutils Version classes are deprecated. Use packaging.version instead.\n",
      "  if LooseVersion(np.__version__) < '1.13':\n",
      "/Users/ribarragi/miniconda3/envs/Intro_AI/lib/python3.9/site-packages/joblib/backports.py:36: DeprecationWarning: distutils Version classes are deprecated. Use packaging.version instead.\n",
      "  if LooseVersion(np.__version__) < '1.13':\n",
      "/Users/ribarragi/miniconda3/envs/Intro_AI/lib/python3.9/site-packages/setuptools/_distutils/version.py:346: DeprecationWarning: distutils Version classes are deprecated. Use packaging.version instead.\n",
      "  other = LooseVersion(other)\n",
      "/Users/ribarragi/miniconda3/envs/Intro_AI/lib/python3.9/site-packages/setuptools/_distutils/version.py:346: DeprecationWarning: distutils Version classes are deprecated. Use packaging.version instead.\n",
      "  other = LooseVersion(other)\n",
      "/Users/ribarragi/miniconda3/envs/Intro_AI/lib/python3.9/site-packages/joblib/backports.py:36: DeprecationWarning: distutils Version classes are deprecated. Use packaging.version instead.\n",
      "  if LooseVersion(np.__version__) < '1.13':\n",
      "/Users/ribarragi/miniconda3/envs/Intro_AI/lib/python3.9/site-packages/setuptools/_distutils/version.py:346: DeprecationWarning: distutils Version classes are deprecated. Use packaging.version instead.\n",
      "  other = LooseVersion(other)\n"
     ]
    },
    {
     "data": {
      "text/html": [
       "\n",
       "<link rel=\"stylesheet\" type=\"text/css\" href=\"https://cdn.jsdelivr.net/gh/bmabey/pyLDAvis@3.3.1/pyLDAvis/js/ldavis.v1.0.0.css\">\n",
       "\n",
       "\n",
       "<div id=\"ldavis_el56526110319492008056636927\"></div>\n",
       "<script type=\"text/javascript\">\n",
       "\n",
       "var ldavis_el56526110319492008056636927_data = {\"mdsDat\": {\"x\": [-0.01749289488246465, -0.11152692778676687, 0.16411115271702395, -0.035091330047792406], \"y\": [-0.1672181941595839, 0.05996481993307503, 0.03778178514050377, 0.06947158908600515], \"topics\": [1, 2, 3, 4], \"cluster\": [1, 1, 1, 1], \"Freq\": [25.691713724762362, 25.65687427695557, 24.744529660660778, 23.90688233762129]}, \"tinfo\": {\"Term\": [[\"ceo\", \"testifies\"], [\"shelter\", \"place\"], [\"derails\", \"north\"], [\"north\", \"carolina\"], [\"hour\", \"ceo\"], [\"testifies\", \"congress\"], [\"would\", \"apply\"], [\"carolina\", \"danger\"], [\"high\", \"hazard\"], [\"another\", \"derails\"], [\"derails\", \"alabama\"], [\"danger\", \"public\"], [\"public\", \"report\"], [\"tell\", \"shelter\"], [\"demand\", \"pay\"], [\"via\", \"change\"], [\"hazardous\", \"material\"], [\"derails\", \"springfield\"], [\"pay\", \"toxic\"], [\"toxic\", \"sign\"], [\"rail\", \"worker\"], [\"petition\", \"via\"], [\"resident\", \"tell\"], [\"hazard\", \"cargo\"], [\"alabama\", \"hour\"], [\"effect\", \"would\"], [\"sign\", \"petition\"], [\"calhoun\", \"county\"], [\"apply\", \"derailed\"], [\"safety\", \"board\"], [\"tell\", \"shelter\"], [\"toxins\", \"aboard\"], [\"say\", \"toxins\"], [\"railroad\", \"say\"], [\"derails\", \"railroad\"], [\"pr\", \"push\"], [\"multimillion\", \"dollar\"], [\"craft\", \"illusion\"], [\"dollar\", \"pr\"], [\"firm\", \"multimillion\"], [\"illusion\", \"us\"], [\"die\", \"near\"], [\"sick\", \"die\"], [\"break\", \"derail\"], [\"mickey\", \"mouse\"], [\"like\", \"mickey\"], [\"another\", \"trail\"], [\"mouse\", \"resident\"], [\"ask\", \"shelter\"], [\"issue\", \"another\"], [\"site\", \"pay\"], [\"trainderailment\", \"chemicalspill\"], [\"resident\", \"shock\"], [\"shock\", \"illness\"], [\"place\", \"issue\"], [\"trump\", \"repealing\"], [\"live\", \"lose\"], [\"incident\", \"since\"], [\"cargo\", \"derails\"], [\"repealing\", \"would\"], [\"derail\", \"calhoun\"], [\"order\", \"clean\"], [\"sue\", \"toxic\"], [\"clean\", \"site\"], [\"shelter\", \"place\"], [\"resident\", \"tell\"], [\"animal\", \"fall\"], [\"calhoun\", \"county\"], [\"county\", \"alabama\"], [\"another\", \"derails\"], [\"rail\", \"firm\"], [\"derails\", \"springfield\"], [\"fall\", \"sick\"], [\"hazardous\", \"material\"], [\"vinyl\", \"chloride\"], [\"another\", \"derail\"], [\"toxic\", \"chemical\"], [\"epa\", \"order\"], [\"mike\", \"dewine\"], [\"derails\", \"alabama\"], [\"carry\", \"hazardous\"], [\"pete\", \"buttigieg\"], [\"two\", \"week\"], [\"gov\", \"mike\"], [\"chemical\", \"spill\"], [\"transportation\", \"secretary\"], [\"toxic\", \"disaster\"], [\"dump\", \"truck\"], [\"donald\", \"trump\"], [\"demand\", \"pay\"], [\"via\", \"change\"], [\"toxic\", \"sign\"], [\"petition\", \"via\"], [\"worker\", \"tell\"], [\"tell\", \"skip\"], [\"skip\", \"inspection\"], [\"audio\", \"reveals\"], [\"reveals\", \"us\"], [\"scrutiny\", \"industry\"], [\"inspection\", \"crash\"], [\"employee\", \"kill\"], [\"crash\", \"prompt\"], [\"prompt\", \"scrutiny\"], [\"crash\", \"dump\"], [\"campaign\", \"cash\"], [\"politician\", \"campaign\"], [\"cash\", \"extensive\"], [\"order\", \"test\"], [\"worker\", \"fall\"], [\"say\", \"knew\"], [\"cleveland\", \"employee\"], [\"clean\", \"toxic\"], [\"noise\", \"2022\"], [\"answer\", \"visit\"], [\"stumble\", \"answer\"], [\"worker\", \"clean\"], [\"derail\", \"dangerous\"], [\"knew\", \"derail\"], [\"biden\", \"stumble\"], [\"pay\", \"toxic\"], [\"epa\", \"tell\"], [\"truck\", \"cleveland\"], [\"sign\", \"petition\"], [\"leak\", \"audio\"], [\"rail\", \"worker\"], [\"chemical\", \"explosion\"], [\"worker\", \"say\"], [\"trump\", \"visit\"], [\"toxic\", \"chemical\"], [\"buttigieg\", \"visit\"], [\"safety\", \"board\"], [\"dump\", \"truck\"], [\"us\", \"rail\"], [\"pete\", \"buttigieg\"], [\"transportation\", \"safety\"], [\"vinyl\", \"chloride\"], [\"national\", \"transportation\"], [\"roll\", \"back\"], [\"official\", \"say\"], [\"toxic\", \"waste\"], [\"donald\", \"trump\"], [\"safety\", \"regulation\"], [\"transportation\", \"secretary\"], [\"feb\", \"3\"], [\"white\", \"noise\"], [\"ceo\", \"testifies\"], [\"derails\", \"north\"], [\"hour\", \"ceo\"], [\"testifies\", \"congress\"], [\"carolina\", \"danger\"], [\"danger\", \"public\"], [\"public\", \"report\"], [\"effect\", \"would\"], [\"apply\", \"derailed\"], [\"hazard\", \"cargo\"], [\"categorize\", \"high\"], [\"even\", \"safety\"], [\"derailed\", \"categorize\"], [\"still\", \"effect\"], [\"rule\", \"still\"], [\"braking\", \"rule\"], [\"trump\", \"delivers\"], [\"truckloads\", \"water\"], [\"delivers\", \"truckloads\"], [\"flammable\", \"liquid\"], [\"mixed\", \"freight\"], [\"crew\", \"ignore\"], [\"flammable\", \"train\"], [\"class\", \"3\"], [\"derail\", \"mixed\"], [\"3\", \"flammable\"], [\"freight\", \"contain\"], [\"liquid\", \"car\"], [\"department\", \"natural\"], [\"springfield\", \"hazardous\"], [\"would\", \"apply\"], [\"freight\", \"derails\"], [\"high\", \"hazard\"], [\"alabama\", \"ceo\"], [\"north\", \"carolina\"], [\"ceo\", \"apologize\"], [\"hazard\", \"flammable\"], [\"alabama\", \"hour\"], [\"derails\", \"alabama\"], [\"hazardous\", \"material\"], [\"another\", \"derail\"], [\"safety\", \"rule\"], [\"rule\", \"would\"], [\"car\", \"derail\"], [\"cargo\", \"derail\"], [\"ecp\", \"brake\"], [\"car\", \"cargo\"], [\"feb\", \"3\"], [\"carry\", \"hazardous\"], [\"alan\", \"shaw\"], [\"emergency\", \"service\"], [\"1\", \"week\"], [\"launch\", \"myid\"], [\"myid\", \"emergency\"], [\"service\", \"surveil\"], [\"biometrics\", \"1\"], [\"surveil\", \"biometrics\"], [\"local\", \"farmer\"], [\"farmer\", \"sound\"], [\"alarm\", \"launch\"], [\"change\", \"make\"], [\"make\", \"trump\"], [\"regulatory\", \"change\"], [\"every\", \"possible\"], [\"possible\", \"regulatory\"], [\"review\", \"every\"], [\"post\", \"review\"], [\"find\", \"none\"], [\"none\", \"contribute\"], [\"saturday\", \"even\"], [\"trump\", \"find\"], [\"derail\", \"north\"], [\"call\", \"pete\"], [\"regulation\", \"gutted\"], [\"gutted\", \"visit\"], [\"buttigieg\", \"claim\"], [\"administration\", \"call\"], [\"even\", \"second\"], [\"gop\", \"fox\"], [\"forgets\", \"mention\"], [\"mention\", \"safety\"], [\"near\", \"springfield\"], [\"sound\", \"alarm\"], [\"cleanup\", \"toxic\"], [\"springfield\", \"saturday\"], [\"town\", \"hall\"], [\"derail\", \"near\"], [\"washington\", \"post\"], [\"freight\", \"derail\"], [\"pete\", \"buttigieg\"], [\"toxic\", \"chemical\"], [\"biden\", \"administration\"], [\"chemical\", \"spill\"], [\"toxic\", \"wreck\"], [\"feb\", \"3\"], [\"hazardous\", \"chemical\"], [\"ceo\", \"alan\"], [\"transportation\", \"safety\"], [\"national\", \"transportation\"], [\"chemical\", \"derail\"], [\"alan\", \"shaw\"], [\"safety\", \"regulation\"], [\"safety\", \"board\"]], \"Freq\": [583.0, 745.0, 462.0, 707.0, 397.0, 376.0, 383.0, 374.0, 478.0, 881.0, 671.0, 344.0, 325.0, 272.0, 270.0, 262.0, 1551.0, 428.0, 286.0, 239.0, 483.0, 237.0, 316.0, 226.0, 489.0, 223.0, 301.0, 340.0, 212.0, 395.0, 272.2197758099085, 185.22705474207098, 184.49055073071128, 166.05396447468775, 147.62958970608918, 135.82698152646483, 135.08988101630604, 129.2000053461131, 127.72553126095839, 127.72553120614636, 127.72553120614636, 117.40241483832764, 130.5830061653565, 110.02883565204624, 109.28823006590144, 107.81717898098222, 116.58270114534143, 98.23470151872887, 97.49763922724267, 90.85641225790347, 84.96178441463728, 81.27238151706194, 79.80296037737004, 79.06507249942919, 95.89552507130125, 76.85318564340092, 76.84892208399788, 76.11664633191471, 76.11449717588579, 75.3817374298924, 150.68036272541505, 214.21668416184545, 212.77226324237446, 124.66479594661617, 633.9535992762293, 280.3656290796543, 108.03944634398782, 292.5729789964906, 231.24427857394733, 629.8021809426413, 153.15301295246937, 310.0754069714033, 117.62477537347557, 588.107996903955, 383.8765820740422, 315.9409512887496, 457.71375222943584, 220.89629216040763, 213.18184548687188, 240.87324715962436, 234.48694819069829, 286.0695916164495, 168.01762950465056, 163.94646884484675, 180.91836924042687, 163.84727802967146, 150.04034790711725, 150.07310198066182, 151.7577868285429, 269.7574672580963, 261.63477759856295, 238.7394945877867, 237.26241881685803, 181.1291220239672, 178.17744474159673, 177.43896646364263, 165.6216771951345, 159.71366417354713, 156.75830097020204, 155.28235345336003, 156.68521251473757, 139.02980452255966, 134.60268869697944, 111.68130682991118, 84.37916749148663, 83.640338219503, 80.68629645969499, 80.68040096607403, 75.51709206005789, 72.55794393862304, 71.82443872835684, 115.0616551763505, 72.55217763719418, 71.08617944182826, 71.08617944182826, 71.0827660414968, 70.34604564077794, 69.60909210537399, 69.60886584837874, 269.31381384416767, 76.50521913775844, 148.73197185992785, 270.0779205459887, 158.90966188499752, 391.60062409024806, 158.4696440740228, 88.89046553830609, 281.22292546209496, 766.4286214023639, 134.36280528407113, 247.14540869916044, 228.5002400388663, 188.35787095038717, 395.60496051938674, 195.90152735191526, 315.511346986889, 189.67841251320286, 214.4125829109168, 216.0791960992779, 171.58244830881537, 194.01911872251094, 174.6528753053822, 170.79973706661016, 170.72584586231474, 159.78637426616064, 583.4281348386463, 461.90149310775433, 396.8110785945137, 376.32904848003085, 374.13399358795147, 344.12792384926064, 325.1023317311461, 222.64854390331152, 212.40237726948783, 226.2465572225066, 202.15788186149507, 190.45060829964942, 182.40206669224585, 176.54728594344334, 167.76556093444296, 167.0302292937655, 161.17446925863024, 155.31812635631434, 148.73743537920774, 145.80445315697378, 143.60988121897455, 139.22283913393835, 133.3669933192793, 128.24756381972634, 126.05330176726582, 125.3208326743404, 123.12597734731932, 120.93067847540001, 112.87630035478269, 112.87611711991181, 381.3545416461825, 128.68130298771968, 432.83562081126973, 196.8068811109619, 561.548204710355, 159.6571244066501, 173.3409056459977, 355.3779706807028, 430.1341785296639, 681.4401158831349, 335.36328760140765, 286.80854889276185, 172.9318842714629, 219.98576637022978, 215.91830109237483, 197.75598071387392, 194.41529762867216, 209.72021278472232, 205.8968610080311, 194.17965983082735, 169.14179233806394, 163.31928998010508, 161.86624968035642, 160.40998541503384, 158.9534407216905, 156.04019639278516, 156.04019639278516, 154.5816527209179, 152.3985310075826, 150.21370595456432, 132.72681035164126, 131.27243373168943, 129.08533753826813, 121.8094983111196, 120.35293110683638, 119.6246193344024, 111.61349154705223, 111.61349151841216, 111.61349139448522, 103.58290722398033, 98.50323714618226, 99.94329336291752, 92.67225458237988, 84.65798073508678, 80.29297413269182, 83.87562530712061, 78.76570697500433, 67.18614329884933, 64.27334681162475, 63.53850639289357, 86.7654037326617, 213.52753460474094, 159.33590598864245, 112.87863668806958, 141.37356213892124, 288.70826535939347, 195.8223600816753, 181.09781053934685, 196.8322440269677, 368.21045879307917, 428.922819787097, 233.36974909431703, 233.78114113307743, 174.05533155398643, 197.04517151660218, 176.03456225174048, 165.14823519691217, 153.7632818842897, 151.9721789524794, 154.03917774562876, 160.84005988408066, 159.30155332701932, 148.47213975295213], \"Total\": [583.0, 745.0, 462.0, 707.0, 397.0, 376.0, 383.0, 374.0, 478.0, 881.0, 671.0, 344.0, 325.0, 272.0, 270.0, 262.0, 1551.0, 428.0, 286.0, 239.0, 483.0, 237.0, 316.0, 226.0, 489.0, 223.0, 301.0, 340.0, 212.0, 395.0, 272.7736200329901, 185.77991243506213, 185.04268294897238, 166.61177973590102, 148.18094292629456, 136.3851172100279, 135.6479053209905, 129.75007762833866, 128.2756078669467, 128.2756078666518, 128.2756078666518, 117.95431810077275, 131.2246838875828, 110.58194639160926, 109.84470397957678, 108.37025230295458, 117.21646549665614, 98.78620393186698, 98.04896913529686, 91.41380561788043, 85.51596076917981, 81.82978858882218, 80.35532814110329, 79.61809402911258, 96.57356178469898, 77.40640381860203, 77.40630991690969, 76.66914664091468, 76.66912359828208, 75.93192857183207, 151.85943123681403, 218.93256647980232, 218.88735804479757, 128.9671697734684, 745.2571976382416, 316.57172708236595, 112.03091117635236, 340.08005203058724, 265.72281980819935, 881.4682525757288, 172.543381090358, 428.19512432481866, 125.3385366090314, 1551.4738502486175, 975.5024172988191, 812.6891346531611, 1804.1735753891671, 469.09804224186416, 461.67316228703316, 671.3766216262126, 643.6201729976266, 1182.8968766549908, 329.0563099448801, 304.35455478241647, 609.3516292449403, 444.42920801961213, 299.1118335472587, 434.13226393236937, 579.0903670704635, 270.3087971354023, 262.18464520862244, 239.28924769641168, 237.8121255504169, 181.6814647953923, 178.72722717212133, 177.9886661052951, 166.1716840426704, 160.26319835912219, 157.3089381608456, 155.83183162183485, 157.3087621280387, 139.58343291574263, 135.15211775129058, 112.25661526562754, 84.92994021934592, 84.19137839370488, 81.23713344660281, 81.23707488631145, 76.06721925474494, 73.11294984045806, 72.37441377252009, 115.94883177974015, 73.11287286408087, 71.63585299007335, 71.63585299007335, 71.63582962117805, 70.8972882079344, 70.15872989570035, 70.1587279899959, 286.3254701531995, 77.53986927579344, 157.29450415158018, 301.6305924897259, 172.69653331858981, 483.82278213130013, 188.12718911160516, 93.73234298944638, 431.2793918567445, 1804.1735753891671, 167.29738404845548, 395.99265868075315, 434.13226393236937, 320.2945722975796, 1182.8968766549908, 358.9717195705641, 975.5024172988191, 342.0284033564101, 484.018969891483, 510.08112056680005, 316.73341811311224, 579.0903670704635, 559.3779409801361, 444.42920801961213, 647.3143735563308, 332.6152437863543, 583.9827822995863, 462.50355261524277, 397.37249890312063, 376.88189197037593, 374.68646874666507, 344.68246427657573, 325.655512807575, 223.2027969727568, 212.95752929522484, 226.86228059582555, 202.71225667758495, 191.0033585878885, 182.9534896471388, 177.09904986455243, 168.317387343277, 167.58558668736708, 161.73113747494273, 155.87670642632045, 149.2904533425738, 146.36327280333762, 144.16785971603423, 139.7769993035518, 133.92255766717562, 128.79990604404074, 126.6044815987583, 125.87268043782137, 123.67726221110846, 121.48184487107997, 113.43199345154338, 113.43201922795066, 383.4797068698416, 130.27115420568936, 478.9382688404825, 209.3870113635247, 707.0773663630772, 167.55041965662718, 187.44408351229694, 489.3012402798871, 671.3766216262126, 1551.4738502486175, 812.6891346531611, 622.6123865119605, 212.39022159118542, 391.0584456696866, 384.45971740994844, 303.66009006075717, 296.6272918898983, 647.3143735563308, 643.6201729976266, 505.4761818020377, 169.70200394357758, 163.87548786438472, 162.4188340826282, 160.96220945561615, 159.5055891881622, 156.59234871640433, 156.59234871640433, 155.13574685416327, 152.95079920796158, 150.76586752481015, 133.2864850081004, 131.82985990858094, 129.6449365294661, 122.36177454983846, 120.90515364624711, 120.17684353975417, 112.16542811833101, 112.16542811857089, 112.16542811983525, 104.15424808462032, 99.05585401106809, 100.51258182851178, 93.22943262506914, 85.21803503463013, 80.84812429097558, 84.48999227195849, 79.39249331772169, 67.73851301993263, 64.82526952997831, 64.0970014276546, 88.13514734410528, 252.51593811206294, 188.30408707447984, 126.0881975140804, 175.84346755394603, 485.9325774891529, 282.15021911464817, 281.9363414233022, 345.85730425750205, 1182.8968766549908, 1804.1735753891671, 581.8959152001872, 609.3516292449403, 431.83084815930374, 647.3143735563308, 513.0718833644034, 459.897901834669, 358.9717195705641, 342.0284033564101, 383.7600624243097, 505.4761818020377, 559.3779409801361, 395.99265868075315], \"Category\": [\"Default\", \"Default\", \"Default\", \"Default\", \"Default\", \"Default\", \"Default\", \"Default\", \"Default\", \"Default\", \"Default\", \"Default\", \"Default\", \"Default\", \"Default\", \"Default\", \"Default\", \"Default\", \"Default\", \"Default\", \"Default\", \"Default\", \"Default\", \"Default\", \"Default\", \"Default\", \"Default\", \"Default\", \"Default\", \"Default\", \"Topic1\", \"Topic1\", \"Topic1\", \"Topic1\", \"Topic1\", \"Topic1\", \"Topic1\", \"Topic1\", \"Topic1\", \"Topic1\", \"Topic1\", \"Topic1\", \"Topic1\", \"Topic1\", \"Topic1\", \"Topic1\", \"Topic1\", \"Topic1\", \"Topic1\", \"Topic1\", \"Topic1\", \"Topic1\", \"Topic1\", \"Topic1\", \"Topic1\", \"Topic1\", \"Topic1\", \"Topic1\", \"Topic1\", \"Topic1\", \"Topic1\", \"Topic1\", \"Topic1\", \"Topic1\", \"Topic1\", \"Topic1\", \"Topic1\", \"Topic1\", \"Topic1\", \"Topic1\", \"Topic1\", \"Topic1\", \"Topic1\", \"Topic1\", \"Topic1\", \"Topic1\", \"Topic1\", \"Topic1\", \"Topic1\", \"Topic1\", \"Topic1\", \"Topic1\", \"Topic1\", \"Topic1\", \"Topic1\", \"Topic1\", \"Topic1\", \"Topic1\", \"Topic1\", \"Topic2\", \"Topic2\", \"Topic2\", \"Topic2\", \"Topic2\", \"Topic2\", \"Topic2\", \"Topic2\", \"Topic2\", \"Topic2\", \"Topic2\", \"Topic2\", \"Topic2\", \"Topic2\", \"Topic2\", \"Topic2\", \"Topic2\", \"Topic2\", \"Topic2\", \"Topic2\", \"Topic2\", \"Topic2\", \"Topic2\", \"Topic2\", \"Topic2\", \"Topic2\", \"Topic2\", \"Topic2\", \"Topic2\", \"Topic2\", \"Topic2\", \"Topic2\", \"Topic2\", \"Topic2\", \"Topic2\", \"Topic2\", \"Topic2\", \"Topic2\", \"Topic2\", \"Topic2\", \"Topic2\", \"Topic2\", \"Topic2\", \"Topic2\", \"Topic2\", \"Topic2\", \"Topic2\", \"Topic2\", \"Topic2\", \"Topic2\", \"Topic2\", \"Topic2\", \"Topic2\", \"Topic2\", \"Topic2\", \"Topic2\", \"Topic3\", \"Topic3\", \"Topic3\", \"Topic3\", \"Topic3\", \"Topic3\", \"Topic3\", \"Topic3\", \"Topic3\", \"Topic3\", \"Topic3\", \"Topic3\", \"Topic3\", \"Topic3\", \"Topic3\", \"Topic3\", \"Topic3\", \"Topic3\", \"Topic3\", \"Topic3\", \"Topic3\", \"Topic3\", \"Topic3\", \"Topic3\", \"Topic3\", \"Topic3\", \"Topic3\", \"Topic3\", \"Topic3\", \"Topic3\", \"Topic3\", \"Topic3\", \"Topic3\", \"Topic3\", \"Topic3\", \"Topic3\", \"Topic3\", \"Topic3\", \"Topic3\", \"Topic3\", \"Topic3\", \"Topic3\", \"Topic3\", \"Topic3\", \"Topic3\", \"Topic3\", \"Topic3\", \"Topic3\", \"Topic3\", \"Topic3\", \"Topic4\", \"Topic4\", \"Topic4\", \"Topic4\", \"Topic4\", \"Topic4\", \"Topic4\", \"Topic4\", \"Topic4\", \"Topic4\", \"Topic4\", \"Topic4\", \"Topic4\", \"Topic4\", \"Topic4\", \"Topic4\", \"Topic4\", \"Topic4\", \"Topic4\", \"Topic4\", \"Topic4\", \"Topic4\", \"Topic4\", \"Topic4\", \"Topic4\", \"Topic4\", \"Topic4\", \"Topic4\", \"Topic4\", \"Topic4\", \"Topic4\", \"Topic4\", \"Topic4\", \"Topic4\", \"Topic4\", \"Topic4\", \"Topic4\", \"Topic4\", \"Topic4\", \"Topic4\", \"Topic4\", \"Topic4\", \"Topic4\", \"Topic4\", \"Topic4\", \"Topic4\", \"Topic4\", \"Topic4\", \"Topic4\", \"Topic4\", \"Topic4\", \"Topic4\", \"Topic4\"], \"logprob\": [30.0, 29.0, 28.0, 27.0, 26.0, 25.0, 24.0, 23.0, 22.0, 21.0, 20.0, 19.0, 18.0, 17.0, 16.0, 15.0, 14.0, 13.0, 12.0, 11.0, 10.0, 9.0, 8.0, 7.0, 6.0, 5.0, 4.0, 3.0, 2.0, 1.0, -6.7559, -7.141, -7.145, -7.2502, -7.3679, -7.4512, -7.4566, -7.5012, -7.5127, -7.5127, -7.5127, -7.597, -7.4905, -7.6618, -7.6686, -7.6821, -7.604, -7.7752, -7.7827, -7.8533, -7.9204, -7.9648, -7.983, -7.9923, -7.7993, -8.0207, -8.0207, -8.0303, -8.0303, -8.04, -7.3474, -6.9956, -7.0023, -7.5369, -5.9106, -6.7265, -7.6801, -6.6838, -6.9191, -5.9172, -7.3311, -6.6257, -7.5951, -5.9856, -6.4122, -6.607, -6.2363, -6.9649, -7.0004, -6.8783, -6.9052, -6.7063, -7.2385, -7.263, -7.1645, -7.2636, -7.3517, -7.3514, -7.3403, -6.7637, -6.7943, -6.8858, -6.892, -7.162, -7.1784, -7.1826, -7.2515, -7.2878, -7.3065, -7.316, -7.307, -7.4265, -7.4589, -7.6456, -7.9259, -7.9347, -7.9706, -7.9707, -8.0368, -8.0768, -8.087, -7.6157, -8.0769, -8.0973, -8.0973, -8.0974, -8.1078, -8.1183, -8.1183, -6.7653, -8.0238, -7.3591, -6.7625, -7.2929, -6.391, -7.2956, -7.8738, -6.7221, -5.7195, -7.4607, -6.8512, -6.9297, -7.1229, -6.3808, -7.0836, -6.607, -7.1159, -6.9933, -6.9856, -7.2161, -7.0932, -7.1984, -7.2207, -7.2211, -7.2874, -5.9561, -6.1896, -6.3415, -6.3945, -6.4004, -6.484, -6.5409, -6.9194, -6.9665, -6.9034, -7.0159, -7.0756, -7.1188, -7.1514, -7.2024, -7.2068, -7.2425, -7.2795, -7.3228, -7.3427, -7.3579, -7.3889, -7.4319, -7.471, -7.4883, -7.4941, -7.5118, -7.5298, -7.5987, -7.5987, -6.3813, -7.4677, -6.2546, -7.0428, -5.9943, -7.252, -7.1697, -6.4518, -6.2609, -5.8008, -6.5098, -6.6662, -7.1721, -6.9314, -6.9501, -7.038, -7.055, -6.9792, -6.9976, -7.0562, -7.1598, -7.1948, -7.2038, -7.2128, -7.2219, -7.2404, -7.2404, -7.2498, -7.2641, -7.2785, -7.4023, -7.4133, -7.4301, -7.4881, -7.5001, -7.5062, -7.5755, -7.5755, -7.5755, -7.6502, -7.7005, -7.686, -7.7615, -7.8519, -7.9049, -7.8612, -7.9241, -8.0831, -8.1274, -8.1389, -7.8273, -6.9268, -7.2195, -7.5642, -7.3391, -6.6251, -7.0133, -7.0915, -7.0082, -6.3819, -6.2293, -6.8379, -6.8362, -7.1312, -7.0071, -7.1199, -7.1837, -7.2551, -7.2669, -7.2533, -7.2101, -7.2198, -7.2902], \"loglift\": [30.0, 29.0, 28.0, 27.0, 26.0, 25.0, 24.0, 23.0, 22.0, 21.0, 20.0, 19.0, 18.0, 17.0, 16.0, 15.0, 14.0, 13.0, 12.0, 11.0, 10.0, 9.0, 8.0, 7.0, 6.0, 5.0, 4.0, 3.0, 2.0, 1.0, 1.357, 1.356, 1.356, 1.3556, 1.3553, 1.3549, 1.3549, 1.3548, 1.3547, 1.3547, 1.3547, 1.3543, 1.3541, 1.354, 1.3539, 1.3539, 1.3536, 1.3534, 1.3534, 1.3529, 1.3525, 1.3522, 1.3521, 1.352, 1.352, 1.3518, 1.3518, 1.3518, 1.3517, 1.3517, 1.3512, 1.3372, 1.3307, 1.3251, 1.1972, 1.2375, 1.3227, 1.2085, 1.22, 1.0228, 1.2398, 1.0362, 1.2955, 0.389, 0.4264, 0.4142, -0.0126, 0.6059, 0.5863, 0.3339, 0.3493, -0.0605, 0.6868, 0.7403, 0.1447, 0.3611, 0.6691, 0.2968, 0.0198, 1.3583, 1.3583, 1.3581, 1.358, 1.3573, 1.3573, 1.3573, 1.357, 1.3569, 1.3569, 1.3568, 1.3564, 1.3564, 1.3563, 1.3552, 1.3539, 1.3538, 1.3536, 1.3535, 1.3531, 1.3527, 1.3527, 1.3527, 1.3527, 1.3527, 1.3527, 1.3526, 1.3526, 1.3525, 1.3525, 1.2991, 1.3469, 1.3044, 1.2499, 1.2772, 1.1489, 1.1888, 1.3073, 0.9328, 0.5042, 1.1411, 0.8889, 0.7185, 0.8295, 0.2651, 0.7547, 0.2316, 0.7708, 0.5461, 0.5014, 0.7474, 0.2669, 0.1963, 0.4041, 0.0276, 0.6272, 1.3956, 1.3953, 1.3952, 1.3951, 1.3951, 1.395, 1.3949, 1.3941, 1.394, 1.3938, 1.3938, 1.3937, 1.3935, 1.3934, 1.3933, 1.3932, 1.3931, 1.393, 1.3929, 1.3927, 1.3927, 1.3926, 1.3924, 1.3923, 1.3922, 1.3922, 1.3921, 1.392, 1.3917, 1.3917, 1.391, 1.3843, 1.2954, 1.3346, 1.1661, 1.3483, 1.3183, 1.0768, 0.9513, 0.5738, 0.5114, 0.6215, 1.191, 0.8213, 0.8196, 0.9677, 0.9741, 0.2695, 0.2568, 0.4398, 1.4277, 1.4276, 1.4276, 1.4276, 1.4275, 1.4275, 1.4275, 1.4274, 1.4274, 1.4273, 1.4268, 1.4268, 1.4267, 1.4265, 1.4264, 1.4264, 1.4261, 1.4261, 1.4261, 1.4255, 1.4254, 1.4253, 1.425, 1.4244, 1.4241, 1.4237, 1.4231, 1.4228, 1.4225, 1.4223, 1.4153, 1.2633, 1.264, 1.3203, 1.2128, 0.9104, 1.0658, 0.9884, 0.8673, 0.2639, -0.0056, 0.5173, 0.473, 0.5223, 0.2416, 0.3613, 0.4068, 0.5832, 0.6198, 0.5182, 0.2859, 0.175, 0.45]}, \"token.table\": {\"Topic\": [4, 3, 4, 1, 3, 1, 3, 4, 1, 2, 3, 4, 4, 1, 3, 1, 2, 3, 4, 1, 2, 3, 1, 2, 3, 1, 2, 1, 2, 3, 4, 2, 4, 3, 1, 4, 1, 2, 4, 1, 3, 4, 4, 2, 3, 4, 1, 2, 3, 4, 2, 3, 4, 1, 3, 1, 2, 3, 4, 2, 3, 1, 2, 3, 4, 3, 4, 3, 4, 1, 2, 3, 4, 1, 2, 3, 4, 1, 2, 3, 4, 3, 1, 4, 1, 2, 2, 3, 4, 2, 1, 4, 1, 2, 2, 3, 3, 3, 2, 3, 1, 4, 2, 3, 1, 2, 3, 4, 4, 3, 1, 3, 3, 1, 1, 3, 1, 1, 1, 2, 3, 4, 1, 2, 3, 4, 1, 2, 3, 4, 3, 4, 2, 1, 2, 4, 2, 3, 3, 4, 4, 1, 2, 4, 1, 2, 3, 4, 4, 1, 3, 3, 4, 3, 1, 2, 3, 4, 1, 3, 4, 1, 2, 3, 4, 4, 3, 1, 3, 1, 2, 3, 4, 1, 2, 3, 4, 1, 3, 3, 1, 1, 2, 1, 2, 4, 2, 3, 1, 3, 1, 4, 4, 3, 4, 1, 1, 2, 3, 4, 3, 1, 1, 4, 2, 4, 2, 3, 4, 2, 4, 2, 3, 4, 1, 2, 3, 4, 1, 2, 3, 2, 2, 4, 1, 2, 3, 4, 2, 1, 2, 4, 4, 1, 2, 3, 1, 2, 1, 2, 3, 4, 1, 4, 4, 1, 1, 1, 4, 2, 4, 1, 2, 3, 4, 3, 1, 2, 3, 4, 2, 4, 1, 2, 3, 4, 1, 2, 3, 4, 4, 2, 1, 2, 4, 1, 3, 1, 1, 2, 4, 1, 2, 2, 4, 3, 1, 3, 4, 3, 2, 1, 4, 4, 1, 2, 3, 1, 2, 3, 4, 1, 2, 3, 4, 1, 2, 3, 4, 2, 1, 2, 3, 4, 1, 2, 3, 4, 1, 1, 1, 2, 3, 4, 1, 2, 3, 4, 1, 2, 3, 3, 4, 1, 1, 2, 3, 4, 1, 2, 3, 4, 1, 2, 2, 1, 2, 3, 4, 1, 2, 3, 4, 1, 2, 3, 4, 2, 2, 2, 4, 2, 1, 3], \"Freq\": [0.994657603307279, 0.99306695913056, 0.995056291831635, 0.05731014508424473, 0.9408415484663509, 0.18393576919714888, 0.7255244229443094, 0.08992415382971723, 0.0811116358714149, 0.21563825146302987, 0.38379652095254857, 0.3185115457389707, 0.9949201530997451, 0.9640196519511731, 0.035704431553747154, 0.38883256404659855, 0.15504083249959308, 0.41221173720129906, 0.04306689791655364, 0.7147166085211621, 0.10664025587458609, 0.1781119167267023, 0.9981532842187404, 0.9911238163079952, 0.9955036607609332, 0.989301579154296, 0.9989668273288588, 0.13748163186964105, 0.25777805975557694, 0.20278540700772052, 0.4004152528203295, 0.9977375874029739, 0.996217256326635, 0.9965057455182019, 0.9947374195282439, 0.9942005880367312, 0.053796417984594835, 0.8009688899928564, 0.14345711462558622, 0.8615618536004199, 0.035285809703771466, 0.10585742911131439, 0.9975390537236044, 0.9890505018966904, 0.6540193883171366, 0.34386586396055635, 0.23781611426582985, 0.12785812594937088, 0.5625757541772319, 0.0716005505316477, 0.06242526567330553, 0.5618273910597498, 0.3745515940398332, 0.991272580579008, 0.9981678848746225, 0.36356846757950034, 0.11963577779325439, 0.3200645483819533, 0.19576763638896172, 0.9970809722531793, 0.9964863659984912, 0.07392945230748808, 0.20439319167364353, 0.36094967891303004, 0.3587752832569275, 0.9549364324356765, 0.04774682162178382, 0.9983171039808462, 0.9978506072233579, 0.20325199945834438, 0.338753332430574, 0.05732748702671252, 0.4012924091869876, 0.07441773869110752, 0.8398573366567849, 0.03720886934555376, 0.0425244221092043, 0.29703703299239664, 0.18216083238760236, 0.13785144072575314, 0.38401472773602663, 0.9937895448171583, 0.9692389173117719, 0.0310156453539767, 0.008624493965576383, 0.991816806041284, 0.023792869270456395, 0.07930956423485465, 0.8961980758538575, 0.9948267108083679, 0.8693269180521924, 0.1279528797133097, 0.9942190583462523, 0.9977140299035355, 0.9958201850781617, 0.9944411504938347, 0.9980200203163567, 0.998054441284954, 0.9988576134455305, 0.9961916083954928, 0.9943406133566126, 0.0065850371745471035, 0.987343828930343, 0.9952254328509945, 0.09214949427147257, 0.16303372063414376, 0.04961895845386984, 0.6946654183541778, 0.9949003217389608, 0.9947883494926618, 0.35896394398757636, 0.6404750867828125, 0.9989112459517437, 0.9987789055547813, 0.7239690094295453, 0.27557530036350436, 0.9919094263258981, 0.9978514397902322, 0.2624806224440351, 0.33500816285620266, 0.2348510832393998, 0.16750408142810133, 0.34551682162781505, 0.5274890143517976, 0.08062059171315684, 0.04606890955037534, 0.16136463632805992, 0.14160570126748115, 0.6520448569990992, 0.04610418180801712, 0.9990914227979789, 0.9958633137661063, 0.998037222314499, 0.47111686704941247, 0.2707323172636895, 0.2579418140858774, 0.9930375266190709, 0.012896591254793128, 0.9947469060475875, 0.9890975903218409, 0.9970434022294185, 0.941450276925424, 0.05584874524133871, 0.9937836270690629, 0.10813910961905814, 0.26416839635512773, 0.3244173288571744, 0.30433435135649217, 0.9985251416470678, 0.9978514397925262, 0.9975180057375067, 0.9931112600950441, 0.9984866464032005, 0.9945239553415047, 0.054935951232228074, 0.16480785369668421, 0.21106970736592892, 0.5695990733025753, 0.007676296461003696, 0.9902422434694769, 0.9872693235838121, 0.5388452297592321, 0.10514053263594773, 0.27927953981423614, 0.07556975783208743, 0.9895096602622079, 0.9961991010865232, 0.07468894049718862, 0.9229419075724021, 0.2280382219208494, 0.16956688296678546, 0.26117198066148567, 0.34303185519717516, 0.37899446381630947, 0.10119410003258603, 0.43893746574644005, 0.0805685509813583, 0.09604578082968138, 0.9040831108533051, 0.9990625951615956, 0.9978514397925262, 0.9912722826556467, 0.994661991627914, 0.9954732699827619, 0.9977375603016714, 0.9974212714615651, 0.9206901664127646, 0.07527655448657823, 0.9965834507617504, 0.9960336059137782, 0.9947509457905197, 0.9991249801743574, 0.9937050687214838, 0.01134621124641352, 0.9871203784379763, 0.9923100163323866, 0.4613653497743775, 0.17761482949060542, 0.25775810621197615, 0.10180362178120067, 0.9988356647843364, 0.9920413590099157, 0.9952236245782246, 0.9940221406075973, 0.5555094200817318, 0.4444075360653854, 0.14652540460071845, 0.007920292140579375, 0.8474712590419932, 0.9984561834372081, 0.9985251416358121, 0.011314179155739061, 0.7948210856906691, 0.19375531804203144, 0.14507496360141992, 0.4234620559176581, 0.305833707051642, 0.1274307112715175, 0.9774699280280105, 0.004567616486112198, 0.013702849458336596, 0.9970816910056988, 0.9394902935322889, 0.059372992528062864, 0.24177931791379317, 0.3347713632652521, 0.1124358366522185, 0.31110066081215343, 0.9965850120193105, 0.9940608819422269, 0.9977268647056717, 0.9925135230472021, 0.9985251416492033, 0.9971762519407831, 0.9988744700873241, 0.9979870974640545, 0.8867335219302126, 0.11011723474950354, 0.08267489973042397, 0.8102140173581549, 0.057872429811296776, 0.05167181233151498, 0.9963281123527354, 0.9974414449413023, 0.9950253627582323, 0.9877267891207259, 0.9955780388267554, 0.8844757002799221, 0.11371830432170427, 0.9983577118027284, 0.9985284724199328, 0.04958483343200536, 0.4421314314353811, 0.3470938340240375, 0.1611507086540174, 0.9981143520091023, 0.04708314688445628, 0.08004134970357567, 0.8145384411010935, 0.06120809094979316, 0.6237489372224193, 0.37374430246525525, 0.21988711207395967, 0.3128475171783979, 0.18234541001255192, 0.28424431560780156, 0.23449581659936236, 0.13170312987087476, 0.46096095454806163, 0.17346265885432285, 0.9985190418301998, 0.9984551322207006, 0.9943651760104456, 0.9980361054848027, 0.9968302729030657, 0.8507130182830553, 0.14894186913157595, 0.9922367643103014, 0.9982877925027025, 0.8951346671150298, 0.10277472103913304, 0.9939664974287962, 0.994445342352809, 0.15400621649029658, 0.8443789111019709, 0.9961913820198997, 0.11942439655062835, 0.07392938834086517, 0.8018495196970761, 0.9994407092266832, 0.9911238163079952, 0.9731032522965869, 0.027411359219622167, 0.996217256326635, 0.997163875183764, 0.995931077857427, 0.9976600309296758, 0.04733166917691048, 0.11112652763274634, 0.24694783918388075, 0.5947327127011794, 0.2538558408390432, 0.4245711224513256, 0.08369482962160596, 0.23778199938853614, 0.5014846728767102, 0.15044540186301303, 0.17719125108310424, 0.17384801993059285, 0.9987912215062056, 0.2841506290563223, 0.5430434244187493, 0.059987355023001385, 0.11681748083426585, 0.23851931940258927, 0.034735823213969313, 0.32188529511611563, 0.402935549282044, 0.9958019549862005, 0.9898595779955915, 0.02507161291359289, 0.5460040145626895, 0.0027857347681769875, 0.42900315429925606, 0.36901265047540005, 0.3847631904347159, 0.08325285407066953, 0.16425563100429394, 0.050860009656094725, 0.9472676798447642, 0.9943756418362941, 0.9954793029570078, 0.9994361361917908, 0.9947497390583547, 0.09738466709290595, 0.6515497965025375, 0.0394176033471286, 0.21100011203462957, 0.510550914608328, 0.1306767221914173, 0.09116980618005857, 0.2674314314615051, 0.41212062712496206, 0.5869596810567642, 0.9992957436219214, 0.39364330952997717, 0.32393564013404375, 0.1578673689260846, 0.1250637597985865, 0.09221939913366231, 0.0532034995001898, 0.2128139980007592, 0.6419888939689569, 0.26156347799826607, 0.48103628137612153, 0.09320077951662355, 0.1653562217230418, 0.9911241396303998, 0.9991163177068452, 0.9495121658275499, 0.042674704082137076, 0.9962491231774262, 0.0052153998351699695, 0.9935336685998791], \"Term\": [[\"1\", \"week\"], [\"3\", \"flammable\"], [\"administration\", \"call\"], [\"alabama\", \"ceo\"], [\"alabama\", \"ceo\"], [\"alabama\", \"hour\"], [\"alabama\", \"hour\"], [\"alabama\", \"hour\"], [\"alan\", \"shaw\"], [\"alan\", \"shaw\"], [\"alan\", \"shaw\"], [\"alan\", \"shaw\"], [\"alarm\", \"launch\"], [\"animal\", \"fall\"], [\"animal\", \"fall\"], [\"another\", \"derail\"], [\"another\", \"derail\"], [\"another\", \"derail\"], [\"another\", \"derail\"], [\"another\", \"derails\"], [\"another\", \"derails\"], [\"another\", \"derails\"], [\"another\", \"trail\"], [\"answer\", \"visit\"], [\"apply\", \"derailed\"], [\"ask\", \"shelter\"], [\"audio\", \"reveals\"], [\"biden\", \"administration\"], [\"biden\", \"administration\"], [\"biden\", \"administration\"], [\"biden\", \"administration\"], [\"biden\", \"stumble\"], [\"biometrics\", \"1\"], [\"braking\", \"rule\"], [\"break\", \"derail\"], [\"buttigieg\", \"claim\"], [\"buttigieg\", \"visit\"], [\"buttigieg\", \"visit\"], [\"buttigieg\", \"visit\"], [\"calhoun\", \"county\"], [\"calhoun\", \"county\"], [\"calhoun\", \"county\"], [\"call\", \"pete\"], [\"campaign\", \"cash\"], [\"car\", \"cargo\"], [\"car\", \"cargo\"], [\"car\", \"derail\"], [\"car\", \"derail\"], [\"car\", \"derail\"], [\"car\", \"derail\"], [\"cargo\", \"derail\"], [\"cargo\", \"derail\"], [\"cargo\", \"derail\"], [\"cargo\", \"derails\"], [\"carolina\", \"danger\"], [\"carry\", \"hazardous\"], [\"carry\", \"hazardous\"], [\"carry\", \"hazardous\"], [\"carry\", \"hazardous\"], [\"cash\", \"extensive\"], [\"categorize\", \"high\"], [\"ceo\", \"alan\"], [\"ceo\", \"alan\"], [\"ceo\", \"alan\"], [\"ceo\", \"alan\"], [\"ceo\", \"apologize\"], [\"ceo\", \"apologize\"], [\"ceo\", \"testifies\"], [\"change\", \"make\"], [\"chemical\", \"derail\"], [\"chemical\", \"derail\"], [\"chemical\", \"derail\"], [\"chemical\", \"derail\"], [\"chemical\", \"explosion\"], [\"chemical\", \"explosion\"], [\"chemical\", \"explosion\"], [\"chemical\", \"explosion\"], [\"chemical\", \"spill\"], [\"chemical\", \"spill\"], [\"chemical\", \"spill\"], [\"chemical\", \"spill\"], [\"class\", \"3\"], [\"clean\", \"site\"], [\"clean\", \"site\"], [\"clean\", \"toxic\"], [\"clean\", \"toxic\"], [\"cleanup\", \"toxic\"], [\"cleanup\", \"toxic\"], [\"cleanup\", \"toxic\"], [\"cleveland\", \"employee\"], [\"county\", \"alabama\"], [\"county\", \"alabama\"], [\"craft\", \"illusion\"], [\"crash\", \"dump\"], [\"crash\", \"prompt\"], [\"crew\", \"ignore\"], [\"danger\", \"public\"], [\"delivers\", \"truckloads\"], [\"demand\", \"pay\"], [\"department\", \"natural\"], [\"derail\", \"calhoun\"], [\"derail\", \"calhoun\"], [\"derail\", \"dangerous\"], [\"derail\", \"mixed\"], [\"derail\", \"near\"], [\"derail\", \"near\"], [\"derail\", \"near\"], [\"derail\", \"near\"], [\"derail\", \"north\"], [\"derailed\", \"categorize\"], [\"derails\", \"alabama\"], [\"derails\", \"alabama\"], [\"derails\", \"north\"], [\"derails\", \"railroad\"], [\"derails\", \"springfield\"], [\"derails\", \"springfield\"], [\"die\", \"near\"], [\"dollar\", \"pr\"], [\"donald\", \"trump\"], [\"donald\", \"trump\"], [\"donald\", \"trump\"], [\"donald\", \"trump\"], [\"dump\", \"truck\"], [\"dump\", \"truck\"], [\"dump\", \"truck\"], [\"dump\", \"truck\"], [\"ecp\", \"brake\"], [\"ecp\", \"brake\"], [\"ecp\", \"brake\"], [\"ecp\", \"brake\"], [\"effect\", \"would\"], [\"emergency\", \"service\"], [\"employee\", \"kill\"], [\"epa\", \"order\"], [\"epa\", \"order\"], [\"epa\", \"order\"], [\"epa\", \"tell\"], [\"epa\", \"tell\"], [\"even\", \"safety\"], [\"even\", \"second\"], [\"every\", \"possible\"], [\"fall\", \"sick\"], [\"fall\", \"sick\"], [\"farmer\", \"sound\"], [\"feb\", \"3\"], [\"feb\", \"3\"], [\"feb\", \"3\"], [\"feb\", \"3\"], [\"find\", \"none\"], [\"firm\", \"multimillion\"], [\"flammable\", \"liquid\"], [\"flammable\", \"train\"], [\"forgets\", \"mention\"], [\"freight\", \"contain\"], [\"freight\", \"derail\"], [\"freight\", \"derail\"], [\"freight\", \"derail\"], [\"freight\", \"derail\"], [\"freight\", \"derails\"], [\"freight\", \"derails\"], [\"gop\", \"fox\"], [\"gov\", \"mike\"], [\"gov\", \"mike\"], [\"gov\", \"mike\"], [\"gov\", \"mike\"], [\"gutted\", \"visit\"], [\"hazard\", \"cargo\"], [\"hazard\", \"flammable\"], [\"hazard\", \"flammable\"], [\"hazardous\", \"chemical\"], [\"hazardous\", \"chemical\"], [\"hazardous\", \"chemical\"], [\"hazardous\", \"chemical\"], [\"hazardous\", \"material\"], [\"hazardous\", \"material\"], [\"hazardous\", \"material\"], [\"hazardous\", \"material\"], [\"high\", \"hazard\"], [\"high\", \"hazard\"], [\"hour\", \"ceo\"], [\"illusion\", \"us\"], [\"incident\", \"since\"], [\"inspection\", \"crash\"], [\"issue\", \"another\"], [\"knew\", \"derail\"], [\"launch\", \"myid\"], [\"leak\", \"audio\"], [\"leak\", \"audio\"], [\"like\", \"mickey\"], [\"liquid\", \"car\"], [\"live\", \"lose\"], [\"local\", \"farmer\"], [\"make\", \"trump\"], [\"mention\", \"safety\"], [\"mention\", \"safety\"], [\"mickey\", \"mouse\"], [\"mike\", \"dewine\"], [\"mike\", \"dewine\"], [\"mike\", \"dewine\"], [\"mike\", \"dewine\"], [\"mixed\", \"freight\"], [\"mouse\", \"resident\"], [\"multimillion\", \"dollar\"], [\"myid\", \"emergency\"], [\"national\", \"transportation\"], [\"national\", \"transportation\"], [\"near\", \"springfield\"], [\"near\", \"springfield\"], [\"near\", \"springfield\"], [\"noise\", \"2022\"], [\"none\", \"contribute\"], [\"north\", \"carolina\"], [\"north\", \"carolina\"], [\"north\", \"carolina\"], [\"official\", \"say\"], [\"official\", \"say\"], [\"official\", \"say\"], [\"official\", \"say\"], [\"order\", \"clean\"], [\"order\", \"clean\"], [\"order\", \"clean\"], [\"order\", \"test\"], [\"pay\", \"toxic\"], [\"pay\", \"toxic\"], [\"pete\", \"buttigieg\"], [\"pete\", \"buttigieg\"], [\"pete\", \"buttigieg\"], [\"pete\", \"buttigieg\"], [\"petition\", \"via\"], [\"place\", \"issue\"], [\"politician\", \"campaign\"], [\"possible\", \"regulatory\"], [\"post\", \"review\"], [\"pr\", \"push\"], [\"prompt\", \"scrutiny\"], [\"public\", \"report\"], [\"rail\", \"firm\"], [\"rail\", \"firm\"], [\"rail\", \"worker\"], [\"rail\", \"worker\"], [\"rail\", \"worker\"], [\"rail\", \"worker\"], [\"railroad\", \"say\"], [\"regulation\", \"gutted\"], [\"regulatory\", \"change\"], [\"repealing\", \"would\"], [\"resident\", \"shock\"], [\"resident\", \"tell\"], [\"resident\", \"tell\"], [\"reveals\", \"us\"], [\"review\", \"every\"], [\"roll\", \"back\"], [\"roll\", \"back\"], [\"roll\", \"back\"], [\"roll\", \"back\"], [\"rule\", \"still\"], [\"rule\", \"would\"], [\"rule\", \"would\"], [\"rule\", \"would\"], [\"rule\", \"would\"], [\"safety\", \"board\"], [\"safety\", \"board\"], [\"safety\", \"regulation\"], [\"safety\", \"regulation\"], [\"safety\", \"regulation\"], [\"safety\", \"regulation\"], [\"safety\", \"rule\"], [\"safety\", \"rule\"], [\"safety\", \"rule\"], [\"safety\", \"rule\"], [\"saturday\", \"even\"], [\"say\", \"knew\"], [\"say\", \"toxins\"], [\"scrutiny\", \"industry\"], [\"service\", \"surveil\"], [\"shelter\", \"place\"], [\"shelter\", \"place\"], [\"shock\", \"illness\"], [\"sick\", \"die\"], [\"sign\", \"petition\"], [\"sign\", \"petition\"], [\"site\", \"pay\"], [\"skip\", \"inspection\"], [\"sound\", \"alarm\"], [\"sound\", \"alarm\"], [\"springfield\", \"hazardous\"], [\"springfield\", \"saturday\"], [\"springfield\", \"saturday\"], [\"springfield\", \"saturday\"], [\"still\", \"effect\"], [\"stumble\", \"answer\"], [\"sue\", \"toxic\"], [\"sue\", \"toxic\"], [\"surveil\", \"biometrics\"], [\"tell\", \"shelter\"], [\"tell\", \"skip\"], [\"testifies\", \"congress\"], [\"town\", \"hall\"], [\"town\", \"hall\"], [\"town\", \"hall\"], [\"town\", \"hall\"], [\"toxic\", \"chemical\"], [\"toxic\", \"chemical\"], [\"toxic\", \"chemical\"], [\"toxic\", \"chemical\"], [\"toxic\", \"disaster\"], [\"toxic\", \"disaster\"], [\"toxic\", \"disaster\"], [\"toxic\", \"disaster\"], [\"toxic\", \"sign\"], [\"toxic\", \"waste\"], [\"toxic\", \"waste\"], [\"toxic\", \"waste\"], [\"toxic\", \"waste\"], [\"toxic\", \"wreck\"], [\"toxic\", \"wreck\"], [\"toxic\", \"wreck\"], [\"toxic\", \"wreck\"], [\"toxins\", \"aboard\"], [\"trainderailment\", \"chemicalspill\"], [\"transportation\", \"safety\"], [\"transportation\", \"safety\"], [\"transportation\", \"safety\"], [\"transportation\", \"safety\"], [\"transportation\", \"secretary\"], [\"transportation\", \"secretary\"], [\"transportation\", \"secretary\"], [\"transportation\", \"secretary\"], [\"truck\", \"cleveland\"], [\"truck\", \"cleveland\"], [\"truckloads\", \"water\"], [\"trump\", \"delivers\"], [\"trump\", \"find\"], [\"trump\", \"repealing\"], [\"trump\", \"visit\"], [\"trump\", \"visit\"], [\"trump\", \"visit\"], [\"trump\", \"visit\"], [\"two\", \"week\"], [\"two\", \"week\"], [\"two\", \"week\"], [\"two\", \"week\"], [\"us\", \"rail\"], [\"us\", \"rail\"], [\"via\", \"change\"], [\"vinyl\", \"chloride\"], [\"vinyl\", \"chloride\"], [\"vinyl\", \"chloride\"], [\"vinyl\", \"chloride\"], [\"washington\", \"post\"], [\"washington\", \"post\"], [\"washington\", \"post\"], [\"washington\", \"post\"], [\"white\", \"noise\"], [\"white\", \"noise\"], [\"white\", \"noise\"], [\"white\", \"noise\"], [\"worker\", \"clean\"], [\"worker\", \"fall\"], [\"worker\", \"say\"], [\"worker\", \"say\"], [\"worker\", \"tell\"], [\"would\", \"apply\"], [\"would\", \"apply\"]]}, \"R\": 30, \"lambda.step\": 0.01, \"plot.opts\": {\"xlab\": \"PC1\", \"ylab\": \"PC2\"}, \"topic.order\": [4, 3, 2, 1]};\n",
       "\n",
       "function LDAvis_load_lib(url, callback){\n",
       "  var s = document.createElement('script');\n",
       "  s.src = url;\n",
       "  s.async = true;\n",
       "  s.onreadystatechange = s.onload = callback;\n",
       "  s.onerror = function(){console.warn(\"failed to load library \" + url);};\n",
       "  document.getElementsByTagName(\"head\")[0].appendChild(s);\n",
       "}\n",
       "\n",
       "if(typeof(LDAvis) !== \"undefined\"){\n",
       "   // already loaded: just create the visualization\n",
       "   !function(LDAvis){\n",
       "       new LDAvis(\"#\" + \"ldavis_el56526110319492008056636927\", ldavis_el56526110319492008056636927_data);\n",
       "   }(LDAvis);\n",
       "}else if(typeof define === \"function\" && define.amd){\n",
       "   // require.js is available: use it to load d3/LDAvis\n",
       "   require.config({paths: {d3: \"https://d3js.org/d3.v5\"}});\n",
       "   require([\"d3\"], function(d3){\n",
       "      window.d3 = d3;\n",
       "      LDAvis_load_lib(\"https://cdn.jsdelivr.net/gh/bmabey/pyLDAvis@3.3.1/pyLDAvis/js/ldavis.v3.0.0.js\", function(){\n",
       "        new LDAvis(\"#\" + \"ldavis_el56526110319492008056636927\", ldavis_el56526110319492008056636927_data);\n",
       "      });\n",
       "    });\n",
       "}else{\n",
       "    // require.js not available: dynamically load d3 & LDAvis\n",
       "    LDAvis_load_lib(\"https://d3js.org/d3.v5.js\", function(){\n",
       "         LDAvis_load_lib(\"https://cdn.jsdelivr.net/gh/bmabey/pyLDAvis@3.3.1/pyLDAvis/js/ldavis.v3.0.0.js\", function(){\n",
       "                 new LDAvis(\"#\" + \"ldavis_el56526110319492008056636927\", ldavis_el56526110319492008056636927_data);\n",
       "            })\n",
       "         });\n",
       "}\n",
       "</script>"
      ],
      "text/plain": [
       "<IPython.core.display.HTML object>"
      ]
     },
     "execution_count": 67,
     "metadata": {},
     "output_type": "execute_result"
    }
   ],
   "source": [
    "from sklearn.feature_extraction.text import CountVectorizer\n",
    "from sklearn.decomposition import LatentDirichletAllocation\n",
    "import nltk\n",
    "\n",
    "# Sample text\n",
    "text = [i for i in data_people.T_text]\n",
    "\n",
    "# Tokenize on bigrams\n",
    "bigram = CountVectorizer(tokenizer=lambda doc: nltk.ngrams(nltk.word_tokenize(doc.lower()), 2))\n",
    "bigram_tokens = bigram.fit_transform(text)\n",
    "\n",
    "# Train LDA model\n",
    "lda_model = LatentDirichletAllocation(n_components=4)\n",
    "lda_model.fit(bigram_tokens)\n",
    "\n",
    "from sklearn.pipeline import make_pipeline\n",
    "pipeline = make_pipeline(bigram, lda_model)\n",
    "vis_data = pyLDAvis.sklearn.prepare(lda_model, bigram_tokens, bigram)\n",
    "pyLDAvis.display(vis_data)"
   ]
  },
  {
   "cell_type": "code",
   "execution_count": null,
   "metadata": {},
   "outputs": [],
   "source": [
    "len(bigram.vocabulary_)"
   ]
  },
  {
   "cell_type": "code",
   "execution_count": 68,
   "metadata": {},
   "outputs": [
    {
     "name": "stderr",
     "output_type": "stream",
     "text": [
      "/Users/ribarragi/miniconda3/envs/Intro_AI/lib/python3.9/site-packages/sklearn/utils/deprecation.py:87: FutureWarning: Function get_feature_names is deprecated; get_feature_names is deprecated in 1.0 and will be removed in 1.2. Please use get_feature_names_out instead.\n",
      "  warnings.warn(msg, category=FutureWarning)\n",
      "/Users/ribarragi/miniconda3/envs/Intro_AI/lib/python3.9/site-packages/pyLDAvis/_prepare.py:246: FutureWarning: In a future version of pandas all arguments of DataFrame.drop except for the argument 'labels' will be keyword-only.\n",
      "  default_term_info = default_term_info.sort_values(\n",
      "/Users/ribarragi/miniconda3/envs/Intro_AI/lib/python3.9/site-packages/joblib/backports.py:36: DeprecationWarning: distutils Version classes are deprecated. Use packaging.version instead.\n",
      "  if LooseVersion(np.__version__) < '1.13':\n",
      "/Users/ribarragi/miniconda3/envs/Intro_AI/lib/python3.9/site-packages/setuptools/_distutils/version.py:346: DeprecationWarning: distutils Version classes are deprecated. Use packaging.version instead.\n",
      "  other = LooseVersion(other)\n",
      "/Users/ribarragi/miniconda3/envs/Intro_AI/lib/python3.9/site-packages/joblib/backports.py:36: DeprecationWarning: distutils Version classes are deprecated. Use packaging.version instead.\n",
      "  if LooseVersion(np.__version__) < '1.13':\n",
      "/Users/ribarragi/miniconda3/envs/Intro_AI/lib/python3.9/site-packages/setuptools/_distutils/version.py:346: DeprecationWarning: distutils Version classes are deprecated. Use packaging.version instead.\n",
      "  other = LooseVersion(other)\n",
      "/Users/ribarragi/miniconda3/envs/Intro_AI/lib/python3.9/site-packages/joblib/backports.py:36: DeprecationWarning: distutils Version classes are deprecated. Use packaging.version instead.\n",
      "  if LooseVersion(np.__version__) < '1.13':\n",
      "/Users/ribarragi/miniconda3/envs/Intro_AI/lib/python3.9/site-packages/setuptools/_distutils/version.py:346: DeprecationWarning: distutils Version classes are deprecated. Use packaging.version instead.\n",
      "  other = LooseVersion(other)\n",
      "/Users/ribarragi/miniconda3/envs/Intro_AI/lib/python3.9/site-packages/joblib/backports.py:36: DeprecationWarning: distutils Version classes are deprecated. Use packaging.version instead.\n",
      "  if LooseVersion(np.__version__) < '1.13':\n",
      "/Users/ribarragi/miniconda3/envs/Intro_AI/lib/python3.9/site-packages/setuptools/_distutils/version.py:346: DeprecationWarning: distutils Version classes are deprecated. Use packaging.version instead.\n",
      "  other = LooseVersion(other)\n",
      "/Users/ribarragi/miniconda3/envs/Intro_AI/lib/python3.9/site-packages/joblib/backports.py:36: DeprecationWarning: distutils Version classes are deprecated. Use packaging.version instead.\n",
      "  if LooseVersion(np.__version__) < '1.13':\n",
      "/Users/ribarragi/miniconda3/envs/Intro_AI/lib/python3.9/site-packages/setuptools/_distutils/version.py:346: DeprecationWarning: distutils Version classes are deprecated. Use packaging.version instead.\n",
      "  other = LooseVersion(other)\n",
      "/Users/ribarragi/miniconda3/envs/Intro_AI/lib/python3.9/site-packages/joblib/backports.py:36: DeprecationWarning: distutils Version classes are deprecated. Use packaging.version instead.\n",
      "  if LooseVersion(np.__version__) < '1.13':\n",
      "/Users/ribarragi/miniconda3/envs/Intro_AI/lib/python3.9/site-packages/setuptools/_distutils/version.py:346: DeprecationWarning: distutils Version classes are deprecated. Use packaging.version instead.\n",
      "  other = LooseVersion(other)\n",
      "/Users/ribarragi/miniconda3/envs/Intro_AI/lib/python3.9/site-packages/joblib/backports.py:36: DeprecationWarning: distutils Version classes are deprecated. Use packaging.version instead.\n",
      "  if LooseVersion(np.__version__) < '1.13':\n",
      "/Users/ribarragi/miniconda3/envs/Intro_AI/lib/python3.9/site-packages/joblib/backports.py:36: DeprecationWarning: distutils Version classes are deprecated. Use packaging.version instead.\n",
      "  if LooseVersion(np.__version__) < '1.13':\n",
      "/Users/ribarragi/miniconda3/envs/Intro_AI/lib/python3.9/site-packages/setuptools/_distutils/version.py:346: DeprecationWarning: distutils Version classes are deprecated. Use packaging.version instead.\n",
      "  other = LooseVersion(other)\n",
      "/Users/ribarragi/miniconda3/envs/Intro_AI/lib/python3.9/site-packages/setuptools/_distutils/version.py:346: DeprecationWarning: distutils Version classes are deprecated. Use packaging.version instead.\n",
      "  other = LooseVersion(other)\n",
      "/Users/ribarragi/miniconda3/envs/Intro_AI/lib/python3.9/site-packages/joblib/backports.py:36: DeprecationWarning: distutils Version classes are deprecated. Use packaging.version instead.\n",
      "  if LooseVersion(np.__version__) < '1.13':\n",
      "/Users/ribarragi/miniconda3/envs/Intro_AI/lib/python3.9/site-packages/setuptools/_distutils/version.py:346: DeprecationWarning: distutils Version classes are deprecated. Use packaging.version instead.\n",
      "  other = LooseVersion(other)\n",
      "/Users/ribarragi/miniconda3/envs/Intro_AI/lib/python3.9/site-packages/joblib/backports.py:36: DeprecationWarning: distutils Version classes are deprecated. Use packaging.version instead.\n",
      "  if LooseVersion(np.__version__) < '1.13':\n",
      "/Users/ribarragi/miniconda3/envs/Intro_AI/lib/python3.9/site-packages/setuptools/_distutils/version.py:346: DeprecationWarning: distutils Version classes are deprecated. Use packaging.version instead.\n",
      "  other = LooseVersion(other)\n",
      "/Users/ribarragi/miniconda3/envs/Intro_AI/lib/python3.9/site-packages/joblib/backports.py:36: DeprecationWarning: distutils Version classes are deprecated. Use packaging.version instead.\n",
      "  if LooseVersion(np.__version__) < '1.13':\n",
      "/Users/ribarragi/miniconda3/envs/Intro_AI/lib/python3.9/site-packages/setuptools/_distutils/version.py:346: DeprecationWarning: distutils Version classes are deprecated. Use packaging.version instead.\n",
      "  other = LooseVersion(other)\n",
      "/Users/ribarragi/miniconda3/envs/Intro_AI/lib/python3.9/site-packages/joblib/backports.py:36: DeprecationWarning: distutils Version classes are deprecated. Use packaging.version instead.\n",
      "  if LooseVersion(np.__version__) < '1.13':\n",
      "/Users/ribarragi/miniconda3/envs/Intro_AI/lib/python3.9/site-packages/setuptools/_distutils/version.py:346: DeprecationWarning: distutils Version classes are deprecated. Use packaging.version instead.\n",
      "  other = LooseVersion(other)\n",
      "/Users/ribarragi/miniconda3/envs/Intro_AI/lib/python3.9/site-packages/joblib/backports.py:36: DeprecationWarning: distutils Version classes are deprecated. Use packaging.version instead.\n",
      "  if LooseVersion(np.__version__) < '1.13':\n",
      "/Users/ribarragi/miniconda3/envs/Intro_AI/lib/python3.9/site-packages/setuptools/_distutils/version.py:346: DeprecationWarning: distutils Version classes are deprecated. Use packaging.version instead.\n",
      "  other = LooseVersion(other)\n",
      "/Users/ribarragi/miniconda3/envs/Intro_AI/lib/python3.9/site-packages/joblib/backports.py:36: DeprecationWarning: distutils Version classes are deprecated. Use packaging.version instead.\n",
      "  if LooseVersion(np.__version__) < '1.13':\n",
      "/Users/ribarragi/miniconda3/envs/Intro_AI/lib/python3.9/site-packages/setuptools/_distutils/version.py:346: DeprecationWarning: distutils Version classes are deprecated. Use packaging.version instead.\n",
      "  other = LooseVersion(other)\n",
      "/Users/ribarragi/miniconda3/envs/Intro_AI/lib/python3.9/site-packages/joblib/backports.py:36: DeprecationWarning: distutils Version classes are deprecated. Use packaging.version instead.\n",
      "  if LooseVersion(np.__version__) < '1.13':\n",
      "/Users/ribarragi/miniconda3/envs/Intro_AI/lib/python3.9/site-packages/setuptools/_distutils/version.py:346: DeprecationWarning: distutils Version classes are deprecated. Use packaging.version instead.\n",
      "  other = LooseVersion(other)\n",
      "/Users/ribarragi/miniconda3/envs/Intro_AI/lib/python3.9/site-packages/joblib/backports.py:36: DeprecationWarning: distutils Version classes are deprecated. Use packaging.version instead.\n",
      "  if LooseVersion(np.__version__) < '1.13':\n",
      "/Users/ribarragi/miniconda3/envs/Intro_AI/lib/python3.9/site-packages/setuptools/_distutils/version.py:346: DeprecationWarning: distutils Version classes are deprecated. Use packaging.version instead.\n",
      "  other = LooseVersion(other)\n",
      "/Users/ribarragi/miniconda3/envs/Intro_AI/lib/python3.9/site-packages/joblib/backports.py:36: DeprecationWarning: distutils Version classes are deprecated. Use packaging.version instead.\n",
      "  if LooseVersion(np.__version__) < '1.13':\n",
      "/Users/ribarragi/miniconda3/envs/Intro_AI/lib/python3.9/site-packages/setuptools/_distutils/version.py:346: DeprecationWarning: distutils Version classes are deprecated. Use packaging.version instead.\n",
      "  other = LooseVersion(other)\n",
      "/Users/ribarragi/miniconda3/envs/Intro_AI/lib/python3.9/site-packages/joblib/backports.py:36: DeprecationWarning: distutils Version classes are deprecated. Use packaging.version instead.\n",
      "  if LooseVersion(np.__version__) < '1.13':\n",
      "/Users/ribarragi/miniconda3/envs/Intro_AI/lib/python3.9/site-packages/setuptools/_distutils/version.py:346: DeprecationWarning: distutils Version classes are deprecated. Use packaging.version instead.\n",
      "  other = LooseVersion(other)\n",
      "/Users/ribarragi/miniconda3/envs/Intro_AI/lib/python3.9/site-packages/joblib/backports.py:36: DeprecationWarning: distutils Version classes are deprecated. Use packaging.version instead.\n",
      "  if LooseVersion(np.__version__) < '1.13':\n",
      "/Users/ribarragi/miniconda3/envs/Intro_AI/lib/python3.9/site-packages/setuptools/_distutils/version.py:346: DeprecationWarning: distutils Version classes are deprecated. Use packaging.version instead.\n",
      "  other = LooseVersion(other)\n",
      "/Users/ribarragi/miniconda3/envs/Intro_AI/lib/python3.9/site-packages/joblib/backports.py:36: DeprecationWarning: distutils Version classes are deprecated. Use packaging.version instead.\n",
      "  if LooseVersion(np.__version__) < '1.13':\n",
      "/Users/ribarragi/miniconda3/envs/Intro_AI/lib/python3.9/site-packages/setuptools/_distutils/version.py:346: DeprecationWarning: distutils Version classes are deprecated. Use packaging.version instead.\n",
      "  other = LooseVersion(other)\n",
      "/Users/ribarragi/miniconda3/envs/Intro_AI/lib/python3.9/site-packages/joblib/backports.py:36: DeprecationWarning: distutils Version classes are deprecated. Use packaging.version instead.\n",
      "  if LooseVersion(np.__version__) < '1.13':\n",
      "/Users/ribarragi/miniconda3/envs/Intro_AI/lib/python3.9/site-packages/setuptools/_distutils/version.py:346: DeprecationWarning: distutils Version classes are deprecated. Use packaging.version instead.\n",
      "  other = LooseVersion(other)\n",
      "/Users/ribarragi/miniconda3/envs/Intro_AI/lib/python3.9/site-packages/joblib/backports.py:36: DeprecationWarning: distutils Version classes are deprecated. Use packaging.version instead.\n",
      "  if LooseVersion(np.__version__) < '1.13':\n",
      "/Users/ribarragi/miniconda3/envs/Intro_AI/lib/python3.9/site-packages/setuptools/_distutils/version.py:346: DeprecationWarning: distutils Version classes are deprecated. Use packaging.version instead.\n",
      "  other = LooseVersion(other)\n"
     ]
    },
    {
     "data": {
      "text/html": [
       "\n",
       "<link rel=\"stylesheet\" type=\"text/css\" href=\"https://cdn.jsdelivr.net/gh/bmabey/pyLDAvis@3.3.1/pyLDAvis/js/ldavis.v1.0.0.css\">\n",
       "\n",
       "\n",
       "<div id=\"ldavis_el56526111308727683199711473\"></div>\n",
       "<script type=\"text/javascript\">\n",
       "\n",
       "var ldavis_el56526111308727683199711473_data = {\"mdsDat\": {\"x\": [0.15088865101242688, -0.13146263325111476, -0.00019943660923054006, -0.01922658115208154], \"y\": [0.0737708207170102, 0.0838344257591062, -0.16504291061524273, 0.007437664139126343], \"topics\": [1, 2, 3, 4], \"cluster\": [1, 1, 1, 1], \"Freq\": [25.517842771159728, 25.32518454243516, 24.72975040702423, 24.42722227938088]}, \"tinfo\": {\"Term\": [[\"derails\", \"north\", \"carolina\"], [\"ceo\", \"testifies\", \"congress\"], [\"north\", \"carolina\", \"danger\"], [\"alabama\", \"hour\", \"ceo\"], [\"danger\", \"public\", \"report\"], [\"carolina\", \"danger\", \"public\"], [\"hour\", \"ceo\", \"testifies\"], [\"tell\", \"shelter\", \"place\"], [\"demand\", \"pay\", \"toxic\"], [\"derails\", \"alabama\", \"hour\"], [\"resident\", \"tell\", \"shelter\"], [\"pay\", \"toxic\", \"sign\"], [\"toxic\", \"sign\", \"petition\"], [\"sign\", \"petition\", \"via\"], [\"petition\", \"via\", \"change\"], [\"would\", \"apply\", \"derailed\"], [\"categorize\", \"high\", \"hazard\"], [\"derail\", \"near\", \"springfield\"], [\"effect\", \"would\", \"apply\"], [\"high\", \"hazard\", \"cargo\"], [\"even\", \"safety\", \"rule\"], [\"apply\", \"derailed\", \"categorize\"], [\"say\", \"toxins\", \"aboard\"], [\"derailed\", \"categorize\", \"high\"], [\"worker\", \"tell\", \"skip\"], [\"us\", \"rail\", \"worker\"], [\"rail\", \"worker\", \"tell\"], [\"tell\", \"skip\", \"inspection\"], [\"still\", \"effect\", \"would\"], [\"safety\", \"rule\", \"still\"], [\"derail\", \"near\", \"springfield\"], [\"apply\", \"derailed\", \"categorize\"], [\"derailed\", \"categorize\", \"high\"], [\"even\", \"safety\", \"rule\"], [\"still\", \"effect\", \"would\"], [\"safety\", \"rule\", \"still\"], [\"rule\", \"still\", \"effect\"], [\"categorize\", \"high\", \"hazard\"], [\"cargo\", \"derail\", \"near\"], [\"would\", \"apply\", \"derailed\"], [\"near\", \"springfield\", \"saturday\"], [\"change\", \"make\", \"trump\"], [\"regulatory\", \"change\", \"make\"], [\"possible\", \"regulatory\", \"change\"], [\"every\", \"possible\", \"regulatory\"], [\"review\", \"every\", \"possible\"], [\"post\", \"review\", \"every\"], [\"find\", \"none\", \"contribute\"], [\"washington\", \"post\", \"review\"], [\"apply\", \"high\", \"hazard\"], [\"order\", \"clean\", \"site\"], [\"make\", \"trump\", \"find\"], [\"trump\", \"find\", \"none\"], [\"freight\", \"contain\", \"3\"], [\"3\", \"placarded\", \"class\"], [\"placarded\", \"class\", \"3\"], [\"contain\", \"3\", \"placarded\"], [\"springfield\", \"saturday\", \"even\"], [\"mixed\", \"freight\", \"contain\"], [\"would\", \"apply\", \"high\"], [\"flammable\", \"liquid\", \"car\"], [\"3\", \"flammable\", \"liquid\"], [\"class\", \"3\", \"flammable\"], [\"derail\", \"mixed\", \"freight\"], [\"effect\", \"would\", \"apply\"], [\"high\", \"hazard\", \"cargo\"], [\"shelter\", \"place\", \"order\"], [\"epa\", \"order\", \"clean\"], [\"trump\", \"roll\", \"back\"], [\"high\", \"hazard\", \"flammable\"], [\"environmental\", \"protection\", \"agency\"], [\"transportation\", \"safety\", \"board\"], [\"derails\", \"north\", \"carolina\"], [\"north\", \"carolina\", \"danger\"], [\"danger\", \"public\", \"report\"], [\"carolina\", \"danger\", \"public\"], [\"tell\", \"shelter\", \"place\"], [\"resident\", \"tell\", \"shelter\"], [\"say\", \"toxins\", \"aboard\"], [\"another\", \"derails\", \"railroad\"], [\"alabama\", \"ceo\", \"testifies\"], [\"derails\", \"railroad\", \"say\"], [\"railroad\", \"say\", \"toxins\"], [\"derails\", \"alabama\", \"ceo\"], [\"get\", \"railroad\", \"open\"], [\"like\", \"mickey\", \"mouse\"], [\"chemical\", \"could\", \"get\"], [\"could\", \"get\", \"railroad\"], [\"town\", \"chemical\", \"could\"], [\"sound\", \"like\", \"mickey\"], [\"mickey\", \"mouse\", \"resident\"], [\"firm\", \"test\", \"air\"], [\"ceo\", \"apologize\", \"congress\"], [\"test\", \"air\", \"home\"], [\"air\", \"home\", \"expert\"], [\"home\", \"expert\", \"warn\"], [\"expert\", \"warn\", \"check\"], [\"warn\", \"check\", \"lack\"], [\"resident\", \"shock\", \"illness\"], [\"rail\", \"worker\", \"say\"], [\"governor\", \"dewine\", \"never\"], [\"dewine\", \"never\", \"declare\"], [\"another\", \"derails\", \"north\"], [\"derail\", \"hazardous\", \"material\"], [\"declare\", \"state\", \"emergency\"], [\"carry\", \"toxic\", \"chemical\"], [\"toxic\", \"chemical\", \"derail\"], [\"national\", \"transportation\", \"safety\"], [\"transportation\", \"safety\", \"board\"], [\"ceo\", \"alan\", \"shaw\"], [\"ceo\", \"testifies\", \"congress\"], [\"alabama\", \"hour\", \"ceo\"], [\"hour\", \"ceo\", \"testifies\"], [\"worker\", \"tell\", \"skip\"], [\"us\", \"rail\", \"worker\"], [\"rail\", \"worker\", \"tell\"], [\"tell\", \"skip\", \"inspection\"], [\"launch\", \"myid\", \"emergency\"], [\"myid\", \"emergency\", \"service\"], [\"emergency\", \"service\", \"surveil\"], [\"audio\", \"reveals\", \"us\"], [\"reveals\", \"us\", \"rail\"], [\"biometrics\", \"1\", \"week\"], [\"service\", \"surveil\", \"biometrics\"], [\"surveil\", \"biometrics\", \"1\"], [\"leak\", \"audio\", \"reveals\"], [\"skip\", \"inspection\", \"crash\"], [\"farmer\", \"sound\", \"alarm\"], [\"local\", \"farmer\", \"sound\"], [\"sound\", \"alarm\", \"launch\"], [\"alarm\", \"launch\", \"myid\"], [\"crash\", \"prompt\", \"scrutiny\"], [\"inspection\", \"crash\", \"prompt\"], [\"prompt\", \"scrutiny\", \"industry\"], [\"testifies\", \"congress\", \"via\"], [\"congress\", \"via\", \"nbcnews\"], [\"biden\", \"administration\", \"call\"], [\"fiery\", \"pennsylvania\", \"border\"], [\"buttigieg\", \"claim\", \"misinformation\"], [\"truck\", \"cleveland\", \"employee\"], [\"worker\", \"fall\", \"ill\"], [\"ceo\", \"testify\", \"congress\"], [\"derails\", \"alabama\", \"hour\"], [\"dump\", \"truck\", \"cleveland\"], [\"animal\", \"fall\", \"sick\"], [\"car\", \"cargo\", \"derail\"], [\"ceo\", \"alan\", \"shaw\"], [\"demand\", \"pay\", \"toxic\"], [\"pay\", \"toxic\", \"sign\"], [\"toxic\", \"sign\", \"petition\"], [\"sign\", \"petition\", \"via\"], [\"petition\", \"via\", \"change\"], [\"multimillion\", \"dollar\", \"pr\"], [\"illusion\", \"us\", \"rail\"], [\"rail\", \"firm\", \"multimillion\"], [\"us\", \"rail\", \"firm\"], [\"craft\", \"illusion\", \"us\"], [\"dollar\", \"pr\", \"push\"], [\"firm\", \"multimillion\", \"dollar\"], [\"delivers\", \"truckloads\", \"water\"], [\"exclusive\", \"trump\", \"delivers\"], [\"trump\", \"delivers\", \"truckloads\"], [\"freight\", \"derail\", \"north\"], [\"blame\", \"trump\", \"repealing\"], [\"repealing\", \"would\", \"prevent\"], [\"trump\", \"repealing\", \"would\"], [\"chair\", \"brake\", \"rule\"], [\"ntsb\", \"chair\", \"brake\"], [\"rule\", \"buttigieg\", \"blame\"], [\"pete\", \"buttigieg\", \"visit\"], [\"taxpayer\", \"foot\", \"bill\"], [\"hour\", \"company\", \"ceo\"], [\"attorney\", \"general\", \"sue\"], [\"j\", \"vance\", \"taxpayer\"], [\"vance\", \"taxpayer\", \"foot\"], [\"water\", \"via\", \"breitbartnews\"], [\"truckloads\", \"water\", \"via\"], [\"derail\", \"north\", \"carolina\"], [\"buttigieg\", \"blame\", \"trump\"], [\"toxic\", \"chemical\", \"explosion\"], [\"derail\", \"calhoun\", \"county\"], [\"calhoun\", \"county\", \"alabama\"], [\"transportation\", \"secretary\", \"pete\"], [\"carry\", \"hazardous\", \"material\"], [\"secretary\", \"pete\", \"buttigieg\"], [\"ceo\", \"alan\", \"shaw\"], [\"trump\", \"visit\", \"toxic\"], [\"carry\", \"toxic\", \"chemical\"], [\"gov\", \"mike\", \"dewine\"]], \"Freq\": [409.0, 330.0, 332.0, 317.0, 287.0, 284.0, 254.0, 239.0, 229.0, 291.0, 213.0, 208.0, 208.0, 206.0, 204.0, 181.0, 178.0, 169.0, 193.0, 201.0, 168.0, 162.0, 161.0, 160.0, 155.0, 154.0, 154.0, 154.0, 153.0, 149.0, 168.84505657868417, 162.33450629744547, 159.73200617327413, 168.16688269208817, 152.567917794963, 149.3105375105799, 148.65920153877462, 177.80376581312748, 129.12114023565456, 180.95744141492185, 114.79182562580615, 111.5299124158351, 109.58218705720157, 107.62823349338241, 107.6282334933824, 106.97691436007939, 99.81325860791739, 99.161598715778, 98.51070191216697, 93.94459912204996, 88.73505280805244, 87.4380183701567, 87.4380183701567, 86.78680007094437, 85.48420908884975, 85.48420908884651, 84.83289847900184, 84.83260266495058, 108.77194861904213, 78.96756196229931, 107.43341043423096, 111.21784659660179, 111.21783892563894, 109.43771061039286, 184.86135087977453, 191.15444447008466, 105.56031437347754, 144.73125968004436, 118.1057527842163, 106.60949604882681, 109.264287458299, 102.52685002096747, 409.05607815708134, 332.3483784251929, 287.4933262379167, 284.24321167528547, 239.38387808381736, 213.38372264333583, 160.7271584785883, 130.1744492855991, 130.81908067784428, 128.87477459206463, 128.22469060100735, 124.31905119134105, 95.06853392538997, 95.06480026495095, 92.4708087388003, 92.47080873846005, 92.47080873835156, 92.4699766912197, 86.6195795805862, 72.96740115365508, 74.25546454747328, 71.66729334712872, 69.06980751391087, 69.06980751391087, 68.41973021473493, 68.41973021473493, 67.11636229811303, 63.859797740898244, 62.56484024593331, 61.26937899916647, 105.67593416603529, 63.780404297086555, 101.25640768281947, 170.81212073569463, 111.12141712146365, 104.08283069796757, 103.79831160715774, 89.62860478939467, 329.52943987571473, 316.6355725893379, 254.11855969763064, 154.85551977727238, 154.2093226072101, 153.56637659061826, 153.56593711198835, 141.96480631755324, 141.96480631755324, 140.0311224781665, 139.38653207395885, 139.38653207395876, 138.097885748623, 138.09788574862273, 138.09788574862293, 135.5186377817959, 134.874966185412, 134.8737730902165, 134.23010107171683, 132.94129099498906, 131.65241071307463, 117.47170441664956, 116.82713662747766, 116.82713662747766, 70.41854604939093, 68.48482974733697, 66.54515898544925, 65.26102292260258, 63.96560819745181, 62.6833990941104, 65.16190588048927, 120.68528533915666, 255.42051451203312, 116.44513157283869, 78.25047482903136, 136.98009082504566, 141.69090258601585, 228.7690198441146, 207.57770837392684, 207.57770837392684, 206.29313416596176, 204.3666427724864, 111.25247733854626, 111.2524772782547, 111.25247727825449, 111.25247727825398, 111.25247727825246, 110.61030550930286, 110.61030550930288, 130.213326097443, 77.21863122717005, 128.26497012796892, 68.86682028208304, 65.66048454457497, 65.66048454457497, 65.66048454457497, 65.01837747903693, 65.01837747903693, 65.01831963892182, 103.25262679055893, 53.455905327704514, 52.813212159490455, 52.81241445873802, 48.96442191461714, 48.96442191461714, 48.32098511052862, 48.320985110528575, 86.10457039881693, 89.82462180015425, 82.91032321789041, 94.7843378630605, 141.26976704191802, 130.3083273202347, 152.80089163496194, 128.52291948429973, 106.67789741736404, 73.76706557969713, 79.28913530234254, 66.45594622872251], \"Total\": [409.0, 330.0, 332.0, 317.0, 287.0, 284.0, 254.0, 239.0, 229.0, 291.0, 213.0, 208.0, 208.0, 206.0, 204.0, 181.0, 178.0, 169.0, 193.0, 201.0, 168.0, 162.0, 161.0, 160.0, 155.0, 154.0, 154.0, 154.0, 153.0, 149.0, 169.33689513912577, 162.82375878046383, 160.21854794265545, 168.68515930524134, 153.05411419135203, 149.7975404307465, 149.1462277284284, 178.4530499566489, 129.6068778861845, 181.71080025859544, 115.27799544302466, 112.02139502622113, 110.06750099941722, 108.11356382906592, 108.11356382906591, 107.4622513422662, 100.29782322417998, 99.64650682217808, 98.99519936758517, 94.43597285029513, 89.22547719857883, 87.9228842280881, 87.9228842280881, 87.27157714656404, 85.9689529623492, 85.96895296234915, 85.31764055234909, 85.31763982149666, 109.41589584432066, 79.45581676378937, 108.11320162311894, 112.02083236788077, 112.02083235328286, 110.71730360002233, 193.32222295622785, 201.79030209346948, 108.75959355806938, 162.14019281353777, 176.54952947666024, 166.44349288506447, 212.97301280469787, 292.5231816373562, 409.54300477061463, 332.83438834146824, 287.9793430264527, 284.728977171714, 239.87389802469116, 213.87100670123493, 161.21506022596475, 130.66162955632586, 131.31165894902745, 129.3614872421047, 128.71141399965666, 124.81093504077495, 95.5576795387462, 95.55768251830337, 92.95740505885624, 92.95740505885341, 92.95740505885242, 92.95737844775125, 87.10672344476124, 73.45519883302389, 74.75523456097598, 72.15505303061758, 69.55477857941156, 69.55477857941156, 68.90470542939788, 68.90470542939788, 67.60452480589129, 64.35413071867978, 63.05400922075829, 61.75390261971361, 106.60349991966471, 64.35342271875227, 115.01606353684822, 271.86950110666623, 193.61309353060938, 285.42037883119224, 292.5231816373562, 371.9817054364161, 330.02014505531884, 317.1288566071614, 254.6059282975713, 155.3427995051385, 154.69825077452913, 154.05366804029205, 154.05366640896654, 142.45149156310683, 142.45149156310683, 140.51779425199655, 139.87322463715543, 139.87322463715535, 138.5840957753131, 138.58409577531282, 138.58409577531302, 136.0058362237406, 135.36126564055652, 135.36127380987836, 134.71670044042537, 133.42757022901299, 132.1384366424888, 117.95799158989722, 117.31342587820298, 117.31342587820298, 70.90469414669285, 68.97099709968641, 67.03734105500584, 65.74817660550868, 64.45909452392495, 63.16990418002402, 65.74914653914314, 125.72604195343413, 291.06579688381004, 137.5080759690157, 88.40812681231225, 260.9738830451875, 371.9817054364161, 229.25628009248197, 208.0649727959126, 208.0649727959126, 206.78065502245065, 204.85417270032747, 111.7408616752693, 111.7408616758716, 111.74086167587174, 111.74086167587171, 111.74086167587166, 111.09870095996347, 111.09870095996351, 131.0100188054006, 77.70633571526089, 129.0838496977251, 69.35830072306247, 66.14743368817548, 66.14743368817548, 66.14743368817548, 65.50527220781417, 65.50527220781417, 65.50527292027074, 104.0375708505768, 53.946423398756075, 53.30426926669206, 53.30425131813449, 49.451252930808565, 49.451252930808565, 48.809103740831404, 48.80910374083141, 88.65140202798996, 95.11210186090416, 95.18813667320977, 126.30442638596381, 232.73369444057616, 246.47721944932172, 354.1910375979901, 280.3419267847579, 371.9817054364161, 101.69671115310408, 271.86950110666623, 265.22493718930014], \"Category\": [\"Default\", \"Default\", \"Default\", \"Default\", \"Default\", \"Default\", \"Default\", \"Default\", \"Default\", \"Default\", \"Default\", \"Default\", \"Default\", \"Default\", \"Default\", \"Default\", \"Default\", \"Default\", \"Default\", \"Default\", \"Default\", \"Default\", \"Default\", \"Default\", \"Default\", \"Default\", \"Default\", \"Default\", \"Default\", \"Default\", \"Topic1\", \"Topic1\", \"Topic1\", \"Topic1\", \"Topic1\", \"Topic1\", \"Topic1\", \"Topic1\", \"Topic1\", \"Topic1\", \"Topic1\", \"Topic1\", \"Topic1\", \"Topic1\", \"Topic1\", \"Topic1\", \"Topic1\", \"Topic1\", \"Topic1\", \"Topic1\", \"Topic1\", \"Topic1\", \"Topic1\", \"Topic1\", \"Topic1\", \"Topic1\", \"Topic1\", \"Topic1\", \"Topic1\", \"Topic1\", \"Topic1\", \"Topic1\", \"Topic1\", \"Topic1\", \"Topic1\", \"Topic1\", \"Topic1\", \"Topic1\", \"Topic1\", \"Topic1\", \"Topic1\", \"Topic1\", \"Topic2\", \"Topic2\", \"Topic2\", \"Topic2\", \"Topic2\", \"Topic2\", \"Topic2\", \"Topic2\", \"Topic2\", \"Topic2\", \"Topic2\", \"Topic2\", \"Topic2\", \"Topic2\", \"Topic2\", \"Topic2\", \"Topic2\", \"Topic2\", \"Topic2\", \"Topic2\", \"Topic2\", \"Topic2\", \"Topic2\", \"Topic2\", \"Topic2\", \"Topic2\", \"Topic2\", \"Topic2\", \"Topic2\", \"Topic2\", \"Topic2\", \"Topic2\", \"Topic2\", \"Topic2\", \"Topic2\", \"Topic2\", \"Topic2\", \"Topic2\", \"Topic3\", \"Topic3\", \"Topic3\", \"Topic3\", \"Topic3\", \"Topic3\", \"Topic3\", \"Topic3\", \"Topic3\", \"Topic3\", \"Topic3\", \"Topic3\", \"Topic3\", \"Topic3\", \"Topic3\", \"Topic3\", \"Topic3\", \"Topic3\", \"Topic3\", \"Topic3\", \"Topic3\", \"Topic3\", \"Topic3\", \"Topic3\", \"Topic3\", \"Topic3\", \"Topic3\", \"Topic3\", \"Topic3\", \"Topic3\", \"Topic3\", \"Topic3\", \"Topic3\", \"Topic3\", \"Topic3\", \"Topic3\", \"Topic3\", \"Topic4\", \"Topic4\", \"Topic4\", \"Topic4\", \"Topic4\", \"Topic4\", \"Topic4\", \"Topic4\", \"Topic4\", \"Topic4\", \"Topic4\", \"Topic4\", \"Topic4\", \"Topic4\", \"Topic4\", \"Topic4\", \"Topic4\", \"Topic4\", \"Topic4\", \"Topic4\", \"Topic4\", \"Topic4\", \"Topic4\", \"Topic4\", \"Topic4\", \"Topic4\", \"Topic4\", \"Topic4\", \"Topic4\", \"Topic4\", \"Topic4\", \"Topic4\", \"Topic4\", \"Topic4\", \"Topic4\", \"Topic4\", \"Topic4\", \"Topic4\", \"Topic4\", \"Topic4\", \"Topic4\", \"Topic4\"], \"logprob\": [30.0, 29.0, 28.0, 27.0, 26.0, 25.0, 24.0, 23.0, 22.0, 21.0, 20.0, 19.0, 18.0, 17.0, 16.0, 15.0, 14.0, 13.0, 12.0, 11.0, 10.0, 9.0, 8.0, 7.0, 6.0, 5.0, 4.0, 3.0, 2.0, 1.0, -7.1403, -7.1796, -7.1957, -7.1443, -7.2416, -7.2632, -7.2676, -7.0886, -7.4085, -7.071, -7.5261, -7.5549, -7.5726, -7.5906, -7.5906, -7.5966, -7.6659, -7.6725, -7.6791, -7.7265, -7.7836, -7.7983, -7.7983, -7.8058, -7.8209, -7.8209, -7.8286, -7.8286, -7.58, -7.9002, -7.5924, -7.5578, -7.5578, -7.5739, -7.0496, -7.0162, -7.61, -7.2944, -7.4977, -7.6001, -7.5755, -7.6391, -6.2478, -6.4555, -6.6005, -6.6118, -6.7836, -6.8986, -7.182, -7.3928, -7.3878, -7.4028, -7.4079, -7.4388, -7.7071, -7.7071, -7.7348, -7.7348, -7.7348, -7.7348, -7.8001, -7.9717, -7.9542, -7.9896, -8.0265, -8.0265, -8.036, -8.036, -8.0552, -8.105, -8.1255, -8.1464, -7.6013, -8.1062, -7.644, -7.1211, -7.551, -7.6165, -7.6192, -7.766, -6.4402, -6.4801, -6.7001, -7.1954, -7.1996, -7.2037, -7.2037, -7.2823, -7.2823, -7.296, -7.3006, -7.3006, -7.3099, -7.3099, -7.3099, -7.3288, -7.3335, -7.3335, -7.3383, -7.348, -7.3577, -7.4717, -7.4772, -7.4772, -7.9834, -8.0113, -8.04, -8.0595, -8.0795, -8.0998, -8.061, -7.4447, -6.695, -7.4805, -7.878, -7.318, -7.2842, -6.7929, -6.8901, -6.8901, -6.8963, -6.9056, -7.5138, -7.5138, -7.5138, -7.5138, -7.5138, -7.5195, -7.5195, -7.3564, -7.8789, -7.3715, -7.9934, -8.0411, -8.0411, -8.0411, -8.0509, -8.0509, -8.0509, -7.5884, -8.2467, -8.2588, -8.2588, -8.3345, -8.3345, -8.3477, -8.3477, -7.77, -7.7277, -7.8078, -7.674, -7.2749, -7.3557, -7.1964, -7.3695, -7.5557, -7.9247, -7.8525, -8.029], \"loglift\": [30.0, 29.0, 28.0, 27.0, 26.0, 25.0, 24.0, 23.0, 22.0, 21.0, 20.0, 19.0, 18.0, 17.0, 16.0, 15.0, 14.0, 13.0, 12.0, 11.0, 10.0, 9.0, 8.0, 7.0, 6.0, 5.0, 4.0, 3.0, 2.0, 1.0, 1.3629, 1.3628, 1.3628, 1.3627, 1.3626, 1.3625, 1.3625, 1.3621, 1.362, 1.3616, 1.3616, 1.3614, 1.3614, 1.3613, 1.3613, 1.3613, 1.3609, 1.3609, 1.3609, 1.3606, 1.3603, 1.3603, 1.3603, 1.3602, 1.3601, 1.3601, 1.3601, 1.3601, 1.3599, 1.3596, 1.3595, 1.3586, 1.3586, 1.3542, 1.321, 1.3116, 1.3359, 1.2522, 0.9638, 0.9203, 0.6984, 0.3174, 1.3722, 1.3719, 1.3717, 1.3717, 1.3713, 1.3711, 1.3703, 1.3696, 1.3696, 1.3696, 1.3696, 1.3694, 1.3682, 1.3682, 1.3681, 1.3681, 1.3681, 1.3681, 1.3678, 1.3667, 1.3667, 1.3666, 1.3664, 1.3664, 1.3663, 1.3663, 1.3661, 1.3657, 1.3656, 1.3655, 1.3646, 1.3644, 1.246, 0.9086, 0.8181, 0.3646, 0.3373, -0.0498, 1.3957, 1.3956, 1.3952, 1.394, 1.394, 1.394, 1.394, 1.3937, 1.3937, 1.3937, 1.3937, 1.3937, 1.3936, 1.3936, 1.3936, 1.3936, 1.3936, 1.3936, 1.3935, 1.3935, 1.3935, 1.393, 1.393, 1.393, 1.3903, 1.3901, 1.3898, 1.3897, 1.3895, 1.3894, 1.3882, 1.3562, 1.2665, 1.2309, 1.2751, 0.7526, 0.432, 1.4073, 1.4071, 1.4071, 1.4071, 1.4071, 1.4051, 1.4051, 1.4051, 1.4051, 1.4051, 1.4051, 1.4051, 1.4034, 1.4032, 1.4031, 1.4024, 1.4021, 1.4021, 1.4021, 1.402, 1.402, 1.402, 1.4019, 1.4003, 1.4002, 1.4002, 1.3996, 1.3996, 1.3994, 1.3994, 1.3803, 1.3523, 1.2714, 1.1224, 0.9102, 0.7721, 0.5688, 0.6296, 0.1604, 1.0884, 0.1773, 0.0254]}, \"token.table\": {\"Topic\": [1, 1, 2, 2, 3, 3, 1, 3, 2, 4, 2, 1, 1, 4, 3, 3, 3, 4, 1, 4, 3, 1, 2, 3, 4, 1, 2, 3, 1, 2, 1, 2, 3, 4, 2, 3, 4, 1, 1, 2, 3, 4, 2, 3, 2, 3, 4, 4, 1, 2, 1, 3, 1, 2, 4, 3, 2, 1, 2, 3, 4, 4, 1, 4, 2, 1, 2, 1, 1, 4, 1, 2, 1, 3, 2, 2, 2, 4, 1, 3, 1, 4, 3, 1, 2, 3, 4, 1, 2, 1, 1, 4, 2, 3, 3, 1, 4, 2, 1, 1, 4, 2, 1, 2, 3, 4, 2, 1, 3, 4, 1, 2, 3, 2, 3, 4, 4, 3, 4, 3, 3, 2, 3, 1, 2, 1, 4, 3, 1, 2, 3, 4, 1, 2, 4, 1, 4, 4, 4, 1, 1, 1, 3, 4, 2, 3, 2, 1, 4, 2, 2, 3, 1, 4, 1, 1, 2, 1, 2, 3, 4, 3, 1, 2, 4, 3, 3, 2, 1, 1, 3, 4, 2, 3, 2, 3, 2, 1, 2, 3, 4, 2, 4, 4, 1, 2, 3, 4, 1, 2, 3, 4, 3, 4, 4, 1, 4, 1, 2, 3, 4, 1, 2, 3, 4, 4, 3, 4, 2, 1, 4, 3, 3, 1, 1], \"Freq\": [0.9908871203123334, 0.9887290361350153, 0.9920238610381289, 0.9976265706219702, 0.9995936774453766, 0.9989523363072369, 0.11311177332407116, 0.8822718319277549, 0.994338835778192, 0.009380555054511245, 0.9949363132958582, 0.9949407949636238, 0.9953834027740016, 0.9942921753779331, 0.9937570279128071, 0.9994429812636035, 0.995785261129386, 0.9977711351755459, 0.05256954585350458, 0.9462518253630825, 0.9928777385516244, 0.21483782191566803, 0.030077295068193524, 0.15038647534096763, 0.6058426578021838, 0.34103029376540983, 0.13411303687403756, 0.5249567443355185, 0.9953175487591219, 0.9974397506746411, 0.27668684296645263, 0.17504677820326595, 0.11575674042474038, 0.43197027524354337, 0.6289782388386009, 0.08092117692660362, 0.29058058987280394, 0.9974612372455447, 0.09140234453226817, 0.24194738258541576, 0.3817392036347671, 0.28764855485154983, 0.9898972350844548, 0.9999389581041622, 0.0318152066019982, 0.9624099997104455, 0.00795380165049955, 0.9922865413609578, 0.9998090094645213, 0.9897006047205162, 0.9908871204414601, 0.9859216606904639, 0.9962769651118728, 0.9897006047205464, 0.9933698231357775, 0.9918785359348279, 0.9965992594602081, 0.06086106396570752, 0.8781382086480657, 0.06086106396570752, 0.9922905223996582, 0.9988821240038502, 0.24543874579082073, 0.7521509951654184, 0.9945080975677572, 0.9844892935053199, 0.009032011867021284, 0.9980105036244524, 0.02256027489975329, 0.9700918206893916, 0.9986359385635322, 0.9935026923681806, 0.12024772534153705, 0.8760905703454842, 0.9986741202650531, 0.9972056038484766, 0.987791822253628, 0.9991115921328456, 0.15271830292158164, 0.8435868161382605, 0.9569515453062415, 0.04138168844567531, 0.9963150983492669, 0.5118019347360034, 0.2911166968223139, 0.07043145890862432, 0.12677662603552378, 0.8942878226791731, 0.10484753783135133, 0.9959382360127987, 0.9989495875906426, 0.9909101914437309, 0.9868701937877832, 0.9973310401142813, 0.9886205725521825, 0.9935119971306993, 0.9991115921328452, 0.9938030413060533, 0.9897033701120096, 0.9968881375191839, 0.9948340613981719, 0.9941639485027461, 0.31671230047288623, 0.14704499664812576, 0.2865492242373732, 0.24884537894298203, 0.9991434450968979, 0.9465271522886596, 0.039645116326226575, 0.009911279081556644, 0.6428608180788873, 0.23431375612221125, 0.12616894560426758, 0.9920238610381289, 0.9976201328004306, 0.9942918405809159, 0.9933698231357779, 0.9973283034242953, 0.9908747927693571, 0.9968305592440441, 0.9999570884316243, 0.9941639175040003, 0.9946799436292436, 0.9895034809629998, 0.9987747967029328, 0.9961989449420365, 0.9933698231411323, 0.9968305592440441, 0.346856802606068, 0.3643748229397078, 0.19269822367003778, 0.09459730980165491, 0.9975884778187173, 0.997493082533851, 0.9922865413609578, 0.9974729504883789, 0.999687728332936, 0.9900269600482406, 0.9958303378004557, 0.988729036135016, 0.9989495875906425, 0.9970306112874026, 0.9973283034242953, 0.9933698231357767, 0.994497156363935, 0.9996516276374671, 0.9944727978852089, 0.9993867308805569, 0.9977711351755459, 0.9910579238944875, 0.9959274203891897, 0.9937570279128076, 0.995698477032703, 0.992286530568528, 0.9990195680396646, 0.9946758776649259, 0.9986660041210584, 0.25326215316524053, 0.14624997577147691, 0.1426829031916848, 0.4601523627931835, 0.995785261129388, 0.9746266654022022, 0.027583773549118933, 0.996224719268996, 0.9973311003051948, 0.9967954881567647, 0.9897008880441979, 0.9962769736462327, 0.99964643752546, 0.9957852611293866, 0.9824562345540427, 0.9963568440256004, 0.9996516382231108, 0.99785111334404, 0.9872407016547995, 0.989700604720557, 0.06714421924127129, 0.5733083335216241, 0.09296891894945256, 0.2634119370234489, 0.12606612987075458, 0.8719573982727192, 0.999687728332936, 0.35210884629201833, 0.35552737878029034, 0.18801928685496125, 0.1059745071364327, 0.16228680317543268, 0.15822963309604685, 0.15417246301666104, 0.5274321103201561, 0.9973103619163357, 0.983423097766195, 0.991603522049713, 0.9895034809629998, 0.9977711351755459, 0.6683676832772275, 0.0849619936369357, 0.05097719618216142, 0.1925805189103876, 0.039332638731826956, 0.0983315968295674, 0.12783107587843762, 0.7276538165387987, 0.9933698231357769, 0.9954863692961414, 0.9908747927693571, 0.9868701937877832, 1.0000484935880274, 0.9834230977661951, 0.9886059883880448, 0.9977932707133481, 0.9960882883263742, 0.9942632675321375], \"Term\": [[\"3\", \"flammable\", \"liquid\"], [\"3\", \"placarded\", \"class\"], [\"air\", \"home\", \"expert\"], [\"alabama\", \"ceo\", \"testifies\"], [\"alabama\", \"hour\", \"ceo\"], [\"alarm\", \"launch\", \"myid\"], [\"animal\", \"fall\", \"sick\"], [\"animal\", \"fall\", \"sick\"], [\"another\", \"derails\", \"north\"], [\"another\", \"derails\", \"north\"], [\"another\", \"derails\", \"railroad\"], [\"apply\", \"derailed\", \"categorize\"], [\"apply\", \"high\", \"hazard\"], [\"attorney\", \"general\", \"sue\"], [\"audio\", \"reveals\", \"us\"], [\"biden\", \"administration\", \"call\"], [\"biometrics\", \"1\", \"week\"], [\"blame\", \"trump\", \"repealing\"], [\"buttigieg\", \"blame\", \"trump\"], [\"buttigieg\", \"blame\", \"trump\"], [\"buttigieg\", \"claim\", \"misinformation\"], [\"calhoun\", \"county\", \"alabama\"], [\"calhoun\", \"county\", \"alabama\"], [\"calhoun\", \"county\", \"alabama\"], [\"calhoun\", \"county\", \"alabama\"], [\"car\", \"cargo\", \"derail\"], [\"car\", \"cargo\", \"derail\"], [\"car\", \"cargo\", \"derail\"], [\"cargo\", \"derail\", \"near\"], [\"carolina\", \"danger\", \"public\"], [\"carry\", \"hazardous\", \"material\"], [\"carry\", \"hazardous\", \"material\"], [\"carry\", \"hazardous\", \"material\"], [\"carry\", \"hazardous\", \"material\"], [\"carry\", \"toxic\", \"chemical\"], [\"carry\", \"toxic\", \"chemical\"], [\"carry\", \"toxic\", \"chemical\"], [\"categorize\", \"high\", \"hazard\"], [\"ceo\", \"alan\", \"shaw\"], [\"ceo\", \"alan\", \"shaw\"], [\"ceo\", \"alan\", \"shaw\"], [\"ceo\", \"alan\", \"shaw\"], [\"ceo\", \"apologize\", \"congress\"], [\"ceo\", \"testifies\", \"congress\"], [\"ceo\", \"testify\", \"congress\"], [\"ceo\", \"testify\", \"congress\"], [\"ceo\", \"testify\", \"congress\"], [\"chair\", \"brake\", \"rule\"], [\"change\", \"make\", \"trump\"], [\"chemical\", \"could\", \"get\"], [\"class\", \"3\", \"flammable\"], [\"congress\", \"via\", \"nbcnews\"], [\"contain\", \"3\", \"placarded\"], [\"could\", \"get\", \"railroad\"], [\"craft\", \"illusion\", \"us\"], [\"crash\", \"prompt\", \"scrutiny\"], [\"danger\", \"public\", \"report\"], [\"declare\", \"state\", \"emergency\"], [\"declare\", \"state\", \"emergency\"], [\"declare\", \"state\", \"emergency\"], [\"delivers\", \"truckloads\", \"water\"], [\"demand\", \"pay\", \"toxic\"], [\"derail\", \"calhoun\", \"county\"], [\"derail\", \"calhoun\", \"county\"], [\"derail\", \"hazardous\", \"material\"], [\"derail\", \"mixed\", \"freight\"], [\"derail\", \"mixed\", \"freight\"], [\"derail\", \"near\", \"springfield\"], [\"derail\", \"north\", \"carolina\"], [\"derail\", \"north\", \"carolina\"], [\"derailed\", \"categorize\", \"high\"], [\"derails\", \"alabama\", \"ceo\"], [\"derails\", \"alabama\", \"hour\"], [\"derails\", \"alabama\", \"hour\"], [\"derails\", \"north\", \"carolina\"], [\"derails\", \"railroad\", \"say\"], [\"dewine\", \"never\", \"declare\"], [\"dollar\", \"pr\", \"push\"], [\"dump\", \"truck\", \"cleveland\"], [\"dump\", \"truck\", \"cleveland\"], [\"effect\", \"would\", \"apply\"], [\"effect\", \"would\", \"apply\"], [\"emergency\", \"service\", \"surveil\"], [\"environmental\", \"protection\", \"agency\"], [\"environmental\", \"protection\", \"agency\"], [\"environmental\", \"protection\", \"agency\"], [\"environmental\", \"protection\", \"agency\"], [\"epa\", \"order\", \"clean\"], [\"epa\", \"order\", \"clean\"], [\"even\", \"safety\", \"rule\"], [\"every\", \"possible\", \"regulatory\"], [\"exclusive\", \"trump\", \"delivers\"], [\"expert\", \"warn\", \"check\"], [\"farmer\", \"sound\", \"alarm\"], [\"fiery\", \"pennsylvania\", \"border\"], [\"find\", \"none\", \"contribute\"], [\"firm\", \"multimillion\", \"dollar\"], [\"firm\", \"test\", \"air\"], [\"flammable\", \"liquid\", \"car\"], [\"freight\", \"contain\", \"3\"], [\"freight\", \"derail\", \"north\"], [\"get\", \"railroad\", \"open\"], [\"gov\", \"mike\", \"dewine\"], [\"gov\", \"mike\", \"dewine\"], [\"gov\", \"mike\", \"dewine\"], [\"gov\", \"mike\", \"dewine\"], [\"governor\", \"dewine\", \"never\"], [\"high\", \"hazard\", \"cargo\"], [\"high\", \"hazard\", \"cargo\"], [\"high\", \"hazard\", \"cargo\"], [\"high\", \"hazard\", \"flammable\"], [\"high\", \"hazard\", \"flammable\"], [\"high\", \"hazard\", \"flammable\"], [\"home\", \"expert\", \"warn\"], [\"hour\", \"ceo\", \"testifies\"], [\"hour\", \"company\", \"ceo\"], [\"illusion\", \"us\", \"rail\"], [\"inspection\", \"crash\", \"prompt\"], [\"j\", \"vance\", \"taxpayer\"], [\"launch\", \"myid\", \"emergency\"], [\"leak\", \"audio\", \"reveals\"], [\"like\", \"mickey\", \"mouse\"], [\"local\", \"farmer\", \"sound\"], [\"make\", \"trump\", \"find\"], [\"mickey\", \"mouse\", \"resident\"], [\"mixed\", \"freight\", \"contain\"], [\"multimillion\", \"dollar\", \"pr\"], [\"myid\", \"emergency\", \"service\"], [\"national\", \"transportation\", \"safety\"], [\"national\", \"transportation\", \"safety\"], [\"national\", \"transportation\", \"safety\"], [\"national\", \"transportation\", \"safety\"], [\"near\", \"springfield\", \"saturday\"], [\"north\", \"carolina\", \"danger\"], [\"ntsb\", \"chair\", \"brake\"], [\"order\", \"clean\", \"site\"], [\"pay\", \"toxic\", \"sign\"], [\"pete\", \"buttigieg\", \"visit\"], [\"petition\", \"via\", \"change\"], [\"placarded\", \"class\", \"3\"], [\"possible\", \"regulatory\", \"change\"], [\"post\", \"review\", \"every\"], [\"prompt\", \"scrutiny\", \"industry\"], [\"rail\", \"firm\", \"multimillion\"], [\"rail\", \"worker\", \"say\"], [\"rail\", \"worker\", \"tell\"], [\"railroad\", \"say\", \"toxins\"], [\"regulatory\", \"change\", \"make\"], [\"repealing\", \"would\", \"prevent\"], [\"resident\", \"shock\", \"illness\"], [\"resident\", \"tell\", \"shelter\"], [\"reveals\", \"us\", \"rail\"], [\"review\", \"every\", \"possible\"], [\"rule\", \"buttigieg\", \"blame\"], [\"rule\", \"still\", \"effect\"], [\"safety\", \"rule\", \"still\"], [\"say\", \"toxins\", \"aboard\"], [\"secretary\", \"pete\", \"buttigieg\"], [\"secretary\", \"pete\", \"buttigieg\"], [\"secretary\", \"pete\", \"buttigieg\"], [\"secretary\", \"pete\", \"buttigieg\"], [\"service\", \"surveil\", \"biometrics\"], [\"shelter\", \"place\", \"order\"], [\"shelter\", \"place\", \"order\"], [\"sign\", \"petition\", \"via\"], [\"skip\", \"inspection\", \"crash\"], [\"sound\", \"alarm\", \"launch\"], [\"sound\", \"like\", \"mickey\"], [\"springfield\", \"saturday\", \"even\"], [\"still\", \"effect\", \"would\"], [\"surveil\", \"biometrics\", \"1\"], [\"taxpayer\", \"foot\", \"bill\"], [\"tell\", \"shelter\", \"place\"], [\"tell\", \"skip\", \"inspection\"], [\"test\", \"air\", \"home\"], [\"testifies\", \"congress\", \"via\"], [\"town\", \"chemical\", \"could\"], [\"toxic\", \"chemical\", \"derail\"], [\"toxic\", \"chemical\", \"derail\"], [\"toxic\", \"chemical\", \"derail\"], [\"toxic\", \"chemical\", \"derail\"], [\"toxic\", \"chemical\", \"explosion\"], [\"toxic\", \"chemical\", \"explosion\"], [\"toxic\", \"sign\", \"petition\"], [\"transportation\", \"safety\", \"board\"], [\"transportation\", \"safety\", \"board\"], [\"transportation\", \"safety\", \"board\"], [\"transportation\", \"safety\", \"board\"], [\"transportation\", \"secretary\", \"pete\"], [\"transportation\", \"secretary\", \"pete\"], [\"transportation\", \"secretary\", \"pete\"], [\"transportation\", \"secretary\", \"pete\"], [\"truck\", \"cleveland\", \"employee\"], [\"truckloads\", \"water\", \"via\"], [\"trump\", \"delivers\", \"truckloads\"], [\"trump\", \"find\", \"none\"], [\"trump\", \"repealing\", \"would\"], [\"trump\", \"roll\", \"back\"], [\"trump\", \"roll\", \"back\"], [\"trump\", \"roll\", \"back\"], [\"trump\", \"roll\", \"back\"], [\"trump\", \"visit\", \"toxic\"], [\"trump\", \"visit\", \"toxic\"], [\"trump\", \"visit\", \"toxic\"], [\"trump\", \"visit\", \"toxic\"], [\"us\", \"rail\", \"firm\"], [\"us\", \"rail\", \"worker\"], [\"vance\", \"taxpayer\", \"foot\"], [\"warn\", \"check\", \"lack\"], [\"washington\", \"post\", \"review\"], [\"water\", \"via\", \"breitbartnews\"], [\"worker\", \"fall\", \"ill\"], [\"worker\", \"tell\", \"skip\"], [\"would\", \"apply\", \"derailed\"], [\"would\", \"apply\", \"high\"]]}, \"R\": 30, \"lambda.step\": 0.01, \"plot.opts\": {\"xlab\": \"PC1\", \"ylab\": \"PC2\"}, \"topic.order\": [2, 1, 3, 4]};\n",
       "\n",
       "function LDAvis_load_lib(url, callback){\n",
       "  var s = document.createElement('script');\n",
       "  s.src = url;\n",
       "  s.async = true;\n",
       "  s.onreadystatechange = s.onload = callback;\n",
       "  s.onerror = function(){console.warn(\"failed to load library \" + url);};\n",
       "  document.getElementsByTagName(\"head\")[0].appendChild(s);\n",
       "}\n",
       "\n",
       "if(typeof(LDAvis) !== \"undefined\"){\n",
       "   // already loaded: just create the visualization\n",
       "   !function(LDAvis){\n",
       "       new LDAvis(\"#\" + \"ldavis_el56526111308727683199711473\", ldavis_el56526111308727683199711473_data);\n",
       "   }(LDAvis);\n",
       "}else if(typeof define === \"function\" && define.amd){\n",
       "   // require.js is available: use it to load d3/LDAvis\n",
       "   require.config({paths: {d3: \"https://d3js.org/d3.v5\"}});\n",
       "   require([\"d3\"], function(d3){\n",
       "      window.d3 = d3;\n",
       "      LDAvis_load_lib(\"https://cdn.jsdelivr.net/gh/bmabey/pyLDAvis@3.3.1/pyLDAvis/js/ldavis.v3.0.0.js\", function(){\n",
       "        new LDAvis(\"#\" + \"ldavis_el56526111308727683199711473\", ldavis_el56526111308727683199711473_data);\n",
       "      });\n",
       "    });\n",
       "}else{\n",
       "    // require.js not available: dynamically load d3 & LDAvis\n",
       "    LDAvis_load_lib(\"https://d3js.org/d3.v5.js\", function(){\n",
       "         LDAvis_load_lib(\"https://cdn.jsdelivr.net/gh/bmabey/pyLDAvis@3.3.1/pyLDAvis/js/ldavis.v3.0.0.js\", function(){\n",
       "                 new LDAvis(\"#\" + \"ldavis_el56526111308727683199711473\", ldavis_el56526111308727683199711473_data);\n",
       "            })\n",
       "         });\n",
       "}\n",
       "</script>"
      ],
      "text/plain": [
       "<IPython.core.display.HTML object>"
      ]
     },
     "execution_count": 68,
     "metadata": {},
     "output_type": "execute_result"
    }
   ],
   "source": [
    "from sklearn.feature_extraction.text import CountVectorizer\n",
    "from sklearn.decomposition import LatentDirichletAllocation\n",
    "import nltk\n",
    "\n",
    "# Sample text\n",
    "text = [i for i in data_people.T_text]\n",
    "\n",
    "# Tokenize on bigrams\n",
    "bigram = CountVectorizer(tokenizer=lambda doc: nltk.ngrams(nltk.word_tokenize(doc.lower()), 3))\n",
    "bigram_tokens = bigram.fit_transform(text)\n",
    "\n",
    "# Train LDA model\n",
    "lda_model = LatentDirichletAllocation(n_components=4)\n",
    "lda_model.fit(bigram_tokens)\n",
    "\n",
    "from sklearn.pipeline import make_pipeline\n",
    "pipeline = make_pipeline(bigram, lda_model)\n",
    "vis_data = pyLDAvis.sklearn.prepare(lda_model, bigram_tokens, bigram)\n",
    "pyLDAvis.display(vis_data)"
   ]
  },
  {
   "cell_type": "code",
   "execution_count": 71,
   "metadata": {},
   "outputs": [
    {
     "name": "stderr",
     "output_type": "stream",
     "text": [
      "/Users/ribarragi/miniconda3/envs/Intro_AI/lib/python3.9/site-packages/sklearn/utils/deprecation.py:87: FutureWarning: Function get_feature_names is deprecated; get_feature_names is deprecated in 1.0 and will be removed in 1.2. Please use get_feature_names_out instead.\n",
      "  warnings.warn(msg, category=FutureWarning)\n",
      "/Users/ribarragi/miniconda3/envs/Intro_AI/lib/python3.9/site-packages/pyLDAvis/_prepare.py:246: FutureWarning: In a future version of pandas all arguments of DataFrame.drop except for the argument 'labels' will be keyword-only.\n",
      "  default_term_info = default_term_info.sort_values(\n"
     ]
    },
    {
     "data": {
      "text/html": [
       "\n",
       "<link rel=\"stylesheet\" type=\"text/css\" href=\"https://cdn.jsdelivr.net/gh/bmabey/pyLDAvis@3.3.1/pyLDAvis/js/ldavis.v1.0.0.css\">\n",
       "\n",
       "\n",
       "<div id=\"ldavis_el56526111308756809811099743\"></div>\n",
       "<script type=\"text/javascript\">\n",
       "\n",
       "var ldavis_el56526111308756809811099743_data = {\"mdsDat\": {\"x\": [0.01131441403826785, 0.0395020495143013, -0.12386323371880845, 0.07304677016623932], \"y\": [0.11329487090192128, 0.007921398754780517, -0.036868012204345595, -0.08434825745235619], \"topics\": [1, 2, 3, 4], \"cluster\": [1, 1, 1, 1], \"Freq\": [26.614803227996553, 24.931917731507763, 24.350841748191673, 24.10243729230401]}, \"tinfo\": {\"Term\": [[\"today\", \"full\"], [\"full\", \"update\"], [\"senate\", \"committee\"], [\"hold\", \"accountable\"], [\"hazardous\", \"material\"], [\"get\", \"fix\"], [\"public\", \"health\"], [\"lobby\", \"safety\"], [\"pennsylvania\", \"border\"], [\"long\", \"take\"], [\"rail\", \"safety\"], [\"rail\", \"industry\"], [\"biden\", \"administration\"], [\"rail\", \"company\"], [\"federal\", \"lawsuit\"], [\"deserve\", \"answer\"], [\"president\", \"biden\"], [\"pete\", \"buttigieg\"], [\"month\", \"since\"], [\"committee\", \"hear\"], [\"prioritize\", \"safety\"], [\"environment\", \"public\"], [\"public\", \"work\"], [\"committee\", \"environment\"], [\"ensure\", \"safety\"], [\"job\", \"do\"], [\"leslie\", \"run\"], [\"pay\", \"groundwater\"], [\"company\", \"pay\"], [\"also\", \"seek\"], [\"contaminate\", \"soil\"], [\"continue\", \"put\"], [\"late\", \"update\"], [\"afternoon\", \"join\"], [\"bipartisan\", \"house\"], [\"colleague\", \"bipartisan\"], [\"gop\", \"colleague\"], [\"house\", \"gop\"], [\"house\", \"policy\"], [\"join\", \"pahousedems\"], [\"pahousedems\", \"house\"], [\"policy\", \"committee\"], [\"senate\", \"epw\"], [\"update\", \"feb\"], [\"take\", \"make\"], [\"24\", \"7\"], [\"donald\", \"trump\"], [\"airport\", \"terminal\"], [\"car\", \"carry\"], [\"year\", \"later\"], [\"today\", \"hear\"], [\"hold\", \"railroad\"], [\"address\", \"rail\"], [\"big\", \"railroad\"], [\"congress\", \"address\"], [\"derail\", \"congress\"], [\"exempt\", \"oversight\"], [\"keep\", \"work\"], [\"not\", \"exempt\"], [\"oversight\", \"transportdems\"], [\"month\", \"since\"], [\"committee\", \"hear\"], [\"public\", \"health\"], [\"long\", \"take\"], [\"president\", \"biden\"], [\"health\", \"environmental\"], [\"disaster\", \"cause\"], [\"effort\", \"follow\"], [\"environmental\", \"disaster\"], [\"make\", \"sure\"], [\"can\", \"not\"], [\"epwcmte\", \"hear\"], [\"address\", \"environmental\"], [\"hold\", \"accountable\"], [\"rail\", \"safety\"], [\"feb\", \"3\"], [\"chemical\", \"release\"], [\"lobby\", \"safety\"], [\"pennsylvania\", \"border\"], [\"hour\", \"derail\"], [\"team\", \"arrive\"], [\"ntsb\", \"chair\"], [\"begin\", \"freight\"], [\"come\", \"wither\"], [\"criticism\", \"management\"], [\"derail\", \"near\"], [\"incident\", \"begin\"], [\"management\", \"incident\"], [\"near\", \"pennsylvania\"], [\"wither\", \"criticism\"], [\"2\", \"feb\"], [\"4\", \"within\"], [\"accountable\", \"make\"], [\"arrive\", \"2\"], [\"cleanup\", \"presssec\"], [\"committed\", \"supporting\"], [\"derail\", \"epa\"], [\"every\", \"step\"], [\"feb\", \"4\"], [\"make\", \"railroad\"], [\"people\", \"every\"], [\"presssec\", \"say\"], [\"railroad\", \"pay\"], [\"say\", \"committed\"], [\"step\", \"way\"], [\"supporting\", \"people\"], [\"large\", \"rail\"], [\"deserve\", \"answer\"], [\"pete\", \"buttigieg\"], [\"hold\", \"accountable\"], [\"epwcmte\", \"epwgop\"], [\"within\", \"hour\"], [\"buttigieg\", \"visit\"], [\"freight\", \"derail\"], [\"hazardous\", \"material\"], [\"federal\", \"team\"], [\"safety\", \"regulation\"], [\"ceo\", \"alan\"], [\"alan\", \"shaw\"], [\"president\", \"biden\"], [\"feb\", \"3\"], [\"secretary\", \"pete\"], [\"examine\", \"response\"], [\"hear\", \"examine\"], [\"today\", \"full\"], [\"full\", \"update\"], [\"get\", \"fix\"], [\"leslie\", \"run\"], [\"also\", \"seek\"], [\"company\", \"pay\"], [\"force\", \"company\"], [\"groundwater\", \"soil\"], [\"lawsuit\", \"also\"], [\"monitoring\", \"year\"], [\"pay\", \"groundwater\"], [\"seek\", \"force\"], [\"soil\", \"monitoring\"], [\"among\", \"recent\"], [\"announce\", \"open\"], [\"count\", \"among\"], [\"firm\", \"count\"], [\"focus\", \"company\"], [\"investigation\", \"focus\"], [\"investigation\", \"rail\"], [\"ntsb\", \"announce\"], [\"practice\", \"jeffzymeri\"], [\"rail\", \"firm\"], [\"recent\", \"woe\"], [\"woe\", \"investigation\"], [\"beaver\", \"county\"], [\"action\", \"associate\"], [\"order\", \"conduct\"], [\"although\", \"may\"], [\"appear\", \"dam\"], [\"federal\", \"lawsuit\"], [\"lawsuit\", \"file\"], [\"company\", \"safety\"], [\"joe\", \"biden\"], [\"safety\", \"practice\"], [\"open\", \"special\"], [\"special\", \"investigation\"], [\"prioritize\", \"safety\"], [\"environment\", \"public\"], [\"public\", \"work\"], [\"committee\", \"environment\"], [\"ensure\", \"safety\"], [\"job\", \"do\"], [\"senate\", \"committee\"], [\"around\", \"clock\"], [\"clean\", \"relate\"], [\"cleanup\", \"phase\"], [\"clock\", \"since\"], [\"coordinate\", \"clean\"], [\"effort\", \"job\"], [\"environmental\", \"cleanup\"], [\"epa\", \"team\"], [\"night\", \"ensure\"], [\"phase\", \"coordinate\"], [\"relate\", \"effort\"], [\"resident\", \"transition\"], [\"responder\", \"work\"], [\"since\", \"night\"], [\"team\", \"emergency\"], [\"transition\", \"environmental\"], [\"work\", \"around\"], [\"corporate\", \"greed\"], [\"secret\", \"conspiracy\"], [\"gov\", \"dewine\"], [\"000\", \"5\"], [\"000\", \"people\"], [\"25\", \"000\"], [\"rail\", \"industry\"], [\"biden\", \"administration\"], [\"rail\", \"company\"], [\"rail\", \"safety\"], [\"carry\", \"hazardous\"], [\"alan\", \"shaw\"], [\"first\", \"responder\"], [\"toxic\", \"chemical\"], [\"hazardous\", \"material\"], [\"ceo\", \"alan\"], [\"chemical\", \"release\"], [\"hold\", \"hear\"], [\"march\", \"9\"], [\"shaw\", \"testify\"], [\"stock\", \"buyback\"], [\"bipartisan\", \"rail\"], [\"safety\", \"regulation\"], [\"emergency\", \"responder\"], [\"safety\", \"accountability\"], [\"work\", \"hold\"], [\"day\", \"one\"], [\"local\", \"official\"], [\"people\", \"live\"]], \"Freq\": [3.0, 3.0, 3.0, 7.0, 8.0, 2.0, 4.0, 2.0, 2.0, 4.0, 8.0, 3.0, 3.0, 3.0, 3.0, 3.0, 6.0, 5.0, 3.0, 3.0, 2.0, 2.0, 2.0, 2.0, 2.0, 2.0, 2.0, 2.0, 2.0, 2.0, 1.8626871785241965, 1.8626866092554424, 1.8626850349143758, 1.8626843853781738, 1.8626843853781738, 1.8626843853781738, 1.8626843853781738, 1.8626843853781738, 1.8626843853781738, 1.8626843853781738, 1.8626843853781738, 1.8626843853781738, 1.8626804394957979, 1.8626803956815923, 1.8626783084569842, 1.2895512609204574, 1.2895492937902746, 1.2895485204717139, 1.2895481849138783, 1.2895481196707645, 1.2895471711866764, 1.2895468119735078, 1.2895465343755868, 1.2895465343755868, 1.2895465343755868, 1.2895465343755868, 1.2895465343755868, 1.2895465343755868, 1.2895465343755868, 1.2895465343755868, 2.444967233710572, 2.4380761338435666, 3.00995562088396, 3.0110450931278057, 3.5857059456883227, 1.8663889383016545, 1.863260293452579, 1.864177499706748, 1.8633179229356356, 2.4423739385050314, 1.8635184606063044, 1.8651575257049635, 1.8628480257722266, 2.4367955440092124, 2.4352457572425528, 1.8649011466180996, 1.8634564443280468, 2.3704549334146505, 2.3704321170384013, 1.8127049207111352, 1.8127049207111352, 1.812698459803411, 1.812681197822391, 1.812681197822391, 1.812681197822391, 1.812681197822391, 1.812681197822391, 1.812681197822391, 1.812681197822391, 1.812681197822391, 1.254942877861525, 1.254942877861525, 1.254942877861525, 1.254942877861525, 1.254942877861525, 1.254942877861525, 1.254942877861525, 1.254942877861525, 1.254942877861525, 1.254942877861525, 1.254942877861525, 1.254942877861525, 1.254942877861525, 1.254942877861525, 1.254942877861525, 1.254942877861525, 1.2549418560168146, 2.371994184510727, 2.9287223701967915, 4.051269276950705, 1.816456927198152, 1.8143669402898617, 1.8133111300464881, 1.8124873800838472, 2.9296844981065884, 1.8137119898552831, 1.815325468184929, 2.3689165257170766, 2.367525979960775, 1.8122982163613035, 1.2576318045788146, 1.2566316927812144, 1.2565690338295814, 1.2565690338295814, 3.4431064917189476, 3.4431064916648997, 2.3433799429525677, 1.7920141777688459, 1.792010869946345, 1.792010869946345, 1.792010869946345, 1.792010869946345, 1.792010869946345, 1.792010869946345, 1.792010869946345, 1.792010869946345, 1.792010869946345, 1.7920086779309552, 1.7920086779309552, 1.7920086779309552, 1.7920086779309552, 1.7920086779309552, 1.7920086779309552, 1.7920086779309552, 1.7920086779309552, 1.7920086779309552, 1.7920086779309552, 1.7920086779309552, 1.7920086779309552, 1.7920043741904295, 1.7919897701477638, 1.7919897701477638, 1.240620065416986, 1.240620065416986, 2.350403955615269, 1.7966389511295373, 1.7952215719216948, 1.7944094440180716, 1.7942124303549938, 1.792844644176149, 1.792844644176149, 1.7956227130046711, 1.7956226861872107, 1.7956226861872107, 1.795621659587792, 1.7956214266120223, 1.7956144484475032, 2.902962843556561, 1.2431187105656352, 1.2431187105656352, 1.2431187105656352, 1.2431187105656352, 1.2431187105656352, 1.2431187105656352, 1.2431187105656352, 1.2431187105656352, 1.2431187105656352, 1.2431187105656352, 1.2431187105656352, 1.2431187105656352, 1.2431187105656352, 1.2431187105656352, 1.2431187105656352, 1.2431187105656352, 1.2431187105656352, 1.2431183229820402, 1.2431183229820402, 1.2431176093760241, 1.2431172598029294, 1.2431172598029294, 1.2431172598029294, 2.3500389529220214, 2.349911688349298, 2.3495586969029163, 4.569188429882316, 2.351515689956391, 4.568784053491411, 1.7964878785591052, 2.352645789546739, 3.4557081789082895, 3.460320938545844, 1.7967963203881185, 1.2468206361368588, 1.2456276385902443, 1.2455202324426904, 1.2452561849655939, 1.2445913307115517, 1.2444623748688122, 1.2442648836238341, 1.2441663952941884, 1.2440900869442189, 1.2438711851009727, 1.2438695357053886, 1.2438130772857254], \"Total\": [3.0, 3.0, 3.0, 7.0, 8.0, 2.0, 4.0, 2.0, 2.0, 4.0, 8.0, 3.0, 3.0, 3.0, 3.0, 3.0, 6.0, 5.0, 3.0, 3.0, 2.0, 2.0, 2.0, 2.0, 2.0, 2.0, 2.0, 2.0, 2.0, 2.0, 2.278127337450236, 2.27812731992793, 2.278127263004005, 2.2781272444925165, 2.2781272444925165, 2.2781272444925165, 2.2781272444925165, 2.2781272444925165, 2.2781272444925165, 2.2781272444925165, 2.2781272444925165, 2.2781272444925165, 2.27812711015458, 2.2781271100566456, 2.278127038999879, 1.704985064544318, 1.704984998612262, 1.7049849722812571, 1.704984960374498, 1.7049849596473596, 1.7049849251798632, 1.7049849151356222, 1.7049849063663571, 1.7049849063663571, 1.7049849063663571, 1.7049849063663571, 1.7049849063663571, 1.7049849063663571, 1.7049849063663571, 1.7049849063663571, 3.4030116104231927, 3.4027499448244427, 4.529458494637101, 4.539988447819173, 6.773756670754579, 2.8296628394051244, 2.830653394785914, 2.8359275069827845, 2.835904394383379, 5.064539302676618, 3.3809484285073967, 3.388471126620973, 3.383143869939035, 7.858503940026373, 8.93179244263814, 4.4976606712114995, 4.49341320648198, 2.789742138470096, 2.7897421788146803, 2.231981781016376, 2.231981781016376, 2.231981793293167, 2.231981819118215, 2.231981819118215, 2.231981819118215, 2.231981819118215, 2.231981819118215, 2.231981819118215, 2.231981819118215, 2.231981819118215, 1.674221442824206, 1.674221442824206, 1.674221442824206, 1.674221442824206, 1.674221442824206, 1.674221442824206, 1.674221442824206, 1.674221442824206, 1.674221442824206, 1.674221442824206, 1.674221442824206, 1.674221442824206, 1.674221442824206, 1.674221442824206, 1.674221442824206, 1.674221442824206, 1.6742214403767073, 3.342262354829739, 5.046356532658427, 7.858503940026373, 2.783420733693463, 2.8050777051405658, 2.8051052574451667, 3.334769341044128, 8.3167410100227, 3.37823835625297, 3.910012271119644, 8.926854512186123, 10.031807555839567, 6.773756670754579, 4.4976606712114995, 2.7998618311973607, 2.2256359276591327, 2.2256359276591327, 3.8671051737374262, 3.86710517373805, 2.7642804245042734, 2.2128852051174492, 2.2128852619142783, 2.2128852619142783, 2.2128852619142783, 2.2128852619142783, 2.2128852619142783, 2.2128852619142783, 2.2128852619142783, 2.2128852619142783, 2.2128852619142783, 2.212885303508441, 2.212885303508441, 2.212885303508441, 2.212885303508441, 2.212885303508441, 2.212885303508441, 2.212885303508441, 2.212885303508441, 2.212885303508441, 2.212885303508441, 2.212885303508441, 2.212885303508441, 2.212885379642026, 2.2128856334966147, 2.2128856334966147, 1.661490475145254, 1.661490475145254, 3.316772158676124, 2.765382514083794, 2.7706088358420873, 3.916931122854056, 3.338468543584227, 3.3591367436596262, 3.3591367436596262, 2.216217036364067, 2.216217048991441, 2.216217048991441, 2.216217063300581, 2.216217052106647, 2.2162171569227582, 3.878966038542371, 1.663711675056041, 1.663711675056041, 1.663711675056041, 1.663711675056041, 1.663711675056041, 1.663711675056041, 1.663711675056041, 1.663711675056041, 1.663711675056041, 1.663711675056041, 1.663711675056041, 1.663711675056041, 1.663711675056041, 1.663711675056041, 1.663711675056041, 1.663711675056041, 1.663711675056041, 1.6637116804367977, 1.6637116804367977, 1.663711691329823, 1.6637116925927258, 1.6637116925927258, 1.6637116925927258, 3.3201213726947776, 3.326465953061116, 3.3264692010473578, 8.93179244263814, 3.8778689758017366, 10.031807555839567, 2.7739692480217033, 4.46640995994188, 8.3167410100227, 8.926854512186123, 4.49341320648198, 4.476992309112094, 2.221448453121611, 2.2214494793301065, 2.794584912264098, 2.2367982022926496, 3.910012271119644, 3.3395861121303554, 2.215109184916143, 2.2368171255320632, 2.221465188932844, 2.2368253887707255, 2.215108228416079], \"Category\": [\"Default\", \"Default\", \"Default\", \"Default\", \"Default\", \"Default\", \"Default\", \"Default\", \"Default\", \"Default\", \"Default\", \"Default\", \"Default\", \"Default\", \"Default\", \"Default\", \"Default\", \"Default\", \"Default\", \"Default\", \"Default\", \"Default\", \"Default\", \"Default\", \"Default\", \"Default\", \"Default\", \"Default\", \"Default\", \"Default\", \"Topic1\", \"Topic1\", \"Topic1\", \"Topic1\", \"Topic1\", \"Topic1\", \"Topic1\", \"Topic1\", \"Topic1\", \"Topic1\", \"Topic1\", \"Topic1\", \"Topic1\", \"Topic1\", \"Topic1\", \"Topic1\", \"Topic1\", \"Topic1\", \"Topic1\", \"Topic1\", \"Topic1\", \"Topic1\", \"Topic1\", \"Topic1\", \"Topic1\", \"Topic1\", \"Topic1\", \"Topic1\", \"Topic1\", \"Topic1\", \"Topic1\", \"Topic1\", \"Topic1\", \"Topic1\", \"Topic1\", \"Topic1\", \"Topic1\", \"Topic1\", \"Topic1\", \"Topic1\", \"Topic1\", \"Topic1\", \"Topic1\", \"Topic1\", \"Topic1\", \"Topic1\", \"Topic1\", \"Topic2\", \"Topic2\", \"Topic2\", \"Topic2\", \"Topic2\", \"Topic2\", \"Topic2\", \"Topic2\", \"Topic2\", \"Topic2\", \"Topic2\", \"Topic2\", \"Topic2\", \"Topic2\", \"Topic2\", \"Topic2\", \"Topic2\", \"Topic2\", \"Topic2\", \"Topic2\", \"Topic2\", \"Topic2\", \"Topic2\", \"Topic2\", \"Topic2\", \"Topic2\", \"Topic2\", \"Topic2\", \"Topic2\", \"Topic2\", \"Topic2\", \"Topic2\", \"Topic2\", \"Topic2\", \"Topic2\", \"Topic2\", \"Topic2\", \"Topic2\", \"Topic2\", \"Topic2\", \"Topic2\", \"Topic2\", \"Topic2\", \"Topic2\", \"Topic2\", \"Topic2\", \"Topic2\", \"Topic3\", \"Topic3\", \"Topic3\", \"Topic3\", \"Topic3\", \"Topic3\", \"Topic3\", \"Topic3\", \"Topic3\", \"Topic3\", \"Topic3\", \"Topic3\", \"Topic3\", \"Topic3\", \"Topic3\", \"Topic3\", \"Topic3\", \"Topic3\", \"Topic3\", \"Topic3\", \"Topic3\", \"Topic3\", \"Topic3\", \"Topic3\", \"Topic3\", \"Topic3\", \"Topic3\", \"Topic3\", \"Topic3\", \"Topic3\", \"Topic3\", \"Topic3\", \"Topic3\", \"Topic3\", \"Topic3\", \"Topic3\", \"Topic3\", \"Topic4\", \"Topic4\", \"Topic4\", \"Topic4\", \"Topic4\", \"Topic4\", \"Topic4\", \"Topic4\", \"Topic4\", \"Topic4\", \"Topic4\", \"Topic4\", \"Topic4\", \"Topic4\", \"Topic4\", \"Topic4\", \"Topic4\", \"Topic4\", \"Topic4\", \"Topic4\", \"Topic4\", \"Topic4\", \"Topic4\", \"Topic4\", \"Topic4\", \"Topic4\", \"Topic4\", \"Topic4\", \"Topic4\", \"Topic4\", \"Topic4\", \"Topic4\", \"Topic4\", \"Topic4\", \"Topic4\", \"Topic4\", \"Topic4\", \"Topic4\", \"Topic4\", \"Topic4\", \"Topic4\", \"Topic4\", \"Topic4\", \"Topic4\", \"Topic4\", \"Topic4\", \"Topic4\", \"Topic4\", \"Topic4\", \"Topic4\", \"Topic4\", \"Topic4\", \"Topic4\"], \"logprob\": [30.0, 29.0, 28.0, 27.0, 26.0, 25.0, 24.0, 23.0, 22.0, 21.0, 20.0, 19.0, 18.0, 17.0, 16.0, 15.0, 14.0, 13.0, 12.0, 11.0, 10.0, 9.0, 8.0, 7.0, 6.0, 5.0, 4.0, 3.0, 2.0, 1.0, -6.6421, -6.6421, -6.6421, -6.6421, -6.6421, -6.6421, -6.6421, -6.6421, -6.6421, -6.6421, -6.6421, -6.6421, -6.6421, -6.6421, -6.6421, -7.0098, -7.0098, -7.0098, -7.0098, -7.0098, -7.0098, -7.0098, -7.0098, -7.0098, -7.0098, -7.0098, -7.0098, -7.0098, -7.0098, -7.0098, -6.3701, -6.3729, -6.1622, -6.1618, -5.9872, -6.6401, -6.6418, -6.6413, -6.6418, -6.3712, -6.6417, -6.6408, -6.642, -6.3735, -6.3741, -6.6409, -6.6417, -6.3357, -6.3357, -6.604, -6.604, -6.604, -6.604, -6.604, -6.604, -6.604, -6.604, -6.604, -6.604, -6.604, -6.9717, -6.9717, -6.9717, -6.9717, -6.9717, -6.9717, -6.9717, -6.9717, -6.9717, -6.9717, -6.9717, -6.9717, -6.9717, -6.9717, -6.9717, -6.9717, -6.9717, -6.3351, -6.1243, -5.7998, -6.6019, -6.6031, -6.6037, -6.6041, -6.1239, -6.6034, -6.6026, -6.3364, -6.337, -6.6042, -6.9696, -6.9704, -6.9704, -6.9704, -5.9389, -5.9389, -6.3236, -6.5919, -6.5919, -6.5919, -6.5919, -6.5919, -6.5919, -6.5919, -6.5919, -6.5919, -6.5919, -6.5919, -6.5919, -6.5919, -6.5919, -6.5919, -6.5919, -6.5919, -6.5919, -6.5919, -6.5919, -6.5919, -6.5919, -6.5919, -6.5919, -6.5919, -6.9596, -6.9596, -6.3206, -6.5893, -6.5901, -6.5906, -6.5907, -6.5914, -6.5914, -6.5796, -6.5796, -6.5796, -6.5796, -6.5796, -6.5796, -6.0992, -6.9474, -6.9474, -6.9474, -6.9474, -6.9474, -6.9474, -6.9474, -6.9474, -6.9474, -6.9474, -6.9474, -6.9474, -6.9474, -6.9474, -6.9474, -6.9474, -6.9474, -6.9474, -6.9474, -6.9474, -6.9474, -6.9474, -6.9474, -6.3105, -6.3106, -6.3108, -5.6456, -6.3099, -5.6457, -6.5791, -6.3094, -5.925, -5.9236, -6.579, -6.9444, -6.9453, -6.9454, -6.9456, -6.9462, -6.9463, -6.9464, -6.9465, -6.9466, -6.9468, -6.9468, -6.9468], \"loglift\": [30.0, 29.0, 28.0, 27.0, 26.0, 25.0, 24.0, 23.0, 22.0, 21.0, 20.0, 19.0, 18.0, 17.0, 16.0, 15.0, 14.0, 13.0, 12.0, 11.0, 10.0, 9.0, 8.0, 7.0, 6.0, 5.0, 4.0, 3.0, 2.0, 1.0, 1.1224, 1.1224, 1.1224, 1.1224, 1.1224, 1.1224, 1.1224, 1.1224, 1.1224, 1.1224, 1.1224, 1.1224, 1.1224, 1.1224, 1.1224, 1.0444, 1.0444, 1.0444, 1.0444, 1.0444, 1.0444, 1.0444, 1.0444, 1.0444, 1.0444, 1.0444, 1.0444, 1.0444, 1.0444, 1.0444, 0.9931, 0.9903, 0.915, 0.9131, 0.6876, 0.9076, 0.9055, 0.9042, 0.9037, 0.5944, 0.728, 0.7267, 0.727, 0.1528, 0.0241, 0.4434, 0.4435, 1.2262, 1.2261, 1.181, 1.181, 1.1809, 1.1809, 1.1809, 1.1809, 1.1809, 1.1809, 1.1809, 1.1809, 1.1809, 1.1008, 1.1008, 1.1008, 1.1008, 1.1008, 1.1008, 1.1008, 1.1008, 1.1008, 1.1008, 1.1008, 1.1008, 1.1008, 1.1008, 1.1008, 1.1008, 1.1008, 1.0461, 0.8449, 0.7265, 0.9622, 0.9533, 0.9527, 0.7793, 0.3456, 0.767, 0.6217, 0.0624, -0.0549, 0.0706, 0.1147, 0.5879, 0.8174, 0.8174, 1.2965, 1.2965, 1.2474, 1.2016, 1.2016, 1.2016, 1.2016, 1.2016, 1.2016, 1.2016, 1.2016, 1.2016, 1.2016, 1.2016, 1.2016, 1.2016, 1.2016, 1.2016, 1.2016, 1.2016, 1.2016, 1.2016, 1.2016, 1.2016, 1.2016, 1.2016, 1.2016, 1.2016, 1.1205, 1.1205, 1.0682, 0.9813, 0.9787, 0.632, 0.7917, 0.7847, 0.7847, 1.2124, 1.2124, 1.2124, 1.2124, 1.2124, 1.2124, 1.133, 1.1314, 1.1314, 1.1314, 1.1314, 1.1314, 1.1314, 1.1314, 1.1314, 1.1314, 1.1314, 1.1314, 1.1314, 1.1314, 1.1314, 1.1314, 1.1314, 1.1314, 1.1314, 1.1314, 1.1314, 1.1314, 1.1314, 1.1314, 1.0773, 1.0753, 1.0752, 0.7526, 0.9226, 0.6363, 0.9884, 0.7818, 0.5446, 0.4752, 0.5062, 0.1445, 0.8443, 0.8443, 0.6145, 0.8366, 0.278, 0.4356, 0.846, 0.8362, 0.8429, 0.836, 0.8457]}, \"token.table\": {\"Topic\": [4, 4, 2, 1, 4, 2, 2, 3, 1, 4, 1, 1, 1, 1, 2, 3, 4, 3, 3, 3, 3, 3, 4, 2, 3, 2, 2, 4, 1, 1, 1, 4, 1, 2, 1, 3, 1, 2, 3, 4, 1, 2, 3, 4, 1, 2, 4, 4, 4, 2, 4, 1, 2, 2, 4, 1, 3, 3, 2, 3, 1, 1, 1, 4, 4, 3, 2, 2, 4, 1, 2, 2, 2, 4, 1, 4, 1, 1, 2, 4, 1, 3, 4, 4, 4, 4, 1, 2, 4, 2, 3, 1, 2, 4, 2, 2, 3, 1, 1, 2, 3, 4, 2, 3, 4, 1, 2, 3, 2, 4, 3, 3, 2, 3, 3, 3, 1, 4, 3, 2, 3, 4, 1, 3, 2, 3, 1, 2, 3, 1, 2, 3, 4, 1, 2, 1, 1, 2, 3, 3, 4, 1, 2, 3, 1, 1, 2, 1, 3, 3, 4, 3, 2, 1, 4, 1, 2, 2, 1, 2, 3, 4, 2, 2, 4, 3, 1, 3, 2, 4, 1, 3, 2, 1, 3, 3, 1, 1, 3, 2, 2, 3, 4, 1, 2, 4, 4, 1, 3, 1, 2, 3, 2, 4, 1, 4, 4, 2, 4, 3, 3, 4, 1, 2, 3, 4, 2, 3, 4, 4, 4, 3, 4, 1, 3, 4, 1, 2, 4, 2, 4, 1, 2, 4, 3, 2, 4, 1, 2, 4, 4, 3, 1, 3, 2, 1, 2, 4, 2, 1, 2, 4, 3, 1, 1, 3, 4, 4, 1, 2, 1, 2, 3, 4, 1, 4, 1], \"Freq\": [0.6010656801008603, 0.6010656801008603, 0.5972925530765648, 0.5865154016860931, 0.6010656801008603, 0.5972925530765648, 0.5972925530765648, 0.9037972725412696, 0.5911661096564718, 0.2955830548282359, 0.5865154560993667, 0.8779140870357867, 0.586515433424617, 0.19936586590876035, 0.19936586590876035, 0.09968293295438017, 0.4984146647719009, 0.9037974243047199, 0.6018692342564144, 0.9037974073166287, 0.9037974073166287, 0.6018692342564144, 0.6010656864365129, 0.5972925530765648, 0.9037973762217798, 0.8960646466153279, 0.3006193401978966, 0.6012386803957932, 0.5865154560993667, 0.8779140870357867, 0.4470675982192004, 0.4470675982192004, 0.3564928614874081, 0.7129857229748162, 0.5915499873161181, 0.29577499365805904, 0.5865154375205464, 0.2578735914596633, 0.2578735914596633, 0.5157471829193266, 0.22404308228276637, 0.22404308228276637, 0.11202154114138319, 0.33606462342414956, 0.4450959455753806, 0.2225479727876903, 0.4450959455753806, 0.6010656864365129, 0.6010656864365129, 0.5972925530765648, 0.6010656864365129, 0.8779140870357867, 0.8960646466153279, 0.5972925530765648, 0.902438679459235, 0.5877599096113381, 0.29387995480566903, 0.9037974243047199, 0.3609314989050283, 0.7218629978100566, 0.5865154560993667, 0.8779140512129904, 0.8779140579655009, 0.6010656864365129, 0.6010656844925534, 0.9037974073166287, 0.8960646466153279, 0.4501533514825789, 0.4501533514825789, 0.5865154560993667, 0.5972925530765648, 0.8960646466153279, 0.5983970699098167, 0.29919853495490834, 0.7065506514093233, 0.35327532570466164, 0.5865154243667421, 0.7052366448280093, 0.35261832241400465, 0.6010656864365129, 0.2994383035573501, 0.2994383035573501, 0.2994383035573501, 0.9024386840173801, 0.9024386852858851, 0.6010656864365129, 0.7052423925013407, 0.35262119625067034, 0.6010656864365129, 0.7185403111322297, 0.35927015556611486, 0.5902366953306242, 0.2951183476653121, 0.2951183476653121, 0.5972925530765648, 0.4493097849349397, 0.4493097849349397, 0.5865154560993667, 0.4446756094343764, 0.2223378047171882, 0.2223378047171882, 0.2223378047171882, 0.5972925530765648, 0.6029958961058971, 0.30149794805294855, 0.2960122686870345, 0.592024537374069, 0.9037974073166287, 0.3604942631260835, 0.720988526252167, 0.9037974073166287, 0.9037974243047199, 0.5997416299184857, 0.29987081495924284, 0.775774090752261, 0.7235155964173446, 0.8779140870357867, 0.6010656805571216, 0.9037974243047199, 0.36071821839644036, 0.24047881226429357, 0.36071821839644036, 0.7067979874310597, 0.35339899371552985, 0.4493097849349397, 0.4493097849349397, 0.25450136759660236, 0.5090027351932047, 0.12725068379830118, 0.2233642434374265, 0.2233642434374265, 0.2233642434374265, 0.2233642434374265, 0.5865154530827362, 0.8960646619119182, 0.8779140870357867, 0.8779140870357867, 0.8960646466153279, 0.9037974073166287, 0.9037974073166287, 0.9024386413364933, 0.2553019107651181, 0.2553019107651181, 0.5106038215302362, 0.8779140870357867, 0.5865154560993667, 0.5972925539497306, 0.8779140799020779, 0.9037974243047199, 0.7232272533055432, 0.3616136266527716, 0.9037974475019592, 0.7169121376561373, 0.4470621645391651, 0.4470621645391651, 0.6607946329557466, 0.22026487765191552, 0.5972925530765648, 0.39490265164750454, 0.19745132582375227, 0.19745132582375227, 0.19745132582375227, 0.8960646466153279, 0.4501567428201117, 0.4501567428201117, 0.9037974243047199, 0.5877147153639254, 0.2938573576819627, 0.8960646466153279, 0.6010656864365129, 0.5865154560993667, 0.9037974073166287, 0.8960646569832048, 0.2976955320105682, 0.5953910640211364, 0.9037972725412696, 0.5865154560993667, 0.8779140870357867, 0.9037974243047199, 0.7169121272883253, 0.5972925530765648, 0.45144521029342827, 0.45144521029342827, 0.19816277219580417, 0.5944883165874124, 0.19816277219580417, 0.6010656864365129, 0.8779140870357867, 0.9037974073166287, 0.5905142736038687, 0.29525713680193433, 0.14762856840096716, 0.5972925530765648, 0.9024386904277238, 0.662330829071955, 0.22077694302398498, 0.9024386852858851, 0.30061904667121053, 0.6012380933424211, 0.9037974073166287, 0.3011938082216403, 0.6023876164432806, 0.2239192203406453, 0.11195961017032265, 0.11195961017032265, 0.5597980508516133, 0.5972925530765648, 0.9037974073166287, 0.6010656864365129, 0.6010656864365129, 0.6010656864365129, 0.45144501535614234, 0.45144501535614234, 0.29953854198260194, 0.5990770839652039, 0.29953854198260194, 0.25575367304759045, 0.5115073460951809, 0.25575367304759045, 0.5972925530765648, 0.6010656844925534, 0.35716048158431807, 0.35716048158431807, 0.35716048158431807, 0.9037974243047199, 0.2578006587486849, 0.7734019762460548, 0.8779141388051398, 0.45015653486819646, 0.45015653486819646, 0.6010656864365129, 0.9037974243047199, 0.2976955320105682, 0.5953910640211364, 0.5972925530765648, 0.35783489548357533, 0.35783489548357533, 0.35783489548357533, 0.5972925530765648, 0.8779141662257872, 0.8960646619119182, 0.6010656864365129, 0.7757740907523861, 0.5865154496275136, 0.2238934645428322, 0.2238934645428322, 0.4477869290856644, 0.6010656864365129, 0.8779141388428805, 0.8960646466153279, 0.3564963630659525, 0.712992726131905, 0.9037974073166287, 0.6010656864365129, 0.44706381607398227, 0.44706381607398227, 0.5865154377706822], \"Term\": [[\"000\", \"5\"], [\"000\", \"people\"], [\"2\", \"feb\"], [\"24\", \"7\"], [\"25\", \"000\"], [\"4\", \"within\"], [\"accountable\", \"make\"], [\"action\", \"associate\"], [\"address\", \"environmental\"], [\"address\", \"environmental\"], [\"address\", \"rail\"], [\"afternoon\", \"join\"], [\"airport\", \"terminal\"], [\"alan\", \"shaw\"], [\"alan\", \"shaw\"], [\"alan\", \"shaw\"], [\"alan\", \"shaw\"], [\"also\", \"seek\"], [\"although\", \"may\"], [\"among\", \"recent\"], [\"announce\", \"open\"], [\"appear\", \"dam\"], [\"around\", \"clock\"], [\"arrive\", \"2\"], [\"beaver\", \"county\"], [\"begin\", \"freight\"], [\"biden\", \"administration\"], [\"biden\", \"administration\"], [\"big\", \"railroad\"], [\"bipartisan\", \"house\"], [\"bipartisan\", \"rail\"], [\"bipartisan\", \"rail\"], [\"buttigieg\", \"visit\"], [\"buttigieg\", \"visit\"], [\"can\", \"not\"], [\"can\", \"not\"], [\"car\", \"carry\"], [\"carry\", \"hazardous\"], [\"carry\", \"hazardous\"], [\"carry\", \"hazardous\"], [\"ceo\", \"alan\"], [\"ceo\", \"alan\"], [\"ceo\", \"alan\"], [\"ceo\", \"alan\"], [\"chemical\", \"release\"], [\"chemical\", \"release\"], [\"chemical\", \"release\"], [\"clean\", \"relate\"], [\"cleanup\", \"phase\"], [\"cleanup\", \"presssec\"], [\"clock\", \"since\"], [\"colleague\", \"bipartisan\"], [\"come\", \"wither\"], [\"committed\", \"supporting\"], [\"committee\", \"environment\"], [\"committee\", \"hear\"], [\"committee\", \"hear\"], [\"company\", \"pay\"], [\"company\", \"safety\"], [\"company\", \"safety\"], [\"congress\", \"address\"], [\"contaminate\", \"soil\"], [\"continue\", \"put\"], [\"coordinate\", \"clean\"], [\"corporate\", \"greed\"], [\"count\", \"among\"], [\"criticism\", \"management\"], [\"day\", \"one\"], [\"day\", \"one\"], [\"derail\", \"congress\"], [\"derail\", \"epa\"], [\"derail\", \"near\"], [\"deserve\", \"answer\"], [\"deserve\", \"answer\"], [\"disaster\", \"cause\"], [\"disaster\", \"cause\"], [\"donald\", \"trump\"], [\"effort\", \"follow\"], [\"effort\", \"follow\"], [\"effort\", \"job\"], [\"emergency\", \"responder\"], [\"emergency\", \"responder\"], [\"emergency\", \"responder\"], [\"ensure\", \"safety\"], [\"environment\", \"public\"], [\"environmental\", \"cleanup\"], [\"environmental\", \"disaster\"], [\"environmental\", \"disaster\"], [\"epa\", \"team\"], [\"epwcmte\", \"epwgop\"], [\"epwcmte\", \"epwgop\"], [\"epwcmte\", \"hear\"], [\"epwcmte\", \"hear\"], [\"epwcmte\", \"hear\"], [\"every\", \"step\"], [\"examine\", \"response\"], [\"examine\", \"response\"], [\"exempt\", \"oversight\"], [\"feb\", \"3\"], [\"feb\", \"3\"], [\"feb\", \"3\"], [\"feb\", \"3\"], [\"feb\", \"4\"], [\"federal\", \"lawsuit\"], [\"federal\", \"lawsuit\"], [\"federal\", \"team\"], [\"federal\", \"team\"], [\"firm\", \"count\"], [\"first\", \"responder\"], [\"first\", \"responder\"], [\"focus\", \"company\"], [\"force\", \"company\"], [\"freight\", \"derail\"], [\"freight\", \"derail\"], [\"full\", \"update\"], [\"get\", \"fix\"], [\"gop\", \"colleague\"], [\"gov\", \"dewine\"], [\"groundwater\", \"soil\"], [\"hazardous\", \"material\"], [\"hazardous\", \"material\"], [\"hazardous\", \"material\"], [\"health\", \"environmental\"], [\"health\", \"environmental\"], [\"hear\", \"examine\"], [\"hear\", \"examine\"], [\"hold\", \"accountable\"], [\"hold\", \"accountable\"], [\"hold\", \"accountable\"], [\"hold\", \"hear\"], [\"hold\", \"hear\"], [\"hold\", \"hear\"], [\"hold\", \"hear\"], [\"hold\", \"railroad\"], [\"hour\", \"derail\"], [\"house\", \"gop\"], [\"house\", \"policy\"], [\"incident\", \"begin\"], [\"investigation\", \"focus\"], [\"investigation\", \"rail\"], [\"job\", \"do\"], [\"joe\", \"biden\"], [\"joe\", \"biden\"], [\"joe\", \"biden\"], [\"join\", \"pahousedems\"], [\"keep\", \"work\"], [\"large\", \"rail\"], [\"late\", \"update\"], [\"lawsuit\", \"also\"], [\"lawsuit\", \"file\"], [\"lawsuit\", \"file\"], [\"leslie\", \"run\"], [\"lobby\", \"safety\"], [\"local\", \"official\"], [\"local\", \"official\"], [\"long\", \"take\"], [\"long\", \"take\"], [\"make\", \"railroad\"], [\"make\", \"sure\"], [\"make\", \"sure\"], [\"make\", \"sure\"], [\"make\", \"sure\"], [\"management\", \"incident\"], [\"march\", \"9\"], [\"march\", \"9\"], [\"monitoring\", \"year\"], [\"month\", \"since\"], [\"month\", \"since\"], [\"near\", \"pennsylvania\"], [\"night\", \"ensure\"], [\"not\", \"exempt\"], [\"ntsb\", \"announce\"], [\"ntsb\", \"chair\"], [\"open\", \"special\"], [\"open\", \"special\"], [\"order\", \"conduct\"], [\"oversight\", \"transportdems\"], [\"pahousedems\", \"house\"], [\"pay\", \"groundwater\"], [\"pennsylvania\", \"border\"], [\"people\", \"every\"], [\"people\", \"live\"], [\"people\", \"live\"], [\"pete\", \"buttigieg\"], [\"pete\", \"buttigieg\"], [\"pete\", \"buttigieg\"], [\"phase\", \"coordinate\"], [\"policy\", \"committee\"], [\"practice\", \"jeffzymeri\"], [\"president\", \"biden\"], [\"president\", \"biden\"], [\"president\", \"biden\"], [\"presssec\", \"say\"], [\"prioritize\", \"safety\"], [\"public\", \"health\"], [\"public\", \"health\"], [\"public\", \"work\"], [\"rail\", \"company\"], [\"rail\", \"company\"], [\"rail\", \"firm\"], [\"rail\", \"industry\"], [\"rail\", \"industry\"], [\"rail\", \"safety\"], [\"rail\", \"safety\"], [\"rail\", \"safety\"], [\"rail\", \"safety\"], [\"railroad\", \"pay\"], [\"recent\", \"woe\"], [\"relate\", \"effort\"], [\"resident\", \"transition\"], [\"responder\", \"work\"], [\"safety\", \"accountability\"], [\"safety\", \"accountability\"], [\"safety\", \"practice\"], [\"safety\", \"practice\"], [\"safety\", \"practice\"], [\"safety\", \"regulation\"], [\"safety\", \"regulation\"], [\"safety\", \"regulation\"], [\"say\", \"committed\"], [\"secret\", \"conspiracy\"], [\"secretary\", \"pete\"], [\"secretary\", \"pete\"], [\"secretary\", \"pete\"], [\"seek\", \"force\"], [\"senate\", \"committee\"], [\"senate\", \"committee\"], [\"senate\", \"epw\"], [\"shaw\", \"testify\"], [\"shaw\", \"testify\"], [\"since\", \"night\"], [\"soil\", \"monitoring\"], [\"special\", \"investigation\"], [\"special\", \"investigation\"], [\"step\", \"way\"], [\"stock\", \"buyback\"], [\"stock\", \"buyback\"], [\"stock\", \"buyback\"], [\"supporting\", \"people\"], [\"take\", \"make\"], [\"team\", \"arrive\"], [\"team\", \"emergency\"], [\"today\", \"full\"], [\"today\", \"hear\"], [\"toxic\", \"chemical\"], [\"toxic\", \"chemical\"], [\"toxic\", \"chemical\"], [\"transition\", \"environmental\"], [\"update\", \"feb\"], [\"wither\", \"criticism\"], [\"within\", \"hour\"], [\"within\", \"hour\"], [\"woe\", \"investigation\"], [\"work\", \"around\"], [\"work\", \"hold\"], [\"work\", \"hold\"], [\"year\", \"later\"]]}, \"R\": 30, \"lambda.step\": 0.01, \"plot.opts\": {\"xlab\": \"PC1\", \"ylab\": \"PC2\"}, \"topic.order\": [3, 2, 4, 1]};\n",
       "\n",
       "function LDAvis_load_lib(url, callback){\n",
       "  var s = document.createElement('script');\n",
       "  s.src = url;\n",
       "  s.async = true;\n",
       "  s.onreadystatechange = s.onload = callback;\n",
       "  s.onerror = function(){console.warn(\"failed to load library \" + url);};\n",
       "  document.getElementsByTagName(\"head\")[0].appendChild(s);\n",
       "}\n",
       "\n",
       "if(typeof(LDAvis) !== \"undefined\"){\n",
       "   // already loaded: just create the visualization\n",
       "   !function(LDAvis){\n",
       "       new LDAvis(\"#\" + \"ldavis_el56526111308756809811099743\", ldavis_el56526111308756809811099743_data);\n",
       "   }(LDAvis);\n",
       "}else if(typeof define === \"function\" && define.amd){\n",
       "   // require.js is available: use it to load d3/LDAvis\n",
       "   require.config({paths: {d3: \"https://d3js.org/d3.v5\"}});\n",
       "   require([\"d3\"], function(d3){\n",
       "      window.d3 = d3;\n",
       "      LDAvis_load_lib(\"https://cdn.jsdelivr.net/gh/bmabey/pyLDAvis@3.3.1/pyLDAvis/js/ldavis.v3.0.0.js\", function(){\n",
       "        new LDAvis(\"#\" + \"ldavis_el56526111308756809811099743\", ldavis_el56526111308756809811099743_data);\n",
       "      });\n",
       "    });\n",
       "}else{\n",
       "    // require.js not available: dynamically load d3 & LDAvis\n",
       "    LDAvis_load_lib(\"https://d3js.org/d3.v5.js\", function(){\n",
       "         LDAvis_load_lib(\"https://cdn.jsdelivr.net/gh/bmabey/pyLDAvis@3.3.1/pyLDAvis/js/ldavis.v3.0.0.js\", function(){\n",
       "                 new LDAvis(\"#\" + \"ldavis_el56526111308756809811099743\", ldavis_el56526111308756809811099743_data);\n",
       "            })\n",
       "         });\n",
       "}\n",
       "</script>"
      ],
      "text/plain": [
       "<IPython.core.display.HTML object>"
      ]
     },
     "execution_count": 71,
     "metadata": {},
     "output_type": "execute_result"
    }
   ],
   "source": [
    "from sklearn.feature_extraction.text import CountVectorizer\n",
    "from sklearn.decomposition import LatentDirichletAllocation\n",
    "import nltk\n",
    "\n",
    "# Sample text\n",
    "text = [i for i in data_govt.T_text]\n",
    "\n",
    "# Tokenize on bigrams\n",
    "bigram = CountVectorizer(tokenizer=lambda doc: nltk.ngrams(nltk.word_tokenize(doc.lower()), 2))\n",
    "bigram_tokens = bigram.fit_transform(text)\n",
    "\n",
    "# Train LDA model\n",
    "lda_model = LatentDirichletAllocation(n_components=4)\n",
    "lda_model.fit(bigram_tokens)\n",
    "\n",
    "from sklearn.pipeline import make_pipeline\n",
    "pipeline = make_pipeline(bigram, lda_model)\n",
    "vis_data = pyLDAvis.sklearn.prepare(lda_model, bigram_tokens, bigram)\n",
    "pyLDAvis.display(vis_data)"
   ]
  },
  {
   "cell_type": "code",
   "execution_count": null,
   "metadata": {},
   "outputs": [],
   "source": []
  },
  {
   "cell_type": "code",
   "execution_count": null,
   "metadata": {},
   "outputs": [],
   "source": []
  },
  {
   "attachments": {},
   "cell_type": "markdown",
   "metadata": {},
   "source": [
    "# Until here, the rest need editing and deleting !!!"
   ]
  },
  {
   "cell_type": "code",
   "execution_count": null,
   "metadata": {},
   "outputs": [],
   "source": []
  },
  {
   "attachments": {},
   "cell_type": "markdown",
   "metadata": {},
   "source": [
    "## cut"
   ]
  },
  {
   "cell_type": "code",
   "execution_count": 117,
   "metadata": {},
   "outputs": [],
   "source": [
    "word1 = 'year'\n",
    "word2 = 'team'\n",
    "\n",
    "word1_column_idx = tf_vectorizer.vocabulary_[word1]\n",
    "word2_column_idx = tf_vectorizer.vocabulary_[word2]"
   ]
  },
  {
   "cell_type": "code",
   "execution_count": null,
   "metadata": {},
   "outputs": [],
   "source": [
    "np.array(tf.todense())"
   ]
  },
  {
   "cell_type": "code",
   "execution_count": null,
   "metadata": {},
   "outputs": [],
   "source": [
    "tf[:, word1_column_idx].toarray()"
   ]
  },
  {
   "cell_type": "code",
   "execution_count": null,
   "metadata": {},
   "outputs": [],
   "source": [
    "documents_with_word1 = (tf[:, word1_column_idx].toarray().flatten() > 0)"
   ]
  },
  {
   "cell_type": "code",
   "execution_count": null,
   "metadata": {},
   "outputs": [],
   "source": [
    "documents_with_word2 = (tf[:, word2_column_idx].toarray().flatten() > 0)"
   ]
  },
  {
   "cell_type": "code",
   "execution_count": null,
   "metadata": {},
   "outputs": [],
   "source": [
    "documents_with_both_word1_and_word2 = documents_with_word1 * documents_with_word2"
   ]
  },
  {
   "cell_type": "code",
   "execution_count": null,
   "metadata": {},
   "outputs": [],
   "source": [
    "documents_with_both_word1_and_word2"
   ]
  },
  {
   "cell_type": "markdown",
   "metadata": {},
   "source": [
    "Next, we compute the log of the conditional probability of word 1 appearing given that word 2 appeared, where we add in a little bit of a fudge factor in the numerator (in this case, it's actually not needed but some times you do have two words that do not co-occur for which you run into a numerical issue due to taking the log of 0)."
   ]
  },
  {
   "cell_type": "code",
   "execution_count": null,
   "metadata": {},
   "outputs": [],
   "source": [
    "eps = 0.1\n",
    "np.log2((documents_with_both_word1_and_word2.sum() + eps) / documents_with_word2.sum())"
   ]
  },
  {
   "cell_type": "code",
   "execution_count": 149,
   "metadata": {},
   "outputs": [],
   "source": [
    "# compute log of prob of see one word given you see another, using count vectorizer!\n",
    "# Same content as in hw , but with a different tool\n",
    "# This uses np.arrays instead of counters. Needs to kep track of the indexes.\n",
    "# Understad how countvectorizer works\n",
    "\n",
    "def prob_see_word1_given_see_word2(word1, word2, vectorizer, eps=0.1):\n",
    "    word1_column_idx = vectorizer.vocabulary_[word1]\n",
    "    word2_column_idx = vectorizer.vocabulary_[word2]\n",
    "    documents_with_word1 = (tf[:, word1_column_idx].toarray().flatten() > 0)\n",
    "    documents_with_word2 = (tf[:, word2_column_idx].toarray().flatten() > 0)\n",
    "    documents_with_both_word1_and_word2 = documents_with_word1 * documents_with_word2\n",
    "    return np.log2((documents_with_both_word1_and_word2.sum() + eps) / documents_with_word2.sum())"
   ]
  },
  {
   "cell_type": "code",
   "execution_count": null,
   "metadata": {},
   "outputs": [],
   "source": [
    "type(word1), type(word2)"
   ]
  },
  {
   "cell_type": "markdown",
   "metadata": {},
   "source": [
    "## Topic coherence\n",
    "\n",
    "The below code shows how one implements the topic coherence calculation from lecture."
   ]
  },
  {
   "cell_type": "code",
   "execution_count": null,
   "metadata": {},
   "outputs": [],
   "source": [
    "# In the cell below, vectorizer.get_feature_names() is just tokenizing the text, \n",
    "# eliminating stopwords, eliminating some other words, and then giving you back\n",
    "# a list of the tokens in string format"
   ]
  },
  {
   "cell_type": "code",
   "execution_count": 150,
   "metadata": {},
   "outputs": [],
   "source": [
    "# topic coherence\n",
    "\n",
    "def compute_average_coherence(topic_word_distributions, num_top_words, vectorizer, verbose=True):\n",
    "    vocab = vectorizer.get_feature_names()\n",
    "    num_topics = len(topic_word_distributions)\n",
    "    average_coherence = 0\n",
    "    # foor loop thru different topics, for each topic double nested for loop, going thru each entry, ordering matters\n",
    "    # make sure words arent the same, then compute the log(prob)\n",
    "    # add a bunhc of them and divide by total number of topics\n",
    "    for topic_idx in range(num_topics):\n",
    "        if verbose:\n",
    "            print('[Topic ', topic_idx, ']', sep='')\n",
    "        \n",
    "        sort_indices = np.argsort(topic_word_distributions[topic_idx])[::-1]\n",
    "        coherence = 0.\n",
    "        for top_word_idx1 in sort_indices[:num_top_words]:\n",
    "            word1 = vocab[top_word_idx1]\n",
    "            for top_word_idx2 in sort_indices[:num_top_words]:\n",
    "                word2 = vocab[top_word_idx2]\n",
    "                if top_word_idx1 != top_word_idx2:\n",
    "                    coherence += prob_see_word1_given_see_word2(word1, word2, vectorizer, 0.1)\n",
    "        \n",
    "        if verbose:\n",
    "            print('Coherence:', coherence)\n",
    "            print()\n",
    "        average_coherence += coherence\n",
    "    average_coherence /= num_topics\n",
    "    if verbose:\n",
    "        print('Average coherence:', average_coherence)\n",
    "    return average_coherence"
   ]
  },
  {
   "cell_type": "code",
   "execution_count": 151,
   "metadata": {},
   "outputs": [],
   "source": [
    "num_top_words=10"
   ]
  },
  {
   "cell_type": "code",
   "execution_count": 152,
   "metadata": {},
   "outputs": [
    {
     "name": "stdout",
     "output_type": "stream",
     "text": [
      "[Topic 0]\n"
     ]
    },
    {
     "name": "stderr",
     "output_type": "stream",
     "text": [
      "/Users/ribarragi/miniconda3/envs/Intro_AI/lib/python3.9/site-packages/sklearn/utils/deprecation.py:87: FutureWarning: Function get_feature_names is deprecated; get_feature_names is deprecated in 1.0 and will be removed in 1.2. Please use get_feature_names_out instead.\n",
      "  warnings.warn(msg, category=FutureWarning)\n"
     ]
    },
    {
     "ename": "IndexError",
     "evalue": "list index out of range",
     "output_type": "error",
     "traceback": [
      "\u001b[0;31m---------------------------------------------------------------------------\u001b[0m",
      "\u001b[0;31mIndexError\u001b[0m                                Traceback (most recent call last)",
      "Cell \u001b[0;32mIn[152], line 1\u001b[0m\n\u001b[0;32m----> 1\u001b[0m compute_average_coherence(topic_word_distributions, num_top_words, tf_vectorizer, \u001b[39mTrue\u001b[39;49;00m)\n",
      "Cell \u001b[0;32mIn[150], line 17\u001b[0m, in \u001b[0;36mcompute_average_coherence\u001b[0;34m(topic_word_distributions, num_top_words, vectorizer, verbose)\u001b[0m\n\u001b[1;32m     15\u001b[0m coherence \u001b[39m=\u001b[39m \u001b[39m0.\u001b[39m\n\u001b[1;32m     16\u001b[0m \u001b[39mfor\u001b[39;00m top_word_idx1 \u001b[39min\u001b[39;00m sort_indices[:num_top_words]:\n\u001b[0;32m---> 17\u001b[0m     word1 \u001b[39m=\u001b[39m vocab[top_word_idx1]\n\u001b[1;32m     18\u001b[0m     \u001b[39mfor\u001b[39;00m top_word_idx2 \u001b[39min\u001b[39;00m sort_indices[:num_top_words]:\n\u001b[1;32m     19\u001b[0m         word2 \u001b[39m=\u001b[39m vocab[top_word_idx2]\n",
      "\u001b[0;31mIndexError\u001b[0m: list index out of range"
     ]
    }
   ],
   "source": [
    "compute_average_coherence(topic_word_distributions, num_top_words, tf_vectorizer, True)\n",
    "# These are negative, the highest possible is zero."
   ]
  },
  {
   "cell_type": "markdown",
   "metadata": {},
   "source": [
    "## Number of unique words\n",
    "\n",
    "The below code shows how one implements the number of unique words calculation from lecture."
   ]
  },
  {
   "cell_type": "code",
   "execution_count": 81,
   "metadata": {},
   "outputs": [],
   "source": [
    "# brute force implementation\n",
    "# nothing clever to speed upmcalculation\n",
    "\n",
    "#fro loop for each topic\n",
    "# For loop over each top word\n",
    "# another for loop for other topics\n",
    "# lok for all other top words in those other topics\n",
    "# check for uniqueness\n",
    "\n",
    "def compute_average_num_unique_words(topic_word_distributions, num_top_words, vectorizer, verbose=True):\n",
    "    vocab = vectorizer.get_feature_names()\n",
    "    num_topics = len(topic_word_distributions)\n",
    "    average_number_of_unique_top_words = 0\n",
    "    for topic_idx1 in range(num_topics):\n",
    "        if verbose:\n",
    "            print('[Topic ', topic_idx1, ']', sep='')\n",
    "        \n",
    "        sort_indices1 = np.argsort(topic_word_distributions[topic_idx1])[::-1]\n",
    "        num_unique_top_words = 0\n",
    "        for top_word_idx1 in sort_indices1[:num_top_words]:\n",
    "            word1 = vocab[top_word_idx1]\n",
    "            break_ = False\n",
    "            for topic_idx2 in range(num_topics):\n",
    "                if topic_idx1 != topic_idx2:\n",
    "                    sort_indices2 = np.argsort(topic_word_distributions[topic_idx2])[::-1]\n",
    "                    for top_word_idx2 in sort_indices2[:num_top_words]:\n",
    "                        word2 = vocab[top_word_idx2]\n",
    "                        if word1 == word2:\n",
    "                            break_ = True\n",
    "                            break\n",
    "                    if break_:\n",
    "                        break\n",
    "            else:\n",
    "                num_unique_top_words += 1\n",
    "        if verbose:\n",
    "            print('Number of unique top words:', num_unique_top_words)\n",
    "            print()\n",
    "\n",
    "        average_number_of_unique_top_words += num_unique_top_words\n",
    "    average_number_of_unique_top_words /= num_topics\n",
    "    \n",
    "    if verbose:\n",
    "        print('Average number of unique top words:', average_number_of_unique_top_words)\n",
    "    \n",
    "    return average_number_of_unique_top_words"
   ]
  },
  {
   "cell_type": "code",
   "execution_count": 33,
   "metadata": {},
   "outputs": [
    {
     "name": "stdout",
     "output_type": "stream",
     "text": [
      "[Topic 0]\n",
      "Number of unique top words: 12\n",
      "\n",
      "[Topic 1]\n",
      "Number of unique top words: 18\n",
      "\n",
      "[Topic 2]\n",
      "Number of unique top words: 10\n",
      "\n",
      "[Topic 3]\n",
      "Number of unique top words: 11\n",
      "\n",
      "[Topic 4]\n",
      "Number of unique top words: 13\n",
      "\n",
      "Average number of unique top words: 12.8\n"
     ]
    },
    {
     "data": {
      "text/plain": [
       "12.8"
      ]
     },
     "execution_count": 33,
     "metadata": {},
     "output_type": "execute_result"
    }
   ],
   "source": [
    "compute_average_num_unique_words(topic_word_distributions, num_top_words, tf_vectorizer, True)"
   ]
  },
  {
   "cell_type": "markdown",
   "metadata": {},
   "source": [
    "## Plotting average coherence vs k (number of topics), and average number of unique words vs k\n",
    "\n",
    "Next, we plot the average coherence vs k and the average number of unique words vs k. Note that these are *not* the only topic model metrics available (much like how CH index is not the only metric available for clustering).\n",
    "\n",
    "For both average coherence and average number of unique words, we would like these to be high. In this particular example, it turns out k=2 yields very high values for both but if you look at the topics learned for k=2, they are qualitatively quite bad (basically one topic is gibberish and the other is everything else!). This observation reinforces the important idea that while there exist topic modeling metrics (such as coherence and number of unique words), you should definitely still look at what the learned topics are (e.g., by printing the top words per topic) to help decide on what value of k to use.\n",
    "\n",
    "Also, keep in mind that the results are in some sense \"noisy\" since the LDA fitting procedure is random. We're choosing a specific `random_state` seed value but if we try different random seeds, we can get different results. For simplicity, because LDA fitting is quite computationally expensive, we are *not* doing what we did with GMM's where we did many different random initializations. Thus, the conclusions we draw regarding how many topics to use might actually be different with different random initializations.\n",
    "\n",
    "At least according to average coherence and average number of unique words for the random seed we use, the results below suggests that using k=4 yields average coherence and average number of unique words that are still reasonably high (as good as or almost as good as the k=2 result), and inspecting the topics learned for k=4, they are definitely more interesting than the ones learned for k=2.\n",
    "\n",
    "From qualitatively looking at topics, the k=5, k=6, and k=7 topics also look decent. When k gets too large (e.g., k=10), there start to be topics that look like there might be too much overlap (such as multiple topics that seem to be about computers).\n",
    "\n",
    "Note that one of the things to look out for is whether there are \"stable\" topics, where even for slightly different values of k and different random initializations, LDA keeps finding specific topics (e.g., one on gibberish, one on numbers, etc)."
   ]
  },
  {
   "cell_type": "code",
   "execution_count": 38,
   "metadata": {},
   "outputs": [
    {
     "name": "stdout",
     "output_type": "stream",
     "text": [
      "--------------------------------------------------------------------------------\n",
      "Number of topics: 2\n",
      "\n",
      "Displaying the top 20 words per topic and their probabilities within the topic...\n",
      "\n",
      "[Topic 0]\n",
      "toxic : 0.018947190874659656\n",
      "chemical : 0.0146115452622207\n",
      "resident : 0.010830155655439894\n",
      "epa : 0.007999680723243629\n",
      "disaster : 0.006966187494212401\n",
      "say : 0.006606448271329401\n",
      "via : 0.006232089935997095\n",
      "people : 0.005913273839575192\n",
      "rail : 0.005855525932622772\n",
      "ceo : 0.005576890298219318\n",
      "week : 0.00526333465928172\n",
      "crash : 0.005061909876325971\n",
      "pay : 0.004480046732685991\n",
      "water : 0.004477018407464085\n",
      "town : 0.004397929397226687\n",
      "site : 0.0042968358211493375\n",
      "health : 0.004232030415188725\n",
      "environmental : 0.004013384752745299\n",
      "make : 0.003954174126354031\n",
      "air : 0.003689459403823465\n",
      "\n",
      "[Topic 1]\n",
      "trump : 0.01634969760232949\n",
      "derail : 0.015011308697711551\n",
      "another : 0.011362601118430776\n",
      "say : 0.010169433813758904\n",
      "safety : 0.009975825059334477\n",
      "biden : 0.009940841871689083\n",
      "car : 0.009550665099861032\n",
      "derails : 0.008420039311766166\n",
      "hazardous : 0.007467425834262224\n",
      "go : 0.006694118184305232\n",
      "visit : 0.006507923267303166\n",
      "buttigieg : 0.006488923577766188\n",
      "would : 0.006411988940496926\n",
      "material : 0.005634671412277326\n",
      "regulation : 0.005322409264333314\n",
      "pete : 0.005264842563668584\n",
      "company : 0.005216760014175944\n",
      "one : 0.005105220997306266\n",
      "rule : 0.004692355827638666\n",
      "report : 0.004575816862409945\n",
      "\n",
      "\n",
      "\n",
      "--------------------------------------------------------------------------------\n",
      "Number of topics: 3\n",
      "\n",
      "Displaying the top 20 words per topic and their probabilities within the topic...\n",
      "\n",
      "[Topic 0]\n",
      "toxic : 0.01023355063171308\n",
      "rail : 0.009504396348593179\n",
      "ceo : 0.008340562309136776\n",
      "epa : 0.008236270734557488\n",
      "resident : 0.007461001085057629\n",
      "like : 0.0070624296939894825\n",
      "safety : 0.006373299935510663\n",
      "chemical : 0.006253984502984596\n",
      "people : 0.005888048858391378\n",
      "via : 0.005871617571850233\n",
      "disaster : 0.00585624005327073\n",
      "company : 0.005531521835646027\n",
      "say : 0.005345007148220003\n",
      "pay : 0.00522843991399548\n",
      "worker : 0.004754858004865517\n",
      "make : 0.004731594547112623\n",
      "get : 0.004694244697626469\n",
      "us : 0.0044558954452675595\n",
      "tell : 0.0042970899140246915\n",
      "senate : 0.004129599337588516\n",
      "\n",
      "[Topic 1]\n",
      "derail : 0.030211992249200653\n",
      "another : 0.020492888176724976\n",
      "car : 0.0172513636334293\n",
      "derails : 0.015177248156519944\n",
      "hazardous : 0.014210087533388347\n",
      "say : 0.01173519094438522\n",
      "material : 0.010169967362013994\n",
      "safety : 0.00939550300997033\n",
      "rule : 0.008388290343985976\n",
      "trump : 0.008265238339258917\n",
      "company : 0.008229183840943195\n",
      "would : 0.008068253144901873\n",
      "springfield : 0.008060764621716109\n",
      "alabama : 0.008047957439337991\n",
      "report : 0.00753717438788766\n",
      "brake : 0.007178678632659467\n",
      "20 : 0.007125041877683239\n",
      "carry : 0.006829906753838116\n",
      "freight : 0.006494431556078246\n",
      "place : 0.006146292375582899\n",
      "\n",
      "[Topic 2]\n",
      "toxic : 0.01696342849095113\n",
      "chemical : 0.014450675617403012\n",
      "biden : 0.013407041742828312\n",
      "trump : 0.013376286417079478\n",
      "water : 0.011388011143568954\n",
      "visit : 0.009279376398728124\n",
      "say : 0.008843177312988946\n",
      "buttigieg : 0.008268429525629001\n",
      "disaster : 0.008253295689051117\n",
      "resident : 0.007355114348753984\n",
      "pete : 0.006936351746047361\n",
      "town : 0.0060273738317453045\n",
      "president : 0.006008840858724464\n",
      "people : 0.005465310633847379\n",
      "week : 0.0054147264166713545\n",
      "site : 0.005321286267608076\n",
      "state : 0.005164186068013076\n",
      "go : 0.005107170085055596\n",
      "release : 0.004677687156364966\n",
      "dewine : 0.004345415516314407\n",
      "\n",
      "\n",
      "\n",
      "--------------------------------------------------------------------------------\n",
      "Number of topics: 4\n",
      "\n",
      "Displaying the top 20 words per topic and their probabilities within the topic...\n",
      "\n",
      "[Topic 0]\n",
      "toxic : 0.019109299293063424\n",
      "ceo : 0.014923148368793515\n",
      "resident : 0.014032535894965403\n",
      "epa : 0.012880097059215922\n",
      "chemical : 0.012055885985278793\n",
      "via : 0.011039836351194989\n",
      "rail : 0.008261465726107668\n",
      "pay : 0.007074146528604315\n",
      "say : 0.0069376617126327865\n",
      "tell : 0.006885196688547245\n",
      "senate : 0.006883262743183415\n",
      "congress : 0.006599828068642475\n",
      "worker : 0.006277101473757908\n",
      "crash : 0.005741687794560437\n",
      "clean : 0.0057331420386155015\n",
      "order : 0.005672258700306906\n",
      "week : 0.005322239066502825\n",
      "company : 0.005293422135944193\n",
      "disaster : 0.005077140447718318\n",
      "site : 0.005028399356037468\n",
      "\n",
      "[Topic 1]\n",
      "derail : 0.0386118578493583\n",
      "another : 0.02775513784486114\n",
      "car : 0.02332374806901548\n",
      "derails : 0.020483019699128382\n",
      "hazardous : 0.016970728264387933\n",
      "material : 0.01377240935500586\n",
      "say : 0.012975360945835873\n",
      "springfield : 0.010917852908276593\n",
      "alabama : 0.010275916159686593\n",
      "company : 0.010241773857462177\n",
      "20 : 0.009650838779189153\n",
      "carry : 0.00829905537191412\n",
      "freight : 0.008126224217172481\n",
      "safety : 0.007981659384084227\n",
      "place : 0.00791534314766714\n",
      "report : 0.007798574830620281\n",
      "cargo : 0.007402796580398657\n",
      "rule : 0.007105469425994468\n",
      "train : 0.007012888757794708\n",
      "second : 0.006587839745918873\n",
      "\n",
      "[Topic 2]\n",
      "toxic : 0.022008512747863085\n",
      "chemical : 0.01896722758512501\n",
      "water : 0.012895261867155868\n",
      "say : 0.010827548250814941\n",
      "visit : 0.008920669340034453\n",
      "resident : 0.007981457800256109\n",
      "site : 0.007547501653377204\n",
      "town : 0.0073920692179010915\n",
      "state : 0.007043293385695993\n",
      "release : 0.006883585340615956\n",
      "federal : 0.006599997436781134\n",
      "week : 0.006526304884290921\n",
      "safety : 0.006415177320643226\n",
      "follow : 0.006174718066702522\n",
      "disaster : 0.005761117423299645\n",
      "health : 0.005644195905535136\n",
      "biden : 0.00553243794090501\n",
      "air : 0.005398272085328734\n",
      "epa : 0.005335739228082774\n",
      "dewine : 0.005234660770348556\n",
      "\n",
      "[Topic 3]\n",
      "trump : 0.021005122899025962\n",
      "biden : 0.011623020281198826\n",
      "people : 0.00897159219499902\n",
      "disaster : 0.008293985594980725\n",
      "go : 0.008005207979875506\n",
      "regulation : 0.00796871155018297\n",
      "buttigieg : 0.0069646018842054\n",
      "safety : 0.006773281166151351\n",
      "get : 0.0060919760023181654\n",
      "like : 0.0060039051233090465\n",
      "pete : 0.005785231178103724\n",
      "would : 0.005674729353438205\n",
      "blame : 0.005354458627448547\n",
      "need : 0.005146898900987625\n",
      "gop : 0.004752947956861332\n",
      "say : 0.004634640109591115\n",
      "administration : 0.004602304880761151\n",
      "oh : 0.0045900678418359965\n",
      "rail : 0.004530449091720051\n",
      "make : 0.004397563907887254\n",
      "\n",
      "\n",
      "\n",
      "--------------------------------------------------------------------------------\n",
      "Number of topics: 5\n",
      "\n",
      "Displaying the top 20 words per topic and their probabilities within the topic...\n",
      "\n",
      "[Topic 0]\n",
      "toxic : 0.022457791846392967\n",
      "ceo : 0.01909519770061295\n",
      "resident : 0.017347292501322095\n",
      "chemical : 0.016160113157076755\n",
      "epa : 0.013899063024322483\n",
      "via : 0.009893960751737617\n",
      "pay : 0.008269276069613581\n",
      "say : 0.008163893554262587\n",
      "senate : 0.008134594278846838\n",
      "tell : 0.007605117286419225\n",
      "congress : 0.006781515182579619\n",
      "order : 0.006306676179334696\n",
      "clean : 0.006226100852638858\n",
      "rail : 0.0062106600464542985\n",
      "crash : 0.006076923915123679\n",
      "site : 0.005999986680991488\n",
      "worker : 0.0059216764863732185\n",
      "animal : 0.005689835953484064\n",
      "company : 0.00549751936463235\n",
      "demand : 0.005352323604188377\n",
      "\n",
      "[Topic 1]\n",
      "derail : 0.041301288720680895\n",
      "another : 0.03180513917666337\n",
      "car : 0.026418350367137678\n",
      "derails : 0.022203092403190045\n",
      "hazardous : 0.019883504315243262\n",
      "material : 0.015784198361090688\n",
      "say : 0.013526961781535762\n",
      "springfield : 0.012509990870489616\n",
      "20 : 0.011057471751499764\n",
      "company : 0.010800731026674894\n",
      "alabama : 0.010715894642125327\n",
      "carry : 0.009308797231190406\n",
      "freight : 0.008695898991201418\n",
      "cargo : 0.008482252175005624\n",
      "place : 0.008091923299740364\n",
      "second : 0.007548877594248619\n",
      "county : 0.007522726704506382\n",
      "report : 0.007300660550027382\n",
      "month : 0.007231423910512517\n",
      "one : 0.007019434564381862\n",
      "\n",
      "[Topic 2]\n",
      "toxic : 0.024399433631634115\n",
      "chemical : 0.018556797501523944\n",
      "visit : 0.013117524876437109\n",
      "water : 0.012062389845854405\n",
      "say : 0.010973712439973757\n",
      "site : 0.00844431795530629\n",
      "biden : 0.007837146592019666\n",
      "town : 0.007748579055315083\n",
      "resident : 0.007402385870002908\n",
      "state : 0.007034684176878805\n",
      "federal : 0.007014036491315758\n",
      "release : 0.006943703134839403\n",
      "week : 0.006781308268996687\n",
      "epa : 0.006548100561755021\n",
      "air : 0.006254763588951667\n",
      "disaster : 0.0057565792934920115\n",
      "follow : 0.00573390107272309\n",
      "environmental : 0.005488453374713875\n",
      "response : 0.005398110140580032\n",
      "trump : 0.005321220579266696\n",
      "\n",
      "[Topic 3]\n",
      "trump : 0.018502068531496673\n",
      "biden : 0.013314674872412476\n",
      "people : 0.012179552557099477\n",
      "go : 0.009201033734639479\n",
      "get : 0.00865621546372934\n",
      "need : 0.007154970123360606\n",
      "say : 0.007040251673666007\n",
      "water : 0.006922296359066375\n",
      "disaster : 0.006480895117766147\n",
      "oh : 0.0057712524173923006\n",
      "buttigieg : 0.00563832997784419\n",
      "pete : 0.005540222921467095\n",
      "gop : 0.005460751698488064\n",
      "help : 0.005425819781321395\n",
      "regulation : 0.005069411637819183\n",
      "president : 0.005018373647870214\n",
      "blame : 0.004838856230112978\n",
      "republican : 0.004819385292446188\n",
      "like : 0.004649180333924542\n",
      "would : 0.004602272585002344\n",
      "\n",
      "[Topic 4]\n",
      "safety : 0.020854286101955024\n",
      "trump : 0.012096334684715907\n",
      "rail : 0.009905084947262426\n",
      "disaster : 0.009302870886439376\n",
      "regulation : 0.008105892834487346\n",
      "brake : 0.007738428284822817\n",
      "rule : 0.006814332639663208\n",
      "make : 0.0066215506193103195\n",
      "would : 0.0065813934167291074\n",
      "like : 0.006260418724992104\n",
      "railroad : 0.006026254068120426\n",
      "year : 0.005842938838686263\n",
      "derailment : 0.005839382265900528\n",
      "accident : 0.00567860726893937\n",
      "new : 0.005491509162680534\n",
      "cause : 0.004876663188700848\n",
      "ntsb : 0.004615220286816077\n",
      "happen : 0.004435757515635707\n",
      "buttigieg : 0.004175798070820346\n",
      "right : 0.004164262724009133\n",
      "\n",
      "\n",
      "\n",
      "--------------------------------------------------------------------------------\n",
      "Number of topics: 6\n",
      "\n",
      "Displaying the top 20 words per topic and their probabilities within the topic...\n",
      "\n",
      "[Topic 0]\n",
      "ceo : 0.029934803022585877\n",
      "toxic : 0.024509954121365404\n",
      "resident : 0.014631826062639419\n",
      "via : 0.01459418509473152\n",
      "senate : 0.012351306529148174\n",
      "congress : 0.01123495862495429\n",
      "tell : 0.01117980198456287\n",
      "rail : 0.010344488712771362\n",
      "worker : 0.009880603439935067\n",
      "demand : 0.007582947271359503\n",
      "say : 0.007429311901228931\n",
      "hour : 0.007304603436803837\n",
      "shaw : 0.006962922065620949\n",
      "alan : 0.0069533515179600195\n",
      "pay : 0.006774127756902931\n",
      "chemical : 0.006617883194274048\n",
      "000 : 0.006528791563082372\n",
      "alabama : 0.006389362624522756\n",
      "epa : 0.006349796834903962\n",
      "testifies : 0.0062856339368402864\n",
      "\n",
      "[Topic 1]\n",
      "derail : 0.04697313178662796\n",
      "another : 0.03782512567797534\n",
      "car : 0.03128821785332865\n",
      "hazardous : 0.020827774987104208\n",
      "derails : 0.020604929459027463\n",
      "material : 0.016815439652684405\n",
      "springfield : 0.014880866567215961\n",
      "say : 0.013822527190265499\n",
      "20 : 0.013153938085277933\n",
      "company : 0.011986124058506256\n",
      "cargo : 0.010085116823655812\n",
      "freight : 0.010056686516665395\n",
      "carry : 0.010043194629424398\n",
      "place : 0.009405869397579373\n",
      "alabama : 0.00903896294072756\n",
      "county : 0.00897418332782073\n",
      "month : 0.008567927067156818\n",
      "one : 0.007773158371983876\n",
      "second : 0.00776966025866095\n",
      "shelter : 0.007311133895271511\n",
      "\n",
      "[Topic 2]\n",
      "toxic : 0.02416518176141444\n",
      "visit : 0.01466529507849081\n",
      "say : 0.011823379058092392\n",
      "resident : 0.01092977444083954\n",
      "biden : 0.01047557928648287\n",
      "site : 0.009556351121848054\n",
      "federal : 0.008915631700886904\n",
      "town : 0.008451327936817502\n",
      "response : 0.0084293957983874\n",
      "transportation : 0.008078126362458825\n",
      "chemical : 0.007970442462984848\n",
      "buttigieg : 0.007933385254468359\n",
      "disaster : 0.0073999438129481515\n",
      "week : 0.007309123765483458\n",
      "state : 0.007112453608177943\n",
      "safety : 0.007010455152008537\n",
      "dewine : 0.006980621599878736\n",
      "follow : 0.006786861119926392\n",
      "pete : 0.006649608946772285\n",
      "trump : 0.006550273904850106\n",
      "\n",
      "[Topic 3]\n",
      "trump : 0.0231224882771121\n",
      "biden : 0.013814993523489569\n",
      "people : 0.011720680860625382\n",
      "go : 0.00970670297774062\n",
      "get : 0.008110643208959616\n",
      "regulation : 0.008091418827291438\n",
      "need : 0.006753943695487108\n",
      "disaster : 0.00655709445582949\n",
      "would : 0.006380761200950069\n",
      "say : 0.0059863584149820355\n",
      "gop : 0.005916404019189781\n",
      "like : 0.005872338072893928\n",
      "oh : 0.0056962201440909094\n",
      "blame : 0.005648362616070565\n",
      "help : 0.005281466607518711\n",
      "know : 0.0050966197426840715\n",
      "pete : 0.004968176329429738\n",
      "buttigieg : 0.004912142550780366\n",
      "back : 0.004856501906785538\n",
      "one : 0.004783855992950435\n",
      "\n",
      "[Topic 4]\n",
      "safety : 0.02159338367191896\n",
      "rail : 0.011307717134621384\n",
      "disaster : 0.009704355669461722\n",
      "brake : 0.007828791430280743\n",
      "new : 0.007749495521774085\n",
      "rule : 0.007743688965011631\n",
      "trump : 0.007687547640640024\n",
      "railroad : 0.007233208275892477\n",
      "year : 0.006923354274393007\n",
      "make : 0.006652673066922383\n",
      "ntsb : 0.006252759162034284\n",
      "accident : 0.005903207387322961\n",
      "post : 0.005819782094199039\n",
      "would : 0.005640615145310444\n",
      "regulation : 0.005248280811755987\n",
      "like : 0.005203991799272645\n",
      "right : 0.004929012877081026\n",
      "industry : 0.004874703924421628\n",
      "derailment : 0.004657656268054999\n",
      "buttigieg : 0.004537706051506622\n",
      "\n",
      "[Topic 5]\n",
      "chemical : 0.03158453854775816\n",
      "water : 0.018023257187170353\n",
      "epa : 0.014796823019741405\n",
      "toxic : 0.012545060804001683\n",
      "report : 0.009781520257813944\n",
      "health : 0.0093299704724856\n",
      "air : 0.009313319456745755\n",
      "say : 0.009064748422328956\n",
      "chloride : 0.00831175454753678\n",
      "burn : 0.008248121634297074\n",
      "release : 0.008164094317679177\n",
      "vinyl : 0.007671885747307093\n",
      "resident : 0.007168548182086289\n",
      "public : 0.007052544805483708\n",
      "test : 0.006733021742729114\n",
      "order : 0.006379629014678323\n",
      "north : 0.0061313869994422615\n",
      "river : 0.0061046101843074746\n",
      "carolina : 0.0058300818846806135\n",
      "concern : 0.005732325667197565\n",
      "\n",
      "\n",
      "\n",
      "--------------------------------------------------------------------------------\n",
      "Number of topics: 7\n",
      "\n",
      "Displaying the top 20 words per topic and their probabilities within the topic...\n",
      "\n",
      "[Topic 0]\n",
      "ceo : 0.034073432440240206\n",
      "toxic : 0.01885519319050218\n",
      "rail : 0.01579399347884362\n",
      "via : 0.015501236254538137\n",
      "congress : 0.014556779172124511\n",
      "senate : 0.014254845210108901\n",
      "worker : 0.012162868737975382\n",
      "tell : 0.010860056584937093\n",
      "hour : 0.009121934789822915\n",
      "demand : 0.008117677573543666\n",
      "pay : 0.008060734786215695\n",
      "alabama : 0.007968905376933068\n",
      "testifies : 0.007898511616934327\n",
      "testify : 0.007286357026094422\n",
      "alan : 0.006829603419460747\n",
      "shaw : 0.006673310417663819\n",
      "company : 0.0064513084952708116\n",
      "crash : 0.00636805573691005\n",
      "us : 0.0062629759560102706\n",
      "sign : 0.00607812573168082\n",
      "\n",
      "[Topic 1]\n",
      "derail : 0.050468051910027636\n",
      "another : 0.042656624828051055\n",
      "car : 0.03358633545043437\n",
      "hazardous : 0.02402020280051192\n",
      "derails : 0.02303123814563349\n",
      "material : 0.02100708644729808\n",
      "springfield : 0.01679678575611248\n",
      "say : 0.01510643601613701\n",
      "20 : 0.01484715965738732\n",
      "company : 0.012822302641722662\n",
      "cargo : 0.011380712269280517\n",
      "place : 0.010653638907998619\n",
      "alabama : 0.010252643011529408\n",
      "freight : 0.010126350640699689\n",
      "carry : 0.010107130505322776\n",
      "month : 0.00915660208108005\n",
      "county : 0.009108571732008339\n",
      "second : 0.008970189457804886\n",
      "shelter : 0.008252357176971944\n",
      "one : 0.008190511785534356\n",
      "\n",
      "[Topic 2]\n",
      "toxic : 0.025850832589100113\n",
      "resident : 0.01432216594788541\n",
      "say : 0.012899943646961181\n",
      "chemical : 0.012738983548372895\n",
      "visit : 0.011094931145207898\n",
      "town : 0.009128459766782039\n",
      "site : 0.00873922321224486\n",
      "safety : 0.008596990061463947\n",
      "federal : 0.008545488358379942\n",
      "response : 0.008291735797711622\n",
      "transportation : 0.007933694919707784\n",
      "week : 0.007917454260449546\n",
      "environmental : 0.007778714189999576\n",
      "month : 0.00740435810943385\n",
      "epa : 0.0071600071948448914\n",
      "disaster : 0.007028584115487032\n",
      "buttigieg : 0.0068600825701268745\n",
      "state : 0.006663720589334577\n",
      "sue : 0.006293688458211114\n",
      "follow : 0.006162253452179212\n",
      "\n",
      "[Topic 3]\n",
      "trump : 0.024832320823816628\n",
      "biden : 0.013326611390051504\n",
      "people : 0.011315294793812675\n",
      "would : 0.010029795982648578\n",
      "go : 0.009247956987775764\n",
      "regulation : 0.00884122288619135\n",
      "buttigieg : 0.007790841713780097\n",
      "pete : 0.007207984377754399\n",
      "say : 0.007091129305210593\n",
      "get : 0.006993858616370607\n",
      "brake : 0.006989910271114225\n",
      "blame : 0.0069089372283666845\n",
      "disaster : 0.006389249592099461\n",
      "need : 0.006374046679736046\n",
      "oh : 0.006267543543466257\n",
      "rule : 0.0061874215814019615\n",
      "republican : 0.005141663499312294\n",
      "help : 0.005051475625186332\n",
      "back : 0.0049932591312315325\n",
      "even : 0.004938192927650618\n",
      "\n",
      "[Topic 4]\n",
      "safety : 0.020630440273324318\n",
      "disaster : 0.010070177267103764\n",
      "rail : 0.009473485291577996\n",
      "make : 0.008804842046200804\n",
      "year : 0.008100916059768131\n",
      "railroad : 0.007307417684129275\n",
      "accident : 0.006503454272221553\n",
      "new : 0.006440561208150915\n",
      "derailment : 0.0062278321075233956\n",
      "right : 0.006174650092630047\n",
      "trump : 0.006127153866882384\n",
      "like : 0.005873947708597246\n",
      "happen : 0.0058381278537337645\n",
      "post : 0.005707381586067502\n",
      "rule : 0.005358039669401162\n",
      "white : 0.005346148443846392\n",
      "profit : 0.0049616565736584975\n",
      "every : 0.004823392589477526\n",
      "regulation : 0.00478457556758731\n",
      "would : 0.0046151808056909965\n",
      "\n",
      "[Topic 5]\n",
      "chemical : 0.03343748621242268\n",
      "water : 0.016988971352351487\n",
      "toxic : 0.013509458122921768\n",
      "report : 0.012259865352685946\n",
      "resident : 0.009558116405639453\n",
      "chloride : 0.009535622883117436\n",
      "health : 0.00912368846695434\n",
      "burn : 0.009077837351024373\n",
      "release : 0.008884588882585668\n",
      "vinyl : 0.008801970299581314\n",
      "air : 0.008207276231859573\n",
      "say : 0.008111819648918264\n",
      "public : 0.00727251272393695\n",
      "north : 0.007034110031199187\n",
      "river : 0.0070027441577046575\n",
      "carolina : 0.006701248477890141\n",
      "derail : 0.0059477694960602765\n",
      "animal : 0.005665099897801638\n",
      "fire : 0.005638819480376162\n",
      "spill : 0.005467612300203774\n",
      "\n",
      "[Topic 6]\n",
      "epa : 0.017381298163888705\n",
      "biden : 0.014030811297885982\n",
      "trump : 0.011599970062039474\n",
      "toxic : 0.011217699570396525\n",
      "visit : 0.010032467157317048\n",
      "waste : 0.009492403778997299\n",
      "clean : 0.009490333449629722\n",
      "kill : 0.009211607413325025\n",
      "gop : 0.008965003154355848\n",
      "news : 0.00799692212450804\n",
      "order : 0.007609441000759926\n",
      "get : 0.007582992990152742\n",
      "pay : 0.007482925935007916\n",
      "truck : 0.007218383980016027\n",
      "dump : 0.006970581106055291\n",
      "say : 0.006814582610904489\n",
      "site : 0.006762454124790967\n",
      "go : 0.006271006623277019\n",
      "president : 0.006228758006110148\n",
      "hold : 0.0062063526219695\n",
      "\n",
      "\n",
      "\n",
      "--------------------------------------------------------------------------------\n",
      "Number of topics: 8\n",
      "\n",
      "Displaying the top 20 words per topic and their probabilities within the topic...\n",
      "\n",
      "[Topic 0]\n",
      "toxic : 0.024032008743821564\n",
      "rail : 0.01715199168139829\n",
      "via : 0.015426933449308506\n",
      "tell : 0.012244900452080846\n",
      "worker : 0.011489120473297832\n",
      "demand : 0.010837609898060282\n",
      "resident : 0.0103182651827192\n",
      "pay : 0.009897174227669624\n",
      "crash : 0.009476549145434322\n",
      "sign : 0.008419204512631725\n",
      "us : 0.007645136431469387\n",
      "million : 0.007055771959296179\n",
      "industry : 0.006480828465288643\n",
      "change : 0.006352791956915977\n",
      "ceo : 0.006143458778175073\n",
      "chemical : 0.006073928872568855\n",
      "company : 0.005980311017444503\n",
      "help : 0.005744039897151764\n",
      "say : 0.005437862761467473\n",
      "petition : 0.005392179462293446\n",
      "\n",
      "[Topic 1]\n",
      "derail : 0.05138115456884859\n",
      "another : 0.045296581162985954\n",
      "derails : 0.029545194388909336\n",
      "car : 0.02910909830723071\n",
      "hazardous : 0.022347117991603823\n",
      "material : 0.019331966077253456\n",
      "alabama : 0.017970725526531235\n",
      "springfield : 0.017830755032350758\n",
      "ceo : 0.016923586652158373\n",
      "20 : 0.015747972554103006\n",
      "say : 0.01500506410960579\n",
      "company : 0.01344485558526424\n",
      "place : 0.011107918645005205\n",
      "month : 0.009828886490834984\n",
      "congress : 0.009503887188596816\n",
      "second : 0.009407413668581992\n",
      "county : 0.009397726040723305\n",
      "freight : 0.009369429484999\n",
      "cargo : 0.009043473738035615\n",
      "via : 0.008888545870149638\n",
      "\n",
      "[Topic 2]\n",
      "toxic : 0.03056203098692851\n",
      "chemical : 0.01599996585577415\n",
      "resident : 0.015380678666331565\n",
      "ceo : 0.013664989355376111\n",
      "say : 0.013128536134968298\n",
      "visit : 0.013119385938225687\n",
      "town : 0.009691602209395685\n",
      "week : 0.0093634118109344\n",
      "site : 0.009306193643674621\n",
      "month : 0.008550103933992756\n",
      "senate : 0.008533944297540282\n",
      "environmental : 0.008200090418433122\n",
      "epa : 0.008197986724199215\n",
      "disaster : 0.007234012790700236\n",
      "federal : 0.007185923997737526\n",
      "response : 0.007004152162266913\n",
      "state : 0.006724934538361504\n",
      "sue : 0.00663654998121167\n",
      "biden : 0.006464630407851535\n",
      "dewine : 0.006309541710497233\n",
      "\n",
      "[Topic 3]\n",
      "people : 0.017826538569041175\n",
      "water : 0.010098175193359161\n",
      "get : 0.010049303687808408\n",
      "trump : 0.009946120149752772\n",
      "go : 0.009772770285674364\n",
      "need : 0.009317411192260445\n",
      "oh : 0.008458165817489146\n",
      "biden : 0.008360127979523497\n",
      "help : 0.007874023883918904\n",
      "say : 0.00735181304193485\n",
      "disaster : 0.007307294882687198\n",
      "us : 0.0058773349990381115\n",
      "take : 0.005197254186531558\n",
      "like : 0.0051238604058900655\n",
      "know : 0.005004051950614929\n",
      "care : 0.004745374248249172\n",
      "think : 0.004658177518775134\n",
      "republican : 0.004576257727662112\n",
      "government : 0.004534654384946742\n",
      "please : 0.0044551999619370855\n",
      "\n",
      "[Topic 4]\n",
      "disaster : 0.012368698267631978\n",
      "year : 0.009187688161070096\n",
      "make : 0.009001666319433301\n",
      "accident : 0.008781050385400568\n",
      "new : 0.008446381679123134\n",
      "post : 0.008035225916443898\n",
      "happen : 0.007476444385396988\n",
      "derailment : 0.007396076695344543\n",
      "safety : 0.0072479737265171585\n",
      "right : 0.007124378887895119\n",
      "white : 0.006883778486116192\n",
      "like : 0.005952605909315921\n",
      "railroad : 0.005616905284800786\n",
      "see : 0.005349896154464564\n",
      "washington : 0.005347961394466335\n",
      "every : 0.005282344607236937\n",
      "rail : 0.005222135860581856\n",
      "time : 0.00504866786176244\n",
      "include : 0.005027741193923218\n",
      "look : 0.004930673123266757\n",
      "\n",
      "[Topic 5]\n",
      "chemical : 0.03542888233455271\n",
      "water : 0.017306934863369858\n",
      "report : 0.015077496593089611\n",
      "chloride : 0.011973386965715059\n",
      "vinyl : 0.011051551205439245\n",
      "toxic : 0.010871011137752983\n",
      "health : 0.010591672664451011\n",
      "release : 0.010331408133550556\n",
      "burn : 0.009488440815683466\n",
      "public : 0.009255192757254033\n",
      "north : 0.008832541820514971\n",
      "river : 0.008783286437234625\n",
      "air : 0.008683003670873863\n",
      "carolina : 0.008414570499293363\n",
      "resident : 0.007136214837436326\n",
      "say : 0.006766182791172345\n",
      "danger : 0.006626582439218272\n",
      "animal : 0.0065589305507995676\n",
      "risk : 0.006152353429616949\n",
      "concern : 0.006101449305868944\n",
      "\n",
      "[Topic 6]\n",
      "epa : 0.027296828749977436\n",
      "clean : 0.014540066354292105\n",
      "waste : 0.013431201471891885\n",
      "toxic : 0.012303266993996137\n",
      "site : 0.011943865827381816\n",
      "kill : 0.011433601400738467\n",
      "order : 0.011350333529174621\n",
      "hold : 0.009942130225438979\n",
      "gop : 0.009350123484727283\n",
      "truck : 0.009257266024279951\n",
      "dump : 0.008939193549818994\n",
      "say : 0.008841461087676968\n",
      "pay : 0.008781356870436\n",
      "news : 0.007636980924210868\n",
      "biden : 0.007570584002540986\n",
      "cleveland : 0.007412032760433043\n",
      "resident : 0.00738006914546466\n",
      "crash : 0.007247970561497569\n",
      "accountable : 0.007184750576729043\n",
      "sound : 0.0065161804425496106\n",
      "\n",
      "[Topic 7]\n",
      "trump : 0.03031889591442392\n",
      "safety : 0.026112260045645482\n",
      "buttigieg : 0.018305891953167914\n",
      "regulation : 0.01528911177494026\n",
      "pete : 0.014759042362653714\n",
      "biden : 0.013832517708402148\n",
      "rule : 0.013242812808359686\n",
      "would : 0.012400290332253613\n",
      "transportation : 0.011915232488499678\n",
      "brake : 0.011332707768953974\n",
      "ntsb : 0.009328215555915832\n",
      "blame : 0.008928191153563926\n",
      "administration : 0.00828249981723637\n",
      "visit : 0.006909781423880328\n",
      "say : 0.006601818759113528\n",
      "secretary : 0.00648163061744127\n",
      "rail : 0.006277375377993683\n",
      "train : 0.006196145744565951\n",
      "cause : 0.005917888473999778\n",
      "back : 0.005607398731969559\n",
      "\n",
      "\n",
      "\n",
      "--------------------------------------------------------------------------------\n",
      "Number of topics: 9\n",
      "\n",
      "Displaying the top 20 words per topic and their probabilities within the topic...\n",
      "\n",
      "[Topic 0]\n",
      "toxic : 0.02442116167971088\n",
      "rail : 0.01609283864847687\n",
      "worker : 0.012309179750523197\n",
      "via : 0.012087110813110312\n",
      "demand : 0.010653990257738883\n",
      "chemical : 0.010203027837953975\n",
      "pay : 0.00982168180604219\n",
      "resident : 0.009399429549152141\n",
      "tell : 0.009260377581946515\n",
      "000 : 0.009163607377431814\n",
      "crash : 0.008420440621614952\n",
      "sign : 0.008002663921689837\n",
      "million : 0.007287269467478594\n",
      "us : 0.007241278262500913\n",
      "industry : 0.006569080966806988\n",
      "say : 0.00635608675203102\n",
      "change : 0.006163527679606732\n",
      "disaster : 0.005896830769122026\n",
      "fire : 0.005863120479431989\n",
      "get : 0.005585724805242758\n",
      "\n",
      "[Topic 1]\n",
      "derail : 0.048316998426246136\n",
      "another : 0.04068526307219649\n",
      "car : 0.035634665831024426\n",
      "hazardous : 0.029094575088263394\n",
      "material : 0.02423429339081334\n",
      "springfield : 0.02033726806087641\n",
      "derails : 0.020082235945908147\n",
      "say : 0.018878003492676772\n",
      "20 : 0.017981337182360464\n",
      "place : 0.013205513315607011\n",
      "company : 0.012276541497887242\n",
      "carry : 0.012039398302459491\n",
      "freight : 0.01080437966815631\n",
      "cargo : 0.010490016322049859\n",
      "month : 0.010355061991795143\n",
      "second : 0.01015285143271547\n",
      "shelter : 0.009994259538288426\n",
      "one : 0.009420023326261285\n",
      "near : 0.00925674761472866\n",
      "official : 0.008651199011540187\n",
      "\n",
      "[Topic 2]\n",
      "toxic : 0.03751016410853848\n",
      "chemical : 0.022140355918424972\n",
      "resident : 0.021276343508723584\n",
      "visit : 0.014185475894670417\n",
      "say : 0.013897244668738871\n",
      "town : 0.011776850623906062\n",
      "epa : 0.011483865769033257\n",
      "site : 0.011447780774208043\n",
      "environmental : 0.01090351969056483\n",
      "week : 0.010198926910692262\n",
      "health : 0.008188077504051752\n",
      "test : 0.008145712126102858\n",
      "federal : 0.008054257643991114\n",
      "air : 0.007782135286388289\n",
      "state : 0.007600755686705425\n",
      "sue : 0.007488438541841901\n",
      "release : 0.00734115619960314\n",
      "concern : 0.007294084716724386\n",
      "disaster : 0.00724478237065716\n",
      "month : 0.007238463523305889\n",
      "\n",
      "[Topic 3]\n",
      "people : 0.018379926908654212\n",
      "water : 0.011100789922902966\n",
      "go : 0.010256922240443334\n",
      "get : 0.010053938787286856\n",
      "need : 0.009912002470233564\n",
      "trump : 0.009581720141465386\n",
      "biden : 0.008704342612048489\n",
      "oh : 0.008625005593257214\n",
      "help : 0.008001740973276994\n",
      "say : 0.007986216833378246\n",
      "disaster : 0.007698669573184507\n",
      "us : 0.00657760128527527\n",
      "dewine : 0.005790492765293581\n",
      "know : 0.004950385108071338\n",
      "republican : 0.0049253831365063325\n",
      "take : 0.004921610620511008\n",
      "like : 0.004875539722967148\n",
      "care : 0.004834750748978326\n",
      "think : 0.004822718776279325\n",
      "government : 0.004463102798470877\n",
      "\n",
      "[Topic 4]\n",
      "disaster : 0.011041961215299703\n",
      "year : 0.010367938655863194\n",
      "new : 0.008308463544131194\n",
      "happen : 0.008193080967646897\n",
      "post : 0.00807240292559575\n",
      "make : 0.007884214957141027\n",
      "right : 0.00752177102367098\n",
      "derailment : 0.00742727127795962\n",
      "white : 0.006823421215309876\n",
      "accident : 0.0067833362321265646\n",
      "see : 0.006400000311024058\n",
      "like : 0.006139042150976473\n",
      "time : 0.005941446788866935\n",
      "every : 0.005728088445440442\n",
      "railroad : 0.005702586270309726\n",
      "check : 0.005628206314669109\n",
      "look : 0.005481830136136766\n",
      "article : 0.0054572463462039264\n",
      "washington : 0.005205525133920705\n",
      "safety : 0.004869095453893451\n",
      "\n",
      "[Topic 5]\n",
      "chemical : 0.032443491345825075\n",
      "report : 0.017718503741637352\n",
      "chloride : 0.015186385819687166\n",
      "water : 0.014929133515349129\n",
      "vinyl : 0.014013942362409932\n",
      "public : 0.011860803545846189\n",
      "north : 0.011212846330012528\n",
      "burn : 0.011162624642173807\n",
      "river : 0.011116774812690485\n",
      "carolina : 0.010682228439757833\n",
      "health : 0.010566500111455225\n",
      "release : 0.009695590969077813\n",
      "danger : 0.00841236373594791\n",
      "risk : 0.007227349610882498\n",
      "derail : 0.006343999247707534\n",
      "spill : 0.0057083068580096085\n",
      "derails : 0.0055353460205591265\n",
      "contaminate : 0.005499585846718098\n",
      "say : 0.005268367797261703\n",
      "dead : 0.005031855578642832\n",
      "\n",
      "[Topic 6]\n",
      "epa : 0.028614589750967267\n",
      "clean : 0.01461239780395882\n",
      "site : 0.013957181481471244\n",
      "waste : 0.013461358909813098\n",
      "toxic : 0.012452191716890992\n",
      "order : 0.010934372800230067\n",
      "gop : 0.010077503304155085\n",
      "truck : 0.009922735838512197\n",
      "dump : 0.009582076047534267\n",
      "hold : 0.009527479395838916\n",
      "pay : 0.009181262894920567\n",
      "kill : 0.008696315662137345\n",
      "biden : 0.008207389542491542\n",
      "crash : 0.00817934153245442\n",
      "say : 0.008125400152893382\n",
      "cleveland : 0.00794549532149039\n",
      "news : 0.007703477882903329\n",
      "accountable : 0.007269829362378015\n",
      "sound : 0.006950119971491376\n",
      "via : 0.006940964143849914\n",
      "\n",
      "[Topic 7]\n",
      "trump : 0.032043900937458146\n",
      "safety : 0.0277187712692372\n",
      "buttigieg : 0.019679780984933413\n",
      "regulation : 0.01656140174884174\n",
      "pete : 0.0157736757499274\n",
      "rule : 0.014163534004548775\n",
      "biden : 0.013640701221876085\n",
      "would : 0.01331002379189234\n",
      "transportation : 0.012768647368555734\n",
      "brake : 0.0121432414516666\n",
      "ntsb : 0.009447688441838294\n",
      "blame : 0.008937344116950175\n",
      "administration : 0.008722559766313571\n",
      "visit : 0.007008399196482691\n",
      "secretary : 0.006945174705019684\n",
      "rail : 0.006513677914692406\n",
      "train : 0.006387319184068555\n",
      "say : 0.006347230844680225\n",
      "cause : 0.006006155776466764\n",
      "back : 0.005828286792086151\n",
      "\n",
      "[Topic 8]\n",
      "ceo : 0.058373718474390525\n",
      "alabama : 0.02847158811198495\n",
      "senate : 0.022297113338400423\n",
      "congress : 0.022021998427283543\n",
      "derails : 0.018366928632633065\n",
      "derail : 0.018111529522838295\n",
      "another : 0.014853811065511098\n",
      "hour : 0.014572524209123949\n",
      "shaw : 0.013981510537685546\n",
      "alan : 0.012806939743196563\n",
      "safety : 0.011530956218235192\n",
      "via : 0.011348837424547535\n",
      "testifies : 0.011130754511042493\n",
      "testify : 0.011032155078296055\n",
      "hearing : 0.00984896419884945\n",
      "news : 0.009830823688098596\n",
      "company : 0.009699170118161621\n",
      "county : 0.007611317021813752\n",
      "month : 0.007476974188457714\n",
      "hear : 0.007361243936039862\n",
      "\n",
      "\n",
      "\n"
     ]
    }
   ],
   "source": [
    "k_values = range(2, 10)\n",
    "avg_coherences = []\n",
    "avg_num_unique_words = []\n",
    "\n",
    "for k in k_values:\n",
    "    lda_candidate = LatentDirichletAllocation(n_components=k, random_state=0)\n",
    "    lda_candidate.fit(tf)\n",
    "    topic_word_distributions = np.array([row / row.sum() for row in lda_candidate.components_])\n",
    "    print('-' * 80)\n",
    "    print('Number of topics:', k)\n",
    "    print()\n",
    "    print_top_words(topic_word_distributions, num_top_words, tf_vectorizer)\n",
    "    print()\n",
    "    print()\n",
    "    \n",
    "    avg_coherences.append(compute_average_coherence(topic_word_distributions, num_top_words, tf_vectorizer, False))\n",
    "    avg_num_unique_words.append(compute_average_num_unique_words(topic_word_distributions, num_top_words, tf_vectorizer, False))"
   ]
  },
  {
   "cell_type": "code",
   "execution_count": 39,
   "metadata": {},
   "outputs": [
    {
     "data": {
      "text/plain": [
       "Text(0, 0.5, 'Average coherence')"
      ]
     },
     "execution_count": 39,
     "metadata": {},
     "output_type": "execute_result"
    },
    {
     "data": {
      "image/png": "[encoded data removed]",
      "text/plain": [
       "<Figure size 640x480 with 1 Axes>"
      ]
     },
     "metadata": {},
     "output_type": "display_data"
    }
   ],
   "source": [
    "plt.plot(k_values, avg_coherences)\n",
    "plt.xlabel('Number of topics')\n",
    "plt.ylabel('Average coherence')\n",
    "\n",
    "# For differnt number of topics, I fitted a different LDA\n",
    "\n"
   ]
  },
  {
   "cell_type": "code",
   "execution_count": 41,
   "metadata": {},
   "outputs": [
    {
     "data": {
      "text/plain": [
       "Text(0, 0.5, 'Average number of unique words')"
      ]
     },
     "execution_count": 41,
     "metadata": {},
     "output_type": "execute_result"
    },
    {
     "data": {
      "image/png": "[encoded data removed]",
      "text/plain": [
       "<Figure size 640x480 with 1 Axes>"
      ]
     },
     "metadata": {},
     "output_type": "display_data"
    }
   ],
   "source": [
    "plt.plot(k_values, avg_num_unique_words)\n",
    "plt.xlabel('Number of topics')\n",
    "plt.ylabel('Average number of unique words')\n",
    "\n",
    "# For different topic models, the average number of unique words\n",
    "# We want coherence to be high and unique words to be high\n",
    "\n",
    "# Number of topic = 2, gets me high coherence and hogh unique words. BUT, for model 2, there are 2 topics: garbage and not garbage!\n",
    "# that doesnt help a lot\n",
    "\n",
    "# So, you want to tolerate a lower value for one of the metrics, but look at the actual topics to interpret what is going on\n",
    "# If we see resutlts of 4, starts to make more ssense but feels like still low\n",
    "# go to 5, starts to make a bit more sense\n",
    "\n"
   ]
  },
  {
   "attachments": {},
   "cell_type": "markdown",
   "metadata": {},
   "source": [
    "# References\n",
    "Evaluate Topic Models: Latent Dirichlet Allocation (LDA), available at https://towardsdatascience.com/evaluate-topic-model-in-python-latent-dirichlet-allocation-lda-7d57484bb5d0"
   ]
  },
  {
   "cell_type": "code",
   "execution_count": 25,
   "metadata": {},
   "outputs": [
    {
     "name": "stderr",
     "output_type": "stream",
     "text": [
      "/Users/ribarragi/miniconda3/envs/Intro_AI/lib/python3.9/site-packages/tqdm/auto.py:21: TqdmWarning: IProgress not found. Please update jupyter and ipywidgets. See https://ipywidgets.readthedocs.io/en/stable/user_install.html\n",
      "  from .autonotebook import tqdm as notebook_tqdm\n"
     ]
    }
   ],
   "source": [
    "import re\n",
    "import numpy as np\n",
    "import pandas as pd\n",
    "from pprint import pprint\n",
    "\n",
    "# Gensim\n",
    "import gensim\n",
    "import gensim.corpora as corpora\n",
    "from gensim.utils import simple_preprocess\n",
    "from gensim.models import CoherenceModel\n",
    "\n",
    "# spacy for lemmatization\n",
    "import spacy\n",
    "\n",
    "# Plotting tools\n",
    "import pyLDAvis\n",
    "import pyLDAvis.gensim_models \n",
    "import matplotlib.pyplot as plt\n",
    "%matplotlib inline\n",
    "\n",
    "import warnings\n",
    "warnings.filterwarnings(\"ignore\",category=DeprecationWarning)"
   ]
  },
  {
   "cell_type": "code",
   "execution_count": 65,
   "metadata": {},
   "outputs": [
    {
     "name": "stdout",
     "output_type": "stream",
     "text": [
      "[['tristansnell', 'get', 'rid', 'safety', 'rule', 'get', 'get', 'rid', 'bank', 'safety', 'rule', 'get', 'svb', 'signature']]\n"
     ]
    }
   ],
   "source": [
    "def sent_to_words(sentences):\n",
    "    for sentence in sentences:\n",
    "        yield(gensim.utils.simple_preprocess(str(sentence), deacc=True))  # deacc=True removes punctuations\n",
    "\n",
    "data_words = list(sent_to_words(sample_data))\n",
    "\n",
    "print(data_words[:1])"
   ]
  },
  {
   "cell_type": "code",
   "execution_count": 66,
   "metadata": {},
   "outputs": [
    {
     "name": "stdout",
     "output_type": "stream",
     "text": [
      "[[(0, 1), (1, 4), (2, 2), (3, 2), (4, 2), (5, 1), (6, 1), (7, 1)]]\n"
     ]
    }
   ],
   "source": [
    "data_lemmatized = data_words\n",
    "# Create Dictionary\n",
    "id2word = corpora.Dictionary(data_lemmatized)\n",
    "\n",
    "# Create Corpus\n",
    "texts = data_lemmatized\n",
    "\n",
    "# Term Document Frequency\n",
    "corpus = [id2word.doc2bow(text) for text in texts]\n",
    "\n",
    "# View\n",
    "print(corpus[:1])"
   ]
  },
  {
   "cell_type": "code",
   "execution_count": 67,
   "metadata": {},
   "outputs": [],
   "source": [
    "# Build LDA model\n",
    "lda_model = gensim.models.ldamodel.LdaModel(corpus=corpus,\n",
    "                                           id2word=id2word,\n",
    "                                           num_topics=4, \n",
    "                                           random_state=100,\n",
    "                                           update_every=1,\n",
    "                                           chunksize=100,\n",
    "                                           passes=10,\n",
    "                                           alpha='auto',\n",
    "                                           per_word_topics=True)"
   ]
  },
  {
   "cell_type": "code",
   "execution_count": 68,
   "metadata": {},
   "outputs": [
    {
     "name": "stdout",
     "output_type": "stream",
     "text": [
      "[(0,\n",
      "  '0.060*\"north\" + 0.039*\"danger\" + 0.022*\"accident\" + 0.019*\"de\" + '\n",
      "  '0.016*\"fire\" + 0.015*\"show\" + 0.013*\"last\" + 0.013*\"fox\" + 0.012*\"many\" + '\n",
      "  '0.012*\"mile\"'),\n",
      " (1,\n",
      "  '0.021*\"another\" + 0.020*\"derails\" + 0.018*\"say\" + 0.016*\"toxic\" + '\n",
      "  '0.016*\"report\" + 0.012*\"company\" + 0.012*\"chemical\" + 0.011*\"epa\" + '\n",
      "  '0.011*\"public\" + 0.010*\"resident\"'),\n",
      " (2,\n",
      "  '0.062*\"derail\" + 0.037*\"carolina\" + 0.034*\"car\" + 0.029*\"via\" + '\n",
      "  '0.020*\"cargo\" + 0.019*\"springfield\" + 0.017*\"time\" + 0.016*\"place\" + '\n",
      "  '0.016*\"sign\" + 0.016*\"news\"'),\n",
      " (3,\n",
      "  '0.027*\"trump\" + 0.024*\"safety\" + 0.019*\"would\" + 0.016*\"biden\" + '\n",
      "  '0.015*\"rule\" + 0.015*\"regulation\" + 0.014*\"rail\" + 0.012*\"brake\" + '\n",
      "  '0.012*\"go\" + 0.010*\"apply\"')]\n"
     ]
    }
   ],
   "source": [
    "# Print the Keyword in the 10 topics\n",
    "pprint(lda_model.print_topics())\n",
    "doc_lda = lda_model[corpus]"
   ]
  },
  {
   "cell_type": "code",
   "execution_count": 69,
   "metadata": {},
   "outputs": [
    {
     "name": "stdout",
     "output_type": "stream",
     "text": [
      "\n",
      "Perplexity:  -8.359154475447044\n",
      "\n",
      "Coherence Score:  0.36541159788559885\n"
     ]
    }
   ],
   "source": [
    "# Compute Perplexity\n",
    "print('\\nPerplexity: ', lda_model.log_perplexity(corpus))  # a measure of how good the model is. lower the better.\n",
    "\n",
    "# Compute Coherence Score\n",
    "coherence_model_lda = CoherenceModel(model=lda_model, texts=data_lemmatized, dictionary=id2word, coherence='c_v')\n",
    "coherence_lda = coherence_model_lda.get_coherence()\n",
    "print('\\nCoherence Score: ', coherence_lda)"
   ]
  },
  {
   "cell_type": "code",
   "execution_count": 74,
   "metadata": {},
   "outputs": [
    {
     "data": {
      "text/plain": [
       "<gensim.models.ldamodel.LdaModel at 0x28a9f2700>"
      ]
     },
     "execution_count": 74,
     "metadata": {},
     "output_type": "execute_result"
    }
   ],
   "source": [
    "lda_model"
   ]
  },
  {
   "cell_type": "code",
   "execution_count": 71,
   "metadata": {},
   "outputs": [
    {
     "name": "stderr",
     "output_type": "stream",
     "text": [
      "/Users/ribarragi/miniconda3/envs/Intro_AI/lib/python3.9/site-packages/pyLDAvis/_prepare.py:246: FutureWarning: In a future version of pandas all arguments of DataFrame.drop except for the argument 'labels' will be keyword-only.\n",
      "  default_term_info = default_term_info.sort_values(\n",
      "/Users/ribarragi/miniconda3/envs/Intro_AI/lib/python3.9/site-packages/joblib/backports.py:36: DeprecationWarning: distutils Version classes are deprecated. Use packaging.version instead.\n",
      "  if LooseVersion(np.__version__) < '1.13':\n",
      "/Users/ribarragi/miniconda3/envs/Intro_AI/lib/python3.9/site-packages/joblib/backports.py:36: DeprecationWarning: distutils Version classes are deprecated. Use packaging.version instead.\n",
      "  if LooseVersion(np.__version__) < '1.13':\n",
      "/Users/ribarragi/miniconda3/envs/Intro_AI/lib/python3.9/site-packages/joblib/backports.py:36: DeprecationWarning: distutils Version classes are deprecated. Use packaging.version instead.\n",
      "  if LooseVersion(np.__version__) < '1.13':\n",
      "/Users/ribarragi/miniconda3/envs/Intro_AI/lib/python3.9/site-packages/joblib/backports.py:36: DeprecationWarning: distutils Version classes are deprecated. Use packaging.version instead.\n",
      "  if LooseVersion(np.__version__) < '1.13':\n",
      "/Users/ribarragi/miniconda3/envs/Intro_AI/lib/python3.9/site-packages/joblib/backports.py:36: DeprecationWarning: distutils Version classes are deprecated. Use packaging.version instead.\n",
      "  if LooseVersion(np.__version__) < '1.13':\n",
      "/Users/ribarragi/miniconda3/envs/Intro_AI/lib/python3.9/site-packages/joblib/backports.py:36: DeprecationWarning: distutils Version classes are deprecated. Use packaging.version instead.\n",
      "  if LooseVersion(np.__version__) < '1.13':\n",
      "/Users/ribarragi/miniconda3/envs/Intro_AI/lib/python3.9/site-packages/setuptools/_distutils/version.py:346: DeprecationWarning: distutils Version classes are deprecated. Use packaging.version instead.\n",
      "  other = LooseVersion(other)\n",
      "/Users/ribarragi/miniconda3/envs/Intro_AI/lib/python3.9/site-packages/setuptools/_distutils/version.py:346: DeprecationWarning: distutils Version classes are deprecated. Use packaging.version instead.\n",
      "  other = LooseVersion(other)\n",
      "/Users/ribarragi/miniconda3/envs/Intro_AI/lib/python3.9/site-packages/setuptools/_distutils/version.py:346: DeprecationWarning: distutils Version classes are deprecated. Use packaging.version instead.\n",
      "  other = LooseVersion(other)\n",
      "/Users/ribarragi/miniconda3/envs/Intro_AI/lib/python3.9/site-packages/setuptools/_distutils/version.py:346: DeprecationWarning: distutils Version classes are deprecated. Use packaging.version instead.\n",
      "  other = LooseVersion(other)\n",
      "/Users/ribarragi/miniconda3/envs/Intro_AI/lib/python3.9/site-packages/joblib/backports.py:36: DeprecationWarning: distutils Version classes are deprecated. Use packaging.version instead.\n",
      "  if LooseVersion(np.__version__) < '1.13':\n",
      "/Users/ribarragi/miniconda3/envs/Intro_AI/lib/python3.9/site-packages/setuptools/_distutils/version.py:346: DeprecationWarning: distutils Version classes are deprecated. Use packaging.version instead.\n",
      "  other = LooseVersion(other)\n",
      "/Users/ribarragi/miniconda3/envs/Intro_AI/lib/python3.9/site-packages/joblib/backports.py:36: DeprecationWarning: distutils Version classes are deprecated. Use packaging.version instead.\n",
      "  if LooseVersion(np.__version__) < '1.13':\n",
      "/Users/ribarragi/miniconda3/envs/Intro_AI/lib/python3.9/site-packages/setuptools/_distutils/version.py:346: DeprecationWarning: distutils Version classes are deprecated. Use packaging.version instead.\n",
      "  other = LooseVersion(other)\n",
      "/Users/ribarragi/miniconda3/envs/Intro_AI/lib/python3.9/site-packages/joblib/backports.py:36: DeprecationWarning: distutils Version classes are deprecated. Use packaging.version instead.\n",
      "  if LooseVersion(np.__version__) < '1.13':\n",
      "/Users/ribarragi/miniconda3/envs/Intro_AI/lib/python3.9/site-packages/setuptools/_distutils/version.py:346: DeprecationWarning: distutils Version classes are deprecated. Use packaging.version instead.\n",
      "  other = LooseVersion(other)\n",
      "/Users/ribarragi/miniconda3/envs/Intro_AI/lib/python3.9/site-packages/setuptools/_distutils/version.py:346: DeprecationWarning: distutils Version classes are deprecated. Use packaging.version instead.\n",
      "  other = LooseVersion(other)\n",
      "/Users/ribarragi/miniconda3/envs/Intro_AI/lib/python3.9/site-packages/joblib/backports.py:36: DeprecationWarning: distutils Version classes are deprecated. Use packaging.version instead.\n",
      "  if LooseVersion(np.__version__) < '1.13':\n",
      "/Users/ribarragi/miniconda3/envs/Intro_AI/lib/python3.9/site-packages/setuptools/_distutils/version.py:346: DeprecationWarning: distutils Version classes are deprecated. Use packaging.version instead.\n",
      "  other = LooseVersion(other)\n",
      "/Users/ribarragi/miniconda3/envs/Intro_AI/lib/python3.9/site-packages/joblib/backports.py:36: DeprecationWarning: distutils Version classes are deprecated. Use packaging.version instead.\n",
      "  if LooseVersion(np.__version__) < '1.13':\n",
      "/Users/ribarragi/miniconda3/envs/Intro_AI/lib/python3.9/site-packages/setuptools/_distutils/version.py:346: DeprecationWarning: distutils Version classes are deprecated. Use packaging.version instead.\n",
      "  other = LooseVersion(other)\n",
      "/Users/ribarragi/miniconda3/envs/Intro_AI/lib/python3.9/site-packages/joblib/backports.py:36: DeprecationWarning: distutils Version classes are deprecated. Use packaging.version instead.\n",
      "  if LooseVersion(np.__version__) < '1.13':\n",
      "/Users/ribarragi/miniconda3/envs/Intro_AI/lib/python3.9/site-packages/setuptools/_distutils/version.py:346: DeprecationWarning: distutils Version classes are deprecated. Use packaging.version instead.\n",
      "  other = LooseVersion(other)\n",
      "/Users/ribarragi/miniconda3/envs/Intro_AI/lib/python3.9/site-packages/setuptools/_distutils/version.py:346: DeprecationWarning: distutils Version classes are deprecated. Use packaging.version instead.\n",
      "  other = LooseVersion(other)\n",
      "/Users/ribarragi/miniconda3/envs/Intro_AI/lib/python3.9/site-packages/joblib/backports.py:36: DeprecationWarning: distutils Version classes are deprecated. Use packaging.version instead.\n",
      "  if LooseVersion(np.__version__) < '1.13':\n",
      "/Users/ribarragi/miniconda3/envs/Intro_AI/lib/python3.9/site-packages/setuptools/_distutils/version.py:346: DeprecationWarning: distutils Version classes are deprecated. Use packaging.version instead.\n",
      "  other = LooseVersion(other)\n",
      "/Users/ribarragi/miniconda3/envs/Intro_AI/lib/python3.9/site-packages/joblib/backports.py:36: DeprecationWarning: distutils Version classes are deprecated. Use packaging.version instead.\n",
      "  if LooseVersion(np.__version__) < '1.13':\n",
      "/Users/ribarragi/miniconda3/envs/Intro_AI/lib/python3.9/site-packages/setuptools/_distutils/version.py:346: DeprecationWarning: distutils Version classes are deprecated. Use packaging.version instead.\n",
      "  other = LooseVersion(other)\n",
      "/Users/ribarragi/miniconda3/envs/Intro_AI/lib/python3.9/site-packages/joblib/backports.py:36: DeprecationWarning: distutils Version classes are deprecated. Use packaging.version instead.\n",
      "  if LooseVersion(np.__version__) < '1.13':\n",
      "/Users/ribarragi/miniconda3/envs/Intro_AI/lib/python3.9/site-packages/setuptools/_distutils/version.py:346: DeprecationWarning: distutils Version classes are deprecated. Use packaging.version instead.\n",
      "  other = LooseVersion(other)\n",
      "/Users/ribarragi/miniconda3/envs/Intro_AI/lib/python3.9/site-packages/joblib/backports.py:36: DeprecationWarning: distutils Version classes are deprecated. Use packaging.version instead.\n",
      "  if LooseVersion(np.__version__) < '1.13':\n",
      "/Users/ribarragi/miniconda3/envs/Intro_AI/lib/python3.9/site-packages/setuptools/_distutils/version.py:346: DeprecationWarning: distutils Version classes are deprecated. Use packaging.version instead.\n",
      "  other = LooseVersion(other)\n",
      "/Users/ribarragi/miniconda3/envs/Intro_AI/lib/python3.9/site-packages/joblib/backports.py:36: DeprecationWarning: distutils Version classes are deprecated. Use packaging.version instead.\n",
      "  if LooseVersion(np.__version__) < '1.13':\n",
      "/Users/ribarragi/miniconda3/envs/Intro_AI/lib/python3.9/site-packages/joblib/backports.py:36: DeprecationWarning: distutils Version classes are deprecated. Use packaging.version instead.\n",
      "  if LooseVersion(np.__version__) < '1.13':\n",
      "/Users/ribarragi/miniconda3/envs/Intro_AI/lib/python3.9/site-packages/setuptools/_distutils/version.py:346: DeprecationWarning: distutils Version classes are deprecated. Use packaging.version instead.\n",
      "  other = LooseVersion(other)\n",
      "/Users/ribarragi/miniconda3/envs/Intro_AI/lib/python3.9/site-packages/setuptools/_distutils/version.py:346: DeprecationWarning: distutils Version classes are deprecated. Use packaging.version instead.\n",
      "  other = LooseVersion(other)\n",
      "/Users/ribarragi/miniconda3/envs/Intro_AI/lib/python3.9/site-packages/joblib/backports.py:36: DeprecationWarning: distutils Version classes are deprecated. Use packaging.version instead.\n",
      "  if LooseVersion(np.__version__) < '1.13':\n",
      "/Users/ribarragi/miniconda3/envs/Intro_AI/lib/python3.9/site-packages/setuptools/_distutils/version.py:346: DeprecationWarning: distutils Version classes are deprecated. Use packaging.version instead.\n",
      "  other = LooseVersion(other)\n",
      "/Users/ribarragi/miniconda3/envs/Intro_AI/lib/python3.9/site-packages/joblib/backports.py:36: DeprecationWarning: distutils Version classes are deprecated. Use packaging.version instead.\n",
      "  if LooseVersion(np.__version__) < '1.13':\n",
      "/Users/ribarragi/miniconda3/envs/Intro_AI/lib/python3.9/site-packages/setuptools/_distutils/version.py:346: DeprecationWarning: distutils Version classes are deprecated. Use packaging.version instead.\n",
      "  other = LooseVersion(other)\n",
      "/Users/ribarragi/miniconda3/envs/Intro_AI/lib/python3.9/site-packages/joblib/backports.py:36: DeprecationWarning: distutils Version classes are deprecated. Use packaging.version instead.\n",
      "  if LooseVersion(np.__version__) < '1.13':\n",
      "/Users/ribarragi/miniconda3/envs/Intro_AI/lib/python3.9/site-packages/setuptools/_distutils/version.py:346: DeprecationWarning: distutils Version classes are deprecated. Use packaging.version instead.\n",
      "  other = LooseVersion(other)\n",
      "/Users/ribarragi/miniconda3/envs/Intro_AI/lib/python3.9/site-packages/joblib/backports.py:36: DeprecationWarning: distutils Version classes are deprecated. Use packaging.version instead.\n",
      "  if LooseVersion(np.__version__) < '1.13':\n",
      "/Users/ribarragi/miniconda3/envs/Intro_AI/lib/python3.9/site-packages/setuptools/_distutils/version.py:346: DeprecationWarning: distutils Version classes are deprecated. Use packaging.version instead.\n",
      "  other = LooseVersion(other)\n"
     ]
    },
    {
     "data": {
      "text/html": [
       "\n",
       "<link rel=\"stylesheet\" type=\"text/css\" href=\"https://cdn.jsdelivr.net/gh/bmabey/pyLDAvis@3.3.1/pyLDAvis/js/ldavis.v1.0.0.css\">\n",
       "\n",
       "\n",
       "<div id=\"ldavis_el3399109435227364083215705\"></div>\n",
       "<script type=\"text/javascript\">\n",
       "\n",
       "var ldavis_el3399109435227364083215705_data = {\"mdsDat\": {\"x\": [-0.3418310744361773, -0.051284499251738426, 0.2185799709483604, 0.17453560273955523], \"y\": [-0.1726843206366587, 0.36603707641292593, -0.14780320808499742, -0.045549547691269905], \"topics\": [1, 2, 3, 4], \"cluster\": [1, 1, 1, 1], \"Freq\": [46.884871417229, 27.326681964912204, 16.444025776185995, 9.344420841672804]}, \"tinfo\": {\"Term\": [\"derail\", \"north\", \"carolina\", \"car\", \"trump\", \"danger\", \"via\", \"safety\", \"another\", \"derails\", \"would\", \"say\", \"cargo\", \"toxic\", \"springfield\", \"report\", \"biden\", \"rule\", \"regulation\", \"time\", \"place\", \"accident\", \"rail\", \"sign\", \"news\", \"company\", \"track\", \"chemical\", \"brake\", \"go\", \"another\", \"derails\", \"say\", \"toxic\", \"report\", \"company\", \"chemical\", \"epa\", \"public\", \"resident\", \"one\", \"pay\", \"hazardous\", \"get\", \"railroad\", \"people\", \"cause\", \"even\", \"freight\", \"month\", \"happen\", \"train\", \"tell\", \"take\", \"material\", \"state\", \"order\", \"still\", \"year\", \"demand\", \"disaster\", \"make\", \"trump\", \"safety\", \"would\", \"biden\", \"rule\", \"regulation\", \"rail\", \"brake\", \"go\", \"apply\", \"know\", \"like\", \"crash\", \"gop\", \"ntsb\", \"high\", \"stop\", \"blame\", \"transportation\", \"effect\", \"hazard\", \"administration\", \"back\", \"pete\", \"site\", \"change\", \"president\", \"look\", \"waste\", \"obama\", \"amp\", \"derail\", \"car\", \"carolina\", \"via\", \"cargo\", \"place\", \"time\", \"news\", \"sign\", \"track\", \"feb\", \"derailed\", \"petition\", \"shelter\", \"crew\", \"railway\", \"responsible\", \"hazmat\", \"wheel\", \"county\", \"break\", \"burn\", \"second\", \"saturday\", \"involve\", \"follow\", \"put\", \"firm\", \"release\", \"profit\", \"springfield\", \"north\", \"danger\", \"accident\", \"de\", \"fire\", \"show\", \"last\", \"fox\", \"mile\", \"many\", \"kill\", \"lawsuit\", \"please\", \"law\", \"pennsylvania\", \"dump\", \"detector\", \"due\", \"accord\", \"three\", \"power\", \"least\", \"usa\", \"truck\", \"die\", \"border\", \"la\", \"care\", \"damage\", \"le\", \"axle\"], \"Freq\": [10784.0, 5922.0, 6340.0, 5851.0, 7672.0, 3852.0, 5031.0, 6919.0, 10350.0, 9707.0, 5409.0, 9038.0, 3384.0, 8048.0, 3300.0, 7733.0, 4465.0, 4294.0, 4234.0, 2936.0, 2849.0, 2147.0, 3880.0, 2762.0, 2746.0, 6131.0, 2508.0, 5943.0, 3456.0, 3409.0, 10349.570429492647, 9707.129565431535, 9037.71796584426, 8048.140181376106, 7732.847307873227, 6130.706491712112, 5942.695717595282, 5473.848556921509, 5281.673116441524, 4899.480757181567, 4889.539532426672, 4622.064592548609, 4416.101784033673, 4305.789529711681, 4004.228030272373, 4017.6252763755765, 3945.6014243032455, 4222.987297115621, 3542.198824064619, 3325.640533366897, 3230.192383611482, 3272.128196439496, 3160.3236109868244, 3186.5905206514153, 2892.5758152400267, 2966.1778252680233, 2801.882792865641, 3201.752265303566, 2743.8475658483453, 2759.782210892336, 3188.6625270759755, 2869.634580301843, 7671.966081366582, 6918.398059869611, 5408.481011142092, 4464.706482357561, 4293.204084428563, 4234.105037517232, 3879.7044313234987, 3455.932230971894, 3409.089030317178, 2871.013909717998, 2782.8384259843065, 2606.9462335104854, 2507.6028556477713, 2276.6057675331103, 2413.421833368603, 2222.96226418955, 2229.130982178801, 2088.0944539098127, 2102.7716423554866, 1981.567167911741, 1877.8341292578468, 1770.1561606738794, 1714.3695227175315, 1668.3851542009115, 1744.3866489071609, 2383.2801825378638, 1495.3530158633473, 1480.218791221462, 1470.2109424333064, 1395.5213034520912, 2356.3924903203615, 10783.736696646602, 5850.383369377977, 6339.389520533669, 5030.255096849382, 3383.522551011036, 2848.8872356141296, 2936.1665984662145, 2745.944096177123, 2761.4990540564004, 2507.8513438184486, 2323.6140313142005, 2437.502465235773, 2052.0225028541327, 1913.5346024803232, 1907.713606600446, 1864.231197179454, 2232.122128953238, 1600.2136759964005, 1690.6982004580716, 1496.0260433444018, 1428.7015521014328, 1468.885917674441, 1262.002321802176, 1244.1169372932982, 1140.5747315647907, 1135.607463503528, 1233.5395498379478, 1093.9032579758762, 1116.761544650599, 1172.4137004562779, 3266.2372349496673, 5921.878872917158, 3851.8915243140063, 2146.813126046848, 1834.3135202393769, 1530.7657222451523, 1437.1247868973437, 1272.8681100632245, 1265.4710066326631, 1180.4614431453742, 1204.971912075221, 985.0641180238304, 833.4575720314323, 861.8653215110729, 708.2854828060789, 677.8891185978326, 643.9130740761237, 717.8688321030895, 692.872906821224, 677.3928224912042, 653.3410535570606, 635.6812638032465, 617.7882592445574, 568.2001323683397, 539.4363175315797, 552.4890286267837, 564.1370538841134, 517.8928769616161, 598.8818062358937, 511.5589842300397, 493.0861671431293, 518.4215093826292], \"Total\": [10784.0, 5922.0, 6340.0, 5851.0, 7672.0, 3852.0, 5031.0, 6919.0, 10350.0, 9707.0, 5409.0, 9038.0, 3384.0, 8048.0, 3300.0, 7733.0, 4465.0, 4294.0, 4234.0, 2936.0, 2849.0, 2147.0, 3880.0, 2762.0, 2746.0, 6131.0, 2508.0, 5943.0, 3456.0, 3409.0, 10350.306090324686, 9707.87502196818, 9038.463752697271, 8048.88598679111, 7733.635441181723, 6131.447035542608, 5943.454395457505, 5474.587841633656, 5282.462685901485, 4900.2191652798365, 4890.28935372873, 4622.819458359847, 4416.841870057351, 4306.54643911667, 4004.972523720662, 4018.3862908409346, 3946.3792140758114, 4223.834030782236, 3542.964973411958, 3326.3743616088605, 3230.9486814389343, 3272.89700408126, 3161.0662699733443, 3187.3523974452514, 2893.3084044348675, 2966.9294047633166, 2802.6249014200407, 3202.6384654093404, 2744.615464065928, 2760.5588336008504, 3581.819442816645, 3453.2057230657624, 7672.778444903452, 6919.212402054877, 5409.29987061958, 4465.519228538232, 4294.013558735718, 4234.91599164454, 3880.5347891911215, 3456.7480655201775, 3409.914355218194, 2871.825497708321, 2783.668020378008, 2607.763107154452, 2508.4401127991546, 2277.4205060334757, 2414.287600278541, 2223.776544114574, 2229.959424374787, 2088.901493036182, 2103.6078648580933, 1982.3883510434375, 1878.6437558054029, 1770.963195955223, 1715.1856418989569, 1669.191001394358, 1745.2516395362359, 2384.5281332967575, 1496.164397620992, 1481.0383429307528, 1471.0504568559397, 1396.3229754726783, 5147.001241025849, 10784.502644566977, 5851.142945295333, 6340.2692623372, 5031.014079026526, 3384.2958340543855, 2849.642363378178, 2936.956020826835, 2746.7165247546905, 2762.2789569614897, 2508.6282534388106, 2324.428936477041, 2438.4185895117803, 2052.8172440690487, 1914.2769876278765, 1908.4921853368633, 1865.0211365154396, 2233.098547487522, 1600.9795840411398, 1691.5434169869932, 1496.7972234347092, 1429.4689576182236, 1469.7117369336963, 1262.7457263544027, 1244.8608394094501, 1141.3400144395857, 1136.382059919579, 1234.3894976613415, 1094.6736581226994, 1117.5721767831099, 1173.284981767697, 3300.82872341992, 5922.736456636681, 3852.710759124589, 2147.6291836670766, 1835.0734164950852, 1531.613122732387, 1437.9702107009546, 1273.6742158734473, 1266.3050453664214, 1181.2917657127232, 1205.8291939559676, 985.8449986665173, 834.254965799013, 862.7626460507646, 709.1098574375322, 678.6806150663664, 644.6874797762973, 718.7378708528338, 693.7222367279555, 678.2459062298508, 654.1723796138624, 636.4945851821949, 618.6132314565366, 569.0035454689946, 540.204426456599, 553.2776041701451, 564.943701606487, 518.6528719670591, 599.7670135096323, 512.3667061255305, 493.8661058074733, 519.3132329956043], \"Category\": [\"Default\", \"Default\", \"Default\", \"Default\", \"Default\", \"Default\", \"Default\", \"Default\", \"Default\", \"Default\", \"Default\", \"Default\", \"Default\", \"Default\", \"Default\", \"Default\", \"Default\", \"Default\", \"Default\", \"Default\", \"Default\", \"Default\", \"Default\", \"Default\", \"Default\", \"Default\", \"Default\", \"Default\", \"Default\", \"Default\", \"Topic1\", \"Topic1\", \"Topic1\", \"Topic1\", \"Topic1\", \"Topic1\", \"Topic1\", \"Topic1\", \"Topic1\", \"Topic1\", \"Topic1\", \"Topic1\", \"Topic1\", \"Topic1\", \"Topic1\", \"Topic1\", \"Topic1\", \"Topic1\", \"Topic1\", \"Topic1\", \"Topic1\", \"Topic1\", \"Topic1\", \"Topic1\", \"Topic1\", \"Topic1\", \"Topic1\", \"Topic1\", \"Topic1\", \"Topic1\", \"Topic1\", \"Topic1\", \"Topic2\", \"Topic2\", \"Topic2\", \"Topic2\", \"Topic2\", \"Topic2\", \"Topic2\", \"Topic2\", \"Topic2\", \"Topic2\", \"Topic2\", \"Topic2\", \"Topic2\", \"Topic2\", \"Topic2\", \"Topic2\", \"Topic2\", \"Topic2\", \"Topic2\", \"Topic2\", \"Topic2\", \"Topic2\", \"Topic2\", \"Topic2\", \"Topic2\", \"Topic2\", \"Topic2\", \"Topic2\", \"Topic2\", \"Topic2\", \"Topic2\", \"Topic3\", \"Topic3\", \"Topic3\", \"Topic3\", \"Topic3\", \"Topic3\", \"Topic3\", \"Topic3\", \"Topic3\", \"Topic3\", \"Topic3\", \"Topic3\", \"Topic3\", \"Topic3\", \"Topic3\", \"Topic3\", \"Topic3\", \"Topic3\", \"Topic3\", \"Topic3\", \"Topic3\", \"Topic3\", \"Topic3\", \"Topic3\", \"Topic3\", \"Topic3\", \"Topic3\", \"Topic3\", \"Topic3\", \"Topic3\", \"Topic3\", \"Topic4\", \"Topic4\", \"Topic4\", \"Topic4\", \"Topic4\", \"Topic4\", \"Topic4\", \"Topic4\", \"Topic4\", \"Topic4\", \"Topic4\", \"Topic4\", \"Topic4\", \"Topic4\", \"Topic4\", \"Topic4\", \"Topic4\", \"Topic4\", \"Topic4\", \"Topic4\", \"Topic4\", \"Topic4\", \"Topic4\", \"Topic4\", \"Topic4\", \"Topic4\", \"Topic4\", \"Topic4\", \"Topic4\", \"Topic4\", \"Topic4\"], \"logprob\": [30.0, 29.0, 28.0, 27.0, 26.0, 25.0, 24.0, 23.0, 22.0, 21.0, 20.0, 19.0, 18.0, 17.0, 16.0, 15.0, 14.0, 13.0, 12.0, 11.0, 10.0, 9.0, 8.0, 7.0, 6.0, 5.0, 4.0, 3.0, 2.0, 1.0, -3.8632, -3.9273, -3.9987, -4.1147, -4.1547, -4.3868, -4.418, -4.5001, -4.5359, -4.611, -4.613, -4.6693, -4.7149, -4.7402, -4.8128, -4.8094, -4.8275, -4.7596, -4.9354, -4.9985, -5.0276, -5.0147, -5.0495, -5.0412, -5.138, -5.1129, -5.1698, -5.0364, -5.1908, -5.185, -5.0405, -5.1459, -3.6227, -3.7261, -3.9723, -4.1641, -4.2033, -4.2171, -4.3045, -4.4202, -4.4339, -4.6056, -4.6368, -4.7021, -4.741, -4.8376, -4.7793, -4.8615, -4.8587, -4.924, -4.917, -4.9764, -5.0302, -5.0892, -5.1213, -5.1484, -5.1039, -4.7918, -5.2579, -5.2681, -5.2749, -5.327, -4.8032, -2.7744, -3.3859, -3.3056, -3.5369, -3.9335, -4.1055, -4.0753, -4.1423, -4.1366, -4.233, -4.3093, -4.2614, -4.4336, -4.5034, -4.5065, -4.5295, -4.3494, -4.6823, -4.6273, -4.7496, -4.7956, -4.7679, -4.9197, -4.934, -5.0209, -5.0252, -4.9425, -5.0626, -5.042, -4.9933, -3.9688, -2.8086, -3.2386, -3.8232, -3.9805, -4.1614, -4.2246, -4.3459, -4.3518, -4.4213, -4.4008, -4.6023, -4.7694, -4.7359, -4.9321, -4.976, -5.0274, -4.9187, -4.9541, -4.9767, -5.0129, -5.0403, -5.0688, -5.1525, -5.2044, -5.1805, -5.1597, -5.2452, -5.0999, -5.2575, -5.2943, -5.2442], \"loglift\": [30.0, 29.0, 28.0, 27.0, 26.0, 25.0, 24.0, 23.0, 22.0, 21.0, 20.0, 19.0, 18.0, 17.0, 16.0, 15.0, 14.0, 13.0, 12.0, 11.0, 10.0, 9.0, 8.0, 7.0, 6.0, 5.0, 4.0, 3.0, 2.0, 1.0, 0.7574, 0.7574, 0.7574, 0.7574, 0.7574, 0.7574, 0.7573, 0.7573, 0.7573, 0.7573, 0.7573, 0.7573, 0.7573, 0.7573, 0.7573, 0.7573, 0.7573, 0.7573, 0.7573, 0.7573, 0.7572, 0.7572, 0.7572, 0.7572, 0.7572, 0.7572, 0.7572, 0.7572, 0.7572, 0.7572, 0.6412, 0.5724, 1.2972, 1.2972, 1.2972, 1.2971, 1.2971, 1.2971, 1.2971, 1.2971, 1.2971, 1.297, 1.297, 1.297, 1.297, 1.2969, 1.2969, 1.2969, 1.2969, 1.2969, 1.2969, 1.2969, 1.2969, 1.2969, 1.2968, 1.2968, 1.2968, 1.2968, 1.2968, 1.2968, 1.2967, 1.2967, 0.516, 1.8051, 1.8051, 1.8051, 1.8051, 1.805, 1.8049, 1.8049, 1.8049, 1.8049, 1.8049, 1.8049, 1.8048, 1.8048, 1.8048, 1.8048, 1.8048, 1.8048, 1.8047, 1.8047, 1.8047, 1.8047, 1.8046, 1.8046, 1.8046, 1.8045, 1.8045, 1.8045, 1.8045, 1.8045, 1.8045, 1.7947, 2.3702, 2.3702, 2.37, 2.37, 2.3698, 2.3698, 2.3698, 2.3697, 2.3697, 2.3697, 2.3696, 2.3694, 2.3694, 2.3692, 2.3692, 2.3692, 2.3692, 2.3692, 2.3691, 2.3691, 2.3691, 2.3691, 2.369, 2.369, 2.369, 2.369, 2.3689, 2.3689, 2.3688, 2.3688, 2.3687]}, \"token.table\": {\"Topic\": [4, 4, 2, 1, 2, 3, 4, 1, 2, 4, 2, 2, 2, 4, 2, 3, 3, 3, 4, 3, 3, 1, 2, 3, 1, 1, 3, 2, 3, 4, 4, 4, 1, 3, 3, 1, 4, 4, 1, 2, 4, 4, 2, 1, 1, 3, 4, 3, 3, 4, 1, 1, 2, 2, 1, 2, 1, 3, 2, 3, 4, 2, 4, 4, 4, 4, 4, 4, 2, 2, 1, 2, 4, 1, 4, 1, 3, 4, 2, 2, 1, 1, 1, 4, 1, 2, 3, 3, 4, 4, 2, 3, 1, 3, 2, 1, 3, 2, 3, 1, 1, 3, 2, 2, 3, 1, 3, 3, 4, 3, 2, 1, 2, 3, 4, 1, 1, 2, 1, 1, 4, 3, 1, 3, 1, 2, 4, 2, 4, 3, 2, 3, 2, 1], \"Freq\": [0.9997070333780795, 0.9981630464431752, 0.9994561174634103, 0.5352631310908527, 0.4577422638294188, 0.006411500299817835, 0.0005828636636198032, 0.9999704269301782, 0.9997125529705827, 0.997471212146802, 0.9993087384420708, 0.9998837249350728, 0.999568436788816, 0.9983295652225107, 0.9997835926986872, 0.9996719357802599, 0.9995157302511707, 0.999804662899878, 0.998721147558376, 0.9999125862309646, 0.9997998093953612, 0.9999039083536476, 0.9993591464594529, 0.00041937018315545653, 0.9999235469093778, 0.9999270913472763, 0.9994673804692931, 0.9998245472168504, 0.9997421077536263, 0.999284289706676, 0.9998155171335129, 0.9994150552858341, 0.999797565045871, 0.9999533919566305, 0.9998283356624738, 0.999909864726709, 0.9989733797497574, 0.9976908442334995, 0.8903296357932151, 0.10972077355494937, 0.998958896385732, 0.998933623192844, 0.9998040994120889, 0.9998926235817817, 0.9998025417722007, 0.9998154658676331, 0.9995996882481046, 0.9993846036965439, 0.9996637927216081, 0.9989694068019418, 0.9997276367620906, 0.9998731143099476, 0.9997318539051296, 0.9998153586338747, 0.9997063768160775, 0.9996573294945285, 0.9998093954725755, 0.9993881345827864, 0.9996507993950071, 0.9997020918961186, 0.9991428686379094, 0.9997600215352127, 0.9987412159416316, 0.9994706528050542, 0.9984348582580097, 0.9984957047300149, 0.9982462740461664, 0.9990086997410438, 0.9997073709830627, 0.9992989088123821, 0.8311117929724756, 0.16882863250973984, 0.9993123454299134, 0.9998934076870635, 0.9989064803884891, 0.9998874565613597, 0.9997391340721793, 0.9998756560177761, 0.9994666748574642, 0.9997686957255939, 0.9999408309595199, 0.9997770299479877, 0.9998227362398147, 0.9989971496882966, 0.9999038691621522, 0.9992864798615838, 0.9996018914633488, 0.999774581053948, 0.9991160418751837, 0.9992229546115411, 0.9992217448678478, 0.9989047999525563, 0.9999124109475075, 0.9996844612967953, 0.9998621867293623, 0.999757170938152, 0.9994524799234461, 0.9997837048842653, 0.9994880180493068, 0.99991783409154, 0.9997512018873616, 0.9995080613487668, 0.9997639600523254, 0.9998247774480059, 0.9993084854288946, 0.9999486912035098, 0.9994094406032514, 0.9998553043108878, 0.9993252915159615, 0.9995369921063669, 0.9992828314794946, 0.009997489347405273, 0.00030295422264864467, 0.9894484911704734, 0.00030295422264864467, 0.999686745238419, 0.9998006439327335, 0.9995697570259351, 0.999889438819023, 0.9996626866119598, 0.9982078429930741, 0.9996744858213553, 0.9998899242960375, 0.9997495629581826, 0.9997259296335504, 0.9997110369911388, 0.9977704246807098, 0.9998985445873302, 0.9982363106926382, 0.9997984344685591, 0.9992859137828727, 0.9996787448778813, 0.9997596970678885, 0.999775755812067], \"Term\": [\"accident\", \"accord\", \"administration\", \"amp\", \"amp\", \"amp\", \"amp\", \"another\", \"apply\", \"axle\", \"back\", \"biden\", \"blame\", \"border\", \"brake\", \"break\", \"burn\", \"car\", \"care\", \"cargo\", \"carolina\", \"cause\", \"change\", \"change\", \"chemical\", \"company\", \"county\", \"crash\", \"crew\", \"damage\", \"danger\", \"de\", \"demand\", \"derail\", \"derailed\", \"derails\", \"detector\", \"die\", \"disaster\", \"disaster\", \"due\", \"dump\", \"effect\", \"epa\", \"even\", \"feb\", \"fire\", \"firm\", \"follow\", \"fox\", \"freight\", \"get\", \"go\", \"gop\", \"happen\", \"hazard\", \"hazardous\", \"hazmat\", \"high\", \"involve\", \"kill\", \"know\", \"la\", \"last\", \"law\", \"lawsuit\", \"le\", \"least\", \"like\", \"look\", \"make\", \"make\", \"many\", \"material\", \"mile\", \"month\", \"news\", \"north\", \"ntsb\", \"obama\", \"one\", \"order\", \"pay\", \"pennsylvania\", \"people\", \"pete\", \"petition\", \"place\", \"please\", \"power\", \"president\", \"profit\", \"public\", \"put\", \"rail\", \"railroad\", \"railway\", \"regulation\", \"release\", \"report\", \"resident\", \"responsible\", \"rule\", \"safety\", \"saturday\", \"say\", \"second\", \"shelter\", \"show\", \"sign\", \"site\", \"springfield\", \"springfield\", \"springfield\", \"springfield\", \"state\", \"still\", \"stop\", \"take\", \"tell\", \"three\", \"time\", \"toxic\", \"track\", \"train\", \"transportation\", \"truck\", \"trump\", \"usa\", \"via\", \"waste\", \"wheel\", \"would\", \"year\"]}, \"R\": 30, \"lambda.step\": 0.01, \"plot.opts\": {\"xlab\": \"PC1\", \"ylab\": \"PC2\"}, \"topic.order\": [2, 4, 3, 1]};\n",
       "\n",
       "function LDAvis_load_lib(url, callback){\n",
       "  var s = document.createElement('script');\n",
       "  s.src = url;\n",
       "  s.async = true;\n",
       "  s.onreadystatechange = s.onload = callback;\n",
       "  s.onerror = function(){console.warn(\"failed to load library \" + url);};\n",
       "  document.getElementsByTagName(\"head\")[0].appendChild(s);\n",
       "}\n",
       "\n",
       "if(typeof(LDAvis) !== \"undefined\"){\n",
       "   // already loaded: just create the visualization\n",
       "   !function(LDAvis){\n",
       "       new LDAvis(\"#\" + \"ldavis_el3399109435227364083215705\", ldavis_el3399109435227364083215705_data);\n",
       "   }(LDAvis);\n",
       "}else if(typeof define === \"function\" && define.amd){\n",
       "   // require.js is available: use it to load d3/LDAvis\n",
       "   require.config({paths: {d3: \"https://d3js.org/d3.v5\"}});\n",
       "   require([\"d3\"], function(d3){\n",
       "      window.d3 = d3;\n",
       "      LDAvis_load_lib(\"https://cdn.jsdelivr.net/gh/bmabey/pyLDAvis@3.3.1/pyLDAvis/js/ldavis.v3.0.0.js\", function(){\n",
       "        new LDAvis(\"#\" + \"ldavis_el3399109435227364083215705\", ldavis_el3399109435227364083215705_data);\n",
       "      });\n",
       "    });\n",
       "}else{\n",
       "    // require.js not available: dynamically load d3 & LDAvis\n",
       "    LDAvis_load_lib(\"https://d3js.org/d3.v5.js\", function(){\n",
       "         LDAvis_load_lib(\"https://cdn.jsdelivr.net/gh/bmabey/pyLDAvis@3.3.1/pyLDAvis/js/ldavis.v3.0.0.js\", function(){\n",
       "                 new LDAvis(\"#\" + \"ldavis_el3399109435227364083215705\", ldavis_el3399109435227364083215705_data);\n",
       "            })\n",
       "         });\n",
       "}\n",
       "</script>"
      ],
      "text/plain": [
       "PreparedData(topic_coordinates=              x         y  topics  cluster       Freq\n",
       "topic                                                \n",
       "1     -0.341831 -0.172684       1        1  46.884871\n",
       "3     -0.051284  0.366037       2        1  27.326682\n",
       "2      0.218580 -0.147803       3        1  16.444026\n",
       "0      0.174536 -0.045550       4        1   9.344421, topic_info=           Term          Freq         Total Category  logprob  loglift\n",
       "118      derail  10784.000000  10784.000000  Default  30.0000  30.0000\n",
       "2587      north   5922.000000   5922.000000  Default  29.0000  29.0000\n",
       "2583   carolina   6340.000000   6340.000000  Default  28.0000  28.0000\n",
       "354         car   5851.000000   5851.000000  Default  27.0000  27.0000\n",
       "149       trump   7672.000000   7672.000000  Default  26.0000  26.0000\n",
       "...         ...           ...           ...      ...      ...      ...\n",
       "1614         la    517.892877    518.652872   Topic4  -5.2452   2.3689\n",
       "923        care    598.881806    599.767014   Topic4  -5.0999   2.3689\n",
       "32       damage    511.558984    512.366706   Topic4  -5.2575   2.3688\n",
       "23727        le    493.086167    493.866106   Topic4  -5.2943   2.3688\n",
       "2330       axle    518.421509    519.313233   Topic4  -5.2442   2.3687\n",
       "\n",
       "[155 rows x 6 columns], token_table=      Topic      Freq            Term\n",
       "term                                 \n",
       "309       4  0.999707        accident\n",
       "310       4  0.998163          accord\n",
       "290       2  0.999456  administration\n",
       "9481      1  0.535263             amp\n",
       "9481      2  0.457742             amp\n",
       "...     ...       ...             ...\n",
       "208       3  0.999798             via\n",
       "947       2  0.999286           waste\n",
       "1304      3  0.999679           wheel\n",
       "359       2  0.999760           would\n",
       "231       1  0.999776            year\n",
       "\n",
       "[134 rows x 3 columns], R=30, lambda_step=0.01, plot_opts={'xlab': 'PC1', 'ylab': 'PC2'}, topic_order=[2, 4, 3, 1])"
      ]
     },
     "execution_count": 71,
     "metadata": {},
     "output_type": "execute_result"
    }
   ],
   "source": [
    "# Visualize the topics\n",
    "pyLDAvis.enable_notebook()\n",
    "vis = pyLDAvis.gensim_models.prepare(lda_model, corpus, id2word)\n",
    "vis"
   ]
  },
  {
   "attachments": {},
   "cell_type": "markdown",
   "metadata": {},
   "source": [
    "toxic : 0.022457791846392967\n",
    "ceo : 0.01909519770061295\n",
    "resident : 0.017347292501322095\n",
    "chemical : 0.016160113157076755\n",
    "epa : 0.013899063024322483\n",
    "via : 0.009893960751737617\n",
    "pay : 0.008269276069613581\n",
    "say : 0.008163893554262587\n",
    "senate : 0.008134594278846838\n",
    "tell : 0.007605117286419225\n",
    "congress : 0.006781515182579619\n",
    "order : 0.006306676179334696\n",
    "clean : 0.006226100852638858\n",
    "rail : 0.0062106600464542985\n",
    "crash : 0.006076923915123679\n",
    "site : 0.005999986680991488\n",
    "worker : 0.0059216764863732185\n",
    "animal : 0.005689835953484064\n",
    "company : 0.00549751936463235\n",
    "demand : 0.005352323604188377"
   ]
  },
  {
   "cell_type": "code",
   "execution_count": 72,
   "metadata": {},
   "outputs": [],
   "source": [
    "def compute_coherence_values(dictionary, corpus, texts, limit, start=2, step=3):\n",
    "    \"\"\"\n",
    "    Compute c_v coherence for various number of topics\n",
    "\n",
    "    Parameters:\n",
    "    ----------\n",
    "    dictionary : Gensim dictionary\n",
    "    corpus : Gensim corpus\n",
    "    texts : List of input texts\n",
    "    limit : Max num of topics\n",
    "\n",
    "    Returns:\n",
    "    -------\n",
    "    model_list : List of LDA topic models\n",
    "    coherence_values : Coherence values corresponding to the LDA model with respective number of topics\n",
    "    \"\"\"\n",
    "    coherence_values = []\n",
    "    model_list = []\n",
    "    for num_topics in range(start, limit, step):\n",
    "        model = gensim.models.wrappers.LdaMallet(mallet_path, corpus=corpus, num_topics=num_topics, id2word=id2word)\n",
    "        model_list.append(model)\n",
    "        coherencemodel = CoherenceModel(model=model, texts=texts, dictionary=dictionary, coherence='c_v')\n",
    "        coherence_values.append(coherencemodel.get_coherence())\n",
    "\n",
    "    return model_list, coherence_values"
   ]
  },
  {
   "cell_type": "code",
   "execution_count": 73,
   "metadata": {},
   "outputs": [
    {
     "ename": "AttributeError",
     "evalue": "module 'gensim.models' has no attribute 'wrappers'",
     "output_type": "error",
     "traceback": [
      "\u001b[0;31m---------------------------------------------------------------------------\u001b[0m",
      "\u001b[0;31mAttributeError\u001b[0m                            Traceback (most recent call last)",
      "Cell \u001b[0;32mIn[73], line 2\u001b[0m\n\u001b[1;32m      1\u001b[0m \u001b[39m# Can take a long time to run.\u001b[39;00m\n\u001b[0;32m----> 2\u001b[0m model_list, coherence_values \u001b[39m=\u001b[39m compute_coherence_values(dictionary\u001b[39m=\u001b[39;49mid2word, corpus\u001b[39m=\u001b[39;49mcorpus, texts\u001b[39m=\u001b[39;49mdata_lemmatized, start\u001b[39m=\u001b[39;49m\u001b[39m2\u001b[39;49m, limit\u001b[39m=\u001b[39;49m\u001b[39m40\u001b[39;49m, step\u001b[39m=\u001b[39;49m\u001b[39m6\u001b[39;49m)\n",
      "Cell \u001b[0;32mIn[72], line 20\u001b[0m, in \u001b[0;36mcompute_coherence_values\u001b[0;34m(dictionary, corpus, texts, limit, start, step)\u001b[0m\n\u001b[1;32m     18\u001b[0m model_list \u001b[39m=\u001b[39m []\n\u001b[1;32m     19\u001b[0m \u001b[39mfor\u001b[39;00m num_topics \u001b[39min\u001b[39;00m \u001b[39mrange\u001b[39m(start, limit, step):\n\u001b[0;32m---> 20\u001b[0m     model \u001b[39m=\u001b[39m gensim\u001b[39m.\u001b[39;49mmodels\u001b[39m.\u001b[39;49mwrappers\u001b[39m.\u001b[39mLdaMallet(mallet_path, corpus\u001b[39m=\u001b[39mcorpus, num_topics\u001b[39m=\u001b[39mnum_topics, id2word\u001b[39m=\u001b[39mid2word)\n\u001b[1;32m     21\u001b[0m     model_list\u001b[39m.\u001b[39mappend(model)\n\u001b[1;32m     22\u001b[0m     coherencemodel \u001b[39m=\u001b[39m CoherenceModel(model\u001b[39m=\u001b[39mmodel, texts\u001b[39m=\u001b[39mtexts, dictionary\u001b[39m=\u001b[39mdictionary, coherence\u001b[39m=\u001b[39m\u001b[39m'\u001b[39m\u001b[39mc_v\u001b[39m\u001b[39m'\u001b[39m)\n",
      "\u001b[0;31mAttributeError\u001b[0m: module 'gensim.models' has no attribute 'wrappers'"
     ]
    }
   ],
   "source": [
    "# Can take a long time to run.\n",
    "model_list, coherence_values = compute_coherence_values(dictionary=id2word, corpus=corpus, texts=data_lemmatized, start=2, limit=40, step=6)"
   ]
  },
  {
   "cell_type": "code",
   "execution_count": null,
   "metadata": {},
   "outputs": [],
   "source": [
    "# Show graph\n",
    "limit=40; start=2; step=6;\n",
    "x = range(start, limit, step)\n",
    "plt.plot(x, coherence_values)\n",
    "plt.xlabel(\"Num Topics\")\n",
    "plt.ylabel(\"Coherence score\")\n",
    "plt.legend((\"coherence_values\"), loc='best')\n",
    "plt.show()"
   ]
  },
  {
   "cell_type": "code",
   "execution_count": null,
   "metadata": {},
   "outputs": [],
   "source": []
  },
  {
   "cell_type": "code",
   "execution_count": null,
   "metadata": {},
   "outputs": [],
   "source": [
    "\n",
    "# Create Corpus\n",
    "# texts = data_lemmatized\n",
    "\n",
    "# Term Document Frequency\n",
    "# corpus = [id2word.doc2bow(text) for text in texts]\n",
    "\n",
    "# View\n",
    "# print(corpus[:1][0][:30])"
   ]
  }
 ],
 "metadata": {
  "kernelspec": {
   "display_name": "Python 3.8.11 ('UDA_RIG')",
   "language": "python",
   "name": "python3"
  },
  "language_info": {
   "codemirror_mode": {
    "name": "ipython",
    "version": 3
   },
   "file_extension": ".py",
   "mimetype": "text/x-python",
   "name": "python",
   "nbconvert_exporter": "python",
   "pygments_lexer": "ipython3",
   "version": "3.9.16"
  },
  "vscode": {
   "interpreter": {
    "hash": "d1a526087eeeed7e3a2dd7dbe3d8582928a2e8e80d21671a2817819bcd9f426f"
   }
  }
 },
 "nbformat": 4,
 "nbformat_minor": 2
}
